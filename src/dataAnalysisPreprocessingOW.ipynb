{
 "cells": [
  {
   "cell_type": "markdown",
   "source": [
    "# Data preprocssed by Oskar\n",
    "\n"
   ],
   "metadata": {
    "collapsed": false,
    "pycharm": {
     "name": "#%% md\n"
    }
   }
  },
  {
   "cell_type": "code",
   "execution_count": 1,
   "metadata": {
    "collapsed": true
   },
   "outputs": [
    {
     "data": {
      "text/plain": "['ID',\n 'GENDER',\n 'ETHNIC_GROUP',\n 'IS_PREGNANT',\n 'PATIENT_AGE',\n 'ADM_DATETIME',\n 'DISCHARGE_DATE',\n 'events_hosp_days',\n 'C5',\n 'INVASIVE VENTILATION',\n 'ITU',\n 'NIV',\n 'days_in_hospital',\n 'discharged',\n 'Died_in_2020',\n 'POTASSIUM',\n 'UREA',\n 'CREATENINE',\n 'SODIUM',\n 'NEUTROPHILS',\n 'EOSINOPHILS',\n 'HB',\n 'LYMPHOCYTES',\n 'WBC',\n 'PLATELETS',\n 'GLUCOSE',\n 'AST',\n 'TROPONIN',\n 'D_DIMER',\n 'ALT',\n 'BILIRUBIN',\n 'CRP',\n 'LDH',\n 'TRIGYCERIN',\n 'FERRITIN',\n 'ICU_days']"
     },
     "execution_count": 1,
     "metadata": {},
     "output_type": "execute_result"
    }
   ],
   "source": [
    "import utilities as u\n",
    "\n",
    "fileName = f\"C:\\work\\dev\\dECMT_src\\data_all\\COVID19_Data\\df_01_oskar.csv\"\n",
    "df = u.readData(fileName)\n",
    "colNames = list(df.columns.values)\n",
    "colNames"
   ]
  },
  {
   "cell_type": "markdown",
   "source": [
    "## Unique values\n"
   ],
   "metadata": {
    "collapsed": false,
    "pycharm": {
     "name": "#%% md\n"
    }
   }
  },
  {
   "cell_type": "code",
   "execution_count": 2,
   "outputs": [
    {
     "data": {
      "text/plain": "       IS_PREGNANT  PATIENT_AGE  events_hosp_days          C5  \\\ncount   391.000000   391.000000        327.000000  391.000000   \nmean      0.007673    66.294118         12.235474    0.097187   \nstd       0.087369    20.050524         11.900517    0.296591   \nmin       0.000000     0.000000          0.000000    0.000000   \n25%       0.000000    51.000000          4.000000    0.000000   \n50%       0.000000    70.000000          9.000000    0.000000   \n75%       0.000000    81.500000         17.000000    0.000000   \nmax       1.000000   103.000000         75.000000    1.000000   \n\n       INVASIVE VENTILATION         ITU         NIV  days_in_hospital  \\\ncount            391.000000  391.000000  391.000000        361.000000   \nmean               0.125320    0.179028    0.176471         18.717452   \nstd                0.331505    0.383867    0.381708         21.474221   \nmin                0.000000    0.000000    0.000000          0.000000   \n25%                0.000000    0.000000    0.000000          4.000000   \n50%                0.000000    0.000000    0.000000         10.000000   \n75%                0.000000    0.000000    0.000000         28.000000   \nmax                1.000000    1.000000    1.000000        190.000000   \n\n       discharged  Died_in_2020   ICU_days  \ncount  391.000000    366.000000  49.000000  \nmean     0.764706      0.267760   8.918367  \nstd      0.424726      0.443398   8.514294  \nmin      0.000000      0.000000   0.000000  \n25%      1.000000      0.000000   3.000000  \n50%      1.000000      0.000000   6.000000  \n75%      1.000000      1.000000  14.000000  \nmax      1.000000      1.000000  36.000000  ",
      "text/html": "<div>\n<style scoped>\n    .dataframe tbody tr th:only-of-type {\n        vertical-align: middle;\n    }\n\n    .dataframe tbody tr th {\n        vertical-align: top;\n    }\n\n    .dataframe thead th {\n        text-align: right;\n    }\n</style>\n<table border=\"1\" class=\"dataframe\">\n  <thead>\n    <tr style=\"text-align: right;\">\n      <th></th>\n      <th>IS_PREGNANT</th>\n      <th>PATIENT_AGE</th>\n      <th>events_hosp_days</th>\n      <th>C5</th>\n      <th>INVASIVE VENTILATION</th>\n      <th>ITU</th>\n      <th>NIV</th>\n      <th>days_in_hospital</th>\n      <th>discharged</th>\n      <th>Died_in_2020</th>\n      <th>ICU_days</th>\n    </tr>\n  </thead>\n  <tbody>\n    <tr>\n      <th>count</th>\n      <td>391.000000</td>\n      <td>391.000000</td>\n      <td>327.000000</td>\n      <td>391.000000</td>\n      <td>391.000000</td>\n      <td>391.000000</td>\n      <td>391.000000</td>\n      <td>361.000000</td>\n      <td>391.000000</td>\n      <td>366.000000</td>\n      <td>49.000000</td>\n    </tr>\n    <tr>\n      <th>mean</th>\n      <td>0.007673</td>\n      <td>66.294118</td>\n      <td>12.235474</td>\n      <td>0.097187</td>\n      <td>0.125320</td>\n      <td>0.179028</td>\n      <td>0.176471</td>\n      <td>18.717452</td>\n      <td>0.764706</td>\n      <td>0.267760</td>\n      <td>8.918367</td>\n    </tr>\n    <tr>\n      <th>std</th>\n      <td>0.087369</td>\n      <td>20.050524</td>\n      <td>11.900517</td>\n      <td>0.296591</td>\n      <td>0.331505</td>\n      <td>0.383867</td>\n      <td>0.381708</td>\n      <td>21.474221</td>\n      <td>0.424726</td>\n      <td>0.443398</td>\n      <td>8.514294</td>\n    </tr>\n    <tr>\n      <th>min</th>\n      <td>0.000000</td>\n      <td>0.000000</td>\n      <td>0.000000</td>\n      <td>0.000000</td>\n      <td>0.000000</td>\n      <td>0.000000</td>\n      <td>0.000000</td>\n      <td>0.000000</td>\n      <td>0.000000</td>\n      <td>0.000000</td>\n      <td>0.000000</td>\n    </tr>\n    <tr>\n      <th>25%</th>\n      <td>0.000000</td>\n      <td>51.000000</td>\n      <td>4.000000</td>\n      <td>0.000000</td>\n      <td>0.000000</td>\n      <td>0.000000</td>\n      <td>0.000000</td>\n      <td>4.000000</td>\n      <td>1.000000</td>\n      <td>0.000000</td>\n      <td>3.000000</td>\n    </tr>\n    <tr>\n      <th>50%</th>\n      <td>0.000000</td>\n      <td>70.000000</td>\n      <td>9.000000</td>\n      <td>0.000000</td>\n      <td>0.000000</td>\n      <td>0.000000</td>\n      <td>0.000000</td>\n      <td>10.000000</td>\n      <td>1.000000</td>\n      <td>0.000000</td>\n      <td>6.000000</td>\n    </tr>\n    <tr>\n      <th>75%</th>\n      <td>0.000000</td>\n      <td>81.500000</td>\n      <td>17.000000</td>\n      <td>0.000000</td>\n      <td>0.000000</td>\n      <td>0.000000</td>\n      <td>0.000000</td>\n      <td>28.000000</td>\n      <td>1.000000</td>\n      <td>1.000000</td>\n      <td>14.000000</td>\n    </tr>\n    <tr>\n      <th>max</th>\n      <td>1.000000</td>\n      <td>103.000000</td>\n      <td>75.000000</td>\n      <td>1.000000</td>\n      <td>1.000000</td>\n      <td>1.000000</td>\n      <td>1.000000</td>\n      <td>190.000000</td>\n      <td>1.000000</td>\n      <td>1.000000</td>\n      <td>36.000000</td>\n    </tr>\n  </tbody>\n</table>\n</div>"
     },
     "execution_count": 2,
     "metadata": {},
     "output_type": "execute_result"
    }
   ],
   "source": [
    "df.describe()\n",
    "\n",
    "\n"
   ],
   "metadata": {
    "collapsed": false,
    "pycharm": {
     "name": "#%%\n"
    }
   }
  }
 ],
 "metadata": {
  "kernelspec": {
   "name": "python3",
   "language": "python",
   "display_name": "Python 3"
  },
  "language_info": {
   "codemirror_mode": {
    "name": "ipython",
    "version": 2
   },
   "file_extension": ".py",
   "mimetype": "text/x-python",
   "name": "python",
   "nbconvert_exporter": "python",
   "pygments_lexer": "ipython2",
   "version": "2.7.6"
  }
 },
 "nbformat": 4,
 "nbformat_minor": 0
}