{
 "cells": [
  {
   "cell_type": "code",
   "execution_count": null,
   "metadata": {
    "collapsed": true,
    "pycharm": {
     "is_executing": true
    }
   },
   "outputs": [],
   "source": [
    "import utilities\n",
    "import pandas as pd\n",
    "\n",
    "fNDemograh = r'C:\\work\\dev\\dECMT_src\\data_all\\COVID19_Data\\REACT_COVID_Demographics.csv'\n",
    "\n",
    "dfDemograph = pd.read_csv(fNDemograh)\n",
    "\n",
    "\n",
    "dfDemograph.describe()\n",
    "\n",
    "# C:\\work\\dev\\dECMT_src\\data_all\\COVID19_Data\\REACT_COVID_Demographics.csv\n",
    "# C:\\work\\dev\\dECMT_src\\data_all\\COVID19_Data\\REACT_COVID_Demographics_20200506.csv\n",
    "# C:\\work\\dev\\dECMT_src\\data_all\\COVID19_Data\\REACT_Events.csv\n",
    "# C:\\work\\dev\\dECMT_src\\data_all\\COVID19_Data\\REACT_LabResults.csv\n",
    "# C:\\work\\dev\\dECMT_src\\data_all\\COVID19_Data\\REACT_PharmacyData.csv\n",
    "# C:\\work\\dev\\dECMT_src\\data_all\\COVID19_Data\\REACT_UHSCOVIDTest_processed.csv\n",
    "# C:\\work\\dev\\dECMT_src\\data_all\\COVID19_Data\\REACT_Vitalsigns_Categorical.csv\n",
    "# C:\\work\\dev\\dECMT_src\\data_all\\COVID19_Data\\REACT_Vitalsigns_Numeric.csv"
   ]
  },
  {
   "cell_type": "code",
   "execution_count": 2,
   "outputs": [],
   "source": [
    "# fsgdsg"
   ],
   "metadata": {
    "collapsed": false,
    "pycharm": {
     "name": "#%%\n"
    }
   }
  },
  {
   "cell_type": "code",
   "execution_count": 2,
   "outputs": [],
   "source": [
    "\n"
   ],
   "metadata": {
    "collapsed": false,
    "pycharm": {
     "name": "#%%\n"
    }
   }
  }
 ],
 "metadata": {
  "kernelspec": {
   "name": "python3",
   "language": "python",
   "display_name": "Python 3"
  },
  "language_info": {
   "codemirror_mode": {
    "name": "ipython",
    "version": 2
   },
   "file_extension": ".py",
   "mimetype": "text/x-python",
   "name": "python",
   "nbconvert_exporter": "python",
   "pygments_lexer": "ipython2",
   "version": "2.7.6"
  }
 },
 "nbformat": 4,
 "nbformat_minor": 0
}