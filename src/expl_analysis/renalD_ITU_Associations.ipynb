{
 "cells": [
  {
   "cell_type": "code",
   "execution_count": 98,
   "outputs": [],
   "source": [
    "import numpy as np\n",
    "import pandas as pd\n",
    "import pathlib as p\n",
    "import seaborn as sb\n",
    "import matplotlib.pyplot as plt\n",
    "import pathlib\n",
    "from pathlib import Path\n",
    "from datetime import datetime\n",
    "from IPython.display import Markdown as md\n",
    "from IPython.display import Math as m\n",
    "import utilities as u\n"
   ],
   "metadata": {
    "collapsed": false,
    "pycharm": {
     "name": "#%%\n"
    }
   }
  },
  {
   "cell_type": "code",
   "execution_count": 99,
   "outputs": [],
   "source": [
    "%matplotlib inline"
   ],
   "metadata": {
    "collapsed": false,
    "pycharm": {
     "name": "#%%\n"
    }
   }
  },
  {
   "cell_type": "code",
   "execution_count": 100,
   "outputs": [],
   "source": [
    "def extractParentDir(dataFileName):\n",
    "    purePath = pathlib.PurePath(dataFileName)\n",
    "    parentDir2 = purePath.parent.parent\n",
    "    return parentDir2"
   ],
   "metadata": {
    "collapsed": false,
    "pycharm": {
     "name": "#%%\n"
    }
   }
  },
  {
   "cell_type": "code",
   "execution_count": 101,
   "outputs": [],
   "source": [
    "todayVal = datetime.today()\n",
    "timeStampStr = todayVal.strftime(\"%y-%m-%d_%H-%M-%S.%f\")\n",
    "data_dir = r\"C:\\work\\dev\\dECMT_src\\data_all\\COVID19_Data\\Current\"\n",
    "parentDir2 = extractParentDir(data_dir)\n",
    "outputPath = Path(parentDir2) / \"Output_Covid19_Analysis\"/f\"{timeStampStr}_bipartite\""
   ],
   "metadata": {
    "collapsed": false,
    "pycharm": {
     "name": "#%%\n"
    }
   }
  },
  {
   "cell_type": "code",
   "execution_count": 102,
   "outputs": [],
   "source": [
    "comorbidFN = p.Path(data_dir) / \"REACT_Comorbidities_unpivoted.csv\"\n",
    "demogFN = p.Path(data_dir) / \"REACT_Demographics.csv\"\n",
    "comorbidDF:pd.DataFrame = pd.read_csv(comorbidFN)"
   ],
   "metadata": {
    "collapsed": false,
    "pycharm": {
     "name": "#%%\n"
    }
   }
  },
  {
   "cell_type": "code",
   "execution_count": 103,
   "outputs": [],
   "source": [
    "df_event=pd.read_csv(p.Path(data_dir) / ('REACT_Events'+'.csv'))"
   ],
   "metadata": {
    "collapsed": false,
    "pycharm": {
     "name": "#%%\n"
    }
   }
  },
  {
   "cell_type": "code",
   "execution_count": 104,
   "outputs": [
    {
     "data": {
      "text/plain": "            STUDY_ID COMORBIDITY  STATUS\n0  UHSCOVID_00989a42        COPD       1\n1  UHSCOVID_0520de1c        COPD       1\n2  UHSCOVID_0744a86c        COPD       1\n3  UHSCOVID_0874d194        COPD       1\n4  UHSCOVID_0b401459        COPD       1",
      "text/html": "<div>\n<style scoped>\n    .dataframe tbody tr th:only-of-type {\n        vertical-align: middle;\n    }\n\n    .dataframe tbody tr th {\n        vertical-align: top;\n    }\n\n    .dataframe thead th {\n        text-align: right;\n    }\n</style>\n<table border=\"1\" class=\"dataframe\">\n  <thead>\n    <tr style=\"text-align: right;\">\n      <th></th>\n      <th>STUDY_ID</th>\n      <th>COMORBIDITY</th>\n      <th>STATUS</th>\n    </tr>\n  </thead>\n  <tbody>\n    <tr>\n      <th>0</th>\n      <td>UHSCOVID_00989a42</td>\n      <td>COPD</td>\n      <td>1</td>\n    </tr>\n    <tr>\n      <th>1</th>\n      <td>UHSCOVID_0520de1c</td>\n      <td>COPD</td>\n      <td>1</td>\n    </tr>\n    <tr>\n      <th>2</th>\n      <td>UHSCOVID_0744a86c</td>\n      <td>COPD</td>\n      <td>1</td>\n    </tr>\n    <tr>\n      <th>3</th>\n      <td>UHSCOVID_0874d194</td>\n      <td>COPD</td>\n      <td>1</td>\n    </tr>\n    <tr>\n      <th>4</th>\n      <td>UHSCOVID_0b401459</td>\n      <td>COPD</td>\n      <td>1</td>\n    </tr>\n  </tbody>\n</table>\n</div>"
     },
     "execution_count": 104,
     "metadata": {},
     "output_type": "execute_result"
    }
   ],
   "source": [
    "comorbidDF:pd.DataFrame = pd.read_csv(comorbidFN)\n",
    "\n",
    "comorbidDF.head()"
   ],
   "metadata": {
    "collapsed": false,
    "pycharm": {
     "name": "#%%\n"
    }
   }
  },
  {
   "cell_type": "code",
   "execution_count": 105,
   "outputs": [
    {
     "ename": "AttributeError",
     "evalue": "'WindowsPath' object has no attribute 'columns'",
     "output_type": "error",
     "traceback": [
      "\u001B[1;31m---------------------------------------------------------------------------\u001B[0m",
      "\u001B[1;31mAttributeError\u001B[0m                            Traceback (most recent call last)",
      "\u001B[1;32m<ipython-input-105-6a85ff855a02>\u001B[0m in \u001B[0;36m<module>\u001B[1;34m\u001B[0m\n\u001B[1;32m----> 1\u001B[1;33m \u001B[0mcomorbidFN\u001B[0m\u001B[1;33m.\u001B[0m\u001B[0mcolumns\u001B[0m\u001B[1;33m\u001B[0m\u001B[1;33m\u001B[0m\u001B[0m\n\u001B[0m",
      "\u001B[1;31mAttributeError\u001B[0m: 'WindowsPath' object has no attribute 'columns'"
     ]
    }
   ],
   "source": [
    "comorbidFN.columns"
   ],
   "metadata": {
    "collapsed": false,
    "pycharm": {
     "name": "#%%\n"
    }
   }
  },
  {
   "cell_type": "code",
   "execution_count": 106,
   "outputs": [
    {
     "data": {
      "text/plain": "            STUDY_ID COMORBIDITY  STATUS  RENAL_D_PRESENT\n0  UHSCOVID_00989a42        COPD       1            False\n1  UHSCOVID_0520de1c        COPD       1            False\n2  UHSCOVID_0744a86c        COPD       1            False\n3  UHSCOVID_0874d194        COPD       1            False\n4  UHSCOVID_0b401459        COPD       1            False",
      "text/html": "<div>\n<style scoped>\n    .dataframe tbody tr th:only-of-type {\n        vertical-align: middle;\n    }\n\n    .dataframe tbody tr th {\n        vertical-align: top;\n    }\n\n    .dataframe thead th {\n        text-align: right;\n    }\n</style>\n<table border=\"1\" class=\"dataframe\">\n  <thead>\n    <tr style=\"text-align: right;\">\n      <th></th>\n      <th>STUDY_ID</th>\n      <th>COMORBIDITY</th>\n      <th>STATUS</th>\n      <th>RENAL_D_PRESENT</th>\n    </tr>\n  </thead>\n  <tbody>\n    <tr>\n      <th>0</th>\n      <td>UHSCOVID_00989a42</td>\n      <td>COPD</td>\n      <td>1</td>\n      <td>False</td>\n    </tr>\n    <tr>\n      <th>1</th>\n      <td>UHSCOVID_0520de1c</td>\n      <td>COPD</td>\n      <td>1</td>\n      <td>False</td>\n    </tr>\n    <tr>\n      <th>2</th>\n      <td>UHSCOVID_0744a86c</td>\n      <td>COPD</td>\n      <td>1</td>\n      <td>False</td>\n    </tr>\n    <tr>\n      <th>3</th>\n      <td>UHSCOVID_0874d194</td>\n      <td>COPD</td>\n      <td>1</td>\n      <td>False</td>\n    </tr>\n    <tr>\n      <th>4</th>\n      <td>UHSCOVID_0b401459</td>\n      <td>COPD</td>\n      <td>1</td>\n      <td>False</td>\n    </tr>\n  </tbody>\n</table>\n</div>"
     },
     "execution_count": 106,
     "metadata": {},
     "output_type": "execute_result"
    }
   ],
   "source": [
    "comorbidDF['RENAL_D_PRESENT'] = (comorbidDF['COMORBIDITY'] == 'RENAL_D')\n",
    "comorbidDF.head()"
   ],
   "metadata": {
    "collapsed": false,
    "pycharm": {
     "name": "#%%\n"
    }
   }
  },
  {
   "cell_type": "code",
   "execution_count": 107,
   "outputs": [
    {
     "data": {
      "text/plain": "array([False,  True])"
     },
     "execution_count": 107,
     "metadata": {},
     "output_type": "execute_result"
    }
   ],
   "source": [
    "comorbidDF['RENAL_D_PRESENT'].unique()\n"
   ],
   "metadata": {
    "collapsed": false,
    "pycharm": {
     "name": "#%%\n"
    }
   }
  },
  {
   "cell_type": "code",
   "execution_count": 108,
   "outputs": [
    {
     "data": {
      "text/plain": "                   RENAL_D_PRESENT\nSTUDY_ID                          \nUHSCOVID_00989a42            False\nUHSCOVID_00ac1e32            False\nUHSCOVID_00cb7bdd            False\nUHSCOVID_01add35c            False\nUHSCOVID_01f7838d             True",
      "text/html": "<div>\n<style scoped>\n    .dataframe tbody tr th:only-of-type {\n        vertical-align: middle;\n    }\n\n    .dataframe tbody tr th {\n        vertical-align: top;\n    }\n\n    .dataframe thead th {\n        text-align: right;\n    }\n</style>\n<table border=\"1\" class=\"dataframe\">\n  <thead>\n    <tr style=\"text-align: right;\">\n      <th></th>\n      <th>RENAL_D_PRESENT</th>\n    </tr>\n    <tr>\n      <th>STUDY_ID</th>\n      <th></th>\n    </tr>\n  </thead>\n  <tbody>\n    <tr>\n      <th>UHSCOVID_00989a42</th>\n      <td>False</td>\n    </tr>\n    <tr>\n      <th>UHSCOVID_00ac1e32</th>\n      <td>False</td>\n    </tr>\n    <tr>\n      <th>UHSCOVID_00cb7bdd</th>\n      <td>False</td>\n    </tr>\n    <tr>\n      <th>UHSCOVID_01add35c</th>\n      <td>False</td>\n    </tr>\n    <tr>\n      <th>UHSCOVID_01f7838d</th>\n      <td>True</td>\n    </tr>\n  </tbody>\n</table>\n</div>"
     },
     "execution_count": 108,
     "metadata": {},
     "output_type": "execute_result"
    }
   ],
   "source": [
    "comorbidGrpDF1 = comorbidDF.groupby('STUDY_ID').agg(RENAL_D_PRESENT=('RENAL_D_PRESENT','any'))\n",
    "comorbidGrpDF1.head()\n"
   ],
   "metadata": {
    "collapsed": false,
    "pycharm": {
     "name": "#%%\n"
    }
   }
  },
  {
   "cell_type": "code",
   "execution_count": null,
   "outputs": [],
   "source": [],
   "metadata": {
    "collapsed": false,
    "pycharm": {
     "name": "#%%\n"
    }
   }
  },
  {
   "cell_type": "code",
   "execution_count": 109,
   "outputs": [
    {
     "data": {
      "text/plain": "          END_DATETIME EVENT_TYPE       START_DATETIME           STUDY_ID  \\\n0  2020-04-02 10:21:00  ADMISSION  2020-03-26 17:19:00  UHSCOVID_00989a42   \n1  2020-05-19 12:56:00  ADMISSION  2020-04-07 18:00:00  UHSCOVID_00ac1e32   \n2  2020-04-13 02:15:00  ADMISSION  2020-04-10 17:56:00  UHSCOVID_00cb7bdd   \n3  2020-05-23 18:15:00  ADMISSION  2020-05-22 10:17:00  UHSCOVID_01add35c   \n4  2020-05-17 16:00:00  ADMISSION  2020-05-04 09:00:00  UHSCOVID_01f7838d   \n\n   START_DATE START_TIME    END_DATE  END_TIME  \n0  26/03/2020   17:19:00  02/04/2020  10:21:00  \n1  07/04/2020   18:00:00  19/05/2020  12:56:00  \n2  10/04/2020   17:56:00  13/04/2020  02:15:00  \n3  22/05/2020   10:17:00  23/05/2020  18:15:00  \n4  04/05/2020   09:00:00  17/05/2020  16:00:00  ",
      "text/html": "<div>\n<style scoped>\n    .dataframe tbody tr th:only-of-type {\n        vertical-align: middle;\n    }\n\n    .dataframe tbody tr th {\n        vertical-align: top;\n    }\n\n    .dataframe thead th {\n        text-align: right;\n    }\n</style>\n<table border=\"1\" class=\"dataframe\">\n  <thead>\n    <tr style=\"text-align: right;\">\n      <th></th>\n      <th>END_DATETIME</th>\n      <th>EVENT_TYPE</th>\n      <th>START_DATETIME</th>\n      <th>STUDY_ID</th>\n      <th>START_DATE</th>\n      <th>START_TIME</th>\n      <th>END_DATE</th>\n      <th>END_TIME</th>\n    </tr>\n  </thead>\n  <tbody>\n    <tr>\n      <th>0</th>\n      <td>2020-04-02 10:21:00</td>\n      <td>ADMISSION</td>\n      <td>2020-03-26 17:19:00</td>\n      <td>UHSCOVID_00989a42</td>\n      <td>26/03/2020</td>\n      <td>17:19:00</td>\n      <td>02/04/2020</td>\n      <td>10:21:00</td>\n    </tr>\n    <tr>\n      <th>1</th>\n      <td>2020-05-19 12:56:00</td>\n      <td>ADMISSION</td>\n      <td>2020-04-07 18:00:00</td>\n      <td>UHSCOVID_00ac1e32</td>\n      <td>07/04/2020</td>\n      <td>18:00:00</td>\n      <td>19/05/2020</td>\n      <td>12:56:00</td>\n    </tr>\n    <tr>\n      <th>2</th>\n      <td>2020-04-13 02:15:00</td>\n      <td>ADMISSION</td>\n      <td>2020-04-10 17:56:00</td>\n      <td>UHSCOVID_00cb7bdd</td>\n      <td>10/04/2020</td>\n      <td>17:56:00</td>\n      <td>13/04/2020</td>\n      <td>02:15:00</td>\n    </tr>\n    <tr>\n      <th>3</th>\n      <td>2020-05-23 18:15:00</td>\n      <td>ADMISSION</td>\n      <td>2020-05-22 10:17:00</td>\n      <td>UHSCOVID_01add35c</td>\n      <td>22/05/2020</td>\n      <td>10:17:00</td>\n      <td>23/05/2020</td>\n      <td>18:15:00</td>\n    </tr>\n    <tr>\n      <th>4</th>\n      <td>2020-05-17 16:00:00</td>\n      <td>ADMISSION</td>\n      <td>2020-05-04 09:00:00</td>\n      <td>UHSCOVID_01f7838d</td>\n      <td>04/05/2020</td>\n      <td>09:00:00</td>\n      <td>17/05/2020</td>\n      <td>16:00:00</td>\n    </tr>\n  </tbody>\n</table>\n</div>"
     },
     "execution_count": 109,
     "metadata": {},
     "output_type": "execute_result"
    }
   ],
   "source": [
    "df_event.head()"
   ],
   "metadata": {
    "collapsed": false,
    "pycharm": {
     "name": "#%%\n"
    }
   }
  },
  {
   "cell_type": "code",
   "execution_count": 110,
   "outputs": [
    {
     "data": {
      "text/plain": "Index(['END_DATETIME', 'EVENT_TYPE', 'START_DATETIME', 'STUDY_ID',\n       'START_DATE', 'START_TIME', 'END_DATE', 'END_TIME'],\n      dtype='object')"
     },
     "execution_count": 110,
     "metadata": {},
     "output_type": "execute_result"
    }
   ],
   "source": [
    "df_event.columns\n",
    "\n",
    "# Index(['END_DATETIME', 'EVENT_TYPE', 'START_DATETIME', 'STUDY_ID',\n",
    "#        'START_DATE', 'START_TIME', 'END_DATE', 'END_TIME'],\n",
    "#       dtype='object')\n"
   ],
   "metadata": {
    "collapsed": false,
    "pycharm": {
     "name": "#%%\n"
    }
   }
  },
  {
   "cell_type": "code",
   "execution_count": 111,
   "outputs": [
    {
     "data": {
      "text/plain": "          END_DATETIME EVENT_TYPE       START_DATETIME           STUDY_ID  \\\n0  2020-04-02 10:21:00  ADMISSION  2020-03-26 17:19:00  UHSCOVID_00989a42   \n1  2020-05-19 12:56:00  ADMISSION  2020-04-07 18:00:00  UHSCOVID_00ac1e32   \n2  2020-04-13 02:15:00  ADMISSION  2020-04-10 17:56:00  UHSCOVID_00cb7bdd   \n3  2020-05-23 18:15:00  ADMISSION  2020-05-22 10:17:00  UHSCOVID_01add35c   \n4  2020-05-17 16:00:00  ADMISSION  2020-05-04 09:00:00  UHSCOVID_01f7838d   \n\n   START_DATE START_TIME    END_DATE  END_TIME  ITU_PRESENT  \n0  26/03/2020   17:19:00  02/04/2020  10:21:00        False  \n1  07/04/2020   18:00:00  19/05/2020  12:56:00        False  \n2  10/04/2020   17:56:00  13/04/2020  02:15:00        False  \n3  22/05/2020   10:17:00  23/05/2020  18:15:00        False  \n4  04/05/2020   09:00:00  17/05/2020  16:00:00        False  ",
      "text/html": "<div>\n<style scoped>\n    .dataframe tbody tr th:only-of-type {\n        vertical-align: middle;\n    }\n\n    .dataframe tbody tr th {\n        vertical-align: top;\n    }\n\n    .dataframe thead th {\n        text-align: right;\n    }\n</style>\n<table border=\"1\" class=\"dataframe\">\n  <thead>\n    <tr style=\"text-align: right;\">\n      <th></th>\n      <th>END_DATETIME</th>\n      <th>EVENT_TYPE</th>\n      <th>START_DATETIME</th>\n      <th>STUDY_ID</th>\n      <th>START_DATE</th>\n      <th>START_TIME</th>\n      <th>END_DATE</th>\n      <th>END_TIME</th>\n      <th>ITU_PRESENT</th>\n    </tr>\n  </thead>\n  <tbody>\n    <tr>\n      <th>0</th>\n      <td>2020-04-02 10:21:00</td>\n      <td>ADMISSION</td>\n      <td>2020-03-26 17:19:00</td>\n      <td>UHSCOVID_00989a42</td>\n      <td>26/03/2020</td>\n      <td>17:19:00</td>\n      <td>02/04/2020</td>\n      <td>10:21:00</td>\n      <td>False</td>\n    </tr>\n    <tr>\n      <th>1</th>\n      <td>2020-05-19 12:56:00</td>\n      <td>ADMISSION</td>\n      <td>2020-04-07 18:00:00</td>\n      <td>UHSCOVID_00ac1e32</td>\n      <td>07/04/2020</td>\n      <td>18:00:00</td>\n      <td>19/05/2020</td>\n      <td>12:56:00</td>\n      <td>False</td>\n    </tr>\n    <tr>\n      <th>2</th>\n      <td>2020-04-13 02:15:00</td>\n      <td>ADMISSION</td>\n      <td>2020-04-10 17:56:00</td>\n      <td>UHSCOVID_00cb7bdd</td>\n      <td>10/04/2020</td>\n      <td>17:56:00</td>\n      <td>13/04/2020</td>\n      <td>02:15:00</td>\n      <td>False</td>\n    </tr>\n    <tr>\n      <th>3</th>\n      <td>2020-05-23 18:15:00</td>\n      <td>ADMISSION</td>\n      <td>2020-05-22 10:17:00</td>\n      <td>UHSCOVID_01add35c</td>\n      <td>22/05/2020</td>\n      <td>10:17:00</td>\n      <td>23/05/2020</td>\n      <td>18:15:00</td>\n      <td>False</td>\n    </tr>\n    <tr>\n      <th>4</th>\n      <td>2020-05-17 16:00:00</td>\n      <td>ADMISSION</td>\n      <td>2020-05-04 09:00:00</td>\n      <td>UHSCOVID_01f7838d</td>\n      <td>04/05/2020</td>\n      <td>09:00:00</td>\n      <td>17/05/2020</td>\n      <td>16:00:00</td>\n      <td>False</td>\n    </tr>\n  </tbody>\n</table>\n</div>"
     },
     "execution_count": 111,
     "metadata": {},
     "output_type": "execute_result"
    }
   ],
   "source": [
    "df_event['ITU_PRESENT'] = df_event.EVENT_TYPE=='ITU'\n",
    "df_event.head()\n",
    "# [['STUDY_ID','START_DATETIME','END_DATETIME']]\n",
    "\n"
   ],
   "metadata": {
    "collapsed": false,
    "pycharm": {
     "name": "#%%\n"
    }
   }
  },
  {
   "cell_type": "code",
   "execution_count": 112,
   "outputs": [],
   "source": [
    "df_event1 =df_event.filter(items=['STUDY_ID','ITU_PRESENT'])"
   ],
   "metadata": {
    "collapsed": false,
    "pycharm": {
     "name": "#%%\n"
    }
   }
  },
  {
   "cell_type": "code",
   "execution_count": 113,
   "outputs": [
    {
     "data": {
      "text/plain": "Index(['STUDY_ID', 'ITU_PRESENT'], dtype='object')"
     },
     "execution_count": 113,
     "metadata": {},
     "output_type": "execute_result"
    }
   ],
   "source": [
    "df_event1.columns\n",
    "\n"
   ],
   "metadata": {
    "collapsed": false,
    "pycharm": {
     "name": "#%%\n"
    }
   }
  },
  {
   "cell_type": "code",
   "execution_count": 114,
   "outputs": [
    {
     "data": {
      "text/plain": "                   ITU_PRESENT\nSTUDY_ID                      \nUHSCOVID_00989a42        False\nUHSCOVID_00ac1e32        False\nUHSCOVID_00cb7bdd        False\nUHSCOVID_01add35c        False\nUHSCOVID_01f7838d        False",
      "text/html": "<div>\n<style scoped>\n    .dataframe tbody tr th:only-of-type {\n        vertical-align: middle;\n    }\n\n    .dataframe tbody tr th {\n        vertical-align: top;\n    }\n\n    .dataframe thead th {\n        text-align: right;\n    }\n</style>\n<table border=\"1\" class=\"dataframe\">\n  <thead>\n    <tr style=\"text-align: right;\">\n      <th></th>\n      <th>ITU_PRESENT</th>\n    </tr>\n    <tr>\n      <th>STUDY_ID</th>\n      <th></th>\n    </tr>\n  </thead>\n  <tbody>\n    <tr>\n      <th>UHSCOVID_00989a42</th>\n      <td>False</td>\n    </tr>\n    <tr>\n      <th>UHSCOVID_00ac1e32</th>\n      <td>False</td>\n    </tr>\n    <tr>\n      <th>UHSCOVID_00cb7bdd</th>\n      <td>False</td>\n    </tr>\n    <tr>\n      <th>UHSCOVID_01add35c</th>\n      <td>False</td>\n    </tr>\n    <tr>\n      <th>UHSCOVID_01f7838d</th>\n      <td>False</td>\n    </tr>\n  </tbody>\n</table>\n</div>"
     },
     "execution_count": 114,
     "metadata": {},
     "output_type": "execute_result"
    }
   ],
   "source": [
    "df_event2 = df_event1.groupby('STUDY_ID').agg(ITU_PRESENT=('ITU_PRESENT','any'))\n",
    "df_event2.head()\n",
    "\n"
   ],
   "metadata": {
    "collapsed": false,
    "pycharm": {
     "name": "#%%\n"
    }
   }
  },
  {
   "cell_type": "code",
   "execution_count": 116,
   "outputs": [
    {
     "data": {
      "text/plain": "                   ITU_PRESENT  RENAL_D_PRESENT\nSTUDY_ID                                       \nUHSCOVID_00989a42        False            False\nUHSCOVID_00ac1e32        False            False\nUHSCOVID_00cb7bdd        False            False\nUHSCOVID_01add35c        False            False\nUHSCOVID_01f7838d        False             True",
      "text/html": "<div>\n<style scoped>\n    .dataframe tbody tr th:only-of-type {\n        vertical-align: middle;\n    }\n\n    .dataframe tbody tr th {\n        vertical-align: top;\n    }\n\n    .dataframe thead th {\n        text-align: right;\n    }\n</style>\n<table border=\"1\" class=\"dataframe\">\n  <thead>\n    <tr style=\"text-align: right;\">\n      <th></th>\n      <th>ITU_PRESENT</th>\n      <th>RENAL_D_PRESENT</th>\n    </tr>\n    <tr>\n      <th>STUDY_ID</th>\n      <th></th>\n      <th></th>\n    </tr>\n  </thead>\n  <tbody>\n    <tr>\n      <th>UHSCOVID_00989a42</th>\n      <td>False</td>\n      <td>False</td>\n    </tr>\n    <tr>\n      <th>UHSCOVID_00ac1e32</th>\n      <td>False</td>\n      <td>False</td>\n    </tr>\n    <tr>\n      <th>UHSCOVID_00cb7bdd</th>\n      <td>False</td>\n      <td>False</td>\n    </tr>\n    <tr>\n      <th>UHSCOVID_01add35c</th>\n      <td>False</td>\n      <td>False</td>\n    </tr>\n    <tr>\n      <th>UHSCOVID_01f7838d</th>\n      <td>False</td>\n      <td>True</td>\n    </tr>\n  </tbody>\n</table>\n</div>"
     },
     "execution_count": 116,
     "metadata": {},
     "output_type": "execute_result"
    }
   ],
   "source": [
    "# comorbidGrpDF1.\n",
    "# df_event2\n",
    "\n",
    "dfRes:pd.DataFrame = pd.merge(df_event2, comorbidGrpDF1, on='STUDY_ID', how='inner')\n",
    "dfRes.head()"
   ],
   "metadata": {
    "collapsed": false,
    "pycharm": {
     "name": "#%%\n"
    }
   }
  },
  {
   "cell_type": "code",
   "execution_count": 117,
   "outputs": [
    {
     "data": {
      "text/plain": "Index(['ITU_PRESENT', 'RENAL_D_PRESENT'], dtype='object')"
     },
     "execution_count": 117,
     "metadata": {},
     "output_type": "execute_result"
    }
   ],
   "source": [
    "dfRes.columns\n"
   ],
   "metadata": {
    "collapsed": false,
    "pycharm": {
     "name": "#%%\n"
    }
   }
  },
  {
   "cell_type": "code",
   "execution_count": 118,
   "outputs": [
    {
     "data": {
      "text/plain": "514"
     },
     "execution_count": 118,
     "metadata": {},
     "output_type": "execute_result"
    }
   ],
   "source": [
    "len(dfRes)\n",
    "\n"
   ],
   "metadata": {
    "collapsed": false,
    "pycharm": {
     "name": "#%%\n"
    }
   }
  },
  {
   "cell_type": "markdown",
   "source": [
    "# Association between Renal Disease and ITU admissions\n"
   ],
   "metadata": {
    "collapsed": false,
    "pycharm": {
     "name": "#%% md\n"
    }
   }
  },
  {
   "cell_type": "code",
   "execution_count": 119,
   "outputs": [
    {
     "data": {
      "text/plain": "RENAL_D_PRESENT  False  True \nITU_PRESENT                  \nFalse              293    152\nTrue                55     14",
      "text/html": "<div>\n<style scoped>\n    .dataframe tbody tr th:only-of-type {\n        vertical-align: middle;\n    }\n\n    .dataframe tbody tr th {\n        vertical-align: top;\n    }\n\n    .dataframe thead th {\n        text-align: right;\n    }\n</style>\n<table border=\"1\" class=\"dataframe\">\n  <thead>\n    <tr style=\"text-align: right;\">\n      <th>RENAL_D_PRESENT</th>\n      <th>False</th>\n      <th>True</th>\n    </tr>\n    <tr>\n      <th>ITU_PRESENT</th>\n      <th></th>\n      <th></th>\n    </tr>\n  </thead>\n  <tbody>\n    <tr>\n      <th>False</th>\n      <td>293</td>\n      <td>152</td>\n    </tr>\n    <tr>\n      <th>True</th>\n      <td>55</td>\n      <td>14</td>\n    </tr>\n  </tbody>\n</table>\n</div>"
     },
     "execution_count": 119,
     "metadata": {},
     "output_type": "execute_result"
    }
   ],
   "source": [
    "crosstabRenalAirSupport = pd.crosstab(dfRes['ITU_PRESENT'],dfRes['RENAL_D_PRESENT'])\n",
    "crosstabRenalAirSupport"
   ],
   "metadata": {
    "collapsed": false,
    "pycharm": {
     "name": "#%%\n"
    }
   }
  },
  {
   "cell_type": "code",
   "execution_count": 120,
   "outputs": [
    {
     "data": {
      "text/plain": "RENAL_D_PRESENT  False  True  All\nITU_PRESENT                      \nFalse              293   152  445\nTrue                55    14   69\nAll                348   166  514",
      "text/html": "<div>\n<style scoped>\n    .dataframe tbody tr th:only-of-type {\n        vertical-align: middle;\n    }\n\n    .dataframe tbody tr th {\n        vertical-align: top;\n    }\n\n    .dataframe thead th {\n        text-align: right;\n    }\n</style>\n<table border=\"1\" class=\"dataframe\">\n  <thead>\n    <tr style=\"text-align: right;\">\n      <th>RENAL_D_PRESENT</th>\n      <th>False</th>\n      <th>True</th>\n      <th>All</th>\n    </tr>\n    <tr>\n      <th>ITU_PRESENT</th>\n      <th></th>\n      <th></th>\n      <th></th>\n    </tr>\n  </thead>\n  <tbody>\n    <tr>\n      <th>False</th>\n      <td>293</td>\n      <td>152</td>\n      <td>445</td>\n    </tr>\n    <tr>\n      <th>True</th>\n      <td>55</td>\n      <td>14</td>\n      <td>69</td>\n    </tr>\n    <tr>\n      <th>All</th>\n      <td>348</td>\n      <td>166</td>\n      <td>514</td>\n    </tr>\n  </tbody>\n</table>\n</div>"
     },
     "execution_count": 120,
     "metadata": {},
     "output_type": "execute_result"
    }
   ],
   "source": [
    "crosstabRenalAirSupport2 = pd.crosstab(dfRes['ITU_PRESENT'],dfRes['RENAL_D_PRESENT'],margins=True)\n",
    "crosstabRenalAirSupport2"
   ],
   "metadata": {
    "collapsed": false,
    "pycharm": {
     "name": "#%%\n"
    }
   }
  },
  {
   "cell_type": "code",
   "execution_count": 121,
   "outputs": [
    {
     "data": {
      "text/plain": "RENAL_D_PRESENT     False      True       All\nITU_PRESENT                                  \nFalse            0.570039  0.295720  0.865759\nTrue             0.107004  0.027237  0.134241\nAll              0.677043  0.322957  1.000000",
      "text/html": "<div>\n<style scoped>\n    .dataframe tbody tr th:only-of-type {\n        vertical-align: middle;\n    }\n\n    .dataframe tbody tr th {\n        vertical-align: top;\n    }\n\n    .dataframe thead th {\n        text-align: right;\n    }\n</style>\n<table border=\"1\" class=\"dataframe\">\n  <thead>\n    <tr style=\"text-align: right;\">\n      <th>RENAL_D_PRESENT</th>\n      <th>False</th>\n      <th>True</th>\n      <th>All</th>\n    </tr>\n    <tr>\n      <th>ITU_PRESENT</th>\n      <th></th>\n      <th></th>\n      <th></th>\n    </tr>\n  </thead>\n  <tbody>\n    <tr>\n      <th>False</th>\n      <td>0.570039</td>\n      <td>0.295720</td>\n      <td>0.865759</td>\n    </tr>\n    <tr>\n      <th>True</th>\n      <td>0.107004</td>\n      <td>0.027237</td>\n      <td>0.134241</td>\n    </tr>\n    <tr>\n      <th>All</th>\n      <td>0.677043</td>\n      <td>0.322957</td>\n      <td>1.000000</td>\n    </tr>\n  </tbody>\n</table>\n</div>"
     },
     "execution_count": 121,
     "metadata": {},
     "output_type": "execute_result"
    }
   ],
   "source": [
    "crosstabRenalAirSupportNorm = pd.crosstab(dfRes['ITU_PRESENT'],dfRes['RENAL_D_PRESENT'],normalize=True,margins=True)\n",
    "crosstabRenalAirSupportNorm"
   ],
   "metadata": {
    "collapsed": false,
    "pycharm": {
     "name": "#%%\n"
    }
   }
  },
  {
   "cell_type": "markdown",
   "source": [
    "## Chi2 test on significance of association between renal disease and ITU admission"
   ],
   "metadata": {
    "collapsed": false,
    "pycharm": {
     "name": "#%% md\n"
    }
   }
  },
  {
   "cell_type": "code",
   "execution_count": 124,
   "outputs": [
    {
     "name": "stdout",
     "output_type": "stream",
     "text": [
      "stat = 4.638780128233793\n",
      "p = 0.03125721321665997\n",
      "dof = 1\n",
      "expected = [[301.28404669 143.71595331]\n",
      " [ 46.71595331  22.28404669]]\n"
     ]
    },
    {
     "data": {
      "text/plain": "<IPython.core.display.Markdown object>",
      "text/markdown": "Since critical value for Chi2 test p=0.03>0.05 we cannot reject hypothesis that the presence of a renal disease and air support are independent."
     },
     "execution_count": 124,
     "metadata": {},
     "output_type": "execute_result"
    }
   ],
   "source": [
    "from scipy.stats import chi2_contingency\n",
    "\n",
    "# defining the table\n",
    "# data = [crosstabRenalDeath.loc['False',:].values().reshape(1,-1), [234, 242, 232]]\n",
    "stat, p, dof, expected = chi2_contingency(crosstabRenalAirSupport)\n",
    "print(f\"stat = {stat}\")\n",
    "print(f\"p = {p}\")\n",
    "print(f\"dof = {dof}\")\n",
    "print(f\"expected = {expected}\")\n",
    "md(f\"Since critical value for Chi2 test p={p:.1g}<0.05 we can reject hypothesis that the presence of a renal disease and ITU admission are independent.\")"
   ],
   "metadata": {
    "collapsed": false,
    "pycharm": {
     "name": "#%%\n"
    }
   }
  },
  {
   "cell_type": "markdown",
   "source": [
    "## =======================\n",
    "## ===   WoE calculation  ======\n",
    "## ======================="
   ],
   "metadata": {
    "collapsed": false,
    "pycharm": {
     "name": "#%% md\n"
    }
   }
  },
  {
   "cell_type": "code",
   "execution_count": 125,
   "outputs": [
    {
     "name": "stdout",
     "output_type": "stream",
     "text": [
      "PRT=0.3229571984435798 PRF = 0.6770428015564203 \n",
      "PDTGRT=0.08433734939759036 PDFGRT=0.9156626506024097\n",
      "WoERFGD=1.2106148291042191\n",
      "PRT=0.3229571984435798 PRF = 0.6770428015564203 \n",
      "PDTGRF=0.15804597701149437 PDFGRT=0.8419540229885056\n",
      "WoERTGD=0.5940122044241037\n"
     ]
    }
   ],
   "source": [
    "P_R_T = crosstabRenalAirSupportNorm.loc['All',True]\n",
    "\n",
    "P_D_T = crosstabRenalAirSupportNorm.loc[True,'All']\n",
    "P_R_F = crosstabRenalAirSupportNorm.loc['All',False]\n",
    "P_D_F = crosstabRenalAirSupportNorm.loc[False,'All']\n",
    "PDTGRT = crosstabRenalAirSupportNorm.loc[True,True]/P_R_T\n",
    "PDFGRT = 1-PDTGRT\n",
    "# ********************************\n",
    "PDFGRF = crosstabRenalAirSupportNorm.loc[False,False]/P_R_F\n",
    "PDTGRF = 1-PDFGRF\n",
    "# **********\n",
    "PRTGDT =  crosstabRenalAirSupportNorm.loc[True,True]/P_D_T\n",
    "PRFGDT = 1-PRTGDT\n",
    "PRFGDF = crosstabRenalAirSupportNorm.loc[False,False]/P_D_F\n",
    "PRTGDF = 1-PRFGDF\n",
    "WoERTGD = PRTGDT/PRTGDF\n",
    "WoERFGD = PRFGDT/PRFGDF\n",
    "# ********************************\n",
    "print(f\"PRT={P_R_T} PRF = {P_R_F} \")\n",
    "print(f\"PDTGRT={PDTGRT} PDFGRT={PDFGRT}\")\n",
    "print(f\"WoERFGD={WoERFGD}\")\n",
    "# ********************************\n",
    "print(f\"PRT={P_R_T} PRF = {P_R_F} \")\n",
    "print(f\"PDTGRF={PDTGRF} PDFGRT={PDFGRF}\")\n",
    "print(f\"WoERTGD={WoERTGD}\")\n",
    "\n"
   ],
   "metadata": {
    "collapsed": false,
    "pycharm": {
     "name": "#%%\n"
    }
   }
  },
  {
   "cell_type": "code",
   "execution_count": 125,
   "outputs": [],
   "source": [],
   "metadata": {
    "collapsed": false,
    "pycharm": {
     "name": "#%%\n"
    }
   }
  },
  {
   "cell_type": "markdown",
   "source": [
    "# Value of evidence (WoE)\n",
    "The more is WoE different from 0 the more informative is renal disease for prediction of death, while positive value means support for selected result and negative value means the support of other result by evidence.\n",
    "\n",
    "\n",
    "$$WoE(Evidence|Target) =100*log_{10}\\Bigg  (\\frac{P(Evidence|Target)}{P(Evidence|\\neg Target)}\\Bigg)$$\n",
    "\n",
    "$$WoE(\\neg Evidence|Target) =100*log_{10}\\Bigg(\\frac{P(\\neg Evidence|Target)}{P(\\neg Evidence|\\neg Target)}\\Bigg)$$\n",
    "\n",
    "$$WoE \\in (-\\infty,\\infty )$$\n"
   ],
   "metadata": {
    "collapsed": false
   }
  },
  {
   "cell_type": "code",
   "execution_count": 133,
   "outputs": [
    {
     "data": {
      "text/plain": "<IPython.core.display.Markdown object>",
      "text/markdown": "Weight of Evidence, WoE(Renal_disease=Absent|Air support) = 8.3."
     },
     "execution_count": 133,
     "metadata": {},
     "output_type": "execute_result"
    }
   ],
   "source": [
    "md(f\"Weight of Evidence, WoE(Renal_disease=Absent|Air support) = {100*np.log10(WoERFGD):.2g}.\")"
   ],
   "metadata": {
    "collapsed": false,
    "pycharm": {
     "name": "#%%\n"
    }
   }
  },
  {
   "cell_type": "code",
   "execution_count": 134,
   "outputs": [
    {
     "data": {
      "text/plain": "<IPython.core.display.Markdown object>",
      "text/markdown": "Weight of Evidence, WoE(Renal_disease=Present|Air support) = -23."
     },
     "execution_count": 134,
     "metadata": {},
     "output_type": "execute_result"
    }
   ],
   "source": [
    "md(f\"Weight of Evidence, WoE(Renal_disease=Present|Air support) = {100*np.log10(WoERTGD):.g}.\")\n"
   ],
   "metadata": {
    "collapsed": false,
    "pycharm": {
     "name": "#%%\n"
    }
   }
  },
  {
   "cell_type": "markdown",
   "source": [
    "Values of WoE are not very different from 0. This indicate that there is probably no association between renal disease\n",
    "and  air ventilation.\n",
    "\n"
   ],
   "metadata": {
    "collapsed": false
   }
  },
  {
   "cell_type": "code",
   "execution_count": 127,
   "outputs": [],
   "source": [],
   "metadata": {
    "collapsed": false,
    "pycharm": {
     "name": "#%%\n"
    }
   }
  },
  {
   "cell_type": "code",
   "execution_count": 127,
   "outputs": [],
   "source": [],
   "metadata": {
    "collapsed": false,
    "pycharm": {
     "name": "#%%\n"
    }
   }
  },
  {
   "cell_type": "code",
   "execution_count": null,
   "outputs": [],
   "source": [
    "\n"
   ],
   "metadata": {
    "collapsed": false,
    "pycharm": {
     "name": "#%%\n"
    }
   }
  }
 ],
 "metadata": {
  "kernelspec": {
   "display_name": "PyCharm (BN4Nephrology)",
   "language": "python",
   "name": "pycharm-b7c5592"
  },
  "language_info": {
   "codemirror_mode": {
    "name": "ipython",
    "version": 3
   },
   "file_extension": ".py",
   "mimetype": "text/x-python",
   "name": "python",
   "nbconvert_exporter": "python",
   "pygments_lexer": "ipython3",
   "version": "3.7.6"
  }
 },
 "nbformat": 4,
 "nbformat_minor": 4
}