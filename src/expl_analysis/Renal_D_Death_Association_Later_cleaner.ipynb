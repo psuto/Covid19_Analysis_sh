{
 "cells": [
  {
   "cell_type": "code",
   "execution_count": 222,
   "metadata": {
    "collapsed": false,
    "jupyter": {
     "outputs_hidden": false
    },
    "pycharm": {
     "name": "#%%\n"
    }
   },
   "outputs": [],
   "source": [
    "import numpy as np\n",
    "import pandas as pd\n",
    "import pathlib as p\n",
    "import seaborn as sb\n",
    "import matplotlib.pyplot as plt\n",
    "import pathlib\n",
    "from pathlib import Path\n",
    "from datetime import datetime\n",
    "from IPython.display import Markdown as md\n",
    "from IPython.display import Math as m\n"
   ]
  },
  {
   "cell_type": "code",
   "execution_count": 223,
   "metadata": {
    "collapsed": false,
    "jupyter": {
     "outputs_hidden": false
    },
    "pycharm": {
     "name": "#%%\n"
    }
   },
   "outputs": [],
   "source": [
    "%matplotlib inline"
   ]
  },
  {
   "cell_type": "code",
   "execution_count": 224,
   "metadata": {
    "collapsed": false,
    "jupyter": {
     "outputs_hidden": false
    },
    "pycharm": {
     "name": "#%%\n"
    }
   },
   "outputs": [],
   "source": [
    "def extractParentDir(dataFileName):\n",
    "    purePath = pathlib.PurePath(dataFileName)\n",
    "    parentDir2 = purePath.parent.parent\n",
    "    return parentDir2"
   ]
  },
  {
   "cell_type": "code",
   "execution_count": 225,
   "metadata": {
    "collapsed": false,
    "jupyter": {
     "outputs_hidden": false
    },
    "pycharm": {
     "name": "#%%\n"
    }
   },
   "outputs": [],
   "source": [
    "todayVal = datetime.today()\n",
    "timeStampStr = todayVal.strftime(\"%y-%m-%d_%H-%M-%S.%f\")\n",
    "data_dir = r\"C:\\work\\dev\\dECMT_src\\data_all\\COVID19_Data\\Current\"\n",
    "parentDir2 = extractParentDir(data_dir)\n",
    "outputPath = Path(parentDir2) / \"Output_Covid19_Analysis\"/f\"{timeStampStr}_bipartite\""
   ]
  },
  {
   "cell_type": "code",
   "execution_count": 226,
   "metadata": {
    "collapsed": false,
    "jupyter": {
     "outputs_hidden": false
    },
    "pycharm": {
     "name": "#%%\n"
    }
   },
   "outputs": [],
   "source": [
    "comorbidFN = p.Path(data_dir) / \"REACT_Comorbidities_unpivoted.csv\"\n",
    "demogFN = p.Path(data_dir) / \"REACT_Demographics.csv\"\n",
    "comorbidDF:pd.DataFrame = pd.read_csv(comorbidFN)"
   ]
  },
  {
   "cell_type": "code",
   "execution_count": 227,
   "metadata": {
    "collapsed": false,
    "jupyter": {
     "outputs_hidden": false
    },
    "pycharm": {
     "name": "#%%\n"
    }
   },
   "outputs": [],
   "source": [
    "comorbidDF:pd.DataFrame = pd.read_csv(comorbidFN)\n",
    "demogDF:pd.DataFrame = pd.read_csv(demogFN)\n",
    "covidDemogDF = pd.read_csv(p.Path(data_dir)/ 'REACT_COVID_Demographics.csv')\n",
    "# **************************\n",
    "lab_results_df = pd.read_csv(p.Path(data_dir) / 'REACT_LabResults.csv')\n",
    "# pharmacy_data_df = pd.read_csv(p.Path(data_dir) / 'REACT_PharmacyData.csv')\n",
    "covid_test_df = pd.read_csv(p.Path(data_dir) / 'REACT_UHSCOVIDTest_processed.csv')\n"
   ]
  },
  {
   "cell_type": "code",
   "execution_count": 228,
   "metadata": {
    "collapsed": false,
    "jupyter": {
     "outputs_hidden": false
    },
    "pycharm": {
     "name": "#%%\n"
    }
   },
   "outputs": [
    {
     "data": {
      "text/plain": "       PATIENT_AGE      GENDER  IS_PREGNANT        HEIG        WEIG  \\\ncount   614.000000  614.000000   614.000000  277.000000  593.000000   \nmean     67.929967    1.571661     0.009772  167.709531   75.407437   \nstd      19.635836    0.495241     0.098449   14.785532   21.033713   \nmin       0.000000    1.000000     0.000000   66.000000    0.000000   \n25%      55.250000    1.000000     0.000000  160.000000   62.700000   \n50%      72.000000    2.000000     0.000000  168.000000   75.000000   \n75%      83.000000    2.000000     0.000000  177.800000   86.000000   \nmax     103.000000    2.000000     1.000000  198.000000  192.000000   \n\n              BMI         LOS  LOS_PREPOS  \ncount  271.000000  614.000000  614.000000  \nmean    26.277343   15.838322    3.847264  \nstd      5.907941   17.310716    9.651141  \nmin     12.860000    0.000000   -0.370000  \n25%     22.255000    4.622500   -0.080000  \n50%     25.510000   10.095000    0.010000  \n75%     29.895000   21.827500    3.705000  \nmax     50.560000  173.580000  127.140000  ",
      "text/html": "<div>\n<style scoped>\n    .dataframe tbody tr th:only-of-type {\n        vertical-align: middle;\n    }\n\n    .dataframe tbody tr th {\n        vertical-align: top;\n    }\n\n    .dataframe thead th {\n        text-align: right;\n    }\n</style>\n<table border=\"1\" class=\"dataframe\">\n  <thead>\n    <tr style=\"text-align: right;\">\n      <th></th>\n      <th>PATIENT_AGE</th>\n      <th>GENDER</th>\n      <th>IS_PREGNANT</th>\n      <th>HEIG</th>\n      <th>WEIG</th>\n      <th>BMI</th>\n      <th>LOS</th>\n      <th>LOS_PREPOS</th>\n    </tr>\n  </thead>\n  <tbody>\n    <tr>\n      <th>count</th>\n      <td>614.000000</td>\n      <td>614.000000</td>\n      <td>614.000000</td>\n      <td>277.000000</td>\n      <td>593.000000</td>\n      <td>271.000000</td>\n      <td>614.000000</td>\n      <td>614.000000</td>\n    </tr>\n    <tr>\n      <th>mean</th>\n      <td>67.929967</td>\n      <td>1.571661</td>\n      <td>0.009772</td>\n      <td>167.709531</td>\n      <td>75.407437</td>\n      <td>26.277343</td>\n      <td>15.838322</td>\n      <td>3.847264</td>\n    </tr>\n    <tr>\n      <th>std</th>\n      <td>19.635836</td>\n      <td>0.495241</td>\n      <td>0.098449</td>\n      <td>14.785532</td>\n      <td>21.033713</td>\n      <td>5.907941</td>\n      <td>17.310716</td>\n      <td>9.651141</td>\n    </tr>\n    <tr>\n      <th>min</th>\n      <td>0.000000</td>\n      <td>1.000000</td>\n      <td>0.000000</td>\n      <td>66.000000</td>\n      <td>0.000000</td>\n      <td>12.860000</td>\n      <td>0.000000</td>\n      <td>-0.370000</td>\n    </tr>\n    <tr>\n      <th>25%</th>\n      <td>55.250000</td>\n      <td>1.000000</td>\n      <td>0.000000</td>\n      <td>160.000000</td>\n      <td>62.700000</td>\n      <td>22.255000</td>\n      <td>4.622500</td>\n      <td>-0.080000</td>\n    </tr>\n    <tr>\n      <th>50%</th>\n      <td>72.000000</td>\n      <td>2.000000</td>\n      <td>0.000000</td>\n      <td>168.000000</td>\n      <td>75.000000</td>\n      <td>25.510000</td>\n      <td>10.095000</td>\n      <td>0.010000</td>\n    </tr>\n    <tr>\n      <th>75%</th>\n      <td>83.000000</td>\n      <td>2.000000</td>\n      <td>0.000000</td>\n      <td>177.800000</td>\n      <td>86.000000</td>\n      <td>29.895000</td>\n      <td>21.827500</td>\n      <td>3.705000</td>\n    </tr>\n    <tr>\n      <th>max</th>\n      <td>103.000000</td>\n      <td>2.000000</td>\n      <td>1.000000</td>\n      <td>198.000000</td>\n      <td>192.000000</td>\n      <td>50.560000</td>\n      <td>173.580000</td>\n      <td>127.140000</td>\n    </tr>\n  </tbody>\n</table>\n</div>"
     },
     "execution_count": 228,
     "metadata": {},
     "output_type": "execute_result"
    }
   ],
   "source": [
    "demogDF.describe()"
   ]
  },
  {
   "cell_type": "code",
   "execution_count": 229,
   "outputs": [
    {
     "data": {
      "text/plain": "Index(['STUDY_ID', 'PATIENT_AGE', 'DOB', 'DATE_OF_DEATH', 'DOD_DATE', 'GENDER',\n       'ETHNIC_GROUP', 'SMOKING_HISTORY', 'POSTCODE', 'IS_PREGNANT', 'HEIG',\n       'WEIG', 'BMI', 'FIRST_POS_DATE', 'FIRST_POS_DATE_R', 'FIRST_POS_TIME_R',\n       'ADMIT_DATETIME', 'ADM_DATE_R', 'ADM_TIME_R', 'DISCHARGEDATE',\n       'DISCHARGE_DATE_R', 'DISCHARGE_TIME_R', 'LOS', 'LOS_PREPOS', 'READM28',\n       'READM_DATETIME', 'READM_DATE', 'READM_TIME'],\n      dtype='object')"
     },
     "execution_count": 229,
     "metadata": {},
     "output_type": "execute_result"
    }
   ],
   "source": [
    "demogDF.columns"
   ],
   "metadata": {
    "collapsed": false,
    "pycharm": {
     "name": "#%%\n"
    }
   }
  },
  {
   "cell_type": "code",
   "execution_count": 230,
   "outputs": [
    {
     "data": {
      "text/plain": "            STUDY_ID  PATIENT_AGE      DOB        DATE_OF_DEATH    DOD_DATE  \\\n0  UHSCOVID_00989a42         64.0  01/1956                  NaN         NaN   \n1  UHSCOVID_00ac1e32         73.0  10/1946                  NaN         NaN   \n2  UHSCOVID_00cb7bdd         76.0  03/1944  2020-04-13 00:00:00  13/04/2020   \n3  UHSCOVID_01add35c         67.0  10/1952  2020-05-27 00:00:00  27/05/2020   \n4  UHSCOVID_01f7838d         97.0  01/1923                  NaN         NaN   \n\n   GENDER ETHNIC_GROUP SMOKING_HISTORY POSTCODE  IS_PREGNANT  ...  ADM_TIME_R  \\\n0       2            A           NR|NR     SO19            0  ...    17:19:00   \n1       2            A    Ex-smoker|NR     SO21            0  ...    18:00:00   \n2       1            A           NR|NR     SO16            0  ...    17:56:00   \n3       1            A           NR|NR     SO19            0  ...    10:17:00   \n4       2            A           NR|NR     SO16            0  ...    09:00:00   \n\n         DISCHARGEDATE  DISCHARGE_DATE_R DISCHARGE_TIME_R    LOS LOS_PREPOS  \\\n0  2020-04-02 10:21:00        02/04/2020         10:21:00   6.71      -0.10   \n1  2020-05-19 12:56:00        19/05/2020         12:56:00  41.79       4.00   \n2  2020-04-13 02:15:00        13/04/2020         02:15:00   2.35      -0.04   \n3  2020-05-23 18:15:00        23/05/2020         18:15:00   1.33       0.21   \n4  2020-05-17 16:00:00        17/05/2020         16:00:00  13.29       7.13   \n\n  READM28       READM_DATETIME  READM_DATE READM_TIME  \n0       N                  NaN         NaN        NaN  \n1       N                  NaN         NaN        NaN  \n2       N                  NaN         NaN        NaN  \n3       Y  2020-05-26 09:41:00  26/05/2020   09:41:00  \n4       N                  NaN         NaN        NaN  \n\n[5 rows x 28 columns]",
      "text/html": "<div>\n<style scoped>\n    .dataframe tbody tr th:only-of-type {\n        vertical-align: middle;\n    }\n\n    .dataframe tbody tr th {\n        vertical-align: top;\n    }\n\n    .dataframe thead th {\n        text-align: right;\n    }\n</style>\n<table border=\"1\" class=\"dataframe\">\n  <thead>\n    <tr style=\"text-align: right;\">\n      <th></th>\n      <th>STUDY_ID</th>\n      <th>PATIENT_AGE</th>\n      <th>DOB</th>\n      <th>DATE_OF_DEATH</th>\n      <th>DOD_DATE</th>\n      <th>GENDER</th>\n      <th>ETHNIC_GROUP</th>\n      <th>SMOKING_HISTORY</th>\n      <th>POSTCODE</th>\n      <th>IS_PREGNANT</th>\n      <th>...</th>\n      <th>ADM_TIME_R</th>\n      <th>DISCHARGEDATE</th>\n      <th>DISCHARGE_DATE_R</th>\n      <th>DISCHARGE_TIME_R</th>\n      <th>LOS</th>\n      <th>LOS_PREPOS</th>\n      <th>READM28</th>\n      <th>READM_DATETIME</th>\n      <th>READM_DATE</th>\n      <th>READM_TIME</th>\n    </tr>\n  </thead>\n  <tbody>\n    <tr>\n      <th>0</th>\n      <td>UHSCOVID_00989a42</td>\n      <td>64.0</td>\n      <td>01/1956</td>\n      <td>NaN</td>\n      <td>NaN</td>\n      <td>2</td>\n      <td>A</td>\n      <td>NR|NR</td>\n      <td>SO19</td>\n      <td>0</td>\n      <td>...</td>\n      <td>17:19:00</td>\n      <td>2020-04-02 10:21:00</td>\n      <td>02/04/2020</td>\n      <td>10:21:00</td>\n      <td>6.71</td>\n      <td>-0.10</td>\n      <td>N</td>\n      <td>NaN</td>\n      <td>NaN</td>\n      <td>NaN</td>\n    </tr>\n    <tr>\n      <th>1</th>\n      <td>UHSCOVID_00ac1e32</td>\n      <td>73.0</td>\n      <td>10/1946</td>\n      <td>NaN</td>\n      <td>NaN</td>\n      <td>2</td>\n      <td>A</td>\n      <td>Ex-smoker|NR</td>\n      <td>SO21</td>\n      <td>0</td>\n      <td>...</td>\n      <td>18:00:00</td>\n      <td>2020-05-19 12:56:00</td>\n      <td>19/05/2020</td>\n      <td>12:56:00</td>\n      <td>41.79</td>\n      <td>4.00</td>\n      <td>N</td>\n      <td>NaN</td>\n      <td>NaN</td>\n      <td>NaN</td>\n    </tr>\n    <tr>\n      <th>2</th>\n      <td>UHSCOVID_00cb7bdd</td>\n      <td>76.0</td>\n      <td>03/1944</td>\n      <td>2020-04-13 00:00:00</td>\n      <td>13/04/2020</td>\n      <td>1</td>\n      <td>A</td>\n      <td>NR|NR</td>\n      <td>SO16</td>\n      <td>0</td>\n      <td>...</td>\n      <td>17:56:00</td>\n      <td>2020-04-13 02:15:00</td>\n      <td>13/04/2020</td>\n      <td>02:15:00</td>\n      <td>2.35</td>\n      <td>-0.04</td>\n      <td>N</td>\n      <td>NaN</td>\n      <td>NaN</td>\n      <td>NaN</td>\n    </tr>\n    <tr>\n      <th>3</th>\n      <td>UHSCOVID_01add35c</td>\n      <td>67.0</td>\n      <td>10/1952</td>\n      <td>2020-05-27 00:00:00</td>\n      <td>27/05/2020</td>\n      <td>1</td>\n      <td>A</td>\n      <td>NR|NR</td>\n      <td>SO19</td>\n      <td>0</td>\n      <td>...</td>\n      <td>10:17:00</td>\n      <td>2020-05-23 18:15:00</td>\n      <td>23/05/2020</td>\n      <td>18:15:00</td>\n      <td>1.33</td>\n      <td>0.21</td>\n      <td>Y</td>\n      <td>2020-05-26 09:41:00</td>\n      <td>26/05/2020</td>\n      <td>09:41:00</td>\n    </tr>\n    <tr>\n      <th>4</th>\n      <td>UHSCOVID_01f7838d</td>\n      <td>97.0</td>\n      <td>01/1923</td>\n      <td>NaN</td>\n      <td>NaN</td>\n      <td>2</td>\n      <td>A</td>\n      <td>NR|NR</td>\n      <td>SO16</td>\n      <td>0</td>\n      <td>...</td>\n      <td>09:00:00</td>\n      <td>2020-05-17 16:00:00</td>\n      <td>17/05/2020</td>\n      <td>16:00:00</td>\n      <td>13.29</td>\n      <td>7.13</td>\n      <td>N</td>\n      <td>NaN</td>\n      <td>NaN</td>\n      <td>NaN</td>\n    </tr>\n  </tbody>\n</table>\n<p>5 rows × 28 columns</p>\n</div>"
     },
     "execution_count": 230,
     "metadata": {},
     "output_type": "execute_result"
    }
   ],
   "source": [
    "demogDF.head()"
   ],
   "metadata": {
    "collapsed": false,
    "pycharm": {
     "name": "#%%\n"
    }
   }
  },
  {
   "cell_type": "code",
   "execution_count": 231,
   "outputs": [],
   "source": [
    "demogDF['Death'] = demogDF['DATE_OF_DEATH'].notna()"
   ],
   "metadata": {
    "collapsed": false,
    "pycharm": {
     "name": "#%%\n"
    }
   }
  },
  {
   "cell_type": "code",
   "execution_count": 231,
   "outputs": [],
   "source": [],
   "metadata": {
    "collapsed": false,
    "pycharm": {
     "name": "#%%\n"
    }
   }
  },
  {
   "cell_type": "code",
   "execution_count": 232,
   "outputs": [
    {
     "data": {
      "text/plain": "                   Death\nSTUDY_ID                \nUHSCOVID_00989a42  False\nUHSCOVID_00ac1e32  False\nUHSCOVID_00cb7bdd   True\nUHSCOVID_01add35c   True\nUHSCOVID_01f7838d  False\n...                  ...\nUHSCOVID_fc872d82  False\nUHSCOVID_fd016c0e  False\nUHSCOVID_fd4da220  False\nUHSCOVID_fd893360  False\nUHSCOVID_fe8c3d54   True\n\n[614 rows x 1 columns]",
      "text/html": "<div>\n<style scoped>\n    .dataframe tbody tr th:only-of-type {\n        vertical-align: middle;\n    }\n\n    .dataframe tbody tr th {\n        vertical-align: top;\n    }\n\n    .dataframe thead th {\n        text-align: right;\n    }\n</style>\n<table border=\"1\" class=\"dataframe\">\n  <thead>\n    <tr style=\"text-align: right;\">\n      <th></th>\n      <th>Death</th>\n    </tr>\n    <tr>\n      <th>STUDY_ID</th>\n      <th></th>\n    </tr>\n  </thead>\n  <tbody>\n    <tr>\n      <th>UHSCOVID_00989a42</th>\n      <td>False</td>\n    </tr>\n    <tr>\n      <th>UHSCOVID_00ac1e32</th>\n      <td>False</td>\n    </tr>\n    <tr>\n      <th>UHSCOVID_00cb7bdd</th>\n      <td>True</td>\n    </tr>\n    <tr>\n      <th>UHSCOVID_01add35c</th>\n      <td>True</td>\n    </tr>\n    <tr>\n      <th>UHSCOVID_01f7838d</th>\n      <td>False</td>\n    </tr>\n    <tr>\n      <th>...</th>\n      <td>...</td>\n    </tr>\n    <tr>\n      <th>UHSCOVID_fc872d82</th>\n      <td>False</td>\n    </tr>\n    <tr>\n      <th>UHSCOVID_fd016c0e</th>\n      <td>False</td>\n    </tr>\n    <tr>\n      <th>UHSCOVID_fd4da220</th>\n      <td>False</td>\n    </tr>\n    <tr>\n      <th>UHSCOVID_fd893360</th>\n      <td>False</td>\n    </tr>\n    <tr>\n      <th>UHSCOVID_fe8c3d54</th>\n      <td>True</td>\n    </tr>\n  </tbody>\n</table>\n<p>614 rows × 1 columns</p>\n</div>"
     },
     "execution_count": 232,
     "metadata": {},
     "output_type": "execute_result"
    }
   ],
   "source": [
    "demogDF2=demogDF.groupby('STUDY_ID').agg(Death=('Death','any'))\n",
    "demogDF2"
   ],
   "metadata": {
    "collapsed": false,
    "pycharm": {
     "name": "#%%\n"
    }
   }
  },
  {
   "cell_type": "markdown",
   "source": [
    "# Renal disease flag\n"
   ],
   "metadata": {
    "collapsed": false,
    "pycharm": {
     "name": "#%% md\n"
    }
   }
  },
  {
   "cell_type": "code",
   "execution_count": 233,
   "outputs": [
    {
     "data": {
      "text/plain": "       STATUS\ncount  1628.0\nmean      1.0\nstd       0.0\nmin       1.0\n25%       1.0\n50%       1.0\n75%       1.0\nmax       1.0",
      "text/html": "<div>\n<style scoped>\n    .dataframe tbody tr th:only-of-type {\n        vertical-align: middle;\n    }\n\n    .dataframe tbody tr th {\n        vertical-align: top;\n    }\n\n    .dataframe thead th {\n        text-align: right;\n    }\n</style>\n<table border=\"1\" class=\"dataframe\">\n  <thead>\n    <tr style=\"text-align: right;\">\n      <th></th>\n      <th>STATUS</th>\n    </tr>\n  </thead>\n  <tbody>\n    <tr>\n      <th>count</th>\n      <td>1628.0</td>\n    </tr>\n    <tr>\n      <th>mean</th>\n      <td>1.0</td>\n    </tr>\n    <tr>\n      <th>std</th>\n      <td>0.0</td>\n    </tr>\n    <tr>\n      <th>min</th>\n      <td>1.0</td>\n    </tr>\n    <tr>\n      <th>25%</th>\n      <td>1.0</td>\n    </tr>\n    <tr>\n      <th>50%</th>\n      <td>1.0</td>\n    </tr>\n    <tr>\n      <th>75%</th>\n      <td>1.0</td>\n    </tr>\n    <tr>\n      <th>max</th>\n      <td>1.0</td>\n    </tr>\n  </tbody>\n</table>\n</div>"
     },
     "execution_count": 233,
     "metadata": {},
     "output_type": "execute_result"
    }
   ],
   "source": [
    "comorbidDF.describe()\n",
    "\n"
   ],
   "metadata": {
    "collapsed": false,
    "pycharm": {
     "name": "#%%\n"
    }
   }
  },
  {
   "cell_type": "code",
   "execution_count": 234,
   "outputs": [
    {
     "data": {
      "text/plain": "            STUDY_ID COMORBIDITY  STATUS\n0  UHSCOVID_00989a42        COPD       1\n1  UHSCOVID_0520de1c        COPD       1\n2  UHSCOVID_0744a86c        COPD       1\n3  UHSCOVID_0874d194        COPD       1\n4  UHSCOVID_0b401459        COPD       1",
      "text/html": "<div>\n<style scoped>\n    .dataframe tbody tr th:only-of-type {\n        vertical-align: middle;\n    }\n\n    .dataframe tbody tr th {\n        vertical-align: top;\n    }\n\n    .dataframe thead th {\n        text-align: right;\n    }\n</style>\n<table border=\"1\" class=\"dataframe\">\n  <thead>\n    <tr style=\"text-align: right;\">\n      <th></th>\n      <th>STUDY_ID</th>\n      <th>COMORBIDITY</th>\n      <th>STATUS</th>\n    </tr>\n  </thead>\n  <tbody>\n    <tr>\n      <th>0</th>\n      <td>UHSCOVID_00989a42</td>\n      <td>COPD</td>\n      <td>1</td>\n    </tr>\n    <tr>\n      <th>1</th>\n      <td>UHSCOVID_0520de1c</td>\n      <td>COPD</td>\n      <td>1</td>\n    </tr>\n    <tr>\n      <th>2</th>\n      <td>UHSCOVID_0744a86c</td>\n      <td>COPD</td>\n      <td>1</td>\n    </tr>\n    <tr>\n      <th>3</th>\n      <td>UHSCOVID_0874d194</td>\n      <td>COPD</td>\n      <td>1</td>\n    </tr>\n    <tr>\n      <th>4</th>\n      <td>UHSCOVID_0b401459</td>\n      <td>COPD</td>\n      <td>1</td>\n    </tr>\n  </tbody>\n</table>\n</div>"
     },
     "execution_count": 234,
     "metadata": {},
     "output_type": "execute_result"
    }
   ],
   "source": [
    "comorbidDF.head()"
   ],
   "metadata": {
    "collapsed": false,
    "pycharm": {
     "name": "#%%\n"
    }
   }
  },
  {
   "cell_type": "code",
   "execution_count": 235,
   "outputs": [
    {
     "data": {
      "text/plain": "Index(['STUDY_ID', 'COMORBIDITY', 'STATUS'], dtype='object')"
     },
     "execution_count": 235,
     "metadata": {},
     "output_type": "execute_result"
    }
   ],
   "source": [
    "comorbidDF.columns\n",
    "\n"
   ],
   "metadata": {
    "collapsed": false,
    "pycharm": {
     "name": "#%%\n"
    }
   }
  },
  {
   "cell_type": "code",
   "execution_count": 236,
   "outputs": [],
   "source": [
    "comorbidDF['RENAL_D_PRESENT'] = (comorbidDF['COMORBIDITY'] == 'RENAL_D')\n"
   ],
   "metadata": {
    "collapsed": false,
    "pycharm": {
     "name": "#%%\n"
    }
   }
  },
  {
   "cell_type": "code",
   "execution_count": 237,
   "outputs": [
    {
     "data": {
      "text/plain": "                   RENAL_D_PRESENT\nSTUDY_ID                          \nUHSCOVID_00989a42            False\nUHSCOVID_00ac1e32            False\nUHSCOVID_00cb7bdd            False\nUHSCOVID_01add35c            False\nUHSCOVID_01f7838d             True\n...                            ...\nUHSCOVID_fb3b62bb             True\nUHSCOVID_fc872d82            False\nUHSCOVID_fd4da220            False\nUHSCOVID_fd893360            False\nUHSCOVID_fe8c3d54             True\n\n[514 rows x 1 columns]",
      "text/html": "<div>\n<style scoped>\n    .dataframe tbody tr th:only-of-type {\n        vertical-align: middle;\n    }\n\n    .dataframe tbody tr th {\n        vertical-align: top;\n    }\n\n    .dataframe thead th {\n        text-align: right;\n    }\n</style>\n<table border=\"1\" class=\"dataframe\">\n  <thead>\n    <tr style=\"text-align: right;\">\n      <th></th>\n      <th>RENAL_D_PRESENT</th>\n    </tr>\n    <tr>\n      <th>STUDY_ID</th>\n      <th></th>\n    </tr>\n  </thead>\n  <tbody>\n    <tr>\n      <th>UHSCOVID_00989a42</th>\n      <td>False</td>\n    </tr>\n    <tr>\n      <th>UHSCOVID_00ac1e32</th>\n      <td>False</td>\n    </tr>\n    <tr>\n      <th>UHSCOVID_00cb7bdd</th>\n      <td>False</td>\n    </tr>\n    <tr>\n      <th>UHSCOVID_01add35c</th>\n      <td>False</td>\n    </tr>\n    <tr>\n      <th>UHSCOVID_01f7838d</th>\n      <td>True</td>\n    </tr>\n    <tr>\n      <th>...</th>\n      <td>...</td>\n    </tr>\n    <tr>\n      <th>UHSCOVID_fb3b62bb</th>\n      <td>True</td>\n    </tr>\n    <tr>\n      <th>UHSCOVID_fc872d82</th>\n      <td>False</td>\n    </tr>\n    <tr>\n      <th>UHSCOVID_fd4da220</th>\n      <td>False</td>\n    </tr>\n    <tr>\n      <th>UHSCOVID_fd893360</th>\n      <td>False</td>\n    </tr>\n    <tr>\n      <th>UHSCOVID_fe8c3d54</th>\n      <td>True</td>\n    </tr>\n  </tbody>\n</table>\n<p>514 rows × 1 columns</p>\n</div>"
     },
     "execution_count": 237,
     "metadata": {},
     "output_type": "execute_result"
    }
   ],
   "source": [
    "comorbidDF2 = comorbidDF.groupby('STUDY_ID').agg(RENAL_D_PRESENT=('RENAL_D_PRESENT',any))\n",
    "comorbidDF2"
   ],
   "metadata": {
    "collapsed": false,
    "pycharm": {
     "name": "#%%\n"
    }
   }
  },
  {
   "cell_type": "code",
   "execution_count": 238,
   "metadata": {
    "collapsed": false,
    "jupyter": {
     "outputs_hidden": false
    },
    "pycharm": {
     "name": "#%%\n"
    }
   },
   "outputs": [],
   "source": [
    "# u.convertDatesWTableName(covidDemogDF,'demographics_df')"
   ]
  },
  {
   "cell_type": "markdown",
   "metadata": {
    "pycharm": {
     "name": "#%% md\n"
    }
   },
   "source": [
    "# Association between Renal disease and Death"
   ]
  },
  {
   "cell_type": "code",
   "execution_count": 239,
   "outputs": [
    {
     "data": {
      "text/plain": "                   Death\nSTUDY_ID                \nUHSCOVID_00989a42  False\nUHSCOVID_00ac1e32  False\nUHSCOVID_00cb7bdd   True\nUHSCOVID_01add35c   True\nUHSCOVID_01f7838d  False",
      "text/html": "<div>\n<style scoped>\n    .dataframe tbody tr th:only-of-type {\n        vertical-align: middle;\n    }\n\n    .dataframe tbody tr th {\n        vertical-align: top;\n    }\n\n    .dataframe thead th {\n        text-align: right;\n    }\n</style>\n<table border=\"1\" class=\"dataframe\">\n  <thead>\n    <tr style=\"text-align: right;\">\n      <th></th>\n      <th>Death</th>\n    </tr>\n    <tr>\n      <th>STUDY_ID</th>\n      <th></th>\n    </tr>\n  </thead>\n  <tbody>\n    <tr>\n      <th>UHSCOVID_00989a42</th>\n      <td>False</td>\n    </tr>\n    <tr>\n      <th>UHSCOVID_00ac1e32</th>\n      <td>False</td>\n    </tr>\n    <tr>\n      <th>UHSCOVID_00cb7bdd</th>\n      <td>True</td>\n    </tr>\n    <tr>\n      <th>UHSCOVID_01add35c</th>\n      <td>True</td>\n    </tr>\n    <tr>\n      <th>UHSCOVID_01f7838d</th>\n      <td>False</td>\n    </tr>\n  </tbody>\n</table>\n</div>"
     },
     "execution_count": 239,
     "metadata": {},
     "output_type": "execute_result"
    }
   ],
   "source": [
    "demogDF2.head()"
   ],
   "metadata": {
    "collapsed": false,
    "pycharm": {
     "name": "#%%\n"
    }
   }
  },
  {
   "cell_type": "code",
   "execution_count": 240,
   "outputs": [
    {
     "data": {
      "text/plain": "                   RENAL_D_PRESENT\nSTUDY_ID                          \nUHSCOVID_00989a42            False\nUHSCOVID_00ac1e32            False\nUHSCOVID_00cb7bdd            False\nUHSCOVID_01add35c            False\nUHSCOVID_01f7838d             True",
      "text/html": "<div>\n<style scoped>\n    .dataframe tbody tr th:only-of-type {\n        vertical-align: middle;\n    }\n\n    .dataframe tbody tr th {\n        vertical-align: top;\n    }\n\n    .dataframe thead th {\n        text-align: right;\n    }\n</style>\n<table border=\"1\" class=\"dataframe\">\n  <thead>\n    <tr style=\"text-align: right;\">\n      <th></th>\n      <th>RENAL_D_PRESENT</th>\n    </tr>\n    <tr>\n      <th>STUDY_ID</th>\n      <th></th>\n    </tr>\n  </thead>\n  <tbody>\n    <tr>\n      <th>UHSCOVID_00989a42</th>\n      <td>False</td>\n    </tr>\n    <tr>\n      <th>UHSCOVID_00ac1e32</th>\n      <td>False</td>\n    </tr>\n    <tr>\n      <th>UHSCOVID_00cb7bdd</th>\n      <td>False</td>\n    </tr>\n    <tr>\n      <th>UHSCOVID_01add35c</th>\n      <td>False</td>\n    </tr>\n    <tr>\n      <th>UHSCOVID_01f7838d</th>\n      <td>True</td>\n    </tr>\n  </tbody>\n</table>\n</div>"
     },
     "execution_count": 240,
     "metadata": {},
     "output_type": "execute_result"
    }
   ],
   "source": [
    "comorbidDF2.head()"
   ],
   "metadata": {
    "collapsed": false,
    "pycharm": {
     "name": "#%%\n"
    }
   }
  },
  {
   "cell_type": "code",
   "execution_count": 241,
   "metadata": {
    "collapsed": false,
    "jupyter": {
     "outputs_hidden": false
    },
    "pycharm": {
     "name": "#%%\n"
    }
   },
   "outputs": [],
   "source": [
    "dfRes:pd.DataFrame = pd.merge(demogDF2, comorbidDF2, on='STUDY_ID', how='inner')"
   ]
  },
  {
   "cell_type": "code",
   "execution_count": 242,
   "outputs": [],
   "source": [
    "dfRes = dfRes.reset_index()\n"
   ],
   "metadata": {
    "collapsed": false,
    "pycharm": {
     "name": "#%%\n"
    }
   }
  },
  {
   "cell_type": "code",
   "execution_count": 243,
   "metadata": {
    "collapsed": false,
    "jupyter": {
     "outputs_hidden": false
    },
    "pycharm": {
     "name": "#%%\n"
    }
   },
   "outputs": [
    {
     "data": {
      "text/plain": "Index(['STUDY_ID', 'Death', 'RENAL_D_PRESENT'], dtype='object')"
     },
     "execution_count": 243,
     "metadata": {},
     "output_type": "execute_result"
    }
   ],
   "source": [
    "dfRes.columns\n"
   ]
  },
  {
   "cell_type": "code",
   "execution_count": 244,
   "outputs": [
    {
     "data": {
      "text/plain": "            STUDY_ID  Death  RENAL_D_PRESENT\n0  UHSCOVID_00989a42  False            False\n1  UHSCOVID_00ac1e32  False            False\n2  UHSCOVID_00cb7bdd   True            False\n3  UHSCOVID_01add35c   True            False\n4  UHSCOVID_01f7838d  False             True",
      "text/html": "<div>\n<style scoped>\n    .dataframe tbody tr th:only-of-type {\n        vertical-align: middle;\n    }\n\n    .dataframe tbody tr th {\n        vertical-align: top;\n    }\n\n    .dataframe thead th {\n        text-align: right;\n    }\n</style>\n<table border=\"1\" class=\"dataframe\">\n  <thead>\n    <tr style=\"text-align: right;\">\n      <th></th>\n      <th>STUDY_ID</th>\n      <th>Death</th>\n      <th>RENAL_D_PRESENT</th>\n    </tr>\n  </thead>\n  <tbody>\n    <tr>\n      <th>0</th>\n      <td>UHSCOVID_00989a42</td>\n      <td>False</td>\n      <td>False</td>\n    </tr>\n    <tr>\n      <th>1</th>\n      <td>UHSCOVID_00ac1e32</td>\n      <td>False</td>\n      <td>False</td>\n    </tr>\n    <tr>\n      <th>2</th>\n      <td>UHSCOVID_00cb7bdd</td>\n      <td>True</td>\n      <td>False</td>\n    </tr>\n    <tr>\n      <th>3</th>\n      <td>UHSCOVID_01add35c</td>\n      <td>True</td>\n      <td>False</td>\n    </tr>\n    <tr>\n      <th>4</th>\n      <td>UHSCOVID_01f7838d</td>\n      <td>False</td>\n      <td>True</td>\n    </tr>\n  </tbody>\n</table>\n</div>"
     },
     "execution_count": 244,
     "metadata": {},
     "output_type": "execute_result"
    }
   ],
   "source": [
    "dfRes.head()"
   ],
   "metadata": {
    "collapsed": false,
    "pycharm": {
     "name": "#%%\n"
    }
   }
  },
  {
   "cell_type": "code",
   "execution_count": 245,
   "metadata": {
    "collapsed": false,
    "jupyter": {
     "outputs_hidden": false
    },
    "pycharm": {
     "name": "#%%\n"
    }
   },
   "outputs": [
    {
     "data": {
      "text/plain": "<IPython.core.display.Markdown object>",
      "text/markdown": "Counts of stratified cases"
     },
     "execution_count": 245,
     "metadata": {},
     "output_type": "execute_result"
    }
   ],
   "source": [
    "md(f\"Counts of stratified cases\")"
   ]
  },
  {
   "cell_type": "code",
   "execution_count": 246,
   "metadata": {
    "collapsed": false,
    "jupyter": {
     "outputs_hidden": false
    },
    "pycharm": {
     "name": "#%%\n"
    }
   },
   "outputs": [
    {
     "data": {
      "text/plain": "RENAL_D_PRESENT  False  True \nDeath                        \nFalse              252     91\nTrue                96     75",
      "text/html": "<div>\n<style scoped>\n    .dataframe tbody tr th:only-of-type {\n        vertical-align: middle;\n    }\n\n    .dataframe tbody tr th {\n        vertical-align: top;\n    }\n\n    .dataframe thead th {\n        text-align: right;\n    }\n</style>\n<table border=\"1\" class=\"dataframe\">\n  <thead>\n    <tr style=\"text-align: right;\">\n      <th>RENAL_D_PRESENT</th>\n      <th>False</th>\n      <th>True</th>\n    </tr>\n    <tr>\n      <th>Death</th>\n      <th></th>\n      <th></th>\n    </tr>\n  </thead>\n  <tbody>\n    <tr>\n      <th>False</th>\n      <td>252</td>\n      <td>91</td>\n    </tr>\n    <tr>\n      <th>True</th>\n      <td>96</td>\n      <td>75</td>\n    </tr>\n  </tbody>\n</table>\n</div>"
     },
     "execution_count": 246,
     "metadata": {},
     "output_type": "execute_result"
    }
   ],
   "source": [
    "# crosstabRenalDeath = pd.crosstab(dfRes3['Death'],dfRes3['RENAL_D_PRESENT'],margins=True,margins_name='Total')\n",
    "crosstabRenalDeath = pd.crosstab(dfRes['Death'],dfRes['RENAL_D_PRESENT'])\n",
    "crosstabRenalDeath\n"
   ]
  },
  {
   "cell_type": "code",
   "execution_count": 247,
   "outputs": [
    {
     "data": {
      "text/plain": "RENAL_D_PRESENT  False  True  All\nDeath                            \nFalse              252    91  343\nTrue                96    75  171\nAll                348   166  514",
      "text/html": "<div>\n<style scoped>\n    .dataframe tbody tr th:only-of-type {\n        vertical-align: middle;\n    }\n\n    .dataframe tbody tr th {\n        vertical-align: top;\n    }\n\n    .dataframe thead th {\n        text-align: right;\n    }\n</style>\n<table border=\"1\" class=\"dataframe\">\n  <thead>\n    <tr style=\"text-align: right;\">\n      <th>RENAL_D_PRESENT</th>\n      <th>False</th>\n      <th>True</th>\n      <th>All</th>\n    </tr>\n    <tr>\n      <th>Death</th>\n      <th></th>\n      <th></th>\n      <th></th>\n    </tr>\n  </thead>\n  <tbody>\n    <tr>\n      <th>False</th>\n      <td>252</td>\n      <td>91</td>\n      <td>343</td>\n    </tr>\n    <tr>\n      <th>True</th>\n      <td>96</td>\n      <td>75</td>\n      <td>171</td>\n    </tr>\n    <tr>\n      <th>All</th>\n      <td>348</td>\n      <td>166</td>\n      <td>514</td>\n    </tr>\n  </tbody>\n</table>\n</div>"
     },
     "execution_count": 247,
     "metadata": {},
     "output_type": "execute_result"
    }
   ],
   "source": [
    "crosstabRenalDeath2 = pd.crosstab(dfRes['Death'],dfRes['RENAL_D_PRESENT'],margins=True)\n",
    "crosstabRenalDeath2\n",
    "\n"
   ],
   "metadata": {
    "collapsed": false,
    "pycharm": {
     "name": "#%%\n"
    }
   }
  },
  {
   "cell_type": "code",
   "execution_count": 247,
   "outputs": [],
   "source": [],
   "metadata": {
    "collapsed": false,
    "pycharm": {
     "name": "#%%\n"
    }
   }
  },
  {
   "cell_type": "code",
   "execution_count": 248,
   "metadata": {
    "collapsed": false,
    "jupyter": {
     "outputs_hidden": false
    },
    "pycharm": {
     "name": "#%%\n"
    }
   },
   "outputs": [
    {
     "data": {
      "text/plain": "RENAL_D_PRESENT     False      True       All\nDeath                                        \nFalse            0.490272  0.177043  0.667315\nTrue             0.186770  0.145914  0.332685\nAll              0.677043  0.322957  1.000000",
      "text/html": "<div>\n<style scoped>\n    .dataframe tbody tr th:only-of-type {\n        vertical-align: middle;\n    }\n\n    .dataframe tbody tr th {\n        vertical-align: top;\n    }\n\n    .dataframe thead th {\n        text-align: right;\n    }\n</style>\n<table border=\"1\" class=\"dataframe\">\n  <thead>\n    <tr style=\"text-align: right;\">\n      <th>RENAL_D_PRESENT</th>\n      <th>False</th>\n      <th>True</th>\n      <th>All</th>\n    </tr>\n    <tr>\n      <th>Death</th>\n      <th></th>\n      <th></th>\n      <th></th>\n    </tr>\n  </thead>\n  <tbody>\n    <tr>\n      <th>False</th>\n      <td>0.490272</td>\n      <td>0.177043</td>\n      <td>0.667315</td>\n    </tr>\n    <tr>\n      <th>True</th>\n      <td>0.186770</td>\n      <td>0.145914</td>\n      <td>0.332685</td>\n    </tr>\n    <tr>\n      <th>All</th>\n      <td>0.677043</td>\n      <td>0.322957</td>\n      <td>1.000000</td>\n    </tr>\n  </tbody>\n</table>\n</div>"
     },
     "execution_count": 248,
     "metadata": {},
     "output_type": "execute_result"
    }
   ],
   "source": [
    "crosstabRenalDeathNorm = pd.crosstab(dfRes['Death'],dfRes['RENAL_D_PRESENT'],normalize=True,margins=True)\n",
    "crosstabRenalDeathNorm"
   ]
  },
  {
   "cell_type": "code",
   "execution_count": 249,
   "metadata": {
    "collapsed": false,
    "jupyter": {
     "outputs_hidden": false
    },
    "pycharm": {
     "name": "#%%\n"
    }
   },
   "outputs": [
    {
     "data": {
      "text/plain": "Index([False, True], dtype='object', name='Death')"
     },
     "execution_count": 249,
     "metadata": {},
     "output_type": "execute_result"
    }
   ],
   "source": [
    "crosstabRenalDeath.index"
   ]
  },
  {
   "cell_type": "code",
   "execution_count": 250,
   "metadata": {
    "collapsed": false,
    "jupyter": {
     "outputs_hidden": false
    },
    "pycharm": {
     "name": "#%%\n"
    }
   },
   "outputs": [
    {
     "data": {
      "text/plain": "Index([False, True], dtype='object', name='RENAL_D_PRESENT')"
     },
     "execution_count": 250,
     "metadata": {},
     "output_type": "execute_result"
    }
   ],
   "source": [
    "crosstabRenalDeath.columns"
   ]
  },
  {
   "cell_type": "code",
   "execution_count": 251,
   "metadata": {
    "collapsed": false,
    "jupyter": {
     "outputs_hidden": false
    },
    "pycharm": {
     "name": "#%%\n"
    }
   },
   "outputs": [
    {
     "data": {
      "text/plain": "RENAL_D_PRESENT  False  True \nDeath                        \nFalse              252     91\nTrue                96     75",
      "text/html": "<div>\n<style scoped>\n    .dataframe tbody tr th:only-of-type {\n        vertical-align: middle;\n    }\n\n    .dataframe tbody tr th {\n        vertical-align: top;\n    }\n\n    .dataframe thead th {\n        text-align: right;\n    }\n</style>\n<table border=\"1\" class=\"dataframe\">\n  <thead>\n    <tr style=\"text-align: right;\">\n      <th>RENAL_D_PRESENT</th>\n      <th>False</th>\n      <th>True</th>\n    </tr>\n    <tr>\n      <th>Death</th>\n      <th></th>\n      <th></th>\n    </tr>\n  </thead>\n  <tbody>\n    <tr>\n      <th>False</th>\n      <td>252</td>\n      <td>91</td>\n    </tr>\n    <tr>\n      <th>True</th>\n      <td>96</td>\n      <td>75</td>\n    </tr>\n  </tbody>\n</table>\n</div>"
     },
     "execution_count": 251,
     "metadata": {},
     "output_type": "execute_result"
    }
   ],
   "source": [
    "crosstabRenalDeath.reset_index()\n",
    "crosstabRenalDeath"
   ]
  },
  {
   "cell_type": "code",
   "execution_count": 252,
   "metadata": {
    "collapsed": false,
    "jupyter": {
     "outputs_hidden": false
    },
    "pycharm": {
     "name": "#%%\n"
    }
   },
   "outputs": [],
   "source": [
    "# crosstabRenalDeath.loc['RENAL_D_PRESENT']"
   ]
  },
  {
   "cell_type": "markdown",
   "metadata": {
    "pycharm": {
     "name": "#%% md\n"
    }
   },
   "source": [
    "## Chi2 test on significance of renal disease for death outcome.\n"
   ]
  },
  {
   "cell_type": "code",
   "execution_count": 253,
   "metadata": {
    "collapsed": false,
    "jupyter": {
     "outputs_hidden": false
    },
    "pycharm": {
     "name": "#%%\n"
    }
   },
   "outputs": [
    {
     "name": "stdout",
     "output_type": "stream",
     "text": [
      "stat = 14.88914922319227\n",
      "p = 0.00011401693102745145\n",
      "dof = 1\n",
      "expected = [[232.22568093 110.77431907]\n",
      " [115.77431907  55.22568093]]\n"
     ]
    },
    {
     "data": {
      "text/plain": "<IPython.core.display.Markdown object>",
      "text/markdown": "Since p=0.0001<0.05, based on Chi2 test we can reject hypothesis that death as outcome does not depend on the presence of a renal disease."
     },
     "execution_count": 253,
     "metadata": {},
     "output_type": "execute_result"
    }
   ],
   "source": [
    "from scipy.stats import chi2_contingency\n",
    "\n",
    "# defining the table\n",
    "# data = [crosstabRenalDeath.loc['False',:].values().reshape(1,-1), [234, 242, 232]]\n",
    "stat, p, dof, expected = chi2_contingency(crosstabRenalDeath)\n",
    "print(f\"stat = {stat}\")\n",
    "print(f\"p = {p}\")\n",
    "print(f\"dof = {dof}\")\n",
    "print(f\"expected = {expected}\")\n",
    "md(f\"Since p={p:.1g}<0.05, based on Chi2 test we can reject hypothesis that death as outcome does not depend on the presence of a renal disease.\")"
   ]
  },
  {
   "cell_type": "markdown",
   "metadata": {
    "pycharm": {
     "name": "#%% md\n"
    }
   },
   "source": [
    "## Power of evidence"
   ]
  },
  {
   "cell_type": "code",
   "execution_count": 254,
   "metadata": {
    "collapsed": false,
    "jupyter": {
     "outputs_hidden": false
    },
    "pycharm": {
     "name": "#%%\n"
    }
   },
   "outputs": [
    {
     "data": {
      "text/plain": "RENAL_D_PRESENT     False      True       All\nDeath                                        \nFalse            0.490272  0.177043  0.667315\nTrue             0.186770  0.145914  0.332685\nAll              0.677043  0.322957  1.000000",
      "text/html": "<div>\n<style scoped>\n    .dataframe tbody tr th:only-of-type {\n        vertical-align: middle;\n    }\n\n    .dataframe tbody tr th {\n        vertical-align: top;\n    }\n\n    .dataframe thead th {\n        text-align: right;\n    }\n</style>\n<table border=\"1\" class=\"dataframe\">\n  <thead>\n    <tr style=\"text-align: right;\">\n      <th>RENAL_D_PRESENT</th>\n      <th>False</th>\n      <th>True</th>\n      <th>All</th>\n    </tr>\n    <tr>\n      <th>Death</th>\n      <th></th>\n      <th></th>\n      <th></th>\n    </tr>\n  </thead>\n  <tbody>\n    <tr>\n      <th>False</th>\n      <td>0.490272</td>\n      <td>0.177043</td>\n      <td>0.667315</td>\n    </tr>\n    <tr>\n      <th>True</th>\n      <td>0.186770</td>\n      <td>0.145914</td>\n      <td>0.332685</td>\n    </tr>\n    <tr>\n      <th>All</th>\n      <td>0.677043</td>\n      <td>0.322957</td>\n      <td>1.000000</td>\n    </tr>\n  </tbody>\n</table>\n</div>"
     },
     "execution_count": 254,
     "metadata": {},
     "output_type": "execute_result"
    }
   ],
   "source": [
    "crosstabRenalDeathNorm"
   ]
  },
  {
   "cell_type": "code",
   "execution_count": 255,
   "metadata": {
    "collapsed": false,
    "jupyter": {
     "outputs_hidden": false
    },
    "pycharm": {
     "name": "#%%\n"
    }
   },
   "outputs": [
    {
     "data": {
      "text/plain": "<IPython.core.display.Markdown object>",
      "text/markdown": " Conditional probabilities"
     },
     "execution_count": 255,
     "metadata": {},
     "output_type": "execute_result"
    }
   ],
   "source": [
    "md(f\" Conditional probabilities\")"
   ]
  },
  {
   "cell_type": "code",
   "execution_count": 256,
   "metadata": {
    "collapsed": false,
    "jupyter": {
     "outputs_hidden": false
    },
    "pycharm": {
     "name": "#%%\n"
    }
   },
   "outputs": [
    {
     "data": {
      "text/plain": "RENAL_D_PRESENT  False  True \nDeath                        \nFalse              252     91\nTrue                96     75",
      "text/html": "<div>\n<style scoped>\n    .dataframe tbody tr th:only-of-type {\n        vertical-align: middle;\n    }\n\n    .dataframe tbody tr th {\n        vertical-align: top;\n    }\n\n    .dataframe thead th {\n        text-align: right;\n    }\n</style>\n<table border=\"1\" class=\"dataframe\">\n  <thead>\n    <tr style=\"text-align: right;\">\n      <th>RENAL_D_PRESENT</th>\n      <th>False</th>\n      <th>True</th>\n    </tr>\n    <tr>\n      <th>Death</th>\n      <th></th>\n      <th></th>\n    </tr>\n  </thead>\n  <tbody>\n    <tr>\n      <th>False</th>\n      <td>252</td>\n      <td>91</td>\n    </tr>\n    <tr>\n      <th>True</th>\n      <td>96</td>\n      <td>75</td>\n    </tr>\n  </tbody>\n</table>\n</div>"
     },
     "execution_count": 256,
     "metadata": {},
     "output_type": "execute_result"
    }
   ],
   "source": [
    "crosstabRenalDeath\n"
   ]
  },
  {
   "cell_type": "code",
   "execution_count": 257,
   "metadata": {
    "collapsed": false,
    "jupyter": {
     "outputs_hidden": false
    },
    "pycharm": {
     "name": "#%%\n"
    }
   },
   "outputs": [],
   "source": [
    "idx=pd.IndexSlice\n",
    "R_T = crosstabRenalDeath.loc[:,idx[True]].sum()"
   ]
  },
  {
   "cell_type": "code",
   "execution_count": 258,
   "metadata": {
    "collapsed": false,
    "jupyter": {
     "outputs_hidden": false
    },
    "pycharm": {
     "name": "#%%\n"
    }
   },
   "outputs": [
    {
     "data": {
      "text/plain": "RENAL_D_PRESENT     False      True       All\nDeath                                        \nFalse            0.490272  0.177043  0.667315\nTrue             0.186770  0.145914  0.332685\nAll              0.677043  0.322957  1.000000",
      "text/html": "<div>\n<style scoped>\n    .dataframe tbody tr th:only-of-type {\n        vertical-align: middle;\n    }\n\n    .dataframe tbody tr th {\n        vertical-align: top;\n    }\n\n    .dataframe thead th {\n        text-align: right;\n    }\n</style>\n<table border=\"1\" class=\"dataframe\">\n  <thead>\n    <tr style=\"text-align: right;\">\n      <th>RENAL_D_PRESENT</th>\n      <th>False</th>\n      <th>True</th>\n      <th>All</th>\n    </tr>\n    <tr>\n      <th>Death</th>\n      <th></th>\n      <th></th>\n      <th></th>\n    </tr>\n  </thead>\n  <tbody>\n    <tr>\n      <th>False</th>\n      <td>0.490272</td>\n      <td>0.177043</td>\n      <td>0.667315</td>\n    </tr>\n    <tr>\n      <th>True</th>\n      <td>0.186770</td>\n      <td>0.145914</td>\n      <td>0.332685</td>\n    </tr>\n    <tr>\n      <th>All</th>\n      <td>0.677043</td>\n      <td>0.322957</td>\n      <td>1.000000</td>\n    </tr>\n  </tbody>\n</table>\n</div>"
     },
     "execution_count": 258,
     "metadata": {},
     "output_type": "execute_result"
    }
   ],
   "source": [
    "crosstabRenalDeathNorm"
   ]
  },
  {
   "cell_type": "code",
   "execution_count": 259,
   "metadata": {
    "collapsed": false,
    "jupyter": {
     "outputs_hidden": false
    },
    "pycharm": {
     "name": "#%%\n"
    }
   },
   "outputs": [
    {
     "name": "stdout",
     "output_type": "stream",
     "text": [
      "PRT=0.3229571984435798 PRF = 0.6770428015564203 \n",
      "PDTGRT=0.45180722891566266 PDFGRT=0.5481927710843373\n",
      "WoERFGD=0.7641325536062378\n",
      "PRT=0.3229571984435798 PRF = 0.6770428015564203 \n",
      "PDTGRF=0.27586206896551735 PDFGRT=0.7241379310344827\n",
      "WoERTGD=1.6531713900134957\n"
     ]
    }
   ],
   "source": [
    "R_T\n",
    "P_R_T = crosstabRenalDeathNorm.loc['All',True]\n",
    "P_D_T = crosstabRenalDeathNorm.loc[True,'All']\n",
    "P_R_F = crosstabRenalDeathNorm.loc['All',False]\n",
    "P_D_F = crosstabRenalDeathNorm.loc[False,'All']\n",
    "PDTGRT = crosstabRenalDeathNorm.loc[True,True]/P_R_T\n",
    "PDFGRT = 1-PDTGRT\n",
    "# ********************************\n",
    "PDFGRF = crosstabRenalDeathNorm.loc[False,False]/P_R_F\n",
    "PDTGRF = 1-PDFGRF\n",
    "# **********\n",
    "PRTGDT =  crosstabRenalDeathNorm.loc[True,True]/P_D_T\n",
    "PRFGDT = 1-PRTGDT\n",
    "PRFGDF = crosstabRenalDeathNorm.loc[False,False]/P_D_F\n",
    "PRTGDF = 1-PRFGDF\n",
    "WoERTGD = PRTGDT/PRTGDF\n",
    "WoERFGD = PRFGDT/PRFGDF\n",
    "# ********************************\n",
    "print(f\"PRT={P_R_T} PRF = {P_R_F} \")\n",
    "print(f\"PDTGRT={PDTGRT} PDFGRT={PDFGRT}\")\n",
    "print(f\"WoERFGD={WoERFGD}\")\n",
    "# ********************************\n",
    "print(f\"PRT={P_R_T} PRF = {P_R_F} \")\n",
    "print(f\"PDTGRF={PDTGRF} PDFGRT={PDFGRF}\")\n",
    "print(f\"WoERTGD={WoERTGD}\")"
   ]
  },
  {
   "cell_type": "markdown",
   "metadata": {
    "pycharm": {
     "name": "#%% md\n"
    }
   },
   "source": [
    "# Value of information (WoE)\n",
    "The more is WoE different from 0 the more informative is renal disease for prediction of death, while positive value means support for selected result and negative value means the support of other result by evidence.\n",
    "\n",
    "\n",
    "\n",
    "$$WoE(Evidence|Target) =100*log_{10}\\Bigg  (\\frac{P(Evidence|Target)}{P(Evidence|\\neg Target)}\\Bigg)$$\n",
    "\n",
    "$$WoE(\\neg Evidence|Target) =100*log_{10}\\Bigg(\\frac{P(\\neg Evidence|Target)}{P(\\neg Evidence|\\neg Target)}\\Bigg)$$\n",
    "\n",
    "$$WoE \\in (-\\infty,\\infty )$$$\n"
   ]
  },
  {
   "cell_type": "code",
   "execution_count": 260,
   "metadata": {
    "collapsed": false,
    "jupyter": {
     "outputs_hidden": false
    },
    "pycharm": {
     "name": "#%%\n"
    }
   },
   "outputs": [
    {
     "data": {
      "text/plain": "<IPython.core.display.Markdown object>",
      "text/markdown": "Weight of Evidence, WoE(Renal_disease=Absent|Death) = -11.683129809135904"
     },
     "execution_count": 260,
     "metadata": {},
     "output_type": "execute_result"
    }
   ],
   "source": [
    "md(f\"Weight of Evidence, WoE(Renal_disease=Absent|Death) = {100*np.log10(WoERFGD)}\")"
   ]
  },
  {
   "cell_type": "code",
   "execution_count": 261,
   "metadata": {},
   "outputs": [
    {
     "data": {
      "text/plain": "<IPython.core.display.Markdown object>",
      "text/markdown": "Weight of Evidence, WoE(Renal_disease=Present|Death) = 21.831788072122322"
     },
     "execution_count": 261,
     "metadata": {},
     "output_type": "execute_result"
    }
   ],
   "source": [
    "md(f\"Weight of Evidence, WoE(Renal_disease=Present|Death) = {100*np.log10(WoERTGD)}\")"
   ]
  },
  {
   "cell_type": "code",
   "execution_count": 262,
   "metadata": {
    "collapsed": false,
    "jupyter": {
     "outputs_hidden": false
    },
    "pycharm": {
     "name": "#%%\n"
    }
   },
   "outputs": [
    {
     "data": {
      "text/plain": "Death\nFalse    252\nTrue      96\ndtype: int64"
     },
     "execution_count": 262,
     "metadata": {},
     "output_type": "execute_result"
    }
   ],
   "source": [
    "RENAL_D_PRESENT = False\n",
    "crosstabRenalDeath.loc[:,idx[RENAL_D_PRESENT]]"
   ]
  },
  {
   "cell_type": "code",
   "execution_count": 263,
   "metadata": {
    "collapsed": false,
    "jupyter": {
     "outputs_hidden": false
    },
    "pycharm": {
     "name": "#%%\n"
    }
   },
   "outputs": [
    {
     "data": {
      "text/plain": "252"
     },
     "execution_count": 263,
     "metadata": {},
     "output_type": "execute_result"
    }
   ],
   "source": [
    "Died=False\n",
    "crosstabRenalDeath.loc[Died,idx[RENAL_D_PRESENT]]\n"
   ]
  },
  {
   "cell_type": "code",
   "execution_count": 264,
   "metadata": {
    "collapsed": false,
    "jupyter": {
     "outputs_hidden": false
    },
    "pycharm": {
     "name": "#%%\n"
    }
   },
   "outputs": [
    {
     "data": {
      "text/plain": "252"
     },
     "execution_count": 264,
     "metadata": {},
     "output_type": "execute_result"
    }
   ],
   "source": [
    "crosstabRenalDeath.loc[False,idx[False]]\n"
   ]
  },
  {
   "cell_type": "code",
   "execution_count": 264,
   "outputs": [],
   "source": [],
   "metadata": {
    "collapsed": false,
    "pycharm": {
     "name": "#%%\n"
    }
   }
  },
  {
   "cell_type": "code",
   "execution_count": 264,
   "outputs": [],
   "source": [],
   "metadata": {
    "collapsed": false,
    "pycharm": {
     "name": "#%%\n"
    }
   }
  },
  {
   "cell_type": "code",
   "execution_count": 264,
   "outputs": [],
   "source": [
    "\n"
   ],
   "metadata": {
    "collapsed": false,
    "pycharm": {
     "name": "#%%\n"
    }
   }
  }
 ],
 "metadata": {
  "kernelspec": {
   "display_name": "PyCharm (BN4Nephrology)",
   "language": "python",
   "name": "pycharm-b7c5592"
  },
  "language_info": {
   "codemirror_mode": {
    "name": "ipython",
    "version": 3
   },
   "file_extension": ".py",
   "mimetype": "text/x-python",
   "name": "python",
   "nbconvert_exporter": "python",
   "pygments_lexer": "ipython3",
   "version": "3.7.6"
  }
 },
 "nbformat": 4,
 "nbformat_minor": 4
}