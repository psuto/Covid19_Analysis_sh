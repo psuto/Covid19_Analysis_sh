{
 "cells": [
  {
   "cell_type": "code",
   "execution_count": 201,
   "outputs": [],
   "source": [
    "import numpy as np\n",
    "import pandas as pd\n",
    "import pathlib as pa\n",
    "import seaborn as sb\n",
    "import matplotlib.pyplot as plt\n",
    "import pathlib\n",
    "from pathlib import Path\n",
    "from datetime import datetime\n",
    "from IPython.display import Markdown as md\n",
    "from IPython.display import Math as m\n",
    "import woe_iv_inf_gain as iv\n",
    "from woe_iv_inf_gain import calc_woe_iv_100log10\n"
   ],
   "metadata": {
    "collapsed": false,
    "pycharm": {
     "name": "#%%\n"
    }
   }
  },
  {
   "cell_type": "code",
   "execution_count": 202,
   "outputs": [],
   "source": [
    "%matplotlib inline"
   ],
   "metadata": {
    "collapsed": false,
    "pycharm": {
     "name": "#%%\n"
    }
   }
  },
  {
   "cell_type": "code",
   "execution_count": 203,
   "outputs": [],
   "source": [
    "def extractParentDir(dataFileName):\n",
    "    purePath = pathlib.PurePath(dataFileName)\n",
    "    parentDir2 = purePath.parent.parent\n",
    "    return parentDir2"
   ],
   "metadata": {
    "collapsed": false,
    "pycharm": {
     "name": "#%%\n"
    }
   }
  },
  {
   "cell_type": "code",
   "execution_count": 204,
   "outputs": [],
   "source": [
    "todayVal = datetime.today()\n",
    "timeStampStr = todayVal.strftime(\"%y-%m-%d_%H-%M-%S.%f\")\n",
    "data_dir = r\"C:\\work\\dev\\dECMT_src\\data_all\\COVID19_Data\\Current\"\n",
    "parentDir2 = extractParentDir(data_dir)\n",
    "outputPath = Path(parentDir2) / \"Output_Covid19_Analysis\"/f\"{timeStampStr}_bipartite\""
   ],
   "metadata": {
    "collapsed": false,
    "pycharm": {
     "name": "#%%\n"
    }
   }
  },
  {
   "cell_type": "markdown",
   "source": [
    "# Renal Disease\n"
   ],
   "metadata": {
    "collapsed": false
   }
  },
  {
   "cell_type": "code",
   "execution_count": 205,
   "outputs": [],
   "source": [
    "comorbidFN = pa.Path(data_dir) / \"REACT_Comorbidities_unpivoted.csv\"\n",
    "comorbidDF:pd.DataFrame = pd.read_csv(comorbidFN)"
   ],
   "metadata": {
    "collapsed": false,
    "pycharm": {
     "name": "#%%\n"
    }
   }
  },
  {
   "cell_type": "code",
   "execution_count": 205,
   "outputs": [],
   "source": [],
   "metadata": {
    "collapsed": false,
    "pycharm": {
     "name": "#%%\n"
    }
   }
  },
  {
   "cell_type": "code",
   "execution_count": 206,
   "outputs": [
    {
     "data": {
      "text/plain": "array(['COPD', 'ASTHMA', 'ILD', 'HYPERTENSION', 'THROMBOEMBOLIC',\n       'CARDIAC_D', 'RENAL_D', 'LIVER_D', 'NEURAL_D', 'META_SOLID_TUMOUR',\n       'MAGLINANT_NEO', 'DIABETES', 'OBESITY', 'HIV', 'RHEUMATO_D',\n       'DIMENTIA', 'IMMUNO'], dtype=object)"
     },
     "execution_count": 206,
     "metadata": {},
     "output_type": "execute_result"
    }
   ],
   "source": [
    "comorbidDF['COMORBIDITY'].unique()\n",
    "# array(['COPD', 'ASTHMA', 'ILD', 'HYPERTENSION', 'THROMBOEMBOLIC',\n",
    "#        'CARDIAC_D', 'RENAL_D', 'LIVER_D', 'NEURAL_D', 'META_SOLID_TUMOUR',\n",
    "#        'MAGLINANT_NEO', 'DIABETES', 'OBESITY', 'HIV', 'RHEUMATO_D',\n",
    "#        'DIMENTIA', 'IMMUNO'], dtype=object)\n"
   ],
   "metadata": {
    "collapsed": false,
    "pycharm": {
     "name": "#%%\n"
    }
   }
  },
  {
   "cell_type": "code",
   "execution_count": 207,
   "outputs": [
    {
     "data": {
      "text/plain": "            STUDY_ID COMORBIDITY  STATUS  RENAL_D_PRESENT\n0  UHSCOVID_00989a42        COPD       1            False\n1  UHSCOVID_0520de1c        COPD       1            False\n2  UHSCOVID_0744a86c        COPD       1            False\n3  UHSCOVID_0874d194        COPD       1            False\n4  UHSCOVID_0b401459        COPD       1            False",
      "text/html": "<div>\n<style scoped>\n    .dataframe tbody tr th:only-of-type {\n        vertical-align: middle;\n    }\n\n    .dataframe tbody tr th {\n        vertical-align: top;\n    }\n\n    .dataframe thead th {\n        text-align: right;\n    }\n</style>\n<table border=\"1\" class=\"dataframe\">\n  <thead>\n    <tr style=\"text-align: right;\">\n      <th></th>\n      <th>STUDY_ID</th>\n      <th>COMORBIDITY</th>\n      <th>STATUS</th>\n      <th>RENAL_D_PRESENT</th>\n    </tr>\n  </thead>\n  <tbody>\n    <tr>\n      <th>0</th>\n      <td>UHSCOVID_00989a42</td>\n      <td>COPD</td>\n      <td>1</td>\n      <td>False</td>\n    </tr>\n    <tr>\n      <th>1</th>\n      <td>UHSCOVID_0520de1c</td>\n      <td>COPD</td>\n      <td>1</td>\n      <td>False</td>\n    </tr>\n    <tr>\n      <th>2</th>\n      <td>UHSCOVID_0744a86c</td>\n      <td>COPD</td>\n      <td>1</td>\n      <td>False</td>\n    </tr>\n    <tr>\n      <th>3</th>\n      <td>UHSCOVID_0874d194</td>\n      <td>COPD</td>\n      <td>1</td>\n      <td>False</td>\n    </tr>\n    <tr>\n      <th>4</th>\n      <td>UHSCOVID_0b401459</td>\n      <td>COPD</td>\n      <td>1</td>\n      <td>False</td>\n    </tr>\n  </tbody>\n</table>\n</div>"
     },
     "execution_count": 207,
     "metadata": {},
     "output_type": "execute_result"
    }
   ],
   "source": [
    "comorbidDF['RENAL_D_PRESENT'] = (comorbidDF['COMORBIDITY'] == 'RENAL_D')\n",
    "comorbidDF.head()"
   ],
   "metadata": {
    "collapsed": false,
    "pycharm": {
     "name": "#%%\n"
    }
   }
  },
  {
   "cell_type": "code",
   "execution_count": 208,
   "outputs": [
    {
     "data": {
      "text/plain": "array([False,  True])"
     },
     "execution_count": 208,
     "metadata": {},
     "output_type": "execute_result"
    }
   ],
   "source": [
    "comorbidDF['RENAL_D_PRESENT'].unique()\n"
   ],
   "metadata": {
    "collapsed": false,
    "pycharm": {
     "name": "#%%\n"
    }
   }
  },
  {
   "cell_type": "code",
   "execution_count": 209,
   "outputs": [
    {
     "data": {
      "text/plain": "                   RENAL_D_PRESENT\nSTUDY_ID                          \nUHSCOVID_00989a42            False\nUHSCOVID_00ac1e32            False\nUHSCOVID_00cb7bdd            False\nUHSCOVID_01add35c            False\nUHSCOVID_01f7838d             True",
      "text/html": "<div>\n<style scoped>\n    .dataframe tbody tr th:only-of-type {\n        vertical-align: middle;\n    }\n\n    .dataframe tbody tr th {\n        vertical-align: top;\n    }\n\n    .dataframe thead th {\n        text-align: right;\n    }\n</style>\n<table border=\"1\" class=\"dataframe\">\n  <thead>\n    <tr style=\"text-align: right;\">\n      <th></th>\n      <th>RENAL_D_PRESENT</th>\n    </tr>\n    <tr>\n      <th>STUDY_ID</th>\n      <th></th>\n    </tr>\n  </thead>\n  <tbody>\n    <tr>\n      <th>UHSCOVID_00989a42</th>\n      <td>False</td>\n    </tr>\n    <tr>\n      <th>UHSCOVID_00ac1e32</th>\n      <td>False</td>\n    </tr>\n    <tr>\n      <th>UHSCOVID_00cb7bdd</th>\n      <td>False</td>\n    </tr>\n    <tr>\n      <th>UHSCOVID_01add35c</th>\n      <td>False</td>\n    </tr>\n    <tr>\n      <th>UHSCOVID_01f7838d</th>\n      <td>True</td>\n    </tr>\n  </tbody>\n</table>\n</div>"
     },
     "execution_count": 209,
     "metadata": {},
     "output_type": "execute_result"
    }
   ],
   "source": [
    "comorbidGrpDF = comorbidDF.groupby('STUDY_ID').agg(RENAL_D_PRESENT=('RENAL_D_PRESENT','any'))\n",
    "comorbidGrpDF.head()\n",
    "\n"
   ],
   "metadata": {
    "collapsed": false,
    "pycharm": {
     "name": "#%%\n"
    }
   }
  },
  {
   "cell_type": "code",
   "execution_count": 209,
   "outputs": [],
   "source": [],
   "metadata": {
    "collapsed": false,
    "pycharm": {
     "name": "#%%\n"
    }
   }
  },
  {
   "cell_type": "markdown",
   "source": [
    "# Died"
   ],
   "metadata": {
    "collapsed": false
   }
  },
  {
   "cell_type": "code",
   "execution_count": 210,
   "outputs": [],
   "source": [
    "\n",
    "demogFN = pa.Path(data_dir) / \"REACT_Demographics.csv\"\n"
   ],
   "metadata": {
    "collapsed": false,
    "pycharm": {
     "name": "#%%\n"
    }
   }
  },
  {
   "cell_type": "code",
   "execution_count": 211,
   "outputs": [],
   "source": [
    "demogDF:pd.DataFrame = pd.read_csv(demogFN)\n",
    "\n",
    "# **************************\n",
    "lab_results_df = pd.read_csv(pa.Path(data_dir) / 'REACT_LabResults.csv')\n",
    "# pharmacy_data_df = pd.read_csv(p.Path(data_dir) / 'REACT_PharmacyData.csv')\n",
    "covid_test_df = pd.read_csv(pa.Path(data_dir) / 'REACT_UHSCOVIDTest_processed.csv')\n"
   ],
   "metadata": {
    "collapsed": false,
    "pycharm": {
     "name": "#%%\n"
    }
   }
  },
  {
   "cell_type": "code",
   "execution_count": 212,
   "outputs": [
    {
     "data": {
      "text/plain": "       PATIENT_AGE      GENDER  IS_PREGNANT        HEIG        WEIG  \\\ncount   614.000000  614.000000   614.000000  277.000000  593.000000   \nmean     67.929967    1.571661     0.009772  167.709531   75.407437   \nstd      19.635836    0.495241     0.098449   14.785532   21.033713   \nmin       0.000000    1.000000     0.000000   66.000000    0.000000   \n25%      55.250000    1.000000     0.000000  160.000000   62.700000   \n50%      72.000000    2.000000     0.000000  168.000000   75.000000   \n75%      83.000000    2.000000     0.000000  177.800000   86.000000   \nmax     103.000000    2.000000     1.000000  198.000000  192.000000   \n\n              BMI         LOS  LOS_PREPOS  \ncount  271.000000  614.000000  614.000000  \nmean    26.277343   15.838322    3.847264  \nstd      5.907941   17.310716    9.651141  \nmin     12.860000    0.000000   -0.370000  \n25%     22.255000    4.622500   -0.080000  \n50%     25.510000   10.095000    0.010000  \n75%     29.895000   21.827500    3.705000  \nmax     50.560000  173.580000  127.140000  ",
      "text/html": "<div>\n<style scoped>\n    .dataframe tbody tr th:only-of-type {\n        vertical-align: middle;\n    }\n\n    .dataframe tbody tr th {\n        vertical-align: top;\n    }\n\n    .dataframe thead th {\n        text-align: right;\n    }\n</style>\n<table border=\"1\" class=\"dataframe\">\n  <thead>\n    <tr style=\"text-align: right;\">\n      <th></th>\n      <th>PATIENT_AGE</th>\n      <th>GENDER</th>\n      <th>IS_PREGNANT</th>\n      <th>HEIG</th>\n      <th>WEIG</th>\n      <th>BMI</th>\n      <th>LOS</th>\n      <th>LOS_PREPOS</th>\n    </tr>\n  </thead>\n  <tbody>\n    <tr>\n      <th>count</th>\n      <td>614.000000</td>\n      <td>614.000000</td>\n      <td>614.000000</td>\n      <td>277.000000</td>\n      <td>593.000000</td>\n      <td>271.000000</td>\n      <td>614.000000</td>\n      <td>614.000000</td>\n    </tr>\n    <tr>\n      <th>mean</th>\n      <td>67.929967</td>\n      <td>1.571661</td>\n      <td>0.009772</td>\n      <td>167.709531</td>\n      <td>75.407437</td>\n      <td>26.277343</td>\n      <td>15.838322</td>\n      <td>3.847264</td>\n    </tr>\n    <tr>\n      <th>std</th>\n      <td>19.635836</td>\n      <td>0.495241</td>\n      <td>0.098449</td>\n      <td>14.785532</td>\n      <td>21.033713</td>\n      <td>5.907941</td>\n      <td>17.310716</td>\n      <td>9.651141</td>\n    </tr>\n    <tr>\n      <th>min</th>\n      <td>0.000000</td>\n      <td>1.000000</td>\n      <td>0.000000</td>\n      <td>66.000000</td>\n      <td>0.000000</td>\n      <td>12.860000</td>\n      <td>0.000000</td>\n      <td>-0.370000</td>\n    </tr>\n    <tr>\n      <th>25%</th>\n      <td>55.250000</td>\n      <td>1.000000</td>\n      <td>0.000000</td>\n      <td>160.000000</td>\n      <td>62.700000</td>\n      <td>22.255000</td>\n      <td>4.622500</td>\n      <td>-0.080000</td>\n    </tr>\n    <tr>\n      <th>50%</th>\n      <td>72.000000</td>\n      <td>2.000000</td>\n      <td>0.000000</td>\n      <td>168.000000</td>\n      <td>75.000000</td>\n      <td>25.510000</td>\n      <td>10.095000</td>\n      <td>0.010000</td>\n    </tr>\n    <tr>\n      <th>75%</th>\n      <td>83.000000</td>\n      <td>2.000000</td>\n      <td>0.000000</td>\n      <td>177.800000</td>\n      <td>86.000000</td>\n      <td>29.895000</td>\n      <td>21.827500</td>\n      <td>3.705000</td>\n    </tr>\n    <tr>\n      <th>max</th>\n      <td>103.000000</td>\n      <td>2.000000</td>\n      <td>1.000000</td>\n      <td>198.000000</td>\n      <td>192.000000</td>\n      <td>50.560000</td>\n      <td>173.580000</td>\n      <td>127.140000</td>\n    </tr>\n  </tbody>\n</table>\n</div>"
     },
     "execution_count": 212,
     "metadata": {},
     "output_type": "execute_result"
    }
   ],
   "source": [
    "demogDF.describe()"
   ],
   "metadata": {
    "collapsed": false,
    "pycharm": {
     "name": "#%%\n"
    }
   }
  },
  {
   "cell_type": "code",
   "execution_count": 213,
   "outputs": [
    {
     "data": {
      "text/plain": "Index(['STUDY_ID', 'PATIENT_AGE', 'DOB', 'DATE_OF_DEATH', 'DOD_DATE', 'GENDER',\n       'ETHNIC_GROUP', 'SMOKING_HISTORY', 'POSTCODE', 'IS_PREGNANT', 'HEIG',\n       'WEIG', 'BMI', 'FIRST_POS_DATE', 'FIRST_POS_DATE_R', 'FIRST_POS_TIME_R',\n       'ADMIT_DATETIME', 'ADM_DATE_R', 'ADM_TIME_R', 'DISCHARGEDATE',\n       'DISCHARGE_DATE_R', 'DISCHARGE_TIME_R', 'LOS', 'LOS_PREPOS', 'READM28',\n       'READM_DATETIME', 'READM_DATE', 'READM_TIME'],\n      dtype='object')"
     },
     "execution_count": 213,
     "metadata": {},
     "output_type": "execute_result"
    }
   ],
   "source": [
    "demogDF.columns"
   ],
   "metadata": {
    "collapsed": false,
    "pycharm": {
     "name": "#%%\n"
    }
   }
  },
  {
   "cell_type": "code",
   "execution_count": 214,
   "outputs": [
    {
     "data": {
      "text/plain": "            STUDY_ID  PATIENT_AGE      DOB        DATE_OF_DEATH    DOD_DATE  \\\n0  UHSCOVID_00989a42         64.0  01/1956                  NaN         NaN   \n1  UHSCOVID_00ac1e32         73.0  10/1946                  NaN         NaN   \n2  UHSCOVID_00cb7bdd         76.0  03/1944  2020-04-13 00:00:00  13/04/2020   \n3  UHSCOVID_01add35c         67.0  10/1952  2020-05-27 00:00:00  27/05/2020   \n4  UHSCOVID_01f7838d         97.0  01/1923                  NaN         NaN   \n\n   GENDER ETHNIC_GROUP SMOKING_HISTORY POSTCODE  IS_PREGNANT  ...  ADM_TIME_R  \\\n0       2            A           NR|NR     SO19            0  ...    17:19:00   \n1       2            A    Ex-smoker|NR     SO21            0  ...    18:00:00   \n2       1            A           NR|NR     SO16            0  ...    17:56:00   \n3       1            A           NR|NR     SO19            0  ...    10:17:00   \n4       2            A           NR|NR     SO16            0  ...    09:00:00   \n\n         DISCHARGEDATE  DISCHARGE_DATE_R DISCHARGE_TIME_R    LOS LOS_PREPOS  \\\n0  2020-04-02 10:21:00        02/04/2020         10:21:00   6.71      -0.10   \n1  2020-05-19 12:56:00        19/05/2020         12:56:00  41.79       4.00   \n2  2020-04-13 02:15:00        13/04/2020         02:15:00   2.35      -0.04   \n3  2020-05-23 18:15:00        23/05/2020         18:15:00   1.33       0.21   \n4  2020-05-17 16:00:00        17/05/2020         16:00:00  13.29       7.13   \n\n  READM28       READM_DATETIME  READM_DATE READM_TIME  \n0       N                  NaN         NaN        NaN  \n1       N                  NaN         NaN        NaN  \n2       N                  NaN         NaN        NaN  \n3       Y  2020-05-26 09:41:00  26/05/2020   09:41:00  \n4       N                  NaN         NaN        NaN  \n\n[5 rows x 28 columns]",
      "text/html": "<div>\n<style scoped>\n    .dataframe tbody tr th:only-of-type {\n        vertical-align: middle;\n    }\n\n    .dataframe tbody tr th {\n        vertical-align: top;\n    }\n\n    .dataframe thead th {\n        text-align: right;\n    }\n</style>\n<table border=\"1\" class=\"dataframe\">\n  <thead>\n    <tr style=\"text-align: right;\">\n      <th></th>\n      <th>STUDY_ID</th>\n      <th>PATIENT_AGE</th>\n      <th>DOB</th>\n      <th>DATE_OF_DEATH</th>\n      <th>DOD_DATE</th>\n      <th>GENDER</th>\n      <th>ETHNIC_GROUP</th>\n      <th>SMOKING_HISTORY</th>\n      <th>POSTCODE</th>\n      <th>IS_PREGNANT</th>\n      <th>...</th>\n      <th>ADM_TIME_R</th>\n      <th>DISCHARGEDATE</th>\n      <th>DISCHARGE_DATE_R</th>\n      <th>DISCHARGE_TIME_R</th>\n      <th>LOS</th>\n      <th>LOS_PREPOS</th>\n      <th>READM28</th>\n      <th>READM_DATETIME</th>\n      <th>READM_DATE</th>\n      <th>READM_TIME</th>\n    </tr>\n  </thead>\n  <tbody>\n    <tr>\n      <th>0</th>\n      <td>UHSCOVID_00989a42</td>\n      <td>64.0</td>\n      <td>01/1956</td>\n      <td>NaN</td>\n      <td>NaN</td>\n      <td>2</td>\n      <td>A</td>\n      <td>NR|NR</td>\n      <td>SO19</td>\n      <td>0</td>\n      <td>...</td>\n      <td>17:19:00</td>\n      <td>2020-04-02 10:21:00</td>\n      <td>02/04/2020</td>\n      <td>10:21:00</td>\n      <td>6.71</td>\n      <td>-0.10</td>\n      <td>N</td>\n      <td>NaN</td>\n      <td>NaN</td>\n      <td>NaN</td>\n    </tr>\n    <tr>\n      <th>1</th>\n      <td>UHSCOVID_00ac1e32</td>\n      <td>73.0</td>\n      <td>10/1946</td>\n      <td>NaN</td>\n      <td>NaN</td>\n      <td>2</td>\n      <td>A</td>\n      <td>Ex-smoker|NR</td>\n      <td>SO21</td>\n      <td>0</td>\n      <td>...</td>\n      <td>18:00:00</td>\n      <td>2020-05-19 12:56:00</td>\n      <td>19/05/2020</td>\n      <td>12:56:00</td>\n      <td>41.79</td>\n      <td>4.00</td>\n      <td>N</td>\n      <td>NaN</td>\n      <td>NaN</td>\n      <td>NaN</td>\n    </tr>\n    <tr>\n      <th>2</th>\n      <td>UHSCOVID_00cb7bdd</td>\n      <td>76.0</td>\n      <td>03/1944</td>\n      <td>2020-04-13 00:00:00</td>\n      <td>13/04/2020</td>\n      <td>1</td>\n      <td>A</td>\n      <td>NR|NR</td>\n      <td>SO16</td>\n      <td>0</td>\n      <td>...</td>\n      <td>17:56:00</td>\n      <td>2020-04-13 02:15:00</td>\n      <td>13/04/2020</td>\n      <td>02:15:00</td>\n      <td>2.35</td>\n      <td>-0.04</td>\n      <td>N</td>\n      <td>NaN</td>\n      <td>NaN</td>\n      <td>NaN</td>\n    </tr>\n    <tr>\n      <th>3</th>\n      <td>UHSCOVID_01add35c</td>\n      <td>67.0</td>\n      <td>10/1952</td>\n      <td>2020-05-27 00:00:00</td>\n      <td>27/05/2020</td>\n      <td>1</td>\n      <td>A</td>\n      <td>NR|NR</td>\n      <td>SO19</td>\n      <td>0</td>\n      <td>...</td>\n      <td>10:17:00</td>\n      <td>2020-05-23 18:15:00</td>\n      <td>23/05/2020</td>\n      <td>18:15:00</td>\n      <td>1.33</td>\n      <td>0.21</td>\n      <td>Y</td>\n      <td>2020-05-26 09:41:00</td>\n      <td>26/05/2020</td>\n      <td>09:41:00</td>\n    </tr>\n    <tr>\n      <th>4</th>\n      <td>UHSCOVID_01f7838d</td>\n      <td>97.0</td>\n      <td>01/1923</td>\n      <td>NaN</td>\n      <td>NaN</td>\n      <td>2</td>\n      <td>A</td>\n      <td>NR|NR</td>\n      <td>SO16</td>\n      <td>0</td>\n      <td>...</td>\n      <td>09:00:00</td>\n      <td>2020-05-17 16:00:00</td>\n      <td>17/05/2020</td>\n      <td>16:00:00</td>\n      <td>13.29</td>\n      <td>7.13</td>\n      <td>N</td>\n      <td>NaN</td>\n      <td>NaN</td>\n      <td>NaN</td>\n    </tr>\n  </tbody>\n</table>\n<p>5 rows × 28 columns</p>\n</div>"
     },
     "execution_count": 214,
     "metadata": {},
     "output_type": "execute_result"
    }
   ],
   "source": [
    "demogDF.head()"
   ],
   "metadata": {
    "collapsed": false,
    "pycharm": {
     "name": "#%%\n"
    }
   }
  },
  {
   "cell_type": "code",
   "execution_count": 215,
   "outputs": [],
   "source": [
    "demogDF['Death'] = demogDF['DATE_OF_DEATH'].notna()"
   ],
   "metadata": {
    "collapsed": false,
    "pycharm": {
     "name": "#%%\n"
    }
   }
  },
  {
   "cell_type": "code",
   "execution_count": 215,
   "outputs": [],
   "source": [],
   "metadata": {
    "collapsed": false,
    "pycharm": {
     "name": "#%%\n"
    }
   }
  },
  {
   "cell_type": "code",
   "execution_count": 216,
   "outputs": [
    {
     "data": {
      "text/plain": "                   Death\nSTUDY_ID                \nUHSCOVID_00989a42  False\nUHSCOVID_00ac1e32  False\nUHSCOVID_00cb7bdd   True\nUHSCOVID_01add35c   True\nUHSCOVID_01f7838d  False\n...                  ...\nUHSCOVID_fc872d82  False\nUHSCOVID_fd016c0e  False\nUHSCOVID_fd4da220  False\nUHSCOVID_fd893360  False\nUHSCOVID_fe8c3d54   True\n\n[614 rows x 1 columns]",
      "text/html": "<div>\n<style scoped>\n    .dataframe tbody tr th:only-of-type {\n        vertical-align: middle;\n    }\n\n    .dataframe tbody tr th {\n        vertical-align: top;\n    }\n\n    .dataframe thead th {\n        text-align: right;\n    }\n</style>\n<table border=\"1\" class=\"dataframe\">\n  <thead>\n    <tr style=\"text-align: right;\">\n      <th></th>\n      <th>Death</th>\n    </tr>\n    <tr>\n      <th>STUDY_ID</th>\n      <th></th>\n    </tr>\n  </thead>\n  <tbody>\n    <tr>\n      <th>UHSCOVID_00989a42</th>\n      <td>False</td>\n    </tr>\n    <tr>\n      <th>UHSCOVID_00ac1e32</th>\n      <td>False</td>\n    </tr>\n    <tr>\n      <th>UHSCOVID_00cb7bdd</th>\n      <td>True</td>\n    </tr>\n    <tr>\n      <th>UHSCOVID_01add35c</th>\n      <td>True</td>\n    </tr>\n    <tr>\n      <th>UHSCOVID_01f7838d</th>\n      <td>False</td>\n    </tr>\n    <tr>\n      <th>...</th>\n      <td>...</td>\n    </tr>\n    <tr>\n      <th>UHSCOVID_fc872d82</th>\n      <td>False</td>\n    </tr>\n    <tr>\n      <th>UHSCOVID_fd016c0e</th>\n      <td>False</td>\n    </tr>\n    <tr>\n      <th>UHSCOVID_fd4da220</th>\n      <td>False</td>\n    </tr>\n    <tr>\n      <th>UHSCOVID_fd893360</th>\n      <td>False</td>\n    </tr>\n    <tr>\n      <th>UHSCOVID_fe8c3d54</th>\n      <td>True</td>\n    </tr>\n  </tbody>\n</table>\n<p>614 rows × 1 columns</p>\n</div>"
     },
     "execution_count": 216,
     "metadata": {},
     "output_type": "execute_result"
    }
   ],
   "source": [
    "demogDF2=demogDF.groupby('STUDY_ID').agg(Death=('Death','any'))\n",
    "demogDF2"
   ],
   "metadata": {
    "collapsed": false,
    "pycharm": {
     "name": "#%%\n"
    }
   }
  },
  {
   "cell_type": "markdown",
   "source": [
    "# Respiratory Support flag\n"
   ],
   "metadata": {
    "collapsed": false
   }
  },
  {
   "cell_type": "code",
   "execution_count": 217,
   "outputs": [],
   "source": [
    "vitalSignsCategDF =  pd.read_csv(pa.Path(data_dir) / \"REACT_Vitalsigns_Categorical.csv\")\n"
   ],
   "metadata": {
    "collapsed": false,
    "pycharm": {
     "name": "#%%\n"
    }
   }
  },
  {
   "cell_type": "code",
   "execution_count": 218,
   "outputs": [
    {
     "data": {
      "text/plain": "array(['Nasal Specs', 'Face Mask', 'Air - Not Supported', 'Venturi Mask',\n       'Non-Rebreath Mask', 'Invasive Ventilation', 'Optiflow / Hi Flow',\n       'NIV - CPAP face mask', 'NIV - CPAP full face mask',\n       'NIV - BIPAP face mask', 'NIV - CPAP nasal mask',\n       'NIV - BIPAP nasal mask', 'NIV - BIPAP full face mask',\n       'Trachy Mask'], dtype=object)"
     },
     "execution_count": 218,
     "metadata": {},
     "output_type": "execute_result"
    }
   ],
   "source": [
    "vitalSignsCategDF[vitalSignsCategDF['PARAMETER'] == 'Respiratory Support']['VALUE'].unique()"
   ],
   "metadata": {
    "collapsed": false,
    "pycharm": {
     "name": "#%%\n"
    }
   }
  },
  {
   "cell_type": "code",
   "execution_count": 219,
   "outputs": [
    {
     "data": {
      "text/plain": "            STUDY_ID  DEPARTMENT    UNITFROM_DATETIME      UNITTO_DATETIME  \\\n0  UHSCOVID_3952cfb9          G9  2020-05-01 16:24:00  2020-05-05 15:25:00   \n1  UHSCOVID_3952cfb9  F6 Surgery  2020-04-23 20:07:00  2020-05-01 16:24:00   \n2  UHSCOVID_3952cfb9  F6 Surgery  2020-04-23 20:07:00  2020-05-01 16:24:00   \n3  UHSCOVID_3952cfb9  F6 Surgery  2020-04-23 20:07:00  2020-05-01 16:24:00   \n4  UHSCOVID_3952cfb9  F6 Surgery  2020-04-23 20:07:00  2020-05-01 16:24:00   \n\n             PARAMETER        VALUE    RECORDED_DATETIME RECORDED_DATE  \\\n0  Respiratory Support  Nasal Specs  2020-05-05 10:26:00    05/05/2020   \n1  Respiratory Support  Nasal Specs  2020-04-29 06:06:00    29/04/2020   \n2  Respiratory Support  Nasal Specs  2020-04-28 20:52:00    28/04/2020   \n3  Respiratory Support  Nasal Specs  2020-04-26 15:22:00    26/04/2020   \n4  Respiratory Support  Nasal Specs  2020-04-25 06:48:00    25/04/2020   \n\n  RECORDED_TIME  VALIDATION_DATETIME  \n0      10:26:00  2020-05-05 10:26:00  \n1      06:06:00  2020-04-29 06:06:00  \n2      20:52:00  2020-04-28 20:52:00  \n3      15:22:00  2020-04-26 15:22:00  \n4      06:48:00  2020-04-25 06:48:00  ",
      "text/html": "<div>\n<style scoped>\n    .dataframe tbody tr th:only-of-type {\n        vertical-align: middle;\n    }\n\n    .dataframe tbody tr th {\n        vertical-align: top;\n    }\n\n    .dataframe thead th {\n        text-align: right;\n    }\n</style>\n<table border=\"1\" class=\"dataframe\">\n  <thead>\n    <tr style=\"text-align: right;\">\n      <th></th>\n      <th>STUDY_ID</th>\n      <th>DEPARTMENT</th>\n      <th>UNITFROM_DATETIME</th>\n      <th>UNITTO_DATETIME</th>\n      <th>PARAMETER</th>\n      <th>VALUE</th>\n      <th>RECORDED_DATETIME</th>\n      <th>RECORDED_DATE</th>\n      <th>RECORDED_TIME</th>\n      <th>VALIDATION_DATETIME</th>\n    </tr>\n  </thead>\n  <tbody>\n    <tr>\n      <th>0</th>\n      <td>UHSCOVID_3952cfb9</td>\n      <td>G9</td>\n      <td>2020-05-01 16:24:00</td>\n      <td>2020-05-05 15:25:00</td>\n      <td>Respiratory Support</td>\n      <td>Nasal Specs</td>\n      <td>2020-05-05 10:26:00</td>\n      <td>05/05/2020</td>\n      <td>10:26:00</td>\n      <td>2020-05-05 10:26:00</td>\n    </tr>\n    <tr>\n      <th>1</th>\n      <td>UHSCOVID_3952cfb9</td>\n      <td>F6 Surgery</td>\n      <td>2020-04-23 20:07:00</td>\n      <td>2020-05-01 16:24:00</td>\n      <td>Respiratory Support</td>\n      <td>Nasal Specs</td>\n      <td>2020-04-29 06:06:00</td>\n      <td>29/04/2020</td>\n      <td>06:06:00</td>\n      <td>2020-04-29 06:06:00</td>\n    </tr>\n    <tr>\n      <th>2</th>\n      <td>UHSCOVID_3952cfb9</td>\n      <td>F6 Surgery</td>\n      <td>2020-04-23 20:07:00</td>\n      <td>2020-05-01 16:24:00</td>\n      <td>Respiratory Support</td>\n      <td>Nasal Specs</td>\n      <td>2020-04-28 20:52:00</td>\n      <td>28/04/2020</td>\n      <td>20:52:00</td>\n      <td>2020-04-28 20:52:00</td>\n    </tr>\n    <tr>\n      <th>3</th>\n      <td>UHSCOVID_3952cfb9</td>\n      <td>F6 Surgery</td>\n      <td>2020-04-23 20:07:00</td>\n      <td>2020-05-01 16:24:00</td>\n      <td>Respiratory Support</td>\n      <td>Nasal Specs</td>\n      <td>2020-04-26 15:22:00</td>\n      <td>26/04/2020</td>\n      <td>15:22:00</td>\n      <td>2020-04-26 15:22:00</td>\n    </tr>\n    <tr>\n      <th>4</th>\n      <td>UHSCOVID_3952cfb9</td>\n      <td>F6 Surgery</td>\n      <td>2020-04-23 20:07:00</td>\n      <td>2020-05-01 16:24:00</td>\n      <td>Respiratory Support</td>\n      <td>Nasal Specs</td>\n      <td>2020-04-25 06:48:00</td>\n      <td>25/04/2020</td>\n      <td>06:48:00</td>\n      <td>2020-04-25 06:48:00</td>\n    </tr>\n  </tbody>\n</table>\n</div>"
     },
     "execution_count": 219,
     "metadata": {},
     "output_type": "execute_result"
    }
   ],
   "source": [
    "vitalSignsCategDF.head()"
   ],
   "metadata": {
    "collapsed": false,
    "pycharm": {
     "name": "#%%\n"
    }
   }
  },
  {
   "cell_type": "code",
   "execution_count": 220,
   "outputs": [
    {
     "data": {
      "text/plain": "Index(['STUDY_ID', 'DEPARTMENT', 'UNITFROM_DATETIME', 'UNITTO_DATETIME',\n       'PARAMETER', 'VALUE', 'RECORDED_DATETIME', 'RECORDED_DATE',\n       'RECORDED_TIME', 'VALIDATION_DATETIME'],\n      dtype='object')"
     },
     "execution_count": 220,
     "metadata": {},
     "output_type": "execute_result"
    }
   ],
   "source": [
    "vitalSignsCategDF.columns"
   ],
   "metadata": {
    "collapsed": false,
    "pycharm": {
     "name": "#%%\n"
    }
   }
  },
  {
   "cell_type": "code",
   "execution_count": 221,
   "outputs": [
    {
     "data": {
      "text/plain": "array(['Respiratory Support', 'Patient Position', 'RASS', 'CAM-ICU score',\n       'Ventilator Weaning Mode'], dtype=object)"
     },
     "execution_count": 221,
     "metadata": {},
     "output_type": "execute_result"
    }
   ],
   "source": [
    "vitalSignsCategDF['PARAMETER'].unique()"
   ],
   "metadata": {
    "collapsed": false,
    "pycharm": {
     "name": "#%%\n"
    }
   }
  },
  {
   "cell_type": "code",
   "execution_count": 222,
   "outputs": [
    {
     "data": {
      "text/plain": "array(['Nasal Specs', 'Face Mask', 'Air - Not Supported', 'Venturi Mask',\n       'Non-Rebreath Mask', 'Invasive Ventilation', 'Optiflow / Hi Flow',\n       'NIV - CPAP face mask', 'NIV - CPAP full face mask',\n       'NIV - BIPAP face mask', 'NIV - CPAP nasal mask',\n       'NIV - BIPAP nasal mask', 'NIV - BIPAP full face mask',\n       'Trachy Mask'], dtype=object)"
     },
     "execution_count": 222,
     "metadata": {},
     "output_type": "execute_result"
    }
   ],
   "source": [
    "vitalSignsCategDF[vitalSignsCategDF['PARAMETER'] == 'Respiratory Support']['VALUE'].unique()"
   ],
   "metadata": {
    "collapsed": false,
    "pycharm": {
     "name": "#%%\n"
    }
   }
  },
  {
   "cell_type": "code",
   "execution_count": 223,
   "outputs": [
    {
     "data": {
      "text/plain": "array(['Nasal Specs', 'Face Mask', 'Air - Not Supported', 'Supine',\n       'Left', 'Venturi Mask', 'Non-Rebreath Mask',\n       'Invasive Ventilation', 'Paralysed', 'Right', 'Unable to Assess',\n       'Prone', 'Deep Sedation', 'Unrousable', 'Moderate Sedation',\n       'Cardiac Chair Position', 'Optiflow / Hi Flow', 'Drowsy',\n       'Sat in chair', 'Positive', 'Alert and Calm',\n       'NIV - CPAP face mask', 'Restless', 'Asleep',\n       'NIV - CPAP full face mask', 'Negative', 'Light Sedation',\n       'NIV - BIPAP face mask',\n       'Declined Repositioning - Risks explained to patient', 'Agitated',\n       'Combative', 'Very Agitated', 'NIV - CPAP nasal mask',\n       'NIV - BIPAP nasal mask', 'NIV - BIPAP full face mask',\n       'CPAP - Green', 'Trachy Mask', 'Off ward for procedure',\n       'Pressure Support - Blue', 'Trachy Mask - Red',\n       'Speaking Valve - Yellow'], dtype=object)"
     },
     "execution_count": 223,
     "metadata": {},
     "output_type": "execute_result"
    }
   ],
   "source": [
    "vitalSignsCategDF['VALUE'].unique()\n"
   ],
   "metadata": {
    "collapsed": false,
    "pycharm": {
     "name": "#%%\n"
    }
   }
  },
  {
   "cell_type": "code",
   "execution_count": 224,
   "outputs": [],
   "source": [
    "invAirCategoryDict=dict()\n",
    "invAirCategoryDict[0]=set(['Air - Not Supported'])\n",
    "invAirCategoryDict[1]=set(\n",
    "    ['Nasal Specs', 'Face Mask', 'Supine',\n",
    "       'Left', 'Venturi Mask', 'Non-Rebreath Mask',\n",
    "       'Invasive Ventilation', 'Paralysed', 'Right', 'Unable to Assess',\n",
    "       'Prone', 'Deep Sedation', 'Unrousable', 'Moderate Sedation',\n",
    "       'Cardiac Chair Position', 'Optiflow / Hi Flow', 'Drowsy',\n",
    "       'Sat in chair', 'Positive', 'Alert and Calm',\n",
    "       'NIV - CPAP face mask', 'Restless', 'Asleep',\n",
    "       'NIV - CPAP full face mask', 'Negative', 'Light Sedation',\n",
    "       'NIV - BIPAP face mask',\n",
    "       'Declined Repositioning - Risks explained to patient', 'Agitated',\n",
    "       'Combative', 'Very Agitated', 'NIV - CPAP nasal mask',\n",
    "       'NIV - BIPAP nasal mask', 'NIV - BIPAP full face mask',\n",
    "       'CPAP - Green', 'Trachy Mask', 'Off ward for procedure',\n",
    "       'Pressure Support - Blue', 'Trachy Mask - Red',\n",
    "       'Speaking Valve - Yellow'\n",
    "     ]\n",
    "        )\n",
    "\n",
    "airCategoryDict = {v:k for k,lnames in invAirCategoryDict.items() for v in lnames}"
   ],
   "metadata": {
    "collapsed": false,
    "pycharm": {
     "name": "#%%\n"
    }
   }
  },
  {
   "cell_type": "code",
   "execution_count": 225,
   "outputs": [],
   "source": [
    "vitalSignsCategDF = vitalSignsCategDF[vitalSignsCategDF.PARAMETER=='Respiratory Support'][['STUDY_ID','UNITFROM_DATETIME','VALUE']]"
   ],
   "metadata": {
    "collapsed": false,
    "pycharm": {
     "name": "#%%\n"
    }
   }
  },
  {
   "cell_type": "code",
   "execution_count": 226,
   "outputs": [],
   "source": [
    "vitalSignsCategDF[\"AIR_SUPPORT\"] = vitalSignsCategDF[\"VALUE\"].map(airCategoryDict)"
   ],
   "metadata": {
    "collapsed": false,
    "pycharm": {
     "name": "#%%\n"
    }
   }
  },
  {
   "cell_type": "code",
   "execution_count": 227,
   "outputs": [],
   "source": [
    "vitalSignsCategDF[\"AIR_SUPPORT\"] = vitalSignsCategDF[\"AIR_SUPPORT\"] ==1"
   ],
   "metadata": {
    "collapsed": false,
    "pycharm": {
     "name": "#%%\n"
    }
   }
  },
  {
   "cell_type": "code",
   "execution_count": 228,
   "outputs": [
    {
     "data": {
      "text/plain": "   AIR_SUPPORT        VALUE\n0         True  Nasal Specs\n1         True  Nasal Specs\n2         True  Nasal Specs\n3         True  Nasal Specs\n4         True  Nasal Specs",
      "text/html": "<div>\n<style scoped>\n    .dataframe tbody tr th:only-of-type {\n        vertical-align: middle;\n    }\n\n    .dataframe tbody tr th {\n        vertical-align: top;\n    }\n\n    .dataframe thead th {\n        text-align: right;\n    }\n</style>\n<table border=\"1\" class=\"dataframe\">\n  <thead>\n    <tr style=\"text-align: right;\">\n      <th></th>\n      <th>AIR_SUPPORT</th>\n      <th>VALUE</th>\n    </tr>\n  </thead>\n  <tbody>\n    <tr>\n      <th>0</th>\n      <td>True</td>\n      <td>Nasal Specs</td>\n    </tr>\n    <tr>\n      <th>1</th>\n      <td>True</td>\n      <td>Nasal Specs</td>\n    </tr>\n    <tr>\n      <th>2</th>\n      <td>True</td>\n      <td>Nasal Specs</td>\n    </tr>\n    <tr>\n      <th>3</th>\n      <td>True</td>\n      <td>Nasal Specs</td>\n    </tr>\n    <tr>\n      <th>4</th>\n      <td>True</td>\n      <td>Nasal Specs</td>\n    </tr>\n  </tbody>\n</table>\n</div>"
     },
     "execution_count": 228,
     "metadata": {},
     "output_type": "execute_result"
    }
   ],
   "source": [
    "vitalSignsCategDF[['AIR_SUPPORT','VALUE']].head()"
   ],
   "metadata": {
    "collapsed": false,
    "pycharm": {
     "name": "#%%\n"
    }
   }
  },
  {
   "cell_type": "code",
   "execution_count": 229,
   "outputs": [
    {
     "data": {
      "text/plain": "STUDY_ID             object\nUNITFROM_DATETIME    object\nVALUE                object\nAIR_SUPPORT            bool\ndtype: object"
     },
     "execution_count": 229,
     "metadata": {},
     "output_type": "execute_result"
    }
   ],
   "source": [
    "vitalSignsCategDF.dtypes"
   ],
   "metadata": {
    "collapsed": false,
    "pycharm": {
     "name": "#%%\n"
    }
   }
  },
  {
   "cell_type": "code",
   "execution_count": 230,
   "outputs": [
    {
     "data": {
      "text/plain": "            STUDY_ID    UNITFROM_DATETIME        VALUE  AIR_SUPPORT\n0  UHSCOVID_3952cfb9  2020-05-01 16:24:00  Nasal Specs         True\n1  UHSCOVID_3952cfb9  2020-04-23 20:07:00  Nasal Specs         True\n2  UHSCOVID_3952cfb9  2020-04-23 20:07:00  Nasal Specs         True\n3  UHSCOVID_3952cfb9  2020-04-23 20:07:00  Nasal Specs         True\n4  UHSCOVID_3952cfb9  2020-04-23 20:07:00  Nasal Specs         True",
      "text/html": "<div>\n<style scoped>\n    .dataframe tbody tr th:only-of-type {\n        vertical-align: middle;\n    }\n\n    .dataframe tbody tr th {\n        vertical-align: top;\n    }\n\n    .dataframe thead th {\n        text-align: right;\n    }\n</style>\n<table border=\"1\" class=\"dataframe\">\n  <thead>\n    <tr style=\"text-align: right;\">\n      <th></th>\n      <th>STUDY_ID</th>\n      <th>UNITFROM_DATETIME</th>\n      <th>VALUE</th>\n      <th>AIR_SUPPORT</th>\n    </tr>\n  </thead>\n  <tbody>\n    <tr>\n      <th>0</th>\n      <td>UHSCOVID_3952cfb9</td>\n      <td>2020-05-01 16:24:00</td>\n      <td>Nasal Specs</td>\n      <td>True</td>\n    </tr>\n    <tr>\n      <th>1</th>\n      <td>UHSCOVID_3952cfb9</td>\n      <td>2020-04-23 20:07:00</td>\n      <td>Nasal Specs</td>\n      <td>True</td>\n    </tr>\n    <tr>\n      <th>2</th>\n      <td>UHSCOVID_3952cfb9</td>\n      <td>2020-04-23 20:07:00</td>\n      <td>Nasal Specs</td>\n      <td>True</td>\n    </tr>\n    <tr>\n      <th>3</th>\n      <td>UHSCOVID_3952cfb9</td>\n      <td>2020-04-23 20:07:00</td>\n      <td>Nasal Specs</td>\n      <td>True</td>\n    </tr>\n    <tr>\n      <th>4</th>\n      <td>UHSCOVID_3952cfb9</td>\n      <td>2020-04-23 20:07:00</td>\n      <td>Nasal Specs</td>\n      <td>True</td>\n    </tr>\n  </tbody>\n</table>\n</div>"
     },
     "execution_count": 230,
     "metadata": {},
     "output_type": "execute_result"
    }
   ],
   "source": [
    "vitalSignsCategDF.head()"
   ],
   "metadata": {
    "collapsed": false,
    "pycharm": {
     "name": "#%%\n"
    }
   }
  },
  {
   "cell_type": "code",
   "execution_count": 231,
   "outputs": [
    {
     "data": {
      "text/plain": "Index(['STUDY_ID', 'UNITFROM_DATETIME', 'VALUE', 'AIR_SUPPORT'], dtype='object')"
     },
     "execution_count": 231,
     "metadata": {},
     "output_type": "execute_result"
    }
   ],
   "source": [
    "vitalSignsCategDF.columns\n",
    "\n"
   ],
   "metadata": {
    "collapsed": false,
    "pycharm": {
     "name": "#%%\n"
    }
   }
  },
  {
   "cell_type": "code",
   "execution_count": 232,
   "outputs": [],
   "source": [
    "# ['STUDY_ID', 'UNITFROM_DATETIME', 'VALUE', 'AIR_SUPPORT']\n",
    "vitalSignsCategDF = vitalSignsCategDF.filter(items = ['STUDY_ID',  'AIR_SUPPORT'])"
   ],
   "metadata": {
    "collapsed": false,
    "pycharm": {
     "name": "#%%\n"
    }
   }
  },
  {
   "cell_type": "code",
   "execution_count": 233,
   "outputs": [
    {
     "data": {
      "text/plain": "True     43206\nFalse    11466\nName: AIR_SUPPORT, dtype: int64"
     },
     "execution_count": 233,
     "metadata": {},
     "output_type": "execute_result"
    }
   ],
   "source": [
    "vitalSignsCategDF['AIR_SUPPORT'].value_counts()"
   ],
   "metadata": {
    "collapsed": false,
    "pycharm": {
     "name": "#%%\n"
    }
   }
  },
  {
   "cell_type": "code",
   "execution_count": 234,
   "outputs": [],
   "source": [
    "vitalSignsCategDF = vitalSignsCategDF.groupby('STUDY_ID').agg(AIR_SUPPORT=('AIR_SUPPORT','any'))\n"
   ],
   "metadata": {
    "collapsed": false,
    "pycharm": {
     "name": "#%%\n"
    }
   }
  },
  {
   "cell_type": "code",
   "execution_count": 235,
   "outputs": [],
   "source": [
    "# Association between Renal disease and Death"
   ],
   "metadata": {
    "collapsed": false,
    "pycharm": {
     "name": "#%%\n"
    }
   }
  },
  {
   "cell_type": "code",
   "execution_count": 236,
   "outputs": [
    {
     "data": {
      "text/plain": "                   Death\nSTUDY_ID                \nUHSCOVID_00989a42  False\nUHSCOVID_00ac1e32  False\nUHSCOVID_00cb7bdd   True\nUHSCOVID_01add35c   True\nUHSCOVID_01f7838d  False",
      "text/html": "<div>\n<style scoped>\n    .dataframe tbody tr th:only-of-type {\n        vertical-align: middle;\n    }\n\n    .dataframe tbody tr th {\n        vertical-align: top;\n    }\n\n    .dataframe thead th {\n        text-align: right;\n    }\n</style>\n<table border=\"1\" class=\"dataframe\">\n  <thead>\n    <tr style=\"text-align: right;\">\n      <th></th>\n      <th>Death</th>\n    </tr>\n    <tr>\n      <th>STUDY_ID</th>\n      <th></th>\n    </tr>\n  </thead>\n  <tbody>\n    <tr>\n      <th>UHSCOVID_00989a42</th>\n      <td>False</td>\n    </tr>\n    <tr>\n      <th>UHSCOVID_00ac1e32</th>\n      <td>False</td>\n    </tr>\n    <tr>\n      <th>UHSCOVID_00cb7bdd</th>\n      <td>True</td>\n    </tr>\n    <tr>\n      <th>UHSCOVID_01add35c</th>\n      <td>True</td>\n    </tr>\n    <tr>\n      <th>UHSCOVID_01f7838d</th>\n      <td>False</td>\n    </tr>\n  </tbody>\n</table>\n</div>"
     },
     "execution_count": 236,
     "metadata": {},
     "output_type": "execute_result"
    }
   ],
   "source": [
    "demogDF2.head()"
   ],
   "metadata": {
    "collapsed": false,
    "pycharm": {
     "name": "#%%\n"
    }
   }
  },
  {
   "cell_type": "code",
   "execution_count": 236,
   "outputs": [],
   "source": [],
   "metadata": {
    "collapsed": false,
    "pycharm": {
     "name": "#%%\n"
    }
   }
  },
  {
   "cell_type": "code",
   "execution_count": 237,
   "outputs": [],
   "source": [
    "dfRes:pd.DataFrame = pd.merge(demogDF2, vitalSignsCategDF, on='STUDY_ID', how='inner')\n",
    "dfRes = pd.merge(dfRes, comorbidGrpDF, on='STUDY_ID', how='inner')\n"
   ],
   "metadata": {
    "collapsed": false,
    "pycharm": {
     "name": "#%%\n"
    }
   }
  },
  {
   "cell_type": "code",
   "execution_count": 237,
   "outputs": [],
   "source": [],
   "metadata": {
    "collapsed": false,
    "pycharm": {
     "name": "#%%\n"
    }
   }
  },
  {
   "cell_type": "code",
   "execution_count": 238,
   "outputs": [],
   "source": [
    "dfRes = dfRes.reset_index()\n"
   ],
   "metadata": {
    "collapsed": false,
    "pycharm": {
     "name": "#%%\n"
    }
   }
  },
  {
   "cell_type": "code",
   "execution_count": 239,
   "outputs": [
    {
     "data": {
      "text/plain": "Index(['STUDY_ID', 'Death', 'AIR_SUPPORT', 'RENAL_D_PRESENT'], dtype='object')"
     },
     "execution_count": 239,
     "metadata": {},
     "output_type": "execute_result"
    }
   ],
   "source": [
    "dfRes.columns\n"
   ],
   "metadata": {
    "collapsed": false,
    "pycharm": {
     "name": "#%%\n"
    }
   }
  },
  {
   "cell_type": "code",
   "execution_count": 240,
   "outputs": [
    {
     "data": {
      "text/plain": "            STUDY_ID  Death  AIR_SUPPORT  RENAL_D_PRESENT\n0  UHSCOVID_00989a42  False         True            False\n1  UHSCOVID_00ac1e32  False         True            False\n2  UHSCOVID_00cb7bdd   True         True            False\n3  UHSCOVID_01f7838d  False         True             True\n4  UHSCOVID_025d562e  False         True            False",
      "text/html": "<div>\n<style scoped>\n    .dataframe tbody tr th:only-of-type {\n        vertical-align: middle;\n    }\n\n    .dataframe tbody tr th {\n        vertical-align: top;\n    }\n\n    .dataframe thead th {\n        text-align: right;\n    }\n</style>\n<table border=\"1\" class=\"dataframe\">\n  <thead>\n    <tr style=\"text-align: right;\">\n      <th></th>\n      <th>STUDY_ID</th>\n      <th>Death</th>\n      <th>AIR_SUPPORT</th>\n      <th>RENAL_D_PRESENT</th>\n    </tr>\n  </thead>\n  <tbody>\n    <tr>\n      <th>0</th>\n      <td>UHSCOVID_00989a42</td>\n      <td>False</td>\n      <td>True</td>\n      <td>False</td>\n    </tr>\n    <tr>\n      <th>1</th>\n      <td>UHSCOVID_00ac1e32</td>\n      <td>False</td>\n      <td>True</td>\n      <td>False</td>\n    </tr>\n    <tr>\n      <th>2</th>\n      <td>UHSCOVID_00cb7bdd</td>\n      <td>True</td>\n      <td>True</td>\n      <td>False</td>\n    </tr>\n    <tr>\n      <th>3</th>\n      <td>UHSCOVID_01f7838d</td>\n      <td>False</td>\n      <td>True</td>\n      <td>True</td>\n    </tr>\n    <tr>\n      <th>4</th>\n      <td>UHSCOVID_025d562e</td>\n      <td>False</td>\n      <td>True</td>\n      <td>False</td>\n    </tr>\n  </tbody>\n</table>\n</div>"
     },
     "execution_count": 240,
     "metadata": {},
     "output_type": "execute_result"
    }
   ],
   "source": [
    "dfRes.head()"
   ],
   "metadata": {
    "collapsed": false,
    "pycharm": {
     "name": "#%%\n"
    }
   }
  },
  {
   "cell_type": "code",
   "execution_count": 241,
   "outputs": [],
   "source": [
    "dfRes2 = dfRes\n",
    "dfRes2['AIR_SUPPORT'] = dfRes['AIR_SUPPORT'].map({True:1,False:0})"
   ],
   "metadata": {
    "collapsed": false,
    "pycharm": {
     "name": "#%%\n"
    }
   }
  },
  {
   "cell_type": "code",
   "execution_count": 242,
   "outputs": [
    {
     "data": {
      "text/plain": "(   Value  All  Good  Bad  Distr_Good  Distr_Bad       WoE        IV\n 0  False  321    51  270    0.614458   0.673317 -0.091476  0.005384\n 1   True  163    32  131    0.385542   0.326683  0.165659  0.009751,\n 0.015134671772510606)"
     },
     "execution_count": 242,
     "metadata": {},
     "output_type": "execute_result"
    }
   ],
   "source": [
    "dfRes2.head()\n",
    "\n",
    "iv.calculate_woe_iv(dfRes2,'RENAL_D_PRESENT','AIR_SUPPORT')"
   ],
   "metadata": {
    "collapsed": false,
    "pycharm": {
     "name": "#%%\n"
    }
   }
  },
  {
   "cell_type": "code",
   "execution_count": 243,
   "outputs": [],
   "source": [
    "# import sys\n",
    "# print(sys.path)\n",
    "# print(config.__path__)"
   ],
   "metadata": {
    "collapsed": false,
    "pycharm": {
     "name": "#%%\n"
    }
   }
  },
  {
   "cell_type": "code",
   "execution_count": 244,
   "outputs": [
    {
     "data": {
      "text/plain": "(   Value  All  Good  Bad  Distr_Good  Distr_Bad       WoE       IV\n 0  False  321    51  270    0.614458   0.673317 -3.972731  0.23383\n 1   True  163    32  131    0.385542   0.326683  7.194496  0.42346,\n 0.6572904436218263)"
     },
     "execution_count": 244,
     "metadata": {},
     "output_type": "execute_result"
    }
   ],
   "source": [
    "calc_woe_iv_100log10(dfRes2,'RENAL_D_PRESENT','AIR_SUPPORT')\n"
   ],
   "metadata": {
    "collapsed": false,
    "pycharm": {
     "name": "#%%\n"
    }
   }
  },
  {
   "cell_type": "code",
   "execution_count": 244,
   "outputs": [],
   "source": [],
   "metadata": {
    "collapsed": false,
    "pycharm": {
     "name": "#%%\n"
    }
   }
  },
  {
   "cell_type": "markdown",
   "source": [
    "# Dead Patients\n"
   ],
   "metadata": {
    "collapsed": false,
    "pycharm": {
     "name": "#%% md\n"
    }
   }
  },
  {
   "cell_type": "code",
   "execution_count": 245,
   "outputs": [
    {
     "data": {
      "text/plain": "False    322\nTrue     162\nName: Death, dtype: int64"
     },
     "execution_count": 245,
     "metadata": {},
     "output_type": "execute_result"
    }
   ],
   "source": [
    "dfRes['Death'].value_counts()"
   ],
   "metadata": {
    "collapsed": false,
    "pycharm": {
     "name": "#%%\n"
    }
   }
  },
  {
   "cell_type": "code",
   "execution_count": 246,
   "outputs": [],
   "source": [
    "dfResAll = dfRes\n",
    "dfResDied = dfResAll[dfRes['Death']]\n",
    "dfRes = dfResDied"
   ],
   "metadata": {
    "collapsed": false,
    "pycharm": {
     "name": "#%%\n"
    }
   }
  },
  {
   "cell_type": "code",
   "execution_count": 246,
   "outputs": [],
   "source": [],
   "metadata": {
    "collapsed": false,
    "pycharm": {
     "name": "#%%\n"
    }
   }
  },
  {
   "cell_type": "code",
   "execution_count": 247,
   "outputs": [
    {
     "name": "stderr",
     "output_type": "stream",
     "text": [
      "C:\\ANACONDA3\\envs\\dECMT\\lib\\site-packages\\ipykernel_launcher.py:2: SettingWithCopyWarning: \n",
      "A value is trying to be set on a copy of a slice from a DataFrame.\n",
      "Try using .loc[row_indexer,col_indexer] = value instead\n",
      "\n",
      "See the caveats in the documentation: https://pandas.pydata.org/pandas-docs/stable/user_guide/indexing.html#returning-a-view-versus-a-copy\n",
      "  \n"
     ]
    }
   ],
   "source": [
    "dfRes2 = dfRes\n",
    "dfRes2['AIR_SUPPORT'] = dfRes2['AIR_SUPPORT'].map({True:1,False:0})\n"
   ],
   "metadata": {
    "collapsed": false,
    "pycharm": {
     "name": "#%%\n"
    }
   }
  },
  {
   "cell_type": "code",
   "execution_count": 248,
   "outputs": [
    {
     "data": {
      "text/plain": "Index(['STUDY_ID', 'Death', 'AIR_SUPPORT', 'RENAL_D_PRESENT'], dtype='object')"
     },
     "execution_count": 248,
     "metadata": {},
     "output_type": "execute_result"
    }
   ],
   "source": [
    "dfRes2.columns\n"
   ],
   "metadata": {
    "collapsed": false,
    "pycharm": {
     "name": "#%%\n"
    }
   }
  },
  {
   "cell_type": "code",
   "execution_count": 249,
   "outputs": [
    {
     "data": {
      "text/plain": "(   Value  All  Good  Bad  Distr_Good  Distr_Bad        WoE        IV\n 0  False   88     6   82         0.4   0.557823 -14.443653  2.279542\n 1   True   74     9   65         0.6   0.442177  13.255523  2.092028,\n 4.371570551891006)"
     },
     "execution_count": 249,
     "metadata": {},
     "output_type": "execute_result"
    }
   ],
   "source": [
    "calc_woe_iv_100log10(dfRes2,'RENAL_D_PRESENT','AIR_SUPPORT')\n"
   ],
   "metadata": {
    "collapsed": false,
    "pycharm": {
     "name": "#%%\n"
    }
   }
  },
  {
   "cell_type": "code",
   "execution_count": 250,
   "outputs": [
    {
     "data": {
      "text/plain": "              STUDY_ID  Death  AIR_SUPPORT  RENAL_D_PRESENT\n2    UHSCOVID_00cb7bdd   True            1            False\n8    UHSCOVID_05801ffc   True            1             True\n10   UHSCOVID_0744a86c   True            1             True\n11   UHSCOVID_074c2bcf   True            1            False\n13   UHSCOVID_07ce8d59   True            1             True\n..                 ...    ...          ...              ...\n469  UHSCOVID_f4e525e0   True            1            False\n470  UHSCOVID_f586c2e6   True            1            False\n476  UHSCOVID_f8d03de4   True            1             True\n478  UHSCOVID_f9bb5265   True            1             True\n483  UHSCOVID_fe8c3d54   True            0             True\n\n[162 rows x 4 columns]",
      "text/html": "<div>\n<style scoped>\n    .dataframe tbody tr th:only-of-type {\n        vertical-align: middle;\n    }\n\n    .dataframe tbody tr th {\n        vertical-align: top;\n    }\n\n    .dataframe thead th {\n        text-align: right;\n    }\n</style>\n<table border=\"1\" class=\"dataframe\">\n  <thead>\n    <tr style=\"text-align: right;\">\n      <th></th>\n      <th>STUDY_ID</th>\n      <th>Death</th>\n      <th>AIR_SUPPORT</th>\n      <th>RENAL_D_PRESENT</th>\n    </tr>\n  </thead>\n  <tbody>\n    <tr>\n      <th>2</th>\n      <td>UHSCOVID_00cb7bdd</td>\n      <td>True</td>\n      <td>1</td>\n      <td>False</td>\n    </tr>\n    <tr>\n      <th>8</th>\n      <td>UHSCOVID_05801ffc</td>\n      <td>True</td>\n      <td>1</td>\n      <td>True</td>\n    </tr>\n    <tr>\n      <th>10</th>\n      <td>UHSCOVID_0744a86c</td>\n      <td>True</td>\n      <td>1</td>\n      <td>True</td>\n    </tr>\n    <tr>\n      <th>11</th>\n      <td>UHSCOVID_074c2bcf</td>\n      <td>True</td>\n      <td>1</td>\n      <td>False</td>\n    </tr>\n    <tr>\n      <th>13</th>\n      <td>UHSCOVID_07ce8d59</td>\n      <td>True</td>\n      <td>1</td>\n      <td>True</td>\n    </tr>\n    <tr>\n      <th>...</th>\n      <td>...</td>\n      <td>...</td>\n      <td>...</td>\n      <td>...</td>\n    </tr>\n    <tr>\n      <th>469</th>\n      <td>UHSCOVID_f4e525e0</td>\n      <td>True</td>\n      <td>1</td>\n      <td>False</td>\n    </tr>\n    <tr>\n      <th>470</th>\n      <td>UHSCOVID_f586c2e6</td>\n      <td>True</td>\n      <td>1</td>\n      <td>False</td>\n    </tr>\n    <tr>\n      <th>476</th>\n      <td>UHSCOVID_f8d03de4</td>\n      <td>True</td>\n      <td>1</td>\n      <td>True</td>\n    </tr>\n    <tr>\n      <th>478</th>\n      <td>UHSCOVID_f9bb5265</td>\n      <td>True</td>\n      <td>1</td>\n      <td>True</td>\n    </tr>\n    <tr>\n      <th>483</th>\n      <td>UHSCOVID_fe8c3d54</td>\n      <td>True</td>\n      <td>0</td>\n      <td>True</td>\n    </tr>\n  </tbody>\n</table>\n<p>162 rows × 4 columns</p>\n</div>"
     },
     "execution_count": 250,
     "metadata": {},
     "output_type": "execute_result"
    }
   ],
   "source": [
    "dfResDied"
   ],
   "metadata": {
    "collapsed": false,
    "pycharm": {
     "name": "#%%\n"
    }
   }
  },
  {
   "cell_type": "code",
   "execution_count": 251,
   "outputs": [
    {
     "data": {
      "text/plain": "162"
     },
     "execution_count": 251,
     "metadata": {},
     "output_type": "execute_result"
    }
   ],
   "source": [
    "len(dfRes)"
   ],
   "metadata": {
    "collapsed": false,
    "pycharm": {
     "name": "#%%\n"
    }
   }
  },
  {
   "cell_type": "markdown",
   "source": [
    "\n",
    "## Counts of stratified cases"
   ],
   "metadata": {
    "collapsed": false
   }
  },
  {
   "cell_type": "code",
   "execution_count": 252,
   "outputs": [
    {
     "data": {
      "text/plain": "RENAL_D_PRESENT  False  True \nAIR_SUPPORT                  \n0                    6      9\n1                   82     65",
      "text/html": "<div>\n<style scoped>\n    .dataframe tbody tr th:only-of-type {\n        vertical-align: middle;\n    }\n\n    .dataframe tbody tr th {\n        vertical-align: top;\n    }\n\n    .dataframe thead th {\n        text-align: right;\n    }\n</style>\n<table border=\"1\" class=\"dataframe\">\n  <thead>\n    <tr style=\"text-align: right;\">\n      <th>RENAL_D_PRESENT</th>\n      <th>False</th>\n      <th>True</th>\n    </tr>\n    <tr>\n      <th>AIR_SUPPORT</th>\n      <th></th>\n      <th></th>\n    </tr>\n  </thead>\n  <tbody>\n    <tr>\n      <th>0</th>\n      <td>6</td>\n      <td>9</td>\n    </tr>\n    <tr>\n      <th>1</th>\n      <td>82</td>\n      <td>65</td>\n    </tr>\n  </tbody>\n</table>\n</div>"
     },
     "execution_count": 252,
     "metadata": {},
     "output_type": "execute_result"
    }
   ],
   "source": [
    "# crosstabRenalDeath = pd.crosstab(dfRes3['Death'],dfRes3['RENAL_D_PRESENT'],margins=True,margins_name='Total')\n",
    "crosstabRenalDeath = pd.crosstab(dfRes['AIR_SUPPORT'],dfRes['RENAL_D_PRESENT'])\n",
    "crosstabRenalDeath\n"
   ],
   "metadata": {
    "collapsed": false,
    "pycharm": {
     "name": "#%%\n"
    }
   }
  },
  {
   "cell_type": "code",
   "execution_count": 253,
   "outputs": [
    {
     "data": {
      "text/plain": "RENAL_D_PRESENT  False  True  All\nAIR_SUPPORT                      \n0                    6     9   15\n1                   82    65  147\nAll                 88    74  162",
      "text/html": "<div>\n<style scoped>\n    .dataframe tbody tr th:only-of-type {\n        vertical-align: middle;\n    }\n\n    .dataframe tbody tr th {\n        vertical-align: top;\n    }\n\n    .dataframe thead th {\n        text-align: right;\n    }\n</style>\n<table border=\"1\" class=\"dataframe\">\n  <thead>\n    <tr style=\"text-align: right;\">\n      <th>RENAL_D_PRESENT</th>\n      <th>False</th>\n      <th>True</th>\n      <th>All</th>\n    </tr>\n    <tr>\n      <th>AIR_SUPPORT</th>\n      <th></th>\n      <th></th>\n      <th></th>\n    </tr>\n  </thead>\n  <tbody>\n    <tr>\n      <th>0</th>\n      <td>6</td>\n      <td>9</td>\n      <td>15</td>\n    </tr>\n    <tr>\n      <th>1</th>\n      <td>82</td>\n      <td>65</td>\n      <td>147</td>\n    </tr>\n    <tr>\n      <th>All</th>\n      <td>88</td>\n      <td>74</td>\n      <td>162</td>\n    </tr>\n  </tbody>\n</table>\n</div>"
     },
     "execution_count": 253,
     "metadata": {},
     "output_type": "execute_result"
    }
   ],
   "source": [
    "crosstabRenalDeath2 = pd.crosstab(dfRes['AIR_SUPPORT'],dfRes['RENAL_D_PRESENT'],margins=True)\n",
    "crosstabRenalDeath2\n",
    "\n"
   ],
   "metadata": {
    "collapsed": false,
    "pycharm": {
     "name": "#%%\n"
    }
   }
  },
  {
   "cell_type": "code",
   "execution_count": 253,
   "outputs": [],
   "source": [],
   "metadata": {
    "collapsed": false,
    "pycharm": {
     "name": "#%%\n"
    }
   }
  },
  {
   "cell_type": "code",
   "execution_count": 254,
   "outputs": [
    {
     "data": {
      "text/plain": "RENAL_D_PRESENT     False      True       All\nAIR_SUPPORT                                  \n0                0.037037  0.055556  0.092593\n1                0.506173  0.401235  0.907407\nAll              0.543210  0.456790  1.000000",
      "text/html": "<div>\n<style scoped>\n    .dataframe tbody tr th:only-of-type {\n        vertical-align: middle;\n    }\n\n    .dataframe tbody tr th {\n        vertical-align: top;\n    }\n\n    .dataframe thead th {\n        text-align: right;\n    }\n</style>\n<table border=\"1\" class=\"dataframe\">\n  <thead>\n    <tr style=\"text-align: right;\">\n      <th>RENAL_D_PRESENT</th>\n      <th>False</th>\n      <th>True</th>\n      <th>All</th>\n    </tr>\n    <tr>\n      <th>AIR_SUPPORT</th>\n      <th></th>\n      <th></th>\n      <th></th>\n    </tr>\n  </thead>\n  <tbody>\n    <tr>\n      <th>0</th>\n      <td>0.037037</td>\n      <td>0.055556</td>\n      <td>0.092593</td>\n    </tr>\n    <tr>\n      <th>1</th>\n      <td>0.506173</td>\n      <td>0.401235</td>\n      <td>0.907407</td>\n    </tr>\n    <tr>\n      <th>All</th>\n      <td>0.543210</td>\n      <td>0.456790</td>\n      <td>1.000000</td>\n    </tr>\n  </tbody>\n</table>\n</div>"
     },
     "execution_count": 254,
     "metadata": {},
     "output_type": "execute_result"
    }
   ],
   "source": [
    "crosstabRenalDeathNorm = pd.crosstab(dfRes['AIR_SUPPORT'], dfRes['RENAL_D_PRESENT'],normalize=True,margins=True)\n",
    "crosstabRenalDeathNorm"
   ],
   "metadata": {
    "collapsed": false,
    "pycharm": {
     "name": "#%%\n"
    }
   }
  },
  {
   "cell_type": "code",
   "execution_count": 255,
   "outputs": [
    {
     "data": {
      "text/plain": "Int64Index([0, 1], dtype='int64', name='AIR_SUPPORT')"
     },
     "execution_count": 255,
     "metadata": {},
     "output_type": "execute_result"
    }
   ],
   "source": [
    "crosstabRenalDeath.index"
   ],
   "metadata": {
    "collapsed": false,
    "pycharm": {
     "name": "#%%\n"
    }
   }
  },
  {
   "cell_type": "code",
   "execution_count": 256,
   "outputs": [
    {
     "data": {
      "text/plain": "Index([False, True], dtype='object', name='RENAL_D_PRESENT')"
     },
     "execution_count": 256,
     "metadata": {},
     "output_type": "execute_result"
    }
   ],
   "source": [
    "crosstabRenalDeath.columns"
   ],
   "metadata": {
    "collapsed": false,
    "pycharm": {
     "name": "#%%\n"
    }
   }
  },
  {
   "cell_type": "code",
   "execution_count": 257,
   "outputs": [
    {
     "data": {
      "text/plain": "RENAL_D_PRESENT  False  True \nAIR_SUPPORT                  \n0                    6      9\n1                   82     65",
      "text/html": "<div>\n<style scoped>\n    .dataframe tbody tr th:only-of-type {\n        vertical-align: middle;\n    }\n\n    .dataframe tbody tr th {\n        vertical-align: top;\n    }\n\n    .dataframe thead th {\n        text-align: right;\n    }\n</style>\n<table border=\"1\" class=\"dataframe\">\n  <thead>\n    <tr style=\"text-align: right;\">\n      <th>RENAL_D_PRESENT</th>\n      <th>False</th>\n      <th>True</th>\n    </tr>\n    <tr>\n      <th>AIR_SUPPORT</th>\n      <th></th>\n      <th></th>\n    </tr>\n  </thead>\n  <tbody>\n    <tr>\n      <th>0</th>\n      <td>6</td>\n      <td>9</td>\n    </tr>\n    <tr>\n      <th>1</th>\n      <td>82</td>\n      <td>65</td>\n    </tr>\n  </tbody>\n</table>\n</div>"
     },
     "execution_count": 257,
     "metadata": {},
     "output_type": "execute_result"
    }
   ],
   "source": [
    "crosstabRenalDeath.reset_index()\n",
    "crosstabRenalDeath"
   ],
   "metadata": {
    "collapsed": false,
    "pycharm": {
     "name": "#%%\n"
    }
   }
  },
  {
   "cell_type": "code",
   "execution_count": 258,
   "outputs": [],
   "source": [
    "# crosstabRenalDeath.loc['RENAL_D_PRESENT']"
   ],
   "metadata": {
    "collapsed": false,
    "pycharm": {
     "name": "#%%\n"
    }
   }
  },
  {
   "cell_type": "markdown",
   "source": [
    "## Dead Patients - Chi2 test on significance of renal disease for death outcome.\n"
   ],
   "metadata": {
    "collapsed": false
   }
  },
  {
   "cell_type": "code",
   "execution_count": 259,
   "outputs": [
    {
     "name": "stdout",
     "output_type": "stream",
     "text": [
      "stat = 0.804293486436344\n",
      "p = 0.36981277990408934\n",
      "dof = 1\n",
      "expected = [[ 8.14814815  6.85185185]\n",
      " [79.85185185 67.14814815]]\n"
     ]
    },
    {
     "data": {
      "text/plain": "<IPython.core.display.Markdown object>",
      "text/markdown": "Since p=0.4<0.05, based on Chi2 test we can reject hypothesis that death as outcome does not depend on the presence of a renal disease."
     },
     "execution_count": 259,
     "metadata": {},
     "output_type": "execute_result"
    }
   ],
   "source": [
    "from scipy.stats import chi2_contingency\n",
    "\n",
    "# defining the table\n",
    "# data = [crosstabRenalDeath.loc['False',:].values().reshape(1,-1), [234, 242, 232]]\n",
    "stat, p, dof, expected = chi2_contingency(crosstabRenalDeath)\n",
    "print(f\"stat = {stat}\")\n",
    "print(f\"p = {p}\")\n",
    "print(f\"dof = {dof}\")\n",
    "print(f\"expected = {expected}\")\n",
    "md(f\"Since p={p:.1g}<0.05, based on Chi2 test we can reject hypothesis that death as outcome does not depend on the presence of a renal disease.\")"
   ],
   "metadata": {
    "collapsed": false,
    "pycharm": {
     "name": "#%%\n"
    }
   }
  },
  {
   "cell_type": "markdown",
   "source": [
    "## Power of evidence"
   ],
   "metadata": {
    "collapsed": false
   }
  },
  {
   "cell_type": "code",
   "execution_count": 260,
   "outputs": [
    {
     "data": {
      "text/plain": "RENAL_D_PRESENT     False      True       All\nAIR_SUPPORT                                  \n0                0.037037  0.055556  0.092593\n1                0.506173  0.401235  0.907407\nAll              0.543210  0.456790  1.000000",
      "text/html": "<div>\n<style scoped>\n    .dataframe tbody tr th:only-of-type {\n        vertical-align: middle;\n    }\n\n    .dataframe tbody tr th {\n        vertical-align: top;\n    }\n\n    .dataframe thead th {\n        text-align: right;\n    }\n</style>\n<table border=\"1\" class=\"dataframe\">\n  <thead>\n    <tr style=\"text-align: right;\">\n      <th>RENAL_D_PRESENT</th>\n      <th>False</th>\n      <th>True</th>\n      <th>All</th>\n    </tr>\n    <tr>\n      <th>AIR_SUPPORT</th>\n      <th></th>\n      <th></th>\n      <th></th>\n    </tr>\n  </thead>\n  <tbody>\n    <tr>\n      <th>0</th>\n      <td>0.037037</td>\n      <td>0.055556</td>\n      <td>0.092593</td>\n    </tr>\n    <tr>\n      <th>1</th>\n      <td>0.506173</td>\n      <td>0.401235</td>\n      <td>0.907407</td>\n    </tr>\n    <tr>\n      <th>All</th>\n      <td>0.543210</td>\n      <td>0.456790</td>\n      <td>1.000000</td>\n    </tr>\n  </tbody>\n</table>\n</div>"
     },
     "execution_count": 260,
     "metadata": {},
     "output_type": "execute_result"
    }
   ],
   "source": [
    "crosstabRenalDeathNorm"
   ],
   "metadata": {
    "collapsed": false,
    "pycharm": {
     "name": "#%%\n"
    }
   }
  },
  {
   "cell_type": "code",
   "execution_count": 261,
   "outputs": [
    {
     "data": {
      "text/plain": "<IPython.core.display.Markdown object>",
      "text/markdown": " Conditional probabilities"
     },
     "execution_count": 261,
     "metadata": {},
     "output_type": "execute_result"
    }
   ],
   "source": [
    "md(f\" Conditional probabilities\")"
   ],
   "metadata": {
    "collapsed": false,
    "pycharm": {
     "name": "#%%\n"
    }
   }
  },
  {
   "cell_type": "code",
   "execution_count": 262,
   "outputs": [
    {
     "data": {
      "text/plain": "RENAL_D_PRESENT  False  True \nAIR_SUPPORT                  \n0                    6      9\n1                   82     65",
      "text/html": "<div>\n<style scoped>\n    .dataframe tbody tr th:only-of-type {\n        vertical-align: middle;\n    }\n\n    .dataframe tbody tr th {\n        vertical-align: top;\n    }\n\n    .dataframe thead th {\n        text-align: right;\n    }\n</style>\n<table border=\"1\" class=\"dataframe\">\n  <thead>\n    <tr style=\"text-align: right;\">\n      <th>RENAL_D_PRESENT</th>\n      <th>False</th>\n      <th>True</th>\n    </tr>\n    <tr>\n      <th>AIR_SUPPORT</th>\n      <th></th>\n      <th></th>\n    </tr>\n  </thead>\n  <tbody>\n    <tr>\n      <th>0</th>\n      <td>6</td>\n      <td>9</td>\n    </tr>\n    <tr>\n      <th>1</th>\n      <td>82</td>\n      <td>65</td>\n    </tr>\n  </tbody>\n</table>\n</div>"
     },
     "execution_count": 262,
     "metadata": {},
     "output_type": "execute_result"
    }
   ],
   "source": [
    "crosstabRenalDeath\n"
   ],
   "metadata": {
    "collapsed": false,
    "pycharm": {
     "name": "#%%\n"
    }
   }
  },
  {
   "cell_type": "code",
   "execution_count": 263,
   "outputs": [],
   "source": [
    "idx=pd.IndexSlice\n",
    "R_T = crosstabRenalDeath.loc[:,idx[True]].sum()"
   ],
   "metadata": {
    "collapsed": false,
    "pycharm": {
     "name": "#%%\n"
    }
   }
  },
  {
   "cell_type": "code",
   "execution_count": 264,
   "outputs": [
    {
     "data": {
      "text/plain": "RENAL_D_PRESENT     False      True       All\nAIR_SUPPORT                                  \n0                0.037037  0.055556  0.092593\n1                0.506173  0.401235  0.907407\nAll              0.543210  0.456790  1.000000",
      "text/html": "<div>\n<style scoped>\n    .dataframe tbody tr th:only-of-type {\n        vertical-align: middle;\n    }\n\n    .dataframe tbody tr th {\n        vertical-align: top;\n    }\n\n    .dataframe thead th {\n        text-align: right;\n    }\n</style>\n<table border=\"1\" class=\"dataframe\">\n  <thead>\n    <tr style=\"text-align: right;\">\n      <th>RENAL_D_PRESENT</th>\n      <th>False</th>\n      <th>True</th>\n      <th>All</th>\n    </tr>\n    <tr>\n      <th>AIR_SUPPORT</th>\n      <th></th>\n      <th></th>\n      <th></th>\n    </tr>\n  </thead>\n  <tbody>\n    <tr>\n      <th>0</th>\n      <td>0.037037</td>\n      <td>0.055556</td>\n      <td>0.092593</td>\n    </tr>\n    <tr>\n      <th>1</th>\n      <td>0.506173</td>\n      <td>0.401235</td>\n      <td>0.907407</td>\n    </tr>\n    <tr>\n      <th>All</th>\n      <td>0.543210</td>\n      <td>0.456790</td>\n      <td>1.000000</td>\n    </tr>\n  </tbody>\n</table>\n</div>"
     },
     "execution_count": 264,
     "metadata": {},
     "output_type": "execute_result"
    }
   ],
   "source": [
    "crosstabRenalDeathNorm"
   ],
   "metadata": {
    "collapsed": false,
    "pycharm": {
     "name": "#%%\n"
    }
   }
  },
  {
   "cell_type": "code",
   "execution_count": 265,
   "outputs": [
    {
     "name": "stdout",
     "output_type": "stream",
     "text": [
      "PRT=0.4567901234567901 PRF = 0.5432098765432098 \n",
      "PDTGRT=0.8783783783783784 PDFGRT=0.1216216216216216\n",
      "WoERFGD=1.3945578231292515\n",
      "PRT=0.4567901234567901 PRF = 0.5432098765432098 \n",
      "PDTGRF=0.9318181818181819 PDFGRT=0.06818181818181818\n",
      "WoERTGD=0.7369614512471655\n"
     ]
    }
   ],
   "source": [
    "R_T\n",
    "P_R_T = crosstabRenalDeathNorm.loc['All',True]\n",
    "P_D_T = crosstabRenalDeathNorm.loc[True,'All']\n",
    "P_R_F = crosstabRenalDeathNorm.loc['All',False]\n",
    "P_D_F = crosstabRenalDeathNorm.loc[False,'All']\n",
    "PDTGRT = crosstabRenalDeathNorm.loc[True,True]/P_R_T\n",
    "PDFGRT = 1-PDTGRT\n",
    "# ********************************\n",
    "PDFGRF = crosstabRenalDeathNorm.loc[False,False]/P_R_F\n",
    "PDTGRF = 1-PDFGRF\n",
    "# **********\n",
    "PRTGDT =  crosstabRenalDeathNorm.loc[True,True]/P_D_T\n",
    "PRFGDT = 1-PRTGDT\n",
    "PRFGDF = crosstabRenalDeathNorm.loc[False,False]/P_D_F\n",
    "PRTGDF = 1-PRFGDF\n",
    "WoERTGD = PRTGDT/PRTGDF\n",
    "WoERFGD = PRFGDT/PRFGDF\n",
    "# ********************************\n",
    "print(f\"PRT={P_R_T} PRF = {P_R_F} \")\n",
    "print(f\"PDTGRT={PDTGRT} PDFGRT={PDFGRT}\")\n",
    "print(f\"WoERFGD={WoERFGD}\")\n",
    "# ********************************\n",
    "print(f\"PRT={P_R_T} PRF = {P_R_F} \")\n",
    "print(f\"PDTGRF={PDTGRF} PDFGRT={PDFGRF}\")\n",
    "print(f\"WoERTGD={WoERTGD}\")"
   ],
   "metadata": {
    "collapsed": false,
    "pycharm": {
     "name": "#%%\n"
    }
   }
  },
  {
   "cell_type": "markdown",
   "source": [
    "# Value of information (WoE)\n",
    "The more is WoE different from 0 the more informative is renal disease for prediction of death, while positive value means support for selected result and negative value means the support of other result by evidence.\n",
    "\n",
    "\n",
    "\n",
    "$$WoE(Evidence|Target) =100*log_{10}\\Bigg  (\\frac{P(Evidence|Target)}{P(Evidence|\\neg Target)}\\Bigg)$$\n",
    "\n",
    "$$WoE(\\neg Evidence|Target) =100*log_{10}\\Bigg(\\frac{P(\\neg Evidence|Target)}{P(\\neg Evidence|\\neg Target)}\\Bigg)$$\n",
    "\n",
    "$$WoE \\in (-\\infty,\\infty )$$$\n"
   ],
   "metadata": {
    "collapsed": false
   }
  },
  {
   "cell_type": "code",
   "execution_count": 266,
   "outputs": [
    {
     "data": {
      "text/plain": "<IPython.core.display.Markdown object>",
      "text/markdown": "Weight of Evidence, WoE(Renal_disease=Absent|Death) = 14.443652630757814"
     },
     "execution_count": 266,
     "metadata": {},
     "output_type": "execute_result"
    }
   ],
   "source": [
    "md(f\"Weight of Evidence, WoE(Renal_disease=Absent|Death) = {100*np.log10(WoERFGD)}\")"
   ],
   "metadata": {
    "collapsed": false,
    "pycharm": {
     "name": "#%%\n"
    }
   }
  },
  {
   "cell_type": "code",
   "execution_count": 267,
   "outputs": [
    {
     "data": {
      "text/plain": "<IPython.core.display.Markdown object>",
      "text/markdown": "Weight of Evidence, WoE(Renal_disease=Present|Death) = -13.255522848896417"
     },
     "execution_count": 267,
     "metadata": {},
     "output_type": "execute_result"
    }
   ],
   "source": [
    "md(f\"Weight of Evidence, WoE(Renal_disease=Present|Death) = {100*np.log10(WoERTGD)}\")"
   ],
   "metadata": {
    "collapsed": false,
    "pycharm": {
     "name": "#%%\n"
    }
   }
  },
  {
   "cell_type": "code",
   "execution_count": 268,
   "outputs": [
    {
     "data": {
      "text/plain": "AIR_SUPPORT\n0     6\n1    82\ndtype: int64"
     },
     "execution_count": 268,
     "metadata": {},
     "output_type": "execute_result"
    }
   ],
   "source": [
    "RENAL_D_PRESENT = False\n",
    "crosstabRenalDeath.loc[:,idx[RENAL_D_PRESENT]]"
   ],
   "metadata": {
    "collapsed": false,
    "pycharm": {
     "name": "#%%\n"
    }
   }
  },
  {
   "cell_type": "code",
   "execution_count": 269,
   "outputs": [
    {
     "data": {
      "text/plain": "RENAL_D_PRESENT  False  True \nAIR_SUPPORT                  \n0                    6      9\n1                   82     65",
      "text/html": "<div>\n<style scoped>\n    .dataframe tbody tr th:only-of-type {\n        vertical-align: middle;\n    }\n\n    .dataframe tbody tr th {\n        vertical-align: top;\n    }\n\n    .dataframe thead th {\n        text-align: right;\n    }\n</style>\n<table border=\"1\" class=\"dataframe\">\n  <thead>\n    <tr style=\"text-align: right;\">\n      <th>RENAL_D_PRESENT</th>\n      <th>False</th>\n      <th>True</th>\n    </tr>\n    <tr>\n      <th>AIR_SUPPORT</th>\n      <th></th>\n      <th></th>\n    </tr>\n  </thead>\n  <tbody>\n    <tr>\n      <th>0</th>\n      <td>6</td>\n      <td>9</td>\n    </tr>\n    <tr>\n      <th>1</th>\n      <td>82</td>\n      <td>65</td>\n    </tr>\n  </tbody>\n</table>\n</div>"
     },
     "execution_count": 269,
     "metadata": {},
     "output_type": "execute_result"
    }
   ],
   "source": [
    "crosstabRenalDeath"
   ],
   "metadata": {
    "collapsed": false,
    "pycharm": {
     "name": "#%%\n"
    }
   }
  },
  {
   "cell_type": "code",
   "execution_count": 270,
   "outputs": [
    {
     "data": {
      "text/plain": "82"
     },
     "execution_count": 270,
     "metadata": {},
     "output_type": "execute_result"
    }
   ],
   "source": [
    "AIR_SUPPORT=1\n",
    "crosstabRenalDeath.loc[AIR_SUPPORT,idx[RENAL_D_PRESENT]]"
   ],
   "metadata": {
    "collapsed": false,
    "pycharm": {
     "name": "#%%\n"
    }
   }
  },
  {
   "cell_type": "markdown",
   "source": [
    "## Counts of stratified cases"
   ],
   "metadata": {
    "collapsed": false,
    "pycharm": {
     "name": "#%% md\n"
    }
   }
  },
  {
   "cell_type": "markdown",
   "source": [
    "# Alive Patients\n",
    "\n"
   ],
   "metadata": {
    "collapsed": false,
    "pycharm": {
     "name": "#%% md\n"
    }
   }
  },
  {
   "cell_type": "code",
   "execution_count": 271,
   "outputs": [
    {
     "data": {
      "text/plain": "            STUDY_ID  Death  AIR_SUPPORT  RENAL_D_PRESENT\n0  UHSCOVID_00989a42  False            1            False\n1  UHSCOVID_00ac1e32  False            1            False\n2  UHSCOVID_00cb7bdd   True            1            False\n3  UHSCOVID_01f7838d  False            1             True\n4  UHSCOVID_025d562e  False            1            False",
      "text/html": "<div>\n<style scoped>\n    .dataframe tbody tr th:only-of-type {\n        vertical-align: middle;\n    }\n\n    .dataframe tbody tr th {\n        vertical-align: top;\n    }\n\n    .dataframe thead th {\n        text-align: right;\n    }\n</style>\n<table border=\"1\" class=\"dataframe\">\n  <thead>\n    <tr style=\"text-align: right;\">\n      <th></th>\n      <th>STUDY_ID</th>\n      <th>Death</th>\n      <th>AIR_SUPPORT</th>\n      <th>RENAL_D_PRESENT</th>\n    </tr>\n  </thead>\n  <tbody>\n    <tr>\n      <th>0</th>\n      <td>UHSCOVID_00989a42</td>\n      <td>False</td>\n      <td>1</td>\n      <td>False</td>\n    </tr>\n    <tr>\n      <th>1</th>\n      <td>UHSCOVID_00ac1e32</td>\n      <td>False</td>\n      <td>1</td>\n      <td>False</td>\n    </tr>\n    <tr>\n      <th>2</th>\n      <td>UHSCOVID_00cb7bdd</td>\n      <td>True</td>\n      <td>1</td>\n      <td>False</td>\n    </tr>\n    <tr>\n      <th>3</th>\n      <td>UHSCOVID_01f7838d</td>\n      <td>False</td>\n      <td>1</td>\n      <td>True</td>\n    </tr>\n    <tr>\n      <th>4</th>\n      <td>UHSCOVID_025d562e</td>\n      <td>False</td>\n      <td>1</td>\n      <td>False</td>\n    </tr>\n  </tbody>\n</table>\n</div>"
     },
     "execution_count": 271,
     "metadata": {},
     "output_type": "execute_result"
    }
   ],
   "source": [
    "dfResAll.head()"
   ],
   "metadata": {
    "collapsed": false,
    "pycharm": {
     "name": "#%%\n"
    }
   }
  },
  {
   "cell_type": "code",
   "execution_count": 271,
   "outputs": [],
   "source": [],
   "metadata": {
    "collapsed": false,
    "pycharm": {
     "name": "#%%\n"
    }
   }
  },
  {
   "cell_type": "code",
   "execution_count": 272,
   "outputs": [
    {
     "data": {
      "text/plain": "2      False\n8      False\n10     False\n11     False\n13     False\n       ...  \n469    False\n470    False\n476    False\n478    False\n483    False\nName: Death, Length: 162, dtype: bool"
     },
     "execution_count": 272,
     "metadata": {},
     "output_type": "execute_result"
    }
   ],
   "source": [
    "~dfRes['Death']"
   ],
   "metadata": {
    "collapsed": false,
    "pycharm": {
     "name": "#%%\n"
    }
   }
  },
  {
   "cell_type": "code",
   "execution_count": 273,
   "outputs": [],
   "source": [
    "dfResAlive = dfResAll[~dfResAll['Death']]\n",
    "dfRes = dfResAlive"
   ],
   "metadata": {
    "collapsed": false,
    "pycharm": {
     "name": "#%%\n"
    }
   }
  },
  {
   "cell_type": "code",
   "source": [
    "dfRes2 = dfRes\n",
    "dfRes2['AIR_SUPPORT'] = dfRes2['AIR_SUPPORT'].map({True:1,False:0})\n"
   ],
   "metadata": {
    "collapsed": false,
    "pycharm": {
     "name": "#%%\n"
    }
   },
   "execution_count": 295,
   "outputs": [
    {
     "name": "stderr",
     "output_type": "stream",
     "text": [
      "C:\\ANACONDA3\\envs\\dECMT\\lib\\site-packages\\ipykernel_launcher.py:2: SettingWithCopyWarning: \n",
      "A value is trying to be set on a copy of a slice from a DataFrame.\n",
      "Try using .loc[row_indexer,col_indexer] = value instead\n",
      "\n",
      "See the caveats in the documentation: https://pandas.pydata.org/pandas-docs/stable/user_guide/indexing.html#returning-a-view-versus-a-copy\n",
      "  \n"
     ]
    }
   ]
  },
  {
   "cell_type": "code",
   "execution_count": 296,
   "outputs": [
    {
     "data": {
      "text/plain": "Index(['STUDY_ID', 'Death', 'AIR_SUPPORT', 'RENAL_D_PRESENT'], dtype='object')"
     },
     "execution_count": 296,
     "metadata": {},
     "output_type": "execute_result"
    }
   ],
   "source": [
    "dfRes2.columns\n"
   ],
   "metadata": {
    "collapsed": false,
    "pycharm": {
     "name": "#%%\n"
    }
   }
  },
  {
   "cell_type": "code",
   "execution_count": 297,
   "outputs": [
    {
     "data": {
      "text/plain": "            STUDY_ID  Death  AIR_SUPPORT  RENAL_D_PRESENT\n0  UHSCOVID_00989a42  False            1            False\n1  UHSCOVID_00ac1e32  False            1            False\n3  UHSCOVID_01f7838d  False            1             True\n4  UHSCOVID_025d562e  False            1            False\n5  UHSCOVID_03e583e8  False            1             True",
      "text/html": "<div>\n<style scoped>\n    .dataframe tbody tr th:only-of-type {\n        vertical-align: middle;\n    }\n\n    .dataframe tbody tr th {\n        vertical-align: top;\n    }\n\n    .dataframe thead th {\n        text-align: right;\n    }\n</style>\n<table border=\"1\" class=\"dataframe\">\n  <thead>\n    <tr style=\"text-align: right;\">\n      <th></th>\n      <th>STUDY_ID</th>\n      <th>Death</th>\n      <th>AIR_SUPPORT</th>\n      <th>RENAL_D_PRESENT</th>\n    </tr>\n  </thead>\n  <tbody>\n    <tr>\n      <th>0</th>\n      <td>UHSCOVID_00989a42</td>\n      <td>False</td>\n      <td>1</td>\n      <td>False</td>\n    </tr>\n    <tr>\n      <th>1</th>\n      <td>UHSCOVID_00ac1e32</td>\n      <td>False</td>\n      <td>1</td>\n      <td>False</td>\n    </tr>\n    <tr>\n      <th>3</th>\n      <td>UHSCOVID_01f7838d</td>\n      <td>False</td>\n      <td>1</td>\n      <td>True</td>\n    </tr>\n    <tr>\n      <th>4</th>\n      <td>UHSCOVID_025d562e</td>\n      <td>False</td>\n      <td>1</td>\n      <td>False</td>\n    </tr>\n    <tr>\n      <th>5</th>\n      <td>UHSCOVID_03e583e8</td>\n      <td>False</td>\n      <td>1</td>\n      <td>True</td>\n    </tr>\n  </tbody>\n</table>\n</div>"
     },
     "execution_count": 297,
     "metadata": {},
     "output_type": "execute_result"
    }
   ],
   "source": [
    "dfRes2.head()"
   ],
   "metadata": {
    "collapsed": false,
    "pycharm": {
     "name": "#%%\n"
    }
   }
  },
  {
   "cell_type": "code",
   "execution_count": 298,
   "outputs": [
    {
     "data": {
      "text/plain": "(   Value  All  Good  Bad  Distr_Good  Distr_Bad        WoE        IV\n 0  False  233    45  188    0.661765   0.740157  -4.862053  0.381150\n 1   True   89    23   66    0.338235   0.259843  11.450870  0.897666,\n 1.2788153398294226)"
     },
     "execution_count": 298,
     "metadata": {},
     "output_type": "execute_result"
    }
   ],
   "source": [
    "calc_woe_iv_100log10(dfRes2,'RENAL_D_PRESENT','AIR_SUPPORT')\n",
    "\n",
    "\n",
    "## ILnformation value - Alive patient\n"
   ],
   "metadata": {
    "collapsed": false,
    "pycharm": {
     "name": "#%%\n"
    }
   }
  },
  {
   "cell_type": "code",
   "execution_count": 277,
   "outputs": [
    {
     "data": {
      "text/plain": "RENAL_D_PRESENT  False  True \nAIR_SUPPORT                  \n0                   45     23\n1                  188     66",
      "text/html": "<div>\n<style scoped>\n    .dataframe tbody tr th:only-of-type {\n        vertical-align: middle;\n    }\n\n    .dataframe tbody tr th {\n        vertical-align: top;\n    }\n\n    .dataframe thead th {\n        text-align: right;\n    }\n</style>\n<table border=\"1\" class=\"dataframe\">\n  <thead>\n    <tr style=\"text-align: right;\">\n      <th>RENAL_D_PRESENT</th>\n      <th>False</th>\n      <th>True</th>\n    </tr>\n    <tr>\n      <th>AIR_SUPPORT</th>\n      <th></th>\n      <th></th>\n    </tr>\n  </thead>\n  <tbody>\n    <tr>\n      <th>0</th>\n      <td>45</td>\n      <td>23</td>\n    </tr>\n    <tr>\n      <th>1</th>\n      <td>188</td>\n      <td>66</td>\n    </tr>\n  </tbody>\n</table>\n</div>"
     },
     "execution_count": 277,
     "metadata": {},
     "output_type": "execute_result"
    }
   ],
   "source": [
    "# crosstabRenalDeath = pd.crosstab(dfRes3['Death'],dfRes3['RENAL_D_PRESENT'],margins=True,margins_name='Total')\n",
    "crosstabRenalDeath = pd.crosstab(dfRes['AIR_SUPPORT'],dfRes['RENAL_D_PRESENT'])\n",
    "crosstabRenalDeath\n"
   ],
   "metadata": {
    "collapsed": false,
    "pycharm": {
     "name": "#%%\n"
    }
   }
  },
  {
   "cell_type": "code",
   "execution_count": 278,
   "outputs": [
    {
     "data": {
      "text/plain": "RENAL_D_PRESENT  False  True  All\nAIR_SUPPORT                      \n0                   45    23   68\n1                  188    66  254\nAll                233    89  322",
      "text/html": "<div>\n<style scoped>\n    .dataframe tbody tr th:only-of-type {\n        vertical-align: middle;\n    }\n\n    .dataframe tbody tr th {\n        vertical-align: top;\n    }\n\n    .dataframe thead th {\n        text-align: right;\n    }\n</style>\n<table border=\"1\" class=\"dataframe\">\n  <thead>\n    <tr style=\"text-align: right;\">\n      <th>RENAL_D_PRESENT</th>\n      <th>False</th>\n      <th>True</th>\n      <th>All</th>\n    </tr>\n    <tr>\n      <th>AIR_SUPPORT</th>\n      <th></th>\n      <th></th>\n      <th></th>\n    </tr>\n  </thead>\n  <tbody>\n    <tr>\n      <th>0</th>\n      <td>45</td>\n      <td>23</td>\n      <td>68</td>\n    </tr>\n    <tr>\n      <th>1</th>\n      <td>188</td>\n      <td>66</td>\n      <td>254</td>\n    </tr>\n    <tr>\n      <th>All</th>\n      <td>233</td>\n      <td>89</td>\n      <td>322</td>\n    </tr>\n  </tbody>\n</table>\n</div>"
     },
     "execution_count": 278,
     "metadata": {},
     "output_type": "execute_result"
    }
   ],
   "source": [
    "crosstabRenalDeath2 = pd.crosstab(dfRes['AIR_SUPPORT'],dfRes['RENAL_D_PRESENT'],margins=True)\n",
    "crosstabRenalDeath2\n",
    "\n"
   ],
   "metadata": {
    "collapsed": false,
    "pycharm": {
     "name": "#%%\n"
    }
   }
  },
  {
   "cell_type": "code",
   "execution_count": 278,
   "outputs": [],
   "source": [],
   "metadata": {
    "collapsed": false,
    "pycharm": {
     "name": "#%%\n"
    }
   }
  },
  {
   "cell_type": "code",
   "execution_count": 279,
   "outputs": [
    {
     "data": {
      "text/plain": "RENAL_D_PRESENT     False      True      All\nAIR_SUPPORT                                 \n0                0.139752  0.071429  0.21118\n1                0.583851  0.204969  0.78882\nAll              0.723602  0.276398  1.00000",
      "text/html": "<div>\n<style scoped>\n    .dataframe tbody tr th:only-of-type {\n        vertical-align: middle;\n    }\n\n    .dataframe tbody tr th {\n        vertical-align: top;\n    }\n\n    .dataframe thead th {\n        text-align: right;\n    }\n</style>\n<table border=\"1\" class=\"dataframe\">\n  <thead>\n    <tr style=\"text-align: right;\">\n      <th>RENAL_D_PRESENT</th>\n      <th>False</th>\n      <th>True</th>\n      <th>All</th>\n    </tr>\n    <tr>\n      <th>AIR_SUPPORT</th>\n      <th></th>\n      <th></th>\n      <th></th>\n    </tr>\n  </thead>\n  <tbody>\n    <tr>\n      <th>0</th>\n      <td>0.139752</td>\n      <td>0.071429</td>\n      <td>0.21118</td>\n    </tr>\n    <tr>\n      <th>1</th>\n      <td>0.583851</td>\n      <td>0.204969</td>\n      <td>0.78882</td>\n    </tr>\n    <tr>\n      <th>All</th>\n      <td>0.723602</td>\n      <td>0.276398</td>\n      <td>1.00000</td>\n    </tr>\n  </tbody>\n</table>\n</div>"
     },
     "execution_count": 279,
     "metadata": {},
     "output_type": "execute_result"
    }
   ],
   "source": [
    "crosstabRenalDeathNorm = pd.crosstab(dfRes['AIR_SUPPORT'], dfRes['RENAL_D_PRESENT'],normalize=True,margins=True)\n",
    "crosstabRenalDeathNorm"
   ],
   "metadata": {
    "collapsed": false,
    "pycharm": {
     "name": "#%%\n"
    }
   }
  },
  {
   "cell_type": "code",
   "execution_count": 280,
   "outputs": [
    {
     "data": {
      "text/plain": "Int64Index([0, 1], dtype='int64', name='AIR_SUPPORT')"
     },
     "execution_count": 280,
     "metadata": {},
     "output_type": "execute_result"
    }
   ],
   "source": [
    "crosstabRenalDeath.index"
   ],
   "metadata": {
    "collapsed": false,
    "pycharm": {
     "name": "#%%\n"
    }
   }
  },
  {
   "cell_type": "code",
   "execution_count": 281,
   "outputs": [
    {
     "data": {
      "text/plain": "Index([False, True], dtype='object', name='RENAL_D_PRESENT')"
     },
     "execution_count": 281,
     "metadata": {},
     "output_type": "execute_result"
    }
   ],
   "source": [
    "crosstabRenalDeath.columns"
   ],
   "metadata": {
    "collapsed": false,
    "pycharm": {
     "name": "#%%\n"
    }
   }
  },
  {
   "cell_type": "code",
   "execution_count": 282,
   "outputs": [
    {
     "data": {
      "text/plain": "RENAL_D_PRESENT  False  True \nAIR_SUPPORT                  \n0                   45     23\n1                  188     66",
      "text/html": "<div>\n<style scoped>\n    .dataframe tbody tr th:only-of-type {\n        vertical-align: middle;\n    }\n\n    .dataframe tbody tr th {\n        vertical-align: top;\n    }\n\n    .dataframe thead th {\n        text-align: right;\n    }\n</style>\n<table border=\"1\" class=\"dataframe\">\n  <thead>\n    <tr style=\"text-align: right;\">\n      <th>RENAL_D_PRESENT</th>\n      <th>False</th>\n      <th>True</th>\n    </tr>\n    <tr>\n      <th>AIR_SUPPORT</th>\n      <th></th>\n      <th></th>\n    </tr>\n  </thead>\n  <tbody>\n    <tr>\n      <th>0</th>\n      <td>45</td>\n      <td>23</td>\n    </tr>\n    <tr>\n      <th>1</th>\n      <td>188</td>\n      <td>66</td>\n    </tr>\n  </tbody>\n</table>\n</div>"
     },
     "execution_count": 282,
     "metadata": {},
     "output_type": "execute_result"
    }
   ],
   "source": [
    "crosstabRenalDeath.reset_index()\n",
    "crosstabRenalDeath"
   ],
   "metadata": {
    "collapsed": false,
    "pycharm": {
     "name": "#%%\n"
    }
   }
  },
  {
   "cell_type": "code",
   "execution_count": 283,
   "outputs": [],
   "source": [
    "# crosstabRenalDeath.loc['RENAL_D_PRESENT']"
   ],
   "metadata": {
    "collapsed": false,
    "pycharm": {
     "name": "#%%\n"
    }
   }
  },
  {
   "cell_type": "markdown",
   "source": [
    "## Alive Patients - Chi2 test on significance of renal disease for death outcome.\n"
   ],
   "metadata": {
    "collapsed": false
   }
  },
  {
   "cell_type": "code",
   "execution_count": 284,
   "outputs": [
    {
     "name": "stdout",
     "output_type": "stream",
     "text": [
      "stat = 1.2795233096699719\n",
      "p = 0.25798768660146815\n",
      "dof = 1\n",
      "expected = [[ 49.20496894  18.79503106]\n",
      " [183.79503106  70.20496894]]\n"
     ]
    },
    {
     "data": {
      "text/plain": "<IPython.core.display.Markdown object>",
      "text/markdown": "Since p=0.3<0.05, based on Chi2 test we can reject hypothesis that death as outcome does not depend on the presence of a renal disease."
     },
     "execution_count": 284,
     "metadata": {},
     "output_type": "execute_result"
    }
   ],
   "source": [
    "from scipy.stats import chi2_contingency\n",
    "\n",
    "# defining the table\n",
    "# data = [crosstabRenalDeath.loc['False',:].values().reshape(1,-1), [234, 242, 232]]\n",
    "stat, p, dof, expected = chi2_contingency(crosstabRenalDeath)\n",
    "print(f\"stat = {stat}\")\n",
    "print(f\"p = {p}\")\n",
    "print(f\"dof = {dof}\")\n",
    "print(f\"expected = {expected}\")\n",
    "md(f\"Since p={p:.1g}<0.05, based on Chi2 test we can reject hypothesis that death as outcome does not depend on the presence of a renal disease.\")"
   ],
   "metadata": {
    "collapsed": false,
    "pycharm": {
     "name": "#%%\n"
    }
   }
  },
  {
   "cell_type": "markdown",
   "source": [
    "## Power of evidence"
   ],
   "metadata": {
    "collapsed": false
   }
  },
  {
   "cell_type": "code",
   "execution_count": 285,
   "outputs": [
    {
     "data": {
      "text/plain": "RENAL_D_PRESENT     False      True      All\nAIR_SUPPORT                                 \n0                0.139752  0.071429  0.21118\n1                0.583851  0.204969  0.78882\nAll              0.723602  0.276398  1.00000",
      "text/html": "<div>\n<style scoped>\n    .dataframe tbody tr th:only-of-type {\n        vertical-align: middle;\n    }\n\n    .dataframe tbody tr th {\n        vertical-align: top;\n    }\n\n    .dataframe thead th {\n        text-align: right;\n    }\n</style>\n<table border=\"1\" class=\"dataframe\">\n  <thead>\n    <tr style=\"text-align: right;\">\n      <th>RENAL_D_PRESENT</th>\n      <th>False</th>\n      <th>True</th>\n      <th>All</th>\n    </tr>\n    <tr>\n      <th>AIR_SUPPORT</th>\n      <th></th>\n      <th></th>\n      <th></th>\n    </tr>\n  </thead>\n  <tbody>\n    <tr>\n      <th>0</th>\n      <td>0.139752</td>\n      <td>0.071429</td>\n      <td>0.21118</td>\n    </tr>\n    <tr>\n      <th>1</th>\n      <td>0.583851</td>\n      <td>0.204969</td>\n      <td>0.78882</td>\n    </tr>\n    <tr>\n      <th>All</th>\n      <td>0.723602</td>\n      <td>0.276398</td>\n      <td>1.00000</td>\n    </tr>\n  </tbody>\n</table>\n</div>"
     },
     "execution_count": 285,
     "metadata": {},
     "output_type": "execute_result"
    }
   ],
   "source": [
    "crosstabRenalDeathNorm"
   ],
   "metadata": {
    "collapsed": false,
    "pycharm": {
     "name": "#%%\n"
    }
   }
  },
  {
   "cell_type": "code",
   "execution_count": 286,
   "outputs": [
    {
     "data": {
      "text/plain": "<IPython.core.display.Markdown object>",
      "text/markdown": " Conditional probabilities"
     },
     "execution_count": 286,
     "metadata": {},
     "output_type": "execute_result"
    }
   ],
   "source": [
    "md(f\" Conditional probabilities\")"
   ],
   "metadata": {
    "collapsed": false,
    "pycharm": {
     "name": "#%%\n"
    }
   }
  },
  {
   "cell_type": "code",
   "execution_count": 287,
   "outputs": [
    {
     "data": {
      "text/plain": "RENAL_D_PRESENT  False  True \nAIR_SUPPORT                  \n0                   45     23\n1                  188     66",
      "text/html": "<div>\n<style scoped>\n    .dataframe tbody tr th:only-of-type {\n        vertical-align: middle;\n    }\n\n    .dataframe tbody tr th {\n        vertical-align: top;\n    }\n\n    .dataframe thead th {\n        text-align: right;\n    }\n</style>\n<table border=\"1\" class=\"dataframe\">\n  <thead>\n    <tr style=\"text-align: right;\">\n      <th>RENAL_D_PRESENT</th>\n      <th>False</th>\n      <th>True</th>\n    </tr>\n    <tr>\n      <th>AIR_SUPPORT</th>\n      <th></th>\n      <th></th>\n    </tr>\n  </thead>\n  <tbody>\n    <tr>\n      <th>0</th>\n      <td>45</td>\n      <td>23</td>\n    </tr>\n    <tr>\n      <th>1</th>\n      <td>188</td>\n      <td>66</td>\n    </tr>\n  </tbody>\n</table>\n</div>"
     },
     "execution_count": 287,
     "metadata": {},
     "output_type": "execute_result"
    }
   ],
   "source": [
    "crosstabRenalDeath\n"
   ],
   "metadata": {
    "collapsed": false,
    "pycharm": {
     "name": "#%%\n"
    }
   }
  },
  {
   "cell_type": "code",
   "execution_count": 288,
   "outputs": [],
   "source": [
    "idx=pd.IndexSlice\n",
    "R_T = crosstabRenalDeath.loc[:,idx[True]].sum()"
   ],
   "metadata": {
    "collapsed": false,
    "pycharm": {
     "name": "#%%\n"
    }
   }
  },
  {
   "cell_type": "code",
   "execution_count": 289,
   "outputs": [
    {
     "data": {
      "text/plain": "RENAL_D_PRESENT     False      True      All\nAIR_SUPPORT                                 \n0                0.139752  0.071429  0.21118\n1                0.583851  0.204969  0.78882\nAll              0.723602  0.276398  1.00000",
      "text/html": "<div>\n<style scoped>\n    .dataframe tbody tr th:only-of-type {\n        vertical-align: middle;\n    }\n\n    .dataframe tbody tr th {\n        vertical-align: top;\n    }\n\n    .dataframe thead th {\n        text-align: right;\n    }\n</style>\n<table border=\"1\" class=\"dataframe\">\n  <thead>\n    <tr style=\"text-align: right;\">\n      <th>RENAL_D_PRESENT</th>\n      <th>False</th>\n      <th>True</th>\n      <th>All</th>\n    </tr>\n    <tr>\n      <th>AIR_SUPPORT</th>\n      <th></th>\n      <th></th>\n      <th></th>\n    </tr>\n  </thead>\n  <tbody>\n    <tr>\n      <th>0</th>\n      <td>0.139752</td>\n      <td>0.071429</td>\n      <td>0.21118</td>\n    </tr>\n    <tr>\n      <th>1</th>\n      <td>0.583851</td>\n      <td>0.204969</td>\n      <td>0.78882</td>\n    </tr>\n    <tr>\n      <th>All</th>\n      <td>0.723602</td>\n      <td>0.276398</td>\n      <td>1.00000</td>\n    </tr>\n  </tbody>\n</table>\n</div>"
     },
     "execution_count": 289,
     "metadata": {},
     "output_type": "execute_result"
    }
   ],
   "source": [
    "crosstabRenalDeathNorm"
   ],
   "metadata": {
    "collapsed": false,
    "pycharm": {
     "name": "#%%\n"
    }
   }
  },
  {
   "cell_type": "code",
   "execution_count": 290,
   "outputs": [
    {
     "name": "stdout",
     "output_type": "stream",
     "text": [
      "PRT=0.27639751552795033 PRF = 0.7236024844720497 \n",
      "PDTGRT=0.7415730337078651 PDFGRT=0.2584269662921349\n",
      "WoERFGD=1.1184601924759408\n",
      "PRT=0.27639751552795033 PRF = 0.7236024844720497 \n",
      "PDTGRF=0.8068669527896996 PDFGRT=0.19313304721030042\n",
      "WoERTGD=0.7682300581992465\n"
     ]
    }
   ],
   "source": [
    "R_T\n",
    "P_R_T = crosstabRenalDeathNorm.loc['All',True]\n",
    "P_D_T = crosstabRenalDeathNorm.loc[True,'All']\n",
    "P_R_F = crosstabRenalDeathNorm.loc['All',False]\n",
    "P_D_F = crosstabRenalDeathNorm.loc[False,'All']\n",
    "PDTGRT = crosstabRenalDeathNorm.loc[True,True]/P_R_T\n",
    "PDFGRT = 1-PDTGRT\n",
    "# ********************************\n",
    "PDFGRF = crosstabRenalDeathNorm.loc[False,False]/P_R_F\n",
    "PDTGRF = 1-PDFGRF\n",
    "# **********\n",
    "PRTGDT =  crosstabRenalDeathNorm.loc[True,True]/P_D_T\n",
    "PRFGDT = 1-PRTGDT\n",
    "PRFGDF = crosstabRenalDeathNorm.loc[False,False]/P_D_F\n",
    "PRTGDF = 1-PRFGDF\n",
    "WoERTGD = PRTGDT/PRTGDF\n",
    "WoERFGD = PRFGDT/PRFGDF\n",
    "# ********************************\n",
    "print(f\"PRT={P_R_T} PRF = {P_R_F} \")\n",
    "print(f\"PDTGRT={PDTGRT} PDFGRT={PDFGRT}\")\n",
    "print(f\"WoERFGD={WoERFGD}\")\n",
    "# ********************************\n",
    "print(f\"PRT={P_R_T} PRF = {P_R_F} \")\n",
    "print(f\"PDTGRF={PDTGRF} PDFGRT={PDFGRF}\")\n",
    "print(f\"WoERTGD={WoERTGD}\")"
   ],
   "metadata": {
    "collapsed": false,
    "pycharm": {
     "name": "#%%\n"
    }
   }
  },
  {
   "cell_type": "markdown",
   "source": [
    "# Alive patients - Value of information (WoE)\n",
    "The more is WoE different from 0 the more informative is renal disease for prediction of death, while positive value means support for selected result and negative value means the support of other result by evidence.\n",
    "\n",
    "\n",
    "\n",
    "$$WoE(Evidence|Target) =100*log_{10}\\Bigg  (\\frac{P(Evidence|Target)}{P(Evidence|\\neg Target)}\\Bigg)$$\n",
    "\n",
    "$$WoE(\\neg Evidence|Target) =100*log_{10}\\Bigg(\\frac{P(\\neg Evidence|Target)}{P(\\neg Evidence|\\neg Target)}\\Bigg)$$\n",
    "\n",
    "$$WoE \\in (-\\infty,\\infty )$$$\n"
   ],
   "metadata": {
    "collapsed": false
   }
  },
  {
   "cell_type": "code",
   "execution_count": 291,
   "outputs": [
    {
     "data": {
      "text/plain": "<IPython.core.display.Markdown object>",
      "text/markdown": "Weight of Evidence, WoE(Renal_disease=Absent|Death) = 4.862053157463453"
     },
     "execution_count": 291,
     "metadata": {},
     "output_type": "execute_result"
    }
   ],
   "source": [
    "md(f\"Weight of Evidence, WoE(Renal_disease=Absent|Death) = {100*np.log10(WoERFGD)}\")"
   ],
   "metadata": {
    "collapsed": false,
    "pycharm": {
     "name": "#%%\n"
    }
   }
  },
  {
   "cell_type": "code",
   "execution_count": 292,
   "outputs": [
    {
     "data": {
      "text/plain": "<IPython.core.display.Markdown object>",
      "text/markdown": "Weight of Evidence, WoE(Renal_disease=Present|Death) = -11.450870438942614"
     },
     "execution_count": 292,
     "metadata": {},
     "output_type": "execute_result"
    }
   ],
   "source": [
    "md(f\"Weight of Evidence, WoE(Renal_disease=Present|Death) = {100*np.log10(WoERTGD)}\")"
   ],
   "metadata": {
    "collapsed": false,
    "pycharm": {
     "name": "#%%\n"
    }
   }
  },
  {
   "cell_type": "code",
   "execution_count": 293,
   "outputs": [
    {
     "data": {
      "text/plain": "AIR_SUPPORT\n0     45\n1    188\ndtype: int64"
     },
     "execution_count": 293,
     "metadata": {},
     "output_type": "execute_result"
    }
   ],
   "source": [
    "RENAL_D_PRESENT = False\n",
    "crosstabRenalDeath.loc[:,idx[RENAL_D_PRESENT]]"
   ],
   "metadata": {
    "collapsed": false,
    "pycharm": {
     "name": "#%%\n"
    }
   }
  },
  {
   "cell_type": "code",
   "execution_count": 294,
   "outputs": [
    {
     "ename": "KeyError",
     "evalue": "False",
     "output_type": "error",
     "traceback": [
      "\u001B[1;31m---------------------------------------------------------------------------\u001B[0m",
      "\u001B[1;31mKeyError\u001B[0m                                  Traceback (most recent call last)",
      "\u001B[1;32mC:\\ANACONDA3\\envs\\dECMT\\lib\\site-packages\\pandas\\core\\indexes\\base.py\u001B[0m in \u001B[0;36mget_loc\u001B[1;34m(self, key, method, tolerance)\u001B[0m\n\u001B[0;32m   2645\u001B[0m             \u001B[1;32mtry\u001B[0m\u001B[1;33m:\u001B[0m\u001B[1;33m\u001B[0m\u001B[1;33m\u001B[0m\u001B[0m\n\u001B[1;32m-> 2646\u001B[1;33m                 \u001B[1;32mreturn\u001B[0m \u001B[0mself\u001B[0m\u001B[1;33m.\u001B[0m\u001B[0m_engine\u001B[0m\u001B[1;33m.\u001B[0m\u001B[0mget_loc\u001B[0m\u001B[1;33m(\u001B[0m\u001B[0mkey\u001B[0m\u001B[1;33m)\u001B[0m\u001B[1;33m\u001B[0m\u001B[1;33m\u001B[0m\u001B[0m\n\u001B[0m\u001B[0;32m   2647\u001B[0m             \u001B[1;32mexcept\u001B[0m \u001B[0mKeyError\u001B[0m\u001B[1;33m:\u001B[0m\u001B[1;33m\u001B[0m\u001B[1;33m\u001B[0m\u001B[0m\n",
      "\u001B[1;32mpandas\\_libs\\index.pyx\u001B[0m in \u001B[0;36mpandas._libs.index.IndexEngine.get_loc\u001B[1;34m()\u001B[0m\n",
      "\u001B[1;32mpandas\\_libs\\index.pyx\u001B[0m in \u001B[0;36mpandas._libs.index.IndexEngine.get_loc\u001B[1;34m()\u001B[0m\n",
      "\u001B[1;32mpandas\\_libs\\index_class_helper.pxi\u001B[0m in \u001B[0;36mpandas._libs.index.Int64Engine._check_type\u001B[1;34m()\u001B[0m\n",
      "\u001B[1;31mKeyError\u001B[0m: False",
      "\nDuring handling of the above exception, another exception occurred:\n",
      "\u001B[1;31mKeyError\u001B[0m                                  Traceback (most recent call last)",
      "\u001B[1;32m<ipython-input-294-86e73a3bee75>\u001B[0m in \u001B[0;36m<module>\u001B[1;34m\u001B[0m\n\u001B[0;32m      1\u001B[0m \u001B[0mDied\u001B[0m\u001B[1;33m=\u001B[0m\u001B[1;32mFalse\u001B[0m\u001B[1;33m\u001B[0m\u001B[1;33m\u001B[0m\u001B[0m\n\u001B[1;32m----> 2\u001B[1;33m \u001B[0mcrosstabRenalDeath\u001B[0m\u001B[1;33m.\u001B[0m\u001B[0mloc\u001B[0m\u001B[1;33m[\u001B[0m\u001B[0mDied\u001B[0m\u001B[1;33m,\u001B[0m\u001B[0midx\u001B[0m\u001B[1;33m[\u001B[0m\u001B[0mRENAL_D_PRESENT\u001B[0m\u001B[1;33m]\u001B[0m\u001B[1;33m]\u001B[0m\u001B[1;33m\u001B[0m\u001B[1;33m\u001B[0m\u001B[0m\n\u001B[0m\u001B[0;32m      3\u001B[0m \u001B[1;33m\u001B[0m\u001B[0m\n\u001B[0;32m      4\u001B[0m \u001B[1;33m\u001B[0m\u001B[0m\n",
      "\u001B[1;32mC:\\ANACONDA3\\envs\\dECMT\\lib\\site-packages\\pandas\\core\\indexing.py\u001B[0m in \u001B[0;36m__getitem__\u001B[1;34m(self, key)\u001B[0m\n\u001B[0;32m   1760\u001B[0m                 \u001B[1;32mexcept\u001B[0m \u001B[1;33m(\u001B[0m\u001B[0mKeyError\u001B[0m\u001B[1;33m,\u001B[0m \u001B[0mIndexError\u001B[0m\u001B[1;33m,\u001B[0m \u001B[0mAttributeError\u001B[0m\u001B[1;33m)\u001B[0m\u001B[1;33m:\u001B[0m\u001B[1;33m\u001B[0m\u001B[1;33m\u001B[0m\u001B[0m\n\u001B[0;32m   1761\u001B[0m                     \u001B[1;32mpass\u001B[0m\u001B[1;33m\u001B[0m\u001B[1;33m\u001B[0m\u001B[0m\n\u001B[1;32m-> 1762\u001B[1;33m             \u001B[1;32mreturn\u001B[0m \u001B[0mself\u001B[0m\u001B[1;33m.\u001B[0m\u001B[0m_getitem_tuple\u001B[0m\u001B[1;33m(\u001B[0m\u001B[0mkey\u001B[0m\u001B[1;33m)\u001B[0m\u001B[1;33m\u001B[0m\u001B[1;33m\u001B[0m\u001B[0m\n\u001B[0m\u001B[0;32m   1763\u001B[0m         \u001B[1;32melse\u001B[0m\u001B[1;33m:\u001B[0m\u001B[1;33m\u001B[0m\u001B[1;33m\u001B[0m\u001B[0m\n\u001B[0;32m   1764\u001B[0m             \u001B[1;31m# we by definition only have the 0th axis\u001B[0m\u001B[1;33m\u001B[0m\u001B[1;33m\u001B[0m\u001B[1;33m\u001B[0m\u001B[0m\n",
      "\u001B[1;32mC:\\ANACONDA3\\envs\\dECMT\\lib\\site-packages\\pandas\\core\\indexing.py\u001B[0m in \u001B[0;36m_getitem_tuple\u001B[1;34m(self, tup)\u001B[0m\n\u001B[0;32m   1270\u001B[0m     \u001B[1;32mdef\u001B[0m \u001B[0m_getitem_tuple\u001B[0m\u001B[1;33m(\u001B[0m\u001B[0mself\u001B[0m\u001B[1;33m,\u001B[0m \u001B[0mtup\u001B[0m\u001B[1;33m:\u001B[0m \u001B[0mTuple\u001B[0m\u001B[1;33m)\u001B[0m\u001B[1;33m:\u001B[0m\u001B[1;33m\u001B[0m\u001B[1;33m\u001B[0m\u001B[0m\n\u001B[0;32m   1271\u001B[0m         \u001B[1;32mtry\u001B[0m\u001B[1;33m:\u001B[0m\u001B[1;33m\u001B[0m\u001B[1;33m\u001B[0m\u001B[0m\n\u001B[1;32m-> 1272\u001B[1;33m             \u001B[1;32mreturn\u001B[0m \u001B[0mself\u001B[0m\u001B[1;33m.\u001B[0m\u001B[0m_getitem_lowerdim\u001B[0m\u001B[1;33m(\u001B[0m\u001B[0mtup\u001B[0m\u001B[1;33m)\u001B[0m\u001B[1;33m\u001B[0m\u001B[1;33m\u001B[0m\u001B[0m\n\u001B[0m\u001B[0;32m   1273\u001B[0m         \u001B[1;32mexcept\u001B[0m \u001B[0mIndexingError\u001B[0m\u001B[1;33m:\u001B[0m\u001B[1;33m\u001B[0m\u001B[1;33m\u001B[0m\u001B[0m\n\u001B[0;32m   1274\u001B[0m             \u001B[1;32mpass\u001B[0m\u001B[1;33m\u001B[0m\u001B[1;33m\u001B[0m\u001B[0m\n",
      "\u001B[1;32mC:\\ANACONDA3\\envs\\dECMT\\lib\\site-packages\\pandas\\core\\indexing.py\u001B[0m in \u001B[0;36m_getitem_lowerdim\u001B[1;34m(self, tup)\u001B[0m\n\u001B[0;32m   1387\u001B[0m         \u001B[1;32mfor\u001B[0m \u001B[0mi\u001B[0m\u001B[1;33m,\u001B[0m \u001B[0mkey\u001B[0m \u001B[1;32min\u001B[0m \u001B[0menumerate\u001B[0m\u001B[1;33m(\u001B[0m\u001B[0mtup\u001B[0m\u001B[1;33m)\u001B[0m\u001B[1;33m:\u001B[0m\u001B[1;33m\u001B[0m\u001B[1;33m\u001B[0m\u001B[0m\n\u001B[0;32m   1388\u001B[0m             \u001B[1;32mif\u001B[0m \u001B[0mis_label_like\u001B[0m\u001B[1;33m(\u001B[0m\u001B[0mkey\u001B[0m\u001B[1;33m)\u001B[0m \u001B[1;32mor\u001B[0m \u001B[0misinstance\u001B[0m\u001B[1;33m(\u001B[0m\u001B[0mkey\u001B[0m\u001B[1;33m,\u001B[0m \u001B[0mtuple\u001B[0m\u001B[1;33m)\u001B[0m\u001B[1;33m:\u001B[0m\u001B[1;33m\u001B[0m\u001B[1;33m\u001B[0m\u001B[0m\n\u001B[1;32m-> 1389\u001B[1;33m                 \u001B[0msection\u001B[0m \u001B[1;33m=\u001B[0m \u001B[0mself\u001B[0m\u001B[1;33m.\u001B[0m\u001B[0m_getitem_axis\u001B[0m\u001B[1;33m(\u001B[0m\u001B[0mkey\u001B[0m\u001B[1;33m,\u001B[0m \u001B[0maxis\u001B[0m\u001B[1;33m=\u001B[0m\u001B[0mi\u001B[0m\u001B[1;33m)\u001B[0m\u001B[1;33m\u001B[0m\u001B[1;33m\u001B[0m\u001B[0m\n\u001B[0m\u001B[0;32m   1390\u001B[0m \u001B[1;33m\u001B[0m\u001B[0m\n\u001B[0;32m   1391\u001B[0m                 \u001B[1;31m# we have yielded a scalar ?\u001B[0m\u001B[1;33m\u001B[0m\u001B[1;33m\u001B[0m\u001B[1;33m\u001B[0m\u001B[0m\n",
      "\u001B[1;32mC:\\ANACONDA3\\envs\\dECMT\\lib\\site-packages\\pandas\\core\\indexing.py\u001B[0m in \u001B[0;36m_getitem_axis\u001B[1;34m(self, key, axis)\u001B[0m\n\u001B[0;32m   1963\u001B[0m         \u001B[1;31m# fall thru to straight lookup\u001B[0m\u001B[1;33m\u001B[0m\u001B[1;33m\u001B[0m\u001B[1;33m\u001B[0m\u001B[0m\n\u001B[0;32m   1964\u001B[0m         \u001B[0mself\u001B[0m\u001B[1;33m.\u001B[0m\u001B[0m_validate_key\u001B[0m\u001B[1;33m(\u001B[0m\u001B[0mkey\u001B[0m\u001B[1;33m,\u001B[0m \u001B[0maxis\u001B[0m\u001B[1;33m)\u001B[0m\u001B[1;33m\u001B[0m\u001B[1;33m\u001B[0m\u001B[0m\n\u001B[1;32m-> 1965\u001B[1;33m         \u001B[1;32mreturn\u001B[0m \u001B[0mself\u001B[0m\u001B[1;33m.\u001B[0m\u001B[0m_get_label\u001B[0m\u001B[1;33m(\u001B[0m\u001B[0mkey\u001B[0m\u001B[1;33m,\u001B[0m \u001B[0maxis\u001B[0m\u001B[1;33m=\u001B[0m\u001B[0maxis\u001B[0m\u001B[1;33m)\u001B[0m\u001B[1;33m\u001B[0m\u001B[1;33m\u001B[0m\u001B[0m\n\u001B[0m\u001B[0;32m   1966\u001B[0m \u001B[1;33m\u001B[0m\u001B[0m\n\u001B[0;32m   1967\u001B[0m \u001B[1;33m\u001B[0m\u001B[0m\n",
      "\u001B[1;32mC:\\ANACONDA3\\envs\\dECMT\\lib\\site-packages\\pandas\\core\\indexing.py\u001B[0m in \u001B[0;36m_get_label\u001B[1;34m(self, label, axis)\u001B[0m\n\u001B[0;32m    623\u001B[0m             \u001B[1;32mraise\u001B[0m \u001B[0mIndexingError\u001B[0m\u001B[1;33m(\u001B[0m\u001B[1;34m\"no slices here, handle elsewhere\"\u001B[0m\u001B[1;33m)\u001B[0m\u001B[1;33m\u001B[0m\u001B[1;33m\u001B[0m\u001B[0m\n\u001B[0;32m    624\u001B[0m \u001B[1;33m\u001B[0m\u001B[0m\n\u001B[1;32m--> 625\u001B[1;33m         \u001B[1;32mreturn\u001B[0m \u001B[0mself\u001B[0m\u001B[1;33m.\u001B[0m\u001B[0mobj\u001B[0m\u001B[1;33m.\u001B[0m\u001B[0m_xs\u001B[0m\u001B[1;33m(\u001B[0m\u001B[0mlabel\u001B[0m\u001B[1;33m,\u001B[0m \u001B[0maxis\u001B[0m\u001B[1;33m=\u001B[0m\u001B[0maxis\u001B[0m\u001B[1;33m)\u001B[0m\u001B[1;33m\u001B[0m\u001B[1;33m\u001B[0m\u001B[0m\n\u001B[0m\u001B[0;32m    626\u001B[0m \u001B[1;33m\u001B[0m\u001B[0m\n\u001B[0;32m    627\u001B[0m     \u001B[1;32mdef\u001B[0m \u001B[0m_get_loc\u001B[0m\u001B[1;33m(\u001B[0m\u001B[0mself\u001B[0m\u001B[1;33m,\u001B[0m \u001B[0mkey\u001B[0m\u001B[1;33m:\u001B[0m \u001B[0mint\u001B[0m\u001B[1;33m,\u001B[0m \u001B[0maxis\u001B[0m\u001B[1;33m:\u001B[0m \u001B[0mint\u001B[0m\u001B[1;33m)\u001B[0m\u001B[1;33m:\u001B[0m\u001B[1;33m\u001B[0m\u001B[1;33m\u001B[0m\u001B[0m\n",
      "\u001B[1;32mC:\\ANACONDA3\\envs\\dECMT\\lib\\site-packages\\pandas\\core\\generic.py\u001B[0m in \u001B[0;36mxs\u001B[1;34m(self, key, axis, level, drop_level)\u001B[0m\n\u001B[0;32m   3535\u001B[0m             \u001B[0mloc\u001B[0m\u001B[1;33m,\u001B[0m \u001B[0mnew_index\u001B[0m \u001B[1;33m=\u001B[0m \u001B[0mself\u001B[0m\u001B[1;33m.\u001B[0m\u001B[0mindex\u001B[0m\u001B[1;33m.\u001B[0m\u001B[0mget_loc_level\u001B[0m\u001B[1;33m(\u001B[0m\u001B[0mkey\u001B[0m\u001B[1;33m,\u001B[0m \u001B[0mdrop_level\u001B[0m\u001B[1;33m=\u001B[0m\u001B[0mdrop_level\u001B[0m\u001B[1;33m)\u001B[0m\u001B[1;33m\u001B[0m\u001B[1;33m\u001B[0m\u001B[0m\n\u001B[0;32m   3536\u001B[0m         \u001B[1;32melse\u001B[0m\u001B[1;33m:\u001B[0m\u001B[1;33m\u001B[0m\u001B[1;33m\u001B[0m\u001B[0m\n\u001B[1;32m-> 3537\u001B[1;33m             \u001B[0mloc\u001B[0m \u001B[1;33m=\u001B[0m \u001B[0mself\u001B[0m\u001B[1;33m.\u001B[0m\u001B[0mindex\u001B[0m\u001B[1;33m.\u001B[0m\u001B[0mget_loc\u001B[0m\u001B[1;33m(\u001B[0m\u001B[0mkey\u001B[0m\u001B[1;33m)\u001B[0m\u001B[1;33m\u001B[0m\u001B[1;33m\u001B[0m\u001B[0m\n\u001B[0m\u001B[0;32m   3538\u001B[0m \u001B[1;33m\u001B[0m\u001B[0m\n\u001B[0;32m   3539\u001B[0m             \u001B[1;32mif\u001B[0m \u001B[0misinstance\u001B[0m\u001B[1;33m(\u001B[0m\u001B[0mloc\u001B[0m\u001B[1;33m,\u001B[0m \u001B[0mnp\u001B[0m\u001B[1;33m.\u001B[0m\u001B[0mndarray\u001B[0m\u001B[1;33m)\u001B[0m\u001B[1;33m:\u001B[0m\u001B[1;33m\u001B[0m\u001B[1;33m\u001B[0m\u001B[0m\n",
      "\u001B[1;32mC:\\ANACONDA3\\envs\\dECMT\\lib\\site-packages\\pandas\\core\\indexes\\base.py\u001B[0m in \u001B[0;36mget_loc\u001B[1;34m(self, key, method, tolerance)\u001B[0m\n\u001B[0;32m   2646\u001B[0m                 \u001B[1;32mreturn\u001B[0m \u001B[0mself\u001B[0m\u001B[1;33m.\u001B[0m\u001B[0m_engine\u001B[0m\u001B[1;33m.\u001B[0m\u001B[0mget_loc\u001B[0m\u001B[1;33m(\u001B[0m\u001B[0mkey\u001B[0m\u001B[1;33m)\u001B[0m\u001B[1;33m\u001B[0m\u001B[1;33m\u001B[0m\u001B[0m\n\u001B[0;32m   2647\u001B[0m             \u001B[1;32mexcept\u001B[0m \u001B[0mKeyError\u001B[0m\u001B[1;33m:\u001B[0m\u001B[1;33m\u001B[0m\u001B[1;33m\u001B[0m\u001B[0m\n\u001B[1;32m-> 2648\u001B[1;33m                 \u001B[1;32mreturn\u001B[0m \u001B[0mself\u001B[0m\u001B[1;33m.\u001B[0m\u001B[0m_engine\u001B[0m\u001B[1;33m.\u001B[0m\u001B[0mget_loc\u001B[0m\u001B[1;33m(\u001B[0m\u001B[0mself\u001B[0m\u001B[1;33m.\u001B[0m\u001B[0m_maybe_cast_indexer\u001B[0m\u001B[1;33m(\u001B[0m\u001B[0mkey\u001B[0m\u001B[1;33m)\u001B[0m\u001B[1;33m)\u001B[0m\u001B[1;33m\u001B[0m\u001B[1;33m\u001B[0m\u001B[0m\n\u001B[0m\u001B[0;32m   2649\u001B[0m         \u001B[0mindexer\u001B[0m \u001B[1;33m=\u001B[0m \u001B[0mself\u001B[0m\u001B[1;33m.\u001B[0m\u001B[0mget_indexer\u001B[0m\u001B[1;33m(\u001B[0m\u001B[1;33m[\u001B[0m\u001B[0mkey\u001B[0m\u001B[1;33m]\u001B[0m\u001B[1;33m,\u001B[0m \u001B[0mmethod\u001B[0m\u001B[1;33m=\u001B[0m\u001B[0mmethod\u001B[0m\u001B[1;33m,\u001B[0m \u001B[0mtolerance\u001B[0m\u001B[1;33m=\u001B[0m\u001B[0mtolerance\u001B[0m\u001B[1;33m)\u001B[0m\u001B[1;33m\u001B[0m\u001B[1;33m\u001B[0m\u001B[0m\n\u001B[0;32m   2650\u001B[0m         \u001B[1;32mif\u001B[0m \u001B[0mindexer\u001B[0m\u001B[1;33m.\u001B[0m\u001B[0mndim\u001B[0m \u001B[1;33m>\u001B[0m \u001B[1;36m1\u001B[0m \u001B[1;32mor\u001B[0m \u001B[0mindexer\u001B[0m\u001B[1;33m.\u001B[0m\u001B[0msize\u001B[0m \u001B[1;33m>\u001B[0m \u001B[1;36m1\u001B[0m\u001B[1;33m:\u001B[0m\u001B[1;33m\u001B[0m\u001B[1;33m\u001B[0m\u001B[0m\n",
      "\u001B[1;32mpandas\\_libs\\index.pyx\u001B[0m in \u001B[0;36mpandas._libs.index.IndexEngine.get_loc\u001B[1;34m()\u001B[0m\n",
      "\u001B[1;32mpandas\\_libs\\index.pyx\u001B[0m in \u001B[0;36mpandas._libs.index.IndexEngine.get_loc\u001B[1;34m()\u001B[0m\n",
      "\u001B[1;32mpandas\\_libs\\index_class_helper.pxi\u001B[0m in \u001B[0;36mpandas._libs.index.Int64Engine._check_type\u001B[1;34m()\u001B[0m\n",
      "\u001B[1;31mKeyError\u001B[0m: False"
     ]
    }
   ],
   "source": [
    "Died=False\n",
    "crosstabRenalDeath.loc[Died,idx[RENAL_D_PRESENT]]\n"
   ],
   "metadata": {
    "collapsed": false,
    "pycharm": {
     "name": "#%%\n"
    }
   }
  },
  {
   "cell_type": "code",
   "execution_count": null,
   "outputs": [],
   "source": [
    "crosstabRenalDeath.loc[False,idx[False]]\n"
   ],
   "metadata": {
    "collapsed": false,
    "pycharm": {
     "name": "#%%\n"
    }
   }
  },
  {
   "cell_type": "code",
   "execution_count": null,
   "outputs": [],
   "source": [],
   "metadata": {
    "collapsed": false,
    "pycharm": {
     "name": "#%%\n"
    }
   }
  },
  {
   "cell_type": "code",
   "execution_count": null,
   "outputs": [],
   "source": [],
   "metadata": {
    "collapsed": false,
    "pycharm": {
     "name": "#%%\n"
    }
   }
  },
  {
   "cell_type": "code",
   "execution_count": null,
   "outputs": [],
   "source": [],
   "metadata": {
    "collapsed": false,
    "pycharm": {
     "name": "#%%\n"
    }
   }
  },
  {
   "cell_type": "code",
   "execution_count": null,
   "outputs": [],
   "source": [],
   "metadata": {
    "collapsed": false,
    "pycharm": {
     "name": "#%%\n"
    }
   }
  },
  {
   "cell_type": "code",
   "execution_count": null,
   "outputs": [],
   "source": [],
   "metadata": {
    "collapsed": false,
    "pycharm": {
     "name": "#%%\n"
    }
   }
  }
 ],
 "metadata": {
  "kernelspec": {
   "display_name": "PyCharm (BN4Nephrology)",
   "language": "python",
   "name": "pycharm-b7c5592"
  },
  "language_info": {
   "codemirror_mode": {
    "name": "ipython",
    "version": 3
   },
   "file_extension": ".py",
   "mimetype": "text/x-python",
   "name": "python",
   "nbconvert_exporter": "python",
   "pygments_lexer": "ipython3",
   "version": "3.7.6"
  }
 },
 "nbformat": 4,
 "nbformat_minor": 4
}