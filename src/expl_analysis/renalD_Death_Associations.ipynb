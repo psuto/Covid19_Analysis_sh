{
 "cells": [
  {
   "cell_type": "code",
   "execution_count": 2,
   "metadata": {
    "collapsed": false,
    "jupyter": {
     "outputs_hidden": false
    },
    "pycharm": {
     "name": "#%%\n"
    }
   },
   "outputs": [],
   "source": [
    "import numpy as np\n",
    "import pandas as pd\n",
    "import pathlib as p\n",
    "import seaborn as sb\n",
    "import matplotlib.pyplot as plt\n",
    "import pathlib\n",
    "from pathlib import Path\n",
    "from datetime import datetime\n",
    "from IPython.display import Markdown as md\n",
    "from IPython.display import Math as m\n"
   ]
  },
  {
   "cell_type": "code",
   "execution_count": 3,
   "metadata": {
    "collapsed": false,
    "jupyter": {
     "outputs_hidden": false
    },
    "pycharm": {
     "name": "#%%\n"
    }
   },
   "outputs": [],
   "source": [
    "%matplotlib inline"
   ]
  },
  {
   "cell_type": "code",
   "execution_count": 4,
   "metadata": {
    "collapsed": false,
    "jupyter": {
     "outputs_hidden": false
    },
    "pycharm": {
     "name": "#%%\n"
    }
   },
   "outputs": [],
   "source": [
    "def extractParentDir(dataFileName):\n",
    "    purePath = pathlib.PurePath(dataFileName)\n",
    "    parentDir2 = purePath.parent.parent\n",
    "    return parentDir2"
   ]
  },
  {
   "cell_type": "code",
   "execution_count": 5,
   "metadata": {
    "collapsed": false,
    "jupyter": {
     "outputs_hidden": false
    },
    "pycharm": {
     "name": "#%%\n"
    }
   },
   "outputs": [],
   "source": [
    "todayVal = datetime.today()\n",
    "timeStampStr = todayVal.strftime(\"%y-%m-%d_%H-%M-%S.%f\")\n",
    "data_dir = r\"C:\\work\\dev\\dECMT_src\\data_all\\COVID19_Data\\Current\"\n",
    "parentDir2 = extractParentDir(data_dir)\n",
    "outputPath = Path(parentDir2) / \"Output_Covid19_Analysis\"/f\"{timeStampStr}_bipartite\""
   ]
  },
  {
   "cell_type": "code",
   "execution_count": 6,
   "metadata": {
    "collapsed": false,
    "jupyter": {
     "outputs_hidden": false
    },
    "pycharm": {
     "name": "#%%\n"
    }
   },
   "outputs": [],
   "source": [
    "comorbidFN = p.Path(data_dir) / \"REACT_Comorbidities_unpivoted.csv\"\n",
    "demogFN = p.Path(data_dir) / \"REACT_Demographics.csv\"\n",
    "comorbidDF:pd.DataFrame = pd.read_csv(comorbidFN)"
   ]
  },
  {
   "cell_type": "code",
   "execution_count": 7,
   "metadata": {
    "collapsed": false,
    "jupyter": {
     "outputs_hidden": false
    },
    "pycharm": {
     "name": "#%%\n"
    }
   },
   "outputs": [],
   "source": [
    "comorbidDF:pd.DataFrame = pd.read_csv(comorbidFN)\n",
    "demogDF:pd.DataFrame = pd.read_csv(demogFN)\n",
    "covidDemogDF = pd.read_csv(p.Path(data_dir)/ 'REACT_COVID_Demographics.csv')\n",
    "# **************************\n",
    "lab_results_df = pd.read_csv(p.Path(data_dir) / 'REACT_LabResults.csv')\n",
    "# pharmacy_data_df = pd.read_csv(p.Path(data_dir) / 'REACT_PharmacyData.csv')\n",
    "covid_test_df = pd.read_csv(p.Path(data_dir) / 'REACT_UHSCOVIDTest_processed.csv')\n"
   ]
  },
  {
   "cell_type": "code",
   "execution_count": 8,
   "metadata": {
    "collapsed": false,
    "jupyter": {
     "outputs_hidden": false
    },
    "pycharm": {
     "name": "#%%\n"
    }
   },
   "outputs": [
    {
     "data": {
      "text/plain": "       PATIENT_AGE      GENDER  IS_PREGNANT        HEIG        WEIG  \\\ncount   614.000000  614.000000   614.000000  277.000000  593.000000   \nmean     67.929967    1.571661     0.009772  167.709531   75.407437   \nstd      19.635836    0.495241     0.098449   14.785532   21.033713   \nmin       0.000000    1.000000     0.000000   66.000000    0.000000   \n25%      55.250000    1.000000     0.000000  160.000000   62.700000   \n50%      72.000000    2.000000     0.000000  168.000000   75.000000   \n75%      83.000000    2.000000     0.000000  177.800000   86.000000   \nmax     103.000000    2.000000     1.000000  198.000000  192.000000   \n\n              BMI         LOS  LOS_PREPOS  \ncount  271.000000  614.000000  614.000000  \nmean    26.277343   15.838322    3.847264  \nstd      5.907941   17.310716    9.651141  \nmin     12.860000    0.000000   -0.370000  \n25%     22.255000    4.622500   -0.080000  \n50%     25.510000   10.095000    0.010000  \n75%     29.895000   21.827500    3.705000  \nmax     50.560000  173.580000  127.140000  ",
      "text/html": "<div>\n<style scoped>\n    .dataframe tbody tr th:only-of-type {\n        vertical-align: middle;\n    }\n\n    .dataframe tbody tr th {\n        vertical-align: top;\n    }\n\n    .dataframe thead th {\n        text-align: right;\n    }\n</style>\n<table border=\"1\" class=\"dataframe\">\n  <thead>\n    <tr style=\"text-align: right;\">\n      <th></th>\n      <th>PATIENT_AGE</th>\n      <th>GENDER</th>\n      <th>IS_PREGNANT</th>\n      <th>HEIG</th>\n      <th>WEIG</th>\n      <th>BMI</th>\n      <th>LOS</th>\n      <th>LOS_PREPOS</th>\n    </tr>\n  </thead>\n  <tbody>\n    <tr>\n      <th>count</th>\n      <td>614.000000</td>\n      <td>614.000000</td>\n      <td>614.000000</td>\n      <td>277.000000</td>\n      <td>593.000000</td>\n      <td>271.000000</td>\n      <td>614.000000</td>\n      <td>614.000000</td>\n    </tr>\n    <tr>\n      <th>mean</th>\n      <td>67.929967</td>\n      <td>1.571661</td>\n      <td>0.009772</td>\n      <td>167.709531</td>\n      <td>75.407437</td>\n      <td>26.277343</td>\n      <td>15.838322</td>\n      <td>3.847264</td>\n    </tr>\n    <tr>\n      <th>std</th>\n      <td>19.635836</td>\n      <td>0.495241</td>\n      <td>0.098449</td>\n      <td>14.785532</td>\n      <td>21.033713</td>\n      <td>5.907941</td>\n      <td>17.310716</td>\n      <td>9.651141</td>\n    </tr>\n    <tr>\n      <th>min</th>\n      <td>0.000000</td>\n      <td>1.000000</td>\n      <td>0.000000</td>\n      <td>66.000000</td>\n      <td>0.000000</td>\n      <td>12.860000</td>\n      <td>0.000000</td>\n      <td>-0.370000</td>\n    </tr>\n    <tr>\n      <th>25%</th>\n      <td>55.250000</td>\n      <td>1.000000</td>\n      <td>0.000000</td>\n      <td>160.000000</td>\n      <td>62.700000</td>\n      <td>22.255000</td>\n      <td>4.622500</td>\n      <td>-0.080000</td>\n    </tr>\n    <tr>\n      <th>50%</th>\n      <td>72.000000</td>\n      <td>2.000000</td>\n      <td>0.000000</td>\n      <td>168.000000</td>\n      <td>75.000000</td>\n      <td>25.510000</td>\n      <td>10.095000</td>\n      <td>0.010000</td>\n    </tr>\n    <tr>\n      <th>75%</th>\n      <td>83.000000</td>\n      <td>2.000000</td>\n      <td>0.000000</td>\n      <td>177.800000</td>\n      <td>86.000000</td>\n      <td>29.895000</td>\n      <td>21.827500</td>\n      <td>3.705000</td>\n    </tr>\n    <tr>\n      <th>max</th>\n      <td>103.000000</td>\n      <td>2.000000</td>\n      <td>1.000000</td>\n      <td>198.000000</td>\n      <td>192.000000</td>\n      <td>50.560000</td>\n      <td>173.580000</td>\n      <td>127.140000</td>\n    </tr>\n  </tbody>\n</table>\n</div>"
     },
     "execution_count": 8,
     "metadata": {},
     "output_type": "execute_result"
    }
   ],
   "source": [
    "demogDF.describe()"
   ]
  },
  {
   "cell_type": "code",
   "execution_count": 9,
   "metadata": {
    "collapsed": false,
    "jupyter": {
     "outputs_hidden": false
    },
    "pycharm": {
     "name": "#%%\n"
    }
   },
   "outputs": [
    {
     "data": {
      "text/plain": "              STUDY_ID  PATIENT_AGE GENDER ETHNIC_GROUP POSTCODE  IS_PREGNANT  \\\n0    UHSCOVID_00989a42           64      M            A     SO19            0   \n1    UHSCOVID_00ac1e32           73      M            A     SO21            0   \n2    UHSCOVID_00cb7bdd           76      F            A     SO16            0   \n3    UHSCOVID_01f7838d           97      M            A     SO16            0   \n4    UHSCOVID_025d562e           62      F            X     SO16            0   \n..                 ...          ...    ...          ...      ...          ...   \n559  UHSCOVID_fc872d82           53      M            A     SO53            0   \n560  UHSCOVID_fd016c0e           47      M            X     SO15            0   \n561  UHSCOVID_fd4da220           70      M            A     SO17            0   \n562  UHSCOVID_fd893360           67      F            A     SO41            0   \n563  UHSCOVID_fe8c3d54           88      F            A     SO15            0   \n\n       HEIG   WEIG    BMI    FIRST_POS_DATE  ...     DISCHARGEDATE  \\\n0    185.00  110.0  32.14  26/03/2020 14:48  ...  02/04/2020 10:21   \n1    177.80  135.7  42.93  11/04/2020 17:55  ...               NaN   \n2       NaN   65.0    NaN  10/04/2020 17:03  ...  13/04/2020 02:15   \n3       NaN   80.0    NaN  11/05/2020 12:12  ...               NaN   \n4       NaN   90.0    NaN  01/05/2020 23:58  ...               NaN   \n..      ...    ...    ...               ...  ...               ...   \n559  180.00  110.0  33.95  02/04/2020 16:07  ...               NaN   \n560     NaN    NaN    NaN  11/04/2020 10:22  ...  16/04/2020 21:38   \n561     NaN   82.0    NaN  14/04/2020 16:44  ...  18/04/2020 13:00   \n562     NaN   75.0    NaN  29/03/2020 10:53  ...  21/04/2020 12:20   \n563  160.02   40.0  15.62  10/04/2020 10:09  ...  19/04/2020 15:28   \n\n    DISCHARGE_DATE_R DISCHARGE_TIME_R    LOS LOS_PREPOS READM28  \\\n0         02/04/2020         10:21:00   6.71      -0.10       N   \n1                NaN              NaN  38.25       4.00       N   \n2         13/04/2020         02:15:00   2.35      -0.04       N   \n3                NaN              NaN  11.63       7.13       N   \n4                NaN              NaN  14.11       0.11       N   \n..               ...              ...    ...        ...     ...   \n559              NaN              NaN  52.03       8.70       N   \n560       16/04/2020         21:38:00   5.35      -0.12       N   \n561       18/04/2020         13:00:00   3.87       0.03       N   \n562       21/04/2020         12:20:00  22.93      -0.13       Y   \n563       19/04/2020         15:28:00  17.55       8.33       N   \n\n       READM_DATETIME  READM_DATE  READM_TIME   DOBjan1st  \n0                 NaN         NaN         NaN  01/01/1956  \n1                 NaN         NaN         NaN  01/01/1947  \n2                 NaN         NaN         NaN  01/01/1944  \n3                 NaN         NaN         NaN  01/01/1923  \n4                 NaN         NaN         NaN  01/01/1958  \n..                ...         ...         ...         ...  \n559               NaN         NaN         NaN  01/01/1967  \n560               NaN         NaN         NaN  01/01/1973  \n561               NaN         NaN         NaN  01/01/1950  \n562  29/04/2020 15:20  29/04/2020    15:20:00  01/01/1953  \n563               NaN         NaN         NaN  01/01/1932  \n\n[564 rows x 25 columns]",
      "text/html": "<div>\n<style scoped>\n    .dataframe tbody tr th:only-of-type {\n        vertical-align: middle;\n    }\n\n    .dataframe tbody tr th {\n        vertical-align: top;\n    }\n\n    .dataframe thead th {\n        text-align: right;\n    }\n</style>\n<table border=\"1\" class=\"dataframe\">\n  <thead>\n    <tr style=\"text-align: right;\">\n      <th></th>\n      <th>STUDY_ID</th>\n      <th>PATIENT_AGE</th>\n      <th>GENDER</th>\n      <th>ETHNIC_GROUP</th>\n      <th>POSTCODE</th>\n      <th>IS_PREGNANT</th>\n      <th>HEIG</th>\n      <th>WEIG</th>\n      <th>BMI</th>\n      <th>FIRST_POS_DATE</th>\n      <th>...</th>\n      <th>DISCHARGEDATE</th>\n      <th>DISCHARGE_DATE_R</th>\n      <th>DISCHARGE_TIME_R</th>\n      <th>LOS</th>\n      <th>LOS_PREPOS</th>\n      <th>READM28</th>\n      <th>READM_DATETIME</th>\n      <th>READM_DATE</th>\n      <th>READM_TIME</th>\n      <th>DOBjan1st</th>\n    </tr>\n  </thead>\n  <tbody>\n    <tr>\n      <th>0</th>\n      <td>UHSCOVID_00989a42</td>\n      <td>64</td>\n      <td>M</td>\n      <td>A</td>\n      <td>SO19</td>\n      <td>0</td>\n      <td>185.00</td>\n      <td>110.0</td>\n      <td>32.14</td>\n      <td>26/03/2020 14:48</td>\n      <td>...</td>\n      <td>02/04/2020 10:21</td>\n      <td>02/04/2020</td>\n      <td>10:21:00</td>\n      <td>6.71</td>\n      <td>-0.10</td>\n      <td>N</td>\n      <td>NaN</td>\n      <td>NaN</td>\n      <td>NaN</td>\n      <td>01/01/1956</td>\n    </tr>\n    <tr>\n      <th>1</th>\n      <td>UHSCOVID_00ac1e32</td>\n      <td>73</td>\n      <td>M</td>\n      <td>A</td>\n      <td>SO21</td>\n      <td>0</td>\n      <td>177.80</td>\n      <td>135.7</td>\n      <td>42.93</td>\n      <td>11/04/2020 17:55</td>\n      <td>...</td>\n      <td>NaN</td>\n      <td>NaN</td>\n      <td>NaN</td>\n      <td>38.25</td>\n      <td>4.00</td>\n      <td>N</td>\n      <td>NaN</td>\n      <td>NaN</td>\n      <td>NaN</td>\n      <td>01/01/1947</td>\n    </tr>\n    <tr>\n      <th>2</th>\n      <td>UHSCOVID_00cb7bdd</td>\n      <td>76</td>\n      <td>F</td>\n      <td>A</td>\n      <td>SO16</td>\n      <td>0</td>\n      <td>NaN</td>\n      <td>65.0</td>\n      <td>NaN</td>\n      <td>10/04/2020 17:03</td>\n      <td>...</td>\n      <td>13/04/2020 02:15</td>\n      <td>13/04/2020</td>\n      <td>02:15:00</td>\n      <td>2.35</td>\n      <td>-0.04</td>\n      <td>N</td>\n      <td>NaN</td>\n      <td>NaN</td>\n      <td>NaN</td>\n      <td>01/01/1944</td>\n    </tr>\n    <tr>\n      <th>3</th>\n      <td>UHSCOVID_01f7838d</td>\n      <td>97</td>\n      <td>M</td>\n      <td>A</td>\n      <td>SO16</td>\n      <td>0</td>\n      <td>NaN</td>\n      <td>80.0</td>\n      <td>NaN</td>\n      <td>11/05/2020 12:12</td>\n      <td>...</td>\n      <td>NaN</td>\n      <td>NaN</td>\n      <td>NaN</td>\n      <td>11.63</td>\n      <td>7.13</td>\n      <td>N</td>\n      <td>NaN</td>\n      <td>NaN</td>\n      <td>NaN</td>\n      <td>01/01/1923</td>\n    </tr>\n    <tr>\n      <th>4</th>\n      <td>UHSCOVID_025d562e</td>\n      <td>62</td>\n      <td>F</td>\n      <td>X</td>\n      <td>SO16</td>\n      <td>0</td>\n      <td>NaN</td>\n      <td>90.0</td>\n      <td>NaN</td>\n      <td>01/05/2020 23:58</td>\n      <td>...</td>\n      <td>NaN</td>\n      <td>NaN</td>\n      <td>NaN</td>\n      <td>14.11</td>\n      <td>0.11</td>\n      <td>N</td>\n      <td>NaN</td>\n      <td>NaN</td>\n      <td>NaN</td>\n      <td>01/01/1958</td>\n    </tr>\n    <tr>\n      <th>...</th>\n      <td>...</td>\n      <td>...</td>\n      <td>...</td>\n      <td>...</td>\n      <td>...</td>\n      <td>...</td>\n      <td>...</td>\n      <td>...</td>\n      <td>...</td>\n      <td>...</td>\n      <td>...</td>\n      <td>...</td>\n      <td>...</td>\n      <td>...</td>\n      <td>...</td>\n      <td>...</td>\n      <td>...</td>\n      <td>...</td>\n      <td>...</td>\n      <td>...</td>\n      <td>...</td>\n    </tr>\n    <tr>\n      <th>559</th>\n      <td>UHSCOVID_fc872d82</td>\n      <td>53</td>\n      <td>M</td>\n      <td>A</td>\n      <td>SO53</td>\n      <td>0</td>\n      <td>180.00</td>\n      <td>110.0</td>\n      <td>33.95</td>\n      <td>02/04/2020 16:07</td>\n      <td>...</td>\n      <td>NaN</td>\n      <td>NaN</td>\n      <td>NaN</td>\n      <td>52.03</td>\n      <td>8.70</td>\n      <td>N</td>\n      <td>NaN</td>\n      <td>NaN</td>\n      <td>NaN</td>\n      <td>01/01/1967</td>\n    </tr>\n    <tr>\n      <th>560</th>\n      <td>UHSCOVID_fd016c0e</td>\n      <td>47</td>\n      <td>M</td>\n      <td>X</td>\n      <td>SO15</td>\n      <td>0</td>\n      <td>NaN</td>\n      <td>NaN</td>\n      <td>NaN</td>\n      <td>11/04/2020 10:22</td>\n      <td>...</td>\n      <td>16/04/2020 21:38</td>\n      <td>16/04/2020</td>\n      <td>21:38:00</td>\n      <td>5.35</td>\n      <td>-0.12</td>\n      <td>N</td>\n      <td>NaN</td>\n      <td>NaN</td>\n      <td>NaN</td>\n      <td>01/01/1973</td>\n    </tr>\n    <tr>\n      <th>561</th>\n      <td>UHSCOVID_fd4da220</td>\n      <td>70</td>\n      <td>M</td>\n      <td>A</td>\n      <td>SO17</td>\n      <td>0</td>\n      <td>NaN</td>\n      <td>82.0</td>\n      <td>NaN</td>\n      <td>14/04/2020 16:44</td>\n      <td>...</td>\n      <td>18/04/2020 13:00</td>\n      <td>18/04/2020</td>\n      <td>13:00:00</td>\n      <td>3.87</td>\n      <td>0.03</td>\n      <td>N</td>\n      <td>NaN</td>\n      <td>NaN</td>\n      <td>NaN</td>\n      <td>01/01/1950</td>\n    </tr>\n    <tr>\n      <th>562</th>\n      <td>UHSCOVID_fd893360</td>\n      <td>67</td>\n      <td>F</td>\n      <td>A</td>\n      <td>SO41</td>\n      <td>0</td>\n      <td>NaN</td>\n      <td>75.0</td>\n      <td>NaN</td>\n      <td>29/03/2020 10:53</td>\n      <td>...</td>\n      <td>21/04/2020 12:20</td>\n      <td>21/04/2020</td>\n      <td>12:20:00</td>\n      <td>22.93</td>\n      <td>-0.13</td>\n      <td>Y</td>\n      <td>29/04/2020 15:20</td>\n      <td>29/04/2020</td>\n      <td>15:20:00</td>\n      <td>01/01/1953</td>\n    </tr>\n    <tr>\n      <th>563</th>\n      <td>UHSCOVID_fe8c3d54</td>\n      <td>88</td>\n      <td>F</td>\n      <td>A</td>\n      <td>SO15</td>\n      <td>0</td>\n      <td>160.02</td>\n      <td>40.0</td>\n      <td>15.62</td>\n      <td>10/04/2020 10:09</td>\n      <td>...</td>\n      <td>19/04/2020 15:28</td>\n      <td>19/04/2020</td>\n      <td>15:28:00</td>\n      <td>17.55</td>\n      <td>8.33</td>\n      <td>N</td>\n      <td>NaN</td>\n      <td>NaN</td>\n      <td>NaN</td>\n      <td>01/01/1932</td>\n    </tr>\n  </tbody>\n</table>\n<p>564 rows × 25 columns</p>\n</div>"
     },
     "execution_count": 9,
     "metadata": {},
     "output_type": "execute_result"
    }
   ],
   "source": [
    "covidDemogDF"
   ]
  },
  {
   "cell_type": "code",
   "execution_count": 10,
   "metadata": {
    "collapsed": false,
    "jupyter": {
     "outputs_hidden": false
    },
    "pycharm": {
     "name": "#%%\n"
    }
   },
   "outputs": [],
   "source": [
    "# Index(['STUDY_ID', 'PATIENT_AGE', 'GENDER', 'ETHNIC_GROUP', 'POSTCODE',\n",
    "#        'IS_PREGNANT', 'HEIG', 'WEIG', 'BMI', 'FIRST_POS_DATE',\n",
    "#        'FIRST_POS_DATE_R', 'FIRST_POS_TIME_R', 'ADMIT_DATETIME', 'ADM_DATE_R',\n",
    "#        'ADM_TIME_R', 'DISCHARGEDATE', 'DISCHARGE_DATE_R', 'DISCHARGE_TIME_R',\n",
    "#        'LOS', 'LOS_PREPOS', 'READM28', 'READM_DATETIME', 'READM_DATE',\n",
    "#        'READM_TIME', 'DOBjan1st'],\n",
    "#       dtype='object')\n",
    "\n",
    "dates2Convert={\n",
    "    'covidDemographics':['']\n",
    "}"
   ]
  },
  {
   "cell_type": "code",
   "execution_count": 11,
   "metadata": {
    "collapsed": false,
    "jupyter": {
     "outputs_hidden": false
    },
    "pycharm": {
     "name": "#%%\n"
    }
   },
   "outputs": [],
   "source": [
    "# u.convertDatesWTableName(covidDemogDF,'demographics_df')\n"
   ]
  },
  {
   "cell_type": "markdown",
   "metadata": {
    "pycharm": {
     "name": "#%% md\n"
    }
   },
   "source": [
    "# Association between Renal disease and Death"
   ]
  },
  {
   "cell_type": "code",
   "execution_count": 12,
   "metadata": {
    "collapsed": false,
    "jupyter": {
     "outputs_hidden": false
    },
    "pycharm": {
     "name": "#%%\n"
    }
   },
   "outputs": [
    {
     "data": {
      "text/plain": "<IPython.core.display.Markdown object>",
      "text/markdown": "Table of "
     },
     "execution_count": 12,
     "metadata": {},
     "output_type": "execute_result"
    }
   ],
   "source": [
    "dfRes:pd.DataFrame = pd.merge(demogDF, comorbidDF, on='STUDY_ID', how='inner')\n",
    "md(f\"Table of \")"
   ]
  },
  {
   "cell_type": "code",
   "execution_count": 13,
   "metadata": {
    "collapsed": false,
    "jupyter": {
     "outputs_hidden": false
    },
    "pycharm": {
     "name": "#%%\n"
    }
   },
   "outputs": [],
   "source": [
    "dfRes['RENAL_D_PRESENT'] = (dfRes['COMORBIDITY'] == 'RENAL_D')"
   ]
  },
  {
   "cell_type": "code",
   "execution_count": 14,
   "metadata": {
    "collapsed": false,
    "jupyter": {
     "outputs_hidden": false
    },
    "pycharm": {
     "name": "#%%\n"
    }
   },
   "outputs": [],
   "source": [
    "dfRes['DIED'] = dfRes.DATE_OF_DEATH.notna()"
   ]
  },
  {
   "cell_type": "code",
   "execution_count": 15,
   "metadata": {
    "collapsed": false,
    "jupyter": {
     "outputs_hidden": false
    },
    "pycharm": {
     "name": "#%%\n"
    }
   },
   "outputs": [],
   "source": [
    "# dfRes[['STUDY_ID','DATE_OF_DEATH','DIED']].describe()\n"
   ]
  },
  {
   "cell_type": "code",
   "execution_count": 16,
   "metadata": {
    "collapsed": false,
    "jupyter": {
     "outputs_hidden": false
    },
    "pycharm": {
     "name": "#%%\n"
    }
   },
   "outputs": [],
   "source": [
    "dfRes = dfRes.filter(['STUDY_ID','RENAL_D_PRESENT','DATE_OF_DEATH','DIED'],axis=1)"
   ]
  },
  {
   "cell_type": "code",
   "execution_count": 17,
   "metadata": {
    "collapsed": false,
    "jupyter": {
     "outputs_hidden": false
    },
    "pycharm": {
     "name": "#%%\n"
    }
   },
   "outputs": [],
   "source": [
    "dfRes3 = dfRes.groupby('STUDY_ID').agg(RENAL_D_PRESENT=('RENAL_D_PRESENT','any'),DIED=('DIED','any'))"
   ]
  },
  {
   "cell_type": "code",
   "execution_count": 18,
   "metadata": {
    "collapsed": false,
    "jupyter": {
     "outputs_hidden": false
    },
    "pycharm": {
     "name": "#%%\n"
    }
   },
   "outputs": [],
   "source": [
    "# dfRes3.head()\n"
   ]
  },
  {
   "cell_type": "code",
   "execution_count": 19,
   "metadata": {
    "collapsed": false,
    "jupyter": {
     "outputs_hidden": false
    },
    "pycharm": {
     "name": "#%%\n"
    }
   },
   "outputs": [
    {
     "data": {
      "text/plain": "<IPython.core.display.Markdown object>",
      "text/markdown": "Counts of stratified cases"
     },
     "execution_count": 19,
     "metadata": {},
     "output_type": "execute_result"
    }
   ],
   "source": [
    "md(f\"Counts of stratified cases\")"
   ]
  },
  {
   "cell_type": "code",
   "execution_count": 20,
   "metadata": {
    "collapsed": false,
    "jupyter": {
     "outputs_hidden": false
    },
    "pycharm": {
     "name": "#%%\n"
    }
   },
   "outputs": [
    {
     "data": {
      "text/plain": "RENAL_D_PRESENT  False  True \nDIED                         \nFalse              252     91\nTrue                96     75",
      "text/html": "<div>\n<style scoped>\n    .dataframe tbody tr th:only-of-type {\n        vertical-align: middle;\n    }\n\n    .dataframe tbody tr th {\n        vertical-align: top;\n    }\n\n    .dataframe thead th {\n        text-align: right;\n    }\n</style>\n<table border=\"1\" class=\"dataframe\">\n  <thead>\n    <tr style=\"text-align: right;\">\n      <th>RENAL_D_PRESENT</th>\n      <th>False</th>\n      <th>True</th>\n    </tr>\n    <tr>\n      <th>DIED</th>\n      <th></th>\n      <th></th>\n    </tr>\n  </thead>\n  <tbody>\n    <tr>\n      <th>False</th>\n      <td>252</td>\n      <td>91</td>\n    </tr>\n    <tr>\n      <th>True</th>\n      <td>96</td>\n      <td>75</td>\n    </tr>\n  </tbody>\n</table>\n</div>"
     },
     "execution_count": 20,
     "metadata": {},
     "output_type": "execute_result"
    }
   ],
   "source": [
    "# crosstabRenalDeath = pd.crosstab(dfRes3['DIED'],dfRes3['RENAL_D_PRESENT'],margins=True,margins_name='Total')\n",
    "crosstabRenalDeath = pd.crosstab(dfRes3['DIED'],dfRes3['RENAL_D_PRESENT'])\n",
    "crosstabRenalDeath"
   ]
  },
  {
   "cell_type": "code",
   "execution_count": 21,
   "metadata": {
    "collapsed": false,
    "jupyter": {
     "outputs_hidden": false
    },
    "pycharm": {
     "name": "#%%\n"
    }
   },
   "outputs": [
    {
     "data": {
      "text/plain": "RENAL_D_PRESENT     False      True       All\nDIED                                         \nFalse            0.490272  0.177043  0.667315\nTrue             0.186770  0.145914  0.332685\nAll              0.677043  0.322957  1.000000",
      "text/html": "<div>\n<style scoped>\n    .dataframe tbody tr th:only-of-type {\n        vertical-align: middle;\n    }\n\n    .dataframe tbody tr th {\n        vertical-align: top;\n    }\n\n    .dataframe thead th {\n        text-align: right;\n    }\n</style>\n<table border=\"1\" class=\"dataframe\">\n  <thead>\n    <tr style=\"text-align: right;\">\n      <th>RENAL_D_PRESENT</th>\n      <th>False</th>\n      <th>True</th>\n      <th>All</th>\n    </tr>\n    <tr>\n      <th>DIED</th>\n      <th></th>\n      <th></th>\n      <th></th>\n    </tr>\n  </thead>\n  <tbody>\n    <tr>\n      <th>False</th>\n      <td>0.490272</td>\n      <td>0.177043</td>\n      <td>0.667315</td>\n    </tr>\n    <tr>\n      <th>True</th>\n      <td>0.186770</td>\n      <td>0.145914</td>\n      <td>0.332685</td>\n    </tr>\n    <tr>\n      <th>All</th>\n      <td>0.677043</td>\n      <td>0.322957</td>\n      <td>1.000000</td>\n    </tr>\n  </tbody>\n</table>\n</div>"
     },
     "execution_count": 21,
     "metadata": {},
     "output_type": "execute_result"
    }
   ],
   "source": [
    "crosstabRenalDeathNorm = pd.crosstab(dfRes3['DIED'],dfRes3['RENAL_D_PRESENT'],normalize=True,margins=True)\n",
    "crosstabRenalDeathNorm"
   ]
  },
  {
   "cell_type": "code",
   "execution_count": 22,
   "metadata": {
    "collapsed": false,
    "jupyter": {
     "outputs_hidden": false
    },
    "pycharm": {
     "name": "#%%\n"
    }
   },
   "outputs": [
    {
     "data": {
      "text/plain": "Index([False, True], dtype='object', name='DIED')"
     },
     "execution_count": 22,
     "metadata": {},
     "output_type": "execute_result"
    }
   ],
   "source": [
    "crosstabRenalDeath.index"
   ]
  },
  {
   "cell_type": "code",
   "execution_count": 23,
   "metadata": {
    "collapsed": false,
    "jupyter": {
     "outputs_hidden": false
    },
    "pycharm": {
     "name": "#%%\n"
    }
   },
   "outputs": [
    {
     "data": {
      "text/plain": "Index([False, True], dtype='object', name='RENAL_D_PRESENT')"
     },
     "execution_count": 23,
     "metadata": {},
     "output_type": "execute_result"
    }
   ],
   "source": [
    "crosstabRenalDeath.columns"
   ]
  },
  {
   "cell_type": "code",
   "execution_count": 24,
   "metadata": {
    "collapsed": false,
    "jupyter": {
     "outputs_hidden": false
    },
    "pycharm": {
     "name": "#%%\n"
    }
   },
   "outputs": [
    {
     "data": {
      "text/plain": "RENAL_D_PRESENT  False  True \nDIED                         \nFalse              252     91\nTrue                96     75",
      "text/html": "<div>\n<style scoped>\n    .dataframe tbody tr th:only-of-type {\n        vertical-align: middle;\n    }\n\n    .dataframe tbody tr th {\n        vertical-align: top;\n    }\n\n    .dataframe thead th {\n        text-align: right;\n    }\n</style>\n<table border=\"1\" class=\"dataframe\">\n  <thead>\n    <tr style=\"text-align: right;\">\n      <th>RENAL_D_PRESENT</th>\n      <th>False</th>\n      <th>True</th>\n    </tr>\n    <tr>\n      <th>DIED</th>\n      <th></th>\n      <th></th>\n    </tr>\n  </thead>\n  <tbody>\n    <tr>\n      <th>False</th>\n      <td>252</td>\n      <td>91</td>\n    </tr>\n    <tr>\n      <th>True</th>\n      <td>96</td>\n      <td>75</td>\n    </tr>\n  </tbody>\n</table>\n</div>"
     },
     "execution_count": 24,
     "metadata": {},
     "output_type": "execute_result"
    }
   ],
   "source": [
    "crosstabRenalDeath.reset_index()\n",
    "crosstabRenalDeath"
   ]
  },
  {
   "cell_type": "code",
   "execution_count": 25,
   "metadata": {
    "collapsed": false,
    "jupyter": {
     "outputs_hidden": false
    },
    "pycharm": {
     "name": "#%%\n"
    }
   },
   "outputs": [],
   "source": [
    "# crosstabRenalDeath.loc['RENAL_D_PRESENT']"
   ]
  },
  {
   "cell_type": "markdown",
   "metadata": {
    "pycharm": {
     "name": "#%% md\n"
    }
   },
   "source": [
    "## Chi2 test on significance of renal disease for death outcome.\n"
   ]
  },
  {
   "cell_type": "code",
   "execution_count": 26,
   "metadata": {
    "collapsed": false,
    "jupyter": {
     "outputs_hidden": false
    },
    "pycharm": {
     "name": "#%%\n"
    }
   },
   "outputs": [
    {
     "name": "stdout",
     "output_type": "stream",
     "text": [
      "stat = 14.88914922319227\n",
      "p = 0.00011401693102745145\n",
      "dof = 1\n",
      "expected = [[232.22568093 110.77431907]\n",
      " [115.77431907  55.22568093]]\n"
     ]
    },
    {
     "data": {
      "text/plain": "<IPython.core.display.Markdown object>",
      "text/markdown": "Since p=0.0001<0.05, based on Chi2 test we can reject hypothesis that death as outcome does not depend on the presence of a renal disease."
     },
     "execution_count": 26,
     "metadata": {},
     "output_type": "execute_result"
    }
   ],
   "source": [
    "from scipy.stats import chi2_contingency\n",
    "\n",
    "# defining the table\n",
    "# data = [crosstabRenalDeath.loc['False',:].values().reshape(1,-1), [234, 242, 232]]\n",
    "stat, p, dof, expected = chi2_contingency(crosstabRenalDeath)\n",
    "print(f\"stat = {stat}\")\n",
    "print(f\"p = {p}\")\n",
    "print(f\"dof = {dof}\")\n",
    "print(f\"expected = {expected}\")\n",
    "md(f\"Since p={p:.1g}<0.05, based on Chi2 test we can reject hypothesis that death as outcome does not depend on the presence of a renal disease.\")"
   ]
  },
  {
   "cell_type": "markdown",
   "metadata": {
    "pycharm": {
     "name": "#%% md\n"
    }
   },
   "source": [
    "## Power of evidence"
   ]
  },
  {
   "cell_type": "code",
   "execution_count": 27,
   "metadata": {
    "collapsed": false,
    "jupyter": {
     "outputs_hidden": false
    },
    "pycharm": {
     "name": "#%%\n"
    }
   },
   "outputs": [
    {
     "data": {
      "text/plain": "RENAL_D_PRESENT     False      True       All\nDIED                                         \nFalse            0.490272  0.177043  0.667315\nTrue             0.186770  0.145914  0.332685\nAll              0.677043  0.322957  1.000000",
      "text/html": "<div>\n<style scoped>\n    .dataframe tbody tr th:only-of-type {\n        vertical-align: middle;\n    }\n\n    .dataframe tbody tr th {\n        vertical-align: top;\n    }\n\n    .dataframe thead th {\n        text-align: right;\n    }\n</style>\n<table border=\"1\" class=\"dataframe\">\n  <thead>\n    <tr style=\"text-align: right;\">\n      <th>RENAL_D_PRESENT</th>\n      <th>False</th>\n      <th>True</th>\n      <th>All</th>\n    </tr>\n    <tr>\n      <th>DIED</th>\n      <th></th>\n      <th></th>\n      <th></th>\n    </tr>\n  </thead>\n  <tbody>\n    <tr>\n      <th>False</th>\n      <td>0.490272</td>\n      <td>0.177043</td>\n      <td>0.667315</td>\n    </tr>\n    <tr>\n      <th>True</th>\n      <td>0.186770</td>\n      <td>0.145914</td>\n      <td>0.332685</td>\n    </tr>\n    <tr>\n      <th>All</th>\n      <td>0.677043</td>\n      <td>0.322957</td>\n      <td>1.000000</td>\n    </tr>\n  </tbody>\n</table>\n</div>"
     },
     "execution_count": 27,
     "metadata": {},
     "output_type": "execute_result"
    }
   ],
   "source": [
    "crosstabRenalDeathNorm"
   ]
  },
  {
   "cell_type": "code",
   "execution_count": 28,
   "metadata": {
    "collapsed": false,
    "jupyter": {
     "outputs_hidden": false
    },
    "pycharm": {
     "name": "#%%\n"
    }
   },
   "outputs": [
    {
     "data": {
      "text/plain": "<IPython.core.display.Markdown object>",
      "text/markdown": " Conditional probabilities"
     },
     "execution_count": 28,
     "metadata": {},
     "output_type": "execute_result"
    }
   ],
   "source": [
    "md(f\" Conditional probabilities\")"
   ]
  },
  {
   "cell_type": "code",
   "execution_count": 29,
   "metadata": {
    "collapsed": false,
    "jupyter": {
     "outputs_hidden": false
    },
    "pycharm": {
     "name": "#%%\n"
    }
   },
   "outputs": [
    {
     "data": {
      "text/plain": "RENAL_D_PRESENT  False  True \nDIED                         \nFalse              252     91\nTrue                96     75",
      "text/html": "<div>\n<style scoped>\n    .dataframe tbody tr th:only-of-type {\n        vertical-align: middle;\n    }\n\n    .dataframe tbody tr th {\n        vertical-align: top;\n    }\n\n    .dataframe thead th {\n        text-align: right;\n    }\n</style>\n<table border=\"1\" class=\"dataframe\">\n  <thead>\n    <tr style=\"text-align: right;\">\n      <th>RENAL_D_PRESENT</th>\n      <th>False</th>\n      <th>True</th>\n    </tr>\n    <tr>\n      <th>DIED</th>\n      <th></th>\n      <th></th>\n    </tr>\n  </thead>\n  <tbody>\n    <tr>\n      <th>False</th>\n      <td>252</td>\n      <td>91</td>\n    </tr>\n    <tr>\n      <th>True</th>\n      <td>96</td>\n      <td>75</td>\n    </tr>\n  </tbody>\n</table>\n</div>"
     },
     "execution_count": 29,
     "metadata": {},
     "output_type": "execute_result"
    }
   ],
   "source": [
    "crosstabRenalDeath\n"
   ]
  },
  {
   "cell_type": "code",
   "execution_count": 30,
   "metadata": {
    "collapsed": false,
    "jupyter": {
     "outputs_hidden": false
    },
    "pycharm": {
     "name": "#%%\n"
    }
   },
   "outputs": [],
   "source": [
    "idx=pd.IndexSlice\n",
    "R_T = crosstabRenalDeath.loc[:,idx[True]].sum()"
   ]
  },
  {
   "cell_type": "code",
   "execution_count": 31,
   "metadata": {
    "collapsed": false,
    "jupyter": {
     "outputs_hidden": false
    },
    "pycharm": {
     "name": "#%%\n"
    }
   },
   "outputs": [
    {
     "data": {
      "text/plain": "RENAL_D_PRESENT     False      True       All\nDIED                                         \nFalse            0.490272  0.177043  0.667315\nTrue             0.186770  0.145914  0.332685\nAll              0.677043  0.322957  1.000000",
      "text/html": "<div>\n<style scoped>\n    .dataframe tbody tr th:only-of-type {\n        vertical-align: middle;\n    }\n\n    .dataframe tbody tr th {\n        vertical-align: top;\n    }\n\n    .dataframe thead th {\n        text-align: right;\n    }\n</style>\n<table border=\"1\" class=\"dataframe\">\n  <thead>\n    <tr style=\"text-align: right;\">\n      <th>RENAL_D_PRESENT</th>\n      <th>False</th>\n      <th>True</th>\n      <th>All</th>\n    </tr>\n    <tr>\n      <th>DIED</th>\n      <th></th>\n      <th></th>\n      <th></th>\n    </tr>\n  </thead>\n  <tbody>\n    <tr>\n      <th>False</th>\n      <td>0.490272</td>\n      <td>0.177043</td>\n      <td>0.667315</td>\n    </tr>\n    <tr>\n      <th>True</th>\n      <td>0.186770</td>\n      <td>0.145914</td>\n      <td>0.332685</td>\n    </tr>\n    <tr>\n      <th>All</th>\n      <td>0.677043</td>\n      <td>0.322957</td>\n      <td>1.000000</td>\n    </tr>\n  </tbody>\n</table>\n</div>"
     },
     "execution_count": 31,
     "metadata": {},
     "output_type": "execute_result"
    }
   ],
   "source": [
    "crosstabRenalDeathNorm"
   ]
  },
  {
   "cell_type": "code",
   "execution_count": 32,
   "metadata": {
    "collapsed": false,
    "jupyter": {
     "outputs_hidden": false
    },
    "pycharm": {
     "name": "#%%\n"
    }
   },
   "outputs": [
    {
     "name": "stdout",
     "output_type": "stream",
     "text": [
      "PRT=0.3229571984435798 PRF = 0.6770428015564203 \n",
      "PDTGRT=0.45180722891566266 PDFGRT=0.5481927710843373\n",
      "WoERFGD=0.7641325536062378\n",
      "PRT=0.3229571984435798 PRF = 0.6770428015564203 \n",
      "PDTGRF=0.27586206896551735 PDFGRT=0.7241379310344827\n",
      "WoERTGD=1.6531713900134957\n"
     ]
    }
   ],
   "source": [
    "R_T\n",
    "P_R_T = crosstabRenalDeathNorm.loc['All',True]\n",
    "P_D_T = crosstabRenalDeathNorm.loc[True,'All']\n",
    "P_R_F = crosstabRenalDeathNorm.loc['All',False]\n",
    "P_D_F = crosstabRenalDeathNorm.loc[False,'All']\n",
    "PDTGRT = crosstabRenalDeathNorm.loc[True,True]/P_R_T\n",
    "PDFGRT = 1-PDTGRT\n",
    "# ********************************\n",
    "PDFGRF = crosstabRenalDeathNorm.loc[False,False]/P_R_F\n",
    "PDTGRF = 1-PDFGRF\n",
    "# **********\n",
    "PRTGDT =  crosstabRenalDeathNorm.loc[True,True]/P_D_T\n",
    "PRFGDT = 1-PRTGDT\n",
    "PRFGDF = crosstabRenalDeathNorm.loc[False,False]/P_D_F\n",
    "PRTGDF = 1-PRFGDF\n",
    "WoERTGD = PRTGDT/PRTGDF\n",
    "WoERFGD = PRFGDT/PRFGDF\n",
    "# ********************************\n",
    "print(f\"PRT={P_R_T} PRF = {P_R_F} \")\n",
    "print(f\"PDTGRT={PDTGRT} PDFGRT={PDFGRT}\")\n",
    "print(f\"WoERFGD={WoERFGD}\")\n",
    "# ********************************\n",
    "print(f\"PRT={P_R_T} PRF = {P_R_F} \")\n",
    "print(f\"PDTGRF={PDTGRF} PDFGRT={PDFGRF}\")\n",
    "print(f\"WoERTGD={WoERTGD}\")"
   ]
  },
  {
   "cell_type": "markdown",
   "metadata": {
    "pycharm": {
     "name": "#%% md\n"
    }
   },
   "source": [
    "# Value of information (WoE)\n",
    "The more is WoE different from 0 the more informative is renal disease for prediction of death, while positive value means support for selected result and negative value means the support of other result by evidence.\n",
    "\n",
    "\n",
    "\n",
    "$$WoE(Evidence|Target) =100*log_{10}\\Bigg  (\\frac{P(Evidence|Target)}{P(Evidence|\\neg Target)}\\Bigg)$$\n",
    "\n",
    "$$WoE(\\neg Evidence|Target) =100*log_{10}\\Bigg(\\frac{P(\\neg Evidence|Target)}{P(\\neg Evidence|\\neg Target)}\\Bigg)$$\n",
    "\n",
    "$$WoE \\in (-\\infty,\\infty )$$$\n"
   ]
  },
  {
   "cell_type": "code",
   "execution_count": 33,
   "metadata": {
    "collapsed": false,
    "jupyter": {
     "outputs_hidden": false
    },
    "pycharm": {
     "name": "#%%\n"
    }
   },
   "outputs": [
    {
     "data": {
      "text/plain": "<IPython.core.display.Markdown object>",
      "text/markdown": "Weight of Evidence, WoE(Renal_disease=Absent|Death) = -11.683129809135904"
     },
     "execution_count": 33,
     "metadata": {},
     "output_type": "execute_result"
    }
   ],
   "source": [
    "md(f\"Weight of Evidence, WoE(Renal_disease=Absent|Death) = {100*np.log10(WoERFGD)}\")"
   ]
  },
  {
   "cell_type": "code",
   "execution_count": 34,
   "metadata": {},
   "outputs": [
    {
     "data": {
      "text/plain": "<IPython.core.display.Markdown object>",
      "text/markdown": "Weight of Evidence, WoE(Renal_disease=Present|Death) = 21.831788072122322"
     },
     "execution_count": 34,
     "metadata": {},
     "output_type": "execute_result"
    }
   ],
   "source": [
    "md(f\"Weight of Evidence, WoE(Renal_disease=Present|Death) = {100*np.log10(WoERTGD)}\")"
   ]
  },
  {
   "cell_type": "code",
   "execution_count": 35,
   "metadata": {
    "collapsed": false,
    "jupyter": {
     "outputs_hidden": false
    },
    "pycharm": {
     "name": "#%%\n"
    }
   },
   "outputs": [
    {
     "data": {
      "text/plain": "DIED\nFalse    252\nTrue      96\ndtype: int64"
     },
     "execution_count": 35,
     "metadata": {},
     "output_type": "execute_result"
    }
   ],
   "source": [
    "RENAL_D_PRESENT = False\n",
    "crosstabRenalDeath.loc[:,idx[RENAL_D_PRESENT]]"
   ]
  },
  {
   "cell_type": "code",
   "execution_count": 36,
   "metadata": {
    "collapsed": false,
    "jupyter": {
     "outputs_hidden": false
    },
    "pycharm": {
     "name": "#%%\n"
    }
   },
   "outputs": [
    {
     "data": {
      "text/plain": "252"
     },
     "execution_count": 36,
     "metadata": {},
     "output_type": "execute_result"
    }
   ],
   "source": [
    "Died=False\n",
    "crosstabRenalDeath.loc[Died,idx[RENAL_D_PRESENT]]\n"
   ]
  },
  {
   "cell_type": "code",
   "execution_count": 37,
   "metadata": {
    "collapsed": false,
    "jupyter": {
     "outputs_hidden": false
    },
    "pycharm": {
     "name": "#%%\n"
    }
   },
   "outputs": [
    {
     "data": {
      "text/plain": "252"
     },
     "execution_count": 37,
     "metadata": {},
     "output_type": "execute_result"
    }
   ],
   "source": [
    "crosstabRenalDeath.loc[False,idx[False]]\n"
   ]
  },
  {
   "cell_type": "code",
   "execution_count": 37,
   "outputs": [],
   "source": [],
   "metadata": {
    "collapsed": false,
    "pycharm": {
     "name": "#%%\n"
    }
   }
  },
  {
   "cell_type": "code",
   "execution_count": 37,
   "outputs": [],
   "source": [],
   "metadata": {
    "collapsed": false,
    "pycharm": {
     "name": "#%%\n"
    }
   }
  },
  {
   "cell_type": "code",
   "execution_count": 37,
   "outputs": [],
   "source": [],
   "metadata": {
    "collapsed": false,
    "pycharm": {
     "name": "#%%\n"
    }
   }
  },
  {
   "cell_type": "code",
   "execution_count": 37,
   "outputs": [],
   "source": [],
   "metadata": {
    "collapsed": false,
    "pycharm": {
     "name": "#%%\n"
    }
   }
  },
  {
   "cell_type": "code",
   "execution_count": 37,
   "outputs": [],
   "source": [],
   "metadata": {
    "collapsed": false,
    "pycharm": {
     "name": "#%%\n"
    }
   }
  },
  {
   "cell_type": "code",
   "execution_count": 37,
   "outputs": [],
   "source": [],
   "metadata": {
    "collapsed": false,
    "pycharm": {
     "name": "#%%\n"
    }
   }
  },
  {
   "cell_type": "code",
   "execution_count": 37,
   "outputs": [],
   "source": [],
   "metadata": {
    "collapsed": false,
    "pycharm": {
     "name": "#%%\n"
    }
   }
  },
  {
   "cell_type": "code",
   "execution_count": 37,
   "outputs": [],
   "source": [],
   "metadata": {
    "collapsed": false,
    "pycharm": {
     "name": "#%%\n"
    }
   }
  },
  {
   "cell_type": "code",
   "execution_count": 37,
   "metadata": {
    "collapsed": false,
    "jupyter": {
     "outputs_hidden": false
    },
    "pycharm": {
     "name": "#%%\n"
    }
   },
   "outputs": [],
   "source": []
  },
  {
   "cell_type": "code",
   "execution_count": 37,
   "metadata": {},
   "outputs": [],
   "source": []
  },
  {
   "cell_type": "code",
   "execution_count": 37,
   "metadata": {},
   "outputs": [],
   "source": []
  },
  {
   "cell_type": "code",
   "execution_count": 37,
   "metadata": {},
   "outputs": [],
   "source": []
  },
  {
   "cell_type": "code",
   "execution_count": 37,
   "metadata": {},
   "outputs": [],
   "source": []
  },
  {
   "cell_type": "code",
   "execution_count": 37,
   "metadata": {},
   "outputs": [],
   "source": []
  },
  {
   "cell_type": "code",
   "execution_count": 37,
   "metadata": {},
   "outputs": [],
   "source": []
  },
  {
   "cell_type": "code",
   "execution_count": 37,
   "metadata": {},
   "outputs": [],
   "source": []
  }
 ],
 "metadata": {
  "kernelspec": {
   "display_name": "PyCharm (BN4Nephrology)",
   "language": "python",
   "name": "pycharm-b7c5592"
  },
  "language_info": {
   "codemirror_mode": {
    "name": "ipython",
    "version": 3
   },
   "file_extension": ".py",
   "mimetype": "text/x-python",
   "name": "python",
   "nbconvert_exporter": "python",
   "pygments_lexer": "ipython3",
   "version": "3.7.6"
  }
 },
 "nbformat": 4,
 "nbformat_minor": 4
}