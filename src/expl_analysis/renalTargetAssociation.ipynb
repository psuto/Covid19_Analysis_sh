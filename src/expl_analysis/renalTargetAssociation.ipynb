{
 "cells": [
  {
   "cell_type": "code",
   "execution_count": 6,
   "metadata": {
    "collapsed": false,
    "jupyter": {
     "outputs_hidden": false
    },
    "pycharm": {
     "name": "#%%\n"
    }
   },
   "outputs": [],
   "source": []
  },
  {
   "cell_type": "code",
   "execution_count": 7,
   "metadata": {
    "collapsed": false,
    "jupyter": {
     "outputs_hidden": false
    },
    "pycharm": {
     "name": "#%%\n"
    }
   },
   "outputs": [],
   "source": [
    "import numpy as np\n",
    "import pandas as pd\n",
    "import pathlib as p\n",
    "import seaborn as sb\n",
    "import matplotlib.pyplot as plt\n",
    "import pathlib\n",
    "from pathlib import Path\n",
    "from datetime import datetime"
   ]
  },
  {
   "cell_type": "code",
   "execution_count": 8,
   "metadata": {
    "collapsed": false,
    "jupyter": {
     "outputs_hidden": false
    },
    "pycharm": {
     "name": "#%%\n"
    }
   },
   "outputs": [],
   "source": [
    "%matplotlib inline"
   ]
  },
  {
   "cell_type": "code",
   "execution_count": 9,
   "metadata": {
    "collapsed": false,
    "jupyter": {
     "outputs_hidden": false
    },
    "pycharm": {
     "name": "#%%\n"
    }
   },
   "outputs": [],
   "source": [
    "def extractParentDir(dataFileName):\n",
    "    purePath = pathlib.PurePath(dataFileName)\n",
    "    parentDir2 = purePath.parent.parent\n",
    "    return parentDir2"
   ]
  },
  {
   "cell_type": "code",
   "execution_count": 10,
   "metadata": {
    "collapsed": false,
    "jupyter": {
     "outputs_hidden": false
    },
    "pycharm": {
     "name": "#%%\n"
    }
   },
   "outputs": [],
   "source": [
    "todayVal = datetime.today()\n",
    "timeStampStr = todayVal.strftime(\"%y-%m-%d_%H-%M-%S.%f\")\n",
    "data_dir = r\"C:\\work\\dev\\dECMT_src\\data_all\\COVID19_Data\\Current\"\n",
    "parentDir2 = extractParentDir(data_dir)\n",
    "outputPath = Path(parentDir2) / \"Output_Covid19_Analysis\"/f\"{timeStampStr}_bipartite\""
   ]
  },
  {
   "cell_type": "code",
   "execution_count": 11,
   "metadata": {
    "collapsed": false,
    "jupyter": {
     "outputs_hidden": false
    },
    "pycharm": {
     "name": "#%%\n"
    }
   },
   "outputs": [],
   "source": [
    "comorbidFN = p.Path(data_dir) / \"REACT_Comorbidities_unpivoted.csv\"\n",
    "demogFN = p.Path(data_dir) / \"REACT_Demographics.csv\"\n",
    "comorbidDF:pd.DataFrame = pd.read_csv(comorbidFN)"
   ]
  },
  {
   "cell_type": "code",
   "execution_count": 12,
   "metadata": {
    "collapsed": false,
    "jupyter": {
     "outputs_hidden": false
    },
    "pycharm": {
     "name": "#%%\n"
    }
   },
   "outputs": [],
   "source": [
    "comorbidDF:pd.DataFrame = pd.read_csv(comorbidFN)\n",
    "demogDF:pd.DataFrame = pd.read_csv(demogFN)\n",
    "# **************************\n",
    "lab_results_df = pd.read_csv(p.Path(data_dir) / 'REACT_LabResults.csv')\n",
    "# pharmacy_data_df = pd.read_csv(p.Path(data_dir) / 'REACT_PharmacyData.csv')\n",
    "covid_test_df = pd.read_csv(p.Path(data_dir) / 'REACT_UHSCOVIDTest_processed.csv')"
   ]
  },
  {
   "cell_type": "code",
   "execution_count": 13,
   "metadata": {
    "collapsed": false,
    "jupyter": {
     "outputs_hidden": false
    },
    "pycharm": {
     "name": "#%%\n"
    }
   },
   "outputs": [],
   "source": [
    "# comorbidDF.head()"
   ]
  },
  {
   "cell_type": "code",
   "execution_count": 14,
   "metadata": {
    "collapsed": false,
    "jupyter": {
     "outputs_hidden": false
    },
    "pycharm": {
     "name": "#%%\n"
    }
   },
   "outputs": [],
   "source": [
    "# demogDF.head()"
   ]
  },
  {
   "cell_type": "code",
   "execution_count": 15,
   "metadata": {
    "collapsed": false,
    "jupyter": {
     "outputs_hidden": false
    },
    "pycharm": {
     "name": "#%%\n"
    }
   },
   "outputs": [
    {
     "data": {
      "text/plain": [
       "Index(['STUDY_ID', 'COMORBIDITY', 'STATUS'], dtype='object')"
      ]
     },
     "execution_count": 15,
     "metadata": {},
     "output_type": "execute_result"
    }
   ],
   "source": [
    "comorbidDF.columns"
   ]
  },
  {
   "cell_type": "code",
   "execution_count": 10,
   "metadata": {
    "collapsed": false,
    "jupyter": {
     "outputs_hidden": false
    },
    "pycharm": {
     "name": "#%%\n"
    }
   },
   "outputs": [],
   "source": [
    "# comorbidDF['COMORBIDITY'].unique()\n"
   ]
  },
  {
   "cell_type": "code",
   "execution_count": 11,
   "metadata": {
    "collapsed": false,
    "jupyter": {
     "outputs_hidden": false
    },
    "pycharm": {
     "name": "#%%\n"
    }
   },
   "outputs": [],
   "source": [
    "dfRes:pd.DataFrame = pd.merge(demogDF, comorbidDF, on='STUDY_ID', how='inner')"
   ]
  },
  {
   "cell_type": "code",
   "execution_count": 12,
   "metadata": {
    "collapsed": false,
    "jupyter": {
     "outputs_hidden": false
    },
    "pycharm": {
     "name": "#%%\n"
    }
   },
   "outputs": [],
   "source": [
    "dfRes['RENAL_D_PRESENT'] = (dfRes['COMORBIDITY'] == 'RENAL_D')"
   ]
  },
  {
   "cell_type": "code",
   "execution_count": 13,
   "metadata": {
    "collapsed": false,
    "jupyter": {
     "outputs_hidden": false
    },
    "pycharm": {
     "name": "#%%\n"
    }
   },
   "outputs": [
    {
     "data": {
      "text/html": [
       "<div>\n",
       "<style scoped>\n",
       "    .dataframe tbody tr th:only-of-type {\n",
       "        vertical-align: middle;\n",
       "    }\n",
       "\n",
       "    .dataframe tbody tr th {\n",
       "        vertical-align: top;\n",
       "    }\n",
       "\n",
       "    .dataframe thead th {\n",
       "        text-align: right;\n",
       "    }\n",
       "</style>\n",
       "<table border=\"1\" class=\"dataframe\">\n",
       "  <thead>\n",
       "    <tr style=\"text-align: right;\">\n",
       "      <th></th>\n",
       "      <th>STUDY_ID</th>\n",
       "      <th>PATIENT_AGE</th>\n",
       "      <th>DOB</th>\n",
       "      <th>DATE_OF_DEATH</th>\n",
       "      <th>DOD_DATE</th>\n",
       "      <th>GENDER</th>\n",
       "      <th>ETHNIC_GROUP</th>\n",
       "      <th>SMOKING_HISTORY</th>\n",
       "      <th>POSTCODE</th>\n",
       "      <th>IS_PREGNANT</th>\n",
       "      <th>...</th>\n",
       "      <th>DISCHARGE_TIME_R</th>\n",
       "      <th>LOS</th>\n",
       "      <th>LOS_PREPOS</th>\n",
       "      <th>READM28</th>\n",
       "      <th>READM_DATETIME</th>\n",
       "      <th>READM_DATE</th>\n",
       "      <th>READM_TIME</th>\n",
       "      <th>COMORBIDITY</th>\n",
       "      <th>STATUS</th>\n",
       "      <th>RENAL_D_PRESENT</th>\n",
       "    </tr>\n",
       "  </thead>\n",
       "  <tbody>\n",
       "    <tr>\n",
       "      <th>0</th>\n",
       "      <td>UHSCOVID_00989a42</td>\n",
       "      <td>64.0</td>\n",
       "      <td>01/1956</td>\n",
       "      <td>NaN</td>\n",
       "      <td>NaN</td>\n",
       "      <td>2</td>\n",
       "      <td>A</td>\n",
       "      <td>NR|NR</td>\n",
       "      <td>SO19</td>\n",
       "      <td>0</td>\n",
       "      <td>...</td>\n",
       "      <td>10:21:00</td>\n",
       "      <td>6.71</td>\n",
       "      <td>-0.1</td>\n",
       "      <td>N</td>\n",
       "      <td>NaN</td>\n",
       "      <td>NaN</td>\n",
       "      <td>NaN</td>\n",
       "      <td>COPD</td>\n",
       "      <td>1</td>\n",
       "      <td>False</td>\n",
       "    </tr>\n",
       "    <tr>\n",
       "      <th>1</th>\n",
       "      <td>UHSCOVID_00989a42</td>\n",
       "      <td>64.0</td>\n",
       "      <td>01/1956</td>\n",
       "      <td>NaN</td>\n",
       "      <td>NaN</td>\n",
       "      <td>2</td>\n",
       "      <td>A</td>\n",
       "      <td>NR|NR</td>\n",
       "      <td>SO19</td>\n",
       "      <td>0</td>\n",
       "      <td>...</td>\n",
       "      <td>10:21:00</td>\n",
       "      <td>6.71</td>\n",
       "      <td>-0.1</td>\n",
       "      <td>N</td>\n",
       "      <td>NaN</td>\n",
       "      <td>NaN</td>\n",
       "      <td>NaN</td>\n",
       "      <td>ASTHMA</td>\n",
       "      <td>1</td>\n",
       "      <td>False</td>\n",
       "    </tr>\n",
       "    <tr>\n",
       "      <th>2</th>\n",
       "      <td>UHSCOVID_00989a42</td>\n",
       "      <td>64.0</td>\n",
       "      <td>01/1956</td>\n",
       "      <td>NaN</td>\n",
       "      <td>NaN</td>\n",
       "      <td>2</td>\n",
       "      <td>A</td>\n",
       "      <td>NR|NR</td>\n",
       "      <td>SO19</td>\n",
       "      <td>0</td>\n",
       "      <td>...</td>\n",
       "      <td>10:21:00</td>\n",
       "      <td>6.71</td>\n",
       "      <td>-0.1</td>\n",
       "      <td>N</td>\n",
       "      <td>NaN</td>\n",
       "      <td>NaN</td>\n",
       "      <td>NaN</td>\n",
       "      <td>DIABETES</td>\n",
       "      <td>1</td>\n",
       "      <td>False</td>\n",
       "    </tr>\n",
       "    <tr>\n",
       "      <th>3</th>\n",
       "      <td>UHSCOVID_00989a42</td>\n",
       "      <td>64.0</td>\n",
       "      <td>01/1956</td>\n",
       "      <td>NaN</td>\n",
       "      <td>NaN</td>\n",
       "      <td>2</td>\n",
       "      <td>A</td>\n",
       "      <td>NR|NR</td>\n",
       "      <td>SO19</td>\n",
       "      <td>0</td>\n",
       "      <td>...</td>\n",
       "      <td>10:21:00</td>\n",
       "      <td>6.71</td>\n",
       "      <td>-0.1</td>\n",
       "      <td>N</td>\n",
       "      <td>NaN</td>\n",
       "      <td>NaN</td>\n",
       "      <td>NaN</td>\n",
       "      <td>OBESITY</td>\n",
       "      <td>1</td>\n",
       "      <td>False</td>\n",
       "    </tr>\n",
       "    <tr>\n",
       "      <th>4</th>\n",
       "      <td>UHSCOVID_00ac1e32</td>\n",
       "      <td>73.0</td>\n",
       "      <td>10/1946</td>\n",
       "      <td>NaN</td>\n",
       "      <td>NaN</td>\n",
       "      <td>2</td>\n",
       "      <td>A</td>\n",
       "      <td>Ex-smoker|NR</td>\n",
       "      <td>SO21</td>\n",
       "      <td>0</td>\n",
       "      <td>...</td>\n",
       "      <td>12:56:00</td>\n",
       "      <td>41.79</td>\n",
       "      <td>4.0</td>\n",
       "      <td>N</td>\n",
       "      <td>NaN</td>\n",
       "      <td>NaN</td>\n",
       "      <td>NaN</td>\n",
       "      <td>HYPERTENSION</td>\n",
       "      <td>1</td>\n",
       "      <td>False</td>\n",
       "    </tr>\n",
       "  </tbody>\n",
       "</table>\n",
       "<p>5 rows × 31 columns</p>\n",
       "</div>"
      ],
      "text/plain": [
       "            STUDY_ID  PATIENT_AGE      DOB DATE_OF_DEATH DOD_DATE  GENDER  \\\n",
       "0  UHSCOVID_00989a42         64.0  01/1956           NaN      NaN       2   \n",
       "1  UHSCOVID_00989a42         64.0  01/1956           NaN      NaN       2   \n",
       "2  UHSCOVID_00989a42         64.0  01/1956           NaN      NaN       2   \n",
       "3  UHSCOVID_00989a42         64.0  01/1956           NaN      NaN       2   \n",
       "4  UHSCOVID_00ac1e32         73.0  10/1946           NaN      NaN       2   \n",
       "\n",
       "  ETHNIC_GROUP SMOKING_HISTORY POSTCODE  IS_PREGNANT  ...  DISCHARGE_TIME_R  \\\n",
       "0            A           NR|NR     SO19            0  ...          10:21:00   \n",
       "1            A           NR|NR     SO19            0  ...          10:21:00   \n",
       "2            A           NR|NR     SO19            0  ...          10:21:00   \n",
       "3            A           NR|NR     SO19            0  ...          10:21:00   \n",
       "4            A    Ex-smoker|NR     SO21            0  ...          12:56:00   \n",
       "\n",
       "     LOS  LOS_PREPOS READM28 READM_DATETIME READM_DATE READM_TIME  \\\n",
       "0   6.71        -0.1       N            NaN        NaN        NaN   \n",
       "1   6.71        -0.1       N            NaN        NaN        NaN   \n",
       "2   6.71        -0.1       N            NaN        NaN        NaN   \n",
       "3   6.71        -0.1       N            NaN        NaN        NaN   \n",
       "4  41.79         4.0       N            NaN        NaN        NaN   \n",
       "\n",
       "    COMORBIDITY STATUS RENAL_D_PRESENT  \n",
       "0          COPD      1           False  \n",
       "1        ASTHMA      1           False  \n",
       "2      DIABETES      1           False  \n",
       "3       OBESITY      1           False  \n",
       "4  HYPERTENSION      1           False  \n",
       "\n",
       "[5 rows x 31 columns]"
      ]
     },
     "execution_count": 13,
     "metadata": {},
     "output_type": "execute_result"
    }
   ],
   "source": [
    "dfRes.head()"
   ]
  },
  {
   "cell_type": "code",
   "execution_count": 14,
   "metadata": {
    "collapsed": false,
    "jupyter": {
     "outputs_hidden": false
    },
    "pycharm": {
     "name": "#%%\n"
    }
   },
   "outputs": [
    {
     "data": {
      "text/plain": [
       "Index(['STUDY_ID', 'PATIENT_AGE', 'DOB', 'DATE_OF_DEATH', 'DOD_DATE', 'GENDER',\n",
       "       'ETHNIC_GROUP', 'SMOKING_HISTORY', 'POSTCODE', 'IS_PREGNANT', 'HEIG',\n",
       "       'WEIG', 'BMI', 'FIRST_POS_DATE', 'FIRST_POS_DATE_R', 'FIRST_POS_TIME_R',\n",
       "       'ADMIT_DATETIME', 'ADM_DATE_R', 'ADM_TIME_R', 'DISCHARGEDATE',\n",
       "       'DISCHARGE_DATE_R', 'DISCHARGE_TIME_R', 'LOS', 'LOS_PREPOS', 'READM28',\n",
       "       'READM_DATETIME', 'READM_DATE', 'READM_TIME', 'COMORBIDITY', 'STATUS',\n",
       "       'RENAL_D_PRESENT'],\n",
       "      dtype='object')"
      ]
     },
     "execution_count": 14,
     "metadata": {},
     "output_type": "execute_result"
    }
   ],
   "source": [
    "dfRes.columns"
   ]
  },
  {
   "cell_type": "code",
   "execution_count": 14,
   "metadata": {
    "collapsed": true,
    "jupyter": {
     "outputs_hidden": true
    }
   },
   "outputs": [],
   "source": []
  }
 ],
 "metadata": {
  "kernelspec": {
   "display_name": "PyCharm (BN4Nephrology)",
   "language": "python",
   "name": "pycharm-b7c5592"
  },
  "language_info": {
   "codemirror_mode": {
    "name": "ipython",
    "version": 3
   },
   "file_extension": ".py",
   "mimetype": "text/x-python",
   "name": "python",
   "nbconvert_exporter": "python",
   "pygments_lexer": "ipython3",
   "version": "3.7.6"
  }
 },
 "nbformat": 4,
 "nbformat_minor": 4
}
