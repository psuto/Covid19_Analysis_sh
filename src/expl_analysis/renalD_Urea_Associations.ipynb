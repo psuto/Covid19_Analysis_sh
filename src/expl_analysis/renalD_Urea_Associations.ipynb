{
 "cells": [
  {
   "cell_type": "code",
   "execution_count": 34,
   "metadata": {
    "pycharm": {
     "name": "#%%\n"
    }
   },
   "outputs": [],
   "source": [
    "import numpy as np\n",
    "import pandas as pd\n",
    "import pathlib as p\n",
    "import seaborn as sb\n",
    "import matplotlib.pyplot as plt\n",
    "import pathlib\n",
    "from pathlib import Path\n",
    "from datetime import datetime\n",
    "from IPython.display import Markdown as md\n",
    "from IPython.display import Math as m\n"
   ]
  },
  {
   "cell_type": "code",
   "execution_count": 35,
   "metadata": {
    "pycharm": {
     "name": "#%%\n"
    }
   },
   "outputs": [],
   "source": [
    "%matplotlib inline"
   ]
  },
  {
   "cell_type": "code",
   "execution_count": 36,
   "metadata": {
    "pycharm": {
     "name": "#%%\n"
    }
   },
   "outputs": [],
   "source": [
    "def extractParentDir(dataFileName):\n",
    "    purePath = pathlib.PurePath(dataFileName)\n",
    "    parentDir2 = purePath.parent.parent\n",
    "    return parentDir2"
   ]
  },
  {
   "cell_type": "code",
   "execution_count": 37,
   "metadata": {
    "pycharm": {
     "name": "#%%\n"
    }
   },
   "outputs": [],
   "source": [
    "todayVal = datetime.today()\n",
    "timeStampStr = todayVal.strftime(\"%y-%m-%d_%H-%M-%S.%f\")\n",
    "data_dir = r\"C:\\work\\dev\\dECMT_src\\data_all\\COVID19_Data\\Current\"\n",
    "parentDir2 = extractParentDir(data_dir)\n",
    "outputPath = Path(parentDir2) / \"Output_Covid19_Analysis\"/f\"{timeStampStr}_bipartite\""
   ]
  },
  {
   "cell_type": "code",
   "execution_count": 38,
   "metadata": {
    "pycharm": {
     "name": "#%%\n"
    }
   },
   "outputs": [],
   "source": [
    "comorbidFN = p.Path(data_dir) / \"REACT_Comorbidities_unpivoted.csv\"\n",
    "demogFN = p.Path(data_dir) / \"REACT_Demographics.csv\"\n",
    "comorbidDF:pd.DataFrame = pd.read_csv(comorbidFN)"
   ]
  },
  {
   "cell_type": "code",
   "execution_count": 39,
   "metadata": {
    "pycharm": {
     "name": "#%%\n"
    }
   },
   "outputs": [],
   "source": [
    "comorbidDF:pd.DataFrame = pd.read_csv(comorbidFN)\n",
    "demogDF:pd.DataFrame = pd.read_csv(demogFN)\n",
    "covidDemogDF = pd.read_csv(p.Path(data_dir)/ 'REACT_COVID_Demographics.csv')\n",
    "# **************************\n",
    "lab_results_df = pd.read_csv(p.Path(data_dir) / 'REACT_LabResults.csv')\n",
    "# pharmacy_data_df = pd.read_csv(p.Path(data_dir) / 'REACT_PharmacyData.csv')\n",
    "covid_test_df = pd.read_csv(p.Path(data_dir) / 'REACT_UHSCOVIDTest_processed.csv')\n"
   ]
  },
  {
   "cell_type": "code",
   "execution_count": 40,
   "metadata": {
    "pycharm": {
     "name": "#%%\n"
    }
   },
   "outputs": [
    {
     "data": {
      "text/plain": [
       "Index(['STUDY_ID', 'PATHOLOGY_SPECIMEN_DATE', 'SPECIMEN_DATE', 'SPECIMEN_TIME',\n",
       "       'REACT_TESTCODE', 'PATHOLOGY_RESULT_NUMERIC', 'LOWER_RANGE',\n",
       "       'UPPER_RANGE', 'UNIT'],\n",
       "      dtype='object')"
      ]
     },
     "execution_count": 40,
     "metadata": {},
     "output_type": "execute_result"
    }
   ],
   "source": [
    "lab_results_df.columns"
   ]
  },
  {
   "cell_type": "code",
   "execution_count": 41,
   "metadata": {
    "pycharm": {
     "name": "#%%\n"
    }
   },
   "outputs": [
    {
     "data": {
      "text/plain": [
       "array(['GLUCOSE', 'POTASSIUM', 'CREATENINE', 'LDH', 'UREA', 'BILIRUBIN',\n",
       "       'WBC', 'EOSINOPHILS', 'NEUTROPHILS', 'LYMPHOCYTES', 'ALT', 'CRP',\n",
       "       'SODIUM', 'HB', 'TRIGYCERIN', 'PLATELETS', 'AST', 'TROPONIN',\n",
       "       'FERRITIN', 'D_DIMER'], dtype=object)"
      ]
     },
     "execution_count": 41,
     "metadata": {},
     "output_type": "execute_result"
    }
   ],
   "source": [
    "lab_results_df['REACT_TESTCODE'].unique()"
   ]
  },
  {
   "cell_type": "code",
   "execution_count": 42,
   "metadata": {
    "pycharm": {
     "name": "#%%\n"
    }
   },
   "outputs": [
    {
     "data": {
      "text/html": [
       "<div>\n",
       "<style scoped>\n",
       "    .dataframe tbody tr th:only-of-type {\n",
       "        vertical-align: middle;\n",
       "    }\n",
       "\n",
       "    .dataframe tbody tr th {\n",
       "        vertical-align: top;\n",
       "    }\n",
       "\n",
       "    .dataframe thead th {\n",
       "        text-align: right;\n",
       "    }\n",
       "</style>\n",
       "<table border=\"1\" class=\"dataframe\">\n",
       "  <thead>\n",
       "    <tr style=\"text-align: right;\">\n",
       "      <th></th>\n",
       "      <th>PATHOLOGY_RESULT_NUMERIC</th>\n",
       "      <th>LOWER_RANGE</th>\n",
       "      <th>UPPER_RANGE</th>\n",
       "    </tr>\n",
       "  </thead>\n",
       "  <tbody>\n",
       "    <tr>\n",
       "      <th>count</th>\n",
       "      <td>69556.000000</td>\n",
       "      <td>60614.000000</td>\n",
       "      <td>60614.000000</td>\n",
       "    </tr>\n",
       "    <tr>\n",
       "      <th>mean</th>\n",
       "      <td>99.503547</td>\n",
       "      <td>35.947517</td>\n",
       "      <td>76.503552</td>\n",
       "    </tr>\n",
       "    <tr>\n",
       "      <th>std</th>\n",
       "      <td>378.850807</td>\n",
       "      <td>59.095173</td>\n",
       "      <td>121.243614</td>\n",
       "    </tr>\n",
       "    <tr>\n",
       "      <th>min</th>\n",
       "      <td>0.000000</td>\n",
       "      <td>0.000000</td>\n",
       "      <td>0.500000</td>\n",
       "    </tr>\n",
       "    <tr>\n",
       "      <th>25%</th>\n",
       "      <td>5.500000</td>\n",
       "      <td>2.000000</td>\n",
       "      <td>7.000000</td>\n",
       "    </tr>\n",
       "    <tr>\n",
       "      <th>50%</th>\n",
       "      <td>10.000000</td>\n",
       "      <td>3.000000</td>\n",
       "      <td>7.800000</td>\n",
       "    </tr>\n",
       "    <tr>\n",
       "      <th>75%</th>\n",
       "      <td>83.000000</td>\n",
       "      <td>53.000000</td>\n",
       "      <td>115.000000</td>\n",
       "    </tr>\n",
       "    <tr>\n",
       "      <th>max</th>\n",
       "      <td>34607.000000</td>\n",
       "      <td>225.000000</td>\n",
       "      <td>425.000000</td>\n",
       "    </tr>\n",
       "  </tbody>\n",
       "</table>\n",
       "</div>"
      ],
      "text/plain": [
       "       PATHOLOGY_RESULT_NUMERIC   LOWER_RANGE   UPPER_RANGE\n",
       "count              69556.000000  60614.000000  60614.000000\n",
       "mean                  99.503547     35.947517     76.503552\n",
       "std                  378.850807     59.095173    121.243614\n",
       "min                    0.000000      0.000000      0.500000\n",
       "25%                    5.500000      2.000000      7.000000\n",
       "50%                   10.000000      3.000000      7.800000\n",
       "75%                   83.000000     53.000000    115.000000\n",
       "max                34607.000000    225.000000    425.000000"
      ]
     },
     "execution_count": 42,
     "metadata": {},
     "output_type": "execute_result"
    }
   ],
   "source": [
    "lab_results_df.describe()\n"
   ]
  },
  {
   "cell_type": "code",
   "execution_count": 43,
   "metadata": {
    "pycharm": {
     "name": "#%%\n"
    }
   },
   "outputs": [
    {
     "data": {
      "text/html": [
       "<div>\n",
       "<style scoped>\n",
       "    .dataframe tbody tr th:only-of-type {\n",
       "        vertical-align: middle;\n",
       "    }\n",
       "\n",
       "    .dataframe tbody tr th {\n",
       "        vertical-align: top;\n",
       "    }\n",
       "\n",
       "    .dataframe thead th {\n",
       "        text-align: right;\n",
       "    }\n",
       "</style>\n",
       "<table border=\"1\" class=\"dataframe\">\n",
       "  <thead>\n",
       "    <tr style=\"text-align: right;\">\n",
       "      <th></th>\n",
       "      <th>STUDY_ID</th>\n",
       "      <th>PATHOLOGY_SPECIMEN_DATE</th>\n",
       "      <th>SPECIMEN_DATE</th>\n",
       "      <th>SPECIMEN_TIME</th>\n",
       "      <th>REACT_TESTCODE</th>\n",
       "      <th>PATHOLOGY_RESULT_NUMERIC</th>\n",
       "      <th>LOWER_RANGE</th>\n",
       "      <th>UPPER_RANGE</th>\n",
       "      <th>UNIT</th>\n",
       "    </tr>\n",
       "  </thead>\n",
       "  <tbody>\n",
       "    <tr>\n",
       "      <th>0</th>\n",
       "      <td>UHSCOVID_0dd1b11a</td>\n",
       "      <td>2020-05-27 06:12:00</td>\n",
       "      <td>27/05/2020</td>\n",
       "      <td>06:12:00</td>\n",
       "      <td>GLUCOSE</td>\n",
       "      <td>4.4</td>\n",
       "      <td>NaN</td>\n",
       "      <td>NaN</td>\n",
       "      <td>mmol/L</td>\n",
       "    </tr>\n",
       "    <tr>\n",
       "      <th>1</th>\n",
       "      <td>UHSCOVID_2eb34b00</td>\n",
       "      <td>2020-05-24 08:41:00</td>\n",
       "      <td>24/05/2020</td>\n",
       "      <td>08:41:00</td>\n",
       "      <td>POTASSIUM</td>\n",
       "      <td>3.7</td>\n",
       "      <td>3.5</td>\n",
       "      <td>5.3</td>\n",
       "      <td>mmol/L</td>\n",
       "    </tr>\n",
       "    <tr>\n",
       "      <th>2</th>\n",
       "      <td>UHSCOVID_2eb34b00</td>\n",
       "      <td>2020-05-24 08:41:00</td>\n",
       "      <td>24/05/2020</td>\n",
       "      <td>08:41:00</td>\n",
       "      <td>CREATENINE</td>\n",
       "      <td>81.0</td>\n",
       "      <td>80.0</td>\n",
       "      <td>115.0</td>\n",
       "      <td>mmol/L</td>\n",
       "    </tr>\n",
       "    <tr>\n",
       "      <th>3</th>\n",
       "      <td>UHSCOVID_2eb34b00</td>\n",
       "      <td>2020-05-25 09:13:00</td>\n",
       "      <td>25/05/2020</td>\n",
       "      <td>09:13:00</td>\n",
       "      <td>LDH</td>\n",
       "      <td>747.0</td>\n",
       "      <td>225.0</td>\n",
       "      <td>425.0</td>\n",
       "      <td>units/L</td>\n",
       "    </tr>\n",
       "    <tr>\n",
       "      <th>4</th>\n",
       "      <td>UHSCOVID_2eb34b00</td>\n",
       "      <td>2020-05-26 00:00:00</td>\n",
       "      <td>26/05/2020</td>\n",
       "      <td>00:00:00</td>\n",
       "      <td>UREA</td>\n",
       "      <td>5.6</td>\n",
       "      <td>2.5</td>\n",
       "      <td>7.8</td>\n",
       "      <td>mmol/L</td>\n",
       "    </tr>\n",
       "  </tbody>\n",
       "</table>\n",
       "</div>"
      ],
      "text/plain": [
       "            STUDY_ID PATHOLOGY_SPECIMEN_DATE SPECIMEN_DATE SPECIMEN_TIME  \\\n",
       "0  UHSCOVID_0dd1b11a     2020-05-27 06:12:00    27/05/2020      06:12:00   \n",
       "1  UHSCOVID_2eb34b00     2020-05-24 08:41:00    24/05/2020      08:41:00   \n",
       "2  UHSCOVID_2eb34b00     2020-05-24 08:41:00    24/05/2020      08:41:00   \n",
       "3  UHSCOVID_2eb34b00     2020-05-25 09:13:00    25/05/2020      09:13:00   \n",
       "4  UHSCOVID_2eb34b00     2020-05-26 00:00:00    26/05/2020      00:00:00   \n",
       "\n",
       "  REACT_TESTCODE  PATHOLOGY_RESULT_NUMERIC  LOWER_RANGE  UPPER_RANGE     UNIT  \n",
       "0        GLUCOSE                       4.4          NaN          NaN   mmol/L  \n",
       "1      POTASSIUM                       3.7          3.5          5.3   mmol/L  \n",
       "2     CREATENINE                      81.0         80.0        115.0   mmol/L  \n",
       "3            LDH                     747.0        225.0        425.0  units/L  \n",
       "4           UREA                       5.6          2.5          7.8   mmol/L  "
      ]
     },
     "execution_count": 43,
     "metadata": {},
     "output_type": "execute_result"
    }
   ],
   "source": [
    "lab_results_df.head()"
   ]
  },
  {
   "cell_type": "code",
   "execution_count": 44,
   "metadata": {
    "pycharm": {
     "name": "#%%\n"
    }
   },
   "outputs": [],
   "source": [
    "lab_results_df=lab_results_df[lab_results_df['REACT_TESTCODE']=='UREA']"
   ]
  },
  {
   "cell_type": "code",
   "execution_count": 45,
   "metadata": {
    "pycharm": {
     "name": "#%%\n"
    }
   },
   "outputs": [
    {
     "data": {
      "text/html": [
       "<div>\n",
       "<style scoped>\n",
       "    .dataframe tbody tr th:only-of-type {\n",
       "        vertical-align: middle;\n",
       "    }\n",
       "\n",
       "    .dataframe tbody tr th {\n",
       "        vertical-align: top;\n",
       "    }\n",
       "\n",
       "    .dataframe thead th {\n",
       "        text-align: right;\n",
       "    }\n",
       "</style>\n",
       "<table border=\"1\" class=\"dataframe\">\n",
       "  <thead>\n",
       "    <tr style=\"text-align: right;\">\n",
       "      <th></th>\n",
       "      <th>PATHOLOGY_RESULT_NUMERIC</th>\n",
       "      <th>LOWER_RANGE</th>\n",
       "      <th>UPPER_RANGE</th>\n",
       "    </tr>\n",
       "  </thead>\n",
       "  <tbody>\n",
       "    <tr>\n",
       "      <th>count</th>\n",
       "      <td>3626.000000</td>\n",
       "      <td>3626.0</td>\n",
       "      <td>3.626000e+03</td>\n",
       "    </tr>\n",
       "    <tr>\n",
       "      <th>mean</th>\n",
       "      <td>9.725262</td>\n",
       "      <td>2.5</td>\n",
       "      <td>7.800000e+00</td>\n",
       "    </tr>\n",
       "    <tr>\n",
       "      <th>std</th>\n",
       "      <td>7.187232</td>\n",
       "      <td>0.0</td>\n",
       "      <td>8.883009e-16</td>\n",
       "    </tr>\n",
       "    <tr>\n",
       "      <th>min</th>\n",
       "      <td>0.900000</td>\n",
       "      <td>2.5</td>\n",
       "      <td>7.800000e+00</td>\n",
       "    </tr>\n",
       "    <tr>\n",
       "      <th>25%</th>\n",
       "      <td>5.100000</td>\n",
       "      <td>2.5</td>\n",
       "      <td>7.800000e+00</td>\n",
       "    </tr>\n",
       "    <tr>\n",
       "      <th>50%</th>\n",
       "      <td>7.400000</td>\n",
       "      <td>2.5</td>\n",
       "      <td>7.800000e+00</td>\n",
       "    </tr>\n",
       "    <tr>\n",
       "      <th>75%</th>\n",
       "      <td>11.700000</td>\n",
       "      <td>2.5</td>\n",
       "      <td>7.800000e+00</td>\n",
       "    </tr>\n",
       "    <tr>\n",
       "      <th>max</th>\n",
       "      <td>48.400000</td>\n",
       "      <td>2.5</td>\n",
       "      <td>7.800000e+00</td>\n",
       "    </tr>\n",
       "  </tbody>\n",
       "</table>\n",
       "</div>"
      ],
      "text/plain": [
       "       PATHOLOGY_RESULT_NUMERIC  LOWER_RANGE   UPPER_RANGE\n",
       "count               3626.000000       3626.0  3.626000e+03\n",
       "mean                   9.725262          2.5  7.800000e+00\n",
       "std                    7.187232          0.0  8.883009e-16\n",
       "min                    0.900000          2.5  7.800000e+00\n",
       "25%                    5.100000          2.5  7.800000e+00\n",
       "50%                    7.400000          2.5  7.800000e+00\n",
       "75%                   11.700000          2.5  7.800000e+00\n",
       "max                   48.400000          2.5  7.800000e+00"
      ]
     },
     "execution_count": 45,
     "metadata": {},
     "output_type": "execute_result"
    }
   ],
   "source": [
    "lab_results_df.describe()\n",
    "\n",
    "# Index(['STUDY_ID', 'PATHOLOGY_SPECIMEN_DATE', 'SPECIMEN_DATE', 'SPECIMEN_TIME',\n",
    "#        'REACT_TESTCODE', 'PATHOLOGY_RESULT_NUMERIC', 'LOWER_RANGE',\n",
    "#        'UPPER_RANGE', 'UNIT'],\n",
    "#       dtype='object')\n"
   ]
  },
  {
   "cell_type": "code",
   "execution_count": 46,
   "metadata": {
    "pycharm": {
     "name": "#%%\n"
    }
   },
   "outputs": [
    {
     "data": {
      "text/plain": [
       "Index(['STUDY_ID', 'PATHOLOGY_SPECIMEN_DATE', 'SPECIMEN_DATE', 'SPECIMEN_TIME',\n",
       "       'REACT_TESTCODE', 'PATHOLOGY_RESULT_NUMERIC', 'LOWER_RANGE',\n",
       "       'UPPER_RANGE', 'UNIT'],\n",
       "      dtype='object')"
      ]
     },
     "execution_count": 46,
     "metadata": {},
     "output_type": "execute_result"
    }
   ],
   "source": [
    "lab_results_df.columns"
   ]
  },
  {
   "cell_type": "code",
   "execution_count": 47,
   "metadata": {
    "pycharm": {
     "name": "#%%\n"
    }
   },
   "outputs": [
    {
     "data": {
      "text/html": [
       "<div>\n",
       "<style scoped>\n",
       "    .dataframe tbody tr th:only-of-type {\n",
       "        vertical-align: middle;\n",
       "    }\n",
       "\n",
       "    .dataframe tbody tr th {\n",
       "        vertical-align: top;\n",
       "    }\n",
       "\n",
       "    .dataframe thead th {\n",
       "        text-align: right;\n",
       "    }\n",
       "</style>\n",
       "<table border=\"1\" class=\"dataframe\">\n",
       "  <thead>\n",
       "    <tr style=\"text-align: right;\">\n",
       "      <th></th>\n",
       "      <th>STUDY_ID</th>\n",
       "      <th>PATHOLOGY_SPECIMEN_DATE</th>\n",
       "      <th>REACT_TESTCODE</th>\n",
       "      <th>PATHOLOGY_RESULT_NUMERIC</th>\n",
       "      <th>LOWER_RANGE</th>\n",
       "      <th>UPPER_RANGE</th>\n",
       "      <th>UNIT</th>\n",
       "    </tr>\n",
       "  </thead>\n",
       "  <tbody>\n",
       "    <tr>\n",
       "      <th>4</th>\n",
       "      <td>UHSCOVID_2eb34b00</td>\n",
       "      <td>2020-05-26 00:00:00</td>\n",
       "      <td>UREA</td>\n",
       "      <td>5.6</td>\n",
       "      <td>2.5</td>\n",
       "      <td>7.8</td>\n",
       "      <td>mmol/L</td>\n",
       "    </tr>\n",
       "    <tr>\n",
       "      <th>12</th>\n",
       "      <td>UHSCOVID_01add35c</td>\n",
       "      <td>2020-05-22 10:40:00</td>\n",
       "      <td>UREA</td>\n",
       "      <td>6.9</td>\n",
       "      <td>2.5</td>\n",
       "      <td>7.8</td>\n",
       "      <td>mmol/L</td>\n",
       "    </tr>\n",
       "    <tr>\n",
       "      <th>18</th>\n",
       "      <td>UHSCOVID_a693f094</td>\n",
       "      <td>2020-04-06 00:00:00</td>\n",
       "      <td>UREA</td>\n",
       "      <td>5.1</td>\n",
       "      <td>2.5</td>\n",
       "      <td>7.8</td>\n",
       "      <td>mmol/L</td>\n",
       "    </tr>\n",
       "    <tr>\n",
       "      <th>19</th>\n",
       "      <td>UHSCOVID_a693f094</td>\n",
       "      <td>2020-04-15 00:00:00</td>\n",
       "      <td>UREA</td>\n",
       "      <td>6.1</td>\n",
       "      <td>2.5</td>\n",
       "      <td>7.8</td>\n",
       "      <td>mmol/L</td>\n",
       "    </tr>\n",
       "    <tr>\n",
       "      <th>25</th>\n",
       "      <td>UHSCOVID_a693f094</td>\n",
       "      <td>2020-04-21 12:38:00</td>\n",
       "      <td>UREA</td>\n",
       "      <td>6.9</td>\n",
       "      <td>2.5</td>\n",
       "      <td>7.8</td>\n",
       "      <td>mmol/L</td>\n",
       "    </tr>\n",
       "  </tbody>\n",
       "</table>\n",
       "</div>"
      ],
      "text/plain": [
       "             STUDY_ID PATHOLOGY_SPECIMEN_DATE REACT_TESTCODE  \\\n",
       "4   UHSCOVID_2eb34b00     2020-05-26 00:00:00           UREA   \n",
       "12  UHSCOVID_01add35c     2020-05-22 10:40:00           UREA   \n",
       "18  UHSCOVID_a693f094     2020-04-06 00:00:00           UREA   \n",
       "19  UHSCOVID_a693f094     2020-04-15 00:00:00           UREA   \n",
       "25  UHSCOVID_a693f094     2020-04-21 12:38:00           UREA   \n",
       "\n",
       "    PATHOLOGY_RESULT_NUMERIC  LOWER_RANGE  UPPER_RANGE    UNIT  \n",
       "4                        5.6          2.5          7.8  mmol/L  \n",
       "12                       6.9          2.5          7.8  mmol/L  \n",
       "18                       5.1          2.5          7.8  mmol/L  \n",
       "19                       6.1          2.5          7.8  mmol/L  \n",
       "25                       6.9          2.5          7.8  mmol/L  "
      ]
     },
     "execution_count": 47,
     "metadata": {},
     "output_type": "execute_result"
    }
   ],
   "source": [
    "lab_results_df[['STUDY_ID', 'PATHOLOGY_SPECIMEN_DATE',\n",
    "       'REACT_TESTCODE', 'PATHOLOGY_RESULT_NUMERIC', 'LOWER_RANGE',\n",
    "       'UPPER_RANGE', 'UNIT']].head()"
   ]
  },
  {
   "cell_type": "code",
   "execution_count": 48,
   "metadata": {
    "pycharm": {
     "name": "#%%\n"
    }
   },
   "outputs": [
    {
     "data": {
      "text/html": [
       "<div>\n",
       "<style scoped>\n",
       "    .dataframe tbody tr th:only-of-type {\n",
       "        vertical-align: middle;\n",
       "    }\n",
       "\n",
       "    .dataframe tbody tr th {\n",
       "        vertical-align: top;\n",
       "    }\n",
       "\n",
       "    .dataframe thead th {\n",
       "        text-align: right;\n",
       "    }\n",
       "</style>\n",
       "<table border=\"1\" class=\"dataframe\">\n",
       "  <thead>\n",
       "    <tr style=\"text-align: right;\">\n",
       "      <th></th>\n",
       "      <th>PATIENT_AGE</th>\n",
       "      <th>GENDER</th>\n",
       "      <th>IS_PREGNANT</th>\n",
       "      <th>HEIG</th>\n",
       "      <th>WEIG</th>\n",
       "      <th>BMI</th>\n",
       "      <th>LOS</th>\n",
       "      <th>LOS_PREPOS</th>\n",
       "    </tr>\n",
       "  </thead>\n",
       "  <tbody>\n",
       "    <tr>\n",
       "      <th>count</th>\n",
       "      <td>614.000000</td>\n",
       "      <td>614.000000</td>\n",
       "      <td>614.000000</td>\n",
       "      <td>277.000000</td>\n",
       "      <td>593.000000</td>\n",
       "      <td>271.000000</td>\n",
       "      <td>614.000000</td>\n",
       "      <td>614.000000</td>\n",
       "    </tr>\n",
       "    <tr>\n",
       "      <th>mean</th>\n",
       "      <td>67.929967</td>\n",
       "      <td>1.571661</td>\n",
       "      <td>0.009772</td>\n",
       "      <td>167.709531</td>\n",
       "      <td>75.407437</td>\n",
       "      <td>26.277343</td>\n",
       "      <td>15.838322</td>\n",
       "      <td>3.847264</td>\n",
       "    </tr>\n",
       "    <tr>\n",
       "      <th>std</th>\n",
       "      <td>19.635836</td>\n",
       "      <td>0.495241</td>\n",
       "      <td>0.098449</td>\n",
       "      <td>14.785532</td>\n",
       "      <td>21.033713</td>\n",
       "      <td>5.907941</td>\n",
       "      <td>17.310716</td>\n",
       "      <td>9.651141</td>\n",
       "    </tr>\n",
       "    <tr>\n",
       "      <th>min</th>\n",
       "      <td>0.000000</td>\n",
       "      <td>1.000000</td>\n",
       "      <td>0.000000</td>\n",
       "      <td>66.000000</td>\n",
       "      <td>0.000000</td>\n",
       "      <td>12.860000</td>\n",
       "      <td>0.000000</td>\n",
       "      <td>-0.370000</td>\n",
       "    </tr>\n",
       "    <tr>\n",
       "      <th>25%</th>\n",
       "      <td>55.250000</td>\n",
       "      <td>1.000000</td>\n",
       "      <td>0.000000</td>\n",
       "      <td>160.000000</td>\n",
       "      <td>62.700000</td>\n",
       "      <td>22.255000</td>\n",
       "      <td>4.622500</td>\n",
       "      <td>-0.080000</td>\n",
       "    </tr>\n",
       "    <tr>\n",
       "      <th>50%</th>\n",
       "      <td>72.000000</td>\n",
       "      <td>2.000000</td>\n",
       "      <td>0.000000</td>\n",
       "      <td>168.000000</td>\n",
       "      <td>75.000000</td>\n",
       "      <td>25.510000</td>\n",
       "      <td>10.095000</td>\n",
       "      <td>0.010000</td>\n",
       "    </tr>\n",
       "    <tr>\n",
       "      <th>75%</th>\n",
       "      <td>83.000000</td>\n",
       "      <td>2.000000</td>\n",
       "      <td>0.000000</td>\n",
       "      <td>177.800000</td>\n",
       "      <td>86.000000</td>\n",
       "      <td>29.895000</td>\n",
       "      <td>21.827500</td>\n",
       "      <td>3.705000</td>\n",
       "    </tr>\n",
       "    <tr>\n",
       "      <th>max</th>\n",
       "      <td>103.000000</td>\n",
       "      <td>2.000000</td>\n",
       "      <td>1.000000</td>\n",
       "      <td>198.000000</td>\n",
       "      <td>192.000000</td>\n",
       "      <td>50.560000</td>\n",
       "      <td>173.580000</td>\n",
       "      <td>127.140000</td>\n",
       "    </tr>\n",
       "  </tbody>\n",
       "</table>\n",
       "</div>"
      ],
      "text/plain": [
       "       PATIENT_AGE      GENDER  IS_PREGNANT        HEIG        WEIG  \\\n",
       "count   614.000000  614.000000   614.000000  277.000000  593.000000   \n",
       "mean     67.929967    1.571661     0.009772  167.709531   75.407437   \n",
       "std      19.635836    0.495241     0.098449   14.785532   21.033713   \n",
       "min       0.000000    1.000000     0.000000   66.000000    0.000000   \n",
       "25%      55.250000    1.000000     0.000000  160.000000   62.700000   \n",
       "50%      72.000000    2.000000     0.000000  168.000000   75.000000   \n",
       "75%      83.000000    2.000000     0.000000  177.800000   86.000000   \n",
       "max     103.000000    2.000000     1.000000  198.000000  192.000000   \n",
       "\n",
       "              BMI         LOS  LOS_PREPOS  \n",
       "count  271.000000  614.000000  614.000000  \n",
       "mean    26.277343   15.838322    3.847264  \n",
       "std      5.907941   17.310716    9.651141  \n",
       "min     12.860000    0.000000   -0.370000  \n",
       "25%     22.255000    4.622500   -0.080000  \n",
       "50%     25.510000   10.095000    0.010000  \n",
       "75%     29.895000   21.827500    3.705000  \n",
       "max     50.560000  173.580000  127.140000  "
      ]
     },
     "execution_count": 48,
     "metadata": {},
     "output_type": "execute_result"
    }
   ],
   "source": [
    "demogDF.describe()"
   ]
  },
  {
   "cell_type": "code",
   "execution_count": 49,
   "metadata": {
    "pycharm": {
     "name": "#%%\n"
    }
   },
   "outputs": [
    {
     "data": {
      "text/html": [
       "<div>\n",
       "<style scoped>\n",
       "    .dataframe tbody tr th:only-of-type {\n",
       "        vertical-align: middle;\n",
       "    }\n",
       "\n",
       "    .dataframe tbody tr th {\n",
       "        vertical-align: top;\n",
       "    }\n",
       "\n",
       "    .dataframe thead th {\n",
       "        text-align: right;\n",
       "    }\n",
       "</style>\n",
       "<table border=\"1\" class=\"dataframe\">\n",
       "  <thead>\n",
       "    <tr style=\"text-align: right;\">\n",
       "      <th></th>\n",
       "      <th>STUDY_ID</th>\n",
       "      <th>PATIENT_AGE</th>\n",
       "      <th>GENDER</th>\n",
       "      <th>ETHNIC_GROUP</th>\n",
       "      <th>POSTCODE</th>\n",
       "      <th>IS_PREGNANT</th>\n",
       "      <th>HEIG</th>\n",
       "      <th>WEIG</th>\n",
       "      <th>BMI</th>\n",
       "      <th>FIRST_POS_DATE</th>\n",
       "      <th>...</th>\n",
       "      <th>DISCHARGEDATE</th>\n",
       "      <th>DISCHARGE_DATE_R</th>\n",
       "      <th>DISCHARGE_TIME_R</th>\n",
       "      <th>LOS</th>\n",
       "      <th>LOS_PREPOS</th>\n",
       "      <th>READM28</th>\n",
       "      <th>READM_DATETIME</th>\n",
       "      <th>READM_DATE</th>\n",
       "      <th>READM_TIME</th>\n",
       "      <th>DOBjan1st</th>\n",
       "    </tr>\n",
       "  </thead>\n",
       "  <tbody>\n",
       "    <tr>\n",
       "      <th>0</th>\n",
       "      <td>UHSCOVID_00989a42</td>\n",
       "      <td>64</td>\n",
       "      <td>M</td>\n",
       "      <td>A</td>\n",
       "      <td>SO19</td>\n",
       "      <td>0</td>\n",
       "      <td>185.00</td>\n",
       "      <td>110.0</td>\n",
       "      <td>32.14</td>\n",
       "      <td>26/03/2020 14:48</td>\n",
       "      <td>...</td>\n",
       "      <td>02/04/2020 10:21</td>\n",
       "      <td>02/04/2020</td>\n",
       "      <td>10:21:00</td>\n",
       "      <td>6.71</td>\n",
       "      <td>-0.10</td>\n",
       "      <td>N</td>\n",
       "      <td>NaN</td>\n",
       "      <td>NaN</td>\n",
       "      <td>NaN</td>\n",
       "      <td>01/01/1956</td>\n",
       "    </tr>\n",
       "    <tr>\n",
       "      <th>1</th>\n",
       "      <td>UHSCOVID_00ac1e32</td>\n",
       "      <td>73</td>\n",
       "      <td>M</td>\n",
       "      <td>A</td>\n",
       "      <td>SO21</td>\n",
       "      <td>0</td>\n",
       "      <td>177.80</td>\n",
       "      <td>135.7</td>\n",
       "      <td>42.93</td>\n",
       "      <td>11/04/2020 17:55</td>\n",
       "      <td>...</td>\n",
       "      <td>NaN</td>\n",
       "      <td>NaN</td>\n",
       "      <td>NaN</td>\n",
       "      <td>38.25</td>\n",
       "      <td>4.00</td>\n",
       "      <td>N</td>\n",
       "      <td>NaN</td>\n",
       "      <td>NaN</td>\n",
       "      <td>NaN</td>\n",
       "      <td>01/01/1947</td>\n",
       "    </tr>\n",
       "    <tr>\n",
       "      <th>2</th>\n",
       "      <td>UHSCOVID_00cb7bdd</td>\n",
       "      <td>76</td>\n",
       "      <td>F</td>\n",
       "      <td>A</td>\n",
       "      <td>SO16</td>\n",
       "      <td>0</td>\n",
       "      <td>NaN</td>\n",
       "      <td>65.0</td>\n",
       "      <td>NaN</td>\n",
       "      <td>10/04/2020 17:03</td>\n",
       "      <td>...</td>\n",
       "      <td>13/04/2020 02:15</td>\n",
       "      <td>13/04/2020</td>\n",
       "      <td>02:15:00</td>\n",
       "      <td>2.35</td>\n",
       "      <td>-0.04</td>\n",
       "      <td>N</td>\n",
       "      <td>NaN</td>\n",
       "      <td>NaN</td>\n",
       "      <td>NaN</td>\n",
       "      <td>01/01/1944</td>\n",
       "    </tr>\n",
       "    <tr>\n",
       "      <th>3</th>\n",
       "      <td>UHSCOVID_01f7838d</td>\n",
       "      <td>97</td>\n",
       "      <td>M</td>\n",
       "      <td>A</td>\n",
       "      <td>SO16</td>\n",
       "      <td>0</td>\n",
       "      <td>NaN</td>\n",
       "      <td>80.0</td>\n",
       "      <td>NaN</td>\n",
       "      <td>11/05/2020 12:12</td>\n",
       "      <td>...</td>\n",
       "      <td>NaN</td>\n",
       "      <td>NaN</td>\n",
       "      <td>NaN</td>\n",
       "      <td>11.63</td>\n",
       "      <td>7.13</td>\n",
       "      <td>N</td>\n",
       "      <td>NaN</td>\n",
       "      <td>NaN</td>\n",
       "      <td>NaN</td>\n",
       "      <td>01/01/1923</td>\n",
       "    </tr>\n",
       "    <tr>\n",
       "      <th>4</th>\n",
       "      <td>UHSCOVID_025d562e</td>\n",
       "      <td>62</td>\n",
       "      <td>F</td>\n",
       "      <td>X</td>\n",
       "      <td>SO16</td>\n",
       "      <td>0</td>\n",
       "      <td>NaN</td>\n",
       "      <td>90.0</td>\n",
       "      <td>NaN</td>\n",
       "      <td>01/05/2020 23:58</td>\n",
       "      <td>...</td>\n",
       "      <td>NaN</td>\n",
       "      <td>NaN</td>\n",
       "      <td>NaN</td>\n",
       "      <td>14.11</td>\n",
       "      <td>0.11</td>\n",
       "      <td>N</td>\n",
       "      <td>NaN</td>\n",
       "      <td>NaN</td>\n",
       "      <td>NaN</td>\n",
       "      <td>01/01/1958</td>\n",
       "    </tr>\n",
       "    <tr>\n",
       "      <th>...</th>\n",
       "      <td>...</td>\n",
       "      <td>...</td>\n",
       "      <td>...</td>\n",
       "      <td>...</td>\n",
       "      <td>...</td>\n",
       "      <td>...</td>\n",
       "      <td>...</td>\n",
       "      <td>...</td>\n",
       "      <td>...</td>\n",
       "      <td>...</td>\n",
       "      <td>...</td>\n",
       "      <td>...</td>\n",
       "      <td>...</td>\n",
       "      <td>...</td>\n",
       "      <td>...</td>\n",
       "      <td>...</td>\n",
       "      <td>...</td>\n",
       "      <td>...</td>\n",
       "      <td>...</td>\n",
       "      <td>...</td>\n",
       "      <td>...</td>\n",
       "    </tr>\n",
       "    <tr>\n",
       "      <th>559</th>\n",
       "      <td>UHSCOVID_fc872d82</td>\n",
       "      <td>53</td>\n",
       "      <td>M</td>\n",
       "      <td>A</td>\n",
       "      <td>SO53</td>\n",
       "      <td>0</td>\n",
       "      <td>180.00</td>\n",
       "      <td>110.0</td>\n",
       "      <td>33.95</td>\n",
       "      <td>02/04/2020 16:07</td>\n",
       "      <td>...</td>\n",
       "      <td>NaN</td>\n",
       "      <td>NaN</td>\n",
       "      <td>NaN</td>\n",
       "      <td>52.03</td>\n",
       "      <td>8.70</td>\n",
       "      <td>N</td>\n",
       "      <td>NaN</td>\n",
       "      <td>NaN</td>\n",
       "      <td>NaN</td>\n",
       "      <td>01/01/1967</td>\n",
       "    </tr>\n",
       "    <tr>\n",
       "      <th>560</th>\n",
       "      <td>UHSCOVID_fd016c0e</td>\n",
       "      <td>47</td>\n",
       "      <td>M</td>\n",
       "      <td>X</td>\n",
       "      <td>SO15</td>\n",
       "      <td>0</td>\n",
       "      <td>NaN</td>\n",
       "      <td>NaN</td>\n",
       "      <td>NaN</td>\n",
       "      <td>11/04/2020 10:22</td>\n",
       "      <td>...</td>\n",
       "      <td>16/04/2020 21:38</td>\n",
       "      <td>16/04/2020</td>\n",
       "      <td>21:38:00</td>\n",
       "      <td>5.35</td>\n",
       "      <td>-0.12</td>\n",
       "      <td>N</td>\n",
       "      <td>NaN</td>\n",
       "      <td>NaN</td>\n",
       "      <td>NaN</td>\n",
       "      <td>01/01/1973</td>\n",
       "    </tr>\n",
       "    <tr>\n",
       "      <th>561</th>\n",
       "      <td>UHSCOVID_fd4da220</td>\n",
       "      <td>70</td>\n",
       "      <td>M</td>\n",
       "      <td>A</td>\n",
       "      <td>SO17</td>\n",
       "      <td>0</td>\n",
       "      <td>NaN</td>\n",
       "      <td>82.0</td>\n",
       "      <td>NaN</td>\n",
       "      <td>14/04/2020 16:44</td>\n",
       "      <td>...</td>\n",
       "      <td>18/04/2020 13:00</td>\n",
       "      <td>18/04/2020</td>\n",
       "      <td>13:00:00</td>\n",
       "      <td>3.87</td>\n",
       "      <td>0.03</td>\n",
       "      <td>N</td>\n",
       "      <td>NaN</td>\n",
       "      <td>NaN</td>\n",
       "      <td>NaN</td>\n",
       "      <td>01/01/1950</td>\n",
       "    </tr>\n",
       "    <tr>\n",
       "      <th>562</th>\n",
       "      <td>UHSCOVID_fd893360</td>\n",
       "      <td>67</td>\n",
       "      <td>F</td>\n",
       "      <td>A</td>\n",
       "      <td>SO41</td>\n",
       "      <td>0</td>\n",
       "      <td>NaN</td>\n",
       "      <td>75.0</td>\n",
       "      <td>NaN</td>\n",
       "      <td>29/03/2020 10:53</td>\n",
       "      <td>...</td>\n",
       "      <td>21/04/2020 12:20</td>\n",
       "      <td>21/04/2020</td>\n",
       "      <td>12:20:00</td>\n",
       "      <td>22.93</td>\n",
       "      <td>-0.13</td>\n",
       "      <td>Y</td>\n",
       "      <td>29/04/2020 15:20</td>\n",
       "      <td>29/04/2020</td>\n",
       "      <td>15:20:00</td>\n",
       "      <td>01/01/1953</td>\n",
       "    </tr>\n",
       "    <tr>\n",
       "      <th>563</th>\n",
       "      <td>UHSCOVID_fe8c3d54</td>\n",
       "      <td>88</td>\n",
       "      <td>F</td>\n",
       "      <td>A</td>\n",
       "      <td>SO15</td>\n",
       "      <td>0</td>\n",
       "      <td>160.02</td>\n",
       "      <td>40.0</td>\n",
       "      <td>15.62</td>\n",
       "      <td>10/04/2020 10:09</td>\n",
       "      <td>...</td>\n",
       "      <td>19/04/2020 15:28</td>\n",
       "      <td>19/04/2020</td>\n",
       "      <td>15:28:00</td>\n",
       "      <td>17.55</td>\n",
       "      <td>8.33</td>\n",
       "      <td>N</td>\n",
       "      <td>NaN</td>\n",
       "      <td>NaN</td>\n",
       "      <td>NaN</td>\n",
       "      <td>01/01/1932</td>\n",
       "    </tr>\n",
       "  </tbody>\n",
       "</table>\n",
       "<p>564 rows × 25 columns</p>\n",
       "</div>"
      ],
      "text/plain": [
       "              STUDY_ID  PATIENT_AGE GENDER ETHNIC_GROUP POSTCODE  IS_PREGNANT  \\\n",
       "0    UHSCOVID_00989a42           64      M            A     SO19            0   \n",
       "1    UHSCOVID_00ac1e32           73      M            A     SO21            0   \n",
       "2    UHSCOVID_00cb7bdd           76      F            A     SO16            0   \n",
       "3    UHSCOVID_01f7838d           97      M            A     SO16            0   \n",
       "4    UHSCOVID_025d562e           62      F            X     SO16            0   \n",
       "..                 ...          ...    ...          ...      ...          ...   \n",
       "559  UHSCOVID_fc872d82           53      M            A     SO53            0   \n",
       "560  UHSCOVID_fd016c0e           47      M            X     SO15            0   \n",
       "561  UHSCOVID_fd4da220           70      M            A     SO17            0   \n",
       "562  UHSCOVID_fd893360           67      F            A     SO41            0   \n",
       "563  UHSCOVID_fe8c3d54           88      F            A     SO15            0   \n",
       "\n",
       "       HEIG   WEIG    BMI    FIRST_POS_DATE  ...     DISCHARGEDATE  \\\n",
       "0    185.00  110.0  32.14  26/03/2020 14:48  ...  02/04/2020 10:21   \n",
       "1    177.80  135.7  42.93  11/04/2020 17:55  ...               NaN   \n",
       "2       NaN   65.0    NaN  10/04/2020 17:03  ...  13/04/2020 02:15   \n",
       "3       NaN   80.0    NaN  11/05/2020 12:12  ...               NaN   \n",
       "4       NaN   90.0    NaN  01/05/2020 23:58  ...               NaN   \n",
       "..      ...    ...    ...               ...  ...               ...   \n",
       "559  180.00  110.0  33.95  02/04/2020 16:07  ...               NaN   \n",
       "560     NaN    NaN    NaN  11/04/2020 10:22  ...  16/04/2020 21:38   \n",
       "561     NaN   82.0    NaN  14/04/2020 16:44  ...  18/04/2020 13:00   \n",
       "562     NaN   75.0    NaN  29/03/2020 10:53  ...  21/04/2020 12:20   \n",
       "563  160.02   40.0  15.62  10/04/2020 10:09  ...  19/04/2020 15:28   \n",
       "\n",
       "    DISCHARGE_DATE_R DISCHARGE_TIME_R    LOS LOS_PREPOS READM28  \\\n",
       "0         02/04/2020         10:21:00   6.71      -0.10       N   \n",
       "1                NaN              NaN  38.25       4.00       N   \n",
       "2         13/04/2020         02:15:00   2.35      -0.04       N   \n",
       "3                NaN              NaN  11.63       7.13       N   \n",
       "4                NaN              NaN  14.11       0.11       N   \n",
       "..               ...              ...    ...        ...     ...   \n",
       "559              NaN              NaN  52.03       8.70       N   \n",
       "560       16/04/2020         21:38:00   5.35      -0.12       N   \n",
       "561       18/04/2020         13:00:00   3.87       0.03       N   \n",
       "562       21/04/2020         12:20:00  22.93      -0.13       Y   \n",
       "563       19/04/2020         15:28:00  17.55       8.33       N   \n",
       "\n",
       "       READM_DATETIME  READM_DATE  READM_TIME   DOBjan1st  \n",
       "0                 NaN         NaN         NaN  01/01/1956  \n",
       "1                 NaN         NaN         NaN  01/01/1947  \n",
       "2                 NaN         NaN         NaN  01/01/1944  \n",
       "3                 NaN         NaN         NaN  01/01/1923  \n",
       "4                 NaN         NaN         NaN  01/01/1958  \n",
       "..                ...         ...         ...         ...  \n",
       "559               NaN         NaN         NaN  01/01/1967  \n",
       "560               NaN         NaN         NaN  01/01/1973  \n",
       "561               NaN         NaN         NaN  01/01/1950  \n",
       "562  29/04/2020 15:20  29/04/2020    15:20:00  01/01/1953  \n",
       "563               NaN         NaN         NaN  01/01/1932  \n",
       "\n",
       "[564 rows x 25 columns]"
      ]
     },
     "execution_count": 49,
     "metadata": {},
     "output_type": "execute_result"
    }
   ],
   "source": [
    "covidDemogDF"
   ]
  },
  {
   "cell_type": "code",
   "execution_count": 50,
   "metadata": {
    "pycharm": {
     "name": "#%%\n"
    }
   },
   "outputs": [],
   "source": [
    "# Index(['STUDY_ID', 'PATIENT_AGE', 'GENDER', 'ETHNIC_GROUP', 'POSTCODE',\n",
    "#        'IS_PREGNANT', 'HEIG', 'WEIG', 'BMI', 'FIRST_POS_DATE',\n",
    "#        'FIRST_POS_DATE_R', 'FIRST_POS_TIME_R', 'ADMIT_DATETIME', 'ADM_DATE_R',\n",
    "#        'ADM_TIME_R', 'DISCHARGEDATE', 'DISCHARGE_DATE_R', 'DISCHARGE_TIME_R',\n",
    "#        'LOS', 'LOS_PREPOS', 'READM28', 'READM_DATETIME', 'READM_DATE',\n",
    "#        'READM_TIME', 'DOBjan1st'],\n",
    "#       dtype='object')\n",
    "\n",
    "dates2Convert={\n",
    "    'covidDemographics':['']\n",
    "}"
   ]
  },
  {
   "cell_type": "code",
   "execution_count": 51,
   "metadata": {
    "pycharm": {
     "name": "#%%\n"
    }
   },
   "outputs": [],
   "source": [
    "# u.convertDatesWTableName(covidDemogDF,'demographics_df')\n"
   ]
  },
  {
   "cell_type": "code",
   "execution_count": 52,
   "metadata": {
    "pycharm": {
     "name": "#%%\n"
    }
   },
   "outputs": [],
   "source": [
    "lab_results_Urea_Agg_df = lab_results_df.groupby('STUDY_ID').agg(UREA_MEAN=('PATHOLOGY_RESULT_NUMERIC', 'mean'),\n",
    "                                                             UREA_STD=('PATHOLOGY_RESULT_NUMERIC', 'std'),\n",
    "                                                             UREA_MIN =('PATHOLOGY_RESULT_NUMERIC', 'min'),\n",
    "                                                             UREA_MAX =('PATHOLOGY_RESULT_NUMERIC', 'max')\n",
    "                                                             )\n"
   ]
  },
  {
   "cell_type": "code",
   "execution_count": 53,
   "metadata": {
    "pycharm": {
     "name": "#%%\n"
    }
   },
   "outputs": [
    {
     "data": {
      "text/html": [
       "<div>\n",
       "<style scoped>\n",
       "    .dataframe tbody tr th:only-of-type {\n",
       "        vertical-align: middle;\n",
       "    }\n",
       "\n",
       "    .dataframe tbody tr th {\n",
       "        vertical-align: top;\n",
       "    }\n",
       "\n",
       "    .dataframe thead th {\n",
       "        text-align: right;\n",
       "    }\n",
       "</style>\n",
       "<table border=\"1\" class=\"dataframe\">\n",
       "  <thead>\n",
       "    <tr style=\"text-align: right;\">\n",
       "      <th></th>\n",
       "      <th>UREA_MEAN</th>\n",
       "      <th>UREA_STD</th>\n",
       "      <th>UREA_MIN</th>\n",
       "      <th>UREA_MAX</th>\n",
       "    </tr>\n",
       "    <tr>\n",
       "      <th>STUDY_ID</th>\n",
       "      <th></th>\n",
       "      <th></th>\n",
       "      <th></th>\n",
       "      <th></th>\n",
       "    </tr>\n",
       "  </thead>\n",
       "  <tbody>\n",
       "    <tr>\n",
       "      <th>UHSCOVID_00989a42</th>\n",
       "      <td>5.450000</td>\n",
       "      <td>0.353553</td>\n",
       "      <td>5.2</td>\n",
       "      <td>5.7</td>\n",
       "    </tr>\n",
       "    <tr>\n",
       "      <th>UHSCOVID_01add35c</th>\n",
       "      <td>7.400000</td>\n",
       "      <td>0.707107</td>\n",
       "      <td>6.9</td>\n",
       "      <td>7.9</td>\n",
       "    </tr>\n",
       "    <tr>\n",
       "      <th>UHSCOVID_01f7838d</th>\n",
       "      <td>5.100000</td>\n",
       "      <td>NaN</td>\n",
       "      <td>5.1</td>\n",
       "      <td>5.1</td>\n",
       "    </tr>\n",
       "    <tr>\n",
       "      <th>UHSCOVID_025d562e</th>\n",
       "      <td>2.750000</td>\n",
       "      <td>0.900000</td>\n",
       "      <td>2.0</td>\n",
       "      <td>4.0</td>\n",
       "    </tr>\n",
       "    <tr>\n",
       "      <th>UHSCOVID_0520de1c</th>\n",
       "      <td>16.450000</td>\n",
       "      <td>1.909188</td>\n",
       "      <td>15.1</td>\n",
       "      <td>17.8</td>\n",
       "    </tr>\n",
       "    <tr>\n",
       "      <th>...</th>\n",
       "      <td>...</td>\n",
       "      <td>...</td>\n",
       "      <td>...</td>\n",
       "      <td>...</td>\n",
       "    </tr>\n",
       "    <tr>\n",
       "      <th>UHSCOVID_f748a293</th>\n",
       "      <td>7.750000</td>\n",
       "      <td>0.519615</td>\n",
       "      <td>7.3</td>\n",
       "      <td>8.5</td>\n",
       "    </tr>\n",
       "    <tr>\n",
       "      <th>UHSCOVID_f834fd10</th>\n",
       "      <td>7.881818</td>\n",
       "      <td>2.140943</td>\n",
       "      <td>4.3</td>\n",
       "      <td>10.4</td>\n",
       "    </tr>\n",
       "    <tr>\n",
       "      <th>UHSCOVID_f8d03de4</th>\n",
       "      <td>6.807143</td>\n",
       "      <td>2.277470</td>\n",
       "      <td>4.4</td>\n",
       "      <td>12.0</td>\n",
       "    </tr>\n",
       "    <tr>\n",
       "      <th>UHSCOVID_f9663ce4</th>\n",
       "      <td>27.100000</td>\n",
       "      <td>2.342363</td>\n",
       "      <td>24.4</td>\n",
       "      <td>29.3</td>\n",
       "    </tr>\n",
       "    <tr>\n",
       "      <th>UHSCOVID_fd893360</th>\n",
       "      <td>5.733333</td>\n",
       "      <td>2.282542</td>\n",
       "      <td>2.4</td>\n",
       "      <td>9.5</td>\n",
       "    </tr>\n",
       "  </tbody>\n",
       "</table>\n",
       "<p>347 rows × 4 columns</p>\n",
       "</div>"
      ],
      "text/plain": [
       "                   UREA_MEAN  UREA_STD  UREA_MIN  UREA_MAX\n",
       "STUDY_ID                                                  \n",
       "UHSCOVID_00989a42   5.450000  0.353553       5.2       5.7\n",
       "UHSCOVID_01add35c   7.400000  0.707107       6.9       7.9\n",
       "UHSCOVID_01f7838d   5.100000       NaN       5.1       5.1\n",
       "UHSCOVID_025d562e   2.750000  0.900000       2.0       4.0\n",
       "UHSCOVID_0520de1c  16.450000  1.909188      15.1      17.8\n",
       "...                      ...       ...       ...       ...\n",
       "UHSCOVID_f748a293   7.750000  0.519615       7.3       8.5\n",
       "UHSCOVID_f834fd10   7.881818  2.140943       4.3      10.4\n",
       "UHSCOVID_f8d03de4   6.807143  2.277470       4.4      12.0\n",
       "UHSCOVID_f9663ce4  27.100000  2.342363      24.4      29.3\n",
       "UHSCOVID_fd893360   5.733333  2.282542       2.4       9.5\n",
       "\n",
       "[347 rows x 4 columns]"
      ]
     },
     "execution_count": 53,
     "metadata": {},
     "output_type": "execute_result"
    }
   ],
   "source": [
    "lab_results_Urea_Agg_df"
   ]
  },
  {
   "cell_type": "code",
   "execution_count": 54,
   "metadata": {
    "pycharm": {
     "name": "#%%\n"
    }
   },
   "outputs": [
    {
     "data": {
      "text/plain": [
       "array(['COPD', 'ASTHMA', 'ILD', 'HYPERTENSION', 'THROMBOEMBOLIC',\n",
       "       'CARDIAC_D', 'RENAL_D', 'LIVER_D', 'NEURAL_D', 'META_SOLID_TUMOUR',\n",
       "       'MAGLINANT_NEO', 'DIABETES', 'OBESITY', 'HIV', 'RHEUMATO_D',\n",
       "       'DIMENTIA', 'IMMUNO'], dtype=object)"
      ]
     },
     "execution_count": 54,
     "metadata": {},
     "output_type": "execute_result"
    }
   ],
   "source": [
    "comorbidDF['COMORBIDITY'].unique()\n",
    "# array(['COPD', 'ASTHMA', 'ILD', 'HYPERTENSION', 'THROMBOEMBOLIC',\n",
    "#        'CARDIAC_D', 'RENAL_D', 'LIVER_D', 'NEURAL_D', 'META_SOLID_TUMOUR',\n",
    "#        'MAGLINANT_NEO', 'DIABETES', 'OBESITY', 'HIV', 'RHEUMATO_D',\n",
    "#        'DIMENTIA', 'IMMUNO'], dtype=object)\n"
   ]
  },
  {
   "cell_type": "code",
   "execution_count": 55,
   "metadata": {
    "pycharm": {
     "name": "#%%\n"
    }
   },
   "outputs": [
    {
     "data": {
      "text/html": [
       "<div>\n",
       "<style scoped>\n",
       "    .dataframe tbody tr th:only-of-type {\n",
       "        vertical-align: middle;\n",
       "    }\n",
       "\n",
       "    .dataframe tbody tr th {\n",
       "        vertical-align: top;\n",
       "    }\n",
       "\n",
       "    .dataframe thead th {\n",
       "        text-align: right;\n",
       "    }\n",
       "</style>\n",
       "<table border=\"1\" class=\"dataframe\">\n",
       "  <thead>\n",
       "    <tr style=\"text-align: right;\">\n",
       "      <th></th>\n",
       "      <th>STUDY_ID</th>\n",
       "      <th>COMORBIDITY</th>\n",
       "      <th>STATUS</th>\n",
       "      <th>RENAL_D_PRESENT</th>\n",
       "    </tr>\n",
       "  </thead>\n",
       "  <tbody>\n",
       "    <tr>\n",
       "      <th>0</th>\n",
       "      <td>UHSCOVID_00989a42</td>\n",
       "      <td>COPD</td>\n",
       "      <td>1</td>\n",
       "      <td>False</td>\n",
       "    </tr>\n",
       "    <tr>\n",
       "      <th>1</th>\n",
       "      <td>UHSCOVID_0520de1c</td>\n",
       "      <td>COPD</td>\n",
       "      <td>1</td>\n",
       "      <td>False</td>\n",
       "    </tr>\n",
       "    <tr>\n",
       "      <th>2</th>\n",
       "      <td>UHSCOVID_0744a86c</td>\n",
       "      <td>COPD</td>\n",
       "      <td>1</td>\n",
       "      <td>False</td>\n",
       "    </tr>\n",
       "    <tr>\n",
       "      <th>3</th>\n",
       "      <td>UHSCOVID_0874d194</td>\n",
       "      <td>COPD</td>\n",
       "      <td>1</td>\n",
       "      <td>False</td>\n",
       "    </tr>\n",
       "    <tr>\n",
       "      <th>4</th>\n",
       "      <td>UHSCOVID_0b401459</td>\n",
       "      <td>COPD</td>\n",
       "      <td>1</td>\n",
       "      <td>False</td>\n",
       "    </tr>\n",
       "  </tbody>\n",
       "</table>\n",
       "</div>"
      ],
      "text/plain": [
       "            STUDY_ID COMORBIDITY  STATUS  RENAL_D_PRESENT\n",
       "0  UHSCOVID_00989a42        COPD       1            False\n",
       "1  UHSCOVID_0520de1c        COPD       1            False\n",
       "2  UHSCOVID_0744a86c        COPD       1            False\n",
       "3  UHSCOVID_0874d194        COPD       1            False\n",
       "4  UHSCOVID_0b401459        COPD       1            False"
      ]
     },
     "execution_count": 55,
     "metadata": {},
     "output_type": "execute_result"
    }
   ],
   "source": [
    "comorbidDF['RENAL_D_PRESENT'] = (comorbidDF['COMORBIDITY'] == 'RENAL_D')\n",
    "comorbidDF.head()"
   ]
  },
  {
   "cell_type": "code",
   "execution_count": 56,
   "metadata": {
    "pycharm": {
     "name": "#%%\n"
    }
   },
   "outputs": [
    {
     "data": {
      "text/plain": [
       "array([False,  True])"
      ]
     },
     "execution_count": 56,
     "metadata": {},
     "output_type": "execute_result"
    }
   ],
   "source": [
    "comorbidDF['RENAL_D_PRESENT'].unique()\n"
   ]
  },
  {
   "cell_type": "code",
   "execution_count": 57,
   "metadata": {
    "pycharm": {
     "name": "#%%\n"
    }
   },
   "outputs": [
    {
     "data": {
      "text/html": [
       "<div>\n",
       "<style scoped>\n",
       "    .dataframe tbody tr th:only-of-type {\n",
       "        vertical-align: middle;\n",
       "    }\n",
       "\n",
       "    .dataframe tbody tr th {\n",
       "        vertical-align: top;\n",
       "    }\n",
       "\n",
       "    .dataframe thead th {\n",
       "        text-align: right;\n",
       "    }\n",
       "</style>\n",
       "<table border=\"1\" class=\"dataframe\">\n",
       "  <thead>\n",
       "    <tr style=\"text-align: right;\">\n",
       "      <th></th>\n",
       "      <th>RENAL_D_PRESENT</th>\n",
       "    </tr>\n",
       "    <tr>\n",
       "      <th>STUDY_ID</th>\n",
       "      <th></th>\n",
       "    </tr>\n",
       "  </thead>\n",
       "  <tbody>\n",
       "    <tr>\n",
       "      <th>UHSCOVID_00989a42</th>\n",
       "      <td>False</td>\n",
       "    </tr>\n",
       "    <tr>\n",
       "      <th>UHSCOVID_00ac1e32</th>\n",
       "      <td>False</td>\n",
       "    </tr>\n",
       "    <tr>\n",
       "      <th>UHSCOVID_00cb7bdd</th>\n",
       "      <td>False</td>\n",
       "    </tr>\n",
       "    <tr>\n",
       "      <th>UHSCOVID_01add35c</th>\n",
       "      <td>False</td>\n",
       "    </tr>\n",
       "    <tr>\n",
       "      <th>UHSCOVID_01f7838d</th>\n",
       "      <td>True</td>\n",
       "    </tr>\n",
       "  </tbody>\n",
       "</table>\n",
       "</div>"
      ],
      "text/plain": [
       "                   RENAL_D_PRESENT\n",
       "STUDY_ID                          \n",
       "UHSCOVID_00989a42            False\n",
       "UHSCOVID_00ac1e32            False\n",
       "UHSCOVID_00cb7bdd            False\n",
       "UHSCOVID_01add35c            False\n",
       "UHSCOVID_01f7838d             True"
      ]
     },
     "execution_count": 57,
     "metadata": {},
     "output_type": "execute_result"
    }
   ],
   "source": [
    "comorbidGrpDF = comorbidDF.groupby('STUDY_ID').agg(RENAL_D_PRESENT=('RENAL_D_PRESENT','any'))\n",
    "comorbidGrpDF.head()\n",
    "\n"
   ]
  },
  {
   "cell_type": "code",
   "execution_count": 58,
   "metadata": {
    "pycharm": {
     "name": "#%%\n"
    }
   },
   "outputs": [
    {
     "data": {
      "text/html": [
       "<div>\n",
       "<style scoped>\n",
       "    .dataframe tbody tr th:only-of-type {\n",
       "        vertical-align: middle;\n",
       "    }\n",
       "\n",
       "    .dataframe tbody tr th {\n",
       "        vertical-align: top;\n",
       "    }\n",
       "\n",
       "    .dataframe thead th {\n",
       "        text-align: right;\n",
       "    }\n",
       "</style>\n",
       "<table border=\"1\" class=\"dataframe\">\n",
       "  <thead>\n",
       "    <tr style=\"text-align: right;\">\n",
       "      <th></th>\n",
       "      <th>RENAL_D_PRESENT</th>\n",
       "    </tr>\n",
       "  </thead>\n",
       "  <tbody>\n",
       "    <tr>\n",
       "      <th>count</th>\n",
       "      <td>514</td>\n",
       "    </tr>\n",
       "    <tr>\n",
       "      <th>unique</th>\n",
       "      <td>2</td>\n",
       "    </tr>\n",
       "    <tr>\n",
       "      <th>top</th>\n",
       "      <td>False</td>\n",
       "    </tr>\n",
       "    <tr>\n",
       "      <th>freq</th>\n",
       "      <td>348</td>\n",
       "    </tr>\n",
       "  </tbody>\n",
       "</table>\n",
       "</div>"
      ],
      "text/plain": [
       "       RENAL_D_PRESENT\n",
       "count              514\n",
       "unique               2\n",
       "top              False\n",
       "freq               348"
      ]
     },
     "execution_count": 58,
     "metadata": {},
     "output_type": "execute_result"
    }
   ],
   "source": [
    "comorbidGrpDF.describe()"
   ]
  },
  {
   "cell_type": "markdown",
   "metadata": {},
   "source": [
    "# Association between Renal disease and Death"
   ]
  },
  {
   "cell_type": "code",
   "execution_count": 59,
   "metadata": {
    "pycharm": {
     "name": "#%%\n"
    }
   },
   "outputs": [],
   "source": [
    "dfRes:pd.DataFrame = pd.merge(lab_results_df, comorbidGrpDF, on='STUDY_ID', how='inner')"
   ]
  },
  {
   "cell_type": "code",
   "execution_count": 60,
   "metadata": {
    "pycharm": {
     "name": "#%%\n"
    }
   },
   "outputs": [
    {
     "data": {
      "text/html": [
       "<div>\n",
       "<style scoped>\n",
       "    .dataframe tbody tr th:only-of-type {\n",
       "        vertical-align: middle;\n",
       "    }\n",
       "\n",
       "    .dataframe tbody tr th {\n",
       "        vertical-align: top;\n",
       "    }\n",
       "\n",
       "    .dataframe thead th {\n",
       "        text-align: right;\n",
       "    }\n",
       "</style>\n",
       "<table border=\"1\" class=\"dataframe\">\n",
       "  <thead>\n",
       "    <tr style=\"text-align: right;\">\n",
       "      <th></th>\n",
       "      <th>STUDY_ID</th>\n",
       "      <th>PATHOLOGY_SPECIMEN_DATE</th>\n",
       "      <th>SPECIMEN_DATE</th>\n",
       "      <th>SPECIMEN_TIME</th>\n",
       "      <th>REACT_TESTCODE</th>\n",
       "      <th>PATHOLOGY_RESULT_NUMERIC</th>\n",
       "      <th>LOWER_RANGE</th>\n",
       "      <th>UPPER_RANGE</th>\n",
       "      <th>UNIT</th>\n",
       "      <th>RENAL_D_PRESENT</th>\n",
       "    </tr>\n",
       "  </thead>\n",
       "  <tbody>\n",
       "    <tr>\n",
       "      <th>0</th>\n",
       "      <td>UHSCOVID_01add35c</td>\n",
       "      <td>2020-05-22 10:40:00</td>\n",
       "      <td>22/05/2020</td>\n",
       "      <td>10:40:00</td>\n",
       "      <td>UREA</td>\n",
       "      <td>6.9</td>\n",
       "      <td>2.5</td>\n",
       "      <td>7.8</td>\n",
       "      <td>mmol/L</td>\n",
       "      <td>False</td>\n",
       "    </tr>\n",
       "    <tr>\n",
       "      <th>1</th>\n",
       "      <td>UHSCOVID_01add35c</td>\n",
       "      <td>2020-05-23 14:27:00</td>\n",
       "      <td>23/05/2020</td>\n",
       "      <td>14:27:00</td>\n",
       "      <td>UREA</td>\n",
       "      <td>7.9</td>\n",
       "      <td>2.5</td>\n",
       "      <td>7.8</td>\n",
       "      <td>mmol/L</td>\n",
       "      <td>False</td>\n",
       "    </tr>\n",
       "    <tr>\n",
       "      <th>2</th>\n",
       "      <td>UHSCOVID_a693f094</td>\n",
       "      <td>2020-04-06 00:00:00</td>\n",
       "      <td>06/04/2020</td>\n",
       "      <td>00:00:00</td>\n",
       "      <td>UREA</td>\n",
       "      <td>5.1</td>\n",
       "      <td>2.5</td>\n",
       "      <td>7.8</td>\n",
       "      <td>mmol/L</td>\n",
       "      <td>True</td>\n",
       "    </tr>\n",
       "    <tr>\n",
       "      <th>3</th>\n",
       "      <td>UHSCOVID_a693f094</td>\n",
       "      <td>2020-04-15 00:00:00</td>\n",
       "      <td>15/04/2020</td>\n",
       "      <td>00:00:00</td>\n",
       "      <td>UREA</td>\n",
       "      <td>6.1</td>\n",
       "      <td>2.5</td>\n",
       "      <td>7.8</td>\n",
       "      <td>mmol/L</td>\n",
       "      <td>True</td>\n",
       "    </tr>\n",
       "    <tr>\n",
       "      <th>4</th>\n",
       "      <td>UHSCOVID_a693f094</td>\n",
       "      <td>2020-04-21 12:38:00</td>\n",
       "      <td>21/04/2020</td>\n",
       "      <td>12:38:00</td>\n",
       "      <td>UREA</td>\n",
       "      <td>6.9</td>\n",
       "      <td>2.5</td>\n",
       "      <td>7.8</td>\n",
       "      <td>mmol/L</td>\n",
       "      <td>True</td>\n",
       "    </tr>\n",
       "  </tbody>\n",
       "</table>\n",
       "</div>"
      ],
      "text/plain": [
       "            STUDY_ID PATHOLOGY_SPECIMEN_DATE SPECIMEN_DATE SPECIMEN_TIME  \\\n",
       "0  UHSCOVID_01add35c     2020-05-22 10:40:00    22/05/2020      10:40:00   \n",
       "1  UHSCOVID_01add35c     2020-05-23 14:27:00    23/05/2020      14:27:00   \n",
       "2  UHSCOVID_a693f094     2020-04-06 00:00:00    06/04/2020      00:00:00   \n",
       "3  UHSCOVID_a693f094     2020-04-15 00:00:00    15/04/2020      00:00:00   \n",
       "4  UHSCOVID_a693f094     2020-04-21 12:38:00    21/04/2020      12:38:00   \n",
       "\n",
       "  REACT_TESTCODE  PATHOLOGY_RESULT_NUMERIC  LOWER_RANGE  UPPER_RANGE    UNIT  \\\n",
       "0           UREA                       6.9          2.5          7.8  mmol/L   \n",
       "1           UREA                       7.9          2.5          7.8  mmol/L   \n",
       "2           UREA                       5.1          2.5          7.8  mmol/L   \n",
       "3           UREA                       6.1          2.5          7.8  mmol/L   \n",
       "4           UREA                       6.9          2.5          7.8  mmol/L   \n",
       "\n",
       "   RENAL_D_PRESENT  \n",
       "0            False  \n",
       "1            False  \n",
       "2             True  \n",
       "3             True  \n",
       "4             True  "
      ]
     },
     "execution_count": 60,
     "metadata": {},
     "output_type": "execute_result"
    }
   ],
   "source": [
    "dfRes.head()"
   ]
  },
  {
   "cell_type": "code",
   "execution_count": 61,
   "metadata": {
    "pycharm": {
     "name": "#%%\n"
    }
   },
   "outputs": [
    {
     "data": {
      "text/html": [
       "<div>\n",
       "<style scoped>\n",
       "    .dataframe tbody tr th:only-of-type {\n",
       "        vertical-align: middle;\n",
       "    }\n",
       "\n",
       "    .dataframe tbody tr th {\n",
       "        vertical-align: top;\n",
       "    }\n",
       "\n",
       "    .dataframe thead th {\n",
       "        text-align: right;\n",
       "    }\n",
       "</style>\n",
       "<table border=\"1\" class=\"dataframe\">\n",
       "  <thead>\n",
       "    <tr style=\"text-align: right;\">\n",
       "      <th></th>\n",
       "      <th>PATHOLOGY_RESULT_NUMERIC</th>\n",
       "      <th>LOWER_RANGE</th>\n",
       "      <th>UPPER_RANGE</th>\n",
       "    </tr>\n",
       "  </thead>\n",
       "  <tbody>\n",
       "    <tr>\n",
       "      <th>count</th>\n",
       "      <td>3025.000000</td>\n",
       "      <td>3025.0</td>\n",
       "      <td>3.025000e+03</td>\n",
       "    </tr>\n",
       "    <tr>\n",
       "      <th>mean</th>\n",
       "      <td>9.789785</td>\n",
       "      <td>2.5</td>\n",
       "      <td>7.800000e+00</td>\n",
       "    </tr>\n",
       "    <tr>\n",
       "      <th>std</th>\n",
       "      <td>7.130266</td>\n",
       "      <td>0.0</td>\n",
       "      <td>2.664976e-15</td>\n",
       "    </tr>\n",
       "    <tr>\n",
       "      <th>min</th>\n",
       "      <td>0.900000</td>\n",
       "      <td>2.5</td>\n",
       "      <td>7.800000e+00</td>\n",
       "    </tr>\n",
       "    <tr>\n",
       "      <th>25%</th>\n",
       "      <td>5.200000</td>\n",
       "      <td>2.5</td>\n",
       "      <td>7.800000e+00</td>\n",
       "    </tr>\n",
       "    <tr>\n",
       "      <th>50%</th>\n",
       "      <td>7.500000</td>\n",
       "      <td>2.5</td>\n",
       "      <td>7.800000e+00</td>\n",
       "    </tr>\n",
       "    <tr>\n",
       "      <th>75%</th>\n",
       "      <td>11.700000</td>\n",
       "      <td>2.5</td>\n",
       "      <td>7.800000e+00</td>\n",
       "    </tr>\n",
       "    <tr>\n",
       "      <th>max</th>\n",
       "      <td>43.900000</td>\n",
       "      <td>2.5</td>\n",
       "      <td>7.800000e+00</td>\n",
       "    </tr>\n",
       "  </tbody>\n",
       "</table>\n",
       "</div>"
      ],
      "text/plain": [
       "       PATHOLOGY_RESULT_NUMERIC  LOWER_RANGE   UPPER_RANGE\n",
       "count               3025.000000       3025.0  3.025000e+03\n",
       "mean                   9.789785          2.5  7.800000e+00\n",
       "std                    7.130266          0.0  2.664976e-15\n",
       "min                    0.900000          2.5  7.800000e+00\n",
       "25%                    5.200000          2.5  7.800000e+00\n",
       "50%                    7.500000          2.5  7.800000e+00\n",
       "75%                   11.700000          2.5  7.800000e+00\n",
       "max                   43.900000          2.5  7.800000e+00"
      ]
     },
     "execution_count": 61,
     "metadata": {},
     "output_type": "execute_result"
    }
   ],
   "source": [
    "dfRes.describe()"
   ]
  },
  {
   "cell_type": "code",
   "execution_count": 62,
   "metadata": {
    "pycharm": {
     "name": "#%%\n"
    }
   },
   "outputs": [
    {
     "data": {
      "text/plain": [
       "Index(['STUDY_ID', 'PATHOLOGY_SPECIMEN_DATE', 'SPECIMEN_DATE', 'SPECIMEN_TIME',\n",
       "       'REACT_TESTCODE', 'PATHOLOGY_RESULT_NUMERIC', 'LOWER_RANGE',\n",
       "       'UPPER_RANGE', 'UNIT', 'RENAL_D_PRESENT'],\n",
       "      dtype='object')"
      ]
     },
     "execution_count": 62,
     "metadata": {},
     "output_type": "execute_result"
    }
   ],
   "source": [
    "dfRes.columns\n",
    "# 69\n",
    "# Index(['STUDY_ID', 'PATHOLOGY_SPECIMEN_DATE', 'SPECIMEN_DATE', 'SPECIMEN_TIME',\n",
    "#        'REACT_TESTCODE', 'PATHOLOGY_RESULT_NUMERIC', 'LOWER_RANGE',\n",
    "#        'UPPER_RANGE', 'UNIT', 'RENAL_D_PRESENT'],\n",
    "#       dtype='object')\n"
   ]
  },
  {
   "cell_type": "code",
   "execution_count": 63,
   "metadata": {
    "pycharm": {
     "name": "#%%\n"
    }
   },
   "outputs": [
    {
     "data": {
      "text/plain": [
       "Index(['STUDY_ID', 'PATHOLOGY_SPECIMEN_DATE', 'SPECIMEN_DATE', 'SPECIMEN_TIME',\n",
       "       'REACT_TESTCODE', 'UREA VALUES', 'LOWER_RANGE', 'UPPER_RANGE', 'UNIT',\n",
       "       'RENAL_D_PRESENT'],\n",
       "      dtype='object')"
      ]
     },
     "execution_count": 63,
     "metadata": {},
     "output_type": "execute_result"
    }
   ],
   "source": [
    "dfRes.rename(columns = {'PATHOLOGY_RESULT_NUMERIC':'UREA VALUES'},inplace=True)\n",
    "dfRes.columns\n",
    "\n",
    "# Index(['STUDY_ID', 'PATHOLOGY_SPECIMEN_DATE', 'SPECIMEN_DATE', 'SPECIMEN_TIME',\n",
    "#        'REACT_TESTCODE', 'UREA VALUES', 'LOWER_RANGE', 'UPPER_RANGE', 'UNIT',\n",
    "#        'RENAL_D_PRESENT'],\n",
    "#       dtype='object')\n"
   ]
  },
  {
   "cell_type": "markdown",
   "metadata": {
    "pycharm": {
     "name": "#%% md\n"
    }
   },
   "source": [
    "## Distribution of Values of Urea"
   ]
  },
  {
   "cell_type": "code",
   "execution_count": null,
   "metadata": {
    "pycharm": {
     "name": "#%%\n"
    }
   },
   "outputs": [],
   "source": []
  },
  {
   "cell_type": "code",
   "execution_count": 64,
   "metadata": {
    "pycharm": {
     "name": "#%%\n"
    }
   },
   "outputs": [
    {
     "data": {
      "image/png": "[encoded data removed]",
      "text/plain": [
       "<Figure size 432x288 with 1 Axes>"
      ]
     },
     "metadata": {
      "needs_background": "light"
     },
     "output_type": "display_data"
    }
   ],
   "source": [
    "sb.boxplot(x='RENAL_D_PRESENT',y='UREA VALUES',data=dfRes)\n",
    "plt.ylabel = \"Urea values\""
   ]
  },
  {
   "cell_type": "code",
   "execution_count": 65,
   "metadata": {
    "pycharm": {
     "name": "#%%\n"
    }
   },
   "outputs": [
    {
     "name": "stderr",
     "output_type": "stream",
     "text": [
      "C:\\ANACONDA3\\envs\\dECMT\\lib\\site-packages\\ipykernel_launcher.py:8: UserWarning: Legend does not support <matplotlib.axes._subplots.AxesSubplot object at 0x000001BFEFB80648> instances.\n",
      "A proxy artist may be used instead.\n",
      "See: http://matplotlib.org/users/legend_guide.html#creating-artists-specifically-for-adding-to-the-legend-aka-proxy-artists\n",
      "  \n"
     ]
    },
    {
     "data": {
      "text/plain": [
       "<matplotlib.legend.Legend at 0x1bff02ab508>"
      ]
     },
     "execution_count": 65,
     "metadata": {},
     "output_type": "execute_result"
    },
    {
     "data": {
      "image/png": "[encoded data removed]",
      "text/plain": [
       "<Figure size 432x288 with 1 Axes>"
      ]
     },
     "metadata": {
      "needs_background": "light"
     },
     "output_type": "display_data"
    }
   ],
   "source": [
    "ureaRDT = dfRes[dfRes['RENAL_D_PRESENT']]\n",
    "ureaRDF = dfRes[~dfRes['RENAL_D_PRESENT']]\n",
    "\n",
    "ax1 = sb.distplot(ureaRDF[['UREA VALUES']], hist=False, rug=True)\n",
    "ax2 = sb.distplot(ureaRDT[['UREA VALUES']], hist=False, rug=True)\n",
    "\n",
    "ax1.set(xlabel=\"urea values\", ylabel = 'pdf')\n",
    "plt.legend(handles=[ax1, ax1], loc='best')"
   ]
  },
  {
   "cell_type": "markdown",
   "metadata": {
    "pycharm": {
     "name": "#%% md\n"
    }
   },
   "source": [
    "## Distribution of Means  of Urea Values"
   ]
  },
  {
   "cell_type": "code",
   "execution_count": 66,
   "metadata": {
    "pycharm": {
     "name": "#%%\n"
    }
   },
   "outputs": [
    {
     "data": {
      "text/html": [
       "<div>\n",
       "<style scoped>\n",
       "    .dataframe tbody tr th:only-of-type {\n",
       "        vertical-align: middle;\n",
       "    }\n",
       "\n",
       "    .dataframe tbody tr th {\n",
       "        vertical-align: top;\n",
       "    }\n",
       "\n",
       "    .dataframe thead th {\n",
       "        text-align: right;\n",
       "    }\n",
       "</style>\n",
       "<table border=\"1\" class=\"dataframe\">\n",
       "  <thead>\n",
       "    <tr style=\"text-align: right;\">\n",
       "      <th></th>\n",
       "      <th>UREA_MEAN</th>\n",
       "      <th>UREA_STD</th>\n",
       "      <th>UREA_MIN</th>\n",
       "      <th>UREA_MAX</th>\n",
       "      <th>RENAL_D_PRESENT</th>\n",
       "    </tr>\n",
       "    <tr>\n",
       "      <th>STUDY_ID</th>\n",
       "      <th></th>\n",
       "      <th></th>\n",
       "      <th></th>\n",
       "      <th></th>\n",
       "      <th></th>\n",
       "    </tr>\n",
       "  </thead>\n",
       "  <tbody>\n",
       "    <tr>\n",
       "      <th>UHSCOVID_00989a42</th>\n",
       "      <td>5.45</td>\n",
       "      <td>0.353553</td>\n",
       "      <td>5.2</td>\n",
       "      <td>5.7</td>\n",
       "      <td>False</td>\n",
       "    </tr>\n",
       "    <tr>\n",
       "      <th>UHSCOVID_01add35c</th>\n",
       "      <td>7.40</td>\n",
       "      <td>0.707107</td>\n",
       "      <td>6.9</td>\n",
       "      <td>7.9</td>\n",
       "      <td>False</td>\n",
       "    </tr>\n",
       "    <tr>\n",
       "      <th>UHSCOVID_01f7838d</th>\n",
       "      <td>5.10</td>\n",
       "      <td>NaN</td>\n",
       "      <td>5.1</td>\n",
       "      <td>5.1</td>\n",
       "      <td>True</td>\n",
       "    </tr>\n",
       "    <tr>\n",
       "      <th>UHSCOVID_025d562e</th>\n",
       "      <td>2.75</td>\n",
       "      <td>0.900000</td>\n",
       "      <td>2.0</td>\n",
       "      <td>4.0</td>\n",
       "      <td>False</td>\n",
       "    </tr>\n",
       "    <tr>\n",
       "      <th>UHSCOVID_0520de1c</th>\n",
       "      <td>16.45</td>\n",
       "      <td>1.909188</td>\n",
       "      <td>15.1</td>\n",
       "      <td>17.8</td>\n",
       "      <td>True</td>\n",
       "    </tr>\n",
       "  </tbody>\n",
       "</table>\n",
       "</div>"
      ],
      "text/plain": [
       "                   UREA_MEAN  UREA_STD  UREA_MIN  UREA_MAX  RENAL_D_PRESENT\n",
       "STUDY_ID                                                                   \n",
       "UHSCOVID_00989a42       5.45  0.353553       5.2       5.7            False\n",
       "UHSCOVID_01add35c       7.40  0.707107       6.9       7.9            False\n",
       "UHSCOVID_01f7838d       5.10       NaN       5.1       5.1             True\n",
       "UHSCOVID_025d562e       2.75  0.900000       2.0       4.0            False\n",
       "UHSCOVID_0520de1c      16.45  1.909188      15.1      17.8             True"
      ]
     },
     "execution_count": 66,
     "metadata": {},
     "output_type": "execute_result"
    }
   ],
   "source": [
    "dfResAggUrea:pd.DataFrame = pd.merge(lab_results_Urea_Agg_df, comorbidGrpDF, on='STUDY_ID', how='inner')\n",
    "dfResAggUrea.head()\n"
   ]
  },
  {
   "cell_type": "code",
   "execution_count": 67,
   "metadata": {
    "pycharm": {
     "name": "#%%\n"
    }
   },
   "outputs": [
    {
     "data": {
      "text/plain": [
       "Index(['UREA_MEAN', 'UREA_STD', 'UREA_MIN', 'UREA_MAX', 'RENAL_D_PRESENT'], dtype='object')"
      ]
     },
     "execution_count": 67,
     "metadata": {},
     "output_type": "execute_result"
    }
   ],
   "source": [
    "dfResAggUrea.columns\n",
    "# Index(['UREA_MEAN', 'UREA_STD', 'UREA_MIN', 'UREA_m', 'RENAL_D_PRESENT'], dtype='object')"
   ]
  },
  {
   "cell_type": "code",
   "execution_count": 68,
   "metadata": {
    "pycharm": {
     "name": "#%%\n"
    }
   },
   "outputs": [
    {
     "data": {
      "text/plain": [
       "<matplotlib.axes._subplots.AxesSubplot at 0x1bfefd5e988>"
      ]
     },
     "execution_count": 68,
     "metadata": {},
     "output_type": "execute_result"
    },
    {
     "data": {
      "image/png": "[encoded data removed]",
      "text/plain": [
       "<Figure size 432x288 with 1 Axes>"
      ]
     },
     "metadata": {
      "needs_background": "light"
     },
     "output_type": "display_data"
    }
   ],
   "source": [
    "sb.boxplot(x='RENAL_D_PRESENT',y='UREA_MEAN',data=dfResAggUrea)"
   ]
  },
  {
   "cell_type": "code",
   "execution_count": 69,
   "metadata": {
    "pycharm": {
     "name": "#%%\n"
    }
   },
   "outputs": [
    {
     "name": "stderr",
     "output_type": "stream",
     "text": [
      "C:\\ANACONDA3\\envs\\dECMT\\lib\\site-packages\\ipykernel_launcher.py:8: UserWarning: Legend does not support <matplotlib.axes._subplots.AxesSubplot object at 0x000001BFEFDF74C8> instances.\n",
      "A proxy artist may be used instead.\n",
      "See: http://matplotlib.org/users/legend_guide.html#creating-artists-specifically-for-adding-to-the-legend-aka-proxy-artists\n",
      "  \n"
     ]
    },
    {
     "data": {
      "text/plain": [
       "<matplotlib.legend.Legend at 0x1bff028f0c8>"
      ]
     },
     "execution_count": 69,
     "metadata": {},
     "output_type": "execute_result"
    },
    {
     "data": {
      "image/png": "[encoded data removed]",
      "text/plain": [
       "<Figure size 432x288 with 1 Axes>"
      ]
     },
     "metadata": {
      "needs_background": "light"
     },
     "output_type": "display_data"
    }
   ],
   "source": [
    "ureaRDT = dfResAggUrea[dfResAggUrea['RENAL_D_PRESENT']]\n",
    "ureaRDF = dfResAggUrea[~dfResAggUrea['RENAL_D_PRESENT']]\n",
    "\n",
    "ax1 = sb.distplot(ureaRDT[['UREA_MEAN']], hist=False, rug=True)\n",
    "ax2 = sb.distplot(ureaRDF[['UREA_MEAN']], hist=False, rug=True)\n",
    "\n",
    "ax1.set(xlabel=\"mean('urea value')\", ylabel = 'pdf')\n",
    "plt.legend(handles=[ax1, ax1], loc='best')"
   ]
  },
  {
   "cell_type": "markdown",
   "metadata": {
    "pycharm": {
     "name": "#%% md\n"
    }
   },
   "source": [
    "## Distribution of Standard Deviations  of Urea Values"
   ]
  },
  {
   "cell_type": "code",
   "execution_count": 70,
   "metadata": {
    "pycharm": {
     "name": "#%%\n"
    }
   },
   "outputs": [
    {
     "data": {
      "text/plain": [
       "<matplotlib.axes._subplots.AxesSubplot at 0x1bfef02ac08>"
      ]
     },
     "execution_count": 70,
     "metadata": {},
     "output_type": "execute_result"
    },
    {
     "data": {
      "image/png": "[encoded data removed]",
      "text/plain": [
       "<Figure size 432x288 with 1 Axes>"
      ]
     },
     "metadata": {
      "needs_background": "light"
     },
     "output_type": "display_data"
    }
   ],
   "source": [
    "sb.boxplot(x='RENAL_D_PRESENT',y='UREA_STD',data=dfResAggUrea)\n"
   ]
  },
  {
   "cell_type": "code",
   "execution_count": 71,
   "metadata": {
    "collapsed": false,
    "jupyter": {
     "outputs_hidden": false
    },
    "pycharm": {
     "name": "#%%\n"
    }
   },
   "outputs": [
    {
     "name": "stderr",
     "output_type": "stream",
     "text": [
      "C:\\ANACONDA3\\envs\\dECMT\\lib\\site-packages\\ipykernel_launcher.py:8: UserWarning: Legend does not support <matplotlib.axes._subplots.AxesSubplot object at 0x000001BFEEFD2448> instances.\n",
      "A proxy artist may be used instead.\n",
      "See: http://matplotlib.org/users/legend_guide.html#creating-artists-specifically-for-adding-to-the-legend-aka-proxy-artists\n",
      "  \n"
     ]
    },
    {
     "data": {
      "text/plain": [
       "<matplotlib.legend.Legend at 0x1bfeee26248>"
      ]
     },
     "execution_count": 71,
     "metadata": {},
     "output_type": "execute_result"
    },
    {
     "data": {
      "image/png": "[encoded data removed]",
      "text/plain": [
       "<Figure size 432x288 with 1 Axes>"
      ]
     },
     "metadata": {
      "needs_background": "light"
     },
     "output_type": "display_data"
    }
   ],
   "source": [
    "ureaRDT = dfResAggUrea[dfResAggUrea['RENAL_D_PRESENT']]\n",
    "ureaRDF = dfResAggUrea[~dfResAggUrea['RENAL_D_PRESENT']]\n",
    "\n",
    "ax1 = sb.distplot(ureaRDT[['UREA_STD']], hist=False, rug=True)\n",
    "ax2 = sb.distplot(ureaRDF[['UREA_STD']], hist=False, rug=True)\n",
    "\n",
    "ax1.set(xlabel=\"Standard deviation('urea value')\", ylabel = 'pdf')\n",
    "plt.legend(handles=[ax1, ax1], loc='best')"
   ]
  },
  {
   "cell_type": "markdown",
   "metadata": {
    "pycharm": {
     "name": "#%% md\n"
    }
   },
   "source": [
    "## Distribution of Min of Urea Values"
   ]
  },
  {
   "cell_type": "code",
   "execution_count": 72,
   "metadata": {
    "pycharm": {
     "name": "#%%\n"
    }
   },
   "outputs": [
    {
     "data": {
      "text/plain": [
       "<matplotlib.axes._subplots.AxesSubplot at 0x1bfed2c9a08>"
      ]
     },
     "execution_count": 72,
     "metadata": {},
     "output_type": "execute_result"
    },
    {
     "data": {
      "image/png": "[encoded data removed]",
      "text/plain": [
       "<Figure size 432x288 with 1 Axes>"
      ]
     },
     "metadata": {
      "needs_background": "light"
     },
     "output_type": "display_data"
    }
   ],
   "source": [
    "sb.boxplot(x='RENAL_D_PRESENT',y='UREA_MIN',data=dfResAggUrea)\n"
   ]
  },
  {
   "cell_type": "code",
   "execution_count": 73,
   "metadata": {
    "collapsed": false,
    "jupyter": {
     "outputs_hidden": false
    },
    "pycharm": {
     "name": "#%%\n"
    }
   },
   "outputs": [
    {
     "name": "stderr",
     "output_type": "stream",
     "text": [
      "C:\\ANACONDA3\\envs\\dECMT\\lib\\site-packages\\ipykernel_launcher.py:8: UserWarning: Legend does not support <matplotlib.axes._subplots.AxesSubplot object at 0x000001BFEF095248> instances.\n",
      "A proxy artist may be used instead.\n",
      "See: http://matplotlib.org/users/legend_guide.html#creating-artists-specifically-for-adding-to-the-legend-aka-proxy-artists\n",
      "  \n"
     ]
    },
    {
     "data": {
      "text/plain": [
       "<matplotlib.legend.Legend at 0x1bfef0c3188>"
      ]
     },
     "execution_count": 73,
     "metadata": {},
     "output_type": "execute_result"
    },
    {
     "data": {
      "image/png": "[encoded data removed]",
      "text/plain": [
       "<Figure size 432x288 with 1 Axes>"
      ]
     },
     "metadata": {
      "needs_background": "light"
     },
     "output_type": "display_data"
    }
   ],
   "source": [
    "ureaRDT = dfResAggUrea[dfResAggUrea['RENAL_D_PRESENT']]\n",
    "ureaRDF = dfResAggUrea[~dfResAggUrea['RENAL_D_PRESENT']]\n",
    "\n",
    "ax1 = sb.distplot(ureaRDT[['UREA_MIN']], hist=False, rug=True)\n",
    "ax2 = sb.distplot(ureaRDF[['UREA_MIN']], hist=False, rug=True)\n",
    "\n",
    "ax1.set(xlabel=\"min('urea value')\", ylabel = 'pdf')\n",
    "plt.legend(handles=[ax1, ax1], loc='best')"
   ]
  },
  {
   "cell_type": "markdown",
   "metadata": {
    "pycharm": {
     "name": "#%% md\n"
    }
   },
   "source": [
    "## Distribution of Max  of Urea Values"
   ]
  },
  {
   "cell_type": "code",
   "execution_count": 74,
   "metadata": {
    "pycharm": {
     "name": "#%%\n"
    }
   },
   "outputs": [
    {
     "data": {
      "text/plain": [
       "<matplotlib.axes._subplots.AxesSubplot at 0x1bfef75ab88>"
      ]
     },
     "execution_count": 74,
     "metadata": {},
     "output_type": "execute_result"
    },
    {
     "data": {
      "image/png": "[encoded data removed]",
      "text/plain": [
       "<Figure size 432x288 with 1 Axes>"
      ]
     },
     "metadata": {
      "needs_background": "light"
     },
     "output_type": "display_data"
    }
   ],
   "source": [
    "sb.boxplot(x='RENAL_D_PRESENT',y='UREA_MAX',data=dfResAggUrea)"
   ]
  },
  {
   "cell_type": "code",
   "execution_count": 75,
   "metadata": {
    "collapsed": false,
    "jupyter": {
     "outputs_hidden": false
    },
    "pycharm": {
     "name": "#%%\n"
    }
   },
   "outputs": [
    {
     "name": "stderr",
     "output_type": "stream",
     "text": [
      "C:\\ANACONDA3\\envs\\dECMT\\lib\\site-packages\\ipykernel_launcher.py:10: UserWarning: Legend does not support <matplotlib.axes._subplots.AxesSubplot object at 0x000001BFEFE59E48> instances.\n",
      "A proxy artist may be used instead.\n",
      "See: http://matplotlib.org/users/legend_guide.html#creating-artists-specifically-for-adding-to-the-legend-aka-proxy-artists\n",
      "  # Remove the CWD from sys.path while we load stuff.\n"
     ]
    },
    {
     "data": {
      "text/plain": [
       "<matplotlib.legend.Legend at 0x1bfef79f408>"
      ]
     },
     "execution_count": 75,
     "metadata": {},
     "output_type": "execute_result"
    },
    {
     "data": {
      "image/png": "[encoded data removed]",
      "text/plain": [
       "<Figure size 432x288 with 1 Axes>"
      ]
     },
     "metadata": {
      "needs_background": "light"
     },
     "output_type": "display_data"
    }
   ],
   "source": [
    "ureaRDT = dfResAggUrea[dfResAggUrea['RENAL_D_PRESENT']]\n",
    "ureaRDF = dfResAggUrea[~dfResAggUrea['RENAL_D_PRESENT']]\n",
    "\n",
    "# fig = plt.figure()\n",
    "# ax = plt.axes()\n",
    "\n",
    "ax1 = sb.distplot(ureaRDT[['UREA_MAX']], hist=False, rug=True)\n",
    "ax2 = sb.distplot(ureaRDF[['UREA_MAX']], hist=False, rug=True)\n",
    "ax1.set(xlabel=\"max('urea value')\", ylabel = 'pdf')\n",
    "plt.legend(handles=[ax1, ax1], loc='best')\n",
    "# plt.show()\n",
    "\n"
   ]
  },
  {
   "cell_type": "code",
   "execution_count": 76,
   "metadata": {
    "pycharm": {
     "name": "#%%\n"
    }
   },
   "outputs": [
    {
     "data": {
      "text/plain": [
       "Index(['UREA_MEAN', 'UREA_STD', 'UREA_MIN', 'UREA_MAX', 'RENAL_D_PRESENT'], dtype='object')"
      ]
     },
     "execution_count": 76,
     "metadata": {},
     "output_type": "execute_result"
    }
   ],
   "source": [
    "dfResAggUrea.columns\n"
   ]
  },
  {
   "cell_type": "code",
   "execution_count": null,
   "metadata": {
    "pycharm": {
     "name": "#%%\n"
    }
   },
   "outputs": [],
   "source": []
  },
  {
   "cell_type": "code",
   "execution_count": null,
   "metadata": {
    "collapsed": false,
    "jupyter": {
     "outputs_hidden": false
    },
    "pycharm": {
     "name": "#%%\n"
    }
   },
   "outputs": [],
   "source": []
  },
  {
   "cell_type": "code",
   "execution_count": null,
   "metadata": {
    "collapsed": false,
    "jupyter": {
     "outputs_hidden": false
    },
    "pycharm": {
     "name": "#%%\n"
    }
   },
   "outputs": [],
   "source": [
    "\n"
   ]
  }
 ],
 "metadata": {
  "kernelspec": {
   "display_name": "PyCharm (BN4Nephrology)",
   "language": "python",
   "name": "pycharm-b7c5592"
  },
  "language_info": {
   "codemirror_mode": {
    "name": "ipython",
    "version": 3
   },
   "file_extension": ".py",
   "mimetype": "text/x-python",
   "name": "python",
   "nbconvert_exporter": "python",
   "pygments_lexer": "ipython3",
   "version": "3.7.6"
  }
 },
 "nbformat": 4,
 "nbformat_minor": 4
}