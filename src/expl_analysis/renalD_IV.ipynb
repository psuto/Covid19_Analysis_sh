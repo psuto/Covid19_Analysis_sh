{
 "cells": [
  {
   "cell_type": "code",
   "execution_count": 298,
   "metadata": {
    "collapsed": false,
    "jupyter": {
     "outputs_hidden": false
    },
    "pycharm": {
     "name": "#%%\n"
    }
   },
   "outputs": [],
   "source": [
    "import numpy as np\n",
    "import pandas as pd\n",
    "import pathlib as pa\n",
    "import seaborn as sb\n",
    "import matplotlib.pyplot as plt\n",
    "import pathlib\n",
    "from pathlib import Path\n",
    "from datetime import datetime\n",
    "from IPython.display import Markdown as md\n",
    "from IPython.display import Math as m\n",
    "import utilities as u\n"
   ]
  },
  {
   "cell_type": "code",
   "execution_count": 299,
   "metadata": {
    "collapsed": false,
    "jupyter": {
     "outputs_hidden": false
    },
    "pycharm": {
     "name": "#%%\n"
    }
   },
   "outputs": [],
   "source": [
    "%matplotlib inline"
   ]
  },
  {
   "cell_type": "code",
   "execution_count": 300,
   "metadata": {
    "collapsed": false,
    "jupyter": {
     "outputs_hidden": false
    },
    "pycharm": {
     "name": "#%%\n"
    }
   },
   "outputs": [],
   "source": [
    "def extractParentDir(dataFileName):\n",
    "    purePath = pathlib.PurePath(dataFileName)\n",
    "    parentDir2 = purePath.parent.parent\n",
    "    return parentDir2"
   ]
  },
  {
   "cell_type": "code",
   "execution_count": 301,
   "metadata": {
    "collapsed": false,
    "jupyter": {
     "outputs_hidden": false
    },
    "pycharm": {
     "name": "#%%\n"
    }
   },
   "outputs": [],
   "source": [
    "todayVal = datetime.today()\n",
    "timeStampStr = todayVal.strftime(\"%y-%m-%d_%H-%M-%S.%f\")\n",
    "data_dir = r\"C:\\work\\dev\\dECMT_src\\data_all\\COVID19_Data\\Current\"\n",
    "parentDir2 = extractParentDir(data_dir)\n",
    "outputPath = Path(parentDir2) / \"Output_Covid19_Analysis\"/f\"{timeStampStr}_bipartite\""
   ]
  },
  {
   "cell_type": "code",
   "execution_count": 302,
   "metadata": {
    "collapsed": false,
    "jupyter": {
     "outputs_hidden": false
    },
    "pycharm": {
     "name": "#%%\n"
    }
   },
   "outputs": [],
   "source": [
    "comorbidFN = pa.Path(data_dir) / \"REACT_Comorbidities_unpivoted.csv\"\n",
    "demogFN = pa.Path(data_dir) / \"REACT_Demographics.csv\"\n",
    "comorbidDF:pd.DataFrame = pd.read_csv(comorbidFN)"
   ]
  },
  {
   "cell_type": "code",
   "execution_count": 303,
   "metadata": {
    "collapsed": false,
    "jupyter": {
     "outputs_hidden": false
    },
    "pycharm": {
     "name": "#%%\n"
    }
   },
   "outputs": [
    {
     "data": {
      "text/plain": "            STUDY_ID COMORBIDITY  STATUS\n0  UHSCOVID_00989a42        COPD       1\n1  UHSCOVID_0520de1c        COPD       1\n2  UHSCOVID_0744a86c        COPD       1\n3  UHSCOVID_0874d194        COPD       1\n4  UHSCOVID_0b401459        COPD       1",
      "text/html": "<div>\n<style scoped>\n    .dataframe tbody tr th:only-of-type {\n        vertical-align: middle;\n    }\n\n    .dataframe tbody tr th {\n        vertical-align: top;\n    }\n\n    .dataframe thead th {\n        text-align: right;\n    }\n</style>\n<table border=\"1\" class=\"dataframe\">\n  <thead>\n    <tr style=\"text-align: right;\">\n      <th></th>\n      <th>STUDY_ID</th>\n      <th>COMORBIDITY</th>\n      <th>STATUS</th>\n    </tr>\n  </thead>\n  <tbody>\n    <tr>\n      <th>0</th>\n      <td>UHSCOVID_00989a42</td>\n      <td>COPD</td>\n      <td>1</td>\n    </tr>\n    <tr>\n      <th>1</th>\n      <td>UHSCOVID_0520de1c</td>\n      <td>COPD</td>\n      <td>1</td>\n    </tr>\n    <tr>\n      <th>2</th>\n      <td>UHSCOVID_0744a86c</td>\n      <td>COPD</td>\n      <td>1</td>\n    </tr>\n    <tr>\n      <th>3</th>\n      <td>UHSCOVID_0874d194</td>\n      <td>COPD</td>\n      <td>1</td>\n    </tr>\n    <tr>\n      <th>4</th>\n      <td>UHSCOVID_0b401459</td>\n      <td>COPD</td>\n      <td>1</td>\n    </tr>\n  </tbody>\n</table>\n</div>"
     },
     "execution_count": 303,
     "metadata": {},
     "output_type": "execute_result"
    }
   ],
   "source": [
    "comorbidDF:pd.DataFrame = pd.read_csv(comorbidFN)\n",
    "\n",
    "comorbidDF.head()"
   ]
  },
  {
   "cell_type": "code",
   "execution_count": 304,
   "metadata": {
    "collapsed": false,
    "jupyter": {
     "outputs_hidden": false
    },
    "pycharm": {
     "name": "#%%\n"
    }
   },
   "outputs": [],
   "source": [
    "vitalSignsCategDF =  pd.read_csv(pa.Path(data_dir) / \"REACT_Vitalsigns_Categorical.csv\")\n",
    "vitalSignsNumericDF =  pd.read_csv(pa.Path(data_dir) / \"REACT_Vitalsigns_Numeric.csv\")"
   ]
  },
  {
   "cell_type": "code",
   "execution_count": 305,
   "metadata": {
    "collapsed": false,
    "jupyter": {
     "outputs_hidden": false
    },
    "pycharm": {
     "name": "#%%\n"
    }
   },
   "outputs": [],
   "source": [
    "dtCols = ['UNITFROM_DATETIME', 'UNITTO_DATETIME',\n",
    "        'RECORDED_DATETIME','VALIDATION_DATETIME']\n"
   ]
  },
  {
   "cell_type": "code",
   "execution_count": 306,
   "metadata": {
    "collapsed": false,
    "jupyter": {
     "outputs_hidden": false
    },
    "pycharm": {
     "name": "#%%\n"
    }
   },
   "outputs": [
    {
     "data": {
      "text/plain": "          UNITFROM_DATETIME      UNITTO_DATETIME    RECORDED_DATETIME  \\\n0       2020-05-01 16:24:00  2020-05-05 15:25:00  2020-05-05 10:26:00   \n1       2020-04-23 20:07:00  2020-05-01 16:24:00  2020-04-29 06:06:00   \n2       2020-04-23 20:07:00  2020-05-01 16:24:00  2020-04-28 20:52:00   \n3       2020-04-23 20:07:00  2020-05-01 16:24:00  2020-04-26 15:22:00   \n4       2020-04-23 20:07:00  2020-05-01 16:24:00  2020-04-25 06:48:00   \n...                     ...                  ...                  ...   \n132942  2020-04-15 20:27:00  2020-06-09 16:27:00  2020-04-15 23:00:00   \n132943  2020-04-15 20:27:00  2020-06-09 16:27:00  2020-04-15 22:00:00   \n132944  2020-04-15 20:27:00  2020-06-09 16:27:00  2020-04-15 22:00:00   \n132945  2020-04-15 20:27:00  2020-06-09 16:27:00  2020-04-15 21:00:00   \n132946  2020-04-15 20:27:00  2020-06-09 16:27:00  2020-04-15 21:00:00   \n\n        VALIDATION_DATETIME  \n0       2020-05-05 10:26:00  \n1       2020-04-29 06:06:00  \n2       2020-04-28 20:52:00  \n3       2020-04-26 15:22:00  \n4       2020-04-25 06:48:00  \n...                     ...  \n132942  2020-04-15 23:06:00  \n132943  2020-04-16 00:06:00  \n132944  2020-04-15 22:50:00  \n132945  2020-04-15 21:05:00  \n132946  2020-04-15 21:05:00  \n\n[132947 rows x 4 columns]",
      "text/html": "<div>\n<style scoped>\n    .dataframe tbody tr th:only-of-type {\n        vertical-align: middle;\n    }\n\n    .dataframe tbody tr th {\n        vertical-align: top;\n    }\n\n    .dataframe thead th {\n        text-align: right;\n    }\n</style>\n<table border=\"1\" class=\"dataframe\">\n  <thead>\n    <tr style=\"text-align: right;\">\n      <th></th>\n      <th>UNITFROM_DATETIME</th>\n      <th>UNITTO_DATETIME</th>\n      <th>RECORDED_DATETIME</th>\n      <th>VALIDATION_DATETIME</th>\n    </tr>\n  </thead>\n  <tbody>\n    <tr>\n      <th>0</th>\n      <td>2020-05-01 16:24:00</td>\n      <td>2020-05-05 15:25:00</td>\n      <td>2020-05-05 10:26:00</td>\n      <td>2020-05-05 10:26:00</td>\n    </tr>\n    <tr>\n      <th>1</th>\n      <td>2020-04-23 20:07:00</td>\n      <td>2020-05-01 16:24:00</td>\n      <td>2020-04-29 06:06:00</td>\n      <td>2020-04-29 06:06:00</td>\n    </tr>\n    <tr>\n      <th>2</th>\n      <td>2020-04-23 20:07:00</td>\n      <td>2020-05-01 16:24:00</td>\n      <td>2020-04-28 20:52:00</td>\n      <td>2020-04-28 20:52:00</td>\n    </tr>\n    <tr>\n      <th>3</th>\n      <td>2020-04-23 20:07:00</td>\n      <td>2020-05-01 16:24:00</td>\n      <td>2020-04-26 15:22:00</td>\n      <td>2020-04-26 15:22:00</td>\n    </tr>\n    <tr>\n      <th>4</th>\n      <td>2020-04-23 20:07:00</td>\n      <td>2020-05-01 16:24:00</td>\n      <td>2020-04-25 06:48:00</td>\n      <td>2020-04-25 06:48:00</td>\n    </tr>\n    <tr>\n      <th>...</th>\n      <td>...</td>\n      <td>...</td>\n      <td>...</td>\n      <td>...</td>\n    </tr>\n    <tr>\n      <th>132942</th>\n      <td>2020-04-15 20:27:00</td>\n      <td>2020-06-09 16:27:00</td>\n      <td>2020-04-15 23:00:00</td>\n      <td>2020-04-15 23:06:00</td>\n    </tr>\n    <tr>\n      <th>132943</th>\n      <td>2020-04-15 20:27:00</td>\n      <td>2020-06-09 16:27:00</td>\n      <td>2020-04-15 22:00:00</td>\n      <td>2020-04-16 00:06:00</td>\n    </tr>\n    <tr>\n      <th>132944</th>\n      <td>2020-04-15 20:27:00</td>\n      <td>2020-06-09 16:27:00</td>\n      <td>2020-04-15 22:00:00</td>\n      <td>2020-04-15 22:50:00</td>\n    </tr>\n    <tr>\n      <th>132945</th>\n      <td>2020-04-15 20:27:00</td>\n      <td>2020-06-09 16:27:00</td>\n      <td>2020-04-15 21:00:00</td>\n      <td>2020-04-15 21:05:00</td>\n    </tr>\n    <tr>\n      <th>132946</th>\n      <td>2020-04-15 20:27:00</td>\n      <td>2020-06-09 16:27:00</td>\n      <td>2020-04-15 21:00:00</td>\n      <td>2020-04-15 21:05:00</td>\n    </tr>\n  </tbody>\n</table>\n<p>132947 rows × 4 columns</p>\n</div>"
     },
     "execution_count": 306,
     "metadata": {},
     "output_type": "execute_result"
    }
   ],
   "source": [
    "vitalSignsCategDF[dtCols]\n"
   ]
  },
  {
   "cell_type": "code",
   "execution_count": 307,
   "metadata": {
    "collapsed": false,
    "jupyter": {
     "outputs_hidden": false
    },
    "pycharm": {
     "name": "#%%\n"
    }
   },
   "outputs": [],
   "source": [
    "dtCols2Transform = {'Vitalsigns_Categorical':['UNITFROM_DATETIME', 'UNITTO_DATETIME',\n",
    "        'RECORDED_DATETIME','VALIDATION_DATETIME','RECORDED_TIME','RECORDED_DATE']}\n",
    "vitalSignsCategDF = u.convertDatesAuto(vitalSignsCategDF,dtCols2Transform['Vitalsigns_Categorical'])"
   ]
  },
  {
   "cell_type": "code",
   "execution_count": 308,
   "metadata": {
    "collapsed": false,
    "jupyter": {
     "outputs_hidden": false
    },
    "pycharm": {
     "name": "#%%\n"
    }
   },
   "outputs": [
    {
     "data": {
      "text/plain": "            STUDY_ID  DEPARTMENT   UNITFROM_DATETIME     UNITTO_DATETIME  \\\n0  UHSCOVID_3952cfb9          G9 2020-05-01 16:24:00 2020-05-05 15:25:00   \n1  UHSCOVID_3952cfb9  F6 Surgery 2020-04-23 20:07:00 2020-05-01 16:24:00   \n2  UHSCOVID_3952cfb9  F6 Surgery 2020-04-23 20:07:00 2020-05-01 16:24:00   \n3  UHSCOVID_3952cfb9  F6 Surgery 2020-04-23 20:07:00 2020-05-01 16:24:00   \n4  UHSCOVID_3952cfb9  F6 Surgery 2020-04-23 20:07:00 2020-05-01 16:24:00   \n\n             PARAMETER        VALUE   RECORDED_DATETIME RECORDED_DATE  \\\n0  Respiratory Support  Nasal Specs 2020-05-05 10:26:00    2020-05-05   \n1  Respiratory Support  Nasal Specs 2020-04-29 06:06:00    2020-04-29   \n2  Respiratory Support  Nasal Specs 2020-04-28 20:52:00    2020-04-28   \n3  Respiratory Support  Nasal Specs 2020-04-26 15:22:00    2020-04-26   \n4  Respiratory Support  Nasal Specs 2020-04-25 06:48:00    2020-04-25   \n\n        RECORDED_TIME VALIDATION_DATETIME  \n0 2020-07-29 10:26:00 2020-05-05 10:26:00  \n1 2020-07-29 06:06:00 2020-04-29 06:06:00  \n2 2020-07-29 20:52:00 2020-04-28 20:52:00  \n3 2020-07-29 15:22:00 2020-04-26 15:22:00  \n4 2020-07-29 06:48:00 2020-04-25 06:48:00  ",
      "text/html": "<div>\n<style scoped>\n    .dataframe tbody tr th:only-of-type {\n        vertical-align: middle;\n    }\n\n    .dataframe tbody tr th {\n        vertical-align: top;\n    }\n\n    .dataframe thead th {\n        text-align: right;\n    }\n</style>\n<table border=\"1\" class=\"dataframe\">\n  <thead>\n    <tr style=\"text-align: right;\">\n      <th></th>\n      <th>STUDY_ID</th>\n      <th>DEPARTMENT</th>\n      <th>UNITFROM_DATETIME</th>\n      <th>UNITTO_DATETIME</th>\n      <th>PARAMETER</th>\n      <th>VALUE</th>\n      <th>RECORDED_DATETIME</th>\n      <th>RECORDED_DATE</th>\n      <th>RECORDED_TIME</th>\n      <th>VALIDATION_DATETIME</th>\n    </tr>\n  </thead>\n  <tbody>\n    <tr>\n      <th>0</th>\n      <td>UHSCOVID_3952cfb9</td>\n      <td>G9</td>\n      <td>2020-05-01 16:24:00</td>\n      <td>2020-05-05 15:25:00</td>\n      <td>Respiratory Support</td>\n      <td>Nasal Specs</td>\n      <td>2020-05-05 10:26:00</td>\n      <td>2020-05-05</td>\n      <td>2020-07-29 10:26:00</td>\n      <td>2020-05-05 10:26:00</td>\n    </tr>\n    <tr>\n      <th>1</th>\n      <td>UHSCOVID_3952cfb9</td>\n      <td>F6 Surgery</td>\n      <td>2020-04-23 20:07:00</td>\n      <td>2020-05-01 16:24:00</td>\n      <td>Respiratory Support</td>\n      <td>Nasal Specs</td>\n      <td>2020-04-29 06:06:00</td>\n      <td>2020-04-29</td>\n      <td>2020-07-29 06:06:00</td>\n      <td>2020-04-29 06:06:00</td>\n    </tr>\n    <tr>\n      <th>2</th>\n      <td>UHSCOVID_3952cfb9</td>\n      <td>F6 Surgery</td>\n      <td>2020-04-23 20:07:00</td>\n      <td>2020-05-01 16:24:00</td>\n      <td>Respiratory Support</td>\n      <td>Nasal Specs</td>\n      <td>2020-04-28 20:52:00</td>\n      <td>2020-04-28</td>\n      <td>2020-07-29 20:52:00</td>\n      <td>2020-04-28 20:52:00</td>\n    </tr>\n    <tr>\n      <th>3</th>\n      <td>UHSCOVID_3952cfb9</td>\n      <td>F6 Surgery</td>\n      <td>2020-04-23 20:07:00</td>\n      <td>2020-05-01 16:24:00</td>\n      <td>Respiratory Support</td>\n      <td>Nasal Specs</td>\n      <td>2020-04-26 15:22:00</td>\n      <td>2020-04-26</td>\n      <td>2020-07-29 15:22:00</td>\n      <td>2020-04-26 15:22:00</td>\n    </tr>\n    <tr>\n      <th>4</th>\n      <td>UHSCOVID_3952cfb9</td>\n      <td>F6 Surgery</td>\n      <td>2020-04-23 20:07:00</td>\n      <td>2020-05-01 16:24:00</td>\n      <td>Respiratory Support</td>\n      <td>Nasal Specs</td>\n      <td>2020-04-25 06:48:00</td>\n      <td>2020-04-25</td>\n      <td>2020-07-29 06:48:00</td>\n      <td>2020-04-25 06:48:00</td>\n    </tr>\n  </tbody>\n</table>\n</div>"
     },
     "execution_count": 308,
     "metadata": {},
     "output_type": "execute_result"
    }
   ],
   "source": [
    "vitalSignsCategDF.head()\n",
    "\n",
    "# Index(['STUDY_ID', 'DEPARTMENT', 'UNITFROM_DATETIME', 'UNITTO_DATETIME',\n",
    "#        'PARAMETER', 'VALUE', 'RECORDED_DATETIME', 'RECORDED_DATE',\n",
    "#        'RECORDED_TIME', 'VALIDATION_DATETIME'],\n",
    "#       dtype='object')\n"
   ]
  },
  {
   "cell_type": "code",
   "execution_count": 309,
   "metadata": {
    "collapsed": false,
    "jupyter": {
     "outputs_hidden": false
    },
    "pycharm": {
     "name": "#%%\n"
    }
   },
   "outputs": [
    {
     "data": {
      "text/plain": "Index(['STUDY_ID', 'DEPARTMENT', 'UNITFROM_DATETIME', 'UNITTO_DATETIME',\n       'PARAMETER', 'VALUE', 'RECORDED_DATETIME', 'RECORDED_DATE',\n       'RECORDED_TIME', 'VALIDATION_DATETIME'],\n      dtype='object')"
     },
     "execution_count": 309,
     "metadata": {},
     "output_type": "execute_result"
    }
   ],
   "source": [
    "vitalSignsCategDF.columns\n",
    "\n"
   ]
  },
  {
   "cell_type": "code",
   "execution_count": 310,
   "metadata": {
    "collapsed": false,
    "jupyter": {
     "outputs_hidden": false
    },
    "pycharm": {
     "name": "#%%\n"
    }
   },
   "outputs": [
    {
     "data": {
      "text/plain": "array(['Respiratory Support', 'Patient Position', 'RASS', 'CAM-ICU score',\n       'Ventilator Weaning Mode'], dtype=object)"
     },
     "execution_count": 310,
     "metadata": {},
     "output_type": "execute_result"
    }
   ],
   "source": [
    "vitalSignsCategDF['PARAMETER'].unique()"
   ]
  },
  {
   "cell_type": "code",
   "execution_count": 311,
   "metadata": {
    "collapsed": false,
    "jupyter": {
     "outputs_hidden": false
    },
    "pycharm": {
     "name": "#%%\n"
    }
   },
   "outputs": [
    {
     "data": {
      "text/plain": "array(['Nasal Specs', 'Face Mask', 'Air - Not Supported', 'Venturi Mask',\n       'Non-Rebreath Mask', 'Invasive Ventilation', 'Optiflow / Hi Flow',\n       'NIV - CPAP face mask', 'NIV - CPAP full face mask',\n       'NIV - BIPAP face mask', 'NIV - CPAP nasal mask',\n       'NIV - BIPAP nasal mask', 'NIV - BIPAP full face mask',\n       'Trachy Mask'], dtype=object)"
     },
     "execution_count": 311,
     "metadata": {},
     "output_type": "execute_result"
    }
   ],
   "source": [
    "vitalSignsCategDF[vitalSignsCategDF['PARAMETER'] == 'Respiratory Support']['VALUE'].unique()"
   ]
  },
  {
   "cell_type": "code",
   "execution_count": 312,
   "metadata": {
    "collapsed": false,
    "jupyter": {
     "outputs_hidden": false
    },
    "pycharm": {
     "name": "#%%\n"
    }
   },
   "outputs": [
    {
     "data": {
      "text/plain": "array(['Nasal Specs', 'Face Mask', 'Air - Not Supported', 'Supine',\n       'Left', 'Venturi Mask', 'Non-Rebreath Mask',\n       'Invasive Ventilation', 'Paralysed', 'Right', 'Unable to Assess',\n       'Prone', 'Deep Sedation', 'Unrousable', 'Moderate Sedation',\n       'Cardiac Chair Position', 'Optiflow / Hi Flow', 'Drowsy',\n       'Sat in chair', 'Positive', 'Alert and Calm',\n       'NIV - CPAP face mask', 'Restless', 'Asleep',\n       'NIV - CPAP full face mask', 'Negative', 'Light Sedation',\n       'NIV - BIPAP face mask',\n       'Declined Repositioning - Risks explained to patient', 'Agitated',\n       'Combative', 'Very Agitated', 'NIV - CPAP nasal mask',\n       'NIV - BIPAP nasal mask', 'NIV - BIPAP full face mask',\n       'CPAP - Green', 'Trachy Mask', 'Off ward for procedure',\n       'Pressure Support - Blue', 'Trachy Mask - Red',\n       'Speaking Valve - Yellow'], dtype=object)"
     },
     "execution_count": 312,
     "metadata": {},
     "output_type": "execute_result"
    }
   ],
   "source": [
    "vitalSignsCategDF['VALUE'].unique()\n"
   ]
  },
  {
   "cell_type": "code",
   "execution_count": 312,
   "metadata": {
    "collapsed": false,
    "jupyter": {
     "outputs_hidden": false
    },
    "pycharm": {
     "name": "#%%\n"
    }
   },
   "outputs": [],
   "source": []
  },
  {
   "cell_type": "code",
   "execution_count": 313,
   "metadata": {
    "collapsed": false,
    "jupyter": {
     "outputs_hidden": false
    },
    "pycharm": {
     "name": "#%%\n"
    }
   },
   "outputs": [],
   "source": [
    "vitalSignsCategDF = vitalSignsCategDF[vitalSignsCategDF.PARAMETER=='Respiratory Support']"
   ]
  },
  {
   "cell_type": "code",
   "execution_count": 314,
   "outputs": [
    {
     "data": {
      "text/plain": "Index(['STUDY_ID', 'DEPARTMENT', 'UNITFROM_DATETIME', 'UNITTO_DATETIME',\n       'PARAMETER', 'VALUE', 'RECORDED_DATETIME', 'RECORDED_DATE',\n       'RECORDED_TIME', 'VALIDATION_DATETIME'],\n      dtype='object')"
     },
     "execution_count": 314,
     "metadata": {},
     "output_type": "execute_result"
    }
   ],
   "source": [
    "vitalSignsNumericDF.columns"
   ],
   "metadata": {
    "collapsed": false,
    "pycharm": {
     "name": "#%%\n"
    }
   }
  },
  {
   "cell_type": "code",
   "execution_count": 315,
   "outputs": [
    {
     "data": {
      "text/plain": "                 STUDY_ID                               PARAMETER       VALUE\n0       UHSCOVID_037e2bce                                pO2_FiO2   32.066667\n1       UHSCOVID_037e2bce                                pO2_FiO2    2.176471\n2       UHSCOVID_037e2bce                                pO2_FiO2   25.666667\n3       UHSCOVID_037e2bce                                pO2_FiO2   27.599998\n4       UHSCOVID_037e2bce                                pO2_FiO2   34.750000\n...                   ...                                     ...         ...\n442578  UHSCOVID_6d0785dc                *Systolic blood pressure  170.000000\n442579  UHSCOVID_6d0785dc                             ABL835_FiO2   60.000000\n442580  UHSCOVID_6d0785dc                              ABL835_pO2    9.650000\n442581  UHSCOVID_6d0785dc   *Non-invasive systolic blood pressure  167.000000\n442582  UHSCOVID_6d0785dc  *Non-invasive diastolic blood pressure   95.000000\n\n[442583 rows x 3 columns]",
      "text/html": "<div>\n<style scoped>\n    .dataframe tbody tr th:only-of-type {\n        vertical-align: middle;\n    }\n\n    .dataframe tbody tr th {\n        vertical-align: top;\n    }\n\n    .dataframe thead th {\n        text-align: right;\n    }\n</style>\n<table border=\"1\" class=\"dataframe\">\n  <thead>\n    <tr style=\"text-align: right;\">\n      <th></th>\n      <th>STUDY_ID</th>\n      <th>PARAMETER</th>\n      <th>VALUE</th>\n    </tr>\n  </thead>\n  <tbody>\n    <tr>\n      <th>0</th>\n      <td>UHSCOVID_037e2bce</td>\n      <td>pO2_FiO2</td>\n      <td>32.066667</td>\n    </tr>\n    <tr>\n      <th>1</th>\n      <td>UHSCOVID_037e2bce</td>\n      <td>pO2_FiO2</td>\n      <td>2.176471</td>\n    </tr>\n    <tr>\n      <th>2</th>\n      <td>UHSCOVID_037e2bce</td>\n      <td>pO2_FiO2</td>\n      <td>25.666667</td>\n    </tr>\n    <tr>\n      <th>3</th>\n      <td>UHSCOVID_037e2bce</td>\n      <td>pO2_FiO2</td>\n      <td>27.599998</td>\n    </tr>\n    <tr>\n      <th>4</th>\n      <td>UHSCOVID_037e2bce</td>\n      <td>pO2_FiO2</td>\n      <td>34.750000</td>\n    </tr>\n    <tr>\n      <th>...</th>\n      <td>...</td>\n      <td>...</td>\n      <td>...</td>\n    </tr>\n    <tr>\n      <th>442578</th>\n      <td>UHSCOVID_6d0785dc</td>\n      <td>*Systolic blood pressure</td>\n      <td>170.000000</td>\n    </tr>\n    <tr>\n      <th>442579</th>\n      <td>UHSCOVID_6d0785dc</td>\n      <td>ABL835_FiO2</td>\n      <td>60.000000</td>\n    </tr>\n    <tr>\n      <th>442580</th>\n      <td>UHSCOVID_6d0785dc</td>\n      <td>ABL835_pO2</td>\n      <td>9.650000</td>\n    </tr>\n    <tr>\n      <th>442581</th>\n      <td>UHSCOVID_6d0785dc</td>\n      <td>*Non-invasive systolic blood pressure</td>\n      <td>167.000000</td>\n    </tr>\n    <tr>\n      <th>442582</th>\n      <td>UHSCOVID_6d0785dc</td>\n      <td>*Non-invasive diastolic blood pressure</td>\n      <td>95.000000</td>\n    </tr>\n  </tbody>\n</table>\n<p>442583 rows × 3 columns</p>\n</div>"
     },
     "execution_count": 315,
     "metadata": {},
     "output_type": "execute_result"
    }
   ],
   "source": [
    "# [['STUDY_ID','UNITFROM_DATETIME','VALUE']]\n",
    "vitalSignsNumericDF.filter(items=['STUDY_ID','PARAMETER','VALUE'])"
   ],
   "metadata": {
    "collapsed": false,
    "pycharm": {
     "name": "#%%\n"
    }
   }
  },
  {
   "cell_type": "code",
   "execution_count": 316,
   "metadata": {
    "collapsed": false,
    "jupyter": {
     "outputs_hidden": false
    },
    "pycharm": {
     "name": "#%%\n"
    }
   },
   "outputs": [],
   "source": [
    "vitalSignsCategDF[\"Respiratory_Support\"] = vitalSignsCategDF[\"VALUE\"]=='Invasive Ventilation'"
   ]
  },
  {
   "cell_type": "code",
   "execution_count": 317,
   "metadata": {
    "collapsed": false,
    "jupyter": {
     "outputs_hidden": false
    },
    "pycharm": {
     "name": "#%%\n"
    }
   },
   "outputs": [
    {
     "data": {
      "text/plain": "array([False,  True])"
     },
     "execution_count": 317,
     "metadata": {},
     "output_type": "execute_result"
    }
   ],
   "source": [
    "vitalSignsCategDF[\"Respiratory_Support\"].unique()"
   ]
  },
  {
   "cell_type": "code",
   "execution_count": 318,
   "outputs": [
    {
     "data": {
      "text/plain": "True     28247\nFalse    26425\nName: Respiratory_Support, dtype: int64"
     },
     "execution_count": 318,
     "metadata": {},
     "output_type": "execute_result"
    }
   ],
   "source": [
    "vitalSignsCategDF[\"Respiratory_Support\"].value_counts()\n",
    "\n"
   ],
   "metadata": {
    "collapsed": false,
    "pycharm": {
     "name": "#%%\n"
    }
   }
  },
  {
   "cell_type": "code",
   "execution_count": 319,
   "metadata": {
    "collapsed": false,
    "jupyter": {
     "outputs_hidden": false
    },
    "pycharm": {
     "name": "#%%\n"
    }
   },
   "outputs": [
    {
     "data": {
      "text/plain": "            STUDY_ID  Respiratory_Support            PARAMETER        VALUE\n0  UHSCOVID_3952cfb9                False  Respiratory Support  Nasal Specs\n1  UHSCOVID_3952cfb9                False  Respiratory Support  Nasal Specs\n2  UHSCOVID_3952cfb9                False  Respiratory Support  Nasal Specs\n3  UHSCOVID_3952cfb9                False  Respiratory Support  Nasal Specs\n4  UHSCOVID_3952cfb9                False  Respiratory Support  Nasal Specs",
      "text/html": "<div>\n<style scoped>\n    .dataframe tbody tr th:only-of-type {\n        vertical-align: middle;\n    }\n\n    .dataframe tbody tr th {\n        vertical-align: top;\n    }\n\n    .dataframe thead th {\n        text-align: right;\n    }\n</style>\n<table border=\"1\" class=\"dataframe\">\n  <thead>\n    <tr style=\"text-align: right;\">\n      <th></th>\n      <th>STUDY_ID</th>\n      <th>Respiratory_Support</th>\n      <th>PARAMETER</th>\n      <th>VALUE</th>\n    </tr>\n  </thead>\n  <tbody>\n    <tr>\n      <th>0</th>\n      <td>UHSCOVID_3952cfb9</td>\n      <td>False</td>\n      <td>Respiratory Support</td>\n      <td>Nasal Specs</td>\n    </tr>\n    <tr>\n      <th>1</th>\n      <td>UHSCOVID_3952cfb9</td>\n      <td>False</td>\n      <td>Respiratory Support</td>\n      <td>Nasal Specs</td>\n    </tr>\n    <tr>\n      <th>2</th>\n      <td>UHSCOVID_3952cfb9</td>\n      <td>False</td>\n      <td>Respiratory Support</td>\n      <td>Nasal Specs</td>\n    </tr>\n    <tr>\n      <th>3</th>\n      <td>UHSCOVID_3952cfb9</td>\n      <td>False</td>\n      <td>Respiratory Support</td>\n      <td>Nasal Specs</td>\n    </tr>\n    <tr>\n      <th>4</th>\n      <td>UHSCOVID_3952cfb9</td>\n      <td>False</td>\n      <td>Respiratory Support</td>\n      <td>Nasal Specs</td>\n    </tr>\n  </tbody>\n</table>\n</div>"
     },
     "execution_count": 319,
     "metadata": {},
     "output_type": "execute_result"
    }
   ],
   "source": [
    "vitalSignsCategDF[['STUDY_ID', \"Respiratory_Support\",'PARAMETER','VALUE']].head()"
   ]
  },
  {
   "cell_type": "code",
   "execution_count": 320,
   "metadata": {
    "collapsed": false,
    "jupyter": {
     "outputs_hidden": false
    },
    "pycharm": {
     "name": "#%%\n"
    }
   },
   "outputs": [
    {
     "data": {
      "text/plain": "STUDY_ID                       object\nDEPARTMENT                     object\nUNITFROM_DATETIME      datetime64[ns]\nUNITTO_DATETIME        datetime64[ns]\nPARAMETER                      object\nVALUE                          object\nRECORDED_DATETIME      datetime64[ns]\nRECORDED_DATE          datetime64[ns]\nRECORDED_TIME          datetime64[ns]\nVALIDATION_DATETIME    datetime64[ns]\nRespiratory_Support              bool\ndtype: object"
     },
     "execution_count": 320,
     "metadata": {},
     "output_type": "execute_result"
    }
   ],
   "source": [
    "vitalSignsCategDF.dtypes"
   ]
  },
  {
   "cell_type": "code",
   "execution_count": 321,
   "metadata": {
    "collapsed": false,
    "jupyter": {
     "outputs_hidden": false
    },
    "pycharm": {
     "name": "#%%\n"
    }
   },
   "outputs": [
    {
     "data": {
      "text/plain": "            STUDY_ID  DEPARTMENT   UNITFROM_DATETIME     UNITTO_DATETIME  \\\n0  UHSCOVID_3952cfb9          G9 2020-05-01 16:24:00 2020-05-05 15:25:00   \n1  UHSCOVID_3952cfb9  F6 Surgery 2020-04-23 20:07:00 2020-05-01 16:24:00   \n2  UHSCOVID_3952cfb9  F6 Surgery 2020-04-23 20:07:00 2020-05-01 16:24:00   \n3  UHSCOVID_3952cfb9  F6 Surgery 2020-04-23 20:07:00 2020-05-01 16:24:00   \n4  UHSCOVID_3952cfb9  F6 Surgery 2020-04-23 20:07:00 2020-05-01 16:24:00   \n\n             PARAMETER        VALUE   RECORDED_DATETIME RECORDED_DATE  \\\n0  Respiratory Support  Nasal Specs 2020-05-05 10:26:00    2020-05-05   \n1  Respiratory Support  Nasal Specs 2020-04-29 06:06:00    2020-04-29   \n2  Respiratory Support  Nasal Specs 2020-04-28 20:52:00    2020-04-28   \n3  Respiratory Support  Nasal Specs 2020-04-26 15:22:00    2020-04-26   \n4  Respiratory Support  Nasal Specs 2020-04-25 06:48:00    2020-04-25   \n\n        RECORDED_TIME VALIDATION_DATETIME  Respiratory_Support  \n0 2020-07-29 10:26:00 2020-05-05 10:26:00                False  \n1 2020-07-29 06:06:00 2020-04-29 06:06:00                False  \n2 2020-07-29 20:52:00 2020-04-28 20:52:00                False  \n3 2020-07-29 15:22:00 2020-04-26 15:22:00                False  \n4 2020-07-29 06:48:00 2020-04-25 06:48:00                False  ",
      "text/html": "<div>\n<style scoped>\n    .dataframe tbody tr th:only-of-type {\n        vertical-align: middle;\n    }\n\n    .dataframe tbody tr th {\n        vertical-align: top;\n    }\n\n    .dataframe thead th {\n        text-align: right;\n    }\n</style>\n<table border=\"1\" class=\"dataframe\">\n  <thead>\n    <tr style=\"text-align: right;\">\n      <th></th>\n      <th>STUDY_ID</th>\n      <th>DEPARTMENT</th>\n      <th>UNITFROM_DATETIME</th>\n      <th>UNITTO_DATETIME</th>\n      <th>PARAMETER</th>\n      <th>VALUE</th>\n      <th>RECORDED_DATETIME</th>\n      <th>RECORDED_DATE</th>\n      <th>RECORDED_TIME</th>\n      <th>VALIDATION_DATETIME</th>\n      <th>Respiratory_Support</th>\n    </tr>\n  </thead>\n  <tbody>\n    <tr>\n      <th>0</th>\n      <td>UHSCOVID_3952cfb9</td>\n      <td>G9</td>\n      <td>2020-05-01 16:24:00</td>\n      <td>2020-05-05 15:25:00</td>\n      <td>Respiratory Support</td>\n      <td>Nasal Specs</td>\n      <td>2020-05-05 10:26:00</td>\n      <td>2020-05-05</td>\n      <td>2020-07-29 10:26:00</td>\n      <td>2020-05-05 10:26:00</td>\n      <td>False</td>\n    </tr>\n    <tr>\n      <th>1</th>\n      <td>UHSCOVID_3952cfb9</td>\n      <td>F6 Surgery</td>\n      <td>2020-04-23 20:07:00</td>\n      <td>2020-05-01 16:24:00</td>\n      <td>Respiratory Support</td>\n      <td>Nasal Specs</td>\n      <td>2020-04-29 06:06:00</td>\n      <td>2020-04-29</td>\n      <td>2020-07-29 06:06:00</td>\n      <td>2020-04-29 06:06:00</td>\n      <td>False</td>\n    </tr>\n    <tr>\n      <th>2</th>\n      <td>UHSCOVID_3952cfb9</td>\n      <td>F6 Surgery</td>\n      <td>2020-04-23 20:07:00</td>\n      <td>2020-05-01 16:24:00</td>\n      <td>Respiratory Support</td>\n      <td>Nasal Specs</td>\n      <td>2020-04-28 20:52:00</td>\n      <td>2020-04-28</td>\n      <td>2020-07-29 20:52:00</td>\n      <td>2020-04-28 20:52:00</td>\n      <td>False</td>\n    </tr>\n    <tr>\n      <th>3</th>\n      <td>UHSCOVID_3952cfb9</td>\n      <td>F6 Surgery</td>\n      <td>2020-04-23 20:07:00</td>\n      <td>2020-05-01 16:24:00</td>\n      <td>Respiratory Support</td>\n      <td>Nasal Specs</td>\n      <td>2020-04-26 15:22:00</td>\n      <td>2020-04-26</td>\n      <td>2020-07-29 15:22:00</td>\n      <td>2020-04-26 15:22:00</td>\n      <td>False</td>\n    </tr>\n    <tr>\n      <th>4</th>\n      <td>UHSCOVID_3952cfb9</td>\n      <td>F6 Surgery</td>\n      <td>2020-04-23 20:07:00</td>\n      <td>2020-05-01 16:24:00</td>\n      <td>Respiratory Support</td>\n      <td>Nasal Specs</td>\n      <td>2020-04-25 06:48:00</td>\n      <td>2020-04-25</td>\n      <td>2020-07-29 06:48:00</td>\n      <td>2020-04-25 06:48:00</td>\n      <td>False</td>\n    </tr>\n  </tbody>\n</table>\n</div>"
     },
     "execution_count": 321,
     "metadata": {},
     "output_type": "execute_result"
    }
   ],
   "source": [
    "vitalSignsCategDF.head()"
   ]
  },
  {
   "cell_type": "code",
   "execution_count": 322,
   "metadata": {
    "collapsed": false,
    "jupyter": {
     "outputs_hidden": false
    },
    "pycharm": {
     "name": "#%%\n"
    }
   },
   "outputs": [
    {
     "data": {
      "text/plain": "                 STUDY_ID DEPARTMENT    UNITFROM_DATETIME  \\\ncount               54672      54672                54672   \nunique                563         65                 1524   \ntop     UHSCOVID_beb0ab71       GICU  2020-03-19 14:59:00   \nfreq                 2102      34916                 2089   \nfirst                 NaN        NaN  2019-12-08 15:01:00   \nlast                  NaN        NaN  2020-06-09 20:17:00   \n\n                   UNITTO_DATETIME            PARAMETER                 VALUE  \\\ncount                        54672                54672                 54672   \nunique                        1500                    1                    14   \ntop     2020-06-12 15:45:33.137000  Respiratory Support  Invasive Ventilation   \nfreq                          7756                54672                 28247   \nfirst          2020-01-17 08:01:00                  NaN                   NaN   \nlast    2020-06-12 15:45:33.137000                  NaN                   NaN   \n\n          RECORDED_DATETIME        RECORDED_DATE        RECORDED_TIME  \\\ncount                 54672                54672                54672   \nunique                19177                  163                 1438   \ntop     2020-04-15 00:00:00  2020-04-15 00:00:00  2020-07-29 06:00:00   \nfreq                     36                 1150                 1551   \nfirst   2020-01-02 05:53:00  2020-01-02 00:00:00  2020-07-29 00:00:00   \nlast    2020-06-12 00:00:00  2020-12-06 00:00:00  2020-07-29 23:59:00   \n\n        VALIDATION_DATETIME Respiratory_Support  \ncount                 54672               54672  \nunique                39906                   2  \ntop     2020-06-05 21:07:00                True  \nfreq                     14               28247  \nfirst   2020-01-02 05:53:00                 NaN  \nlast    2020-06-12 00:22:00                 NaN  ",
      "text/html": "<div>\n<style scoped>\n    .dataframe tbody tr th:only-of-type {\n        vertical-align: middle;\n    }\n\n    .dataframe tbody tr th {\n        vertical-align: top;\n    }\n\n    .dataframe thead th {\n        text-align: right;\n    }\n</style>\n<table border=\"1\" class=\"dataframe\">\n  <thead>\n    <tr style=\"text-align: right;\">\n      <th></th>\n      <th>STUDY_ID</th>\n      <th>DEPARTMENT</th>\n      <th>UNITFROM_DATETIME</th>\n      <th>UNITTO_DATETIME</th>\n      <th>PARAMETER</th>\n      <th>VALUE</th>\n      <th>RECORDED_DATETIME</th>\n      <th>RECORDED_DATE</th>\n      <th>RECORDED_TIME</th>\n      <th>VALIDATION_DATETIME</th>\n      <th>Respiratory_Support</th>\n    </tr>\n  </thead>\n  <tbody>\n    <tr>\n      <th>count</th>\n      <td>54672</td>\n      <td>54672</td>\n      <td>54672</td>\n      <td>54672</td>\n      <td>54672</td>\n      <td>54672</td>\n      <td>54672</td>\n      <td>54672</td>\n      <td>54672</td>\n      <td>54672</td>\n      <td>54672</td>\n    </tr>\n    <tr>\n      <th>unique</th>\n      <td>563</td>\n      <td>65</td>\n      <td>1524</td>\n      <td>1500</td>\n      <td>1</td>\n      <td>14</td>\n      <td>19177</td>\n      <td>163</td>\n      <td>1438</td>\n      <td>39906</td>\n      <td>2</td>\n    </tr>\n    <tr>\n      <th>top</th>\n      <td>UHSCOVID_beb0ab71</td>\n      <td>GICU</td>\n      <td>2020-03-19 14:59:00</td>\n      <td>2020-06-12 15:45:33.137000</td>\n      <td>Respiratory Support</td>\n      <td>Invasive Ventilation</td>\n      <td>2020-04-15 00:00:00</td>\n      <td>2020-04-15 00:00:00</td>\n      <td>2020-07-29 06:00:00</td>\n      <td>2020-06-05 21:07:00</td>\n      <td>True</td>\n    </tr>\n    <tr>\n      <th>freq</th>\n      <td>2102</td>\n      <td>34916</td>\n      <td>2089</td>\n      <td>7756</td>\n      <td>54672</td>\n      <td>28247</td>\n      <td>36</td>\n      <td>1150</td>\n      <td>1551</td>\n      <td>14</td>\n      <td>28247</td>\n    </tr>\n    <tr>\n      <th>first</th>\n      <td>NaN</td>\n      <td>NaN</td>\n      <td>2019-12-08 15:01:00</td>\n      <td>2020-01-17 08:01:00</td>\n      <td>NaN</td>\n      <td>NaN</td>\n      <td>2020-01-02 05:53:00</td>\n      <td>2020-01-02 00:00:00</td>\n      <td>2020-07-29 00:00:00</td>\n      <td>2020-01-02 05:53:00</td>\n      <td>NaN</td>\n    </tr>\n    <tr>\n      <th>last</th>\n      <td>NaN</td>\n      <td>NaN</td>\n      <td>2020-06-09 20:17:00</td>\n      <td>2020-06-12 15:45:33.137000</td>\n      <td>NaN</td>\n      <td>NaN</td>\n      <td>2020-06-12 00:00:00</td>\n      <td>2020-12-06 00:00:00</td>\n      <td>2020-07-29 23:59:00</td>\n      <td>2020-06-12 00:22:00</td>\n      <td>NaN</td>\n    </tr>\n  </tbody>\n</table>\n</div>"
     },
     "execution_count": 322,
     "metadata": {},
     "output_type": "execute_result"
    }
   ],
   "source": [
    "vitalSignsCategDF.describe()\n"
   ]
  },
  {
   "cell_type": "code",
   "execution_count": 323,
   "metadata": {
    "collapsed": false,
    "jupyter": {
     "outputs_hidden": false
    },
    "pycharm": {
     "name": "#%%\n"
    }
   },
   "outputs": [
    {
     "data": {
      "text/plain": "Index(['STUDY_ID', 'DEPARTMENT', 'UNITFROM_DATETIME', 'UNITTO_DATETIME',\n       'PARAMETER', 'VALUE', 'RECORDED_DATETIME', 'RECORDED_DATE',\n       'RECORDED_TIME', 'VALIDATION_DATETIME', 'Respiratory_Support'],\n      dtype='object')"
     },
     "execution_count": 323,
     "metadata": {},
     "output_type": "execute_result"
    }
   ],
   "source": [
    "vitalSignsCategDF.columns\n",
    "# Index(['STUDY_ID', 'DEPARTMENT', 'UNITFROM_DATETIME', 'UNITTO_DATETIME',\n",
    "#        'PARAMETER', 'VALUE', 'RECORDED_DATETIME', 'RECORDED_DATE',\n",
    "#        'RECORDED_TIME', 'VALIDATION_DATETIME'],\n",
    "#       dtype='object')\n",
    "#"
   ]
  },
  {
   "cell_type": "code",
   "execution_count": 324,
   "outputs": [
    {
     "ename": "TypeError",
     "evalue": "Must pass either `items`, `like`, or `regex`",
     "output_type": "error",
     "traceback": [
      "\u001B[1;31m---------------------------------------------------------------------------\u001B[0m",
      "\u001B[1;31mTypeError\u001B[0m                                 Traceback (most recent call last)",
      "\u001B[1;32m<ipython-input-324-85acac92351e>\u001B[0m in \u001B[0;36m<module>\u001B[1;34m\u001B[0m\n\u001B[1;32m----> 1\u001B[1;33m \u001B[0mvitalSignsNumericDF\u001B[0m \u001B[1;33m=\u001B[0m \u001B[0mvitalSignsNumericDF\u001B[0m\u001B[1;33m.\u001B[0m\u001B[0mfilter\u001B[0m\u001B[1;33m(\u001B[0m\u001B[1;33m)\u001B[0m\u001B[1;33m\u001B[0m\u001B[1;33m\u001B[0m\u001B[0m\n\u001B[0m\u001B[0;32m      2\u001B[0m \u001B[1;33m\u001B[0m\u001B[0m\n",
      "\u001B[1;32mC:\\ANACONDA3\\envs\\dECMT\\lib\\site-packages\\pandas\\core\\generic.py\u001B[0m in \u001B[0;36mfilter\u001B[1;34m(self, items, like, regex, axis)\u001B[0m\n\u001B[0;32m   4714\u001B[0m             \u001B[1;32mreturn\u001B[0m \u001B[0mself\u001B[0m\u001B[1;33m.\u001B[0m\u001B[0mloc\u001B[0m\u001B[1;33m(\u001B[0m\u001B[0maxis\u001B[0m\u001B[1;33m=\u001B[0m\u001B[0maxis\u001B[0m\u001B[1;33m)\u001B[0m\u001B[1;33m[\u001B[0m\u001B[0mvalues\u001B[0m\u001B[1;33m]\u001B[0m\u001B[1;33m\u001B[0m\u001B[1;33m\u001B[0m\u001B[0m\n\u001B[0;32m   4715\u001B[0m         \u001B[1;32melse\u001B[0m\u001B[1;33m:\u001B[0m\u001B[1;33m\u001B[0m\u001B[1;33m\u001B[0m\u001B[0m\n\u001B[1;32m-> 4716\u001B[1;33m             \u001B[1;32mraise\u001B[0m \u001B[0mTypeError\u001B[0m\u001B[1;33m(\u001B[0m\u001B[1;34m\"Must pass either `items`, `like`, or `regex`\"\u001B[0m\u001B[1;33m)\u001B[0m\u001B[1;33m\u001B[0m\u001B[1;33m\u001B[0m\u001B[0m\n\u001B[0m\u001B[0;32m   4717\u001B[0m \u001B[1;33m\u001B[0m\u001B[0m\n\u001B[0;32m   4718\u001B[0m     \u001B[1;32mdef\u001B[0m \u001B[0mhead\u001B[0m\u001B[1;33m(\u001B[0m\u001B[0mself\u001B[0m\u001B[1;33m:\u001B[0m \u001B[0mFrameOrSeries\u001B[0m\u001B[1;33m,\u001B[0m \u001B[0mn\u001B[0m\u001B[1;33m:\u001B[0m \u001B[0mint\u001B[0m \u001B[1;33m=\u001B[0m \u001B[1;36m5\u001B[0m\u001B[1;33m)\u001B[0m \u001B[1;33m->\u001B[0m \u001B[0mFrameOrSeries\u001B[0m\u001B[1;33m:\u001B[0m\u001B[1;33m\u001B[0m\u001B[1;33m\u001B[0m\u001B[0m\n",
      "\u001B[1;31mTypeError\u001B[0m: Must pass either `items`, `like`, or `regex`"
     ]
    }
   ],
   "source": [
    "vitalSignsNumericDF = vitalSignsNumericDF.filter()"
   ],
   "metadata": {
    "collapsed": false,
    "pycharm": {
     "name": "#%%\n"
    }
   }
  },
  {
   "cell_type": "code",
   "execution_count": null,
   "metadata": {
    "collapsed": false,
    "jupyter": {
     "outputs_hidden": false
    },
    "pycharm": {
     "name": "#%%\n"
    }
   },
   "outputs": [],
   "source": [
    "dates2Convert={\n",
    "    'covidDemographics':['']\n",
    "}"
   ]
  },
  {
   "cell_type": "code",
   "execution_count": null,
   "metadata": {
    "collapsed": false,
    "jupyter": {
     "outputs_hidden": false
    },
    "pycharm": {
     "name": "#%%\n"
    }
   },
   "outputs": [],
   "source": [
    "comorbidDF['COMORBIDITY'].unique()\n",
    "# array(['COPD', 'ASTHMA', 'ILD', 'HYPERTENSION', 'THROMBOEMBOLIC',\n",
    "#        'CARDIAC_D', 'RENAL_D', 'LIVER_D', 'NEURAL_D', 'META_SOLID_TUMOUR',\n",
    "#        'MAGLINANT_NEO', 'DIABETES', 'OBESITY', 'HIV', 'RHEUMATO_D',\n",
    "#        'DIMENTIA', 'IMMUNO'], dtype=object)\n"
   ]
  },
  {
   "cell_type": "code",
   "execution_count": null,
   "metadata": {
    "collapsed": false,
    "jupyter": {
     "outputs_hidden": false
    },
    "pycharm": {
     "name": "#%%\n"
    }
   },
   "outputs": [],
   "source": [
    "comorbidDF['RENAL_D_PRESENT'] = (comorbidDF['COMORBIDITY'] == 'RENAL_D')\n",
    "comorbidDF.head()"
   ]
  },
  {
   "cell_type": "code",
   "execution_count": null,
   "metadata": {
    "collapsed": false,
    "jupyter": {
     "outputs_hidden": false
    },
    "pycharm": {
     "name": "#%%\n"
    }
   },
   "outputs": [],
   "source": [
    "comorbidDF['RENAL_D_PRESENT'].unique()\n"
   ]
  },
  {
   "cell_type": "code",
   "execution_count": null,
   "metadata": {
    "collapsed": false,
    "jupyter": {
     "outputs_hidden": false
    },
    "pycharm": {
     "name": "#%%\n"
    }
   },
   "outputs": [],
   "source": [
    "comorbidGrpDF = comorbidDF.groupby('STUDY_ID').agg(RENAL_D_PRESENT=('RENAL_D_PRESENT','any'))\n",
    "comorbidGrpDF.head()\n",
    "\n"
   ]
  },
  {
   "cell_type": "code",
   "execution_count": null,
   "metadata": {
    "collapsed": false,
    "jupyter": {
     "outputs_hidden": false
    },
    "pycharm": {
     "name": "#%%\n"
    }
   },
   "outputs": [],
   "source": [
    "comorbidGrpDF.describe()\n",
    "\n",
    "dfRes:pd.DataFrame = pd.merge(vitalSignsCategDF, comorbidGrpDF, on='STUDY_ID', how='inner')"
   ]
  },
  {
   "cell_type": "code",
   "execution_count": null,
   "metadata": {
    "collapsed": false,
    "jupyter": {
     "outputs_hidden": false
    },
    "pycharm": {
     "name": "#%%\n"
    }
   },
   "outputs": [],
   "source": [
    "dfRes.columns"
   ]
  },
  {
   "cell_type": "code",
   "execution_count": null,
   "metadata": {
    "collapsed": false,
    "jupyter": {
     "outputs_hidden": false
    },
    "pycharm": {
     "name": "#%%\n"
    }
   },
   "outputs": [],
   "source": [
    "dfRes[['STUDY_ID', 'DEPARTMENT', 'UNITFROM_DATETIME', 'UNITTO_DATETIME',\n",
    "       'PARAMETER', 'VALUE', 'RECORDED_DATETIME', 'RECORDED_DATE',\n",
    "       'RECORDED_TIME', 'VALIDATION_DATETIME', 'Respiratory_Support',\n",
    "       'RENAL_D_PRESENT'],].head()"
   ]
  },
  {
   "cell_type": "markdown",
   "metadata": {
    "pycharm": {
     "name": "#%% md\n"
    }
   },
   "source": [
    "# Association between Renal Disease and Air Ventilation Usage"
   ]
  },
  {
   "cell_type": "code",
   "execution_count": null,
   "metadata": {
    "collapsed": false,
    "jupyter": {
     "outputs_hidden": false
    },
    "pycharm": {
     "name": "#%%\n"
    }
   },
   "outputs": [],
   "source": [
    " # ['STUDY_ID', 'UNITFROM_DATETIME', 'VALUE', 'AIR_SUPPORT',\n",
    " #       'RENAL_D_PRESENT']\n",
    "\n",
    "dfRes = dfRes.filter(['STUDY_ID', 'VALUE', 'AIR_SUPPORT', 'RENAL_D_PRESENT'] ,axis=1)"
   ]
  },
  {
   "cell_type": "code",
   "execution_count": null,
   "metadata": {
    "collapsed": false,
    "jupyter": {
     "outputs_hidden": false
    },
    "pycharm": {
     "name": "#%%\n"
    }
   },
   "outputs": [],
   "source": [
    "dfRes['Respiratory_Support'] = dfRes['AIR_SUPPORT']==1"
   ]
  },
  {
   "cell_type": "code",
   "execution_count": null,
   "metadata": {
    "collapsed": false,
    "jupyter": {
     "outputs_hidden": false
    },
    "pycharm": {
     "name": "#%%\n"
    }
   },
   "outputs": [],
   "source": [
    "dfRes.head()"
   ]
  },
  {
   "cell_type": "markdown",
   "metadata": {
    "pycharm": {
     "name": "#%% md\n"
    }
   },
   "source": [
    "## Power of evidence\n"
   ]
  },
  {
   "cell_type": "code",
   "execution_count": null,
   "metadata": {
    "collapsed": false,
    "jupyter": {
     "outputs_hidden": false
    },
    "pycharm": {
     "name": "#%%\n"
    }
   },
   "outputs": [],
   "source": [
    "dfRes3 = dfRes.groupby('STUDY_ID').agg(AIR_SUPPORT=('AIR_SUPPORT','any'),RENAL_D_PRESENT=('RENAL_D_PRESENT','any'))\n"
   ]
  },
  {
   "cell_type": "code",
   "execution_count": null,
   "metadata": {
    "collapsed": false,
    "jupyter": {
     "outputs_hidden": false
    },
    "pycharm": {
     "name": "#%%\n"
    }
   },
   "outputs": [],
   "source": [
    "dfRes3.head()"
   ]
  },
  {
   "cell_type": "code",
   "execution_count": null,
   "metadata": {
    "collapsed": false,
    "jupyter": {
     "outputs_hidden": false
    },
    "pycharm": {
     "name": "#%%\n"
    }
   },
   "outputs": [],
   "source": [
    "len(dfRes3)"
   ]
  },
  {
   "cell_type": "code",
   "execution_count": null,
   "metadata": {
    "collapsed": false,
    "jupyter": {
     "outputs_hidden": false
    },
    "pycharm": {
     "name": "#%%\n"
    }
   },
   "outputs": [],
   "source": [
    "crosstabRenalAirSupport = pd.crosstab(dfRes3['AIR_SUPPORT'],dfRes3['RENAL_D_PRESENT'])\n",
    "crosstabRenalAirSupport"
   ]
  },
  {
   "cell_type": "code",
   "execution_count": null,
   "metadata": {},
   "outputs": [],
   "source": [
    "crosstabRenalAirSupport2 = pd.crosstab(dfRes3['AIR_SUPPORT'],dfRes3['RENAL_D_PRESENT'],margins=True)\n",
    "crosstabRenalAirSupport2"
   ]
  },
  {
   "cell_type": "code",
   "execution_count": null,
   "metadata": {
    "collapsed": false,
    "jupyter": {
     "outputs_hidden": false
    },
    "pycharm": {
     "name": "#%%\n"
    }
   },
   "outputs": [],
   "source": [
    "crosstabRenalAirSupportNorm = pd.crosstab(dfRes3['AIR_SUPPORT'],dfRes3['RENAL_D_PRESENT'],normalize=True,margins=True)\n",
    "crosstabRenalAirSupportNorm\n"
   ]
  },
  {
   "cell_type": "markdown",
   "metadata": {},
   "source": [
    "## Chi2 test on significance of association between renal disease and air support"
   ]
  },
  {
   "cell_type": "code",
   "execution_count": null,
   "metadata": {
    "collapsed": false,
    "jupyter": {
     "outputs_hidden": false
    },
    "pycharm": {
     "name": "#%%\n"
    }
   },
   "outputs": [],
   "source": [
    "from scipy.stats import chi2_contingency\n",
    "\n",
    "# defining the table\n",
    "# data = [crosstabRenalDeath.loc['False',:].values().reshape(1,-1), [234, 242, 232]]\n",
    "stat, p, dof, expected = chi2_contingency(crosstabRenalAirSupport)\n",
    "print(f\"stat = {stat}\")\n",
    "print(f\"p = {p}\")\n",
    "print(f\"dof = {dof}\")\n",
    "print(f\"expected = {expected}\")\n",
    "md(f\"Since critical value for Chi2 test p={p:.1g}>0.05 we cannot reject hypothesis that the presence of a renal disease and air support are independent.\")"
   ]
  },
  {
   "cell_type": "code",
   "execution_count": null,
   "metadata": {
    "collapsed": false,
    "jupyter": {
     "outputs_hidden": false
    },
    "pycharm": {
     "name": "#%%\n"
    }
   },
   "outputs": [],
   "source": [
    "P_R_T = crosstabRenalAirSupportNorm.loc['All',True]\n",
    "\n",
    "P_D_T = crosstabRenalAirSupportNorm.loc[True,'All']\n",
    "P_R_F = crosstabRenalAirSupportNorm.loc['All',False]\n",
    "P_D_F = crosstabRenalAirSupportNorm.loc[False,'All']\n",
    "PDTGRT = crosstabRenalAirSupportNorm.loc[True,True]/P_R_T\n",
    "PDFGRT = 1-PDTGRT\n",
    "# ********************************\n",
    "PDFGRF = crosstabRenalAirSupportNorm.loc[False,False]/P_R_F\n",
    "PDTGRF = 1-PDFGRF\n",
    "# **********\n",
    "PRTGDT =  crosstabRenalAirSupportNorm.loc[True,True]/P_D_T\n",
    "PRFGDT = 1-PRTGDT\n",
    "PRFGDF = crosstabRenalAirSupportNorm.loc[False,False]/P_D_F\n",
    "PRTGDF = 1-PRFGDF\n",
    "WoERTGD = PRTGDT/PRTGDF\n",
    "WoERFGD = PRFGDT/PRFGDF\n",
    "# ********************************\n",
    "print(f\"PRT={P_R_T} PRF = {P_R_F} \")\n",
    "print(f\"PDTGRT={PDTGRT} PDFGRT={PDFGRT}\")\n",
    "print(f\"WoERFGD={WoERFGD}\")\n",
    "# ********************************\n",
    "print(f\"PRT={P_R_T} PRF = {P_R_F} \")\n",
    "print(f\"PDTGRF={PDTGRF} PDFGRT={PDFGRF}\")\n",
    "print(f\"WoERTGD={WoERTGD}\")"
   ]
  },
  {
   "cell_type": "markdown",
   "metadata": {},
   "source": [
    "# Value of evidence (WoE)\n",
    "The more is WoE different from 0 the more informative is renal disease for prediction of death, while positive value means support for selected result and negative value means the support of other result by evidence.\n",
    "\n",
    "$$WoE(Evidence|Target) =100*log_{10}\\Bigg  (\\frac{P(Evidence|Target)}{P(Evidence|\\neg Target)}\\Bigg)$$\n",
    "\n",
    "$$WoE(\\neg Evidence|Target) =100*log_{10}\\Bigg(\\frac{P(\\neg Evidence|Target)}{P(\\neg Evidence|\\neg Target)}\\Bigg)$$\n",
    "\n",
    "$$WoE \\in (-\\infty,\\infty )$$\n"
   ]
  },
  {
   "cell_type": "code",
   "execution_count": null,
   "metadata": {
    "collapsed": false,
    "jupyter": {
     "outputs_hidden": false
    },
    "pycharm": {
     "name": "#%%\n"
    }
   },
   "outputs": [],
   "source": [
    "md(f\"Weight of Evidence, WoE(Renal_disease=Absent|Air support) = {100*np.log10(WoERFGD)}\")"
   ]
  },
  {
   "cell_type": "code",
   "execution_count": null,
   "outputs": [],
   "source": [
    "md(f\"Weight of Evidence, WoE(Renal_disease=Present|Air support) = {100*np.log10(WoERTGD)}\")\n"
   ],
   "metadata": {
    "collapsed": false,
    "pycharm": {
     "name": "#%%\n"
    }
   }
  },
  {
   "cell_type": "markdown",
   "metadata": {
    "pycharm": {
     "name": "#%% md\n"
    }
   },
   "source": [
    "Values of WoE are not very different from 0. This indicate that there is probably no association between renal disease\n",
    "and  air ventilation.\n",
    "\n"
   ]
  },
  {
   "cell_type": "code",
   "execution_count": null,
   "metadata": {
    "collapsed": false,
    "jupyter": {
     "outputs_hidden": false
    },
    "pycharm": {
     "name": "#%%\n"
    }
   },
   "outputs": [],
   "source": [
    "\n"
   ]
  },
  {
   "cell_type": "code",
   "execution_count": null,
   "outputs": [],
   "source": [],
   "metadata": {
    "collapsed": false,
    "pycharm": {
     "name": "#%%\n"
    }
   }
  },
  {
   "cell_type": "code",
   "execution_count": null,
   "outputs": [],
   "source": [],
   "metadata": {
    "collapsed": false,
    "pycharm": {
     "name": "#%%\n"
    }
   }
  },
  {
   "cell_type": "code",
   "execution_count": null,
   "outputs": [],
   "source": [],
   "metadata": {
    "collapsed": false,
    "pycharm": {
     "name": "#%%\n"
    }
   }
  },
  {
   "cell_type": "code",
   "execution_count": null,
   "outputs": [],
   "source": [],
   "metadata": {
    "collapsed": false,
    "pycharm": {
     "name": "#%%\n"
    }
   }
  },
  {
   "cell_type": "code",
   "execution_count": null,
   "outputs": [],
   "source": [],
   "metadata": {
    "collapsed": false,
    "pycharm": {
     "name": "#%%\n"
    }
   }
  },
  {
   "cell_type": "code",
   "execution_count": null,
   "metadata": {},
   "outputs": [],
   "source": []
  },
  {
   "cell_type": "code",
   "execution_count": null,
   "metadata": {},
   "outputs": [],
   "source": []
  },
  {
   "cell_type": "code",
   "execution_count": null,
   "metadata": {},
   "outputs": [],
   "source": []
  },
  {
   "cell_type": "code",
   "execution_count": null,
   "metadata": {},
   "outputs": [],
   "source": []
  },
  {
   "cell_type": "code",
   "execution_count": null,
   "metadata": {},
   "outputs": [],
   "source": []
  }
 ],
 "metadata": {
  "kernelspec": {
   "display_name": "PyCharm (BN4Nephrology)",
   "language": "python",
   "name": "pycharm-b7c5592"
  },
  "language_info": {
   "codemirror_mode": {
    "name": "ipython",
    "version": 3
   },
   "file_extension": ".py",
   "mimetype": "text/x-python",
   "name": "python",
   "nbconvert_exporter": "python",
   "pygments_lexer": "ipython3",
   "version": "3.7.6"
  }
 },
 "nbformat": 4,
 "nbformat_minor": 4
}