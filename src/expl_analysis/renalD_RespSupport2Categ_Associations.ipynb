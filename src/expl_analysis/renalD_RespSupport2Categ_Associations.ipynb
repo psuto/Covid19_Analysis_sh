{
 "cells": [
  {
   "cell_type": "code",
   "execution_count": 2,
   "metadata": {
    "collapsed": false,
    "jupyter": {
     "outputs_hidden": false
    },
    "pycharm": {
     "name": "#%%\n"
    }
   },
   "outputs": [],
   "source": [
    "import numpy as np\n",
    "import pandas as pd\n",
    "import pathlib as p\n",
    "import seaborn as sb\n",
    "import matplotlib.pyplot as plt\n",
    "import pathlib\n",
    "from pathlib import Path\n",
    "from datetime import datetime\n",
    "from IPython.display import Markdown as md\n",
    "from IPython.display import Math as m\n",
    "import utilities as u\n"
   ]
  },
  {
   "cell_type": "code",
   "execution_count": 3,
   "metadata": {
    "collapsed": false,
    "jupyter": {
     "outputs_hidden": false
    },
    "pycharm": {
     "name": "#%%\n"
    }
   },
   "outputs": [],
   "source": [
    "%matplotlib inline"
   ]
  },
  {
   "cell_type": "code",
   "execution_count": 4,
   "metadata": {
    "collapsed": false,
    "jupyter": {
     "outputs_hidden": false
    },
    "pycharm": {
     "name": "#%%\n"
    }
   },
   "outputs": [],
   "source": [
    "def extractParentDir(dataFileName):\n",
    "    purePath = pathlib.PurePath(dataFileName)\n",
    "    parentDir2 = purePath.parent.parent\n",
    "    return parentDir2"
   ]
  },
  {
   "cell_type": "code",
   "execution_count": 5,
   "metadata": {
    "collapsed": false,
    "jupyter": {
     "outputs_hidden": false
    },
    "pycharm": {
     "name": "#%%\n"
    }
   },
   "outputs": [],
   "source": [
    "todayVal = datetime.today()\n",
    "timeStampStr = todayVal.strftime(\"%y-%m-%d_%H-%M-%S.%f\")\n",
    "data_dir = r\"C:\\work\\dev\\dECMT_src\\data_all\\COVID19_Data\\Current\"\n",
    "parentDir2 = extractParentDir(data_dir)\n",
    "outputPath = Path(parentDir2) / \"Output_Covid19_Analysis\"/f\"{timeStampStr}_bipartite\""
   ]
  },
  {
   "cell_type": "code",
   "execution_count": 6,
   "metadata": {
    "collapsed": false,
    "jupyter": {
     "outputs_hidden": false
    },
    "pycharm": {
     "name": "#%%\n"
    }
   },
   "outputs": [],
   "source": [
    "comorbidFN = p.Path(data_dir) / \"REACT_Comorbidities_unpivoted.csv\"\n",
    "demogFN = p.Path(data_dir) / \"REACT_Demographics.csv\"\n",
    "comorbidDF:pd.DataFrame = pd.read_csv(comorbidFN)"
   ]
  },
  {
   "cell_type": "code",
   "execution_count": 7,
   "metadata": {
    "collapsed": false,
    "jupyter": {
     "outputs_hidden": false
    },
    "pycharm": {
     "name": "#%%\n"
    }
   },
   "outputs": [
    {
     "data": {
      "text/plain": "            STUDY_ID COMORBIDITY  STATUS\n0  UHSCOVID_00989a42        COPD       1\n1  UHSCOVID_0520de1c        COPD       1\n2  UHSCOVID_0744a86c        COPD       1\n3  UHSCOVID_0874d194        COPD       1\n4  UHSCOVID_0b401459        COPD       1",
      "text/html": "<div>\n<style scoped>\n    .dataframe tbody tr th:only-of-type {\n        vertical-align: middle;\n    }\n\n    .dataframe tbody tr th {\n        vertical-align: top;\n    }\n\n    .dataframe thead th {\n        text-align: right;\n    }\n</style>\n<table border=\"1\" class=\"dataframe\">\n  <thead>\n    <tr style=\"text-align: right;\">\n      <th></th>\n      <th>STUDY_ID</th>\n      <th>COMORBIDITY</th>\n      <th>STATUS</th>\n    </tr>\n  </thead>\n  <tbody>\n    <tr>\n      <th>0</th>\n      <td>UHSCOVID_00989a42</td>\n      <td>COPD</td>\n      <td>1</td>\n    </tr>\n    <tr>\n      <th>1</th>\n      <td>UHSCOVID_0520de1c</td>\n      <td>COPD</td>\n      <td>1</td>\n    </tr>\n    <tr>\n      <th>2</th>\n      <td>UHSCOVID_0744a86c</td>\n      <td>COPD</td>\n      <td>1</td>\n    </tr>\n    <tr>\n      <th>3</th>\n      <td>UHSCOVID_0874d194</td>\n      <td>COPD</td>\n      <td>1</td>\n    </tr>\n    <tr>\n      <th>4</th>\n      <td>UHSCOVID_0b401459</td>\n      <td>COPD</td>\n      <td>1</td>\n    </tr>\n  </tbody>\n</table>\n</div>"
     },
     "execution_count": 7,
     "metadata": {},
     "output_type": "execute_result"
    }
   ],
   "source": [
    "comorbidDF:pd.DataFrame = pd.read_csv(comorbidFN)\n",
    "\n",
    "comorbidDF.head()"
   ]
  },
  {
   "cell_type": "code",
   "execution_count": 8,
   "metadata": {
    "collapsed": false,
    "jupyter": {
     "outputs_hidden": false
    },
    "pycharm": {
     "name": "#%%\n"
    }
   },
   "outputs": [],
   "source": [
    "vitalSignsCategDF =  pd.read_csv(p.Path(data_dir) / \"REACT_Vitalsigns_Categorical.csv\")\n",
    "vitalSignsNumericDF =  pd.read_csv(p.Path(data_dir) / \"REACT_Vitalsigns_Numeric.csv\")"
   ]
  },
  {
   "cell_type": "code",
   "execution_count": 9,
   "metadata": {
    "collapsed": false,
    "jupyter": {
     "outputs_hidden": false
    },
    "pycharm": {
     "name": "#%%\n"
    }
   },
   "outputs": [],
   "source": [
    "dtCols = ['UNITFROM_DATETIME', 'UNITTO_DATETIME',\n",
    "        'RECORDED_DATETIME','VALIDATION_DATETIME']\n"
   ]
  },
  {
   "cell_type": "code",
   "execution_count": 10,
   "metadata": {
    "collapsed": false,
    "jupyter": {
     "outputs_hidden": false
    },
    "pycharm": {
     "name": "#%%\n"
    }
   },
   "outputs": [
    {
     "data": {
      "text/plain": "          UNITFROM_DATETIME      UNITTO_DATETIME    RECORDED_DATETIME  \\\n0       2020-05-01 16:24:00  2020-05-05 15:25:00  2020-05-05 10:26:00   \n1       2020-04-23 20:07:00  2020-05-01 16:24:00  2020-04-29 06:06:00   \n2       2020-04-23 20:07:00  2020-05-01 16:24:00  2020-04-28 20:52:00   \n3       2020-04-23 20:07:00  2020-05-01 16:24:00  2020-04-26 15:22:00   \n4       2020-04-23 20:07:00  2020-05-01 16:24:00  2020-04-25 06:48:00   \n...                     ...                  ...                  ...   \n132942  2020-04-15 20:27:00  2020-06-09 16:27:00  2020-04-15 23:00:00   \n132943  2020-04-15 20:27:00  2020-06-09 16:27:00  2020-04-15 22:00:00   \n132944  2020-04-15 20:27:00  2020-06-09 16:27:00  2020-04-15 22:00:00   \n132945  2020-04-15 20:27:00  2020-06-09 16:27:00  2020-04-15 21:00:00   \n132946  2020-04-15 20:27:00  2020-06-09 16:27:00  2020-04-15 21:00:00   \n\n        VALIDATION_DATETIME  \n0       2020-05-05 10:26:00  \n1       2020-04-29 06:06:00  \n2       2020-04-28 20:52:00  \n3       2020-04-26 15:22:00  \n4       2020-04-25 06:48:00  \n...                     ...  \n132942  2020-04-15 23:06:00  \n132943  2020-04-16 00:06:00  \n132944  2020-04-15 22:50:00  \n132945  2020-04-15 21:05:00  \n132946  2020-04-15 21:05:00  \n\n[132947 rows x 4 columns]",
      "text/html": "<div>\n<style scoped>\n    .dataframe tbody tr th:only-of-type {\n        vertical-align: middle;\n    }\n\n    .dataframe tbody tr th {\n        vertical-align: top;\n    }\n\n    .dataframe thead th {\n        text-align: right;\n    }\n</style>\n<table border=\"1\" class=\"dataframe\">\n  <thead>\n    <tr style=\"text-align: right;\">\n      <th></th>\n      <th>UNITFROM_DATETIME</th>\n      <th>UNITTO_DATETIME</th>\n      <th>RECORDED_DATETIME</th>\n      <th>VALIDATION_DATETIME</th>\n    </tr>\n  </thead>\n  <tbody>\n    <tr>\n      <th>0</th>\n      <td>2020-05-01 16:24:00</td>\n      <td>2020-05-05 15:25:00</td>\n      <td>2020-05-05 10:26:00</td>\n      <td>2020-05-05 10:26:00</td>\n    </tr>\n    <tr>\n      <th>1</th>\n      <td>2020-04-23 20:07:00</td>\n      <td>2020-05-01 16:24:00</td>\n      <td>2020-04-29 06:06:00</td>\n      <td>2020-04-29 06:06:00</td>\n    </tr>\n    <tr>\n      <th>2</th>\n      <td>2020-04-23 20:07:00</td>\n      <td>2020-05-01 16:24:00</td>\n      <td>2020-04-28 20:52:00</td>\n      <td>2020-04-28 20:52:00</td>\n    </tr>\n    <tr>\n      <th>3</th>\n      <td>2020-04-23 20:07:00</td>\n      <td>2020-05-01 16:24:00</td>\n      <td>2020-04-26 15:22:00</td>\n      <td>2020-04-26 15:22:00</td>\n    </tr>\n    <tr>\n      <th>4</th>\n      <td>2020-04-23 20:07:00</td>\n      <td>2020-05-01 16:24:00</td>\n      <td>2020-04-25 06:48:00</td>\n      <td>2020-04-25 06:48:00</td>\n    </tr>\n    <tr>\n      <th>...</th>\n      <td>...</td>\n      <td>...</td>\n      <td>...</td>\n      <td>...</td>\n    </tr>\n    <tr>\n      <th>132942</th>\n      <td>2020-04-15 20:27:00</td>\n      <td>2020-06-09 16:27:00</td>\n      <td>2020-04-15 23:00:00</td>\n      <td>2020-04-15 23:06:00</td>\n    </tr>\n    <tr>\n      <th>132943</th>\n      <td>2020-04-15 20:27:00</td>\n      <td>2020-06-09 16:27:00</td>\n      <td>2020-04-15 22:00:00</td>\n      <td>2020-04-16 00:06:00</td>\n    </tr>\n    <tr>\n      <th>132944</th>\n      <td>2020-04-15 20:27:00</td>\n      <td>2020-06-09 16:27:00</td>\n      <td>2020-04-15 22:00:00</td>\n      <td>2020-04-15 22:50:00</td>\n    </tr>\n    <tr>\n      <th>132945</th>\n      <td>2020-04-15 20:27:00</td>\n      <td>2020-06-09 16:27:00</td>\n      <td>2020-04-15 21:00:00</td>\n      <td>2020-04-15 21:05:00</td>\n    </tr>\n    <tr>\n      <th>132946</th>\n      <td>2020-04-15 20:27:00</td>\n      <td>2020-06-09 16:27:00</td>\n      <td>2020-04-15 21:00:00</td>\n      <td>2020-04-15 21:05:00</td>\n    </tr>\n  </tbody>\n</table>\n<p>132947 rows × 4 columns</p>\n</div>"
     },
     "execution_count": 10,
     "metadata": {},
     "output_type": "execute_result"
    }
   ],
   "source": [
    "vitalSignsCategDF[dtCols]\n"
   ]
  },
  {
   "cell_type": "code",
   "execution_count": 11,
   "metadata": {
    "collapsed": false,
    "jupyter": {
     "outputs_hidden": false
    },
    "pycharm": {
     "name": "#%%\n"
    }
   },
   "outputs": [],
   "source": [
    "dtCols2Transform = {'Vitalsigns_Categorical':['UNITFROM_DATETIME', 'UNITTO_DATETIME',\n",
    "        'RECORDED_DATETIME','VALIDATION_DATETIME','RECORDED_TIME','RECORDED_DATE']}\n",
    "vitalSignsCategDF = u.convertDatesAuto(vitalSignsCategDF,dtCols2Transform['Vitalsigns_Categorical'])"
   ]
  },
  {
   "cell_type": "code",
   "execution_count": 12,
   "metadata": {
    "collapsed": false,
    "jupyter": {
     "outputs_hidden": false
    },
    "pycharm": {
     "name": "#%%\n"
    }
   },
   "outputs": [
    {
     "data": {
      "text/plain": "            STUDY_ID  DEPARTMENT   UNITFROM_DATETIME     UNITTO_DATETIME  \\\n0  UHSCOVID_3952cfb9          G9 2020-05-01 16:24:00 2020-05-05 15:25:00   \n1  UHSCOVID_3952cfb9  F6 Surgery 2020-04-23 20:07:00 2020-05-01 16:24:00   \n2  UHSCOVID_3952cfb9  F6 Surgery 2020-04-23 20:07:00 2020-05-01 16:24:00   \n3  UHSCOVID_3952cfb9  F6 Surgery 2020-04-23 20:07:00 2020-05-01 16:24:00   \n4  UHSCOVID_3952cfb9  F6 Surgery 2020-04-23 20:07:00 2020-05-01 16:24:00   \n\n             PARAMETER        VALUE   RECORDED_DATETIME RECORDED_DATE  \\\n0  Respiratory Support  Nasal Specs 2020-05-05 10:26:00    2020-05-05   \n1  Respiratory Support  Nasal Specs 2020-04-29 06:06:00    2020-04-29   \n2  Respiratory Support  Nasal Specs 2020-04-28 20:52:00    2020-04-28   \n3  Respiratory Support  Nasal Specs 2020-04-26 15:22:00    2020-04-26   \n4  Respiratory Support  Nasal Specs 2020-04-25 06:48:00    2020-04-25   \n\n        RECORDED_TIME VALIDATION_DATETIME  \n0 2020-07-28 10:26:00 2020-05-05 10:26:00  \n1 2020-07-28 06:06:00 2020-04-29 06:06:00  \n2 2020-07-28 20:52:00 2020-04-28 20:52:00  \n3 2020-07-28 15:22:00 2020-04-26 15:22:00  \n4 2020-07-28 06:48:00 2020-04-25 06:48:00  ",
      "text/html": "<div>\n<style scoped>\n    .dataframe tbody tr th:only-of-type {\n        vertical-align: middle;\n    }\n\n    .dataframe tbody tr th {\n        vertical-align: top;\n    }\n\n    .dataframe thead th {\n        text-align: right;\n    }\n</style>\n<table border=\"1\" class=\"dataframe\">\n  <thead>\n    <tr style=\"text-align: right;\">\n      <th></th>\n      <th>STUDY_ID</th>\n      <th>DEPARTMENT</th>\n      <th>UNITFROM_DATETIME</th>\n      <th>UNITTO_DATETIME</th>\n      <th>PARAMETER</th>\n      <th>VALUE</th>\n      <th>RECORDED_DATETIME</th>\n      <th>RECORDED_DATE</th>\n      <th>RECORDED_TIME</th>\n      <th>VALIDATION_DATETIME</th>\n    </tr>\n  </thead>\n  <tbody>\n    <tr>\n      <th>0</th>\n      <td>UHSCOVID_3952cfb9</td>\n      <td>G9</td>\n      <td>2020-05-01 16:24:00</td>\n      <td>2020-05-05 15:25:00</td>\n      <td>Respiratory Support</td>\n      <td>Nasal Specs</td>\n      <td>2020-05-05 10:26:00</td>\n      <td>2020-05-05</td>\n      <td>2020-07-28 10:26:00</td>\n      <td>2020-05-05 10:26:00</td>\n    </tr>\n    <tr>\n      <th>1</th>\n      <td>UHSCOVID_3952cfb9</td>\n      <td>F6 Surgery</td>\n      <td>2020-04-23 20:07:00</td>\n      <td>2020-05-01 16:24:00</td>\n      <td>Respiratory Support</td>\n      <td>Nasal Specs</td>\n      <td>2020-04-29 06:06:00</td>\n      <td>2020-04-29</td>\n      <td>2020-07-28 06:06:00</td>\n      <td>2020-04-29 06:06:00</td>\n    </tr>\n    <tr>\n      <th>2</th>\n      <td>UHSCOVID_3952cfb9</td>\n      <td>F6 Surgery</td>\n      <td>2020-04-23 20:07:00</td>\n      <td>2020-05-01 16:24:00</td>\n      <td>Respiratory Support</td>\n      <td>Nasal Specs</td>\n      <td>2020-04-28 20:52:00</td>\n      <td>2020-04-28</td>\n      <td>2020-07-28 20:52:00</td>\n      <td>2020-04-28 20:52:00</td>\n    </tr>\n    <tr>\n      <th>3</th>\n      <td>UHSCOVID_3952cfb9</td>\n      <td>F6 Surgery</td>\n      <td>2020-04-23 20:07:00</td>\n      <td>2020-05-01 16:24:00</td>\n      <td>Respiratory Support</td>\n      <td>Nasal Specs</td>\n      <td>2020-04-26 15:22:00</td>\n      <td>2020-04-26</td>\n      <td>2020-07-28 15:22:00</td>\n      <td>2020-04-26 15:22:00</td>\n    </tr>\n    <tr>\n      <th>4</th>\n      <td>UHSCOVID_3952cfb9</td>\n      <td>F6 Surgery</td>\n      <td>2020-04-23 20:07:00</td>\n      <td>2020-05-01 16:24:00</td>\n      <td>Respiratory Support</td>\n      <td>Nasal Specs</td>\n      <td>2020-04-25 06:48:00</td>\n      <td>2020-04-25</td>\n      <td>2020-07-28 06:48:00</td>\n      <td>2020-04-25 06:48:00</td>\n    </tr>\n  </tbody>\n</table>\n</div>"
     },
     "execution_count": 12,
     "metadata": {},
     "output_type": "execute_result"
    }
   ],
   "source": [
    "vitalSignsCategDF.head()\n",
    "\n",
    "# Index(['STUDY_ID', 'DEPARTMENT', 'UNITFROM_DATETIME', 'UNITTO_DATETIME',\n",
    "#        'PARAMETER', 'VALUE', 'RECORDED_DATETIME', 'RECORDED_DATE',\n",
    "#        'RECORDED_TIME', 'VALIDATION_DATETIME'],\n",
    "#       dtype='object')\n"
   ]
  },
  {
   "cell_type": "code",
   "execution_count": 13,
   "metadata": {
    "collapsed": false,
    "jupyter": {
     "outputs_hidden": false
    },
    "pycharm": {
     "name": "#%%\n"
    }
   },
   "outputs": [
    {
     "data": {
      "text/plain": "Index(['STUDY_ID', 'DEPARTMENT', 'UNITFROM_DATETIME', 'UNITTO_DATETIME',\n       'PARAMETER', 'VALUE', 'RECORDED_DATETIME', 'RECORDED_DATE',\n       'RECORDED_TIME', 'VALIDATION_DATETIME'],\n      dtype='object')"
     },
     "execution_count": 13,
     "metadata": {},
     "output_type": "execute_result"
    }
   ],
   "source": [
    "vitalSignsCategDF.columns\n",
    "\n"
   ]
  },
  {
   "cell_type": "code",
   "execution_count": 14,
   "metadata": {
    "collapsed": false,
    "jupyter": {
     "outputs_hidden": false
    },
    "pycharm": {
     "name": "#%%\n"
    }
   },
   "outputs": [
    {
     "data": {
      "text/plain": "array(['Respiratory Support', 'Patient Position', 'RASS', 'CAM-ICU score',\n       'Ventilator Weaning Mode'], dtype=object)"
     },
     "execution_count": 14,
     "metadata": {},
     "output_type": "execute_result"
    }
   ],
   "source": [
    "vitalSignsCategDF['PARAMETER'].unique()"
   ]
  },
  {
   "cell_type": "code",
   "execution_count": 15,
   "metadata": {
    "collapsed": false,
    "jupyter": {
     "outputs_hidden": false
    },
    "pycharm": {
     "name": "#%%\n"
    }
   },
   "outputs": [
    {
     "data": {
      "text/plain": "array(['Nasal Specs', 'Face Mask', 'Air - Not Supported', 'Venturi Mask',\n       'Non-Rebreath Mask', 'Invasive Ventilation', 'Optiflow / Hi Flow',\n       'NIV - CPAP face mask', 'NIV - CPAP full face mask',\n       'NIV - BIPAP face mask', 'NIV - CPAP nasal mask',\n       'NIV - BIPAP nasal mask', 'NIV - BIPAP full face mask',\n       'Trachy Mask'], dtype=object)"
     },
     "execution_count": 15,
     "metadata": {},
     "output_type": "execute_result"
    }
   ],
   "source": [
    "vitalSignsCategDF[vitalSignsCategDF['PARAMETER'] == 'Respiratory Support']['VALUE'].unique()"
   ]
  },
  {
   "cell_type": "code",
   "execution_count": 16,
   "metadata": {
    "collapsed": false,
    "jupyter": {
     "outputs_hidden": false
    },
    "pycharm": {
     "name": "#%%\n"
    }
   },
   "outputs": [
    {
     "data": {
      "text/plain": "array(['Nasal Specs', 'Face Mask', 'Air - Not Supported', 'Supine',\n       'Left', 'Venturi Mask', 'Non-Rebreath Mask',\n       'Invasive Ventilation', 'Paralysed', 'Right', 'Unable to Assess',\n       'Prone', 'Deep Sedation', 'Unrousable', 'Moderate Sedation',\n       'Cardiac Chair Position', 'Optiflow / Hi Flow', 'Drowsy',\n       'Sat in chair', 'Positive', 'Alert and Calm',\n       'NIV - CPAP face mask', 'Restless', 'Asleep',\n       'NIV - CPAP full face mask', 'Negative', 'Light Sedation',\n       'NIV - BIPAP face mask',\n       'Declined Repositioning - Risks explained to patient', 'Agitated',\n       'Combative', 'Very Agitated', 'NIV - CPAP nasal mask',\n       'NIV - BIPAP nasal mask', 'NIV - BIPAP full face mask',\n       'CPAP - Green', 'Trachy Mask', 'Off ward for procedure',\n       'Pressure Support - Blue', 'Trachy Mask - Red',\n       'Speaking Valve - Yellow'], dtype=object)"
     },
     "execution_count": 16,
     "metadata": {},
     "output_type": "execute_result"
    }
   ],
   "source": [
    "vitalSignsCategDF['VALUE'].unique()\n"
   ]
  },
  {
   "cell_type": "code",
   "execution_count": 17,
   "metadata": {
    "collapsed": false,
    "jupyter": {
     "outputs_hidden": false
    },
    "pycharm": {
     "name": "#%%\n"
    }
   },
   "outputs": [],
   "source": [
    "invAirCategoryDict=dict()\n",
    "invAirCategoryDict[0]=set(['Air - Not Supported'])\n",
    "invAirCategoryDict[1]=set(\n",
    "    ['Nasal Specs', 'Face Mask', 'Supine',\n",
    "       'Left', 'Venturi Mask', 'Non-Rebreath Mask',\n",
    "       'Invasive Ventilation', 'Paralysed', 'Right', 'Unable to Assess',\n",
    "       'Prone', 'Deep Sedation', 'Unrousable', 'Moderate Sedation',\n",
    "       'Cardiac Chair Position', 'Optiflow / Hi Flow', 'Drowsy',\n",
    "       'Sat in chair', 'Positive', 'Alert and Calm',\n",
    "       'NIV - CPAP face mask', 'Restless', 'Asleep',\n",
    "       'NIV - CPAP full face mask', 'Negative', 'Light Sedation',\n",
    "       'NIV - BIPAP face mask',\n",
    "       'Declined Repositioning - Risks explained to patient', 'Agitated',\n",
    "       'Combative', 'Very Agitated', 'NIV - CPAP nasal mask',\n",
    "       'NIV - BIPAP nasal mask', 'NIV - BIPAP full face mask',\n",
    "       'CPAP - Green', 'Trachy Mask', 'Off ward for procedure',\n",
    "       'Pressure Support - Blue', 'Trachy Mask - Red',\n",
    "       'Speaking Valve - Yellow'\n",
    "     ]\n",
    "        )\n",
    "\n",
    "airCategoryDict = {v:k for k,lnames in invAirCategoryDict.items() for v in lnames}"
   ]
  },
  {
   "cell_type": "code",
   "execution_count": 18,
   "metadata": {
    "collapsed": false,
    "jupyter": {
     "outputs_hidden": false
    },
    "pycharm": {
     "name": "#%%\n"
    }
   },
   "outputs": [],
   "source": [
    "vitalSignsCategDF = vitalSignsCategDF[vitalSignsCategDF.PARAMETER=='Respiratory Support'][['STUDY_ID','UNITFROM_DATETIME','VALUE']]"
   ]
  },
  {
   "cell_type": "code",
   "execution_count": 19,
   "metadata": {
    "collapsed": false,
    "jupyter": {
     "outputs_hidden": false
    },
    "pycharm": {
     "name": "#%%\n"
    }
   },
   "outputs": [],
   "source": [
    "vitalSignsCategDF[\"AIR_SUPPORT\"] = vitalSignsCategDF[\"VALUE\"].map(airCategoryDict)"
   ]
  },
  {
   "cell_type": "code",
   "execution_count": 19,
   "metadata": {
    "collapsed": false,
    "jupyter": {
     "outputs_hidden": false
    },
    "pycharm": {
     "name": "#%%\n"
    }
   },
   "outputs": [],
   "source": []
  },
  {
   "cell_type": "code",
   "execution_count": 20,
   "metadata": {
    "collapsed": false,
    "jupyter": {
     "outputs_hidden": false
    },
    "pycharm": {
     "name": "#%%\n"
    }
   },
   "outputs": [
    {
     "data": {
      "text/plain": "   AIR_SUPPORT        VALUE\n0            1  Nasal Specs\n1            1  Nasal Specs\n2            1  Nasal Specs\n3            1  Nasal Specs\n4            1  Nasal Specs",
      "text/html": "<div>\n<style scoped>\n    .dataframe tbody tr th:only-of-type {\n        vertical-align: middle;\n    }\n\n    .dataframe tbody tr th {\n        vertical-align: top;\n    }\n\n    .dataframe thead th {\n        text-align: right;\n    }\n</style>\n<table border=\"1\" class=\"dataframe\">\n  <thead>\n    <tr style=\"text-align: right;\">\n      <th></th>\n      <th>AIR_SUPPORT</th>\n      <th>VALUE</th>\n    </tr>\n  </thead>\n  <tbody>\n    <tr>\n      <th>0</th>\n      <td>1</td>\n      <td>Nasal Specs</td>\n    </tr>\n    <tr>\n      <th>1</th>\n      <td>1</td>\n      <td>Nasal Specs</td>\n    </tr>\n    <tr>\n      <th>2</th>\n      <td>1</td>\n      <td>Nasal Specs</td>\n    </tr>\n    <tr>\n      <th>3</th>\n      <td>1</td>\n      <td>Nasal Specs</td>\n    </tr>\n    <tr>\n      <th>4</th>\n      <td>1</td>\n      <td>Nasal Specs</td>\n    </tr>\n  </tbody>\n</table>\n</div>"
     },
     "execution_count": 20,
     "metadata": {},
     "output_type": "execute_result"
    }
   ],
   "source": [
    "vitalSignsCategDF[['AIR_SUPPORT','VALUE']].head()"
   ]
  },
  {
   "cell_type": "code",
   "execution_count": 21,
   "metadata": {
    "collapsed": false,
    "jupyter": {
     "outputs_hidden": false
    },
    "pycharm": {
     "name": "#%%\n"
    }
   },
   "outputs": [
    {
     "data": {
      "text/plain": "STUDY_ID                     object\nUNITFROM_DATETIME    datetime64[ns]\nVALUE                        object\nAIR_SUPPORT                   int64\ndtype: object"
     },
     "execution_count": 21,
     "metadata": {},
     "output_type": "execute_result"
    }
   ],
   "source": [
    "vitalSignsCategDF.dtypes"
   ]
  },
  {
   "cell_type": "code",
   "execution_count": 22,
   "metadata": {
    "collapsed": false,
    "jupyter": {
     "outputs_hidden": false
    },
    "pycharm": {
     "name": "#%%\n"
    }
   },
   "outputs": [
    {
     "data": {
      "text/plain": "            STUDY_ID   UNITFROM_DATETIME        VALUE  AIR_SUPPORT\n0  UHSCOVID_3952cfb9 2020-05-01 16:24:00  Nasal Specs            1\n1  UHSCOVID_3952cfb9 2020-04-23 20:07:00  Nasal Specs            1\n2  UHSCOVID_3952cfb9 2020-04-23 20:07:00  Nasal Specs            1\n3  UHSCOVID_3952cfb9 2020-04-23 20:07:00  Nasal Specs            1\n4  UHSCOVID_3952cfb9 2020-04-23 20:07:00  Nasal Specs            1",
      "text/html": "<div>\n<style scoped>\n    .dataframe tbody tr th:only-of-type {\n        vertical-align: middle;\n    }\n\n    .dataframe tbody tr th {\n        vertical-align: top;\n    }\n\n    .dataframe thead th {\n        text-align: right;\n    }\n</style>\n<table border=\"1\" class=\"dataframe\">\n  <thead>\n    <tr style=\"text-align: right;\">\n      <th></th>\n      <th>STUDY_ID</th>\n      <th>UNITFROM_DATETIME</th>\n      <th>VALUE</th>\n      <th>AIR_SUPPORT</th>\n    </tr>\n  </thead>\n  <tbody>\n    <tr>\n      <th>0</th>\n      <td>UHSCOVID_3952cfb9</td>\n      <td>2020-05-01 16:24:00</td>\n      <td>Nasal Specs</td>\n      <td>1</td>\n    </tr>\n    <tr>\n      <th>1</th>\n      <td>UHSCOVID_3952cfb9</td>\n      <td>2020-04-23 20:07:00</td>\n      <td>Nasal Specs</td>\n      <td>1</td>\n    </tr>\n    <tr>\n      <th>2</th>\n      <td>UHSCOVID_3952cfb9</td>\n      <td>2020-04-23 20:07:00</td>\n      <td>Nasal Specs</td>\n      <td>1</td>\n    </tr>\n    <tr>\n      <th>3</th>\n      <td>UHSCOVID_3952cfb9</td>\n      <td>2020-04-23 20:07:00</td>\n      <td>Nasal Specs</td>\n      <td>1</td>\n    </tr>\n    <tr>\n      <th>4</th>\n      <td>UHSCOVID_3952cfb9</td>\n      <td>2020-04-23 20:07:00</td>\n      <td>Nasal Specs</td>\n      <td>1</td>\n    </tr>\n  </tbody>\n</table>\n</div>"
     },
     "execution_count": 22,
     "metadata": {},
     "output_type": "execute_result"
    }
   ],
   "source": [
    "vitalSignsCategDF.head()"
   ]
  },
  {
   "cell_type": "code",
   "execution_count": 23,
   "metadata": {
    "collapsed": false,
    "jupyter": {
     "outputs_hidden": false
    },
    "pycharm": {
     "name": "#%%\n"
    }
   },
   "outputs": [
    {
     "data": {
      "text/plain": "        AIR_SUPPORT\ncount  54672.000000\nmean       0.790277\nstd        0.407115\nmin        0.000000\n25%        1.000000\n50%        1.000000\n75%        1.000000\nmax        1.000000",
      "text/html": "<div>\n<style scoped>\n    .dataframe tbody tr th:only-of-type {\n        vertical-align: middle;\n    }\n\n    .dataframe tbody tr th {\n        vertical-align: top;\n    }\n\n    .dataframe thead th {\n        text-align: right;\n    }\n</style>\n<table border=\"1\" class=\"dataframe\">\n  <thead>\n    <tr style=\"text-align: right;\">\n      <th></th>\n      <th>AIR_SUPPORT</th>\n    </tr>\n  </thead>\n  <tbody>\n    <tr>\n      <th>count</th>\n      <td>54672.000000</td>\n    </tr>\n    <tr>\n      <th>mean</th>\n      <td>0.790277</td>\n    </tr>\n    <tr>\n      <th>std</th>\n      <td>0.407115</td>\n    </tr>\n    <tr>\n      <th>min</th>\n      <td>0.000000</td>\n    </tr>\n    <tr>\n      <th>25%</th>\n      <td>1.000000</td>\n    </tr>\n    <tr>\n      <th>50%</th>\n      <td>1.000000</td>\n    </tr>\n    <tr>\n      <th>75%</th>\n      <td>1.000000</td>\n    </tr>\n    <tr>\n      <th>max</th>\n      <td>1.000000</td>\n    </tr>\n  </tbody>\n</table>\n</div>"
     },
     "execution_count": 23,
     "metadata": {},
     "output_type": "execute_result"
    }
   ],
   "source": [
    "vitalSignsCategDF.describe()\n"
   ]
  },
  {
   "cell_type": "code",
   "execution_count": 24,
   "metadata": {
    "collapsed": false,
    "jupyter": {
     "outputs_hidden": false
    },
    "pycharm": {
     "name": "#%%\n"
    }
   },
   "outputs": [
    {
     "data": {
      "text/plain": "Index(['STUDY_ID', 'UNITFROM_DATETIME', 'VALUE', 'AIR_SUPPORT'], dtype='object')"
     },
     "execution_count": 24,
     "metadata": {},
     "output_type": "execute_result"
    }
   ],
   "source": [
    "vitalSignsCategDF.columns\n",
    "# Index(['STUDY_ID', 'DEPARTMENT', 'UNITFROM_DATETIME', 'UNITTO_DATETIME',\n",
    "#        'PARAMETER', 'VALUE', 'RECORDED_DATETIME', 'RECORDED_DATE',\n",
    "#        'RECORDED_TIME', 'VALIDATION_DATETIME'],\n",
    "#       dtype='object')\n",
    "#"
   ]
  },
  {
   "cell_type": "code",
   "execution_count": 25,
   "metadata": {
    "collapsed": false,
    "jupyter": {
     "outputs_hidden": false
    },
    "pycharm": {
     "name": "#%%\n"
    }
   },
   "outputs": [],
   "source": [
    "dates2Convert={\n",
    "    'covidDemographics':['']\n",
    "}"
   ]
  },
  {
   "cell_type": "code",
   "execution_count": 26,
   "metadata": {
    "collapsed": false,
    "jupyter": {
     "outputs_hidden": false
    },
    "pycharm": {
     "name": "#%%\n"
    }
   },
   "outputs": [
    {
     "data": {
      "text/plain": "array(['COPD', 'ASTHMA', 'ILD', 'HYPERTENSION', 'THROMBOEMBOLIC',\n       'CARDIAC_D', 'RENAL_D', 'LIVER_D', 'NEURAL_D', 'META_SOLID_TUMOUR',\n       'MAGLINANT_NEO', 'DIABETES', 'OBESITY', 'HIV', 'RHEUMATO_D',\n       'DIMENTIA', 'IMMUNO'], dtype=object)"
     },
     "execution_count": 26,
     "metadata": {},
     "output_type": "execute_result"
    }
   ],
   "source": [
    "comorbidDF['COMORBIDITY'].unique()\n",
    "# array(['COPD', 'ASTHMA', 'ILD', 'HYPERTENSION', 'THROMBOEMBOLIC',\n",
    "#        'CARDIAC_D', 'RENAL_D', 'LIVER_D', 'NEURAL_D', 'META_SOLID_TUMOUR',\n",
    "#        'MAGLINANT_NEO', 'DIABETES', 'OBESITY', 'HIV', 'RHEUMATO_D',\n",
    "#        'DIMENTIA', 'IMMUNO'], dtype=object)\n"
   ]
  },
  {
   "cell_type": "code",
   "execution_count": 27,
   "metadata": {
    "collapsed": false,
    "jupyter": {
     "outputs_hidden": false
    },
    "pycharm": {
     "name": "#%%\n"
    }
   },
   "outputs": [
    {
     "data": {
      "text/plain": "            STUDY_ID COMORBIDITY  STATUS  RENAL_D_PRESENT\n0  UHSCOVID_00989a42        COPD       1            False\n1  UHSCOVID_0520de1c        COPD       1            False\n2  UHSCOVID_0744a86c        COPD       1            False\n3  UHSCOVID_0874d194        COPD       1            False\n4  UHSCOVID_0b401459        COPD       1            False",
      "text/html": "<div>\n<style scoped>\n    .dataframe tbody tr th:only-of-type {\n        vertical-align: middle;\n    }\n\n    .dataframe tbody tr th {\n        vertical-align: top;\n    }\n\n    .dataframe thead th {\n        text-align: right;\n    }\n</style>\n<table border=\"1\" class=\"dataframe\">\n  <thead>\n    <tr style=\"text-align: right;\">\n      <th></th>\n      <th>STUDY_ID</th>\n      <th>COMORBIDITY</th>\n      <th>STATUS</th>\n      <th>RENAL_D_PRESENT</th>\n    </tr>\n  </thead>\n  <tbody>\n    <tr>\n      <th>0</th>\n      <td>UHSCOVID_00989a42</td>\n      <td>COPD</td>\n      <td>1</td>\n      <td>False</td>\n    </tr>\n    <tr>\n      <th>1</th>\n      <td>UHSCOVID_0520de1c</td>\n      <td>COPD</td>\n      <td>1</td>\n      <td>False</td>\n    </tr>\n    <tr>\n      <th>2</th>\n      <td>UHSCOVID_0744a86c</td>\n      <td>COPD</td>\n      <td>1</td>\n      <td>False</td>\n    </tr>\n    <tr>\n      <th>3</th>\n      <td>UHSCOVID_0874d194</td>\n      <td>COPD</td>\n      <td>1</td>\n      <td>False</td>\n    </tr>\n    <tr>\n      <th>4</th>\n      <td>UHSCOVID_0b401459</td>\n      <td>COPD</td>\n      <td>1</td>\n      <td>False</td>\n    </tr>\n  </tbody>\n</table>\n</div>"
     },
     "execution_count": 27,
     "metadata": {},
     "output_type": "execute_result"
    }
   ],
   "source": [
    "comorbidDF['RENAL_D_PRESENT'] = (comorbidDF['COMORBIDITY'] == 'RENAL_D')\n",
    "comorbidDF.head()"
   ]
  },
  {
   "cell_type": "code",
   "execution_count": 28,
   "metadata": {
    "collapsed": false,
    "jupyter": {
     "outputs_hidden": false
    },
    "pycharm": {
     "name": "#%%\n"
    }
   },
   "outputs": [
    {
     "data": {
      "text/plain": "array([False,  True])"
     },
     "execution_count": 28,
     "metadata": {},
     "output_type": "execute_result"
    }
   ],
   "source": [
    "comorbidDF['RENAL_D_PRESENT'].unique()\n"
   ]
  },
  {
   "cell_type": "code",
   "execution_count": 29,
   "metadata": {
    "collapsed": false,
    "jupyter": {
     "outputs_hidden": false
    },
    "pycharm": {
     "name": "#%%\n"
    }
   },
   "outputs": [
    {
     "data": {
      "text/plain": "                   RENAL_D_PRESENT\nSTUDY_ID                          \nUHSCOVID_00989a42            False\nUHSCOVID_00ac1e32            False\nUHSCOVID_00cb7bdd            False\nUHSCOVID_01add35c            False\nUHSCOVID_01f7838d             True",
      "text/html": "<div>\n<style scoped>\n    .dataframe tbody tr th:only-of-type {\n        vertical-align: middle;\n    }\n\n    .dataframe tbody tr th {\n        vertical-align: top;\n    }\n\n    .dataframe thead th {\n        text-align: right;\n    }\n</style>\n<table border=\"1\" class=\"dataframe\">\n  <thead>\n    <tr style=\"text-align: right;\">\n      <th></th>\n      <th>RENAL_D_PRESENT</th>\n    </tr>\n    <tr>\n      <th>STUDY_ID</th>\n      <th></th>\n    </tr>\n  </thead>\n  <tbody>\n    <tr>\n      <th>UHSCOVID_00989a42</th>\n      <td>False</td>\n    </tr>\n    <tr>\n      <th>UHSCOVID_00ac1e32</th>\n      <td>False</td>\n    </tr>\n    <tr>\n      <th>UHSCOVID_00cb7bdd</th>\n      <td>False</td>\n    </tr>\n    <tr>\n      <th>UHSCOVID_01add35c</th>\n      <td>False</td>\n    </tr>\n    <tr>\n      <th>UHSCOVID_01f7838d</th>\n      <td>True</td>\n    </tr>\n  </tbody>\n</table>\n</div>"
     },
     "execution_count": 29,
     "metadata": {},
     "output_type": "execute_result"
    }
   ],
   "source": [
    "comorbidGrpDF = comorbidDF.groupby('STUDY_ID').agg(RENAL_D_PRESENT=('RENAL_D_PRESENT','any'))\n",
    "comorbidGrpDF.head()\n",
    "\n"
   ]
  },
  {
   "cell_type": "code",
   "execution_count": 30,
   "metadata": {
    "collapsed": false,
    "jupyter": {
     "outputs_hidden": false
    },
    "pycharm": {
     "name": "#%%\n"
    }
   },
   "outputs": [],
   "source": [
    "comorbidGrpDF.describe()\n",
    "\n",
    "dfRes:pd.DataFrame = pd.merge(vitalSignsCategDF, comorbidGrpDF, on='STUDY_ID', how='inner')"
   ]
  },
  {
   "cell_type": "code",
   "execution_count": 31,
   "metadata": {
    "collapsed": false,
    "jupyter": {
     "outputs_hidden": false
    },
    "pycharm": {
     "name": "#%%\n"
    }
   },
   "outputs": [
    {
     "data": {
      "text/plain": "Index(['STUDY_ID', 'UNITFROM_DATETIME', 'VALUE', 'AIR_SUPPORT',\n       'RENAL_D_PRESENT'],\n      dtype='object')"
     },
     "execution_count": 31,
     "metadata": {},
     "output_type": "execute_result"
    }
   ],
   "source": [
    "dfRes.columns"
   ]
  },
  {
   "cell_type": "code",
   "execution_count": 32,
   "metadata": {
    "collapsed": false,
    "jupyter": {
     "outputs_hidden": false
    },
    "pycharm": {
     "name": "#%%\n"
    }
   },
   "outputs": [
    {
     "data": {
      "text/plain": "            STUDY_ID   UNITFROM_DATETIME        VALUE  AIR_SUPPORT  \\\n0  UHSCOVID_3952cfb9 2020-05-01 16:24:00  Nasal Specs            1   \n1  UHSCOVID_3952cfb9 2020-04-23 20:07:00  Nasal Specs            1   \n2  UHSCOVID_3952cfb9 2020-04-23 20:07:00  Nasal Specs            1   \n3  UHSCOVID_3952cfb9 2020-04-23 20:07:00  Nasal Specs            1   \n4  UHSCOVID_3952cfb9 2020-04-23 20:07:00  Nasal Specs            1   \n\n   RENAL_D_PRESENT  \n0            False  \n1            False  \n2            False  \n3            False  \n4            False  ",
      "text/html": "<div>\n<style scoped>\n    .dataframe tbody tr th:only-of-type {\n        vertical-align: middle;\n    }\n\n    .dataframe tbody tr th {\n        vertical-align: top;\n    }\n\n    .dataframe thead th {\n        text-align: right;\n    }\n</style>\n<table border=\"1\" class=\"dataframe\">\n  <thead>\n    <tr style=\"text-align: right;\">\n      <th></th>\n      <th>STUDY_ID</th>\n      <th>UNITFROM_DATETIME</th>\n      <th>VALUE</th>\n      <th>AIR_SUPPORT</th>\n      <th>RENAL_D_PRESENT</th>\n    </tr>\n  </thead>\n  <tbody>\n    <tr>\n      <th>0</th>\n      <td>UHSCOVID_3952cfb9</td>\n      <td>2020-05-01 16:24:00</td>\n      <td>Nasal Specs</td>\n      <td>1</td>\n      <td>False</td>\n    </tr>\n    <tr>\n      <th>1</th>\n      <td>UHSCOVID_3952cfb9</td>\n      <td>2020-04-23 20:07:00</td>\n      <td>Nasal Specs</td>\n      <td>1</td>\n      <td>False</td>\n    </tr>\n    <tr>\n      <th>2</th>\n      <td>UHSCOVID_3952cfb9</td>\n      <td>2020-04-23 20:07:00</td>\n      <td>Nasal Specs</td>\n      <td>1</td>\n      <td>False</td>\n    </tr>\n    <tr>\n      <th>3</th>\n      <td>UHSCOVID_3952cfb9</td>\n      <td>2020-04-23 20:07:00</td>\n      <td>Nasal Specs</td>\n      <td>1</td>\n      <td>False</td>\n    </tr>\n    <tr>\n      <th>4</th>\n      <td>UHSCOVID_3952cfb9</td>\n      <td>2020-04-23 20:07:00</td>\n      <td>Nasal Specs</td>\n      <td>1</td>\n      <td>False</td>\n    </tr>\n  </tbody>\n</table>\n</div>"
     },
     "execution_count": 32,
     "metadata": {},
     "output_type": "execute_result"
    }
   ],
   "source": [
    "dfRes.head()"
   ]
  },
  {
   "cell_type": "markdown",
   "metadata": {
    "pycharm": {
     "name": "#%% md\n"
    }
   },
   "source": [
    "# Association between Renal Disease and Air Ventilation Usage"
   ]
  },
  {
   "cell_type": "code",
   "execution_count": 33,
   "metadata": {
    "collapsed": false,
    "jupyter": {
     "outputs_hidden": false
    },
    "pycharm": {
     "name": "#%%\n"
    }
   },
   "outputs": [],
   "source": [
    " # ['STUDY_ID', 'UNITFROM_DATETIME', 'VALUE', 'AIR_SUPPORT',\n",
    " #       'RENAL_D_PRESENT']\n",
    "\n",
    "dfRes = dfRes.filter(['STUDY_ID', 'VALUE', 'AIR_SUPPORT', 'RENAL_D_PRESENT'] ,axis=1)"
   ]
  },
  {
   "cell_type": "code",
   "execution_count": 34,
   "metadata": {
    "collapsed": false,
    "jupyter": {
     "outputs_hidden": false
    },
    "pycharm": {
     "name": "#%%\n"
    }
   },
   "outputs": [],
   "source": [
    "dfRes['AIR_SUPPORT'] = dfRes['AIR_SUPPORT']==1"
   ]
  },
  {
   "cell_type": "code",
   "execution_count": 35,
   "metadata": {
    "collapsed": false,
    "jupyter": {
     "outputs_hidden": false
    },
    "pycharm": {
     "name": "#%%\n"
    }
   },
   "outputs": [
    {
     "data": {
      "text/plain": "            STUDY_ID        VALUE  AIR_SUPPORT  RENAL_D_PRESENT\n0  UHSCOVID_3952cfb9  Nasal Specs         True            False\n1  UHSCOVID_3952cfb9  Nasal Specs         True            False\n2  UHSCOVID_3952cfb9  Nasal Specs         True            False\n3  UHSCOVID_3952cfb9  Nasal Specs         True            False\n4  UHSCOVID_3952cfb9  Nasal Specs         True            False",
      "text/html": "<div>\n<style scoped>\n    .dataframe tbody tr th:only-of-type {\n        vertical-align: middle;\n    }\n\n    .dataframe tbody tr th {\n        vertical-align: top;\n    }\n\n    .dataframe thead th {\n        text-align: right;\n    }\n</style>\n<table border=\"1\" class=\"dataframe\">\n  <thead>\n    <tr style=\"text-align: right;\">\n      <th></th>\n      <th>STUDY_ID</th>\n      <th>VALUE</th>\n      <th>AIR_SUPPORT</th>\n      <th>RENAL_D_PRESENT</th>\n    </tr>\n  </thead>\n  <tbody>\n    <tr>\n      <th>0</th>\n      <td>UHSCOVID_3952cfb9</td>\n      <td>Nasal Specs</td>\n      <td>True</td>\n      <td>False</td>\n    </tr>\n    <tr>\n      <th>1</th>\n      <td>UHSCOVID_3952cfb9</td>\n      <td>Nasal Specs</td>\n      <td>True</td>\n      <td>False</td>\n    </tr>\n    <tr>\n      <th>2</th>\n      <td>UHSCOVID_3952cfb9</td>\n      <td>Nasal Specs</td>\n      <td>True</td>\n      <td>False</td>\n    </tr>\n    <tr>\n      <th>3</th>\n      <td>UHSCOVID_3952cfb9</td>\n      <td>Nasal Specs</td>\n      <td>True</td>\n      <td>False</td>\n    </tr>\n    <tr>\n      <th>4</th>\n      <td>UHSCOVID_3952cfb9</td>\n      <td>Nasal Specs</td>\n      <td>True</td>\n      <td>False</td>\n    </tr>\n  </tbody>\n</table>\n</div>"
     },
     "execution_count": 35,
     "metadata": {},
     "output_type": "execute_result"
    }
   ],
   "source": [
    "dfRes.head()"
   ]
  },
  {
   "cell_type": "markdown",
   "metadata": {
    "pycharm": {
     "name": "#%% md\n"
    }
   },
   "source": [
    "## Power of evidence\n"
   ]
  },
  {
   "cell_type": "code",
   "execution_count": 36,
   "metadata": {
    "collapsed": false,
    "jupyter": {
     "outputs_hidden": false
    },
    "pycharm": {
     "name": "#%%\n"
    }
   },
   "outputs": [],
   "source": [
    "dfRes3 = dfRes.groupby('STUDY_ID').agg(AIR_SUPPORT=('AIR_SUPPORT','any'),RENAL_D_PRESENT=('RENAL_D_PRESENT','any'))\n"
   ]
  },
  {
   "cell_type": "code",
   "execution_count": 37,
   "metadata": {
    "collapsed": false,
    "jupyter": {
     "outputs_hidden": false
    },
    "pycharm": {
     "name": "#%%\n"
    }
   },
   "outputs": [
    {
     "data": {
      "text/plain": "                   AIR_SUPPORT  RENAL_D_PRESENT\nSTUDY_ID                                       \nUHSCOVID_00989a42         True            False\nUHSCOVID_00ac1e32         True            False\nUHSCOVID_00cb7bdd         True            False\nUHSCOVID_01f7838d         True             True\nUHSCOVID_025d562e         True            False",
      "text/html": "<div>\n<style scoped>\n    .dataframe tbody tr th:only-of-type {\n        vertical-align: middle;\n    }\n\n    .dataframe tbody tr th {\n        vertical-align: top;\n    }\n\n    .dataframe thead th {\n        text-align: right;\n    }\n</style>\n<table border=\"1\" class=\"dataframe\">\n  <thead>\n    <tr style=\"text-align: right;\">\n      <th></th>\n      <th>AIR_SUPPORT</th>\n      <th>RENAL_D_PRESENT</th>\n    </tr>\n    <tr>\n      <th>STUDY_ID</th>\n      <th></th>\n      <th></th>\n    </tr>\n  </thead>\n  <tbody>\n    <tr>\n      <th>UHSCOVID_00989a42</th>\n      <td>True</td>\n      <td>False</td>\n    </tr>\n    <tr>\n      <th>UHSCOVID_00ac1e32</th>\n      <td>True</td>\n      <td>False</td>\n    </tr>\n    <tr>\n      <th>UHSCOVID_00cb7bdd</th>\n      <td>True</td>\n      <td>False</td>\n    </tr>\n    <tr>\n      <th>UHSCOVID_01f7838d</th>\n      <td>True</td>\n      <td>True</td>\n    </tr>\n    <tr>\n      <th>UHSCOVID_025d562e</th>\n      <td>True</td>\n      <td>False</td>\n    </tr>\n  </tbody>\n</table>\n</div>"
     },
     "execution_count": 37,
     "metadata": {},
     "output_type": "execute_result"
    }
   ],
   "source": [
    "dfRes3.head()"
   ]
  },
  {
   "cell_type": "code",
   "execution_count": 38,
   "metadata": {
    "collapsed": false,
    "jupyter": {
     "outputs_hidden": false
    },
    "pycharm": {
     "name": "#%%\n"
    }
   },
   "outputs": [
    {
     "data": {
      "text/plain": "484"
     },
     "execution_count": 38,
     "metadata": {},
     "output_type": "execute_result"
    }
   ],
   "source": [
    "len(dfRes3)"
   ]
  },
  {
   "cell_type": "code",
   "execution_count": 39,
   "metadata": {
    "collapsed": false,
    "jupyter": {
     "outputs_hidden": false
    },
    "pycharm": {
     "name": "#%%\n"
    }
   },
   "outputs": [
    {
     "data": {
      "text/plain": "RENAL_D_PRESENT  False  True \nAIR_SUPPORT                  \nFalse               51     32\nTrue               270    131",
      "text/html": "<div>\n<style scoped>\n    .dataframe tbody tr th:only-of-type {\n        vertical-align: middle;\n    }\n\n    .dataframe tbody tr th {\n        vertical-align: top;\n    }\n\n    .dataframe thead th {\n        text-align: right;\n    }\n</style>\n<table border=\"1\" class=\"dataframe\">\n  <thead>\n    <tr style=\"text-align: right;\">\n      <th>RENAL_D_PRESENT</th>\n      <th>False</th>\n      <th>True</th>\n    </tr>\n    <tr>\n      <th>AIR_SUPPORT</th>\n      <th></th>\n      <th></th>\n    </tr>\n  </thead>\n  <tbody>\n    <tr>\n      <th>False</th>\n      <td>51</td>\n      <td>32</td>\n    </tr>\n    <tr>\n      <th>True</th>\n      <td>270</td>\n      <td>131</td>\n    </tr>\n  </tbody>\n</table>\n</div>"
     },
     "execution_count": 39,
     "metadata": {},
     "output_type": "execute_result"
    }
   ],
   "source": [
    "crosstabRenalAirSupport = pd.crosstab(dfRes3['AIR_SUPPORT'],dfRes3['RENAL_D_PRESENT'])\n",
    "crosstabRenalAirSupport"
   ]
  },
  {
   "cell_type": "code",
   "execution_count": 40,
   "metadata": {},
   "outputs": [
    {
     "data": {
      "text/plain": "RENAL_D_PRESENT  False  True  All\nAIR_SUPPORT                      \nFalse               51    32   83\nTrue               270   131  401\nAll                321   163  484",
      "text/html": "<div>\n<style scoped>\n    .dataframe tbody tr th:only-of-type {\n        vertical-align: middle;\n    }\n\n    .dataframe tbody tr th {\n        vertical-align: top;\n    }\n\n    .dataframe thead th {\n        text-align: right;\n    }\n</style>\n<table border=\"1\" class=\"dataframe\">\n  <thead>\n    <tr style=\"text-align: right;\">\n      <th>RENAL_D_PRESENT</th>\n      <th>False</th>\n      <th>True</th>\n      <th>All</th>\n    </tr>\n    <tr>\n      <th>AIR_SUPPORT</th>\n      <th></th>\n      <th></th>\n      <th></th>\n    </tr>\n  </thead>\n  <tbody>\n    <tr>\n      <th>False</th>\n      <td>51</td>\n      <td>32</td>\n      <td>83</td>\n    </tr>\n    <tr>\n      <th>True</th>\n      <td>270</td>\n      <td>131</td>\n      <td>401</td>\n    </tr>\n    <tr>\n      <th>All</th>\n      <td>321</td>\n      <td>163</td>\n      <td>484</td>\n    </tr>\n  </tbody>\n</table>\n</div>"
     },
     "execution_count": 40,
     "metadata": {},
     "output_type": "execute_result"
    }
   ],
   "source": [
    "crosstabRenalAirSupport2 = pd.crosstab(dfRes3['AIR_SUPPORT'],dfRes3['RENAL_D_PRESENT'],margins=True)\n",
    "crosstabRenalAirSupport2"
   ]
  },
  {
   "cell_type": "code",
   "execution_count": 41,
   "metadata": {
    "collapsed": false,
    "jupyter": {
     "outputs_hidden": false
    },
    "pycharm": {
     "name": "#%%\n"
    }
   },
   "outputs": [
    {
     "data": {
      "text/plain": "RENAL_D_PRESENT     False      True       All\nAIR_SUPPORT                                  \nFalse            0.105372  0.066116  0.171488\nTrue             0.557851  0.270661  0.828512\nAll              0.663223  0.336777  1.000000",
      "text/html": "<div>\n<style scoped>\n    .dataframe tbody tr th:only-of-type {\n        vertical-align: middle;\n    }\n\n    .dataframe tbody tr th {\n        vertical-align: top;\n    }\n\n    .dataframe thead th {\n        text-align: right;\n    }\n</style>\n<table border=\"1\" class=\"dataframe\">\n  <thead>\n    <tr style=\"text-align: right;\">\n      <th>RENAL_D_PRESENT</th>\n      <th>False</th>\n      <th>True</th>\n      <th>All</th>\n    </tr>\n    <tr>\n      <th>AIR_SUPPORT</th>\n      <th></th>\n      <th></th>\n      <th></th>\n    </tr>\n  </thead>\n  <tbody>\n    <tr>\n      <th>False</th>\n      <td>0.105372</td>\n      <td>0.066116</td>\n      <td>0.171488</td>\n    </tr>\n    <tr>\n      <th>True</th>\n      <td>0.557851</td>\n      <td>0.270661</td>\n      <td>0.828512</td>\n    </tr>\n    <tr>\n      <th>All</th>\n      <td>0.663223</td>\n      <td>0.336777</td>\n      <td>1.000000</td>\n    </tr>\n  </tbody>\n</table>\n</div>"
     },
     "execution_count": 41,
     "metadata": {},
     "output_type": "execute_result"
    }
   ],
   "source": [
    "crosstabRenalAirSupportNorm = pd.crosstab(dfRes3['AIR_SUPPORT'],dfRes3['RENAL_D_PRESENT'],normalize=True,margins=True)\n",
    "crosstabRenalAirSupportNorm\n"
   ]
  },
  {
   "cell_type": "markdown",
   "metadata": {},
   "source": [
    "## Chi2 test on significance of association between renal disease and air support"
   ]
  },
  {
   "cell_type": "code",
   "execution_count": 42,
   "metadata": {
    "collapsed": false,
    "jupyter": {
     "outputs_hidden": false
    },
    "pycharm": {
     "name": "#%%\n"
    }
   },
   "outputs": [
    {
     "name": "stdout",
     "output_type": "stream",
     "text": [
      "stat = 0.8193526263991235\n",
      "p = 0.3653695106500121\n",
      "dof = 1\n",
      "expected = [[ 55.04752066  27.95247934]\n",
      " [265.95247934 135.04752066]]\n"
     ]
    },
    {
     "data": {
      "text/plain": "<IPython.core.display.Markdown object>",
      "text/markdown": "Since critical value for Chi2 test p=0.4>0.05 we cannot reject hypothesis that the presence of a renal disease and air support are independent."
     },
     "execution_count": 42,
     "metadata": {},
     "output_type": "execute_result"
    }
   ],
   "source": [
    "from scipy.stats import chi2_contingency\n",
    "\n",
    "# defining the table\n",
    "# data = [crosstabRenalDeath.loc['False',:].values().reshape(1,-1), [234, 242, 232]]\n",
    "stat, p, dof, expected = chi2_contingency(crosstabRenalAirSupport)\n",
    "print(f\"stat = {stat}\")\n",
    "print(f\"p = {p}\")\n",
    "print(f\"dof = {dof}\")\n",
    "print(f\"expected = {expected}\")\n",
    "md(f\"Since critical value for Chi2 test p={p:.1g}>0.05 we cannot reject hypothesis that the presence of a renal disease and air support are independent.\")"
   ]
  },
  {
   "cell_type": "code",
   "execution_count": 43,
   "metadata": {
    "collapsed": false,
    "jupyter": {
     "outputs_hidden": false
    },
    "pycharm": {
     "name": "#%%\n"
    }
   },
   "outputs": [
    {
     "name": "stdout",
     "output_type": "stream",
     "text": [
      "PRT=0.3367768595041322 PRF = 0.6632231404958677 \n",
      "PDTGRT=0.803680981595092 PDFGRT=0.19631901840490795\n",
      "WoERFGD=1.0957899369224\n",
      "PRT=0.3367768595041322 PRF = 0.6632231404958677 \n",
      "PDTGRF=0.8411214953271028 PDFGRT=0.15887850467289721\n",
      "WoERTGD=0.8473347880299252\n"
     ]
    }
   ],
   "source": [
    "P_R_T = crosstabRenalAirSupportNorm.loc['All',True]\n",
    "\n",
    "P_D_T = crosstabRenalAirSupportNorm.loc[True,'All']\n",
    "P_R_F = crosstabRenalAirSupportNorm.loc['All',False]\n",
    "P_D_F = crosstabRenalAirSupportNorm.loc[False,'All']\n",
    "PDTGRT = crosstabRenalAirSupportNorm.loc[True,True]/P_R_T\n",
    "PDFGRT = 1-PDTGRT\n",
    "# ********************************\n",
    "PDFGRF = crosstabRenalAirSupportNorm.loc[False,False]/P_R_F\n",
    "PDTGRF = 1-PDFGRF\n",
    "# **********\n",
    "PRTGDT =  crosstabRenalAirSupportNorm.loc[True,True]/P_D_T\n",
    "PRFGDT = 1-PRTGDT\n",
    "PRFGDF = crosstabRenalAirSupportNorm.loc[False,False]/P_D_F\n",
    "PRTGDF = 1-PRFGDF\n",
    "WoERTGD = PRTGDT/PRTGDF\n",
    "WoERFGD = PRFGDT/PRFGDF\n",
    "# ********************************\n",
    "print(f\"PRT={P_R_T} PRF = {P_R_F} \")\n",
    "print(f\"PDTGRT={PDTGRT} PDFGRT={PDFGRT}\")\n",
    "print(f\"WoERFGD={WoERFGD}\")\n",
    "# ********************************\n",
    "print(f\"PRT={P_R_T} PRF = {P_R_F} \")\n",
    "print(f\"PDTGRF={PDTGRF} PDFGRT={PDFGRF}\")\n",
    "print(f\"WoERTGD={WoERTGD}\")"
   ]
  },
  {
   "cell_type": "markdown",
   "metadata": {},
   "source": [
    "# Value of evidence (WoE)\n",
    "The more is WoE different from 0 the more informative is renal disease for prediction of death, while positive value means support for selected result and negative value means the support of other result by evidence.\n",
    "\n",
    "$$WoE(Evidence|Target) =100*log_{10}\\Bigg  (\\frac{P(Evidence|Target)}{P(Evidence|\\neg Target)}\\Bigg)$$\n",
    "\n",
    "$$WoE(\\neg Evidence|Target) =100*log_{10}\\Bigg(\\frac{P(\\neg Evidence|Target)}{P(\\neg Evidence|\\neg Target)}\\Bigg)$$\n",
    "\n",
    "$$WoE \\in (-\\infty,\\infty )$$\n"
   ]
  },
  {
   "cell_type": "code",
   "execution_count": 48,
   "metadata": {
    "collapsed": false,
    "jupyter": {
     "outputs_hidden": false
    },
    "pycharm": {
     "name": "#%%\n"
    }
   },
   "outputs": [
    {
     "data": {
      "text/plain": "<IPython.core.display.Markdown object>",
      "text/markdown": "Weight of Evidence, WoE(Renal_disease=Absent|Air support) = 3.9727307816942594"
     },
     "execution_count": 48,
     "metadata": {},
     "output_type": "execute_result"
    }
   ],
   "source": [
    "md(f\"Weight of Evidence, WoE(Renal_disease=Absent|Air support) = {100*np.log10(WoERFGD)}\")"
   ]
  },
  {
   "cell_type": "code",
   "execution_count": 49,
   "outputs": [
    {
     "data": {
      "text/plain": "<IPython.core.display.Markdown object>",
      "text/markdown": "Weight of Evidence, WoE(Renal_disease=Present|Air support) = -7.1944962908250085"
     },
     "execution_count": 49,
     "metadata": {},
     "output_type": "execute_result"
    }
   ],
   "source": [
    "md(f\"Weight of Evidence, WoE(Renal_disease=Present|Air support) = {100*np.log10(WoERTGD)}\")\n"
   ],
   "metadata": {
    "collapsed": false,
    "pycharm": {
     "name": "#%%\n"
    }
   }
  },
  {
   "cell_type": "markdown",
   "metadata": {
    "pycharm": {
     "name": "#%% md\n"
    }
   },
   "source": [
    "Values of WoE are not very different from 0. This indicate that there is probably no association between renal disease\n",
    "and  air ventilation.\n",
    "\n"
   ]
  },
  {
   "cell_type": "code",
   "execution_count": null,
   "metadata": {
    "collapsed": false,
    "jupyter": {
     "outputs_hidden": false
    },
    "pycharm": {
     "name": "#%%\n"
    }
   },
   "outputs": [],
   "source": [
    "\n"
   ]
  },
  {
   "cell_type": "code",
   "execution_count": null,
   "outputs": [],
   "source": [],
   "metadata": {
    "collapsed": false,
    "pycharm": {
     "name": "#%%\n"
    }
   }
  },
  {
   "cell_type": "code",
   "execution_count": null,
   "outputs": [],
   "source": [],
   "metadata": {
    "collapsed": false,
    "pycharm": {
     "name": "#%%\n"
    }
   }
  },
  {
   "cell_type": "code",
   "execution_count": null,
   "outputs": [],
   "source": [],
   "metadata": {
    "collapsed": false,
    "pycharm": {
     "name": "#%%\n"
    }
   }
  },
  {
   "cell_type": "code",
   "execution_count": null,
   "outputs": [],
   "source": [],
   "metadata": {
    "collapsed": false,
    "pycharm": {
     "name": "#%%\n"
    }
   }
  },
  {
   "cell_type": "code",
   "execution_count": null,
   "outputs": [],
   "source": [],
   "metadata": {
    "collapsed": false,
    "pycharm": {
     "name": "#%%\n"
    }
   }
  },
  {
   "cell_type": "code",
   "execution_count": null,
   "metadata": {},
   "outputs": [],
   "source": []
  },
  {
   "cell_type": "code",
   "execution_count": null,
   "metadata": {},
   "outputs": [],
   "source": []
  },
  {
   "cell_type": "code",
   "execution_count": null,
   "metadata": {},
   "outputs": [],
   "source": []
  },
  {
   "cell_type": "code",
   "execution_count": null,
   "metadata": {},
   "outputs": [],
   "source": []
  },
  {
   "cell_type": "code",
   "execution_count": null,
   "metadata": {},
   "outputs": [],
   "source": []
  }
 ],
 "metadata": {
  "kernelspec": {
   "display_name": "PyCharm (BN4Nephrology)",
   "language": "python",
   "name": "pycharm-b7c5592"
  },
  "language_info": {
   "codemirror_mode": {
    "name": "ipython",
    "version": 3
   },
   "file_extension": ".py",
   "mimetype": "text/x-python",
   "name": "python",
   "nbconvert_exporter": "python",
   "pygments_lexer": "ipython3",
   "version": "3.7.6"
  }
 },
 "nbformat": 4,
 "nbformat_minor": 4
}