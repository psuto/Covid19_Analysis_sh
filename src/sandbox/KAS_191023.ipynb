{
 "cells": [
  {
   "cell_type": "markdown",
   "metadata": {},
   "source": [
    "# a)"
   ]
  },
  {
   "cell_type": "markdown",
   "metadata": {},
   "source": [
    "Treba vediet ze 1dm^3=1l a 1000ml=1l  a 1dm3=1000ml a $1 ml=0.1 dm^3$\n",
    "\n",
    "molarna hmotnost M=80,0426 g/mol\n",
    "Objem roztoku v ml V0 = 250ml roztoku\n",
    "Objem roztoku v ml $V = 0,25dm^3$ roztoku\n",
    "dusicnan ammonny m = 1,5g\n",
    "pocet molekul v hmote latky $m$ mnozsve $$n=m/M$$\n",
    "$$c=n/V=m/(M*V)$$\n",
    "Meno v premmenner v hranatych zatvorkach znamen jednotku premennej.\n",
    "$$[c]=mol/dm^3$$\n",
    "\n",
    "\n",
    "\n",
    "V_dm3 = 0.25\n",
    "m=1.5\n",
    "M=80\n",
    "\n"
   ]
  },
  {
   "cell_type": "code",
   "execution_count": 23,
   "metadata": {},
   "outputs": [],
   "source": [
    "c = m/(M*V_dm3)"
   ]
  },
  {
   "cell_type": "code",
   "execution_count": 25,
   "metadata": {},
   "outputs": [
    {
     "name": "stdout",
     "output_type": "stream",
     "text": [
      "Koncentracia latkoveho mnozstva c = 0.075mol/dm^3\n"
     ]
    }
   ],
   "source": [
    "print(f\"Koncentracia latkoveho mnozstva c = {c}mol/dm^3\")"
   ]
  },
  {
   "cell_type": "markdown",
   "metadata": {},
   "source": [
    "# b)"
   ]
  },
  {
   "cell_type": "markdown",
   "metadata": {},
   "source": [
    "## Roztok neznameho mnoztva"
   ]
  },
  {
   "cell_type": "code",
   "execution_count": 28,
   "metadata": {},
   "outputs": [],
   "source": [
    "\n",
    "c1=0.7"
   ]
  },
  {
   "cell_type": "markdown",
   "metadata": {},
   "source": [
    "V1=?"
   ]
  },
  {
   "cell_type": "markdown",
   "metadata": {},
   "source": [
    "## Pozadovany Vysledny roztok"
   ]
  },
  {
   "cell_type": "code",
   "execution_count": 30,
   "metadata": {},
   "outputs": [],
   "source": [
    "V2_dm3=0.5"
   ]
  },
  {
   "cell_type": "code",
   "execution_count": 32,
   "metadata": {},
   "outputs": [],
   "source": [
    "c2=0.01"
   ]
  },
  {
   "cell_type": "markdown",
   "metadata": {},
   "source": [
    "Pocet latky vo vyslednom roztoku vypocitane zo vzorca $c_2=n/V_2dm^3$ ako $n=V_2dm^3*c_2$"
   ]
  },
  {
   "cell_type": "code",
   "execution_count": 44,
   "metadata": {},
   "outputs": [
    {
     "data": {
      "text/latex": [
       "$$n = 0.005\\ mol$$"
      ],
      "text/plain": [
       "<IPython.core.display.Math object>"
      ]
     },
     "metadata": {},
     "output_type": "display_data"
    }
   ],
   "source": [
    "n=c2*V2_dm3\n",
    "display(Math(f'n = {n}\\\\ mol'))"
   ]
  },
  {
   "cell_type": "markdown",
   "metadata": {},
   "source": [
    "Take iste mnozsvo latky musi byt v roztoku na vytvorenie vyslednho roztoku s $c_2$.\n",
    "To znamena ze $c_1=n/V1$. Kedze pozname $c_1$ a predtym sme vypocitali $n$ vypocitame nezname $V_1$ ako\n",
    "$$V_1 = n/c_1$$"
   ]
  },
  {
   "cell_type": "code",
   "execution_count": 58,
   "metadata": {},
   "outputs": [
    {
     "data": {
      "text/latex": [
       "$$Pozadovane\\ mnozstvo\\ roztoku\\ s\\ c_2\\ je\\ V_1 = 0.007\\ dm^3$$"
      ],
      "text/plain": [
       "<IPython.core.display.Math object>"
      ]
     },
     "metadata": {},
     "output_type": "display_data"
    }
   ],
   "source": [
    "V1=n/c1\n",
    "display(Math(f'Pozadovane\\\\ mnozstvo\\\\ roztoku\\\\ s\\\\ c_2\\\\ je\\\\ V_1 = {V1:0.4f}\\\\ dm^3')) "
   ]
  },
  {
   "cell_type": "code",
   "execution_count": 61,
   "metadata": {},
   "outputs": [
    {
     "data": {
      "text/latex": [
       "$$Co\\ je\\ 7.1429\\ ml\\ alebo\\ 0.0071\\ dm^3.$$"
      ],
      "text/plain": [
       "<IPython.core.display.Math object>"
      ]
     },
     "metadata": {},
     "output_type": "display_data"
    }
   ],
   "source": [
    "display(Math(f'Co\\\\ je\\\\ {V1*1000:0.4f}\\\\ ml\\\\ alebo\\\\ {V1:0.4f}\\\\ dm^3.'))"
   ]
  },
  {
   "cell_type": "markdown",
   "metadata": {},
   "source": [
    "# c)"
   ]
  },
  {
   "cell_type": "code",
   "execution_count": 97,
   "metadata": {},
   "outputs": [],
   "source": [
    "V1=0.25\n",
    "c1=0.4\n",
    "V2=0.1\n",
    "c2=0.2"
   ]
  },
  {
   "cell_type": "markdown",
   "metadata": {},
   "source": [
    "**1-vy roztok:** Objemy skonvertovane na $dm^3$ je  $V_1=0.25\\ dm^3$ a $c_1=0.4\\ mol.dm^{-3}$."
   ]
  },
  {
   "cell_type": "markdown",
   "metadata": {},
   "source": [
    "**2-hy roztok:** Objemy skonvertovane na $dm^3$ je  $V_1=0.1\\ dm^3$ a $c_2=0.2\\ mol.dm^{-3}$."
   ]
  },
  {
   "cell_type": "markdown",
   "metadata": {},
   "source": [
    "Vypocitame molove mnozstvo prveho roztoku $n_1=c_1*V_1$ a druheho roztoku $n_2=c_2*V_2$ "
   ]
  },
  {
   "cell_type": "markdown",
   "metadata": {},
   "source": [
    "Potom zratame molove mnozstvo spoulu $n=n_1+n_2$ a objem vysledneho roztoku $V=V_1+V_2$"
   ]
  },
  {
   "cell_type": "markdown",
   "metadata": {},
   "source": [
    "Potom vyslednu koncentraciu vypocitame ako $c=n/V$"
   ]
  },
  {
   "cell_type": "code",
   "execution_count": 98,
   "metadata": {},
   "outputs": [
    {
     "data": {
      "text/latex": [
       "$$n_1=0.10000$$"
      ],
      "text/plain": [
       "<IPython.core.display.Math object>"
      ]
     },
     "metadata": {},
     "output_type": "display_data"
    }
   ],
   "source": [
    "n1=V1*c1\n",
    "display(Math(f'n_1={n1:0.5f}'))"
   ]
  },
  {
   "cell_type": "code",
   "execution_count": 99,
   "metadata": {},
   "outputs": [
    {
     "data": {
      "text/latex": [
       "$$n_2=0.02000$$"
      ],
      "text/plain": [
       "<IPython.core.display.Math object>"
      ]
     },
     "metadata": {},
     "output_type": "display_data"
    }
   ],
   "source": [
    "n2=V2*c2\n",
    "display(Math(f'n_2={n2:0.5f}'))"
   ]
  },
  {
   "cell_type": "code",
   "execution_count": 100,
   "metadata": {},
   "outputs": [
    {
     "data": {
      "text/latex": [
       "$$n=0.12000$$"
      ],
      "text/plain": [
       "<IPython.core.display.Math object>"
      ]
     },
     "metadata": {},
     "output_type": "display_data"
    }
   ],
   "source": [
    "\n",
    "n=n1+n2\n",
    "display(Math(f'n={n:0.5f}'))"
   ]
  },
  {
   "cell_type": "code",
   "execution_count": 101,
   "metadata": {},
   "outputs": [
    {
     "data": {
      "text/latex": [
       "$$Vysledny\\ objem\\ V=0.35000\\ dm^3$$"
      ],
      "text/plain": [
       "<IPython.core.display.Math object>"
      ]
     },
     "metadata": {},
     "output_type": "display_data"
    }
   ],
   "source": [
    "V=V1+V2\n",
    "display(Math(f'Vysledny\\\\ objem\\\\ V={V:0.5f}\\\\ dm^3'))"
   ]
  },
  {
   "cell_type": "code",
   "execution_count": 106,
   "metadata": {},
   "outputs": [
    {
     "data": {
      "text/latex": [
       "$$\\textrm{Vysledna koncentracia roztoku}  c=0.34286\\ mol . dm^{-3}$$"
      ],
      "text/plain": [
       "<IPython.core.display.Math object>"
      ]
     },
     "metadata": {},
     "output_type": "display_data"
    }
   ],
   "source": [
    "c = n/V\n",
    "display(Math(f'\\\\textrm{{Vysledna koncentracia roztoku}}  c={c:0.5f}\\\\ mol . dm^{{-3}}'))"
   ]
  },
  {
   "cell_type": "code",
   "execution_count": null,
   "metadata": {},
   "outputs": [],
   "source": []
  },
  {
   "cell_type": "code",
   "execution_count": null,
   "metadata": {},
   "outputs": [],
   "source": []
  },
  {
   "cell_type": "code",
   "execution_count": null,
   "metadata": {},
   "outputs": [],
   "source": []
  },
  {
   "cell_type": "code",
   "execution_count": null,
   "metadata": {},
   "outputs": [],
   "source": []
  },
  {
   "cell_type": "code",
   "execution_count": null,
   "metadata": {},
   "outputs": [],
   "source": []
  }
 ],
 "metadata": {
  "kernelspec": {
   "display_name": "Python 3",
   "language": "python",
   "name": "python3"
  },
  "language_info": {
   "codemirror_mode": {
    "name": "ipython",
    "version": 3
   },
   "file_extension": ".py",
   "mimetype": "text/x-python",
   "name": "python",
   "nbconvert_exporter": "python",
   "pygments_lexer": "ipython3",
   "version": "3.6.4"
  }
 },
 "nbformat": 4,
 "nbformat_minor": 4
}
