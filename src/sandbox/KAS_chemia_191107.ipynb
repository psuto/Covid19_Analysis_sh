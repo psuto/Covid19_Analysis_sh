{
 "cells": [
  {
   "cell_type": "markdown",
   "metadata": {},
   "source": [
    "\n",
    "# KAS_chemia_191107"
   ]
  },
  {
   "cell_type": "code",
   "execution_count": 58,
   "metadata": {},
   "outputs": [],
   "source": [
    "from IPython.display import Markdown as md\n",
    "from IPython.display import Math"
   ]
  },
  {
   "cell_type": "code",
   "execution_count": 59,
   "metadata": {},
   "outputs": [],
   "source": [
    "# latkova hustota HCl je 1,19 g.ml-1 a molární hmotnost 36,4 (g/mol)\n",
    "rho1_ml=1.19\n",
    "# in dm3, 1l=1dm3, 1ml=1/1000 dm3\n",
    "rho1 =rho_ml*1000 \n",
    "# molární hmotnost 36,4 (g/mol)\n",
    "M=36.4\n",
    "# pozadovan vysledna koncetracia hcl 0.1 mol.dm$^{-3}$\n",
    "rho2=0.1\n",
    "# objem roztoku 250ml co je 0,25dm3\n",
    "V=0.25"
   ]
  },
  {
   "cell_type": "code",
   "execution_count": 60,
   "metadata": {},
   "outputs": [
    {
     "data": {
      "text/plain": [
       "0.025"
      ]
     },
     "execution_count": 60,
     "metadata": {},
     "output_type": "execute_result"
    }
   ],
   "source": [
    "# V objeme roztoku V musime mat latkove mnozstvo V*rho1 molov\n",
    "n=V*rho2\n",
    "n"
   ]
  },
  {
   "cell_type": "code",
   "execution_count": 61,
   "metadata": {},
   "outputs": [],
   "source": [
    "# pozdovana hmotnost hcl v roztoku molarne mnozsto*molrna hustota(vahova)"
   ]
  },
  {
   "cell_type": "code",
   "execution_count": 62,
   "metadata": {},
   "outputs": [
    {
     "data": {
      "text/plain": [
       "0.91"
      ]
     },
     "execution_count": 62,
     "metadata": {},
     "output_type": "execute_result"
    }
   ],
   "source": [
    "# Hmotnos HCL v gramoch\n",
    "m=n*M\n",
    "m"
   ]
  },
  {
   "cell_type": "code",
   "execution_count": 63,
   "metadata": {},
   "outputs": [
    {
     "data": {
      "text/markdown": [
       "Najprv vypocitam aky objem V2 ma 0.91g 100%-nej HCL ktoru potrebuje zmiesat s vodou na roztok"
      ],
      "text/plain": [
       "<IPython.core.display.Markdown object>"
      ]
     },
     "execution_count": 63,
     "metadata": {},
     "output_type": "execute_result"
    }
   ],
   "source": [
    "md(f\"Najprv vypocitam aky objem V2 ma {m}g 100%-nej HCL ktoru potrebuje zmiesat s vodou na roztok\")"
   ]
  },
  {
   "cell_type": "code",
   "execution_count": 64,
   "metadata": {},
   "outputs": [
    {
     "data": {
      "text/markdown": [
       "V2=0.025dm$^3$"
      ],
      "text/plain": [
       "<IPython.core.display.Markdown object>"
      ]
     },
     "execution_count": 64,
     "metadata": {},
     "output_type": "execute_result"
    }
   ],
   "source": [
    "V2=m/M\n",
    "md(f\"V2={V2}dm$^3$\")"
   ]
  },
  {
   "cell_type": "markdown",
   "metadata": {},
   "source": [
    "Vsak 36%HCL potrbujeme viac (V3). Takze nase V2 je 36% z toho objemu 36%-HCL.\n",
    "Predpokladam ze 36% roztok je objemovy, teda objem 100% HCL V100HCL zmiesany s Vodou objemu Vv ked $$\\frac{V100HCL}{Vv+V100HCL}=0,36$$\n",
    "\n",
    "Mozes pouzit nepriamu umeru.\n",
    "\n",
    "100% ....V2 \n",
    "\n",
    "36%  .... V3=?\n",
    "\n",
    "-----------------------\n",
    "\n",
    "$$\\frac{100}{36}=\\frac{V3}{V2}$$\n",
    "\n",
    "$$V3=\\frac{100}{36}*V2$$\n",
    "\n",
    "\n",
    "\n"
   ]
  },
  {
   "cell_type": "code",
   "execution_count": 65,
   "metadata": {},
   "outputs": [
    {
     "data": {
      "text/markdown": [
       "V3=69.44ml"
      ],
      "text/plain": [
       "<IPython.core.display.Markdown object>"
      ]
     },
     "execution_count": 65,
     "metadata": {},
     "output_type": "execute_result"
    }
   ],
   "source": [
    "V3_ml=V3*1000\n",
    "md(f\"V3={V3_ml:.3g}ml\")"
   ]
  },
  {
   "cell_type": "code",
   "execution_count": 72,
   "metadata": {},
   "outputs": [
    {
     "data": {
      "text/markdown": [
       "Teda treba doliat 0.0694ml 36%-ej HCL."
      ],
      "text/plain": [
       "<IPython.core.display.Markdown object>"
      ]
     },
     "execution_count": 72,
     "metadata": {},
     "output_type": "execute_result"
    }
   ],
   "source": [
    "md(f\"Teda treba doliat {V3:.3g}ml 36%-ej HCL.\")"
   ]
  },
  {
   "cell_type": "code",
   "execution_count": null,
   "metadata": {},
   "outputs": [],
   "source": []
  }
 ],
 "metadata": {
  "kernelspec": {
   "display_name": "Python 3",
   "language": "python",
   "name": "python3"
  },
  "language_info": {
   "codemirror_mode": {
    "name": "ipython",
    "version": 3
   },
   "file_extension": ".py",
   "mimetype": "text/x-python",
   "name": "python",
   "nbconvert_exporter": "python",
   "pygments_lexer": "ipython3",
   "version": "3.6.4"
  }
 },
 "nbformat": 4,
 "nbformat_minor": 4
}