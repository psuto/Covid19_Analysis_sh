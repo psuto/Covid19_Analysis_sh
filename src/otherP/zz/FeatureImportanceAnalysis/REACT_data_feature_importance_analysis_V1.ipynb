{
 "cells": [
  {
   "cell_type": "code",
   "execution_count": 1,
   "metadata": {},
   "outputs": [],
   "source": [
    "# ZZ\n",
    "import csv\n",
    "import numpy as np\n",
    "import multiprocessing as mp\n",
    "import random\n",
    "import matplotlib.pyplot as plt\n",
    "import pickle\n",
    "import pandas as pd\n",
    "#import tensorflow as tf\n",
    "import json\n",
    "from sklearn.model_selection import train_test_split\n",
    "import math"
   ]
  },
  {
   "cell_type": "code",
   "execution_count": 2,
   "metadata": {},
   "outputs": [],
   "source": [
    "# data_dir='data/'\n",
    "data_dir = r\"C:\\work\\dev\\dECMT_src\\data_all\\COVID19_Data\\Current\\\\\"\n",
    "\n",
    "#table='REACT_COVID_Demographics'\n",
    "#table='REACT_COVID_Demographics_20200506'\n",
    "#table='REACT_Events'\n",
    "#table='REACT_LabResults'\n",
    "#table='REACT_PharmacyData'\n",
    "#table='REACT_UHSCOVIDTest_processed'\n",
    "#table='REACT_Vitalsigns_Categorical'\n",
    "#table='REACT_Vitalsigns_Numeric'"
   ]
  },
  {
   "cell_type": "code",
   "execution_count": 3,
   "metadata": {
    "scrolled": true
   },
   "outputs": [],
   "source": [
    "#df=pd.read_csv(data_dir+table+'.csv')\n",
    "#df.head(20)"
   ]
  },
  {
   "cell_type": "code",
   "execution_count": 4,
   "metadata": {},
   "outputs": [],
   "source": [
    "# df.info()"
   ]
  },
  {
   "cell_type": "code",
   "execution_count": 4,
   "metadata": {},
   "outputs": [],
   "source": []
  },
  {
   "cell_type": "markdown",
   "metadata": {},
   "source": [
    "Extract AIR_ventilator information from table REACT_Events"
   ]
  },
  {
   "cell_type": "code",
   "execution_count": 5,
   "metadata": {},
   "outputs": [
    {
     "data": {
      "text/plain": "{'Air - Not Supported': 0.0,\n 'Nasal Specs': 1.0,\n 'Face Mask': 2.0,\n 'Venturi Mask': 3.0,\n 'Trachy Mask': 4.0,\n 'Non-Rebreath Mask': 5.0,\n 'Optiflow / Hi Flow': 6.0,\n 'NIV - CPAP nasal mask': 7.0,\n 'NIV - CPAP face mask': 8.0,\n 'NIV - CPAP full face mask': 9.0,\n 'NIV - BIPAP nasal mask': 10.0,\n 'NIV - BIPAP face mask': 11.0,\n 'NIV - BIPAP full face mask': 12.0,\n 'Invasive Ventilation': 13.0}"
     },
     "execution_count": 5,
     "metadata": {},
     "output_type": "execute_result"
    }
   ],
   "source": [
    "air_ventilator_degree=[\n",
    "    'Air - Not Supported',\n",
    "    'Nasal Specs',\n",
    "    'Face Mask',\n",
    "    'Venturi Mask',\n",
    "    'Trachy Mask',\n",
    "    'Non-Rebreath Mask',\n",
    "    'Optiflow / Hi Flow',\n",
    "    'NIV - CPAP nasal mask',\n",
    "    'NIV - CPAP face mask',\n",
    "    'NIV - CPAP full face mask',\n",
    "    'NIV - BIPAP nasal mask',\n",
    "    'NIV - BIPAP face mask',\n",
    "    'NIV - BIPAP full face mask',\n",
    "    'Invasive Ventilation'\n",
    "]\n",
    "air_ventilator_degree_dic=dict([(air_ventilator_degree[i],float(i)) for i in range(len(air_ventilator_degree))])\n",
    "air_ventilator_degree_dic"
   ]
  },
  {
   "cell_type": "code",
   "execution_count": 6,
   "metadata": {},
   "outputs": [],
   "source": [
    "df_REACT_Vitalsigns_Categorical=pd.read_csv(data_dir+r'\\REACT_Vitalsigns_Categorical'+'.csv')\n",
    "#df_REACT_Vitalsigns_Categorical.info()"
   ]
  },
  {
   "cell_type": "code",
   "execution_count": 7,
   "metadata": {},
   "outputs": [],
   "source": [
    "studyid_air_ventilator_dic=dict()\n",
    "for studyid,air_vent in df_REACT_Vitalsigns_Categorical[df_REACT_Vitalsigns_Categorical.VALUE.isin(air_ventilator_degree_dic)][['STUDY_ID','VALUE']].values:\n",
    "    if studyid not in studyid_air_ventilator_dic or studyid_air_ventilator_dic[studyid]<air_ventilator_degree_dic[air_vent]:\n",
    "        studyid_air_ventilator_dic[studyid]=air_ventilator_degree_dic[air_vent]\n",
    "df_studyid_air_vent=pd.DataFrame(\n",
    "    data=[[key,studyid_air_ventilator_dic[key]] for key in studyid_air_ventilator_dic],\n",
    "    columns=['STUDY_ID','AIR_VENT_DEGREE']\n",
    ")\n",
    "#df_studyid_air_vent"
   ]
  },
  {
   "cell_type": "code",
   "execution_count": 7,
   "metadata": {},
   "outputs": [],
   "source": []
  },
  {
   "cell_type": "markdown",
   "metadata": {},
   "source": [
    "Extract ITU_DAYS information from table REACT_Events"
   ]
  },
  {
   "cell_type": "code",
   "execution_count": 8,
   "metadata": {},
   "outputs": [
    {
     "data": {
      "text/plain": "'C:\\\\work\\\\dev\\\\dECMT_src\\\\data_all\\\\COVID19_Data\\\\Current\\\\\\\\REACT_Events.csv'"
     },
     "execution_count": 8,
     "metadata": {},
     "output_type": "execute_result"
    }
   ],
   "source": [
    "data_dir+'REACT_Events'+'.csv'"
   ]
  },
  {
   "cell_type": "code",
   "execution_count": 9,
   "metadata": {},
   "outputs": [],
   "source": [
    "df_REACT_Events=pd.read_csv(data_dir+r'\\REACT_Events'+'.csv')\n",
    "#df_REACT_Events.info()"
   ]
  },
  {
   "cell_type": "code",
   "execution_count": 10,
   "metadata": {},
   "outputs": [],
   "source": [
    "from datetime import date\n",
    "\n",
    "def str2date(ss):\n",
    "    day,month,year=ss.split('/')\n",
    "    return date(int(year),int(month),int(day))\n",
    "\n",
    "max_date=max([str2date(x) for x in df_REACT_Events[df_REACT_Events.END_DATE.notnull()].END_DATE.unique()])\n",
    "max_date=str(max_date.day)+'/'+str(max_date.month)+'/'+str(max_date.year)\n",
    "\n",
    "#max_date"
   ]
  },
  {
   "cell_type": "code",
   "execution_count": 11,
   "metadata": {
    "scrolled": true
   },
   "outputs": [],
   "source": [
    "studyid_ITU_lst=[]\n",
    "for studyid,start_date,end_date in df_REACT_Events[df_REACT_Events.EVENT_TYPE=='ITU'][['STUDY_ID','START_DATE','END_DATE']].fillna({'END_DATE':max_date}).values:\n",
    "    start_day,start_month,start_year=map(int,start_date.split('/'))\n",
    "    end_day,end_month,end_year=map(int,end_date.split('/'))\n",
    "    days=int((date(end_year,end_month,end_day)-date(start_year,start_month,start_day)).days)\n",
    "    studyid_ITU_lst.append([studyid,days])\n",
    "df_studyid_ITU=pd.DataFrame(data=studyid_ITU_lst,columns=['STUDY_ID','ITU_DAYS'])\n",
    "#df_studyid_ITU"
   ]
  },
  {
   "cell_type": "code",
   "execution_count": 11,
   "metadata": {},
   "outputs": [],
   "source": []
  },
  {
   "cell_type": "markdown",
   "metadata": {},
   "source": [
    "load table REACT\\_COVID\\_Demographics"
   ]
  },
  {
   "cell_type": "code",
   "execution_count": 12,
   "metadata": {},
   "outputs": [],
   "source": [
    "df_demographics=pd.read_csv(data_dir+'REACT_COVID_Demographics'+'.csv')\n",
    "#df_demographics.head(10)"
   ]
  },
  {
   "cell_type": "code",
   "execution_count": 13,
   "metadata": {},
   "outputs": [],
   "source": [
    "#df_demographics.info()"
   ]
  },
  {
   "cell_type": "code",
   "execution_count": 14,
   "metadata": {},
   "outputs": [],
   "source": [
    "#len(df_demographics.STUDY_ID.unique())"
   ]
  },
  {
   "cell_type": "code",
   "execution_count": 15,
   "metadata": {},
   "outputs": [],
   "source": [
    "#df_demographics[['STUDY_ID','PATIENT_AGE','GENDER','ETHNIC_GROUP','IS_PREGNANT']]"
   ]
  },
  {
   "cell_type": "code",
   "execution_count": 15,
   "metadata": {},
   "outputs": [],
   "source": []
  },
  {
   "cell_type": "markdown",
   "metadata": {},
   "source": [
    "load table REACT_LabResults"
   ]
  },
  {
   "cell_type": "code",
   "execution_count": 16,
   "metadata": {},
   "outputs": [],
   "source": [
    "df_labresults=pd.read_csv(data_dir+'REACT_LabResults'+'.csv')\n",
    "#df_labresults.head(10)"
   ]
  },
  {
   "cell_type": "code",
   "execution_count": 17,
   "metadata": {},
   "outputs": [],
   "source": [
    "#df_labresults.info()"
   ]
  },
  {
   "cell_type": "code",
   "execution_count": 18,
   "metadata": {},
   "outputs": [],
   "source": [
    "#len(df_labresults.STUDY_ID.unique())"
   ]
  },
  {
   "cell_type": "code",
   "execution_count": 18,
   "metadata": {},
   "outputs": [],
   "source": []
  },
  {
   "cell_type": "code",
   "execution_count": 19,
   "metadata": {},
   "outputs": [],
   "source": [
    "testcode_lst=df_labresults.REACT_TESTCODE.unique()\n",
    "testcode2id=dict([(testcode_lst[i],i) for i in range(len(testcode_lst))])\n",
    "#testcode_lst"
   ]
  },
  {
   "cell_type": "code",
   "execution_count": 20,
   "metadata": {},
   "outputs": [],
   "source": [
    "studyid_textcode_dic=dict()\n",
    "for studyid,testcode,result in df_labresults[['STUDY_ID','REACT_TESTCODE','PATHOLOGY_RESULT_NUMERIC']].values:\n",
    "    if studyid not in studyid_textcode_dic:\n",
    "        studyid_textcode_dic[studyid]=dict()\n",
    "    if testcode not in studyid_textcode_dic[studyid]:\n",
    "        studyid_textcode_dic[studyid][testcode]=[]\n",
    "    studyid_textcode_dic[studyid][testcode].append(result)\n",
    "#studyid_textcode_dic"
   ]
  },
  {
   "cell_type": "code",
   "execution_count": 21,
   "metadata": {},
   "outputs": [],
   "source": [
    "labresults_dic=dict()\n",
    "for studyid in studyid_textcode_dic:\n",
    "    if studyid not in labresults_dic:\n",
    "        labresults_dic[studyid]=[None]*len(testcode_lst)*3\n",
    "    for testcode in studyid_textcode_dic[studyid]:\n",
    "        results=studyid_textcode_dic[studyid][testcode]\n",
    "        labresults_dic[studyid][testcode2id[testcode]*3:(testcode2id[testcode]+1)*3]=[np.min(results),np.max(results),np.mean(results)]\n",
    "#labresults_dic"
   ]
  },
  {
   "cell_type": "code",
   "execution_count": 22,
   "metadata": {},
   "outputs": [],
   "source": [
    "df_studyid_testcode_result=pd.DataFrame(\n",
    "    data=[[studyid]+labresults_dic[studyid] for studyid in labresults_dic],\n",
    "    columns=[\"STUDY_ID\"]+[testcode+suffix for testcode in testcode_lst for suffix in ['_min','_max','_mean']]\n",
    ")\n",
    "#df_studyid_testcode_result"
   ]
  },
  {
   "cell_type": "code",
   "execution_count": 23,
   "metadata": {
    "scrolled": true
   },
   "outputs": [],
   "source": [
    "#df_studyid_testcode_result.info()"
   ]
  },
  {
   "cell_type": "code",
   "execution_count": 23,
   "metadata": {},
   "outputs": [],
   "source": []
  },
  {
   "cell_type": "code",
   "execution_count": 24,
   "metadata": {},
   "outputs": [],
   "source": [
    "df_patient_features=df_demographics[['STUDY_ID','PATIENT_AGE','GENDER','ETHNIC_GROUP','IS_PREGNANT']].merge(\n",
    "    df_studyid_testcode_result,how='inner',on='STUDY_ID'\n",
    ")\n",
    "#df_patient_features"
   ]
  },
  {
   "cell_type": "code",
   "execution_count": 25,
   "metadata": {
    "scrolled": true
   },
   "outputs": [],
   "source": [
    "#df_patient_features.info()"
   ]
  },
  {
   "cell_type": "code",
   "execution_count": 25,
   "metadata": {},
   "outputs": [],
   "source": []
  },
  {
   "cell_type": "markdown",
   "metadata": {},
   "source": [
    "Merge dataframes, fill in default value (0.0) for $\\textbf{NaN}$ value in columns ITU_DAYS and AIR_VENT_DEGREE"
   ]
  },
  {
   "cell_type": "code",
   "execution_count": 26,
   "metadata": {},
   "outputs": [],
   "source": [
    "df_patient_features_labels=df_patient_features.merge(\n",
    "    df_studyid_ITU,how='left',on='STUDY_ID'\n",
    ").fillna({'ITU_DAYS':0}).merge(\n",
    "    df_studyid_air_vent,how='left',on='STUDY_ID'\n",
    ").fillna({'AIR_VENT_DEGREE':0.0})\n",
    "#df_patient_features_labels"
   ]
  },
  {
   "cell_type": "code",
   "execution_count": 27,
   "metadata": {
    "scrolled": true
   },
   "outputs": [
    {
     "name": "stdout",
     "output_type": "stream",
     "text": [
      "<class 'pandas.core.frame.DataFrame'>\n",
      "Int64Index: 324 entries, 0 to 323\n",
      "Data columns (total 67 columns):\n",
      " #   Column            Non-Null Count  Dtype  \n",
      "---  ------            --------------  -----  \n",
      " 0   STUDY_ID          324 non-null    object \n",
      " 1   PATIENT_AGE       324 non-null    int64  \n",
      " 2   GENDER            324 non-null    object \n",
      " 3   ETHNIC_GROUP      324 non-null    object \n",
      " 4   IS_PREGNANT       324 non-null    int64  \n",
      " 5   GLUCOSE_min       256 non-null    float64\n",
      " 6   GLUCOSE_max       256 non-null    float64\n",
      " 7   GLUCOSE_mean      256 non-null    float64\n",
      " 8   POTASSIUM_min     311 non-null    float64\n",
      " 9   POTASSIUM_max     311 non-null    float64\n",
      " 10  POTASSIUM_mean    311 non-null    float64\n",
      " 11  CREATENINE_min    312 non-null    float64\n",
      " 12  CREATENINE_max    312 non-null    float64\n",
      " 13  CREATENINE_mean   312 non-null    float64\n",
      " 14  LDH_min           194 non-null    float64\n",
      " 15  LDH_max           194 non-null    float64\n",
      " 16  LDH_mean          194 non-null    float64\n",
      " 17  UREA_min          312 non-null    float64\n",
      " 18  UREA_max          312 non-null    float64\n",
      " 19  UREA_mean         312 non-null    float64\n",
      " 20  BILIRUBIN_min     285 non-null    float64\n",
      " 21  BILIRUBIN_max     285 non-null    float64\n",
      " 22  BILIRUBIN_mean    285 non-null    float64\n",
      " 23  WBC_min           314 non-null    float64\n",
      " 24  WBC_max           314 non-null    float64\n",
      " 25  WBC_mean          314 non-null    float64\n",
      " 26  EOSINOPHILS_min   314 non-null    float64\n",
      " 27  EOSINOPHILS_max   314 non-null    float64\n",
      " 28  EOSINOPHILS_mean  314 non-null    float64\n",
      " 29  NEUTROPHILS_min   314 non-null    float64\n",
      " 30  NEUTROPHILS_max   314 non-null    float64\n",
      " 31  NEUTROPHILS_mean  314 non-null    float64\n",
      " 32  LYMPHOCYTES_min   314 non-null    float64\n",
      " 33  LYMPHOCYTES_max   314 non-null    float64\n",
      " 34  LYMPHOCYTES_mean  314 non-null    float64\n",
      " 35  ALT_min           285 non-null    float64\n",
      " 36  ALT_max           285 non-null    float64\n",
      " 37  ALT_mean          285 non-null    float64\n",
      " 38  CRP_min           308 non-null    float64\n",
      " 39  CRP_max           308 non-null    float64\n",
      " 40  CRP_mean          308 non-null    float64\n",
      " 41  SODIUM_min        312 non-null    float64\n",
      " 42  SODIUM_max        312 non-null    float64\n",
      " 43  SODIUM_mean       312 non-null    float64\n",
      " 44  HB_min            314 non-null    float64\n",
      " 45  HB_max            314 non-null    float64\n",
      " 46  HB_mean           314 non-null    float64\n",
      " 47  TRIGYCERIN_min    124 non-null    float64\n",
      " 48  TRIGYCERIN_max    124 non-null    float64\n",
      " 49  TRIGYCERIN_mean   124 non-null    float64\n",
      " 50  PLATELETS_min     314 non-null    float64\n",
      " 51  PLATELETS_max     314 non-null    float64\n",
      " 52  PLATELETS_mean    314 non-null    float64\n",
      " 53  AST_min           123 non-null    float64\n",
      " 54  AST_max           123 non-null    float64\n",
      " 55  AST_mean          123 non-null    float64\n",
      " 56  TROPONIN_min      194 non-null    float64\n",
      " 57  TROPONIN_max      194 non-null    float64\n",
      " 58  TROPONIN_mean     194 non-null    float64\n",
      " 59  FERRITIN_min      204 non-null    float64\n",
      " 60  FERRITIN_max      204 non-null    float64\n",
      " 61  FERRITIN_mean     204 non-null    float64\n",
      " 62  D_DIMER_min       160 non-null    float64\n",
      " 63  D_DIMER_max       160 non-null    float64\n",
      " 64  D_DIMER_mean      160 non-null    float64\n",
      " 65  ITU_DAYS          324 non-null    float64\n",
      " 66  AIR_VENT_DEGREE   324 non-null    float64\n",
      "dtypes: float64(62), int64(2), object(3)\n",
      "memory usage: 172.1+ KB\n"
     ]
    }
   ],
   "source": [
    "df_patient_features_labels.info()"
   ]
  },
  {
   "cell_type": "code",
   "execution_count": 28,
   "metadata": {},
   "outputs": [
    {
     "data": {
      "text/plain": "Index(['STUDY_ID', 'PATIENT_AGE', 'GENDER', 'ETHNIC_GROUP', 'IS_PREGNANT',\n       'GLUCOSE_min', 'GLUCOSE_max', 'GLUCOSE_mean', 'POTASSIUM_min',\n       'POTASSIUM_max', 'POTASSIUM_mean', 'CREATENINE_min', 'CREATENINE_max',\n       'CREATENINE_mean', 'LDH_min', 'LDH_max', 'LDH_mean', 'UREA_min',\n       'UREA_max', 'UREA_mean', 'BILIRUBIN_min', 'BILIRUBIN_max',\n       'BILIRUBIN_mean', 'WBC_min', 'WBC_max', 'WBC_mean', 'EOSINOPHILS_min',\n       'EOSINOPHILS_max', 'EOSINOPHILS_mean', 'NEUTROPHILS_min',\n       'NEUTROPHILS_max', 'NEUTROPHILS_mean', 'LYMPHOCYTES_min',\n       'LYMPHOCYTES_max', 'LYMPHOCYTES_mean', 'ALT_min', 'ALT_max', 'ALT_mean',\n       'CRP_min', 'CRP_max', 'CRP_mean', 'SODIUM_min', 'SODIUM_max',\n       'SODIUM_mean', 'HB_min', 'HB_max', 'HB_mean', 'TRIGYCERIN_min',\n       'TRIGYCERIN_max', 'TRIGYCERIN_mean', 'PLATELETS_min', 'PLATELETS_max',\n       'PLATELETS_mean', 'AST_min', 'AST_max', 'AST_mean', 'TROPONIN_min',\n       'TROPONIN_max', 'TROPONIN_mean', 'FERRITIN_min', 'FERRITIN_max',\n       'FERRITIN_mean', 'D_DIMER_min', 'D_DIMER_max', 'D_DIMER_mean',\n       'ITU_DAYS', 'AIR_VENT_DEGREE'],\n      dtype='object')"
     },
     "execution_count": 28,
     "metadata": {},
     "output_type": "execute_result"
    }
   ],
   "source": [
    "df_patient_features_labels.columns"
   ]
  },
  {
   "cell_type": "code",
   "execution_count": 28,
   "metadata": {},
   "outputs": [],
   "source": []
  },
  {
   "cell_type": "markdown",
   "metadata": {},
   "source": [
    "X Feature Preprocessing, OneHotEncoding for Categorical features"
   ]
  },
  {
   "cell_type": "code",
   "execution_count": 29,
   "metadata": {},
   "outputs": [],
   "source": [
    "X_feature_name_lst=[]"
   ]
  },
  {
   "cell_type": "code",
   "execution_count": 30,
   "metadata": {
    "scrolled": true
   },
   "outputs": [],
   "source": [
    "from sklearn.preprocessing import OneHotEncoder\n",
    "\n",
    "X_categorical=df_patient_features_labels[['GENDER', 'ETHNIC_GROUP', 'IS_PREGNANT']]\n",
    "\n",
    "enc = OneHotEncoder(handle_unknown='ignore')\n",
    "X_onehot=enc.fit_transform(X_categorical).toarray()\n",
    "\n",
    "X_feature_name_lst+=list(enc.get_feature_names(['GENDER', 'ETHNIC_GROUP', 'IS_PREGNANT']))\n",
    "#X_feature_name_lst"
   ]
  },
  {
   "cell_type": "code",
   "execution_count": 31,
   "metadata": {
    "scrolled": true
   },
   "outputs": [],
   "source": [
    "numeric_features_lst=[\n",
    "    'PATIENT_AGE',\n",
    "    'POTASSIUM_min', 'POTASSIUM_max', 'POTASSIUM_mean', 'ALT_min',\n",
    "    'ALT_max', 'ALT_mean', 'BILIRUBIN_min', 'BILIRUBIN_max',\n",
    "    'BILIRUBIN_mean', 'UREA_min', 'UREA_max', 'UREA_mean', 'CREATENINE_min',\n",
    "    'CREATENINE_max', 'CREATENINE_mean', 'SODIUM_min', 'SODIUM_max',\n",
    "    'SODIUM_mean', 'CRP_min', 'CRP_max', 'CRP_mean', 'NEUTROPHILS_min',\n",
    "    'NEUTROPHILS_max', 'NEUTROPHILS_mean', 'EOSINOPHILS_min',\n",
    "    'EOSINOPHILS_max', 'EOSINOPHILS_mean', 'HB_min', 'HB_max', 'HB_mean',\n",
    "    'LYMPHOCYTES_min', 'LYMPHOCYTES_max', 'LYMPHOCYTES_mean', 'WBC_min',\n",
    "    'WBC_max', 'WBC_mean', 'PLATELETS_min', 'PLATELETS_max',\n",
    "    'PLATELETS_mean', 'GLUCOSE_min', 'GLUCOSE_max', 'GLUCOSE_mean',\n",
    "    'TRIGYCERIN_min', 'TRIGYCERIN_max', 'TRIGYCERIN_mean', 'FERRITIN_min',\n",
    "    'FERRITIN_max', 'FERRITIN_mean', 'AST_min', 'AST_max', 'AST_mean',\n",
    "    'TROPONIN_min', 'TROPONIN_max', 'TROPONIN_mean', 'LDH_min', 'LDH_max',\n",
    "    'LDH_mean', 'D_DIMER_min', 'D_DIMER_max', 'D_DIMER_mean'\n",
    "]\n",
    "\n",
    "X_feature_name_lst+=numeric_features_lst\n",
    "\n",
    "#X_feature_name_lst"
   ]
  },
  {
   "cell_type": "code",
   "execution_count": 32,
   "metadata": {},
   "outputs": [],
   "source": [
    "X_numeric=df_patient_features_labels[numeric_features_lst].values\n",
    "#X_numeric"
   ]
  },
  {
   "cell_type": "code",
   "execution_count": 33,
   "metadata": {},
   "outputs": [],
   "source": [
    "X_missing=np.concatenate([X_onehot, X_numeric], axis=1)\n",
    "#X_missing"
   ]
  },
  {
   "cell_type": "markdown",
   "metadata": {},
   "source": [
    "fill in missing features value with mean value"
   ]
  },
  {
   "cell_type": "code",
   "execution_count": 34,
   "metadata": {},
   "outputs": [],
   "source": [
    "#from sklearn.impute import KNNImputer\n",
    "\n",
    "#imputer = KNNImputer(n_neighbors=5, weights=\"uniform\")\n",
    "\n",
    "from sklearn.impute import SimpleImputer\n",
    "imputer = SimpleImputer(missing_values=np.nan, strategy='mean')\n",
    "\n",
    "X=imputer.fit_transform(X_missing)\n",
    "\n",
    "#X"
   ]
  },
  {
   "cell_type": "code",
   "execution_count": 34,
   "metadata": {},
   "outputs": [],
   "source": []
  },
  {
   "cell_type": "markdown",
   "metadata": {},
   "source": [
    "Two Y labels ITU_DAYS, AIR_VENTILATOR"
   ]
  },
  {
   "cell_type": "code",
   "execution_count": 35,
   "metadata": {},
   "outputs": [],
   "source": [
    "Y_ITU=df_patient_features_labels.values[:,-2]\n",
    "Y_AIR=df_patient_features_labels.values[:,-1]"
   ]
  },
  {
   "cell_type": "code",
   "execution_count": 35,
   "metadata": {},
   "outputs": [],
   "source": []
  },
  {
   "cell_type": "markdown",
   "metadata": {},
   "source": [
    "ITU_DAYS prediction test, evaluated by R2_score:\n",
    "$R^2(y, \\hat{y}) = 1 - \\frac{\\sum_{i=1}^{n} (y_i - \\hat{y}_i)^2}{\\sum_{i=1}^{n} (y_i - \\bar{y})^2}$"
   ]
  },
  {
   "cell_type": "code",
   "execution_count": 36,
   "metadata": {},
   "outputs": [],
   "source": [
    "from sklearn.linear_model import LinearRegression\n",
    "from sklearn.tree import DecisionTreeRegressor\n",
    "from sklearn.ensemble import RandomForestRegressor\n",
    "from sklearn.ensemble import AdaBoostRegressor\n",
    "from sklearn.ensemble import GradientBoostingRegressor\n",
    "from sklearn.neural_network import MLPRegressor\n",
    "\n",
    "models={\n",
    "    \"Linear\":LinearRegression(),\n",
    "    \"MLP\":MLPRegressor(max_iter=3000,solver='adam', alpha=1e-3,hidden_layer_sizes=(64, 16)),\n",
    "    \"DecisionTree\":DecisionTreeRegressor(),\n",
    "    \"RandomForest\":RandomForestRegressor(),\n",
    "    \"AdaBoost\":AdaBoostRegressor(n_estimators=100),\n",
    "    \"GradientBoosting\":GradientBoostingRegressor(),\n",
    "}"
   ]
  },
  {
   "cell_type": "code",
   "execution_count": 37,
   "metadata": {},
   "outputs": [
    {
     "name": "stdout",
     "output_type": "stream",
     "text": [
      "     Linear        MLP  DecisionTree  RandomForest  AdaBoost  GradientBoosting\n",
      "0 -0.792547  -4.714742     -0.297665      0.627936  0.710132          0.688121\n",
      "1 -0.335223  -1.626195     -0.320574      0.221589  0.376945          0.282592\n",
      "2 -0.502486  -8.570367      0.004233      0.651726  0.605825          0.726052\n",
      "3 -0.510717 -23.386230      0.579502      0.559848  0.678150          0.542300\n",
      "4  0.425073   0.007565      0.610680      0.579813  0.680813          0.621091\n"
     ]
    }
   ],
   "source": [
    "from sklearn.model_selection import KFold\n",
    "\n",
    "from sklearn.metrics import r2_score\n",
    "\n",
    "r2_result_lst=[]\n",
    "\n",
    "kf = KFold(n_splits=5)\n",
    "\n",
    "for train_index, test_index in kf.split(X):\n",
    "    X_train, X_test = X[train_index], X[test_index]\n",
    "    y_train, y_test = Y_ITU[train_index], Y_ITU[test_index]\n",
    "    r2_result_lst.append(\n",
    "        [r2_score(y_test,models[model_name].fit(X_train,y_train).predict(X_test))\n",
    "         for model_name in models])\n",
    "\n",
    "print(pd.DataFrame(r2_result_lst,columns=[model_name for model_name in models]))"
   ]
  },
  {
   "cell_type": "markdown",
   "metadata": {},
   "source": [
    "ITU_DAYS feature importance analysis $\\textbf{RandomForest}$"
   ]
  },
  {
   "cell_type": "code",
   "execution_count": 38,
   "metadata": {
    "scrolled": true
   },
   "outputs": [
    {
     "name": "stdout",
     "output_type": "stream",
     "text": [
      "GENDER_F : 6.433440344849707e-05\n",
      "GENDER_M : 7.261477383083096e-05\n",
      "ETHNIC_GROUP_A : 0.00037876501945662385\n",
      "ETHNIC_GROUP_C : 5.7778231693406466e-05\n",
      "ETHNIC_GROUP_E : 0.0\n",
      "ETHNIC_GROUP_G : 0.00045939329812811285\n",
      "ETHNIC_GROUP_H : 4.844977022282261e-06\n",
      "ETHNIC_GROUP_J : 0.0\n",
      "ETHNIC_GROUP_L : 0.00010811632218219952\n",
      "ETHNIC_GROUP_M : 0.0\n",
      "ETHNIC_GROUP_N : 0.004248366400712536\n",
      "ETHNIC_GROUP_P : 0.0\n",
      "ETHNIC_GROUP_R : 0.0\n",
      "ETHNIC_GROUP_S : 1.3694437137135315e-06\n",
      "ETHNIC_GROUP_X : 1.4012014177736512e-07\n",
      "ETHNIC_GROUP_Z : 2.6445024988890913e-06\n",
      "IS_PREGNANT_0 : 0.0\n",
      "PATIENT_AGE : 0.0019068789713521234\n",
      "POTASSIUM_min : 0.0012259032030114603\n",
      "POTASSIUM_max : 0.007682786540044607\n",
      "POTASSIUM_mean : 0.0014295487502811028\n",
      "ALT_min : 0.0025530713844611076\n",
      "ALT_max : 0.005309527431879575\n",
      "ALT_mean : 0.003970225569225537\n",
      "BILIRUBIN_min : 0.004353918832012843\n",
      "BILIRUBIN_max : 0.004155570594662947\n",
      "BILIRUBIN_mean : 0.003073412959583481\n",
      "UREA_min : 0.0014950094823848387\n",
      "UREA_max : 0.008048221222692333\n",
      "UREA_mean : 0.006618223482437559\n",
      "CREATENINE_min : 0.10468665594920573\n",
      "CREATENINE_max : 0.005149987403347084\n",
      "CREATENINE_mean : 0.005465593300917819\n",
      "SODIUM_min : 0.0072357568169283916\n",
      "SODIUM_max : 0.007653619804973498\n",
      "SODIUM_mean : 0.0010131887605262062\n",
      "CRP_min : 0.002883379087292989\n",
      "CRP_max : 0.1606136108336944\n",
      "CRP_mean : 0.003573701602066974\n",
      "NEUTROPHILS_min : 0.00455893729247318\n",
      "NEUTROPHILS_max : 0.0020586265841440496\n",
      "NEUTROPHILS_mean : 0.0024498751997261586\n",
      "EOSINOPHILS_min : 4.048105359059172e-05\n",
      "EOSINOPHILS_max : 0.16242332331673287\n",
      "EOSINOPHILS_mean : 0.007051818983009429\n",
      "HB_min : 0.015370162499182778\n",
      "HB_max : 0.0011575449291850394\n",
      "HB_mean : 0.00838918816612988\n",
      "LYMPHOCYTES_min : 0.0011150020448189104\n",
      "LYMPHOCYTES_max : 0.0033996899302968712\n",
      "LYMPHOCYTES_mean : 0.004686419953302569\n",
      "WBC_min : 0.00041599129281897463\n",
      "WBC_max : 0.008979964819356482\n",
      "WBC_mean : 0.00047921838856919093\n",
      "PLATELETS_min : 0.0001663182106551629\n",
      "PLATELETS_max : 0.0017859021357118027\n",
      "PLATELETS_mean : 0.001341802638758076\n",
      "GLUCOSE_min : 0.006278756467183861\n",
      "GLUCOSE_max : 0.004541232686214279\n",
      "GLUCOSE_mean : 0.00842962690949712\n",
      "TRIGYCERIN_min : 0.045494123753538486\n",
      "TRIGYCERIN_max : 0.17631621121199725\n",
      "TRIGYCERIN_mean : 0.009108630578052813\n",
      "FERRITIN_min : 0.001925069764863243\n",
      "FERRITIN_max : 0.002440626555364459\n",
      "FERRITIN_mean : 0.0020486892838125653\n",
      "AST_min : 0.10905284877296023\n",
      "AST_max : 0.0070398025508271265\n",
      "AST_mean : 0.001550209966758524\n",
      "TROPONIN_min : 0.0030250798643690164\n",
      "TROPONIN_max : 0.0011364583265705641\n",
      "TROPONIN_mean : 0.002751443836490306\n",
      "LDH_min : 0.0022692403204079142\n",
      "LDH_max : 0.006168046596396646\n",
      "LDH_mean : 0.0013707875217100006\n",
      "D_DIMER_min : 0.002470791657720937\n",
      "D_DIMER_max : 0.02197373203853222\n",
      "D_DIMER_mean : 0.003242164422458741\n"
     ]
    }
   ],
   "source": [
    "from sklearn.ensemble import RandomForestRegressor\n",
    "\n",
    "regr = RandomForestRegressor().fit(X, Y_ITU)\n",
    "\n",
    "for feature,importance in zip(X_feature_name_lst,regr.feature_importances_):\n",
    "    print(feature,\":\",importance)"
   ]
  },
  {
   "cell_type": "code",
   "execution_count": 39,
   "metadata": {},
   "outputs": [
    {
     "data": {
      "text/plain": "[('TRIGYCERIN_max', 0.17631621121199725),\n ('EOSINOPHILS_max', 0.16242332331673287),\n ('CRP_max', 0.1606136108336944),\n ('AST_min', 0.10905284877296023),\n ('CREATENINE_min', 0.10468665594920573),\n ('TRIGYCERIN_min', 0.045494123753538486),\n ('D_DIMER_max', 0.02197373203853222),\n ('HB_min', 0.015370162499182778)]"
     },
     "execution_count": 39,
     "metadata": {},
     "output_type": "execute_result"
    }
   ],
   "source": [
    "feature_importance_dic=dict(zip(X_feature_name_lst,regr.feature_importances_))\n",
    "from sklearn.feature_selection import SelectFromModel\n",
    "sorted(\n",
    "    [(X_feature_name_lst[i],feature_importance_dic[X_feature_name_lst[i]]) for i in SelectFromModel(regr, prefit=True, max_features=10).get_support(indices=True)],\n",
    "    key=lambda x:x[1],\n",
    "    reverse=True\n",
    ")"
   ]
  },
  {
   "cell_type": "markdown",
   "metadata": {},
   "source": [
    "ITU_DAYS feature importance analysis $\\textbf{AdaBoost}$"
   ]
  },
  {
   "cell_type": "code",
   "execution_count": 40,
   "metadata": {
    "scrolled": true
   },
   "outputs": [
    {
     "name": "stdout",
     "output_type": "stream",
     "text": [
      "GENDER_F : 0.0010478080277309782\n",
      "GENDER_M : 0.002632501000218817\n",
      "ETHNIC_GROUP_A : 0.0004925628849268629\n",
      "ETHNIC_GROUP_C : 0.0\n",
      "ETHNIC_GROUP_E : 0.0\n",
      "ETHNIC_GROUP_G : 0.0006369132584149704\n",
      "ETHNIC_GROUP_H : 0.0\n",
      "ETHNIC_GROUP_J : 0.0\n",
      "ETHNIC_GROUP_L : 3.221984916653279e-05\n",
      "ETHNIC_GROUP_M : 0.0\n",
      "ETHNIC_GROUP_N : 0.0011012224337766641\n",
      "ETHNIC_GROUP_P : 0.0\n",
      "ETHNIC_GROUP_R : 0.0\n",
      "ETHNIC_GROUP_S : 0.0\n",
      "ETHNIC_GROUP_X : 0.0\n",
      "ETHNIC_GROUP_Z : 0.0\n",
      "IS_PREGNANT_0 : 0.0\n",
      "PATIENT_AGE : 0.002098245668071076\n",
      "POTASSIUM_min : 0.003983586258045416\n",
      "POTASSIUM_max : 0.027559948687774973\n",
      "POTASSIUM_mean : 0.009479288684817533\n",
      "ALT_min : 2.357666635790126e-05\n",
      "ALT_max : 0.0036731811413866534\n",
      "ALT_mean : 0.0001436958670585267\n",
      "BILIRUBIN_min : 0.004219412942029145\n",
      "BILIRUBIN_max : 0.00039249214629741123\n",
      "BILIRUBIN_mean : 0.0052465849867663625\n",
      "UREA_min : 0.004328110840961709\n",
      "UREA_max : 0.0044091492486334795\n",
      "UREA_mean : 0.0025868218823197012\n",
      "CREATENINE_min : 0.08724394361760562\n",
      "CREATENINE_max : 0.001927820310289605\n",
      "CREATENINE_mean : 0.00024888236814321754\n",
      "SODIUM_min : 0.0\n",
      "SODIUM_max : 0.01676899755365106\n",
      "SODIUM_mean : 7.374252015573695e-05\n",
      "CRP_min : 0.02037251395246983\n",
      "CRP_max : 0.11663444477906902\n",
      "CRP_mean : 0.0003336969682954954\n",
      "NEUTROPHILS_min : 0.001436953678379389\n",
      "NEUTROPHILS_max : 0.00843382674630912\n",
      "NEUTROPHILS_mean : 0.0002057885444160889\n",
      "EOSINOPHILS_min : 0.0\n",
      "EOSINOPHILS_max : 0.01944205327653804\n",
      "EOSINOPHILS_mean : 0.037088195721190084\n",
      "HB_min : 0.08435466207340028\n",
      "HB_max : 0.001171768058353984\n",
      "HB_mean : 0.010427855751051315\n",
      "LYMPHOCYTES_min : 0.0013749496513422847\n",
      "LYMPHOCYTES_max : 0.017003031349539798\n",
      "LYMPHOCYTES_mean : 0.00704947487756767\n",
      "WBC_min : 0.0\n",
      "WBC_max : 0.006156258461334659\n",
      "WBC_mean : 0.00015216219818771476\n",
      "PLATELETS_min : 8.66167549847365e-05\n",
      "PLATELETS_max : 0.0042481251977042655\n",
      "PLATELETS_mean : 3.992417771450785e-05\n",
      "GLUCOSE_min : 0.005389527945319766\n",
      "GLUCOSE_max : 0.0031916026663597976\n",
      "GLUCOSE_mean : 0.002080441686371261\n",
      "TRIGYCERIN_min : 0.04866607822339483\n",
      "TRIGYCERIN_max : 0.03512245755852078\n",
      "TRIGYCERIN_mean : 0.0071776334164076125\n",
      "FERRITIN_min : 0.026435871226627987\n",
      "FERRITIN_max : 0.00040260971235485144\n",
      "FERRITIN_mean : 0.00265064468588764\n",
      "AST_min : 0.19418656587042812\n",
      "AST_max : 0.002742428645414658\n",
      "AST_mean : 0.001083362894408818\n",
      "TROPONIN_min : 0.004670698426678661\n",
      "TROPONIN_max : 0.0\n",
      "TROPONIN_mean : 0.002679636067520218\n",
      "LDH_min : 0.010412296079067235\n",
      "LDH_max : 0.02289549904047649\n",
      "LDH_mean : 0.00416655543680887\n",
      "D_DIMER_min : 0.0022900388375020615\n",
      "D_DIMER_max : 0.1016478349468603\n",
      "D_DIMER_mean : 0.005745205571141751\n"
     ]
    }
   ],
   "source": [
    "from sklearn.ensemble import AdaBoostRegressor\n",
    "\n",
    "regr = AdaBoostRegressor().fit(X, Y_ITU)\n",
    "\n",
    "for feature,importance in zip(X_feature_name_lst,regr.feature_importances_):\n",
    "    print(feature,\":\",importance)"
   ]
  },
  {
   "cell_type": "code",
   "execution_count": 41,
   "metadata": {},
   "outputs": [
    {
     "data": {
      "text/plain": "[('AST_min', 0.19418656587042812),\n ('CRP_max', 0.11663444477906902),\n ('D_DIMER_max', 0.1016478349468603),\n ('CREATENINE_min', 0.08724394361760562),\n ('HB_min', 0.08435466207340028),\n ('TRIGYCERIN_min', 0.04866607822339483),\n ('EOSINOPHILS_mean', 0.037088195721190084),\n ('TRIGYCERIN_max', 0.03512245755852078),\n ('POTASSIUM_max', 0.027559948687774973),\n ('FERRITIN_min', 0.026435871226627987)]"
     },
     "execution_count": 41,
     "metadata": {},
     "output_type": "execute_result"
    }
   ],
   "source": [
    "feature_importance_dic=dict(zip(X_feature_name_lst,regr.feature_importances_))\n",
    "from sklearn.feature_selection import SelectFromModel\n",
    "sorted(\n",
    "    [(X_feature_name_lst[i],feature_importance_dic[X_feature_name_lst[i]]) for i in SelectFromModel(regr, prefit=True, max_features=10).get_support(indices=True)],\n",
    "    key=lambda x:x[1],\n",
    "    reverse=True\n",
    ")"
   ]
  },
  {
   "cell_type": "markdown",
   "metadata": {},
   "source": [
    "ITU_DAYS feature importance analysis $\\textbf{GradientBoostingTree}$"
   ]
  },
  {
   "cell_type": "code",
   "execution_count": 42,
   "metadata": {
    "scrolled": true
   },
   "outputs": [
    {
     "name": "stdout",
     "output_type": "stream",
     "text": [
      "GENDER_F : 0.0\n",
      "GENDER_M : 0.0\n",
      "ETHNIC_GROUP_A : 1.324382922337909e-07\n",
      "ETHNIC_GROUP_C : 0.0\n",
      "ETHNIC_GROUP_E : 0.0\n",
      "ETHNIC_GROUP_G : 0.0\n",
      "ETHNIC_GROUP_H : 0.0\n",
      "ETHNIC_GROUP_J : 0.0\n",
      "ETHNIC_GROUP_L : 0.0\n",
      "ETHNIC_GROUP_M : 0.0\n",
      "ETHNIC_GROUP_N : 0.00108606544855589\n",
      "ETHNIC_GROUP_P : 0.0\n",
      "ETHNIC_GROUP_R : 0.0\n",
      "ETHNIC_GROUP_S : 0.0\n",
      "ETHNIC_GROUP_X : 0.0\n",
      "ETHNIC_GROUP_Z : 0.0\n",
      "IS_PREGNANT_0 : 0.0\n",
      "PATIENT_AGE : 0.00178257292094354\n",
      "POTASSIUM_min : 0.00018886192950387526\n",
      "POTASSIUM_max : 0.0077191260574679685\n",
      "POTASSIUM_mean : 0.006417192529975659\n",
      "ALT_min : 3.056781406180897e-05\n",
      "ALT_max : 0.00022361571068076945\n",
      "ALT_mean : 0.0002964770634966257\n",
      "BILIRUBIN_min : 0.011004364140185446\n",
      "BILIRUBIN_max : 8.79281485984589e-05\n",
      "BILIRUBIN_mean : 0.0008901996562796411\n",
      "UREA_min : 2.96942231165821e-05\n",
      "UREA_max : 0.0008135932562444776\n",
      "UREA_mean : 0.010635547687908635\n",
      "CREATENINE_min : 0.06742086712509641\n",
      "CREATENINE_max : 0.0010507935911863925\n",
      "CREATENINE_mean : 0.0008253105306256921\n",
      "SODIUM_min : 0.00032330779492044555\n",
      "SODIUM_max : 0.0021325363299158065\n",
      "SODIUM_mean : 0.0007029176321847403\n",
      "CRP_min : 0.0002174366169510554\n",
      "CRP_max : 0.16919646636806723\n",
      "CRP_mean : 0.00016848968954713916\n",
      "NEUTROPHILS_min : 3.5060424520905706e-05\n",
      "NEUTROPHILS_max : 0.0006929670254896149\n",
      "NEUTROPHILS_mean : 0.0\n",
      "EOSINOPHILS_min : 0.0\n",
      "EOSINOPHILS_max : 0.2866979821311893\n",
      "EOSINOPHILS_mean : 0.01363177907562766\n",
      "HB_min : 0.004579910668770822\n",
      "HB_max : 0.00013359010249964178\n",
      "HB_mean : 0.006717437161739599\n",
      "LYMPHOCYTES_min : 0.0023049620432104576\n",
      "LYMPHOCYTES_max : 1.6095000355130015e-06\n",
      "LYMPHOCYTES_mean : 5.023738571091213e-06\n",
      "WBC_min : 0.01273021065324146\n",
      "WBC_max : 0.008470754943760223\n",
      "WBC_mean : 0.0003963214827848165\n",
      "PLATELETS_min : 9.157801908678904e-05\n",
      "PLATELETS_max : 0.0009664533080723652\n",
      "PLATELETS_mean : 0.0008019007077921382\n",
      "GLUCOSE_min : 0.00663314250369598\n",
      "GLUCOSE_max : 3.578068553826724e-05\n",
      "GLUCOSE_mean : 0.005019421809837716\n",
      "TRIGYCERIN_min : 0.06445438184066717\n",
      "TRIGYCERIN_max : 0.13347126458905825\n",
      "TRIGYCERIN_mean : 0.00350366453263321\n",
      "FERRITIN_min : 0.0\n",
      "FERRITIN_max : 0.00046126669067169106\n",
      "FERRITIN_mean : 0.017084797137337324\n",
      "AST_min : 0.021383517457617834\n",
      "AST_max : 0.001480528553676317\n",
      "AST_mean : 0.00044639554729136813\n",
      "TROPONIN_min : 0.006798306576930367\n",
      "TROPONIN_max : 0.011837161848662946\n",
      "TROPONIN_mean : 0.0004067681548053088\n",
      "LDH_min : 0.004296137127067288\n",
      "LDH_max : 0.009867341675303813\n",
      "LDH_mean : 3.316139438673967e-05\n",
      "D_DIMER_min : 0.0027135339620784557\n",
      "D_DIMER_max : 0.08838142630323106\n",
      "D_DIMER_mean : 0.00019039591930988036\n"
     ]
    }
   ],
   "source": [
    "from sklearn.ensemble import GradientBoostingRegressor\n",
    "\n",
    "regr = GradientBoostingRegressor().fit(X, Y_ITU)\n",
    "\n",
    "for feature,importance in zip(X_feature_name_lst,regr.feature_importances_):\n",
    "    print(feature,\":\",importance)"
   ]
  },
  {
   "cell_type": "code",
   "execution_count": 43,
   "metadata": {},
   "outputs": [
    {
     "data": {
      "text/plain": "[('EOSINOPHILS_max', 0.2866979821311893),\n ('CRP_max', 0.16919646636806723),\n ('TRIGYCERIN_max', 0.13347126458905825),\n ('D_DIMER_max', 0.08838142630323106),\n ('CREATENINE_min', 0.06742086712509641),\n ('TRIGYCERIN_min', 0.06445438184066717),\n ('AST_min', 0.021383517457617834),\n ('FERRITIN_mean', 0.017084797137337324),\n ('EOSINOPHILS_mean', 0.01363177907562766)]"
     },
     "execution_count": 43,
     "metadata": {},
     "output_type": "execute_result"
    }
   ],
   "source": [
    "feature_importance_dic=dict(zip(X_feature_name_lst,regr.feature_importances_))\n",
    "from sklearn.feature_selection import SelectFromModel\n",
    "sorted(\n",
    "    [(X_feature_name_lst[i],feature_importance_dic[X_feature_name_lst[i]]) for i in SelectFromModel(regr, prefit=True, max_features=10).get_support(indices=True)],\n",
    "    key=lambda x:x[1],\n",
    "    reverse=True\n",
    ")"
   ]
  },
  {
   "cell_type": "code",
   "execution_count": 43,
   "metadata": {},
   "outputs": [],
   "source": []
  },
  {
   "cell_type": "markdown",
   "metadata": {},
   "source": [
    "AIR_ventilator prediction test, evaluated by R2_score:\n",
    "$R^2(y, \\hat{y}) = 1 - \\frac{\\sum_{i=1}^{n} (y_i - \\hat{y}_i)^2}{\\sum_{i=1}^{n} (y_i - \\bar{y})^2}$"
   ]
  },
  {
   "cell_type": "code",
   "execution_count": 44,
   "metadata": {},
   "outputs": [],
   "source": [
    "from sklearn.linear_model import LinearRegression\n",
    "from sklearn.tree import DecisionTreeRegressor\n",
    "from sklearn.ensemble import RandomForestRegressor\n",
    "from sklearn.ensemble import AdaBoostRegressor\n",
    "from sklearn.ensemble import GradientBoostingRegressor\n",
    "from sklearn.neural_network import MLPRegressor\n",
    "\n",
    "models={\n",
    "    \"Linear\":LinearRegression(),\n",
    "    \"MLP\":MLPRegressor(max_iter=3000,solver='adam', alpha=1e-3,hidden_layer_sizes=(64, 16)),\n",
    "    \"DecisionTree\":DecisionTreeRegressor(),\n",
    "    \"RandomForest\":RandomForestRegressor(),\n",
    "    \"AdaBoost\":AdaBoostRegressor(n_estimators=100),\n",
    "    \"GradientBoosting\":GradientBoostingRegressor(),\n",
    "}"
   ]
  },
  {
   "cell_type": "code",
   "execution_count": 45,
   "metadata": {},
   "outputs": [
    {
     "name": "stdout",
     "output_type": "stream",
     "text": [
      "     Linear        MLP  DecisionTree  RandomForest  AdaBoost  GradientBoosting\n",
      "0  0.028640  -9.329925     -0.158850      0.490783  0.591655          0.539969\n",
      "1  0.167084 -28.127425     -0.043197      0.625591  0.516396          0.595089\n",
      "2 -0.110639 -85.170361      0.385280      0.560576  0.535526          0.518085\n",
      "3 -1.839184 -25.543466     -0.007564      0.550191  0.489163          0.580513\n",
      "4  0.249323 -69.201009      0.382014      0.554062  0.487554          0.512206\n"
     ]
    }
   ],
   "source": [
    "from sklearn.model_selection import KFold\n",
    "\n",
    "from sklearn.metrics import r2_score\n",
    "\n",
    "r2_result_lst=[]\n",
    "\n",
    "kf = KFold(n_splits=5)\n",
    "\n",
    "for train_index, test_index in kf.split(X):\n",
    "    X_train, X_test = X[train_index], X[test_index]\n",
    "    y_train, y_test = Y_AIR[train_index], Y_AIR[test_index]\n",
    "    r2_result_lst.append(\n",
    "        [r2_score(y_test,models[model_name].fit(X_train,y_train).predict(X_test))\n",
    "         for model_name in models])\n",
    "\n",
    "print(pd.DataFrame(r2_result_lst,columns=[model_name for model_name in models]))"
   ]
  },
  {
   "cell_type": "markdown",
   "metadata": {},
   "source": [
    "AIR_ventilator feature importance analysis $\\textbf{RandomForest}$"
   ]
  },
  {
   "cell_type": "code",
   "execution_count": 46,
   "metadata": {
    "scrolled": true
   },
   "outputs": [
    {
     "name": "stdout",
     "output_type": "stream",
     "text": [
      "GENDER_F : 0.00131806967929291\n",
      "GENDER_M : 0.0006874752667959194\n",
      "ETHNIC_GROUP_A : 0.00017081372416345952\n",
      "ETHNIC_GROUP_C : 3.5605945757458525e-06\n",
      "ETHNIC_GROUP_E : 1.4551632732521222e-06\n",
      "ETHNIC_GROUP_G : 0.0\n",
      "ETHNIC_GROUP_H : 0.0005454683866574066\n",
      "ETHNIC_GROUP_J : 9.648867879511102e-06\n",
      "ETHNIC_GROUP_L : 0.0007449493534004935\n",
      "ETHNIC_GROUP_M : 0.0\n",
      "ETHNIC_GROUP_N : 3.0539401318819736e-06\n",
      "ETHNIC_GROUP_P : 0.0\n",
      "ETHNIC_GROUP_R : 0.0\n",
      "ETHNIC_GROUP_S : 5.724335291117744e-05\n",
      "ETHNIC_GROUP_X : 1.883409186055167e-05\n",
      "ETHNIC_GROUP_Z : 0.00011306511411892086\n",
      "IS_PREGNANT_0 : 0.0\n",
      "PATIENT_AGE : 0.05536129935370548\n",
      "POTASSIUM_min : 0.005273438086296391\n",
      "POTASSIUM_max : 0.024725498678445278\n",
      "POTASSIUM_mean : 0.0119093568982215\n",
      "ALT_min : 0.003231333846442641\n",
      "ALT_max : 0.026611242788302705\n",
      "ALT_mean : 0.009452312304526584\n",
      "BILIRUBIN_min : 0.009261182263906313\n",
      "BILIRUBIN_max : 0.005774223424742344\n",
      "BILIRUBIN_mean : 0.005585904108086863\n",
      "UREA_min : 0.005961414221523069\n",
      "UREA_max : 0.008314450976499266\n",
      "UREA_mean : 0.008061948936510781\n",
      "CREATENINE_min : 0.008591744628471438\n",
      "CREATENINE_max : 0.0019759945047416365\n",
      "CREATENINE_mean : 0.005579658366716573\n",
      "SODIUM_min : 0.005339107012387065\n",
      "SODIUM_max : 0.015114141132059953\n",
      "SODIUM_mean : 0.01036120494930691\n",
      "CRP_min : 0.012025171366092696\n",
      "CRP_max : 0.13341916593213507\n",
      "CRP_mean : 0.021664207843494775\n",
      "NEUTROPHILS_min : 0.004017451800809977\n",
      "NEUTROPHILS_max : 0.004656521514407545\n",
      "NEUTROPHILS_mean : 0.006610422518896263\n",
      "EOSINOPHILS_min : 0.0002596147880112524\n",
      "EOSINOPHILS_max : 0.0027793032436835134\n",
      "EOSINOPHILS_mean : 0.005837732008057837\n",
      "HB_min : 0.006286345841696217\n",
      "HB_max : 0.004634542104425547\n",
      "HB_mean : 0.005730904246049635\n",
      "LYMPHOCYTES_min : 0.0032515404046290423\n",
      "LYMPHOCYTES_max : 0.008648917078484426\n",
      "LYMPHOCYTES_mean : 0.004847468047159195\n",
      "WBC_min : 0.004077056056259942\n",
      "WBC_max : 0.0048569651368911984\n",
      "WBC_mean : 0.0035607210309751267\n",
      "PLATELETS_min : 0.007959792457791064\n",
      "PLATELETS_max : 0.0056514783618773715\n",
      "PLATELETS_mean : 0.0056753082064416125\n",
      "GLUCOSE_min : 0.011502615233296645\n",
      "GLUCOSE_max : 0.003515716651420569\n",
      "GLUCOSE_mean : 0.005953809497074427\n",
      "TRIGYCERIN_min : 0.01779003778138871\n",
      "TRIGYCERIN_max : 0.24425127783893916\n",
      "TRIGYCERIN_mean : 0.004468759007971616\n",
      "FERRITIN_min : 0.002114392648137738\n",
      "FERRITIN_max : 0.006889625086853563\n",
      "FERRITIN_mean : 0.0073977464527848905\n",
      "AST_min : 0.006647868650064314\n",
      "AST_max : 0.007615429349654951\n",
      "AST_mean : 0.002073448584941554\n",
      "TROPONIN_min : 0.007771818554320651\n",
      "TROPONIN_max : 0.0043060573482956695\n",
      "TROPONIN_mean : 0.003706253456686689\n",
      "LDH_min : 0.0027986129091928\n",
      "LDH_max : 0.07808134336885582\n",
      "LDH_mean : 0.002724399785459547\n",
      "D_DIMER_min : 0.02074052939140987\n",
      "D_DIMER_max : 0.06679783238990399\n",
      "D_DIMER_mean : 0.006242702009123466\n"
     ]
    }
   ],
   "source": [
    "from sklearn.ensemble import RandomForestRegressor\n",
    "\n",
    "regr = RandomForestRegressor().fit(X, Y_AIR)\n",
    "\n",
    "for feature,importance in zip(X_feature_name_lst,regr.feature_importances_):\n",
    "    print(feature,\":\",importance)"
   ]
  },
  {
   "cell_type": "code",
   "execution_count": 47,
   "metadata": {
    "scrolled": true
   },
   "outputs": [
    {
     "data": {
      "text/plain": "[('TRIGYCERIN_max', 0.24425127783893916),\n ('CRP_max', 0.13341916593213507),\n ('LDH_max', 0.07808134336885582),\n ('D_DIMER_max', 0.06679783238990399),\n ('PATIENT_AGE', 0.05536129935370548),\n ('ALT_max', 0.026611242788302705),\n ('POTASSIUM_max', 0.024725498678445278),\n ('CRP_mean', 0.021664207843494775),\n ('D_DIMER_min', 0.02074052939140987),\n ('TRIGYCERIN_min', 0.01779003778138871)]"
     },
     "execution_count": 47,
     "metadata": {},
     "output_type": "execute_result"
    }
   ],
   "source": [
    "feature_importance_dic=dict(zip(X_feature_name_lst,regr.feature_importances_))\n",
    "from sklearn.feature_selection import SelectFromModel\n",
    "sorted(\n",
    "    [(X_feature_name_lst[i],feature_importance_dic[X_feature_name_lst[i]]) for i in SelectFromModel(regr, prefit=True, max_features=10).get_support(indices=True)],\n",
    "    key=lambda x:x[1],\n",
    "    reverse=True\n",
    ")"
   ]
  },
  {
   "cell_type": "markdown",
   "metadata": {},
   "source": [
    "AIR_ventilator feature importance analysis $\\textbf{AdaBoost}$"
   ]
  },
  {
   "cell_type": "code",
   "execution_count": 48,
   "metadata": {
    "scrolled": true
   },
   "outputs": [
    {
     "name": "stdout",
     "output_type": "stream",
     "text": [
      "GENDER_F : 0.0\n",
      "GENDER_M : 0.0\n",
      "ETHNIC_GROUP_A : 0.0\n",
      "ETHNIC_GROUP_C : 0.0\n",
      "ETHNIC_GROUP_E : 0.0\n",
      "ETHNIC_GROUP_G : 0.0\n",
      "ETHNIC_GROUP_H : 0.0\n",
      "ETHNIC_GROUP_J : 0.0\n",
      "ETHNIC_GROUP_L : 0.001440147672738927\n",
      "ETHNIC_GROUP_M : 0.0\n",
      "ETHNIC_GROUP_N : 0.0\n",
      "ETHNIC_GROUP_P : 0.001084266355854827\n",
      "ETHNIC_GROUP_R : 0.0\n",
      "ETHNIC_GROUP_S : 0.0\n",
      "ETHNIC_GROUP_X : 0.0014029315270668494\n",
      "ETHNIC_GROUP_Z : 0.0\n",
      "IS_PREGNANT_0 : 0.0\n",
      "PATIENT_AGE : 0.09013949404082458\n",
      "POTASSIUM_min : 0.004600125263586607\n",
      "POTASSIUM_max : 0.04208707452882776\n",
      "POTASSIUM_mean : 0.020747723968477374\n",
      "ALT_min : 0.001587695886093182\n",
      "ALT_max : 0.029327354506280157\n",
      "ALT_mean : 0.015343530334602961\n",
      "BILIRUBIN_min : 0.015702447243113114\n",
      "BILIRUBIN_max : 0.003885836061127963\n",
      "BILIRUBIN_mean : 0.00928358890085354\n",
      "UREA_min : 0.0\n",
      "UREA_max : 0.008550146806006478\n",
      "UREA_mean : 0.015527785682248605\n",
      "CREATENINE_min : 0.005238485763429345\n",
      "CREATENINE_max : 0.015529674858001783\n",
      "CREATENINE_mean : 0.0012578491408903245\n",
      "SODIUM_min : 0.007709314522535455\n",
      "SODIUM_max : 0.01903560919157007\n",
      "SODIUM_mean : 0.03635027942494197\n",
      "CRP_min : 0.03278608673577233\n",
      "CRP_max : 0.07674396608847357\n",
      "CRP_mean : 0.0519331336500658\n",
      "NEUTROPHILS_min : 0.00033204741209783283\n",
      "NEUTROPHILS_max : 0.031205499622898626\n",
      "NEUTROPHILS_mean : 0.0\n",
      "EOSINOPHILS_min : 0.0\n",
      "EOSINOPHILS_max : 0.0009295307723147056\n",
      "EOSINOPHILS_mean : 0.007140133667088324\n",
      "HB_min : 0.012979614014528917\n",
      "HB_max : 0.014947007588687332\n",
      "HB_mean : 0.007159419473011509\n",
      "LYMPHOCYTES_min : 0.007353551573969325\n",
      "LYMPHOCYTES_max : 0.006381323507432383\n",
      "LYMPHOCYTES_mean : 0.0031870331485500058\n",
      "WBC_min : 0.0024052238509079606\n",
      "WBC_max : 0.0187662765211099\n",
      "WBC_mean : 0.0075794930547523134\n",
      "PLATELETS_min : 0.019588635239311238\n",
      "PLATELETS_max : 0.018522177263885345\n",
      "PLATELETS_mean : 0.00476138898432994\n",
      "GLUCOSE_min : 0.04309408696091272\n",
      "GLUCOSE_max : 0.01633978022533622\n",
      "GLUCOSE_mean : 0.03447844410643994\n",
      "TRIGYCERIN_min : 6.81717348706214e-05\n",
      "TRIGYCERIN_max : 0.02676265411818441\n",
      "TRIGYCERIN_mean : 0.0017665862081934801\n",
      "FERRITIN_min : 1.8774485516190454e-05\n",
      "FERRITIN_max : 0.004541473305395834\n",
      "FERRITIN_mean : 0.0032937918484897788\n",
      "AST_min : 0.0\n",
      "AST_max : 0.0004784847760840268\n",
      "AST_mean : 0.00015875998360990798\n",
      "TROPONIN_min : 0.040873284177569996\n",
      "TROPONIN_max : 0.011847133819715795\n",
      "TROPONIN_mean : 0.0\n",
      "LDH_min : 0.0017896361451267015\n",
      "LDH_max : 0.027497827690902945\n",
      "LDH_mean : 0.0\n",
      "D_DIMER_min : 0.03690454424647643\n",
      "D_DIMER_max : 0.0682261729384314\n",
      "D_DIMER_mean : 0.011327489380484373\n"
     ]
    }
   ],
   "source": [
    "from sklearn.ensemble import AdaBoostRegressor\n",
    "\n",
    "regr = AdaBoostRegressor().fit(X, Y_AIR)\n",
    "\n",
    "for feature,importance in zip(X_feature_name_lst,regr.feature_importances_):\n",
    "    print(feature,\":\",importance)"
   ]
  },
  {
   "cell_type": "code",
   "execution_count": 49,
   "metadata": {
    "scrolled": true
   },
   "outputs": [
    {
     "data": {
      "text/plain": "[('PATIENT_AGE', 0.09013949404082458),\n ('CRP_max', 0.07674396608847357),\n ('D_DIMER_max', 0.0682261729384314),\n ('CRP_mean', 0.0519331336500658),\n ('GLUCOSE_min', 0.04309408696091272),\n ('POTASSIUM_max', 0.04208707452882776),\n ('TROPONIN_min', 0.040873284177569996),\n ('D_DIMER_min', 0.03690454424647643),\n ('SODIUM_mean', 0.03635027942494197),\n ('GLUCOSE_mean', 0.03447844410643994)]"
     },
     "execution_count": 49,
     "metadata": {},
     "output_type": "execute_result"
    }
   ],
   "source": [
    "feature_importance_dic=dict(zip(X_feature_name_lst,regr.feature_importances_))\n",
    "from sklearn.feature_selection import SelectFromModel\n",
    "sorted(\n",
    "    [(X_feature_name_lst[i],feature_importance_dic[X_feature_name_lst[i]]) for i in SelectFromModel(regr, prefit=True, max_features=10).get_support(indices=True)],\n",
    "    key=lambda x:x[1],\n",
    "    reverse=True\n",
    ")"
   ]
  },
  {
   "cell_type": "markdown",
   "metadata": {},
   "source": [
    "AIR_ventilator feature importance analysis $\\textbf{GradientBoostingTree}$"
   ]
  },
  {
   "cell_type": "code",
   "execution_count": 50,
   "metadata": {
    "scrolled": false
   },
   "outputs": [
    {
     "name": "stdout",
     "output_type": "stream",
     "text": [
      "GENDER_F : 0.0\n",
      "GENDER_M : 0.0008300650881879382\n",
      "ETHNIC_GROUP_A : 0.00046738648657812374\n",
      "ETHNIC_GROUP_C : 0.0\n",
      "ETHNIC_GROUP_E : 0.0\n",
      "ETHNIC_GROUP_G : 0.0\n",
      "ETHNIC_GROUP_H : 0.0\n",
      "ETHNIC_GROUP_J : 0.0\n",
      "ETHNIC_GROUP_L : 0.0\n",
      "ETHNIC_GROUP_M : 0.0\n",
      "ETHNIC_GROUP_N : 0.0\n",
      "ETHNIC_GROUP_P : 0.00038113485681811634\n",
      "ETHNIC_GROUP_R : 0.0\n",
      "ETHNIC_GROUP_S : 0.0\n",
      "ETHNIC_GROUP_X : 0.0\n",
      "ETHNIC_GROUP_Z : 0.0\n",
      "IS_PREGNANT_0 : 0.0\n",
      "PATIENT_AGE : 0.061539809601234396\n",
      "POTASSIUM_min : 0.00025582446263704606\n",
      "POTASSIUM_max : 0.04449617401998308\n",
      "POTASSIUM_mean : 0.002363344632184042\n",
      "ALT_min : 0.0015149455352347905\n",
      "ALT_max : 0.019964237384961284\n",
      "ALT_mean : 0.007869757228297646\n",
      "BILIRUBIN_min : 0.0014613348779521597\n",
      "BILIRUBIN_max : 0.0022428149952115235\n",
      "BILIRUBIN_mean : 0.0003183665173366538\n",
      "UREA_min : 0.002378855197518968\n",
      "UREA_max : 0.009417837889875089\n",
      "UREA_mean : 0.007193129011382494\n",
      "CREATENINE_min : 0.006673816803359852\n",
      "CREATENINE_max : 0.0007375637969271162\n",
      "CREATENINE_mean : 0.015967237504950528\n",
      "SODIUM_min : 0.00830094396062444\n",
      "SODIUM_max : 0.03147763230287275\n",
      "SODIUM_mean : 0.022262994222214668\n",
      "CRP_min : 0.023996623971727055\n",
      "CRP_max : 0.1393858395720832\n",
      "CRP_mean : 0.01981756925866194\n",
      "NEUTROPHILS_min : 0.002871291756210836\n",
      "NEUTROPHILS_max : 0.01719158445544286\n",
      "NEUTROPHILS_mean : 0.006489580544568867\n",
      "EOSINOPHILS_min : 0.0006429878459350731\n",
      "EOSINOPHILS_max : 0.00024108989711174882\n",
      "EOSINOPHILS_mean : 0.000623485872701271\n",
      "HB_min : 0.008047955898914579\n",
      "HB_max : 0.0047976067848485605\n",
      "HB_mean : 0.001239609565073516\n",
      "LYMPHOCYTES_min : 0.00029825753970348455\n",
      "LYMPHOCYTES_max : 0.012945836272689065\n",
      "LYMPHOCYTES_mean : 0.001033451138685434\n",
      "WBC_min : 0.0017914572352157934\n",
      "WBC_max : 0.002053218992383247\n",
      "WBC_mean : 0.001556908932973316\n",
      "PLATELETS_min : 0.006425952896085861\n",
      "PLATELETS_max : 0.0037828944269011886\n",
      "PLATELETS_mean : 0.003318256673642191\n",
      "GLUCOSE_min : 0.023251774799755074\n",
      "GLUCOSE_max : 0.005836504167887188\n",
      "GLUCOSE_mean : 0.006060820214412261\n",
      "TRIGYCERIN_min : 0.006534608514983273\n",
      "TRIGYCERIN_max : 0.24045953932748726\n",
      "TRIGYCERIN_mean : 0.001745900575774181\n",
      "FERRITIN_min : 0.0017981466210490386\n",
      "FERRITIN_max : 0.00451433601882065\n",
      "FERRITIN_mean : 0.003465239622443865\n",
      "AST_min : 0.0012459296343993993\n",
      "AST_max : 0.0\n",
      "AST_mean : 0.0\n",
      "TROPONIN_min : 0.056236351205846136\n",
      "TROPONIN_max : 0.012098262063785416\n",
      "TROPONIN_mean : 0.0017747342721369389\n",
      "LDH_min : 0.0021619475418544983\n",
      "LDH_max : 0.04171311413382089\n",
      "LDH_mean : 0.0001594663263729625\n",
      "D_DIMER_min : 0.0194055149766747\n",
      "D_DIMER_max : 0.06486643792560656\n",
      "D_DIMER_mean : 4.706148987827482e-06\n"
     ]
    }
   ],
   "source": [
    "from sklearn.ensemble import GradientBoostingRegressor\n",
    "\n",
    "regr = GradientBoostingRegressor().fit(X, Y_AIR)\n",
    "\n",
    "for feature,importance in zip(X_feature_name_lst,regr.feature_importances_):\n",
    "    print(feature,\":\",importance)"
   ]
  },
  {
   "cell_type": "code",
   "execution_count": 51,
   "metadata": {
    "scrolled": true
   },
   "outputs": [
    {
     "data": {
      "text/plain": "[('TRIGYCERIN_max', 0.24045953932748726),\n ('CRP_max', 0.1393858395720832),\n ('D_DIMER_max', 0.06486643792560656),\n ('PATIENT_AGE', 0.061539809601234396),\n ('TROPONIN_min', 0.056236351205846136),\n ('POTASSIUM_max', 0.04449617401998308),\n ('LDH_max', 0.04171311413382089),\n ('SODIUM_max', 0.03147763230287275),\n ('CRP_min', 0.023996623971727055),\n ('GLUCOSE_min', 0.023251774799755074)]"
     },
     "execution_count": 51,
     "metadata": {},
     "output_type": "execute_result"
    }
   ],
   "source": [
    "feature_importance_dic=dict(zip(X_feature_name_lst,regr.feature_importances_))\n",
    "from sklearn.feature_selection import SelectFromModel\n",
    "sorted(\n",
    "    [(X_feature_name_lst[i],feature_importance_dic[X_feature_name_lst[i]]) for i in SelectFromModel(regr, prefit=True, max_features=10).get_support(indices=True)],\n",
    "    key=lambda x:x[1],\n",
    "    reverse=True\n",
    ")"
   ]
  },
  {
   "cell_type": "code",
   "execution_count": 51,
   "metadata": {},
   "outputs": [],
   "source": []
  },
  {
   "cell_type": "code",
   "execution_count": 51,
   "metadata": {
    "pycharm": {
     "name": "#%%\n"
    }
   },
   "outputs": [],
   "source": [
    "\n"
   ]
  },
  {
   "cell_type": "code",
   "execution_count": 51,
   "metadata": {},
   "outputs": [],
   "source": []
  },
  {
   "cell_type": "code",
   "execution_count": 51,
   "metadata": {},
   "outputs": [],
   "source": []
  },
  {
   "cell_type": "code",
   "execution_count": 51,
   "metadata": {},
   "outputs": [],
   "source": []
  },
  {
   "cell_type": "code",
   "execution_count": 51,
   "metadata": {},
   "outputs": [],
   "source": []
  },
  {
   "cell_type": "code",
   "execution_count": 51,
   "metadata": {},
   "outputs": [],
   "source": []
  },
  {
   "cell_type": "code",
   "execution_count": 51,
   "metadata": {},
   "outputs": [],
   "source": []
  },
  {
   "cell_type": "code",
   "execution_count": 51,
   "metadata": {},
   "outputs": [],
   "source": []
  }
 ],
 "metadata": {
  "kernelspec": {
   "name": "python3",
   "language": "python",
   "display_name": "Python 3"
  },
  "language_info": {
   "codemirror_mode": {
    "name": "ipython",
    "version": 3
   },
   "file_extension": ".py",
   "mimetype": "text/x-python",
   "name": "python",
   "nbconvert_exporter": "python",
   "pygments_lexer": "ipython3",
   "version": "3.7.6"
  }
 },
 "nbformat": 4,
 "nbformat_minor": 4
}