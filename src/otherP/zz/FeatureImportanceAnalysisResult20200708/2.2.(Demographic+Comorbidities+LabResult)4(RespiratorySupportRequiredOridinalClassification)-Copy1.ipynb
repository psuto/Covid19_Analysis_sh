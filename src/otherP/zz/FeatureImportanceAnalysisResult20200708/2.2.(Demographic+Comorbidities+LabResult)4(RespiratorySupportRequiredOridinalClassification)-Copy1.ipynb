{
 "cells": [
  {
   "cell_type": "code",
   "execution_count": 1,
   "metadata": {},
   "outputs": [],
   "source": [
    "import csv\n",
    "import numpy as np\n",
    "import multiprocessing as mp\n",
    "import random\n",
    "import matplotlib.pyplot as plt\n",
    "import pickle\n",
    "import pandas as pd\n",
    "#import tensorflow as tf\n",
    "import json\n",
    "from sklearn.model_selection import train_test_split\n",
    "import math\n",
    "\n",
    "import warnings\n",
    "warnings.filterwarnings('ignore')"
   ]
  },
  {
   "cell_type": "code",
   "execution_count": 2,
   "metadata": {},
   "outputs": [],
   "source": [
    "data_dir='../data/Current Data/'"
   ]
  },
  {
   "cell_type": "code",
   "execution_count": null,
   "metadata": {},
   "outputs": [],
   "source": []
  },
  {
   "cell_type": "code",
   "execution_count": 3,
   "metadata": {},
   "outputs": [],
   "source": [
    "CategoricalFeatures=[]\n",
    "NumericFeatures=[]"
   ]
  },
  {
   "cell_type": "markdown",
   "metadata": {},
   "source": [
    "demographics"
   ]
  },
  {
   "cell_type": "code",
   "execution_count": 4,
   "metadata": {
    "scrolled": true
   },
   "outputs": [],
   "source": [
    "df_demographics=pd.read_csv(data_dir+'REACT_Demographics'+'.csv')\n",
    "#df_demographics.info()"
   ]
  },
  {
   "cell_type": "code",
   "execution_count": 5,
   "metadata": {},
   "outputs": [],
   "source": [
    "#df_demographics.head()"
   ]
  },
  {
   "cell_type": "code",
   "execution_count": 6,
   "metadata": {},
   "outputs": [],
   "source": [
    "#df_demographics.columns"
   ]
  },
  {
   "cell_type": "code",
   "execution_count": 7,
   "metadata": {},
   "outputs": [],
   "source": [
    "CategoricalFeatures+=['GENDER','ETHNIC_GROUP', 'SMOKING_HISTORY']\n",
    "NumericFeatures+=['PATIENT_AGE']"
   ]
  },
  {
   "cell_type": "code",
   "execution_count": 8,
   "metadata": {},
   "outputs": [],
   "source": [
    "studyid_data_dic=dict()\n",
    "for studyid,age,gender,ethnic,smoking in df_demographics[['STUDY_ID','PATIENT_AGE','GENDER','ETHNIC_GROUP', 'SMOKING_HISTORY']].values:\n",
    "    if age is not np.nan and gender is not np.nan and ethnic is not np.nan and smoking is not np.nan:\n",
    "        if studyid not in studyid_data_dic:\n",
    "            studyid_data_dic[studyid]=dict()\n",
    "        studyid_data_dic[studyid]['PATIENT_AGE']=age\n",
    "        studyid_data_dic[studyid]['GENDER']=str(gender)\n",
    "        studyid_data_dic[studyid]['ETHNIC_GROUP']=ethnic\n",
    "        studyid_data_dic[studyid]['SMOKING_HISTORY']=smoking\n",
    "#studyid_data_dic"
   ]
  },
  {
   "cell_type": "code",
   "execution_count": null,
   "metadata": {},
   "outputs": [],
   "source": []
  },
  {
   "cell_type": "markdown",
   "metadata": {},
   "source": [
    "Comorbidities"
   ]
  },
  {
   "cell_type": "code",
   "execution_count": 9,
   "metadata": {},
   "outputs": [],
   "source": [
    "df_comorbidities=pd.read_csv(data_dir+'REACT_Comorbidities_unpivoted'+'.csv')\n",
    "#df_demographics.info()"
   ]
  },
  {
   "cell_type": "code",
   "execution_count": 10,
   "metadata": {},
   "outputs": [],
   "source": [
    "comorbidities=list(df_comorbidities.COMORBIDITY.unique())\n",
    "NumericFeatures+=comorbidities\n",
    "for studyid in studyid_data_dic:\n",
    "    for co in comorbidities:\n",
    "        studyid_data_dic[studyid][co]=0"
   ]
  },
  {
   "cell_type": "code",
   "execution_count": 11,
   "metadata": {},
   "outputs": [],
   "source": [
    "for studyid,co,status in df_comorbidities.values:\n",
    "    if studyid in studyid_data_dic:\n",
    "        studyid_data_dic[studyid][co]=status\n",
    "#studyid_data_dic"
   ]
  },
  {
   "cell_type": "code",
   "execution_count": null,
   "metadata": {},
   "outputs": [],
   "source": []
  },
  {
   "cell_type": "markdown",
   "metadata": {},
   "source": [
    "label: RespiratorySupportRequired or not"
   ]
  },
  {
   "cell_type": "code",
   "execution_count": 12,
   "metadata": {},
   "outputs": [],
   "source": [
    "df_Vitalsigns_Categorical=pd.read_csv(data_dir+'REACT_Vitalsigns_Categorical'+'.csv')\n",
    "#df_Vitalsigns_Categorical.info()"
   ]
  },
  {
   "cell_type": "code",
   "execution_count": 13,
   "metadata": {},
   "outputs": [],
   "source": [
    "#df_Vitalsigns_Categorical.head()"
   ]
  },
  {
   "cell_type": "code",
   "execution_count": 14,
   "metadata": {},
   "outputs": [
    {
     "data": {
      "text/plain": [
       "{'Air - Not Supported': 0,\n",
       " 'Face Mask': 1,\n",
       " 'Trachy Mask': 1,\n",
       " 'Non-Rebreath Mask': 1,\n",
       " 'Nasal Specs': 1,\n",
       " 'Venturi Mask': 1,\n",
       " 'Optiflow / Hi Flow': 1,\n",
       " 'NIV - CPAP full face mask': 2,\n",
       " 'NIV - BIPAP face mask': 2,\n",
       " 'NIV - BIPAP nasal mask': 2,\n",
       " 'NIV - CPAP face mask': 2,\n",
       " 'NIV - BIPAP full face mask': 2,\n",
       " 'NIV - CPAP nasal mask': 2,\n",
       " 'Invasive Ventilation': 3}"
      ]
     },
     "execution_count": 14,
     "metadata": {},
     "output_type": "execute_result"
    }
   ],
   "source": [
    "CategorySet=dict()\n",
    "CategorySet[0]=set(['Air - Not Supported'])\n",
    "CategorySet[1]=set([\n",
    "    'Nasal Specs', 'Face Mask', 'Venturi Mask',\n",
    "    'Non-Rebreath Mask', 'Optiflow / Hi Flow',\n",
    "    'Trachy Mask'\n",
    "])\n",
    "CategorySet[2]=set([\n",
    "    'NIV - CPAP face mask', 'NIV - CPAP full face mask',\n",
    "    'NIV - BIPAP face mask', 'NIV - CPAP nasal mask',\n",
    "    'NIV - BIPAP nasal mask', 'NIV - BIPAP full face mask'\n",
    "])\n",
    "CategorySet[3]=set(['Invasive Ventilation'])\n",
    "CategoryDictionary=dict([(item,label) for label in CategorySet for item in CategorySet[label]])\n",
    "CategoryDictionary"
   ]
  },
  {
   "cell_type": "code",
   "execution_count": 15,
   "metadata": {},
   "outputs": [],
   "source": [
    "df_label=df_Vitalsigns_Categorical[df_Vitalsigns_Categorical.PARAMETER=='Respiratory Support'][['STUDY_ID','UNITFROM_DATETIME','VALUE']]"
   ]
  },
  {
   "cell_type": "code",
   "execution_count": 16,
   "metadata": {},
   "outputs": [],
   "source": [
    "from datetime import datetime\n",
    "\n",
    "label_studyid_time_dic=dict()\n",
    "for study_id,start_datetime,label in df_label.values:\n",
    "    start_datetime=start_datetime.split('.')[0]#need to be fixed some datetime end with .000\n",
    "    start_datetime=datetime.strptime(start_datetime,'%Y-%m-%d %H:%M:%S')\n",
    "    label_category=CategoryDictionary[label]\n",
    "    if study_id not in label_studyid_time_dic:\n",
    "        label_studyid_time_dic[study_id]=[start_datetime,label_category]\n",
    "    else:\n",
    "        curr_start_datetime,curr_label_category=label_studyid_time_dic[study_id]\n",
    "        if label_category>curr_label_category or (label_category==curr_label_category and curr_start_datetime>start_datetime):\n",
    "            label_studyid_time_dic[study_id]=[start_datetime,label_category]\n",
    "\n",
    "#label_studyid_time_dic"
   ]
  },
  {
   "cell_type": "code",
   "execution_count": 17,
   "metadata": {},
   "outputs": [],
   "source": [
    "for studyid in studyid_data_dic:\n",
    "    if studyid not in label_studyid_time_dic:\n",
    "        studyid_data_dic[studyid]['TIME_POINT']=None\n",
    "        studyid_data_dic[studyid]['PREDICTION_LABEL']=0\n",
    "    else:\n",
    "        start_datetime,label_category=label_studyid_time_dic[studyid]\n",
    "        studyid_data_dic[studyid]['TIME_POINT']=start_datetime\n",
    "        studyid_data_dic[studyid]['PREDICTION_LABEL']=label_category"
   ]
  },
  {
   "cell_type": "code",
   "execution_count": null,
   "metadata": {},
   "outputs": [],
   "source": []
  },
  {
   "cell_type": "code",
   "execution_count": null,
   "metadata": {},
   "outputs": [],
   "source": []
  },
  {
   "cell_type": "markdown",
   "metadata": {},
   "source": [
    "labresults"
   ]
  },
  {
   "cell_type": "code",
   "execution_count": 18,
   "metadata": {},
   "outputs": [],
   "source": [
    "df_labresults=pd.read_csv(data_dir+'REACT_LabResults'+'.csv')\n",
    "#df_labresults.info()"
   ]
  },
  {
   "cell_type": "code",
   "execution_count": 19,
   "metadata": {},
   "outputs": [],
   "source": [
    "#df_labresults.head()"
   ]
  },
  {
   "cell_type": "code",
   "execution_count": 20,
   "metadata": {},
   "outputs": [],
   "source": [
    "testcode_lst=list(df_labresults.REACT_TESTCODE.unique())\n",
    "testcode2id=dict([(testcode_lst[i],i) for i in range(len(testcode_lst))])"
   ]
  },
  {
   "cell_type": "code",
   "execution_count": 21,
   "metadata": {},
   "outputs": [],
   "source": [
    "from datetime import datetime\n",
    "\n",
    "studyid_testcode_time_numeric_dic=dict()\n",
    "for studyid,test_time,testcode,numeric,lower,upper in df_labresults[[\n",
    "    'STUDY_ID','PATHOLOGY_SPECIMEN_DATE','REACT_TESTCODE',\n",
    "    'PATHOLOGY_RESULT_NUMERIC','LOWER_RANGE','UPPER_RANGE']].values:\n",
    "    test_time=datetime.strptime(test_time,'%Y-%m-%d %H:%M:%S')\n",
    "    if studyid not in studyid_testcode_time_numeric_dic:\n",
    "        studyid_testcode_time_numeric_dic[studyid]=[]\n",
    "    studyid_testcode_time_numeric_dic[studyid].append([test_time,testcode,numeric])\n",
    "#studyid_testcode_time_numeric_dic"
   ]
  },
  {
   "cell_type": "code",
   "execution_count": 22,
   "metadata": {},
   "outputs": [],
   "source": [
    "NumericFeatures+=[testcode+suffix for testcode in testcode_lst for suffix in ['_MIN','_MAX','_MEAN']]"
   ]
  },
  {
   "cell_type": "code",
   "execution_count": 23,
   "metadata": {},
   "outputs": [],
   "source": [
    "for studyid in studyid_data_dic:\n",
    "    for testcode in testcode_lst:\n",
    "        for suffix in ['_MIN','_MAX','_MEAN']:\n",
    "            studyid_data_dic[studyid][testcode+suffix]=None\n",
    "    time_point=studyid_data_dic[studyid]['TIME_POINT']\n",
    "    if studyid in studyid_testcode_time_numeric_dic:\n",
    "        individual_labresult_dic=dict()\n",
    "        for test_time,testcode,numeric in studyid_testcode_time_numeric_dic[studyid]:\n",
    "            if time_point is None or test_time<time_point:\n",
    "                if testcode not in individual_labresult_dic:\n",
    "                    individual_labresult_dic[testcode]=[]\n",
    "                individual_labresult_dic[testcode].append(numeric)\n",
    "        for testcode in individual_labresult_dic:\n",
    "            studyid_data_dic[studyid][testcode+'_MIN']=np.min(individual_labresult_dic[testcode])\n",
    "            studyid_data_dic[studyid][testcode+'_MAX']=np.min(individual_labresult_dic[testcode])\n",
    "            studyid_data_dic[studyid][testcode+'_MEAN']=np.mean(individual_labresult_dic[testcode])"
   ]
  },
  {
   "cell_type": "code",
   "execution_count": null,
   "metadata": {},
   "outputs": [],
   "source": []
  },
  {
   "cell_type": "markdown",
   "metadata": {},
   "source": [
    "data preprocessing"
   ]
  },
  {
   "cell_type": "code",
   "execution_count": 24,
   "metadata": {},
   "outputs": [],
   "source": [
    "studyid_lst=list(studyid_data_dic.keys())\n",
    "#studyid_lst"
   ]
  },
  {
   "cell_type": "code",
   "execution_count": 25,
   "metadata": {},
   "outputs": [],
   "source": [
    "X_cols=[]"
   ]
  },
  {
   "cell_type": "code",
   "execution_count": 26,
   "metadata": {},
   "outputs": [],
   "source": [
    "from sklearn.preprocessing import OneHotEncoder\n",
    "\n",
    "X_categorical=[[studyid_data_dic[studyid][k] for k in CategoricalFeatures] for studyid in studyid_lst]\n",
    "\n",
    "enc = OneHotEncoder(handle_unknown='ignore')\n",
    "X_onehot=enc.fit_transform(X_categorical).toarray()\n",
    "\n",
    "X_cols+=list(enc.get_feature_names(CategoricalFeatures))"
   ]
  },
  {
   "cell_type": "code",
   "execution_count": 27,
   "metadata": {},
   "outputs": [],
   "source": [
    "X_numeric=[[studyid_data_dic[studyid][k] for k in NumericFeatures] for studyid in studyid_lst]\n",
    "X_cols+=NumericFeatures"
   ]
  },
  {
   "cell_type": "code",
   "execution_count": 28,
   "metadata": {},
   "outputs": [],
   "source": [
    "X_missing_value=np.concatenate((X_onehot,X_numeric), axis=1)"
   ]
  },
  {
   "cell_type": "code",
   "execution_count": 29,
   "metadata": {},
   "outputs": [],
   "source": [
    "Y=np.array([studyid_data_dic[studyid]['PREDICTION_LABEL'] for studyid in studyid_lst])"
   ]
  },
  {
   "cell_type": "code",
   "execution_count": null,
   "metadata": {},
   "outputs": [],
   "source": []
  },
  {
   "cell_type": "markdown",
   "metadata": {},
   "source": [
    "balance_ratio=len([_ for v in Y if v==0])/len([_ for v in Y if v==1])\n",
    "balance_ratio"
   ]
  },
  {
   "cell_type": "markdown",
   "metadata": {},
   "source": [
    "from functools import reduce\n",
    "\n",
    "XY_missing_value_balanced=np.array(\n",
    "    reduce(lambda a,b:a+b,[[list(x)+[y]]*(balance_ratio if y==1 else 1) for x,y in zip(X_missing_value,Y)])\n",
    ")\n",
    "#XY_missing_value_balanced"
   ]
  },
  {
   "cell_type": "code",
   "execution_count": null,
   "metadata": {},
   "outputs": [],
   "source": []
  },
  {
   "cell_type": "markdown",
   "metadata": {},
   "source": [
    "fill in nan"
   ]
  },
  {
   "cell_type": "code",
   "execution_count": 30,
   "metadata": {},
   "outputs": [],
   "source": [
    "from sklearn.impute import SimpleImputer\n",
    "imputer = SimpleImputer(missing_values=np.nan, strategy='mean')\n",
    "\n",
    "X=imputer.fit_transform(X_missing_value)"
   ]
  },
  {
   "cell_type": "code",
   "execution_count": null,
   "metadata": {},
   "outputs": [],
   "source": []
  },
  {
   "cell_type": "markdown",
   "metadata": {},
   "source": [
    "Prediction Classification task (RespiratorySupportRequired:1 or not:0)"
   ]
  },
  {
   "cell_type": "code",
   "execution_count": 31,
   "metadata": {},
   "outputs": [],
   "source": [
    "from sklearn.linear_model import LogisticRegression\n",
    "from sklearn.tree import DecisionTreeClassifier\n",
    "from sklearn.ensemble import RandomForestClassifier\n",
    "from sklearn.ensemble import AdaBoostClassifier\n",
    "from sklearn.ensemble import GradientBoostingClassifier\n",
    "from sklearn.neural_network import MLPClassifier\n",
    "from xgboost import XGBClassifier\n",
    "\n",
    "models={\n",
    "    \"Logit\":LogisticRegression(solver=\"lbfgs\"),\n",
    "    \"MLP\":MLPClassifier(max_iter=3000,solver='adam', alpha=1e-3,hidden_layer_sizes=(64)),\n",
    "    \"DecisionTree\":DecisionTreeClassifier(),\n",
    "    \"RandomForest\":RandomForestClassifier(n_estimators=100),\n",
    "    \"AdaBoost\":AdaBoostClassifier(n_estimators=100),\n",
    "    \"GradientBoost\":GradientBoostingClassifier(n_estimators=100),\n",
    "    \"XGBoost\":XGBClassifier(n_estimators=100)\n",
    "}"
   ]
  },
  {
   "cell_type": "code",
   "execution_count": 32,
   "metadata": {
    "scrolled": true
   },
   "outputs": [
    {
     "name": "stdout",
     "output_type": "stream",
     "text": [
      "      Logit       MLP  DecisionTree  RandomForest  AdaBoost  GradientBoost  \\\n",
      "0  0.386615  0.259007      0.256551      0.407257  0.513319       0.508230   \n",
      "1  0.443461  0.491736      0.344564      0.522974  0.440513       0.490384   \n",
      "2  0.371425  0.309320      0.267072      0.443655  0.381435       0.398471   \n",
      "3  0.361190  0.304257      0.249804      0.294671  0.379408       0.336168   \n",
      "4  0.357750  0.378996      0.300625      0.416098  0.354096       0.325226   \n",
      "5  0.435906  0.372627      0.279560      0.374808  0.363906       0.406352   \n",
      "6  0.463129  0.416946      0.284251      0.422871  0.438692       0.491014   \n",
      "7  0.443092  0.416617      0.291714      0.377647  0.312009       0.418126   \n",
      "8  0.420610  0.391605      0.251553      0.404634  0.361155       0.335593   \n",
      "9  0.428131  0.424836      0.290651      0.428798  0.432143       0.450999   \n",
      "\n",
      "    XGBoost  \n",
      "0  0.454618  \n",
      "1  0.416236  \n",
      "2  0.475609  \n",
      "3  0.321620  \n",
      "4  0.373096  \n",
      "5  0.415741  \n",
      "6  0.492818  \n",
      "7  0.411521  \n",
      "8  0.357329  \n",
      "9  0.436591  \n"
     ]
    }
   ],
   "source": [
    "from sklearn.model_selection import KFold\n",
    "\n",
    "from sklearn.metrics import average_precision_score\n",
    "\n",
    "ap_result_lst=[]\n",
    "\n",
    "kf = KFold(n_splits=10,shuffle=True)\n",
    "\n",
    "n_class=4\n",
    "\n",
    "for train_index, test_index in kf.split(X):\n",
    "    X_train, X_test = X[train_index], X[test_index]\n",
    "    y_train, y_test = Y[train_index], Y[test_index]\n",
    "    Y_test = np.zeros([len(y_test),n_class])\n",
    "    for i in range(len(y_test)):\n",
    "        Y_test[i,y_test[i]]=1\n",
    "    ap_result_lst.append(\n",
    "        [average_precision_score(Y_test,models[model_name].fit(X_train,y_train).predict_proba(X_test))\\\n",
    "                for model_name in models])\n",
    "\n",
    "print(pd.DataFrame(ap_result_lst,columns=[model_name for model_name in models]))"
   ]
  },
  {
   "cell_type": "code",
   "execution_count": 33,
   "metadata": {},
   "outputs": [
    {
     "name": "stdout",
     "output_type": "stream",
     "text": [
      "      Logit       MLP  DecisionTree  RandomForest  AdaBoost  GradientBoost  \\\n",
      "0  0.411131  0.376595      0.281635      0.409341  0.397668       0.416056   \n",
      "\n",
      "    XGBoost  \n",
      "0  0.415518  \n"
     ]
    }
   ],
   "source": [
    "print(pd.DataFrame(np.mean(ap_result_lst,axis=0,keepdims=True),columns=[model_name for model_name in models]))"
   ]
  },
  {
   "cell_type": "code",
   "execution_count": null,
   "metadata": {},
   "outputs": [],
   "source": []
  },
  {
   "cell_type": "code",
   "execution_count": 34,
   "metadata": {},
   "outputs": [],
   "source": [
    "class_names=[\n",
    "    'No respiratory support required',\n",
    "    'Respiratory support required, oxygen only',\n",
    "    'Respiratory support required, non-invasive ventilation',\n",
    "    'Respiratory support required, invasive ventilation'\n",
    "]"
   ]
  },
  {
   "cell_type": "code",
   "execution_count": 35,
   "metadata": {},
   "outputs": [],
   "source": [
    "from sklearn.linear_model import LogisticRegression\n",
    "\n",
    "clf = LogisticRegression(solver=\"lbfgs\").fit(X, Y)"
   ]
  },
  {
   "cell_type": "code",
   "execution_count": 36,
   "metadata": {},
   "outputs": [
    {
     "data": {
      "image/png": "[encoded data removed]",
      "text/plain": [
       "<Figure size 576x684 with 1 Axes>"
      ]
     },
     "metadata": {
      "needs_background": "light"
     },
     "output_type": "display_data"
    }
   ],
   "source": [
    "import shap\n",
    "\n",
    "# explain the model's predictions using SHAP\n",
    "# (same syntax works for LightGBM, CatBoost, scikit-learn and spark models)\n",
    "explainer = shap.LinearExplainer(clf,X)\n",
    "shap_values = explainer.shap_values(X)\n",
    "\n",
    "# summarize the effects of all the features\n",
    "shap.summary_plot(shap_values, X, feature_names=X_cols, plot_type=\"bar\",class_names=class_names)"
   ]
  },
  {
   "cell_type": "code",
   "execution_count": null,
   "metadata": {},
   "outputs": [],
   "source": []
  },
  {
   "cell_type": "code",
   "execution_count": 37,
   "metadata": {},
   "outputs": [],
   "source": [
    "from sklearn.ensemble import RandomForestClassifier\n",
    "\n",
    "clf = RandomForestClassifier().fit(X, Y)"
   ]
  },
  {
   "cell_type": "code",
   "execution_count": 38,
   "metadata": {
    "scrolled": true
   },
   "outputs": [
    {
     "name": "stdout",
     "output_type": "stream",
     "text": [
      "PATIENT_AGE : 0.261029535266386\n",
      "HYPERTENSION : 0.035413794945774686\n",
      "NEURAL_D : 0.03232990940254479\n",
      "DIABETES : 0.031471451451393656\n",
      "OBESITY : 0.030975002490955496\n",
      "CARDIAC_D : 0.03004092359803955\n",
      "SMOKING_HISTORY_NR|NR : 0.027568708078504128\n",
      "ASTHMA : 0.024210799365185807\n",
      "GENDER_2 : 0.02305020706083537\n",
      "COPD : 0.022923352841156142\n",
      "GENDER_1 : 0.022681726137986694\n",
      "RENAL_D : 0.02263931524045414\n",
      "MAGLINANT_NEO : 0.02162903240569222\n",
      "SMOKING_HISTORY_Never smoked|NR : 0.02021701147962901\n",
      "GLUCOSE_MAX : 0.01853955518517372\n",
      "GLUCOSE_MIN : 0.017909690965808172\n",
      "ETHNIC_GROUP_A : 0.017533145404936258\n",
      "SMOKING_HISTORY_Ex-smoker|NR : 0.017457351946703524\n",
      "GLUCOSE_MEAN : 0.016938091690760153\n",
      "RHEUMATO_D : 0.015315969457052488\n"
     ]
    }
   ],
   "source": [
    "feature_importance_dic=dict(zip(X_cols,clf.feature_importances_))\n",
    "from sklearn.feature_selection import SelectFromModel\n",
    "for k,v in sorted(\n",
    "    [(X_cols[i],feature_importance_dic[X_cols[i]]) for i in SelectFromModel(clf, prefit=True, max_features=20).get_support(indices=True)],\n",
    "    key=lambda x:x[1],\n",
    "    reverse=True\n",
    "):\n",
    "    print(k,':',v)"
   ]
  },
  {
   "cell_type": "code",
   "execution_count": 39,
   "metadata": {},
   "outputs": [
    {
     "data": {
      "image/png": "[encoded data removed]",
      "text/plain": [
       "<Figure size 576x684 with 1 Axes>"
      ]
     },
     "metadata": {
      "needs_background": "light"
     },
     "output_type": "display_data"
    }
   ],
   "source": [
    "import shap\n",
    "\n",
    "# explain the model's predictions using SHAP\n",
    "# (same syntax works for LightGBM, CatBoost, scikit-learn and spark models)\n",
    "explainer = shap.TreeExplainer(clf)\n",
    "shap_values = explainer.shap_values(X)\n",
    "\n",
    "# summarize the effects of all the features\n",
    "shap.summary_plot(shap_values, X, feature_names=X_cols, plot_type=\"bar\",class_names=class_names)"
   ]
  },
  {
   "cell_type": "code",
   "execution_count": null,
   "metadata": {},
   "outputs": [],
   "source": []
  },
  {
   "cell_type": "code",
   "execution_count": 40,
   "metadata": {},
   "outputs": [],
   "source": [
    "from sklearn.ensemble import GradientBoostingClassifier\n",
    "\n",
    "clf = GradientBoostingClassifier().fit(X, Y)"
   ]
  },
  {
   "cell_type": "code",
   "execution_count": 41,
   "metadata": {},
   "outputs": [
    {
     "name": "stdout",
     "output_type": "stream",
     "text": [
      "PATIENT_AGE : 0.37541551805366885\n",
      "GLUCOSE_MEAN : 0.048518884156818404\n",
      "NEURAL_D : 0.02752659151496594\n",
      "CRP_MEAN : 0.02238000132855018\n",
      "ETHNIC_GROUP_X : 0.019494023691330433\n",
      "ETHNIC_GROUP_L : 0.015721741158833857\n",
      "HIV : 0.01535566858318528\n",
      "ETHNIC_GROUP_S : 0.015017773649880307\n",
      "NEUTROPHILS_MEAN : 0.014634531809834681\n",
      "UREA_MIN : 0.014633799665081377\n",
      "SODIUM_MIN : 0.013528775330289632\n",
      "ETHNIC_GROUP_N : 0.01274572745508378\n",
      "ETHNIC_GROUP_A : 0.012742454694210145\n",
      "PLATELETS_MEAN : 0.012553792634426957\n",
      "GLUCOSE_MAX : 0.012191908911923023\n",
      "RHEUMATO_D : 0.012167728095692623\n",
      "GLUCOSE_MIN : 0.011872641293977039\n",
      "SMOKING_HISTORY_NR|NR : 0.011709301359432277\n",
      "DIABETES : 0.011557430759596454\n",
      "ETHNIC_GROUP_J : 0.011104836847596456\n"
     ]
    }
   ],
   "source": [
    "feature_importance_dic=dict(zip(X_cols,clf.feature_importances_))\n",
    "from sklearn.feature_selection import SelectFromModel\n",
    "for k,v in sorted(\n",
    "    [(X_cols[i],feature_importance_dic[X_cols[i]]) for i in SelectFromModel(clf, prefit=True, max_features=20).get_support(indices=True)],\n",
    "    key=lambda x:x[1],\n",
    "    reverse=True\n",
    "):\n",
    "    print(k,':',v)"
   ]
  },
  {
   "cell_type": "code",
   "execution_count": null,
   "metadata": {},
   "outputs": [],
   "source": []
  },
  {
   "cell_type": "code",
   "execution_count": 42,
   "metadata": {},
   "outputs": [],
   "source": [
    "from xgboost import XGBClassifier\n",
    "\n",
    "clf = XGBClassifier(n_estimators=100).fit(X, Y)"
   ]
  },
  {
   "cell_type": "code",
   "execution_count": 43,
   "metadata": {},
   "outputs": [
    {
     "name": "stdout",
     "output_type": "stream",
     "text": [
      "TRIGYCERIN_MEAN : 0.074188694\n",
      "FERRITIN_MIN : 0.052852906\n",
      "UREA_MIN : 0.04243293\n",
      "HIV : 0.035344843\n",
      "CRP_MIN : 0.028738568\n",
      "HB_MEAN : 0.027156724\n",
      "CRP_MEAN : 0.024950009\n",
      "SODIUM_MIN : 0.024657136\n",
      "ETHNIC_GROUP_J : 0.024011618\n",
      "LDH_MIN : 0.022942571\n",
      "ALT_MEAN : 0.022369152\n",
      "PLATELETS_MEAN : 0.02156399\n",
      "CREATENINE_MEAN : 0.02096545\n",
      "HB_MIN : 0.02081139\n",
      "ALT_MIN : 0.02052767\n",
      "THROMBOEMBOLIC : 0.02000078\n",
      "BILIRUBIN_MEAN : 0.018833524\n",
      "ETHNIC_GROUP_X : 0.016675044\n",
      "IMMUNO : 0.015214023\n",
      "CREATENINE_MIN : 0.0151292235\n"
     ]
    }
   ],
   "source": [
    "feature_importance_dic=dict(zip(X_cols,clf.feature_importances_))\n",
    "from sklearn.feature_selection import SelectFromModel\n",
    "for k,v in sorted(\n",
    "    [(X_cols[i],feature_importance_dic[X_cols[i]]) for i in SelectFromModel(clf, prefit=True, max_features=20).get_support(indices=True)],\n",
    "    key=lambda x:x[1],\n",
    "    reverse=True\n",
    "):\n",
    "    print(k,':',v)"
   ]
  }
 ],
 "metadata": {
  "kernelspec": {
   "display_name": "Python 3",
   "language": "python",
   "name": "python3"
  },
  "language_info": {
   "codemirror_mode": {
    "name": "ipython",
    "version": 3
   },
   "file_extension": ".py",
   "mimetype": "text/x-python",
   "name": "python",
   "nbconvert_exporter": "python",
   "pygments_lexer": "ipython3",
   "version": "3.7.6"
  }
 },
 "nbformat": 4,
 "nbformat_minor": 4
}
