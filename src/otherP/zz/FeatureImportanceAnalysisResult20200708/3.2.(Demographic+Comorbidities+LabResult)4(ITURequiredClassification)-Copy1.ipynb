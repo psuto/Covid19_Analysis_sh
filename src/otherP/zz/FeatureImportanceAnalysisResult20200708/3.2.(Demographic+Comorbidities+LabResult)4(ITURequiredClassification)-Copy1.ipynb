{
 "cells": [
  {
   "cell_type": "code",
   "execution_count": 1,
   "metadata": {},
   "outputs": [],
   "source": [
    "import csv\n",
    "import numpy as np\n",
    "import multiprocessing as mp\n",
    "import random\n",
    "import matplotlib.pyplot as plt\n",
    "import pickle\n",
    "import pandas as pd\n",
    "#import tensorflow as tf\n",
    "import json\n",
    "from sklearn.model_selection import train_test_split\n",
    "import math\n",
    "\n",
    "import warnings\n",
    "warnings.filterwarnings('ignore')"
   ]
  },
  {
   "cell_type": "code",
   "execution_count": 2,
   "metadata": {},
   "outputs": [],
   "source": [
    "data_dir='../data/Current Data/'"
   ]
  },
  {
   "cell_type": "code",
   "execution_count": null,
   "metadata": {},
   "outputs": [],
   "source": []
  },
  {
   "cell_type": "code",
   "execution_count": 3,
   "metadata": {},
   "outputs": [],
   "source": [
    "CategoricalFeatures=[]\n",
    "NumericFeatures=[]"
   ]
  },
  {
   "cell_type": "markdown",
   "metadata": {},
   "source": [
    "demographics"
   ]
  },
  {
   "cell_type": "code",
   "execution_count": 4,
   "metadata": {
    "scrolled": true
   },
   "outputs": [],
   "source": [
    "df_demographics=pd.read_csv(data_dir+'REACT_Demographics'+'.csv')\n",
    "#df_demographics.info()"
   ]
  },
  {
   "cell_type": "code",
   "execution_count": 5,
   "metadata": {},
   "outputs": [],
   "source": [
    "#df_demographics.head()"
   ]
  },
  {
   "cell_type": "code",
   "execution_count": 6,
   "metadata": {},
   "outputs": [],
   "source": [
    "#df_demographics.columns"
   ]
  },
  {
   "cell_type": "code",
   "execution_count": 7,
   "metadata": {},
   "outputs": [],
   "source": [
    "CategoricalFeatures+=['GENDER','ETHNIC_GROUP', 'SMOKING_HISTORY']\n",
    "NumericFeatures+=['PATIENT_AGE']"
   ]
  },
  {
   "cell_type": "code",
   "execution_count": 8,
   "metadata": {},
   "outputs": [],
   "source": [
    "studyid_data_dic=dict()\n",
    "for studyid,age,gender,ethnic,smoking in df_demographics[['STUDY_ID','PATIENT_AGE','GENDER','ETHNIC_GROUP', 'SMOKING_HISTORY']].values:\n",
    "    if age is not np.nan and gender is not np.nan and ethnic is not np.nan and smoking is not np.nan:\n",
    "        if studyid not in studyid_data_dic:\n",
    "            studyid_data_dic[studyid]=dict()\n",
    "        studyid_data_dic[studyid]['PATIENT_AGE']=age\n",
    "        studyid_data_dic[studyid]['GENDER']=str(gender)\n",
    "        studyid_data_dic[studyid]['ETHNIC_GROUP']=ethnic\n",
    "        studyid_data_dic[studyid]['SMOKING_HISTORY']=smoking\n",
    "#studyid_data_dic"
   ]
  },
  {
   "cell_type": "code",
   "execution_count": null,
   "metadata": {},
   "outputs": [],
   "source": []
  },
  {
   "cell_type": "markdown",
   "metadata": {},
   "source": [
    "Comorbidities"
   ]
  },
  {
   "cell_type": "code",
   "execution_count": 9,
   "metadata": {},
   "outputs": [],
   "source": [
    "df_comorbidities=pd.read_csv(data_dir+'REACT_Comorbidities_unpivoted'+'.csv')\n",
    "#df_demographics.info()"
   ]
  },
  {
   "cell_type": "code",
   "execution_count": 10,
   "metadata": {},
   "outputs": [],
   "source": [
    "comorbidities=list(df_comorbidities.COMORBIDITY.unique())\n",
    "NumericFeatures+=comorbidities\n",
    "for studyid in studyid_data_dic:\n",
    "    for co in comorbidities:\n",
    "        studyid_data_dic[studyid][co]=0"
   ]
  },
  {
   "cell_type": "code",
   "execution_count": 11,
   "metadata": {},
   "outputs": [],
   "source": [
    "for studyid,co,status in df_comorbidities.values:\n",
    "    if studyid in studyid_data_dic:\n",
    "        studyid_data_dic[studyid][co]=status\n",
    "#studyid_data_dic"
   ]
  },
  {
   "cell_type": "code",
   "execution_count": null,
   "metadata": {},
   "outputs": [],
   "source": []
  },
  {
   "cell_type": "markdown",
   "metadata": {},
   "source": [
    "label: RespiratorySupportRequired or not"
   ]
  },
  {
   "cell_type": "code",
   "execution_count": 12,
   "metadata": {},
   "outputs": [],
   "source": [
    "df_event=pd.read_csv(data_dir+'REACT_Events'+'.csv')\n",
    "#df_event.info()"
   ]
  },
  {
   "cell_type": "code",
   "execution_count": 13,
   "metadata": {},
   "outputs": [],
   "source": [
    "#df_event.head()"
   ]
  },
  {
   "cell_type": "code",
   "execution_count": null,
   "metadata": {},
   "outputs": [],
   "source": []
  },
  {
   "cell_type": "code",
   "execution_count": 14,
   "metadata": {},
   "outputs": [],
   "source": [
    "df_label=df_event[df_event.EVENT_TYPE=='ITU'][['STUDY_ID','START_DATETIME']]"
   ]
  },
  {
   "cell_type": "code",
   "execution_count": 15,
   "metadata": {
    "scrolled": true
   },
   "outputs": [],
   "source": [
    "from datetime import datetime\n",
    "\n",
    "label_studyid_time_dic=dict()\n",
    "for study_id,start_datetime in df_label.values:\n",
    "    start_datetime=datetime.strptime(start_datetime,'%Y-%m-%d %H:%M:%S')\n",
    "    if study_id not in label_studyid_time_dic or label_studyid_time_dic[study_id]>start_datetime:\n",
    "        label_studyid_time_dic[study_id]=start_datetime\n",
    "\n",
    "#label_studyid_time_dic"
   ]
  },
  {
   "cell_type": "code",
   "execution_count": 16,
   "metadata": {},
   "outputs": [],
   "source": [
    "for studyid in studyid_data_dic:\n",
    "    if studyid not in label_studyid_time_dic:\n",
    "        studyid_data_dic[studyid]['TIME_POINT']=None\n",
    "        studyid_data_dic[studyid]['PREDICTION_LABEL']=0\n",
    "    else:\n",
    "        start_datetime=label_studyid_time_dic[studyid]\n",
    "        studyid_data_dic[studyid]['TIME_POINT']=start_datetime\n",
    "        studyid_data_dic[studyid]['PREDICTION_LABEL']=1"
   ]
  },
  {
   "cell_type": "code",
   "execution_count": null,
   "metadata": {},
   "outputs": [],
   "source": []
  },
  {
   "cell_type": "code",
   "execution_count": null,
   "metadata": {},
   "outputs": [],
   "source": []
  },
  {
   "cell_type": "markdown",
   "metadata": {},
   "source": [
    "labresults"
   ]
  },
  {
   "cell_type": "code",
   "execution_count": 17,
   "metadata": {},
   "outputs": [],
   "source": [
    "df_labresults=pd.read_csv(data_dir+'REACT_LabResults'+'.csv')\n",
    "#df_labresults.info()"
   ]
  },
  {
   "cell_type": "code",
   "execution_count": 18,
   "metadata": {},
   "outputs": [],
   "source": [
    "#df_labresults.head()"
   ]
  },
  {
   "cell_type": "code",
   "execution_count": 19,
   "metadata": {},
   "outputs": [],
   "source": [
    "testcode_lst=list(df_labresults.REACT_TESTCODE.unique())\n",
    "testcode2id=dict([(testcode_lst[i],i) for i in range(len(testcode_lst))])"
   ]
  },
  {
   "cell_type": "code",
   "execution_count": 20,
   "metadata": {},
   "outputs": [],
   "source": [
    "from datetime import datetime\n",
    "\n",
    "studyid_testcode_time_numeric_dic=dict()\n",
    "for studyid,test_time,testcode,numeric,lower,upper in df_labresults[[\n",
    "    'STUDY_ID','PATHOLOGY_SPECIMEN_DATE','REACT_TESTCODE',\n",
    "    'PATHOLOGY_RESULT_NUMERIC','LOWER_RANGE','UPPER_RANGE']].values:\n",
    "    test_time=datetime.strptime(test_time,'%Y-%m-%d %H:%M:%S')\n",
    "    if studyid not in studyid_testcode_time_numeric_dic:\n",
    "        studyid_testcode_time_numeric_dic[studyid]=[]\n",
    "    studyid_testcode_time_numeric_dic[studyid].append([test_time,testcode,numeric])\n",
    "#studyid_testcode_time_numeric_dic"
   ]
  },
  {
   "cell_type": "code",
   "execution_count": 21,
   "metadata": {},
   "outputs": [],
   "source": [
    "NumericFeatures+=[testcode+suffix for testcode in testcode_lst for suffix in ['_MIN','_MAX','_MEAN']]"
   ]
  },
  {
   "cell_type": "code",
   "execution_count": 22,
   "metadata": {},
   "outputs": [],
   "source": [
    "for studyid in studyid_data_dic:\n",
    "    for testcode in testcode_lst:\n",
    "        for suffix in ['_MIN','_MAX','_MEAN']:\n",
    "            studyid_data_dic[studyid][testcode+suffix]=None\n",
    "    time_point=studyid_data_dic[studyid]['TIME_POINT']\n",
    "    if studyid in studyid_testcode_time_numeric_dic:\n",
    "        individual_labresult_dic=dict()\n",
    "        for test_time,testcode,numeric in studyid_testcode_time_numeric_dic[studyid]:\n",
    "            if time_point is None or test_time<time_point:\n",
    "                if testcode not in individual_labresult_dic:\n",
    "                    individual_labresult_dic[testcode]=[]\n",
    "                individual_labresult_dic[testcode].append(numeric)\n",
    "        for testcode in individual_labresult_dic:\n",
    "            studyid_data_dic[studyid][testcode+'_MIN']=np.min(individual_labresult_dic[testcode])\n",
    "            studyid_data_dic[studyid][testcode+'_MAX']=np.min(individual_labresult_dic[testcode])\n",
    "            studyid_data_dic[studyid][testcode+'_MEAN']=np.mean(individual_labresult_dic[testcode])"
   ]
  },
  {
   "cell_type": "code",
   "execution_count": null,
   "metadata": {},
   "outputs": [],
   "source": []
  },
  {
   "cell_type": "markdown",
   "metadata": {},
   "source": [
    "data preprocessing"
   ]
  },
  {
   "cell_type": "code",
   "execution_count": 23,
   "metadata": {},
   "outputs": [],
   "source": [
    "studyid_lst=list(studyid_data_dic.keys())\n",
    "#studyid_lst"
   ]
  },
  {
   "cell_type": "code",
   "execution_count": 24,
   "metadata": {},
   "outputs": [],
   "source": [
    "X_cols=[]"
   ]
  },
  {
   "cell_type": "code",
   "execution_count": 25,
   "metadata": {},
   "outputs": [],
   "source": [
    "from sklearn.preprocessing import OneHotEncoder\n",
    "\n",
    "X_categorical=[[studyid_data_dic[studyid][k] for k in CategoricalFeatures] for studyid in studyid_lst]\n",
    "\n",
    "enc = OneHotEncoder(handle_unknown='ignore')\n",
    "X_onehot=enc.fit_transform(X_categorical).toarray()\n",
    "\n",
    "X_cols+=list(enc.get_feature_names(CategoricalFeatures))"
   ]
  },
  {
   "cell_type": "code",
   "execution_count": 26,
   "metadata": {},
   "outputs": [],
   "source": [
    "X_numeric=[[studyid_data_dic[studyid][k] for k in NumericFeatures] for studyid in studyid_lst]\n",
    "X_cols+=NumericFeatures"
   ]
  },
  {
   "cell_type": "code",
   "execution_count": 27,
   "metadata": {},
   "outputs": [],
   "source": [
    "X_missing_value=np.concatenate((X_onehot,X_numeric), axis=1)"
   ]
  },
  {
   "cell_type": "code",
   "execution_count": 28,
   "metadata": {},
   "outputs": [],
   "source": [
    "Y=np.array([studyid_data_dic[studyid]['PREDICTION_LABEL'] for studyid in studyid_lst])"
   ]
  },
  {
   "cell_type": "code",
   "execution_count": null,
   "metadata": {},
   "outputs": [],
   "source": []
  },
  {
   "cell_type": "code",
   "execution_count": 29,
   "metadata": {},
   "outputs": [
    {
     "data": {
      "text/plain": [
       "5.580645161290323"
      ]
     },
     "execution_count": 29,
     "metadata": {},
     "output_type": "execute_result"
    }
   ],
   "source": [
    "balance_ratio=len([_ for v in Y if v==0])/len([_ for v in Y if v==1])\n",
    "balance_ratio"
   ]
  },
  {
   "cell_type": "code",
   "execution_count": 30,
   "metadata": {},
   "outputs": [],
   "source": [
    "from functools import reduce\n",
    "\n",
    "XY_missing_value_balanced=np.array(\n",
    "    reduce(lambda a,b:a+b,[[list(x)+[y]]*(int(balance_ratio) if y==1 else 1) for x,y in zip(X_missing_value,Y)])\n",
    ")\n",
    "\n",
    "X_missing_value=XY_missing_value_balanced[:,:-1]\n",
    "Y=np.array(XY_missing_value_balanced[:,-1],dtype=int)"
   ]
  },
  {
   "cell_type": "code",
   "execution_count": null,
   "metadata": {},
   "outputs": [],
   "source": []
  },
  {
   "cell_type": "markdown",
   "metadata": {},
   "source": [
    "fill in nan"
   ]
  },
  {
   "cell_type": "code",
   "execution_count": 31,
   "metadata": {},
   "outputs": [],
   "source": [
    "from sklearn.impute import SimpleImputer\n",
    "imputer = SimpleImputer(missing_values=np.nan, strategy='mean')\n",
    "\n",
    "X=imputer.fit_transform(X_missing_value)"
   ]
  },
  {
   "cell_type": "code",
   "execution_count": null,
   "metadata": {},
   "outputs": [],
   "source": []
  },
  {
   "cell_type": "markdown",
   "metadata": {},
   "source": [
    "Prediction Classification task (RespiratorySupportRequired:1 or not:0)"
   ]
  },
  {
   "cell_type": "code",
   "execution_count": 32,
   "metadata": {},
   "outputs": [],
   "source": [
    "from sklearn.linear_model import LogisticRegression\n",
    "from sklearn.tree import DecisionTreeClassifier\n",
    "from sklearn.ensemble import RandomForestClassifier\n",
    "from sklearn.ensemble import AdaBoostClassifier\n",
    "from sklearn.ensemble import GradientBoostingClassifier\n",
    "from sklearn.neural_network import MLPClassifier\n",
    "from xgboost import XGBClassifier\n",
    "\n",
    "models={\n",
    "    \"Logit\":LogisticRegression(solver=\"lbfgs\"),\n",
    "    \"MLP\":MLPClassifier(max_iter=3000,solver='adam', alpha=1e-3,hidden_layer_sizes=(64)),\n",
    "    \"DecisionTree\":DecisionTreeClassifier(),\n",
    "    \"RandomForest\":RandomForestClassifier(n_estimators=100),\n",
    "    \"AdaBoost\":AdaBoostClassifier(n_estimators=100),\n",
    "    \"GradientBoost\":GradientBoostingClassifier(n_estimators=100),\n",
    "    \"XGBoost\":XGBClassifier(n_estimators=100)\n",
    "}"
   ]
  },
  {
   "cell_type": "code",
   "execution_count": 33,
   "metadata": {
    "scrolled": true
   },
   "outputs": [
    {
     "name": "stdout",
     "output_type": "stream",
     "text": [
      "      Logit       MLP  DecisionTree  RandomForest  AdaBoost  GradientBoost  \\\n",
      "0  0.822516  0.798188      0.941786      1.000000  0.971734       0.976789   \n",
      "1  0.823520  0.829519      0.928175      1.000000  0.956899       0.980969   \n",
      "2  0.786478  0.829987      0.939542      0.998760  0.961406       0.951056   \n",
      "3  0.748142  0.741761      0.900058      0.997998  0.933734       0.946085   \n",
      "4  0.781868  0.738485      0.889658      1.000000  0.885973       0.905912   \n",
      "5  0.823403  0.837167      0.924212      0.985557  0.926304       0.954238   \n",
      "6  0.774072  0.785183      0.911622      0.998155  0.935735       0.956963   \n",
      "7  0.791549  0.832788      0.927303      0.998234  0.894860       0.943081   \n",
      "8  0.805684  0.864486      0.915185      0.982564  0.931344       0.965663   \n",
      "9  0.808283  0.810249      0.876971      1.000000  0.973540       0.954178   \n",
      "\n",
      "    XGBoost  \n",
      "0  0.989718  \n",
      "1  0.996846  \n",
      "2  0.968740  \n",
      "3  0.958189  \n",
      "4  0.933727  \n",
      "5  0.981868  \n",
      "6  0.977514  \n",
      "7  0.954042  \n",
      "8  0.995119  \n",
      "9  0.969517  \n"
     ]
    }
   ],
   "source": [
    "from sklearn.model_selection import KFold\n",
    "\n",
    "from sklearn.metrics import average_precision_score\n",
    "\n",
    "ap_result_lst=[]\n",
    "\n",
    "kf = KFold(n_splits=10,shuffle=True)\n",
    "\n",
    "n_class=2\n",
    "\n",
    "for train_index, test_index in kf.split(X):\n",
    "    X_train, X_test = X[train_index], X[test_index]\n",
    "    y_train, y_test = Y[train_index], Y[test_index]\n",
    "    Y_test = np.zeros([len(y_test),n_class])\n",
    "    for i in range(len(y_test)):\n",
    "        Y_test[i,y_test[i]]=1\n",
    "    ap_result_lst.append(\n",
    "        [average_precision_score(Y_test,models[model_name].fit(X_train,y_train).predict_proba(X_test))\\\n",
    "                for model_name in models])\n",
    "\n",
    "print(pd.DataFrame(ap_result_lst,columns=[model_name for model_name in models]))"
   ]
  },
  {
   "cell_type": "code",
   "execution_count": 34,
   "metadata": {},
   "outputs": [
    {
     "name": "stdout",
     "output_type": "stream",
     "text": [
      "      Logit       MLP  DecisionTree  RandomForest  AdaBoost  GradientBoost  \\\n",
      "0  0.796551  0.806781      0.915451      0.996127  0.937153       0.953493   \n",
      "\n",
      "    XGBoost  \n",
      "0  0.972528  \n"
     ]
    }
   ],
   "source": [
    "print(pd.DataFrame(np.mean(ap_result_lst,axis=0,keepdims=True),columns=[model_name for model_name in models]))"
   ]
  },
  {
   "cell_type": "code",
   "execution_count": null,
   "metadata": {},
   "outputs": [],
   "source": []
  },
  {
   "cell_type": "code",
   "execution_count": 35,
   "metadata": {},
   "outputs": [],
   "source": [
    "class_names=['Non ITU','ITU']"
   ]
  },
  {
   "cell_type": "code",
   "execution_count": 36,
   "metadata": {},
   "outputs": [],
   "source": [
    "from sklearn.linear_model import LogisticRegression\n",
    "\n",
    "clf = LogisticRegression(solver=\"lbfgs\").fit(X, Y)"
   ]
  },
  {
   "cell_type": "code",
   "execution_count": 37,
   "metadata": {},
   "outputs": [
    {
     "data": {
      "image/png": "[encoded data removed]",
      "text/plain": [
       "<Figure size 576x684 with 1 Axes>"
      ]
     },
     "metadata": {
      "needs_background": "light"
     },
     "output_type": "display_data"
    }
   ],
   "source": [
    "import shap\n",
    "\n",
    "# explain the model's predictions using SHAP\n",
    "# (same syntax works for LightGBM, CatBoost, scikit-learn and spark models)\n",
    "explainer = shap.LinearExplainer(clf,X)\n",
    "shap_values = explainer.shap_values(X)\n",
    "\n",
    "# summarize the effects of all the features\n",
    "shap.summary_plot(shap_values, X, feature_names=X_cols, plot_type=\"bar\",class_names=class_names)"
   ]
  },
  {
   "cell_type": "code",
   "execution_count": null,
   "metadata": {},
   "outputs": [],
   "source": []
  },
  {
   "cell_type": "code",
   "execution_count": 38,
   "metadata": {},
   "outputs": [],
   "source": [
    "from sklearn.ensemble import RandomForestClassifier\n",
    "\n",
    "clf = RandomForestClassifier().fit(X, Y)"
   ]
  },
  {
   "cell_type": "code",
   "execution_count": 39,
   "metadata": {
    "scrolled": true
   },
   "outputs": [
    {
     "name": "stdout",
     "output_type": "stream",
     "text": [
      "PATIENT_AGE : 0.2522334883452821\n",
      "CRP_MAX : 0.030307915736417605\n",
      "CRP_MIN : 0.028885132592405677\n",
      "NEURAL_D : 0.025495171095363266\n",
      "ETHNIC_GROUP_A : 0.024757036305053784\n",
      "SMOKING_HISTORY_NR|NR : 0.02392578288908956\n",
      "HYPERTENSION : 0.02302128400529638\n",
      "CARDIAC_D : 0.020135502777274664\n",
      "OBESITY : 0.019145845340039384\n",
      "DIABETES : 0.016048035617299002\n",
      "NEUTROPHILS_MAX : 0.01586456084762383\n",
      "RENAL_D : 0.015347555853663746\n",
      "GENDER_2 : 0.01528691953284455\n",
      "ETHNIC_GROUP_L : 0.01491516581160643\n",
      "MAGLINANT_NEO : 0.014270073897044648\n",
      "COPD : 0.01379492083101943\n",
      "ETHNIC_GROUP_X : 0.013338544311669625\n",
      "GLUCOSE_MAX : 0.013079141063786902\n",
      "SODIUM_MEAN : 0.013026177653110729\n",
      "GENDER_1 : 0.012879931971544321\n"
     ]
    }
   ],
   "source": [
    "feature_importance_dic=dict(zip(X_cols,clf.feature_importances_))\n",
    "from sklearn.feature_selection import SelectFromModel\n",
    "for k,v in sorted(\n",
    "    [(X_cols[i],feature_importance_dic[X_cols[i]]) for i in SelectFromModel(clf, prefit=True, max_features=20).get_support(indices=True)],\n",
    "    key=lambda x:x[1],\n",
    "    reverse=True\n",
    "):\n",
    "    print(k,':',v)"
   ]
  },
  {
   "cell_type": "code",
   "execution_count": 40,
   "metadata": {},
   "outputs": [
    {
     "data": {
      "image/png": "[encoded data removed]",
      "text/plain": [
       "<Figure size 576x684 with 1 Axes>"
      ]
     },
     "metadata": {
      "needs_background": "light"
     },
     "output_type": "display_data"
    }
   ],
   "source": [
    "import shap\n",
    "\n",
    "# explain the model's predictions using SHAP\n",
    "# (same syntax works for LightGBM, CatBoost, scikit-learn and spark models)\n",
    "explainer = shap.TreeExplainer(clf)\n",
    "shap_values = explainer.shap_values(X)\n",
    "\n",
    "# summarize the effects of all the features\n",
    "shap.summary_plot(shap_values, X, feature_names=X_cols, plot_type=\"bar\",class_names=class_names)"
   ]
  },
  {
   "cell_type": "code",
   "execution_count": null,
   "metadata": {},
   "outputs": [],
   "source": []
  },
  {
   "cell_type": "code",
   "execution_count": 41,
   "metadata": {},
   "outputs": [],
   "source": [
    "from sklearn.ensemble import GradientBoostingClassifier\n",
    "\n",
    "clf = GradientBoostingClassifier(n_estimators=100).fit(X, Y)"
   ]
  },
  {
   "cell_type": "code",
   "execution_count": 42,
   "metadata": {},
   "outputs": [
    {
     "name": "stdout",
     "output_type": "stream",
     "text": [
      "PATIENT_AGE : 0.4281463581827934\n",
      "CRP_MIN : 0.10024209144244213\n",
      "CRP_MAX : 0.04872248567480025\n",
      "SMOKING_HISTORY_NR|NR : 0.03377159966295708\n",
      "ETHNIC_GROUP_X : 0.027179326923327536\n",
      "GLUCOSE_MAX : 0.024679492308392538\n",
      "ETHNIC_GROUP_L : 0.022460203848822403\n",
      "CREATENINE_MIN : 0.02163974254644666\n",
      "SODIUM_MEAN : 0.01699731309405665\n",
      "ETHNIC_GROUP_N : 0.01647262096604166\n",
      "NEURAL_D : 0.01595668332430775\n",
      "CREATENINE_MAX : 0.012372985116778111\n",
      "META_SOLID_TUMOUR : 0.012311633260402093\n",
      "NEUTROPHILS_MIN : 0.011917635814818573\n",
      "GLUCOSE_MIN : 0.009922642732774314\n",
      "TROPONIN_MEAN : 0.009736287296094768\n"
     ]
    }
   ],
   "source": [
    "feature_importance_dic=dict(zip(X_cols,clf.feature_importances_))\n",
    "from sklearn.feature_selection import SelectFromModel\n",
    "for k,v in sorted(\n",
    "    [(X_cols[i],feature_importance_dic[X_cols[i]]) for i in SelectFromModel(clf, prefit=True, max_features=20).get_support(indices=True)],\n",
    "    key=lambda x:x[1],\n",
    "    reverse=True\n",
    "):\n",
    "    print(k,':',v)"
   ]
  },
  {
   "cell_type": "code",
   "execution_count": 43,
   "metadata": {},
   "outputs": [
    {
     "data": {
      "image/png": "[encoded data removed]",
      "text/plain": [
       "<Figure size 576x684 with 1 Axes>"
      ]
     },
     "metadata": {
      "needs_background": "light"
     },
     "output_type": "display_data"
    }
   ],
   "source": [
    "import shap\n",
    "\n",
    "# explain the model's predictions using SHAP\n",
    "# (same syntax works for LightGBM, CatBoost, scikit-learn and spark models)\n",
    "explainer = shap.TreeExplainer(clf)\n",
    "shap_values = explainer.shap_values(X)\n",
    "\n",
    "# summarize the effects of all the features\n",
    "shap.summary_plot(shap_values, X, feature_names=X_cols, plot_type=\"bar\", class_names=class_names)"
   ]
  },
  {
   "cell_type": "code",
   "execution_count": null,
   "metadata": {},
   "outputs": [],
   "source": []
  },
  {
   "cell_type": "code",
   "execution_count": 44,
   "metadata": {},
   "outputs": [],
   "source": [
    "from xgboost import XGBClassifier\n",
    "\n",
    "clf = XGBClassifier(n_estimators=100).fit(X, Y)"
   ]
  },
  {
   "cell_type": "code",
   "execution_count": 45,
   "metadata": {},
   "outputs": [
    {
     "name": "stdout",
     "output_type": "stream",
     "text": [
      "CRP_MIN : 0.08374383\n",
      "D_DIMER_MEAN : 0.0701999\n",
      "CREATENINE_MIN : 0.052080188\n",
      "LDH_MIN : 0.04581803\n",
      "TRIGYCERIN_MEAN : 0.04523404\n",
      "D_DIMER_MIN : 0.037901603\n",
      "CREATENINE_MEAN : 0.036194187\n",
      "ALT_MIN : 0.031977814\n",
      "NEUTROPHILS_MIN : 0.031311434\n",
      "TROPONIN_MIN : 0.025647746\n",
      "META_SOLID_TUMOUR : 0.022650445\n",
      "LYMPHOCYTES_MEAN : 0.022554293\n",
      "SODIUM_MEAN : 0.021190414\n",
      "POTASSIUM_MIN : 0.01959907\n",
      "HB_MEAN : 0.019478096\n",
      "UREA_MEAN : 0.018242227\n",
      "UREA_MIN : 0.01812195\n",
      "ETHNIC_GROUP_X : 0.01729391\n",
      "PATIENT_AGE : 0.017127594\n",
      "AST_MIN : 0.016457384\n"
     ]
    }
   ],
   "source": [
    "feature_importance_dic=dict(zip(X_cols,clf.feature_importances_))\n",
    "from sklearn.feature_selection import SelectFromModel\n",
    "for k,v in sorted(\n",
    "    [(X_cols[i],feature_importance_dic[X_cols[i]]) for i in SelectFromModel(clf, prefit=True, max_features=20).get_support(indices=True)],\n",
    "    key=lambda x:x[1],\n",
    "    reverse=True\n",
    "):\n",
    "    print(k,':',v)"
   ]
  },
  {
   "cell_type": "code",
   "execution_count": null,
   "metadata": {},
   "outputs": [],
   "source": []
  }
 ],
 "metadata": {
  "kernelspec": {
   "display_name": "Python 3",
   "language": "python",
   "name": "python3"
  },
  "language_info": {
   "codemirror_mode": {
    "name": "ipython",
    "version": 3
   },
   "file_extension": ".py",
   "mimetype": "text/x-python",
   "name": "python",
   "nbconvert_exporter": "python",
   "pygments_lexer": "ipython3",
   "version": "3.7.6"
  }
 },
 "nbformat": 4,
 "nbformat_minor": 4
}
