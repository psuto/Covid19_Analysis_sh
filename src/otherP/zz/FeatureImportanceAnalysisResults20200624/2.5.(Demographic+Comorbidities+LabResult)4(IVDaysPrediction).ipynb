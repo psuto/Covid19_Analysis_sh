{
 "cells": [
  {
   "cell_type": "code",
   "execution_count": 1,
   "metadata": {},
   "outputs": [],
   "source": [
    "import csv\n",
    "import numpy as np\n",
    "import multiprocessing as mp\n",
    "import random\n",
    "import matplotlib.pyplot as plt\n",
    "import pickle\n",
    "import pandas as pd\n",
    "#import tensorflow as tf\n",
    "import json\n",
    "from sklearn.model_selection import train_test_split\n",
    "import math\n",
    "\n",
    "import warnings\n",
    "warnings.filterwarnings('ignore')"
   ]
  },
  {
   "cell_type": "code",
   "execution_count": 2,
   "metadata": {},
   "outputs": [],
   "source": [
    "data_dir='../data/Current Data/'"
   ]
  },
  {
   "cell_type": "code",
   "execution_count": null,
   "metadata": {},
   "outputs": [],
   "source": []
  },
  {
   "cell_type": "code",
   "execution_count": 3,
   "metadata": {},
   "outputs": [],
   "source": [
    "CategoricalFeatures=[]\n",
    "NumericFeatures=[]"
   ]
  },
  {
   "cell_type": "markdown",
   "metadata": {},
   "source": [
    "demographics"
   ]
  },
  {
   "cell_type": "code",
   "execution_count": 4,
   "metadata": {
    "scrolled": true
   },
   "outputs": [],
   "source": [
    "df_demographics=pd.read_csv(data_dir+'REACT_Demographics'+'.csv')\n",
    "#df_demographics.info()"
   ]
  },
  {
   "cell_type": "code",
   "execution_count": 5,
   "metadata": {},
   "outputs": [],
   "source": [
    "#df_demographics.head()"
   ]
  },
  {
   "cell_type": "code",
   "execution_count": 6,
   "metadata": {},
   "outputs": [],
   "source": [
    "#df_demographics.columns"
   ]
  },
  {
   "cell_type": "code",
   "execution_count": 7,
   "metadata": {},
   "outputs": [],
   "source": [
    "CategoricalFeatures+=['GENDER','ETHNIC_GROUP', 'SMOKING_HISTORY']\n",
    "NumericFeatures+=['PATIENT_AGE']"
   ]
  },
  {
   "cell_type": "code",
   "execution_count": 8,
   "metadata": {},
   "outputs": [],
   "source": [
    "studyid_data_dic=dict()\n",
    "for studyid,age,gender,ethnic,smoking in df_demographics[['STUDY_ID','PATIENT_AGE','GENDER','ETHNIC_GROUP', 'SMOKING_HISTORY']].values:\n",
    "    if age is not np.nan and gender is not np.nan and ethnic is not np.nan and smoking is not np.nan:\n",
    "        if studyid not in studyid_data_dic:\n",
    "            studyid_data_dic[studyid]=dict()\n",
    "        studyid_data_dic[studyid]['PATIENT_AGE']=age\n",
    "        studyid_data_dic[studyid]['GENDER']=str(gender)\n",
    "        studyid_data_dic[studyid]['ETHNIC_GROUP']=ethnic\n",
    "        studyid_data_dic[studyid]['SMOKING_HISTORY']=smoking\n",
    "#studyid_data_dic"
   ]
  },
  {
   "cell_type": "code",
   "execution_count": null,
   "metadata": {},
   "outputs": [],
   "source": []
  },
  {
   "cell_type": "markdown",
   "metadata": {},
   "source": [
    "Comorbidities"
   ]
  },
  {
   "cell_type": "code",
   "execution_count": 9,
   "metadata": {},
   "outputs": [],
   "source": [
    "df_comorbidities=pd.read_csv(data_dir+'REACT_Comorbidities_unpivoted'+'.csv')\n",
    "#df_demographics.info()"
   ]
  },
  {
   "cell_type": "code",
   "execution_count": 10,
   "metadata": {},
   "outputs": [],
   "source": [
    "comorbidities=list(df_comorbidities.COMORBIDITY.unique())\n",
    "NumericFeatures+=comorbidities\n",
    "for studyid in studyid_data_dic:\n",
    "    for co in comorbidities:\n",
    "        studyid_data_dic[studyid][co]=0"
   ]
  },
  {
   "cell_type": "code",
   "execution_count": 11,
   "metadata": {},
   "outputs": [],
   "source": [
    "for studyid,co,status in df_comorbidities.values:\n",
    "    if studyid in studyid_data_dic:\n",
    "        studyid_data_dic[studyid][co]=status\n",
    "#studyid_data_dic"
   ]
  },
  {
   "cell_type": "code",
   "execution_count": null,
   "metadata": {},
   "outputs": [],
   "source": []
  },
  {
   "cell_type": "markdown",
   "metadata": {},
   "source": [
    "label: NIV Days number"
   ]
  },
  {
   "cell_type": "code",
   "execution_count": 12,
   "metadata": {},
   "outputs": [],
   "source": [
    "df_Vitalsigns_Categorical=pd.read_csv(data_dir+'REACT_Vitalsigns_Categorical'+'.csv')\n",
    "#df_Vitalsigns_Categorical.info()"
   ]
  },
  {
   "cell_type": "code",
   "execution_count": 13,
   "metadata": {},
   "outputs": [],
   "source": [
    "#df_Vitalsigns_Categorical.head()"
   ]
  },
  {
   "cell_type": "code",
   "execution_count": 14,
   "metadata": {},
   "outputs": [
    {
     "data": {
      "text/plain": [
       "{'Air - Not Supported': 0,\n",
       " 'Optiflow / Hi Flow': 1,\n",
       " 'Trachy Mask': 1,\n",
       " 'Non-Rebreath Mask': 1,\n",
       " 'Nasal Specs': 1,\n",
       " 'Face Mask': 1,\n",
       " 'Venturi Mask': 1,\n",
       " 'NIV - BIPAP face mask': 2,\n",
       " 'NIV - BIPAP nasal mask': 2,\n",
       " 'NIV - CPAP face mask': 2,\n",
       " 'NIV - CPAP nasal mask': 2,\n",
       " 'NIV - CPAP full face mask': 2,\n",
       " 'NIV - BIPAP full face mask': 2,\n",
       " 'Invasive Ventilation': 3}"
      ]
     },
     "execution_count": 14,
     "metadata": {},
     "output_type": "execute_result"
    }
   ],
   "source": [
    "CategorySet=dict()\n",
    "CategorySet[0]=set(['Air - Not Supported'])\n",
    "CategorySet[1]=set([\n",
    "    'Nasal Specs', 'Face Mask', 'Venturi Mask',\n",
    "    'Non-Rebreath Mask', 'Optiflow / Hi Flow',\n",
    "    'Trachy Mask'\n",
    "])\n",
    "CategorySet[2]=set([\n",
    "    'NIV - CPAP face mask', 'NIV - CPAP full face mask',\n",
    "    'NIV - BIPAP face mask', 'NIV - CPAP nasal mask',\n",
    "    'NIV - BIPAP nasal mask', 'NIV - BIPAP full face mask'\n",
    "])\n",
    "CategorySet[3]=set(['Invasive Ventilation'])\n",
    "CategoryDictionary=dict([(item,label) for label in CategorySet for item in CategorySet[label]])\n",
    "CategoryDictionary"
   ]
  },
  {
   "cell_type": "code",
   "execution_count": 15,
   "metadata": {},
   "outputs": [],
   "source": [
    "df_label=df_Vitalsigns_Categorical[\n",
    "    (df_Vitalsigns_Categorical.PARAMETER=='Respiratory Support') &\\\n",
    "    (df_Vitalsigns_Categorical.VALUE.map(lambda x:False if x not in CategoryDictionary else CategoryDictionary[x])>=3)\n",
    "][['STUDY_ID','UNITFROM_DATETIME','UNITTO_DATETIME']]"
   ]
  },
  {
   "cell_type": "code",
   "execution_count": 16,
   "metadata": {},
   "outputs": [
    {
     "data": {
      "text/plain": [
       "'2020-06-12 15:45:33.137'"
      ]
     },
     "execution_count": 16,
     "metadata": {},
     "output_type": "execute_result"
    }
   ],
   "source": [
    "max_end_datetime=max([x for x in list(df_Vitalsigns_Categorical.UNITTO_DATETIME.unique()) if x is not np.nan])\n",
    "max_end_datetime"
   ]
  },
  {
   "cell_type": "code",
   "execution_count": 17,
   "metadata": {
    "scrolled": true
   },
   "outputs": [],
   "source": [
    "from datetime import datetime\n",
    "\n",
    "label_studyid_time_dic=dict()\n",
    "for study_id,start_datetime,end_datetime in df_label.values:\n",
    "    start_datetime=datetime.strptime(start_datetime.split('.')[0],'%Y-%m-%d %H:%M:%S')\n",
    "    end_datetime=datetime.strptime(end_datetime.split('.')[0] if end_datetime is not np.nan else max_end_datetime.split('.')[0],'%Y-%m-%d %H:%M:%S')\n",
    "    if study_id not in label_studyid_time_dic:\n",
    "        label_studyid_time_dic[study_id]=[None,None]\n",
    "    if label_studyid_time_dic[study_id][0] is None or label_studyid_time_dic[study_id][0]>start_datetime:\n",
    "        label_studyid_time_dic[study_id][0]=start_datetime\n",
    "    if label_studyid_time_dic[study_id][1] is None or label_studyid_time_dic[study_id][0]<end_datetime:\n",
    "        label_studyid_time_dic[study_id][1]=end_datetime\n",
    "\n",
    "#label_studyid_time_dic"
   ]
  },
  {
   "cell_type": "code",
   "execution_count": 18,
   "metadata": {},
   "outputs": [],
   "source": [
    "for studyid in studyid_data_dic:\n",
    "    if studyid not in label_studyid_time_dic:\n",
    "        studyid_data_dic[studyid]['TIME_POINT']=None\n",
    "        studyid_data_dic[studyid]['PREDICTION_LABEL']=0\n",
    "    else:\n",
    "        start_datetime,end_datetime=label_studyid_time_dic[studyid]\n",
    "        studyid_data_dic[studyid]['TIME_POINT']=start_datetime\n",
    "        studyid_data_dic[studyid]['PREDICTION_LABEL']=(end_datetime-start_datetime).days\n",
    "#studyid_data_dic"
   ]
  },
  {
   "cell_type": "code",
   "execution_count": null,
   "metadata": {},
   "outputs": [],
   "source": []
  },
  {
   "cell_type": "markdown",
   "metadata": {},
   "source": [
    "labresults"
   ]
  },
  {
   "cell_type": "code",
   "execution_count": 19,
   "metadata": {},
   "outputs": [],
   "source": [
    "df_labresults=pd.read_csv(data_dir+'REACT_LabResults'+'.csv')\n",
    "#df_labresults.info()"
   ]
  },
  {
   "cell_type": "code",
   "execution_count": 20,
   "metadata": {},
   "outputs": [],
   "source": [
    "#df_labresults.head()"
   ]
  },
  {
   "cell_type": "code",
   "execution_count": 21,
   "metadata": {},
   "outputs": [],
   "source": [
    "testcode_lst=list(df_labresults.REACT_TESTCODE.unique())\n",
    "testcode2id=dict([(testcode_lst[i],i) for i in range(len(testcode_lst))])"
   ]
  },
  {
   "cell_type": "code",
   "execution_count": 22,
   "metadata": {},
   "outputs": [],
   "source": [
    "from datetime import datetime\n",
    "\n",
    "studyid_testcode_time_numeric_dic=dict()\n",
    "for studyid,test_time,testcode,numeric,lower,upper in df_labresults[[\n",
    "    'STUDY_ID','PATHOLOGY_SPECIMEN_DATE','REACT_TESTCODE',\n",
    "    'PATHOLOGY_RESULT_NUMERIC','LOWER_RANGE','UPPER_RANGE']].values:\n",
    "    test_time=datetime.strptime(test_time,'%Y-%m-%d %H:%M:%S')\n",
    "    if studyid not in studyid_testcode_time_numeric_dic:\n",
    "        studyid_testcode_time_numeric_dic[studyid]=[]\n",
    "    studyid_testcode_time_numeric_dic[studyid].append([test_time,testcode,numeric])\n",
    "#studyid_testcode_time_numeric_dic"
   ]
  },
  {
   "cell_type": "code",
   "execution_count": 23,
   "metadata": {},
   "outputs": [],
   "source": [
    "NumericFeatures+=[testcode+suffix for testcode in testcode_lst for suffix in ['_MIN','_MAX','_MEAN']]"
   ]
  },
  {
   "cell_type": "code",
   "execution_count": 24,
   "metadata": {},
   "outputs": [],
   "source": [
    "for studyid in studyid_data_dic:\n",
    "    for testcode in testcode_lst:\n",
    "        for suffix in ['_MIN','_MAX','_MEAN']:\n",
    "            studyid_data_dic[studyid][testcode+suffix]=None\n",
    "    time_point=studyid_data_dic[studyid]['TIME_POINT']\n",
    "    if studyid in studyid_testcode_time_numeric_dic:\n",
    "        individual_labresult_dic=dict()\n",
    "        for test_time,testcode,numeric in studyid_testcode_time_numeric_dic[studyid]:\n",
    "            if time_point is None or test_time<time_point:\n",
    "                if testcode not in individual_labresult_dic:\n",
    "                    individual_labresult_dic[testcode]=[]\n",
    "                individual_labresult_dic[testcode].append(numeric)\n",
    "        for testcode in individual_labresult_dic:\n",
    "            studyid_data_dic[studyid][testcode+'_MIN']=np.min(individual_labresult_dic[testcode])\n",
    "            studyid_data_dic[studyid][testcode+'_MAX']=np.min(individual_labresult_dic[testcode])\n",
    "            studyid_data_dic[studyid][testcode+'_MEAN']=np.mean(individual_labresult_dic[testcode])"
   ]
  },
  {
   "cell_type": "code",
   "execution_count": null,
   "metadata": {},
   "outputs": [],
   "source": []
  },
  {
   "cell_type": "markdown",
   "metadata": {},
   "source": [
    "data preprocessing"
   ]
  },
  {
   "cell_type": "code",
   "execution_count": 25,
   "metadata": {},
   "outputs": [],
   "source": [
    "studyid_lst=list(studyid_data_dic.keys())\n",
    "#studyid_lst"
   ]
  },
  {
   "cell_type": "code",
   "execution_count": 26,
   "metadata": {},
   "outputs": [],
   "source": [
    "X_cols=[]"
   ]
  },
  {
   "cell_type": "code",
   "execution_count": 27,
   "metadata": {},
   "outputs": [],
   "source": [
    "from sklearn.preprocessing import OneHotEncoder\n",
    "\n",
    "X_categorical=[[studyid_data_dic[studyid][k] for k in CategoricalFeatures] for studyid in studyid_lst]\n",
    "\n",
    "enc = OneHotEncoder(handle_unknown='ignore')\n",
    "X_onehot=enc.fit_transform(X_categorical).toarray()\n",
    "\n",
    "X_cols+=list(enc.get_feature_names(CategoricalFeatures))"
   ]
  },
  {
   "cell_type": "code",
   "execution_count": 28,
   "metadata": {},
   "outputs": [],
   "source": [
    "X_numeric=[[studyid_data_dic[studyid][k] for k in NumericFeatures] for studyid in studyid_lst]\n",
    "X_cols+=NumericFeatures"
   ]
  },
  {
   "cell_type": "code",
   "execution_count": 29,
   "metadata": {},
   "outputs": [],
   "source": [
    "X_missing_value=np.concatenate((X_onehot,X_numeric), axis=1)"
   ]
  },
  {
   "cell_type": "code",
   "execution_count": 30,
   "metadata": {},
   "outputs": [],
   "source": [
    "Y=np.array([studyid_data_dic[studyid]['PREDICTION_LABEL'] for studyid in studyid_lst])"
   ]
  },
  {
   "cell_type": "code",
   "execution_count": null,
   "metadata": {},
   "outputs": [],
   "source": []
  },
  {
   "cell_type": "markdown",
   "metadata": {},
   "source": [
    "balance_ratio=len([_ for v in Y if v==0])/len([_ for v in Y if v==1])\n",
    "balance_ratio"
   ]
  },
  {
   "cell_type": "markdown",
   "metadata": {},
   "source": [
    "from functools import reduce\n",
    "\n",
    "XY_missing_value_balanced=np.array(\n",
    "    reduce(lambda a,b:a+b,[[list(x)+[y]]*(int(balance_ratio) if y==1 else 1) for x,y in zip(X_missing_value,Y)])\n",
    ")\n",
    "\n",
    "X_missing_value=XY_missing_value_balanced[:,:-1]\n",
    "Y=np.array(XY_missing_value_balanced[:,-1],dtype=int)"
   ]
  },
  {
   "cell_type": "code",
   "execution_count": null,
   "metadata": {},
   "outputs": [],
   "source": []
  },
  {
   "cell_type": "markdown",
   "metadata": {},
   "source": [
    "fill in nan"
   ]
  },
  {
   "cell_type": "code",
   "execution_count": 31,
   "metadata": {},
   "outputs": [],
   "source": [
    "from sklearn.impute import SimpleImputer\n",
    "imputer = SimpleImputer(missing_values=np.nan, strategy='mean')\n",
    "\n",
    "X=imputer.fit_transform(X_missing_value[:,:-1])"
   ]
  },
  {
   "cell_type": "code",
   "execution_count": null,
   "metadata": {},
   "outputs": [],
   "source": []
  },
  {
   "cell_type": "markdown",
   "metadata": {},
   "source": [
    "Prediction Classification task (RespiratorySupportRequired:1 or not:0)"
   ]
  },
  {
   "cell_type": "code",
   "execution_count": 32,
   "metadata": {},
   "outputs": [],
   "source": [
    "from sklearn.linear_model import LinearRegression\n",
    "from sklearn.tree import DecisionTreeRegressor\n",
    "from sklearn.ensemble import RandomForestRegressor\n",
    "from sklearn.ensemble import AdaBoostRegressor\n",
    "from sklearn.ensemble import GradientBoostingRegressor\n",
    "from sklearn.neural_network import MLPRegressor\n",
    "from xgboost import XGBRegressor\n",
    "\n",
    "models={\n",
    "    \"Linear\":LinearRegression(),\n",
    "    \"MLP\":MLPRegressor(max_iter=3000,solver='adam', alpha=1e-3,hidden_layer_sizes=(64)),\n",
    "    \"DecisionTree\":DecisionTreeRegressor(),\n",
    "    \"RandomForest\":RandomForestRegressor(),\n",
    "    \"AdaBoost\":AdaBoostRegressor(n_estimators=100),\n",
    "    \"GradientBoosting\":GradientBoostingRegressor(),\n",
    "    \"XGBoost\":XGBRegressor(n_estimators=100)\n",
    "}"
   ]
  },
  {
   "cell_type": "code",
   "execution_count": 33,
   "metadata": {
    "scrolled": true
   },
   "outputs": [
    {
     "name": "stdout",
     "output_type": "stream",
     "text": [
      "         Linear       MLP  DecisionTree  RandomForest  AdaBoost  \\\n",
      "0  1.749810e-02 -0.744929     -4.402485     -0.234032 -0.021030   \n",
      "1  4.830777e-02 -1.271698     -1.091074     -0.383096 -2.249139   \n",
      "2 -1.550730e-01 -3.460964     -0.803115     -0.486928 -8.407730   \n",
      "3  1.923701e-01 -2.223730     -0.675922      0.350329 -5.061120   \n",
      "4  6.784276e-03 -7.620613      0.399569      0.375515 -7.407818   \n",
      "5 -1.061706e+00 -0.294864     -1.221676     -0.102011 -1.819261   \n",
      "6 -2.674455e-02 -7.687273     -0.795896     -0.069937 -0.093670   \n",
      "7 -2.126094e-01 -8.901763     -0.210380     -0.057991 -1.785232   \n",
      "8 -1.332801e+17 -7.146890     -1.622447     -0.324127 -2.713639   \n",
      "9 -1.722255e-02 -0.209339     -1.909734     -0.046501 -5.654406   \n",
      "\n",
      "   GradientBoosting   XGBoost  \n",
      "0         -0.171209 -0.371914  \n",
      "1          0.024255 -0.254246  \n",
      "2         -0.223638 -1.118455  \n",
      "3          0.351530  0.108060  \n",
      "4          0.312966 -0.062684  \n",
      "5         -0.162449 -0.412638  \n",
      "6         -0.011924 -0.185993  \n",
      "7          0.056086 -0.577882  \n",
      "8         -0.076040 -0.614368  \n",
      "9         -0.470268 -0.856618  \n"
     ]
    }
   ],
   "source": [
    "from sklearn.model_selection import KFold\n",
    "\n",
    "from sklearn.metrics import r2_score,mean_squared_error\n",
    "\n",
    "ap_result_lst=[]\n",
    "\n",
    "kf = KFold(n_splits=10)\n",
    "\n",
    "for train_index, test_index in kf.split(X):\n",
    "    X_train, X_test = X[train_index], X[test_index]\n",
    "    y_train, y_test = Y[train_index], Y[test_index]\n",
    "    ap_result_lst.append(\n",
    "        [r2_score(y_test,models[model_name].fit(X_train,y_train).predict(X_test))\\\n",
    "                for model_name in models])\n",
    "\n",
    "print(pd.DataFrame(ap_result_lst,columns=[model_name for model_name in models]))"
   ]
  },
  {
   "cell_type": "code",
   "execution_count": 34,
   "metadata": {
    "scrolled": true
   },
   "outputs": [
    {
     "name": "stdout",
     "output_type": "stream",
     "text": [
      "         Linear       MLP  DecisionTree  RandomForest  AdaBoost  \\\n",
      "0 -1.332801e+16 -3.956206     -1.233316     -0.097878 -3.521304   \n",
      "\n",
      "   GradientBoosting   XGBoost  \n",
      "0         -0.037069 -0.434674  \n"
     ]
    }
   ],
   "source": [
    "print(pd.DataFrame(np.mean(ap_result_lst,axis=0,keepdims=True),columns=[model_name for model_name in models]))"
   ]
  },
  {
   "cell_type": "code",
   "execution_count": null,
   "metadata": {},
   "outputs": [],
   "source": []
  },
  {
   "cell_type": "code",
   "execution_count": 35,
   "metadata": {},
   "outputs": [],
   "source": [
    "from sklearn.linear_model import LinearRegression\n",
    "\n",
    "regr = LinearRegression().fit(X, Y)"
   ]
  },
  {
   "cell_type": "code",
   "execution_count": 36,
   "metadata": {},
   "outputs": [
    {
     "data": {
      "image/png": "[encoded data removed]",
      "text/plain": [
       "<Figure size 576x684 with 1 Axes>"
      ]
     },
     "metadata": {
      "needs_background": "light"
     },
     "output_type": "display_data"
    }
   ],
   "source": [
    "import shap\n",
    "\n",
    "# explain the model's predictions using SHAP\n",
    "# (same syntax works for LightGBM, CatBoost, scikit-learn and spark models)\n",
    "explainer = shap.LinearExplainer(regr,X)\n",
    "shap_values = explainer.shap_values(X)\n",
    "\n",
    "# summarize the effects of all the features\n",
    "shap.summary_plot(shap_values, X, feature_names=X_cols, plot_type=\"bar\")"
   ]
  },
  {
   "cell_type": "code",
   "execution_count": null,
   "metadata": {},
   "outputs": [],
   "source": []
  },
  {
   "cell_type": "code",
   "execution_count": 37,
   "metadata": {},
   "outputs": [],
   "source": [
    "from sklearn.ensemble import RandomForestRegressor\n",
    "\n",
    "regr = RandomForestRegressor().fit(X, Y)"
   ]
  },
  {
   "cell_type": "code",
   "execution_count": 38,
   "metadata": {
    "scrolled": false
   },
   "outputs": [
    {
     "name": "stdout",
     "output_type": "stream",
     "text": [
      "PATIENT_AGE : 0.20988479958855538\n",
      "UREA_MEAN : 0.10136755156345827\n",
      "HIV : 0.059352159008834206\n",
      "ETHNIC_GROUP_L : 0.05201592824375834\n",
      "HYPERTENSION : 0.03814290435129926\n",
      "ETHNIC_GROUP_N : 0.03457052279652187\n",
      "GENDER_2 : 0.028221992350981696\n",
      "NEURAL_D : 0.02776783263150067\n",
      "ETHNIC_GROUP_A : 0.024935234728073748\n",
      "SMOKING_HISTORY_NR|NR : 0.022671688097939645\n",
      "CRP_MIN : 0.020556714175320276\n",
      "GENDER_1 : 0.020539396396887368\n",
      "CRP_MAX : 0.019010483942482514\n",
      "GLUCOSE_MAX : 0.01873035860953653\n",
      "SMOKING_HISTORY_Never smoked|NR : 0.01822809847938583\n",
      "UREA_MAX : 0.017734734859250666\n",
      "COPD : 0.017668190819975324\n",
      "UREA_MIN : 0.017545919194970623\n",
      "LIVER_D : 0.017022689818673095\n",
      "BILIRUBIN_MIN : 0.013858216588828092\n"
     ]
    }
   ],
   "source": [
    "feature_importance_dic=dict(zip(X_cols,regr.feature_importances_))\n",
    "from sklearn.feature_selection import SelectFromModel\n",
    "for k,v in sorted(\n",
    "    [(X_cols[i],feature_importance_dic[X_cols[i]]) for i in SelectFromModel(regr, prefit=True, max_features=20).get_support(indices=True)],\n",
    "    key=lambda x:x[1],\n",
    "    reverse=True\n",
    "):\n",
    "    print(k,':',v)"
   ]
  },
  {
   "cell_type": "code",
   "execution_count": 39,
   "metadata": {},
   "outputs": [
    {
     "data": {
      "image/png": "[encoded data removed]",
      "text/plain": [
       "<Figure size 576x684 with 1 Axes>"
      ]
     },
     "metadata": {
      "needs_background": "light"
     },
     "output_type": "display_data"
    }
   ],
   "source": [
    "import shap\n",
    "\n",
    "# explain the model's predictions using SHAP\n",
    "# (same syntax works for LightGBM, CatBoost, scikit-learn and spark models)\n",
    "explainer = shap.TreeExplainer(regr)\n",
    "shap_values = explainer.shap_values(X)\n",
    "\n",
    "# summarize the effects of all the features\n",
    "shap.summary_plot(shap_values, X, feature_names=X_cols, plot_type=\"bar\")"
   ]
  },
  {
   "cell_type": "code",
   "execution_count": null,
   "metadata": {},
   "outputs": [],
   "source": []
  },
  {
   "cell_type": "code",
   "execution_count": 40,
   "metadata": {},
   "outputs": [],
   "source": [
    "from sklearn.ensemble import GradientBoostingRegressor\n",
    "\n",
    "regr = GradientBoostingRegressor().fit(X, Y)"
   ]
  },
  {
   "cell_type": "code",
   "execution_count": 41,
   "metadata": {},
   "outputs": [
    {
     "name": "stdout",
     "output_type": "stream",
     "text": [
      "UREA_MEAN : 0.23734319026719453\n",
      "PATIENT_AGE : 0.17447940847913984\n",
      "ETHNIC_GROUP_L : 0.08374443295109023\n",
      "HIV : 0.0694065784806292\n",
      "WBC_MEAN : 0.055399843218207366\n",
      "GLUCOSE_MAX : 0.03828103953309987\n",
      "COPD : 0.03653921595419463\n",
      "CRP_MIN : 0.030732578828244893\n",
      "ETHNIC_GROUP_A : 0.030541695878885847\n",
      "ETHNIC_GROUP_N : 0.030273386233697956\n",
      "GENDER_1 : 0.024172375657347374\n",
      "GENDER_2 : 0.019113054888935395\n",
      "CRP_MAX : 0.014662432369648676\n",
      "CREATENINE_MIN : 0.010735553025873396\n"
     ]
    }
   ],
   "source": [
    "feature_importance_dic=dict(zip(X_cols,regr.feature_importances_))\n",
    "from sklearn.feature_selection import SelectFromModel\n",
    "for k,v in sorted(\n",
    "    [(X_cols[i],feature_importance_dic[X_cols[i]]) for i in SelectFromModel(regr, prefit=True, max_features=20).get_support(indices=True)],\n",
    "    key=lambda x:x[1],\n",
    "    reverse=True\n",
    "):\n",
    "    print(k,':',v)"
   ]
  },
  {
   "cell_type": "code",
   "execution_count": 42,
   "metadata": {},
   "outputs": [
    {
     "data": {
      "image/png": "[encoded data removed]",
      "text/plain": [
       "<Figure size 576x684 with 1 Axes>"
      ]
     },
     "metadata": {
      "needs_background": "light"
     },
     "output_type": "display_data"
    }
   ],
   "source": [
    "import shap\n",
    "\n",
    "# explain the model's predictions using SHAP\n",
    "# (same syntax works for LightGBM, CatBoost, scikit-learn and spark models)\n",
    "explainer = shap.TreeExplainer(regr)\n",
    "shap_values = explainer.shap_values(X)\n",
    "\n",
    "# summarize the effects of all the features\n",
    "shap.summary_plot(shap_values, X, feature_names=X_cols, plot_type=\"bar\")"
   ]
  },
  {
   "cell_type": "code",
   "execution_count": null,
   "metadata": {},
   "outputs": [],
   "source": []
  },
  {
   "cell_type": "code",
   "execution_count": 43,
   "metadata": {},
   "outputs": [],
   "source": [
    "from xgboost import XGBRegressor\n",
    "\n",
    "regr=XGBRegressor(n_estimators=100).fit(X,Y)"
   ]
  },
  {
   "cell_type": "code",
   "execution_count": 44,
   "metadata": {
    "scrolled": true
   },
   "outputs": [
    {
     "name": "stdout",
     "output_type": "stream",
     "text": [
      "UREA_MEAN : 0.1663323\n",
      "HIV : 0.10903025\n",
      "ETHNIC_GROUP_L : 0.06422675\n",
      "PLATELETS_MIN : 0.04938136\n",
      "ETHNIC_GROUP_P : 0.047458373\n",
      "GLUCOSE_MIN : 0.043443877\n",
      "ETHNIC_GROUP_N : 0.03503724\n",
      "UREA_MIN : 0.032482862\n",
      "PLATELETS_MEAN : 0.031785455\n",
      "WBC_MIN : 0.030489001\n",
      "HYPERTENSION : 0.030291919\n",
      "GLUCOSE_MEAN : 0.023225898\n",
      "CRP_MIN : 0.02292016\n",
      "COPD : 0.022345506\n",
      "PATIENT_AGE : 0.019054748\n",
      "SMOKING_HISTORY_NR|NR : 0.01801796\n",
      "CREATENINE_MEAN : 0.017700106\n",
      "CREATENINE_MIN : 0.017478287\n",
      "GENDER_1 : 0.016591094\n",
      "ETHNIC_GROUP_S : 0.016575875\n"
     ]
    }
   ],
   "source": [
    "feature_importance_dic=dict(zip(X_cols,regr.feature_importances_))\n",
    "from sklearn.feature_selection import SelectFromModel\n",
    "for k,v in sorted(\n",
    "    [(X_cols[i],feature_importance_dic[X_cols[i]]) for i in SelectFromModel(regr, prefit=True, max_features=20).get_support(indices=True)],\n",
    "    key=lambda x:x[1],\n",
    "    reverse=True\n",
    "):\n",
    "    print(k,':',v)"
   ]
  },
  {
   "cell_type": "code",
   "execution_count": null,
   "metadata": {},
   "outputs": [],
   "source": []
  }
 ],
 "metadata": {
  "kernelspec": {
   "display_name": "Python 3",
   "language": "python",
   "name": "python3"
  },
  "language_info": {
   "codemirror_mode": {
    "name": "ipython",
    "version": 3
   },
   "file_extension": ".py",
   "mimetype": "text/x-python",
   "name": "python",
   "nbconvert_exporter": "python",
   "pygments_lexer": "ipython3",
   "version": "3.7.6"
  }
 },
 "nbformat": 4,
 "nbformat_minor": 4
}
