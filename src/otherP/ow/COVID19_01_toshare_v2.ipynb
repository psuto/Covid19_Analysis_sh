{
 "cells": [
  {
   "cell_type": "code",
   "execution_count": 1,
   "metadata": {
    "Collapsed": "false"
   },
   "outputs": [],
   "source": [
    "#OW\n",
    "import os\n",
    "import sys\n",
    "import numpy as np\n",
    "import matplotlib.pyplot as plt\n",
    "import pandas as pd\n",
    "import seaborn as sns"
   ]
  },
  {
   "cell_type": "code",
   "execution_count": 2,
   "metadata": {
    "Collapsed": "false"
   },
   "outputs": [],
   "source": [
    "# path = r'C:\\Users\\d07321ow\\Documents\\LOCAL_SECURE_DATA\\03062020_UHS_data'\n",
    "path = r\"C:\\work\\dev\\dECMT_src\\data_all\\COVID19_Data\\Current\\\\\"\n",
    "\n",
    "\n",
    "\n",
    "demographics_df = pd.read_csv(path + '\\REACT_COVID_Demographics_20200506.csv')\n",
    "events_df = pd.read_csv(path + '\\REACT_Events.csv')\n",
    "lab_results_df = pd.read_csv(path + '\\REACT_LabResults.csv')\n",
    "pharmacy_data_df = pd.read_csv(path + '\\REACT_PharmacyData.csv')\n",
    "covid_test_df= pd.read_csv(path + '\\REACT_UHSCOVIDTest_processed.csv')\n",
    "vitalsigns_cat_df = pd.read_csv(path + '\\REACT_Vitalsigns_Categorical.csv')\n",
    "vitalsigns_num_df = pd.read_csv(path + '\\REACT_Vitalsigns_Numeric.csv')"
   ]
  },
  {
   "cell_type": "markdown",
   "metadata": {
    "Collapsed": "false"
   },
   "source": [
    "# How many unique patients do we have?"
   ]
  },
  {
   "cell_type": "code",
   "execution_count": 3,
   "metadata": {
    "Collapsed": "false"
   },
   "outputs": [
    {
     "name": "stdout",
     "output_type": "stream",
     "text": [
      "REACT_COVID_Demographics_20200506 unique study_id:  391\n",
      "REACT_Events unique study_id:  614\n",
      "REACT_LabResults unique study_id:  363\n",
      "REACT_PharmacyData unique study_id:  554\n",
      "REACT_UHSCOVIDTest_processed unique study_id:  564\n",
      "REACT_Vitalsigns_Categorical unique study_id:  563\n",
      "REACT_Vitalsigns_Numeric unique study_id:  587\n"
     ]
    }
   ],
   "source": [
    "print('REACT_COVID_Demographics_20200506 unique study_id: ', demographics_df['STUDY_ID'].unique().shape[0])\n",
    "print('REACT_Events unique study_id: ', events_df['STUDY_ID'].unique().shape[0])\n",
    "print('REACT_LabResults unique study_id: ', lab_results_df['STUDY_ID'].unique().shape[0])\n",
    "print('REACT_PharmacyData unique study_id: ', pharmacy_data_df['STUDY_ID'].unique().shape[0])\n",
    "print('REACT_UHSCOVIDTest_processed unique study_id: ', covid_test_df['STUDY_ID'].unique().shape[0])\n",
    "print('REACT_Vitalsigns_Categorical unique study_id: ', vitalsigns_cat_df['STUDY_ID'].unique().shape[0])\n",
    "print('REACT_Vitalsigns_Numeric unique study_id: ', vitalsigns_num_df['STUDY_ID'].unique().shape[0])"
   ]
  },
  {
   "cell_type": "markdown",
   "metadata": {
    "Collapsed": "false"
   },
   "source": [
    "We have all parameters for:"
   ]
  },
  {
   "cell_type": "code",
   "execution_count": 4,
   "metadata": {
    "Collapsed": "false"
   },
   "outputs": [
    {
     "data": {
      "text/plain": "155"
     },
     "execution_count": 4,
     "metadata": {},
     "output_type": "execute_result"
    }
   ],
   "source": [
    "len(set.intersection(set(demographics_df['STUDY_ID'].unique()),\n",
    "                 set(events_df['STUDY_ID'].unique()),\n",
    "                set(lab_results_df['STUDY_ID'].unique()),\n",
    "                 set(pharmacy_data_df['STUDY_ID'].unique()),\n",
    "                set(covid_test_df['STUDY_ID'].unique()),\n",
    "                 set(vitalsigns_cat_df['STUDY_ID'].unique()),\n",
    "                set(vitalsigns_num_df['STUDY_ID'].unique())))"
   ]
  },
  {
   "cell_type": "markdown",
   "metadata": {
    "Collapsed": "false"
   },
   "source": [
    "patients."
   ]
  },
  {
   "cell_type": "markdown",
   "metadata": {
    "Collapsed": "false"
   },
   "source": [
    "# Create dictionary"
   ]
  },
  {
   "cell_type": "code",
   "execution_count": 5,
   "metadata": {
    "Collapsed": "false"
   },
   "outputs": [
    {
     "data": {
      "text/plain": "            STUDY_ID  PATIENT_AGE GENDER ETHNIC_GROUP POSTCODE  IS_PREGNANT  \\\n0  UHSCOVID_9ecc7ad0           67      F            A     SO50            0   \n1  UHSCOVID_3952cfb9           65      F            A     SO17            0   \n2  UHSCOVID_058c23fb           81      M            A     SO51            0   \n3  UHSCOVID_a9554b0d           70      M            A     SO31            0   \n4  UHSCOVID_38fe19fd           75      M            A     SO16            0   \n\n  FIRST_POS_DATE FIRST_POS_DATETIME FIRST_POS_TIME    ADM_DATE  \\\n0     27/04/2020   27/04/2020 00:00       00:00:00  26/04/2020   \n1     22/04/2020   22/04/2020 00:00       00:00:00  22/04/2020   \n2     27/04/2020   27/04/2020 00:00       00:00:00  27/04/2020   \n3     29/04/2020   29/04/2020 00:00       00:00:00  29/04/2020   \n4     10/04/2020   10/04/2020 00:00       00:00:00  09/04/2020   \n\n       ADM_DATETIME  ADM_TIME DISCHARGE_DATE    LOS  LOS_PREPOS  \n0  26/04/2020 21:00  21:00:00            NaN   8.70         NaN  \n1  22/04/2020 20:20  20:20:00            NaN  12.72         NaN  \n2  27/04/2020 16:54  16:54:00            NaN   7.87         NaN  \n3  29/04/2020 19:32  19:32:00            NaN   5.76         NaN  \n4  09/04/2020 17:46  17:46:00            NaN  25.83        0.18  ",
      "text/html": "<div>\n<style scoped>\n    .dataframe tbody tr th:only-of-type {\n        vertical-align: middle;\n    }\n\n    .dataframe tbody tr th {\n        vertical-align: top;\n    }\n\n    .dataframe thead th {\n        text-align: right;\n    }\n</style>\n<table border=\"1\" class=\"dataframe\">\n  <thead>\n    <tr style=\"text-align: right;\">\n      <th></th>\n      <th>STUDY_ID</th>\n      <th>PATIENT_AGE</th>\n      <th>GENDER</th>\n      <th>ETHNIC_GROUP</th>\n      <th>POSTCODE</th>\n      <th>IS_PREGNANT</th>\n      <th>FIRST_POS_DATE</th>\n      <th>FIRST_POS_DATETIME</th>\n      <th>FIRST_POS_TIME</th>\n      <th>ADM_DATE</th>\n      <th>ADM_DATETIME</th>\n      <th>ADM_TIME</th>\n      <th>DISCHARGE_DATE</th>\n      <th>LOS</th>\n      <th>LOS_PREPOS</th>\n    </tr>\n  </thead>\n  <tbody>\n    <tr>\n      <th>0</th>\n      <td>UHSCOVID_9ecc7ad0</td>\n      <td>67</td>\n      <td>F</td>\n      <td>A</td>\n      <td>SO50</td>\n      <td>0</td>\n      <td>27/04/2020</td>\n      <td>27/04/2020 00:00</td>\n      <td>00:00:00</td>\n      <td>26/04/2020</td>\n      <td>26/04/2020 21:00</td>\n      <td>21:00:00</td>\n      <td>NaN</td>\n      <td>8.70</td>\n      <td>NaN</td>\n    </tr>\n    <tr>\n      <th>1</th>\n      <td>UHSCOVID_3952cfb9</td>\n      <td>65</td>\n      <td>F</td>\n      <td>A</td>\n      <td>SO17</td>\n      <td>0</td>\n      <td>22/04/2020</td>\n      <td>22/04/2020 00:00</td>\n      <td>00:00:00</td>\n      <td>22/04/2020</td>\n      <td>22/04/2020 20:20</td>\n      <td>20:20:00</td>\n      <td>NaN</td>\n      <td>12.72</td>\n      <td>NaN</td>\n    </tr>\n    <tr>\n      <th>2</th>\n      <td>UHSCOVID_058c23fb</td>\n      <td>81</td>\n      <td>M</td>\n      <td>A</td>\n      <td>SO51</td>\n      <td>0</td>\n      <td>27/04/2020</td>\n      <td>27/04/2020 00:00</td>\n      <td>00:00:00</td>\n      <td>27/04/2020</td>\n      <td>27/04/2020 16:54</td>\n      <td>16:54:00</td>\n      <td>NaN</td>\n      <td>7.87</td>\n      <td>NaN</td>\n    </tr>\n    <tr>\n      <th>3</th>\n      <td>UHSCOVID_a9554b0d</td>\n      <td>70</td>\n      <td>M</td>\n      <td>A</td>\n      <td>SO31</td>\n      <td>0</td>\n      <td>29/04/2020</td>\n      <td>29/04/2020 00:00</td>\n      <td>00:00:00</td>\n      <td>29/04/2020</td>\n      <td>29/04/2020 19:32</td>\n      <td>19:32:00</td>\n      <td>NaN</td>\n      <td>5.76</td>\n      <td>NaN</td>\n    </tr>\n    <tr>\n      <th>4</th>\n      <td>UHSCOVID_38fe19fd</td>\n      <td>75</td>\n      <td>M</td>\n      <td>A</td>\n      <td>SO16</td>\n      <td>0</td>\n      <td>10/04/2020</td>\n      <td>10/04/2020 00:00</td>\n      <td>00:00:00</td>\n      <td>09/04/2020</td>\n      <td>09/04/2020 17:46</td>\n      <td>17:46:00</td>\n      <td>NaN</td>\n      <td>25.83</td>\n      <td>0.18</td>\n    </tr>\n  </tbody>\n</table>\n</div>"
     },
     "execution_count": 5,
     "metadata": {},
     "output_type": "execute_result"
    }
   ],
   "source": [
    "demographics_df.head()"
   ]
  },
  {
   "cell_type": "markdown",
   "metadata": {
    "Collapsed": "false"
   },
   "source": [
    "## Datetime formating"
   ]
  },
  {
   "cell_type": "markdown",
   "metadata": {
    "Collapsed": "false"
   },
   "source": [
    "Make sure that each date time value is in proper format"
   ]
  },
  {
   "cell_type": "code",
   "execution_count": 6,
   "metadata": {
    "Collapsed": "false"
   },
   "outputs": [],
   "source": [
    "def convert_columns_to_datetime(df, columns, datetime_format):\n",
    "    for column in columns:\n",
    "        df[column] = pd.to_datetime(df[column] , format=datetime_format)\n",
    "\n",
    "    return df"
   ]
  },
  {
   "cell_type": "code",
   "execution_count": 7,
   "metadata": {
    "Collapsed": "false"
   },
   "outputs": [],
   "source": [
    "demographics_df = convert_columns_to_datetime(demographics_df, columns = ['FIRST_POS_DATETIME','ADM_DATETIME','DISCHARGE_DATE'], datetime_format='%d/%m/%Y %H:%M')\n",
    "demographics_df = convert_columns_to_datetime(demographics_df, columns = ['FIRST_POS_DATE', 'ADM_DATE'], datetime_format='%d/%m/%Y')"
   ]
  },
  {
   "cell_type": "code",
   "execution_count": 8,
   "metadata": {
    "Collapsed": "false"
   },
   "outputs": [],
   "source": [
    "events_df = convert_columns_to_datetime(events_df, columns = ['START_DATETIME','END_DATETIME'], datetime_format='%Y-%m-%d %H:%M:%S')\n",
    "events_df = convert_columns_to_datetime(events_df, columns = ['START_DATE', 'END_DATE'], datetime_format='%d/%m/%Y')"
   ]
  },
  {
   "cell_type": "code",
   "execution_count": 9,
   "metadata": {
    "Collapsed": "false"
   },
   "outputs": [],
   "source": [
    "lab_results_df = convert_columns_to_datetime(lab_results_df, columns = ['PATHOLOGY_SPECIMEN_DATE'], datetime_format='%Y-%m-%d %H:%M:%S')\n",
    "lab_results_df = convert_columns_to_datetime(lab_results_df, columns = ['SPECIMEN_DATE'], datetime_format='%d/%m/%Y')"
   ]
  },
  {
   "cell_type": "code",
   "execution_count": 10,
   "metadata": {
    "Collapsed": "false"
   },
   "outputs": [],
   "source": [
    "pharmacy_data_df = convert_columns_to_datetime(pharmacy_data_df, columns = ['DRUGSTARTDATE','DRUGENDDATE'], datetime_format='%Y-%m-%d %H:%M:%S')\n",
    "pharmacy_data_df = convert_columns_to_datetime(pharmacy_data_df, columns = ['DRUG_STARTDATE', 'DRUG_ENDDATE'], datetime_format='%d/%m/%Y')"
   ]
  },
  {
   "cell_type": "code",
   "execution_count": 11,
   "metadata": {
    "Collapsed": "false"
   },
   "outputs": [],
   "source": [
    "covid_test_df = convert_columns_to_datetime(covid_test_df, columns = ['TAKEN_DATE','REPORT_DATE', 'REQUEST_DATE','ADMIT_DATETIME', 'DISCHARGEDATE'], datetime_format='%Y-%m-%d %H:%M:%S')"
   ]
  },
  {
   "cell_type": "code",
   "execution_count": 12,
   "metadata": {
    "Collapsed": "false"
   },
   "outputs": [],
   "source": [
    "vitalsigns_cat_df = convert_columns_to_datetime(vitalsigns_cat_df, columns = ['UNITFROM_DATETIME','UNITTO_DATETIME','RECORDED_DATETIME','VALIDATION_DATETIME'], datetime_format='%Y-%m-%d %H:%M:%S')\n",
    "vitalsigns_cat_df = convert_columns_to_datetime(vitalsigns_cat_df, columns = ['RECORDED_DATE'], datetime_format='%d/%m/%Y')"
   ]
  },
  {
   "cell_type": "code",
   "execution_count": 13,
   "metadata": {
    "Collapsed": "false"
   },
   "outputs": [],
   "source": [
    "vitalsigns_num_df = convert_columns_to_datetime(vitalsigns_num_df, columns = ['UNITFROM_DATETIME','UNITTO_DATETIME','RECORDED_DATETIME','VALIDATION_DATETIME'], datetime_format='%Y-%m-%d %H:%M:%S')\n",
    "vitalsigns_num_df = convert_columns_to_datetime(vitalsigns_num_df, columns = ['RECORDED_DATE'], datetime_format='%d/%m/%Y')"
   ]
  },
  {
   "cell_type": "markdown",
   "metadata": {
    "Collapsed": "false"
   },
   "source": [
    "___"
   ]
  },
  {
   "cell_type": "code",
   "execution_count": 14,
   "metadata": {
    "Collapsed": "false"
   },
   "outputs": [],
   "source": [
    "def assign_demographics(dict_, demographics_df, STUDY_ID):\n",
    "    \n",
    "    # dict_ - a dictionary corresponding to a single patient\n",
    "    # demodemographics_df - a dataframe with demographics info directly from the csv file (datetime formating needed first)\n",
    "    # STUDY_ID - patient id\n",
    "    \n",
    "    ## Function assignes relevent demographics information to one patient.\n",
    "    ## It appends each feature name as a new 'dictinary key', and its value as 'dictionary value'.\n",
    "    \n",
    "    dict_['GENDER'] = demographics_df.loc[demographics_df['STUDY_ID'] == STUDY_ID, 'GENDER'].values[0]\n",
    "    dict_['ETHNIC_GROUP'] = demographics_df.loc[demographics_df['STUDY_ID'] == STUDY_ID, 'ETHNIC_GROUP'].astype('category').values[0]\n",
    "    dict_['IS_PREGNANT'] = demographics_df.loc[demographics_df['STUDY_ID'] == STUDY_ID, 'IS_PREGNANT'].astype('int').values[0]\n",
    "    dict_['PATIENT_AGE'] = demographics_df.loc[demographics_df['STUDY_ID'] == STUDY_ID, 'PATIENT_AGE'].astype('int').values[0]\n",
    "    dict_['ADM_DATETIME'] = demographics_df.loc[demographics_df['STUDY_ID'] == STUDY_ID, 'ADM_DATETIME'].values[0]\n",
    "    dict_['DISCHARGE_DATE'] = demographics_df.loc[demographics_df['STUDY_ID'] == STUDY_ID, 'DISCHARGE_DATE'].values[0]\n",
    "    \n",
    "    return dict_"
   ]
  },
  {
   "cell_type": "code",
   "execution_count": 15,
   "metadata": {
    "Collapsed": "false"
   },
   "outputs": [
    {
     "data": {
      "text/plain": "True"
     },
     "execution_count": 15,
     "metadata": {},
     "output_type": "execute_result"
    }
   ],
   "source": [
    "'ADMISSION' in list(events_df.loc[(events_df['STUDY_ID'] == 'UHSCOVID_03b5f40f'), 'EVENT_TYPE'].values)"
   ]
  },
  {
   "cell_type": "code",
   "execution_count": 16,
   "metadata": {
    "Collapsed": "false"
   },
   "outputs": [],
   "source": [
    "def assign_events(dict_, events_df, STUDY_ID):\n",
    "    \n",
    "    # dict_ - a dictionary corresponding to a single patient\n",
    "    # events_df - a dataframe with events info directly from the csv file (datetime formating needed first)\n",
    "    # STUDY_ID - patient id    \n",
    "    \n",
    "    ## Function assigns 0-1 values to events from event list = ['C5','INVASIVE VENTILATION','ITU','NIV']\n",
    "    ## If an event takes place, the value is 1. \n",
    "    ## Default value for an event is 0 (not occured)\n",
    "    ## E.g. if patient has an event ITU in EVENT_TYPE column in REACT_Events.csv he gets value 1 in the dictionary with key='ITU'\n",
    "\n",
    "    \n",
    "    \n",
    "    patient_events_list = list(events_df.loc[(events_df['STUDY_ID'] == STUDY_ID), 'EVENT_TYPE'].values)\n",
    "    \n",
    "    events_list = ['C5','INVASIVE VENTILATION','ITU','NIV']\n",
    "    \n",
    "    for event in events_list:\n",
    "        dict_[event] = 0\n",
    "        if event in patient_events_list:\n",
    "            dict_[event] = 1\n",
    "        \n",
    "            \n",
    "    return dict_"
   ]
  },
  {
   "cell_type": "code",
   "execution_count": 17,
   "metadata": {
    "Collapsed": "false"
   },
   "outputs": [],
   "source": [
    "def compute_ICU_days(dict_, events_df, STUDY_ID):\n",
    "    \n",
    "    # dict_ - a dictionary corresponding to a single patient\n",
    "    # events_df - a dataframe with events info directly from the csv file (datetime formating needed first)\n",
    "    # STUDY_ID - patient id    \n",
    "    \n",
    "    ## Function computes the number of days spent in the hospital and in ICU\n",
    "    ## events_hosp_days are based on REACT_Events.csv and columns START_DATETIME and END_DATETIME where the EVENT_TYPE == ADMISSION\n",
    "    ## ICU_days are based on REACT_Events.csv and columns START_DATETIME and END_DATETIME where the EVENT_TYPE == ITU\n",
    "    \n",
    "    \n",
    "    hosp_start = events_df.loc[(events_df['STUDY_ID'] == STUDY_ID) & (events_df['EVENT_TYPE'] == 'ADMISSION'), 'START_DATETIME'].values\n",
    "    hosp_end = events_df.loc[(events_df['STUDY_ID'] == STUDY_ID) & (events_df['EVENT_TYPE'] == 'ADMISSION'), 'END_DATETIME'].values\n",
    "    try:\n",
    "        dict_['events_hosp_days'] = int((hosp_end-hosp_start) / np.timedelta64(1, 'D'))\n",
    "    except:\n",
    "        pass\n",
    "        \n",
    "    ICU_start = events_df.loc[(events_df['STUDY_ID'] == STUDY_ID) & (events_df['EVENT_TYPE'] == 'ITU'), 'START_DATETIME'].values\n",
    "    ICU_end = events_df.loc[(events_df['STUDY_ID'] == STUDY_ID) & (events_df['EVENT_TYPE'] == 'ITU'), 'END_DATETIME'].values    \n",
    "        \n",
    "    try:\n",
    "        dict_['ICU_days'] = int((ICU_end-ICU_start) / np.timedelta64(1, 'D'))\n",
    "    except:\n",
    "        pass\n",
    "    \n",
    "    \n",
    "    return dict_"
   ]
  },
  {
   "cell_type": "code",
   "execution_count": 18,
   "metadata": {
    "Collapsed": "false"
   },
   "outputs": [],
   "source": [
    "def compute_days_in_hospital(dict_, current_date = '2020-06-05'):\n",
    "    \n",
    "    # dict_ - a dictionary of given patient, with ADM_DATETIME and DISCHARGE_DATE in 'datetime64[s]' format\n",
    "    # current_date - if patient has not been discharged, it calculates the number of days from ADMISSION to 'current date'\n",
    "    \n",
    "    ## function computes the number of days from ADM_DATETIME to DISCHARGE_DATE\n",
    "    ## it outputs the number of days, and TRUE/FALSE if the patient has been discharged up to 'current date'\n",
    "    \n",
    "    \n",
    "    # Has the patient been discharged?\n",
    "    discharged = ~np.isnat(dict_['DISCHARGE_DATE'] )\n",
    "    \n",
    "    \n",
    "    if discharged:\n",
    "#        print('discharged')\n",
    "\n",
    "        days_in_hospital = int((dict_['DISCHARGE_DATE']-dict_['ADM_DATETIME']).astype('timedelta64[D]') / np.timedelta64(1, 'D'))\n",
    "    \n",
    "    elif ~discharged:\n",
    " #       print('still at hospital')\n",
    "        days_in_hospital = (np.array(current_date, dtype=np.datetime64)-dict_['ADM_DATETIME']).astype('timedelta64[D]') / np.timedelta64(1, 'D')\n",
    "    \n",
    "    \n",
    "    return days_in_hospital, int(discharged)"
   ]
  },
  {
   "cell_type": "code",
   "execution_count": 19,
   "metadata": {
    "Collapsed": "false"
   },
   "outputs": [],
   "source": [
    "data = {}\n",
    "\n",
    "table_names = ['Demographics','Events','LabResults','PharmacyData','UHSCOVIDTest','Vitalsigns_Cat', 'Vitalsigns_Num']\n",
    "\n",
    "for study_id in demographics_df['STUDY_ID'].unique():\n",
    "    data[study_id] = dict()\n",
    "    \n",
    "    # assign demographics information to each patient\n",
    "    data[study_id] = assign_demographics(data[study_id], demographics_df, study_id)\n",
    "    \n",
    "    data[study_id] = compute_ICU_days(data[study_id], events_df, study_id)\n",
    "    \n",
    "    data[study_id] = assign_events(data[study_id], events_df, study_id)"
   ]
  },
  {
   "cell_type": "code",
   "execution_count": 20,
   "metadata": {
    "Collapsed": "false"
   },
   "outputs": [],
   "source": [
    "def check_if_died(dict_, covid_test_df, STUDY_ID, info = False):\n",
    "    \n",
    "    try:\n",
    "        dict_['Died_in_2020'] = int(pd.notna(covid_test_df.loc[(covid_test_df['STUDY_ID'] == STUDY_ID),'YEAR_OF_DEATH']).reset_index(drop=True).values[0])\n",
    "        if info:\n",
    "            print('Died_in_2020? ', dict_['Died_in_2020'])\n",
    "    except:\n",
    "        if info:\n",
    "            print('--------   error   -----------------')\n",
    "    \n",
    "    return dict_"
   ]
  },
  {
   "cell_type": "code",
   "execution_count": 21,
   "metadata": {
    "Collapsed": "false"
   },
   "outputs": [],
   "source": [
    "def get_lab_result(dict_, lab_results_df, STUDY_ID, info = False):\n",
    "    \n",
    "        \n",
    "    # dict_ - a dictionary corresponding to a single patient\n",
    "    # lab_results_df - a dataframe with lab results info directly from the csv file (datetime formating needed first)\n",
    "    # STUDY_ID - patient id    \n",
    "    \n",
    "    ## Function adds to the dictionary a timeseries of lab results for given REACT_TESTCODE (e.g. POTASSIUM).\n",
    "    ## Each REACT_TESTCOPE goes into dictionary as a new key. Values for each key are: time and values. 'time' is a timeline in DAYS, starting from 0. 'values' are the parameter values at given time.\n",
    "    ## 'time' and 'values' are combined into a np.array() and assign to the key\n",
    "    \n",
    "    \n",
    "    test_codes = list(lab_results_df['REACT_TESTCODE'].unique())\n",
    "    \n",
    "    for test_code in test_codes:\n",
    "        #print(test_code)\n",
    "        try:\n",
    "            index = (lab_results_df['STUDY_ID'] == study_id) & (lab_results_df['REACT_TESTCODE'] == test_code)\n",
    "            time = (lab_results_df.loc[index , 'PATHOLOGY_SPECIMEN_DATE'].reset_index(drop=True).values - lab_results_df.loc[index , 'PATHOLOGY_SPECIMEN_DATE'].reset_index(drop=True).values.min())/ np.timedelta64(1, 'D')\n",
    "            order = np.argsort(time)\n",
    "            time = time[order]\n",
    "            values = lab_results_df.loc[index , 'PATHOLOGY_RESULT_NUMERIC'].reset_index(drop=True).values\n",
    "            values = values[order]\n",
    "            \n",
    "            \n",
    "\n",
    "            dict_[test_code] = np.array([time,values])\n",
    "            if info:\n",
    "                print('Patient ID ', study_id)\n",
    "        except:\n",
    "            if info:\n",
    "                print('--------   error   -----------------')\n",
    "    \n",
    "    return dict_"
   ]
  },
  {
   "cell_type": "code",
   "execution_count": 22,
   "metadata": {
    "Collapsed": "false"
   },
   "outputs": [],
   "source": [
    "\n",
    "\n",
    "for study_id in demographics_df['STUDY_ID'].unique():\n",
    "    \n",
    "    #print(study_id, '______________')\n",
    "    \n",
    "    data[study_id]['days_in_hospital'] , data[study_id]['discharged']= compute_days_in_hospital(data[study_id])\n",
    "    \n",
    "    data[study_id] = check_if_died(data[study_id], covid_test_df, study_id, False)\n",
    "    \n",
    "    data[study_id] = get_lab_result(data[study_id], lab_results_df, study_id, False)"
   ]
  },
  {
   "cell_type": "code",
   "execution_count": 23,
   "metadata": {
    "Collapsed": "false"
   },
   "outputs": [
    {
     "data": {
      "text/plain": "{'GENDER': 'F',\n 'ETHNIC_GROUP': 'A',\n 'IS_PREGNANT': 0,\n 'PATIENT_AGE': 85,\n 'ADM_DATETIME': numpy.datetime64('2020-03-20T12:55:00.000000000'),\n 'DISCHARGE_DATE': numpy.datetime64('2020-04-05T10:10:00.000000000'),\n 'events_hosp_days': 15,\n 'C5': 0,\n 'INVASIVE VENTILATION': 0,\n 'ITU': 0,\n 'NIV': 1,\n 'days_in_hospital': 15,\n 'discharged': 1,\n 'Died_in_2020': 1,\n 'GLUCOSE': array([[ 0.        ,  2.03125   , 15.25277778, 15.30208333, 15.39097222,\n         15.41111111, 15.5375    , 15.6125    , 15.67638889],\n        [ 4.4       ,  8.5       ,  4.        ,  4.8       , 13.9       ,\n          6.        ,  4.4       ,  4.6       ,  5.3       ]]),\n 'POTASSIUM': array([[ 0.        ,  0.82152778,  1.70555556,  2.87916667,  4.01041667,\n          6.10069444,  7.34027778,  9.38611111, 10.88125   , 13.38611111,\n         15.38611111],\n        [ 5.2       ,  4.6       ,  5.        ,  4.8       ,  5.1       ,\n          4.5       ,  4.5       ,  3.8       ,  3.5       ,  3.3       ,\n          4.5       ]]),\n 'CREATENINE': array([[  0.        ,   0.82152778,   1.70555556,   2.17361111,\n           2.87916667,   4.01041667,   5.84513889,   6.10069444,\n           7.34027778,   9.38611111,  10.88125   ,  13.38611111,\n          15.38611111],\n        [325.        , 316.        , 334.        , 335.        ,\n         312.        , 297.        , 296.        , 296.        ,\n         294.        , 247.        , 229.        , 224.        ,\n         297.        ]]),\n 'UREA': array([[ 0.        ,  0.82152778,  1.70555556,  2.17361111,  2.87916667,\n          4.01041667,  5.84513889,  6.10069444,  7.34027778,  9.38611111,\n         10.88125   , 13.38611111, 15.38611111],\n        [41.2       , 42.1       , 43.9       , 43.7       , 43.9       ,\n         42.5       , 41.7       , 40.8       , 43.5       , 40.1       ,\n         39.4       , 39.8       , 40.4       ]]),\n 'BILIRUBIN': array([[ 0.        ,  0.82152778,  1.70555556,  2.17361111,  2.87916667,\n          4.01041667,  5.84513889,  6.10069444,  7.34027778],\n        [10.        , 10.        ,  9.        ,  8.        ,  9.        ,\n         12.        , 13.        , 12.        , 12.        ]]),\n 'WBC': array([[ 0.        ,  0.82152778,  1.70555556,  2.17361111,  2.87916667,\n          4.01041667,  6.10069444,  7.34027778,  9.38611111, 10.88125   ,\n         13.38611111, 15.38611111],\n        [ 6.        ,  6.9       ,  5.1       ,  5.6       ,  6.2       ,\n          7.1       ,  7.        ,  6.9       ,  6.3       ,  6.7       ,\n          5.1       ,  6.1       ]]),\n 'EOSINOPHILS': array([[ 0.        ,  0.82152778,  1.70555556,  2.17361111,  2.87916667,\n          4.01041667,  6.10069444,  7.34027778,  9.38611111, 10.88125   ,\n         13.38611111, 15.38611111],\n        [ 0.        ,  0.        ,  0.1       ,  0.1       ,  0.1       ,\n          0.        ,  0.        ,  0.        ,  0.1       ,  0.        ,\n          0.1       ,  0.        ]]),\n 'NEUTROPHILS': array([[ 0.        ,  0.82152778,  1.70555556,  2.17361111,  2.87916667,\n          4.01041667,  6.10069444,  7.34027778,  9.38611111, 10.88125   ,\n         13.38611111, 15.38611111],\n        [ 5.        ,  6.1       ,  3.9       ,  4.6       ,  5.2       ,\n          6.3       ,  6.1       ,  6.        ,  5.8       ,  6.        ,\n          4.6       ,  5.4       ]]),\n 'LYMPHOCYTES': array([[ 0.        ,  0.82152778,  1.70555556,  2.17361111,  2.87916667,\n          4.01041667,  6.10069444,  7.34027778,  9.38611111, 10.88125   ,\n         13.38611111, 15.38611111],\n        [ 0.6       ,  0.4       ,  0.6       ,  0.6       ,  0.6       ,\n          0.4       ,  0.4       ,  0.4       ,  0.3       ,  0.4       ,\n          0.3       ,  0.5       ]]),\n 'ALT': array([[ 0.        ,  0.82152778,  1.70555556,  2.17361111,  2.87916667,\n          4.01041667,  5.84513889,  6.10069444,  7.34027778],\n        [42.        , 37.        , 32.        , 33.        , 33.        ,\n         38.        , 39.        , 38.        , 36.        ]]),\n 'CRP': array([[  0.        ,   0.82152778,   1.70555556,   2.17361111,\n           2.87916667,   4.01041667,   5.84513889,   6.10069444,\n           7.34027778,   9.38611111,  10.88125   ,  13.38611111],\n        [ 62.        ,  64.        ,  57.        ,  56.        ,\n          45.        ,  68.        ,  71.        ,  65.        ,\n          78.        ,  60.        ,  70.        , 116.        ]]),\n 'SODIUM': array([[  0.        ,   0.82152778,   1.70555556,   2.17361111,\n           2.87916667,   4.01041667,   5.84513889,   6.10069444,\n           7.34027778,   9.38611111,  10.88125   ,  13.38611111,\n          15.38611111],\n        [135.        , 132.        , 135.        , 131.        ,\n         129.        , 131.        , 130.        , 131.        ,\n         134.        , 139.        , 137.        , 136.        ,\n         135.        ]]),\n 'HB': array([[  0.        ,   0.82152778,   1.70555556,   2.17361111,\n           2.87916667,   4.01041667,   6.10069444,   7.34027778,\n           9.38611111,  10.88125   ,  13.38611111,  15.38611111],\n        [118.        , 107.        ,  97.        , 105.        ,\n         101.        , 110.        , 103.        , 102.        ,\n         120.        ,  92.        ,  98.        ,  97.        ]]),\n 'PLATELETS': array([[  0.        ,   0.82152778,   1.70555556,   2.17361111,\n           2.87916667,   4.01041667,   6.10069444,   7.34027778,\n           9.38611111,  10.88125   ,  13.38611111,  15.38611111],\n        [108.        , 110.        , 109.        , 117.        ,\n         121.        , 122.        , 120.        , 127.        ,\n         117.        , 117.        , 117.        ,  96.        ]])}"
     },
     "execution_count": 23,
     "metadata": {},
     "output_type": "execute_result"
    }
   ],
   "source": [
    "data[study_id]"
   ]
  },
  {
   "cell_type": "code",
   "execution_count": 24,
   "metadata": {
    "Collapsed": "false"
   },
   "outputs": [
    {
     "data": {
      "text/plain": "                  GENDER ETHNIC_GROUP IS_PREGNANT PATIENT_AGE  \\\nUHSCOVID_babab202      F            L           0          50   \nUHSCOVID_fa5f2b86      M            S           0          43   \nUHSCOVID_9857f7d2      M            C           0          49   \nUHSCOVID_0cd586ea      M            A           0          60   \nUHSCOVID_264d09be      M            A           0          67   \nUHSCOVID_72badc67      M            C           0          45   \nUHSCOVID_19882a58      F            L           0          61   \nUHSCOVID_4a960d27      F            A           0          27   \nUHSCOVID_1fbd4777      M            A           0          62   \nUHSCOVID_b8e9e320      M            S           0          47   \nUHSCOVID_eeb647a7      M            A           0          56   \nUHSCOVID_3d4d1e97      M            H           0          60   \nUHSCOVID_037e2bce      M            X           0          41   \nUHSCOVID_85fc2de4      F            A           0          65   \nUHSCOVID_18f343c9      M            H           0          53   \nUHSCOVID_82b6b842      F            A           0           1   \nUHSCOVID_bf4a0c12      F            Z           0          15   \nUHSCOVID_273f5dbf      F            A           0          43   \nUHSCOVID_8c6c3f11      M            P           0          61   \nUHSCOVID_2e716c47      F            L           0          51   \nUHSCOVID_f325574f      M            L           0          46   \nUHSCOVID_95271202      M            L           0          31   \nUHSCOVID_b217fc60      M            A           0          72   \nUHSCOVID_36565ded      M            Z           0          41   \nUHSCOVID_d412bca6      M            Z           0           0   \nUHSCOVID_2c73b922      M            N           0          48   \nUHSCOVID_09e14c3d      F            C           0          61   \nUHSCOVID_403db62e      M            S           0          38   \nUHSCOVID_82a1b278      M            A           0          61   \nUHSCOVID_38ff5206      M            A           0          38   \nUHSCOVID_9ffa89c1      M            N           0          65   \nUHSCOVID_702d8fb6      F            A           0          61   \nUHSCOVID_7e57acdc      F            H           0          63   \nUHSCOVID_ce23aefe      F            A           0          33   \nUHSCOVID_5dfc8945      F            A           0          69   \nUHSCOVID_396b46c4      M            Z           0          47   \nUHSCOVID_8ebc76ee      M            A           0          73   \nUHSCOVID_18acfd61      M            A           0          74   \nUHSCOVID_ee2213fd      F            A           0          73   \n\n                         ADM_DATETIME      DISCHARGE_DATE events_hosp_days C5  \\\nUHSCOVID_babab202 2020-04-07 17:25:00 2020-04-26 14:05:00               18  0   \nUHSCOVID_fa5f2b86 2020-04-06 04:54:00 2020-04-16 14:48:00               10  0   \nUHSCOVID_9857f7d2 2020-04-17 23:00:00 2020-05-01 16:22:00               13  1   \nUHSCOVID_0cd586ea 2020-04-07 15:37:00 2020-05-01 12:44:00               23  1   \nUHSCOVID_264d09be 2020-03-26 22:38:00 2020-04-30 13:52:00               34  1   \nUHSCOVID_72badc67 2020-04-23 16:55:00 2020-04-29 12:20:00                5  0   \nUHSCOVID_19882a58 2020-04-18 18:39:00 2020-04-27 22:51:00                9  0   \nUHSCOVID_4a960d27 2020-04-19 12:36:00 2020-04-27 12:45:00                8  0   \nUHSCOVID_1fbd4777 2020-04-07 12:34:00 2020-04-29 16:51:00               22  0   \nUHSCOVID_b8e9e320 2020-04-11 14:02:00 2020-04-27 18:45:00               16  0   \nUHSCOVID_eeb647a7 2020-03-26 16:30:00 2020-04-24 11:30:00               28  1   \nUHSCOVID_3d4d1e97 2020-04-18 00:41:00 2020-04-27 16:30:00                9  0   \nUHSCOVID_037e2bce 2020-04-14 15:14:00 2020-04-23 16:10:00                9  1   \nUHSCOVID_85fc2de4 2020-04-06 20:20:00 2020-04-26 21:58:00               20  0   \nUHSCOVID_18f343c9 2020-04-09 22:47:00 2020-04-22 20:30:00               12  1   \nUHSCOVID_82b6b842 2020-03-21 14:55:00 2020-04-24 16:45:00               34  0   \nUHSCOVID_bf4a0c12 2020-04-04 23:50:00 2020-04-23 18:30:00               18  1   \nUHSCOVID_273f5dbf 2020-03-31 20:45:00 2020-04-23 17:35:00               22  0   \nUHSCOVID_8c6c3f11 2020-04-14 17:25:00 2020-04-20 15:50:00                5  0   \nUHSCOVID_2e716c47 2020-04-11 21:46:00 2020-04-21 16:40:00                9  1   \nUHSCOVID_f325574f 2020-04-03 15:07:00 2020-04-17 16:58:00               14  1   \nUHSCOVID_95271202 2020-04-10 15:33:00 2020-04-15 18:21:00                5  1   \nUHSCOVID_b217fc60 2020-04-06 11:09:00 2020-04-17 16:19:00               11  0   \nUHSCOVID_36565ded 2020-04-11 11:26:00 2020-04-19 14:56:00                8  1   \nUHSCOVID_d412bca6 2020-04-10 14:00:00 2020-04-16 15:46:00                6  1   \nUHSCOVID_2c73b922 2020-03-20 17:30:00 2020-04-22 15:17:00               32  1   \nUHSCOVID_09e14c3d 2020-04-02 15:43:00 2020-04-12 12:13:00                9  0   \nUHSCOVID_403db62e 2020-04-03 02:11:00 2020-04-13 16:43:00               10  1   \nUHSCOVID_82a1b278 2020-04-09 15:43:00 2020-04-29 05:06:00               19  0   \nUHSCOVID_38ff5206 2020-03-25 23:40:00 2020-04-09 20:30:00               14  1   \nUHSCOVID_9ffa89c1 2020-03-23 23:06:00 2020-04-14 14:12:00               21  0   \nUHSCOVID_702d8fb6 2020-04-06 13:58:00 2020-04-13 07:51:00                6  0   \nUHSCOVID_7e57acdc 2020-04-07 16:09:00 2020-04-10 01:56:00                2  1   \nUHSCOVID_ce23aefe 2020-03-18 22:47:00 2020-04-10 17:19:00               22  0   \nUHSCOVID_5dfc8945 2020-04-03 20:32:00 2020-04-07 05:45:00                3  0   \nUHSCOVID_396b46c4 2020-03-19 12:21:00 2020-04-09 14:36:00               21  0   \nUHSCOVID_8ebc76ee 2020-04-01 20:50:00 2020-04-17 13:44:00               15  0   \nUHSCOVID_18acfd61 2020-03-29 20:00:00 2020-04-09 16:30:00               10  0   \nUHSCOVID_ee2213fd 2020-03-30 02:26:00 2020-04-17 14:45:00               18  1   \n\n                  INVASIVE VENTILATION ITU  ...  \\\nUHSCOVID_babab202                    0   1  ...   \nUHSCOVID_fa5f2b86                    0   1  ...   \nUHSCOVID_9857f7d2                    0   1  ...   \nUHSCOVID_0cd586ea                    0   1  ...   \nUHSCOVID_264d09be                    0   1  ...   \nUHSCOVID_72badc67                    0   1  ...   \nUHSCOVID_19882a58                    0   1  ...   \nUHSCOVID_4a960d27                    0   1  ...   \nUHSCOVID_1fbd4777                    0   1  ...   \nUHSCOVID_b8e9e320                    0   1  ...   \nUHSCOVID_eeb647a7                    0   1  ...   \nUHSCOVID_3d4d1e97                    0   1  ...   \nUHSCOVID_037e2bce                    0   1  ...   \nUHSCOVID_85fc2de4                    0   1  ...   \nUHSCOVID_18f343c9                    0   1  ...   \nUHSCOVID_82b6b842                    0   1  ...   \nUHSCOVID_bf4a0c12                    0   1  ...   \nUHSCOVID_273f5dbf                    0   1  ...   \nUHSCOVID_8c6c3f11                    0   1  ...   \nUHSCOVID_2e716c47                    0   1  ...   \nUHSCOVID_f325574f                    0   1  ...   \nUHSCOVID_95271202                    0   1  ...   \nUHSCOVID_b217fc60                    0   1  ...   \nUHSCOVID_36565ded                    0   1  ...   \nUHSCOVID_d412bca6                    0   1  ...   \nUHSCOVID_2c73b922                    0   1  ...   \nUHSCOVID_09e14c3d                    0   1  ...   \nUHSCOVID_403db62e                    0   1  ...   \nUHSCOVID_82a1b278                    0   1  ...   \nUHSCOVID_38ff5206                    0   1  ...   \nUHSCOVID_9ffa89c1                    0   1  ...   \nUHSCOVID_702d8fb6                    0   1  ...   \nUHSCOVID_7e57acdc                    0   1  ...   \nUHSCOVID_ce23aefe                    0   1  ...   \nUHSCOVID_5dfc8945                    0   1  ...   \nUHSCOVID_396b46c4                    0   1  ...   \nUHSCOVID_8ebc76ee                    0   1  ...   \nUHSCOVID_18acfd61                    0   1  ...   \nUHSCOVID_ee2213fd                    0   1  ...   \n\n                                                                 AST  \\\nUHSCOVID_babab202  [[0.0, 0.7125, 1.7125, 2.7125, 3.7125, 4.7125,...   \nUHSCOVID_fa5f2b86                                                NaN   \nUHSCOVID_9857f7d2  [[0.0, 2.0, 3.0, 4.0, 5.0, 6.0, 7.227777777777...   \nUHSCOVID_0cd586ea  [[0.0, 1.0, 2.0, 3.0, 3.0, 4.0, 6.0, 7.0, 8.0,...   \nUHSCOVID_264d09be  [[0.0, 1.2284722222222222, 3.0, 4.0, 5.0, 6.0,...   \nUHSCOVID_72badc67  [[0.0, 2.0, 3.0, 4.0, 5.0], [74.0, 78.0, 91.0,...   \nUHSCOVID_19882a58  [[0.0, 1.0, 4.375, 7.365277777777778], [51.0, ...   \nUHSCOVID_4a960d27  [[0.0, 1.2083333333333333, 2.0, 3.345833333333...   \nUHSCOVID_1fbd4777                                                NaN   \nUHSCOVID_b8e9e320                                                NaN   \nUHSCOVID_eeb647a7  [[0.0, 1.0, 2.0, 3.0, 4.0, 5.0, 6.0, 7.0, 8.0]...   \nUHSCOVID_3d4d1e97  [[0.0, 1.0, 2.0, 3.0, 4.0, 6.533333333333333],...   \nUHSCOVID_037e2bce                                                NaN   \nUHSCOVID_85fc2de4                                                NaN   \nUHSCOVID_18f343c9                                                NaN   \nUHSCOVID_82b6b842                                                NaN   \nUHSCOVID_bf4a0c12                                                NaN   \nUHSCOVID_273f5dbf  [[0.0, 1.0, 2.0, 3.0, 4.0, 5.0, 6.0, 7.5055555...   \nUHSCOVID_8c6c3f11                                                NaN   \nUHSCOVID_2e716c47                                                NaN   \nUHSCOVID_f325574f                                                NaN   \nUHSCOVID_95271202                                                NaN   \nUHSCOVID_b217fc60                                                NaN   \nUHSCOVID_36565ded                                                NaN   \nUHSCOVID_d412bca6                                                NaN   \nUHSCOVID_2c73b922  [[0.0, 1.0, 2.0, 4.0, 5.0, 5.0], [174.0, 279.0...   \nUHSCOVID_09e14c3d                                    [[0.0], [46.0]]   \nUHSCOVID_403db62e                                                NaN   \nUHSCOVID_82a1b278                                                NaN   \nUHSCOVID_38ff5206                                   [[0.0], [139.0]]   \nUHSCOVID_9ffa89c1  [[0.0, 1.6263888888888889, 3.4902777777777776]...   \nUHSCOVID_702d8fb6                                                NaN   \nUHSCOVID_7e57acdc                                                NaN   \nUHSCOVID_ce23aefe                                                NaN   \nUHSCOVID_5dfc8945                                                NaN   \nUHSCOVID_396b46c4                                                NaN   \nUHSCOVID_8ebc76ee  [[0.0, 3.0, 4.0, 5.0, 6.25, 8.0], [13.0, 46.0,...   \nUHSCOVID_18acfd61                                                NaN   \nUHSCOVID_ee2213fd                                    [[0.0], [33.0]]   \n\n                                                            TROPONIN  \\\nUHSCOVID_babab202  [[0.0, 0.1423611111111111, 2.4298611111111112,...   \nUHSCOVID_fa5f2b86                                                NaN   \nUHSCOVID_9857f7d2  [[0.0, 0.0, 1.0, 3.0, 4.0, 5.0, 6.0, 7.0, 8.22...   \nUHSCOVID_0cd586ea  [[0.0, 2.0, 3.0, 5.0, 5.0, 5.0, 6.0, 8.0, 9.0,...   \nUHSCOVID_264d09be  [[0.0, 5.0, 6.0, 7.0, 8.0, 9.0, 10.0, 12.0, 13...   \nUHSCOVID_72badc67  [[0.0, 1.25, 2.0, 3.0, 4.0, 5.0], [38.0, 42.0,...   \nUHSCOVID_19882a58               [[0.0, 1.0, 4.375], [4.0, 4.0, 3.0]]   \nUHSCOVID_4a960d27  [[0.0, 1.2083333333333333, 2.0, 3.345833333333...   \nUHSCOVID_1fbd4777                                                NaN   \nUHSCOVID_b8e9e320                                                NaN   \nUHSCOVID_eeb647a7  [[0.0, 1.0, 1.0, 2.0, 3.0, 4.0, 6.178472222222...   \nUHSCOVID_3d4d1e97  [[0.0, 1.0, 2.0, 3.0, 4.0, 6.533333333333333],...   \nUHSCOVID_037e2bce                                                NaN   \nUHSCOVID_85fc2de4                                                NaN   \nUHSCOVID_18f343c9                                                NaN   \nUHSCOVID_82b6b842                                                NaN   \nUHSCOVID_bf4a0c12                                                NaN   \nUHSCOVID_273f5dbf  [[0.0, 1.0, 2.0, 3.0, 4.0, 5.0, 6.0, 7.0, 8.0,...   \nUHSCOVID_8c6c3f11                                                NaN   \nUHSCOVID_2e716c47                                                NaN   \nUHSCOVID_f325574f                                                NaN   \nUHSCOVID_95271202                                                NaN   \nUHSCOVID_b217fc60                                                NaN   \nUHSCOVID_36565ded                                                NaN   \nUHSCOVID_d412bca6                                                NaN   \nUHSCOVID_2c73b922  [[0.0, 0.7909722222222222, 1.0, 2.0, 3.0, 4.0,...   \nUHSCOVID_09e14c3d  [[0.0, 1.229861111111111, 2.0, 3.0], [22.0, 17...   \nUHSCOVID_403db62e                                                NaN   \nUHSCOVID_82a1b278                                                NaN   \nUHSCOVID_38ff5206  [[0.0, 3.0, 5.0, 6.18125, 7.0, 10.0, 11.3125, ...   \nUHSCOVID_9ffa89c1  [[0.0, 1.0, 2.0, 3.0, 6.0, 7.0, 8.0, 9.0, 10.0...   \nUHSCOVID_702d8fb6                                                NaN   \nUHSCOVID_7e57acdc                                                NaN   \nUHSCOVID_ce23aefe                                                NaN   \nUHSCOVID_5dfc8945                                                NaN   \nUHSCOVID_396b46c4  [[0.0, 6.0, 7.0, 8.0, 9.0, 10.0, 11.0, 13.0, 1...   \nUHSCOVID_8ebc76ee  [[0.0, 1.0, 2.0, 3.0, 4.0, 4.0, 6.0, 7.0, 10.0...   \nUHSCOVID_18acfd61  [[0.0, 3.64375, 4.64375, 7.64375], [21.0, 10.0...   \nUHSCOVID_ee2213fd  [[0.0, 1.0, 3.3201388888888888, 4.157638888888...   \n\n                                                             D_DIMER  \\\nUHSCOVID_babab202  [[0.0, 1.2875, 2.0, 3.0, 4.0, 5.0, 7.0, 8.0, 9...   \nUHSCOVID_fa5f2b86                                                NaN   \nUHSCOVID_9857f7d2  [[0.0, 2.0, 3.0, 4.0, 5.0, 9.0, 11.0, 12.41458...   \nUHSCOVID_0cd586ea  [[0.0, 1.0, 3.0, 3.0, 4.0, 6.0, 7.0, 8.0, 9.0,...   \nUHSCOVID_264d09be  [[0.0, 1.0, 2.0, 3.0, 4.0, 5.0, 7.0, 9.2284722...   \nUHSCOVID_72badc67  [[0.0, 0.75, 1.75, 2.75, 3.75], [849.0, 3945.0...   \nUHSCOVID_19882a58  [[0.0, 1.0, 7.365277777777778], [465.0, 370.0,...   \nUHSCOVID_4a960d27  [[0.0, 1.2083333333333333, 2.0, 3.345833333333...   \nUHSCOVID_1fbd4777                                                NaN   \nUHSCOVID_b8e9e320                                                NaN   \nUHSCOVID_eeb647a7  [[0.0, 1.0, 1.0, 2.0, 3.0, 4.0, 6.178472222222...   \nUHSCOVID_3d4d1e97  [[0.0, 1.0, 2.0, 3.0, 4.0, 6.533333333333333],...   \nUHSCOVID_037e2bce                                                NaN   \nUHSCOVID_85fc2de4                                                NaN   \nUHSCOVID_18f343c9                                                NaN   \nUHSCOVID_82b6b842                                                NaN   \nUHSCOVID_bf4a0c12                                                NaN   \nUHSCOVID_273f5dbf  [[0.0, 1.0, 2.0, 3.0, 4.0, 5.0, 6.0, 7.0, 8.0,...   \nUHSCOVID_8c6c3f11                                                NaN   \nUHSCOVID_2e716c47                                                NaN   \nUHSCOVID_f325574f                                                NaN   \nUHSCOVID_95271202                                                NaN   \nUHSCOVID_b217fc60                                                NaN   \nUHSCOVID_36565ded                                                NaN   \nUHSCOVID_d412bca6                                                NaN   \nUHSCOVID_2c73b922                                                NaN   \nUHSCOVID_09e14c3d  [[0.0, 1.229861111111111, 2.0, 3.0, 5.53611111...   \nUHSCOVID_403db62e                                                NaN   \nUHSCOVID_82a1b278                                                NaN   \nUHSCOVID_38ff5206                                                NaN   \nUHSCOVID_9ffa89c1  [[0.0, 1.0, 2.0, 5.0, 7.0, 8.0, 9.0, 10.0, 12....   \nUHSCOVID_702d8fb6                                                NaN   \nUHSCOVID_7e57acdc                                                NaN   \nUHSCOVID_ce23aefe                                                NaN   \nUHSCOVID_5dfc8945                                                NaN   \nUHSCOVID_396b46c4  [[0.0, 1.0, 2.0, 3.0, 4.0, 6.0, 8.23125, 9.0, ...   \nUHSCOVID_8ebc76ee  [[0.0, 1.0, 2.0, 3.0, 5.0, 6.0, 8.379166666666...   \nUHSCOVID_18acfd61   [[0.0, 3.64375, 4.64375], [666.0, 726.0, 641.0]]   \nUHSCOVID_ee2213fd  [[0.0, 1.0, 3.3201388888888888, 4.157638888888...   \n\n                                                           BILIRUBIN  \\\nUHSCOVID_babab202  [[0.0, 1.0, 2.2875, 3.0, 4.0, 5.0, 6.0, 7.0, 8...   \nUHSCOVID_fa5f2b86                                                NaN   \nUHSCOVID_9857f7d2  [[0.0, 1.0, 2.0, 3.0, 4.0, 5.0, 6.0, 7.0, 10.0...   \nUHSCOVID_0cd586ea  [[0.0, 1.2340277777777777, 2.0, 3.0, 4.0, 5.0,...   \nUHSCOVID_264d09be  [[0.0, 1.0, 2.0, 3.1493055555555554, 4.2034722...   \nUHSCOVID_72badc67  [[0.0, 1.25, 2.0, 3.0, 4.0, 4.0, 5.0], [14.0, ...   \nUHSCOVID_19882a58  [[0.0, 1.0, 2.0, 4.375, 7.365277777777778], [7...   \nUHSCOVID_4a960d27  [[0.0, 1.2083333333333333, 2.0, 3.345833333333...   \nUHSCOVID_1fbd4777                                                NaN   \nUHSCOVID_b8e9e320                                                NaN   \nUHSCOVID_eeb647a7  [[0.0, 1.0, 1.0, 2.0, 3.0, 4.0, 5.0, 6.0, 6.17...   \nUHSCOVID_3d4d1e97  [[0.0, 1.0, 2.0, 3.0, 4.0, 6.533333333333333],...   \nUHSCOVID_037e2bce                                                NaN   \nUHSCOVID_85fc2de4                                                NaN   \nUHSCOVID_18f343c9                                                NaN   \nUHSCOVID_82b6b842                                                NaN   \nUHSCOVID_bf4a0c12                                                NaN   \nUHSCOVID_273f5dbf  [[0.0, 1.0, 2.0, 3.0, 4.0, 5.0, 6.0, 7.0, 8.0,...   \nUHSCOVID_8c6c3f11                                                NaN   \nUHSCOVID_2e716c47                                                NaN   \nUHSCOVID_f325574f                                                NaN   \nUHSCOVID_95271202                                                NaN   \nUHSCOVID_b217fc60                                                NaN   \nUHSCOVID_36565ded                                                NaN   \nUHSCOVID_d412bca6                                                NaN   \nUHSCOVID_2c73b922  [[0.0, 1.0, 2.0, 3.0, 4.0, 5.0, 6.0, 7.0, 8.0,...   \nUHSCOVID_09e14c3d  [[0.0, 1.229861111111111, 2.0, 3.0, 5.53611111...   \nUHSCOVID_403db62e                                                NaN   \nUHSCOVID_82a1b278                                                NaN   \nUHSCOVID_38ff5206  [[0.0, 3.0, 5.0, 5.0, 6.18125, 7.0, 11.3125, 1...   \nUHSCOVID_9ffa89c1  [[0.0, 1.0, 3.0, 4.0, 5.0, 6.0, 7.0, 8.0, 9.0,...   \nUHSCOVID_702d8fb6                                                NaN   \nUHSCOVID_7e57acdc                                                NaN   \nUHSCOVID_ce23aefe                                                NaN   \nUHSCOVID_5dfc8945                                                NaN   \nUHSCOVID_396b46c4  [[0.0, 1.0, 2.0, 3.0, 4.0, 5.0, 6.0, 7.0, 8.0,...   \nUHSCOVID_8ebc76ee  [[0.0, 1.0, 2.0, 3.0, 4.0, 5.0, 6.0, 7.0, 8.21...   \nUHSCOVID_18acfd61  [[0.0, 0.29305555555555557, 1.0347222222222223...   \nUHSCOVID_ee2213fd  [[0.0, 1.0, 2.0, 2.0, 3.2354166666666666, 4.32...   \n\n                                                                 ALT  \\\nUHSCOVID_babab202  [[0.0, 1.0, 2.2875, 3.0, 4.0, 5.0, 6.0, 7.0, 8...   \nUHSCOVID_fa5f2b86                                                NaN   \nUHSCOVID_9857f7d2  [[0.0, 1.0, 2.0, 3.0, 4.0, 5.0, 6.0, 7.0, 10.0...   \nUHSCOVID_0cd586ea  [[0.0, 1.2340277777777777, 2.0, 3.0, 4.0, 5.0,...   \nUHSCOVID_264d09be  [[0.0, 1.0, 2.0, 3.1493055555555554, 4.2034722...   \nUHSCOVID_72badc67  [[0.0, 1.25, 2.0, 3.0, 4.0, 4.0, 5.0], [27.0, ...   \nUHSCOVID_19882a58  [[0.0, 1.0, 2.0, 4.375, 7.365277777777778], [2...   \nUHSCOVID_4a960d27  [[0.0, 1.2083333333333333, 2.0, 3.345833333333...   \nUHSCOVID_1fbd4777                                                NaN   \nUHSCOVID_b8e9e320                                                NaN   \nUHSCOVID_eeb647a7  [[0.0, 1.0, 1.0, 2.0, 3.0, 4.0, 5.0, 6.0, 6.17...   \nUHSCOVID_3d4d1e97  [[0.0, 1.0, 2.0, 3.0, 4.0, 6.533333333333333],...   \nUHSCOVID_037e2bce                                                NaN   \nUHSCOVID_85fc2de4                                                NaN   \nUHSCOVID_18f343c9                                                NaN   \nUHSCOVID_82b6b842                                                NaN   \nUHSCOVID_bf4a0c12                                                NaN   \nUHSCOVID_273f5dbf  [[0.0, 1.0, 2.0, 3.0, 4.0, 5.0, 6.0, 7.0, 8.0,...   \nUHSCOVID_8c6c3f11                                                NaN   \nUHSCOVID_2e716c47                                                NaN   \nUHSCOVID_f325574f                                                NaN   \nUHSCOVID_95271202                                                NaN   \nUHSCOVID_b217fc60                                                NaN   \nUHSCOVID_36565ded                                                NaN   \nUHSCOVID_d412bca6                                                NaN   \nUHSCOVID_2c73b922  [[0.0, 1.0, 2.0, 3.0, 4.0, 5.0, 6.0, 7.0, 8.0,...   \nUHSCOVID_09e14c3d  [[0.0, 1.229861111111111, 2.0, 3.0, 5.53611111...   \nUHSCOVID_403db62e                                                NaN   \nUHSCOVID_82a1b278                                                NaN   \nUHSCOVID_38ff5206  [[0.0, 3.0, 5.0, 5.0, 6.18125, 7.0, 11.3125, 1...   \nUHSCOVID_9ffa89c1  [[0.0, 1.0, 3.0, 4.0, 5.0, 6.0, 7.0, 8.0, 9.0,...   \nUHSCOVID_702d8fb6                                                NaN   \nUHSCOVID_7e57acdc                                                NaN   \nUHSCOVID_ce23aefe                                                NaN   \nUHSCOVID_5dfc8945                                                NaN   \nUHSCOVID_396b46c4  [[0.0, 1.0, 2.0, 3.0, 4.0, 5.0, 6.0, 7.0, 8.0,...   \nUHSCOVID_8ebc76ee  [[0.0, 1.0, 2.0, 3.0, 4.0, 5.0, 6.0, 7.0, 8.21...   \nUHSCOVID_18acfd61  [[0.0, 0.29305555555555557, 1.0347222222222223...   \nUHSCOVID_ee2213fd  [[0.0, 1.0, 2.0, 2.0, 3.2354166666666666, 4.32...   \n\n                                                                 CRP  \\\nUHSCOVID_babab202  [[0.0, 1.0, 2.2875, 3.0, 4.0, 5.0, 6.0, 7.0, 8...   \nUHSCOVID_fa5f2b86                                                NaN   \nUHSCOVID_9857f7d2  [[0.0, 1.0, 2.0, 3.0, 4.0, 5.0, 6.0, 7.0, 10.0...   \nUHSCOVID_0cd586ea  [[0.0, 1.2340277777777777, 2.0, 3.0, 4.0, 5.0,...   \nUHSCOVID_264d09be  [[0.0, 1.0, 2.0, 3.1493055555555554, 4.2034722...   \nUHSCOVID_72badc67  [[0.0, 1.25, 2.0, 3.0, 4.0, 4.0, 5.0], [221.0,...   \nUHSCOVID_19882a58  [[0.0, 1.0, 2.0, 4.375, 7.365277777777778], [1...   \nUHSCOVID_4a960d27  [[0.0, 1.2083333333333333, 2.0, 3.345833333333...   \nUHSCOVID_1fbd4777                                                NaN   \nUHSCOVID_b8e9e320                                                NaN   \nUHSCOVID_eeb647a7  [[0.0, 1.0, 1.0, 2.0, 3.0, 4.0, 5.0, 6.0, 6.17...   \nUHSCOVID_3d4d1e97  [[0.0, 1.0, 2.0, 3.0, 4.0, 6.533333333333333],...   \nUHSCOVID_037e2bce                                                NaN   \nUHSCOVID_85fc2de4                                                NaN   \nUHSCOVID_18f343c9                                                NaN   \nUHSCOVID_82b6b842                                                NaN   \nUHSCOVID_bf4a0c12                                                NaN   \nUHSCOVID_273f5dbf  [[0.0, 1.0, 2.0, 3.0, 4.0, 5.0, 6.0, 7.0, 8.0,...   \nUHSCOVID_8c6c3f11                                                NaN   \nUHSCOVID_2e716c47                                                NaN   \nUHSCOVID_f325574f                                                NaN   \nUHSCOVID_95271202                                                NaN   \nUHSCOVID_b217fc60                                                NaN   \nUHSCOVID_36565ded                                                NaN   \nUHSCOVID_d412bca6                                                NaN   \nUHSCOVID_2c73b922  [[0.0, 0.0, 1.0, 2.0, 3.0, 4.0, 5.0, 6.0, 7.0,...   \nUHSCOVID_09e14c3d  [[0.0, 1.229861111111111, 2.0, 3.0, 5.53611111...   \nUHSCOVID_403db62e                                                NaN   \nUHSCOVID_82a1b278                                                NaN   \nUHSCOVID_38ff5206  [[0.0, 3.0, 5.0, 5.0, 6.18125, 7.0, 8.0, 9.0, ...   \nUHSCOVID_9ffa89c1  [[0.0, 1.0, 2.0, 3.0, 4.0, 5.0, 7.0, 8.0, 9.0,...   \nUHSCOVID_702d8fb6                                                NaN   \nUHSCOVID_7e57acdc                                                NaN   \nUHSCOVID_ce23aefe                                                NaN   \nUHSCOVID_5dfc8945                                                NaN   \nUHSCOVID_396b46c4  [[0.0, 1.0, 2.0, 3.0, 3.0, 4.0, 5.0, 6.0, 7.0,...   \nUHSCOVID_8ebc76ee  [[0.0, 1.0, 2.0, 3.0, 4.0, 5.0, 6.0, 7.0, 8.21...   \nUHSCOVID_18acfd61  [[0.0, 0.29305555555555557, 1.0347222222222223...   \nUHSCOVID_ee2213fd  [[0.0, 1.0, 2.0, 2.0, 3.2354166666666666, 4.32...   \n\n                                                                 LDH  \\\nUHSCOVID_babab202  [[0.0, 2.2875, 3.0, 4.0, 5.0, 6.0, 8.0, 9.0, 1...   \nUHSCOVID_fa5f2b86                                                NaN   \nUHSCOVID_9857f7d2  [[0.0, 2.0, 3.0, 4.0, 5.0, 7.227777777777778, ...   \nUHSCOVID_0cd586ea  [[0.0, 1.0, 2.0, 3.0, 3.0, 4.0, 6.0, 7.0, 8.0,...   \nUHSCOVID_264d09be  [[0.0, 5.0, 6.0, 7.0, 8.0, 9.0, 10.0, 12.0, 13...   \nUHSCOVID_72badc67  [[0.0, 2.0, 3.0, 4.0, 5.0], [1109.0, 1237.0, 1...   \nUHSCOVID_19882a58  [[0.0, 1.0, 7.365277777777778], [853.0, 908.0,...   \nUHSCOVID_4a960d27  [[0.0, 1.2083333333333333, 2.0, 3.345833333333...   \nUHSCOVID_1fbd4777                                                NaN   \nUHSCOVID_b8e9e320                                                NaN   \nUHSCOVID_eeb647a7  [[0.0, 1.0, 1.0, 2.0, 3.0, 4.0, 6.178472222222...   \nUHSCOVID_3d4d1e97  [[0.0, 1.0, 2.0, 3.0, 4.0, 6.533333333333333],...   \nUHSCOVID_037e2bce                                                NaN   \nUHSCOVID_85fc2de4                                                NaN   \nUHSCOVID_18f343c9                                                NaN   \nUHSCOVID_82b6b842                                                NaN   \nUHSCOVID_bf4a0c12                                                NaN   \nUHSCOVID_273f5dbf  [[0.0, 1.0, 2.0, 3.0, 4.0, 5.0, 6.0, 7.0, 8.0,...   \nUHSCOVID_8c6c3f11                                                NaN   \nUHSCOVID_2e716c47                                                NaN   \nUHSCOVID_f325574f                                                NaN   \nUHSCOVID_95271202                                                NaN   \nUHSCOVID_b217fc60                                                NaN   \nUHSCOVID_36565ded                                                NaN   \nUHSCOVID_d412bca6                                                NaN   \nUHSCOVID_2c73b922  [[0.0, 1.0, 2.0, 3.0, 5.0, 5.0, 6.0, 7.0, 8.0,...   \nUHSCOVID_09e14c3d  [[0.0, 1.229861111111111, 2.0, 3.0, 5.53611111...   \nUHSCOVID_403db62e                                                NaN   \nUHSCOVID_82a1b278                                                NaN   \nUHSCOVID_38ff5206  [[0.0, 3.0, 5.0, 6.18125, 7.0, 10.0, 11.3125, ...   \nUHSCOVID_9ffa89c1  [[0.0, 1.0, 2.0, 5.0, 6.0, 7.0, 8.0, 9.0, 10.0...   \nUHSCOVID_702d8fb6                                                NaN   \nUHSCOVID_7e57acdc                                                NaN   \nUHSCOVID_ce23aefe                                                NaN   \nUHSCOVID_5dfc8945                                                NaN   \nUHSCOVID_396b46c4  [[0.0, 1.0, 2.0, 3.0, 4.0, 6.0, 7.23125, 8.231...   \nUHSCOVID_8ebc76ee  [[0.0, 1.0, 2.0, 3.0, 4.0, 6.0, 7.0, 9.3791666...   \nUHSCOVID_18acfd61  [[0.0, 3.64375, 4.64375, 7.64375], [555.0, 644...   \nUHSCOVID_ee2213fd  [[0.0, 1.0, 3.3201388888888888, 4.157638888888...   \n\n                                                          TRIGYCERIN  \\\nUHSCOVID_babab202  [[0.0, 0.7125, 1.7125, 2.7125, 3.7125, 5.7125,...   \nUHSCOVID_fa5f2b86                                                NaN   \nUHSCOVID_9857f7d2  [[0.0, 2.0, 3.0, 4.0, 5.0, 7.227777777777778, ...   \nUHSCOVID_0cd586ea  [[0.0, 1.0, 2.0, 3.0, 3.0, 4.0, 6.0, 7.0, 8.0,...   \nUHSCOVID_264d09be  [[0.0, 1.2284722222222222, 3.0, 4.0, 5.0, 6.0,...   \nUHSCOVID_72badc67  [[0.0, 2.0, 3.0, 4.0, 5.0], [1.3, 2.8, 3.7, 3....   \nUHSCOVID_19882a58               [[0.0, 1.0, 4.375], [1.4, 1.7, 1.7]]   \nUHSCOVID_4a960d27  [[0.0, 1.2083333333333333, 2.0, 3.345833333333...   \nUHSCOVID_1fbd4777                                                NaN   \nUHSCOVID_b8e9e320                                                NaN   \nUHSCOVID_eeb647a7  [[0.0, 1.0, 2.0, 3.0, 4.0, 5.0, 6.0, 7.0, 8.0]...   \nUHSCOVID_3d4d1e97  [[0.0, 1.0, 2.0, 3.0, 4.0, 6.533333333333333],...   \nUHSCOVID_037e2bce                                                NaN   \nUHSCOVID_85fc2de4                                                NaN   \nUHSCOVID_18f343c9                                                NaN   \nUHSCOVID_82b6b842                                                NaN   \nUHSCOVID_bf4a0c12                                                NaN   \nUHSCOVID_273f5dbf  [[0.0, 1.0, 2.0, 3.0, 4.0, 5.0, 6.0, 7.5055555...   \nUHSCOVID_8c6c3f11                                                NaN   \nUHSCOVID_2e716c47                                                NaN   \nUHSCOVID_f325574f                                                NaN   \nUHSCOVID_95271202                                                NaN   \nUHSCOVID_b217fc60                                                NaN   \nUHSCOVID_36565ded                                                NaN   \nUHSCOVID_d412bca6                                                NaN   \nUHSCOVID_2c73b922  [[0.0, 1.0, 2.0, 4.0, 5.0, 5.0], [2.8, 1.0, 3....   \nUHSCOVID_09e14c3d                                     [[0.0], [3.2]]   \nUHSCOVID_403db62e                                                NaN   \nUHSCOVID_82a1b278                                                NaN   \nUHSCOVID_38ff5206                                     [[0.0], [4.8]]   \nUHSCOVID_9ffa89c1  [[0.0, 1.6263888888888889, 3.4902777777777776]...   \nUHSCOVID_702d8fb6                                                NaN   \nUHSCOVID_7e57acdc                                                NaN   \nUHSCOVID_ce23aefe                                                NaN   \nUHSCOVID_5dfc8945                                                NaN   \nUHSCOVID_396b46c4                                                NaN   \nUHSCOVID_8ebc76ee  [[0.0, 3.0, 4.0, 5.0, 6.25, 8.0], [1.1, 1.1, 0...   \nUHSCOVID_18acfd61                                                NaN   \nUHSCOVID_ee2213fd                                     [[0.0], [1.4]]   \n\n                                                            FERRITIN ICU_days  \nUHSCOVID_babab202  [[0.0, 1.0, 2.2875, 3.0, 4.0, 5.0, 6.0, 8.0, 9...       15  \nUHSCOVID_fa5f2b86                                                NaN        9  \nUHSCOVID_9857f7d2  [[0.0, 1.0, 3.0, 4.0, 5.0, 6.0, 8.227777777777...        9  \nUHSCOVID_0cd586ea  [[0.0, 2.0, 3.0, 4.0, 5.0, 5.0, 6.0, 8.0, 9.0,...      NaN  \nUHSCOVID_264d09be  [[0.0, 5.0, 6.0, 7.0, 8.0, 9.0, 10.0, 12.0, 13...      NaN  \nUHSCOVID_72badc67  [[0.0, 1.25, 2.0, 3.0, 4.0, 5.0], [1093.0, 113...        5  \nUHSCOVID_19882a58  [[0.0, 1.0, 7.365277777777778], [1451.0, 1189....        2  \nUHSCOVID_4a960d27  [[0.0, 1.2083333333333333, 2.0, 3.345833333333...        2  \nUHSCOVID_1fbd4777                                                NaN       15  \nUHSCOVID_b8e9e320                                                NaN        2  \nUHSCOVID_eeb647a7  [[0.0, 1.0, 1.0, 2.0, 3.0, 4.0, 6.178472222222...       23  \nUHSCOVID_3d4d1e97  [[0.0, 1.0, 2.0, 3.0, 4.0, 6.533333333333333],...        5  \nUHSCOVID_037e2bce                                                NaN        1  \nUHSCOVID_85fc2de4                                                NaN       13  \nUHSCOVID_18f343c9                                                NaN        5  \nUHSCOVID_82b6b842                                                NaN      NaN  \nUHSCOVID_bf4a0c12                                                NaN       10  \nUHSCOVID_273f5dbf  [[0.0, 1.0, 2.0, 3.0, 4.0, 5.0, 6.0, 7.0, 8.0,...       14  \nUHSCOVID_8c6c3f11                                                NaN        5  \nUHSCOVID_2e716c47                                                NaN        3  \nUHSCOVID_f325574f                                                NaN        4  \nUHSCOVID_95271202                                                NaN        1  \nUHSCOVID_b217fc60                                                NaN        3  \nUHSCOVID_36565ded                                                NaN        1  \nUHSCOVID_d412bca6                                                NaN        5  \nUHSCOVID_2c73b922  [[0.0, 0.32708333333333334, 1.3270833333333334...       23  \nUHSCOVID_09e14c3d  [[0.0, 1.229861111111111, 2.0, 3.0, 5.53611111...        4  \nUHSCOVID_403db62e                                                NaN        3  \nUHSCOVID_82a1b278                                                NaN       19  \nUHSCOVID_38ff5206  [[0.0, 3.0, 5.0, 6.18125, 7.0, 10.0, 11.3125, ...        0  \nUHSCOVID_9ffa89c1  [[0.0, 1.0, 2.0, 3.0, 6.0, 7.0, 8.0, 9.0, 10.0...       16  \nUHSCOVID_702d8fb6                                                NaN        6  \nUHSCOVID_7e57acdc                                                NaN        1  \nUHSCOVID_ce23aefe                                                NaN        5  \nUHSCOVID_5dfc8945                                                NaN        1  \nUHSCOVID_396b46c4  [[0.0, 3.0, 4.0, 5.0, 6.0, 7.0, 9.0, 11.23125,...       18  \nUHSCOVID_8ebc76ee  [[0.0, 1.0, 2.0, 3.0, 4.0, 6.0, 7.0, 9.3791666...       15  \nUHSCOVID_18acfd61  [[0.0, 3.64375, 4.64375, 5.64375, 7.64375], [7...      NaN  \nUHSCOVID_ee2213fd  [[0.0, 1.0, 3.3201388888888888, 4.157638888888...        6  \n\n[39 rows x 35 columns]",
      "text/html": "<div>\n<style scoped>\n    .dataframe tbody tr th:only-of-type {\n        vertical-align: middle;\n    }\n\n    .dataframe tbody tr th {\n        vertical-align: top;\n    }\n\n    .dataframe thead th {\n        text-align: right;\n    }\n</style>\n<table border=\"1\" class=\"dataframe\">\n  <thead>\n    <tr style=\"text-align: right;\">\n      <th></th>\n      <th>GENDER</th>\n      <th>ETHNIC_GROUP</th>\n      <th>IS_PREGNANT</th>\n      <th>PATIENT_AGE</th>\n      <th>ADM_DATETIME</th>\n      <th>DISCHARGE_DATE</th>\n      <th>events_hosp_days</th>\n      <th>C5</th>\n      <th>INVASIVE VENTILATION</th>\n      <th>ITU</th>\n      <th>...</th>\n      <th>AST</th>\n      <th>TROPONIN</th>\n      <th>D_DIMER</th>\n      <th>BILIRUBIN</th>\n      <th>ALT</th>\n      <th>CRP</th>\n      <th>LDH</th>\n      <th>TRIGYCERIN</th>\n      <th>FERRITIN</th>\n      <th>ICU_days</th>\n    </tr>\n  </thead>\n  <tbody>\n    <tr>\n      <th>UHSCOVID_babab202</th>\n      <td>F</td>\n      <td>L</td>\n      <td>0</td>\n      <td>50</td>\n      <td>2020-04-07 17:25:00</td>\n      <td>2020-04-26 14:05:00</td>\n      <td>18</td>\n      <td>0</td>\n      <td>0</td>\n      <td>1</td>\n      <td>...</td>\n      <td>[[0.0, 0.7125, 1.7125, 2.7125, 3.7125, 4.7125,...</td>\n      <td>[[0.0, 0.1423611111111111, 2.4298611111111112,...</td>\n      <td>[[0.0, 1.2875, 2.0, 3.0, 4.0, 5.0, 7.0, 8.0, 9...</td>\n      <td>[[0.0, 1.0, 2.2875, 3.0, 4.0, 5.0, 6.0, 7.0, 8...</td>\n      <td>[[0.0, 1.0, 2.2875, 3.0, 4.0, 5.0, 6.0, 7.0, 8...</td>\n      <td>[[0.0, 1.0, 2.2875, 3.0, 4.0, 5.0, 6.0, 7.0, 8...</td>\n      <td>[[0.0, 2.2875, 3.0, 4.0, 5.0, 6.0, 8.0, 9.0, 1...</td>\n      <td>[[0.0, 0.7125, 1.7125, 2.7125, 3.7125, 5.7125,...</td>\n      <td>[[0.0, 1.0, 2.2875, 3.0, 4.0, 5.0, 6.0, 8.0, 9...</td>\n      <td>15</td>\n    </tr>\n    <tr>\n      <th>UHSCOVID_fa5f2b86</th>\n      <td>M</td>\n      <td>S</td>\n      <td>0</td>\n      <td>43</td>\n      <td>2020-04-06 04:54:00</td>\n      <td>2020-04-16 14:48:00</td>\n      <td>10</td>\n      <td>0</td>\n      <td>0</td>\n      <td>1</td>\n      <td>...</td>\n      <td>NaN</td>\n      <td>NaN</td>\n      <td>NaN</td>\n      <td>NaN</td>\n      <td>NaN</td>\n      <td>NaN</td>\n      <td>NaN</td>\n      <td>NaN</td>\n      <td>NaN</td>\n      <td>9</td>\n    </tr>\n    <tr>\n      <th>UHSCOVID_9857f7d2</th>\n      <td>M</td>\n      <td>C</td>\n      <td>0</td>\n      <td>49</td>\n      <td>2020-04-17 23:00:00</td>\n      <td>2020-05-01 16:22:00</td>\n      <td>13</td>\n      <td>1</td>\n      <td>0</td>\n      <td>1</td>\n      <td>...</td>\n      <td>[[0.0, 2.0, 3.0, 4.0, 5.0, 6.0, 7.227777777777...</td>\n      <td>[[0.0, 0.0, 1.0, 3.0, 4.0, 5.0, 6.0, 7.0, 8.22...</td>\n      <td>[[0.0, 2.0, 3.0, 4.0, 5.0, 9.0, 11.0, 12.41458...</td>\n      <td>[[0.0, 1.0, 2.0, 3.0, 4.0, 5.0, 6.0, 7.0, 10.0...</td>\n      <td>[[0.0, 1.0, 2.0, 3.0, 4.0, 5.0, 6.0, 7.0, 10.0...</td>\n      <td>[[0.0, 1.0, 2.0, 3.0, 4.0, 5.0, 6.0, 7.0, 10.0...</td>\n      <td>[[0.0, 2.0, 3.0, 4.0, 5.0, 7.227777777777778, ...</td>\n      <td>[[0.0, 2.0, 3.0, 4.0, 5.0, 7.227777777777778, ...</td>\n      <td>[[0.0, 1.0, 3.0, 4.0, 5.0, 6.0, 8.227777777777...</td>\n      <td>9</td>\n    </tr>\n    <tr>\n      <th>UHSCOVID_0cd586ea</th>\n      <td>M</td>\n      <td>A</td>\n      <td>0</td>\n      <td>60</td>\n      <td>2020-04-07 15:37:00</td>\n      <td>2020-05-01 12:44:00</td>\n      <td>23</td>\n      <td>1</td>\n      <td>0</td>\n      <td>1</td>\n      <td>...</td>\n      <td>[[0.0, 1.0, 2.0, 3.0, 3.0, 4.0, 6.0, 7.0, 8.0,...</td>\n      <td>[[0.0, 2.0, 3.0, 5.0, 5.0, 5.0, 6.0, 8.0, 9.0,...</td>\n      <td>[[0.0, 1.0, 3.0, 3.0, 4.0, 6.0, 7.0, 8.0, 9.0,...</td>\n      <td>[[0.0, 1.2340277777777777, 2.0, 3.0, 4.0, 5.0,...</td>\n      <td>[[0.0, 1.2340277777777777, 2.0, 3.0, 4.0, 5.0,...</td>\n      <td>[[0.0, 1.2340277777777777, 2.0, 3.0, 4.0, 5.0,...</td>\n      <td>[[0.0, 1.0, 2.0, 3.0, 3.0, 4.0, 6.0, 7.0, 8.0,...</td>\n      <td>[[0.0, 1.0, 2.0, 3.0, 3.0, 4.0, 6.0, 7.0, 8.0,...</td>\n      <td>[[0.0, 2.0, 3.0, 4.0, 5.0, 5.0, 6.0, 8.0, 9.0,...</td>\n      <td>NaN</td>\n    </tr>\n    <tr>\n      <th>UHSCOVID_264d09be</th>\n      <td>M</td>\n      <td>A</td>\n      <td>0</td>\n      <td>67</td>\n      <td>2020-03-26 22:38:00</td>\n      <td>2020-04-30 13:52:00</td>\n      <td>34</td>\n      <td>1</td>\n      <td>0</td>\n      <td>1</td>\n      <td>...</td>\n      <td>[[0.0, 1.2284722222222222, 3.0, 4.0, 5.0, 6.0,...</td>\n      <td>[[0.0, 5.0, 6.0, 7.0, 8.0, 9.0, 10.0, 12.0, 13...</td>\n      <td>[[0.0, 1.0, 2.0, 3.0, 4.0, 5.0, 7.0, 9.2284722...</td>\n      <td>[[0.0, 1.0, 2.0, 3.1493055555555554, 4.2034722...</td>\n      <td>[[0.0, 1.0, 2.0, 3.1493055555555554, 4.2034722...</td>\n      <td>[[0.0, 1.0, 2.0, 3.1493055555555554, 4.2034722...</td>\n      <td>[[0.0, 5.0, 6.0, 7.0, 8.0, 9.0, 10.0, 12.0, 13...</td>\n      <td>[[0.0, 1.2284722222222222, 3.0, 4.0, 5.0, 6.0,...</td>\n      <td>[[0.0, 5.0, 6.0, 7.0, 8.0, 9.0, 10.0, 12.0, 13...</td>\n      <td>NaN</td>\n    </tr>\n    <tr>\n      <th>UHSCOVID_72badc67</th>\n      <td>M</td>\n      <td>C</td>\n      <td>0</td>\n      <td>45</td>\n      <td>2020-04-23 16:55:00</td>\n      <td>2020-04-29 12:20:00</td>\n      <td>5</td>\n      <td>0</td>\n      <td>0</td>\n      <td>1</td>\n      <td>...</td>\n      <td>[[0.0, 2.0, 3.0, 4.0, 5.0], [74.0, 78.0, 91.0,...</td>\n      <td>[[0.0, 1.25, 2.0, 3.0, 4.0, 5.0], [38.0, 42.0,...</td>\n      <td>[[0.0, 0.75, 1.75, 2.75, 3.75], [849.0, 3945.0...</td>\n      <td>[[0.0, 1.25, 2.0, 3.0, 4.0, 4.0, 5.0], [14.0, ...</td>\n      <td>[[0.0, 1.25, 2.0, 3.0, 4.0, 4.0, 5.0], [27.0, ...</td>\n      <td>[[0.0, 1.25, 2.0, 3.0, 4.0, 4.0, 5.0], [221.0,...</td>\n      <td>[[0.0, 2.0, 3.0, 4.0, 5.0], [1109.0, 1237.0, 1...</td>\n      <td>[[0.0, 2.0, 3.0, 4.0, 5.0], [1.3, 2.8, 3.7, 3....</td>\n      <td>[[0.0, 1.25, 2.0, 3.0, 4.0, 5.0], [1093.0, 113...</td>\n      <td>5</td>\n    </tr>\n    <tr>\n      <th>UHSCOVID_19882a58</th>\n      <td>F</td>\n      <td>L</td>\n      <td>0</td>\n      <td>61</td>\n      <td>2020-04-18 18:39:00</td>\n      <td>2020-04-27 22:51:00</td>\n      <td>9</td>\n      <td>0</td>\n      <td>0</td>\n      <td>1</td>\n      <td>...</td>\n      <td>[[0.0, 1.0, 4.375, 7.365277777777778], [51.0, ...</td>\n      <td>[[0.0, 1.0, 4.375], [4.0, 4.0, 3.0]]</td>\n      <td>[[0.0, 1.0, 7.365277777777778], [465.0, 370.0,...</td>\n      <td>[[0.0, 1.0, 2.0, 4.375, 7.365277777777778], [7...</td>\n      <td>[[0.0, 1.0, 2.0, 4.375, 7.365277777777778], [2...</td>\n      <td>[[0.0, 1.0, 2.0, 4.375, 7.365277777777778], [1...</td>\n      <td>[[0.0, 1.0, 7.365277777777778], [853.0, 908.0,...</td>\n      <td>[[0.0, 1.0, 4.375], [1.4, 1.7, 1.7]]</td>\n      <td>[[0.0, 1.0, 7.365277777777778], [1451.0, 1189....</td>\n      <td>2</td>\n    </tr>\n    <tr>\n      <th>UHSCOVID_4a960d27</th>\n      <td>F</td>\n      <td>A</td>\n      <td>0</td>\n      <td>27</td>\n      <td>2020-04-19 12:36:00</td>\n      <td>2020-04-27 12:45:00</td>\n      <td>8</td>\n      <td>0</td>\n      <td>0</td>\n      <td>1</td>\n      <td>...</td>\n      <td>[[0.0, 1.2083333333333333, 2.0, 3.345833333333...</td>\n      <td>[[0.0, 1.2083333333333333, 2.0, 3.345833333333...</td>\n      <td>[[0.0, 1.2083333333333333, 2.0, 3.345833333333...</td>\n      <td>[[0.0, 1.2083333333333333, 2.0, 3.345833333333...</td>\n      <td>[[0.0, 1.2083333333333333, 2.0, 3.345833333333...</td>\n      <td>[[0.0, 1.2083333333333333, 2.0, 3.345833333333...</td>\n      <td>[[0.0, 1.2083333333333333, 2.0, 3.345833333333...</td>\n      <td>[[0.0, 1.2083333333333333, 2.0, 3.345833333333...</td>\n      <td>[[0.0, 1.2083333333333333, 2.0, 3.345833333333...</td>\n      <td>2</td>\n    </tr>\n    <tr>\n      <th>UHSCOVID_1fbd4777</th>\n      <td>M</td>\n      <td>A</td>\n      <td>0</td>\n      <td>62</td>\n      <td>2020-04-07 12:34:00</td>\n      <td>2020-04-29 16:51:00</td>\n      <td>22</td>\n      <td>0</td>\n      <td>0</td>\n      <td>1</td>\n      <td>...</td>\n      <td>NaN</td>\n      <td>NaN</td>\n      <td>NaN</td>\n      <td>NaN</td>\n      <td>NaN</td>\n      <td>NaN</td>\n      <td>NaN</td>\n      <td>NaN</td>\n      <td>NaN</td>\n      <td>15</td>\n    </tr>\n    <tr>\n      <th>UHSCOVID_b8e9e320</th>\n      <td>M</td>\n      <td>S</td>\n      <td>0</td>\n      <td>47</td>\n      <td>2020-04-11 14:02:00</td>\n      <td>2020-04-27 18:45:00</td>\n      <td>16</td>\n      <td>0</td>\n      <td>0</td>\n      <td>1</td>\n      <td>...</td>\n      <td>NaN</td>\n      <td>NaN</td>\n      <td>NaN</td>\n      <td>NaN</td>\n      <td>NaN</td>\n      <td>NaN</td>\n      <td>NaN</td>\n      <td>NaN</td>\n      <td>NaN</td>\n      <td>2</td>\n    </tr>\n    <tr>\n      <th>UHSCOVID_eeb647a7</th>\n      <td>M</td>\n      <td>A</td>\n      <td>0</td>\n      <td>56</td>\n      <td>2020-03-26 16:30:00</td>\n      <td>2020-04-24 11:30:00</td>\n      <td>28</td>\n      <td>1</td>\n      <td>0</td>\n      <td>1</td>\n      <td>...</td>\n      <td>[[0.0, 1.0, 2.0, 3.0, 4.0, 5.0, 6.0, 7.0, 8.0]...</td>\n      <td>[[0.0, 1.0, 1.0, 2.0, 3.0, 4.0, 6.178472222222...</td>\n      <td>[[0.0, 1.0, 1.0, 2.0, 3.0, 4.0, 6.178472222222...</td>\n      <td>[[0.0, 1.0, 1.0, 2.0, 3.0, 4.0, 5.0, 6.0, 6.17...</td>\n      <td>[[0.0, 1.0, 1.0, 2.0, 3.0, 4.0, 5.0, 6.0, 6.17...</td>\n      <td>[[0.0, 1.0, 1.0, 2.0, 3.0, 4.0, 5.0, 6.0, 6.17...</td>\n      <td>[[0.0, 1.0, 1.0, 2.0, 3.0, 4.0, 6.178472222222...</td>\n      <td>[[0.0, 1.0, 2.0, 3.0, 4.0, 5.0, 6.0, 7.0, 8.0]...</td>\n      <td>[[0.0, 1.0, 1.0, 2.0, 3.0, 4.0, 6.178472222222...</td>\n      <td>23</td>\n    </tr>\n    <tr>\n      <th>UHSCOVID_3d4d1e97</th>\n      <td>M</td>\n      <td>H</td>\n      <td>0</td>\n      <td>60</td>\n      <td>2020-04-18 00:41:00</td>\n      <td>2020-04-27 16:30:00</td>\n      <td>9</td>\n      <td>0</td>\n      <td>0</td>\n      <td>1</td>\n      <td>...</td>\n      <td>[[0.0, 1.0, 2.0, 3.0, 4.0, 6.533333333333333],...</td>\n      <td>[[0.0, 1.0, 2.0, 3.0, 4.0, 6.533333333333333],...</td>\n      <td>[[0.0, 1.0, 2.0, 3.0, 4.0, 6.533333333333333],...</td>\n      <td>[[0.0, 1.0, 2.0, 3.0, 4.0, 6.533333333333333],...</td>\n      <td>[[0.0, 1.0, 2.0, 3.0, 4.0, 6.533333333333333],...</td>\n      <td>[[0.0, 1.0, 2.0, 3.0, 4.0, 6.533333333333333],...</td>\n      <td>[[0.0, 1.0, 2.0, 3.0, 4.0, 6.533333333333333],...</td>\n      <td>[[0.0, 1.0, 2.0, 3.0, 4.0, 6.533333333333333],...</td>\n      <td>[[0.0, 1.0, 2.0, 3.0, 4.0, 6.533333333333333],...</td>\n      <td>5</td>\n    </tr>\n    <tr>\n      <th>UHSCOVID_037e2bce</th>\n      <td>M</td>\n      <td>X</td>\n      <td>0</td>\n      <td>41</td>\n      <td>2020-04-14 15:14:00</td>\n      <td>2020-04-23 16:10:00</td>\n      <td>9</td>\n      <td>1</td>\n      <td>0</td>\n      <td>1</td>\n      <td>...</td>\n      <td>NaN</td>\n      <td>NaN</td>\n      <td>NaN</td>\n      <td>NaN</td>\n      <td>NaN</td>\n      <td>NaN</td>\n      <td>NaN</td>\n      <td>NaN</td>\n      <td>NaN</td>\n      <td>1</td>\n    </tr>\n    <tr>\n      <th>UHSCOVID_85fc2de4</th>\n      <td>F</td>\n      <td>A</td>\n      <td>0</td>\n      <td>65</td>\n      <td>2020-04-06 20:20:00</td>\n      <td>2020-04-26 21:58:00</td>\n      <td>20</td>\n      <td>0</td>\n      <td>0</td>\n      <td>1</td>\n      <td>...</td>\n      <td>NaN</td>\n      <td>NaN</td>\n      <td>NaN</td>\n      <td>NaN</td>\n      <td>NaN</td>\n      <td>NaN</td>\n      <td>NaN</td>\n      <td>NaN</td>\n      <td>NaN</td>\n      <td>13</td>\n    </tr>\n    <tr>\n      <th>UHSCOVID_18f343c9</th>\n      <td>M</td>\n      <td>H</td>\n      <td>0</td>\n      <td>53</td>\n      <td>2020-04-09 22:47:00</td>\n      <td>2020-04-22 20:30:00</td>\n      <td>12</td>\n      <td>1</td>\n      <td>0</td>\n      <td>1</td>\n      <td>...</td>\n      <td>NaN</td>\n      <td>NaN</td>\n      <td>NaN</td>\n      <td>NaN</td>\n      <td>NaN</td>\n      <td>NaN</td>\n      <td>NaN</td>\n      <td>NaN</td>\n      <td>NaN</td>\n      <td>5</td>\n    </tr>\n    <tr>\n      <th>UHSCOVID_82b6b842</th>\n      <td>F</td>\n      <td>A</td>\n      <td>0</td>\n      <td>1</td>\n      <td>2020-03-21 14:55:00</td>\n      <td>2020-04-24 16:45:00</td>\n      <td>34</td>\n      <td>0</td>\n      <td>0</td>\n      <td>1</td>\n      <td>...</td>\n      <td>NaN</td>\n      <td>NaN</td>\n      <td>NaN</td>\n      <td>NaN</td>\n      <td>NaN</td>\n      <td>NaN</td>\n      <td>NaN</td>\n      <td>NaN</td>\n      <td>NaN</td>\n      <td>NaN</td>\n    </tr>\n    <tr>\n      <th>UHSCOVID_bf4a0c12</th>\n      <td>F</td>\n      <td>Z</td>\n      <td>0</td>\n      <td>15</td>\n      <td>2020-04-04 23:50:00</td>\n      <td>2020-04-23 18:30:00</td>\n      <td>18</td>\n      <td>1</td>\n      <td>0</td>\n      <td>1</td>\n      <td>...</td>\n      <td>NaN</td>\n      <td>NaN</td>\n      <td>NaN</td>\n      <td>NaN</td>\n      <td>NaN</td>\n      <td>NaN</td>\n      <td>NaN</td>\n      <td>NaN</td>\n      <td>NaN</td>\n      <td>10</td>\n    </tr>\n    <tr>\n      <th>UHSCOVID_273f5dbf</th>\n      <td>F</td>\n      <td>A</td>\n      <td>0</td>\n      <td>43</td>\n      <td>2020-03-31 20:45:00</td>\n      <td>2020-04-23 17:35:00</td>\n      <td>22</td>\n      <td>0</td>\n      <td>0</td>\n      <td>1</td>\n      <td>...</td>\n      <td>[[0.0, 1.0, 2.0, 3.0, 4.0, 5.0, 6.0, 7.5055555...</td>\n      <td>[[0.0, 1.0, 2.0, 3.0, 4.0, 5.0, 6.0, 7.0, 8.0,...</td>\n      <td>[[0.0, 1.0, 2.0, 3.0, 4.0, 5.0, 6.0, 7.0, 8.0,...</td>\n      <td>[[0.0, 1.0, 2.0, 3.0, 4.0, 5.0, 6.0, 7.0, 8.0,...</td>\n      <td>[[0.0, 1.0, 2.0, 3.0, 4.0, 5.0, 6.0, 7.0, 8.0,...</td>\n      <td>[[0.0, 1.0, 2.0, 3.0, 4.0, 5.0, 6.0, 7.0, 8.0,...</td>\n      <td>[[0.0, 1.0, 2.0, 3.0, 4.0, 5.0, 6.0, 7.0, 8.0,...</td>\n      <td>[[0.0, 1.0, 2.0, 3.0, 4.0, 5.0, 6.0, 7.5055555...</td>\n      <td>[[0.0, 1.0, 2.0, 3.0, 4.0, 5.0, 6.0, 7.0, 8.0,...</td>\n      <td>14</td>\n    </tr>\n    <tr>\n      <th>UHSCOVID_8c6c3f11</th>\n      <td>M</td>\n      <td>P</td>\n      <td>0</td>\n      <td>61</td>\n      <td>2020-04-14 17:25:00</td>\n      <td>2020-04-20 15:50:00</td>\n      <td>5</td>\n      <td>0</td>\n      <td>0</td>\n      <td>1</td>\n      <td>...</td>\n      <td>NaN</td>\n      <td>NaN</td>\n      <td>NaN</td>\n      <td>NaN</td>\n      <td>NaN</td>\n      <td>NaN</td>\n      <td>NaN</td>\n      <td>NaN</td>\n      <td>NaN</td>\n      <td>5</td>\n    </tr>\n    <tr>\n      <th>UHSCOVID_2e716c47</th>\n      <td>F</td>\n      <td>L</td>\n      <td>0</td>\n      <td>51</td>\n      <td>2020-04-11 21:46:00</td>\n      <td>2020-04-21 16:40:00</td>\n      <td>9</td>\n      <td>1</td>\n      <td>0</td>\n      <td>1</td>\n      <td>...</td>\n      <td>NaN</td>\n      <td>NaN</td>\n      <td>NaN</td>\n      <td>NaN</td>\n      <td>NaN</td>\n      <td>NaN</td>\n      <td>NaN</td>\n      <td>NaN</td>\n      <td>NaN</td>\n      <td>3</td>\n    </tr>\n    <tr>\n      <th>UHSCOVID_f325574f</th>\n      <td>M</td>\n      <td>L</td>\n      <td>0</td>\n      <td>46</td>\n      <td>2020-04-03 15:07:00</td>\n      <td>2020-04-17 16:58:00</td>\n      <td>14</td>\n      <td>1</td>\n      <td>0</td>\n      <td>1</td>\n      <td>...</td>\n      <td>NaN</td>\n      <td>NaN</td>\n      <td>NaN</td>\n      <td>NaN</td>\n      <td>NaN</td>\n      <td>NaN</td>\n      <td>NaN</td>\n      <td>NaN</td>\n      <td>NaN</td>\n      <td>4</td>\n    </tr>\n    <tr>\n      <th>UHSCOVID_95271202</th>\n      <td>M</td>\n      <td>L</td>\n      <td>0</td>\n      <td>31</td>\n      <td>2020-04-10 15:33:00</td>\n      <td>2020-04-15 18:21:00</td>\n      <td>5</td>\n      <td>1</td>\n      <td>0</td>\n      <td>1</td>\n      <td>...</td>\n      <td>NaN</td>\n      <td>NaN</td>\n      <td>NaN</td>\n      <td>NaN</td>\n      <td>NaN</td>\n      <td>NaN</td>\n      <td>NaN</td>\n      <td>NaN</td>\n      <td>NaN</td>\n      <td>1</td>\n    </tr>\n    <tr>\n      <th>UHSCOVID_b217fc60</th>\n      <td>M</td>\n      <td>A</td>\n      <td>0</td>\n      <td>72</td>\n      <td>2020-04-06 11:09:00</td>\n      <td>2020-04-17 16:19:00</td>\n      <td>11</td>\n      <td>0</td>\n      <td>0</td>\n      <td>1</td>\n      <td>...</td>\n      <td>NaN</td>\n      <td>NaN</td>\n      <td>NaN</td>\n      <td>NaN</td>\n      <td>NaN</td>\n      <td>NaN</td>\n      <td>NaN</td>\n      <td>NaN</td>\n      <td>NaN</td>\n      <td>3</td>\n    </tr>\n    <tr>\n      <th>UHSCOVID_36565ded</th>\n      <td>M</td>\n      <td>Z</td>\n      <td>0</td>\n      <td>41</td>\n      <td>2020-04-11 11:26:00</td>\n      <td>2020-04-19 14:56:00</td>\n      <td>8</td>\n      <td>1</td>\n      <td>0</td>\n      <td>1</td>\n      <td>...</td>\n      <td>NaN</td>\n      <td>NaN</td>\n      <td>NaN</td>\n      <td>NaN</td>\n      <td>NaN</td>\n      <td>NaN</td>\n      <td>NaN</td>\n      <td>NaN</td>\n      <td>NaN</td>\n      <td>1</td>\n    </tr>\n    <tr>\n      <th>UHSCOVID_d412bca6</th>\n      <td>M</td>\n      <td>Z</td>\n      <td>0</td>\n      <td>0</td>\n      <td>2020-04-10 14:00:00</td>\n      <td>2020-04-16 15:46:00</td>\n      <td>6</td>\n      <td>1</td>\n      <td>0</td>\n      <td>1</td>\n      <td>...</td>\n      <td>NaN</td>\n      <td>NaN</td>\n      <td>NaN</td>\n      <td>NaN</td>\n      <td>NaN</td>\n      <td>NaN</td>\n      <td>NaN</td>\n      <td>NaN</td>\n      <td>NaN</td>\n      <td>5</td>\n    </tr>\n    <tr>\n      <th>UHSCOVID_2c73b922</th>\n      <td>M</td>\n      <td>N</td>\n      <td>0</td>\n      <td>48</td>\n      <td>2020-03-20 17:30:00</td>\n      <td>2020-04-22 15:17:00</td>\n      <td>32</td>\n      <td>1</td>\n      <td>0</td>\n      <td>1</td>\n      <td>...</td>\n      <td>[[0.0, 1.0, 2.0, 4.0, 5.0, 5.0], [174.0, 279.0...</td>\n      <td>[[0.0, 0.7909722222222222, 1.0, 2.0, 3.0, 4.0,...</td>\n      <td>NaN</td>\n      <td>[[0.0, 1.0, 2.0, 3.0, 4.0, 5.0, 6.0, 7.0, 8.0,...</td>\n      <td>[[0.0, 1.0, 2.0, 3.0, 4.0, 5.0, 6.0, 7.0, 8.0,...</td>\n      <td>[[0.0, 0.0, 1.0, 2.0, 3.0, 4.0, 5.0, 6.0, 7.0,...</td>\n      <td>[[0.0, 1.0, 2.0, 3.0, 5.0, 5.0, 6.0, 7.0, 8.0,...</td>\n      <td>[[0.0, 1.0, 2.0, 4.0, 5.0, 5.0], [2.8, 1.0, 3....</td>\n      <td>[[0.0, 0.32708333333333334, 1.3270833333333334...</td>\n      <td>23</td>\n    </tr>\n    <tr>\n      <th>UHSCOVID_09e14c3d</th>\n      <td>F</td>\n      <td>C</td>\n      <td>0</td>\n      <td>61</td>\n      <td>2020-04-02 15:43:00</td>\n      <td>2020-04-12 12:13:00</td>\n      <td>9</td>\n      <td>0</td>\n      <td>0</td>\n      <td>1</td>\n      <td>...</td>\n      <td>[[0.0], [46.0]]</td>\n      <td>[[0.0, 1.229861111111111, 2.0, 3.0], [22.0, 17...</td>\n      <td>[[0.0, 1.229861111111111, 2.0, 3.0, 5.53611111...</td>\n      <td>[[0.0, 1.229861111111111, 2.0, 3.0, 5.53611111...</td>\n      <td>[[0.0, 1.229861111111111, 2.0, 3.0, 5.53611111...</td>\n      <td>[[0.0, 1.229861111111111, 2.0, 3.0, 5.53611111...</td>\n      <td>[[0.0, 1.229861111111111, 2.0, 3.0, 5.53611111...</td>\n      <td>[[0.0], [3.2]]</td>\n      <td>[[0.0, 1.229861111111111, 2.0, 3.0, 5.53611111...</td>\n      <td>4</td>\n    </tr>\n    <tr>\n      <th>UHSCOVID_403db62e</th>\n      <td>M</td>\n      <td>S</td>\n      <td>0</td>\n      <td>38</td>\n      <td>2020-04-03 02:11:00</td>\n      <td>2020-04-13 16:43:00</td>\n      <td>10</td>\n      <td>1</td>\n      <td>0</td>\n      <td>1</td>\n      <td>...</td>\n      <td>NaN</td>\n      <td>NaN</td>\n      <td>NaN</td>\n      <td>NaN</td>\n      <td>NaN</td>\n      <td>NaN</td>\n      <td>NaN</td>\n      <td>NaN</td>\n      <td>NaN</td>\n      <td>3</td>\n    </tr>\n    <tr>\n      <th>UHSCOVID_82a1b278</th>\n      <td>M</td>\n      <td>A</td>\n      <td>0</td>\n      <td>61</td>\n      <td>2020-04-09 15:43:00</td>\n      <td>2020-04-29 05:06:00</td>\n      <td>19</td>\n      <td>0</td>\n      <td>0</td>\n      <td>1</td>\n      <td>...</td>\n      <td>NaN</td>\n      <td>NaN</td>\n      <td>NaN</td>\n      <td>NaN</td>\n      <td>NaN</td>\n      <td>NaN</td>\n      <td>NaN</td>\n      <td>NaN</td>\n      <td>NaN</td>\n      <td>19</td>\n    </tr>\n    <tr>\n      <th>UHSCOVID_38ff5206</th>\n      <td>M</td>\n      <td>A</td>\n      <td>0</td>\n      <td>38</td>\n      <td>2020-03-25 23:40:00</td>\n      <td>2020-04-09 20:30:00</td>\n      <td>14</td>\n      <td>1</td>\n      <td>0</td>\n      <td>1</td>\n      <td>...</td>\n      <td>[[0.0], [139.0]]</td>\n      <td>[[0.0, 3.0, 5.0, 6.18125, 7.0, 10.0, 11.3125, ...</td>\n      <td>NaN</td>\n      <td>[[0.0, 3.0, 5.0, 5.0, 6.18125, 7.0, 11.3125, 1...</td>\n      <td>[[0.0, 3.0, 5.0, 5.0, 6.18125, 7.0, 11.3125, 1...</td>\n      <td>[[0.0, 3.0, 5.0, 5.0, 6.18125, 7.0, 8.0, 9.0, ...</td>\n      <td>[[0.0, 3.0, 5.0, 6.18125, 7.0, 10.0, 11.3125, ...</td>\n      <td>[[0.0], [4.8]]</td>\n      <td>[[0.0, 3.0, 5.0, 6.18125, 7.0, 10.0, 11.3125, ...</td>\n      <td>0</td>\n    </tr>\n    <tr>\n      <th>UHSCOVID_9ffa89c1</th>\n      <td>M</td>\n      <td>N</td>\n      <td>0</td>\n      <td>65</td>\n      <td>2020-03-23 23:06:00</td>\n      <td>2020-04-14 14:12:00</td>\n      <td>21</td>\n      <td>0</td>\n      <td>0</td>\n      <td>1</td>\n      <td>...</td>\n      <td>[[0.0, 1.6263888888888889, 3.4902777777777776]...</td>\n      <td>[[0.0, 1.0, 2.0, 3.0, 6.0, 7.0, 8.0, 9.0, 10.0...</td>\n      <td>[[0.0, 1.0, 2.0, 5.0, 7.0, 8.0, 9.0, 10.0, 12....</td>\n      <td>[[0.0, 1.0, 3.0, 4.0, 5.0, 6.0, 7.0, 8.0, 9.0,...</td>\n      <td>[[0.0, 1.0, 3.0, 4.0, 5.0, 6.0, 7.0, 8.0, 9.0,...</td>\n      <td>[[0.0, 1.0, 2.0, 3.0, 4.0, 5.0, 7.0, 8.0, 9.0,...</td>\n      <td>[[0.0, 1.0, 2.0, 5.0, 6.0, 7.0, 8.0, 9.0, 10.0...</td>\n      <td>[[0.0, 1.6263888888888889, 3.4902777777777776]...</td>\n      <td>[[0.0, 1.0, 2.0, 3.0, 6.0, 7.0, 8.0, 9.0, 10.0...</td>\n      <td>16</td>\n    </tr>\n    <tr>\n      <th>UHSCOVID_702d8fb6</th>\n      <td>F</td>\n      <td>A</td>\n      <td>0</td>\n      <td>61</td>\n      <td>2020-04-06 13:58:00</td>\n      <td>2020-04-13 07:51:00</td>\n      <td>6</td>\n      <td>0</td>\n      <td>0</td>\n      <td>1</td>\n      <td>...</td>\n      <td>NaN</td>\n      <td>NaN</td>\n      <td>NaN</td>\n      <td>NaN</td>\n      <td>NaN</td>\n      <td>NaN</td>\n      <td>NaN</td>\n      <td>NaN</td>\n      <td>NaN</td>\n      <td>6</td>\n    </tr>\n    <tr>\n      <th>UHSCOVID_7e57acdc</th>\n      <td>F</td>\n      <td>H</td>\n      <td>0</td>\n      <td>63</td>\n      <td>2020-04-07 16:09:00</td>\n      <td>2020-04-10 01:56:00</td>\n      <td>2</td>\n      <td>1</td>\n      <td>0</td>\n      <td>1</td>\n      <td>...</td>\n      <td>NaN</td>\n      <td>NaN</td>\n      <td>NaN</td>\n      <td>NaN</td>\n      <td>NaN</td>\n      <td>NaN</td>\n      <td>NaN</td>\n      <td>NaN</td>\n      <td>NaN</td>\n      <td>1</td>\n    </tr>\n    <tr>\n      <th>UHSCOVID_ce23aefe</th>\n      <td>F</td>\n      <td>A</td>\n      <td>0</td>\n      <td>33</td>\n      <td>2020-03-18 22:47:00</td>\n      <td>2020-04-10 17:19:00</td>\n      <td>22</td>\n      <td>0</td>\n      <td>0</td>\n      <td>1</td>\n      <td>...</td>\n      <td>NaN</td>\n      <td>NaN</td>\n      <td>NaN</td>\n      <td>NaN</td>\n      <td>NaN</td>\n      <td>NaN</td>\n      <td>NaN</td>\n      <td>NaN</td>\n      <td>NaN</td>\n      <td>5</td>\n    </tr>\n    <tr>\n      <th>UHSCOVID_5dfc8945</th>\n      <td>F</td>\n      <td>A</td>\n      <td>0</td>\n      <td>69</td>\n      <td>2020-04-03 20:32:00</td>\n      <td>2020-04-07 05:45:00</td>\n      <td>3</td>\n      <td>0</td>\n      <td>0</td>\n      <td>1</td>\n      <td>...</td>\n      <td>NaN</td>\n      <td>NaN</td>\n      <td>NaN</td>\n      <td>NaN</td>\n      <td>NaN</td>\n      <td>NaN</td>\n      <td>NaN</td>\n      <td>NaN</td>\n      <td>NaN</td>\n      <td>1</td>\n    </tr>\n    <tr>\n      <th>UHSCOVID_396b46c4</th>\n      <td>M</td>\n      <td>Z</td>\n      <td>0</td>\n      <td>47</td>\n      <td>2020-03-19 12:21:00</td>\n      <td>2020-04-09 14:36:00</td>\n      <td>21</td>\n      <td>0</td>\n      <td>0</td>\n      <td>1</td>\n      <td>...</td>\n      <td>NaN</td>\n      <td>[[0.0, 6.0, 7.0, 8.0, 9.0, 10.0, 11.0, 13.0, 1...</td>\n      <td>[[0.0, 1.0, 2.0, 3.0, 4.0, 6.0, 8.23125, 9.0, ...</td>\n      <td>[[0.0, 1.0, 2.0, 3.0, 4.0, 5.0, 6.0, 7.0, 8.0,...</td>\n      <td>[[0.0, 1.0, 2.0, 3.0, 4.0, 5.0, 6.0, 7.0, 8.0,...</td>\n      <td>[[0.0, 1.0, 2.0, 3.0, 3.0, 4.0, 5.0, 6.0, 7.0,...</td>\n      <td>[[0.0, 1.0, 2.0, 3.0, 4.0, 6.0, 7.23125, 8.231...</td>\n      <td>NaN</td>\n      <td>[[0.0, 3.0, 4.0, 5.0, 6.0, 7.0, 9.0, 11.23125,...</td>\n      <td>18</td>\n    </tr>\n    <tr>\n      <th>UHSCOVID_8ebc76ee</th>\n      <td>M</td>\n      <td>A</td>\n      <td>0</td>\n      <td>73</td>\n      <td>2020-04-01 20:50:00</td>\n      <td>2020-04-17 13:44:00</td>\n      <td>15</td>\n      <td>0</td>\n      <td>0</td>\n      <td>1</td>\n      <td>...</td>\n      <td>[[0.0, 3.0, 4.0, 5.0, 6.25, 8.0], [13.0, 46.0,...</td>\n      <td>[[0.0, 1.0, 2.0, 3.0, 4.0, 4.0, 6.0, 7.0, 10.0...</td>\n      <td>[[0.0, 1.0, 2.0, 3.0, 5.0, 6.0, 8.379166666666...</td>\n      <td>[[0.0, 1.0, 2.0, 3.0, 4.0, 5.0, 6.0, 7.0, 8.21...</td>\n      <td>[[0.0, 1.0, 2.0, 3.0, 4.0, 5.0, 6.0, 7.0, 8.21...</td>\n      <td>[[0.0, 1.0, 2.0, 3.0, 4.0, 5.0, 6.0, 7.0, 8.21...</td>\n      <td>[[0.0, 1.0, 2.0, 3.0, 4.0, 6.0, 7.0, 9.3791666...</td>\n      <td>[[0.0, 3.0, 4.0, 5.0, 6.25, 8.0], [1.1, 1.1, 0...</td>\n      <td>[[0.0, 1.0, 2.0, 3.0, 4.0, 6.0, 7.0, 9.3791666...</td>\n      <td>15</td>\n    </tr>\n    <tr>\n      <th>UHSCOVID_18acfd61</th>\n      <td>M</td>\n      <td>A</td>\n      <td>0</td>\n      <td>74</td>\n      <td>2020-03-29 20:00:00</td>\n      <td>2020-04-09 16:30:00</td>\n      <td>10</td>\n      <td>0</td>\n      <td>0</td>\n      <td>1</td>\n      <td>...</td>\n      <td>NaN</td>\n      <td>[[0.0, 3.64375, 4.64375, 7.64375], [21.0, 10.0...</td>\n      <td>[[0.0, 3.64375, 4.64375], [666.0, 726.0, 641.0]]</td>\n      <td>[[0.0, 0.29305555555555557, 1.0347222222222223...</td>\n      <td>[[0.0, 0.29305555555555557, 1.0347222222222223...</td>\n      <td>[[0.0, 0.29305555555555557, 1.0347222222222223...</td>\n      <td>[[0.0, 3.64375, 4.64375, 7.64375], [555.0, 644...</td>\n      <td>NaN</td>\n      <td>[[0.0, 3.64375, 4.64375, 5.64375, 7.64375], [7...</td>\n      <td>NaN</td>\n    </tr>\n    <tr>\n      <th>UHSCOVID_ee2213fd</th>\n      <td>F</td>\n      <td>A</td>\n      <td>0</td>\n      <td>73</td>\n      <td>2020-03-30 02:26:00</td>\n      <td>2020-04-17 14:45:00</td>\n      <td>18</td>\n      <td>1</td>\n      <td>0</td>\n      <td>1</td>\n      <td>...</td>\n      <td>[[0.0], [33.0]]</td>\n      <td>[[0.0, 1.0, 3.3201388888888888, 4.157638888888...</td>\n      <td>[[0.0, 1.0, 3.3201388888888888, 4.157638888888...</td>\n      <td>[[0.0, 1.0, 2.0, 2.0, 3.2354166666666666, 4.32...</td>\n      <td>[[0.0, 1.0, 2.0, 2.0, 3.2354166666666666, 4.32...</td>\n      <td>[[0.0, 1.0, 2.0, 2.0, 3.2354166666666666, 4.32...</td>\n      <td>[[0.0, 1.0, 3.3201388888888888, 4.157638888888...</td>\n      <td>[[0.0], [1.4]]</td>\n      <td>[[0.0, 1.0, 3.3201388888888888, 4.157638888888...</td>\n      <td>6</td>\n    </tr>\n  </tbody>\n</table>\n<p>39 rows × 35 columns</p>\n</div>"
     },
     "execution_count": 24,
     "metadata": {},
     "output_type": "execute_result"
    }
   ],
   "source": [
    "df = pd.DataFrame(data).T\n",
    "df[(df['ITU'] == 1) & (df['discharged'] == 1)]"
   ]
  },
  {
   "cell_type": "code",
   "execution_count": 25,
   "metadata": {
    "Collapsed": "false"
   },
   "outputs": [
    {
     "ename": "NameError",
     "evalue": "name 'test_codes' is not defined",
     "output_type": "error",
     "traceback": [
      "\u001B[1;31m---------------------------------------------------------------------------\u001B[0m",
      "\u001B[1;31mNameError\u001B[0m                                 Traceback (most recent call last)",
      "\u001B[1;32m<ipython-input-25-a8bfd95a2f48>\u001B[0m in \u001B[0;36m<module>\u001B[1;34m\u001B[0m\n\u001B[1;32m----> 1\u001B[1;33m \u001B[1;32mfor\u001B[0m \u001B[0mtest_code\u001B[0m \u001B[1;32min\u001B[0m \u001B[0mtest_codes\u001B[0m\u001B[1;33m:\u001B[0m\u001B[1;31m# = 'POTASSIUM'\u001B[0m\u001B[1;33m\u001B[0m\u001B[1;33m\u001B[0m\u001B[0m\n\u001B[0m\u001B[0;32m      2\u001B[0m \u001B[1;33m\u001B[0m\u001B[0m\n\u001B[0;32m      3\u001B[0m     \u001B[0mfig\u001B[0m\u001B[1;33m,\u001B[0m \u001B[0max\u001B[0m \u001B[1;33m=\u001B[0m \u001B[0mplt\u001B[0m\u001B[1;33m.\u001B[0m\u001B[0msubplots\u001B[0m\u001B[1;33m(\u001B[0m\u001B[0mfigsize\u001B[0m\u001B[1;33m=\u001B[0m\u001B[1;33m(\u001B[0m\u001B[1;36m15\u001B[0m\u001B[1;33m,\u001B[0m\u001B[1;36m5\u001B[0m\u001B[1;33m)\u001B[0m\u001B[1;33m)\u001B[0m\u001B[1;33m\u001B[0m\u001B[1;33m\u001B[0m\u001B[0m\n\u001B[0;32m      4\u001B[0m \u001B[1;33m\u001B[0m\u001B[0m\n\u001B[0;32m      5\u001B[0m     \u001B[0mtime_icu\u001B[0m \u001B[1;33m=\u001B[0m \u001B[0mnp\u001B[0m\u001B[1;33m.\u001B[0m\u001B[0marray\u001B[0m\u001B[1;33m(\u001B[0m\u001B[1;33m[\u001B[0m\u001B[1;33m]\u001B[0m\u001B[1;33m)\u001B[0m\u001B[1;33m\u001B[0m\u001B[1;33m\u001B[0m\u001B[0m\n",
      "\u001B[1;31mNameError\u001B[0m: name 'test_codes' is not defined"
     ]
    }
   ],
   "source": [
    "for test_code in test_codes:# = 'POTASSIUM'\n",
    "\n",
    "    fig, ax = plt.subplots(figsize=(15,5))\n",
    "\n",
    "    time_icu = np.array([])\n",
    "    values_icu = np.array([])\n",
    "\n",
    "    time_noicu = np.array([])\n",
    "    values_noicu = np.array([])\n",
    "\n",
    "\n",
    "    for patient in data.keys():\n",
    "\n",
    "        try:\n",
    "            #print(patient, '____\\n', data[patient][test_code][0])\n",
    "\n",
    "            time = data[patient][test_code][0]\n",
    "            values = data[patient][test_code][1]\n",
    "\n",
    "            icu_true = data[patient]['ITU']\n",
    "\n",
    "            if icu_true==1:\n",
    "                ax.plot(time, values,  '.r', linewidth =4, alpha = 1)\n",
    "                time_icu = np.hstack((time_icu, time))\n",
    "                values_icu = np.hstack((values_icu, values))\n",
    "            else:\n",
    "                ax.plot(time, values, '.b', linewidth =4, alpha = 1)\n",
    "                time_noicu = np.hstack((time_noicu, time))\n",
    "                values_noicu = np.hstack((values_noicu, values))\n",
    "\n",
    "        except:\n",
    "            pass\n",
    "    ax.set_xlim([0, 30])\n",
    "    ax.set_title(test_code);\n",
    "    \n",
    "    icu =  pd.DataFrame()\n",
    "    icu['time'] = time_icu\n",
    "    icu['values'] = values_icu\n",
    "    icu = icu.sort_values(by = 'time').reset_index(drop=True)\n",
    "    coefs = np.polyfit(icu['time'], icu['values'] , 4)\n",
    "    p = np.poly1d(coefs)\n",
    "    #plt.plot(icu['time'], icu['values'], \"bo\", markersize= 2)\n",
    "    plt.plot(icu['time'], p(icu['time']), \"r-\")\n",
    "    #plt.title(test_code + 'ICU')\n",
    "\n",
    "    noicu =  pd.DataFrame()\n",
    "    noicu['time'] = time_noicu\n",
    "    noicu['values'] = values_noicu\n",
    "    noicu = noicu.sort_values(by = 'time').reset_index(drop=True)\n",
    "    coefs = np.polyfit(noicu['time'], noicu['values'] , 4)\n",
    "    p = np.poly1d(coefs)\n",
    "    #plt.plot(icu['time'], icu['values'], \"bo\", markersize= 2)\n",
    "    plt.plot(noicu['time'], p(noicu['time']), \"b-\")"
   ]
  },
  {
   "cell_type": "code",
   "execution_count": null,
   "metadata": {
    "Collapsed": "false"
   },
   "outputs": [],
   "source": [
    "icu =  pd.DataFrame()\n",
    "icu['time'] = time_icu\n",
    "icu['values'] = values_icu\n",
    "icu = icu.sort_values(by = 'time').reset_index(drop=True)"
   ]
  },
  {
   "cell_type": "code",
   "execution_count": null,
   "metadata": {
    "Collapsed": "false"
   },
   "outputs": [],
   "source": [
    "coefs = np.polyfit(icu['time'], icu['values'] , 4)\n",
    "p = np.poly1d(coefs)\n",
    "plt.plot(icu['time'], icu['values'], \"bo\", markersize= 2)\n",
    "plt.plot(icu['time'], p(icu['time']), \"r-\")"
   ]
  },
  {
   "cell_type": "code",
   "execution_count": null,
   "metadata": {
    "Collapsed": "false"
   },
   "outputs": [],
   "source": [
    "sns.lineplot(x=\"time\", y=\"values\",\n",
    "             #style=\"event\",\n",
    "             data=icu)"
   ]
  },
  {
   "cell_type": "code",
   "execution_count": null,
   "metadata": {
    "Collapsed": "false"
   },
   "outputs": [],
   "source": [
    "df.to_csv(r'C:\\Users\\d07321ow\\Google Drive\\Cytokine\\COVID19\\REACT_data_processed\\df_01.csv')"
   ]
  },
  {
   "cell_type": "code",
   "execution_count": null,
   "metadata": {
    "Collapsed": "false"
   },
   "outputs": [],
   "source": []
  },
  {
   "cell_type": "code",
   "execution_count": null,
   "metadata": {
    "Collapsed": "false"
   },
   "outputs": [],
   "source": []
  }
 ],
 "metadata": {
  "kernelspec": {
   "display_name": "Python 3",
   "language": "python",
   "name": "python3"
  },
  "language_info": {
   "codemirror_mode": {
    "name": "ipython",
    "version": 3
   },
   "file_extension": ".py",
   "mimetype": "text/x-python",
   "name": "python",
   "nbconvert_exporter": "python",
   "pygments_lexer": "ipython3",
   "version": "3.7.6"
  },
  "toc-autonumbering": true,
  "widgets": {
   "application/vnd.jupyter.widget-state+json": {
    "state": {},
    "version_major": 2,
    "version_minor": 0
   }
  }
 },
 "nbformat": 4,
 "nbformat_minor": 4
}