{
 "cells": [
  {
   "cell_type": "code",
   "execution_count": 3,
   "metadata": {
    "collapsed": true,
    "pycharm": {
     "name": "#%%\n"
    }
   },
   "outputs": [],
   "source": [
    "import os\n",
    "import sys\n",
    "import numpy as np\n",
    "import matplotlib.pyplot as plt\n",
    "import pandas as pd\n",
    "import seaborn as sns\n",
    "\n"
   ]
  },
  {
   "cell_type": "code",
   "execution_count": 4,
   "outputs": [],
   "source": [
    "path = r'C:\\work\\dev\\dECMT_src\\data_all\\COVID19_Data'\n",
    "\n",
    "\n",
    "demographics_df = pd.read_csv(path + '\\REACT_COVID_Demographics_20200506.csv')\n",
    "events_df = pd.read_csv(path + '\\REACT_Events.csv')\n",
    "lab_results_df = pd.read_csv(path + '\\REACT_LabResults.csv')\n",
    "pharmacy_data_df = pd.read_csv(path + '\\REACT_PharmacyData.csv')\n",
    "covid_test_df= pd.read_csv(path + '\\REACT_UHSCOVIDTest_processed.csv')\n",
    "vitalsigns_cat_df = pd.read_csv(path + '\\REACT_Vitalsigns_Categorical.csv')\n",
    "vitalsigns_num_df = pd.read_csv(path + '\\REACT_Vitalsigns_Numeric.csv')\n",
    "\n",
    "\n"
   ],
   "metadata": {
    "collapsed": false,
    "pycharm": {
     "name": "#%%\n"
    }
   }
  },
  {
   "cell_type": "code",
   "execution_count": 5,
   "outputs": [
    {
     "name": "stdout",
     "output_type": "stream",
     "text": [
      "REACT_COVID_Demographics_20200506 unique study_id:  391\n",
      "REACT_Events unique study_id:  564\n",
      "REACT_LabResults unique study_id:  482\n",
      "REACT_PharmacyData unique study_id:  510\n",
      "REACT_UHSCOVIDTest_processed unique study_id:  564\n",
      "REACT_Vitalsigns_Categorical unique study_id:  516\n",
      "REACT_Vitalsigns_Numeric unique study_id:  538\n"
     ]
    }
   ],
   "source": [
    "# # How many unique patients do we have?\n",
    "\n",
    "# In[8]:\n",
    "\n",
    "\n",
    "print('REACT_COVID_Demographics_20200506 unique study_id: ', demographics_df['STUDY_ID'].unique().shape[0])\n",
    "print('REACT_Events unique study_id: ', events_df['STUDY_ID'].unique().shape[0])\n",
    "print('REACT_LabResults unique study_id: ', lab_results_df['STUDY_ID'].unique().shape[0])\n",
    "print('REACT_PharmacyData unique study_id: ', pharmacy_data_df['STUDY_ID'].unique().shape[0])\n",
    "print('REACT_UHSCOVIDTest_processed unique study_id: ', covid_test_df['STUDY_ID'].unique().shape[0])\n",
    "print('REACT_Vitalsigns_Categorical unique study_id: ', vitalsigns_cat_df['STUDY_ID'].unique().shape[0])\n",
    "print('REACT_Vitalsigns_Numeric unique study_id: ', vitalsigns_num_df['STUDY_ID'].unique().shape[0])\n",
    "\n"
   ],
   "metadata": {
    "collapsed": false,
    "pycharm": {
     "name": "#%%\n"
    }
   }
  },
  {
   "cell_type": "code",
   "execution_count": 7,
   "outputs": [
    {
     "data": {
      "text/plain": "294"
     },
     "execution_count": 7,
     "metadata": {},
     "output_type": "execute_result"
    }
   ],
   "source": [
    "# We have all parameters for:\n",
    "\n",
    "# In[9]:\n",
    "\n",
    "\n",
    "len(set.intersection(set(demographics_df['STUDY_ID'].unique()),\n",
    "                 set(events_df['STUDY_ID'].unique()),\n",
    "                set(lab_results_df['STUDY_ID'].unique()),\n",
    "                 set(pharmacy_data_df['STUDY_ID'].unique()),\n",
    "                set(covid_test_df['STUDY_ID'].unique()),\n",
    "                 set(vitalsigns_cat_df['STUDY_ID'].unique()),\n",
    "                set(vitalsigns_num_df['STUDY_ID'].unique())))\n",
    "\n"
   ],
   "metadata": {
    "collapsed": false,
    "pycharm": {
     "name": "#%%\n"
    }
   }
  },
  {
   "cell_type": "code",
   "execution_count": 35,
   "outputs": [
    {
     "name": "stdout",
     "output_type": "stream",
     "text": [
      "demographics_df\n",
      "['STUDY_ID', 'PATIENT_AGE', 'GENDER', 'ETHNIC_GROUP', 'POSTCODE', 'IS_PREGNANT', 'FIRST_POS_DATE', 'FIRST_POS_DATETIME', 'FIRST_POS_TIME', 'ADM_DATE', 'ADM_DATETIME', 'ADM_TIME', 'DISCHARGE_DATE', 'LOS', 'LOS_PREPOS']\n",
      "events_df\n",
      "['Unnamed: 0', 'STUDY_ID', 'START_DATETIME', 'END_DATETIME', 'START_DATE', 'START_TIME', 'END_DATE', 'END_TIME', 'EVENT_TYPE']\n"
     ]
    }
   ],
   "source": [
    "print(f\"demographics_df\")\n",
    "print(list(demographics_df.columns),sep=\"\\n\")\n",
    "\n",
    "print(f\"events_df\")\n",
    "print(list(events_df.columns),sep=\"\\n\")\n",
    "\n",
    "\n"
   ],
   "metadata": {
    "collapsed": false,
    "pycharm": {
     "name": "#%%\n"
    }
   }
  },
  {
   "cell_type": "code",
   "execution_count": 29,
   "outputs": [],
   "source": [],
   "metadata": {
    "collapsed": false,
    "pycharm": {
     "name": "#%%\n"
    }
   }
  },
  {
   "cell_type": "code",
   "execution_count": null,
   "outputs": [],
   "source": [
    "\n"
   ],
   "metadata": {
    "collapsed": false,
    "pycharm": {
     "name": "#%%\n"
    }
   }
  }
 ],
 "metadata": {
  "kernelspec": {
   "display_name": "Python 3",
   "language": "python",
   "name": "python3"
  },
  "language_info": {
   "codemirror_mode": {
    "name": "ipython",
    "version": 2
   },
   "file_extension": ".py",
   "mimetype": "text/x-python",
   "name": "python",
   "nbconvert_exporter": "python",
   "pygments_lexer": "ipython2",
   "version": "2.7.6"
  }
 },
 "nbformat": 4,
 "nbformat_minor": 0
}