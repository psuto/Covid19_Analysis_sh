{
 "cells": [
  {
   "cell_type": "code",
   "execution_count": 1,
   "metadata": {
    "collapsed": true
   },
   "outputs": [],
   "source": [
    "import numpy as np\n",
    "import pandas as pd\n",
    "import pathlib as p\n",
    "import seaborn as sns\n",
    "from pathlib import Path"
   ]
  },
  {
   "cell_type": "code",
   "execution_count": 2,
   "outputs": [],
   "source": [
    "dataDirPath = \"C:\\Work\\dev\\dECMT_src\\data_all\\COVID19_Data\\Current\"\n",
    "fNnonITU = \"labs_noITU.csv\"\n",
    "fNnonITUday0 = \"labs_noITU_day0.csv\"\n",
    "fPNonITUday0 = Path(dataDirPath) / fNnonITUday0\n",
    "fPNonITU = Path(dataDirPath) / fNnonITU\n",
    "dfNonITUday0 = pd.read_csv(fPNonITUday0)\n",
    "dfNonITU = pd.read_csv(fPNonITU)"
   ],
   "metadata": {
    "collapsed": false,
    "pycharm": {
     "name": "#%%\n"
    }
   }
  },
  {
   "cell_type": "code",
   "execution_count": 3,
   "outputs": [
    {
     "data": {
      "text/plain": "      Unnamed: 0           STUDY_ID   PARAMETER  LOWER_RANGE  UPPER_RANGE  \\\n0              0  UHSCOVID_00989a42         ALT         10.0         40.0   \n1              1  UHSCOVID_00989a42   BILIRUBIN          0.0         20.0   \n2              2  UHSCOVID_00989a42  CREATENINE         80.0        115.0   \n3              3  UHSCOVID_00989a42         CRP          0.0          7.5   \n4              4  UHSCOVID_00989a42     D_DIMER          0.0        243.0   \n...          ...                ...         ...          ...          ...   \n4004        4573  UHSCOVID_fd893360   POTASSIUM          3.5          5.3   \n4005        4574  UHSCOVID_fd893360      SODIUM        133.0        146.0   \n4006        4576  UHSCOVID_fd893360    TROPONIN          NaN          NaN   \n4007        4577  UHSCOVID_fd893360        UREA          2.5          7.8   \n4008        4578  UHSCOVID_fd893360         WBC          4.0         11.0   \n\n            DATE  meanValue category  Days_since_ADMISSION  \\\n0     2020-03-29       23.0   NORMAL                   2.0   \n1     2020-03-29       14.0   NORMAL                   2.0   \n2     2020-03-29       63.0      LOW                   2.0   \n3     2020-03-29      192.0     HIGH                   2.0   \n4     2020-03-29      480.0     HIGH                   2.0   \n...          ...        ...      ...                   ...   \n4004  2020-03-31        3.5   NORMAL                   1.0   \n4005  2020-03-31      128.0      LOW                   1.0   \n4006  2020-03-31       21.0      NaN                   1.0   \n4007  2020-03-31        2.9   NORMAL                   1.0   \n4008  2020-04-01        7.3   NORMAL                   2.0   \n\n      Days_since_COVID_FIRST_POSITIVE  ...  PATIENT_AGE  GENDER  DEATH_DAY  \\\n0                                   2  ...         64.0       2         -1   \n1                                   2  ...         64.0       2         -1   \n2                                   2  ...         64.0       2         -1   \n3                                   2  ...         64.0       2         -1   \n4                                   2  ...         64.0       2         -1   \n...                               ...  ...          ...     ...        ...   \n4004                                1  ...         67.0       1         -1   \n4005                                1  ...         67.0       1         -1   \n4006                                1  ...         67.0       1         -1   \n4007                                1  ...         67.0       1         -1   \n4008                                2  ...         67.0       1         -1   \n\n      DISCHARGE_DAY  ITU  INV  NIV  C5  DEATH  DISCHARGED  \n0                 7    0    0    0   0      0           1  \n1                 7    0    0    0   0      0           1  \n2                 7    0    0    0   0      0           1  \n3                 7    0    0    0   0      0           1  \n4                 7    0    0    0   0      0           1  \n...             ...  ...  ...  ...  ..    ...         ...  \n4004             23    0    0    0   0      0           1  \n4005             23    0    0    0   0      0           1  \n4006             23    0    0    0   0      0           1  \n4007             23    0    0    0   0      0           1  \n4008             23    0    0    0   0      0           1  \n\n[4009 rows x 38 columns]",
      "text/html": "<div>\n<style scoped>\n    .dataframe tbody tr th:only-of-type {\n        vertical-align: middle;\n    }\n\n    .dataframe tbody tr th {\n        vertical-align: top;\n    }\n\n    .dataframe thead th {\n        text-align: right;\n    }\n</style>\n<table border=\"1\" class=\"dataframe\">\n  <thead>\n    <tr style=\"text-align: right;\">\n      <th></th>\n      <th>Unnamed: 0</th>\n      <th>STUDY_ID</th>\n      <th>PARAMETER</th>\n      <th>LOWER_RANGE</th>\n      <th>UPPER_RANGE</th>\n      <th>DATE</th>\n      <th>meanValue</th>\n      <th>category</th>\n      <th>Days_since_ADMISSION</th>\n      <th>Days_since_COVID_FIRST_POSITIVE</th>\n      <th>...</th>\n      <th>PATIENT_AGE</th>\n      <th>GENDER</th>\n      <th>DEATH_DAY</th>\n      <th>DISCHARGE_DAY</th>\n      <th>ITU</th>\n      <th>INV</th>\n      <th>NIV</th>\n      <th>C5</th>\n      <th>DEATH</th>\n      <th>DISCHARGED</th>\n    </tr>\n  </thead>\n  <tbody>\n    <tr>\n      <th>0</th>\n      <td>0</td>\n      <td>UHSCOVID_00989a42</td>\n      <td>ALT</td>\n      <td>10.0</td>\n      <td>40.0</td>\n      <td>2020-03-29</td>\n      <td>23.0</td>\n      <td>NORMAL</td>\n      <td>2.0</td>\n      <td>2</td>\n      <td>...</td>\n      <td>64.0</td>\n      <td>2</td>\n      <td>-1</td>\n      <td>7</td>\n      <td>0</td>\n      <td>0</td>\n      <td>0</td>\n      <td>0</td>\n      <td>0</td>\n      <td>1</td>\n    </tr>\n    <tr>\n      <th>1</th>\n      <td>1</td>\n      <td>UHSCOVID_00989a42</td>\n      <td>BILIRUBIN</td>\n      <td>0.0</td>\n      <td>20.0</td>\n      <td>2020-03-29</td>\n      <td>14.0</td>\n      <td>NORMAL</td>\n      <td>2.0</td>\n      <td>2</td>\n      <td>...</td>\n      <td>64.0</td>\n      <td>2</td>\n      <td>-1</td>\n      <td>7</td>\n      <td>0</td>\n      <td>0</td>\n      <td>0</td>\n      <td>0</td>\n      <td>0</td>\n      <td>1</td>\n    </tr>\n    <tr>\n      <th>2</th>\n      <td>2</td>\n      <td>UHSCOVID_00989a42</td>\n      <td>CREATENINE</td>\n      <td>80.0</td>\n      <td>115.0</td>\n      <td>2020-03-29</td>\n      <td>63.0</td>\n      <td>LOW</td>\n      <td>2.0</td>\n      <td>2</td>\n      <td>...</td>\n      <td>64.0</td>\n      <td>2</td>\n      <td>-1</td>\n      <td>7</td>\n      <td>0</td>\n      <td>0</td>\n      <td>0</td>\n      <td>0</td>\n      <td>0</td>\n      <td>1</td>\n    </tr>\n    <tr>\n      <th>3</th>\n      <td>3</td>\n      <td>UHSCOVID_00989a42</td>\n      <td>CRP</td>\n      <td>0.0</td>\n      <td>7.5</td>\n      <td>2020-03-29</td>\n      <td>192.0</td>\n      <td>HIGH</td>\n      <td>2.0</td>\n      <td>2</td>\n      <td>...</td>\n      <td>64.0</td>\n      <td>2</td>\n      <td>-1</td>\n      <td>7</td>\n      <td>0</td>\n      <td>0</td>\n      <td>0</td>\n      <td>0</td>\n      <td>0</td>\n      <td>1</td>\n    </tr>\n    <tr>\n      <th>4</th>\n      <td>4</td>\n      <td>UHSCOVID_00989a42</td>\n      <td>D_DIMER</td>\n      <td>0.0</td>\n      <td>243.0</td>\n      <td>2020-03-29</td>\n      <td>480.0</td>\n      <td>HIGH</td>\n      <td>2.0</td>\n      <td>2</td>\n      <td>...</td>\n      <td>64.0</td>\n      <td>2</td>\n      <td>-1</td>\n      <td>7</td>\n      <td>0</td>\n      <td>0</td>\n      <td>0</td>\n      <td>0</td>\n      <td>0</td>\n      <td>1</td>\n    </tr>\n    <tr>\n      <th>...</th>\n      <td>...</td>\n      <td>...</td>\n      <td>...</td>\n      <td>...</td>\n      <td>...</td>\n      <td>...</td>\n      <td>...</td>\n      <td>...</td>\n      <td>...</td>\n      <td>...</td>\n      <td>...</td>\n      <td>...</td>\n      <td>...</td>\n      <td>...</td>\n      <td>...</td>\n      <td>...</td>\n      <td>...</td>\n      <td>...</td>\n      <td>...</td>\n      <td>...</td>\n      <td>...</td>\n    </tr>\n    <tr>\n      <th>4004</th>\n      <td>4573</td>\n      <td>UHSCOVID_fd893360</td>\n      <td>POTASSIUM</td>\n      <td>3.5</td>\n      <td>5.3</td>\n      <td>2020-03-31</td>\n      <td>3.5</td>\n      <td>NORMAL</td>\n      <td>1.0</td>\n      <td>1</td>\n      <td>...</td>\n      <td>67.0</td>\n      <td>1</td>\n      <td>-1</td>\n      <td>23</td>\n      <td>0</td>\n      <td>0</td>\n      <td>0</td>\n      <td>0</td>\n      <td>0</td>\n      <td>1</td>\n    </tr>\n    <tr>\n      <th>4005</th>\n      <td>4574</td>\n      <td>UHSCOVID_fd893360</td>\n      <td>SODIUM</td>\n      <td>133.0</td>\n      <td>146.0</td>\n      <td>2020-03-31</td>\n      <td>128.0</td>\n      <td>LOW</td>\n      <td>1.0</td>\n      <td>1</td>\n      <td>...</td>\n      <td>67.0</td>\n      <td>1</td>\n      <td>-1</td>\n      <td>23</td>\n      <td>0</td>\n      <td>0</td>\n      <td>0</td>\n      <td>0</td>\n      <td>0</td>\n      <td>1</td>\n    </tr>\n    <tr>\n      <th>4006</th>\n      <td>4576</td>\n      <td>UHSCOVID_fd893360</td>\n      <td>TROPONIN</td>\n      <td>NaN</td>\n      <td>NaN</td>\n      <td>2020-03-31</td>\n      <td>21.0</td>\n      <td>NaN</td>\n      <td>1.0</td>\n      <td>1</td>\n      <td>...</td>\n      <td>67.0</td>\n      <td>1</td>\n      <td>-1</td>\n      <td>23</td>\n      <td>0</td>\n      <td>0</td>\n      <td>0</td>\n      <td>0</td>\n      <td>0</td>\n      <td>1</td>\n    </tr>\n    <tr>\n      <th>4007</th>\n      <td>4577</td>\n      <td>UHSCOVID_fd893360</td>\n      <td>UREA</td>\n      <td>2.5</td>\n      <td>7.8</td>\n      <td>2020-03-31</td>\n      <td>2.9</td>\n      <td>NORMAL</td>\n      <td>1.0</td>\n      <td>1</td>\n      <td>...</td>\n      <td>67.0</td>\n      <td>1</td>\n      <td>-1</td>\n      <td>23</td>\n      <td>0</td>\n      <td>0</td>\n      <td>0</td>\n      <td>0</td>\n      <td>0</td>\n      <td>1</td>\n    </tr>\n    <tr>\n      <th>4008</th>\n      <td>4578</td>\n      <td>UHSCOVID_fd893360</td>\n      <td>WBC</td>\n      <td>4.0</td>\n      <td>11.0</td>\n      <td>2020-04-01</td>\n      <td>7.3</td>\n      <td>NORMAL</td>\n      <td>2.0</td>\n      <td>2</td>\n      <td>...</td>\n      <td>67.0</td>\n      <td>1</td>\n      <td>-1</td>\n      <td>23</td>\n      <td>0</td>\n      <td>0</td>\n      <td>0</td>\n      <td>0</td>\n      <td>0</td>\n      <td>1</td>\n    </tr>\n  </tbody>\n</table>\n<p>4009 rows × 38 columns</p>\n</div>"
     },
     "execution_count": 3,
     "metadata": {},
     "output_type": "execute_result"
    }
   ],
   "source": [
    "dfNonITUday0\n"
   ],
   "metadata": {
    "collapsed": false,
    "pycharm": {
     "name": "#%%\n"
    }
   }
  },
  {
   "cell_type": "code",
   "execution_count": 7,
   "outputs": [
    {
     "data": {
      "text/plain": "['Unnamed: 0',\n 'STUDY_ID',\n 'PARAMETER',\n 'LOWER_RANGE',\n 'UPPER_RANGE',\n 'DATE',\n 'meanValue',\n 'category',\n 'Days_since_ADMISSION',\n 'Days_since_COVID_FIRST_POSITIVE',\n 'Days_since_C5',\n 'Days_since_ITU',\n 'Days_since_RESPIRATORY_HDU',\n 'Days_since_NIV',\n 'Days_since_INVASIVE_VENTILATION',\n 'Days_since_DISCHARGE',\n 'Days_since_READMISSION',\n 'Days_since_DEATH',\n 'ADMISSION_START_DAY',\n 'ADMISSION_END_DAY',\n 'ITU_START_DAY',\n 'ITU_END_DAY',\n 'INVASIVE_VENTILATION_START_DAY',\n 'INVASIVE_VENTILATION_END_DAY',\n 'NIV_START_DAY',\n 'NIV_END_DAY',\n 'C5_START_DAY',\n 'C5_END_DAY',\n 'PATIENT_AGE',\n 'GENDER',\n 'DEATH_DAY',\n 'DISCHARGE_DAY',\n 'ITU',\n 'INV',\n 'NIV',\n 'C5',\n 'DEATH',\n 'DISCHARGED']"
     },
     "execution_count": 7,
     "metadata": {},
     "output_type": "execute_result"
    }
   ],
   "source": [
    "list(dfNonITUday0.columns)"
   ],
   "metadata": {
    "collapsed": false,
    "pycharm": {
     "name": "#%%\n"
    }
   }
  },
  {
   "cell_type": "code",
   "execution_count": 75,
   "outputs": [
    {
     "data": {
      "text/plain": "                  meanValue                                            \\\nPARAMETER               ALT   AST BILIRUBIN CREATENINE    CRP D_DIMER   \nSTUDY_ID                                                                \nUHSCOVID_00989a42      23.0   NaN      14.0       63.0  192.0   480.0   \nUHSCOVID_01add35c       8.0  11.0       5.0       36.0    3.0     NaN   \nUHSCOVID_01f7838d       NaN   NaN       NaN       80.0   12.0     NaN   \nUHSCOVID_025d562e      44.0  48.0       4.0       46.0   28.0   336.0   \nUHSCOVID_0520de1c       7.0  27.0       4.0      197.0  145.0   464.0   \n\n                                                                             \\\nPARAMETER         EOSINOPHILS FERRITIN    GLUCOSE     HB    LDH LYMPHOCYTES   \nSTUDY_ID                                                                      \nUHSCOVID_00989a42         0.0    320.0  12.400000  138.0  639.0         1.1   \nUHSCOVID_01add35c         0.0     28.0   6.500000  107.0  347.0         0.7   \nUHSCOVID_01f7838d         0.1      NaN   6.333333  106.0    NaN         2.3   \nUHSCOVID_025d562e         0.1     19.0  12.900000  119.0  375.0         2.7   \nUHSCOVID_0520de1c         0.0    184.0  14.150000  102.0  485.0         0.3   \n\n                                                                              \\\nPARAMETER         NEUTROPHILS PLATELETS POTASSIUM SODIUM TRIGYCERIN TROPONIN   \nSTUDY_ID                                                                       \nUHSCOVID_00989a42         8.0     277.0       4.0  139.0        NaN      9.0   \nUHSCOVID_01add35c        22.0     310.0       4.6  129.0        1.1      NaN   \nUHSCOVID_01f7838d         5.0     276.0       4.5  137.0        NaN      NaN   \nUHSCOVID_025d562e         4.4     326.0       4.3  140.0        2.6      2.0   \nUHSCOVID_0520de1c         7.3     126.0       5.5  130.0        1.6      7.0   \n\n                               \nPARAMETER          UREA   WBC  \nSTUDY_ID                       \nUHSCOVID_00989a42   5.7   9.4  \nUHSCOVID_01add35c   6.9  23.5  \nUHSCOVID_01f7838d   5.1   8.4  \nUHSCOVID_025d562e   2.0   7.7  \nUHSCOVID_0520de1c  17.8   7.8  ",
      "text/html": "<div>\n<style scoped>\n    .dataframe tbody tr th:only-of-type {\n        vertical-align: middle;\n    }\n\n    .dataframe tbody tr th {\n        vertical-align: top;\n    }\n\n    .dataframe thead tr th {\n        text-align: left;\n    }\n\n    .dataframe thead tr:last-of-type th {\n        text-align: right;\n    }\n</style>\n<table border=\"1\" class=\"dataframe\">\n  <thead>\n    <tr>\n      <th></th>\n      <th colspan=\"20\" halign=\"left\">meanValue</th>\n    </tr>\n    <tr>\n      <th>PARAMETER</th>\n      <th>ALT</th>\n      <th>AST</th>\n      <th>BILIRUBIN</th>\n      <th>CREATENINE</th>\n      <th>CRP</th>\n      <th>D_DIMER</th>\n      <th>EOSINOPHILS</th>\n      <th>FERRITIN</th>\n      <th>GLUCOSE</th>\n      <th>HB</th>\n      <th>LDH</th>\n      <th>LYMPHOCYTES</th>\n      <th>NEUTROPHILS</th>\n      <th>PLATELETS</th>\n      <th>POTASSIUM</th>\n      <th>SODIUM</th>\n      <th>TRIGYCERIN</th>\n      <th>TROPONIN</th>\n      <th>UREA</th>\n      <th>WBC</th>\n    </tr>\n    <tr>\n      <th>STUDY_ID</th>\n      <th></th>\n      <th></th>\n      <th></th>\n      <th></th>\n      <th></th>\n      <th></th>\n      <th></th>\n      <th></th>\n      <th></th>\n      <th></th>\n      <th></th>\n      <th></th>\n      <th></th>\n      <th></th>\n      <th></th>\n      <th></th>\n      <th></th>\n      <th></th>\n      <th></th>\n      <th></th>\n    </tr>\n  </thead>\n  <tbody>\n    <tr>\n      <th>UHSCOVID_00989a42</th>\n      <td>23.0</td>\n      <td>NaN</td>\n      <td>14.0</td>\n      <td>63.0</td>\n      <td>192.0</td>\n      <td>480.0</td>\n      <td>0.0</td>\n      <td>320.0</td>\n      <td>12.400000</td>\n      <td>138.0</td>\n      <td>639.0</td>\n      <td>1.1</td>\n      <td>8.0</td>\n      <td>277.0</td>\n      <td>4.0</td>\n      <td>139.0</td>\n      <td>NaN</td>\n      <td>9.0</td>\n      <td>5.7</td>\n      <td>9.4</td>\n    </tr>\n    <tr>\n      <th>UHSCOVID_01add35c</th>\n      <td>8.0</td>\n      <td>11.0</td>\n      <td>5.0</td>\n      <td>36.0</td>\n      <td>3.0</td>\n      <td>NaN</td>\n      <td>0.0</td>\n      <td>28.0</td>\n      <td>6.500000</td>\n      <td>107.0</td>\n      <td>347.0</td>\n      <td>0.7</td>\n      <td>22.0</td>\n      <td>310.0</td>\n      <td>4.6</td>\n      <td>129.0</td>\n      <td>1.1</td>\n      <td>NaN</td>\n      <td>6.9</td>\n      <td>23.5</td>\n    </tr>\n    <tr>\n      <th>UHSCOVID_01f7838d</th>\n      <td>NaN</td>\n      <td>NaN</td>\n      <td>NaN</td>\n      <td>80.0</td>\n      <td>12.0</td>\n      <td>NaN</td>\n      <td>0.1</td>\n      <td>NaN</td>\n      <td>6.333333</td>\n      <td>106.0</td>\n      <td>NaN</td>\n      <td>2.3</td>\n      <td>5.0</td>\n      <td>276.0</td>\n      <td>4.5</td>\n      <td>137.0</td>\n      <td>NaN</td>\n      <td>NaN</td>\n      <td>5.1</td>\n      <td>8.4</td>\n    </tr>\n    <tr>\n      <th>UHSCOVID_025d562e</th>\n      <td>44.0</td>\n      <td>48.0</td>\n      <td>4.0</td>\n      <td>46.0</td>\n      <td>28.0</td>\n      <td>336.0</td>\n      <td>0.1</td>\n      <td>19.0</td>\n      <td>12.900000</td>\n      <td>119.0</td>\n      <td>375.0</td>\n      <td>2.7</td>\n      <td>4.4</td>\n      <td>326.0</td>\n      <td>4.3</td>\n      <td>140.0</td>\n      <td>2.6</td>\n      <td>2.0</td>\n      <td>2.0</td>\n      <td>7.7</td>\n    </tr>\n    <tr>\n      <th>UHSCOVID_0520de1c</th>\n      <td>7.0</td>\n      <td>27.0</td>\n      <td>4.0</td>\n      <td>197.0</td>\n      <td>145.0</td>\n      <td>464.0</td>\n      <td>0.0</td>\n      <td>184.0</td>\n      <td>14.150000</td>\n      <td>102.0</td>\n      <td>485.0</td>\n      <td>0.3</td>\n      <td>7.3</td>\n      <td>126.0</td>\n      <td>5.5</td>\n      <td>130.0</td>\n      <td>1.6</td>\n      <td>7.0</td>\n      <td>17.8</td>\n      <td>7.8</td>\n    </tr>\n  </tbody>\n</table>\n</div>"
     },
     "execution_count": 75,
     "metadata": {},
     "output_type": "execute_result"
    }
   ],
   "source": [
    "df1 = dfNonITUday0.pivot(index='STUDY_ID',columns='PARAMETER',values=['meanValue'])\n",
    "df1.head()"
   ],
   "metadata": {
    "collapsed": false,
    "pycharm": {
     "name": "#%%\n"
    }
   }
  },
  {
   "cell_type": "code",
   "execution_count": 76,
   "outputs": [
    {
     "data": {
      "text/plain": "array([('meanValue', 'ALT'), ('meanValue', 'AST'),\n       ('meanValue', 'BILIRUBIN'), ('meanValue', 'CREATENINE'),\n       ('meanValue', 'CRP'), ('meanValue', 'D_DIMER'),\n       ('meanValue', 'EOSINOPHILS'), ('meanValue', 'FERRITIN'),\n       ('meanValue', 'GLUCOSE'), ('meanValue', 'HB'),\n       ('meanValue', 'LDH'), ('meanValue', 'LYMPHOCYTES'),\n       ('meanValue', 'NEUTROPHILS'), ('meanValue', 'PLATELETS'),\n       ('meanValue', 'POTASSIUM'), ('meanValue', 'SODIUM'),\n       ('meanValue', 'TRIGYCERIN'), ('meanValue', 'TROPONIN'),\n       ('meanValue', 'UREA'), ('meanValue', 'WBC')], dtype=object)"
     },
     "execution_count": 76,
     "metadata": {},
     "output_type": "execute_result"
    }
   ],
   "source": [
    "df1.columns.values"
   ],
   "metadata": {
    "collapsed": false,
    "pycharm": {
     "name": "#%%\n"
    }
   }
  },
  {
   "cell_type": "code",
   "execution_count": 77,
   "outputs": [
    {
     "data": {
      "text/plain": "PARAMETER           STUDY_ID   ALT   AST  BILIRUBIN  CREATENINE    CRP  \\\n0          UHSCOVID_00989a42  23.0   NaN       14.0        63.0  192.0   \n1          UHSCOVID_01add35c   8.0  11.0        5.0        36.0    3.0   \n2          UHSCOVID_01f7838d   NaN   NaN        NaN        80.0   12.0   \n3          UHSCOVID_025d562e  44.0  48.0        4.0        46.0   28.0   \n4          UHSCOVID_0520de1c   7.0  27.0        4.0       197.0  145.0   \n..                       ...   ...   ...        ...         ...    ...   \n286        UHSCOVID_f5c5890c  11.0  22.0        5.0        58.0   18.0   \n287        UHSCOVID_f748a293   NaN   NaN        NaN        88.0   58.0   \n288        UHSCOVID_f834fd10   NaN   NaN        NaN        62.0    NaN   \n289        UHSCOVID_f8d03de4  28.0   NaN        7.0       156.5   74.5   \n290        UHSCOVID_fd893360   7.0   NaN       12.0        34.0   48.0   \n\nPARAMETER  D_DIMER  EOSINOPHILS  FERRITIN    GLUCOSE  ...    LDH  LYMPHOCYTES  \\\n0            480.0          0.0     320.0  12.400000  ...  639.0         1.10   \n1              NaN          0.0      28.0   6.500000  ...  347.0         0.70   \n2              NaN          0.1       NaN   6.333333  ...    NaN         2.30   \n3            336.0          0.1      19.0  12.900000  ...  375.0         2.70   \n4            464.0          0.0     184.0  14.150000  ...  485.0         0.30   \n..             ...          ...       ...        ...  ...    ...          ...   \n286          416.0          0.0      17.0   7.100000  ...  416.0         1.50   \n287            NaN          0.1       NaN        NaN  ...    NaN         1.10   \n288            NaN          0.1       NaN        NaN  ...    NaN         0.70   \n289            NaN          0.1       NaN        NaN  ...    NaN         0.75   \n290          496.0          0.0     157.0        NaN  ...  551.0         0.70   \n\nPARAMETER  NEUTROPHILS  PLATELETS  POTASSIUM  SODIUM  TRIGYCERIN  TROPONIN  \\\n0                 8.00      277.0        4.0   139.0         NaN       9.0   \n1                22.00      310.0        4.6   129.0         1.1       NaN   \n2                 5.00      276.0        4.5   137.0         NaN       NaN   \n3                 4.40      326.0        4.3   140.0         2.6       2.0   \n4                 7.30      126.0        5.5   130.0         1.6       7.0   \n..                 ...        ...        ...     ...         ...       ...   \n286               4.30      156.0        4.0   140.0         1.4     129.0   \n287               3.40      238.0        4.0   132.0         NaN       NaN   \n288               9.00      257.0        4.2   129.0         NaN       NaN   \n289               6.35      203.5        4.1   127.5         NaN       NaN   \n290               6.00      226.0        3.5   128.0         NaN      21.0   \n\nPARAMETER  UREA   WBC  \n0           5.7   9.4  \n1           6.9  23.5  \n2           5.1   8.4  \n3           2.0   7.7  \n4          17.8   7.8  \n..          ...   ...  \n286         5.5   6.7  \n287         7.3   5.1  \n288         7.3  11.1  \n289        11.8   7.7  \n290         2.9   7.3  \n\n[291 rows x 21 columns]",
      "text/html": "<div>\n<style scoped>\n    .dataframe tbody tr th:only-of-type {\n        vertical-align: middle;\n    }\n\n    .dataframe tbody tr th {\n        vertical-align: top;\n    }\n\n    .dataframe thead th {\n        text-align: right;\n    }\n</style>\n<table border=\"1\" class=\"dataframe\">\n  <thead>\n    <tr style=\"text-align: right;\">\n      <th>PARAMETER</th>\n      <th>STUDY_ID</th>\n      <th>ALT</th>\n      <th>AST</th>\n      <th>BILIRUBIN</th>\n      <th>CREATENINE</th>\n      <th>CRP</th>\n      <th>D_DIMER</th>\n      <th>EOSINOPHILS</th>\n      <th>FERRITIN</th>\n      <th>GLUCOSE</th>\n      <th>...</th>\n      <th>LDH</th>\n      <th>LYMPHOCYTES</th>\n      <th>NEUTROPHILS</th>\n      <th>PLATELETS</th>\n      <th>POTASSIUM</th>\n      <th>SODIUM</th>\n      <th>TRIGYCERIN</th>\n      <th>TROPONIN</th>\n      <th>UREA</th>\n      <th>WBC</th>\n    </tr>\n  </thead>\n  <tbody>\n    <tr>\n      <th>0</th>\n      <td>UHSCOVID_00989a42</td>\n      <td>23.0</td>\n      <td>NaN</td>\n      <td>14.0</td>\n      <td>63.0</td>\n      <td>192.0</td>\n      <td>480.0</td>\n      <td>0.0</td>\n      <td>320.0</td>\n      <td>12.400000</td>\n      <td>...</td>\n      <td>639.0</td>\n      <td>1.10</td>\n      <td>8.00</td>\n      <td>277.0</td>\n      <td>4.0</td>\n      <td>139.0</td>\n      <td>NaN</td>\n      <td>9.0</td>\n      <td>5.7</td>\n      <td>9.4</td>\n    </tr>\n    <tr>\n      <th>1</th>\n      <td>UHSCOVID_01add35c</td>\n      <td>8.0</td>\n      <td>11.0</td>\n      <td>5.0</td>\n      <td>36.0</td>\n      <td>3.0</td>\n      <td>NaN</td>\n      <td>0.0</td>\n      <td>28.0</td>\n      <td>6.500000</td>\n      <td>...</td>\n      <td>347.0</td>\n      <td>0.70</td>\n      <td>22.00</td>\n      <td>310.0</td>\n      <td>4.6</td>\n      <td>129.0</td>\n      <td>1.1</td>\n      <td>NaN</td>\n      <td>6.9</td>\n      <td>23.5</td>\n    </tr>\n    <tr>\n      <th>2</th>\n      <td>UHSCOVID_01f7838d</td>\n      <td>NaN</td>\n      <td>NaN</td>\n      <td>NaN</td>\n      <td>80.0</td>\n      <td>12.0</td>\n      <td>NaN</td>\n      <td>0.1</td>\n      <td>NaN</td>\n      <td>6.333333</td>\n      <td>...</td>\n      <td>NaN</td>\n      <td>2.30</td>\n      <td>5.00</td>\n      <td>276.0</td>\n      <td>4.5</td>\n      <td>137.0</td>\n      <td>NaN</td>\n      <td>NaN</td>\n      <td>5.1</td>\n      <td>8.4</td>\n    </tr>\n    <tr>\n      <th>3</th>\n      <td>UHSCOVID_025d562e</td>\n      <td>44.0</td>\n      <td>48.0</td>\n      <td>4.0</td>\n      <td>46.0</td>\n      <td>28.0</td>\n      <td>336.0</td>\n      <td>0.1</td>\n      <td>19.0</td>\n      <td>12.900000</td>\n      <td>...</td>\n      <td>375.0</td>\n      <td>2.70</td>\n      <td>4.40</td>\n      <td>326.0</td>\n      <td>4.3</td>\n      <td>140.0</td>\n      <td>2.6</td>\n      <td>2.0</td>\n      <td>2.0</td>\n      <td>7.7</td>\n    </tr>\n    <tr>\n      <th>4</th>\n      <td>UHSCOVID_0520de1c</td>\n      <td>7.0</td>\n      <td>27.0</td>\n      <td>4.0</td>\n      <td>197.0</td>\n      <td>145.0</td>\n      <td>464.0</td>\n      <td>0.0</td>\n      <td>184.0</td>\n      <td>14.150000</td>\n      <td>...</td>\n      <td>485.0</td>\n      <td>0.30</td>\n      <td>7.30</td>\n      <td>126.0</td>\n      <td>5.5</td>\n      <td>130.0</td>\n      <td>1.6</td>\n      <td>7.0</td>\n      <td>17.8</td>\n      <td>7.8</td>\n    </tr>\n    <tr>\n      <th>...</th>\n      <td>...</td>\n      <td>...</td>\n      <td>...</td>\n      <td>...</td>\n      <td>...</td>\n      <td>...</td>\n      <td>...</td>\n      <td>...</td>\n      <td>...</td>\n      <td>...</td>\n      <td>...</td>\n      <td>...</td>\n      <td>...</td>\n      <td>...</td>\n      <td>...</td>\n      <td>...</td>\n      <td>...</td>\n      <td>...</td>\n      <td>...</td>\n      <td>...</td>\n      <td>...</td>\n    </tr>\n    <tr>\n      <th>286</th>\n      <td>UHSCOVID_f5c5890c</td>\n      <td>11.0</td>\n      <td>22.0</td>\n      <td>5.0</td>\n      <td>58.0</td>\n      <td>18.0</td>\n      <td>416.0</td>\n      <td>0.0</td>\n      <td>17.0</td>\n      <td>7.100000</td>\n      <td>...</td>\n      <td>416.0</td>\n      <td>1.50</td>\n      <td>4.30</td>\n      <td>156.0</td>\n      <td>4.0</td>\n      <td>140.0</td>\n      <td>1.4</td>\n      <td>129.0</td>\n      <td>5.5</td>\n      <td>6.7</td>\n    </tr>\n    <tr>\n      <th>287</th>\n      <td>UHSCOVID_f748a293</td>\n      <td>NaN</td>\n      <td>NaN</td>\n      <td>NaN</td>\n      <td>88.0</td>\n      <td>58.0</td>\n      <td>NaN</td>\n      <td>0.1</td>\n      <td>NaN</td>\n      <td>NaN</td>\n      <td>...</td>\n      <td>NaN</td>\n      <td>1.10</td>\n      <td>3.40</td>\n      <td>238.0</td>\n      <td>4.0</td>\n      <td>132.0</td>\n      <td>NaN</td>\n      <td>NaN</td>\n      <td>7.3</td>\n      <td>5.1</td>\n    </tr>\n    <tr>\n      <th>288</th>\n      <td>UHSCOVID_f834fd10</td>\n      <td>NaN</td>\n      <td>NaN</td>\n      <td>NaN</td>\n      <td>62.0</td>\n      <td>NaN</td>\n      <td>NaN</td>\n      <td>0.1</td>\n      <td>NaN</td>\n      <td>NaN</td>\n      <td>...</td>\n      <td>NaN</td>\n      <td>0.70</td>\n      <td>9.00</td>\n      <td>257.0</td>\n      <td>4.2</td>\n      <td>129.0</td>\n      <td>NaN</td>\n      <td>NaN</td>\n      <td>7.3</td>\n      <td>11.1</td>\n    </tr>\n    <tr>\n      <th>289</th>\n      <td>UHSCOVID_f8d03de4</td>\n      <td>28.0</td>\n      <td>NaN</td>\n      <td>7.0</td>\n      <td>156.5</td>\n      <td>74.5</td>\n      <td>NaN</td>\n      <td>0.1</td>\n      <td>NaN</td>\n      <td>NaN</td>\n      <td>...</td>\n      <td>NaN</td>\n      <td>0.75</td>\n      <td>6.35</td>\n      <td>203.5</td>\n      <td>4.1</td>\n      <td>127.5</td>\n      <td>NaN</td>\n      <td>NaN</td>\n      <td>11.8</td>\n      <td>7.7</td>\n    </tr>\n    <tr>\n      <th>290</th>\n      <td>UHSCOVID_fd893360</td>\n      <td>7.0</td>\n      <td>NaN</td>\n      <td>12.0</td>\n      <td>34.0</td>\n      <td>48.0</td>\n      <td>496.0</td>\n      <td>0.0</td>\n      <td>157.0</td>\n      <td>NaN</td>\n      <td>...</td>\n      <td>551.0</td>\n      <td>0.70</td>\n      <td>6.00</td>\n      <td>226.0</td>\n      <td>3.5</td>\n      <td>128.0</td>\n      <td>NaN</td>\n      <td>21.0</td>\n      <td>2.9</td>\n      <td>7.3</td>\n    </tr>\n  </tbody>\n</table>\n<p>291 rows × 21 columns</p>\n</div>"
     },
     "execution_count": 77,
     "metadata": {},
     "output_type": "execute_result"
    }
   ],
   "source": [
    "df2 = df1['meanValue'].reset_index()\n",
    "df2"
   ],
   "metadata": {
    "collapsed": false,
    "pycharm": {
     "name": "#%%\n"
    }
   }
  },
  {
   "cell_type": "code",
   "execution_count": 78,
   "outputs": [],
   "source": [
    "df3=df2\n",
    "df3.columns.name  = None"
   ],
   "metadata": {
    "collapsed": false,
    "pycharm": {
     "name": "#%%\n"
    }
   }
  },
  {
   "cell_type": "code",
   "execution_count": 79,
   "outputs": [
    {
     "data": {
      "text/plain": "              STUDY_ID   ALT   AST  BILIRUBIN  CREATENINE    CRP  D_DIMER  \\\n0    UHSCOVID_00989a42  23.0   NaN       14.0        63.0  192.0    480.0   \n1    UHSCOVID_01add35c   8.0  11.0        5.0        36.0    3.0      NaN   \n2    UHSCOVID_01f7838d   NaN   NaN        NaN        80.0   12.0      NaN   \n3    UHSCOVID_025d562e  44.0  48.0        4.0        46.0   28.0    336.0   \n4    UHSCOVID_0520de1c   7.0  27.0        4.0       197.0  145.0    464.0   \n..                 ...   ...   ...        ...         ...    ...      ...   \n286  UHSCOVID_f5c5890c  11.0  22.0        5.0        58.0   18.0    416.0   \n287  UHSCOVID_f748a293   NaN   NaN        NaN        88.0   58.0      NaN   \n288  UHSCOVID_f834fd10   NaN   NaN        NaN        62.0    NaN      NaN   \n289  UHSCOVID_f8d03de4  28.0   NaN        7.0       156.5   74.5      NaN   \n290  UHSCOVID_fd893360   7.0   NaN       12.0        34.0   48.0    496.0   \n\n     EOSINOPHILS  FERRITIN    GLUCOSE  ...    LDH  LYMPHOCYTES  NEUTROPHILS  \\\n0            0.0     320.0  12.400000  ...  639.0         1.10         8.00   \n1            0.0      28.0   6.500000  ...  347.0         0.70        22.00   \n2            0.1       NaN   6.333333  ...    NaN         2.30         5.00   \n3            0.1      19.0  12.900000  ...  375.0         2.70         4.40   \n4            0.0     184.0  14.150000  ...  485.0         0.30         7.30   \n..           ...       ...        ...  ...    ...          ...          ...   \n286          0.0      17.0   7.100000  ...  416.0         1.50         4.30   \n287          0.1       NaN        NaN  ...    NaN         1.10         3.40   \n288          0.1       NaN        NaN  ...    NaN         0.70         9.00   \n289          0.1       NaN        NaN  ...    NaN         0.75         6.35   \n290          0.0     157.0        NaN  ...  551.0         0.70         6.00   \n\n     PLATELETS  POTASSIUM  SODIUM  TRIGYCERIN  TROPONIN  UREA   WBC  \n0        277.0        4.0   139.0         NaN       9.0   5.7   9.4  \n1        310.0        4.6   129.0         1.1       NaN   6.9  23.5  \n2        276.0        4.5   137.0         NaN       NaN   5.1   8.4  \n3        326.0        4.3   140.0         2.6       2.0   2.0   7.7  \n4        126.0        5.5   130.0         1.6       7.0  17.8   7.8  \n..         ...        ...     ...         ...       ...   ...   ...  \n286      156.0        4.0   140.0         1.4     129.0   5.5   6.7  \n287      238.0        4.0   132.0         NaN       NaN   7.3   5.1  \n288      257.0        4.2   129.0         NaN       NaN   7.3  11.1  \n289      203.5        4.1   127.5         NaN       NaN  11.8   7.7  \n290      226.0        3.5   128.0         NaN      21.0   2.9   7.3  \n\n[291 rows x 21 columns]",
      "text/html": "<div>\n<style scoped>\n    .dataframe tbody tr th:only-of-type {\n        vertical-align: middle;\n    }\n\n    .dataframe tbody tr th {\n        vertical-align: top;\n    }\n\n    .dataframe thead th {\n        text-align: right;\n    }\n</style>\n<table border=\"1\" class=\"dataframe\">\n  <thead>\n    <tr style=\"text-align: right;\">\n      <th></th>\n      <th>STUDY_ID</th>\n      <th>ALT</th>\n      <th>AST</th>\n      <th>BILIRUBIN</th>\n      <th>CREATENINE</th>\n      <th>CRP</th>\n      <th>D_DIMER</th>\n      <th>EOSINOPHILS</th>\n      <th>FERRITIN</th>\n      <th>GLUCOSE</th>\n      <th>...</th>\n      <th>LDH</th>\n      <th>LYMPHOCYTES</th>\n      <th>NEUTROPHILS</th>\n      <th>PLATELETS</th>\n      <th>POTASSIUM</th>\n      <th>SODIUM</th>\n      <th>TRIGYCERIN</th>\n      <th>TROPONIN</th>\n      <th>UREA</th>\n      <th>WBC</th>\n    </tr>\n  </thead>\n  <tbody>\n    <tr>\n      <th>0</th>\n      <td>UHSCOVID_00989a42</td>\n      <td>23.0</td>\n      <td>NaN</td>\n      <td>14.0</td>\n      <td>63.0</td>\n      <td>192.0</td>\n      <td>480.0</td>\n      <td>0.0</td>\n      <td>320.0</td>\n      <td>12.400000</td>\n      <td>...</td>\n      <td>639.0</td>\n      <td>1.10</td>\n      <td>8.00</td>\n      <td>277.0</td>\n      <td>4.0</td>\n      <td>139.0</td>\n      <td>NaN</td>\n      <td>9.0</td>\n      <td>5.7</td>\n      <td>9.4</td>\n    </tr>\n    <tr>\n      <th>1</th>\n      <td>UHSCOVID_01add35c</td>\n      <td>8.0</td>\n      <td>11.0</td>\n      <td>5.0</td>\n      <td>36.0</td>\n      <td>3.0</td>\n      <td>NaN</td>\n      <td>0.0</td>\n      <td>28.0</td>\n      <td>6.500000</td>\n      <td>...</td>\n      <td>347.0</td>\n      <td>0.70</td>\n      <td>22.00</td>\n      <td>310.0</td>\n      <td>4.6</td>\n      <td>129.0</td>\n      <td>1.1</td>\n      <td>NaN</td>\n      <td>6.9</td>\n      <td>23.5</td>\n    </tr>\n    <tr>\n      <th>2</th>\n      <td>UHSCOVID_01f7838d</td>\n      <td>NaN</td>\n      <td>NaN</td>\n      <td>NaN</td>\n      <td>80.0</td>\n      <td>12.0</td>\n      <td>NaN</td>\n      <td>0.1</td>\n      <td>NaN</td>\n      <td>6.333333</td>\n      <td>...</td>\n      <td>NaN</td>\n      <td>2.30</td>\n      <td>5.00</td>\n      <td>276.0</td>\n      <td>4.5</td>\n      <td>137.0</td>\n      <td>NaN</td>\n      <td>NaN</td>\n      <td>5.1</td>\n      <td>8.4</td>\n    </tr>\n    <tr>\n      <th>3</th>\n      <td>UHSCOVID_025d562e</td>\n      <td>44.0</td>\n      <td>48.0</td>\n      <td>4.0</td>\n      <td>46.0</td>\n      <td>28.0</td>\n      <td>336.0</td>\n      <td>0.1</td>\n      <td>19.0</td>\n      <td>12.900000</td>\n      <td>...</td>\n      <td>375.0</td>\n      <td>2.70</td>\n      <td>4.40</td>\n      <td>326.0</td>\n      <td>4.3</td>\n      <td>140.0</td>\n      <td>2.6</td>\n      <td>2.0</td>\n      <td>2.0</td>\n      <td>7.7</td>\n    </tr>\n    <tr>\n      <th>4</th>\n      <td>UHSCOVID_0520de1c</td>\n      <td>7.0</td>\n      <td>27.0</td>\n      <td>4.0</td>\n      <td>197.0</td>\n      <td>145.0</td>\n      <td>464.0</td>\n      <td>0.0</td>\n      <td>184.0</td>\n      <td>14.150000</td>\n      <td>...</td>\n      <td>485.0</td>\n      <td>0.30</td>\n      <td>7.30</td>\n      <td>126.0</td>\n      <td>5.5</td>\n      <td>130.0</td>\n      <td>1.6</td>\n      <td>7.0</td>\n      <td>17.8</td>\n      <td>7.8</td>\n    </tr>\n    <tr>\n      <th>...</th>\n      <td>...</td>\n      <td>...</td>\n      <td>...</td>\n      <td>...</td>\n      <td>...</td>\n      <td>...</td>\n      <td>...</td>\n      <td>...</td>\n      <td>...</td>\n      <td>...</td>\n      <td>...</td>\n      <td>...</td>\n      <td>...</td>\n      <td>...</td>\n      <td>...</td>\n      <td>...</td>\n      <td>...</td>\n      <td>...</td>\n      <td>...</td>\n      <td>...</td>\n      <td>...</td>\n    </tr>\n    <tr>\n      <th>286</th>\n      <td>UHSCOVID_f5c5890c</td>\n      <td>11.0</td>\n      <td>22.0</td>\n      <td>5.0</td>\n      <td>58.0</td>\n      <td>18.0</td>\n      <td>416.0</td>\n      <td>0.0</td>\n      <td>17.0</td>\n      <td>7.100000</td>\n      <td>...</td>\n      <td>416.0</td>\n      <td>1.50</td>\n      <td>4.30</td>\n      <td>156.0</td>\n      <td>4.0</td>\n      <td>140.0</td>\n      <td>1.4</td>\n      <td>129.0</td>\n      <td>5.5</td>\n      <td>6.7</td>\n    </tr>\n    <tr>\n      <th>287</th>\n      <td>UHSCOVID_f748a293</td>\n      <td>NaN</td>\n      <td>NaN</td>\n      <td>NaN</td>\n      <td>88.0</td>\n      <td>58.0</td>\n      <td>NaN</td>\n      <td>0.1</td>\n      <td>NaN</td>\n      <td>NaN</td>\n      <td>...</td>\n      <td>NaN</td>\n      <td>1.10</td>\n      <td>3.40</td>\n      <td>238.0</td>\n      <td>4.0</td>\n      <td>132.0</td>\n      <td>NaN</td>\n      <td>NaN</td>\n      <td>7.3</td>\n      <td>5.1</td>\n    </tr>\n    <tr>\n      <th>288</th>\n      <td>UHSCOVID_f834fd10</td>\n      <td>NaN</td>\n      <td>NaN</td>\n      <td>NaN</td>\n      <td>62.0</td>\n      <td>NaN</td>\n      <td>NaN</td>\n      <td>0.1</td>\n      <td>NaN</td>\n      <td>NaN</td>\n      <td>...</td>\n      <td>NaN</td>\n      <td>0.70</td>\n      <td>9.00</td>\n      <td>257.0</td>\n      <td>4.2</td>\n      <td>129.0</td>\n      <td>NaN</td>\n      <td>NaN</td>\n      <td>7.3</td>\n      <td>11.1</td>\n    </tr>\n    <tr>\n      <th>289</th>\n      <td>UHSCOVID_f8d03de4</td>\n      <td>28.0</td>\n      <td>NaN</td>\n      <td>7.0</td>\n      <td>156.5</td>\n      <td>74.5</td>\n      <td>NaN</td>\n      <td>0.1</td>\n      <td>NaN</td>\n      <td>NaN</td>\n      <td>...</td>\n      <td>NaN</td>\n      <td>0.75</td>\n      <td>6.35</td>\n      <td>203.5</td>\n      <td>4.1</td>\n      <td>127.5</td>\n      <td>NaN</td>\n      <td>NaN</td>\n      <td>11.8</td>\n      <td>7.7</td>\n    </tr>\n    <tr>\n      <th>290</th>\n      <td>UHSCOVID_fd893360</td>\n      <td>7.0</td>\n      <td>NaN</td>\n      <td>12.0</td>\n      <td>34.0</td>\n      <td>48.0</td>\n      <td>496.0</td>\n      <td>0.0</td>\n      <td>157.0</td>\n      <td>NaN</td>\n      <td>...</td>\n      <td>551.0</td>\n      <td>0.70</td>\n      <td>6.00</td>\n      <td>226.0</td>\n      <td>3.5</td>\n      <td>128.0</td>\n      <td>NaN</td>\n      <td>21.0</td>\n      <td>2.9</td>\n      <td>7.3</td>\n    </tr>\n  </tbody>\n</table>\n<p>291 rows × 21 columns</p>\n</div>"
     },
     "execution_count": 79,
     "metadata": {},
     "output_type": "execute_result"
    }
   ],
   "source": [
    "df3"
   ],
   "metadata": {
    "collapsed": false,
    "pycharm": {
     "name": "#%%\n"
    }
   }
  },
  {
   "cell_type": "code",
   "execution_count": 86,
   "outputs": [
    {
     "data": {
      "text/plain": "              STUDY_ID  CREATININE  CREATININEMean\n0    UHSCOVID_00989a42        63.0            63.0\n1    UHSCOVID_01add35c        36.0            36.0\n2    UHSCOVID_01f7838d        80.0            80.0\n3    UHSCOVID_025d562e        46.0            46.0\n4    UHSCOVID_0520de1c       197.0           197.0\n..                 ...         ...             ...\n286  UHSCOVID_f5c5890c        58.0            58.0\n287  UHSCOVID_f748a293        88.0            88.0\n288  UHSCOVID_f834fd10        62.0            62.0\n289  UHSCOVID_f8d03de4       156.5           156.5\n290  UHSCOVID_fd893360        34.0            34.0\n\n[291 rows x 3 columns]",
      "text/html": "<div>\n<style scoped>\n    .dataframe tbody tr th:only-of-type {\n        vertical-align: middle;\n    }\n\n    .dataframe tbody tr th {\n        vertical-align: top;\n    }\n\n    .dataframe thead th {\n        text-align: right;\n    }\n</style>\n<table border=\"1\" class=\"dataframe\">\n  <thead>\n    <tr style=\"text-align: right;\">\n      <th></th>\n      <th>STUDY_ID</th>\n      <th>CREATININE</th>\n      <th>CREATININEMean</th>\n    </tr>\n  </thead>\n  <tbody>\n    <tr>\n      <th>0</th>\n      <td>UHSCOVID_00989a42</td>\n      <td>63.0</td>\n      <td>63.0</td>\n    </tr>\n    <tr>\n      <th>1</th>\n      <td>UHSCOVID_01add35c</td>\n      <td>36.0</td>\n      <td>36.0</td>\n    </tr>\n    <tr>\n      <th>2</th>\n      <td>UHSCOVID_01f7838d</td>\n      <td>80.0</td>\n      <td>80.0</td>\n    </tr>\n    <tr>\n      <th>3</th>\n      <td>UHSCOVID_025d562e</td>\n      <td>46.0</td>\n      <td>46.0</td>\n    </tr>\n    <tr>\n      <th>4</th>\n      <td>UHSCOVID_0520de1c</td>\n      <td>197.0</td>\n      <td>197.0</td>\n    </tr>\n    <tr>\n      <th>...</th>\n      <td>...</td>\n      <td>...</td>\n      <td>...</td>\n    </tr>\n    <tr>\n      <th>286</th>\n      <td>UHSCOVID_f5c5890c</td>\n      <td>58.0</td>\n      <td>58.0</td>\n    </tr>\n    <tr>\n      <th>287</th>\n      <td>UHSCOVID_f748a293</td>\n      <td>88.0</td>\n      <td>88.0</td>\n    </tr>\n    <tr>\n      <th>288</th>\n      <td>UHSCOVID_f834fd10</td>\n      <td>62.0</td>\n      <td>62.0</td>\n    </tr>\n    <tr>\n      <th>289</th>\n      <td>UHSCOVID_f8d03de4</td>\n      <td>156.5</td>\n      <td>156.5</td>\n    </tr>\n    <tr>\n      <th>290</th>\n      <td>UHSCOVID_fd893360</td>\n      <td>34.0</td>\n      <td>34.0</td>\n    </tr>\n  </tbody>\n</table>\n<p>291 rows × 3 columns</p>\n</div>"
     },
     "execution_count": 86,
     "metadata": {},
     "output_type": "execute_result"
    }
   ],
   "source": [
    "df3MeanAgg = df3.groupby('STUDY_ID').agg(CREATININE=('CREATENINE','first'),CREATININEMean=('CREATENINE','mean'))\n",
    "df3MeanAgg\n",
    "# comorbidGrpDF = comorbidDF.groupby('STUDY_ID').agg(RENAL_D_PRESENT=('RENAL_D_PRESENT','any'))\n",
    "df3MeanAgg.reset_index(inplace=True)\n",
    "df3MeanAgg"
   ],
   "metadata": {
    "collapsed": false,
    "pycharm": {
     "name": "#%%\n"
    }
   }
  },
  {
   "cell_type": "code",
   "execution_count": 87,
   "outputs": [
    {
     "data": {
      "text/plain": "291"
     },
     "execution_count": 87,
     "metadata": {},
     "output_type": "execute_result"
    }
   ],
   "source": [
    "len(df3MeanAgg['STUDY_ID'].unique())"
   ],
   "metadata": {
    "collapsed": false,
    "pycharm": {
     "name": "#%%\n"
    }
   }
  },
  {
   "cell_type": "code",
   "execution_count": 88,
   "outputs": [
    {
     "data": {
      "text/plain": "array(['Unnamed: 0', 'STUDY_ID', 'PARAMETER', 'LOWER_RANGE',\n       'UPPER_RANGE', 'DATE', 'meanValue', 'category',\n       'Days_since_ADMISSION', 'Days_since_COVID_FIRST_POSITIVE',\n       'Days_since_C5', 'Days_since_ITU', 'Days_since_RESPIRATORY_HDU',\n       'Days_since_NIV', 'Days_since_INVASIVE_VENTILATION',\n       'Days_since_DISCHARGE', 'Days_since_READMISSION',\n       'Days_since_DEATH', 'ADMISSION_START_DAY', 'ADMISSION_END_DAY',\n       'ITU_START_DAY', 'ITU_END_DAY', 'INVASIVE_VENTILATION_START_DAY',\n       'INVASIVE_VENTILATION_END_DAY', 'NIV_START_DAY', 'NIV_END_DAY',\n       'C5_START_DAY', 'C5_END_DAY', 'PATIENT_AGE', 'GENDER', 'DEATH_DAY',\n       'DISCHARGE_DAY', 'ITU', 'INV', 'NIV', 'C5', 'DEATH', 'DISCHARGED'],\n      dtype=object)"
     },
     "execution_count": 88,
     "metadata": {},
     "output_type": "execute_result"
    }
   ],
   "source": [
    "dfNonITUday0.columns.values\n"
   ],
   "metadata": {
    "collapsed": false,
    "pycharm": {
     "name": "#%%\n"
    }
   }
  },
  {
   "cell_type": "code",
   "execution_count": 89,
   "outputs": [
    {
     "data": {
      "text/plain": "               STUDY_ID  DEATH  PATIENT_AGE  GENDER\n0     UHSCOVID_00989a42      0         64.0       2\n1     UHSCOVID_00989a42      0         64.0       2\n2     UHSCOVID_00989a42      0         64.0       2\n3     UHSCOVID_00989a42      0         64.0       2\n4     UHSCOVID_00989a42      0         64.0       2\n...                 ...    ...          ...     ...\n4004  UHSCOVID_fd893360      0         67.0       1\n4005  UHSCOVID_fd893360      0         67.0       1\n4006  UHSCOVID_fd893360      0         67.0       1\n4007  UHSCOVID_fd893360      0         67.0       1\n4008  UHSCOVID_fd893360      0         67.0       1\n\n[4009 rows x 4 columns]",
      "text/html": "<div>\n<style scoped>\n    .dataframe tbody tr th:only-of-type {\n        vertical-align: middle;\n    }\n\n    .dataframe tbody tr th {\n        vertical-align: top;\n    }\n\n    .dataframe thead th {\n        text-align: right;\n    }\n</style>\n<table border=\"1\" class=\"dataframe\">\n  <thead>\n    <tr style=\"text-align: right;\">\n      <th></th>\n      <th>STUDY_ID</th>\n      <th>DEATH</th>\n      <th>PATIENT_AGE</th>\n      <th>GENDER</th>\n    </tr>\n  </thead>\n  <tbody>\n    <tr>\n      <th>0</th>\n      <td>UHSCOVID_00989a42</td>\n      <td>0</td>\n      <td>64.0</td>\n      <td>2</td>\n    </tr>\n    <tr>\n      <th>1</th>\n      <td>UHSCOVID_00989a42</td>\n      <td>0</td>\n      <td>64.0</td>\n      <td>2</td>\n    </tr>\n    <tr>\n      <th>2</th>\n      <td>UHSCOVID_00989a42</td>\n      <td>0</td>\n      <td>64.0</td>\n      <td>2</td>\n    </tr>\n    <tr>\n      <th>3</th>\n      <td>UHSCOVID_00989a42</td>\n      <td>0</td>\n      <td>64.0</td>\n      <td>2</td>\n    </tr>\n    <tr>\n      <th>4</th>\n      <td>UHSCOVID_00989a42</td>\n      <td>0</td>\n      <td>64.0</td>\n      <td>2</td>\n    </tr>\n    <tr>\n      <th>...</th>\n      <td>...</td>\n      <td>...</td>\n      <td>...</td>\n      <td>...</td>\n    </tr>\n    <tr>\n      <th>4004</th>\n      <td>UHSCOVID_fd893360</td>\n      <td>0</td>\n      <td>67.0</td>\n      <td>1</td>\n    </tr>\n    <tr>\n      <th>4005</th>\n      <td>UHSCOVID_fd893360</td>\n      <td>0</td>\n      <td>67.0</td>\n      <td>1</td>\n    </tr>\n    <tr>\n      <th>4006</th>\n      <td>UHSCOVID_fd893360</td>\n      <td>0</td>\n      <td>67.0</td>\n      <td>1</td>\n    </tr>\n    <tr>\n      <th>4007</th>\n      <td>UHSCOVID_fd893360</td>\n      <td>0</td>\n      <td>67.0</td>\n      <td>1</td>\n    </tr>\n    <tr>\n      <th>4008</th>\n      <td>UHSCOVID_fd893360</td>\n      <td>0</td>\n      <td>67.0</td>\n      <td>1</td>\n    </tr>\n  </tbody>\n</table>\n<p>4009 rows × 4 columns</p>\n</div>"
     },
     "execution_count": 89,
     "metadata": {},
     "output_type": "execute_result"
    }
   ],
   "source": [
    "dfDemog = dfNonITUday0.filter(items=['STUDY_ID','DEATH','PATIENT_AGE', 'GENDER'])\n",
    "dfDemog"
   ],
   "metadata": {
    "collapsed": false,
    "pycharm": {
     "name": "#%%\n"
    }
   }
  },
  {
   "cell_type": "code",
   "execution_count": 103,
   "outputs": [
    {
     "data": {
      "text/plain": "0    2729\n1    1280\nName: DEATH, dtype: int64"
     },
     "execution_count": 103,
     "metadata": {},
     "output_type": "execute_result"
    }
   ],
   "source": [
    "dfDemog['DEATH'].value_counts()"
   ],
   "metadata": {
    "collapsed": false,
    "pycharm": {
     "name": "#%%\n"
    }
   }
  },
  {
   "cell_type": "code",
   "execution_count": 108,
   "outputs": [],
   "source": [
    "# grp3 = df3MeanAgg.get_group('UHSCOVID_00989a42')"
   ],
   "metadata": {
    "collapsed": false,
    "pycharm": {
     "name": "#%%\n"
    }
   }
  },
  {
   "cell_type": "code",
   "execution_count": 106,
   "outputs": [
    {
     "data": {
      "text/plain": "STUDY_ID        object\nALT            float64\nAST            float64\nBILIRUBIN      float64\nCREATENINE     float64\nCRP            float64\nD_DIMER        float64\nEOSINOPHILS    float64\nFERRITIN       float64\nGLUCOSE        float64\nHB             float64\nLDH            float64\nLYMPHOCYTES    float64\nNEUTROPHILS    float64\nPLATELETS      float64\nPOTASSIUM      float64\nSODIUM         float64\nTRIGYCERIN     float64\nTROPONIN       float64\nUREA           float64\nWBC            float64\ndtype: object"
     },
     "execution_count": 106,
     "metadata": {},
     "output_type": "execute_result"
    }
   ],
   "source": [
    "df3.dtypes"
   ],
   "metadata": {
    "collapsed": false,
    "pycharm": {
     "name": "#%%\n"
    }
   }
  },
  {
   "cell_type": "code",
   "execution_count": 107,
   "outputs": [
    {
     "data": {
      "text/plain": "STUDY_ID        object\nDEATH            int64\nPATIENT_AGE    float64\nGENDER           int64\ndtype: object"
     },
     "execution_count": 107,
     "metadata": {},
     "output_type": "execute_result"
    }
   ],
   "source": [
    "dfDemog.dtypes"
   ],
   "metadata": {
    "collapsed": false,
    "pycharm": {
     "name": "#%%\n"
    }
   }
  },
  {
   "cell_type": "code",
   "execution_count": 94,
   "outputs": [
    {
     "data": {
      "text/plain": "               STUDY_ID  CREATININE  CREATININEMean  DEATH  PATIENT_AGE  \\\n0     UHSCOVID_00989a42        63.0            63.0      0         64.0   \n1     UHSCOVID_00989a42        63.0            63.0      0         64.0   \n2     UHSCOVID_00989a42        63.0            63.0      0         64.0   \n3     UHSCOVID_00989a42        63.0            63.0      0         64.0   \n4     UHSCOVID_00989a42        63.0            63.0      0         64.0   \n...                 ...         ...             ...    ...          ...   \n4004  UHSCOVID_fd893360        34.0            34.0      0         67.0   \n4005  UHSCOVID_fd893360        34.0            34.0      0         67.0   \n4006  UHSCOVID_fd893360        34.0            34.0      0         67.0   \n4007  UHSCOVID_fd893360        34.0            34.0      0         67.0   \n4008  UHSCOVID_fd893360        34.0            34.0      0         67.0   \n\n      GENDER  \n0          2  \n1          2  \n2          2  \n3          2  \n4          2  \n...      ...  \n4004       1  \n4005       1  \n4006       1  \n4007       1  \n4008       1  \n\n[4009 rows x 6 columns]",
      "text/html": "<div>\n<style scoped>\n    .dataframe tbody tr th:only-of-type {\n        vertical-align: middle;\n    }\n\n    .dataframe tbody tr th {\n        vertical-align: top;\n    }\n\n    .dataframe thead th {\n        text-align: right;\n    }\n</style>\n<table border=\"1\" class=\"dataframe\">\n  <thead>\n    <tr style=\"text-align: right;\">\n      <th></th>\n      <th>STUDY_ID</th>\n      <th>CREATININE</th>\n      <th>CREATININEMean</th>\n      <th>DEATH</th>\n      <th>PATIENT_AGE</th>\n      <th>GENDER</th>\n    </tr>\n  </thead>\n  <tbody>\n    <tr>\n      <th>0</th>\n      <td>UHSCOVID_00989a42</td>\n      <td>63.0</td>\n      <td>63.0</td>\n      <td>0</td>\n      <td>64.0</td>\n      <td>2</td>\n    </tr>\n    <tr>\n      <th>1</th>\n      <td>UHSCOVID_00989a42</td>\n      <td>63.0</td>\n      <td>63.0</td>\n      <td>0</td>\n      <td>64.0</td>\n      <td>2</td>\n    </tr>\n    <tr>\n      <th>2</th>\n      <td>UHSCOVID_00989a42</td>\n      <td>63.0</td>\n      <td>63.0</td>\n      <td>0</td>\n      <td>64.0</td>\n      <td>2</td>\n    </tr>\n    <tr>\n      <th>3</th>\n      <td>UHSCOVID_00989a42</td>\n      <td>63.0</td>\n      <td>63.0</td>\n      <td>0</td>\n      <td>64.0</td>\n      <td>2</td>\n    </tr>\n    <tr>\n      <th>4</th>\n      <td>UHSCOVID_00989a42</td>\n      <td>63.0</td>\n      <td>63.0</td>\n      <td>0</td>\n      <td>64.0</td>\n      <td>2</td>\n    </tr>\n    <tr>\n      <th>...</th>\n      <td>...</td>\n      <td>...</td>\n      <td>...</td>\n      <td>...</td>\n      <td>...</td>\n      <td>...</td>\n    </tr>\n    <tr>\n      <th>4004</th>\n      <td>UHSCOVID_fd893360</td>\n      <td>34.0</td>\n      <td>34.0</td>\n      <td>0</td>\n      <td>67.0</td>\n      <td>1</td>\n    </tr>\n    <tr>\n      <th>4005</th>\n      <td>UHSCOVID_fd893360</td>\n      <td>34.0</td>\n      <td>34.0</td>\n      <td>0</td>\n      <td>67.0</td>\n      <td>1</td>\n    </tr>\n    <tr>\n      <th>4006</th>\n      <td>UHSCOVID_fd893360</td>\n      <td>34.0</td>\n      <td>34.0</td>\n      <td>0</td>\n      <td>67.0</td>\n      <td>1</td>\n    </tr>\n    <tr>\n      <th>4007</th>\n      <td>UHSCOVID_fd893360</td>\n      <td>34.0</td>\n      <td>34.0</td>\n      <td>0</td>\n      <td>67.0</td>\n      <td>1</td>\n    </tr>\n    <tr>\n      <th>4008</th>\n      <td>UHSCOVID_fd893360</td>\n      <td>34.0</td>\n      <td>34.0</td>\n      <td>0</td>\n      <td>67.0</td>\n      <td>1</td>\n    </tr>\n  </tbody>\n</table>\n<p>4009 rows × 6 columns</p>\n</div>"
     },
     "execution_count": 94,
     "metadata": {},
     "output_type": "execute_result"
    }
   ],
   "source": [
    "df4 = pd.merge(df3MeanAgg,dfDemog,on=['STUDY_ID'],how='inner')\n",
    "df4.sort_values(by='STUDY_ID')\n",
    "df4"
   ],
   "metadata": {
    "collapsed": false,
    "pycharm": {
     "name": "#%%\n"
    }
   }
  },
  {
   "cell_type": "code",
   "execution_count": 94,
   "outputs": [],
   "source": [],
   "metadata": {
    "collapsed": false,
    "pycharm": {
     "name": "#%%\n"
    }
   }
  },
  {
   "cell_type": "code",
   "execution_count": 46,
   "outputs": [
    {
     "ename": "PermissionError",
     "evalue": "[Errno 13] Permission denied: 'C:\\\\Work\\\\DropBoxPS\\\\Dropbox\\\\dev\\\\data\\\\dECMT\\\\COVID19_SH\\\\Output\\\\day0labValuesMean.csv'",
     "output_type": "error",
     "traceback": [
      "\u001B[1;31m---------------------------------------------------------------------------\u001B[0m",
      "\u001B[1;31mPermissionError\u001B[0m                           Traceback (most recent call last)",
      "\u001B[1;32m<ipython-input-46-f8ce6847e674>\u001B[0m in \u001B[0;36m<module>\u001B[1;34m\u001B[0m\n\u001B[0;32m      1\u001B[0m \u001B[0moutPath\u001B[0m \u001B[1;33m=\u001B[0m \u001B[1;34m\"C:\\Work\\DropBoxPS\\Dropbox\\dev\\data\\dECMT\\COVID19_SH\\Output\"\u001B[0m\u001B[1;33m\u001B[0m\u001B[1;33m\u001B[0m\u001B[0m\n\u001B[0;32m      2\u001B[0m \u001B[0mfnDay0Out\u001B[0m \u001B[1;33m=\u001B[0m \u001B[0mPath\u001B[0m\u001B[1;33m(\u001B[0m\u001B[0moutPath\u001B[0m\u001B[1;33m)\u001B[0m \u001B[1;33m/\u001B[0m \u001B[1;34m'day0labValuesMean.csv'\u001B[0m\u001B[1;33m\u001B[0m\u001B[1;33m\u001B[0m\u001B[0m\n\u001B[1;32m----> 3\u001B[1;33m \u001B[0mdf4\u001B[0m\u001B[1;33m.\u001B[0m\u001B[0mto_csv\u001B[0m\u001B[1;33m(\u001B[0m\u001B[0mfnDay0Out\u001B[0m\u001B[1;33m)\u001B[0m\u001B[1;33m\u001B[0m\u001B[1;33m\u001B[0m\u001B[0m\n\u001B[0m",
      "\u001B[1;32mC:\\ANACONDA3\\envs\\dECMT\\lib\\site-packages\\pandas\\core\\generic.py\u001B[0m in \u001B[0;36mto_csv\u001B[1;34m(self, path_or_buf, sep, na_rep, float_format, columns, header, index, index_label, mode, encoding, compression, quoting, quotechar, line_terminator, chunksize, date_format, doublequote, escapechar, decimal)\u001B[0m\n\u001B[0;32m   3202\u001B[0m             \u001B[0mdecimal\u001B[0m\u001B[1;33m=\u001B[0m\u001B[0mdecimal\u001B[0m\u001B[1;33m,\u001B[0m\u001B[1;33m\u001B[0m\u001B[1;33m\u001B[0m\u001B[0m\n\u001B[0;32m   3203\u001B[0m         )\n\u001B[1;32m-> 3204\u001B[1;33m         \u001B[0mformatter\u001B[0m\u001B[1;33m.\u001B[0m\u001B[0msave\u001B[0m\u001B[1;33m(\u001B[0m\u001B[1;33m)\u001B[0m\u001B[1;33m\u001B[0m\u001B[1;33m\u001B[0m\u001B[0m\n\u001B[0m\u001B[0;32m   3205\u001B[0m \u001B[1;33m\u001B[0m\u001B[0m\n\u001B[0;32m   3206\u001B[0m         \u001B[1;32mif\u001B[0m \u001B[0mpath_or_buf\u001B[0m \u001B[1;32mis\u001B[0m \u001B[1;32mNone\u001B[0m\u001B[1;33m:\u001B[0m\u001B[1;33m\u001B[0m\u001B[1;33m\u001B[0m\u001B[0m\n",
      "\u001B[1;32mC:\\ANACONDA3\\envs\\dECMT\\lib\\site-packages\\pandas\\io\\formats\\csvs.py\u001B[0m in \u001B[0;36msave\u001B[1;34m(self)\u001B[0m\n\u001B[0;32m    186\u001B[0m                 \u001B[0mself\u001B[0m\u001B[1;33m.\u001B[0m\u001B[0mmode\u001B[0m\u001B[1;33m,\u001B[0m\u001B[1;33m\u001B[0m\u001B[1;33m\u001B[0m\u001B[0m\n\u001B[0;32m    187\u001B[0m                 \u001B[0mencoding\u001B[0m\u001B[1;33m=\u001B[0m\u001B[0mself\u001B[0m\u001B[1;33m.\u001B[0m\u001B[0mencoding\u001B[0m\u001B[1;33m,\u001B[0m\u001B[1;33m\u001B[0m\u001B[1;33m\u001B[0m\u001B[0m\n\u001B[1;32m--> 188\u001B[1;33m                 \u001B[0mcompression\u001B[0m\u001B[1;33m=\u001B[0m\u001B[0mdict\u001B[0m\u001B[1;33m(\u001B[0m\u001B[0mself\u001B[0m\u001B[1;33m.\u001B[0m\u001B[0mcompression_args\u001B[0m\u001B[1;33m,\u001B[0m \u001B[0mmethod\u001B[0m\u001B[1;33m=\u001B[0m\u001B[0mself\u001B[0m\u001B[1;33m.\u001B[0m\u001B[0mcompression\u001B[0m\u001B[1;33m)\u001B[0m\u001B[1;33m,\u001B[0m\u001B[1;33m\u001B[0m\u001B[1;33m\u001B[0m\u001B[0m\n\u001B[0m\u001B[0;32m    189\u001B[0m             )\n\u001B[0;32m    190\u001B[0m             \u001B[0mclose\u001B[0m \u001B[1;33m=\u001B[0m \u001B[1;32mTrue\u001B[0m\u001B[1;33m\u001B[0m\u001B[1;33m\u001B[0m\u001B[0m\n",
      "\u001B[1;32mC:\\ANACONDA3\\envs\\dECMT\\lib\\site-packages\\pandas\\io\\common.py\u001B[0m in \u001B[0;36mget_handle\u001B[1;34m(path_or_buf, mode, encoding, compression, memory_map, is_text)\u001B[0m\n\u001B[0;32m    426\u001B[0m         \u001B[1;32mif\u001B[0m \u001B[0mencoding\u001B[0m\u001B[1;33m:\u001B[0m\u001B[1;33m\u001B[0m\u001B[1;33m\u001B[0m\u001B[0m\n\u001B[0;32m    427\u001B[0m             \u001B[1;31m# Encoding\u001B[0m\u001B[1;33m\u001B[0m\u001B[1;33m\u001B[0m\u001B[1;33m\u001B[0m\u001B[0m\n\u001B[1;32m--> 428\u001B[1;33m             \u001B[0mf\u001B[0m \u001B[1;33m=\u001B[0m \u001B[0mopen\u001B[0m\u001B[1;33m(\u001B[0m\u001B[0mpath_or_buf\u001B[0m\u001B[1;33m,\u001B[0m \u001B[0mmode\u001B[0m\u001B[1;33m,\u001B[0m \u001B[0mencoding\u001B[0m\u001B[1;33m=\u001B[0m\u001B[0mencoding\u001B[0m\u001B[1;33m,\u001B[0m \u001B[0mnewline\u001B[0m\u001B[1;33m=\u001B[0m\u001B[1;34m\"\"\u001B[0m\u001B[1;33m)\u001B[0m\u001B[1;33m\u001B[0m\u001B[1;33m\u001B[0m\u001B[0m\n\u001B[0m\u001B[0;32m    429\u001B[0m         \u001B[1;32melif\u001B[0m \u001B[0mis_text\u001B[0m\u001B[1;33m:\u001B[0m\u001B[1;33m\u001B[0m\u001B[1;33m\u001B[0m\u001B[0m\n\u001B[0;32m    430\u001B[0m             \u001B[1;31m# No explicit encoding\u001B[0m\u001B[1;33m\u001B[0m\u001B[1;33m\u001B[0m\u001B[1;33m\u001B[0m\u001B[0m\n",
      "\u001B[1;31mPermissionError\u001B[0m: [Errno 13] Permission denied: 'C:\\\\Work\\\\DropBoxPS\\\\Dropbox\\\\dev\\\\data\\\\dECMT\\\\COVID19_SH\\\\Output\\\\day0labValuesMean.csv'"
     ]
    }
   ],
   "source": [],
   "metadata": {
    "collapsed": false,
    "pycharm": {
     "name": "#%%\n"
    }
   }
  },
  {
   "cell_type": "code",
   "execution_count": 95,
   "outputs": [
    {
     "data": {
      "text/plain": "(4009, 6)"
     },
     "execution_count": 95,
     "metadata": {},
     "output_type": "execute_result"
    }
   ],
   "source": [
    "df4.shape"
   ],
   "metadata": {
    "collapsed": false,
    "pycharm": {
     "name": "#%%\n"
    }
   }
  },
  {
   "cell_type": "code",
   "execution_count": 96,
   "outputs": [
    {
     "data": {
      "text/plain": "291"
     },
     "execution_count": 96,
     "metadata": {},
     "output_type": "execute_result"
    }
   ],
   "source": [
    "uniqueIds = df4['STUDY_ID'].unique()\n",
    "len(df4['STUDY_ID'].unique())"
   ],
   "metadata": {
    "collapsed": false,
    "pycharm": {
     "name": "#%%\n"
    }
   }
  },
  {
   "cell_type": "code",
   "execution_count": 100,
   "outputs": [
    {
     "data": {
      "text/plain": "                   CREATININE  CREATININEMean  DEATH  PATIENT_AGE  GENDER\nSTUDY_ID                                                                 \nUHSCOVID_00989a42        63.0            63.0      0         64.0       2\nUHSCOVID_01add35c        36.0            36.0      1         67.0       1\nUHSCOVID_01f7838d        80.0            80.0      0         97.0       2\nUHSCOVID_025d562e        46.0            46.0      0         62.0       1\nUHSCOVID_0520de1c       197.0           197.0      0         79.0       1\n...                       ...             ...    ...          ...     ...\nUHSCOVID_f5c5890c        58.0            58.0      0         41.0       2\nUHSCOVID_f748a293        88.0            88.0      0         89.0       1\nUHSCOVID_f834fd10        62.0            62.0      0         81.0       2\nUHSCOVID_f8d03de4       156.5           156.5      1         86.0       2\nUHSCOVID_fd893360        34.0            34.0      0         67.0       1\n\n[291 rows x 5 columns]",
      "text/html": "<div>\n<style scoped>\n    .dataframe tbody tr th:only-of-type {\n        vertical-align: middle;\n    }\n\n    .dataframe tbody tr th {\n        vertical-align: top;\n    }\n\n    .dataframe thead th {\n        text-align: right;\n    }\n</style>\n<table border=\"1\" class=\"dataframe\">\n  <thead>\n    <tr style=\"text-align: right;\">\n      <th></th>\n      <th>CREATININE</th>\n      <th>CREATININEMean</th>\n      <th>DEATH</th>\n      <th>PATIENT_AGE</th>\n      <th>GENDER</th>\n    </tr>\n    <tr>\n      <th>STUDY_ID</th>\n      <th></th>\n      <th></th>\n      <th></th>\n      <th></th>\n      <th></th>\n    </tr>\n  </thead>\n  <tbody>\n    <tr>\n      <th>UHSCOVID_00989a42</th>\n      <td>63.0</td>\n      <td>63.0</td>\n      <td>0</td>\n      <td>64.0</td>\n      <td>2</td>\n    </tr>\n    <tr>\n      <th>UHSCOVID_01add35c</th>\n      <td>36.0</td>\n      <td>36.0</td>\n      <td>1</td>\n      <td>67.0</td>\n      <td>1</td>\n    </tr>\n    <tr>\n      <th>UHSCOVID_01f7838d</th>\n      <td>80.0</td>\n      <td>80.0</td>\n      <td>0</td>\n      <td>97.0</td>\n      <td>2</td>\n    </tr>\n    <tr>\n      <th>UHSCOVID_025d562e</th>\n      <td>46.0</td>\n      <td>46.0</td>\n      <td>0</td>\n      <td>62.0</td>\n      <td>1</td>\n    </tr>\n    <tr>\n      <th>UHSCOVID_0520de1c</th>\n      <td>197.0</td>\n      <td>197.0</td>\n      <td>0</td>\n      <td>79.0</td>\n      <td>1</td>\n    </tr>\n    <tr>\n      <th>...</th>\n      <td>...</td>\n      <td>...</td>\n      <td>...</td>\n      <td>...</td>\n      <td>...</td>\n    </tr>\n    <tr>\n      <th>UHSCOVID_f5c5890c</th>\n      <td>58.0</td>\n      <td>58.0</td>\n      <td>0</td>\n      <td>41.0</td>\n      <td>2</td>\n    </tr>\n    <tr>\n      <th>UHSCOVID_f748a293</th>\n      <td>88.0</td>\n      <td>88.0</td>\n      <td>0</td>\n      <td>89.0</td>\n      <td>1</td>\n    </tr>\n    <tr>\n      <th>UHSCOVID_f834fd10</th>\n      <td>62.0</td>\n      <td>62.0</td>\n      <td>0</td>\n      <td>81.0</td>\n      <td>2</td>\n    </tr>\n    <tr>\n      <th>UHSCOVID_f8d03de4</th>\n      <td>156.5</td>\n      <td>156.5</td>\n      <td>1</td>\n      <td>86.0</td>\n      <td>2</td>\n    </tr>\n    <tr>\n      <th>UHSCOVID_fd893360</th>\n      <td>34.0</td>\n      <td>34.0</td>\n      <td>0</td>\n      <td>67.0</td>\n      <td>1</td>\n    </tr>\n  </tbody>\n</table>\n<p>291 rows × 5 columns</p>\n</div>"
     },
     "execution_count": 100,
     "metadata": {},
     "output_type": "execute_result"
    }
   ],
   "source": [
    "grp4 = df4.groupby('STUDY_ID')\n",
    "grp4.first()"
   ],
   "metadata": {
    "collapsed": false,
    "pycharm": {
     "name": "#%%\n"
    }
   }
  },
  {
   "cell_type": "code",
   "execution_count": 101,
   "outputs": [
    {
     "data": {
      "text/plain": "    CREATININE  CREATININEMean  DEATH  PATIENT_AGE  GENDER\n0         63.0            63.0      0         64.0       2\n1         63.0            63.0      0         64.0       2\n2         63.0            63.0      0         64.0       2\n3         63.0            63.0      0         64.0       2\n4         63.0            63.0      0         64.0       2\n5         63.0            63.0      0         64.0       2\n6         63.0            63.0      0         64.0       2\n7         63.0            63.0      0         64.0       2\n8         63.0            63.0      0         64.0       2\n9         63.0            63.0      0         64.0       2\n10        63.0            63.0      0         64.0       2\n11        63.0            63.0      0         64.0       2\n12        63.0            63.0      0         64.0       2\n13        63.0            63.0      0         64.0       2\n14        63.0            63.0      0         64.0       2\n15        63.0            63.0      0         64.0       2\n16        63.0            63.0      0         64.0       2\n17        63.0            63.0      0         64.0       2",
      "text/html": "<div>\n<style scoped>\n    .dataframe tbody tr th:only-of-type {\n        vertical-align: middle;\n    }\n\n    .dataframe tbody tr th {\n        vertical-align: top;\n    }\n\n    .dataframe thead th {\n        text-align: right;\n    }\n</style>\n<table border=\"1\" class=\"dataframe\">\n  <thead>\n    <tr style=\"text-align: right;\">\n      <th></th>\n      <th>CREATININE</th>\n      <th>CREATININEMean</th>\n      <th>DEATH</th>\n      <th>PATIENT_AGE</th>\n      <th>GENDER</th>\n    </tr>\n  </thead>\n  <tbody>\n    <tr>\n      <th>0</th>\n      <td>63.0</td>\n      <td>63.0</td>\n      <td>0</td>\n      <td>64.0</td>\n      <td>2</td>\n    </tr>\n    <tr>\n      <th>1</th>\n      <td>63.0</td>\n      <td>63.0</td>\n      <td>0</td>\n      <td>64.0</td>\n      <td>2</td>\n    </tr>\n    <tr>\n      <th>2</th>\n      <td>63.0</td>\n      <td>63.0</td>\n      <td>0</td>\n      <td>64.0</td>\n      <td>2</td>\n    </tr>\n    <tr>\n      <th>3</th>\n      <td>63.0</td>\n      <td>63.0</td>\n      <td>0</td>\n      <td>64.0</td>\n      <td>2</td>\n    </tr>\n    <tr>\n      <th>4</th>\n      <td>63.0</td>\n      <td>63.0</td>\n      <td>0</td>\n      <td>64.0</td>\n      <td>2</td>\n    </tr>\n    <tr>\n      <th>5</th>\n      <td>63.0</td>\n      <td>63.0</td>\n      <td>0</td>\n      <td>64.0</td>\n      <td>2</td>\n    </tr>\n    <tr>\n      <th>6</th>\n      <td>63.0</td>\n      <td>63.0</td>\n      <td>0</td>\n      <td>64.0</td>\n      <td>2</td>\n    </tr>\n    <tr>\n      <th>7</th>\n      <td>63.0</td>\n      <td>63.0</td>\n      <td>0</td>\n      <td>64.0</td>\n      <td>2</td>\n    </tr>\n    <tr>\n      <th>8</th>\n      <td>63.0</td>\n      <td>63.0</td>\n      <td>0</td>\n      <td>64.0</td>\n      <td>2</td>\n    </tr>\n    <tr>\n      <th>9</th>\n      <td>63.0</td>\n      <td>63.0</td>\n      <td>0</td>\n      <td>64.0</td>\n      <td>2</td>\n    </tr>\n    <tr>\n      <th>10</th>\n      <td>63.0</td>\n      <td>63.0</td>\n      <td>0</td>\n      <td>64.0</td>\n      <td>2</td>\n    </tr>\n    <tr>\n      <th>11</th>\n      <td>63.0</td>\n      <td>63.0</td>\n      <td>0</td>\n      <td>64.0</td>\n      <td>2</td>\n    </tr>\n    <tr>\n      <th>12</th>\n      <td>63.0</td>\n      <td>63.0</td>\n      <td>0</td>\n      <td>64.0</td>\n      <td>2</td>\n    </tr>\n    <tr>\n      <th>13</th>\n      <td>63.0</td>\n      <td>63.0</td>\n      <td>0</td>\n      <td>64.0</td>\n      <td>2</td>\n    </tr>\n    <tr>\n      <th>14</th>\n      <td>63.0</td>\n      <td>63.0</td>\n      <td>0</td>\n      <td>64.0</td>\n      <td>2</td>\n    </tr>\n    <tr>\n      <th>15</th>\n      <td>63.0</td>\n      <td>63.0</td>\n      <td>0</td>\n      <td>64.0</td>\n      <td>2</td>\n    </tr>\n    <tr>\n      <th>16</th>\n      <td>63.0</td>\n      <td>63.0</td>\n      <td>0</td>\n      <td>64.0</td>\n      <td>2</td>\n    </tr>\n    <tr>\n      <th>17</th>\n      <td>63.0</td>\n      <td>63.0</td>\n      <td>0</td>\n      <td>64.0</td>\n      <td>2</td>\n    </tr>\n  </tbody>\n</table>\n</div>"
     },
     "execution_count": 101,
     "metadata": {},
     "output_type": "execute_result"
    }
   ],
   "source": [
    "grp4.get_group('UHSCOVID_00989a42')"
   ],
   "metadata": {
    "collapsed": false,
    "pycharm": {
     "name": "#%%\n"
    }
   }
  },
  {
   "cell_type": "code",
   "execution_count": 102,
   "outputs": [],
   "source": [
    "outPath = \"C:\\Work\\DropBoxPS\\Dropbox\\dev\\data\\dECMT\\COVID19_SH\\Output\"\n",
    "fnDay0Out = Path(outPath) / 'day0labValuesMean02.csv'\n",
    "# df4.to_csv(fnDay0Out)\n",
    "\n"
   ],
   "metadata": {
    "collapsed": false,
    "pycharm": {
     "name": "#%%\n"
    }
   }
  },
  {
   "cell_type": "code",
   "execution_count": 99,
   "outputs": [],
   "source": [],
   "metadata": {
    "collapsed": false,
    "pycharm": {
     "name": "#%%\n"
    }
   }
  },
  {
   "cell_type": "code",
   "execution_count": 99,
   "outputs": [],
   "source": [],
   "metadata": {
    "collapsed": false,
    "pycharm": {
     "name": "#%%\n"
    }
   }
  },
  {
   "cell_type": "code",
   "execution_count": 99,
   "outputs": [],
   "source": [],
   "metadata": {
    "collapsed": false,
    "pycharm": {
     "name": "#%%\n"
    }
   }
  },
  {
   "cell_type": "code",
   "execution_count": null,
   "outputs": [],
   "source": [],
   "metadata": {
    "collapsed": false,
    "pycharm": {
     "name": "#%%\n"
    }
   }
  }
 ],
 "metadata": {
  "kernelspec": {
   "display_name": "Python 3",
   "language": "python",
   "name": "python3"
  },
  "language_info": {
   "codemirror_mode": {
    "name": "ipython",
    "version": 2
   },
   "file_extension": ".py",
   "mimetype": "text/x-python",
   "name": "python",
   "nbconvert_exporter": "python",
   "pygments_lexer": "ipython2",
   "version": "2.7.6"
  }
 },
 "nbformat": 4,
 "nbformat_minor": 0
}