{
 "cells": [
  {
   "cell_type": "code",
   "execution_count": 760,
   "outputs": [],
   "source": [
    "import IPython\n",
    "import pandas as pd\n",
    "import matplotlib as ml\n",
    "import matplotlib.pyplot as plt\n",
    "import seaborn as sns\n",
    "import numpy as np\n",
    "from pathlib import Path\n",
    "from datetime import datetime\n",
    "\n",
    "from IPython.display import Markdown as md\n",
    "from IPython.display import Math as m"
   ],
   "metadata": {
    "collapsed": false,
    "pycharm": {
     "name": "#%%\n"
    }
   }
  },
  {
   "cell_type": "markdown",
   "source": [
    "# Lab Results Table"
   ],
   "metadata": {
    "collapsed": false,
    "pycharm": {
     "name": "#%% md\n"
    }
   }
  },
  {
   "cell_type": "code",
   "execution_count": 761,
   "outputs": [],
   "source": [
    "todayVal = datetime.today()\n",
    "timeStampStr = todayVal.strftime(\"%y-%m-%d_%H-%M-%S.%f\")"
   ],
   "metadata": {
    "collapsed": false,
    "pycharm": {
     "name": "#%%\n"
    }
   }
  },
  {
   "cell_type": "markdown",
   "source": [
    "# Content"
   ],
   "metadata": {
    "collapsed": false
   }
  },
  {
   "cell_type": "markdown",
   "source": [
    "## Automatic Chi2 Test"
   ],
   "metadata": {
    "collapsed": false
   }
  },
  {
   "cell_type": "code",
   "execution_count": 553,
   "outputs": [],
   "source": [
    "from scipy.stats import chi2_contingency\n",
    "import IPython.display as display\n",
    "from IPython.display import Markdown as md\n",
    "\n",
    "def printmd(string):\n",
    "    IPython.display.display(IPython.display.Markdown(string))\n",
    "\n",
    "def printChi2Test(df,colName1,colName2,correction=True):\n",
    "    dfCT = pd.crosstab(df[colName1],df[colName2])\n",
    "    stat, p, dof, expected = chi2_contingency(dfCT,correction=correction)\n",
    "    print(f\"stat = {stat}\")\n",
    "    print(f\"p = {p}\")\n",
    "    print(f\"dof = {dof}\")\n",
    "    print(f\"expected = {expected}\")\n",
    "    printmd(f\"Since p={p:.1g}<0.05, based on Chi2 test we can reject hypothesis that death as outcome does not depend \"\n",
    "       f\"on the presence of a renal disease.\")"
   ],
   "metadata": {
    "collapsed": false,
    "pycharm": {
     "name": "#%%\n"
    }
   }
  },
  {
   "cell_type": "code",
   "execution_count": 554,
   "outputs": [],
   "source": [
    "def printChi2(df,text=\"Empty\",correction=True):\n",
    "    printmd(f\"# {text}\")\n",
    "    stat, p, dof, expected = chi2_contingency(df,correction=correction)\n",
    "    print(f\"stat = {stat}\")\n",
    "    print(f\"p = {p}\")\n",
    "    print(f\"dof = {dof}\")\n",
    "    print(f\"expected = {expected}\")\n",
    "    printmd(f\"Since p={p:.1g}<0.05, based on  test we can reject hypothesis that death as outcome does not depend \"\n",
    "   f\"on the presence of a renal disease.\")"
   ],
   "metadata": {
    "collapsed": false,
    "pycharm": {
     "name": "#%%\n"
    }
   }
  },
  {
   "cell_type": "code",
   "execution_count": 555,
   "outputs": [],
   "source": [
    "from itertools import combinations\n",
    "from statsmodels.sandbox.stats.multicomp import multipletests\n",
    "def get_asterisks_for_pval(p_val):\n",
    "    \"\"\"Receives the p-value and returns asterisks string.\"\"\"\n",
    "    if p_val > 0.05:\n",
    "        p_text = \"ns\"  # above threshold => not significant\n",
    "    elif p_val < 1e-4:\n",
    "        p_text = '****'\n",
    "    elif p_val < 1e-3:\n",
    "        p_text = '***'\n",
    "    elif p_val < 1e-2:\n",
    "        p_text = '**'\n",
    "    else:\n",
    "        p_text = '*'\n",
    "\n",
    "    return p_text\n",
    "\n",
    "def chisq_and_posthoc_corrected(df):\n",
    "    \"\"\"Receives a dataframe and performs chi2 test and then post hoc.\n",
    "    Prints the p-values and corrected p-values (after FDR correction)\"\"\"\n",
    "    # start by running chi2 test on the matrix\n",
    "    chi2, p, dof, ex = chi2_contingency(df, correction=True)\n",
    "    print(f\"Chi2 result of the contingency table: {chi2}, p-value: {p}\")\n",
    "\n",
    "    # post-hoc\n",
    "    all_combinations = list(combinations(df.index, 2))  # gathering all combinations for post-hoc chi2\n",
    "    p_vals = []\n",
    "    print(\"Significance results:\")\n",
    "    for comb in all_combinations:\n",
    "        new_df = df[(df.index == comb[0]) | (df.index == comb[1])]\n",
    "        chi2, p, dof, ex = chi2_contingency(new_df, correction=True)\n",
    "        p_vals.append(p)\n",
    "        # print(f\"For {comb}: {p}\")  # uncorrected\n",
    "\n",
    "    # checking significance\n",
    "    # correction for multiple testing\n",
    "    reject_list, corrected_p_vals = multipletests(p_vals, method='fdr_bh')[:2]\n",
    "    for p_val, corr_p_val, reject, comb in zip(p_vals, corrected_p_vals, reject_list, all_combinations):\n",
    "        print(f\"{comb}: p_value: {p_val:5f}; corrected: {corr_p_val:5f} ({get_asterisks_for_pval(p_val)}) reject: {reject}\")"
   ],
   "metadata": {
    "collapsed": false,
    "pycharm": {
     "name": "#%%\n"
    }
   }
  },
  {
   "cell_type": "code",
   "execution_count": 556,
   "outputs": [],
   "source": [
    "%matplotlib inline"
   ],
   "metadata": {
    "collapsed": false,
    "pycharm": {
     "name": "#%%\n"
    }
   }
  },
  {
   "cell_type": "code",
   "execution_count": 556,
   "outputs": [],
   "source": [],
   "metadata": {
    "collapsed": false,
    "pycharm": {
     "name": "#%%\n"
    }
   }
  },
  {
   "cell_type": "markdown",
   "source": [
    "# Questions\n",
    "- Are there differences in outcomes between people who present early (e.g. within 7 days of symptom onset) vs late?"
   ],
   "metadata": {
    "collapsed": false
   }
  },
  {
   "cell_type": "markdown",
   "source": [
    "# Data Reading\n",
    "# Melted"
   ],
   "metadata": {
    "collapsed": false
   }
  },
  {
   "cell_type": "code",
   "execution_count": 557,
   "outputs": [],
   "source": [
    "fpMelted=\"C:\\Work\\dev\\dECMT_src\\data_all\\COVID19_Data\\Preprocessed_Data\\df_melted_29092020_ow.csv\"\n",
    "fpMelted=\"C:\\Work\\dev\\dECMT_src\\data_all\\COVID19_Data\\Preprocessed_Data\\df_melted_02102020_ow.csv\"\n",
    "dfMelted = pd.read_csv(fpMelted)"
   ],
   "metadata": {
    "collapsed": false,
    "pycharm": {
     "name": "#%%\n"
    }
   }
  },
  {
   "cell_type": "code",
   "execution_count": 558,
   "outputs": [],
   "source": [
    "# Index(['Unnamed: 0', 'STUDY_ID', 'ADMISSION_START_DATE', 'ADMISSION_END_DATE',\n",
    "#        'ITU_START_DATE', 'ITU_END_DATE', 'INVASIVE_VENTILATION_START_DATE',\n",
    "#        'INVASIVE_VENTILATION_END_DATE', 'NIV_START_DATE', 'NIV_END_DATE',\n",
    "#        'C5_START_DATE', 'C5_END_DATE', 'ADMISSION_START_DAY',\n",
    "#        'ADMISSION_END_DAY', 'ITU_START_DAY', 'ITU_END_DAY',\n",
    "#        'INVASIVE_VENTILATION_START_DAY', 'INVASIVE_VENTILATION_END_DAY',\n",
    "#        'NIV_START_DAY', 'NIV_END_DAY', 'C5_START_DAY', 'C5_END_DAY',\n",
    "#        'PATIENT_AGE', 'GENDER', 'DEATH_DATE', 'DISCHARGE_DATE', 'DEATH_DAY',\n",
    "#        'DISCHARGE_DAY', 'ITU', 'INV', 'NIV', 'C5', 'DEATH', 'DISCHARGED',\n",
    "#        'SURVIVED', 'STILL_IN', 'READMITTED', 'ADMISSION_NB', 'AGE_GROUP',\n",
    "#        'AGE_GROUP_2', 'COPD', 'ASTHMA', 'ILD', 'BRONCHIECTASIS',\n",
    "#        'HYPERTENSION', 'THROMBOEMBOLIC', 'CARDIAC_D', 'RENAL_D', 'LIVER_D',\n",
    "#        'NEURAL_D', 'META_SOLID_TUMOUR', 'MAGLINANT_NEO', 'DIABETES', 'OBESITY',\n",
    "#        'HIV', 'RHEUMATO_D', 'DIMENTIA', 'IMMUNO', 'NB_COMOR',\n",
    "#        'SYMPTOM_ONSET_DATE', 'ADMISSION_DAY_SINCE_ONSET', 'SPECIMEN_DATE',\n",
    "#        'SPECIMEN_DAY_SINCE_ADMISSION', 'SPECIMENT_DAY_SINCE_ONSET',\n",
    "#        'PARAMETER', 'meanValue'],\n",
    "#       dtype='object')"
   ],
   "metadata": {
    "collapsed": false,
    "pycharm": {
     "name": "#%%\n"
    }
   }
  },
  {
   "cell_type": "code",
   "execution_count": 559,
   "outputs": [
    {
     "data": {
      "text/plain": "Index(['Unnamed: 0', 'STUDY_ID', 'ADMISSION_START_DATE', 'ADMISSION_END_DATE',\n       'ITU_START_DATE', 'ITU_END_DATE', 'INVASIVE_VENTILATION_START_DATE',\n       'INVASIVE_VENTILATION_END_DATE', 'NIV_START_DATE', 'NIV_END_DATE',\n       'C5_START_DATE', 'C5_END_DATE', 'ADMISSION_START_DAY',\n       'ADMISSION_END_DAY', 'ITU_START_DAY', 'ITU_END_DAY',\n       'INVASIVE_VENTILATION_START_DAY', 'INVASIVE_VENTILATION_END_DAY',\n       'NIV_START_DAY', 'NIV_END_DAY', 'C5_START_DAY', 'C5_END_DAY',\n       'PATIENT_AGE', 'GENDER', 'DEATH_DATE', 'DISCHARGE_DATE', 'DEATH_DAY',\n       'DISCHARGE_DAY', 'ITU', 'INV', 'NIV', 'C5', 'DEATH', 'DISCHARGED',\n       'SURVIVED', 'STILL_IN', 'READMITTED', 'ADMISSION_NB', 'AGE_GROUP',\n       'AGE_GROUP_2', 'COPD', 'ASTHMA', 'ILD', 'BRONCHIECTASIS',\n       'HYPERTENSION', 'THROMBOEMBOLIC', 'CARDIAC_D', 'RENAL_D', 'LIVER_D',\n       'NEURAL_D', 'META_SOLID_TUMOUR', 'MAGLINANT_NEO', 'DIABETES', 'OBESITY',\n       'HIV', 'RHEUMATO_D', 'DIMENTIA', 'IMMUNO', 'NB_COMOR',\n       'SYMPTOM_ONSET_DATE', 'ADMISSION_DAY_SINCE_ONSET', 'SPECIMEN_DATE',\n       'SPECIMEN_DAY_SINCE_ADMISSION', 'SPECIMENT_DAY_SINCE_ONSET',\n       'PARAMETER', 'meanValue'],\n      dtype='object')"
     },
     "execution_count": 559,
     "metadata": {},
     "output_type": "execute_result"
    }
   ],
   "source": [
    "dfMelted.columns"
   ],
   "metadata": {
    "collapsed": false,
    "pycharm": {
     "name": "#%%\n"
    }
   }
  },
  {
   "cell_type": "code",
   "execution_count": 560,
   "outputs": [
    {
     "data": {
      "text/plain": "  SPECIMEN_DATE  SPECIMEN_DAY_SINCE_ADMISSION  SPECIMENT_DAY_SINCE_ONSET\n0    2020-03-26                           0.0                        5.0\n1    2020-03-27                           1.0                        6.0\n2    2020-03-28                           2.0                        7.0\n3    2020-03-29                           3.0                        8.0\n4    2020-03-30                           4.0                        9.0",
      "text/html": "<div>\n<style scoped>\n    .dataframe tbody tr th:only-of-type {\n        vertical-align: middle;\n    }\n\n    .dataframe tbody tr th {\n        vertical-align: top;\n    }\n\n    .dataframe thead th {\n        text-align: right;\n    }\n</style>\n<table border=\"1\" class=\"dataframe\">\n  <thead>\n    <tr style=\"text-align: right;\">\n      <th></th>\n      <th>SPECIMEN_DATE</th>\n      <th>SPECIMEN_DAY_SINCE_ADMISSION</th>\n      <th>SPECIMENT_DAY_SINCE_ONSET</th>\n    </tr>\n  </thead>\n  <tbody>\n    <tr>\n      <th>0</th>\n      <td>2020-03-26</td>\n      <td>0.0</td>\n      <td>5.0</td>\n    </tr>\n    <tr>\n      <th>1</th>\n      <td>2020-03-27</td>\n      <td>1.0</td>\n      <td>6.0</td>\n    </tr>\n    <tr>\n      <th>2</th>\n      <td>2020-03-28</td>\n      <td>2.0</td>\n      <td>7.0</td>\n    </tr>\n    <tr>\n      <th>3</th>\n      <td>2020-03-29</td>\n      <td>3.0</td>\n      <td>8.0</td>\n    </tr>\n    <tr>\n      <th>4</th>\n      <td>2020-03-30</td>\n      <td>4.0</td>\n      <td>9.0</td>\n    </tr>\n  </tbody>\n</table>\n</div>"
     },
     "execution_count": 560,
     "metadata": {},
     "output_type": "execute_result"
    }
   ],
   "source": [
    "dfMelted[['SPECIMEN_DATE','SPECIMEN_DAY_SINCE_ADMISSION', 'SPECIMENT_DAY_SINCE_ONSET']].head()"
   ],
   "metadata": {
    "collapsed": false,
    "pycharm": {
     "name": "#%%\n"
    }
   }
  },
  {
   "cell_type": "code",
   "execution_count": 560,
   "outputs": [],
   "source": [],
   "metadata": {
    "collapsed": false,
    "pycharm": {
     "name": "#%%\n"
    }
   }
  },
  {
   "cell_type": "markdown",
   "source": [
    "## Etnicity"
   ],
   "metadata": {
    "collapsed": false
   }
  },
  {
   "cell_type": "code",
   "execution_count": 561,
   "outputs": [
    {
     "data": {
      "text/plain": "Index(['STUDY_ID', 'PATIENT_AGE', 'DOB', 'DATE_OF_DEATH', 'DOD_DATE', 'GENDER',\n       'ETHNIC_GROUP', 'SMOKING_HISTORY', 'POSTCODE', 'IS_PREGNANT', 'HEIG',\n       'WEIG', 'BMI', 'FIRST_POS_DATE', 'FIRST_POS_DATE_R', 'FIRST_POS_TIME_R',\n       'ADMIT_DATETIME', 'ADM_DATE_R', 'ADM_TIME_R', 'DISCHARGEDATE',\n       'DISCHARGE_DATE_R', 'DISCHARGE_TIME_R', 'LOS', 'LOS_PREPOS', 'READM28',\n       'READM_DATETIME', 'READM_DATE', 'READM_TIME'],\n      dtype='object')"
     },
     "execution_count": 561,
     "metadata": {},
     "output_type": "execute_result"
    }
   ],
   "source": [
    "fpEthinc = \"C:\\Work\\dev\\dECMT_src\\data_all\\COVID19_Data\\Current\\REACT_Demographics.csv\"\n",
    "# ethnicity\n",
    "dfEthnic = pd.read_csv(fpEthinc)\n",
    "dfEthnic.head()\n",
    "dfEthnic.columns"
   ],
   "metadata": {
    "collapsed": false,
    "pycharm": {
     "name": "#%%\n"
    }
   }
  },
  {
   "cell_type": "code",
   "execution_count": 562,
   "outputs": [],
   "source": [
    "dfEthnicOnly = dfEthnic[['STUDY_ID','ETHNIC_GROUP']]"
   ],
   "metadata": {
    "collapsed": false,
    "pycharm": {
     "name": "#%%\n"
    }
   }
  },
  {
   "cell_type": "code",
   "execution_count": 563,
   "outputs": [
    {
     "data": {
      "text/plain": "264826"
     },
     "execution_count": 563,
     "metadata": {},
     "output_type": "execute_result"
    }
   ],
   "source": [
    "len(dfMelted)"
   ],
   "metadata": {
    "collapsed": false,
    "pycharm": {
     "name": "#%%\n"
    }
   }
  },
  {
   "cell_type": "code",
   "execution_count": 564,
   "outputs": [
    {
     "data": {
      "text/plain": "264826"
     },
     "execution_count": 564,
     "metadata": {},
     "output_type": "execute_result"
    }
   ],
   "source": [
    "dfMelted = pd.merge(dfMelted,dfEthnicOnly,on='STUDY_ID',how='left')\n",
    "len(dfMelted)"
   ],
   "metadata": {
    "collapsed": false,
    "pycharm": {
     "name": "#%%\n"
    }
   }
  },
  {
   "cell_type": "code",
   "execution_count": 565,
   "outputs": [
    {
     "data": {
      "text/plain": "A    194616\nL     14416\nZ      7922\nC      7140\nN      6970\nX      5474\nS      4522\nG      3740\nE      3536\nH      2652\nP      1768\nJ      1394\nD       816\nR       340\nM       238\nB       204\nK       204\nName: ETHNIC_GROUP, dtype: int64"
     },
     "execution_count": 565,
     "metadata": {},
     "output_type": "execute_result"
    }
   ],
   "source": [
    "dfMelted['ETHNIC_GROUP'].value_counts()"
   ],
   "metadata": {
    "collapsed": false,
    "pycharm": {
     "name": "#%%\n"
    }
   }
  },
  {
   "cell_type": "code",
   "execution_count": 566,
   "outputs": [
    {
     "data": {
      "text/plain": "Index(['STUDY_ID', 'PATIENT_AGE', 'DOB', 'DATE_OF_DEATH', 'DOD_DATE', 'GENDER',\n       'ETHNIC_GROUP', 'SMOKING_HISTORY', 'POSTCODE', 'IS_PREGNANT', 'HEIG',\n       'WEIG', 'BMI', 'FIRST_POS_DATE', 'FIRST_POS_DATE_R', 'FIRST_POS_TIME_R',\n       'ADMIT_DATETIME', 'ADM_DATE_R', 'ADM_TIME_R', 'DISCHARGEDATE',\n       'DISCHARGE_DATE_R', 'DISCHARGE_TIME_R', 'LOS', 'LOS_PREPOS', 'READM28',\n       'READM_DATETIME', 'READM_DATE', 'READM_TIME'],\n      dtype='object')"
     },
     "execution_count": 566,
     "metadata": {},
     "output_type": "execute_result"
    }
   ],
   "source": [
    "dfEthnic.columns"
   ],
   "metadata": {
    "collapsed": false,
    "pycharm": {
     "name": "#%%\n"
    }
   }
  },
  {
   "cell_type": "code",
   "execution_count": 567,
   "outputs": [],
   "source": [
    "# dfMelted = dfMelted['ETHNIC_GROUP']"
   ],
   "metadata": {
    "collapsed": false,
    "pycharm": {
     "name": "#%%\n"
    }
   }
  },
  {
   "cell_type": "code",
   "execution_count": 568,
   "outputs": [
    {
     "data": {
      "text/plain": "   Unnamed: 0           STUDY_ID ADMISSION_START_DATE ADMISSION_END_DATE  \\\n0           0  UHSCOVID_00989a42           2020-03-26         2020-04-02   \n1           1  UHSCOVID_00989a42           2020-03-26         2020-04-02   \n2           2  UHSCOVID_00989a42           2020-03-26         2020-04-02   \n3           3  UHSCOVID_00989a42           2020-03-26         2020-04-02   \n4           4  UHSCOVID_00989a42           2020-03-26         2020-04-02   \n\n  ITU_START_DATE ITU_END_DATE INVASIVE_VENTILATION_START_DATE  \\\n0            NaN          NaN                             NaN   \n1            NaN          NaN                             NaN   \n2            NaN          NaN                             NaN   \n3            NaN          NaN                             NaN   \n4            NaN          NaN                             NaN   \n\n  INVASIVE_VENTILATION_END_DATE NIV_START_DATE NIV_END_DATE  ... IMMUNO  \\\n0                           NaN            NaN          NaN  ...    0.0   \n1                           NaN            NaN          NaN  ...    0.0   \n2                           NaN            NaN          NaN  ...    0.0   \n3                           NaN            NaN          NaN  ...    0.0   \n4                           NaN            NaN          NaN  ...    0.0   \n\n  NB_COMOR  SYMPTOM_ONSET_DATE  ADMISSION_DAY_SINCE_ONSET  SPECIMEN_DATE  \\\n0      4.0          2020-03-21                        5.0     2020-03-26   \n1      4.0          2020-03-21                        5.0     2020-03-27   \n2      4.0          2020-03-21                        5.0     2020-03-28   \n3      4.0          2020-03-21                        5.0     2020-03-29   \n4      4.0          2020-03-21                        5.0     2020-03-30   \n\n   SPECIMEN_DAY_SINCE_ADMISSION  SPECIMENT_DAY_SINCE_ONSET  PARAMETER  \\\n0                           0.0                        5.0        ALT   \n1                           1.0                        6.0        ALT   \n2                           2.0                        7.0        ALT   \n3                           3.0                        8.0        ALT   \n4                           4.0                        9.0        ALT   \n\n   meanValue  ETHNIC_GROUP  \n0        NaN             A  \n1        NaN             A  \n2        NaN             A  \n3       23.0             A  \n4        NaN             A  \n\n[5 rows x 67 columns]",
      "text/html": "<div>\n<style scoped>\n    .dataframe tbody tr th:only-of-type {\n        vertical-align: middle;\n    }\n\n    .dataframe tbody tr th {\n        vertical-align: top;\n    }\n\n    .dataframe thead th {\n        text-align: right;\n    }\n</style>\n<table border=\"1\" class=\"dataframe\">\n  <thead>\n    <tr style=\"text-align: right;\">\n      <th></th>\n      <th>Unnamed: 0</th>\n      <th>STUDY_ID</th>\n      <th>ADMISSION_START_DATE</th>\n      <th>ADMISSION_END_DATE</th>\n      <th>ITU_START_DATE</th>\n      <th>ITU_END_DATE</th>\n      <th>INVASIVE_VENTILATION_START_DATE</th>\n      <th>INVASIVE_VENTILATION_END_DATE</th>\n      <th>NIV_START_DATE</th>\n      <th>NIV_END_DATE</th>\n      <th>...</th>\n      <th>IMMUNO</th>\n      <th>NB_COMOR</th>\n      <th>SYMPTOM_ONSET_DATE</th>\n      <th>ADMISSION_DAY_SINCE_ONSET</th>\n      <th>SPECIMEN_DATE</th>\n      <th>SPECIMEN_DAY_SINCE_ADMISSION</th>\n      <th>SPECIMENT_DAY_SINCE_ONSET</th>\n      <th>PARAMETER</th>\n      <th>meanValue</th>\n      <th>ETHNIC_GROUP</th>\n    </tr>\n  </thead>\n  <tbody>\n    <tr>\n      <th>0</th>\n      <td>0</td>\n      <td>UHSCOVID_00989a42</td>\n      <td>2020-03-26</td>\n      <td>2020-04-02</td>\n      <td>NaN</td>\n      <td>NaN</td>\n      <td>NaN</td>\n      <td>NaN</td>\n      <td>NaN</td>\n      <td>NaN</td>\n      <td>...</td>\n      <td>0.0</td>\n      <td>4.0</td>\n      <td>2020-03-21</td>\n      <td>5.0</td>\n      <td>2020-03-26</td>\n      <td>0.0</td>\n      <td>5.0</td>\n      <td>ALT</td>\n      <td>NaN</td>\n      <td>A</td>\n    </tr>\n    <tr>\n      <th>1</th>\n      <td>1</td>\n      <td>UHSCOVID_00989a42</td>\n      <td>2020-03-26</td>\n      <td>2020-04-02</td>\n      <td>NaN</td>\n      <td>NaN</td>\n      <td>NaN</td>\n      <td>NaN</td>\n      <td>NaN</td>\n      <td>NaN</td>\n      <td>...</td>\n      <td>0.0</td>\n      <td>4.0</td>\n      <td>2020-03-21</td>\n      <td>5.0</td>\n      <td>2020-03-27</td>\n      <td>1.0</td>\n      <td>6.0</td>\n      <td>ALT</td>\n      <td>NaN</td>\n      <td>A</td>\n    </tr>\n    <tr>\n      <th>2</th>\n      <td>2</td>\n      <td>UHSCOVID_00989a42</td>\n      <td>2020-03-26</td>\n      <td>2020-04-02</td>\n      <td>NaN</td>\n      <td>NaN</td>\n      <td>NaN</td>\n      <td>NaN</td>\n      <td>NaN</td>\n      <td>NaN</td>\n      <td>...</td>\n      <td>0.0</td>\n      <td>4.0</td>\n      <td>2020-03-21</td>\n      <td>5.0</td>\n      <td>2020-03-28</td>\n      <td>2.0</td>\n      <td>7.0</td>\n      <td>ALT</td>\n      <td>NaN</td>\n      <td>A</td>\n    </tr>\n    <tr>\n      <th>3</th>\n      <td>3</td>\n      <td>UHSCOVID_00989a42</td>\n      <td>2020-03-26</td>\n      <td>2020-04-02</td>\n      <td>NaN</td>\n      <td>NaN</td>\n      <td>NaN</td>\n      <td>NaN</td>\n      <td>NaN</td>\n      <td>NaN</td>\n      <td>...</td>\n      <td>0.0</td>\n      <td>4.0</td>\n      <td>2020-03-21</td>\n      <td>5.0</td>\n      <td>2020-03-29</td>\n      <td>3.0</td>\n      <td>8.0</td>\n      <td>ALT</td>\n      <td>23.0</td>\n      <td>A</td>\n    </tr>\n    <tr>\n      <th>4</th>\n      <td>4</td>\n      <td>UHSCOVID_00989a42</td>\n      <td>2020-03-26</td>\n      <td>2020-04-02</td>\n      <td>NaN</td>\n      <td>NaN</td>\n      <td>NaN</td>\n      <td>NaN</td>\n      <td>NaN</td>\n      <td>NaN</td>\n      <td>...</td>\n      <td>0.0</td>\n      <td>4.0</td>\n      <td>2020-03-21</td>\n      <td>5.0</td>\n      <td>2020-03-30</td>\n      <td>4.0</td>\n      <td>9.0</td>\n      <td>ALT</td>\n      <td>NaN</td>\n      <td>A</td>\n    </tr>\n  </tbody>\n</table>\n<p>5 rows × 67 columns</p>\n</div>"
     },
     "execution_count": 568,
     "metadata": {},
     "output_type": "execute_result"
    }
   ],
   "source": [
    "dfMelted.head()"
   ],
   "metadata": {
    "collapsed": false,
    "pycharm": {
     "name": "#%%\n"
    }
   }
  },
  {
   "cell_type": "code",
   "execution_count": 569,
   "outputs": [
    {
     "data": {
      "text/plain": "0.0    257618\n1.0      7208\nName: READMITTED, dtype: int64"
     },
     "execution_count": 569,
     "metadata": {},
     "output_type": "execute_result"
    }
   ],
   "source": [
    "dfMelted['READMITTED'].value_counts()"
   ],
   "metadata": {
    "collapsed": false,
    "pycharm": {
     "name": "#%%\n"
    }
   }
  },
  {
   "cell_type": "code",
   "execution_count": 570,
   "outputs": [
    {
     "data": {
      "text/plain": "UHSCOVID_1277db7c    4590\nUHSCOVID_a567e383    4488\nUHSCOVID_beb0ab71    3706\nUHSCOVID_6d0785dc    2686\nUHSCOVID_b8332747    2618\n                     ... \nUHSCOVID_6ac80d6e      34\nUHSCOVID_d9e3a801      34\nUHSCOVID_d321190c      34\nUHSCOVID_bd7219d6      34\nUHSCOVID_9914f990      34\nName: STUDY_ID, Length: 651, dtype: int64"
     },
     "execution_count": 570,
     "metadata": {},
     "output_type": "execute_result"
    }
   ],
   "source": [
    "dfMelted['STUDY_ID'].value_counts()"
   ],
   "metadata": {
    "collapsed": false,
    "pycharm": {
     "name": "#%%\n"
    }
   }
  },
  {
   "cell_type": "code",
   "execution_count": 571,
   "outputs": [
    {
     "data": {
      "text/plain": "651"
     },
     "execution_count": 571,
     "metadata": {},
     "output_type": "execute_result"
    }
   ],
   "source": [
    "len(dfMelted['STUDY_ID'].unique())"
   ],
   "metadata": {
    "collapsed": false,
    "pycharm": {
     "name": "#%%\n"
    }
   }
  },
  {
   "cell_type": "code",
   "execution_count": 571,
   "outputs": [],
   "source": [],
   "metadata": {
    "collapsed": false,
    "pycharm": {
     "name": "#%%\n"
    }
   }
  },
  {
   "cell_type": "code",
   "execution_count": 572,
   "outputs": [],
   "source": [
    "x=dfMelted['ADMISSION_DAY_SINCE_ONSET'].unique()"
   ],
   "metadata": {
    "collapsed": false,
    "pycharm": {
     "name": "#%%\n"
    }
   }
  },
  {
   "cell_type": "code",
   "execution_count": 572,
   "outputs": [],
   "source": [],
   "metadata": {
    "collapsed": false,
    "pycharm": {
     "name": "#%%\n"
    }
   }
  },
  {
   "cell_type": "code",
   "execution_count": 573,
   "outputs": [
    {
     "data": {
      "text/plain": " 0.0     23732\n 4.0     21760\n 7.0     21148\n 14.0    14620\n 1.0     10778\n         ...  \n-22.0      306\n-31.0      306\n 25.0      272\n-26.0      238\n 22.0      136\nName: ADMISSION_DAY_SINCE_ONSET, Length: 62, dtype: int64"
     },
     "execution_count": 573,
     "metadata": {},
     "output_type": "execute_result"
    }
   ],
   "source": [
    "y=dfMelted['ADMISSION_DAY_SINCE_ONSET'].value_counts()\n",
    "y"
   ],
   "metadata": {
    "collapsed": false,
    "pycharm": {
     "name": "#%%\n"
    }
   }
  },
  {
   "cell_type": "code",
   "execution_count": 574,
   "outputs": [
    {
     "data": {
      "text/plain": "Index(['Unnamed: 0', 'STUDY_ID', 'ADMISSION_START_DATE', 'ADMISSION_END_DATE',\n       'ITU_START_DATE', 'ITU_END_DATE', 'INVASIVE_VENTILATION_START_DATE',\n       'INVASIVE_VENTILATION_END_DATE', 'NIV_START_DATE', 'NIV_END_DATE',\n       'C5_START_DATE', 'C5_END_DATE', 'ADMISSION_START_DAY',\n       'ADMISSION_END_DAY', 'ITU_START_DAY', 'ITU_END_DAY',\n       'INVASIVE_VENTILATION_START_DAY', 'INVASIVE_VENTILATION_END_DAY',\n       'NIV_START_DAY', 'NIV_END_DAY', 'C5_START_DAY', 'C5_END_DAY',\n       'PATIENT_AGE', 'GENDER', 'DEATH_DATE', 'DISCHARGE_DATE', 'DEATH_DAY',\n       'DISCHARGE_DAY', 'ITU', 'INV', 'NIV', 'C5', 'DEATH', 'DISCHARGED',\n       'SURVIVED', 'STILL_IN', 'READMITTED', 'ADMISSION_NB', 'AGE_GROUP',\n       'AGE_GROUP_2', 'COPD', 'ASTHMA', 'ILD', 'BRONCHIECTASIS',\n       'HYPERTENSION', 'THROMBOEMBOLIC', 'CARDIAC_D', 'RENAL_D', 'LIVER_D',\n       'NEURAL_D', 'META_SOLID_TUMOUR', 'MAGLINANT_NEO', 'DIABETES', 'OBESITY',\n       'HIV', 'RHEUMATO_D', 'DIMENTIA', 'IMMUNO', 'NB_COMOR',\n       'SYMPTOM_ONSET_DATE', 'ADMISSION_DAY_SINCE_ONSET', 'SPECIMEN_DATE',\n       'SPECIMEN_DAY_SINCE_ADMISSION', 'SPECIMENT_DAY_SINCE_ONSET',\n       'PARAMETER', 'meanValue', 'ETHNIC_GROUP'],\n      dtype='object')"
     },
     "execution_count": 574,
     "metadata": {},
     "output_type": "execute_result"
    }
   ],
   "source": [
    "dfMelted.columns"
   ],
   "metadata": {
    "collapsed": false,
    "pycharm": {
     "name": "#%%\n"
    }
   }
  },
  {
   "cell_type": "code",
   "execution_count": 575,
   "outputs": [
    {
     "data": {
      "text/plain": "(651,)"
     },
     "execution_count": 575,
     "metadata": {},
     "output_type": "execute_result"
    }
   ],
   "source": [
    "dfMelted['STUDY_ID'].unique().shape\n"
   ],
   "metadata": {
    "collapsed": false,
    "pycharm": {
     "name": "#%%\n"
    }
   }
  },
  {
   "cell_type": "code",
   "execution_count": 576,
   "outputs": [
    {
     "data": {
      "text/plain": "(264826, 67)"
     },
     "execution_count": 576,
     "metadata": {},
     "output_type": "execute_result"
    }
   ],
   "source": [
    "dfMelted.shape"
   ],
   "metadata": {
    "collapsed": false,
    "pycharm": {
     "name": "#%%\n"
    }
   }
  },
  {
   "cell_type": "code",
   "execution_count": 577,
   "outputs": [],
   "source": [
    "# type(x)\n",
    "# plt.plot.hist(x)"
   ],
   "metadata": {
    "collapsed": false,
    "pycharm": {
     "name": "#%%\n"
    }
   }
  },
  {
   "cell_type": "code",
   "execution_count": 578,
   "outputs": [
    {
     "data": {
      "text/plain": "Index(['Unnamed: 0', 'STUDY_ID', 'ADMISSION_START_DATE', 'ADMISSION_END_DATE',\n       'ITU_START_DATE', 'ITU_END_DATE', 'INVASIVE_VENTILATION_START_DATE',\n       'INVASIVE_VENTILATION_END_DATE', 'NIV_START_DATE', 'NIV_END_DATE',\n       'C5_START_DATE', 'C5_END_DATE', 'ADMISSION_START_DAY',\n       'ADMISSION_END_DAY', 'ITU_START_DAY', 'ITU_END_DAY',\n       'INVASIVE_VENTILATION_START_DAY', 'INVASIVE_VENTILATION_END_DAY',\n       'NIV_START_DAY', 'NIV_END_DAY', 'C5_START_DAY', 'C5_END_DAY',\n       'PATIENT_AGE', 'GENDER', 'DEATH_DATE', 'DISCHARGE_DATE', 'DEATH_DAY',\n       'DISCHARGE_DAY', 'ITU', 'INV', 'NIV', 'C5', 'DEATH', 'DISCHARGED',\n       'SURVIVED', 'STILL_IN', 'READMITTED', 'ADMISSION_NB', 'AGE_GROUP',\n       'AGE_GROUP_2', 'COPD', 'ASTHMA', 'ILD', 'BRONCHIECTASIS',\n       'HYPERTENSION', 'THROMBOEMBOLIC', 'CARDIAC_D', 'RENAL_D', 'LIVER_D',\n       'NEURAL_D', 'META_SOLID_TUMOUR', 'MAGLINANT_NEO', 'DIABETES', 'OBESITY',\n       'HIV', 'RHEUMATO_D', 'DIMENTIA', 'IMMUNO', 'NB_COMOR',\n       'SYMPTOM_ONSET_DATE', 'ADMISSION_DAY_SINCE_ONSET', 'SPECIMEN_DATE',\n       'SPECIMEN_DAY_SINCE_ADMISSION', 'SPECIMENT_DAY_SINCE_ONSET',\n       'PARAMETER', 'meanValue', 'ETHNIC_GROUP'],\n      dtype='object')"
     },
     "execution_count": 578,
     "metadata": {},
     "output_type": "execute_result"
    }
   ],
   "source": [
    "dfMelted.columns"
   ],
   "metadata": {
    "collapsed": false,
    "pycharm": {
     "name": "#%%\n"
    }
   }
  },
  {
   "cell_type": "code",
   "execution_count": 579,
   "outputs": [
    {
     "data": {
      "text/plain": "(264826, 67)"
     },
     "execution_count": 579,
     "metadata": {},
     "output_type": "execute_result"
    }
   ],
   "source": [
    "dfMelted.shape"
   ],
   "metadata": {
    "collapsed": false,
    "pycharm": {
     "name": "#%%\n"
    }
   }
  },
  {
   "cell_type": "code",
   "execution_count": 580,
   "outputs": [
    {
     "data": {
      "text/plain": "0.0    177990\n1.0     86836\nName: ITU, dtype: int64"
     },
     "execution_count": 580,
     "metadata": {},
     "output_type": "execute_result"
    }
   ],
   "source": [
    "dfMelted['ITU'].value_counts()"
   ],
   "metadata": {
    "collapsed": false,
    "pycharm": {
     "name": "#%%\n"
    }
   }
  },
  {
   "cell_type": "code",
   "execution_count": 581,
   "outputs": [],
   "source": [
    "selectedColsUnique = ['STUDY_ID','ADMISSION_START_DATE','ADMISSION_DAY_SINCE_ONSET', 'SYMPTOM_ONSET_DATE', 'ADMISSION_END_DATE','DEATH_DATE',\n",
    "'DISCHARGE_DATE', 'DEATH', 'DISCHARGED','SURVIVED','READMITTED']\n",
    "\n",
    "selectedCols = ['STUDY_ID','ADMISSION_START_DATE','ADMISSION_DAY_SINCE_ONSET',  'SYMPTOM_ONSET_DATE', 'ADMISSION_END_DATE','DEATH_DATE',\n",
    "'DISCHARGE_DATE', 'DEATH', 'DISCHARGED','SURVIVED','ITU','NIV','READMITTED','PATIENT_AGE', 'GENDER','ASTHMA', 'COPD','BRONCHIECTASIS',\n",
    "       'HYPERTENSION', 'THROMBOEMBOLIC', 'CARDIAC_D', 'RENAL_D', 'LIVER_D',\n",
    "       'NEURAL_D', 'META_SOLID_TUMOUR', 'MAGLINANT_NEO', 'DIABETES', 'OBESITY',\n",
    "       'HIV', 'RHEUMATO_D', 'DIMENTIA', 'IMMUNO', 'NB_COMOR','ETHNIC_GROUP','SPECIMEN_DATE', 'SPECIMEN_DAY_SINCE_ADMISSION', 'SPECIMENT_DAY_SINCE_ONSET',\n",
    "       'PARAMETER', 'meanValue']"
   ],
   "metadata": {
    "collapsed": false,
    "pycharm": {
     "name": "#%%\n"
    }
   }
  },
  {
   "cell_type": "code",
   "execution_count": 582,
   "outputs": [
    {
     "data": {
      "text/plain": "             STUDY_ID ADMISSION_START_DATE  ADMISSION_DAY_SINCE_ONSET  \\\n0   UHSCOVID_00989a42           2020-03-26                        5.0   \n8   UHSCOVID_00ac1e32           2020-04-07                       -4.0   \n51  UHSCOVID_00cb7bdd           2020-04-10                        5.0   \n54  UHSCOVID_01add35c           2020-05-22                        0.0   \n57  UHSCOVID_01f7838d           2020-05-04                       -7.0   \n\n   SYMPTOM_ONSET_DATE ADMISSION_END_DATE  DEATH_DATE DISCHARGE_DATE  DEATH  \\\n0          2020-03-21         2020-04-02         NaN     2020-04-02    0.0   \n8          2020-04-11         2020-05-19         NaN     2020-05-19    0.0   \n51         2020-04-05         2020-04-13  2020-04-13     2020-04-13    1.0   \n54         2020-05-22         2020-05-23  2020-05-27     2020-05-23    1.0   \n57         2020-05-11         2020-05-17         NaN     2020-05-17    0.0   \n\n    DISCHARGED  SURVIVED  ...  RHEUMATO_D  DIMENTIA  IMMUNO  NB_COMOR  \\\n0          1.0       1.0  ...         0.0       0.0     0.0       4.0   \n8          1.0       1.0  ...         0.0       0.0     0.0       1.0   \n51         1.0       0.0  ...         0.0       0.0     0.0       5.0   \n54         1.0       0.0  ...         0.0       0.0     0.0       1.0   \n57         1.0       1.0  ...         0.0       0.0     0.0       5.0   \n\n   ETHNIC_GROUP  SPECIMEN_DATE  SPECIMEN_DAY_SINCE_ADMISSION  \\\n0             A     2020-03-26                           0.0   \n8             A     2020-04-07                           0.0   \n51            A     2020-04-10                           0.0   \n54            A     2020-05-22                           0.0   \n57            A     2020-05-04                           0.0   \n\n    SPECIMENT_DAY_SINCE_ONSET  PARAMETER  meanValue  \n0                         5.0        ALT        NaN  \n8                        -4.0        ALT        NaN  \n51                        5.0        ALT       25.0  \n54                        0.0        ALT        8.0  \n57                       -7.0        ALT        9.0  \n\n[5 rows x 39 columns]",
      "text/html": "<div>\n<style scoped>\n    .dataframe tbody tr th:only-of-type {\n        vertical-align: middle;\n    }\n\n    .dataframe tbody tr th {\n        vertical-align: top;\n    }\n\n    .dataframe thead th {\n        text-align: right;\n    }\n</style>\n<table border=\"1\" class=\"dataframe\">\n  <thead>\n    <tr style=\"text-align: right;\">\n      <th></th>\n      <th>STUDY_ID</th>\n      <th>ADMISSION_START_DATE</th>\n      <th>ADMISSION_DAY_SINCE_ONSET</th>\n      <th>SYMPTOM_ONSET_DATE</th>\n      <th>ADMISSION_END_DATE</th>\n      <th>DEATH_DATE</th>\n      <th>DISCHARGE_DATE</th>\n      <th>DEATH</th>\n      <th>DISCHARGED</th>\n      <th>SURVIVED</th>\n      <th>...</th>\n      <th>RHEUMATO_D</th>\n      <th>DIMENTIA</th>\n      <th>IMMUNO</th>\n      <th>NB_COMOR</th>\n      <th>ETHNIC_GROUP</th>\n      <th>SPECIMEN_DATE</th>\n      <th>SPECIMEN_DAY_SINCE_ADMISSION</th>\n      <th>SPECIMENT_DAY_SINCE_ONSET</th>\n      <th>PARAMETER</th>\n      <th>meanValue</th>\n    </tr>\n  </thead>\n  <tbody>\n    <tr>\n      <th>0</th>\n      <td>UHSCOVID_00989a42</td>\n      <td>2020-03-26</td>\n      <td>5.0</td>\n      <td>2020-03-21</td>\n      <td>2020-04-02</td>\n      <td>NaN</td>\n      <td>2020-04-02</td>\n      <td>0.0</td>\n      <td>1.0</td>\n      <td>1.0</td>\n      <td>...</td>\n      <td>0.0</td>\n      <td>0.0</td>\n      <td>0.0</td>\n      <td>4.0</td>\n      <td>A</td>\n      <td>2020-03-26</td>\n      <td>0.0</td>\n      <td>5.0</td>\n      <td>ALT</td>\n      <td>NaN</td>\n    </tr>\n    <tr>\n      <th>8</th>\n      <td>UHSCOVID_00ac1e32</td>\n      <td>2020-04-07</td>\n      <td>-4.0</td>\n      <td>2020-04-11</td>\n      <td>2020-05-19</td>\n      <td>NaN</td>\n      <td>2020-05-19</td>\n      <td>0.0</td>\n      <td>1.0</td>\n      <td>1.0</td>\n      <td>...</td>\n      <td>0.0</td>\n      <td>0.0</td>\n      <td>0.0</td>\n      <td>1.0</td>\n      <td>A</td>\n      <td>2020-04-07</td>\n      <td>0.0</td>\n      <td>-4.0</td>\n      <td>ALT</td>\n      <td>NaN</td>\n    </tr>\n    <tr>\n      <th>51</th>\n      <td>UHSCOVID_00cb7bdd</td>\n      <td>2020-04-10</td>\n      <td>5.0</td>\n      <td>2020-04-05</td>\n      <td>2020-04-13</td>\n      <td>2020-04-13</td>\n      <td>2020-04-13</td>\n      <td>1.0</td>\n      <td>1.0</td>\n      <td>0.0</td>\n      <td>...</td>\n      <td>0.0</td>\n      <td>0.0</td>\n      <td>0.0</td>\n      <td>5.0</td>\n      <td>A</td>\n      <td>2020-04-10</td>\n      <td>0.0</td>\n      <td>5.0</td>\n      <td>ALT</td>\n      <td>25.0</td>\n    </tr>\n    <tr>\n      <th>54</th>\n      <td>UHSCOVID_01add35c</td>\n      <td>2020-05-22</td>\n      <td>0.0</td>\n      <td>2020-05-22</td>\n      <td>2020-05-23</td>\n      <td>2020-05-27</td>\n      <td>2020-05-23</td>\n      <td>1.0</td>\n      <td>1.0</td>\n      <td>0.0</td>\n      <td>...</td>\n      <td>0.0</td>\n      <td>0.0</td>\n      <td>0.0</td>\n      <td>1.0</td>\n      <td>A</td>\n      <td>2020-05-22</td>\n      <td>0.0</td>\n      <td>0.0</td>\n      <td>ALT</td>\n      <td>8.0</td>\n    </tr>\n    <tr>\n      <th>57</th>\n      <td>UHSCOVID_01f7838d</td>\n      <td>2020-05-04</td>\n      <td>-7.0</td>\n      <td>2020-05-11</td>\n      <td>2020-05-17</td>\n      <td>NaN</td>\n      <td>2020-05-17</td>\n      <td>0.0</td>\n      <td>1.0</td>\n      <td>1.0</td>\n      <td>...</td>\n      <td>0.0</td>\n      <td>0.0</td>\n      <td>0.0</td>\n      <td>5.0</td>\n      <td>A</td>\n      <td>2020-05-04</td>\n      <td>0.0</td>\n      <td>-7.0</td>\n      <td>ALT</td>\n      <td>9.0</td>\n    </tr>\n  </tbody>\n</table>\n<p>5 rows × 39 columns</p>\n</div>"
     },
     "execution_count": 582,
     "metadata": {},
     "output_type": "execute_result"
    }
   ],
   "source": [
    "dfMeltedUnique = dfMelted.drop_duplicates(selectedColsUnique)[selectedCols]\n",
    "dfMeltedUnique.head()"
   ],
   "metadata": {
    "collapsed": false,
    "pycharm": {
     "name": "#%%\n"
    }
   }
  },
  {
   "cell_type": "code",
   "execution_count": 583,
   "outputs": [
    {
     "data": {
      "text/plain": "0.0    545\n1.0    106\nName: NIV, dtype: int64"
     },
     "execution_count": 583,
     "metadata": {},
     "output_type": "execute_result"
    }
   ],
   "source": [
    "dfMeltedUnique['NIV'].value_counts()\n"
   ],
   "metadata": {
    "collapsed": false,
    "pycharm": {
     "name": "#%%\n"
    }
   }
  },
  {
   "cell_type": "code",
   "execution_count": 584,
   "outputs": [],
   "source": [
    "dfMeltedUnique['Death_Discharged_Survived_Str'] = pd.NA\n",
    "dfMeltedUnique['Death_Discharged_Survived'] = pd.NA\n",
    "map1= (dfMeltedUnique['DEATH']==0) & (dfMeltedUnique['DISCHARGED']==1) & (dfMeltedUnique['SURVIVED']==1)\n",
    "dfMeltedUnique.loc[map1,'Death_Discharged_Survived']=0\n",
    "dfMeltedUnique.loc[map1,'Death_Discharged_Survived_Str'] = 'Survived'"
   ],
   "metadata": {
    "collapsed": false,
    "pycharm": {
     "name": "#%%\n"
    }
   }
  },
  {
   "cell_type": "code",
   "execution_count": 585,
   "outputs": [],
   "source": [
    "map2= (dfMeltedUnique['DEATH']==1) & (dfMeltedUnique['DISCHARGED']==0) & (dfMeltedUnique['SURVIVED']==0)\n",
    "dfMeltedUnique.loc[map2,'Death_Discharged_Survived']=1\n",
    "dfMeltedUnique.loc[map2,'Death_Discharged_Survived_Str'] = 'Died in Hospital'"
   ],
   "metadata": {
    "collapsed": false,
    "pycharm": {
     "name": "#%%\n"
    }
   }
  },
  {
   "cell_type": "code",
   "execution_count": 586,
   "outputs": [
    {
     "data": {
      "text/plain": "0    428\n1      1\nName: Death_Discharged_Survived, dtype: int64"
     },
     "execution_count": 586,
     "metadata": {},
     "output_type": "execute_result"
    }
   ],
   "source": [
    "dfMeltedUnique['Death_Discharged_Survived'].value_counts()\n"
   ],
   "metadata": {
    "collapsed": false,
    "pycharm": {
     "name": "#%%\n"
    }
   }
  },
  {
   "cell_type": "code",
   "execution_count": 587,
   "outputs": [
    {
     "data": {
      "text/plain": "Index(['STUDY_ID', 'ADMISSION_START_DATE', 'ADMISSION_DAY_SINCE_ONSET',\n       'SYMPTOM_ONSET_DATE', 'ADMISSION_END_DATE', 'DEATH_DATE',\n       'DISCHARGE_DATE', 'DEATH', 'DISCHARGED', 'SURVIVED', 'ITU', 'NIV',\n       'READMITTED', 'PATIENT_AGE', 'GENDER', 'ASTHMA', 'COPD',\n       'BRONCHIECTASIS', 'HYPERTENSION', 'THROMBOEMBOLIC', 'CARDIAC_D',\n       'RENAL_D', 'LIVER_D', 'NEURAL_D', 'META_SOLID_TUMOUR', 'MAGLINANT_NEO',\n       'DIABETES', 'OBESITY', 'HIV', 'RHEUMATO_D', 'DIMENTIA', 'IMMUNO',\n       'NB_COMOR', 'ETHNIC_GROUP', 'SPECIMEN_DATE',\n       'SPECIMEN_DAY_SINCE_ADMISSION', 'SPECIMENT_DAY_SINCE_ONSET',\n       'PARAMETER', 'meanValue', 'Death_Discharged_Survived_Str',\n       'Death_Discharged_Survived'],\n      dtype='object')"
     },
     "execution_count": 587,
     "metadata": {},
     "output_type": "execute_result"
    }
   ],
   "source": [
    "dfMeltedUnique.columns"
   ],
   "metadata": {
    "collapsed": false,
    "pycharm": {
     "name": "#%%\n"
    }
   }
  },
  {
   "cell_type": "code",
   "execution_count": 588,
   "outputs": [
    {
     "data": {
      "text/plain": "1"
     },
     "execution_count": 588,
     "metadata": {},
     "output_type": "execute_result"
    }
   ],
   "source": [
    "map2.sum()"
   ],
   "metadata": {
    "collapsed": false,
    "pycharm": {
     "name": "#%%\n"
    }
   }
  },
  {
   "cell_type": "code",
   "execution_count": 589,
   "outputs": [],
   "source": [
    "dfMeltedUnique['Discharged_Readmitted_Died']=\"Missing\" #\"Unknown\"\n",
    "dfMeltedUnique.loc[(dfMeltedUnique['DISCHARGED']==1),'Discharged_Readmitted_Died']= \"Discharged\"\n",
    "dfMeltedUnique.loc[(dfMeltedUnique['READMITTED']==1),'Discharged_Readmitted_Died']= \"Readmitted\"\n",
    "dfMeltedUnique.loc[(dfMeltedUnique['DEATH']==1),'Discharged_Readmitted_Died']= \"Died\"\n",
    "\n",
    "# map3 = (dfMeltedUnique['DEATH']==1) & (dfMeltedUnique['DISCHARGED']==1) & (dfMeltedUnique['SURVIVED']==0)\n",
    "# dfMeltedUnique.loc[map3,'Discharged_Readmitted_Died']=2\n",
    "# dfMeltedUnique.loc[map3,'Discharged_Readmitted_Died'] = 'Discharged and Died'"
   ],
   "metadata": {
    "collapsed": false,
    "pycharm": {
     "name": "#%%\n"
    }
   }
  },
  {
   "cell_type": "code",
   "execution_count": 590,
   "outputs": [
    {
     "data": {
      "text/plain": "Discharged    419\nDied          216\nReadmitted      9\nMissing         7\nName: Discharged_Readmitted_Died, dtype: int64"
     },
     "execution_count": 590,
     "metadata": {},
     "output_type": "execute_result"
    }
   ],
   "source": [
    "dfMeltedUnique['Discharged_Readmitted_Died'].value_counts()\n"
   ],
   "metadata": {
    "collapsed": false,
    "pycharm": {
     "name": "#%%\n"
    }
   }
  },
  {
   "cell_type": "code",
   "execution_count": 591,
   "outputs": [
    {
     "data": {
      "text/plain": "array(['Discharged', 'Died', 'Readmitted', 'Missing'], dtype=object)"
     },
     "execution_count": 591,
     "metadata": {},
     "output_type": "execute_result"
    }
   ],
   "source": [
    "dfMeltedUnique['Discharged_Readmitted_Died'].unique()"
   ],
   "metadata": {
    "collapsed": false,
    "pycharm": {
     "name": "#%%\n"
    }
   }
  },
  {
   "cell_type": "code",
   "execution_count": 592,
   "outputs": [],
   "source": [
    "# Died in Hospital, Died at Home, Survived"
   ],
   "metadata": {
    "collapsed": false,
    "pycharm": {
     "name": "#%%\n"
    }
   }
  },
  {
   "cell_type": "code",
   "execution_count": 593,
   "outputs": [],
   "source": [
    "dfMeltedUnique['Died_in_Hosp_or_Discharged_or_Survived_Str']=pd.NA"
   ],
   "metadata": {
    "collapsed": false,
    "pycharm": {
     "name": "#%%\n"
    }
   }
  },
  {
   "cell_type": "code",
   "execution_count": 593,
   "outputs": [],
   "source": [],
   "metadata": {
    "collapsed": false,
    "pycharm": {
     "name": "#%%\n"
    }
   }
  },
  {
   "cell_type": "code",
   "execution_count": 594,
   "outputs": [],
   "source": [
    "# Died in Hospital, Died at Home, Survived"
   ],
   "metadata": {
    "collapsed": false,
    "pycharm": {
     "name": "#%%\n"
    }
   }
  },
  {
   "cell_type": "code",
   "execution_count": 595,
   "outputs": [],
   "source": [
    "dfMeltedUnique['Died_or_Survived_Str']=pd.NA"
   ],
   "metadata": {
    "collapsed": false,
    "pycharm": {
     "name": "#%%\n"
    }
   }
  },
  {
   "cell_type": "code",
   "execution_count": 596,
   "outputs": [],
   "source": [
    "dfMeltedUnique['Died_or_Survived'] = dfMeltedUnique['DEATH']"
   ],
   "metadata": {
    "collapsed": false,
    "pycharm": {
     "name": "#%%\n"
    }
   }
  },
  {
   "cell_type": "code",
   "execution_count": 597,
   "outputs": [],
   "source": [
    "mapDied= dfMeltedUnique['DEATH']==1\n",
    "dfMeltedUnique.loc[mapDied,'Died_or_Survived_Str']='Died'"
   ],
   "metadata": {
    "collapsed": false,
    "pycharm": {
     "name": "#%%\n"
    }
   }
  },
  {
   "cell_type": "code",
   "execution_count": 598,
   "outputs": [],
   "source": [
    "mapSurvived = dfMeltedUnique['DEATH']==0\n",
    "dfMeltedUnique.loc[mapSurvived,'Died_or_Survived_Str']='Survived'"
   ],
   "metadata": {
    "collapsed": false,
    "pycharm": {
     "name": "#%%\n"
    }
   }
  },
  {
   "cell_type": "code",
   "execution_count": 599,
   "outputs": [
    {
     "data": {
      "text/plain": "0.0    435\n1.0    216\nName: Died_or_Survived, dtype: int64"
     },
     "execution_count": 599,
     "metadata": {},
     "output_type": "execute_result"
    }
   ],
   "source": [
    "cc = dfMeltedUnique['Died_or_Survived'].value_counts()\n",
    "cc"
   ],
   "metadata": {
    "collapsed": false,
    "pycharm": {
     "name": "#%%\n"
    }
   }
  },
  {
   "cell_type": "code",
   "execution_count": 600,
   "outputs": [
    {
     "data": {
      "text/plain": "pandas.core.series.Series"
     },
     "execution_count": 600,
     "metadata": {},
     "output_type": "execute_result"
    }
   ],
   "source": [
    "type(cc)"
   ],
   "metadata": {
    "collapsed": false,
    "pycharm": {
     "name": "#%%\n"
    }
   }
  },
  {
   "cell_type": "code",
   "execution_count": 601,
   "outputs": [
    {
     "data": {
      "text/plain": "             STUDY_ID ADMISSION_START_DATE  ADMISSION_DAY_SINCE_ONSET  \\\n0   UHSCOVID_00989a42           2020-03-26                        5.0   \n8   UHSCOVID_00ac1e32           2020-04-07                       -4.0   \n51  UHSCOVID_00cb7bdd           2020-04-10                        5.0   \n54  UHSCOVID_01add35c           2020-05-22                        0.0   \n57  UHSCOVID_01f7838d           2020-05-04                       -7.0   \n\n   SYMPTOM_ONSET_DATE ADMISSION_END_DATE  DEATH_DATE DISCHARGE_DATE  DEATH  \\\n0          2020-03-21         2020-04-02         NaN     2020-04-02    0.0   \n8          2020-04-11         2020-05-19         NaN     2020-05-19    0.0   \n51         2020-04-05         2020-04-13  2020-04-13     2020-04-13    1.0   \n54         2020-05-22         2020-05-23  2020-05-27     2020-05-23    1.0   \n57         2020-05-11         2020-05-17         NaN     2020-05-17    0.0   \n\n    DISCHARGED  SURVIVED  ...  SPECIMEN_DAY_SINCE_ADMISSION  \\\n0          1.0       1.0  ...                           0.0   \n8          1.0       1.0  ...                           0.0   \n51         1.0       0.0  ...                           0.0   \n54         1.0       0.0  ...                           0.0   \n57         1.0       1.0  ...                           0.0   \n\n    SPECIMENT_DAY_SINCE_ONSET  PARAMETER  meanValue  \\\n0                         5.0        ALT        NaN   \n8                        -4.0        ALT        NaN   \n51                        5.0        ALT       25.0   \n54                        0.0        ALT        8.0   \n57                       -7.0        ALT        9.0   \n\n   Death_Discharged_Survived_Str  Death_Discharged_Survived  \\\n0                       Survived                          0   \n8                       Survived                          0   \n51                          <NA>                       <NA>   \n54                          <NA>                       <NA>   \n57                      Survived                          0   \n\n    Discharged_Readmitted_Died  Died_in_Hosp_or_Discharged_or_Survived_Str  \\\n0                   Discharged                                        <NA>   \n8                   Discharged                                        <NA>   \n51                        Died                                        <NA>   \n54                        Died                                        <NA>   \n57                  Discharged                                        <NA>   \n\n    Died_or_Survived_Str  Died_or_Survived  \n0               Survived               0.0  \n8               Survived               0.0  \n51                  Died               1.0  \n54                  Died               1.0  \n57              Survived               0.0  \n\n[5 rows x 45 columns]",
      "text/html": "<div>\n<style scoped>\n    .dataframe tbody tr th:only-of-type {\n        vertical-align: middle;\n    }\n\n    .dataframe tbody tr th {\n        vertical-align: top;\n    }\n\n    .dataframe thead th {\n        text-align: right;\n    }\n</style>\n<table border=\"1\" class=\"dataframe\">\n  <thead>\n    <tr style=\"text-align: right;\">\n      <th></th>\n      <th>STUDY_ID</th>\n      <th>ADMISSION_START_DATE</th>\n      <th>ADMISSION_DAY_SINCE_ONSET</th>\n      <th>SYMPTOM_ONSET_DATE</th>\n      <th>ADMISSION_END_DATE</th>\n      <th>DEATH_DATE</th>\n      <th>DISCHARGE_DATE</th>\n      <th>DEATH</th>\n      <th>DISCHARGED</th>\n      <th>SURVIVED</th>\n      <th>...</th>\n      <th>SPECIMEN_DAY_SINCE_ADMISSION</th>\n      <th>SPECIMENT_DAY_SINCE_ONSET</th>\n      <th>PARAMETER</th>\n      <th>meanValue</th>\n      <th>Death_Discharged_Survived_Str</th>\n      <th>Death_Discharged_Survived</th>\n      <th>Discharged_Readmitted_Died</th>\n      <th>Died_in_Hosp_or_Discharged_or_Survived_Str</th>\n      <th>Died_or_Survived_Str</th>\n      <th>Died_or_Survived</th>\n    </tr>\n  </thead>\n  <tbody>\n    <tr>\n      <th>0</th>\n      <td>UHSCOVID_00989a42</td>\n      <td>2020-03-26</td>\n      <td>5.0</td>\n      <td>2020-03-21</td>\n      <td>2020-04-02</td>\n      <td>NaN</td>\n      <td>2020-04-02</td>\n      <td>0.0</td>\n      <td>1.0</td>\n      <td>1.0</td>\n      <td>...</td>\n      <td>0.0</td>\n      <td>5.0</td>\n      <td>ALT</td>\n      <td>NaN</td>\n      <td>Survived</td>\n      <td>0</td>\n      <td>Discharged</td>\n      <td>&lt;NA&gt;</td>\n      <td>Survived</td>\n      <td>0.0</td>\n    </tr>\n    <tr>\n      <th>8</th>\n      <td>UHSCOVID_00ac1e32</td>\n      <td>2020-04-07</td>\n      <td>-4.0</td>\n      <td>2020-04-11</td>\n      <td>2020-05-19</td>\n      <td>NaN</td>\n      <td>2020-05-19</td>\n      <td>0.0</td>\n      <td>1.0</td>\n      <td>1.0</td>\n      <td>...</td>\n      <td>0.0</td>\n      <td>-4.0</td>\n      <td>ALT</td>\n      <td>NaN</td>\n      <td>Survived</td>\n      <td>0</td>\n      <td>Discharged</td>\n      <td>&lt;NA&gt;</td>\n      <td>Survived</td>\n      <td>0.0</td>\n    </tr>\n    <tr>\n      <th>51</th>\n      <td>UHSCOVID_00cb7bdd</td>\n      <td>2020-04-10</td>\n      <td>5.0</td>\n      <td>2020-04-05</td>\n      <td>2020-04-13</td>\n      <td>2020-04-13</td>\n      <td>2020-04-13</td>\n      <td>1.0</td>\n      <td>1.0</td>\n      <td>0.0</td>\n      <td>...</td>\n      <td>0.0</td>\n      <td>5.0</td>\n      <td>ALT</td>\n      <td>25.0</td>\n      <td>&lt;NA&gt;</td>\n      <td>&lt;NA&gt;</td>\n      <td>Died</td>\n      <td>&lt;NA&gt;</td>\n      <td>Died</td>\n      <td>1.0</td>\n    </tr>\n    <tr>\n      <th>54</th>\n      <td>UHSCOVID_01add35c</td>\n      <td>2020-05-22</td>\n      <td>0.0</td>\n      <td>2020-05-22</td>\n      <td>2020-05-23</td>\n      <td>2020-05-27</td>\n      <td>2020-05-23</td>\n      <td>1.0</td>\n      <td>1.0</td>\n      <td>0.0</td>\n      <td>...</td>\n      <td>0.0</td>\n      <td>0.0</td>\n      <td>ALT</td>\n      <td>8.0</td>\n      <td>&lt;NA&gt;</td>\n      <td>&lt;NA&gt;</td>\n      <td>Died</td>\n      <td>&lt;NA&gt;</td>\n      <td>Died</td>\n      <td>1.0</td>\n    </tr>\n    <tr>\n      <th>57</th>\n      <td>UHSCOVID_01f7838d</td>\n      <td>2020-05-04</td>\n      <td>-7.0</td>\n      <td>2020-05-11</td>\n      <td>2020-05-17</td>\n      <td>NaN</td>\n      <td>2020-05-17</td>\n      <td>0.0</td>\n      <td>1.0</td>\n      <td>1.0</td>\n      <td>...</td>\n      <td>0.0</td>\n      <td>-7.0</td>\n      <td>ALT</td>\n      <td>9.0</td>\n      <td>Survived</td>\n      <td>0</td>\n      <td>Discharged</td>\n      <td>&lt;NA&gt;</td>\n      <td>Survived</td>\n      <td>0.0</td>\n    </tr>\n  </tbody>\n</table>\n<p>5 rows × 45 columns</p>\n</div>"
     },
     "execution_count": 601,
     "metadata": {},
     "output_type": "execute_result"
    }
   ],
   "source": [
    "dfMeltedUnique.head()"
   ],
   "metadata": {
    "collapsed": false,
    "pycharm": {
     "name": "#%%\n"
    }
   }
  },
  {
   "cell_type": "code",
   "execution_count": 602,
   "outputs": [
    {
     "data": {
      "text/plain": "Index(['STUDY_ID', 'ADMISSION_START_DATE', 'ADMISSION_DAY_SINCE_ONSET',\n       'SYMPTOM_ONSET_DATE', 'ADMISSION_END_DATE', 'DEATH_DATE',\n       'DISCHARGE_DATE', 'DEATH', 'DISCHARGED', 'SURVIVED', 'ITU', 'NIV',\n       'READMITTED', 'PATIENT_AGE', 'GENDER', 'ASTHMA', 'COPD',\n       'BRONCHIECTASIS', 'HYPERTENSION', 'THROMBOEMBOLIC', 'CARDIAC_D',\n       'RENAL_D', 'LIVER_D', 'NEURAL_D', 'META_SOLID_TUMOUR', 'MAGLINANT_NEO',\n       'DIABETES', 'OBESITY', 'HIV', 'RHEUMATO_D', 'DIMENTIA', 'IMMUNO',\n       'NB_COMOR', 'ETHNIC_GROUP', 'SPECIMEN_DATE',\n       'SPECIMEN_DAY_SINCE_ADMISSION', 'SPECIMENT_DAY_SINCE_ONSET',\n       'PARAMETER', 'meanValue', 'Death_Discharged_Survived_Str',\n       'Death_Discharged_Survived', 'Discharged_Readmitted_Died',\n       'Died_in_Hosp_or_Discharged_or_Survived_Str', 'Died_or_Survived_Str',\n       'Died_or_Survived'],\n      dtype='object')"
     },
     "execution_count": 602,
     "metadata": {},
     "output_type": "execute_result"
    }
   ],
   "source": [
    "dfMeltedUnique.columns"
   ],
   "metadata": {
    "collapsed": false,
    "pycharm": {
     "name": "#%%\n"
    }
   }
  },
  {
   "cell_type": "code",
   "execution_count": 603,
   "outputs": [
    {
     "data": {
      "text/plain": "0       64.0\n8       73.0\n51      76.0\n54      67.0\n57      97.0\n        ... \n7754    47.0\n7759    70.0\n7764    67.0\n7778    88.0\n7787    57.0\nName: PATIENT_AGE, Length: 651, dtype: float64"
     },
     "execution_count": 603,
     "metadata": {},
     "output_type": "execute_result"
    }
   ],
   "source": [
    "dfMeltedUnique['PATIENT_AGE']"
   ],
   "metadata": {
    "collapsed": false,
    "pycharm": {
     "name": "#%%\n"
    }
   }
  },
  {
   "cell_type": "code",
   "execution_count": 604,
   "outputs": [
    {
     "data": {
      "text/plain": "{0: 'Early Presenters', 1: 'Late Presenters', 2: 'Hospital Equired'}"
     },
     "execution_count": 604,
     "metadata": {},
     "output_type": "execute_result"
    }
   ],
   "source": [
    "# dictPresenterType3C = {'(-7,0] Early':0,'>7days Late':1,'<0 days (Hospital)':2}\n",
    "dictPresenterType3C = {'Early Presenters':0,'Late Presenters':1,'Hospital Equired':2}\n",
    "dictPresenterType3CReversed = {v:k for k,v in dictPresenterType3C.items()}\n",
    "dictPresenterType3CReversed"
   ],
   "metadata": {
    "collapsed": false,
    "pycharm": {
     "name": "#%%\n"
    }
   }
  },
  {
   "cell_type": "code",
   "execution_count": 605,
   "outputs": [],
   "source": [
    "dfMeltedUnique['Onset Time']=pd.NA\n",
    "dfMeltedUnique['Symptoms onset']='Unknown'"
   ],
   "metadata": {
    "collapsed": false,
    "pycharm": {
     "name": "#%%\n"
    }
   }
  },
  {
   "cell_type": "code",
   "execution_count": 606,
   "outputs": [],
   "source": [
    "mp1= (dfMeltedUnique['ADMISSION_DAY_SINCE_ONSET']<=7) & (dfMeltedUnique['ADMISSION_DAY_SINCE_ONSET']>=0)\n",
    "epS = 'Early Presenters'\n",
    "epVal = dictPresenterType3C.get(epS)\n",
    "dfMeltedUnique.loc[mp1,'Onset Time'] = epVal\n",
    "dfMeltedUnique.loc[mp1,'Symptoms onset']= dictPresenterType3CReversed[epVal]"
   ],
   "metadata": {
    "collapsed": false,
    "pycharm": {
     "name": "#%%\n"
    }
   }
  },
  {
   "cell_type": "code",
   "execution_count": 607,
   "outputs": [],
   "source": [
    "#{'Early Presenters':0,'Late Presenters':1,'Hospital Equired':2}"
   ],
   "metadata": {
    "collapsed": false,
    "pycharm": {
     "name": "#%%\n"
    }
   }
  },
  {
   "cell_type": "code",
   "execution_count": 608,
   "outputs": [],
   "source": [
    "mp2= (dfMeltedUnique['ADMISSION_DAY_SINCE_ONSET']>7)\n",
    "epS = 'Late Presenters'\n",
    "epVal = dictPresenterType3C.get(epS)\n",
    "dfMeltedUnique.loc[mp2,'Onset Time'] = epVal\n",
    "dfMeltedUnique.loc[mp2,'Symptoms onset']= dictPresenterType3CReversed[epVal]"
   ],
   "metadata": {
    "collapsed": false,
    "pycharm": {
     "name": "#%%\n"
    }
   }
  },
  {
   "cell_type": "code",
   "execution_count": 609,
   "outputs": [],
   "source": [
    "mp3= dfMeltedUnique['ADMISSION_DAY_SINCE_ONSET']<0\n",
    "epS = 'Hospital Equired'\n",
    "epVal = dictPresenterType3C.get(epS)\n",
    "dfMeltedUnique.loc[mp3,'Onset Time'] = epVal\n",
    "dfMeltedUnique.loc[mp3,'Symptoms onset']= dictPresenterType3CReversed[epVal]"
   ],
   "metadata": {
    "collapsed": false,
    "pycharm": {
     "name": "#%%\n"
    }
   }
  },
  {
   "cell_type": "code",
   "execution_count": 610,
   "outputs": [
    {
     "data": {
      "text/plain": "Early Presenters    349\nHospital Equired    123\nLate Presenters     111\nUnknown              68\nName: Symptoms onset, dtype: int64"
     },
     "execution_count": 610,
     "metadata": {},
     "output_type": "execute_result"
    }
   ],
   "source": [
    "dfMeltedUnique['Symptoms onset'].value_counts()"
   ],
   "metadata": {
    "collapsed": false,
    "pycharm": {
     "name": "#%%\n"
    }
   }
  },
  {
   "cell_type": "code",
   "execution_count": 611,
   "outputs": [
    {
     "data": {
      "text/plain": "(651, 47)"
     },
     "execution_count": 611,
     "metadata": {},
     "output_type": "execute_result"
    }
   ],
   "source": [
    "dfMeltedUnique.shape"
   ],
   "metadata": {
    "collapsed": false,
    "pycharm": {
     "name": "#%%\n"
    }
   }
  },
  {
   "cell_type": "code",
   "execution_count": 612,
   "outputs": [
    {
     "data": {
      "text/plain": "             STUDY_ID ADMISSION_START_DATE  ADMISSION_DAY_SINCE_ONSET  \\\n0   UHSCOVID_00989a42           2020-03-26                        5.0   \n8   UHSCOVID_00ac1e32           2020-04-07                       -4.0   \n51  UHSCOVID_00cb7bdd           2020-04-10                        5.0   \n54  UHSCOVID_01add35c           2020-05-22                        0.0   \n57  UHSCOVID_01f7838d           2020-05-04                       -7.0   \n\n   SYMPTOM_ONSET_DATE ADMISSION_END_DATE  DEATH_DATE DISCHARGE_DATE  DEATH  \\\n0          2020-03-21         2020-04-02         NaN     2020-04-02    0.0   \n8          2020-04-11         2020-05-19         NaN     2020-05-19    0.0   \n51         2020-04-05         2020-04-13  2020-04-13     2020-04-13    1.0   \n54         2020-05-22         2020-05-23  2020-05-27     2020-05-23    1.0   \n57         2020-05-11         2020-05-17         NaN     2020-05-17    0.0   \n\n    DISCHARGED  SURVIVED  ...  PARAMETER  meanValue  \\\n0          1.0       1.0  ...        ALT        NaN   \n8          1.0       1.0  ...        ALT        NaN   \n51         1.0       0.0  ...        ALT       25.0   \n54         1.0       0.0  ...        ALT        8.0   \n57         1.0       1.0  ...        ALT        9.0   \n\n    Death_Discharged_Survived_Str  Death_Discharged_Survived  \\\n0                        Survived                          0   \n8                        Survived                          0   \n51                           <NA>                       <NA>   \n54                           <NA>                       <NA>   \n57                       Survived                          0   \n\n   Discharged_Readmitted_Died  Died_in_Hosp_or_Discharged_or_Survived_Str  \\\n0                  Discharged                                        <NA>   \n8                  Discharged                                        <NA>   \n51                       Died                                        <NA>   \n54                       Died                                        <NA>   \n57                 Discharged                                        <NA>   \n\n    Died_or_Survived_Str  Died_or_Survived  Onset Time    Symptoms onset  \n0               Survived               0.0           0  Early Presenters  \n8               Survived               0.0           2  Hospital Equired  \n51                  Died               1.0           0  Early Presenters  \n54                  Died               1.0           0  Early Presenters  \n57              Survived               0.0           2  Hospital Equired  \n\n[5 rows x 47 columns]",
      "text/html": "<div>\n<style scoped>\n    .dataframe tbody tr th:only-of-type {\n        vertical-align: middle;\n    }\n\n    .dataframe tbody tr th {\n        vertical-align: top;\n    }\n\n    .dataframe thead th {\n        text-align: right;\n    }\n</style>\n<table border=\"1\" class=\"dataframe\">\n  <thead>\n    <tr style=\"text-align: right;\">\n      <th></th>\n      <th>STUDY_ID</th>\n      <th>ADMISSION_START_DATE</th>\n      <th>ADMISSION_DAY_SINCE_ONSET</th>\n      <th>SYMPTOM_ONSET_DATE</th>\n      <th>ADMISSION_END_DATE</th>\n      <th>DEATH_DATE</th>\n      <th>DISCHARGE_DATE</th>\n      <th>DEATH</th>\n      <th>DISCHARGED</th>\n      <th>SURVIVED</th>\n      <th>...</th>\n      <th>PARAMETER</th>\n      <th>meanValue</th>\n      <th>Death_Discharged_Survived_Str</th>\n      <th>Death_Discharged_Survived</th>\n      <th>Discharged_Readmitted_Died</th>\n      <th>Died_in_Hosp_or_Discharged_or_Survived_Str</th>\n      <th>Died_or_Survived_Str</th>\n      <th>Died_or_Survived</th>\n      <th>Onset Time</th>\n      <th>Symptoms onset</th>\n    </tr>\n  </thead>\n  <tbody>\n    <tr>\n      <th>0</th>\n      <td>UHSCOVID_00989a42</td>\n      <td>2020-03-26</td>\n      <td>5.0</td>\n      <td>2020-03-21</td>\n      <td>2020-04-02</td>\n      <td>NaN</td>\n      <td>2020-04-02</td>\n      <td>0.0</td>\n      <td>1.0</td>\n      <td>1.0</td>\n      <td>...</td>\n      <td>ALT</td>\n      <td>NaN</td>\n      <td>Survived</td>\n      <td>0</td>\n      <td>Discharged</td>\n      <td>&lt;NA&gt;</td>\n      <td>Survived</td>\n      <td>0.0</td>\n      <td>0</td>\n      <td>Early Presenters</td>\n    </tr>\n    <tr>\n      <th>8</th>\n      <td>UHSCOVID_00ac1e32</td>\n      <td>2020-04-07</td>\n      <td>-4.0</td>\n      <td>2020-04-11</td>\n      <td>2020-05-19</td>\n      <td>NaN</td>\n      <td>2020-05-19</td>\n      <td>0.0</td>\n      <td>1.0</td>\n      <td>1.0</td>\n      <td>...</td>\n      <td>ALT</td>\n      <td>NaN</td>\n      <td>Survived</td>\n      <td>0</td>\n      <td>Discharged</td>\n      <td>&lt;NA&gt;</td>\n      <td>Survived</td>\n      <td>0.0</td>\n      <td>2</td>\n      <td>Hospital Equired</td>\n    </tr>\n    <tr>\n      <th>51</th>\n      <td>UHSCOVID_00cb7bdd</td>\n      <td>2020-04-10</td>\n      <td>5.0</td>\n      <td>2020-04-05</td>\n      <td>2020-04-13</td>\n      <td>2020-04-13</td>\n      <td>2020-04-13</td>\n      <td>1.0</td>\n      <td>1.0</td>\n      <td>0.0</td>\n      <td>...</td>\n      <td>ALT</td>\n      <td>25.0</td>\n      <td>&lt;NA&gt;</td>\n      <td>&lt;NA&gt;</td>\n      <td>Died</td>\n      <td>&lt;NA&gt;</td>\n      <td>Died</td>\n      <td>1.0</td>\n      <td>0</td>\n      <td>Early Presenters</td>\n    </tr>\n    <tr>\n      <th>54</th>\n      <td>UHSCOVID_01add35c</td>\n      <td>2020-05-22</td>\n      <td>0.0</td>\n      <td>2020-05-22</td>\n      <td>2020-05-23</td>\n      <td>2020-05-27</td>\n      <td>2020-05-23</td>\n      <td>1.0</td>\n      <td>1.0</td>\n      <td>0.0</td>\n      <td>...</td>\n      <td>ALT</td>\n      <td>8.0</td>\n      <td>&lt;NA&gt;</td>\n      <td>&lt;NA&gt;</td>\n      <td>Died</td>\n      <td>&lt;NA&gt;</td>\n      <td>Died</td>\n      <td>1.0</td>\n      <td>0</td>\n      <td>Early Presenters</td>\n    </tr>\n    <tr>\n      <th>57</th>\n      <td>UHSCOVID_01f7838d</td>\n      <td>2020-05-04</td>\n      <td>-7.0</td>\n      <td>2020-05-11</td>\n      <td>2020-05-17</td>\n      <td>NaN</td>\n      <td>2020-05-17</td>\n      <td>0.0</td>\n      <td>1.0</td>\n      <td>1.0</td>\n      <td>...</td>\n      <td>ALT</td>\n      <td>9.0</td>\n      <td>Survived</td>\n      <td>0</td>\n      <td>Discharged</td>\n      <td>&lt;NA&gt;</td>\n      <td>Survived</td>\n      <td>0.0</td>\n      <td>2</td>\n      <td>Hospital Equired</td>\n    </tr>\n  </tbody>\n</table>\n<p>5 rows × 47 columns</p>\n</div>"
     },
     "execution_count": 612,
     "metadata": {},
     "output_type": "execute_result"
    }
   ],
   "source": [
    "dfMeltedUnique.head()"
   ],
   "metadata": {
    "collapsed": false,
    "pycharm": {
     "name": "#%%\n"
    }
   }
  },
  {
   "cell_type": "code",
   "execution_count": 613,
   "outputs": [
    {
     "data": {
      "text/plain": "Index(['STUDY_ID', 'ADMISSION_START_DATE', 'ADMISSION_DAY_SINCE_ONSET',\n       'SYMPTOM_ONSET_DATE', 'ADMISSION_END_DATE', 'DEATH_DATE',\n       'DISCHARGE_DATE', 'DEATH', 'DISCHARGED', 'SURVIVED', 'ITU', 'NIV',\n       'READMITTED', 'PATIENT_AGE', 'GENDER', 'ASTHMA', 'COPD',\n       'BRONCHIECTASIS', 'HYPERTENSION', 'THROMBOEMBOLIC', 'CARDIAC_D',\n       'RENAL_D', 'LIVER_D', 'NEURAL_D', 'META_SOLID_TUMOUR', 'MAGLINANT_NEO',\n       'DIABETES', 'OBESITY', 'HIV', 'RHEUMATO_D', 'DIMENTIA', 'IMMUNO',\n       'NB_COMOR', 'ETHNIC_GROUP', 'SPECIMEN_DATE',\n       'SPECIMEN_DAY_SINCE_ADMISSION', 'SPECIMENT_DAY_SINCE_ONSET',\n       'PARAMETER', 'meanValue', 'Death_Discharged_Survived_Str',\n       'Death_Discharged_Survived', 'Discharged_Readmitted_Died',\n       'Died_in_Hosp_or_Discharged_or_Survived_Str', 'Died_or_Survived_Str',\n       'Died_or_Survived', 'Onset Time', 'Symptoms onset'],\n      dtype='object')"
     },
     "execution_count": 613,
     "metadata": {},
     "output_type": "execute_result"
    }
   ],
   "source": [
    "dfMeltedUnique.columns"
   ],
   "metadata": {
    "collapsed": false,
    "pycharm": {
     "name": "#%%\n"
    }
   }
  },
  {
   "cell_type": "markdown",
   "source": [
    "# Died or Survived"
   ],
   "metadata": {
    "collapsed": false
   }
  },
  {
   "cell_type": "code",
   "execution_count": 614,
   "outputs": [
    {
     "data": {
      "text/plain": "Index(['STUDY_ID', 'ADMISSION_START_DATE', 'ADMISSION_DAY_SINCE_ONSET',\n       'SYMPTOM_ONSET_DATE', 'ADMISSION_END_DATE', 'DEATH_DATE',\n       'DISCHARGE_DATE', 'DEATH', 'DISCHARGED', 'SURVIVED', 'ITU', 'NIV',\n       'READMITTED', 'PATIENT_AGE', 'GENDER', 'ASTHMA', 'COPD',\n       'BRONCHIECTASIS', 'HYPERTENSION', 'THROMBOEMBOLIC', 'CARDIAC_D',\n       'RENAL_D', 'LIVER_D', 'NEURAL_D', 'META_SOLID_TUMOUR', 'MAGLINANT_NEO',\n       'DIABETES', 'OBESITY', 'HIV', 'RHEUMATO_D', 'DIMENTIA', 'IMMUNO',\n       'NB_COMOR', 'ETHNIC_GROUP', 'SPECIMEN_DATE',\n       'SPECIMEN_DAY_SINCE_ADMISSION', 'SPECIMENT_DAY_SINCE_ONSET',\n       'PARAMETER', 'meanValue', 'Death_Discharged_Survived_Str',\n       'Death_Discharged_Survived', 'Discharged_Readmitted_Died',\n       'Died_in_Hosp_or_Discharged_or_Survived_Str', 'Died_or_Survived_Str',\n       'Died_or_Survived', 'Onset Time', 'Symptoms onset'],\n      dtype='object')"
     },
     "execution_count": 614,
     "metadata": {},
     "output_type": "execute_result"
    }
   ],
   "source": [
    "# Groupping\n",
    "dfMeltedUnique.columns"
   ],
   "metadata": {
    "collapsed": false,
    "pycharm": {
     "name": "#%%\n"
    }
   }
  },
  {
   "cell_type": "code",
   "execution_count": 615,
   "outputs": [
    {
     "data": {
      "text/plain": "             STUDY_ID ADMISSION_START_DATE  ADMISSION_DAY_SINCE_ONSET  \\\n0   UHSCOVID_00989a42           2020-03-26                        5.0   \n8   UHSCOVID_00ac1e32           2020-04-07                       -4.0   \n51  UHSCOVID_00cb7bdd           2020-04-10                        5.0   \n54  UHSCOVID_01add35c           2020-05-22                        0.0   \n57  UHSCOVID_01f7838d           2020-05-04                       -7.0   \n\n   SYMPTOM_ONSET_DATE ADMISSION_END_DATE  DEATH_DATE DISCHARGE_DATE  DEATH  \\\n0          2020-03-21         2020-04-02         NaN     2020-04-02    0.0   \n8          2020-04-11         2020-05-19         NaN     2020-05-19    0.0   \n51         2020-04-05         2020-04-13  2020-04-13     2020-04-13    1.0   \n54         2020-05-22         2020-05-23  2020-05-27     2020-05-23    1.0   \n57         2020-05-11         2020-05-17         NaN     2020-05-17    0.0   \n\n    DISCHARGED  SURVIVED  ...  PARAMETER  meanValue  \\\n0          1.0       1.0  ...        ALT        NaN   \n8          1.0       1.0  ...        ALT        NaN   \n51         1.0       0.0  ...        ALT       25.0   \n54         1.0       0.0  ...        ALT        8.0   \n57         1.0       1.0  ...        ALT        9.0   \n\n    Death_Discharged_Survived_Str  Death_Discharged_Survived  \\\n0                        Survived                          0   \n8                        Survived                          0   \n51                           <NA>                       <NA>   \n54                           <NA>                       <NA>   \n57                       Survived                          0   \n\n   Discharged_Readmitted_Died  Died_in_Hosp_or_Discharged_or_Survived_Str  \\\n0                  Discharged                                        <NA>   \n8                  Discharged                                        <NA>   \n51                       Died                                        <NA>   \n54                       Died                                        <NA>   \n57                 Discharged                                        <NA>   \n\n    Died_or_Survived_Str  Died_or_Survived  Onset Time    Symptoms onset  \n0               Survived               0.0           0  Early Presenters  \n8               Survived               0.0           2  Hospital Equired  \n51                  Died               1.0           0  Early Presenters  \n54                  Died               1.0           0  Early Presenters  \n57              Survived               0.0           2  Hospital Equired  \n\n[5 rows x 47 columns]",
      "text/html": "<div>\n<style scoped>\n    .dataframe tbody tr th:only-of-type {\n        vertical-align: middle;\n    }\n\n    .dataframe tbody tr th {\n        vertical-align: top;\n    }\n\n    .dataframe thead th {\n        text-align: right;\n    }\n</style>\n<table border=\"1\" class=\"dataframe\">\n  <thead>\n    <tr style=\"text-align: right;\">\n      <th></th>\n      <th>STUDY_ID</th>\n      <th>ADMISSION_START_DATE</th>\n      <th>ADMISSION_DAY_SINCE_ONSET</th>\n      <th>SYMPTOM_ONSET_DATE</th>\n      <th>ADMISSION_END_DATE</th>\n      <th>DEATH_DATE</th>\n      <th>DISCHARGE_DATE</th>\n      <th>DEATH</th>\n      <th>DISCHARGED</th>\n      <th>SURVIVED</th>\n      <th>...</th>\n      <th>PARAMETER</th>\n      <th>meanValue</th>\n      <th>Death_Discharged_Survived_Str</th>\n      <th>Death_Discharged_Survived</th>\n      <th>Discharged_Readmitted_Died</th>\n      <th>Died_in_Hosp_or_Discharged_or_Survived_Str</th>\n      <th>Died_or_Survived_Str</th>\n      <th>Died_or_Survived</th>\n      <th>Onset Time</th>\n      <th>Symptoms onset</th>\n    </tr>\n  </thead>\n  <tbody>\n    <tr>\n      <th>0</th>\n      <td>UHSCOVID_00989a42</td>\n      <td>2020-03-26</td>\n      <td>5.0</td>\n      <td>2020-03-21</td>\n      <td>2020-04-02</td>\n      <td>NaN</td>\n      <td>2020-04-02</td>\n      <td>0.0</td>\n      <td>1.0</td>\n      <td>1.0</td>\n      <td>...</td>\n      <td>ALT</td>\n      <td>NaN</td>\n      <td>Survived</td>\n      <td>0</td>\n      <td>Discharged</td>\n      <td>&lt;NA&gt;</td>\n      <td>Survived</td>\n      <td>0.0</td>\n      <td>0</td>\n      <td>Early Presenters</td>\n    </tr>\n    <tr>\n      <th>8</th>\n      <td>UHSCOVID_00ac1e32</td>\n      <td>2020-04-07</td>\n      <td>-4.0</td>\n      <td>2020-04-11</td>\n      <td>2020-05-19</td>\n      <td>NaN</td>\n      <td>2020-05-19</td>\n      <td>0.0</td>\n      <td>1.0</td>\n      <td>1.0</td>\n      <td>...</td>\n      <td>ALT</td>\n      <td>NaN</td>\n      <td>Survived</td>\n      <td>0</td>\n      <td>Discharged</td>\n      <td>&lt;NA&gt;</td>\n      <td>Survived</td>\n      <td>0.0</td>\n      <td>2</td>\n      <td>Hospital Equired</td>\n    </tr>\n    <tr>\n      <th>51</th>\n      <td>UHSCOVID_00cb7bdd</td>\n      <td>2020-04-10</td>\n      <td>5.0</td>\n      <td>2020-04-05</td>\n      <td>2020-04-13</td>\n      <td>2020-04-13</td>\n      <td>2020-04-13</td>\n      <td>1.0</td>\n      <td>1.0</td>\n      <td>0.0</td>\n      <td>...</td>\n      <td>ALT</td>\n      <td>25.0</td>\n      <td>&lt;NA&gt;</td>\n      <td>&lt;NA&gt;</td>\n      <td>Died</td>\n      <td>&lt;NA&gt;</td>\n      <td>Died</td>\n      <td>1.0</td>\n      <td>0</td>\n      <td>Early Presenters</td>\n    </tr>\n    <tr>\n      <th>54</th>\n      <td>UHSCOVID_01add35c</td>\n      <td>2020-05-22</td>\n      <td>0.0</td>\n      <td>2020-05-22</td>\n      <td>2020-05-23</td>\n      <td>2020-05-27</td>\n      <td>2020-05-23</td>\n      <td>1.0</td>\n      <td>1.0</td>\n      <td>0.0</td>\n      <td>...</td>\n      <td>ALT</td>\n      <td>8.0</td>\n      <td>&lt;NA&gt;</td>\n      <td>&lt;NA&gt;</td>\n      <td>Died</td>\n      <td>&lt;NA&gt;</td>\n      <td>Died</td>\n      <td>1.0</td>\n      <td>0</td>\n      <td>Early Presenters</td>\n    </tr>\n    <tr>\n      <th>57</th>\n      <td>UHSCOVID_01f7838d</td>\n      <td>2020-05-04</td>\n      <td>-7.0</td>\n      <td>2020-05-11</td>\n      <td>2020-05-17</td>\n      <td>NaN</td>\n      <td>2020-05-17</td>\n      <td>0.0</td>\n      <td>1.0</td>\n      <td>1.0</td>\n      <td>...</td>\n      <td>ALT</td>\n      <td>9.0</td>\n      <td>Survived</td>\n      <td>0</td>\n      <td>Discharged</td>\n      <td>&lt;NA&gt;</td>\n      <td>Survived</td>\n      <td>0.0</td>\n      <td>2</td>\n      <td>Hospital Equired</td>\n    </tr>\n  </tbody>\n</table>\n<p>5 rows × 47 columns</p>\n</div>"
     },
     "execution_count": 615,
     "metadata": {},
     "output_type": "execute_result"
    }
   ],
   "source": [
    "# dfSel\n",
    "# colSelected = ['STUDY_ID','ADMISSION_START_DATE','ETHNIC_GROUP', 'Symptoms onset', 'Died_or_Survived_Str','Discharged_Readmitted_Died','NIV',\n",
    "#                'PATIENT_AGE', 'GENDER','ASTHMA', 'COPD','BRONCHIECTASIS',\n",
    "#        'HYPERTENSION', 'THROMBOEMBOLIC', 'CARDIAC_D', 'RENAL_D', 'LIVER_D',\n",
    "#        'NEURAL_D', 'META_SOLID_TUMOUR', 'MAGLINANT_NEO', 'DIABETES', 'OBESITY',\n",
    "#        'HIV', 'RHEUMATO_D', 'DIMENTIA', 'IMMUNO', 'NB_COMOR','SPECIMEN_DATE', 'SPECIMEN_DAY_SINCE_ADMISSION', 'SPECIMENT_DAY_SINCE_ONSET',\n",
    "#        'PARAMETER', 'meanValue']\n",
    "# dfSel = dfMeltedUnique[colSelected]\n",
    "dfSel = dfMeltedUnique\n",
    "dfSel.head()"
   ],
   "metadata": {
    "collapsed": false,
    "pycharm": {
     "name": "#%%\n"
    }
   }
  },
  {
   "cell_type": "markdown",
   "source": [
    "# Lab Results\n",
    "dfSel.columns()"
   ],
   "metadata": {
    "collapsed": false,
    "pycharm": {
     "name": "#%% md\n"
    }
   }
  },
  {
   "cell_type": "code",
   "execution_count": 616,
   "outputs": [
    {
     "data": {
      "text/plain": "Index(['Unnamed: 0', 'STUDY_ID', 'ADMISSION_START_DATE', 'ADMISSION_END_DATE',\n       'ITU_START_DATE', 'ITU_END_DATE', 'INVASIVE_VENTILATION_START_DATE',\n       'INVASIVE_VENTILATION_END_DATE', 'NIV_START_DATE', 'NIV_END_DATE',\n       'C5_START_DATE', 'C5_END_DATE', 'ADMISSION_START_DAY',\n       'ADMISSION_END_DAY', 'ITU_START_DAY', 'ITU_END_DAY',\n       'INVASIVE_VENTILATION_START_DAY', 'INVASIVE_VENTILATION_END_DAY',\n       'NIV_START_DAY', 'NIV_END_DAY', 'C5_START_DAY', 'C5_END_DAY',\n       'PATIENT_AGE', 'GENDER', 'DEATH_DATE', 'DISCHARGE_DATE', 'DEATH_DAY',\n       'DISCHARGE_DAY', 'ITU', 'INV', 'NIV', 'C5', 'DEATH', 'DISCHARGED',\n       'SURVIVED', 'STILL_IN', 'READMITTED', 'ADMISSION_NB', 'AGE_GROUP',\n       'AGE_GROUP_2', 'COPD', 'ASTHMA', 'ILD', 'BRONCHIECTASIS',\n       'HYPERTENSION', 'THROMBOEMBOLIC', 'CARDIAC_D', 'RENAL_D', 'LIVER_D',\n       'NEURAL_D', 'META_SOLID_TUMOUR', 'MAGLINANT_NEO', 'DIABETES', 'OBESITY',\n       'HIV', 'RHEUMATO_D', 'DIMENTIA', 'IMMUNO', 'NB_COMOR',\n       'SYMPTOM_ONSET_DATE', 'ADMISSION_DAY_SINCE_ONSET', 'SPECIMEN_DATE',\n       'SPECIMEN_DAY_SINCE_ADMISSION', 'SPECIMENT_DAY_SINCE_ONSET',\n       'PARAMETER', 'meanValue', 'ETHNIC_GROUP'],\n      dtype='object')"
     },
     "execution_count": 616,
     "metadata": {},
     "output_type": "execute_result"
    }
   ],
   "source": [
    "dfMelted.columns"
   ],
   "metadata": {
    "collapsed": false,
    "pycharm": {
     "name": "#%%\n"
    }
   }
  },
  {
   "cell_type": "code",
   "execution_count": 617,
   "outputs": [],
   "source": [
    "# 'SPECIMEN_DATE', 'SPECIMEN_DAY_SINCE_ADMISSION', 'SPECIMENT_DAY_SINCE_ONSET','PARAMETER', 'meanValue',\n",
    "# 'ETHNIC_GROUP'"
   ],
   "metadata": {
    "collapsed": false,
    "pycharm": {
     "name": "#%%\n"
    }
   }
  },
  {
   "cell_type": "code",
   "execution_count": 618,
   "outputs": [
    {
     "data": {
      "text/plain": "                 STUDY_ID SPECIMEN_DATE  SPECIMEN_DAY_SINCE_ADMISSION  \\\n0       UHSCOVID_00989a42    2020-03-26                           0.0   \n1       UHSCOVID_00989a42    2020-03-27                           1.0   \n2       UHSCOVID_00989a42    2020-03-28                           2.0   \n3       UHSCOVID_00989a42    2020-03-29                           3.0   \n4       UHSCOVID_00989a42    2020-03-30                           4.0   \n...                   ...           ...                           ...   \n264821  UHSCOVID_fe8c3d54    2020-04-13                          11.0   \n264822  UHSCOVID_fe8c3d54    2020-04-16                          14.0   \n264823  UHSCOVID_fe8c3d54    2020-04-18                          16.0   \n264824  UHSCOVID_ffd435ad    2020-03-31                          -1.0   \n264825  UHSCOVID_ffd435ad    2020-04-01                           0.0   \n\n        SPECIMENT_DAY_SINCE_ONSET                PARAMETER  meanValue  \n0                             5.0                      ALT        NaN  \n1                             6.0                      ALT        NaN  \n2                             7.0                      ALT        NaN  \n3                             8.0                      ALT       23.0  \n4                             9.0                      ALT        NaN  \n...                           ...                      ...        ...  \n264821                        4.0  Tidal Volume Expiratory        NaN  \n264822                        7.0  Tidal Volume Expiratory        NaN  \n264823                        9.0  Tidal Volume Expiratory        NaN  \n264824                        NaN  Tidal Volume Expiratory        NaN  \n264825                        NaN  Tidal Volume Expiratory        NaN  \n\n[264826 rows x 6 columns]",
      "text/html": "<div>\n<style scoped>\n    .dataframe tbody tr th:only-of-type {\n        vertical-align: middle;\n    }\n\n    .dataframe tbody tr th {\n        vertical-align: top;\n    }\n\n    .dataframe thead th {\n        text-align: right;\n    }\n</style>\n<table border=\"1\" class=\"dataframe\">\n  <thead>\n    <tr style=\"text-align: right;\">\n      <th></th>\n      <th>STUDY_ID</th>\n      <th>SPECIMEN_DATE</th>\n      <th>SPECIMEN_DAY_SINCE_ADMISSION</th>\n      <th>SPECIMENT_DAY_SINCE_ONSET</th>\n      <th>PARAMETER</th>\n      <th>meanValue</th>\n    </tr>\n  </thead>\n  <tbody>\n    <tr>\n      <th>0</th>\n      <td>UHSCOVID_00989a42</td>\n      <td>2020-03-26</td>\n      <td>0.0</td>\n      <td>5.0</td>\n      <td>ALT</td>\n      <td>NaN</td>\n    </tr>\n    <tr>\n      <th>1</th>\n      <td>UHSCOVID_00989a42</td>\n      <td>2020-03-27</td>\n      <td>1.0</td>\n      <td>6.0</td>\n      <td>ALT</td>\n      <td>NaN</td>\n    </tr>\n    <tr>\n      <th>2</th>\n      <td>UHSCOVID_00989a42</td>\n      <td>2020-03-28</td>\n      <td>2.0</td>\n      <td>7.0</td>\n      <td>ALT</td>\n      <td>NaN</td>\n    </tr>\n    <tr>\n      <th>3</th>\n      <td>UHSCOVID_00989a42</td>\n      <td>2020-03-29</td>\n      <td>3.0</td>\n      <td>8.0</td>\n      <td>ALT</td>\n      <td>23.0</td>\n    </tr>\n    <tr>\n      <th>4</th>\n      <td>UHSCOVID_00989a42</td>\n      <td>2020-03-30</td>\n      <td>4.0</td>\n      <td>9.0</td>\n      <td>ALT</td>\n      <td>NaN</td>\n    </tr>\n    <tr>\n      <th>...</th>\n      <td>...</td>\n      <td>...</td>\n      <td>...</td>\n      <td>...</td>\n      <td>...</td>\n      <td>...</td>\n    </tr>\n    <tr>\n      <th>264821</th>\n      <td>UHSCOVID_fe8c3d54</td>\n      <td>2020-04-13</td>\n      <td>11.0</td>\n      <td>4.0</td>\n      <td>Tidal Volume Expiratory</td>\n      <td>NaN</td>\n    </tr>\n    <tr>\n      <th>264822</th>\n      <td>UHSCOVID_fe8c3d54</td>\n      <td>2020-04-16</td>\n      <td>14.0</td>\n      <td>7.0</td>\n      <td>Tidal Volume Expiratory</td>\n      <td>NaN</td>\n    </tr>\n    <tr>\n      <th>264823</th>\n      <td>UHSCOVID_fe8c3d54</td>\n      <td>2020-04-18</td>\n      <td>16.0</td>\n      <td>9.0</td>\n      <td>Tidal Volume Expiratory</td>\n      <td>NaN</td>\n    </tr>\n    <tr>\n      <th>264824</th>\n      <td>UHSCOVID_ffd435ad</td>\n      <td>2020-03-31</td>\n      <td>-1.0</td>\n      <td>NaN</td>\n      <td>Tidal Volume Expiratory</td>\n      <td>NaN</td>\n    </tr>\n    <tr>\n      <th>264825</th>\n      <td>UHSCOVID_ffd435ad</td>\n      <td>2020-04-01</td>\n      <td>0.0</td>\n      <td>NaN</td>\n      <td>Tidal Volume Expiratory</td>\n      <td>NaN</td>\n    </tr>\n  </tbody>\n</table>\n<p>264826 rows × 6 columns</p>\n</div>"
     },
     "execution_count": 618,
     "metadata": {},
     "output_type": "execute_result"
    }
   ],
   "source": [
    "dfMelted[['STUDY_ID','SPECIMEN_DATE', 'SPECIMEN_DAY_SINCE_ADMISSION', 'SPECIMENT_DAY_SINCE_ONSET',\n",
    "       'PARAMETER', 'meanValue']]"
   ],
   "metadata": {
    "collapsed": false,
    "pycharm": {
     "name": "#%%\n"
    }
   }
  },
  {
   "cell_type": "code",
   "execution_count": 619,
   "outputs": [
    {
     "data": {
      "text/plain": "            STUDY_ID SPECIMEN_DATE  SPECIMEN_DAY_SINCE_ADMISSION  \\\n0  UHSCOVID_00989a42    2020-03-26                           0.0   \n1  UHSCOVID_00989a42    2020-03-27                           1.0   \n2  UHSCOVID_00989a42    2020-03-28                           2.0   \n3  UHSCOVID_00989a42    2020-03-29                           3.0   \n4  UHSCOVID_00989a42    2020-03-30                           4.0   \n\n   SPECIMENT_DAY_SINCE_ONSET PARAMETER  meanValue  \n0                        5.0       ALT        NaN  \n1                        6.0       ALT        NaN  \n2                        7.0       ALT        NaN  \n3                        8.0       ALT       23.0  \n4                        9.0       ALT        NaN  ",
      "text/html": "<div>\n<style scoped>\n    .dataframe tbody tr th:only-of-type {\n        vertical-align: middle;\n    }\n\n    .dataframe tbody tr th {\n        vertical-align: top;\n    }\n\n    .dataframe thead th {\n        text-align: right;\n    }\n</style>\n<table border=\"1\" class=\"dataframe\">\n  <thead>\n    <tr style=\"text-align: right;\">\n      <th></th>\n      <th>STUDY_ID</th>\n      <th>SPECIMEN_DATE</th>\n      <th>SPECIMEN_DAY_SINCE_ADMISSION</th>\n      <th>SPECIMENT_DAY_SINCE_ONSET</th>\n      <th>PARAMETER</th>\n      <th>meanValue</th>\n    </tr>\n  </thead>\n  <tbody>\n    <tr>\n      <th>0</th>\n      <td>UHSCOVID_00989a42</td>\n      <td>2020-03-26</td>\n      <td>0.0</td>\n      <td>5.0</td>\n      <td>ALT</td>\n      <td>NaN</td>\n    </tr>\n    <tr>\n      <th>1</th>\n      <td>UHSCOVID_00989a42</td>\n      <td>2020-03-27</td>\n      <td>1.0</td>\n      <td>6.0</td>\n      <td>ALT</td>\n      <td>NaN</td>\n    </tr>\n    <tr>\n      <th>2</th>\n      <td>UHSCOVID_00989a42</td>\n      <td>2020-03-28</td>\n      <td>2.0</td>\n      <td>7.0</td>\n      <td>ALT</td>\n      <td>NaN</td>\n    </tr>\n    <tr>\n      <th>3</th>\n      <td>UHSCOVID_00989a42</td>\n      <td>2020-03-29</td>\n      <td>3.0</td>\n      <td>8.0</td>\n      <td>ALT</td>\n      <td>23.0</td>\n    </tr>\n    <tr>\n      <th>4</th>\n      <td>UHSCOVID_00989a42</td>\n      <td>2020-03-30</td>\n      <td>4.0</td>\n      <td>9.0</td>\n      <td>ALT</td>\n      <td>NaN</td>\n    </tr>\n  </tbody>\n</table>\n</div>"
     },
     "execution_count": 619,
     "metadata": {},
     "output_type": "execute_result"
    }
   ],
   "source": [
    "dfMelted[['STUDY_ID','SPECIMEN_DATE', 'SPECIMEN_DAY_SINCE_ADMISSION', 'SPECIMENT_DAY_SINCE_ONSET',\n",
    "       'PARAMETER', 'meanValue']].head()"
   ],
   "metadata": {
    "collapsed": false,
    "pycharm": {
     "name": "#%%\n"
    }
   }
  },
  {
   "cell_type": "code",
   "execution_count": 620,
   "outputs": [
    {
     "data": {
      "text/plain": "             STUDY_ID SPECIMEN_DATE  SPECIMEN_DAY_SINCE_ADMISSION  \\\n0   UHSCOVID_00989a42    2020-03-26                           0.0   \n8   UHSCOVID_00ac1e32    2020-04-07                           0.0   \n51  UHSCOVID_00cb7bdd    2020-04-10                           0.0   \n54  UHSCOVID_01add35c    2020-05-22                           0.0   \n57  UHSCOVID_01f7838d    2020-05-04                           0.0   \n\n    SPECIMENT_DAY_SINCE_ONSET PARAMETER  meanValue  \n0                         5.0       ALT        NaN  \n8                        -4.0       ALT        NaN  \n51                        5.0       ALT       25.0  \n54                        0.0       ALT        8.0  \n57                       -7.0       ALT        9.0  ",
      "text/html": "<div>\n<style scoped>\n    .dataframe tbody tr th:only-of-type {\n        vertical-align: middle;\n    }\n\n    .dataframe tbody tr th {\n        vertical-align: top;\n    }\n\n    .dataframe thead th {\n        text-align: right;\n    }\n</style>\n<table border=\"1\" class=\"dataframe\">\n  <thead>\n    <tr style=\"text-align: right;\">\n      <th></th>\n      <th>STUDY_ID</th>\n      <th>SPECIMEN_DATE</th>\n      <th>SPECIMEN_DAY_SINCE_ADMISSION</th>\n      <th>SPECIMENT_DAY_SINCE_ONSET</th>\n      <th>PARAMETER</th>\n      <th>meanValue</th>\n    </tr>\n  </thead>\n  <tbody>\n    <tr>\n      <th>0</th>\n      <td>UHSCOVID_00989a42</td>\n      <td>2020-03-26</td>\n      <td>0.0</td>\n      <td>5.0</td>\n      <td>ALT</td>\n      <td>NaN</td>\n    </tr>\n    <tr>\n      <th>8</th>\n      <td>UHSCOVID_00ac1e32</td>\n      <td>2020-04-07</td>\n      <td>0.0</td>\n      <td>-4.0</td>\n      <td>ALT</td>\n      <td>NaN</td>\n    </tr>\n    <tr>\n      <th>51</th>\n      <td>UHSCOVID_00cb7bdd</td>\n      <td>2020-04-10</td>\n      <td>0.0</td>\n      <td>5.0</td>\n      <td>ALT</td>\n      <td>25.0</td>\n    </tr>\n    <tr>\n      <th>54</th>\n      <td>UHSCOVID_01add35c</td>\n      <td>2020-05-22</td>\n      <td>0.0</td>\n      <td>0.0</td>\n      <td>ALT</td>\n      <td>8.0</td>\n    </tr>\n    <tr>\n      <th>57</th>\n      <td>UHSCOVID_01f7838d</td>\n      <td>2020-05-04</td>\n      <td>0.0</td>\n      <td>-7.0</td>\n      <td>ALT</td>\n      <td>9.0</td>\n    </tr>\n  </tbody>\n</table>\n</div>"
     },
     "execution_count": 620,
     "metadata": {},
     "output_type": "execute_result"
    }
   ],
   "source": [
    "dfSel[['STUDY_ID','SPECIMEN_DATE', 'SPECIMEN_DAY_SINCE_ADMISSION', 'SPECIMENT_DAY_SINCE_ONSET',\n",
    "       'PARAMETER', 'meanValue']].head()"
   ],
   "metadata": {
    "collapsed": false,
    "pycharm": {
     "name": "#%%\n"
    }
   }
  },
  {
   "cell_type": "markdown",
   "source": [
    "## Read Data"
   ],
   "metadata": {
    "collapsed": false,
    "pycharm": {
     "name": "#%% md\n"
    }
   }
  },
  {
   "cell_type": "code",
   "execution_count": 621,
   "outputs": [],
   "source": [
    "fpLabs  = \"C:\\Work\\dev\\dECMT_src\\data_all\\COVID19_Data\\REACT_LabResults.csv\"\n",
    "dfLabs = pd.read_csv(fpLabs)"
   ],
   "metadata": {
    "collapsed": false,
    "pycharm": {
     "name": "#%%\n"
    }
   }
  },
  {
   "cell_type": "code",
   "execution_count": 622,
   "outputs": [
    {
     "data": {
      "text/plain": "            STUDY_ID PATHOLOGY_SPECIMEN_DATE SPECIMEN_DATE SPECIMEN_TIME  \\\n0  UHSCOVID_af837150     2020-03-29 14:35:00    29/03/2020      14:35:00   \n1  UHSCOVID_af837150     2020-03-30 10:54:00    30/03/2020      10:54:00   \n2  UHSCOVID_af837150     2020-04-05 13:45:00    05/04/2020      13:45:00   \n3  UHSCOVID_af837150     2020-04-09 09:00:00    09/04/2020      09:00:00   \n4  UHSCOVID_af837150     2020-04-13 08:41:00    13/04/2020      08:41:00   \n\n  REACT_TESTCODE  PATHOLOGY_RESULT_NUMERIC  LOWER_RANGE  UPPER_RANGE     UNIT  \n0      POTASSIUM                       4.2          3.5          5.3   mmol/L  \n1      POTASSIUM                       4.2          3.5          5.3   mmol/L  \n2            ALT                      14.0          7.0         35.0  units/L  \n3      BILIRUBIN                       7.0          0.0         20.0   umol/L  \n4           UREA                       5.5          2.5          7.8   mmol/L  ",
      "text/html": "<div>\n<style scoped>\n    .dataframe tbody tr th:only-of-type {\n        vertical-align: middle;\n    }\n\n    .dataframe tbody tr th {\n        vertical-align: top;\n    }\n\n    .dataframe thead th {\n        text-align: right;\n    }\n</style>\n<table border=\"1\" class=\"dataframe\">\n  <thead>\n    <tr style=\"text-align: right;\">\n      <th></th>\n      <th>STUDY_ID</th>\n      <th>PATHOLOGY_SPECIMEN_DATE</th>\n      <th>SPECIMEN_DATE</th>\n      <th>SPECIMEN_TIME</th>\n      <th>REACT_TESTCODE</th>\n      <th>PATHOLOGY_RESULT_NUMERIC</th>\n      <th>LOWER_RANGE</th>\n      <th>UPPER_RANGE</th>\n      <th>UNIT</th>\n    </tr>\n  </thead>\n  <tbody>\n    <tr>\n      <th>0</th>\n      <td>UHSCOVID_af837150</td>\n      <td>2020-03-29 14:35:00</td>\n      <td>29/03/2020</td>\n      <td>14:35:00</td>\n      <td>POTASSIUM</td>\n      <td>4.2</td>\n      <td>3.5</td>\n      <td>5.3</td>\n      <td>mmol/L</td>\n    </tr>\n    <tr>\n      <th>1</th>\n      <td>UHSCOVID_af837150</td>\n      <td>2020-03-30 10:54:00</td>\n      <td>30/03/2020</td>\n      <td>10:54:00</td>\n      <td>POTASSIUM</td>\n      <td>4.2</td>\n      <td>3.5</td>\n      <td>5.3</td>\n      <td>mmol/L</td>\n    </tr>\n    <tr>\n      <th>2</th>\n      <td>UHSCOVID_af837150</td>\n      <td>2020-04-05 13:45:00</td>\n      <td>05/04/2020</td>\n      <td>13:45:00</td>\n      <td>ALT</td>\n      <td>14.0</td>\n      <td>7.0</td>\n      <td>35.0</td>\n      <td>units/L</td>\n    </tr>\n    <tr>\n      <th>3</th>\n      <td>UHSCOVID_af837150</td>\n      <td>2020-04-09 09:00:00</td>\n      <td>09/04/2020</td>\n      <td>09:00:00</td>\n      <td>BILIRUBIN</td>\n      <td>7.0</td>\n      <td>0.0</td>\n      <td>20.0</td>\n      <td>umol/L</td>\n    </tr>\n    <tr>\n      <th>4</th>\n      <td>UHSCOVID_af837150</td>\n      <td>2020-04-13 08:41:00</td>\n      <td>13/04/2020</td>\n      <td>08:41:00</td>\n      <td>UREA</td>\n      <td>5.5</td>\n      <td>2.5</td>\n      <td>7.8</td>\n      <td>mmol/L</td>\n    </tr>\n  </tbody>\n</table>\n</div>"
     },
     "execution_count": 622,
     "metadata": {},
     "output_type": "execute_result"
    }
   ],
   "source": [
    "dfLabs.head()"
   ],
   "metadata": {
    "collapsed": false,
    "pycharm": {
     "name": "#%%\n"
    }
   }
  },
  {
   "cell_type": "code",
   "execution_count": 623,
   "outputs": [
    {
     "data": {
      "text/plain": "Index(['STUDY_ID', 'PATHOLOGY_SPECIMEN_DATE', 'SPECIMEN_DATE', 'SPECIMEN_TIME',\n       'REACT_TESTCODE', 'PATHOLOGY_RESULT_NUMERIC', 'LOWER_RANGE',\n       'UPPER_RANGE', 'UNIT'],\n      dtype='object')"
     },
     "execution_count": 623,
     "metadata": {},
     "output_type": "execute_result"
    }
   ],
   "source": [
    "dfLabs.columns"
   ],
   "metadata": {
    "collapsed": false,
    "pycharm": {
     "name": "#%%\n"
    }
   }
  },
  {
   "cell_type": "code",
   "execution_count": 624,
   "outputs": [
    {
     "data": {
      "text/plain": "       PATHOLOGY_RESULT_NUMERIC   LOWER_RANGE   UPPER_RANGE\ncount              77890.000000  68051.000000  68051.000000\nmean                 103.741095     36.408851     77.943000\nstd                  364.711338     59.601959    122.413345\nmin                    0.000000      0.000000      0.500000\n25%                    5.400000      2.000000      7.000000\n50%                   10.000000      3.000000      7.800000\n75%                   90.000000     53.000000    115.000000\nmax                34607.000000    225.000000    425.000000",
      "text/html": "<div>\n<style scoped>\n    .dataframe tbody tr th:only-of-type {\n        vertical-align: middle;\n    }\n\n    .dataframe tbody tr th {\n        vertical-align: top;\n    }\n\n    .dataframe thead th {\n        text-align: right;\n    }\n</style>\n<table border=\"1\" class=\"dataframe\">\n  <thead>\n    <tr style=\"text-align: right;\">\n      <th></th>\n      <th>PATHOLOGY_RESULT_NUMERIC</th>\n      <th>LOWER_RANGE</th>\n      <th>UPPER_RANGE</th>\n    </tr>\n  </thead>\n  <tbody>\n    <tr>\n      <th>count</th>\n      <td>77890.000000</td>\n      <td>68051.000000</td>\n      <td>68051.000000</td>\n    </tr>\n    <tr>\n      <th>mean</th>\n      <td>103.741095</td>\n      <td>36.408851</td>\n      <td>77.943000</td>\n    </tr>\n    <tr>\n      <th>std</th>\n      <td>364.711338</td>\n      <td>59.601959</td>\n      <td>122.413345</td>\n    </tr>\n    <tr>\n      <th>min</th>\n      <td>0.000000</td>\n      <td>0.000000</td>\n      <td>0.500000</td>\n    </tr>\n    <tr>\n      <th>25%</th>\n      <td>5.400000</td>\n      <td>2.000000</td>\n      <td>7.000000</td>\n    </tr>\n    <tr>\n      <th>50%</th>\n      <td>10.000000</td>\n      <td>3.000000</td>\n      <td>7.800000</td>\n    </tr>\n    <tr>\n      <th>75%</th>\n      <td>90.000000</td>\n      <td>53.000000</td>\n      <td>115.000000</td>\n    </tr>\n    <tr>\n      <th>max</th>\n      <td>34607.000000</td>\n      <td>225.000000</td>\n      <td>425.000000</td>\n    </tr>\n  </tbody>\n</table>\n</div>"
     },
     "execution_count": 624,
     "metadata": {},
     "output_type": "execute_result"
    }
   ],
   "source": [
    "dfLabs.describe()"
   ],
   "metadata": {
    "collapsed": false,
    "pycharm": {
     "name": "#%%\n"
    }
   }
  },
  {
   "cell_type": "code",
   "execution_count": 625,
   "outputs": [
    {
     "name": "stdout",
     "output_type": "stream",
     "text": [
      "<class 'pandas.core.frame.DataFrame'>\n",
      "RangeIndex: 77890 entries, 0 to 77889\n",
      "Data columns (total 9 columns):\n",
      " #   Column                    Non-Null Count  Dtype  \n",
      "---  ------                    --------------  -----  \n",
      " 0   STUDY_ID                  77890 non-null  object \n",
      " 1   PATHOLOGY_SPECIMEN_DATE   77890 non-null  object \n",
      " 2   SPECIMEN_DATE             77890 non-null  object \n",
      " 3   SPECIMEN_TIME             77890 non-null  object \n",
      " 4   REACT_TESTCODE            77890 non-null  object \n",
      " 5   PATHOLOGY_RESULT_NUMERIC  77890 non-null  float64\n",
      " 6   LOWER_RANGE               68051 non-null  float64\n",
      " 7   UPPER_RANGE               68051 non-null  float64\n",
      " 8   UNIT                      75588 non-null  object \n",
      "dtypes: float64(3), object(6)\n",
      "memory usage: 5.3+ MB\n"
     ]
    }
   ],
   "source": [
    "dfLabs.info()"
   ],
   "metadata": {
    "collapsed": false,
    "pycharm": {
     "name": "#%%\n"
    }
   }
  },
  {
   "cell_type": "code",
   "execution_count": 626,
   "outputs": [
    {
     "data": {
      "text/plain": "array(['POTASSIUM', 'ALT', 'BILIRUBIN', 'UREA', 'CREATENINE', 'SODIUM',\n       'CRP', 'NEUTROPHILS', 'EOSINOPHILS', 'HB', 'LYMPHOCYTES', 'WBC',\n       'PLATELETS', 'GLUCOSE', 'TRIGYCERIN', 'FERRITIN', 'AST',\n       'TROPONIN', 'LDH', 'D_DIMER'], dtype=object)"
     },
     "execution_count": 626,
     "metadata": {},
     "output_type": "execute_result"
    }
   ],
   "source": [
    "labParNames = dfLabs['REACT_TESTCODE'].unique()\n",
    "labParNames"
   ],
   "metadata": {
    "collapsed": false,
    "pycharm": {
     "name": "#%%\n"
    }
   }
  },
  {
   "cell_type": "code",
   "execution_count": 627,
   "outputs": [],
   "source": [
    "# dfAdmDate = dfSel[['STUDY_ID', 'ADMISSION_START_DATE']]\n",
    "# dfAdmDate"
   ],
   "metadata": {
    "collapsed": false,
    "pycharm": {
     "name": "#%%\n"
    }
   }
  },
  {
   "cell_type": "code",
   "execution_count": 628,
   "outputs": [
    {
     "data": {
      "text/plain": "            STUDY_ID ADMISSION_START_DATE  ADMISSION_DAY_SINCE_ONSET  \\\n0  UHSCOVID_00989a42           2020-03-26                        5.0   \n1  UHSCOVID_00989a42           2020-03-26                        5.0   \n2  UHSCOVID_00989a42           2020-03-26                        5.0   \n3  UHSCOVID_00989a42           2020-03-26                        5.0   \n4  UHSCOVID_00989a42           2020-03-26                        5.0   \n\n  SYMPTOM_ONSET_DATE ADMISSION_END_DATE DEATH_DATE DISCHARGE_DATE  DEATH  \\\n0         2020-03-21         2020-04-02        NaN     2020-04-02    0.0   \n1         2020-03-21         2020-04-02        NaN     2020-04-02    0.0   \n2         2020-03-21         2020-04-02        NaN     2020-04-02    0.0   \n3         2020-03-21         2020-04-02        NaN     2020-04-02    0.0   \n4         2020-03-21         2020-04-02        NaN     2020-04-02    0.0   \n\n   DISCHARGED  SURVIVED  ...  Onset Time    Symptoms onset  \\\n0         1.0       1.0  ...           0  Early Presenters   \n1         1.0       1.0  ...           0  Early Presenters   \n2         1.0       1.0  ...           0  Early Presenters   \n3         1.0       1.0  ...           0  Early Presenters   \n4         1.0       1.0  ...           0  Early Presenters   \n\n   PATHOLOGY_SPECIMEN_DATE  SPECIMEN_DATE_y SPECIMEN_TIME  REACT_TESTCODE  \\\n0      2020-03-29 00:00:00       29/03/2020      00:00:00      CREATENINE   \n1      2020-04-01 13:42:00       01/04/2020      13:42:00       PLATELETS   \n2      2020-03-26 21:52:00       26/03/2020      21:52:00         GLUCOSE   \n3      2020-03-27 16:47:00       27/03/2020      16:47:00         GLUCOSE   \n4      2020-03-27 06:28:00       27/03/2020      06:28:00         GLUCOSE   \n\n   PATHOLOGY_RESULT_NUMERIC  LOWER_RANGE  UPPER_RANGE    UNIT  \n0                      63.0         80.0        115.0  mmol/L  \n1                     371.0        150.0        400.0  10E9/L  \n2                      13.3          NaN          NaN  mmol/L  \n3                      12.7          NaN          NaN  mmol/L  \n4                       7.8          NaN          NaN  mmol/L  \n\n[5 rows x 55 columns]",
      "text/html": "<div>\n<style scoped>\n    .dataframe tbody tr th:only-of-type {\n        vertical-align: middle;\n    }\n\n    .dataframe tbody tr th {\n        vertical-align: top;\n    }\n\n    .dataframe thead th {\n        text-align: right;\n    }\n</style>\n<table border=\"1\" class=\"dataframe\">\n  <thead>\n    <tr style=\"text-align: right;\">\n      <th></th>\n      <th>STUDY_ID</th>\n      <th>ADMISSION_START_DATE</th>\n      <th>ADMISSION_DAY_SINCE_ONSET</th>\n      <th>SYMPTOM_ONSET_DATE</th>\n      <th>ADMISSION_END_DATE</th>\n      <th>DEATH_DATE</th>\n      <th>DISCHARGE_DATE</th>\n      <th>DEATH</th>\n      <th>DISCHARGED</th>\n      <th>SURVIVED</th>\n      <th>...</th>\n      <th>Onset Time</th>\n      <th>Symptoms onset</th>\n      <th>PATHOLOGY_SPECIMEN_DATE</th>\n      <th>SPECIMEN_DATE_y</th>\n      <th>SPECIMEN_TIME</th>\n      <th>REACT_TESTCODE</th>\n      <th>PATHOLOGY_RESULT_NUMERIC</th>\n      <th>LOWER_RANGE</th>\n      <th>UPPER_RANGE</th>\n      <th>UNIT</th>\n    </tr>\n  </thead>\n  <tbody>\n    <tr>\n      <th>0</th>\n      <td>UHSCOVID_00989a42</td>\n      <td>2020-03-26</td>\n      <td>5.0</td>\n      <td>2020-03-21</td>\n      <td>2020-04-02</td>\n      <td>NaN</td>\n      <td>2020-04-02</td>\n      <td>0.0</td>\n      <td>1.0</td>\n      <td>1.0</td>\n      <td>...</td>\n      <td>0</td>\n      <td>Early Presenters</td>\n      <td>2020-03-29 00:00:00</td>\n      <td>29/03/2020</td>\n      <td>00:00:00</td>\n      <td>CREATENINE</td>\n      <td>63.0</td>\n      <td>80.0</td>\n      <td>115.0</td>\n      <td>mmol/L</td>\n    </tr>\n    <tr>\n      <th>1</th>\n      <td>UHSCOVID_00989a42</td>\n      <td>2020-03-26</td>\n      <td>5.0</td>\n      <td>2020-03-21</td>\n      <td>2020-04-02</td>\n      <td>NaN</td>\n      <td>2020-04-02</td>\n      <td>0.0</td>\n      <td>1.0</td>\n      <td>1.0</td>\n      <td>...</td>\n      <td>0</td>\n      <td>Early Presenters</td>\n      <td>2020-04-01 13:42:00</td>\n      <td>01/04/2020</td>\n      <td>13:42:00</td>\n      <td>PLATELETS</td>\n      <td>371.0</td>\n      <td>150.0</td>\n      <td>400.0</td>\n      <td>10E9/L</td>\n    </tr>\n    <tr>\n      <th>2</th>\n      <td>UHSCOVID_00989a42</td>\n      <td>2020-03-26</td>\n      <td>5.0</td>\n      <td>2020-03-21</td>\n      <td>2020-04-02</td>\n      <td>NaN</td>\n      <td>2020-04-02</td>\n      <td>0.0</td>\n      <td>1.0</td>\n      <td>1.0</td>\n      <td>...</td>\n      <td>0</td>\n      <td>Early Presenters</td>\n      <td>2020-03-26 21:52:00</td>\n      <td>26/03/2020</td>\n      <td>21:52:00</td>\n      <td>GLUCOSE</td>\n      <td>13.3</td>\n      <td>NaN</td>\n      <td>NaN</td>\n      <td>mmol/L</td>\n    </tr>\n    <tr>\n      <th>3</th>\n      <td>UHSCOVID_00989a42</td>\n      <td>2020-03-26</td>\n      <td>5.0</td>\n      <td>2020-03-21</td>\n      <td>2020-04-02</td>\n      <td>NaN</td>\n      <td>2020-04-02</td>\n      <td>0.0</td>\n      <td>1.0</td>\n      <td>1.0</td>\n      <td>...</td>\n      <td>0</td>\n      <td>Early Presenters</td>\n      <td>2020-03-27 16:47:00</td>\n      <td>27/03/2020</td>\n      <td>16:47:00</td>\n      <td>GLUCOSE</td>\n      <td>12.7</td>\n      <td>NaN</td>\n      <td>NaN</td>\n      <td>mmol/L</td>\n    </tr>\n    <tr>\n      <th>4</th>\n      <td>UHSCOVID_00989a42</td>\n      <td>2020-03-26</td>\n      <td>5.0</td>\n      <td>2020-03-21</td>\n      <td>2020-04-02</td>\n      <td>NaN</td>\n      <td>2020-04-02</td>\n      <td>0.0</td>\n      <td>1.0</td>\n      <td>1.0</td>\n      <td>...</td>\n      <td>0</td>\n      <td>Early Presenters</td>\n      <td>2020-03-27 06:28:00</td>\n      <td>27/03/2020</td>\n      <td>06:28:00</td>\n      <td>GLUCOSE</td>\n      <td>7.8</td>\n      <td>NaN</td>\n      <td>NaN</td>\n      <td>mmol/L</td>\n    </tr>\n  </tbody>\n</table>\n<p>5 rows × 55 columns</p>\n</div>"
     },
     "execution_count": 628,
     "metadata": {},
     "output_type": "execute_result"
    }
   ],
   "source": [
    "dfLabAll = pd.merge(dfMeltedUnique,dfLabs,on='STUDY_ID',how='left')\n",
    "dfLabAll.head()"
   ],
   "metadata": {
    "collapsed": false,
    "pycharm": {
     "name": "#%%\n"
    }
   }
  },
  {
   "cell_type": "code",
   "execution_count": 629,
   "outputs": [
    {
     "data": {
      "text/plain": "Index(['STUDY_ID', 'ADMISSION_START_DATE', 'ADMISSION_DAY_SINCE_ONSET',\n       'SYMPTOM_ONSET_DATE', 'ADMISSION_END_DATE', 'DEATH_DATE',\n       'DISCHARGE_DATE', 'DEATH', 'DISCHARGED', 'SURVIVED', 'ITU', 'NIV',\n       'READMITTED', 'PATIENT_AGE', 'GENDER', 'ASTHMA', 'COPD',\n       'BRONCHIECTASIS', 'HYPERTENSION', 'THROMBOEMBOLIC', 'CARDIAC_D',\n       'RENAL_D', 'LIVER_D', 'NEURAL_D', 'META_SOLID_TUMOUR', 'MAGLINANT_NEO',\n       'DIABETES', 'OBESITY', 'HIV', 'RHEUMATO_D', 'DIMENTIA', 'IMMUNO',\n       'NB_COMOR', 'ETHNIC_GROUP', 'SPECIMEN_DATE_x',\n       'SPECIMEN_DAY_SINCE_ADMISSION', 'SPECIMENT_DAY_SINCE_ONSET',\n       'PARAMETER', 'meanValue', 'Death_Discharged_Survived_Str',\n       'Death_Discharged_Survived', 'Discharged_Readmitted_Died',\n       'Died_in_Hosp_or_Discharged_or_Survived_Str', 'Died_or_Survived_Str',\n       'Died_or_Survived', 'Onset Time', 'Symptoms onset',\n       'PATHOLOGY_SPECIMEN_DATE', 'SPECIMEN_DATE_y', 'SPECIMEN_TIME',\n       'REACT_TESTCODE', 'PATHOLOGY_RESULT_NUMERIC', 'LOWER_RANGE',\n       'UPPER_RANGE', 'UNIT'],\n      dtype='object')"
     },
     "execution_count": 629,
     "metadata": {},
     "output_type": "execute_result"
    }
   ],
   "source": [
    "# ['STUDY_ID', 'ADMISSION_START_DATE', 'ADMISSION_DAY_SINCE_ONSET',\n",
    "#        'SYMPTOM_ONSET_DATE', 'ADMISSION_END_DATE', 'DEATH_DATE',\n",
    "#        'DISCHARGE_DATE', 'DEATH', 'DISCHARGED', 'SURVIVED', 'ITU', 'NIV',\n",
    "#        'READMITTED', 'PATIENT_AGE', 'GENDER', 'ASTHMA', 'COPD',\n",
    "#        'BRONCHIECTASIS', 'HYPERTENSION', 'THROMBOEMBOLIC', 'CARDIAC_D',\n",
    "#        'RENAL_D', 'LIVER_D', 'NEURAL_D', 'META_SOLID_TUMOUR', 'MAGLINANT_NEO',\n",
    "#        'DIABETES', 'OBESITY', 'HIV', 'RHEUMATO_D', 'DIMENTIA', 'IMMUNO',\n",
    "#        'NB_COMOR', 'ETHNIC_GROUP', 'SPECIMEN_DATE_x',\n",
    "#        'SPECIMEN_DAY_SINCE_ADMISSION', 'SPECIMENT_DAY_SINCE_ONSET',\n",
    "#        'PARAMETER', 'meanValue', 'Death_Discharged_Survived_Str',\n",
    "#        'Death_Discharged_Survived', 'Discharged_Readmitted_Died',\n",
    "#        'Died_in_Hosp_or_Discharged_or_Survived_Str', 'Died_or_Survived_Str',\n",
    "#        'Died_or_Survived', 'Onset Time', 'Symptoms onset',\n",
    "#        'PATHOLOGY_SPECIMEN_DATE', 'SPECIMEN_DATE_y', 'SPECIMEN_TIME',\n",
    "#        'REACT_TESTCODE', 'PATHOLOGY_RESULT_NUMERIC', 'LOWER_RANGE',\n",
    "#        'UPPER_RANGE', 'UNIT'],\n",
    "dfLabAll.columns"
   ],
   "metadata": {
    "collapsed": false,
    "pycharm": {
     "name": "#%%\n"
    }
   }
  },
  {
   "cell_type": "code",
   "execution_count": 630,
   "outputs": [
    {
     "data": {
      "text/plain": "Index(['STUDY_ID', 'ADMISSION_START_DATE', 'ADMISSION_DAY_SINCE_ONSET',\n       'SPECIMEN_TIME', 'Symptoms onset', 'PATHOLOGY_SPECIMEN_DATE',\n       'SPECIMEN_DATE_y', 'SPECIMEN_TIME', 'REACT_TESTCODE',\n       'PATHOLOGY_RESULT_NUMERIC', 'LOWER_RANGE', 'UPPER_RANGE', 'UNIT'],\n      dtype='object')"
     },
     "execution_count": 630,
     "metadata": {},
     "output_type": "execute_result"
    }
   ],
   "source": [
    "selected= ['STUDY_ID',  'ADMISSION_START_DATE','ADMISSION_DAY_SINCE_ONSET','SPECIMEN_TIME',\n",
    "       'Symptoms onset',\n",
    "       'PATHOLOGY_SPECIMEN_DATE', 'SPECIMEN_DATE_y', 'SPECIMEN_TIME',\n",
    "       'REACT_TESTCODE', 'PATHOLOGY_RESULT_NUMERIC', 'LOWER_RANGE',\n",
    "       'UPPER_RANGE', 'UNIT']\n",
    "dfLabAllSel = dfLabAll[selected]\n",
    "dfLabAllSel.columns"
   ],
   "metadata": {
    "collapsed": false,
    "pycharm": {
     "name": "#%%\n"
    }
   }
  },
  {
   "cell_type": "code",
   "execution_count": 631,
   "outputs": [
    {
     "name": "stderr",
     "output_type": "stream",
     "text": [
      "C:\\ANACONDA3\\envs\\dECMT\\lib\\site-packages\\pandas\\core\\frame.py:3065: SettingWithCopyWarning: \n",
      "A value is trying to be set on a copy of a slice from a DataFrame.\n",
      "Try using .loc[row_indexer,col_indexer] = value instead\n",
      "\n",
      "See the caveats in the documentation: https://pandas.pydata.org/pandas-docs/stable/user_guide/indexing.html#returning-a-view-versus-a-copy\n",
      "  self[k1] = value[k2]\n"
     ]
    }
   ],
   "source": [
    "dateCols = ['ADMISSION_START_DATE','PATHOLOGY_SPECIMEN_DATE']\n",
    "dfLabAllSel[dateCols] = dfLabAllSel[dateCols].apply(pd.to_datetime)"
   ],
   "metadata": {
    "collapsed": false,
    "pycharm": {
     "name": "#%%\n"
    }
   }
  },
  {
   "cell_type": "markdown",
   "source": [
    "#### 'Days_Lab_Since_Adm'"
   ],
   "metadata": {
    "collapsed": false,
    "pycharm": {
     "name": "#%% md\n"
    }
   }
  },
  {
   "cell_type": "code",
   "execution_count": 632,
   "outputs": [
    {
     "name": "stderr",
     "output_type": "stream",
     "text": [
      "C:\\ANACONDA3\\envs\\dECMT\\lib\\site-packages\\ipykernel_launcher.py:3: SettingWithCopyWarning: \n",
      "A value is trying to be set on a copy of a slice from a DataFrame.\n",
      "Try using .loc[row_indexer,col_indexer] = value instead\n",
      "\n",
      "See the caveats in the documentation: https://pandas.pydata.org/pandas-docs/stable/user_guide/indexing.html#returning-a-view-versus-a-copy\n",
      "  This is separate from the ipykernel package so we can avoid doing imports until\n"
     ]
    },
    {
     "data": {
      "text/plain": "3.0      5436\n2.0      5394\n1.0      5389\n4.0      4824\n5.0      4393\n         ... \n65.0        2\n64.0        2\n68.0        2\n63.0        2\n148.0       1\nName: Days_Lab_Since_Adm, Length: 102, dtype: int64"
     },
     "execution_count": 632,
     "metadata": {},
     "output_type": "execute_result"
    }
   ],
   "source": [
    "labName = 'ALT'\n",
    "# --------------------\n",
    "dfLabAllSel['Days_Lab_Since_Adm'] = (dfLabAllSel['PATHOLOGY_SPECIMEN_DATE'] - dfLabAllSel['ADMISSION_START_DATE'] ).dt.days\n",
    "dfLabAllSel['Days_Lab_Since_Adm'].value_counts()"
   ],
   "metadata": {
    "collapsed": false,
    "pycharm": {
     "name": "#%%\n"
    }
   }
  },
  {
   "cell_type": "code",
   "execution_count": 633,
   "outputs": [
    {
     "data": {
      "text/plain": "Index(['STUDY_ID', 'ADMISSION_START_DATE', 'ADMISSION_DAY_SINCE_ONSET',\n       'SPECIMEN_TIME', 'Symptoms onset', 'PATHOLOGY_SPECIMEN_DATE',\n       'SPECIMEN_DATE_y', 'SPECIMEN_TIME', 'REACT_TESTCODE',\n       'PATHOLOGY_RESULT_NUMERIC', 'LOWER_RANGE', 'UPPER_RANGE', 'UNIT',\n       'Days_Lab_Since_Adm'],\n      dtype='object')"
     },
     "execution_count": 633,
     "metadata": {},
     "output_type": "execute_result"
    }
   ],
   "source": [
    "dfLabAllSel.columns"
   ],
   "metadata": {
    "collapsed": false,
    "pycharm": {
     "name": "#%%\n"
    }
   }
  },
  {
   "cell_type": "code",
   "execution_count": 634,
   "outputs": [
    {
     "data": {
      "text/plain": "Index(['STUDY_ID', 'ADMISSION_DAY_SINCE_ONSET', 'Days_Lab_Since_Adm',\n       'SPECIMEN_TIME', 'SPECIMEN_TIME', 'Symptoms onset', 'REACT_TESTCODE',\n       'PATHOLOGY_RESULT_NUMERIC', 'LOWER_RANGE', 'UPPER_RANGE', 'UNIT'],\n      dtype='object')"
     },
     "execution_count": 634,
     "metadata": {},
     "output_type": "execute_result"
    }
   ],
   "source": [
    "selCols = ['STUDY_ID',  'ADMISSION_DAY_SINCE_ONSET','Days_Lab_Since_Adm','SPECIMEN_TIME',\n",
    "       'Symptoms onset', 'REACT_TESTCODE', 'PATHOLOGY_RESULT_NUMERIC',\n",
    "       'LOWER_RANGE', 'UPPER_RANGE', 'UNIT' ]\n",
    "dfLabAllSel = dfLabAllSel[selCols]\n",
    "dfLabAllSel.columns"
   ],
   "metadata": {
    "collapsed": false,
    "pycharm": {
     "name": "#%%\n"
    }
   }
  },
  {
   "cell_type": "code",
   "execution_count": 635,
   "outputs": [
    {
     "data": {
      "text/plain": "            STUDY_ID  ADMISSION_DAY_SINCE_ONSET  Days_Lab_Since_Adm  \\\n0  UHSCOVID_00989a42                        5.0                 3.0   \n1  UHSCOVID_00989a42                        5.0                 6.0   \n2  UHSCOVID_00989a42                        5.0                 0.0   \n3  UHSCOVID_00989a42                        5.0                 1.0   \n4  UHSCOVID_00989a42                        5.0                 1.0   \n\n  SPECIMEN_TIME SPECIMEN_TIME    Symptoms onset REACT_TESTCODE  \\\n0      00:00:00      00:00:00  Early Presenters     CREATENINE   \n1      13:42:00      13:42:00  Early Presenters      PLATELETS   \n2      21:52:00      21:52:00  Early Presenters        GLUCOSE   \n3      16:47:00      16:47:00  Early Presenters        GLUCOSE   \n4      06:28:00      06:28:00  Early Presenters        GLUCOSE   \n\n   PATHOLOGY_RESULT_NUMERIC  LOWER_RANGE  UPPER_RANGE    UNIT  \n0                      63.0         80.0        115.0  mmol/L  \n1                     371.0        150.0        400.0  10E9/L  \n2                      13.3          NaN          NaN  mmol/L  \n3                      12.7          NaN          NaN  mmol/L  \n4                       7.8          NaN          NaN  mmol/L  ",
      "text/html": "<div>\n<style scoped>\n    .dataframe tbody tr th:only-of-type {\n        vertical-align: middle;\n    }\n\n    .dataframe tbody tr th {\n        vertical-align: top;\n    }\n\n    .dataframe thead th {\n        text-align: right;\n    }\n</style>\n<table border=\"1\" class=\"dataframe\">\n  <thead>\n    <tr style=\"text-align: right;\">\n      <th></th>\n      <th>STUDY_ID</th>\n      <th>ADMISSION_DAY_SINCE_ONSET</th>\n      <th>Days_Lab_Since_Adm</th>\n      <th>SPECIMEN_TIME</th>\n      <th>SPECIMEN_TIME</th>\n      <th>Symptoms onset</th>\n      <th>REACT_TESTCODE</th>\n      <th>PATHOLOGY_RESULT_NUMERIC</th>\n      <th>LOWER_RANGE</th>\n      <th>UPPER_RANGE</th>\n      <th>UNIT</th>\n    </tr>\n  </thead>\n  <tbody>\n    <tr>\n      <th>0</th>\n      <td>UHSCOVID_00989a42</td>\n      <td>5.0</td>\n      <td>3.0</td>\n      <td>00:00:00</td>\n      <td>00:00:00</td>\n      <td>Early Presenters</td>\n      <td>CREATENINE</td>\n      <td>63.0</td>\n      <td>80.0</td>\n      <td>115.0</td>\n      <td>mmol/L</td>\n    </tr>\n    <tr>\n      <th>1</th>\n      <td>UHSCOVID_00989a42</td>\n      <td>5.0</td>\n      <td>6.0</td>\n      <td>13:42:00</td>\n      <td>13:42:00</td>\n      <td>Early Presenters</td>\n      <td>PLATELETS</td>\n      <td>371.0</td>\n      <td>150.0</td>\n      <td>400.0</td>\n      <td>10E9/L</td>\n    </tr>\n    <tr>\n      <th>2</th>\n      <td>UHSCOVID_00989a42</td>\n      <td>5.0</td>\n      <td>0.0</td>\n      <td>21:52:00</td>\n      <td>21:52:00</td>\n      <td>Early Presenters</td>\n      <td>GLUCOSE</td>\n      <td>13.3</td>\n      <td>NaN</td>\n      <td>NaN</td>\n      <td>mmol/L</td>\n    </tr>\n    <tr>\n      <th>3</th>\n      <td>UHSCOVID_00989a42</td>\n      <td>5.0</td>\n      <td>1.0</td>\n      <td>16:47:00</td>\n      <td>16:47:00</td>\n      <td>Early Presenters</td>\n      <td>GLUCOSE</td>\n      <td>12.7</td>\n      <td>NaN</td>\n      <td>NaN</td>\n      <td>mmol/L</td>\n    </tr>\n    <tr>\n      <th>4</th>\n      <td>UHSCOVID_00989a42</td>\n      <td>5.0</td>\n      <td>1.0</td>\n      <td>06:28:00</td>\n      <td>06:28:00</td>\n      <td>Early Presenters</td>\n      <td>GLUCOSE</td>\n      <td>7.8</td>\n      <td>NaN</td>\n      <td>NaN</td>\n      <td>mmol/L</td>\n    </tr>\n  </tbody>\n</table>\n</div>"
     },
     "execution_count": 635,
     "metadata": {},
     "output_type": "execute_result"
    }
   ],
   "source": [
    "dfLabAllSel.head()"
   ],
   "metadata": {
    "collapsed": false,
    "pycharm": {
     "name": "#%%\n"
    }
   }
  },
  {
   "cell_type": "code",
   "execution_count": 636,
   "outputs": [
    {
     "data": {
      "text/plain": "(78059, 11)"
     },
     "execution_count": 636,
     "metadata": {},
     "output_type": "execute_result"
    }
   ],
   "source": [
    "dfLabAllSel.shape"
   ],
   "metadata": {
    "collapsed": false,
    "pycharm": {
     "name": "#%%\n"
    }
   }
  },
  {
   "cell_type": "code",
   "execution_count": 637,
   "outputs": [
    {
     "data": {
      "text/plain": "UNIT     REACT_TESTCODE\nmmol/L   GLUCOSE           19316\n         SODIUM             4117\n         CREATENINE         4113\n         UREA               4109\n10E9/L   WBC                4057\ng/L      HB                 4057\n10E9/L   PLATELETS          4048\n         NEUTROPHILS        4007\n         LYMPHOCYTES        4006\n         EOSINOPHILS        4003\nmmol/L   POTASSIUM          3983\nmg/L     CRP                3880\numol/L   BILIRUBIN          3052\nunits/L  ALT                3011\n         LDH                1614\nng/L     FERRITIN           1589\n         TROPONIN           1519\nunits/L  AST                1107\ndtype: int64"
     },
     "execution_count": 637,
     "metadata": {},
     "output_type": "execute_result"
    }
   ],
   "source": [
    "dfLabAllSel[['UNIT','REACT_TESTCODE']].value_counts()"
   ],
   "metadata": {
    "collapsed": false,
    "pycharm": {
     "name": "#%%\n"
    }
   }
  },
  {
   "cell_type": "code",
   "execution_count": 638,
   "outputs": [
    {
     "data": {
      "text/plain": "3.0      5436\n2.0      5394\n1.0      5389\n4.0      4824\n5.0      4393\n         ... \n65.0        2\n64.0        2\n68.0        2\n63.0        2\n148.0       1\nName: Days_Lab_Since_Adm, Length: 102, dtype: int64"
     },
     "execution_count": 638,
     "metadata": {},
     "output_type": "execute_result"
    }
   ],
   "source": [
    "dfLabAllSel['Days_Lab_Since_Adm'].value_counts()"
   ],
   "metadata": {
    "collapsed": false,
    "pycharm": {
     "name": "#%%\n"
    }
   }
  },
  {
   "cell_type": "code",
   "execution_count": 639,
   "outputs": [
    {
     "data": {
      "text/plain": "array([  3.,   6.,   0.,   1.,   4.,   5.,   2.,   7.,   8.,   9.,  12.,\n        13.,  14.,  15.,  16.,  17.,  18.,  20.,  21.,  23.,  24.,  26.,\n        28.,  34.,  31.,  35.,  10.,  11.,  29.,  30.,  38.,  22.,  19.,\n        25.,  32.,  27.,  33.,  36.,  37.,  nan,  39.,  40.,  48.,  44.,\n        46.,  47.,  51.,  45.,  49.,  41.,  52.,  50.,  43.,  42.,  53.,\n        87.,  57.,  96.,  97.,  98., 101., 105.,  55.,  76.,  70.,  61.,\n        54.,  59.,  71.,  74.,  58.,  65.,  73.,  56.,  63.,  67.,  68.,\n        69.,  62.,  72.,  66.,  60.,  64.,  77.,  86.,  89., 113., 124.,\n       130., 135., 140., 159.,  75., 106., 128., 133., 147., 156., 154.,\n       161., 168., 148.,  92.])"
     },
     "execution_count": 639,
     "metadata": {},
     "output_type": "execute_result"
    }
   ],
   "source": [
    "dfLabAllSel['Days_Lab_Since_Adm'].unique()"
   ],
   "metadata": {
    "collapsed": false,
    "pycharm": {
     "name": "#%%\n"
    }
   }
  },
  {
   "cell_type": "code",
   "execution_count": 640,
   "outputs": [
    {
     "data": {
      "text/plain": "             STUDY_ID  ADMISSION_DAY_SINCE_ONSET  Days_Lab_Since_Adm  \\\n2   UHSCOVID_00989a42                        5.0                 0.0   \n3   UHSCOVID_00989a42                        5.0                 1.0   \n4   UHSCOVID_00989a42                        5.0                 1.0   \n11  UHSCOVID_00989a42                        5.0                 1.0   \n39  UHSCOVID_00989a42                        5.0                 1.0   \n\n   SPECIMEN_TIME SPECIMEN_TIME    Symptoms onset REACT_TESTCODE  \\\n2       21:52:00      21:52:00  Early Presenters        GLUCOSE   \n3       16:47:00      16:47:00  Early Presenters        GLUCOSE   \n4       06:28:00      06:28:00  Early Presenters        GLUCOSE   \n11      01:06:00      01:06:00  Early Presenters        GLUCOSE   \n39      11:45:00      11:45:00  Early Presenters        GLUCOSE   \n\n    PATHOLOGY_RESULT_NUMERIC  LOWER_RANGE  UPPER_RANGE    UNIT  \n2                       13.3          NaN          NaN  mmol/L  \n3                       12.7          NaN          NaN  mmol/L  \n4                        7.8          NaN          NaN  mmol/L  \n11                      12.4          3.0          7.0  mmol/L  \n39                      11.3          NaN          NaN  mmol/L  ",
      "text/html": "<div>\n<style scoped>\n    .dataframe tbody tr th:only-of-type {\n        vertical-align: middle;\n    }\n\n    .dataframe tbody tr th {\n        vertical-align: top;\n    }\n\n    .dataframe thead th {\n        text-align: right;\n    }\n</style>\n<table border=\"1\" class=\"dataframe\">\n  <thead>\n    <tr style=\"text-align: right;\">\n      <th></th>\n      <th>STUDY_ID</th>\n      <th>ADMISSION_DAY_SINCE_ONSET</th>\n      <th>Days_Lab_Since_Adm</th>\n      <th>SPECIMEN_TIME</th>\n      <th>SPECIMEN_TIME</th>\n      <th>Symptoms onset</th>\n      <th>REACT_TESTCODE</th>\n      <th>PATHOLOGY_RESULT_NUMERIC</th>\n      <th>LOWER_RANGE</th>\n      <th>UPPER_RANGE</th>\n      <th>UNIT</th>\n    </tr>\n  </thead>\n  <tbody>\n    <tr>\n      <th>2</th>\n      <td>UHSCOVID_00989a42</td>\n      <td>5.0</td>\n      <td>0.0</td>\n      <td>21:52:00</td>\n      <td>21:52:00</td>\n      <td>Early Presenters</td>\n      <td>GLUCOSE</td>\n      <td>13.3</td>\n      <td>NaN</td>\n      <td>NaN</td>\n      <td>mmol/L</td>\n    </tr>\n    <tr>\n      <th>3</th>\n      <td>UHSCOVID_00989a42</td>\n      <td>5.0</td>\n      <td>1.0</td>\n      <td>16:47:00</td>\n      <td>16:47:00</td>\n      <td>Early Presenters</td>\n      <td>GLUCOSE</td>\n      <td>12.7</td>\n      <td>NaN</td>\n      <td>NaN</td>\n      <td>mmol/L</td>\n    </tr>\n    <tr>\n      <th>4</th>\n      <td>UHSCOVID_00989a42</td>\n      <td>5.0</td>\n      <td>1.0</td>\n      <td>06:28:00</td>\n      <td>06:28:00</td>\n      <td>Early Presenters</td>\n      <td>GLUCOSE</td>\n      <td>7.8</td>\n      <td>NaN</td>\n      <td>NaN</td>\n      <td>mmol/L</td>\n    </tr>\n    <tr>\n      <th>11</th>\n      <td>UHSCOVID_00989a42</td>\n      <td>5.0</td>\n      <td>1.0</td>\n      <td>01:06:00</td>\n      <td>01:06:00</td>\n      <td>Early Presenters</td>\n      <td>GLUCOSE</td>\n      <td>12.4</td>\n      <td>3.0</td>\n      <td>7.0</td>\n      <td>mmol/L</td>\n    </tr>\n    <tr>\n      <th>39</th>\n      <td>UHSCOVID_00989a42</td>\n      <td>5.0</td>\n      <td>1.0</td>\n      <td>11:45:00</td>\n      <td>11:45:00</td>\n      <td>Early Presenters</td>\n      <td>GLUCOSE</td>\n      <td>11.3</td>\n      <td>NaN</td>\n      <td>NaN</td>\n      <td>mmol/L</td>\n    </tr>\n  </tbody>\n</table>\n</div>"
     },
     "execution_count": 640,
     "metadata": {},
     "output_type": "execute_result"
    }
   ],
   "source": [
    "dfLabAllSelAD = dfLabAllSel[dfLabAllSel['Days_Lab_Since_Adm']<=1]\n",
    "dfLabAllSelAD.head()"
   ],
   "metadata": {
    "collapsed": false,
    "pycharm": {
     "name": "#%%\n"
    }
   }
  },
  {
   "cell_type": "code",
   "execution_count": 641,
   "outputs": [
    {
     "data": {
      "text/plain": "(6306, 11)"
     },
     "execution_count": 641,
     "metadata": {},
     "output_type": "execute_result"
    }
   ],
   "source": [
    "dfLabAllSelAD.shape"
   ],
   "metadata": {
    "collapsed": false,
    "pycharm": {
     "name": "#%%\n"
    }
   }
  },
  {
   "cell_type": "code",
   "execution_count": 742,
   "outputs": [
    {
     "data": {
      "text/plain": "['CREATENINE',\n 'PLATELETS',\n 'GLUCOSE',\n 'UREA',\n 'CRP',\n 'FERRITIN',\n 'D_DIMER',\n 'SODIUM',\n 'TROPONIN',\n 'HB',\n 'EOSINOPHILS',\n 'WBC',\n 'BILIRUBIN',\n 'NEUTROPHILS',\n 'POTASSIUM',\n 'LYMPHOCYTES',\n 'ALT',\n 'LDH',\n 'AST',\n 'TRIGYCERIN']"
     },
     "execution_count": 742,
     "metadata": {},
     "output_type": "execute_result"
    }
   ],
   "source": [
    "labParNames = dfLabAllSel['REACT_TESTCODE'].unique()\n",
    "labParNames = [x for x in labParNames if str(x) != 'nan']\n",
    "labParNames"
   ],
   "metadata": {
    "collapsed": false,
    "pycharm": {
     "name": "#%%\n"
    }
   }
  },
  {
   "cell_type": "code",
   "execution_count": 643,
   "outputs": [
    {
     "data": {
      "text/plain": "Early Presenters    33026\nHospital Equired    20812\nLate Presenters     17723\nUnknown              6498\nName: Symptoms onset, dtype: int64"
     },
     "execution_count": 643,
     "metadata": {},
     "output_type": "execute_result"
    }
   ],
   "source": [
    "dfLabAllSel['Symptoms onset'].value_counts()"
   ],
   "metadata": {
    "collapsed": false,
    "pycharm": {
     "name": "#%%\n"
    }
   }
  },
  {
   "cell_type": "code",
   "execution_count": 644,
   "outputs": [
    {
     "data": {
      "text/plain": "            STUDY_ID  ADMISSION_DAY_SINCE_ONSET  Days_Lab_Since_Adm  \\\n0  UHSCOVID_00989a42                        5.0                 3.0   \n1  UHSCOVID_00989a42                        5.0                 6.0   \n2  UHSCOVID_00989a42                        5.0                 0.0   \n3  UHSCOVID_00989a42                        5.0                 1.0   \n4  UHSCOVID_00989a42                        5.0                 1.0   \n\n  SPECIMEN_TIME SPECIMEN_TIME    Symptoms onset REACT_TESTCODE  \\\n0      00:00:00      00:00:00  Early Presenters     CREATENINE   \n1      13:42:00      13:42:00  Early Presenters      PLATELETS   \n2      21:52:00      21:52:00  Early Presenters        GLUCOSE   \n3      16:47:00      16:47:00  Early Presenters        GLUCOSE   \n4      06:28:00      06:28:00  Early Presenters        GLUCOSE   \n\n   PATHOLOGY_RESULT_NUMERIC  LOWER_RANGE  UPPER_RANGE    UNIT  \n0                      63.0         80.0        115.0  mmol/L  \n1                     371.0        150.0        400.0  10E9/L  \n2                      13.3          NaN          NaN  mmol/L  \n3                      12.7          NaN          NaN  mmol/L  \n4                       7.8          NaN          NaN  mmol/L  ",
      "text/html": "<div>\n<style scoped>\n    .dataframe tbody tr th:only-of-type {\n        vertical-align: middle;\n    }\n\n    .dataframe tbody tr th {\n        vertical-align: top;\n    }\n\n    .dataframe thead th {\n        text-align: right;\n    }\n</style>\n<table border=\"1\" class=\"dataframe\">\n  <thead>\n    <tr style=\"text-align: right;\">\n      <th></th>\n      <th>STUDY_ID</th>\n      <th>ADMISSION_DAY_SINCE_ONSET</th>\n      <th>Days_Lab_Since_Adm</th>\n      <th>SPECIMEN_TIME</th>\n      <th>SPECIMEN_TIME</th>\n      <th>Symptoms onset</th>\n      <th>REACT_TESTCODE</th>\n      <th>PATHOLOGY_RESULT_NUMERIC</th>\n      <th>LOWER_RANGE</th>\n      <th>UPPER_RANGE</th>\n      <th>UNIT</th>\n    </tr>\n  </thead>\n  <tbody>\n    <tr>\n      <th>0</th>\n      <td>UHSCOVID_00989a42</td>\n      <td>5.0</td>\n      <td>3.0</td>\n      <td>00:00:00</td>\n      <td>00:00:00</td>\n      <td>Early Presenters</td>\n      <td>CREATENINE</td>\n      <td>63.0</td>\n      <td>80.0</td>\n      <td>115.0</td>\n      <td>mmol/L</td>\n    </tr>\n    <tr>\n      <th>1</th>\n      <td>UHSCOVID_00989a42</td>\n      <td>5.0</td>\n      <td>6.0</td>\n      <td>13:42:00</td>\n      <td>13:42:00</td>\n      <td>Early Presenters</td>\n      <td>PLATELETS</td>\n      <td>371.0</td>\n      <td>150.0</td>\n      <td>400.0</td>\n      <td>10E9/L</td>\n    </tr>\n    <tr>\n      <th>2</th>\n      <td>UHSCOVID_00989a42</td>\n      <td>5.0</td>\n      <td>0.0</td>\n      <td>21:52:00</td>\n      <td>21:52:00</td>\n      <td>Early Presenters</td>\n      <td>GLUCOSE</td>\n      <td>13.3</td>\n      <td>NaN</td>\n      <td>NaN</td>\n      <td>mmol/L</td>\n    </tr>\n    <tr>\n      <th>3</th>\n      <td>UHSCOVID_00989a42</td>\n      <td>5.0</td>\n      <td>1.0</td>\n      <td>16:47:00</td>\n      <td>16:47:00</td>\n      <td>Early Presenters</td>\n      <td>GLUCOSE</td>\n      <td>12.7</td>\n      <td>NaN</td>\n      <td>NaN</td>\n      <td>mmol/L</td>\n    </tr>\n    <tr>\n      <th>4</th>\n      <td>UHSCOVID_00989a42</td>\n      <td>5.0</td>\n      <td>1.0</td>\n      <td>06:28:00</td>\n      <td>06:28:00</td>\n      <td>Early Presenters</td>\n      <td>GLUCOSE</td>\n      <td>7.8</td>\n      <td>NaN</td>\n      <td>NaN</td>\n      <td>mmol/L</td>\n    </tr>\n  </tbody>\n</table>\n</div>"
     },
     "execution_count": 644,
     "metadata": {},
     "output_type": "execute_result"
    }
   ],
   "source": [
    "dfLabAllSelNoUnknownHospitals = dfLabAllSel.drop(dfLabAllSel[(dfLabAllSel['Symptoms onset']==\"Unknown\") |\n",
    "                                                       (dfLabAllSel['Symptoms onset']== \"Hospital Equired\") ].index)\n",
    "\n",
    "# dfLabAllSelNoUnknownHospitals = dfLabAllSelNoUnknownHospitals.drop(dfLabAllSelNoUnknownHospitals[\n",
    "#                                                                        (dfLabAllSelNoUnknownHospitals['Symptoms onset']== \"Hospital Equired\")].index)\n",
    "\n",
    "dfLabAllSelNoUnknownHospitals.head()"
   ],
   "metadata": {
    "collapsed": false,
    "pycharm": {
     "name": "#%%\n"
    }
   }
  },
  {
   "cell_type": "code",
   "execution_count": 645,
   "outputs": [
    {
     "data": {
      "text/plain": "Early Presenters    33026\nLate Presenters     17723\nName: Symptoms onset, dtype: int64"
     },
     "execution_count": 645,
     "metadata": {},
     "output_type": "execute_result"
    }
   ],
   "source": [
    "dfLabAllSelNoUnknownHospitals['Symptoms onset'].value_counts()"
   ],
   "metadata": {
    "collapsed": false,
    "pycharm": {
     "name": "#%%\n"
    }
   }
  },
  {
   "cell_type": "code",
   "execution_count": 649,
   "outputs": [
    {
     "data": {
      "text/plain": "                STUDY_ID  ADMISSION_DAY_SINCE_ONSET  Days_Lab_Since_Adm  \\\n43     UHSCOVID_00989a42                        5.0                 3.0   \n499    UHSCOVID_00cb7bdd                        5.0                 2.0   \n509    UHSCOVID_00cb7bdd                        5.0                 1.0   \n635    UHSCOVID_025d562e                        1.0                 1.0   \n680    UHSCOVID_037e2bce                        5.0                 4.0   \n...                  ...                        ...                 ...   \n77870  UHSCOVID_fd893360                        0.0                 3.0   \n77873  UHSCOVID_fd893360                        0.0                10.0   \n77911  UHSCOVID_fd893360                        0.0                15.0   \n77921  UHSCOVID_fd893360                        0.0                 2.0   \n77950  UHSCOVID_fd893360                        0.0                 5.0   \n\n      SPECIMEN_TIME SPECIMEN_TIME    Symptoms onset REACT_TESTCODE  \\\n43         00:00:00      00:00:00  Early Presenters            ALT   \n499        00:00:00      00:00:00  Early Presenters            ALT   \n509        00:00:00      00:00:00  Early Presenters            ALT   \n635        20:31:00      20:31:00  Early Presenters            ALT   \n680        00:00:00      00:00:00  Early Presenters            ALT   \n...             ...           ...               ...            ...   \n77870      11:21:00      11:21:00  Early Presenters            ALT   \n77873      09:27:00      09:27:00  Early Presenters            ALT   \n77911      15:15:00      15:15:00  Early Presenters            ALT   \n77921      10:16:00      10:16:00  Early Presenters            ALT   \n77950      11:45:00      11:45:00  Early Presenters            ALT   \n\n       PATHOLOGY_RESULT_NUMERIC  LOWER_RANGE  UPPER_RANGE     UNIT  \n43                         23.0         10.0         40.0  units/L  \n499                        27.0          7.0         35.0  units/L  \n509                        22.0          7.0         35.0  units/L  \n635                        44.0          7.0         35.0  units/L  \n680                       188.0         10.0         40.0  units/L  \n...                         ...          ...          ...      ...  \n77870                      16.0          7.0         35.0  units/L  \n77873                       8.0          7.0         35.0  units/L  \n77911                       7.0          7.0         35.0  units/L  \n77921                       7.0          7.0         35.0  units/L  \n77950                      12.0          7.0         35.0  units/L  \n\n[1994 rows x 11 columns]",
      "text/html": "<div>\n<style scoped>\n    .dataframe tbody tr th:only-of-type {\n        vertical-align: middle;\n    }\n\n    .dataframe tbody tr th {\n        vertical-align: top;\n    }\n\n    .dataframe thead th {\n        text-align: right;\n    }\n</style>\n<table border=\"1\" class=\"dataframe\">\n  <thead>\n    <tr style=\"text-align: right;\">\n      <th></th>\n      <th>STUDY_ID</th>\n      <th>ADMISSION_DAY_SINCE_ONSET</th>\n      <th>Days_Lab_Since_Adm</th>\n      <th>SPECIMEN_TIME</th>\n      <th>SPECIMEN_TIME</th>\n      <th>Symptoms onset</th>\n      <th>REACT_TESTCODE</th>\n      <th>PATHOLOGY_RESULT_NUMERIC</th>\n      <th>LOWER_RANGE</th>\n      <th>UPPER_RANGE</th>\n      <th>UNIT</th>\n    </tr>\n  </thead>\n  <tbody>\n    <tr>\n      <th>43</th>\n      <td>UHSCOVID_00989a42</td>\n      <td>5.0</td>\n      <td>3.0</td>\n      <td>00:00:00</td>\n      <td>00:00:00</td>\n      <td>Early Presenters</td>\n      <td>ALT</td>\n      <td>23.0</td>\n      <td>10.0</td>\n      <td>40.0</td>\n      <td>units/L</td>\n    </tr>\n    <tr>\n      <th>499</th>\n      <td>UHSCOVID_00cb7bdd</td>\n      <td>5.0</td>\n      <td>2.0</td>\n      <td>00:00:00</td>\n      <td>00:00:00</td>\n      <td>Early Presenters</td>\n      <td>ALT</td>\n      <td>27.0</td>\n      <td>7.0</td>\n      <td>35.0</td>\n      <td>units/L</td>\n    </tr>\n    <tr>\n      <th>509</th>\n      <td>UHSCOVID_00cb7bdd</td>\n      <td>5.0</td>\n      <td>1.0</td>\n      <td>00:00:00</td>\n      <td>00:00:00</td>\n      <td>Early Presenters</td>\n      <td>ALT</td>\n      <td>22.0</td>\n      <td>7.0</td>\n      <td>35.0</td>\n      <td>units/L</td>\n    </tr>\n    <tr>\n      <th>635</th>\n      <td>UHSCOVID_025d562e</td>\n      <td>1.0</td>\n      <td>1.0</td>\n      <td>20:31:00</td>\n      <td>20:31:00</td>\n      <td>Early Presenters</td>\n      <td>ALT</td>\n      <td>44.0</td>\n      <td>7.0</td>\n      <td>35.0</td>\n      <td>units/L</td>\n    </tr>\n    <tr>\n      <th>680</th>\n      <td>UHSCOVID_037e2bce</td>\n      <td>5.0</td>\n      <td>4.0</td>\n      <td>00:00:00</td>\n      <td>00:00:00</td>\n      <td>Early Presenters</td>\n      <td>ALT</td>\n      <td>188.0</td>\n      <td>10.0</td>\n      <td>40.0</td>\n      <td>units/L</td>\n    </tr>\n    <tr>\n      <th>...</th>\n      <td>...</td>\n      <td>...</td>\n      <td>...</td>\n      <td>...</td>\n      <td>...</td>\n      <td>...</td>\n      <td>...</td>\n      <td>...</td>\n      <td>...</td>\n      <td>...</td>\n      <td>...</td>\n    </tr>\n    <tr>\n      <th>77870</th>\n      <td>UHSCOVID_fd893360</td>\n      <td>0.0</td>\n      <td>3.0</td>\n      <td>11:21:00</td>\n      <td>11:21:00</td>\n      <td>Early Presenters</td>\n      <td>ALT</td>\n      <td>16.0</td>\n      <td>7.0</td>\n      <td>35.0</td>\n      <td>units/L</td>\n    </tr>\n    <tr>\n      <th>77873</th>\n      <td>UHSCOVID_fd893360</td>\n      <td>0.0</td>\n      <td>10.0</td>\n      <td>09:27:00</td>\n      <td>09:27:00</td>\n      <td>Early Presenters</td>\n      <td>ALT</td>\n      <td>8.0</td>\n      <td>7.0</td>\n      <td>35.0</td>\n      <td>units/L</td>\n    </tr>\n    <tr>\n      <th>77911</th>\n      <td>UHSCOVID_fd893360</td>\n      <td>0.0</td>\n      <td>15.0</td>\n      <td>15:15:00</td>\n      <td>15:15:00</td>\n      <td>Early Presenters</td>\n      <td>ALT</td>\n      <td>7.0</td>\n      <td>7.0</td>\n      <td>35.0</td>\n      <td>units/L</td>\n    </tr>\n    <tr>\n      <th>77921</th>\n      <td>UHSCOVID_fd893360</td>\n      <td>0.0</td>\n      <td>2.0</td>\n      <td>10:16:00</td>\n      <td>10:16:00</td>\n      <td>Early Presenters</td>\n      <td>ALT</td>\n      <td>7.0</td>\n      <td>7.0</td>\n      <td>35.0</td>\n      <td>units/L</td>\n    </tr>\n    <tr>\n      <th>77950</th>\n      <td>UHSCOVID_fd893360</td>\n      <td>0.0</td>\n      <td>5.0</td>\n      <td>11:45:00</td>\n      <td>11:45:00</td>\n      <td>Early Presenters</td>\n      <td>ALT</td>\n      <td>12.0</td>\n      <td>7.0</td>\n      <td>35.0</td>\n      <td>units/L</td>\n    </tr>\n  </tbody>\n</table>\n<p>1994 rows × 11 columns</p>\n</div>"
     },
     "execution_count": 649,
     "metadata": {},
     "output_type": "execute_result"
    }
   ],
   "source": [
    "labName='ALT'\n",
    "mapLabR = dfLabAllSelNoUnknownHospitals['REACT_TESTCODE']==labName\n",
    "dfAlt = dfLabAllSelNoUnknownHospitals[mapLabR]\n",
    "dfAlt"
   ],
   "metadata": {
    "collapsed": false,
    "pycharm": {
     "name": "#%%\n"
    }
   }
  },
  {
   "cell_type": "code",
   "execution_count": null,
   "outputs": [],
   "source": [],
   "metadata": {
    "collapsed": false,
    "pycharm": {
     "name": "#%%\n"
    }
   }
  },
  {
   "cell_type": "code",
   "execution_count": 650,
   "outputs": [
    {
     "data": {
      "text/plain": "61.400200601805416"
     },
     "execution_count": 650,
     "metadata": {},
     "output_type": "execute_result"
    }
   ],
   "source": [
    "dfAlt[\"PATHOLOGY_RESULT_NUMERIC\"].mean()"
   ],
   "metadata": {
    "collapsed": false,
    "pycharm": {
     "name": "#%%\n"
    }
   }
  },
  {
   "cell_type": "code",
   "execution_count": 651,
   "outputs": [
    {
     "ename": "AttributeError",
     "evalue": "'Series' object has no attribute 'sd'",
     "output_type": "error",
     "traceback": [
      "\u001B[1;31m---------------------------------------------------------------------------\u001B[0m",
      "\u001B[1;31mAttributeError\u001B[0m                            Traceback (most recent call last)",
      "\u001B[1;32m<ipython-input-651-edef3f890b74>\u001B[0m in \u001B[0;36m<module>\u001B[1;34m\u001B[0m\n\u001B[1;32m----> 1\u001B[1;33m \u001B[0mdfAlt\u001B[0m\u001B[1;33m[\u001B[0m\u001B[1;34m\"PATHOLOGY_RESULT_NUMERIC\"\u001B[0m\u001B[1;33m]\u001B[0m\u001B[1;33m.\u001B[0m\u001B[0msd\u001B[0m\u001B[1;33m\u001B[0m\u001B[1;33m\u001B[0m\u001B[0m\n\u001B[0m\u001B[0;32m      2\u001B[0m \u001B[1;33m\u001B[0m\u001B[0m\n\u001B[0;32m      3\u001B[0m \u001B[1;33m\u001B[0m\u001B[0m\n",
      "\u001B[1;32mC:\\ANACONDA3\\envs\\dECMT\\lib\\site-packages\\pandas\\core\\generic.py\u001B[0m in \u001B[0;36m__getattr__\u001B[1;34m(self, name)\u001B[0m\n\u001B[0;32m   5137\u001B[0m             \u001B[1;32mif\u001B[0m \u001B[0mself\u001B[0m\u001B[1;33m.\u001B[0m\u001B[0m_info_axis\u001B[0m\u001B[1;33m.\u001B[0m\u001B[0m_can_hold_identifiers_and_holds_name\u001B[0m\u001B[1;33m(\u001B[0m\u001B[0mname\u001B[0m\u001B[1;33m)\u001B[0m\u001B[1;33m:\u001B[0m\u001B[1;33m\u001B[0m\u001B[1;33m\u001B[0m\u001B[0m\n\u001B[0;32m   5138\u001B[0m                 \u001B[1;32mreturn\u001B[0m \u001B[0mself\u001B[0m\u001B[1;33m[\u001B[0m\u001B[0mname\u001B[0m\u001B[1;33m]\u001B[0m\u001B[1;33m\u001B[0m\u001B[1;33m\u001B[0m\u001B[0m\n\u001B[1;32m-> 5139\u001B[1;33m             \u001B[1;32mreturn\u001B[0m \u001B[0mobject\u001B[0m\u001B[1;33m.\u001B[0m\u001B[0m__getattribute__\u001B[0m\u001B[1;33m(\u001B[0m\u001B[0mself\u001B[0m\u001B[1;33m,\u001B[0m \u001B[0mname\u001B[0m\u001B[1;33m)\u001B[0m\u001B[1;33m\u001B[0m\u001B[1;33m\u001B[0m\u001B[0m\n\u001B[0m\u001B[0;32m   5140\u001B[0m \u001B[1;33m\u001B[0m\u001B[0m\n\u001B[0;32m   5141\u001B[0m     \u001B[1;32mdef\u001B[0m \u001B[0m__setattr__\u001B[0m\u001B[1;33m(\u001B[0m\u001B[0mself\u001B[0m\u001B[1;33m,\u001B[0m \u001B[0mname\u001B[0m\u001B[1;33m:\u001B[0m \u001B[0mstr\u001B[0m\u001B[1;33m,\u001B[0m \u001B[0mvalue\u001B[0m\u001B[1;33m)\u001B[0m \u001B[1;33m->\u001B[0m \u001B[1;32mNone\u001B[0m\u001B[1;33m:\u001B[0m\u001B[1;33m\u001B[0m\u001B[1;33m\u001B[0m\u001B[0m\n",
      "\u001B[1;31mAttributeError\u001B[0m: 'Series' object has no attribute 'sd'"
     ]
    }
   ],
   "source": [
    "dfAlt[\"PATHOLOGY_RESULT_NUMERIC\"].sd"
   ],
   "metadata": {
    "collapsed": false,
    "pycharm": {
     "name": "#%%\n"
    }
   }
  },
  {
   "cell_type": "code",
   "execution_count": 652,
   "outputs": [
    {
     "data": {
      "text/plain": "              STUDY_ID  ADMISSION_DAY_SINCE_ONSET  Days_Lab_Since_Adm  \\\n43   UHSCOVID_00989a42                        5.0                 3.0   \n499  UHSCOVID_00cb7bdd                        5.0                 2.0   \n509  UHSCOVID_00cb7bdd                        5.0                 1.0   \n635  UHSCOVID_025d562e                        1.0                 1.0   \n680  UHSCOVID_037e2bce                        5.0                 4.0   \n\n    SPECIMEN_TIME SPECIMEN_TIME    Symptoms onset REACT_TESTCODE  \\\n43       00:00:00      00:00:00  Early Presenters            ALT   \n499      00:00:00      00:00:00  Early Presenters            ALT   \n509      00:00:00      00:00:00  Early Presenters            ALT   \n635      20:31:00      20:31:00  Early Presenters            ALT   \n680      00:00:00      00:00:00  Early Presenters            ALT   \n\n     PATHOLOGY_RESULT_NUMERIC  LOWER_RANGE  UPPER_RANGE     UNIT  \n43                       23.0         10.0         40.0  units/L  \n499                      27.0          7.0         35.0  units/L  \n509                      22.0          7.0         35.0  units/L  \n635                      44.0          7.0         35.0  units/L  \n680                     188.0         10.0         40.0  units/L  ",
      "text/html": "<div>\n<style scoped>\n    .dataframe tbody tr th:only-of-type {\n        vertical-align: middle;\n    }\n\n    .dataframe tbody tr th {\n        vertical-align: top;\n    }\n\n    .dataframe thead th {\n        text-align: right;\n    }\n</style>\n<table border=\"1\" class=\"dataframe\">\n  <thead>\n    <tr style=\"text-align: right;\">\n      <th></th>\n      <th>STUDY_ID</th>\n      <th>ADMISSION_DAY_SINCE_ONSET</th>\n      <th>Days_Lab_Since_Adm</th>\n      <th>SPECIMEN_TIME</th>\n      <th>SPECIMEN_TIME</th>\n      <th>Symptoms onset</th>\n      <th>REACT_TESTCODE</th>\n      <th>PATHOLOGY_RESULT_NUMERIC</th>\n      <th>LOWER_RANGE</th>\n      <th>UPPER_RANGE</th>\n      <th>UNIT</th>\n    </tr>\n  </thead>\n  <tbody>\n    <tr>\n      <th>43</th>\n      <td>UHSCOVID_00989a42</td>\n      <td>5.0</td>\n      <td>3.0</td>\n      <td>00:00:00</td>\n      <td>00:00:00</td>\n      <td>Early Presenters</td>\n      <td>ALT</td>\n      <td>23.0</td>\n      <td>10.0</td>\n      <td>40.0</td>\n      <td>units/L</td>\n    </tr>\n    <tr>\n      <th>499</th>\n      <td>UHSCOVID_00cb7bdd</td>\n      <td>5.0</td>\n      <td>2.0</td>\n      <td>00:00:00</td>\n      <td>00:00:00</td>\n      <td>Early Presenters</td>\n      <td>ALT</td>\n      <td>27.0</td>\n      <td>7.0</td>\n      <td>35.0</td>\n      <td>units/L</td>\n    </tr>\n    <tr>\n      <th>509</th>\n      <td>UHSCOVID_00cb7bdd</td>\n      <td>5.0</td>\n      <td>1.0</td>\n      <td>00:00:00</td>\n      <td>00:00:00</td>\n      <td>Early Presenters</td>\n      <td>ALT</td>\n      <td>22.0</td>\n      <td>7.0</td>\n      <td>35.0</td>\n      <td>units/L</td>\n    </tr>\n    <tr>\n      <th>635</th>\n      <td>UHSCOVID_025d562e</td>\n      <td>1.0</td>\n      <td>1.0</td>\n      <td>20:31:00</td>\n      <td>20:31:00</td>\n      <td>Early Presenters</td>\n      <td>ALT</td>\n      <td>44.0</td>\n      <td>7.0</td>\n      <td>35.0</td>\n      <td>units/L</td>\n    </tr>\n    <tr>\n      <th>680</th>\n      <td>UHSCOVID_037e2bce</td>\n      <td>5.0</td>\n      <td>4.0</td>\n      <td>00:00:00</td>\n      <td>00:00:00</td>\n      <td>Early Presenters</td>\n      <td>ALT</td>\n      <td>188.0</td>\n      <td>10.0</td>\n      <td>40.0</td>\n      <td>units/L</td>\n    </tr>\n  </tbody>\n</table>\n</div>"
     },
     "execution_count": 652,
     "metadata": {},
     "output_type": "execute_result"
    }
   ],
   "source": [
    "dfAlt.head()"
   ],
   "metadata": {
    "collapsed": false,
    "pycharm": {
     "name": "#%%\n"
    }
   }
  },
  {
   "cell_type": "code",
   "execution_count": 653,
   "outputs": [
    {
     "data": {
      "text/plain": "GLUCOSE        13471\nSODIUM          2425\nCREATENINE      2422\nUREA            2421\nWBC             2396\nHB              2396\nNEUTROPHILS     2392\nPLATELETS       2392\nLYMPHOCYTES     2390\nEOSINOPHILS     2387\nPOTASSIUM       2348\nCRP             2323\nBILIRUBIN       2019\nALT             1994\nFERRITIN        1331\nLDH             1283\nTROPONIN        1280\nD_DIMER         1053\nAST              970\nTRIGYCERIN       939\nName: REACT_TESTCODE, dtype: int64"
     },
     "execution_count": 653,
     "metadata": {},
     "output_type": "execute_result"
    }
   ],
   "source": [
    "dfLabAllSelNoUnknownHospitals['REACT_TESTCODE'].value_counts()"
   ],
   "metadata": {
    "collapsed": false,
    "pycharm": {
     "name": "#%%\n"
    }
   }
  },
  {
   "cell_type": "code",
   "execution_count": 654,
   "outputs": [
    {
     "data": {
      "text/plain": "Index(['STUDY_ID', 'ADMISSION_DAY_SINCE_ONSET', 'Days_Lab_Since_Adm',\n       'SPECIMEN_TIME', 'SPECIMEN_TIME', 'Symptoms onset', 'REACT_TESTCODE',\n       'PATHOLOGY_RESULT_NUMERIC', 'LOWER_RANGE', 'UPPER_RANGE', 'UNIT'],\n      dtype='object')"
     },
     "execution_count": 654,
     "metadata": {},
     "output_type": "execute_result"
    }
   ],
   "source": [
    "dfAlt.columns"
   ],
   "metadata": {
    "collapsed": false,
    "pycharm": {
     "name": "#%%\n"
    }
   }
  },
  {
   "cell_type": "code",
   "execution_count": 655,
   "outputs": [],
   "source": [
    "unitName = dfAlt['UNIT'].iloc[0]"
   ],
   "metadata": {
    "collapsed": false,
    "pycharm": {
     "name": "#%%\n"
    }
   }
  },
  {
   "cell_type": "code",
   "execution_count": 656,
   "outputs": [
    {
     "data": {
      "text/plain": "Index(['STUDY_ID', 'ADMISSION_DAY_SINCE_ONSET', 'Days_Lab_Since_Adm',\n       'SPECIMEN_TIME', 'SPECIMEN_TIME', 'Symptoms onset', 'REACT_TESTCODE',\n       'PATHOLOGY_RESULT_NUMERIC', 'LOWER_RANGE', 'UPPER_RANGE', 'UNIT'],\n      dtype='object')"
     },
     "execution_count": 656,
     "metadata": {},
     "output_type": "execute_result"
    }
   ],
   "source": [
    "dfAlt.columns"
   ],
   "metadata": {
    "collapsed": false,
    "pycharm": {
     "name": "#%%\n"
    }
   }
  },
  {
   "cell_type": "code",
   "execution_count": 659,
   "outputs": [
    {
     "data": {
      "text/plain": "                   Mean_Lab     Std_Lab\nSymptoms onset                         \nEarly Presenters  56.577967  104.133441\nLate Presenters   70.217021   73.701022",
      "text/html": "<div>\n<style scoped>\n    .dataframe tbody tr th:only-of-type {\n        vertical-align: middle;\n    }\n\n    .dataframe tbody tr th {\n        vertical-align: top;\n    }\n\n    .dataframe thead th {\n        text-align: right;\n    }\n</style>\n<table border=\"1\" class=\"dataframe\">\n  <thead>\n    <tr style=\"text-align: right;\">\n      <th></th>\n      <th>Mean_Lab</th>\n      <th>Std_Lab</th>\n    </tr>\n    <tr>\n      <th>Symptoms onset</th>\n      <th></th>\n      <th></th>\n    </tr>\n  </thead>\n  <tbody>\n    <tr>\n      <th>Early Presenters</th>\n      <td>56.577967</td>\n      <td>104.133441</td>\n    </tr>\n    <tr>\n      <th>Late Presenters</th>\n      <td>70.217021</td>\n      <td>73.701022</td>\n    </tr>\n  </tbody>\n</table>\n</div>"
     },
     "execution_count": 659,
     "metadata": {},
     "output_type": "execute_result"
    }
   ],
   "source": [
    "grp1 = dfAlt.groupby('Symptoms onset').agg(Mean_Lab = (\"PATHOLOGY_RESULT_NUMERIC\",'mean'),Std_Lab = (\"PATHOLOGY_RESULT_NUMERIC\",'std'))\n",
    "grp1"
   ],
   "metadata": {
    "collapsed": false,
    "pycharm": {
     "name": "#%%\n"
    }
   }
  },
  {
   "cell_type": "code",
   "execution_count": 661,
   "outputs": [
    {
     "data": {
      "text/plain": "pandas.core.frame.DataFrame"
     },
     "execution_count": 661,
     "metadata": {},
     "output_type": "execute_result"
    }
   ],
   "source": [
    "type(grp1)"
   ],
   "metadata": {
    "collapsed": false,
    "pycharm": {
     "name": "#%%\n"
    }
   }
  },
  {
   "cell_type": "code",
   "execution_count": 658,
   "outputs": [
    {
     "data": {
      "text/plain": "array(['CREATENINE', 'PLATELETS', 'GLUCOSE', 'UREA', 'CRP', 'FERRITIN',\n       'D_DIMER', 'SODIUM', 'TROPONIN', 'HB', 'EOSINOPHILS', 'WBC',\n       'BILIRUBIN', 'NEUTROPHILS', 'POTASSIUM', 'LYMPHOCYTES', 'ALT',\n       'LDH', 'AST', 'TRIGYCERIN', nan], dtype=object)"
     },
     "execution_count": 658,
     "metadata": {},
     "output_type": "execute_result"
    }
   ],
   "source": [
    "labParNames"
   ],
   "metadata": {
    "collapsed": false,
    "pycharm": {
     "name": "#%%\n"
    }
   }
  },
  {
   "cell_type": "markdown",
   "source": [
    "#### single run"
   ],
   "metadata": {
    "collapsed": false,
    "pycharm": {
     "name": "#%% md\n"
    }
   }
  },
  {
   "cell_type": "code",
   "execution_count": 709,
   "outputs": [
    {
     "name": "stdout",
     "output_type": "stream",
     "text": [
      "Empty Dataframe \n",
      "Empty DataFrame\n",
      "Columns: [PARAMETER, LATE, EARLY]\n",
      "Index: []\n",
      "====================================================\n",
      "lpMean = 70.21702127659574\n",
      "lpStd = 73.70102183114909\n",
      "Index(['Early Presenters', 'Late Presenters'], dtype='object', name='Symptoms onset')\n",
      "----------------------------------------------------\n",
      "<bound method DataFrame.info of                    Mean_Lab     Std_Lab\n",
      "Symptoms onset                         \n",
      "Early Presenters  56.577967  104.133441\n",
      "Late Presenters   70.217021   73.701022>\n",
      "----------------------------------------------------\n",
      "                   Mean_Lab     Std_Lab\n",
      "Symptoms onset                         \n",
      "Early Presenters  56.577967  104.133441\n",
      "Late Presenters   70.217021   73.701022\n",
      "----------------------------------------------------\n",
      "Index(['Mean_Lab', 'Std_Lab'], dtype='object')\n",
      "====================================================\n",
      "Dataframe Contens \n",
      "  PARAMETER             LATE             EARLY\n",
      "0       ALT  70.217 (73.701)  56.578 (104.133)\n",
      "====================================================\n"
     ]
    },
    {
     "data": {
      "text/plain": "  PARAMETER             LATE             EARLY\n0       ALT  70.217 (73.701)  56.578 (104.133)",
      "text/html": "<div>\n<style scoped>\n    .dataframe tbody tr th:only-of-type {\n        vertical-align: middle;\n    }\n\n    .dataframe tbody tr th {\n        vertical-align: top;\n    }\n\n    .dataframe thead th {\n        text-align: right;\n    }\n</style>\n<table border=\"1\" class=\"dataframe\">\n  <thead>\n    <tr style=\"text-align: right;\">\n      <th></th>\n      <th>PARAMETER</th>\n      <th>LATE</th>\n      <th>EARLY</th>\n    </tr>\n  </thead>\n  <tbody>\n    <tr>\n      <th>0</th>\n      <td>ALT</td>\n      <td>70.217 (73.701)</td>\n      <td>56.578 (104.133)</td>\n    </tr>\n  </tbody>\n</table>\n</div>"
     },
     "execution_count": 709,
     "metadata": {},
     "output_type": "execute_result"
    }
   ],
   "source": [
    "labName='ALT'\n",
    "outTable = pd.DataFrame(columns=['PARAMETER','LATE','EARLY'])\n",
    "print(\"Empty Dataframe \", outTable, sep='\\n')\n",
    "print(\"====================================================\")\n",
    "mapLabR = dfLabAllSelNoUnknownHospitals['REACT_TESTCODE']==labName\n",
    "dfAlt = dfLabAllSelNoUnknownHospitals[mapLabR]\n",
    "grp2 = dfAlt.groupby('Symptoms onset').agg(Mean_Lab = (\"PATHOLOGY_RESULT_NUMERIC\",'mean'),Std_Lab = (\"PATHOLOGY_RESULT_NUMERIC\",'std'))\n",
    "# ------------------------------------------------\n",
    "lpMean = grp2.loc['Late Presenters','Mean_Lab']\n",
    "lpStd = grp2.loc['Late Presenters','Std_Lab']\n",
    "# ------------------------------------------------\n",
    "epMean = grp2.loc['Early Presenters','Mean_Lab']\n",
    "epStd = grp2.loc['Early Presenters','Std_Lab']\n",
    "# ------------------------------------------------\n",
    "print(f\"lpMean = {lpMean}\")\n",
    "print(f\"lpStd = {lpStd}\")\n",
    "print(grp2.index)\n",
    "print(\"----------------------------------------------------\")\n",
    "print(grp2.info)\n",
    "print(\"----------------------------------------------------\")\n",
    "# lpMean = grp2.loc['Late Presenters ','Mean_Lab']\n",
    "# print(lpMean)\n",
    "print(grp2)\n",
    "print(\"----------------------------------------------------\")\n",
    "print(grp2.columns)\n",
    "print(\"====================================================\")\n",
    "\n",
    "outTable = outTable.append({'PARAMETER':labName,'LATE':f\"{lpMean:n} ({lpStd:n})\",'EARLY':f\"{epMean:n} ({epStd:n})\"}, ignore_index=True)\n",
    "print(\"Dataframe Contens \", outTable, sep='\\n')\n",
    "print(\"====================================================\")\n",
    "outTable.head()"
   ],
   "metadata": {
    "collapsed": false,
    "pycharm": {
     "name": "#%%\n"
    }
   }
  },
  {
   "cell_type": "code",
   "execution_count": 680,
   "outputs": [
    {
     "name": "stdout",
     "output_type": "stream",
     "text": [
      "ALT\n",
      "                   Mean_Lab     Std_Lab\n",
      "Symptoms onset                         \n",
      "Early Presenters  56.577967  104.133441\n",
      "Late Presenters   70.217021   73.701022\n",
      "====================================================\n"
     ]
    }
   ],
   "source": [
    "labName='ALT'\n",
    "print(labName)\n",
    "labName\n",
    "mapLabR = dfLabAllSelNoUnknownHospitals['REACT_TESTCODE']==labName\n",
    "dfAlt = dfLabAllSelNoUnknownHospitals[mapLabR]\n",
    "# mean = dfAlt[\"PATHOLOGY_RESULT_NUMERIC\"].mean()\n",
    "# stdV = dfAlt[\"PATHOLOGY_RESULT_NUMERIC\"].std()\n",
    "grp2 = dfAlt.groupby('Symptoms onset').agg(Mean_Lab = (\"PATHOLOGY_RESULT_NUMERIC\",'mean'),Std_Lab = (\"PATHOLOGY_RESULT_NUMERIC\",'std'))\n",
    "lpMean = grp2['Late Presenters ','Mean_Lab']\n",
    "# print(grp2.to_markdown)\n",
    "# print(\"====================================================\")\n",
    "print(grp2)\n",
    "print(\"====================================================\")\n",
    "# print(f\"mean = {mean}\")\n",
    "# print(f\"std = {stdV}\")\n",
    "unitName = \"\"\n",
    "if len(dfAlt['UNIT'])>0:\n",
    "    unitName = dfAlt['UNIT'].iloc[0]\n"
   ],
   "metadata": {
    "collapsed": false,
    "pycharm": {
     "name": "#%%\n"
    }
   }
  },
  {
   "cell_type": "markdown",
   "source": [
    "#### Loop Graphs"
   ],
   "metadata": {
    "collapsed": false,
    "pycharm": {
     "name": "#%% md\n"
    }
   }
  },
  {
   "cell_type": "code",
   "execution_count": 743,
   "outputs": [
    {
     "data": {
      "text/plain": "['CREATENINE',\n 'PLATELETS',\n 'GLUCOSE',\n 'UREA',\n 'CRP',\n 'FERRITIN',\n 'D_DIMER',\n 'SODIUM',\n 'TROPONIN',\n 'HB',\n 'EOSINOPHILS',\n 'WBC',\n 'BILIRUBIN',\n 'NEUTROPHILS',\n 'POTASSIUM',\n 'LYMPHOCYTES',\n 'ALT',\n 'LDH',\n 'AST',\n 'TRIGYCERIN']"
     },
     "execution_count": 743,
     "metadata": {},
     "output_type": "execute_result"
    }
   ],
   "source": [
    "labParNames = dfLabAllSel['REACT_TESTCODE'].unique()\n",
    "labParNames = [x for x in labParNames if str(x) != 'nan']\n",
    "labParNames"
   ],
   "metadata": {
    "collapsed": false,
    "pycharm": {
     "name": "#%%\n"
    }
   }
  },
  {
   "cell_type": "code",
   "execution_count": 744,
   "outputs": [
    {
     "name": "stdout",
     "output_type": "stream",
     "text": [
      "CREATENINE\n",
      "<bound method DataFrame.to_markdown of                     Mean_Lab     Std_Lab\n",
      "Symptoms onset                          \n",
      "Early Presenters   95.238852   83.886018\n",
      "Late Presenters   105.112102  136.817239>\n",
      "====================================================\n",
      "                    Mean_Lab     Std_Lab\n",
      "Symptoms onset                          \n",
      "Early Presenters   95.238852   83.886018\n",
      "Late Presenters   105.112102  136.817239\n",
      "====================================================\n",
      "PLATELETS\n",
      "<bound method DataFrame.to_markdown of                     Mean_Lab     Std_Lab\n",
      "Symptoms onset                          \n",
      "Early Presenters  303.210396  154.993184\n",
      "Late Presenters   312.813144  138.123656>\n",
      "====================================================\n",
      "                    Mean_Lab     Std_Lab\n",
      "Symptoms onset                          \n",
      "Early Presenters  303.210396  154.993184\n",
      "Late Presenters   312.813144  138.123656\n",
      "====================================================\n",
      "GLUCOSE\n",
      "<bound method DataFrame.to_markdown of                   Mean_Lab   Std_Lab\n",
      "Symptoms onset                      \n",
      "Early Presenters  9.040599  3.556435\n",
      "Late Presenters   8.341057  2.476074>\n",
      "====================================================\n",
      "                  Mean_Lab   Std_Lab\n",
      "Symptoms onset                      \n",
      "Early Presenters  9.040599  3.556435\n",
      "Late Presenters   8.341057  2.476074\n",
      "====================================================\n",
      "UREA\n",
      "<bound method DataFrame.to_markdown of                    Mean_Lab   Std_Lab\n",
      "Symptoms onset                       \n",
      "Early Presenters   9.288454  6.894268\n",
      "Late Presenters   10.048724  7.139078>\n",
      "====================================================\n",
      "                   Mean_Lab   Std_Lab\n",
      "Symptoms onset                       \n",
      "Early Presenters   9.288454  6.894268\n",
      "Late Presenters   10.048724  7.139078\n",
      "====================================================\n",
      "CRP\n",
      "<bound method DataFrame.to_markdown of                     Mean_Lab     Std_Lab\n",
      "Symptoms onset                          \n",
      "Early Presenters  110.988491   94.178550\n",
      "Late Presenters   123.774704  114.581978>\n",
      "====================================================\n",
      "                    Mean_Lab     Std_Lab\n",
      "Symptoms onset                          \n",
      "Early Presenters  110.988491   94.178550\n",
      "Late Presenters   123.774704  114.581978\n",
      "====================================================\n",
      "FERRITIN\n",
      "<bound method DataFrame.to_markdown of                     Mean_Lab      Std_Lab\n",
      "Symptoms onset                           \n",
      "Early Presenters  922.405941  1383.594260\n",
      "Late Presenters   898.604207   825.591994>\n",
      "====================================================\n",
      "                    Mean_Lab      Std_Lab\n",
      "Symptoms onset                           \n",
      "Early Presenters  922.405941  1383.594260\n",
      "Late Presenters   898.604207   825.591994\n",
      "====================================================\n",
      "D_DIMER\n",
      "<bound method DataFrame.to_markdown of                      Mean_Lab      Std_Lab\n",
      "Symptoms onset                            \n",
      "Early Presenters  1205.100649  1005.432793\n",
      "Late Presenters   1198.135011  1031.930667>\n",
      "====================================================\n",
      "                     Mean_Lab      Std_Lab\n",
      "Symptoms onset                            \n",
      "Early Presenters  1205.100649  1005.432793\n",
      "Late Presenters   1198.135011  1031.930667\n",
      "====================================================\n",
      "SODIUM\n",
      "<bound method DataFrame.to_markdown of                     Mean_Lab   Std_Lab\n",
      "Symptoms onset                        \n",
      "Early Presenters  138.787805  5.861226\n",
      "Late Presenters   139.882803  6.117391>\n",
      "====================================================\n",
      "                    Mean_Lab   Std_Lab\n",
      "Symptoms onset                        \n",
      "Early Presenters  138.787805  5.861226\n",
      "Late Presenters   139.882803  6.117391\n",
      "====================================================\n",
      "TROPONIN\n",
      "<bound method DataFrame.to_markdown of                     Mean_Lab     Std_Lab\n",
      "Symptoms onset                          \n",
      "Early Presenters  119.298314  595.958747\n",
      "Late Presenters    33.076621  106.831109>\n",
      "====================================================\n",
      "                    Mean_Lab     Std_Lab\n",
      "Symptoms onset                          \n",
      "Early Presenters  119.298314  595.958747\n",
      "Late Presenters    33.076621  106.831109\n",
      "====================================================\n",
      "HB\n",
      "<bound method DataFrame.to_markdown of                     Mean_Lab    Std_Lab\n",
      "Symptoms onset                         \n",
      "Early Presenters  108.098949  21.249726\n",
      "Late Presenters   108.120668  21.647760>\n",
      "====================================================\n",
      "                    Mean_Lab    Std_Lab\n",
      "Symptoms onset                         \n",
      "Early Presenters  108.098949  21.249726\n",
      "Late Presenters   108.120668  21.647760\n",
      "====================================================\n",
      "EOSINOPHILS\n",
      "<bound method DataFrame.to_markdown of                   Mean_Lab   Std_Lab\n",
      "Symptoms onset                      \n",
      "Early Presenters  0.148447  0.220064\n",
      "Late Presenters   0.141956  0.148845>\n",
      "====================================================\n",
      "                  Mean_Lab   Std_Lab\n",
      "Symptoms onset                      \n",
      "Early Presenters  0.148447  0.220064\n",
      "Late Presenters   0.141956  0.148845\n",
      "====================================================\n",
      "WBC\n",
      "<bound method DataFrame.to_markdown of                    Mean_Lab   Std_Lab\n",
      "Symptoms onset                       \n",
      "Early Presenters  10.286518  8.772872\n",
      "Late Presenters    9.982285  5.024733>\n",
      "====================================================\n",
      "                   Mean_Lab   Std_Lab\n",
      "Symptoms onset                       \n",
      "Early Presenters  10.286518  8.772872\n",
      "Late Presenters    9.982285  5.024733\n",
      "====================================================\n",
      "BILIRUBIN\n",
      "<bound method DataFrame.to_markdown of                    Mean_Lab    Std_Lab\n",
      "Symptoms onset                        \n",
      "Early Presenters  13.420489  18.823644\n",
      "Late Presenters   16.009845  27.214664>\n",
      "====================================================\n",
      "                   Mean_Lab    Std_Lab\n",
      "Symptoms onset                        \n",
      "Early Presenters  13.420489  18.823644\n",
      "Late Presenters   16.009845  27.214664\n",
      "====================================================\n",
      "NEUTROPHILS\n",
      "<bound method DataFrame.to_markdown of                   Mean_Lab   Std_Lab\n",
      "Symptoms onset                      \n",
      "Early Presenters  7.600868  5.798951\n",
      "Late Presenters   7.707959  4.263857>\n",
      "====================================================\n",
      "                  Mean_Lab   Std_Lab\n",
      "Symptoms onset                      \n",
      "Early Presenters  7.600868  5.798951\n",
      "Late Presenters   7.707959  4.263857\n",
      "====================================================\n",
      "POTASSIUM\n",
      "<bound method DataFrame.to_markdown of                   Mean_Lab   Std_Lab\n",
      "Symptoms onset                      \n",
      "Early Presenters  4.207736  0.563182\n",
      "Late Presenters   4.344228  0.544061>\n",
      "====================================================\n",
      "                  Mean_Lab   Std_Lab\n",
      "Symptoms onset                      \n",
      "Early Presenters  4.207736  0.563182\n",
      "Late Presenters   4.344228  0.544061\n",
      "====================================================\n",
      "LYMPHOCYTES\n",
      "<bound method DataFrame.to_markdown of                   Mean_Lab   Std_Lab\n",
      "Symptoms onset                      \n",
      "Early Presenters  1.379702  1.224432\n",
      "Late Presenters   1.385366  1.944352>\n",
      "====================================================\n",
      "                  Mean_Lab   Std_Lab\n",
      "Symptoms onset                      \n",
      "Early Presenters  1.379702  1.224432\n",
      "Late Presenters   1.385366  1.944352\n",
      "====================================================\n",
      "ALT\n",
      "<bound method DataFrame.to_markdown of                    Mean_Lab     Std_Lab\n",
      "Symptoms onset                         \n",
      "Early Presenters  56.577967  104.133441\n",
      "Late Presenters   70.217021   73.701022>\n",
      "====================================================\n",
      "                   Mean_Lab     Std_Lab\n",
      "Symptoms onset                         \n",
      "Early Presenters  56.577967  104.133441\n",
      "Late Presenters   70.217021   73.701022\n",
      "====================================================\n",
      "LDH\n",
      "<bound method DataFrame.to_markdown of                     Mean_Lab     Std_Lab\n",
      "Symptoms onset                          \n",
      "Early Presenters  786.305412  375.406224\n",
      "Late Presenters   803.850099  413.601794>\n",
      "====================================================\n",
      "                    Mean_Lab     Std_Lab\n",
      "Symptoms onset                          \n",
      "Early Presenters  786.305412  375.406224\n",
      "Late Presenters   803.850099  413.601794\n",
      "====================================================\n",
      "AST\n",
      "<bound method DataFrame.to_markdown of                    Mean_Lab     Std_Lab\n",
      "Symptoms onset                         \n",
      "Early Presenters  70.195502  171.017573\n",
      "Late Presenters   67.288265   63.849175>\n",
      "====================================================\n",
      "                   Mean_Lab     Std_Lab\n",
      "Symptoms onset                         \n",
      "Early Presenters  70.195502  171.017573\n",
      "Late Presenters   67.288265   63.849175\n",
      "====================================================\n",
      "TRIGYCERIN\n",
      "<bound method DataFrame.to_markdown of                   Mean_Lab   Std_Lab\n",
      "Symptoms onset                      \n",
      "Early Presenters  2.207557  1.160968\n",
      "Late Presenters   2.205676  1.135481>\n",
      "====================================================\n",
      "                  Mean_Lab   Std_Lab\n",
      "Symptoms onset                      \n",
      "Early Presenters  2.207557  1.160968\n",
      "Late Presenters   2.205676  1.135481\n",
      "====================================================\n"
     ]
    },
    {
     "data": {
      "text/plain": "<Figure size 432x288 with 1 Axes>",
      "image/png": "[encoded data removed]"
     },
     "metadata": {
      "needs_background": "light"
     },
     "output_type": "display_data"
    },
    {
     "data": {
      "text/plain": "<Figure size 432x288 with 1 Axes>",
      "image/png": "[encoded data removed]"
     },
     "metadata": {
      "needs_background": "light"
     },
     "output_type": "display_data"
    },
    {
     "data": {
      "text/plain": "<Figure size 432x288 with 1 Axes>",
      "image/png": "[encoded data removed]"
     },
     "metadata": {
      "needs_background": "light"
     },
     "output_type": "display_data"
    },
    {
     "data": {
      "text/plain": "<Figure size 432x288 with 1 Axes>",
      "image/png": "[encoded data removed]"
     },
     "metadata": {
      "needs_background": "light"
     },
     "output_type": "display_data"
    },
    {
     "data": {
      "text/plain": "<Figure size 432x288 with 1 Axes>",
      "image/png": "[encoded data removed]"
     },
     "metadata": {
      "needs_background": "light"
     },
     "output_type": "display_data"
    },
    {
     "data": {
      "text/plain": "<Figure size 432x288 with 1 Axes>",
      "image/png": "[encoded data removed]"
     },
     "metadata": {
      "needs_background": "light"
     },
     "output_type": "display_data"
    },
    {
     "data": {
      "text/plain": "<Figure size 432x288 with 1 Axes>",
      "image/png": "[encoded data removed]"
     },
     "metadata": {
      "needs_background": "light"
     },
     "output_type": "display_data"
    },
    {
     "data": {
      "text/plain": "<Figure size 432x288 with 1 Axes>",
      "image/png": "[encoded data removed]"
     },
     "metadata": {
      "needs_background": "light"
     },
     "output_type": "display_data"
    },
    {
     "data": {
      "text/plain": "<Figure size 432x288 with 1 Axes>",
      "image/png": "[encoded data removed]"
     },
     "metadata": {
      "needs_background": "light"
     },
     "output_type": "display_data"
    },
    {
     "data": {
      "text/plain": "<Figure size 432x288 with 1 Axes>",
      "image/png": "[encoded data removed]"
     },
     "metadata": {
      "needs_background": "light"
     },
     "output_type": "display_data"
    },
    {
     "data": {
      "text/plain": "<Figure size 432x288 with 1 Axes>",
      "image/png": "[encoded data removed]"
     },
     "metadata": {
      "needs_background": "light"
     },
     "output_type": "display_data"
    },
    {
     "data": {
      "text/plain": "<Figure size 432x288 with 1 Axes>",
      "image/png": "[encoded data removed]"
     },
     "metadata": {
      "needs_background": "light"
     },
     "output_type": "display_data"
    },
    {
     "data": {
      "text/plain": "<Figure size 432x288 with 1 Axes>",
      "image/png": "[encoded data removed]"
     },
     "metadata": {
      "needs_background": "light"
     },
     "output_type": "display_data"
    },
    {
     "data": {
      "text/plain": "<Figure size 432x288 with 1 Axes>",
      "image/png": "[encoded data removed]"
     },
     "metadata": {
      "needs_background": "light"
     },
     "output_type": "display_data"
    },
    {
     "data": {
      "text/plain": "<Figure size 432x288 with 1 Axes>",
      "image/png": "[encoded data removed]"
     },
     "metadata": {
      "needs_background": "light"
     },
     "output_type": "display_data"
    },
    {
     "data": {
      "text/plain": "<Figure size 432x288 with 1 Axes>",
      "image/png": "[encoded data removed]"
     },
     "metadata": {
      "needs_background": "light"
     },
     "output_type": "display_data"
    },
    {
     "data": {
      "text/plain": "<Figure size 432x288 with 1 Axes>",
      "image/png": "[encoded data removed]"
     },
     "metadata": {
      "needs_background": "light"
     },
     "output_type": "display_data"
    },
    {
     "data": {
      "text/plain": "<Figure size 432x288 with 1 Axes>",
      "image/png": "[encoded data removed]"
     },
     "metadata": {
      "needs_background": "light"
     },
     "output_type": "display_data"
    },
    {
     "data": {
      "text/plain": "<Figure size 432x288 with 1 Axes>",
      "image/png": "[encoded data removed]"
     },
     "metadata": {
      "needs_background": "light"
     },
     "output_type": "display_data"
    },
    {
     "data": {
      "text/plain": "<Figure size 432x288 with 1 Axes>",
      "image/png": "[encoded data removed]"
     },
     "metadata": {
      "needs_background": "light"
     },
     "output_type": "display_data"
    }
   ],
   "source": [
    "for labName in labParNames:\n",
    "    print(labName)\n",
    "    labName\n",
    "    mapLabR = dfLabAllSelNoUnknownHospitals['REACT_TESTCODE']==labName\n",
    "    dfAlt = dfLabAllSelNoUnknownHospitals[mapLabR]\n",
    "    # mean = dfAlt[\"PATHOLOGY_RESULT_NUMERIC\"].mean()\n",
    "    # stdV = dfAlt[\"PATHOLOGY_RESULT_NUMERIC\"].std()\n",
    "    grp2 = dfAlt.groupby('Symptoms onset').agg(Mean_Lab = (\"PATHOLOGY_RESULT_NUMERIC\",'mean'),Std_Lab = (\"PATHOLOGY_RESULT_NUMERIC\",'std'))\n",
    "    print(grp2.to_markdown)\n",
    "    print(\"====================================================\")\n",
    "    print(grp2)\n",
    "    print(\"====================================================\")\n",
    "    # print(f\"mean = {mean}\")\n",
    "    # print(f\"std = {stdV}\")\n",
    "    unitName = \"\"\n",
    "    if len(dfAlt['UNIT'])>0:\n",
    "        unitName = dfAlt['UNIT'].iloc[0]\n",
    "    sns.boxplot(data=dfAlt, y='Symptoms onset',x=\"PATHOLOGY_RESULT_NUMERIC\")\n",
    "    plt.xlabel(f\"{labName} ({unitName}) - lab Result\")\n",
    "    plt.show()\n"
   ],
   "metadata": {
    "collapsed": false,
    "pycharm": {
     "name": "#%%\n"
    }
   }
  },
  {
   "cell_type": "code",
   "execution_count": 745,
   "outputs": [],
   "source": [
    "def is_nan(x):\n",
    "    return (x is np.nan or x != x)\n"
   ],
   "metadata": {
    "collapsed": false,
    "pycharm": {
     "name": "#%%\n"
    }
   }
  },
  {
   "cell_type": "code",
   "execution_count": 746,
   "outputs": [
    {
     "data": {
      "text/plain": "'TRIGYCERIN'"
     },
     "execution_count": 746,
     "metadata": {},
     "output_type": "execute_result"
    }
   ],
   "source": [
    "labParNames[-1]"
   ],
   "metadata": {
    "collapsed": false,
    "pycharm": {
     "name": "#%%\n"
    }
   }
  },
  {
   "cell_type": "code",
   "execution_count": 747,
   "outputs": [
    {
     "data": {
      "text/plain": "False"
     },
     "execution_count": 747,
     "metadata": {},
     "output_type": "execute_result"
    }
   ],
   "source": [
    "is_nan(labParNames[-1])"
   ],
   "metadata": {
    "collapsed": false,
    "pycharm": {
     "name": "#%%\n"
    }
   }
  },
  {
   "cell_type": "code",
   "execution_count": 748,
   "outputs": [
    {
     "data": {
      "text/plain": "False"
     },
     "execution_count": 748,
     "metadata": {},
     "output_type": "execute_result"
    }
   ],
   "source": [
    "is_nan(labParNames[1])"
   ],
   "metadata": {
    "collapsed": false,
    "pycharm": {
     "name": "#%%\n"
    }
   }
  },
  {
   "cell_type": "markdown",
   "source": [
    "#### Loop table maker"
   ],
   "metadata": {
    "collapsed": false,
    "pycharm": {
     "name": "#%% md\n"
    }
   }
  },
  {
   "cell_type": "code",
   "execution_count": 763,
   "outputs": [
    {
     "name": "stdout",
     "output_type": "stream",
     "text": [
      "====================================================\n",
      "               PARAMETER         LATE        EARLY\n",
      "0    CREATENINE (mmol/L)    105 (137)      95 (84)\n",
      "1     PLATELETS (10E9/L)    313 (138)    303 (155)\n",
      "2       GLUCOSE (mmol/L)        8 (2)        9 (4)\n",
      "3          UREA (mmol/L)       10 (7)        9 (7)\n",
      "4             CRP (mg/L)    124 (115)     111 (94)\n",
      "5        FERRITIN (ng/L)    899 (826)   922 (1384)\n",
      "6          D_DIMER (nan)  1198 (1032)  1205 (1005)\n",
      "7        SODIUM (mmol/L)      140 (6)      139 (6)\n",
      "8        TROPONIN (ng/L)     33 (107)    119 (596)\n",
      "9               HB (g/L)     108 (22)     108 (21)\n",
      "10  EOSINOPHILS (10E9/L)        0 (0)        0 (0)\n",
      "11          WBC (10E9/L)       10 (5)       10 (9)\n",
      "12    BILIRUBIN (umol/L)      16 (27)      13 (19)\n",
      "13  NEUTROPHILS (10E9/L)        8 (4)        8 (6)\n",
      "14    POTASSIUM (mmol/L)        4 (1)        4 (1)\n",
      "15  LYMPHOCYTES (10E9/L)        1 (2)        1 (1)\n",
      "16         ALT (units/L)      70 (74)     57 (104)\n",
      "17         LDH (units/L)    804 (414)    786 (375)\n",
      "18         AST (units/L)      67 (64)     70 (171)\n",
      "19      TRIGYCERIN (nan)        2 (1)        2 (1)\n",
      "====================================================\n"
     ]
    }
   ],
   "source": [
    "# create table\n",
    "def is_nan(x):\n",
    "    return (x is np.nan or x != x)\n",
    "\n",
    "outTable = pd.DataFrame(columns=['PARAMETER','LATE','EARLY'])\n",
    "print(\"====================================================\")\n",
    "for labName in labParNames:\n",
    "    if not is_nan(labName):\n",
    "        # print(labName)\n",
    "        labName\n",
    "        unitName = \"\"\n",
    "        mapLabR = dfLabAllSelNoUnknownHospitals['REACT_TESTCODE']==labName\n",
    "        dfAlt = dfLabAllSelNoUnknownHospitals[mapLabR]\n",
    "        if len(dfAlt['UNIT'])>0:\n",
    "            unitName = dfAlt['UNIT'].iloc[0]\n",
    "        # mean = dfAlt[\"PATHOLOGY_RESULT_NUMERIC\"].mean()\n",
    "        # stdV = dfAlt[\"PATHOLOGY_RESULT_NUMERIC\"].std()\n",
    "        grp2 = dfAlt.groupby('Symptoms onset').agg(Mean_Lab = (\"PATHOLOGY_RESULT_NUMERIC\",'mean'),Std_Lab = (\"PATHOLOGY_RESULT_NUMERIC\",'std'))\n",
    "        # ------------------------------------------------\n",
    "        lpMean = grp2.loc['Late Presenters','Mean_Lab']\n",
    "        lpStd = grp2.loc['Late Presenters','Std_Lab']\n",
    "        # ------------------------------------------------\n",
    "        epMean = grp2.loc['Early Presenters','Mean_Lab']\n",
    "        epStd = grp2.loc['Early Presenters','Std_Lab']\n",
    "        # ------------------------------------------------\n",
    "        # print(f\"lpMean = {lpMean}\")\n",
    "        # print(f\"lpStd = {lpStd}\")\n",
    "        # print(grp2.index)\n",
    "        # print(\"----------------------------------------------------\")\n",
    "        # print(grp2.info)\n",
    "        # print(\"----------------------------------------------------\")\n",
    "        # lpMean = grp2.loc['Late Presenters ','Mean_Lab']\n",
    "        # print(lpMean)\n",
    "        # print(grp2)\n",
    "        # print(\"----------------------------------------------------\")\n",
    "        # print(grp2.columns)\n",
    "        # print(\"====================================================\")\n",
    "        outTable = outTable.append({'PARAMETER': f\"{labName} ({unitName})\",'LATE':f\"{lpMean:0.0f} ({lpStd:0.0f})\",\n",
    "                                    'EARLY':f\"{epMean:0.0f} ({epStd:0.0f})\"}, ignore_index=True)\n",
    "        # print(\"Dataframe Contens \", outTable, sep='\\n')\n",
    "        # print(\"====================================================\")\n",
    "        # outTable.head()\n",
    "print(outTable)\n",
    "dirOut = \"C:\\Work\\DropBoxPS\\Dropbox\\dev\\data\\dECMT\\COVID19_SH\\Outputs_covid\\Manuscript Covid 20_10\"\n",
    "fnOut = f\"lab_results_mean_std_TAble{timeStampStr}.csv\"\n",
    "p = Path(dirOut)\n",
    "p.mkdir(parents=True, exist_ok=True)\n",
    "fpOut = p / fnOut\n",
    "outTable.to_csv(fpOut,index=False)\n",
    "print(\"====================================================\")"
   ],
   "metadata": {
    "collapsed": false,
    "pycharm": {
     "name": "#%%\n"
    }
   }
  },
  {
   "cell_type": "code",
   "execution_count": null,
   "outputs": [],
   "source": [],
   "metadata": {
    "collapsed": false,
    "pycharm": {
     "name": "#%%\n"
    }
   }
  },
  {
   "cell_type": "code",
   "execution_count": null,
   "outputs": [],
   "source": [],
   "metadata": {
    "collapsed": false,
    "pycharm": {
     "name": "#%%\n"
    }
   }
  },
  {
   "cell_type": "code",
   "execution_count": null,
   "outputs": [],
   "source": [],
   "metadata": {
    "collapsed": false,
    "pycharm": {
     "name": "#%%\n"
    }
   }
  },
  {
   "cell_type": "code",
   "execution_count": null,
   "outputs": [],
   "source": [],
   "metadata": {
    "collapsed": false,
    "pycharm": {
     "name": "#%%\n"
    }
   }
  },
  {
   "cell_type": "code",
   "execution_count": null,
   "outputs": [],
   "source": [],
   "metadata": {
    "collapsed": false,
    "pycharm": {
     "name": "#%%\n"
    }
   }
  }
 ],
 "metadata": {
  "kernelspec": {
   "name": "pycharm-b7c5592",
   "language": "python",
   "display_name": "PyCharm (BN4Nephrology)"
  },
  "language_info": {
   "codemirror_mode": {
    "name": "ipython",
    "version": 3
   },
   "file_extension": ".py",
   "mimetype": "text/x-python",
   "name": "python",
   "nbconvert_exporter": "python",
   "pygments_lexer": "ipython3",
   "version": "3.7.6"
  }
 },
 "nbformat": 4,
 "nbformat_minor": 1
}