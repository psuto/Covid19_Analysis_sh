{
 "cells": [
  {
   "cell_type": "code",
   "execution_count": 380,
   "metadata": {
    "collapsed": true
   },
   "outputs": [],
   "source": [
    "import IPython\n",
    "import pandas as pd\n",
    "import matplotlib as ml\n",
    "import matplotlib.pyplot as plt\n",
    "import seaborn as sns\n",
    "from datetime import datetime\n",
    "\n",
    "from IPython.display import Markdown as md\n",
    "from IPython.display import Math as m"
   ]
  },
  {
   "cell_type": "markdown",
   "source": [
    "# Content"
   ],
   "metadata": {
    "collapsed": false,
    "pycharm": {
     "name": "#%% md\n"
    }
   }
  },
  {
   "cell_type": "code",
   "execution_count": 381,
   "outputs": [],
   "source": [
    "todayVal = datetime.today()\n",
    "timeStampStr = todayVal.strftime(\"%y-%m-%d_%H-%M-%S.%f\")"
   ],
   "metadata": {
    "collapsed": false,
    "pycharm": {
     "name": "#%%\n"
    }
   }
  },
  {
   "cell_type": "markdown",
   "source": [
    "## Automatic Chi2 Test"
   ],
   "metadata": {
    "collapsed": false
   }
  },
  {
   "cell_type": "code",
   "execution_count": 381,
   "outputs": [],
   "source": [],
   "metadata": {
    "collapsed": false,
    "pycharm": {
     "name": "#%%\n"
    }
   }
  },
  {
   "cell_type": "code",
   "execution_count": 566,
   "outputs": [],
   "source": [
    "from scipy.stats import chi2_contingency\n",
    "import IPython.display as display\n",
    "from IPython.display import Markdown as md\n",
    "\n",
    "def printmd(string):\n",
    "    IPython.display.display(IPython.display.Markdown(string))\n",
    "\n",
    "def printChi2Test(df,colName1,colName2,text=\"Empty\",correction=True):\n",
    "    printmd(f\"# {text}\")\n",
    "    dfCT = pd.crosstab(df[colName1],df[colName2])\n",
    "    stat, p, dof, expected = chi2_contingency(dfCT,correction=correction)\n",
    "    print(f\"stat = {stat}\")\n",
    "    print(f\"p = {p}\")\n",
    "    print(f\"dof = {dof}\")\n",
    "    print(f\"expected = {expected}\")\n",
    "    printmd(f\"Since p={p:.1g}<0.05, based on Chi2 test we can reject hypothesis that death as outcome does not depend \"\n",
    "       f\"on the presence of a renal disease.\")"
   ],
   "metadata": {
    "collapsed": false,
    "pycharm": {
     "name": "#%%\n"
    }
   }
  },
  {
   "cell_type": "code",
   "execution_count": 567,
   "outputs": [],
   "source": [
    "def printChi2(df,text=\"Empty\",correction=True):\n",
    "    printmd(f\"# {text}\")\n",
    "    stat, p, dof, expected = chi2_contingency(df,correction=correction)\n",
    "    print(f\"stat = {stat}\")\n",
    "    print(f\"p = {p}\")\n",
    "    print(f\"dof = {dof}\")\n",
    "    print(f\"expected = {expected}\")\n",
    "    printmd(f\"Since p={p:.1g}<0.05, based on  test we can reject hypothesis that death as outcome does not depend \"\n",
    "   f\"on the presence of a renal disease.\")"
   ],
   "metadata": {
    "collapsed": false,
    "pycharm": {
     "name": "#%%\n"
    }
   }
  },
  {
   "cell_type": "code",
   "execution_count": 384,
   "outputs": [],
   "source": [
    "from itertools import combinations\n",
    "from statsmodels.sandbox.stats.multicomp import multipletests\n",
    "def get_asterisks_for_pval(p_val):\n",
    "    \"\"\"Receives the p-value and returns asterisks string.\"\"\"\n",
    "    if p_val > 0.05:\n",
    "        p_text = \"ns\"  # above threshold => not significant\n",
    "    elif p_val < 1e-4:\n",
    "        p_text = '****'\n",
    "    elif p_val < 1e-3:\n",
    "        p_text = '***'\n",
    "    elif p_val < 1e-2:\n",
    "        p_text = '**'\n",
    "    else:\n",
    "        p_text = '*'\n",
    "\n",
    "    return p_text\n",
    "\n",
    "def chisq_and_posthoc_corrected(df):\n",
    "    \"\"\"Receives a dataframe and performs chi2 test and then post hoc.\n",
    "    Prints the p-values and corrected p-values (after FDR correction)\"\"\"\n",
    "    # start by running chi2 test on the matrix\n",
    "    chi2, p, dof, ex = chi2_contingency(df, correction=True)\n",
    "    print(f\"Chi2 result of the contingency table: {chi2}, p-value: {p}\")\n",
    "\n",
    "    # post-hoc\n",
    "    all_combinations = list(combinations(df.index, 2))  # gathering all combinations for post-hoc chi2\n",
    "    p_vals = []\n",
    "    print(\"Significance results:\")\n",
    "    for comb in all_combinations:\n",
    "        new_df = df[(df.index == comb[0]) | (df.index == comb[1])]\n",
    "        chi2, p, dof, ex = chi2_contingency(new_df, correction=True)\n",
    "        p_vals.append(p)\n",
    "        # print(f\"For {comb}: {p}\")  # uncorrected\n",
    "\n",
    "    # checking significance\n",
    "    # correction for multiple testing\n",
    "    reject_list, corrected_p_vals = multipletests(p_vals, method='fdr_bh')[:2]\n",
    "    for p_val, corr_p_val, reject, comb in zip(p_vals, corrected_p_vals, reject_list, all_combinations):\n",
    "        print(f\"{comb}: p_value: {p_val:5f}; corrected: {corr_p_val:5f} ({get_asterisks_for_pval(p_val)}) reject: {reject}\")"
   ],
   "metadata": {
    "collapsed": false,
    "pycharm": {
     "name": "#%%\n"
    }
   }
  },
  {
   "cell_type": "code",
   "execution_count": 385,
   "metadata": {
    "pycharm": {
     "name": "#%%\n"
    }
   },
   "outputs": [],
   "source": [
    "%matplotlib inline"
   ]
  },
  {
   "cell_type": "code",
   "execution_count": 385,
   "outputs": [],
   "source": [],
   "metadata": {
    "collapsed": false,
    "pycharm": {
     "name": "#%%\n"
    }
   }
  },
  {
   "cell_type": "markdown",
   "metadata": {
    "pycharm": {
     "name": "#%% md\n"
    }
   },
   "source": [
    "# Questions\n",
    "- Are there differences in outcomes between people who present early (e.g. within 7 days of symptom onset) vs late?"
   ]
  },
  {
   "cell_type": "markdown",
   "source": [
    "# Data Reading\n",
    "# Melted"
   ],
   "metadata": {
    "collapsed": false,
    "pycharm": {
     "name": "#%% md\n"
    }
   }
  },
  {
   "cell_type": "code",
   "execution_count": 386,
   "metadata": {
    "pycharm": {
     "name": "#%%\n"
    }
   },
   "outputs": [],
   "source": [
    "fpMelted=\"C:\\Work\\dev\\dECMT_src\\data_all\\COVID19_Data\\Preprocessed_Data\\df_melted_29092020_ow.csv\"\n",
    "fpMelted=\"C:\\Work\\dev\\dECMT_src\\data_all\\COVID19_Data\\Preprocessed_Data\\df_melted_02102020_ow.csv\"\n",
    "dfMelted = pd.read_csv(fpMelted)"
   ]
  },
  {
   "cell_type": "code",
   "execution_count": 387,
   "outputs": [
    {
     "data": {
      "text/plain": "Index(['Unnamed: 0', 'STUDY_ID', 'ADMISSION_START_DATE', 'ADMISSION_END_DATE',\n       'ITU_START_DATE', 'ITU_END_DATE', 'INVASIVE_VENTILATION_START_DATE',\n       'INVASIVE_VENTILATION_END_DATE', 'NIV_START_DATE', 'NIV_END_DATE',\n       'C5_START_DATE', 'C5_END_DATE', 'ADMISSION_START_DAY',\n       'ADMISSION_END_DAY', 'ITU_START_DAY', 'ITU_END_DAY',\n       'INVASIVE_VENTILATION_START_DAY', 'INVASIVE_VENTILATION_END_DAY',\n       'NIV_START_DAY', 'NIV_END_DAY', 'C5_START_DAY', 'C5_END_DAY',\n       'PATIENT_AGE', 'GENDER', 'DEATH_DATE', 'DISCHARGE_DATE', 'DEATH_DAY',\n       'DISCHARGE_DAY', 'ITU', 'INV', 'NIV', 'C5', 'DEATH', 'DISCHARGED',\n       'SURVIVED', 'STILL_IN', 'READMITTED', 'ADMISSION_NB', 'AGE_GROUP',\n       'AGE_GROUP_2', 'COPD', 'ASTHMA', 'ILD', 'BRONCHIECTASIS',\n       'HYPERTENSION', 'THROMBOEMBOLIC', 'CARDIAC_D', 'RENAL_D', 'LIVER_D',\n       'NEURAL_D', 'META_SOLID_TUMOUR', 'MAGLINANT_NEO', 'DIABETES', 'OBESITY',\n       'HIV', 'RHEUMATO_D', 'DIMENTIA', 'IMMUNO', 'NB_COMOR',\n       'SYMPTOM_ONSET_DATE', 'ADMISSION_DAY_SINCE_ONSET', 'SPECIMEN_DATE',\n       'SPECIMEN_DAY_SINCE_ADMISSION', 'SPECIMENT_DAY_SINCE_ONSET',\n       'PARAMETER', 'meanValue'],\n      dtype='object')"
     },
     "execution_count": 387,
     "metadata": {},
     "output_type": "execute_result"
    }
   ],
   "source": [
    "dfMelted.columns"
   ],
   "metadata": {
    "collapsed": false,
    "pycharm": {
     "name": "#%%\n"
    }
   }
  },
  {
   "cell_type": "markdown",
   "source": [
    "## Etnicity"
   ],
   "metadata": {
    "collapsed": false,
    "pycharm": {
     "name": "#%% md\n"
    }
   }
  },
  {
   "cell_type": "code",
   "execution_count": 388,
   "outputs": [
    {
     "data": {
      "text/plain": "Index(['STUDY_ID', 'PATIENT_AGE', 'DOB', 'DATE_OF_DEATH', 'DOD_DATE', 'GENDER',\n       'ETHNIC_GROUP', 'SMOKING_HISTORY', 'POSTCODE', 'IS_PREGNANT', 'HEIG',\n       'WEIG', 'BMI', 'FIRST_POS_DATE', 'FIRST_POS_DATE_R', 'FIRST_POS_TIME_R',\n       'ADMIT_DATETIME', 'ADM_DATE_R', 'ADM_TIME_R', 'DISCHARGEDATE',\n       'DISCHARGE_DATE_R', 'DISCHARGE_TIME_R', 'LOS', 'LOS_PREPOS', 'READM28',\n       'READM_DATETIME', 'READM_DATE', 'READM_TIME'],\n      dtype='object')"
     },
     "execution_count": 388,
     "metadata": {},
     "output_type": "execute_result"
    }
   ],
   "source": [
    "# ethnicity\n",
    "fpEthinc = \"C:\\Work\\dev\\dECMT_src\\data_all\\COVID19_Data\\Current\\REACT_Demographics.csv\"\n",
    "dfEthnic = pd.read_csv(fpEthinc)\n",
    "dfEthnic.head()\n",
    "dfEthnic.columns"
   ],
   "metadata": {
    "collapsed": false,
    "pycharm": {
     "name": "#%%\n"
    }
   }
  },
  {
   "cell_type": "code",
   "execution_count": 389,
   "outputs": [],
   "source": [
    "dfEthnicOnly = dfEthnic[['STUDY_ID','ETHNIC_GROUP']]"
   ],
   "metadata": {
    "collapsed": false,
    "pycharm": {
     "name": "#%%\n"
    }
   }
  },
  {
   "cell_type": "code",
   "execution_count": 390,
   "outputs": [
    {
     "data": {
      "text/plain": "264826"
     },
     "execution_count": 390,
     "metadata": {},
     "output_type": "execute_result"
    }
   ],
   "source": [
    "len(dfMelted)"
   ],
   "metadata": {
    "collapsed": false,
    "pycharm": {
     "name": "#%%\n"
    }
   }
  },
  {
   "cell_type": "code",
   "execution_count": 391,
   "outputs": [
    {
     "data": {
      "text/plain": "264826"
     },
     "execution_count": 391,
     "metadata": {},
     "output_type": "execute_result"
    }
   ],
   "source": [
    "dfMelted = pd.merge(dfMelted,dfEthnicOnly,on='STUDY_ID',how='left')\n",
    "len(dfMelted)"
   ],
   "metadata": {
    "collapsed": false,
    "pycharm": {
     "name": "#%%\n"
    }
   }
  },
  {
   "cell_type": "code",
   "execution_count": 392,
   "outputs": [
    {
     "data": {
      "text/plain": "A    194616\nL     14416\nZ      7922\nC      7140\nN      6970\nX      5474\nS      4522\nG      3740\nE      3536\nH      2652\nP      1768\nJ      1394\nD       816\nR       340\nM       238\nB       204\nK       204\nName: ETHNIC_GROUP, dtype: int64"
     },
     "execution_count": 392,
     "metadata": {},
     "output_type": "execute_result"
    }
   ],
   "source": [
    "dfMelted['ETHNIC_GROUP'].value_counts()"
   ],
   "metadata": {
    "collapsed": false,
    "pycharm": {
     "name": "#%%\n"
    }
   }
  },
  {
   "cell_type": "code",
   "execution_count": 393,
   "outputs": [
    {
     "data": {
      "text/plain": "Index(['STUDY_ID', 'PATIENT_AGE', 'DOB', 'DATE_OF_DEATH', 'DOD_DATE', 'GENDER',\n       'ETHNIC_GROUP', 'SMOKING_HISTORY', 'POSTCODE', 'IS_PREGNANT', 'HEIG',\n       'WEIG', 'BMI', 'FIRST_POS_DATE', 'FIRST_POS_DATE_R', 'FIRST_POS_TIME_R',\n       'ADMIT_DATETIME', 'ADM_DATE_R', 'ADM_TIME_R', 'DISCHARGEDATE',\n       'DISCHARGE_DATE_R', 'DISCHARGE_TIME_R', 'LOS', 'LOS_PREPOS', 'READM28',\n       'READM_DATETIME', 'READM_DATE', 'READM_TIME'],\n      dtype='object')"
     },
     "execution_count": 393,
     "metadata": {},
     "output_type": "execute_result"
    }
   ],
   "source": [
    "# STUDY_ID', 'PATIENT_AGE', 'DOB', 'DATE_OF_DEATH', 'DOD_DATE', 'GENDER',\n",
    "#        'ETHNIC_GROUP', 'SMOKING_HISTORY', 'POSTCODE', 'IS_PREGNANT', 'HEIG',\n",
    "#        'WEIG', 'BMI', 'FIRST_POS_DATE', 'FIRST_POS_DATE_R', 'FIRST_POS_TIME_R',\n",
    "#        'ADMIT_DATETIME', 'ADM_DATE_R', 'ADM_TIME_R', 'DISCHARGEDATE',\n",
    "#        'DISCHARGE_DATE_R', 'DISCHARGE_TIME_R', 'LOS', 'LOS_PREPOS', 'READM28',\n",
    "#        'READM_DATETIME', 'READM_DATE', 'READM_TIME'],\n",
    "#       dtype='object')\n",
    "dfEthnic.columns"
   ],
   "metadata": {
    "collapsed": false,
    "pycharm": {
     "name": "#%%\n"
    }
   }
  },
  {
   "cell_type": "code",
   "execution_count": 394,
   "outputs": [],
   "source": [
    "# dfMelted = dfMelted['ETHNIC_GROUP']"
   ],
   "metadata": {
    "collapsed": false,
    "pycharm": {
     "name": "#%%\n"
    }
   }
  },
  {
   "cell_type": "code",
   "execution_count": 395,
   "metadata": {
    "pycharm": {
     "name": "#%%\n"
    }
   },
   "outputs": [
    {
     "data": {
      "text/plain": "   Unnamed: 0           STUDY_ID ADMISSION_START_DATE ADMISSION_END_DATE  \\\n0           0  UHSCOVID_00989a42           2020-03-26         2020-04-02   \n1           1  UHSCOVID_00989a42           2020-03-26         2020-04-02   \n2           2  UHSCOVID_00989a42           2020-03-26         2020-04-02   \n3           3  UHSCOVID_00989a42           2020-03-26         2020-04-02   \n4           4  UHSCOVID_00989a42           2020-03-26         2020-04-02   \n\n  ITU_START_DATE ITU_END_DATE INVASIVE_VENTILATION_START_DATE  \\\n0            NaN          NaN                             NaN   \n1            NaN          NaN                             NaN   \n2            NaN          NaN                             NaN   \n3            NaN          NaN                             NaN   \n4            NaN          NaN                             NaN   \n\n  INVASIVE_VENTILATION_END_DATE NIV_START_DATE NIV_END_DATE  ... IMMUNO  \\\n0                           NaN            NaN          NaN  ...    0.0   \n1                           NaN            NaN          NaN  ...    0.0   \n2                           NaN            NaN          NaN  ...    0.0   \n3                           NaN            NaN          NaN  ...    0.0   \n4                           NaN            NaN          NaN  ...    0.0   \n\n  NB_COMOR  SYMPTOM_ONSET_DATE  ADMISSION_DAY_SINCE_ONSET  SPECIMEN_DATE  \\\n0      4.0          2020-03-21                        5.0     2020-03-26   \n1      4.0          2020-03-21                        5.0     2020-03-27   \n2      4.0          2020-03-21                        5.0     2020-03-28   \n3      4.0          2020-03-21                        5.0     2020-03-29   \n4      4.0          2020-03-21                        5.0     2020-03-30   \n\n   SPECIMEN_DAY_SINCE_ADMISSION  SPECIMENT_DAY_SINCE_ONSET  PARAMETER  \\\n0                           0.0                        5.0        ALT   \n1                           1.0                        6.0        ALT   \n2                           2.0                        7.0        ALT   \n3                           3.0                        8.0        ALT   \n4                           4.0                        9.0        ALT   \n\n   meanValue  ETHNIC_GROUP  \n0        NaN             A  \n1        NaN             A  \n2        NaN             A  \n3       23.0             A  \n4        NaN             A  \n\n[5 rows x 67 columns]",
      "text/html": "<div>\n<style scoped>\n    .dataframe tbody tr th:only-of-type {\n        vertical-align: middle;\n    }\n\n    .dataframe tbody tr th {\n        vertical-align: top;\n    }\n\n    .dataframe thead th {\n        text-align: right;\n    }\n</style>\n<table border=\"1\" class=\"dataframe\">\n  <thead>\n    <tr style=\"text-align: right;\">\n      <th></th>\n      <th>Unnamed: 0</th>\n      <th>STUDY_ID</th>\n      <th>ADMISSION_START_DATE</th>\n      <th>ADMISSION_END_DATE</th>\n      <th>ITU_START_DATE</th>\n      <th>ITU_END_DATE</th>\n      <th>INVASIVE_VENTILATION_START_DATE</th>\n      <th>INVASIVE_VENTILATION_END_DATE</th>\n      <th>NIV_START_DATE</th>\n      <th>NIV_END_DATE</th>\n      <th>...</th>\n      <th>IMMUNO</th>\n      <th>NB_COMOR</th>\n      <th>SYMPTOM_ONSET_DATE</th>\n      <th>ADMISSION_DAY_SINCE_ONSET</th>\n      <th>SPECIMEN_DATE</th>\n      <th>SPECIMEN_DAY_SINCE_ADMISSION</th>\n      <th>SPECIMENT_DAY_SINCE_ONSET</th>\n      <th>PARAMETER</th>\n      <th>meanValue</th>\n      <th>ETHNIC_GROUP</th>\n    </tr>\n  </thead>\n  <tbody>\n    <tr>\n      <th>0</th>\n      <td>0</td>\n      <td>UHSCOVID_00989a42</td>\n      <td>2020-03-26</td>\n      <td>2020-04-02</td>\n      <td>NaN</td>\n      <td>NaN</td>\n      <td>NaN</td>\n      <td>NaN</td>\n      <td>NaN</td>\n      <td>NaN</td>\n      <td>...</td>\n      <td>0.0</td>\n      <td>4.0</td>\n      <td>2020-03-21</td>\n      <td>5.0</td>\n      <td>2020-03-26</td>\n      <td>0.0</td>\n      <td>5.0</td>\n      <td>ALT</td>\n      <td>NaN</td>\n      <td>A</td>\n    </tr>\n    <tr>\n      <th>1</th>\n      <td>1</td>\n      <td>UHSCOVID_00989a42</td>\n      <td>2020-03-26</td>\n      <td>2020-04-02</td>\n      <td>NaN</td>\n      <td>NaN</td>\n      <td>NaN</td>\n      <td>NaN</td>\n      <td>NaN</td>\n      <td>NaN</td>\n      <td>...</td>\n      <td>0.0</td>\n      <td>4.0</td>\n      <td>2020-03-21</td>\n      <td>5.0</td>\n      <td>2020-03-27</td>\n      <td>1.0</td>\n      <td>6.0</td>\n      <td>ALT</td>\n      <td>NaN</td>\n      <td>A</td>\n    </tr>\n    <tr>\n      <th>2</th>\n      <td>2</td>\n      <td>UHSCOVID_00989a42</td>\n      <td>2020-03-26</td>\n      <td>2020-04-02</td>\n      <td>NaN</td>\n      <td>NaN</td>\n      <td>NaN</td>\n      <td>NaN</td>\n      <td>NaN</td>\n      <td>NaN</td>\n      <td>...</td>\n      <td>0.0</td>\n      <td>4.0</td>\n      <td>2020-03-21</td>\n      <td>5.0</td>\n      <td>2020-03-28</td>\n      <td>2.0</td>\n      <td>7.0</td>\n      <td>ALT</td>\n      <td>NaN</td>\n      <td>A</td>\n    </tr>\n    <tr>\n      <th>3</th>\n      <td>3</td>\n      <td>UHSCOVID_00989a42</td>\n      <td>2020-03-26</td>\n      <td>2020-04-02</td>\n      <td>NaN</td>\n      <td>NaN</td>\n      <td>NaN</td>\n      <td>NaN</td>\n      <td>NaN</td>\n      <td>NaN</td>\n      <td>...</td>\n      <td>0.0</td>\n      <td>4.0</td>\n      <td>2020-03-21</td>\n      <td>5.0</td>\n      <td>2020-03-29</td>\n      <td>3.0</td>\n      <td>8.0</td>\n      <td>ALT</td>\n      <td>23.0</td>\n      <td>A</td>\n    </tr>\n    <tr>\n      <th>4</th>\n      <td>4</td>\n      <td>UHSCOVID_00989a42</td>\n      <td>2020-03-26</td>\n      <td>2020-04-02</td>\n      <td>NaN</td>\n      <td>NaN</td>\n      <td>NaN</td>\n      <td>NaN</td>\n      <td>NaN</td>\n      <td>NaN</td>\n      <td>...</td>\n      <td>0.0</td>\n      <td>4.0</td>\n      <td>2020-03-21</td>\n      <td>5.0</td>\n      <td>2020-03-30</td>\n      <td>4.0</td>\n      <td>9.0</td>\n      <td>ALT</td>\n      <td>NaN</td>\n      <td>A</td>\n    </tr>\n  </tbody>\n</table>\n<p>5 rows × 67 columns</p>\n</div>"
     },
     "execution_count": 395,
     "metadata": {},
     "output_type": "execute_result"
    }
   ],
   "source": [
    "dfMelted.head()"
   ]
  },
  {
   "cell_type": "code",
   "execution_count": 396,
   "outputs": [
    {
     "data": {
      "text/plain": "0.0    257618\n1.0      7208\nName: READMITTED, dtype: int64"
     },
     "execution_count": 396,
     "metadata": {},
     "output_type": "execute_result"
    }
   ],
   "source": [
    "dfMelted['READMITTED'].value_counts()"
   ],
   "metadata": {
    "collapsed": false,
    "pycharm": {
     "name": "#%%\n"
    }
   }
  },
  {
   "cell_type": "code",
   "execution_count": 397,
   "outputs": [
    {
     "data": {
      "text/plain": "UHSCOVID_1277db7c    4590\nUHSCOVID_a567e383    4488\nUHSCOVID_beb0ab71    3706\nUHSCOVID_6d0785dc    2686\nUHSCOVID_b8332747    2618\n                     ... \nUHSCOVID_731e5080      34\nUHSCOVID_abbe4afe      34\nUHSCOVID_cc399bec      34\nUHSCOVID_fb2e1046      34\nUHSCOVID_d321190c      34\nName: STUDY_ID, Length: 651, dtype: int64"
     },
     "execution_count": 397,
     "metadata": {},
     "output_type": "execute_result"
    }
   ],
   "source": [
    "dfMelted['STUDY_ID'].value_counts()"
   ],
   "metadata": {
    "collapsed": false,
    "pycharm": {
     "name": "#%%\n"
    }
   }
  },
  {
   "cell_type": "code",
   "execution_count": 398,
   "outputs": [
    {
     "data": {
      "text/plain": "651"
     },
     "execution_count": 398,
     "metadata": {},
     "output_type": "execute_result"
    }
   ],
   "source": [
    "len(dfMelted['STUDY_ID'].unique())"
   ],
   "metadata": {
    "collapsed": false,
    "pycharm": {
     "name": "#%%\n"
    }
   }
  },
  {
   "cell_type": "code",
   "execution_count": 398,
   "outputs": [],
   "source": [],
   "metadata": {
    "collapsed": false,
    "pycharm": {
     "name": "#%%\n"
    }
   }
  },
  {
   "cell_type": "code",
   "execution_count": 399,
   "metadata": {
    "pycharm": {
     "name": "#%%\n"
    }
   },
   "outputs": [],
   "source": [
    "x=dfMelted['ADMISSION_DAY_SINCE_ONSET'].unique()"
   ]
  },
  {
   "cell_type": "code",
   "execution_count": 399,
   "metadata": {
    "pycharm": {
     "name": "#%%\n"
    }
   },
   "outputs": [],
   "source": []
  },
  {
   "cell_type": "code",
   "execution_count": 400,
   "metadata": {
    "pycharm": {
     "name": "#%%\n"
    }
   },
   "outputs": [
    {
     "data": {
      "text/plain": " 0.0     23732\n 4.0     21760\n 7.0     21148\n 14.0    14620\n 1.0     10778\n         ...  \n-22.0      306\n-31.0      306\n 25.0      272\n-26.0      238\n 22.0      136\nName: ADMISSION_DAY_SINCE_ONSET, Length: 62, dtype: int64"
     },
     "execution_count": 400,
     "metadata": {},
     "output_type": "execute_result"
    }
   ],
   "source": [
    "y=dfMelted['ADMISSION_DAY_SINCE_ONSET'].value_counts()\n",
    "y"
   ]
  },
  {
   "cell_type": "code",
   "execution_count": 401,
   "metadata": {
    "pycharm": {
     "name": "#%%\n"
    }
   },
   "outputs": [
    {
     "data": {
      "text/plain": "Index(['Unnamed: 0', 'STUDY_ID', 'ADMISSION_START_DATE', 'ADMISSION_END_DATE',\n       'ITU_START_DATE', 'ITU_END_DATE', 'INVASIVE_VENTILATION_START_DATE',\n       'INVASIVE_VENTILATION_END_DATE', 'NIV_START_DATE', 'NIV_END_DATE',\n       'C5_START_DATE', 'C5_END_DATE', 'ADMISSION_START_DAY',\n       'ADMISSION_END_DAY', 'ITU_START_DAY', 'ITU_END_DAY',\n       'INVASIVE_VENTILATION_START_DAY', 'INVASIVE_VENTILATION_END_DAY',\n       'NIV_START_DAY', 'NIV_END_DAY', 'C5_START_DAY', 'C5_END_DAY',\n       'PATIENT_AGE', 'GENDER', 'DEATH_DATE', 'DISCHARGE_DATE', 'DEATH_DAY',\n       'DISCHARGE_DAY', 'ITU', 'INV', 'NIV', 'C5', 'DEATH', 'DISCHARGED',\n       'SURVIVED', 'STILL_IN', 'READMITTED', 'ADMISSION_NB', 'AGE_GROUP',\n       'AGE_GROUP_2', 'COPD', 'ASTHMA', 'ILD', 'BRONCHIECTASIS',\n       'HYPERTENSION', 'THROMBOEMBOLIC', 'CARDIAC_D', 'RENAL_D', 'LIVER_D',\n       'NEURAL_D', 'META_SOLID_TUMOUR', 'MAGLINANT_NEO', 'DIABETES', 'OBESITY',\n       'HIV', 'RHEUMATO_D', 'DIMENTIA', 'IMMUNO', 'NB_COMOR',\n       'SYMPTOM_ONSET_DATE', 'ADMISSION_DAY_SINCE_ONSET', 'SPECIMEN_DATE',\n       'SPECIMEN_DAY_SINCE_ADMISSION', 'SPECIMENT_DAY_SINCE_ONSET',\n       'PARAMETER', 'meanValue', 'ETHNIC_GROUP'],\n      dtype='object')"
     },
     "execution_count": 401,
     "metadata": {},
     "output_type": "execute_result"
    }
   ],
   "source": [
    "dfMelted.columns"
   ]
  },
  {
   "cell_type": "code",
   "execution_count": 402,
   "metadata": {
    "pycharm": {
     "name": "#%%\n"
    }
   },
   "outputs": [
    {
     "data": {
      "text/plain": "(651,)"
     },
     "execution_count": 402,
     "metadata": {},
     "output_type": "execute_result"
    }
   ],
   "source": [
    "dfMelted['STUDY_ID'].unique().shape\n"
   ]
  },
  {
   "cell_type": "code",
   "execution_count": 403,
   "metadata": {
    "pycharm": {
     "name": "#%%\n"
    }
   },
   "outputs": [
    {
     "data": {
      "text/plain": "(264826, 67)"
     },
     "execution_count": 403,
     "metadata": {},
     "output_type": "execute_result"
    }
   ],
   "source": [
    "dfMelted.shape"
   ]
  },
  {
   "cell_type": "code",
   "execution_count": 404,
   "metadata": {
    "pycharm": {
     "name": "#%%\n"
    }
   },
   "outputs": [],
   "source": [
    "# type(x)\n",
    "# plt.plot.hist(x)"
   ]
  },
  {
   "cell_type": "code",
   "execution_count": 405,
   "metadata": {
    "pycharm": {
     "name": "#%%\n"
    }
   },
   "outputs": [
    {
     "data": {
      "text/plain": "Index(['Unnamed: 0', 'STUDY_ID', 'ADMISSION_START_DATE', 'ADMISSION_END_DATE',\n       'ITU_START_DATE', 'ITU_END_DATE', 'INVASIVE_VENTILATION_START_DATE',\n       'INVASIVE_VENTILATION_END_DATE', 'NIV_START_DATE', 'NIV_END_DATE',\n       'C5_START_DATE', 'C5_END_DATE', 'ADMISSION_START_DAY',\n       'ADMISSION_END_DAY', 'ITU_START_DAY', 'ITU_END_DAY',\n       'INVASIVE_VENTILATION_START_DAY', 'INVASIVE_VENTILATION_END_DAY',\n       'NIV_START_DAY', 'NIV_END_DAY', 'C5_START_DAY', 'C5_END_DAY',\n       'PATIENT_AGE', 'GENDER', 'DEATH_DATE', 'DISCHARGE_DATE', 'DEATH_DAY',\n       'DISCHARGE_DAY', 'ITU', 'INV', 'NIV', 'C5', 'DEATH', 'DISCHARGED',\n       'SURVIVED', 'STILL_IN', 'READMITTED', 'ADMISSION_NB', 'AGE_GROUP',\n       'AGE_GROUP_2', 'COPD', 'ASTHMA', 'ILD', 'BRONCHIECTASIS',\n       'HYPERTENSION', 'THROMBOEMBOLIC', 'CARDIAC_D', 'RENAL_D', 'LIVER_D',\n       'NEURAL_D', 'META_SOLID_TUMOUR', 'MAGLINANT_NEO', 'DIABETES', 'OBESITY',\n       'HIV', 'RHEUMATO_D', 'DIMENTIA', 'IMMUNO', 'NB_COMOR',\n       'SYMPTOM_ONSET_DATE', 'ADMISSION_DAY_SINCE_ONSET', 'SPECIMEN_DATE',\n       'SPECIMEN_DAY_SINCE_ADMISSION', 'SPECIMENT_DAY_SINCE_ONSET',\n       'PARAMETER', 'meanValue', 'ETHNIC_GROUP'],\n      dtype='object')"
     },
     "execution_count": 405,
     "metadata": {},
     "output_type": "execute_result"
    }
   ],
   "source": [
    "dfMelted.columns"
   ]
  },
  {
   "cell_type": "code",
   "execution_count": 406,
   "metadata": {
    "pycharm": {
     "name": "#%%\n"
    }
   },
   "outputs": [
    {
     "data": {
      "text/plain": "(264826, 67)"
     },
     "execution_count": 406,
     "metadata": {},
     "output_type": "execute_result"
    }
   ],
   "source": [
    "dfMelted.shape"
   ]
  },
  {
   "cell_type": "code",
   "execution_count": 407,
   "outputs": [
    {
     "data": {
      "text/plain": "0.0    177990\n1.0     86836\nName: ITU, dtype: int64"
     },
     "execution_count": 407,
     "metadata": {},
     "output_type": "execute_result"
    }
   ],
   "source": [
    "dfMelted['ITU'].value_counts()"
   ],
   "metadata": {
    "collapsed": false,
    "pycharm": {
     "name": "#%%\n"
    }
   }
  },
  {
   "cell_type": "code",
   "execution_count": 408,
   "metadata": {
    "pycharm": {
     "name": "#%%\n"
    }
   },
   "outputs": [],
   "source": [
    "selectedCols = ['STUDY_ID','ADMISSION_DAY_SINCE_ONSET','ADMISSION_START_DATE',  'SYMPTOM_ONSET_DATE', 'ADMISSION_END_DATE','DEATH_DATE',\n",
    "'DISCHARGE_DATE', 'DEATH', 'DISCHARGED','SURVIVED','READMITTED','ASTHMA']\n",
    "\n",
    "selectedCols = ['STUDY_ID','ADMISSION_DAY_SINCE_ONSET','ADMISSION_START_DATE',  'SYMPTOM_ONSET_DATE', 'ADMISSION_END_DATE','DEATH_DATE',\n",
    "'DISCHARGE_DATE', 'DEATH', 'DISCHARGED','SURVIVED','ITU','NIV','READMITTED','PATIENT_AGE', 'GENDER','ASTHMA', 'COPD','BRONCHIECTASIS',\n",
    "       'HYPERTENSION', 'THROMBOEMBOLIC', 'CARDIAC_D', 'RENAL_D', 'LIVER_D',\n",
    "       'NEURAL_D', 'META_SOLID_TUMOUR', 'MAGLINANT_NEO', 'DIABETES', 'OBESITY',\n",
    "       'HIV', 'RHEUMATO_D', 'DIMENTIA', 'IMMUNO', 'NB_COMOR','ETHNIC_GROUP']"
   ]
  },
  {
   "cell_type": "code",
   "execution_count": 409,
   "metadata": {
    "pycharm": {
     "name": "#%%\n"
    }
   },
   "outputs": [
    {
     "data": {
      "text/plain": "             STUDY_ID  ADMISSION_DAY_SINCE_ONSET ADMISSION_START_DATE  \\\n0   UHSCOVID_00989a42                        5.0           2020-03-26   \n8   UHSCOVID_00ac1e32                       -4.0           2020-04-07   \n51  UHSCOVID_00cb7bdd                        5.0           2020-04-10   \n54  UHSCOVID_01add35c                        0.0           2020-05-22   \n57  UHSCOVID_01f7838d                       -7.0           2020-05-04   \n\n   SYMPTOM_ONSET_DATE ADMISSION_END_DATE  DEATH_DATE DISCHARGE_DATE  DEATH  \\\n0          2020-03-21         2020-04-02         NaN     2020-04-02    0.0   \n8          2020-04-11         2020-05-19         NaN     2020-05-19    0.0   \n51         2020-04-05         2020-04-13  2020-04-13     2020-04-13    1.0   \n54         2020-05-22         2020-05-23  2020-05-27     2020-05-23    1.0   \n57         2020-05-11         2020-05-17         NaN     2020-05-17    0.0   \n\n    DISCHARGED  SURVIVED  ...  META_SOLID_TUMOUR  MAGLINANT_NEO  DIABETES  \\\n0          1.0       1.0  ...                0.0            0.0       1.0   \n8          1.0       1.0  ...                0.0            0.0       0.0   \n51         1.0       0.0  ...                1.0            1.0       1.0   \n54         1.0       0.0  ...                0.0            0.0       0.0   \n57         1.0       1.0  ...                0.0            1.0       1.0   \n\n    OBESITY  HIV  RHEUMATO_D  DIMENTIA  IMMUNO  NB_COMOR  ETHNIC_GROUP  \n0       1.0  0.0         0.0       0.0     0.0       4.0             A  \n8       0.0  0.0         0.0       0.0     0.0       1.0             A  \n51      0.0  0.0         0.0       0.0     0.0       5.0             A  \n54      0.0  0.0         0.0       0.0     0.0       1.0             A  \n57      0.0  0.0         0.0       0.0     0.0       5.0             A  \n\n[5 rows x 34 columns]",
      "text/html": "<div>\n<style scoped>\n    .dataframe tbody tr th:only-of-type {\n        vertical-align: middle;\n    }\n\n    .dataframe tbody tr th {\n        vertical-align: top;\n    }\n\n    .dataframe thead th {\n        text-align: right;\n    }\n</style>\n<table border=\"1\" class=\"dataframe\">\n  <thead>\n    <tr style=\"text-align: right;\">\n      <th></th>\n      <th>STUDY_ID</th>\n      <th>ADMISSION_DAY_SINCE_ONSET</th>\n      <th>ADMISSION_START_DATE</th>\n      <th>SYMPTOM_ONSET_DATE</th>\n      <th>ADMISSION_END_DATE</th>\n      <th>DEATH_DATE</th>\n      <th>DISCHARGE_DATE</th>\n      <th>DEATH</th>\n      <th>DISCHARGED</th>\n      <th>SURVIVED</th>\n      <th>...</th>\n      <th>META_SOLID_TUMOUR</th>\n      <th>MAGLINANT_NEO</th>\n      <th>DIABETES</th>\n      <th>OBESITY</th>\n      <th>HIV</th>\n      <th>RHEUMATO_D</th>\n      <th>DIMENTIA</th>\n      <th>IMMUNO</th>\n      <th>NB_COMOR</th>\n      <th>ETHNIC_GROUP</th>\n    </tr>\n  </thead>\n  <tbody>\n    <tr>\n      <th>0</th>\n      <td>UHSCOVID_00989a42</td>\n      <td>5.0</td>\n      <td>2020-03-26</td>\n      <td>2020-03-21</td>\n      <td>2020-04-02</td>\n      <td>NaN</td>\n      <td>2020-04-02</td>\n      <td>0.0</td>\n      <td>1.0</td>\n      <td>1.0</td>\n      <td>...</td>\n      <td>0.0</td>\n      <td>0.0</td>\n      <td>1.0</td>\n      <td>1.0</td>\n      <td>0.0</td>\n      <td>0.0</td>\n      <td>0.0</td>\n      <td>0.0</td>\n      <td>4.0</td>\n      <td>A</td>\n    </tr>\n    <tr>\n      <th>8</th>\n      <td>UHSCOVID_00ac1e32</td>\n      <td>-4.0</td>\n      <td>2020-04-07</td>\n      <td>2020-04-11</td>\n      <td>2020-05-19</td>\n      <td>NaN</td>\n      <td>2020-05-19</td>\n      <td>0.0</td>\n      <td>1.0</td>\n      <td>1.0</td>\n      <td>...</td>\n      <td>0.0</td>\n      <td>0.0</td>\n      <td>0.0</td>\n      <td>0.0</td>\n      <td>0.0</td>\n      <td>0.0</td>\n      <td>0.0</td>\n      <td>0.0</td>\n      <td>1.0</td>\n      <td>A</td>\n    </tr>\n    <tr>\n      <th>51</th>\n      <td>UHSCOVID_00cb7bdd</td>\n      <td>5.0</td>\n      <td>2020-04-10</td>\n      <td>2020-04-05</td>\n      <td>2020-04-13</td>\n      <td>2020-04-13</td>\n      <td>2020-04-13</td>\n      <td>1.0</td>\n      <td>1.0</td>\n      <td>0.0</td>\n      <td>...</td>\n      <td>1.0</td>\n      <td>1.0</td>\n      <td>1.0</td>\n      <td>0.0</td>\n      <td>0.0</td>\n      <td>0.0</td>\n      <td>0.0</td>\n      <td>0.0</td>\n      <td>5.0</td>\n      <td>A</td>\n    </tr>\n    <tr>\n      <th>54</th>\n      <td>UHSCOVID_01add35c</td>\n      <td>0.0</td>\n      <td>2020-05-22</td>\n      <td>2020-05-22</td>\n      <td>2020-05-23</td>\n      <td>2020-05-27</td>\n      <td>2020-05-23</td>\n      <td>1.0</td>\n      <td>1.0</td>\n      <td>0.0</td>\n      <td>...</td>\n      <td>0.0</td>\n      <td>0.0</td>\n      <td>0.0</td>\n      <td>0.0</td>\n      <td>0.0</td>\n      <td>0.0</td>\n      <td>0.0</td>\n      <td>0.0</td>\n      <td>1.0</td>\n      <td>A</td>\n    </tr>\n    <tr>\n      <th>57</th>\n      <td>UHSCOVID_01f7838d</td>\n      <td>-7.0</td>\n      <td>2020-05-04</td>\n      <td>2020-05-11</td>\n      <td>2020-05-17</td>\n      <td>NaN</td>\n      <td>2020-05-17</td>\n      <td>0.0</td>\n      <td>1.0</td>\n      <td>1.0</td>\n      <td>...</td>\n      <td>0.0</td>\n      <td>1.0</td>\n      <td>1.0</td>\n      <td>0.0</td>\n      <td>0.0</td>\n      <td>0.0</td>\n      <td>0.0</td>\n      <td>0.0</td>\n      <td>5.0</td>\n      <td>A</td>\n    </tr>\n  </tbody>\n</table>\n<p>5 rows × 34 columns</p>\n</div>"
     },
     "execution_count": 409,
     "metadata": {},
     "output_type": "execute_result"
    }
   ],
   "source": [
    "dfMeltedUnique = dfMelted.drop_duplicates(selectedCols)[selectedCols]\n",
    "dfMeltedUnique.head()"
   ]
  },
  {
   "cell_type": "code",
   "execution_count": 410,
   "outputs": [
    {
     "data": {
      "text/plain": "0.0    545\n1.0    106\nName: NIV, dtype: int64"
     },
     "execution_count": 410,
     "metadata": {},
     "output_type": "execute_result"
    }
   ],
   "source": [
    "dfMeltedUnique['NIV'].value_counts()\n"
   ],
   "metadata": {
    "collapsed": false,
    "pycharm": {
     "name": "#%%\n"
    }
   }
  },
  {
   "cell_type": "code",
   "execution_count": 411,
   "metadata": {
    "pycharm": {
     "name": "#%%\n"
    }
   },
   "outputs": [],
   "source": [
    "dfMeltedUnique['Death_Discharged_Survived_Str'] = pd.NA\n",
    "dfMeltedUnique['Death_Discharged_Survived'] = pd.NA\n",
    "map1= (dfMeltedUnique['DEATH']==0) & (dfMeltedUnique['DISCHARGED']==1) & (dfMeltedUnique['SURVIVED']==1)\n",
    "dfMeltedUnique.loc[map1,'Death_Discharged_Survived']=0\n",
    "dfMeltedUnique.loc[map1,'Death_Discharged_Survived_Str'] = 'Survived'"
   ]
  },
  {
   "cell_type": "code",
   "execution_count": 412,
   "metadata": {
    "pycharm": {
     "name": "#%%\n"
    }
   },
   "outputs": [],
   "source": [
    "map2= (dfMeltedUnique['DEATH']==1) & (dfMeltedUnique['DISCHARGED']==0) & (dfMeltedUnique['SURVIVED']==0)\n",
    "dfMeltedUnique.loc[map2,'Death_Discharged_Survived']=1\n",
    "dfMeltedUnique.loc[map2,'Death_Discharged_Survived_Str'] = 'Died in Hospital'"
   ]
  },
  {
   "cell_type": "code",
   "execution_count": 413,
   "outputs": [
    {
     "data": {
      "text/plain": "0    428\n1      1\nName: Death_Discharged_Survived, dtype: int64"
     },
     "execution_count": 413,
     "metadata": {},
     "output_type": "execute_result"
    }
   ],
   "source": [
    "dfMeltedUnique['Death_Discharged_Survived'].value_counts()\n"
   ],
   "metadata": {
    "collapsed": false,
    "pycharm": {
     "name": "#%%\n"
    }
   }
  },
  {
   "cell_type": "code",
   "execution_count": 414,
   "outputs": [
    {
     "data": {
      "text/plain": "Index(['STUDY_ID', 'ADMISSION_DAY_SINCE_ONSET', 'ADMISSION_START_DATE',\n       'SYMPTOM_ONSET_DATE', 'ADMISSION_END_DATE', 'DEATH_DATE',\n       'DISCHARGE_DATE', 'DEATH', 'DISCHARGED', 'SURVIVED', 'ITU', 'NIV',\n       'READMITTED', 'PATIENT_AGE', 'GENDER', 'ASTHMA', 'COPD',\n       'BRONCHIECTASIS', 'HYPERTENSION', 'THROMBOEMBOLIC', 'CARDIAC_D',\n       'RENAL_D', 'LIVER_D', 'NEURAL_D', 'META_SOLID_TUMOUR', 'MAGLINANT_NEO',\n       'DIABETES', 'OBESITY', 'HIV', 'RHEUMATO_D', 'DIMENTIA', 'IMMUNO',\n       'NB_COMOR', 'ETHNIC_GROUP', 'Death_Discharged_Survived_Str',\n       'Death_Discharged_Survived'],\n      dtype='object')"
     },
     "execution_count": 414,
     "metadata": {},
     "output_type": "execute_result"
    }
   ],
   "source": [
    "dfMeltedUnique.columns"
   ],
   "metadata": {
    "collapsed": false,
    "pycharm": {
     "name": "#%%\n"
    }
   }
  },
  {
   "cell_type": "code",
   "execution_count": 415,
   "outputs": [
    {
     "data": {
      "text/plain": "1"
     },
     "execution_count": 415,
     "metadata": {},
     "output_type": "execute_result"
    }
   ],
   "source": [
    "map2.sum()"
   ],
   "metadata": {
    "collapsed": false,
    "pycharm": {
     "name": "#%%\n"
    }
   }
  },
  {
   "cell_type": "code",
   "execution_count": 416,
   "metadata": {
    "pycharm": {
     "name": "#%%\n"
    }
   },
   "outputs": [],
   "source": [
    "dfMeltedUnique['Discharged_Readmitted_Died']=\"Missing\" #\"Unknown\"\n",
    "dfMeltedUnique.loc[(dfMeltedUnique['DISCHARGED']==1),'Discharged_Readmitted_Died']= \"Discharged\"\n",
    "dfMeltedUnique.loc[(dfMeltedUnique['READMITTED']==1),'Discharged_Readmitted_Died']= \"Readmitted\"\n",
    "dfMeltedUnique.loc[(dfMeltedUnique['DEATH']==1),'Discharged_Readmitted_Died']= \"Died\"\n",
    "\n",
    "# map3 = (dfMeltedUnique['DEATH']==1) & (dfMeltedUnique['DISCHARGED']==1) & (dfMeltedUnique['SURVIVED']==0)\n",
    "# dfMeltedUnique.loc[map3,'Discharged_Readmitted_Died']=2\n",
    "# dfMeltedUnique.loc[map3,'Discharged_Readmitted_Died'] = 'Discharged and Died'"
   ]
  },
  {
   "cell_type": "code",
   "execution_count": 417,
   "outputs": [
    {
     "data": {
      "text/plain": "Discharged    419\nDied          216\nReadmitted      9\nMissing         7\nName: Discharged_Readmitted_Died, dtype: int64"
     },
     "execution_count": 417,
     "metadata": {},
     "output_type": "execute_result"
    }
   ],
   "source": [
    "dfMeltedUnique['Discharged_Readmitted_Died'].value_counts()\n"
   ],
   "metadata": {
    "collapsed": false,
    "pycharm": {
     "name": "#%%\n"
    }
   }
  },
  {
   "cell_type": "code",
   "execution_count": 418,
   "outputs": [
    {
     "data": {
      "text/plain": "array(['Discharged', 'Died', 'Readmitted', 'Missing'], dtype=object)"
     },
     "execution_count": 418,
     "metadata": {},
     "output_type": "execute_result"
    }
   ],
   "source": [
    "dfMeltedUnique['Discharged_Readmitted_Died'].unique()"
   ],
   "metadata": {
    "collapsed": false,
    "pycharm": {
     "name": "#%%\n"
    }
   }
  },
  {
   "cell_type": "code",
   "execution_count": 419,
   "metadata": {
    "pycharm": {
     "name": "#%%\n"
    }
   },
   "outputs": [],
   "source": [
    "# Died in Hospital, Died at Home, Survived"
   ]
  },
  {
   "cell_type": "code",
   "execution_count": 420,
   "outputs": [],
   "source": [
    "dfMeltedUnique['Died_in_Hosp_or_Discharged_or_Survived_Str']=pd.NA"
   ],
   "metadata": {
    "collapsed": false,
    "pycharm": {
     "name": "#%%\n"
    }
   }
  },
  {
   "cell_type": "code",
   "execution_count": 420,
   "outputs": [],
   "source": [],
   "metadata": {
    "collapsed": false,
    "pycharm": {
     "name": "#%%\n"
    }
   }
  },
  {
   "cell_type": "code",
   "execution_count": 421,
   "outputs": [],
   "source": [
    "# Died in Hospital, Died at Home, Survived"
   ],
   "metadata": {
    "collapsed": false,
    "pycharm": {
     "name": "#%%\n"
    }
   }
  },
  {
   "cell_type": "code",
   "execution_count": 422,
   "metadata": {
    "pycharm": {
     "name": "#%%\n"
    }
   },
   "outputs": [],
   "source": [
    "dfMeltedUnique['Died_or_Survived_Str']=pd.NA"
   ]
  },
  {
   "cell_type": "code",
   "execution_count": 423,
   "metadata": {
    "pycharm": {
     "name": "#%%\n"
    }
   },
   "outputs": [],
   "source": [
    "dfMeltedUnique['Died_or_Survived'] = dfMeltedUnique['DEATH']"
   ]
  },
  {
   "cell_type": "code",
   "execution_count": 424,
   "metadata": {
    "pycharm": {
     "name": "#%%\n"
    }
   },
   "outputs": [],
   "source": [
    "mapDied= dfMeltedUnique['DEATH']==1\n",
    "dfMeltedUnique.loc[mapDied,'Died_or_Survived_Str']='Died'"
   ]
  },
  {
   "cell_type": "code",
   "execution_count": 425,
   "metadata": {
    "pycharm": {
     "name": "#%%\n"
    }
   },
   "outputs": [],
   "source": [
    "mapSurvived = dfMeltedUnique['DEATH']==0\n",
    "dfMeltedUnique.loc[mapSurvived,'Died_or_Survived_Str']='Survived'"
   ]
  },
  {
   "cell_type": "code",
   "execution_count": 426,
   "metadata": {
    "pycharm": {
     "name": "#%%\n"
    }
   },
   "outputs": [
    {
     "data": {
      "text/plain": "0.0    435\n1.0    216\nName: Died_or_Survived, dtype: int64"
     },
     "execution_count": 426,
     "metadata": {},
     "output_type": "execute_result"
    }
   ],
   "source": [
    "cc = dfMeltedUnique['Died_or_Survived'].value_counts()\n",
    "cc"
   ]
  },
  {
   "cell_type": "code",
   "execution_count": 427,
   "metadata": {
    "pycharm": {
     "name": "#%%\n"
    }
   },
   "outputs": [
    {
     "data": {
      "text/plain": "pandas.core.series.Series"
     },
     "execution_count": 427,
     "metadata": {},
     "output_type": "execute_result"
    }
   ],
   "source": [
    "type(cc)"
   ]
  },
  {
   "cell_type": "code",
   "execution_count": 428,
   "metadata": {
    "pycharm": {
     "name": "#%%\n"
    }
   },
   "outputs": [
    {
     "data": {
      "text/plain": "             STUDY_ID  ADMISSION_DAY_SINCE_ONSET ADMISSION_START_DATE  \\\n0   UHSCOVID_00989a42                        5.0           2020-03-26   \n8   UHSCOVID_00ac1e32                       -4.0           2020-04-07   \n51  UHSCOVID_00cb7bdd                        5.0           2020-04-10   \n54  UHSCOVID_01add35c                        0.0           2020-05-22   \n57  UHSCOVID_01f7838d                       -7.0           2020-05-04   \n\n   SYMPTOM_ONSET_DATE ADMISSION_END_DATE  DEATH_DATE DISCHARGE_DATE  DEATH  \\\n0          2020-03-21         2020-04-02         NaN     2020-04-02    0.0   \n8          2020-04-11         2020-05-19         NaN     2020-05-19    0.0   \n51         2020-04-05         2020-04-13  2020-04-13     2020-04-13    1.0   \n54         2020-05-22         2020-05-23  2020-05-27     2020-05-23    1.0   \n57         2020-05-11         2020-05-17         NaN     2020-05-17    0.0   \n\n    DISCHARGED  SURVIVED  ...  DIMENTIA  IMMUNO  NB_COMOR  ETHNIC_GROUP  \\\n0          1.0       1.0  ...       0.0     0.0       4.0             A   \n8          1.0       1.0  ...       0.0     0.0       1.0             A   \n51         1.0       0.0  ...       0.0     0.0       5.0             A   \n54         1.0       0.0  ...       0.0     0.0       1.0             A   \n57         1.0       1.0  ...       0.0     0.0       5.0             A   \n\n   Death_Discharged_Survived_Str  Death_Discharged_Survived  \\\n0                       Survived                          0   \n8                       Survived                          0   \n51                          <NA>                       <NA>   \n54                          <NA>                       <NA>   \n57                      Survived                          0   \n\n    Discharged_Readmitted_Died  Died_in_Hosp_or_Discharged_or_Survived_Str  \\\n0                   Discharged                                        <NA>   \n8                   Discharged                                        <NA>   \n51                        Died                                        <NA>   \n54                        Died                                        <NA>   \n57                  Discharged                                        <NA>   \n\n    Died_or_Survived_Str  Died_or_Survived  \n0               Survived               0.0  \n8               Survived               0.0  \n51                  Died               1.0  \n54                  Died               1.0  \n57              Survived               0.0  \n\n[5 rows x 40 columns]",
      "text/html": "<div>\n<style scoped>\n    .dataframe tbody tr th:only-of-type {\n        vertical-align: middle;\n    }\n\n    .dataframe tbody tr th {\n        vertical-align: top;\n    }\n\n    .dataframe thead th {\n        text-align: right;\n    }\n</style>\n<table border=\"1\" class=\"dataframe\">\n  <thead>\n    <tr style=\"text-align: right;\">\n      <th></th>\n      <th>STUDY_ID</th>\n      <th>ADMISSION_DAY_SINCE_ONSET</th>\n      <th>ADMISSION_START_DATE</th>\n      <th>SYMPTOM_ONSET_DATE</th>\n      <th>ADMISSION_END_DATE</th>\n      <th>DEATH_DATE</th>\n      <th>DISCHARGE_DATE</th>\n      <th>DEATH</th>\n      <th>DISCHARGED</th>\n      <th>SURVIVED</th>\n      <th>...</th>\n      <th>DIMENTIA</th>\n      <th>IMMUNO</th>\n      <th>NB_COMOR</th>\n      <th>ETHNIC_GROUP</th>\n      <th>Death_Discharged_Survived_Str</th>\n      <th>Death_Discharged_Survived</th>\n      <th>Discharged_Readmitted_Died</th>\n      <th>Died_in_Hosp_or_Discharged_or_Survived_Str</th>\n      <th>Died_or_Survived_Str</th>\n      <th>Died_or_Survived</th>\n    </tr>\n  </thead>\n  <tbody>\n    <tr>\n      <th>0</th>\n      <td>UHSCOVID_00989a42</td>\n      <td>5.0</td>\n      <td>2020-03-26</td>\n      <td>2020-03-21</td>\n      <td>2020-04-02</td>\n      <td>NaN</td>\n      <td>2020-04-02</td>\n      <td>0.0</td>\n      <td>1.0</td>\n      <td>1.0</td>\n      <td>...</td>\n      <td>0.0</td>\n      <td>0.0</td>\n      <td>4.0</td>\n      <td>A</td>\n      <td>Survived</td>\n      <td>0</td>\n      <td>Discharged</td>\n      <td>&lt;NA&gt;</td>\n      <td>Survived</td>\n      <td>0.0</td>\n    </tr>\n    <tr>\n      <th>8</th>\n      <td>UHSCOVID_00ac1e32</td>\n      <td>-4.0</td>\n      <td>2020-04-07</td>\n      <td>2020-04-11</td>\n      <td>2020-05-19</td>\n      <td>NaN</td>\n      <td>2020-05-19</td>\n      <td>0.0</td>\n      <td>1.0</td>\n      <td>1.0</td>\n      <td>...</td>\n      <td>0.0</td>\n      <td>0.0</td>\n      <td>1.0</td>\n      <td>A</td>\n      <td>Survived</td>\n      <td>0</td>\n      <td>Discharged</td>\n      <td>&lt;NA&gt;</td>\n      <td>Survived</td>\n      <td>0.0</td>\n    </tr>\n    <tr>\n      <th>51</th>\n      <td>UHSCOVID_00cb7bdd</td>\n      <td>5.0</td>\n      <td>2020-04-10</td>\n      <td>2020-04-05</td>\n      <td>2020-04-13</td>\n      <td>2020-04-13</td>\n      <td>2020-04-13</td>\n      <td>1.0</td>\n      <td>1.0</td>\n      <td>0.0</td>\n      <td>...</td>\n      <td>0.0</td>\n      <td>0.0</td>\n      <td>5.0</td>\n      <td>A</td>\n      <td>&lt;NA&gt;</td>\n      <td>&lt;NA&gt;</td>\n      <td>Died</td>\n      <td>&lt;NA&gt;</td>\n      <td>Died</td>\n      <td>1.0</td>\n    </tr>\n    <tr>\n      <th>54</th>\n      <td>UHSCOVID_01add35c</td>\n      <td>0.0</td>\n      <td>2020-05-22</td>\n      <td>2020-05-22</td>\n      <td>2020-05-23</td>\n      <td>2020-05-27</td>\n      <td>2020-05-23</td>\n      <td>1.0</td>\n      <td>1.0</td>\n      <td>0.0</td>\n      <td>...</td>\n      <td>0.0</td>\n      <td>0.0</td>\n      <td>1.0</td>\n      <td>A</td>\n      <td>&lt;NA&gt;</td>\n      <td>&lt;NA&gt;</td>\n      <td>Died</td>\n      <td>&lt;NA&gt;</td>\n      <td>Died</td>\n      <td>1.0</td>\n    </tr>\n    <tr>\n      <th>57</th>\n      <td>UHSCOVID_01f7838d</td>\n      <td>-7.0</td>\n      <td>2020-05-04</td>\n      <td>2020-05-11</td>\n      <td>2020-05-17</td>\n      <td>NaN</td>\n      <td>2020-05-17</td>\n      <td>0.0</td>\n      <td>1.0</td>\n      <td>1.0</td>\n      <td>...</td>\n      <td>0.0</td>\n      <td>0.0</td>\n      <td>5.0</td>\n      <td>A</td>\n      <td>Survived</td>\n      <td>0</td>\n      <td>Discharged</td>\n      <td>&lt;NA&gt;</td>\n      <td>Survived</td>\n      <td>0.0</td>\n    </tr>\n  </tbody>\n</table>\n<p>5 rows × 40 columns</p>\n</div>"
     },
     "execution_count": 428,
     "metadata": {},
     "output_type": "execute_result"
    }
   ],
   "source": [
    "dfMeltedUnique.head()"
   ]
  },
  {
   "cell_type": "code",
   "execution_count": 429,
   "outputs": [
    {
     "data": {
      "text/plain": "Index(['STUDY_ID', 'ADMISSION_DAY_SINCE_ONSET', 'ADMISSION_START_DATE',\n       'SYMPTOM_ONSET_DATE', 'ADMISSION_END_DATE', 'DEATH_DATE',\n       'DISCHARGE_DATE', 'DEATH', 'DISCHARGED', 'SURVIVED', 'ITU', 'NIV',\n       'READMITTED', 'PATIENT_AGE', 'GENDER', 'ASTHMA', 'COPD',\n       'BRONCHIECTASIS', 'HYPERTENSION', 'THROMBOEMBOLIC', 'CARDIAC_D',\n       'RENAL_D', 'LIVER_D', 'NEURAL_D', 'META_SOLID_TUMOUR', 'MAGLINANT_NEO',\n       'DIABETES', 'OBESITY', 'HIV', 'RHEUMATO_D', 'DIMENTIA', 'IMMUNO',\n       'NB_COMOR', 'ETHNIC_GROUP', 'Death_Discharged_Survived_Str',\n       'Death_Discharged_Survived', 'Discharged_Readmitted_Died',\n       'Died_in_Hosp_or_Discharged_or_Survived_Str', 'Died_or_Survived_Str',\n       'Died_or_Survived'],\n      dtype='object')"
     },
     "execution_count": 429,
     "metadata": {},
     "output_type": "execute_result"
    }
   ],
   "source": [
    "dfMeltedUnique.columns"
   ],
   "metadata": {
    "collapsed": false,
    "pycharm": {
     "name": "#%%\n"
    }
   }
  },
  {
   "cell_type": "code",
   "execution_count": 430,
   "outputs": [
    {
     "data": {
      "text/plain": "0       64.0\n8       73.0\n51      76.0\n54      67.0\n57      97.0\n        ... \n7754    47.0\n7759    70.0\n7764    67.0\n7778    88.0\n7787    57.0\nName: PATIENT_AGE, Length: 651, dtype: float64"
     },
     "execution_count": 430,
     "metadata": {},
     "output_type": "execute_result"
    }
   ],
   "source": [
    "dfMeltedUnique['PATIENT_AGE']"
   ],
   "metadata": {
    "collapsed": false,
    "pycharm": {
     "name": "#%%\n"
    }
   }
  },
  {
   "cell_type": "code",
   "execution_count": 431,
   "metadata": {
    "pycharm": {
     "name": "#%%\n"
    }
   },
   "outputs": [
    {
     "data": {
      "text/plain": "{0: 'Early Presenters', 1: 'Late Presenters', 2: 'Hospital Equired'}"
     },
     "execution_count": 431,
     "metadata": {},
     "output_type": "execute_result"
    }
   ],
   "source": [
    "# dictPresenterType3C = {'(-7,0] Early':0,'>7days Late':1,'<0 days (Hospital)':2}\n",
    "dictPresenterType3C = {'Early Presenters':0,'Late Presenters':1,'Hospital Equired':2}\n",
    "dictPresenterType3CReversed = {v:k for k,v in dictPresenterType3C.items()}\n",
    "dictPresenterType3CReversed"
   ]
  },
  {
   "cell_type": "code",
   "execution_count": 432,
   "metadata": {
    "pycharm": {
     "name": "#%%\n"
    }
   },
   "outputs": [],
   "source": [
    "dfMeltedUnique['Onset Time']=pd.NA\n",
    "dfMeltedUnique['Symptoms onset']='Unknown'"
   ]
  },
  {
   "cell_type": "code",
   "execution_count": 433,
   "metadata": {
    "pycharm": {
     "name": "#%%\n"
    }
   },
   "outputs": [],
   "source": [
    "mp1= (dfMeltedUnique['ADMISSION_DAY_SINCE_ONSET']<=7) & (dfMeltedUnique['ADMISSION_DAY_SINCE_ONSET']>=0)\n",
    "epS = 'Early Presenters'\n",
    "epVal = dictPresenterType3C.get(epS)\n",
    "dfMeltedUnique.loc[mp1,'Onset Time'] = epVal\n",
    "dfMeltedUnique.loc[mp1,'Symptoms onset']= dictPresenterType3CReversed[epVal]"
   ]
  },
  {
   "cell_type": "code",
   "execution_count": 434,
   "outputs": [],
   "source": [
    "#{'Early Presenters':0,'Late Presenters':1,'Hospital Equired':2}"
   ],
   "metadata": {
    "collapsed": false,
    "pycharm": {
     "name": "#%%\n"
    }
   }
  },
  {
   "cell_type": "code",
   "execution_count": 435,
   "metadata": {
    "pycharm": {
     "name": "#%%\n"
    }
   },
   "outputs": [],
   "source": [
    "mp2= (dfMeltedUnique['ADMISSION_DAY_SINCE_ONSET']>7)\n",
    "epS = 'Late Presenters'\n",
    "epVal = dictPresenterType3C.get(epS)\n",
    "dfMeltedUnique.loc[mp2,'Onset Time'] = epVal\n",
    "dfMeltedUnique.loc[mp2,'Symptoms onset']= dictPresenterType3CReversed[epVal]"
   ]
  },
  {
   "cell_type": "code",
   "execution_count": 436,
   "metadata": {
    "pycharm": {
     "name": "#%%\n"
    }
   },
   "outputs": [],
   "source": [
    "mp3= dfMeltedUnique['ADMISSION_DAY_SINCE_ONSET']<0\n",
    "epS = 'Hospital Equired'\n",
    "epVal = dictPresenterType3C.get(epS)\n",
    "dfMeltedUnique.loc[mp3,'Onset Time'] = epVal\n",
    "dfMeltedUnique.loc[mp3,'Symptoms onset']= dictPresenterType3CReversed[epVal]"
   ]
  },
  {
   "cell_type": "code",
   "execution_count": 437,
   "outputs": [
    {
     "data": {
      "text/plain": "Early Presenters    349\nHospital Equired    123\nLate Presenters     111\nUnknown              68\nName: Symptoms onset, dtype: int64"
     },
     "execution_count": 437,
     "metadata": {},
     "output_type": "execute_result"
    }
   ],
   "source": [
    "dfMeltedUnique['Symptoms onset'].value_counts()"
   ],
   "metadata": {
    "collapsed": false,
    "pycharm": {
     "name": "#%%\n"
    }
   }
  },
  {
   "cell_type": "code",
   "execution_count": 438,
   "metadata": {
    "pycharm": {
     "name": "#%%\n"
    }
   },
   "outputs": [
    {
     "data": {
      "text/plain": "(651, 42)"
     },
     "execution_count": 438,
     "metadata": {},
     "output_type": "execute_result"
    }
   ],
   "source": [
    "dfMeltedUnique.shape"
   ]
  },
  {
   "cell_type": "code",
   "execution_count": 439,
   "metadata": {
    "pycharm": {
     "name": "#%%\n"
    }
   },
   "outputs": [
    {
     "data": {
      "text/plain": "             STUDY_ID  ADMISSION_DAY_SINCE_ONSET ADMISSION_START_DATE  \\\n0   UHSCOVID_00989a42                        5.0           2020-03-26   \n8   UHSCOVID_00ac1e32                       -4.0           2020-04-07   \n51  UHSCOVID_00cb7bdd                        5.0           2020-04-10   \n54  UHSCOVID_01add35c                        0.0           2020-05-22   \n57  UHSCOVID_01f7838d                       -7.0           2020-05-04   \n\n   SYMPTOM_ONSET_DATE ADMISSION_END_DATE  DEATH_DATE DISCHARGE_DATE  DEATH  \\\n0          2020-03-21         2020-04-02         NaN     2020-04-02    0.0   \n8          2020-04-11         2020-05-19         NaN     2020-05-19    0.0   \n51         2020-04-05         2020-04-13  2020-04-13     2020-04-13    1.0   \n54         2020-05-22         2020-05-23  2020-05-27     2020-05-23    1.0   \n57         2020-05-11         2020-05-17         NaN     2020-05-17    0.0   \n\n    DISCHARGED  SURVIVED  ...  NB_COMOR  ETHNIC_GROUP  \\\n0          1.0       1.0  ...       4.0             A   \n8          1.0       1.0  ...       1.0             A   \n51         1.0       0.0  ...       5.0             A   \n54         1.0       0.0  ...       1.0             A   \n57         1.0       1.0  ...       5.0             A   \n\n    Death_Discharged_Survived_Str  Death_Discharged_Survived  \\\n0                        Survived                          0   \n8                        Survived                          0   \n51                           <NA>                       <NA>   \n54                           <NA>                       <NA>   \n57                       Survived                          0   \n\n   Discharged_Readmitted_Died  Died_in_Hosp_or_Discharged_or_Survived_Str  \\\n0                  Discharged                                        <NA>   \n8                  Discharged                                        <NA>   \n51                       Died                                        <NA>   \n54                       Died                                        <NA>   \n57                 Discharged                                        <NA>   \n\n    Died_or_Survived_Str  Died_or_Survived  Onset Time    Symptoms onset  \n0               Survived               0.0           0  Early Presenters  \n8               Survived               0.0           2  Hospital Equired  \n51                  Died               1.0           0  Early Presenters  \n54                  Died               1.0           0  Early Presenters  \n57              Survived               0.0           2  Hospital Equired  \n\n[5 rows x 42 columns]",
      "text/html": "<div>\n<style scoped>\n    .dataframe tbody tr th:only-of-type {\n        vertical-align: middle;\n    }\n\n    .dataframe tbody tr th {\n        vertical-align: top;\n    }\n\n    .dataframe thead th {\n        text-align: right;\n    }\n</style>\n<table border=\"1\" class=\"dataframe\">\n  <thead>\n    <tr style=\"text-align: right;\">\n      <th></th>\n      <th>STUDY_ID</th>\n      <th>ADMISSION_DAY_SINCE_ONSET</th>\n      <th>ADMISSION_START_DATE</th>\n      <th>SYMPTOM_ONSET_DATE</th>\n      <th>ADMISSION_END_DATE</th>\n      <th>DEATH_DATE</th>\n      <th>DISCHARGE_DATE</th>\n      <th>DEATH</th>\n      <th>DISCHARGED</th>\n      <th>SURVIVED</th>\n      <th>...</th>\n      <th>NB_COMOR</th>\n      <th>ETHNIC_GROUP</th>\n      <th>Death_Discharged_Survived_Str</th>\n      <th>Death_Discharged_Survived</th>\n      <th>Discharged_Readmitted_Died</th>\n      <th>Died_in_Hosp_or_Discharged_or_Survived_Str</th>\n      <th>Died_or_Survived_Str</th>\n      <th>Died_or_Survived</th>\n      <th>Onset Time</th>\n      <th>Symptoms onset</th>\n    </tr>\n  </thead>\n  <tbody>\n    <tr>\n      <th>0</th>\n      <td>UHSCOVID_00989a42</td>\n      <td>5.0</td>\n      <td>2020-03-26</td>\n      <td>2020-03-21</td>\n      <td>2020-04-02</td>\n      <td>NaN</td>\n      <td>2020-04-02</td>\n      <td>0.0</td>\n      <td>1.0</td>\n      <td>1.0</td>\n      <td>...</td>\n      <td>4.0</td>\n      <td>A</td>\n      <td>Survived</td>\n      <td>0</td>\n      <td>Discharged</td>\n      <td>&lt;NA&gt;</td>\n      <td>Survived</td>\n      <td>0.0</td>\n      <td>0</td>\n      <td>Early Presenters</td>\n    </tr>\n    <tr>\n      <th>8</th>\n      <td>UHSCOVID_00ac1e32</td>\n      <td>-4.0</td>\n      <td>2020-04-07</td>\n      <td>2020-04-11</td>\n      <td>2020-05-19</td>\n      <td>NaN</td>\n      <td>2020-05-19</td>\n      <td>0.0</td>\n      <td>1.0</td>\n      <td>1.0</td>\n      <td>...</td>\n      <td>1.0</td>\n      <td>A</td>\n      <td>Survived</td>\n      <td>0</td>\n      <td>Discharged</td>\n      <td>&lt;NA&gt;</td>\n      <td>Survived</td>\n      <td>0.0</td>\n      <td>2</td>\n      <td>Hospital Equired</td>\n    </tr>\n    <tr>\n      <th>51</th>\n      <td>UHSCOVID_00cb7bdd</td>\n      <td>5.0</td>\n      <td>2020-04-10</td>\n      <td>2020-04-05</td>\n      <td>2020-04-13</td>\n      <td>2020-04-13</td>\n      <td>2020-04-13</td>\n      <td>1.0</td>\n      <td>1.0</td>\n      <td>0.0</td>\n      <td>...</td>\n      <td>5.0</td>\n      <td>A</td>\n      <td>&lt;NA&gt;</td>\n      <td>&lt;NA&gt;</td>\n      <td>Died</td>\n      <td>&lt;NA&gt;</td>\n      <td>Died</td>\n      <td>1.0</td>\n      <td>0</td>\n      <td>Early Presenters</td>\n    </tr>\n    <tr>\n      <th>54</th>\n      <td>UHSCOVID_01add35c</td>\n      <td>0.0</td>\n      <td>2020-05-22</td>\n      <td>2020-05-22</td>\n      <td>2020-05-23</td>\n      <td>2020-05-27</td>\n      <td>2020-05-23</td>\n      <td>1.0</td>\n      <td>1.0</td>\n      <td>0.0</td>\n      <td>...</td>\n      <td>1.0</td>\n      <td>A</td>\n      <td>&lt;NA&gt;</td>\n      <td>&lt;NA&gt;</td>\n      <td>Died</td>\n      <td>&lt;NA&gt;</td>\n      <td>Died</td>\n      <td>1.0</td>\n      <td>0</td>\n      <td>Early Presenters</td>\n    </tr>\n    <tr>\n      <th>57</th>\n      <td>UHSCOVID_01f7838d</td>\n      <td>-7.0</td>\n      <td>2020-05-04</td>\n      <td>2020-05-11</td>\n      <td>2020-05-17</td>\n      <td>NaN</td>\n      <td>2020-05-17</td>\n      <td>0.0</td>\n      <td>1.0</td>\n      <td>1.0</td>\n      <td>...</td>\n      <td>5.0</td>\n      <td>A</td>\n      <td>Survived</td>\n      <td>0</td>\n      <td>Discharged</td>\n      <td>&lt;NA&gt;</td>\n      <td>Survived</td>\n      <td>0.0</td>\n      <td>2</td>\n      <td>Hospital Equired</td>\n    </tr>\n  </tbody>\n</table>\n<p>5 rows × 42 columns</p>\n</div>"
     },
     "execution_count": 439,
     "metadata": {},
     "output_type": "execute_result"
    }
   ],
   "source": [
    "dfMeltedUnique.head()"
   ]
  },
  {
   "cell_type": "code",
   "execution_count": 440,
   "metadata": {
    "pycharm": {
     "name": "#%%\n"
    }
   },
   "outputs": [
    {
     "data": {
      "text/plain": "Index(['STUDY_ID', 'ADMISSION_DAY_SINCE_ONSET', 'ADMISSION_START_DATE',\n       'SYMPTOM_ONSET_DATE', 'ADMISSION_END_DATE', 'DEATH_DATE',\n       'DISCHARGE_DATE', 'DEATH', 'DISCHARGED', 'SURVIVED', 'ITU', 'NIV',\n       'READMITTED', 'PATIENT_AGE', 'GENDER', 'ASTHMA', 'COPD',\n       'BRONCHIECTASIS', 'HYPERTENSION', 'THROMBOEMBOLIC', 'CARDIAC_D',\n       'RENAL_D', 'LIVER_D', 'NEURAL_D', 'META_SOLID_TUMOUR', 'MAGLINANT_NEO',\n       'DIABETES', 'OBESITY', 'HIV', 'RHEUMATO_D', 'DIMENTIA', 'IMMUNO',\n       'NB_COMOR', 'ETHNIC_GROUP', 'Death_Discharged_Survived_Str',\n       'Death_Discharged_Survived', 'Discharged_Readmitted_Died',\n       'Died_in_Hosp_or_Discharged_or_Survived_Str', 'Died_or_Survived_Str',\n       'Died_or_Survived', 'Onset Time', 'Symptoms onset'],\n      dtype='object')"
     },
     "execution_count": 440,
     "metadata": {},
     "output_type": "execute_result"
    }
   ],
   "source": [
    "dfMeltedUnique.columns"
   ]
  },
  {
   "cell_type": "markdown",
   "metadata": {
    "pycharm": {
     "name": "#%% md\n"
    }
   },
   "source": [
    "# Died or Survived"
   ]
  },
  {
   "cell_type": "code",
   "execution_count": 441,
   "metadata": {
    "pycharm": {
     "name": "#%%\n"
    }
   },
   "outputs": [
    {
     "data": {
      "text/plain": "Index(['STUDY_ID', 'ADMISSION_DAY_SINCE_ONSET', 'ADMISSION_START_DATE',\n       'SYMPTOM_ONSET_DATE', 'ADMISSION_END_DATE', 'DEATH_DATE',\n       'DISCHARGE_DATE', 'DEATH', 'DISCHARGED', 'SURVIVED', 'ITU', 'NIV',\n       'READMITTED', 'PATIENT_AGE', 'GENDER', 'ASTHMA', 'COPD',\n       'BRONCHIECTASIS', 'HYPERTENSION', 'THROMBOEMBOLIC', 'CARDIAC_D',\n       'RENAL_D', 'LIVER_D', 'NEURAL_D', 'META_SOLID_TUMOUR', 'MAGLINANT_NEO',\n       'DIABETES', 'OBESITY', 'HIV', 'RHEUMATO_D', 'DIMENTIA', 'IMMUNO',\n       'NB_COMOR', 'ETHNIC_GROUP', 'Death_Discharged_Survived_Str',\n       'Death_Discharged_Survived', 'Discharged_Readmitted_Died',\n       'Died_in_Hosp_or_Discharged_or_Survived_Str', 'Died_or_Survived_Str',\n       'Died_or_Survived', 'Onset Time', 'Symptoms onset'],\n      dtype='object')"
     },
     "execution_count": 441,
     "metadata": {},
     "output_type": "execute_result"
    }
   ],
   "source": [
    "# Groupping\n",
    "dfMeltedUnique.columns"
   ]
  },
  {
   "cell_type": "code",
   "execution_count": 442,
   "metadata": {
    "pycharm": {
     "name": "#%%\n"
    }
   },
   "outputs": [
    {
     "data": {
      "text/plain": "             STUDY_ID ETHNIC_GROUP    Symptoms onset Died_or_Survived_Str  \\\n0   UHSCOVID_00989a42            A  Early Presenters             Survived   \n8   UHSCOVID_00ac1e32            A  Hospital Equired             Survived   \n51  UHSCOVID_00cb7bdd            A  Early Presenters                 Died   \n54  UHSCOVID_01add35c            A  Early Presenters                 Died   \n57  UHSCOVID_01f7838d            A  Hospital Equired             Survived   \n\n   Discharged_Readmitted_Died  NIV  PATIENT_AGE GENDER  ASTHMA  COPD  ...  \\\n0                  Discharged  0.0         64.0      M     1.0   1.0  ...   \n8                  Discharged  1.0         73.0      M     0.0   0.0  ...   \n51                       Died  1.0         76.0      F     1.0   0.0  ...   \n54                       Died  0.0         67.0      F     0.0   0.0  ...   \n57                 Discharged  0.0         97.0      M     0.0   0.0  ...   \n\n    NEURAL_D  META_SOLID_TUMOUR  MAGLINANT_NEO  DIABETES  OBESITY  HIV  \\\n0        0.0                0.0            0.0       1.0      1.0  0.0   \n8        0.0                0.0            0.0       0.0      0.0  0.0   \n51       0.0                1.0            1.0       1.0      0.0  0.0   \n54       1.0                0.0            0.0       0.0      0.0  0.0   \n57       0.0                0.0            1.0       1.0      0.0  0.0   \n\n    RHEUMATO_D  DIMENTIA  IMMUNO  NB_COMOR  \n0          0.0       0.0     0.0       4.0  \n8          0.0       0.0     0.0       1.0  \n51         0.0       0.0     0.0       5.0  \n54         0.0       0.0     0.0       1.0  \n57         0.0       0.0     0.0       5.0  \n\n[5 rows x 26 columns]",
      "text/html": "<div>\n<style scoped>\n    .dataframe tbody tr th:only-of-type {\n        vertical-align: middle;\n    }\n\n    .dataframe tbody tr th {\n        vertical-align: top;\n    }\n\n    .dataframe thead th {\n        text-align: right;\n    }\n</style>\n<table border=\"1\" class=\"dataframe\">\n  <thead>\n    <tr style=\"text-align: right;\">\n      <th></th>\n      <th>STUDY_ID</th>\n      <th>ETHNIC_GROUP</th>\n      <th>Symptoms onset</th>\n      <th>Died_or_Survived_Str</th>\n      <th>Discharged_Readmitted_Died</th>\n      <th>NIV</th>\n      <th>PATIENT_AGE</th>\n      <th>GENDER</th>\n      <th>ASTHMA</th>\n      <th>COPD</th>\n      <th>...</th>\n      <th>NEURAL_D</th>\n      <th>META_SOLID_TUMOUR</th>\n      <th>MAGLINANT_NEO</th>\n      <th>DIABETES</th>\n      <th>OBESITY</th>\n      <th>HIV</th>\n      <th>RHEUMATO_D</th>\n      <th>DIMENTIA</th>\n      <th>IMMUNO</th>\n      <th>NB_COMOR</th>\n    </tr>\n  </thead>\n  <tbody>\n    <tr>\n      <th>0</th>\n      <td>UHSCOVID_00989a42</td>\n      <td>A</td>\n      <td>Early Presenters</td>\n      <td>Survived</td>\n      <td>Discharged</td>\n      <td>0.0</td>\n      <td>64.0</td>\n      <td>M</td>\n      <td>1.0</td>\n      <td>1.0</td>\n      <td>...</td>\n      <td>0.0</td>\n      <td>0.0</td>\n      <td>0.0</td>\n      <td>1.0</td>\n      <td>1.0</td>\n      <td>0.0</td>\n      <td>0.0</td>\n      <td>0.0</td>\n      <td>0.0</td>\n      <td>4.0</td>\n    </tr>\n    <tr>\n      <th>8</th>\n      <td>UHSCOVID_00ac1e32</td>\n      <td>A</td>\n      <td>Hospital Equired</td>\n      <td>Survived</td>\n      <td>Discharged</td>\n      <td>1.0</td>\n      <td>73.0</td>\n      <td>M</td>\n      <td>0.0</td>\n      <td>0.0</td>\n      <td>...</td>\n      <td>0.0</td>\n      <td>0.0</td>\n      <td>0.0</td>\n      <td>0.0</td>\n      <td>0.0</td>\n      <td>0.0</td>\n      <td>0.0</td>\n      <td>0.0</td>\n      <td>0.0</td>\n      <td>1.0</td>\n    </tr>\n    <tr>\n      <th>51</th>\n      <td>UHSCOVID_00cb7bdd</td>\n      <td>A</td>\n      <td>Early Presenters</td>\n      <td>Died</td>\n      <td>Died</td>\n      <td>1.0</td>\n      <td>76.0</td>\n      <td>F</td>\n      <td>1.0</td>\n      <td>0.0</td>\n      <td>...</td>\n      <td>0.0</td>\n      <td>1.0</td>\n      <td>1.0</td>\n      <td>1.0</td>\n      <td>0.0</td>\n      <td>0.0</td>\n      <td>0.0</td>\n      <td>0.0</td>\n      <td>0.0</td>\n      <td>5.0</td>\n    </tr>\n    <tr>\n      <th>54</th>\n      <td>UHSCOVID_01add35c</td>\n      <td>A</td>\n      <td>Early Presenters</td>\n      <td>Died</td>\n      <td>Died</td>\n      <td>0.0</td>\n      <td>67.0</td>\n      <td>F</td>\n      <td>0.0</td>\n      <td>0.0</td>\n      <td>...</td>\n      <td>1.0</td>\n      <td>0.0</td>\n      <td>0.0</td>\n      <td>0.0</td>\n      <td>0.0</td>\n      <td>0.0</td>\n      <td>0.0</td>\n      <td>0.0</td>\n      <td>0.0</td>\n      <td>1.0</td>\n    </tr>\n    <tr>\n      <th>57</th>\n      <td>UHSCOVID_01f7838d</td>\n      <td>A</td>\n      <td>Hospital Equired</td>\n      <td>Survived</td>\n      <td>Discharged</td>\n      <td>0.0</td>\n      <td>97.0</td>\n      <td>M</td>\n      <td>0.0</td>\n      <td>0.0</td>\n      <td>...</td>\n      <td>0.0</td>\n      <td>0.0</td>\n      <td>1.0</td>\n      <td>1.0</td>\n      <td>0.0</td>\n      <td>0.0</td>\n      <td>0.0</td>\n      <td>0.0</td>\n      <td>0.0</td>\n      <td>5.0</td>\n    </tr>\n  </tbody>\n</table>\n<p>5 rows × 26 columns</p>\n</div>"
     },
     "execution_count": 442,
     "metadata": {},
     "output_type": "execute_result"
    }
   ],
   "source": [
    "# dfSel\n",
    "colSelected = ['STUDY_ID','ETHNIC_GROUP', 'Symptoms onset', 'Died_or_Survived_Str','Discharged_Readmitted_Died','NIV',\n",
    "               'PATIENT_AGE', 'GENDER','ASTHMA', 'COPD','BRONCHIECTASIS',\n",
    "       'HYPERTENSION', 'THROMBOEMBOLIC', 'CARDIAC_D', 'RENAL_D', 'LIVER_D',\n",
    "       'NEURAL_D', 'META_SOLID_TUMOUR', 'MAGLINANT_NEO', 'DIABETES', 'OBESITY',\n",
    "       'HIV', 'RHEUMATO_D', 'DIMENTIA', 'IMMUNO', 'NB_COMOR']\n",
    "dfSel = dfMeltedUnique[colSelected]\n",
    "dfSel.head()"
   ]
  },
  {
   "cell_type": "code",
   "execution_count": 443,
   "outputs": [
    {
     "data": {
      "text/plain": "               STUDY_ID ETHNIC_GROUP    Symptoms onset Died_or_Survived_Str  \\\n0     UHSCOVID_00989a42            A  Early Presenters             Survived   \n8     UHSCOVID_00ac1e32            A  Hospital Equired             Survived   \n51    UHSCOVID_00cb7bdd            A  Early Presenters                 Died   \n54    UHSCOVID_01add35c            A  Early Presenters                 Died   \n57    UHSCOVID_01f7838d            A  Hospital Equired             Survived   \n...                 ...          ...               ...                  ...   \n7754  UHSCOVID_fd016c0e            X   Late Presenters             Survived   \n7759  UHSCOVID_fd4da220            A  Early Presenters             Survived   \n7764  UHSCOVID_fd893360            A  Early Presenters             Survived   \n7778  UHSCOVID_fe8c3d54            A  Hospital Equired                 Died   \n7787  UHSCOVID_ffd435ad          NaN           Unknown             Survived   \n\n     Discharged_Readmitted_Died  NIV  PATIENT_AGE GENDER  ASTHMA  COPD  ...  \\\n0                    Discharged  0.0         64.0      M     1.0   1.0  ...   \n8                    Discharged  1.0         73.0      M     0.0   0.0  ...   \n51                         Died  1.0         76.0      F     1.0   0.0  ...   \n54                         Died  0.0         67.0      F     0.0   0.0  ...   \n57                   Discharged  0.0         97.0      M     0.0   0.0  ...   \n...                         ...  ...          ...    ...     ...   ...  ...   \n7754                 Discharged  0.0         47.0      M     0.0   0.0  ...   \n7759                 Discharged  0.0         70.0      M     0.0   0.0  ...   \n7764                 Readmitted  0.0         67.0      F     0.0   0.0  ...   \n7778                       Died  0.0         88.0      F     0.0   0.0  ...   \n7787                 Discharged  0.0         57.0      M     1.0   0.0  ...   \n\n      NEURAL_D  META_SOLID_TUMOUR  MAGLINANT_NEO  DIABETES  OBESITY  HIV  \\\n0          0.0                0.0            0.0       1.0      1.0  0.0   \n8          0.0                0.0            0.0       0.0      0.0  0.0   \n51         0.0                1.0            1.0       1.0      0.0  0.0   \n54         1.0                0.0            0.0       0.0      0.0  0.0   \n57         0.0                0.0            1.0       1.0      0.0  0.0   \n...        ...                ...            ...       ...      ...  ...   \n7754       0.0                0.0            0.0       0.0      0.0  0.0   \n7759       0.0                0.0            0.0       1.0      0.0  0.0   \n7764       1.0                0.0            0.0       0.0      0.0  0.0   \n7778       1.0                0.0            1.0       0.0      0.0  0.0   \n7787       1.0                0.0            0.0       0.0      0.0  0.0   \n\n      RHEUMATO_D  DIMENTIA  IMMUNO  NB_COMOR  \n0            0.0       0.0     0.0       4.0  \n8            0.0       0.0     0.0       1.0  \n51           0.0       0.0     0.0       5.0  \n54           0.0       0.0     0.0       1.0  \n57           0.0       0.0     0.0       5.0  \n...          ...       ...     ...       ...  \n7754         0.0       0.0     0.0       0.0  \n7759         0.0       0.0     0.0       3.0  \n7764         0.0       0.0     0.0       1.0  \n7778         0.0       0.0     0.0       3.0  \n7787         0.0       0.0     0.0       3.0  \n\n[651 rows x 26 columns]",
      "text/html": "<div>\n<style scoped>\n    .dataframe tbody tr th:only-of-type {\n        vertical-align: middle;\n    }\n\n    .dataframe tbody tr th {\n        vertical-align: top;\n    }\n\n    .dataframe thead th {\n        text-align: right;\n    }\n</style>\n<table border=\"1\" class=\"dataframe\">\n  <thead>\n    <tr style=\"text-align: right;\">\n      <th></th>\n      <th>STUDY_ID</th>\n      <th>ETHNIC_GROUP</th>\n      <th>Symptoms onset</th>\n      <th>Died_or_Survived_Str</th>\n      <th>Discharged_Readmitted_Died</th>\n      <th>NIV</th>\n      <th>PATIENT_AGE</th>\n      <th>GENDER</th>\n      <th>ASTHMA</th>\n      <th>COPD</th>\n      <th>...</th>\n      <th>NEURAL_D</th>\n      <th>META_SOLID_TUMOUR</th>\n      <th>MAGLINANT_NEO</th>\n      <th>DIABETES</th>\n      <th>OBESITY</th>\n      <th>HIV</th>\n      <th>RHEUMATO_D</th>\n      <th>DIMENTIA</th>\n      <th>IMMUNO</th>\n      <th>NB_COMOR</th>\n    </tr>\n  </thead>\n  <tbody>\n    <tr>\n      <th>0</th>\n      <td>UHSCOVID_00989a42</td>\n      <td>A</td>\n      <td>Early Presenters</td>\n      <td>Survived</td>\n      <td>Discharged</td>\n      <td>0.0</td>\n      <td>64.0</td>\n      <td>M</td>\n      <td>1.0</td>\n      <td>1.0</td>\n      <td>...</td>\n      <td>0.0</td>\n      <td>0.0</td>\n      <td>0.0</td>\n      <td>1.0</td>\n      <td>1.0</td>\n      <td>0.0</td>\n      <td>0.0</td>\n      <td>0.0</td>\n      <td>0.0</td>\n      <td>4.0</td>\n    </tr>\n    <tr>\n      <th>8</th>\n      <td>UHSCOVID_00ac1e32</td>\n      <td>A</td>\n      <td>Hospital Equired</td>\n      <td>Survived</td>\n      <td>Discharged</td>\n      <td>1.0</td>\n      <td>73.0</td>\n      <td>M</td>\n      <td>0.0</td>\n      <td>0.0</td>\n      <td>...</td>\n      <td>0.0</td>\n      <td>0.0</td>\n      <td>0.0</td>\n      <td>0.0</td>\n      <td>0.0</td>\n      <td>0.0</td>\n      <td>0.0</td>\n      <td>0.0</td>\n      <td>0.0</td>\n      <td>1.0</td>\n    </tr>\n    <tr>\n      <th>51</th>\n      <td>UHSCOVID_00cb7bdd</td>\n      <td>A</td>\n      <td>Early Presenters</td>\n      <td>Died</td>\n      <td>Died</td>\n      <td>1.0</td>\n      <td>76.0</td>\n      <td>F</td>\n      <td>1.0</td>\n      <td>0.0</td>\n      <td>...</td>\n      <td>0.0</td>\n      <td>1.0</td>\n      <td>1.0</td>\n      <td>1.0</td>\n      <td>0.0</td>\n      <td>0.0</td>\n      <td>0.0</td>\n      <td>0.0</td>\n      <td>0.0</td>\n      <td>5.0</td>\n    </tr>\n    <tr>\n      <th>54</th>\n      <td>UHSCOVID_01add35c</td>\n      <td>A</td>\n      <td>Early Presenters</td>\n      <td>Died</td>\n      <td>Died</td>\n      <td>0.0</td>\n      <td>67.0</td>\n      <td>F</td>\n      <td>0.0</td>\n      <td>0.0</td>\n      <td>...</td>\n      <td>1.0</td>\n      <td>0.0</td>\n      <td>0.0</td>\n      <td>0.0</td>\n      <td>0.0</td>\n      <td>0.0</td>\n      <td>0.0</td>\n      <td>0.0</td>\n      <td>0.0</td>\n      <td>1.0</td>\n    </tr>\n    <tr>\n      <th>57</th>\n      <td>UHSCOVID_01f7838d</td>\n      <td>A</td>\n      <td>Hospital Equired</td>\n      <td>Survived</td>\n      <td>Discharged</td>\n      <td>0.0</td>\n      <td>97.0</td>\n      <td>M</td>\n      <td>0.0</td>\n      <td>0.0</td>\n      <td>...</td>\n      <td>0.0</td>\n      <td>0.0</td>\n      <td>1.0</td>\n      <td>1.0</td>\n      <td>0.0</td>\n      <td>0.0</td>\n      <td>0.0</td>\n      <td>0.0</td>\n      <td>0.0</td>\n      <td>5.0</td>\n    </tr>\n    <tr>\n      <th>...</th>\n      <td>...</td>\n      <td>...</td>\n      <td>...</td>\n      <td>...</td>\n      <td>...</td>\n      <td>...</td>\n      <td>...</td>\n      <td>...</td>\n      <td>...</td>\n      <td>...</td>\n      <td>...</td>\n      <td>...</td>\n      <td>...</td>\n      <td>...</td>\n      <td>...</td>\n      <td>...</td>\n      <td>...</td>\n      <td>...</td>\n      <td>...</td>\n      <td>...</td>\n      <td>...</td>\n    </tr>\n    <tr>\n      <th>7754</th>\n      <td>UHSCOVID_fd016c0e</td>\n      <td>X</td>\n      <td>Late Presenters</td>\n      <td>Survived</td>\n      <td>Discharged</td>\n      <td>0.0</td>\n      <td>47.0</td>\n      <td>M</td>\n      <td>0.0</td>\n      <td>0.0</td>\n      <td>...</td>\n      <td>0.0</td>\n      <td>0.0</td>\n      <td>0.0</td>\n      <td>0.0</td>\n      <td>0.0</td>\n      <td>0.0</td>\n      <td>0.0</td>\n      <td>0.0</td>\n      <td>0.0</td>\n      <td>0.0</td>\n    </tr>\n    <tr>\n      <th>7759</th>\n      <td>UHSCOVID_fd4da220</td>\n      <td>A</td>\n      <td>Early Presenters</td>\n      <td>Survived</td>\n      <td>Discharged</td>\n      <td>0.0</td>\n      <td>70.0</td>\n      <td>M</td>\n      <td>0.0</td>\n      <td>0.0</td>\n      <td>...</td>\n      <td>0.0</td>\n      <td>0.0</td>\n      <td>0.0</td>\n      <td>1.0</td>\n      <td>0.0</td>\n      <td>0.0</td>\n      <td>0.0</td>\n      <td>0.0</td>\n      <td>0.0</td>\n      <td>3.0</td>\n    </tr>\n    <tr>\n      <th>7764</th>\n      <td>UHSCOVID_fd893360</td>\n      <td>A</td>\n      <td>Early Presenters</td>\n      <td>Survived</td>\n      <td>Readmitted</td>\n      <td>0.0</td>\n      <td>67.0</td>\n      <td>F</td>\n      <td>0.0</td>\n      <td>0.0</td>\n      <td>...</td>\n      <td>1.0</td>\n      <td>0.0</td>\n      <td>0.0</td>\n      <td>0.0</td>\n      <td>0.0</td>\n      <td>0.0</td>\n      <td>0.0</td>\n      <td>0.0</td>\n      <td>0.0</td>\n      <td>1.0</td>\n    </tr>\n    <tr>\n      <th>7778</th>\n      <td>UHSCOVID_fe8c3d54</td>\n      <td>A</td>\n      <td>Hospital Equired</td>\n      <td>Died</td>\n      <td>Died</td>\n      <td>0.0</td>\n      <td>88.0</td>\n      <td>F</td>\n      <td>0.0</td>\n      <td>0.0</td>\n      <td>...</td>\n      <td>1.0</td>\n      <td>0.0</td>\n      <td>1.0</td>\n      <td>0.0</td>\n      <td>0.0</td>\n      <td>0.0</td>\n      <td>0.0</td>\n      <td>0.0</td>\n      <td>0.0</td>\n      <td>3.0</td>\n    </tr>\n    <tr>\n      <th>7787</th>\n      <td>UHSCOVID_ffd435ad</td>\n      <td>NaN</td>\n      <td>Unknown</td>\n      <td>Survived</td>\n      <td>Discharged</td>\n      <td>0.0</td>\n      <td>57.0</td>\n      <td>M</td>\n      <td>1.0</td>\n      <td>0.0</td>\n      <td>...</td>\n      <td>1.0</td>\n      <td>0.0</td>\n      <td>0.0</td>\n      <td>0.0</td>\n      <td>0.0</td>\n      <td>0.0</td>\n      <td>0.0</td>\n      <td>0.0</td>\n      <td>0.0</td>\n      <td>3.0</td>\n    </tr>\n  </tbody>\n</table>\n<p>651 rows × 26 columns</p>\n</div>"
     },
     "execution_count": 443,
     "metadata": {},
     "output_type": "execute_result"
    }
   ],
   "source": [
    "dfSel"
   ],
   "metadata": {
    "collapsed": false,
    "pycharm": {
     "name": "#%%\n"
    }
   }
  },
  {
   "cell_type": "code",
   "execution_count": 444,
   "outputs": [
    {
     "data": {
      "text/plain": "Discharged_Readmitted_Died  Died  Discharged  Missing  Readmitted\nSymptoms onset                                                   \nEarly Presenters             127         213        2           7\nHospital Equired              49          72        1           1\nLate Presenters               22          88        0           1\nUnknown                       18          46        4           0",
      "text/html": "<div>\n<style scoped>\n    .dataframe tbody tr th:only-of-type {\n        vertical-align: middle;\n    }\n\n    .dataframe tbody tr th {\n        vertical-align: top;\n    }\n\n    .dataframe thead th {\n        text-align: right;\n    }\n</style>\n<table border=\"1\" class=\"dataframe\">\n  <thead>\n    <tr style=\"text-align: right;\">\n      <th>Discharged_Readmitted_Died</th>\n      <th>Died</th>\n      <th>Discharged</th>\n      <th>Missing</th>\n      <th>Readmitted</th>\n    </tr>\n    <tr>\n      <th>Symptoms onset</th>\n      <th></th>\n      <th></th>\n      <th></th>\n      <th></th>\n    </tr>\n  </thead>\n  <tbody>\n    <tr>\n      <th>Early Presenters</th>\n      <td>127</td>\n      <td>213</td>\n      <td>2</td>\n      <td>7</td>\n    </tr>\n    <tr>\n      <th>Hospital Equired</th>\n      <td>49</td>\n      <td>72</td>\n      <td>1</td>\n      <td>1</td>\n    </tr>\n    <tr>\n      <th>Late Presenters</th>\n      <td>22</td>\n      <td>88</td>\n      <td>0</td>\n      <td>1</td>\n    </tr>\n    <tr>\n      <th>Unknown</th>\n      <td>18</td>\n      <td>46</td>\n      <td>4</td>\n      <td>0</td>\n    </tr>\n  </tbody>\n</table>\n</div>"
     },
     "execution_count": 444,
     "metadata": {},
     "output_type": "execute_result"
    }
   ],
   "source": [
    "xNoMargin = pd.crosstab(dfSel['Symptoms onset'],dfSel['Discharged_Readmitted_Died'])\n",
    "xNoMargin"
   ],
   "metadata": {
    "collapsed": false,
    "pycharm": {
     "name": "#%%\n"
    }
   }
  },
  {
   "cell_type": "code",
   "execution_count": 445,
   "metadata": {
    "pycharm": {
     "name": "#%%\n"
    }
   },
   "outputs": [
    {
     "data": {
      "text/plain": "Discharged_Readmitted_Died  Died  Discharged  Missing  Readmitted  All\nSymptoms onset                                                        \nEarly Presenters             127         213        2           7  349\nHospital Equired              49          72        1           1  123\nLate Presenters               22          88        0           1  111\nUnknown                       18          46        4           0   68\nAll                          216         419        7           9  651",
      "text/html": "<div>\n<style scoped>\n    .dataframe tbody tr th:only-of-type {\n        vertical-align: middle;\n    }\n\n    .dataframe tbody tr th {\n        vertical-align: top;\n    }\n\n    .dataframe thead th {\n        text-align: right;\n    }\n</style>\n<table border=\"1\" class=\"dataframe\">\n  <thead>\n    <tr style=\"text-align: right;\">\n      <th>Discharged_Readmitted_Died</th>\n      <th>Died</th>\n      <th>Discharged</th>\n      <th>Missing</th>\n      <th>Readmitted</th>\n      <th>All</th>\n    </tr>\n    <tr>\n      <th>Symptoms onset</th>\n      <th></th>\n      <th></th>\n      <th></th>\n      <th></th>\n      <th></th>\n    </tr>\n  </thead>\n  <tbody>\n    <tr>\n      <th>Early Presenters</th>\n      <td>127</td>\n      <td>213</td>\n      <td>2</td>\n      <td>7</td>\n      <td>349</td>\n    </tr>\n    <tr>\n      <th>Hospital Equired</th>\n      <td>49</td>\n      <td>72</td>\n      <td>1</td>\n      <td>1</td>\n      <td>123</td>\n    </tr>\n    <tr>\n      <th>Late Presenters</th>\n      <td>22</td>\n      <td>88</td>\n      <td>0</td>\n      <td>1</td>\n      <td>111</td>\n    </tr>\n    <tr>\n      <th>Unknown</th>\n      <td>18</td>\n      <td>46</td>\n      <td>4</td>\n      <td>0</td>\n      <td>68</td>\n    </tr>\n    <tr>\n      <th>All</th>\n      <td>216</td>\n      <td>419</td>\n      <td>7</td>\n      <td>9</td>\n      <td>651</td>\n    </tr>\n  </tbody>\n</table>\n</div>"
     },
     "execution_count": 445,
     "metadata": {},
     "output_type": "execute_result"
    }
   ],
   "source": [
    "x = pd.crosstab(dfSel['Symptoms onset'],dfSel['Discharged_Readmitted_Died'],margins=True)\n",
    "x"
   ]
  },
  {
   "cell_type": "code",
   "execution_count": 446,
   "outputs": [
    {
     "data": {
      "text/plain": "Discharged_Readmitted_Died      Died  Discharged   Missing  Readmitted  \\\nSymptoms onset                                                           \nEarly Presenters            0.195084    0.327189  0.003072    0.010753   \nHospital Equired            0.075269    0.110599  0.001536    0.001536   \nLate Presenters             0.033794    0.135177  0.000000    0.001536   \nUnknown                     0.027650    0.070661  0.006144    0.000000   \nAll                         0.331797    0.643625  0.010753    0.013825   \n\nDischarged_Readmitted_Died       All  \nSymptoms onset                        \nEarly Presenters            0.536098  \nHospital Equired            0.188940  \nLate Presenters             0.170507  \nUnknown                     0.104455  \nAll                         1.000000  ",
      "text/html": "<div>\n<style scoped>\n    .dataframe tbody tr th:only-of-type {\n        vertical-align: middle;\n    }\n\n    .dataframe tbody tr th {\n        vertical-align: top;\n    }\n\n    .dataframe thead th {\n        text-align: right;\n    }\n</style>\n<table border=\"1\" class=\"dataframe\">\n  <thead>\n    <tr style=\"text-align: right;\">\n      <th>Discharged_Readmitted_Died</th>\n      <th>Died</th>\n      <th>Discharged</th>\n      <th>Missing</th>\n      <th>Readmitted</th>\n      <th>All</th>\n    </tr>\n    <tr>\n      <th>Symptoms onset</th>\n      <th></th>\n      <th></th>\n      <th></th>\n      <th></th>\n      <th></th>\n    </tr>\n  </thead>\n  <tbody>\n    <tr>\n      <th>Early Presenters</th>\n      <td>0.195084</td>\n      <td>0.327189</td>\n      <td>0.003072</td>\n      <td>0.010753</td>\n      <td>0.536098</td>\n    </tr>\n    <tr>\n      <th>Hospital Equired</th>\n      <td>0.075269</td>\n      <td>0.110599</td>\n      <td>0.001536</td>\n      <td>0.001536</td>\n      <td>0.188940</td>\n    </tr>\n    <tr>\n      <th>Late Presenters</th>\n      <td>0.033794</td>\n      <td>0.135177</td>\n      <td>0.000000</td>\n      <td>0.001536</td>\n      <td>0.170507</td>\n    </tr>\n    <tr>\n      <th>Unknown</th>\n      <td>0.027650</td>\n      <td>0.070661</td>\n      <td>0.006144</td>\n      <td>0.000000</td>\n      <td>0.104455</td>\n    </tr>\n    <tr>\n      <th>All</th>\n      <td>0.331797</td>\n      <td>0.643625</td>\n      <td>0.010753</td>\n      <td>0.013825</td>\n      <td>1.000000</td>\n    </tr>\n  </tbody>\n</table>\n</div>"
     },
     "execution_count": 446,
     "metadata": {},
     "output_type": "execute_result"
    }
   ],
   "source": [
    "xFrac = pd.crosstab(dfSel['Symptoms onset'],dfSel['Discharged_Readmitted_Died'],margins=True,normalize=True)\n",
    "xFrac"
   ],
   "metadata": {
    "collapsed": false,
    "pycharm": {
     "name": "#%%\n"
    }
   }
  },
  {
   "cell_type": "code",
   "execution_count": 447,
   "outputs": [
    {
     "data": {
      "text/plain": "Discharged_Readmitted_Died      Died  Discharged   Missing  Readmitted\nSymptoms onset                                                        \nEarly Presenters            0.363897    0.610315  0.005731    0.020057\nHospital Equired            0.398374    0.585366  0.008130    0.008130\nLate Presenters             0.198198    0.792793  0.000000    0.009009\nUnknown                     0.264706    0.676471  0.058824    0.000000\nAll                         0.331797    0.643625  0.010753    0.013825",
      "text/html": "<div>\n<style scoped>\n    .dataframe tbody tr th:only-of-type {\n        vertical-align: middle;\n    }\n\n    .dataframe tbody tr th {\n        vertical-align: top;\n    }\n\n    .dataframe thead th {\n        text-align: right;\n    }\n</style>\n<table border=\"1\" class=\"dataframe\">\n  <thead>\n    <tr style=\"text-align: right;\">\n      <th>Discharged_Readmitted_Died</th>\n      <th>Died</th>\n      <th>Discharged</th>\n      <th>Missing</th>\n      <th>Readmitted</th>\n    </tr>\n    <tr>\n      <th>Symptoms onset</th>\n      <th></th>\n      <th></th>\n      <th></th>\n      <th></th>\n    </tr>\n  </thead>\n  <tbody>\n    <tr>\n      <th>Early Presenters</th>\n      <td>0.363897</td>\n      <td>0.610315</td>\n      <td>0.005731</td>\n      <td>0.020057</td>\n    </tr>\n    <tr>\n      <th>Hospital Equired</th>\n      <td>0.398374</td>\n      <td>0.585366</td>\n      <td>0.008130</td>\n      <td>0.008130</td>\n    </tr>\n    <tr>\n      <th>Late Presenters</th>\n      <td>0.198198</td>\n      <td>0.792793</td>\n      <td>0.000000</td>\n      <td>0.009009</td>\n    </tr>\n    <tr>\n      <th>Unknown</th>\n      <td>0.264706</td>\n      <td>0.676471</td>\n      <td>0.058824</td>\n      <td>0.000000</td>\n    </tr>\n    <tr>\n      <th>All</th>\n      <td>0.331797</td>\n      <td>0.643625</td>\n      <td>0.010753</td>\n      <td>0.013825</td>\n    </tr>\n  </tbody>\n</table>\n</div>"
     },
     "execution_count": 447,
     "metadata": {},
     "output_type": "execute_result"
    }
   ],
   "source": [
    "xFracRow = pd.crosstab(dfSel['Symptoms onset'],dfSel['Discharged_Readmitted_Died'],margins=True,normalize='index')\n",
    "xFracRow"
   ],
   "metadata": {
    "collapsed": false,
    "pycharm": {
     "name": "#%%\n"
    }
   }
  },
  {
   "cell_type": "code",
   "execution_count": 448,
   "outputs": [
    {
     "data": {
      "text/plain": "Discharged_Readmitted_Died      Died  Discharged   Missing  Readmitted  \\\nSymptoms onset                                                           \nEarly Presenters            0.587963    0.508353  0.285714    0.777778   \nHospital Equired            0.226852    0.171838  0.142857    0.111111   \nLate Presenters             0.101852    0.210024  0.000000    0.111111   \nUnknown                     0.083333    0.109785  0.571429    0.000000   \n\nDischarged_Readmitted_Died       All  \nSymptoms onset                        \nEarly Presenters            0.536098  \nHospital Equired            0.188940  \nLate Presenters             0.170507  \nUnknown                     0.104455  ",
      "text/html": "<div>\n<style scoped>\n    .dataframe tbody tr th:only-of-type {\n        vertical-align: middle;\n    }\n\n    .dataframe tbody tr th {\n        vertical-align: top;\n    }\n\n    .dataframe thead th {\n        text-align: right;\n    }\n</style>\n<table border=\"1\" class=\"dataframe\">\n  <thead>\n    <tr style=\"text-align: right;\">\n      <th>Discharged_Readmitted_Died</th>\n      <th>Died</th>\n      <th>Discharged</th>\n      <th>Missing</th>\n      <th>Readmitted</th>\n      <th>All</th>\n    </tr>\n    <tr>\n      <th>Symptoms onset</th>\n      <th></th>\n      <th></th>\n      <th></th>\n      <th></th>\n      <th></th>\n    </tr>\n  </thead>\n  <tbody>\n    <tr>\n      <th>Early Presenters</th>\n      <td>0.587963</td>\n      <td>0.508353</td>\n      <td>0.285714</td>\n      <td>0.777778</td>\n      <td>0.536098</td>\n    </tr>\n    <tr>\n      <th>Hospital Equired</th>\n      <td>0.226852</td>\n      <td>0.171838</td>\n      <td>0.142857</td>\n      <td>0.111111</td>\n      <td>0.188940</td>\n    </tr>\n    <tr>\n      <th>Late Presenters</th>\n      <td>0.101852</td>\n      <td>0.210024</td>\n      <td>0.000000</td>\n      <td>0.111111</td>\n      <td>0.170507</td>\n    </tr>\n    <tr>\n      <th>Unknown</th>\n      <td>0.083333</td>\n      <td>0.109785</td>\n      <td>0.571429</td>\n      <td>0.000000</td>\n      <td>0.104455</td>\n    </tr>\n  </tbody>\n</table>\n</div>"
     },
     "execution_count": 448,
     "metadata": {},
     "output_type": "execute_result"
    }
   ],
   "source": [
    "xFracCols = pd.crosstab(dfSel['Symptoms onset'],dfSel['Discharged_Readmitted_Died'],margins=True,normalize='columns')\n",
    "xFracCols"
   ],
   "metadata": {
    "collapsed": false,
    "pycharm": {
     "name": "#%%\n"
    }
   }
  },
  {
   "cell_type": "code",
   "execution_count": 449,
   "outputs": [
    {
     "data": {
      "text/plain": "Discharged_Readmitted_Died  Died  Discharged  Missing  Readmitted\nSymptoms onset                                                   \nEarly Presenters             127         213        2           7\nHospital Equired              49          72        1           1\nLate Presenters               22          88        0           1\nUnknown                       18          46        4           0",
      "text/html": "<div>\n<style scoped>\n    .dataframe tbody tr th:only-of-type {\n        vertical-align: middle;\n    }\n\n    .dataframe tbody tr th {\n        vertical-align: top;\n    }\n\n    .dataframe thead th {\n        text-align: right;\n    }\n</style>\n<table border=\"1\" class=\"dataframe\">\n  <thead>\n    <tr style=\"text-align: right;\">\n      <th>Discharged_Readmitted_Died</th>\n      <th>Died</th>\n      <th>Discharged</th>\n      <th>Missing</th>\n      <th>Readmitted</th>\n    </tr>\n    <tr>\n      <th>Symptoms onset</th>\n      <th></th>\n      <th></th>\n      <th></th>\n      <th></th>\n    </tr>\n  </thead>\n  <tbody>\n    <tr>\n      <th>Early Presenters</th>\n      <td>127</td>\n      <td>213</td>\n      <td>2</td>\n      <td>7</td>\n    </tr>\n    <tr>\n      <th>Hospital Equired</th>\n      <td>49</td>\n      <td>72</td>\n      <td>1</td>\n      <td>1</td>\n    </tr>\n    <tr>\n      <th>Late Presenters</th>\n      <td>22</td>\n      <td>88</td>\n      <td>0</td>\n      <td>1</td>\n    </tr>\n    <tr>\n      <th>Unknown</th>\n      <td>18</td>\n      <td>46</td>\n      <td>4</td>\n      <td>0</td>\n    </tr>\n  </tbody>\n</table>\n</div>"
     },
     "execution_count": 449,
     "metadata": {},
     "output_type": "execute_result"
    }
   ],
   "source": [
    "xNotAll = pd.crosstab(dfSel['Symptoms onset'],dfSel['Discharged_Readmitted_Died'])\n",
    "xNotAll"
   ],
   "metadata": {
    "collapsed": false,
    "pycharm": {
     "name": "#%%\n"
    }
   }
  },
  {
   "cell_type": "code",
   "execution_count": 450,
   "outputs": [
    {
     "data": {
      "text/plain": "Index(['Died', 'Discharged', 'Missing', 'Readmitted'], dtype='object', name='Discharged_Readmitted_Died')"
     },
     "execution_count": 450,
     "metadata": {},
     "output_type": "execute_result"
    }
   ],
   "source": [
    "xNotAll.columns"
   ],
   "metadata": {
    "collapsed": false,
    "pycharm": {
     "name": "#%%\n"
    }
   }
  },
  {
   "cell_type": "code",
   "execution_count": 451,
   "outputs": [
    {
     "data": {
      "text/plain": "Discharged_Readmitted_Died  Died  Discharged  Missing  Readmitted\nSymptoms onset                                                   \nEarly Presenters             127         213        2           7\nHospital Equired              49          72        1           1\nLate Presenters               22          88        0           1\nUnknown                       18          46        4           0",
      "text/html": "<div>\n<style scoped>\n    .dataframe tbody tr th:only-of-type {\n        vertical-align: middle;\n    }\n\n    .dataframe tbody tr th {\n        vertical-align: top;\n    }\n\n    .dataframe thead th {\n        text-align: right;\n    }\n</style>\n<table border=\"1\" class=\"dataframe\">\n  <thead>\n    <tr style=\"text-align: right;\">\n      <th>Discharged_Readmitted_Died</th>\n      <th>Died</th>\n      <th>Discharged</th>\n      <th>Missing</th>\n      <th>Readmitted</th>\n    </tr>\n    <tr>\n      <th>Symptoms onset</th>\n      <th></th>\n      <th></th>\n      <th></th>\n      <th></th>\n    </tr>\n  </thead>\n  <tbody>\n    <tr>\n      <th>Early Presenters</th>\n      <td>127</td>\n      <td>213</td>\n      <td>2</td>\n      <td>7</td>\n    </tr>\n    <tr>\n      <th>Hospital Equired</th>\n      <td>49</td>\n      <td>72</td>\n      <td>1</td>\n      <td>1</td>\n    </tr>\n    <tr>\n      <th>Late Presenters</th>\n      <td>22</td>\n      <td>88</td>\n      <td>0</td>\n      <td>1</td>\n    </tr>\n    <tr>\n      <th>Unknown</th>\n      <td>18</td>\n      <td>46</td>\n      <td>4</td>\n      <td>0</td>\n    </tr>\n  </tbody>\n</table>\n</div>"
     },
     "execution_count": 451,
     "metadata": {},
     "output_type": "execute_result"
    }
   ],
   "source": [
    "xNotAll.head()"
   ],
   "metadata": {
    "collapsed": false,
    "pycharm": {
     "name": "#%%\n"
    }
   }
  },
  {
   "cell_type": "code",
   "execution_count": 452,
   "outputs": [
    {
     "data": {
      "text/plain": "Discharged_Readmitted_Died    Symptoms onset  Died  Discharged  Missing  \\\n0                           Early Presenters   127         213        2   \n1                           Hospital Equired    49          72        1   \n2                            Late Presenters    22          88        0   \n3                                    Unknown    18          46        4   \n\nDischarged_Readmitted_Died  Readmitted  \n0                                    7  \n1                                    1  \n2                                    1  \n3                                    0  ",
      "text/html": "<div>\n<style scoped>\n    .dataframe tbody tr th:only-of-type {\n        vertical-align: middle;\n    }\n\n    .dataframe tbody tr th {\n        vertical-align: top;\n    }\n\n    .dataframe thead th {\n        text-align: right;\n    }\n</style>\n<table border=\"1\" class=\"dataframe\">\n  <thead>\n    <tr style=\"text-align: right;\">\n      <th>Discharged_Readmitted_Died</th>\n      <th>Symptoms onset</th>\n      <th>Died</th>\n      <th>Discharged</th>\n      <th>Missing</th>\n      <th>Readmitted</th>\n    </tr>\n  </thead>\n  <tbody>\n    <tr>\n      <th>0</th>\n      <td>Early Presenters</td>\n      <td>127</td>\n      <td>213</td>\n      <td>2</td>\n      <td>7</td>\n    </tr>\n    <tr>\n      <th>1</th>\n      <td>Hospital Equired</td>\n      <td>49</td>\n      <td>72</td>\n      <td>1</td>\n      <td>1</td>\n    </tr>\n    <tr>\n      <th>2</th>\n      <td>Late Presenters</td>\n      <td>22</td>\n      <td>88</td>\n      <td>0</td>\n      <td>1</td>\n    </tr>\n    <tr>\n      <th>3</th>\n      <td>Unknown</td>\n      <td>18</td>\n      <td>46</td>\n      <td>4</td>\n      <td>0</td>\n    </tr>\n  </tbody>\n</table>\n</div>"
     },
     "execution_count": 452,
     "metadata": {},
     "output_type": "execute_result"
    }
   ],
   "source": [
    "xMelt = xNotAll.reset_index()\n",
    "xMelt"
   ],
   "metadata": {
    "collapsed": false,
    "pycharm": {
     "name": "#%%\n"
    }
   }
  },
  {
   "cell_type": "code",
   "execution_count": 453,
   "outputs": [
    {
     "data": {
      "text/plain": "Index(['Symptoms onset', 'Died', 'Discharged', 'Missing', 'Readmitted'], dtype='object', name='Discharged_Readmitted_Died')"
     },
     "execution_count": 453,
     "metadata": {},
     "output_type": "execute_result"
    }
   ],
   "source": [
    "xMelt.columns"
   ],
   "metadata": {
    "collapsed": false,
    "pycharm": {
     "name": "#%%\n"
    }
   }
  },
  {
   "cell_type": "code",
   "execution_count": 454,
   "outputs": [
    {
     "data": {
      "text/plain": "      Symptoms onset Discharged_Readmitted_Died  # Patients\n0   Early Presenters                       Died         127\n1   Hospital Equired                       Died          49\n2    Late Presenters                       Died          22\n3            Unknown                       Died          18\n4   Early Presenters                 Discharged         213\n5   Hospital Equired                 Discharged          72\n6    Late Presenters                 Discharged          88\n7            Unknown                 Discharged          46\n8   Early Presenters                    Missing           2\n9   Hospital Equired                    Missing           1\n10   Late Presenters                    Missing           0\n11           Unknown                    Missing           4",
      "text/html": "<div>\n<style scoped>\n    .dataframe tbody tr th:only-of-type {\n        vertical-align: middle;\n    }\n\n    .dataframe tbody tr th {\n        vertical-align: top;\n    }\n\n    .dataframe thead th {\n        text-align: right;\n    }\n</style>\n<table border=\"1\" class=\"dataframe\">\n  <thead>\n    <tr style=\"text-align: right;\">\n      <th></th>\n      <th>Symptoms onset</th>\n      <th>Discharged_Readmitted_Died</th>\n      <th># Patients</th>\n    </tr>\n  </thead>\n  <tbody>\n    <tr>\n      <th>0</th>\n      <td>Early Presenters</td>\n      <td>Died</td>\n      <td>127</td>\n    </tr>\n    <tr>\n      <th>1</th>\n      <td>Hospital Equired</td>\n      <td>Died</td>\n      <td>49</td>\n    </tr>\n    <tr>\n      <th>2</th>\n      <td>Late Presenters</td>\n      <td>Died</td>\n      <td>22</td>\n    </tr>\n    <tr>\n      <th>3</th>\n      <td>Unknown</td>\n      <td>Died</td>\n      <td>18</td>\n    </tr>\n    <tr>\n      <th>4</th>\n      <td>Early Presenters</td>\n      <td>Discharged</td>\n      <td>213</td>\n    </tr>\n    <tr>\n      <th>5</th>\n      <td>Hospital Equired</td>\n      <td>Discharged</td>\n      <td>72</td>\n    </tr>\n    <tr>\n      <th>6</th>\n      <td>Late Presenters</td>\n      <td>Discharged</td>\n      <td>88</td>\n    </tr>\n    <tr>\n      <th>7</th>\n      <td>Unknown</td>\n      <td>Discharged</td>\n      <td>46</td>\n    </tr>\n    <tr>\n      <th>8</th>\n      <td>Early Presenters</td>\n      <td>Missing</td>\n      <td>2</td>\n    </tr>\n    <tr>\n      <th>9</th>\n      <td>Hospital Equired</td>\n      <td>Missing</td>\n      <td>1</td>\n    </tr>\n    <tr>\n      <th>10</th>\n      <td>Late Presenters</td>\n      <td>Missing</td>\n      <td>0</td>\n    </tr>\n    <tr>\n      <th>11</th>\n      <td>Unknown</td>\n      <td>Missing</td>\n      <td>4</td>\n    </tr>\n  </tbody>\n</table>\n</div>"
     },
     "execution_count": 454,
     "metadata": {},
     "output_type": "execute_result"
    }
   ],
   "source": [
    "xMeltMelted = pd.melt(xMelt,id_vars=['Symptoms onset'],value_vars=[ 'Died', 'Discharged', 'Missing'])\n",
    "xMeltMelted.rename(columns={'value':'# Patients'},inplace=True)\n",
    "xMeltMelted"
   ],
   "metadata": {
    "collapsed": false,
    "pycharm": {
     "name": "#%%\n"
    }
   }
  },
  {
   "cell_type": "code",
   "execution_count": 455,
   "outputs": [
    {
     "data": {
      "text/plain": "      Symptoms onset Discharged_Readmitted_Died  # Patients  ETHNIC_GROUP  \\\n0   Early Presenters                       Died         127           124   \n1   Early Presenters                 Discharged         213           208   \n2   Early Presenters                    Missing           2             2   \n3   Early Presenters                 Readmitted           7             7   \n4   Hospital Equired                       Died          49            49   \n5   Hospital Equired                 Discharged          72            72   \n6   Hospital Equired                    Missing           1             1   \n7   Hospital Equired                 Readmitted           1             1   \n8    Late Presenters                       Died          22            20   \n9    Late Presenters                 Discharged          88            85   \n10   Late Presenters                 Readmitted           1             1   \n11           Unknown                       Died          18            14   \n12           Unknown                 Discharged          46            28   \n13           Unknown                    Missing           4             0   \n\n    Died_or_Survived_Str  NIV  PATIENT_AGE  GENDER  ASTHMA  COPD  ...  \\\n0                    127  127          127     127     127   127  ...   \n1                    213  213          213     213     213   213  ...   \n2                      2    2            2       2       2     2  ...   \n3                      7    7            7       7       7     7  ...   \n4                     49   49           49      49      49    49  ...   \n5                     72   72           72      72      72    72  ...   \n6                      1    1            1       1       1     1  ...   \n7                      1    1            1       1       1     1  ...   \n8                     22   22           22      22      22    22  ...   \n9                     88   88           88      88      88    88  ...   \n10                     1    1            1       1       1     1  ...   \n11                    18   18           18      18      18    18  ...   \n12                    46   46           46      46      45    45  ...   \n13                     4    4            4       4       3     3  ...   \n\n    NEURAL_D  META_SOLID_TUMOUR  MAGLINANT_NEO  DIABETES  OBESITY  HIV  \\\n0        127                127            127       127      127  127   \n1        213                213            213       213      213  213   \n2          2                  2              2         2        2    2   \n3          7                  7              7         7        7    7   \n4         49                 49             49        49       49   49   \n5         72                 72             72        72       72   72   \n6          1                  1              1         1        1    1   \n7          1                  1              1         1        1    1   \n8         22                 22             22        22       22   22   \n9         88                 88             88        88       88   88   \n10         1                  1              1         1        1    1   \n11        18                 18             18        18       18   18   \n12        45                 45             45        45       45   45   \n13         3                  3              3         3        3    3   \n\n    RHEUMATO_D  DIMENTIA  IMMUNO  NB_COMOR  \n0          127       127     127       127  \n1          213       213     213       213  \n2            2         2       2         2  \n3            7         7       7         7  \n4           49        49      49        49  \n5           72        72      72        72  \n6            1         1       1         1  \n7            1         1       1         1  \n8           22        22      22        22  \n9           88        88      88        88  \n10           1         1       1         1  \n11          18        18      18        18  \n12          45        45      45        45  \n13           3         3       3         3  \n\n[14 rows x 26 columns]",
      "text/html": "<div>\n<style scoped>\n    .dataframe tbody tr th:only-of-type {\n        vertical-align: middle;\n    }\n\n    .dataframe tbody tr th {\n        vertical-align: top;\n    }\n\n    .dataframe thead th {\n        text-align: right;\n    }\n</style>\n<table border=\"1\" class=\"dataframe\">\n  <thead>\n    <tr style=\"text-align: right;\">\n      <th></th>\n      <th>Symptoms onset</th>\n      <th>Discharged_Readmitted_Died</th>\n      <th># Patients</th>\n      <th>ETHNIC_GROUP</th>\n      <th>Died_or_Survived_Str</th>\n      <th>NIV</th>\n      <th>PATIENT_AGE</th>\n      <th>GENDER</th>\n      <th>ASTHMA</th>\n      <th>COPD</th>\n      <th>...</th>\n      <th>NEURAL_D</th>\n      <th>META_SOLID_TUMOUR</th>\n      <th>MAGLINANT_NEO</th>\n      <th>DIABETES</th>\n      <th>OBESITY</th>\n      <th>HIV</th>\n      <th>RHEUMATO_D</th>\n      <th>DIMENTIA</th>\n      <th>IMMUNO</th>\n      <th>NB_COMOR</th>\n    </tr>\n  </thead>\n  <tbody>\n    <tr>\n      <th>0</th>\n      <td>Early Presenters</td>\n      <td>Died</td>\n      <td>127</td>\n      <td>124</td>\n      <td>127</td>\n      <td>127</td>\n      <td>127</td>\n      <td>127</td>\n      <td>127</td>\n      <td>127</td>\n      <td>...</td>\n      <td>127</td>\n      <td>127</td>\n      <td>127</td>\n      <td>127</td>\n      <td>127</td>\n      <td>127</td>\n      <td>127</td>\n      <td>127</td>\n      <td>127</td>\n      <td>127</td>\n    </tr>\n    <tr>\n      <th>1</th>\n      <td>Early Presenters</td>\n      <td>Discharged</td>\n      <td>213</td>\n      <td>208</td>\n      <td>213</td>\n      <td>213</td>\n      <td>213</td>\n      <td>213</td>\n      <td>213</td>\n      <td>213</td>\n      <td>...</td>\n      <td>213</td>\n      <td>213</td>\n      <td>213</td>\n      <td>213</td>\n      <td>213</td>\n      <td>213</td>\n      <td>213</td>\n      <td>213</td>\n      <td>213</td>\n      <td>213</td>\n    </tr>\n    <tr>\n      <th>2</th>\n      <td>Early Presenters</td>\n      <td>Missing</td>\n      <td>2</td>\n      <td>2</td>\n      <td>2</td>\n      <td>2</td>\n      <td>2</td>\n      <td>2</td>\n      <td>2</td>\n      <td>2</td>\n      <td>...</td>\n      <td>2</td>\n      <td>2</td>\n      <td>2</td>\n      <td>2</td>\n      <td>2</td>\n      <td>2</td>\n      <td>2</td>\n      <td>2</td>\n      <td>2</td>\n      <td>2</td>\n    </tr>\n    <tr>\n      <th>3</th>\n      <td>Early Presenters</td>\n      <td>Readmitted</td>\n      <td>7</td>\n      <td>7</td>\n      <td>7</td>\n      <td>7</td>\n      <td>7</td>\n      <td>7</td>\n      <td>7</td>\n      <td>7</td>\n      <td>...</td>\n      <td>7</td>\n      <td>7</td>\n      <td>7</td>\n      <td>7</td>\n      <td>7</td>\n      <td>7</td>\n      <td>7</td>\n      <td>7</td>\n      <td>7</td>\n      <td>7</td>\n    </tr>\n    <tr>\n      <th>4</th>\n      <td>Hospital Equired</td>\n      <td>Died</td>\n      <td>49</td>\n      <td>49</td>\n      <td>49</td>\n      <td>49</td>\n      <td>49</td>\n      <td>49</td>\n      <td>49</td>\n      <td>49</td>\n      <td>...</td>\n      <td>49</td>\n      <td>49</td>\n      <td>49</td>\n      <td>49</td>\n      <td>49</td>\n      <td>49</td>\n      <td>49</td>\n      <td>49</td>\n      <td>49</td>\n      <td>49</td>\n    </tr>\n    <tr>\n      <th>5</th>\n      <td>Hospital Equired</td>\n      <td>Discharged</td>\n      <td>72</td>\n      <td>72</td>\n      <td>72</td>\n      <td>72</td>\n      <td>72</td>\n      <td>72</td>\n      <td>72</td>\n      <td>72</td>\n      <td>...</td>\n      <td>72</td>\n      <td>72</td>\n      <td>72</td>\n      <td>72</td>\n      <td>72</td>\n      <td>72</td>\n      <td>72</td>\n      <td>72</td>\n      <td>72</td>\n      <td>72</td>\n    </tr>\n    <tr>\n      <th>6</th>\n      <td>Hospital Equired</td>\n      <td>Missing</td>\n      <td>1</td>\n      <td>1</td>\n      <td>1</td>\n      <td>1</td>\n      <td>1</td>\n      <td>1</td>\n      <td>1</td>\n      <td>1</td>\n      <td>...</td>\n      <td>1</td>\n      <td>1</td>\n      <td>1</td>\n      <td>1</td>\n      <td>1</td>\n      <td>1</td>\n      <td>1</td>\n      <td>1</td>\n      <td>1</td>\n      <td>1</td>\n    </tr>\n    <tr>\n      <th>7</th>\n      <td>Hospital Equired</td>\n      <td>Readmitted</td>\n      <td>1</td>\n      <td>1</td>\n      <td>1</td>\n      <td>1</td>\n      <td>1</td>\n      <td>1</td>\n      <td>1</td>\n      <td>1</td>\n      <td>...</td>\n      <td>1</td>\n      <td>1</td>\n      <td>1</td>\n      <td>1</td>\n      <td>1</td>\n      <td>1</td>\n      <td>1</td>\n      <td>1</td>\n      <td>1</td>\n      <td>1</td>\n    </tr>\n    <tr>\n      <th>8</th>\n      <td>Late Presenters</td>\n      <td>Died</td>\n      <td>22</td>\n      <td>20</td>\n      <td>22</td>\n      <td>22</td>\n      <td>22</td>\n      <td>22</td>\n      <td>22</td>\n      <td>22</td>\n      <td>...</td>\n      <td>22</td>\n      <td>22</td>\n      <td>22</td>\n      <td>22</td>\n      <td>22</td>\n      <td>22</td>\n      <td>22</td>\n      <td>22</td>\n      <td>22</td>\n      <td>22</td>\n    </tr>\n    <tr>\n      <th>9</th>\n      <td>Late Presenters</td>\n      <td>Discharged</td>\n      <td>88</td>\n      <td>85</td>\n      <td>88</td>\n      <td>88</td>\n      <td>88</td>\n      <td>88</td>\n      <td>88</td>\n      <td>88</td>\n      <td>...</td>\n      <td>88</td>\n      <td>88</td>\n      <td>88</td>\n      <td>88</td>\n      <td>88</td>\n      <td>88</td>\n      <td>88</td>\n      <td>88</td>\n      <td>88</td>\n      <td>88</td>\n    </tr>\n    <tr>\n      <th>10</th>\n      <td>Late Presenters</td>\n      <td>Readmitted</td>\n      <td>1</td>\n      <td>1</td>\n      <td>1</td>\n      <td>1</td>\n      <td>1</td>\n      <td>1</td>\n      <td>1</td>\n      <td>1</td>\n      <td>...</td>\n      <td>1</td>\n      <td>1</td>\n      <td>1</td>\n      <td>1</td>\n      <td>1</td>\n      <td>1</td>\n      <td>1</td>\n      <td>1</td>\n      <td>1</td>\n      <td>1</td>\n    </tr>\n    <tr>\n      <th>11</th>\n      <td>Unknown</td>\n      <td>Died</td>\n      <td>18</td>\n      <td>14</td>\n      <td>18</td>\n      <td>18</td>\n      <td>18</td>\n      <td>18</td>\n      <td>18</td>\n      <td>18</td>\n      <td>...</td>\n      <td>18</td>\n      <td>18</td>\n      <td>18</td>\n      <td>18</td>\n      <td>18</td>\n      <td>18</td>\n      <td>18</td>\n      <td>18</td>\n      <td>18</td>\n      <td>18</td>\n    </tr>\n    <tr>\n      <th>12</th>\n      <td>Unknown</td>\n      <td>Discharged</td>\n      <td>46</td>\n      <td>28</td>\n      <td>46</td>\n      <td>46</td>\n      <td>46</td>\n      <td>46</td>\n      <td>45</td>\n      <td>45</td>\n      <td>...</td>\n      <td>45</td>\n      <td>45</td>\n      <td>45</td>\n      <td>45</td>\n      <td>45</td>\n      <td>45</td>\n      <td>45</td>\n      <td>45</td>\n      <td>45</td>\n      <td>45</td>\n    </tr>\n    <tr>\n      <th>13</th>\n      <td>Unknown</td>\n      <td>Missing</td>\n      <td>4</td>\n      <td>0</td>\n      <td>4</td>\n      <td>4</td>\n      <td>4</td>\n      <td>4</td>\n      <td>3</td>\n      <td>3</td>\n      <td>...</td>\n      <td>3</td>\n      <td>3</td>\n      <td>3</td>\n      <td>3</td>\n      <td>3</td>\n      <td>3</td>\n      <td>3</td>\n      <td>3</td>\n      <td>3</td>\n      <td>3</td>\n    </tr>\n  </tbody>\n</table>\n<p>14 rows × 26 columns</p>\n</div>"
     },
     "execution_count": 455,
     "metadata": {},
     "output_type": "execute_result"
    }
   ],
   "source": [
    "x3 = dfSel.groupby(['Symptoms onset', 'Discharged_Readmitted_Died']).count().reset_index()\n",
    "x3.rename(columns={'STUDY_ID':'# Patients'},inplace=True)\n",
    "x3\n",
    "# x['% Patients withing \"Onset Time\" group'] =x.groupby('Symptoms onset')['# Patients'].apply(lambda x:x/x.sum())\n",
    "# totalPatients = x['# Patients'].sum()\n",
    "# x['% Patients withing all'] = x['# Patients'].apply(lambda x:x/totalPatients)\n",
    "# totalPatients"
   ],
   "metadata": {
    "collapsed": false,
    "pycharm": {
     "name": "#%%\n"
    }
   }
  },
  {
   "cell_type": "code",
   "execution_count": 455,
   "metadata": {
    "pycharm": {
     "name": "#%%\n"
    }
   },
   "outputs": [],
   "source": []
  },
  {
   "cell_type": "code",
   "execution_count": 456,
   "outputs": [
    {
     "data": {
      "text/plain": "Discharged_Readmitted_Died  Died  Discharged  Missing  Readmitted  All\nSymptoms onset                                                        \nEarly Presenters             127         213        2           7  349\nHospital Equired              49          72        1           1  123\nLate Presenters               22          88        0           1  111\nUnknown                       18          46        4           0   68\nAll                          216         419        7           9  651",
      "text/html": "<div>\n<style scoped>\n    .dataframe tbody tr th:only-of-type {\n        vertical-align: middle;\n    }\n\n    .dataframe tbody tr th {\n        vertical-align: top;\n    }\n\n    .dataframe thead th {\n        text-align: right;\n    }\n</style>\n<table border=\"1\" class=\"dataframe\">\n  <thead>\n    <tr style=\"text-align: right;\">\n      <th>Discharged_Readmitted_Died</th>\n      <th>Died</th>\n      <th>Discharged</th>\n      <th>Missing</th>\n      <th>Readmitted</th>\n      <th>All</th>\n    </tr>\n    <tr>\n      <th>Symptoms onset</th>\n      <th></th>\n      <th></th>\n      <th></th>\n      <th></th>\n      <th></th>\n    </tr>\n  </thead>\n  <tbody>\n    <tr>\n      <th>Early Presenters</th>\n      <td>127</td>\n      <td>213</td>\n      <td>2</td>\n      <td>7</td>\n      <td>349</td>\n    </tr>\n    <tr>\n      <th>Hospital Equired</th>\n      <td>49</td>\n      <td>72</td>\n      <td>1</td>\n      <td>1</td>\n      <td>123</td>\n    </tr>\n    <tr>\n      <th>Late Presenters</th>\n      <td>22</td>\n      <td>88</td>\n      <td>0</td>\n      <td>1</td>\n      <td>111</td>\n    </tr>\n    <tr>\n      <th>Unknown</th>\n      <td>18</td>\n      <td>46</td>\n      <td>4</td>\n      <td>0</td>\n      <td>68</td>\n    </tr>\n    <tr>\n      <th>All</th>\n      <td>216</td>\n      <td>419</td>\n      <td>7</td>\n      <td>9</td>\n      <td>651</td>\n    </tr>\n  </tbody>\n</table>\n</div>"
     },
     "execution_count": 456,
     "metadata": {},
     "output_type": "execute_result"
    }
   ],
   "source": [
    "x"
   ],
   "metadata": {
    "collapsed": false,
    "pycharm": {
     "name": "#%%\n"
    }
   }
  },
  {
   "cell_type": "markdown",
   "source": [
    "# Chi2 Test"
   ],
   "metadata": {
    "collapsed": false,
    "pycharm": {
     "name": "#%% md\n"
    }
   }
  },
  {
   "cell_type": "markdown",
   "source": [
    "## Chi2 Test - Outcomes"
   ],
   "metadata": {
    "collapsed": false,
    "pycharm": {
     "name": "#%% md\n"
    }
   }
  },
  {
   "cell_type": "code",
   "execution_count": 457,
   "outputs": [
    {
     "data": {
      "text/plain": "Discharged_Readmitted_Died  Died  Discharged  Missing  Readmitted  All\nSymptoms onset                                                        \nEarly Presenters             127         213        2           7  349\nHospital Equired              49          72        1           1  123\nLate Presenters               22          88        0           1  111\nUnknown                       18          46        4           0   68\nAll                          216         419        7           9  651",
      "text/html": "<div>\n<style scoped>\n    .dataframe tbody tr th:only-of-type {\n        vertical-align: middle;\n    }\n\n    .dataframe tbody tr th {\n        vertical-align: top;\n    }\n\n    .dataframe thead th {\n        text-align: right;\n    }\n</style>\n<table border=\"1\" class=\"dataframe\">\n  <thead>\n    <tr style=\"text-align: right;\">\n      <th>Discharged_Readmitted_Died</th>\n      <th>Died</th>\n      <th>Discharged</th>\n      <th>Missing</th>\n      <th>Readmitted</th>\n      <th>All</th>\n    </tr>\n    <tr>\n      <th>Symptoms onset</th>\n      <th></th>\n      <th></th>\n      <th></th>\n      <th></th>\n      <th></th>\n    </tr>\n  </thead>\n  <tbody>\n    <tr>\n      <th>Early Presenters</th>\n      <td>127</td>\n      <td>213</td>\n      <td>2</td>\n      <td>7</td>\n      <td>349</td>\n    </tr>\n    <tr>\n      <th>Hospital Equired</th>\n      <td>49</td>\n      <td>72</td>\n      <td>1</td>\n      <td>1</td>\n      <td>123</td>\n    </tr>\n    <tr>\n      <th>Late Presenters</th>\n      <td>22</td>\n      <td>88</td>\n      <td>0</td>\n      <td>1</td>\n      <td>111</td>\n    </tr>\n    <tr>\n      <th>Unknown</th>\n      <td>18</td>\n      <td>46</td>\n      <td>4</td>\n      <td>0</td>\n      <td>68</td>\n    </tr>\n    <tr>\n      <th>All</th>\n      <td>216</td>\n      <td>419</td>\n      <td>7</td>\n      <td>9</td>\n      <td>651</td>\n    </tr>\n  </tbody>\n</table>\n</div>"
     },
     "execution_count": 457,
     "metadata": {},
     "output_type": "execute_result"
    }
   ],
   "source": [
    "x"
   ],
   "metadata": {
    "collapsed": false,
    "pycharm": {
     "name": "#%%\n"
    }
   }
  },
  {
   "cell_type": "code",
   "execution_count": 458,
   "outputs": [
    {
     "data": {
      "text/plain": "Discharged_Readmitted_Died  Died  Discharged  Missing  Readmitted\nSymptoms onset                                                   \nEarly Presenters             127         213        2           7\nHospital Equired              49          72        1           1\nLate Presenters               22          88        0           1\nUnknown                       18          46        4           0",
      "text/html": "<div>\n<style scoped>\n    .dataframe tbody tr th:only-of-type {\n        vertical-align: middle;\n    }\n\n    .dataframe tbody tr th {\n        vertical-align: top;\n    }\n\n    .dataframe thead th {\n        text-align: right;\n    }\n</style>\n<table border=\"1\" class=\"dataframe\">\n  <thead>\n    <tr style=\"text-align: right;\">\n      <th>Discharged_Readmitted_Died</th>\n      <th>Died</th>\n      <th>Discharged</th>\n      <th>Missing</th>\n      <th>Readmitted</th>\n    </tr>\n    <tr>\n      <th>Symptoms onset</th>\n      <th></th>\n      <th></th>\n      <th></th>\n      <th></th>\n    </tr>\n  </thead>\n  <tbody>\n    <tr>\n      <th>Early Presenters</th>\n      <td>127</td>\n      <td>213</td>\n      <td>2</td>\n      <td>7</td>\n    </tr>\n    <tr>\n      <th>Hospital Equired</th>\n      <td>49</td>\n      <td>72</td>\n      <td>1</td>\n      <td>1</td>\n    </tr>\n    <tr>\n      <th>Late Presenters</th>\n      <td>22</td>\n      <td>88</td>\n      <td>0</td>\n      <td>1</td>\n    </tr>\n    <tr>\n      <th>Unknown</th>\n      <td>18</td>\n      <td>46</td>\n      <td>4</td>\n      <td>0</td>\n    </tr>\n  </tbody>\n</table>\n</div>"
     },
     "execution_count": 458,
     "metadata": {},
     "output_type": "execute_result"
    }
   ],
   "source": [
    "xNoMargin"
   ],
   "metadata": {
    "collapsed": false,
    "pycharm": {
     "name": "#%%\n"
    }
   }
  },
  {
   "cell_type": "markdown",
   "source": [
    "### All 'Symptoms Onset' values Chi2 Test - Outcomes with missing Outcome"
   ],
   "metadata": {
    "collapsed": false,
    "pycharm": {
     "name": "#%% md\n"
    }
   }
  },
  {
   "cell_type": "code",
   "execution_count": 459,
   "outputs": [
    {
     "data": {
      "text/plain": "Discharged_Readmitted_Died  Died  Discharged  Missing  Readmitted\nSymptoms onset                                                   \nEarly Presenters             127         213        2           7\nHospital Equired              49          72        1           1\nLate Presenters               22          88        0           1",
      "text/html": "<div>\n<style scoped>\n    .dataframe tbody tr th:only-of-type {\n        vertical-align: middle;\n    }\n\n    .dataframe tbody tr th {\n        vertical-align: top;\n    }\n\n    .dataframe thead th {\n        text-align: right;\n    }\n</style>\n<table border=\"1\" class=\"dataframe\">\n  <thead>\n    <tr style=\"text-align: right;\">\n      <th>Discharged_Readmitted_Died</th>\n      <th>Died</th>\n      <th>Discharged</th>\n      <th>Missing</th>\n      <th>Readmitted</th>\n    </tr>\n    <tr>\n      <th>Symptoms onset</th>\n      <th></th>\n      <th></th>\n      <th></th>\n      <th></th>\n    </tr>\n  </thead>\n  <tbody>\n    <tr>\n      <th>Early Presenters</th>\n      <td>127</td>\n      <td>213</td>\n      <td>2</td>\n      <td>7</td>\n    </tr>\n    <tr>\n      <th>Hospital Equired</th>\n      <td>49</td>\n      <td>72</td>\n      <td>1</td>\n      <td>1</td>\n    </tr>\n    <tr>\n      <th>Late Presenters</th>\n      <td>22</td>\n      <td>88</td>\n      <td>0</td>\n      <td>1</td>\n    </tr>\n  </tbody>\n</table>\n</div>"
     },
     "execution_count": 459,
     "metadata": {},
     "output_type": "execute_result"
    }
   ],
   "source": [
    "xNoMarginNoUnknown = xNoMargin.drop(xNoMargin.index[-1]) # Dropping Unknown Onset\n",
    "xNoMarginNoUnknown"
   ],
   "metadata": {
    "collapsed": false,
    "pycharm": {
     "name": "#%%\n"
    }
   }
  },
  {
   "cell_type": "code",
   "execution_count": 460,
   "outputs": [
    {
     "data": {
      "text/plain": "<IPython.core.display.Markdown object>",
      "text/markdown": "# All Symptom onset values except 'Unknown'"
     },
     "metadata": {},
     "output_type": "display_data"
    },
    {
     "name": "stdout",
     "output_type": "stream",
     "text": [
      "stat = 15.509718656693588\n",
      "p = 0.016641988343769374\n",
      "dof = 6\n",
      "expected = [[118.52830189 223.28816467   1.79588336   5.38765009]\n",
      " [ 41.77358491  78.69468268   0.6329331    1.89879931]\n",
      " [ 37.69811321  71.01715266   0.57118353   1.7135506 ]]\n"
     ]
    },
    {
     "data": {
      "text/plain": "<IPython.core.display.Markdown object>",
      "text/markdown": "Since p=0.02<0.05, based on  test we can reject hypothesis that death as outcome does not depend on the presence of a renal disease."
     },
     "metadata": {},
     "output_type": "display_data"
    }
   ],
   "source": [
    "printChi2(xNoMarginNoUnknown,f\"All Symptom onset values except 'Unknown'\")"
   ],
   "metadata": {
    "collapsed": false,
    "pycharm": {
     "name": "#%%\n"
    }
   }
  },
  {
   "cell_type": "markdown",
   "source": [
    "#### Multiple Testing"
   ],
   "metadata": {
    "collapsed": false,
    "pycharm": {
     "name": "#%% md\n"
    }
   }
  },
  {
   "cell_type": "code",
   "execution_count": 461,
   "outputs": [
    {
     "data": {
      "text/plain": "Discharged_Readmitted_Died  Died  Discharged  Missing  Readmitted\nSymptoms onset                                                   \nEarly Presenters             127         213        2           7\nHospital Equired              49          72        1           1\nLate Presenters               22          88        0           1",
      "text/html": "<div>\n<style scoped>\n    .dataframe tbody tr th:only-of-type {\n        vertical-align: middle;\n    }\n\n    .dataframe tbody tr th {\n        vertical-align: top;\n    }\n\n    .dataframe thead th {\n        text-align: right;\n    }\n</style>\n<table border=\"1\" class=\"dataframe\">\n  <thead>\n    <tr style=\"text-align: right;\">\n      <th>Discharged_Readmitted_Died</th>\n      <th>Died</th>\n      <th>Discharged</th>\n      <th>Missing</th>\n      <th>Readmitted</th>\n    </tr>\n    <tr>\n      <th>Symptoms onset</th>\n      <th></th>\n      <th></th>\n      <th></th>\n      <th></th>\n    </tr>\n  </thead>\n  <tbody>\n    <tr>\n      <th>Early Presenters</th>\n      <td>127</td>\n      <td>213</td>\n      <td>2</td>\n      <td>7</td>\n    </tr>\n    <tr>\n      <th>Hospital Equired</th>\n      <td>49</td>\n      <td>72</td>\n      <td>1</td>\n      <td>1</td>\n    </tr>\n    <tr>\n      <th>Late Presenters</th>\n      <td>22</td>\n      <td>88</td>\n      <td>0</td>\n      <td>1</td>\n    </tr>\n  </tbody>\n</table>\n</div>"
     },
     "execution_count": 461,
     "metadata": {},
     "output_type": "execute_result"
    }
   ],
   "source": [
    "xNoMarginNoUnknown.head()"
   ],
   "metadata": {
    "collapsed": false,
    "pycharm": {
     "name": "#%%\n"
    }
   }
  },
  {
   "cell_type": "code",
   "execution_count": 462,
   "outputs": [
    {
     "name": "stdout",
     "output_type": "stream",
     "text": [
      "Chi2 result of the contingency table: 15.509718656693588, p-value: 0.016641988343769374\n",
      "Significance results:\n",
      "('Early Presenters', 'Hospital Equired'): p_value: 0.745962; corrected: 0.745962 (ns) reject: False\n",
      "('Early Presenters', 'Late Presenters'): p_value: 0.005455; corrected: 0.009704 (**) reject: True\n",
      "('Hospital Equired', 'Late Presenters'): p_value: 0.006469; corrected: 0.009704 (**) reject: True\n"
     ]
    }
   ],
   "source": [
    "chisq_and_posthoc_corrected(xNoMarginNoUnknown)"
   ],
   "metadata": {
    "collapsed": false,
    "pycharm": {
     "name": "#%%\n"
    }
   }
  },
  {
   "cell_type": "markdown",
   "source": [
    "### All 'Symptoms Onset' values Chi2 Test - Outcomes NO missing Outcome"
   ],
   "metadata": {
    "collapsed": false,
    "pycharm": {
     "name": "#%% md\n"
    }
   }
  },
  {
   "cell_type": "code",
   "execution_count": 463,
   "outputs": [
    {
     "data": {
      "text/plain": "Discharged_Readmitted_Died  Died  Discharged  Readmitted\nSymptoms onset                                          \nEarly Presenters             127         213           7\nHospital Equired              49          72           1\nLate Presenters               22          88           1",
      "text/html": "<div>\n<style scoped>\n    .dataframe tbody tr th:only-of-type {\n        vertical-align: middle;\n    }\n\n    .dataframe tbody tr th {\n        vertical-align: top;\n    }\n\n    .dataframe thead th {\n        text-align: right;\n    }\n</style>\n<table border=\"1\" class=\"dataframe\">\n  <thead>\n    <tr style=\"text-align: right;\">\n      <th>Discharged_Readmitted_Died</th>\n      <th>Died</th>\n      <th>Discharged</th>\n      <th>Readmitted</th>\n    </tr>\n    <tr>\n      <th>Symptoms onset</th>\n      <th></th>\n      <th></th>\n      <th></th>\n    </tr>\n  </thead>\n  <tbody>\n    <tr>\n      <th>Early Presenters</th>\n      <td>127</td>\n      <td>213</td>\n      <td>7</td>\n    </tr>\n    <tr>\n      <th>Hospital Equired</th>\n      <td>49</td>\n      <td>72</td>\n      <td>1</td>\n    </tr>\n    <tr>\n      <th>Late Presenters</th>\n      <td>22</td>\n      <td>88</td>\n      <td>1</td>\n    </tr>\n  </tbody>\n</table>\n</div>"
     },
     "execution_count": 463,
     "metadata": {},
     "output_type": "execute_result"
    }
   ],
   "source": [
    "xNoMarginNoUnknownNoMissing = xNoMargin.drop(xNoMargin.index[-1]) # Dropping Unknown Onset\n",
    "xNoMarginNoUnknownNoMissing\n",
    "xNoMarginNoUnknownNoMissing.drop('Missing',axis=1,inplace=True)\n",
    "xNoMarginNoUnknownNoMissing"
   ],
   "metadata": {
    "collapsed": false,
    "pycharm": {
     "name": "#%%\n"
    }
   }
  },
  {
   "cell_type": "code",
   "execution_count": 464,
   "outputs": [
    {
     "data": {
      "text/plain": "<IPython.core.display.Markdown object>",
      "text/markdown": "# All Symptom onset values except 'Unknown' and No 'Missing' outcome"
     },
     "metadata": {},
     "output_type": "display_data"
    },
    {
     "name": "stdout",
     "output_type": "stream",
     "text": [
      "stat = 15.509718656693588\n",
      "p = 0.016641988343769374\n",
      "dof = 6\n",
      "expected = [[118.52830189 223.28816467   1.79588336   5.38765009]\n",
      " [ 41.77358491  78.69468268   0.6329331    1.89879931]\n",
      " [ 37.69811321  71.01715266   0.57118353   1.7135506 ]]\n"
     ]
    },
    {
     "data": {
      "text/plain": "<IPython.core.display.Markdown object>",
      "text/markdown": "Since p=0.02<0.05, based on  test we can reject hypothesis that death as outcome does not depend on the presence of a renal disease."
     },
     "metadata": {},
     "output_type": "display_data"
    }
   ],
   "source": [
    "printChi2(xNoMarginNoUnknown,f\"All Symptom onset values except 'Unknown' and No 'Missing' outcome\")"
   ],
   "metadata": {
    "collapsed": false,
    "pycharm": {
     "name": "#%%\n"
    }
   }
  },
  {
   "cell_type": "markdown",
   "source": [
    "### Pairwise testing Only 2 'Symptoms Onset' values- \"Early Presenters\", \"Late Presenters\"- Chi2 Test - Outcomes"
   ],
   "metadata": {
    "collapsed": false,
    "pycharm": {
     "name": "#%% md\n"
    }
   }
  },
  {
   "cell_type": "code",
   "execution_count": 465,
   "outputs": [
    {
     "data": {
      "text/plain": "Discharged_Readmitted_Died  Died  Discharged  Missing  Readmitted\nSymptoms onset                                                   \nEarly Presenters             127         213        2           7\nLate Presenters               22          88        0           1",
      "text/html": "<div>\n<style scoped>\n    .dataframe tbody tr th:only-of-type {\n        vertical-align: middle;\n    }\n\n    .dataframe tbody tr th {\n        vertical-align: top;\n    }\n\n    .dataframe thead th {\n        text-align: right;\n    }\n</style>\n<table border=\"1\" class=\"dataframe\">\n  <thead>\n    <tr style=\"text-align: right;\">\n      <th>Discharged_Readmitted_Died</th>\n      <th>Died</th>\n      <th>Discharged</th>\n      <th>Missing</th>\n      <th>Readmitted</th>\n    </tr>\n    <tr>\n      <th>Symptoms onset</th>\n      <th></th>\n      <th></th>\n      <th></th>\n      <th></th>\n    </tr>\n  </thead>\n  <tbody>\n    <tr>\n      <th>Early Presenters</th>\n      <td>127</td>\n      <td>213</td>\n      <td>2</td>\n      <td>7</td>\n    </tr>\n    <tr>\n      <th>Late Presenters</th>\n      <td>22</td>\n      <td>88</td>\n      <td>0</td>\n      <td>1</td>\n    </tr>\n  </tbody>\n</table>\n</div>"
     },
     "execution_count": 465,
     "metadata": {},
     "output_type": "execute_result"
    }
   ],
   "source": [
    "xNoMarginNoUnknownNoHospital = xNoMargin.drop(['Hospital Equired','Unknown']) # Dropping Unknown Onset\n",
    "xNoMarginNoUnknownNoHospital"
   ],
   "metadata": {
    "collapsed": false,
    "pycharm": {
     "name": "#%%\n"
    }
   }
  },
  {
   "cell_type": "code",
   "execution_count": 466,
   "outputs": [
    {
     "data": {
      "text/plain": "<IPython.core.display.Markdown object>",
      "text/markdown": "# Only 2 values: ['Early Presenters', 'Late Presenters']"
     },
     "metadata": {},
     "output_type": "display_data"
    },
    {
     "name": "stdout",
     "output_type": "stream",
     "text": [
      "stat = 12.651069560874069\n",
      "p = 0.005455293806142829\n",
      "dof = 3\n",
      "expected = [[113.04565217 228.3673913    1.5173913    6.06956522]\n",
      " [ 35.95434783  72.6326087    0.4826087    1.93043478]]\n"
     ]
    },
    {
     "data": {
      "text/plain": "<IPython.core.display.Markdown object>",
      "text/markdown": "Since p=0.005<0.05, based on  test we can reject hypothesis that death as outcome does not depend on the presence of a renal disease."
     },
     "metadata": {},
     "output_type": "display_data"
    }
   ],
   "source": [
    "printChi2(xNoMarginNoUnknownNoHospital,f\"Only 2 values: {list(xNoMarginNoUnknownNoHospital.index)}\")"
   ],
   "metadata": {
    "collapsed": false,
    "pycharm": {
     "name": "#%%\n"
    }
   }
  },
  {
   "cell_type": "code",
   "execution_count": 569,
   "outputs": [
    {
     "name": "stdout",
     "output_type": "stream",
     "text": [
      "Chi2 result of the contingency table: 12.651069560874069, p-value: 0.005455293806142829\n",
      "Significance results:\n",
      "('Early Presenters', 'Late Presenters'): p_value: 0.005455; corrected: 0.005455 (**) reject: True\n"
     ]
    }
   ],
   "source": [
    "chisq_and_posthoc_corrected(xNoMarginNoUnknownNoHospital)"
   ],
   "metadata": {
    "collapsed": false,
    "pycharm": {
     "name": "#%%\n"
    }
   }
  },
  {
   "cell_type": "markdown",
   "source": [
    "### Pairwise testing  Only 2 'Symptoms Onset' values- \"Early Presenters\", \"Late Presenters\"- Chi2 Test - Outcomes No Missing Outcome"
   ],
   "metadata": {
    "collapsed": false,
    "pycharm": {
     "name": "#%% md\n"
    }
   }
  },
  {
   "cell_type": "code",
   "execution_count": 467,
   "outputs": [
    {
     "data": {
      "text/plain": "Discharged_Readmitted_Died  Died  Discharged  Readmitted\nSymptoms onset                                          \nEarly Presenters             127         213           7\nLate Presenters               22          88           1",
      "text/html": "<div>\n<style scoped>\n    .dataframe tbody tr th:only-of-type {\n        vertical-align: middle;\n    }\n\n    .dataframe tbody tr th {\n        vertical-align: top;\n    }\n\n    .dataframe thead th {\n        text-align: right;\n    }\n</style>\n<table border=\"1\" class=\"dataframe\">\n  <thead>\n    <tr style=\"text-align: right;\">\n      <th>Discharged_Readmitted_Died</th>\n      <th>Died</th>\n      <th>Discharged</th>\n      <th>Readmitted</th>\n    </tr>\n    <tr>\n      <th>Symptoms onset</th>\n      <th></th>\n      <th></th>\n      <th></th>\n    </tr>\n  </thead>\n  <tbody>\n    <tr>\n      <th>Early Presenters</th>\n      <td>127</td>\n      <td>213</td>\n      <td>7</td>\n    </tr>\n    <tr>\n      <th>Late Presenters</th>\n      <td>22</td>\n      <td>88</td>\n      <td>1</td>\n    </tr>\n  </tbody>\n</table>\n</div>"
     },
     "execution_count": 467,
     "metadata": {},
     "output_type": "execute_result"
    }
   ],
   "source": [
    "xNoMarginNoUnknownNoHospitalNoMissing = xNoMargin.drop(['Hospital Equired','Unknown']) # Dropping Unknown Onset\n",
    "xNoMarginNoUnknownNoHospitalNoMissing.drop('Missing',axis=1,inplace=True)\n",
    "xNoMarginNoUnknownNoHospitalNoMissing"
   ],
   "metadata": {
    "collapsed": false,
    "pycharm": {
     "name": "#%%\n"
    }
   }
  },
  {
   "cell_type": "code",
   "execution_count": 468,
   "outputs": [
    {
     "data": {
      "text/plain": "<IPython.core.display.Markdown object>",
      "text/markdown": "# Only 2 values: ['Early Presenters', 'Late Presenters'] no Missing outcomes"
     },
     "metadata": {},
     "output_type": "display_data"
    },
    {
     "name": "stdout",
     "output_type": "stream",
     "text": [
      "stat = 12.651069560874069\n",
      "p = 0.005455293806142829\n",
      "dof = 3\n",
      "expected = [[113.04565217 228.3673913    1.5173913    6.06956522]\n",
      " [ 35.95434783  72.6326087    0.4826087    1.93043478]]\n"
     ]
    },
    {
     "data": {
      "text/plain": "<IPython.core.display.Markdown object>",
      "text/markdown": "Since p=0.005<0.05, based on  test we can reject hypothesis that death as outcome does not depend on the presence of a renal disease."
     },
     "metadata": {},
     "output_type": "display_data"
    }
   ],
   "source": [
    "printChi2(xNoMarginNoUnknownNoHospital,f\"Only 2 values: {list(xNoMarginNoUnknownNoHospitalNoMissing.index)} no Missing outcomes\")\n"
   ],
   "metadata": {
    "collapsed": false,
    "pycharm": {
     "name": "#%%\n"
    }
   }
  },
  {
   "cell_type": "markdown",
   "source": [
    "### Pairwise testing Only 2 'Symptoms Onset' values - \"Early Presenters\", \"Hospital Equired\" - Chi2 Test - Outcomes"
   ],
   "metadata": {
    "collapsed": false
   }
  },
  {
   "cell_type": "code",
   "execution_count": 469,
   "outputs": [
    {
     "data": {
      "text/plain": "Discharged_Readmitted_Died  Died  Discharged  Missing  Readmitted\nSymptoms onset                                                   \nEarly Presenters             127         213        2           7\nHospital Equired              49          72        1           1\nLate Presenters               22          88        0           1\nUnknown                       18          46        4           0",
      "text/html": "<div>\n<style scoped>\n    .dataframe tbody tr th:only-of-type {\n        vertical-align: middle;\n    }\n\n    .dataframe tbody tr th {\n        vertical-align: top;\n    }\n\n    .dataframe thead th {\n        text-align: right;\n    }\n</style>\n<table border=\"1\" class=\"dataframe\">\n  <thead>\n    <tr style=\"text-align: right;\">\n      <th>Discharged_Readmitted_Died</th>\n      <th>Died</th>\n      <th>Discharged</th>\n      <th>Missing</th>\n      <th>Readmitted</th>\n    </tr>\n    <tr>\n      <th>Symptoms onset</th>\n      <th></th>\n      <th></th>\n      <th></th>\n      <th></th>\n    </tr>\n  </thead>\n  <tbody>\n    <tr>\n      <th>Early Presenters</th>\n      <td>127</td>\n      <td>213</td>\n      <td>2</td>\n      <td>7</td>\n    </tr>\n    <tr>\n      <th>Hospital Equired</th>\n      <td>49</td>\n      <td>72</td>\n      <td>1</td>\n      <td>1</td>\n    </tr>\n    <tr>\n      <th>Late Presenters</th>\n      <td>22</td>\n      <td>88</td>\n      <td>0</td>\n      <td>1</td>\n    </tr>\n    <tr>\n      <th>Unknown</th>\n      <td>18</td>\n      <td>46</td>\n      <td>4</td>\n      <td>0</td>\n    </tr>\n  </tbody>\n</table>\n</div>"
     },
     "execution_count": 469,
     "metadata": {},
     "output_type": "execute_result"
    }
   ],
   "source": [
    "xNoMargin"
   ],
   "metadata": {
    "collapsed": false,
    "pycharm": {
     "name": "#%%\n"
    }
   }
  },
  {
   "cell_type": "code",
   "execution_count": 470,
   "outputs": [
    {
     "data": {
      "text/plain": "Discharged_Readmitted_Died  Died  Discharged  Missing  Readmitted\nSymptoms onset                                                   \nEarly Presenters             127         213        2           7\nHospital Equired              49          72        1           1",
      "text/html": "<div>\n<style scoped>\n    .dataframe tbody tr th:only-of-type {\n        vertical-align: middle;\n    }\n\n    .dataframe tbody tr th {\n        vertical-align: top;\n    }\n\n    .dataframe thead th {\n        text-align: right;\n    }\n</style>\n<table border=\"1\" class=\"dataframe\">\n  <thead>\n    <tr style=\"text-align: right;\">\n      <th>Discharged_Readmitted_Died</th>\n      <th>Died</th>\n      <th>Discharged</th>\n      <th>Missing</th>\n      <th>Readmitted</th>\n    </tr>\n    <tr>\n      <th>Symptoms onset</th>\n      <th></th>\n      <th></th>\n      <th></th>\n      <th></th>\n    </tr>\n  </thead>\n  <tbody>\n    <tr>\n      <th>Early Presenters</th>\n      <td>127</td>\n      <td>213</td>\n      <td>2</td>\n      <td>7</td>\n    </tr>\n    <tr>\n      <th>Hospital Equired</th>\n      <td>49</td>\n      <td>72</td>\n      <td>1</td>\n      <td>1</td>\n    </tr>\n  </tbody>\n</table>\n</div>"
     },
     "execution_count": 470,
     "metadata": {},
     "output_type": "execute_result"
    }
   ],
   "source": [
    "xNoMarginNoUnknownNoLP = xNoMargin.drop(['Late Presenters','Unknown']) # Dropping Unknown Onset\n",
    "xNoMarginNoUnknownNoLP"
   ],
   "metadata": {
    "collapsed": false,
    "pycharm": {
     "name": "#%%\n"
    }
   }
  },
  {
   "cell_type": "code",
   "execution_count": 471,
   "outputs": [
    {
     "data": {
      "text/plain": "<IPython.core.display.Markdown object>",
      "text/markdown": "# Only 2 values: ['Early Presenters', 'Hospital Equired']"
     },
     "metadata": {},
     "output_type": "display_data"
    },
    {
     "name": "stdout",
     "output_type": "stream",
     "text": [
      "stat = 1.2294009164848647\n",
      "p = 0.7459617363412194\n",
      "dof = 3\n",
      "expected = [[130.13559322 210.7309322    2.21822034   5.91525424]\n",
      " [ 45.86440678  74.2690678    0.78177966   2.08474576]]\n"
     ]
    },
    {
     "data": {
      "text/plain": "<IPython.core.display.Markdown object>",
      "text/markdown": "Since p=0.7<0.05, based on  test we can reject hypothesis that death as outcome does not depend on the presence of a renal disease."
     },
     "metadata": {},
     "output_type": "display_data"
    }
   ],
   "source": [
    "printChi2(xNoMarginNoUnknownNoLP,f\"Only 2 values: {list(xNoMarginNoUnknownNoLP.index)}\")"
   ],
   "metadata": {
    "collapsed": false,
    "pycharm": {
     "name": "#%%\n"
    }
   }
  },
  {
   "cell_type": "markdown",
   "source": [
    "### Pairwise testing Only 2 'Symptoms Onset' values - \"Late Presenters\", \"Hospital Equired\" - Chi2 Test - Outcomes"
   ],
   "metadata": {
    "collapsed": false,
    "pycharm": {
     "name": "#%% md\n"
    }
   }
  },
  {
   "cell_type": "code",
   "execution_count": 472,
   "outputs": [
    {
     "data": {
      "text/plain": "Discharged_Readmitted_Died  Died  Discharged  Missing  Readmitted\nSymptoms onset                                                   \nHospital Equired              49          72        1           1\nLate Presenters               22          88        0           1",
      "text/html": "<div>\n<style scoped>\n    .dataframe tbody tr th:only-of-type {\n        vertical-align: middle;\n    }\n\n    .dataframe tbody tr th {\n        vertical-align: top;\n    }\n\n    .dataframe thead th {\n        text-align: right;\n    }\n</style>\n<table border=\"1\" class=\"dataframe\">\n  <thead>\n    <tr style=\"text-align: right;\">\n      <th>Discharged_Readmitted_Died</th>\n      <th>Died</th>\n      <th>Discharged</th>\n      <th>Missing</th>\n      <th>Readmitted</th>\n    </tr>\n    <tr>\n      <th>Symptoms onset</th>\n      <th></th>\n      <th></th>\n      <th></th>\n      <th></th>\n    </tr>\n  </thead>\n  <tbody>\n    <tr>\n      <th>Hospital Equired</th>\n      <td>49</td>\n      <td>72</td>\n      <td>1</td>\n      <td>1</td>\n    </tr>\n    <tr>\n      <th>Late Presenters</th>\n      <td>22</td>\n      <td>88</td>\n      <td>0</td>\n      <td>1</td>\n    </tr>\n  </tbody>\n</table>\n</div>"
     },
     "execution_count": 472,
     "metadata": {},
     "output_type": "execute_result"
    }
   ],
   "source": [
    "xNoMarginNoUnknownNoEP = xNoMargin.drop(['Early Presenters','Unknown']) # Dropping Unknown Onset\n",
    "xNoMarginNoUnknownNoEP"
   ],
   "metadata": {
    "collapsed": false,
    "pycharm": {
     "name": "#%%\n"
    }
   }
  },
  {
   "cell_type": "code",
   "execution_count": 473,
   "outputs": [
    {
     "data": {
      "text/plain": "<IPython.core.display.Markdown object>",
      "text/markdown": "# Only 2 values: ['Hospital Equired', 'Late Presenters']"
     },
     "metadata": {},
     "output_type": "display_data"
    },
    {
     "name": "stdout",
     "output_type": "stream",
     "text": [
      "stat = 12.284527468038291\n",
      "p = 0.006469408365854848\n",
      "dof = 3\n",
      "expected = [[37.32051282 84.1025641   0.52564103  1.05128205]\n",
      " [33.67948718 75.8974359   0.47435897  0.94871795]]\n"
     ]
    },
    {
     "data": {
      "text/plain": "<IPython.core.display.Markdown object>",
      "text/markdown": "Since p=0.006<0.05, based on  test we can reject hypothesis that death as outcome does not depend on the presence of a renal disease."
     },
     "metadata": {},
     "output_type": "display_data"
    }
   ],
   "source": [
    "printChi2(xNoMarginNoUnknownNoEP, f\"Only 2 values: {list(xNoMarginNoUnknownNoEP.index)}\")\n"
   ],
   "metadata": {
    "collapsed": false,
    "pycharm": {
     "name": "#%%\n"
    }
   }
  },
  {
   "cell_type": "markdown",
   "source": [
    "### Transposed Test with Symptom Onset Unknown"
   ],
   "metadata": {
    "collapsed": false,
    "pycharm": {
     "name": "#%% md\n"
    }
   }
  },
  {
   "cell_type": "code",
   "execution_count": 474,
   "outputs": [
    {
     "data": {
      "text/plain": "Symptoms onset              Early Presenters  Hospital Equired  \\\nDischarged_Readmitted_Died                                       \nDied                                     127                49   \nDischarged                               213                72   \nMissing                                    2                 1   \nReadmitted                                 7                 1   \n\nSymptoms onset              Late Presenters  Unknown  \nDischarged_Readmitted_Died                            \nDied                                     22       18  \nDischarged                               88       46  \nMissing                                   0        4  \nReadmitted                                1        0  ",
      "text/html": "<div>\n<style scoped>\n    .dataframe tbody tr th:only-of-type {\n        vertical-align: middle;\n    }\n\n    .dataframe tbody tr th {\n        vertical-align: top;\n    }\n\n    .dataframe thead th {\n        text-align: right;\n    }\n</style>\n<table border=\"1\" class=\"dataframe\">\n  <thead>\n    <tr style=\"text-align: right;\">\n      <th>Symptoms onset</th>\n      <th>Early Presenters</th>\n      <th>Hospital Equired</th>\n      <th>Late Presenters</th>\n      <th>Unknown</th>\n    </tr>\n    <tr>\n      <th>Discharged_Readmitted_Died</th>\n      <th></th>\n      <th></th>\n      <th></th>\n      <th></th>\n    </tr>\n  </thead>\n  <tbody>\n    <tr>\n      <th>Died</th>\n      <td>127</td>\n      <td>49</td>\n      <td>22</td>\n      <td>18</td>\n    </tr>\n    <tr>\n      <th>Discharged</th>\n      <td>213</td>\n      <td>72</td>\n      <td>88</td>\n      <td>46</td>\n    </tr>\n    <tr>\n      <th>Missing</th>\n      <td>2</td>\n      <td>1</td>\n      <td>0</td>\n      <td>4</td>\n    </tr>\n    <tr>\n      <th>Readmitted</th>\n      <td>7</td>\n      <td>1</td>\n      <td>1</td>\n      <td>0</td>\n    </tr>\n  </tbody>\n</table>\n</div>"
     },
     "execution_count": 474,
     "metadata": {},
     "output_type": "execute_result"
    }
   ],
   "source": [
    "xNoMarginTranspose = xNoMargin.T\n",
    "xNoMarginTranspose"
   ],
   "metadata": {
    "collapsed": false,
    "pycharm": {
     "name": "#%%\n"
    }
   }
  },
  {
   "cell_type": "code",
   "execution_count": 475,
   "outputs": [
    {
     "data": {
      "text/plain": "<IPython.core.display.Markdown object>",
      "text/markdown": "# Empty"
     },
     "metadata": {},
     "output_type": "display_data"
    },
    {
     "name": "stdout",
     "output_type": "stream",
     "text": [
      "stat = 33.92204515145487\n",
      "p = 9.217633548683007e-05\n",
      "dof = 9\n",
      "expected = [[115.79723502  40.81105991  36.82949309  22.56221198]\n",
      " [224.62519201  79.16589862  71.44239631  43.76651306]\n",
      " [  3.75268817   1.32258065   1.19354839   0.7311828 ]\n",
      " [  4.82488479   1.70046083   1.53456221   0.94009217]]\n"
     ]
    },
    {
     "data": {
      "text/plain": "<IPython.core.display.Markdown object>",
      "text/markdown": "Since p=9e-05<0.05, based on  test we can reject hypothesis that death as outcome does not depend on the presence of a renal disease."
     },
     "metadata": {},
     "output_type": "display_data"
    }
   ],
   "source": [
    "printChi2(xNoMarginTranspose)"
   ],
   "metadata": {
    "collapsed": false,
    "pycharm": {
     "name": "#%%\n"
    }
   }
  },
  {
   "cell_type": "markdown",
   "source": [
    "### ====================================="
   ],
   "metadata": {
    "collapsed": false,
    "pycharm": {
     "name": "#%% md\n"
    }
   }
  },
  {
   "cell_type": "code",
   "execution_count": 476,
   "metadata": {
    "pycharm": {
     "name": "#%%\n"
    }
   },
   "outputs": [
    {
     "data": {
      "text/plain": "pandas.core.frame.DataFrame"
     },
     "execution_count": 476,
     "metadata": {},
     "output_type": "execute_result"
    }
   ],
   "source": [
    "type(x)"
   ]
  },
  {
   "cell_type": "code",
   "execution_count": 477,
   "outputs": [
    {
     "data": {
      "text/plain": "     Symptoms onset Discharged_Readmitted_Died  # Patients\n0  Early Presenters                       Died         127\n1  Hospital Equired                       Died          49\n2   Late Presenters                       Died          22\n3           Unknown                       Died          18\n4  Early Presenters                 Discharged         213",
      "text/html": "<div>\n<style scoped>\n    .dataframe tbody tr th:only-of-type {\n        vertical-align: middle;\n    }\n\n    .dataframe tbody tr th {\n        vertical-align: top;\n    }\n\n    .dataframe thead th {\n        text-align: right;\n    }\n</style>\n<table border=\"1\" class=\"dataframe\">\n  <thead>\n    <tr style=\"text-align: right;\">\n      <th></th>\n      <th>Symptoms onset</th>\n      <th>Discharged_Readmitted_Died</th>\n      <th># Patients</th>\n    </tr>\n  </thead>\n  <tbody>\n    <tr>\n      <th>0</th>\n      <td>Early Presenters</td>\n      <td>Died</td>\n      <td>127</td>\n    </tr>\n    <tr>\n      <th>1</th>\n      <td>Hospital Equired</td>\n      <td>Died</td>\n      <td>49</td>\n    </tr>\n    <tr>\n      <th>2</th>\n      <td>Late Presenters</td>\n      <td>Died</td>\n      <td>22</td>\n    </tr>\n    <tr>\n      <th>3</th>\n      <td>Unknown</td>\n      <td>Died</td>\n      <td>18</td>\n    </tr>\n    <tr>\n      <th>4</th>\n      <td>Early Presenters</td>\n      <td>Discharged</td>\n      <td>213</td>\n    </tr>\n  </tbody>\n</table>\n</div>"
     },
     "execution_count": 477,
     "metadata": {},
     "output_type": "execute_result"
    }
   ],
   "source": [
    "xMeltMelted.head()"
   ],
   "metadata": {
    "collapsed": false,
    "pycharm": {
     "name": "#%%\n"
    }
   }
  },
  {
   "cell_type": "code",
   "execution_count": 478,
   "outputs": [
    {
     "data": {
      "text/plain": "Index(['Symptoms onset', 'Discharged_Readmitted_Died', '# Patients'], dtype='object')"
     },
     "execution_count": 478,
     "metadata": {},
     "output_type": "execute_result"
    }
   ],
   "source": [
    "xMeltMelted.columns"
   ],
   "metadata": {
    "collapsed": false,
    "pycharm": {
     "name": "#%%\n"
    }
   }
  },
  {
   "cell_type": "code",
   "execution_count": 479,
   "outputs": [
    {
     "data": {
      "text/plain": "array(['Early Presenters', 'Hospital Equired', 'Late Presenters',\n       'Unknown'], dtype=object)"
     },
     "execution_count": 479,
     "metadata": {},
     "output_type": "execute_result"
    }
   ],
   "source": [
    "xMeltMelted[\"Symptoms onset\"].unique()"
   ],
   "metadata": {
    "collapsed": false,
    "pycharm": {
     "name": "#%%\n"
    }
   }
  },
  {
   "cell_type": "code",
   "execution_count": 480,
   "outputs": [
    {
     "data": {
      "text/plain": "RangeIndex(start=0, stop=12, step=1)"
     },
     "execution_count": 480,
     "metadata": {},
     "output_type": "execute_result"
    }
   ],
   "source": [
    "xMeltMelted.index"
   ],
   "metadata": {
    "collapsed": false,
    "pycharm": {
     "name": "#%%\n"
    }
   }
  },
  {
   "cell_type": "code",
   "execution_count": 481,
   "outputs": [
    {
     "data": {
      "text/plain": "      Symptoms onset Discharged_Readmitted_Died  # Patients\n0   Early Presenters                       Died         127\n1   Hospital Equired                       Died          49\n2    Late Presenters                       Died          22\n3            Unknown                       Died          18\n4   Early Presenters                 Discharged         213\n5   Hospital Equired                 Discharged          72\n6    Late Presenters                 Discharged          88\n7            Unknown                 Discharged          46\n8   Early Presenters                    Missing           2\n9   Hospital Equired                    Missing           1\n10   Late Presenters                    Missing           0\n11           Unknown                    Missing           4",
      "text/html": "<div>\n<style scoped>\n    .dataframe tbody tr th:only-of-type {\n        vertical-align: middle;\n    }\n\n    .dataframe tbody tr th {\n        vertical-align: top;\n    }\n\n    .dataframe thead th {\n        text-align: right;\n    }\n</style>\n<table border=\"1\" class=\"dataframe\">\n  <thead>\n    <tr style=\"text-align: right;\">\n      <th></th>\n      <th>Symptoms onset</th>\n      <th>Discharged_Readmitted_Died</th>\n      <th># Patients</th>\n    </tr>\n  </thead>\n  <tbody>\n    <tr>\n      <th>0</th>\n      <td>Early Presenters</td>\n      <td>Died</td>\n      <td>127</td>\n    </tr>\n    <tr>\n      <th>1</th>\n      <td>Hospital Equired</td>\n      <td>Died</td>\n      <td>49</td>\n    </tr>\n    <tr>\n      <th>2</th>\n      <td>Late Presenters</td>\n      <td>Died</td>\n      <td>22</td>\n    </tr>\n    <tr>\n      <th>3</th>\n      <td>Unknown</td>\n      <td>Died</td>\n      <td>18</td>\n    </tr>\n    <tr>\n      <th>4</th>\n      <td>Early Presenters</td>\n      <td>Discharged</td>\n      <td>213</td>\n    </tr>\n    <tr>\n      <th>5</th>\n      <td>Hospital Equired</td>\n      <td>Discharged</td>\n      <td>72</td>\n    </tr>\n    <tr>\n      <th>6</th>\n      <td>Late Presenters</td>\n      <td>Discharged</td>\n      <td>88</td>\n    </tr>\n    <tr>\n      <th>7</th>\n      <td>Unknown</td>\n      <td>Discharged</td>\n      <td>46</td>\n    </tr>\n    <tr>\n      <th>8</th>\n      <td>Early Presenters</td>\n      <td>Missing</td>\n      <td>2</td>\n    </tr>\n    <tr>\n      <th>9</th>\n      <td>Hospital Equired</td>\n      <td>Missing</td>\n      <td>1</td>\n    </tr>\n    <tr>\n      <th>10</th>\n      <td>Late Presenters</td>\n      <td>Missing</td>\n      <td>0</td>\n    </tr>\n    <tr>\n      <th>11</th>\n      <td>Unknown</td>\n      <td>Missing</td>\n      <td>4</td>\n    </tr>\n  </tbody>\n</table>\n</div>"
     },
     "execution_count": 481,
     "metadata": {},
     "output_type": "execute_result"
    }
   ],
   "source": [
    "xMeltMelted"
   ],
   "metadata": {
    "collapsed": false,
    "pycharm": {
     "name": "#%%\n"
    }
   }
  },
  {
   "cell_type": "code",
   "execution_count": 482,
   "outputs": [],
   "source": [
    "# xMelt['Symptoms onset'] = xMelt['Symptoms onset'].map({'(-7,0] Early':\"Early Presenters\",\n",
    "#                                                        '<0 days (Hospital)':\"Hospital Equired\"})\n",
    "# xMelt"
   ],
   "metadata": {
    "collapsed": false,
    "pycharm": {
     "name": "#%%\n"
    }
   }
  },
  {
   "cell_type": "code",
   "execution_count": 483,
   "metadata": {
    "pycharm": {
     "name": "#%%\n"
    }
   },
   "outputs": [
    {
     "data": {
      "text/plain": "<AxesSubplot:xlabel='# Patients', ylabel='Symptoms onset'>"
     },
     "execution_count": 483,
     "metadata": {},
     "output_type": "execute_result"
    },
    {
     "data": {
      "text/plain": "<Figure size 432x288 with 1 Axes>",
      "image/png": "[encoded data removed]"
     },
     "metadata": {
      "needs_background": "light"
     },
     "output_type": "display_data"
    }
   ],
   "source": [
    "sns.barplot(data=xMeltMelted,y='Symptoms onset',x='# Patients',hue='Discharged_Readmitted_Died')"
   ]
  },
  {
   "cell_type": "code",
   "execution_count": 483,
   "outputs": [],
   "source": [],
   "metadata": {
    "collapsed": false,
    "pycharm": {
     "name": "#%%\n"
    }
   }
  },
  {
   "cell_type": "code",
   "execution_count": 484,
   "outputs": [
    {
     "data": {
      "text/plain": "Discharged_Readmitted_Died    Symptoms onset      Died  Discharged   Missing  \\\n0                           Early Presenters  0.195084    0.327189  0.003072   \n1                           Hospital Equired  0.075269    0.110599  0.001536   \n2                            Late Presenters  0.033794    0.135177  0.000000   \n3                                    Unknown  0.027650    0.070661  0.006144   \n\nDischarged_Readmitted_Died  Readmitted  \n0                             0.010753  \n1                             0.001536  \n2                             0.001536  \n3                             0.000000  ",
      "text/html": "<div>\n<style scoped>\n    .dataframe tbody tr th:only-of-type {\n        vertical-align: middle;\n    }\n\n    .dataframe tbody tr th {\n        vertical-align: top;\n    }\n\n    .dataframe thead th {\n        text-align: right;\n    }\n</style>\n<table border=\"1\" class=\"dataframe\">\n  <thead>\n    <tr style=\"text-align: right;\">\n      <th>Discharged_Readmitted_Died</th>\n      <th>Symptoms onset</th>\n      <th>Died</th>\n      <th>Discharged</th>\n      <th>Missing</th>\n      <th>Readmitted</th>\n    </tr>\n  </thead>\n  <tbody>\n    <tr>\n      <th>0</th>\n      <td>Early Presenters</td>\n      <td>0.195084</td>\n      <td>0.327189</td>\n      <td>0.003072</td>\n      <td>0.010753</td>\n    </tr>\n    <tr>\n      <th>1</th>\n      <td>Hospital Equired</td>\n      <td>0.075269</td>\n      <td>0.110599</td>\n      <td>0.001536</td>\n      <td>0.001536</td>\n    </tr>\n    <tr>\n      <th>2</th>\n      <td>Late Presenters</td>\n      <td>0.033794</td>\n      <td>0.135177</td>\n      <td>0.000000</td>\n      <td>0.001536</td>\n    </tr>\n    <tr>\n      <th>3</th>\n      <td>Unknown</td>\n      <td>0.027650</td>\n      <td>0.070661</td>\n      <td>0.006144</td>\n      <td>0.000000</td>\n    </tr>\n  </tbody>\n</table>\n</div>"
     },
     "execution_count": 484,
     "metadata": {},
     "output_type": "execute_result"
    }
   ],
   "source": [
    "xFreqNotAll = pd.crosstab(dfSel['Symptoms onset'],dfSel['Discharged_Readmitted_Died'],normalize=True).reset_index()\n",
    "xFreqNotAll"
   ],
   "metadata": {
    "collapsed": false,
    "pycharm": {
     "name": "#%%\n"
    }
   }
  },
  {
   "cell_type": "code",
   "execution_count": 485,
   "outputs": [],
   "source": [
    "# x = dfSel.groupby(['Symptoms onset', 'Death_Discharged_Survived_Str']).count().reset_index()\n",
    "# x.rename(columns={'STUDY_ID':'# Patients'},inplace=True)\n",
    "# x['% Patients withing \"Onset Time\" group'] =x.groupby('Onset Time Str')['# Patients'].apply(lambda x:x/x.sum())\n",
    "# totalPatients = x['# Patients'].sum()\n",
    "# x['% Patients withing all'] = x['# Patients'].apply(lambda x:x/totalPatients)\n",
    "# totalPatients"
   ],
   "metadata": {
    "collapsed": false,
    "pycharm": {
     "name": "#%%\n"
    }
   }
  },
  {
   "cell_type": "code",
   "execution_count": 486,
   "outputs": [
    {
     "data": {
      "text/plain": "      Symptoms onset Discharged_Readmitted_Died  % Patients\n0   Early Presenters                       Died    0.195084\n1   Hospital Equired                       Died    0.075269\n2    Late Presenters                       Died    0.033794\n3            Unknown                       Died    0.027650\n4   Early Presenters                 Discharged    0.327189\n5   Hospital Equired                 Discharged    0.110599\n6    Late Presenters                 Discharged    0.135177\n7            Unknown                 Discharged    0.070661\n8   Early Presenters                    Missing    0.003072\n9   Hospital Equired                    Missing    0.001536\n10   Late Presenters                    Missing    0.000000\n11           Unknown                    Missing    0.006144",
      "text/html": "<div>\n<style scoped>\n    .dataframe tbody tr th:only-of-type {\n        vertical-align: middle;\n    }\n\n    .dataframe tbody tr th {\n        vertical-align: top;\n    }\n\n    .dataframe thead th {\n        text-align: right;\n    }\n</style>\n<table border=\"1\" class=\"dataframe\">\n  <thead>\n    <tr style=\"text-align: right;\">\n      <th></th>\n      <th>Symptoms onset</th>\n      <th>Discharged_Readmitted_Died</th>\n      <th>% Patients</th>\n    </tr>\n  </thead>\n  <tbody>\n    <tr>\n      <th>0</th>\n      <td>Early Presenters</td>\n      <td>Died</td>\n      <td>0.195084</td>\n    </tr>\n    <tr>\n      <th>1</th>\n      <td>Hospital Equired</td>\n      <td>Died</td>\n      <td>0.075269</td>\n    </tr>\n    <tr>\n      <th>2</th>\n      <td>Late Presenters</td>\n      <td>Died</td>\n      <td>0.033794</td>\n    </tr>\n    <tr>\n      <th>3</th>\n      <td>Unknown</td>\n      <td>Died</td>\n      <td>0.027650</td>\n    </tr>\n    <tr>\n      <th>4</th>\n      <td>Early Presenters</td>\n      <td>Discharged</td>\n      <td>0.327189</td>\n    </tr>\n    <tr>\n      <th>5</th>\n      <td>Hospital Equired</td>\n      <td>Discharged</td>\n      <td>0.110599</td>\n    </tr>\n    <tr>\n      <th>6</th>\n      <td>Late Presenters</td>\n      <td>Discharged</td>\n      <td>0.135177</td>\n    </tr>\n    <tr>\n      <th>7</th>\n      <td>Unknown</td>\n      <td>Discharged</td>\n      <td>0.070661</td>\n    </tr>\n    <tr>\n      <th>8</th>\n      <td>Early Presenters</td>\n      <td>Missing</td>\n      <td>0.003072</td>\n    </tr>\n    <tr>\n      <th>9</th>\n      <td>Hospital Equired</td>\n      <td>Missing</td>\n      <td>0.001536</td>\n    </tr>\n    <tr>\n      <th>10</th>\n      <td>Late Presenters</td>\n      <td>Missing</td>\n      <td>0.000000</td>\n    </tr>\n    <tr>\n      <th>11</th>\n      <td>Unknown</td>\n      <td>Missing</td>\n      <td>0.006144</td>\n    </tr>\n  </tbody>\n</table>\n</div>"
     },
     "execution_count": 486,
     "metadata": {},
     "output_type": "execute_result"
    }
   ],
   "source": [
    "# Overall fraction\n",
    "xFreqNotAllMelted = pd.melt(xFreqNotAll,id_vars=['Symptoms onset'],value_vars=[ 'Died', 'Discharged', 'Missing'])\n",
    "xFreqNotAllMelted.rename(columns={'value':'% Patients'},inplace=True)\n",
    "xFreqNotAllMelted\n",
    "# xMeltMelted = pd.melt(xMelt,id_vars=['Symptoms onset'],value_vars=[ 'Died', 'Discharged', 'Missing'])\n",
    "# xMeltMelted.rename(columns={'value':'# Patients'},inplace=True)\n",
    "# xMeltMelted"
   ],
   "metadata": {
    "collapsed": false,
    "pycharm": {
     "name": "#%%\n"
    }
   }
  },
  {
   "cell_type": "code",
   "execution_count": 487,
   "metadata": {
    "pycharm": {
     "name": "#%%\n"
    }
   },
   "outputs": [
    {
     "data": {
      "text/plain": "<Figure size 432x288 with 1 Axes>",
      "image/png": "[encoded data removed]"
     },
     "metadata": {
      "needs_background": "light"
     },
     "output_type": "display_data"
    }
   ],
   "source": [
    "splot = sns.barplot(data=xFreqNotAllMelted,y='Symptoms onset',x='% Patients',hue='Discharged_Readmitted_Died')"
   ]
  },
  {
   "cell_type": "code",
   "execution_count": 487,
   "outputs": [],
   "source": [],
   "metadata": {
    "collapsed": false,
    "pycharm": {
     "name": "#%%\n"
    }
   }
  },
  {
   "cell_type": "code",
   "execution_count": 488,
   "metadata": {
    "pycharm": {
     "name": "#%%\n"
    }
   },
   "outputs": [],
   "source": [
    "# splot = sns.barplot(data=xMelt,y='Symptoms onset'\n",
    "#                     ,x='# Patients', hue='Discharged_Readmitted_Died')"
   ]
  },
  {
   "cell_type": "code",
   "execution_count": 489,
   "outputs": [
    {
     "data": {
      "text/plain": "Index(['Died', 'Discharged', 'Missing', 'Readmitted', 'All'], dtype='object', name='Discharged_Readmitted_Died')"
     },
     "execution_count": 489,
     "metadata": {},
     "output_type": "execute_result"
    }
   ],
   "source": [
    "x.columns"
   ],
   "metadata": {
    "collapsed": false,
    "pycharm": {
     "name": "#%%\n"
    }
   }
  },
  {
   "cell_type": "code",
   "execution_count": 490,
   "outputs": [
    {
     "data": {
      "text/plain": "Index(['Early Presenters', 'Hospital Equired', 'Late Presenters', 'Unknown',\n       'All'],\n      dtype='object', name='Symptoms onset')"
     },
     "execution_count": 490,
     "metadata": {},
     "output_type": "execute_result"
    }
   ],
   "source": [
    "x.index"
   ],
   "metadata": {
    "collapsed": false,
    "pycharm": {
     "name": "#%%\n"
    }
   }
  },
  {
   "cell_type": "code",
   "execution_count": 491,
   "outputs": [
    {
     "data": {
      "text/plain": "Discharged_Readmitted_Died  Died  Discharged  Missing  Readmitted  All\nSymptoms onset                                                        \nEarly Presenters             127         213        2           7  349\nHospital Equired              49          72        1           1  123\nLate Presenters               22          88        0           1  111\nUnknown                       18          46        4           0   68\nAll                          216         419        7           9  651",
      "text/html": "<div>\n<style scoped>\n    .dataframe tbody tr th:only-of-type {\n        vertical-align: middle;\n    }\n\n    .dataframe tbody tr th {\n        vertical-align: top;\n    }\n\n    .dataframe thead th {\n        text-align: right;\n    }\n</style>\n<table border=\"1\" class=\"dataframe\">\n  <thead>\n    <tr style=\"text-align: right;\">\n      <th>Discharged_Readmitted_Died</th>\n      <th>Died</th>\n      <th>Discharged</th>\n      <th>Missing</th>\n      <th>Readmitted</th>\n      <th>All</th>\n    </tr>\n    <tr>\n      <th>Symptoms onset</th>\n      <th></th>\n      <th></th>\n      <th></th>\n      <th></th>\n      <th></th>\n    </tr>\n  </thead>\n  <tbody>\n    <tr>\n      <th>Early Presenters</th>\n      <td>127</td>\n      <td>213</td>\n      <td>2</td>\n      <td>7</td>\n      <td>349</td>\n    </tr>\n    <tr>\n      <th>Hospital Equired</th>\n      <td>49</td>\n      <td>72</td>\n      <td>1</td>\n      <td>1</td>\n      <td>123</td>\n    </tr>\n    <tr>\n      <th>Late Presenters</th>\n      <td>22</td>\n      <td>88</td>\n      <td>0</td>\n      <td>1</td>\n      <td>111</td>\n    </tr>\n    <tr>\n      <th>Unknown</th>\n      <td>18</td>\n      <td>46</td>\n      <td>4</td>\n      <td>0</td>\n      <td>68</td>\n    </tr>\n    <tr>\n      <th>All</th>\n      <td>216</td>\n      <td>419</td>\n      <td>7</td>\n      <td>9</td>\n      <td>651</td>\n    </tr>\n  </tbody>\n</table>\n</div>"
     },
     "execution_count": 491,
     "metadata": {},
     "output_type": "execute_result"
    }
   ],
   "source": [
    "x"
   ],
   "metadata": {
    "collapsed": false,
    "pycharm": {
     "name": "#%%\n"
    }
   }
  },
  {
   "cell_type": "code",
   "execution_count": 492,
   "outputs": [
    {
     "data": {
      "text/plain": "             STUDY_ID ETHNIC_GROUP    Symptoms onset Died_or_Survived_Str  \\\n0   UHSCOVID_00989a42            A  Early Presenters             Survived   \n8   UHSCOVID_00ac1e32            A  Hospital Equired             Survived   \n51  UHSCOVID_00cb7bdd            A  Early Presenters                 Died   \n54  UHSCOVID_01add35c            A  Early Presenters                 Died   \n57  UHSCOVID_01f7838d            A  Hospital Equired             Survived   \n\n   Discharged_Readmitted_Died  NIV  PATIENT_AGE GENDER  ASTHMA  COPD  ...  \\\n0                  Discharged  0.0         64.0      M     1.0   1.0  ...   \n8                  Discharged  1.0         73.0      M     0.0   0.0  ...   \n51                       Died  1.0         76.0      F     1.0   0.0  ...   \n54                       Died  0.0         67.0      F     0.0   0.0  ...   \n57                 Discharged  0.0         97.0      M     0.0   0.0  ...   \n\n    NEURAL_D  META_SOLID_TUMOUR  MAGLINANT_NEO  DIABETES  OBESITY  HIV  \\\n0        0.0                0.0            0.0       1.0      1.0  0.0   \n8        0.0                0.0            0.0       0.0      0.0  0.0   \n51       0.0                1.0            1.0       1.0      0.0  0.0   \n54       1.0                0.0            0.0       0.0      0.0  0.0   \n57       0.0                0.0            1.0       1.0      0.0  0.0   \n\n    RHEUMATO_D  DIMENTIA  IMMUNO  NB_COMOR  \n0          0.0       0.0     0.0       4.0  \n8          0.0       0.0     0.0       1.0  \n51         0.0       0.0     0.0       5.0  \n54         0.0       0.0     0.0       1.0  \n57         0.0       0.0     0.0       5.0  \n\n[5 rows x 26 columns]",
      "text/html": "<div>\n<style scoped>\n    .dataframe tbody tr th:only-of-type {\n        vertical-align: middle;\n    }\n\n    .dataframe tbody tr th {\n        vertical-align: top;\n    }\n\n    .dataframe thead th {\n        text-align: right;\n    }\n</style>\n<table border=\"1\" class=\"dataframe\">\n  <thead>\n    <tr style=\"text-align: right;\">\n      <th></th>\n      <th>STUDY_ID</th>\n      <th>ETHNIC_GROUP</th>\n      <th>Symptoms onset</th>\n      <th>Died_or_Survived_Str</th>\n      <th>Discharged_Readmitted_Died</th>\n      <th>NIV</th>\n      <th>PATIENT_AGE</th>\n      <th>GENDER</th>\n      <th>ASTHMA</th>\n      <th>COPD</th>\n      <th>...</th>\n      <th>NEURAL_D</th>\n      <th>META_SOLID_TUMOUR</th>\n      <th>MAGLINANT_NEO</th>\n      <th>DIABETES</th>\n      <th>OBESITY</th>\n      <th>HIV</th>\n      <th>RHEUMATO_D</th>\n      <th>DIMENTIA</th>\n      <th>IMMUNO</th>\n      <th>NB_COMOR</th>\n    </tr>\n  </thead>\n  <tbody>\n    <tr>\n      <th>0</th>\n      <td>UHSCOVID_00989a42</td>\n      <td>A</td>\n      <td>Early Presenters</td>\n      <td>Survived</td>\n      <td>Discharged</td>\n      <td>0.0</td>\n      <td>64.0</td>\n      <td>M</td>\n      <td>1.0</td>\n      <td>1.0</td>\n      <td>...</td>\n      <td>0.0</td>\n      <td>0.0</td>\n      <td>0.0</td>\n      <td>1.0</td>\n      <td>1.0</td>\n      <td>0.0</td>\n      <td>0.0</td>\n      <td>0.0</td>\n      <td>0.0</td>\n      <td>4.0</td>\n    </tr>\n    <tr>\n      <th>8</th>\n      <td>UHSCOVID_00ac1e32</td>\n      <td>A</td>\n      <td>Hospital Equired</td>\n      <td>Survived</td>\n      <td>Discharged</td>\n      <td>1.0</td>\n      <td>73.0</td>\n      <td>M</td>\n      <td>0.0</td>\n      <td>0.0</td>\n      <td>...</td>\n      <td>0.0</td>\n      <td>0.0</td>\n      <td>0.0</td>\n      <td>0.0</td>\n      <td>0.0</td>\n      <td>0.0</td>\n      <td>0.0</td>\n      <td>0.0</td>\n      <td>0.0</td>\n      <td>1.0</td>\n    </tr>\n    <tr>\n      <th>51</th>\n      <td>UHSCOVID_00cb7bdd</td>\n      <td>A</td>\n      <td>Early Presenters</td>\n      <td>Died</td>\n      <td>Died</td>\n      <td>1.0</td>\n      <td>76.0</td>\n      <td>F</td>\n      <td>1.0</td>\n      <td>0.0</td>\n      <td>...</td>\n      <td>0.0</td>\n      <td>1.0</td>\n      <td>1.0</td>\n      <td>1.0</td>\n      <td>0.0</td>\n      <td>0.0</td>\n      <td>0.0</td>\n      <td>0.0</td>\n      <td>0.0</td>\n      <td>5.0</td>\n    </tr>\n    <tr>\n      <th>54</th>\n      <td>UHSCOVID_01add35c</td>\n      <td>A</td>\n      <td>Early Presenters</td>\n      <td>Died</td>\n      <td>Died</td>\n      <td>0.0</td>\n      <td>67.0</td>\n      <td>F</td>\n      <td>0.0</td>\n      <td>0.0</td>\n      <td>...</td>\n      <td>1.0</td>\n      <td>0.0</td>\n      <td>0.0</td>\n      <td>0.0</td>\n      <td>0.0</td>\n      <td>0.0</td>\n      <td>0.0</td>\n      <td>0.0</td>\n      <td>0.0</td>\n      <td>1.0</td>\n    </tr>\n    <tr>\n      <th>57</th>\n      <td>UHSCOVID_01f7838d</td>\n      <td>A</td>\n      <td>Hospital Equired</td>\n      <td>Survived</td>\n      <td>Discharged</td>\n      <td>0.0</td>\n      <td>97.0</td>\n      <td>M</td>\n      <td>0.0</td>\n      <td>0.0</td>\n      <td>...</td>\n      <td>0.0</td>\n      <td>0.0</td>\n      <td>1.0</td>\n      <td>1.0</td>\n      <td>0.0</td>\n      <td>0.0</td>\n      <td>0.0</td>\n      <td>0.0</td>\n      <td>0.0</td>\n      <td>5.0</td>\n    </tr>\n  </tbody>\n</table>\n<p>5 rows × 26 columns</p>\n</div>"
     },
     "execution_count": 492,
     "metadata": {},
     "output_type": "execute_result"
    }
   ],
   "source": [
    "dfSel.head()"
   ],
   "metadata": {
    "collapsed": false,
    "pycharm": {
     "name": "#%%\n"
    }
   }
  },
  {
   "cell_type": "code",
   "execution_count": 493,
   "outputs": [
    {
     "data": {
      "text/plain": "Index(['STUDY_ID', 'ETHNIC_GROUP', 'Symptoms onset', 'Died_or_Survived_Str',\n       'Discharged_Readmitted_Died', 'NIV', 'PATIENT_AGE', 'GENDER', 'ASTHMA',\n       'COPD', 'BRONCHIECTASIS', 'HYPERTENSION', 'THROMBOEMBOLIC', 'CARDIAC_D',\n       'RENAL_D', 'LIVER_D', 'NEURAL_D', 'META_SOLID_TUMOUR', 'MAGLINANT_NEO',\n       'DIABETES', 'OBESITY', 'HIV', 'RHEUMATO_D', 'DIMENTIA', 'IMMUNO',\n       'NB_COMOR'],\n      dtype='object')"
     },
     "execution_count": 493,
     "metadata": {},
     "output_type": "execute_result"
    }
   ],
   "source": [
    "dfSel.columns"
   ],
   "metadata": {
    "collapsed": false,
    "pycharm": {
     "name": "#%%\n"
    }
   }
  },
  {
   "cell_type": "code",
   "execution_count": 494,
   "outputs": [
    {
     "data": {
      "text/plain": "Discharged    419\nDied          216\nReadmitted      9\nMissing         7\nName: Discharged_Readmitted_Died, dtype: int64"
     },
     "execution_count": 494,
     "metadata": {},
     "output_type": "execute_result"
    }
   ],
   "source": [
    "dfSel['Discharged_Readmitted_Died'].value_counts()"
   ],
   "metadata": {
    "collapsed": false,
    "pycharm": {
     "name": "#%%\n"
    }
   }
  },
  {
   "cell_type": "markdown",
   "metadata": {
    "pycharm": {
     "name": "#%% md\n"
    }
   },
   "source": [
    "#  Died in Hospital, Died at Home, Survived"
   ]
  },
  {
   "cell_type": "code",
   "execution_count": 495,
   "metadata": {
    "pycharm": {
     "name": "#%%\n"
    }
   },
   "outputs": [],
   "source": [
    "# x = dfSel.groupby(['Symptoms onset', 'Death_Discharged_Survived_Str']).count().reset_index()\n",
    "# x.rename(columns={'STUDY_ID':'# Patients'},inplace=True)\n",
    "# x['% Patients withing \"Onset Time\" group'] =x.groupby('Onset Time Str')['# Patients'].apply(lambda x:x/x.sum())\n",
    "# totalPatients = x['# Patients'].sum()\n",
    "# x['% Patients withing all'] = x['# Patients'].apply(lambda x:x/totalPatients)\n",
    "# totalPatients\n"
   ]
  },
  {
   "cell_type": "markdown",
   "source": [
    "## Counts"
   ],
   "metadata": {
    "collapsed": false,
    "pycharm": {
     "name": "#%% md\n"
    }
   }
  },
  {
   "cell_type": "code",
   "execution_count": 496,
   "outputs": [
    {
     "data": {
      "text/plain": "Discharged_Readmitted_Died  Died  Discharged  Missing  Readmitted  All\nSymptoms onset                                                        \nEarly Presenters             127         213        2           7  349\nHospital Equired              49          72        1           1  123\nLate Presenters               22          88        0           1  111\nUnknown                       18          46        4           0   68\nAll                          216         419        7           9  651",
      "text/html": "<div>\n<style scoped>\n    .dataframe tbody tr th:only-of-type {\n        vertical-align: middle;\n    }\n\n    .dataframe tbody tr th {\n        vertical-align: top;\n    }\n\n    .dataframe thead th {\n        text-align: right;\n    }\n</style>\n<table border=\"1\" class=\"dataframe\">\n  <thead>\n    <tr style=\"text-align: right;\">\n      <th>Discharged_Readmitted_Died</th>\n      <th>Died</th>\n      <th>Discharged</th>\n      <th>Missing</th>\n      <th>Readmitted</th>\n      <th>All</th>\n    </tr>\n    <tr>\n      <th>Symptoms onset</th>\n      <th></th>\n      <th></th>\n      <th></th>\n      <th></th>\n      <th></th>\n    </tr>\n  </thead>\n  <tbody>\n    <tr>\n      <th>Early Presenters</th>\n      <td>127</td>\n      <td>213</td>\n      <td>2</td>\n      <td>7</td>\n      <td>349</td>\n    </tr>\n    <tr>\n      <th>Hospital Equired</th>\n      <td>49</td>\n      <td>72</td>\n      <td>1</td>\n      <td>1</td>\n      <td>123</td>\n    </tr>\n    <tr>\n      <th>Late Presenters</th>\n      <td>22</td>\n      <td>88</td>\n      <td>0</td>\n      <td>1</td>\n      <td>111</td>\n    </tr>\n    <tr>\n      <th>Unknown</th>\n      <td>18</td>\n      <td>46</td>\n      <td>4</td>\n      <td>0</td>\n      <td>68</td>\n    </tr>\n    <tr>\n      <th>All</th>\n      <td>216</td>\n      <td>419</td>\n      <td>7</td>\n      <td>9</td>\n      <td>651</td>\n    </tr>\n  </tbody>\n</table>\n</div>"
     },
     "execution_count": 496,
     "metadata": {},
     "output_type": "execute_result"
    }
   ],
   "source": [
    "x"
   ],
   "metadata": {
    "collapsed": false,
    "pycharm": {
     "name": "#%%\n"
    }
   }
  },
  {
   "cell_type": "code",
   "execution_count": 497,
   "outputs": [
    {
     "data": {
      "text/plain": "Index(['STUDY_ID', 'ETHNIC_GROUP', 'Symptoms onset', 'Died_or_Survived_Str',\n       'Discharged_Readmitted_Died', 'NIV', 'PATIENT_AGE', 'GENDER', 'ASTHMA',\n       'COPD', 'BRONCHIECTASIS', 'HYPERTENSION', 'THROMBOEMBOLIC', 'CARDIAC_D',\n       'RENAL_D', 'LIVER_D', 'NEURAL_D', 'META_SOLID_TUMOUR', 'MAGLINANT_NEO',\n       'DIABETES', 'OBESITY', 'HIV', 'RHEUMATO_D', 'DIMENTIA', 'IMMUNO',\n       'NB_COMOR'],\n      dtype='object')"
     },
     "execution_count": 497,
     "metadata": {},
     "output_type": "execute_result"
    }
   ],
   "source": [
    "dfSel.columns\n"
   ],
   "metadata": {
    "collapsed": false,
    "pycharm": {
     "name": "#%%\n"
    }
   }
  },
  {
   "cell_type": "code",
   "execution_count": 498,
   "outputs": [
    {
     "data": {
      "text/plain": "Early Presenters    349\nHospital Equired    123\nLate Presenters     111\nUnknown              68\nName: Symptoms onset, dtype: int64"
     },
     "execution_count": 498,
     "metadata": {},
     "output_type": "execute_result"
    }
   ],
   "source": [
    "dfSel['Symptoms onset'].value_counts()"
   ],
   "metadata": {
    "collapsed": false,
    "pycharm": {
     "name": "#%%\n"
    }
   }
  },
  {
   "cell_type": "code",
   "execution_count": 499,
   "outputs": [
    {
     "data": {
      "text/plain": "             STUDY_ID ETHNIC_GROUP    Symptoms onset Died_or_Survived_Str  \\\n0   UHSCOVID_00989a42            A  Early Presenters             Survived   \n8   UHSCOVID_00ac1e32            A  Hospital Equired             Survived   \n51  UHSCOVID_00cb7bdd            A  Early Presenters                 Died   \n54  UHSCOVID_01add35c            A  Early Presenters                 Died   \n57  UHSCOVID_01f7838d            A  Hospital Equired             Survived   \n\n   Discharged_Readmitted_Died  NIV  PATIENT_AGE GENDER  ASTHMA  COPD  ...  \\\n0                  Discharged  0.0         64.0      M     1.0   1.0  ...   \n8                  Discharged  1.0         73.0      M     0.0   0.0  ...   \n51                       Died  1.0         76.0      F     1.0   0.0  ...   \n54                       Died  0.0         67.0      F     0.0   0.0  ...   \n57                 Discharged  0.0         97.0      M     0.0   0.0  ...   \n\n    NEURAL_D  META_SOLID_TUMOUR  MAGLINANT_NEO  DIABETES  OBESITY  HIV  \\\n0        0.0                0.0            0.0       1.0      1.0  0.0   \n8        0.0                0.0            0.0       0.0      0.0  0.0   \n51       0.0                1.0            1.0       1.0      0.0  0.0   \n54       1.0                0.0            0.0       0.0      0.0  0.0   \n57       0.0                0.0            1.0       1.0      0.0  0.0   \n\n    RHEUMATO_D  DIMENTIA  IMMUNO  NB_COMOR  \n0          0.0       0.0     0.0       4.0  \n8          0.0       0.0     0.0       1.0  \n51         0.0       0.0     0.0       5.0  \n54         0.0       0.0     0.0       1.0  \n57         0.0       0.0     0.0       5.0  \n\n[5 rows x 26 columns]",
      "text/html": "<div>\n<style scoped>\n    .dataframe tbody tr th:only-of-type {\n        vertical-align: middle;\n    }\n\n    .dataframe tbody tr th {\n        vertical-align: top;\n    }\n\n    .dataframe thead th {\n        text-align: right;\n    }\n</style>\n<table border=\"1\" class=\"dataframe\">\n  <thead>\n    <tr style=\"text-align: right;\">\n      <th></th>\n      <th>STUDY_ID</th>\n      <th>ETHNIC_GROUP</th>\n      <th>Symptoms onset</th>\n      <th>Died_or_Survived_Str</th>\n      <th>Discharged_Readmitted_Died</th>\n      <th>NIV</th>\n      <th>PATIENT_AGE</th>\n      <th>GENDER</th>\n      <th>ASTHMA</th>\n      <th>COPD</th>\n      <th>...</th>\n      <th>NEURAL_D</th>\n      <th>META_SOLID_TUMOUR</th>\n      <th>MAGLINANT_NEO</th>\n      <th>DIABETES</th>\n      <th>OBESITY</th>\n      <th>HIV</th>\n      <th>RHEUMATO_D</th>\n      <th>DIMENTIA</th>\n      <th>IMMUNO</th>\n      <th>NB_COMOR</th>\n    </tr>\n  </thead>\n  <tbody>\n    <tr>\n      <th>0</th>\n      <td>UHSCOVID_00989a42</td>\n      <td>A</td>\n      <td>Early Presenters</td>\n      <td>Survived</td>\n      <td>Discharged</td>\n      <td>0.0</td>\n      <td>64.0</td>\n      <td>M</td>\n      <td>1.0</td>\n      <td>1.0</td>\n      <td>...</td>\n      <td>0.0</td>\n      <td>0.0</td>\n      <td>0.0</td>\n      <td>1.0</td>\n      <td>1.0</td>\n      <td>0.0</td>\n      <td>0.0</td>\n      <td>0.0</td>\n      <td>0.0</td>\n      <td>4.0</td>\n    </tr>\n    <tr>\n      <th>8</th>\n      <td>UHSCOVID_00ac1e32</td>\n      <td>A</td>\n      <td>Hospital Equired</td>\n      <td>Survived</td>\n      <td>Discharged</td>\n      <td>1.0</td>\n      <td>73.0</td>\n      <td>M</td>\n      <td>0.0</td>\n      <td>0.0</td>\n      <td>...</td>\n      <td>0.0</td>\n      <td>0.0</td>\n      <td>0.0</td>\n      <td>0.0</td>\n      <td>0.0</td>\n      <td>0.0</td>\n      <td>0.0</td>\n      <td>0.0</td>\n      <td>0.0</td>\n      <td>1.0</td>\n    </tr>\n    <tr>\n      <th>51</th>\n      <td>UHSCOVID_00cb7bdd</td>\n      <td>A</td>\n      <td>Early Presenters</td>\n      <td>Died</td>\n      <td>Died</td>\n      <td>1.0</td>\n      <td>76.0</td>\n      <td>F</td>\n      <td>1.0</td>\n      <td>0.0</td>\n      <td>...</td>\n      <td>0.0</td>\n      <td>1.0</td>\n      <td>1.0</td>\n      <td>1.0</td>\n      <td>0.0</td>\n      <td>0.0</td>\n      <td>0.0</td>\n      <td>0.0</td>\n      <td>0.0</td>\n      <td>5.0</td>\n    </tr>\n    <tr>\n      <th>54</th>\n      <td>UHSCOVID_01add35c</td>\n      <td>A</td>\n      <td>Early Presenters</td>\n      <td>Died</td>\n      <td>Died</td>\n      <td>0.0</td>\n      <td>67.0</td>\n      <td>F</td>\n      <td>0.0</td>\n      <td>0.0</td>\n      <td>...</td>\n      <td>1.0</td>\n      <td>0.0</td>\n      <td>0.0</td>\n      <td>0.0</td>\n      <td>0.0</td>\n      <td>0.0</td>\n      <td>0.0</td>\n      <td>0.0</td>\n      <td>0.0</td>\n      <td>1.0</td>\n    </tr>\n    <tr>\n      <th>57</th>\n      <td>UHSCOVID_01f7838d</td>\n      <td>A</td>\n      <td>Hospital Equired</td>\n      <td>Survived</td>\n      <td>Discharged</td>\n      <td>0.0</td>\n      <td>97.0</td>\n      <td>M</td>\n      <td>0.0</td>\n      <td>0.0</td>\n      <td>...</td>\n      <td>0.0</td>\n      <td>0.0</td>\n      <td>1.0</td>\n      <td>1.0</td>\n      <td>0.0</td>\n      <td>0.0</td>\n      <td>0.0</td>\n      <td>0.0</td>\n      <td>0.0</td>\n      <td>5.0</td>\n    </tr>\n  </tbody>\n</table>\n<p>5 rows × 26 columns</p>\n</div>"
     },
     "execution_count": 499,
     "metadata": {},
     "output_type": "execute_result"
    }
   ],
   "source": [
    "dfSel.head()"
   ],
   "metadata": {
    "collapsed": false,
    "pycharm": {
     "name": "#%%\n"
    }
   }
  },
  {
   "cell_type": "code",
   "execution_count": 500,
   "outputs": [],
   "source": [
    "xxNoMargins  = pd.crosstab(dfSel['Symptoms onset'],dfSel['Discharged_Readmitted_Died'],margins=True)"
   ],
   "metadata": {
    "collapsed": false,
    "pycharm": {
     "name": "#%%\n"
    }
   }
  },
  {
   "cell_type": "code",
   "execution_count": 501,
   "outputs": [
    {
     "data": {
      "text/plain": "Discharged_Readmitted_Died  Died  Discharged  Missing  Readmitted  All\nSymptoms onset                                                        \nEarly Presenters             127         213        2           7  349\nHospital Equired              49          72        1           1  123\nLate Presenters               22          88        0           1  111\nUnknown                       18          46        4           0   68\nAll                          216         419        7           9  651",
      "text/html": "<div>\n<style scoped>\n    .dataframe tbody tr th:only-of-type {\n        vertical-align: middle;\n    }\n\n    .dataframe tbody tr th {\n        vertical-align: top;\n    }\n\n    .dataframe thead th {\n        text-align: right;\n    }\n</style>\n<table border=\"1\" class=\"dataframe\">\n  <thead>\n    <tr style=\"text-align: right;\">\n      <th>Discharged_Readmitted_Died</th>\n      <th>Died</th>\n      <th>Discharged</th>\n      <th>Missing</th>\n      <th>Readmitted</th>\n      <th>All</th>\n    </tr>\n    <tr>\n      <th>Symptoms onset</th>\n      <th></th>\n      <th></th>\n      <th></th>\n      <th></th>\n      <th></th>\n    </tr>\n  </thead>\n  <tbody>\n    <tr>\n      <th>Early Presenters</th>\n      <td>127</td>\n      <td>213</td>\n      <td>2</td>\n      <td>7</td>\n      <td>349</td>\n    </tr>\n    <tr>\n      <th>Hospital Equired</th>\n      <td>49</td>\n      <td>72</td>\n      <td>1</td>\n      <td>1</td>\n      <td>123</td>\n    </tr>\n    <tr>\n      <th>Late Presenters</th>\n      <td>22</td>\n      <td>88</td>\n      <td>0</td>\n      <td>1</td>\n      <td>111</td>\n    </tr>\n    <tr>\n      <th>Unknown</th>\n      <td>18</td>\n      <td>46</td>\n      <td>4</td>\n      <td>0</td>\n      <td>68</td>\n    </tr>\n    <tr>\n      <th>All</th>\n      <td>216</td>\n      <td>419</td>\n      <td>7</td>\n      <td>9</td>\n      <td>651</td>\n    </tr>\n  </tbody>\n</table>\n</div>"
     },
     "execution_count": 501,
     "metadata": {},
     "output_type": "execute_result"
    }
   ],
   "source": [
    "xx = pd.crosstab(dfSel['Symptoms onset'],dfSel['Discharged_Readmitted_Died'],margins=True)\n",
    "# x=xx\n",
    "xx"
   ],
   "metadata": {
    "collapsed": false,
    "pycharm": {
     "name": "#%%\n"
    }
   }
  },
  {
   "cell_type": "code",
   "execution_count": 502,
   "outputs": [
    {
     "data": {
      "text/plain": "Discharged_Readmitted_Died      Died  Discharged   Missing  Readmitted  \\\nSymptoms onset                                                           \nEarly Presenters            0.195084    0.327189  0.003072    0.010753   \nHospital Equired            0.075269    0.110599  0.001536    0.001536   \nLate Presenters             0.033794    0.135177  0.000000    0.001536   \nUnknown                     0.027650    0.070661  0.006144    0.000000   \nAll                         0.331797    0.643625  0.010753    0.013825   \n\nDischarged_Readmitted_Died       All  \nSymptoms onset                        \nEarly Presenters            0.536098  \nHospital Equired            0.188940  \nLate Presenters             0.170507  \nUnknown                     0.104455  \nAll                         1.000000  ",
      "text/html": "<div>\n<style scoped>\n    .dataframe tbody tr th:only-of-type {\n        vertical-align: middle;\n    }\n\n    .dataframe tbody tr th {\n        vertical-align: top;\n    }\n\n    .dataframe thead th {\n        text-align: right;\n    }\n</style>\n<table border=\"1\" class=\"dataframe\">\n  <thead>\n    <tr style=\"text-align: right;\">\n      <th>Discharged_Readmitted_Died</th>\n      <th>Died</th>\n      <th>Discharged</th>\n      <th>Missing</th>\n      <th>Readmitted</th>\n      <th>All</th>\n    </tr>\n    <tr>\n      <th>Symptoms onset</th>\n      <th></th>\n      <th></th>\n      <th></th>\n      <th></th>\n      <th></th>\n    </tr>\n  </thead>\n  <tbody>\n    <tr>\n      <th>Early Presenters</th>\n      <td>0.195084</td>\n      <td>0.327189</td>\n      <td>0.003072</td>\n      <td>0.010753</td>\n      <td>0.536098</td>\n    </tr>\n    <tr>\n      <th>Hospital Equired</th>\n      <td>0.075269</td>\n      <td>0.110599</td>\n      <td>0.001536</td>\n      <td>0.001536</td>\n      <td>0.188940</td>\n    </tr>\n    <tr>\n      <th>Late Presenters</th>\n      <td>0.033794</td>\n      <td>0.135177</td>\n      <td>0.000000</td>\n      <td>0.001536</td>\n      <td>0.170507</td>\n    </tr>\n    <tr>\n      <th>Unknown</th>\n      <td>0.027650</td>\n      <td>0.070661</td>\n      <td>0.006144</td>\n      <td>0.000000</td>\n      <td>0.104455</td>\n    </tr>\n    <tr>\n      <th>All</th>\n      <td>0.331797</td>\n      <td>0.643625</td>\n      <td>0.010753</td>\n      <td>0.013825</td>\n      <td>1.000000</td>\n    </tr>\n  </tbody>\n</table>\n</div>"
     },
     "execution_count": 502,
     "metadata": {},
     "output_type": "execute_result"
    }
   ],
   "source": [
    "xxFrac = pd.crosstab(dfSel['Symptoms onset'],dfSel['Discharged_Readmitted_Died'],margins=True,normalize=True)\n",
    "xxFrac"
   ],
   "metadata": {
    "collapsed": false,
    "pycharm": {
     "name": "#%%\n"
    }
   }
  },
  {
   "cell_type": "code",
   "execution_count": 503,
   "outputs": [
    {
     "data": {
      "text/plain": "Discharged_Readmitted_Died      Died  Discharged   Missing  Readmitted  \\\nSymptoms onset                                                           \nEarly Presenters            0.587963    0.508353  0.285714    0.777778   \nHospital Equired            0.226852    0.171838  0.142857    0.111111   \nLate Presenters             0.101852    0.210024  0.000000    0.111111   \nUnknown                     0.083333    0.109785  0.571429    0.000000   \n\nDischarged_Readmitted_Died       All  \nSymptoms onset                        \nEarly Presenters            0.536098  \nHospital Equired            0.188940  \nLate Presenters             0.170507  \nUnknown                     0.104455  ",
      "text/html": "<div>\n<style scoped>\n    .dataframe tbody tr th:only-of-type {\n        vertical-align: middle;\n    }\n\n    .dataframe tbody tr th {\n        vertical-align: top;\n    }\n\n    .dataframe thead th {\n        text-align: right;\n    }\n</style>\n<table border=\"1\" class=\"dataframe\">\n  <thead>\n    <tr style=\"text-align: right;\">\n      <th>Discharged_Readmitted_Died</th>\n      <th>Died</th>\n      <th>Discharged</th>\n      <th>Missing</th>\n      <th>Readmitted</th>\n      <th>All</th>\n    </tr>\n    <tr>\n      <th>Symptoms onset</th>\n      <th></th>\n      <th></th>\n      <th></th>\n      <th></th>\n      <th></th>\n    </tr>\n  </thead>\n  <tbody>\n    <tr>\n      <th>Early Presenters</th>\n      <td>0.587963</td>\n      <td>0.508353</td>\n      <td>0.285714</td>\n      <td>0.777778</td>\n      <td>0.536098</td>\n    </tr>\n    <tr>\n      <th>Hospital Equired</th>\n      <td>0.226852</td>\n      <td>0.171838</td>\n      <td>0.142857</td>\n      <td>0.111111</td>\n      <td>0.188940</td>\n    </tr>\n    <tr>\n      <th>Late Presenters</th>\n      <td>0.101852</td>\n      <td>0.210024</td>\n      <td>0.000000</td>\n      <td>0.111111</td>\n      <td>0.170507</td>\n    </tr>\n    <tr>\n      <th>Unknown</th>\n      <td>0.083333</td>\n      <td>0.109785</td>\n      <td>0.571429</td>\n      <td>0.000000</td>\n      <td>0.104455</td>\n    </tr>\n  </tbody>\n</table>\n</div>"
     },
     "execution_count": 503,
     "metadata": {},
     "output_type": "execute_result"
    }
   ],
   "source": [
    "xxFracCol = pd.crosstab(dfSel['Symptoms onset'],dfSel['Discharged_Readmitted_Died'],margins=True,normalize='columns')\n",
    "xxFracCol"
   ],
   "metadata": {
    "collapsed": false,
    "pycharm": {
     "name": "#%%\n"
    }
   }
  },
  {
   "cell_type": "code",
   "execution_count": 504,
   "outputs": [
    {
     "data": {
      "text/plain": "Discharged_Readmitted_Died      Died  Discharged   Missing  Readmitted\nSymptoms onset                                                        \nEarly Presenters            0.363897    0.610315  0.005731    0.020057\nHospital Equired            0.398374    0.585366  0.008130    0.008130\nLate Presenters             0.198198    0.792793  0.000000    0.009009\nUnknown                     0.264706    0.676471  0.058824    0.000000\nAll                         0.331797    0.643625  0.010753    0.013825",
      "text/html": "<div>\n<style scoped>\n    .dataframe tbody tr th:only-of-type {\n        vertical-align: middle;\n    }\n\n    .dataframe tbody tr th {\n        vertical-align: top;\n    }\n\n    .dataframe thead th {\n        text-align: right;\n    }\n</style>\n<table border=\"1\" class=\"dataframe\">\n  <thead>\n    <tr style=\"text-align: right;\">\n      <th>Discharged_Readmitted_Died</th>\n      <th>Died</th>\n      <th>Discharged</th>\n      <th>Missing</th>\n      <th>Readmitted</th>\n    </tr>\n    <tr>\n      <th>Symptoms onset</th>\n      <th></th>\n      <th></th>\n      <th></th>\n      <th></th>\n    </tr>\n  </thead>\n  <tbody>\n    <tr>\n      <th>Early Presenters</th>\n      <td>0.363897</td>\n      <td>0.610315</td>\n      <td>0.005731</td>\n      <td>0.020057</td>\n    </tr>\n    <tr>\n      <th>Hospital Equired</th>\n      <td>0.398374</td>\n      <td>0.585366</td>\n      <td>0.008130</td>\n      <td>0.008130</td>\n    </tr>\n    <tr>\n      <th>Late Presenters</th>\n      <td>0.198198</td>\n      <td>0.792793</td>\n      <td>0.000000</td>\n      <td>0.009009</td>\n    </tr>\n    <tr>\n      <th>Unknown</th>\n      <td>0.264706</td>\n      <td>0.676471</td>\n      <td>0.058824</td>\n      <td>0.000000</td>\n    </tr>\n    <tr>\n      <th>All</th>\n      <td>0.331797</td>\n      <td>0.643625</td>\n      <td>0.010753</td>\n      <td>0.013825</td>\n    </tr>\n  </tbody>\n</table>\n</div>"
     },
     "execution_count": 504,
     "metadata": {},
     "output_type": "execute_result"
    }
   ],
   "source": [
    "xxFracRows = pd.crosstab(dfSel['Symptoms onset'],dfSel['Discharged_Readmitted_Died'],margins=True,normalize='index')\n",
    "xxFracRows"
   ],
   "metadata": {
    "collapsed": false,
    "pycharm": {
     "name": "#%%\n"
    }
   }
  },
  {
   "cell_type": "code",
   "execution_count": 505,
   "outputs": [],
   "source": [
    "# pd.crosstab(x[])"
   ],
   "metadata": {
    "collapsed": false,
    "pycharm": {
     "name": "#%%\n"
    }
   }
  },
  {
   "cell_type": "markdown",
   "source": [
    "## Graphs"
   ],
   "metadata": {
    "collapsed": false,
    "pycharm": {
     "name": "#%% md\n"
    }
   }
  },
  {
   "cell_type": "code",
   "execution_count": 506,
   "outputs": [
    {
     "data": {
      "text/plain": "Discharged_Readmitted_Died  Died  Discharged  Missing  Readmitted  All\nSymptoms onset                                                        \nEarly Presenters             127         213        2           7  349\nHospital Equired              49          72        1           1  123\nLate Presenters               22          88        0           1  111\nUnknown                       18          46        4           0   68\nAll                          216         419        7           9  651",
      "text/html": "<div>\n<style scoped>\n    .dataframe tbody tr th:only-of-type {\n        vertical-align: middle;\n    }\n\n    .dataframe tbody tr th {\n        vertical-align: top;\n    }\n\n    .dataframe thead th {\n        text-align: right;\n    }\n</style>\n<table border=\"1\" class=\"dataframe\">\n  <thead>\n    <tr style=\"text-align: right;\">\n      <th>Discharged_Readmitted_Died</th>\n      <th>Died</th>\n      <th>Discharged</th>\n      <th>Missing</th>\n      <th>Readmitted</th>\n      <th>All</th>\n    </tr>\n    <tr>\n      <th>Symptoms onset</th>\n      <th></th>\n      <th></th>\n      <th></th>\n      <th></th>\n      <th></th>\n    </tr>\n  </thead>\n  <tbody>\n    <tr>\n      <th>Early Presenters</th>\n      <td>127</td>\n      <td>213</td>\n      <td>2</td>\n      <td>7</td>\n      <td>349</td>\n    </tr>\n    <tr>\n      <th>Hospital Equired</th>\n      <td>49</td>\n      <td>72</td>\n      <td>1</td>\n      <td>1</td>\n      <td>123</td>\n    </tr>\n    <tr>\n      <th>Late Presenters</th>\n      <td>22</td>\n      <td>88</td>\n      <td>0</td>\n      <td>1</td>\n      <td>111</td>\n    </tr>\n    <tr>\n      <th>Unknown</th>\n      <td>18</td>\n      <td>46</td>\n      <td>4</td>\n      <td>0</td>\n      <td>68</td>\n    </tr>\n    <tr>\n      <th>All</th>\n      <td>216</td>\n      <td>419</td>\n      <td>7</td>\n      <td>9</td>\n      <td>651</td>\n    </tr>\n  </tbody>\n</table>\n</div>"
     },
     "execution_count": 506,
     "metadata": {},
     "output_type": "execute_result"
    }
   ],
   "source": [
    "xx"
   ],
   "metadata": {
    "collapsed": false,
    "pycharm": {
     "name": "#%%\n"
    }
   }
  },
  {
   "cell_type": "code",
   "execution_count": 507,
   "outputs": [
    {
     "data": {
      "text/plain": "Discharged_Readmitted_Died    Symptoms onset  Died  Discharged  Missing  \\\n0                           Early Presenters   127         213        2   \n1                           Hospital Equired    49          72        1   \n2                            Late Presenters    22          88        0   \n3                                    Unknown    18          46        4   \n\nDischarged_Readmitted_Died  Readmitted  \n0                                    7  \n1                                    1  \n2                                    1  \n3                                    0  ",
      "text/html": "<div>\n<style scoped>\n    .dataframe tbody tr th:only-of-type {\n        vertical-align: middle;\n    }\n\n    .dataframe tbody tr th {\n        vertical-align: top;\n    }\n\n    .dataframe thead th {\n        text-align: right;\n    }\n</style>\n<table border=\"1\" class=\"dataframe\">\n  <thead>\n    <tr style=\"text-align: right;\">\n      <th>Discharged_Readmitted_Died</th>\n      <th>Symptoms onset</th>\n      <th>Died</th>\n      <th>Discharged</th>\n      <th>Missing</th>\n      <th>Readmitted</th>\n    </tr>\n  </thead>\n  <tbody>\n    <tr>\n      <th>0</th>\n      <td>Early Presenters</td>\n      <td>127</td>\n      <td>213</td>\n      <td>2</td>\n      <td>7</td>\n    </tr>\n    <tr>\n      <th>1</th>\n      <td>Hospital Equired</td>\n      <td>49</td>\n      <td>72</td>\n      <td>1</td>\n      <td>1</td>\n    </tr>\n    <tr>\n      <th>2</th>\n      <td>Late Presenters</td>\n      <td>22</td>\n      <td>88</td>\n      <td>0</td>\n      <td>1</td>\n    </tr>\n    <tr>\n      <th>3</th>\n      <td>Unknown</td>\n      <td>18</td>\n      <td>46</td>\n      <td>4</td>\n      <td>0</td>\n    </tr>\n  </tbody>\n</table>\n</div>"
     },
     "execution_count": 507,
     "metadata": {},
     "output_type": "execute_result"
    }
   ],
   "source": [
    "# xMelt = pd.melt(xMelt,id_vars=['Symptoms onset'],value_vars=[ 'Died', 'Discharged', 'Missing'])\n",
    "# xMelt.rename(columns={'value':'# Patients'},inplace=True)\n",
    "xMelt"
   ],
   "metadata": {
    "collapsed": false,
    "pycharm": {
     "name": "#%%\n"
    }
   }
  },
  {
   "cell_type": "code",
   "execution_count": 507,
   "outputs": [],
   "source": [],
   "metadata": {
    "collapsed": false,
    "pycharm": {
     "name": "#%%\n"
    }
   }
  },
  {
   "cell_type": "code",
   "execution_count": 507,
   "outputs": [],
   "source": [],
   "metadata": {
    "collapsed": false,
    "pycharm": {
     "name": "#%%\n"
    }
   }
  },
  {
   "cell_type": "code",
   "execution_count": 508,
   "outputs": [
    {
     "data": {
      "text/plain": "Discharged_Readmitted_Died    Symptoms onset      Died  Discharged   Missing  \\\n0                           Early Presenters  0.195084    0.327189  0.003072   \n1                           Hospital Equired  0.075269    0.110599  0.001536   \n2                            Late Presenters  0.033794    0.135177  0.000000   \n3                                    Unknown  0.027650    0.070661  0.006144   \n\nDischarged_Readmitted_Died  Readmitted  \n0                             0.010753  \n1                             0.001536  \n2                             0.001536  \n3                             0.000000  ",
      "text/html": "<div>\n<style scoped>\n    .dataframe tbody tr th:only-of-type {\n        vertical-align: middle;\n    }\n\n    .dataframe tbody tr th {\n        vertical-align: top;\n    }\n\n    .dataframe thead th {\n        text-align: right;\n    }\n</style>\n<table border=\"1\" class=\"dataframe\">\n  <thead>\n    <tr style=\"text-align: right;\">\n      <th>Discharged_Readmitted_Died</th>\n      <th>Symptoms onset</th>\n      <th>Died</th>\n      <th>Discharged</th>\n      <th>Missing</th>\n      <th>Readmitted</th>\n    </tr>\n  </thead>\n  <tbody>\n    <tr>\n      <th>0</th>\n      <td>Early Presenters</td>\n      <td>0.195084</td>\n      <td>0.327189</td>\n      <td>0.003072</td>\n      <td>0.010753</td>\n    </tr>\n    <tr>\n      <th>1</th>\n      <td>Hospital Equired</td>\n      <td>0.075269</td>\n      <td>0.110599</td>\n      <td>0.001536</td>\n      <td>0.001536</td>\n    </tr>\n    <tr>\n      <th>2</th>\n      <td>Late Presenters</td>\n      <td>0.033794</td>\n      <td>0.135177</td>\n      <td>0.000000</td>\n      <td>0.001536</td>\n    </tr>\n    <tr>\n      <th>3</th>\n      <td>Unknown</td>\n      <td>0.027650</td>\n      <td>0.070661</td>\n      <td>0.006144</td>\n      <td>0.000000</td>\n    </tr>\n  </tbody>\n</table>\n</div>"
     },
     "execution_count": 508,
     "metadata": {},
     "output_type": "execute_result"
    }
   ],
   "source": [
    "xFreqNotAll = pd.crosstab(dfSel['Symptoms onset'],dfSel['Discharged_Readmitted_Died'],normalize=True).reset_index()\n",
    "xFreqNotAll"
   ],
   "metadata": {
    "collapsed": false,
    "pycharm": {
     "name": "#%%\n"
    }
   }
  },
  {
   "cell_type": "code",
   "execution_count": 509,
   "outputs": [],
   "source": [
    "# x = dfSel.groupby(['Symptoms onset', 'Death_Discharged_Survived_Str']).count().reset_index()\n",
    "# x.rename(columns={'STUDY_ID':'# Patients'},inplace=True)\n",
    "# x['% Patients withing \"Onset Time\" group'] =x.groupby('Onset Time Str')['# Patients'].apply(lambda x:x/x.sum())\n",
    "# totalPatients = x['# Patients'].sum()\n",
    "# x['% Patients withing all'] = x['# Patients'].apply(lambda x:x/totalPatients)\n",
    "# totalPatients\n",
    "\n"
   ],
   "metadata": {
    "collapsed": false,
    "pycharm": {
     "name": "#%%\n"
    }
   }
  },
  {
   "cell_type": "code",
   "execution_count": 510,
   "outputs": [
    {
     "data": {
      "text/plain": "      Symptoms onset Discharged_Readmitted_Died  % Patients\n0   Early Presenters                       Died    0.195084\n1   Hospital Equired                       Died    0.075269\n2    Late Presenters                       Died    0.033794\n3            Unknown                       Died    0.027650\n4   Early Presenters                 Discharged    0.327189\n5   Hospital Equired                 Discharged    0.110599\n6    Late Presenters                 Discharged    0.135177\n7            Unknown                 Discharged    0.070661\n8   Early Presenters                    Missing    0.003072\n9   Hospital Equired                    Missing    0.001536\n10   Late Presenters                    Missing    0.000000\n11           Unknown                    Missing    0.006144",
      "text/html": "<div>\n<style scoped>\n    .dataframe tbody tr th:only-of-type {\n        vertical-align: middle;\n    }\n\n    .dataframe tbody tr th {\n        vertical-align: top;\n    }\n\n    .dataframe thead th {\n        text-align: right;\n    }\n</style>\n<table border=\"1\" class=\"dataframe\">\n  <thead>\n    <tr style=\"text-align: right;\">\n      <th></th>\n      <th>Symptoms onset</th>\n      <th>Discharged_Readmitted_Died</th>\n      <th>% Patients</th>\n    </tr>\n  </thead>\n  <tbody>\n    <tr>\n      <th>0</th>\n      <td>Early Presenters</td>\n      <td>Died</td>\n      <td>0.195084</td>\n    </tr>\n    <tr>\n      <th>1</th>\n      <td>Hospital Equired</td>\n      <td>Died</td>\n      <td>0.075269</td>\n    </tr>\n    <tr>\n      <th>2</th>\n      <td>Late Presenters</td>\n      <td>Died</td>\n      <td>0.033794</td>\n    </tr>\n    <tr>\n      <th>3</th>\n      <td>Unknown</td>\n      <td>Died</td>\n      <td>0.027650</td>\n    </tr>\n    <tr>\n      <th>4</th>\n      <td>Early Presenters</td>\n      <td>Discharged</td>\n      <td>0.327189</td>\n    </tr>\n    <tr>\n      <th>5</th>\n      <td>Hospital Equired</td>\n      <td>Discharged</td>\n      <td>0.110599</td>\n    </tr>\n    <tr>\n      <th>6</th>\n      <td>Late Presenters</td>\n      <td>Discharged</td>\n      <td>0.135177</td>\n    </tr>\n    <tr>\n      <th>7</th>\n      <td>Unknown</td>\n      <td>Discharged</td>\n      <td>0.070661</td>\n    </tr>\n    <tr>\n      <th>8</th>\n      <td>Early Presenters</td>\n      <td>Missing</td>\n      <td>0.003072</td>\n    </tr>\n    <tr>\n      <th>9</th>\n      <td>Hospital Equired</td>\n      <td>Missing</td>\n      <td>0.001536</td>\n    </tr>\n    <tr>\n      <th>10</th>\n      <td>Late Presenters</td>\n      <td>Missing</td>\n      <td>0.000000</td>\n    </tr>\n    <tr>\n      <th>11</th>\n      <td>Unknown</td>\n      <td>Missing</td>\n      <td>0.006144</td>\n    </tr>\n  </tbody>\n</table>\n</div>"
     },
     "execution_count": 510,
     "metadata": {},
     "output_type": "execute_result"
    }
   ],
   "source": [
    "# Overall fraction\n",
    "xFreqNotAllMelted = pd.melt(xFreqNotAll,id_vars=['Symptoms onset'],value_vars=[ 'Died', 'Discharged', 'Missing'])\n",
    "xFreqNotAllMelted.rename(columns={'value':'% Patients'},inplace=True)\n",
    "xFreqNotAllMelted\n",
    "# xMeltMelted = pd.melt(xMelt,id_vars=['Symptoms onset'],value_vars=[ 'Died', 'Discharged', 'Missing'])\n",
    "# xMeltMelted.rename(columns={'value':'# Patients'},inplace=True)\n",
    "# xMeltMelted"
   ],
   "metadata": {
    "collapsed": false,
    "pycharm": {
     "name": "#%%\n"
    }
   }
  },
  {
   "cell_type": "code",
   "execution_count": 511,
   "outputs": [
    {
     "data": {
      "text/plain": "<Figure size 432x288 with 1 Axes>",
      "image/png": "[encoded data removed]"
     },
     "metadata": {
      "needs_background": "light"
     },
     "output_type": "display_data"
    }
   ],
   "source": [
    "splot = sns.barplot(data=xFreqNotAllMelted,y='Symptoms onset',x='% Patients',hue='Discharged_Readmitted_Died')"
   ],
   "metadata": {
    "collapsed": false,
    "pycharm": {
     "name": "#%%\n"
    }
   }
  },
  {
   "cell_type": "markdown",
   "source": [
    "## Complete this"
   ],
   "metadata": {
    "collapsed": false,
    "pycharm": {
     "name": "#%% md\n"
    }
   }
  },
  {
   "cell_type": "code",
   "execution_count": 512,
   "outputs": [],
   "source": [
    "# sns.barplot(data=xMelt,y='Symptoms onset',x='# Patients',hue='Discharged_Readmitted_Died')"
   ],
   "metadata": {
    "collapsed": false,
    "pycharm": {
     "name": "#%%\n"
    }
   }
  },
  {
   "cell_type": "code",
   "execution_count": 513,
   "outputs": [],
   "source": [
    "# splot = sns.barplot(data=x,y='Symptoms onset',x='% Patients withing \"Onset Time\" group',hue='Discharged_Readmitted_Died')"
   ],
   "metadata": {
    "collapsed": false,
    "pycharm": {
     "name": "#%%\n"
    }
   }
  },
  {
   "cell_type": "code",
   "execution_count": 513,
   "outputs": [],
   "source": [],
   "metadata": {
    "collapsed": false,
    "pycharm": {
     "name": "#%%\n"
    }
   }
  },
  {
   "cell_type": "code",
   "execution_count": 514,
   "outputs": [],
   "source": [
    "# splot = sns.barplot(data=x,y='Symptoms onset',x='% Patients withing all',hue='Death_Discharged_Survived_Str')"
   ],
   "metadata": {
    "collapsed": false,
    "pycharm": {
     "name": "#%%\n"
    }
   }
  },
  {
   "cell_type": "code",
   "execution_count": 514,
   "outputs": [],
   "source": [],
   "metadata": {
    "collapsed": false,
    "pycharm": {
     "name": "#%%\n"
    }
   }
  },
  {
   "cell_type": "markdown",
   "source": [
    "# Ethnic Group"
   ],
   "metadata": {
    "collapsed": false,
    "pycharm": {
     "name": "#%% md\n"
    }
   }
  },
  {
   "cell_type": "code",
   "execution_count": 515,
   "outputs": [
    {
     "data": {
      "text/plain": "Index(['STUDY_ID', 'ETHNIC_GROUP', 'Symptoms onset', 'Died_or_Survived_Str',\n       'Discharged_Readmitted_Died', 'NIV', 'PATIENT_AGE', 'GENDER', 'ASTHMA',\n       'COPD', 'BRONCHIECTASIS', 'HYPERTENSION', 'THROMBOEMBOLIC', 'CARDIAC_D',\n       'RENAL_D', 'LIVER_D', 'NEURAL_D', 'META_SOLID_TUMOUR', 'MAGLINANT_NEO',\n       'DIABETES', 'OBESITY', 'HIV', 'RHEUMATO_D', 'DIMENTIA', 'IMMUNO',\n       'NB_COMOR'],\n      dtype='object')"
     },
     "execution_count": 515,
     "metadata": {},
     "output_type": "execute_result"
    }
   ],
   "source": [
    "dfSel.columns"
   ],
   "metadata": {
    "collapsed": false,
    "pycharm": {
     "name": "#%%\n"
    }
   }
  },
  {
   "cell_type": "code",
   "execution_count": 516,
   "outputs": [
    {
     "data": {
      "text/plain": "             STUDY_ID ETHNIC_GROUP    Symptoms onset Died_or_Survived_Str  \\\n0   UHSCOVID_00989a42            A  Early Presenters             Survived   \n8   UHSCOVID_00ac1e32            A  Hospital Equired             Survived   \n51  UHSCOVID_00cb7bdd            A  Early Presenters                 Died   \n54  UHSCOVID_01add35c            A  Early Presenters                 Died   \n57  UHSCOVID_01f7838d            A  Hospital Equired             Survived   \n\n   Discharged_Readmitted_Died  NIV  PATIENT_AGE GENDER  ASTHMA  COPD  ...  \\\n0                  Discharged  0.0         64.0      M     1.0   1.0  ...   \n8                  Discharged  1.0         73.0      M     0.0   0.0  ...   \n51                       Died  1.0         76.0      F     1.0   0.0  ...   \n54                       Died  0.0         67.0      F     0.0   0.0  ...   \n57                 Discharged  0.0         97.0      M     0.0   0.0  ...   \n\n    NEURAL_D  META_SOLID_TUMOUR  MAGLINANT_NEO  DIABETES  OBESITY  HIV  \\\n0        0.0                0.0            0.0       1.0      1.0  0.0   \n8        0.0                0.0            0.0       0.0      0.0  0.0   \n51       0.0                1.0            1.0       1.0      0.0  0.0   \n54       1.0                0.0            0.0       0.0      0.0  0.0   \n57       0.0                0.0            1.0       1.0      0.0  0.0   \n\n    RHEUMATO_D  DIMENTIA  IMMUNO  NB_COMOR  \n0          0.0       0.0     0.0       4.0  \n8          0.0       0.0     0.0       1.0  \n51         0.0       0.0     0.0       5.0  \n54         0.0       0.0     0.0       1.0  \n57         0.0       0.0     0.0       5.0  \n\n[5 rows x 26 columns]",
      "text/html": "<div>\n<style scoped>\n    .dataframe tbody tr th:only-of-type {\n        vertical-align: middle;\n    }\n\n    .dataframe tbody tr th {\n        vertical-align: top;\n    }\n\n    .dataframe thead th {\n        text-align: right;\n    }\n</style>\n<table border=\"1\" class=\"dataframe\">\n  <thead>\n    <tr style=\"text-align: right;\">\n      <th></th>\n      <th>STUDY_ID</th>\n      <th>ETHNIC_GROUP</th>\n      <th>Symptoms onset</th>\n      <th>Died_or_Survived_Str</th>\n      <th>Discharged_Readmitted_Died</th>\n      <th>NIV</th>\n      <th>PATIENT_AGE</th>\n      <th>GENDER</th>\n      <th>ASTHMA</th>\n      <th>COPD</th>\n      <th>...</th>\n      <th>NEURAL_D</th>\n      <th>META_SOLID_TUMOUR</th>\n      <th>MAGLINANT_NEO</th>\n      <th>DIABETES</th>\n      <th>OBESITY</th>\n      <th>HIV</th>\n      <th>RHEUMATO_D</th>\n      <th>DIMENTIA</th>\n      <th>IMMUNO</th>\n      <th>NB_COMOR</th>\n    </tr>\n  </thead>\n  <tbody>\n    <tr>\n      <th>0</th>\n      <td>UHSCOVID_00989a42</td>\n      <td>A</td>\n      <td>Early Presenters</td>\n      <td>Survived</td>\n      <td>Discharged</td>\n      <td>0.0</td>\n      <td>64.0</td>\n      <td>M</td>\n      <td>1.0</td>\n      <td>1.0</td>\n      <td>...</td>\n      <td>0.0</td>\n      <td>0.0</td>\n      <td>0.0</td>\n      <td>1.0</td>\n      <td>1.0</td>\n      <td>0.0</td>\n      <td>0.0</td>\n      <td>0.0</td>\n      <td>0.0</td>\n      <td>4.0</td>\n    </tr>\n    <tr>\n      <th>8</th>\n      <td>UHSCOVID_00ac1e32</td>\n      <td>A</td>\n      <td>Hospital Equired</td>\n      <td>Survived</td>\n      <td>Discharged</td>\n      <td>1.0</td>\n      <td>73.0</td>\n      <td>M</td>\n      <td>0.0</td>\n      <td>0.0</td>\n      <td>...</td>\n      <td>0.0</td>\n      <td>0.0</td>\n      <td>0.0</td>\n      <td>0.0</td>\n      <td>0.0</td>\n      <td>0.0</td>\n      <td>0.0</td>\n      <td>0.0</td>\n      <td>0.0</td>\n      <td>1.0</td>\n    </tr>\n    <tr>\n      <th>51</th>\n      <td>UHSCOVID_00cb7bdd</td>\n      <td>A</td>\n      <td>Early Presenters</td>\n      <td>Died</td>\n      <td>Died</td>\n      <td>1.0</td>\n      <td>76.0</td>\n      <td>F</td>\n      <td>1.0</td>\n      <td>0.0</td>\n      <td>...</td>\n      <td>0.0</td>\n      <td>1.0</td>\n      <td>1.0</td>\n      <td>1.0</td>\n      <td>0.0</td>\n      <td>0.0</td>\n      <td>0.0</td>\n      <td>0.0</td>\n      <td>0.0</td>\n      <td>5.0</td>\n    </tr>\n    <tr>\n      <th>54</th>\n      <td>UHSCOVID_01add35c</td>\n      <td>A</td>\n      <td>Early Presenters</td>\n      <td>Died</td>\n      <td>Died</td>\n      <td>0.0</td>\n      <td>67.0</td>\n      <td>F</td>\n      <td>0.0</td>\n      <td>0.0</td>\n      <td>...</td>\n      <td>1.0</td>\n      <td>0.0</td>\n      <td>0.0</td>\n      <td>0.0</td>\n      <td>0.0</td>\n      <td>0.0</td>\n      <td>0.0</td>\n      <td>0.0</td>\n      <td>0.0</td>\n      <td>1.0</td>\n    </tr>\n    <tr>\n      <th>57</th>\n      <td>UHSCOVID_01f7838d</td>\n      <td>A</td>\n      <td>Hospital Equired</td>\n      <td>Survived</td>\n      <td>Discharged</td>\n      <td>0.0</td>\n      <td>97.0</td>\n      <td>M</td>\n      <td>0.0</td>\n      <td>0.0</td>\n      <td>...</td>\n      <td>0.0</td>\n      <td>0.0</td>\n      <td>1.0</td>\n      <td>1.0</td>\n      <td>0.0</td>\n      <td>0.0</td>\n      <td>0.0</td>\n      <td>0.0</td>\n      <td>0.0</td>\n      <td>5.0</td>\n    </tr>\n  </tbody>\n</table>\n<p>5 rows × 26 columns</p>\n</div>"
     },
     "execution_count": 516,
     "metadata": {},
     "output_type": "execute_result"
    }
   ],
   "source": [
    "dfSel.head()"
   ],
   "metadata": {
    "collapsed": false,
    "pycharm": {
     "name": "#%%\n"
    }
   }
  },
  {
   "cell_type": "code",
   "execution_count": 517,
   "outputs": [
    {
     "data": {
      "text/plain": "A    468\nZ     30\nX     26\nL     20\nC     17\nH     10\nS     10\nN     10\nJ      5\nE      4\nP      4\nB      2\nG      2\nK      1\nD      1\nR      1\nM      1\nName: ETHNIC_GROUP, dtype: int64"
     },
     "execution_count": 517,
     "metadata": {},
     "output_type": "execute_result"
    }
   ],
   "source": [
    "dfSel['ETHNIC_GROUP'].value_counts()"
   ],
   "metadata": {
    "collapsed": false,
    "pycharm": {
     "name": "#%%\n"
    }
   }
  },
  {
   "cell_type": "code",
   "execution_count": 563,
   "outputs": [
    {
     "name": "stderr",
     "output_type": "stream",
     "text": [
      "C:\\ANACONDA3\\envs\\dECMT\\lib\\site-packages\\ipykernel_launcher.py:1: SettingWithCopyWarning: \n",
      "A value is trying to be set on a copy of a slice from a DataFrame.\n",
      "Try using .loc[row_indexer,col_indexer] = value instead\n",
      "\n",
      "See the caveats in the documentation: https://pandas.pydata.org/pandas-docs/stable/user_guide/indexing.html#returning-a-view-versus-a-copy\n",
      "  \"\"\"Entry point for launching an IPython kernel.\n"
     ]
    },
    {
     "data": {
      "text/plain": "True     468\nFalse    183\nName: British, mixed British, dtype: int64"
     },
     "execution_count": 563,
     "metadata": {},
     "output_type": "execute_result"
    }
   ],
   "source": [
    "dfSel['British, mixed British'] = (dfSel['ETHNIC_GROUP'] == 'A')\n",
    "dfSel['British, mixed British'].value_counts()\n",
    "\n",
    "# dfSelCTFreqColsNoMargin = pd.crosstab(dfSel['Symptoms onset'],dfSel[comord])\n",
    "#     dfSelCTFreqColsNoMargin.drop(['Hospital Equired','Unknown'],inplace=True)\n",
    "#     # print(dfSelCTFreqColsNoMargin)\n",
    "#     dfSelCTFreqColsNoMargin.drop(0.0,axis=1,inplace=True)"
   ],
   "metadata": {
    "collapsed": false,
    "pycharm": {
     "name": "#%%\n"
    }
   }
  },
  {
   "cell_type": "code",
   "execution_count": 565,
   "outputs": [
    {
     "data": {
      "text/plain": "Index(['STUDY_ID', 'ETHNIC_GROUP', 'Symptoms onset', 'Died_or_Survived_Str',\n       'Discharged_Readmitted_Died', 'NIV', 'PATIENT_AGE', 'GENDER', 'ASTHMA',\n       'COPD', 'BRONCHIECTASIS', 'HYPERTENSION', 'THROMBOEMBOLIC', 'CARDIAC_D',\n       'RENAL_D', 'LIVER_D', 'NEURAL_D', 'META_SOLID_TUMOUR', 'MAGLINANT_NEO',\n       'DIABETES', 'OBESITY', 'HIV', 'RHEUMATO_D', 'DIMENTIA', 'IMMUNO',\n       'NB_COMOR', 'British, mixed British'],\n      dtype='object')"
     },
     "execution_count": 565,
     "metadata": {},
     "output_type": "execute_result"
    }
   ],
   "source": [
    "dfSel.columns"
   ],
   "metadata": {
    "collapsed": false,
    "pycharm": {
     "name": "#%%\n"
    }
   }
  },
  {
   "cell_type": "code",
   "execution_count": 519,
   "outputs": [],
   "source": [
    "# printChi2()"
   ],
   "metadata": {
    "collapsed": false,
    "pycharm": {
     "name": "#%%\n"
    }
   }
  },
  {
   "cell_type": "code",
   "execution_count": 568,
   "outputs": [
    {
     "data": {
      "text/plain": "<IPython.core.display.Markdown object>",
      "text/markdown": "# Empty"
     },
     "metadata": {},
     "output_type": "display_data"
    },
    {
     "name": "stdout",
     "output_type": "stream",
     "text": [
      "stat = 52.48728803620212\n",
      "p = 0.3043126456947173\n",
      "dof = 48\n",
      "expected = [[2.60764706e+02 1.11437908e+00 9.47222222e+00 5.57189542e-01\n",
      "  2.22875817e+00 1.11437908e+00 5.57189542e+00 2.78594771e+00\n",
      "  5.57189542e-01 1.11437908e+01 5.57189542e-01 5.57189542e+00\n",
      "  2.22875817e+00 5.57189542e-01 5.57189542e+00 1.44869281e+01\n",
      "  1.67156863e+01]\n",
      " [9.40588235e+01 4.01960784e-01 3.41666667e+00 2.00980392e-01\n",
      "  8.03921569e-01 4.01960784e-01 2.00980392e+00 1.00490196e+00\n",
      "  2.00980392e-01 4.01960784e+00 2.00980392e-01 2.00980392e+00\n",
      "  8.03921569e-01 2.00980392e-01 2.00980392e+00 5.22549020e+00\n",
      "  6.02941176e+00]\n",
      " [8.10588235e+01 3.46405229e-01 2.94444444e+00 1.73202614e-01\n",
      "  6.92810458e-01 3.46405229e-01 1.73202614e+00 8.66013072e-01\n",
      "  1.73202614e-01 3.46405229e+00 1.73202614e-01 1.73202614e+00\n",
      "  6.92810458e-01 1.73202614e-01 1.73202614e+00 4.50326797e+00\n",
      "  5.19607843e+00]\n",
      " [3.21176471e+01 1.37254902e-01 1.16666667e+00 6.86274510e-02\n",
      "  2.74509804e-01 1.37254902e-01 6.86274510e-01 3.43137255e-01\n",
      "  6.86274510e-02 1.37254902e+00 6.86274510e-02 6.86274510e-01\n",
      "  2.74509804e-01 6.86274510e-02 6.86274510e-01 1.78431373e+00\n",
      "  2.05882353e+00]]\n"
     ]
    },
    {
     "data": {
      "text/plain": "<IPython.core.display.Markdown object>",
      "text/markdown": "Since p=0.3<0.05, based on Chi2 test we can reject hypothesis that death as outcome does not depend on the presence of a renal disease."
     },
     "metadata": {},
     "output_type": "display_data"
    }
   ],
   "source": [
    "txt = printChi2Test(dfSel,'Symptoms onset','ETHNIC_GROUP')\n",
    "txt"
   ],
   "metadata": {
    "collapsed": false,
    "pycharm": {
     "name": "#%%\n"
    }
   }
  },
  {
   "cell_type": "code",
   "execution_count": 519,
   "outputs": [],
   "source": [],
   "metadata": {
    "collapsed": false,
    "pycharm": {
     "name": "#%%\n"
    }
   }
  },
  {
   "cell_type": "code",
   "execution_count": 519,
   "outputs": [],
   "source": [
    "# x = pd.crosstab(dfSel['Symptoms onset'],dfSel[comord])"
   ],
   "metadata": {
    "collapsed": false,
    "pycharm": {
     "name": "#%%\n"
    }
   }
  },
  {
   "cell_type": "markdown",
   "source": [
    "# Comorbidities, Ethnicity"
   ],
   "metadata": {
    "collapsed": false,
    "pycharm": {
     "name": "#%% md\n"
    }
   }
  },
  {
   "cell_type": "code",
   "execution_count": 519,
   "outputs": [],
   "source": [],
   "metadata": {
    "collapsed": false,
    "pycharm": {
     "name": "#%%\n"
    }
   }
  },
  {
   "cell_type": "markdown",
   "source": [
    "## Automatic Counts, Comorbidities, Ethnicity"
   ],
   "metadata": {
    "collapsed": false,
    "pycharm": {
     "name": "#%% md\n"
    }
   }
  },
  {
   "cell_type": "code",
   "execution_count": 520,
   "outputs": [
    {
     "data": {
      "text/plain": "Index(['Unnamed: 0', 'STUDY_ID', 'ADMISSION_START_DATE', 'ADMISSION_END_DATE',\n       'ITU_START_DATE', 'ITU_END_DATE', 'INVASIVE_VENTILATION_START_DATE',\n       'INVASIVE_VENTILATION_END_DATE', 'NIV_START_DATE', 'NIV_END_DATE',\n       'C5_START_DATE', 'C5_END_DATE', 'ADMISSION_START_DAY',\n       'ADMISSION_END_DAY', 'ITU_START_DAY', 'ITU_END_DAY',\n       'INVASIVE_VENTILATION_START_DAY', 'INVASIVE_VENTILATION_END_DAY',\n       'NIV_START_DAY', 'NIV_END_DAY', 'C5_START_DAY', 'C5_END_DAY',\n       'PATIENT_AGE', 'GENDER', 'DEATH_DATE', 'DISCHARGE_DATE', 'DEATH_DAY',\n       'DISCHARGE_DAY', 'ITU', 'INV', 'NIV', 'C5', 'DEATH', 'DISCHARGED',\n       'SURVIVED', 'STILL_IN', 'READMITTED', 'ADMISSION_NB', 'AGE_GROUP',\n       'AGE_GROUP_2', 'COPD', 'ASTHMA', 'ILD', 'BRONCHIECTASIS',\n       'HYPERTENSION', 'THROMBOEMBOLIC', 'CARDIAC_D', 'RENAL_D', 'LIVER_D',\n       'NEURAL_D', 'META_SOLID_TUMOUR', 'MAGLINANT_NEO', 'DIABETES', 'OBESITY',\n       'HIV', 'RHEUMATO_D', 'DIMENTIA', 'IMMUNO', 'NB_COMOR',\n       'SYMPTOM_ONSET_DATE', 'ADMISSION_DAY_SINCE_ONSET', 'SPECIMEN_DATE',\n       'SPECIMEN_DAY_SINCE_ADMISSION', 'SPECIMENT_DAY_SINCE_ONSET',\n       'PARAMETER', 'meanValue', 'ETHNIC_GROUP'],\n      dtype='object')"
     },
     "execution_count": 520,
     "metadata": {},
     "output_type": "execute_result"
    }
   ],
   "source": [
    "dfMelted.columns"
   ],
   "metadata": {
    "collapsed": false,
    "pycharm": {
     "name": "#%%\n"
    }
   }
  },
  {
   "cell_type": "code",
   "execution_count": null,
   "outputs": [],
   "source": [
    "outComordCounts = pd.DataFrame()\n"
   ],
   "metadata": {
    "collapsed": false,
    "pycharm": {
     "name": "#%%\n"
    }
   }
  },
  {
   "cell_type": "code",
   "execution_count": 572,
   "outputs": [
    {
     "name": "stdout",
     "output_type": "stream",
     "text": [
      "******************************\n",
      "ASTHMA\n",
      "******************************\n",
      "ASTHMA            0.0  1.0  All\n",
      "Symptoms onset                 \n",
      "Early Presenters  298   51  349\n",
      "Late Presenters    89   22  111\n",
      "All               539  110  649\n",
      "-------------------------------------------------\n",
      "-------------------------------------------------\n",
      "ASTHMA            1.0\n",
      "Symptoms onset       \n",
      "Early Presenters   51\n",
      "Late Presenters    22\n",
      "-------------------------------------------------\n",
      "---- Fractions within Group ---------------------------------------------\n",
      "-------------------------------------------------\n",
      "ASTHMA                 0.0       1.0\n",
      "Symptoms onset                      \n",
      "Early Presenters  0.853868  0.146132\n",
      "Late Presenters   0.801802  0.198198\n",
      "All               0.830508  0.169492\n",
      "-------------------------------------------------\n",
      "ASTHMA                 1.0\n",
      "Symptoms onset            \n",
      "Early Presenters  0.146132\n",
      "Late Presenters   0.198198\n",
      "All               0.169492\n",
      "-------------------------------------------------\n",
      "==============================\n"
     ]
    }
   ],
   "source": [
    "comord = 'ASTHMA'\n",
    "print('******************************')\n",
    "print(f\"{comord}\")\n",
    "print('******************************')\n",
    "dfSelCTFreqColsNoMargin = pd.crosstab(dfSel['Symptoms onset'],dfSel[comord],margins=True)\n",
    "dfSelCTFreqColsNoMargin.drop(['Hospital Equired','Unknown'],inplace=True)\n",
    "print(dfSelCTFreqColsNoMargin)\n",
    "print('-------------------------------------------------')\n",
    "dfSelCTFreqColsNoMargin = pd.crosstab(dfSel['Symptoms onset'],dfSel[comord])\n",
    "dfSelCTFreqColsNoMargin.drop(['Hospital Equired','Unknown'],inplace=True)\n",
    "# print(dfSelCTFreqColsNoMargin)\n",
    "dfSelCTFreqColsNoMargin.drop(0.0,axis=1,inplace=True)\n",
    "print('-------------------------------------------------')\n",
    "print(dfSelCTFreqColsNoMargin)\n",
    "# dfSelCTFreqColsNoMargin\n",
    "print('-------------------------------------------------')\n",
    "print('---- Fractions within Group ---------------------------------------------')\n",
    "print('-------------------------------------------------')\n",
    "dfSelCTFreqColsNoMarginFracWIgrp = pd.crosstab(dfSel['Symptoms onset'],dfSel[comord], normalize='index',margins=True)\n",
    "dfSelCTFreqColsNoMarginFracWIgrp.drop(['Hospital Equired','Unknown'],inplace=True)\n",
    "print(dfSelCTFreqColsNoMarginFracWIgrp)\n",
    "print('-------------------------------------------------')\n",
    "dfSelCTFreqColsNoMarginFracWIgrp.drop(0.0,axis=1,inplace=True)\n",
    "print(dfSelCTFreqColsNoMarginFracWIgrp)\n",
    "print('-------------------------------------------------')\n",
    "print('==============================')\n"
   ],
   "metadata": {
    "collapsed": false,
    "pycharm": {
     "name": "#%%\n"
    }
   }
  },
  {
   "cell_type": "code",
   "execution_count": 521,
   "outputs": [
    {
     "name": "stdout",
     "output_type": "stream",
     "text": [
      "******************************\n",
      "ASTHMA\n",
      "******************************\n",
      "ASTHMA            0.0  1.0  All\n",
      "Symptoms onset                 \n",
      "Early Presenters  298   51  349\n",
      "Late Presenters    89   22  111\n",
      "All               539  110  649\n",
      "-------------------------------------------------\n",
      "-------------------------------------------------\n",
      "ASTHMA            1.0\n",
      "Symptoms onset       \n",
      "Early Presenters   51\n",
      "Late Presenters    22\n",
      "-------------------------------------------------\n",
      "---- Fractions within Group ---------------------------------------------\n",
      "-------------------------------------------------\n",
      "ASTHMA                 0.0       1.0\n",
      "Symptoms onset                      \n",
      "Early Presenters  0.853868  0.146132\n",
      "Late Presenters   0.801802  0.198198\n",
      "All               0.830508  0.169492\n",
      "-------------------------------------------------\n",
      "ASTHMA                 1.0\n",
      "Symptoms onset            \n",
      "Early Presenters  0.146132\n",
      "Late Presenters   0.198198\n",
      "All               0.169492\n",
      "-------------------------------------------------\n",
      "==============================\n",
      "******************************\n",
      "COPD\n",
      "******************************\n",
      "COPD              0.0  1.0  All\n",
      "Symptoms onset                 \n",
      "Early Presenters  279   70  349\n",
      "Late Presenters    94   17  111\n",
      "All               525  124  649\n",
      "-------------------------------------------------\n",
      "-------------------------------------------------\n",
      "COPD              1.0\n",
      "Symptoms onset       \n",
      "Early Presenters   70\n",
      "Late Presenters    17\n",
      "-------------------------------------------------\n",
      "---- Fractions within Group ---------------------------------------------\n",
      "-------------------------------------------------\n",
      "COPD                   0.0       1.0\n",
      "Symptoms onset                      \n",
      "Early Presenters  0.799427  0.200573\n",
      "Late Presenters   0.846847  0.153153\n",
      "All               0.808937  0.191063\n",
      "-------------------------------------------------\n",
      "COPD                   1.0\n",
      "Symptoms onset            \n",
      "Early Presenters  0.200573\n",
      "Late Presenters   0.153153\n",
      "All               0.191063\n",
      "-------------------------------------------------\n",
      "==============================\n",
      "******************************\n",
      "BRONCHIECTASIS\n",
      "******************************\n",
      "BRONCHIECTASIS    0.0  All\n",
      "Symptoms onset            \n",
      "Early Presenters  349  349\n",
      "Late Presenters   111  111\n",
      "All               649  649\n",
      "-------------------------------------------------\n",
      "-------------------------------------------------\n",
      "Empty DataFrame\n",
      "Columns: []\n",
      "Index: [Early Presenters, Late Presenters]\n",
      "-------------------------------------------------\n",
      "---- Fractions within Group ---------------------------------------------\n",
      "-------------------------------------------------\n",
      "BRONCHIECTASIS    0.0\n",
      "Symptoms onset       \n",
      "Early Presenters  1.0\n",
      "Late Presenters   1.0\n",
      "All               1.0\n",
      "-------------------------------------------------\n",
      "Empty DataFrame\n",
      "Columns: []\n",
      "Index: [Early Presenters, Late Presenters, All]\n",
      "-------------------------------------------------\n",
      "==============================\n",
      "******************************\n",
      "HYPERTENSION\n",
      "******************************\n",
      "HYPERTENSION      0.0  1.0  All\n",
      "Symptoms onset                 \n",
      "Early Presenters  169  180  349\n",
      "Late Presenters    67   44  111\n",
      "All               316  333  649\n",
      "-------------------------------------------------\n",
      "-------------------------------------------------\n",
      "HYPERTENSION      1.0\n",
      "Symptoms onset       \n",
      "Early Presenters  180\n",
      "Late Presenters    44\n",
      "-------------------------------------------------\n",
      "---- Fractions within Group ---------------------------------------------\n",
      "-------------------------------------------------\n",
      "HYPERTENSION           0.0       1.0\n",
      "Symptoms onset                      \n",
      "Early Presenters  0.484241  0.515759\n",
      "Late Presenters   0.603604  0.396396\n",
      "All               0.486903  0.513097\n",
      "-------------------------------------------------\n",
      "HYPERTENSION           1.0\n",
      "Symptoms onset            \n",
      "Early Presenters  0.515759\n",
      "Late Presenters   0.396396\n",
      "All               0.513097\n",
      "-------------------------------------------------\n",
      "==============================\n",
      "******************************\n",
      "THROMBOEMBOLIC\n",
      "******************************\n",
      "THROMBOEMBOLIC    0.0  1.0  All\n",
      "Symptoms onset                 \n",
      "Early Presenters  347    2  349\n",
      "Late Presenters   111    0  111\n",
      "All               645    4  649\n",
      "-------------------------------------------------\n",
      "-------------------------------------------------\n",
      "THROMBOEMBOLIC    1.0\n",
      "Symptoms onset       \n",
      "Early Presenters    2\n",
      "Late Presenters     0\n",
      "-------------------------------------------------\n",
      "---- Fractions within Group ---------------------------------------------\n",
      "-------------------------------------------------\n",
      "THROMBOEMBOLIC         0.0       1.0\n",
      "Symptoms onset                      \n",
      "Early Presenters  0.994269  0.005731\n",
      "Late Presenters   1.000000  0.000000\n",
      "All               0.993837  0.006163\n",
      "-------------------------------------------------\n",
      "THROMBOEMBOLIC         1.0\n",
      "Symptoms onset            \n",
      "Early Presenters  0.005731\n",
      "Late Presenters   0.000000\n",
      "All               0.006163\n",
      "-------------------------------------------------\n",
      "==============================\n",
      "******************************\n",
      "CARDIAC_D\n",
      "******************************\n",
      "CARDIAC_D         0.0  1.0  All\n",
      "Symptoms onset                 \n",
      "Early Presenters  241  108  349\n",
      "Late Presenters    85   26  111\n",
      "All               449  200  649\n",
      "-------------------------------------------------\n",
      "-------------------------------------------------\n",
      "CARDIAC_D         1.0\n",
      "Symptoms onset       \n",
      "Early Presenters  108\n",
      "Late Presenters    26\n",
      "-------------------------------------------------\n",
      "---- Fractions within Group ---------------------------------------------\n",
      "-------------------------------------------------\n",
      "CARDIAC_D              0.0       1.0\n",
      "Symptoms onset                      \n",
      "Early Presenters  0.690544  0.309456\n",
      "Late Presenters   0.765766  0.234234\n",
      "All               0.691834  0.308166\n",
      "-------------------------------------------------\n",
      "CARDIAC_D              1.0\n",
      "Symptoms onset            \n",
      "Early Presenters  0.309456\n",
      "Late Presenters   0.234234\n",
      "All               0.308166\n",
      "-------------------------------------------------\n",
      "==============================\n",
      "******************************\n",
      "RENAL_D\n",
      "******************************\n",
      "RENAL_D           0.0  1.0  All\n",
      "Symptoms onset                 \n",
      "Early Presenters  240  109  349\n",
      "Late Presenters    94   17  111\n",
      "All               463  186  649\n",
      "-------------------------------------------------\n",
      "-------------------------------------------------\n",
      "RENAL_D           1.0\n",
      "Symptoms onset       \n",
      "Early Presenters  109\n",
      "Late Presenters    17\n",
      "-------------------------------------------------\n",
      "---- Fractions within Group ---------------------------------------------\n",
      "-------------------------------------------------\n",
      "RENAL_D                0.0       1.0\n",
      "Symptoms onset                      \n",
      "Early Presenters  0.687679  0.312321\n",
      "Late Presenters   0.846847  0.153153\n",
      "All               0.713405  0.286595\n",
      "-------------------------------------------------\n",
      "RENAL_D                1.0\n",
      "Symptoms onset            \n",
      "Early Presenters  0.312321\n",
      "Late Presenters   0.153153\n",
      "All               0.286595\n",
      "-------------------------------------------------\n",
      "==============================\n",
      "******************************\n",
      "LIVER_D\n",
      "******************************\n",
      "LIVER_D           0.0  1.0  All\n",
      "Symptoms onset                 \n",
      "Early Presenters  316   33  349\n",
      "Late Presenters   103    8  111\n",
      "All               595   54  649\n",
      "-------------------------------------------------\n",
      "-------------------------------------------------\n",
      "LIVER_D           1.0\n",
      "Symptoms onset       \n",
      "Early Presenters   33\n",
      "Late Presenters     8\n",
      "-------------------------------------------------\n",
      "---- Fractions within Group ---------------------------------------------\n",
      "-------------------------------------------------\n",
      "LIVER_D                0.0       1.0\n",
      "Symptoms onset                      \n",
      "Early Presenters  0.905444  0.094556\n",
      "Late Presenters   0.927928  0.072072\n",
      "All               0.916795  0.083205\n",
      "-------------------------------------------------\n",
      "LIVER_D                1.0\n",
      "Symptoms onset            \n",
      "Early Presenters  0.094556\n",
      "Late Presenters   0.072072\n",
      "All               0.083205\n",
      "-------------------------------------------------\n",
      "==============================\n",
      "******************************\n",
      "NEURAL_D\n",
      "******************************\n",
      "NEURAL_D          0.0  1.0  All\n",
      "Symptoms onset                 \n",
      "Early Presenters  239  110  349\n",
      "Late Presenters   100   11  111\n",
      "All               450  199  649\n",
      "-------------------------------------------------\n",
      "-------------------------------------------------\n",
      "NEURAL_D          1.0\n",
      "Symptoms onset       \n",
      "Early Presenters  110\n",
      "Late Presenters    11\n",
      "-------------------------------------------------\n",
      "---- Fractions within Group ---------------------------------------------\n",
      "-------------------------------------------------\n",
      "NEURAL_D               0.0       1.0\n",
      "Symptoms onset                      \n",
      "Early Presenters  0.684814  0.315186\n",
      "Late Presenters   0.900901  0.099099\n",
      "All               0.693374  0.306626\n",
      "-------------------------------------------------\n",
      "NEURAL_D               1.0\n",
      "Symptoms onset            \n",
      "Early Presenters  0.315186\n",
      "Late Presenters   0.099099\n",
      "All               0.306626\n",
      "-------------------------------------------------\n",
      "==============================\n",
      "******************************\n",
      "META_SOLID_TUMOUR\n",
      "******************************\n",
      "META_SOLID_TUMOUR  0.0  1.0  All\n",
      "Symptoms onset                  \n",
      "Early Presenters   332   17  349\n",
      "Late Presenters    107    4  111\n",
      "All                612   37  649\n",
      "-------------------------------------------------\n",
      "-------------------------------------------------\n",
      "META_SOLID_TUMOUR  1.0\n",
      "Symptoms onset        \n",
      "Early Presenters    17\n",
      "Late Presenters      4\n",
      "-------------------------------------------------\n",
      "---- Fractions within Group ---------------------------------------------\n",
      "-------------------------------------------------\n",
      "META_SOLID_TUMOUR       0.0       1.0\n",
      "Symptoms onset                       \n",
      "Early Presenters   0.951289  0.048711\n",
      "Late Presenters    0.963964  0.036036\n",
      "All                0.942989  0.057011\n",
      "-------------------------------------------------\n",
      "META_SOLID_TUMOUR       1.0\n",
      "Symptoms onset             \n",
      "Early Presenters   0.048711\n",
      "Late Presenters    0.036036\n",
      "All                0.057011\n",
      "-------------------------------------------------\n",
      "==============================\n",
      "******************************\n",
      "MAGLINANT_NEO\n",
      "******************************\n",
      "MAGLINANT_NEO     0.0  1.0  All\n",
      "Symptoms onset                 \n",
      "Early Presenters  292   57  349\n",
      "Late Presenters   100   11  111\n",
      "All               542  107  649\n",
      "-------------------------------------------------\n",
      "-------------------------------------------------\n",
      "MAGLINANT_NEO     1.0\n",
      "Symptoms onset       \n",
      "Early Presenters   57\n",
      "Late Presenters    11\n",
      "-------------------------------------------------\n",
      "---- Fractions within Group ---------------------------------------------\n",
      "-------------------------------------------------\n",
      "MAGLINANT_NEO          0.0       1.0\n",
      "Symptoms onset                      \n",
      "Early Presenters  0.836676  0.163324\n",
      "Late Presenters   0.900901  0.099099\n",
      "All               0.835131  0.164869\n",
      "-------------------------------------------------\n",
      "MAGLINANT_NEO          1.0\n",
      "Symptoms onset            \n",
      "Early Presenters  0.163324\n",
      "Late Presenters   0.099099\n",
      "All               0.164869\n",
      "-------------------------------------------------\n",
      "==============================\n",
      "******************************\n",
      "DIABETES\n",
      "******************************\n",
      "DIABETES          0.0  1.0  All\n",
      "Symptoms onset                 \n",
      "Early Presenters  253   96  349\n",
      "Late Presenters    84   27  111\n",
      "All               468  181  649\n",
      "-------------------------------------------------\n",
      "-------------------------------------------------\n",
      "DIABETES          1.0\n",
      "Symptoms onset       \n",
      "Early Presenters   96\n",
      "Late Presenters    27\n",
      "-------------------------------------------------\n",
      "---- Fractions within Group ---------------------------------------------\n",
      "-------------------------------------------------\n",
      "DIABETES               0.0       1.0\n",
      "Symptoms onset                      \n",
      "Early Presenters  0.724928  0.275072\n",
      "Late Presenters   0.756757  0.243243\n",
      "All               0.721109  0.278891\n",
      "-------------------------------------------------\n",
      "DIABETES               1.0\n",
      "Symptoms onset            \n",
      "Early Presenters  0.275072\n",
      "Late Presenters   0.243243\n",
      "All               0.278891\n",
      "-------------------------------------------------\n",
      "==============================\n",
      "******************************\n",
      "OBESITY\n",
      "******************************\n",
      "OBESITY           0.0  1.0  All\n",
      "Symptoms onset                 \n",
      "Early Presenters  246  103  349\n",
      "Late Presenters    76   35  111\n",
      "All               476  173  649\n",
      "-------------------------------------------------\n",
      "-------------------------------------------------\n",
      "OBESITY           1.0\n",
      "Symptoms onset       \n",
      "Early Presenters  103\n",
      "Late Presenters    35\n",
      "-------------------------------------------------\n",
      "---- Fractions within Group ---------------------------------------------\n",
      "-------------------------------------------------\n",
      "OBESITY                0.0       1.0\n",
      "Symptoms onset                      \n",
      "Early Presenters  0.704871  0.295129\n",
      "Late Presenters   0.684685  0.315315\n",
      "All               0.733436  0.266564\n",
      "-------------------------------------------------\n",
      "OBESITY                1.0\n",
      "Symptoms onset            \n",
      "Early Presenters  0.295129\n",
      "Late Presenters   0.315315\n",
      "All               0.266564\n",
      "-------------------------------------------------\n",
      "==============================\n",
      "******************************\n",
      "HIV\n",
      "******************************\n",
      "HIV               0.0  1.0  All\n",
      "Symptoms onset                 \n",
      "Early Presenters  346    3  349\n",
      "Late Presenters   110    1  111\n",
      "All               645    4  649\n",
      "-------------------------------------------------\n",
      "-------------------------------------------------\n",
      "HIV               1.0\n",
      "Symptoms onset       \n",
      "Early Presenters    3\n",
      "Late Presenters     1\n",
      "-------------------------------------------------\n",
      "---- Fractions within Group ---------------------------------------------\n",
      "-------------------------------------------------\n",
      "HIV                    0.0       1.0\n",
      "Symptoms onset                      \n",
      "Early Presenters  0.991404  0.008596\n",
      "Late Presenters   0.990991  0.009009\n",
      "All               0.993837  0.006163\n",
      "-------------------------------------------------\n",
      "HIV                    1.0\n",
      "Symptoms onset            \n",
      "Early Presenters  0.008596\n",
      "Late Presenters   0.009009\n",
      "All               0.006163\n",
      "-------------------------------------------------\n",
      "==============================\n",
      "******************************\n",
      "RHEUMATO_D\n",
      "******************************\n",
      "RHEUMATO_D        0.0  1.0  All\n",
      "Symptoms onset                 \n",
      "Early Presenters  323   26  349\n",
      "Late Presenters   106    5  111\n",
      "All               604   45  649\n",
      "-------------------------------------------------\n",
      "-------------------------------------------------\n",
      "RHEUMATO_D        1.0\n",
      "Symptoms onset       \n",
      "Early Presenters   26\n",
      "Late Presenters     5\n",
      "-------------------------------------------------\n",
      "---- Fractions within Group ---------------------------------------------\n",
      "-------------------------------------------------\n",
      "RHEUMATO_D             0.0       1.0\n",
      "Symptoms onset                      \n",
      "Early Presenters  0.925501  0.074499\n",
      "Late Presenters   0.954955  0.045045\n",
      "All               0.930663  0.069337\n",
      "-------------------------------------------------\n",
      "RHEUMATO_D             1.0\n",
      "Symptoms onset            \n",
      "Early Presenters  0.074499\n",
      "Late Presenters   0.045045\n",
      "All               0.069337\n",
      "-------------------------------------------------\n",
      "==============================\n",
      "******************************\n",
      "DIMENTIA\n",
      "******************************\n",
      "DIMENTIA          0.0  1.0  All\n",
      "Symptoms onset                 \n",
      "Early Presenters  329   20  349\n",
      "Late Presenters   109    2  111\n",
      "All               616   33  649\n",
      "-------------------------------------------------\n",
      "-------------------------------------------------\n",
      "DIMENTIA          1.0\n",
      "Symptoms onset       \n",
      "Early Presenters   20\n",
      "Late Presenters     2\n",
      "-------------------------------------------------\n",
      "---- Fractions within Group ---------------------------------------------\n",
      "-------------------------------------------------\n",
      "DIMENTIA               0.0       1.0\n",
      "Symptoms onset                      \n",
      "Early Presenters  0.942693  0.057307\n",
      "Late Presenters   0.981982  0.018018\n",
      "All               0.949153  0.050847\n",
      "-------------------------------------------------\n",
      "DIMENTIA               1.0\n",
      "Symptoms onset            \n",
      "Early Presenters  0.057307\n",
      "Late Presenters   0.018018\n",
      "All               0.050847\n",
      "-------------------------------------------------\n",
      "==============================\n",
      "******************************\n",
      "IMMUNO\n",
      "******************************\n",
      "IMMUNO            0.0  1.0  All\n",
      "Symptoms onset                 \n",
      "Early Presenters  343    6  349\n",
      "Late Presenters   111    0  111\n",
      "All               635   14  649\n",
      "-------------------------------------------------\n",
      "-------------------------------------------------\n",
      "IMMUNO            1.0\n",
      "Symptoms onset       \n",
      "Early Presenters    6\n",
      "Late Presenters     0\n",
      "-------------------------------------------------\n",
      "---- Fractions within Group ---------------------------------------------\n",
      "-------------------------------------------------\n",
      "IMMUNO                 0.0       1.0\n",
      "Symptoms onset                      \n",
      "Early Presenters  0.982808  0.017192\n",
      "Late Presenters   1.000000  0.000000\n",
      "All               0.978428  0.021572\n",
      "-------------------------------------------------\n",
      "IMMUNO                 1.0\n",
      "Symptoms onset            \n",
      "Early Presenters  0.017192\n",
      "Late Presenters   0.000000\n",
      "All               0.021572\n",
      "-------------------------------------------------\n",
      "==============================\n",
      "******************************\n",
      "NB_COMOR\n",
      "******************************\n",
      "NB_COMOR          0.0  1.0  2.0  3.0  4.0  5.0  6.0  7.0  8.0  9.0  11.0  All\n",
      "Symptoms onset                                                               \n",
      "Early Presenters   53   53   59   63   44   31   24   16    5    0     1  349\n",
      "Late Presenters    21   25   28   18    6    7    6    0    0    0     0  111\n",
      "All                88  100  127  119   88   55   42   21    6    2     1  649\n",
      "-------------------------------------------------\n",
      "-------------------------------------------------\n",
      "NB_COMOR          1.0   2.0   3.0   4.0   5.0   6.0   7.0   8.0   9.0   11.0\n",
      "Symptoms onset                                                              \n",
      "Early Presenters    53    59    63    44    31    24    16     5     0     1\n",
      "Late Presenters     25    28    18     6     7     6     0     0     0     0\n",
      "-------------------------------------------------\n",
      "---- Fractions within Group ---------------------------------------------\n",
      "-------------------------------------------------\n",
      "NB_COMOR              0.0       1.0       2.0       3.0       4.0       5.0   \\\n",
      "Symptoms onset                                                                 \n",
      "Early Presenters  0.151862  0.151862  0.169054  0.180516  0.126074  0.088825   \n",
      "Late Presenters   0.189189  0.225225  0.252252  0.162162  0.054054  0.063063   \n",
      "All               0.135593  0.154083  0.195686  0.183359  0.135593  0.084746   \n",
      "\n",
      "NB_COMOR              6.0       7.0       8.0       9.0       11.0  \n",
      "Symptoms onset                                                      \n",
      "Early Presenters  0.068768  0.045845  0.014327  0.000000  0.002865  \n",
      "Late Presenters   0.054054  0.000000  0.000000  0.000000  0.000000  \n",
      "All               0.064715  0.032357  0.009245  0.003082  0.001541  \n",
      "-------------------------------------------------\n",
      "NB_COMOR              1.0       2.0       3.0       4.0       5.0       6.0   \\\n",
      "Symptoms onset                                                                 \n",
      "Early Presenters  0.151862  0.169054  0.180516  0.126074  0.088825  0.068768   \n",
      "Late Presenters   0.225225  0.252252  0.162162  0.054054  0.063063  0.054054   \n",
      "All               0.154083  0.195686  0.183359  0.135593  0.084746  0.064715   \n",
      "\n",
      "NB_COMOR              7.0       8.0       9.0       11.0  \n",
      "Symptoms onset                                            \n",
      "Early Presenters  0.045845  0.014327  0.000000  0.002865  \n",
      "Late Presenters   0.000000  0.000000  0.000000  0.000000  \n",
      "All               0.032357  0.009245  0.003082  0.001541  \n",
      "-------------------------------------------------\n",
      "==============================\n",
      "******************************\n",
      "British, mixed British\n",
      "******************************\n",
      "British, mixed British  False  True  All\n",
      "Symptoms onset                          \n",
      "Early Presenters           83   266  349\n",
      "Late Presenters            42    69  111\n",
      "All                       183   468  651\n",
      "-------------------------------------------------\n",
      "-------------------------------------------------\n",
      "British, mixed British  True\n",
      "Symptoms onset              \n",
      "Early Presenters         266\n",
      "Late Presenters           69\n",
      "-------------------------------------------------\n",
      "---- Fractions within Group ---------------------------------------------\n",
      "-------------------------------------------------\n",
      "British, mixed British     False     True \n",
      "Symptoms onset                            \n",
      "Early Presenters        0.237822  0.762178\n",
      "Late Presenters         0.378378  0.621622\n",
      "All                     0.281106  0.718894\n",
      "-------------------------------------------------\n",
      "British, mixed British      True\n",
      "Symptoms onset                  \n",
      "Early Presenters        0.762178\n",
      "Late Presenters         0.621622\n",
      "All                     0.718894\n",
      "-------------------------------------------------\n",
      "==============================\n"
     ]
    }
   ],
   "source": [
    "# Counts\n",
    "# 'BRONCHIECTASIS',\n",
    "#        'HYPERTENSION', 'THROMBOEMBOLIC', 'CARDIAC_D', 'RENAL_D', 'LIVER_D',\n",
    "#        'NEURAL_D', 'META_SOLID_TUMOUR', 'MAGLINANT_NEO', 'DIABETES', 'OBESITY',\n",
    "#        'HIV', 'RHEUMATO_D', 'DIMENTIA', 'IMMUNO', 'NB_COMOR',\n",
    "\n",
    "comordL=['ASTHMA', 'COPD','BRONCHIECTASIS',\n",
    "       'HYPERTENSION', 'THROMBOEMBOLIC', 'CARDIAC_D', 'RENAL_D', 'LIVER_D',\n",
    "       'NEURAL_D', 'META_SOLID_TUMOUR', 'MAGLINANT_NEO', 'DIABETES', 'OBESITY',\n",
    "       'HIV', 'RHEUMATO_D', 'DIMENTIA', 'IMMUNO', 'NB_COMOR','British, mixed British']\n",
    "\n",
    "for comord in comordL:\n",
    "    print('******************************')\n",
    "    print(f\"{comord}\")\n",
    "    print('******************************')\n",
    "    dfSelCTFreqColsNoMargin = pd.crosstab(dfSel['Symptoms onset'],dfSel[comord],margins=True)\n",
    "    dfSelCTFreqColsNoMargin.drop(['Hospital Equired','Unknown'],inplace=True)\n",
    "    print(dfSelCTFreqColsNoMargin)\n",
    "    print('-------------------------------------------------')\n",
    "    dfSelCTFreqColsNoMargin = pd.crosstab(dfSel['Symptoms onset'],dfSel[comord])\n",
    "    dfSelCTFreqColsNoMargin.drop(['Hospital Equired','Unknown'],inplace=True)\n",
    "    # print(dfSelCTFreqColsNoMargin)\n",
    "    dfSelCTFreqColsNoMargin.drop(0.0,axis=1,inplace=True)\n",
    "    print('-------------------------------------------------')\n",
    "    print(dfSelCTFreqColsNoMargin)\n",
    "    # dfSelCTFreqColsNoMargin\n",
    "    print('-------------------------------------------------')\n",
    "    print('---- Fractions within Group ---------------------------------------------')\n",
    "    print('-------------------------------------------------')\n",
    "    dfSelCTFreqColsNoMarginFracWIgrp = pd.crosstab(dfSel['Symptoms onset'],dfSel[comord], normalize='index',margins=True)\n",
    "    dfSelCTFreqColsNoMarginFracWIgrp.drop(['Hospital Equired','Unknown'],inplace=True)\n",
    "    print(dfSelCTFreqColsNoMarginFracWIgrp)\n",
    "    print('-------------------------------------------------')\n",
    "    dfSelCTFreqColsNoMarginFracWIgrp.drop(0.0,axis=1,inplace=True)\n",
    "    print(dfSelCTFreqColsNoMarginFracWIgrp)\n",
    "    print('-------------------------------------------------')\n",
    "    print('==============================')\n",
    "\n"
   ],
   "metadata": {
    "collapsed": false,
    "pycharm": {
     "name": "#%%\n"
    }
   }
  },
  {
   "cell_type": "code",
   "execution_count": null,
   "outputs": [],
   "source": [],
   "metadata": {
    "collapsed": false,
    "pycharm": {
     "name": "#%%\n"
    }
   }
  },
  {
   "cell_type": "code",
   "execution_count": 570,
   "outputs": [
    {
     "data": {
      "text/plain": "<bound method NDFrame.head of GENDER                   F         M\nSymptoms onset                      \nEarly Presenters  0.432665  0.567335\nHospital Equired  0.471545  0.528455\nLate Presenters   0.360360  0.639640>"
     },
     "execution_count": 570,
     "metadata": {},
     "output_type": "execute_result"
    }
   ],
   "source": [
    "dfSelCTFreqColsNoMargin.head()\n"
   ],
   "metadata": {
    "collapsed": false,
    "pycharm": {
     "name": "#%%\n"
    }
   }
  },
  {
   "cell_type": "markdown",
   "source": [
    "# Patient Age"
   ],
   "metadata": {
    "collapsed": false,
    "pycharm": {
     "name": "#%% md\n"
    }
   }
  },
  {
   "cell_type": "code",
   "execution_count": null,
   "outputs": [],
   "source": [],
   "metadata": {
    "collapsed": false,
    "pycharm": {
     "name": "#%%\n"
    }
   }
  },
  {
   "cell_type": "code",
   "execution_count": 522,
   "outputs": [
    {
     "data": {
      "text/plain": "Index(['STUDY_ID', 'ETHNIC_GROUP', 'Symptoms onset', 'Died_or_Survived_Str',\n       'Discharged_Readmitted_Died', 'NIV', 'PATIENT_AGE', 'GENDER', 'ASTHMA',\n       'COPD', 'BRONCHIECTASIS', 'HYPERTENSION', 'THROMBOEMBOLIC', 'CARDIAC_D',\n       'RENAL_D', 'LIVER_D', 'NEURAL_D', 'META_SOLID_TUMOUR', 'MAGLINANT_NEO',\n       'DIABETES', 'OBESITY', 'HIV', 'RHEUMATO_D', 'DIMENTIA', 'IMMUNO',\n       'NB_COMOR', 'British, mixed British'],\n      dtype='object')"
     },
     "execution_count": 522,
     "metadata": {},
     "output_type": "execute_result"
    }
   ],
   "source": [
    "dfSel.columns"
   ],
   "metadata": {
    "collapsed": false,
    "pycharm": {
     "name": "#%%\n"
    }
   }
  },
  {
   "cell_type": "code",
   "execution_count": 523,
   "outputs": [
    {
     "data": {
      "text/plain": "             STUDY_ID ETHNIC_GROUP    Symptoms onset Died_or_Survived_Str  \\\n0   UHSCOVID_00989a42            A  Early Presenters             Survived   \n8   UHSCOVID_00ac1e32            A  Hospital Equired             Survived   \n51  UHSCOVID_00cb7bdd            A  Early Presenters                 Died   \n54  UHSCOVID_01add35c            A  Early Presenters                 Died   \n57  UHSCOVID_01f7838d            A  Hospital Equired             Survived   \n\n   Discharged_Readmitted_Died  NIV  PATIENT_AGE GENDER  ASTHMA  COPD  ...  \\\n0                  Discharged  0.0         64.0      M     1.0   1.0  ...   \n8                  Discharged  1.0         73.0      M     0.0   0.0  ...   \n51                       Died  1.0         76.0      F     1.0   0.0  ...   \n54                       Died  0.0         67.0      F     0.0   0.0  ...   \n57                 Discharged  0.0         97.0      M     0.0   0.0  ...   \n\n    META_SOLID_TUMOUR  MAGLINANT_NEO  DIABETES  OBESITY  HIV  RHEUMATO_D  \\\n0                 0.0            0.0       1.0      1.0  0.0         0.0   \n8                 0.0            0.0       0.0      0.0  0.0         0.0   \n51                1.0            1.0       1.0      0.0  0.0         0.0   \n54                0.0            0.0       0.0      0.0  0.0         0.0   \n57                0.0            1.0       1.0      0.0  0.0         0.0   \n\n    DIMENTIA  IMMUNO  NB_COMOR  British, mixed British  \n0        0.0     0.0       4.0                    True  \n8        0.0     0.0       1.0                    True  \n51       0.0     0.0       5.0                    True  \n54       0.0     0.0       1.0                    True  \n57       0.0     0.0       5.0                    True  \n\n[5 rows x 27 columns]",
      "text/html": "<div>\n<style scoped>\n    .dataframe tbody tr th:only-of-type {\n        vertical-align: middle;\n    }\n\n    .dataframe tbody tr th {\n        vertical-align: top;\n    }\n\n    .dataframe thead th {\n        text-align: right;\n    }\n</style>\n<table border=\"1\" class=\"dataframe\">\n  <thead>\n    <tr style=\"text-align: right;\">\n      <th></th>\n      <th>STUDY_ID</th>\n      <th>ETHNIC_GROUP</th>\n      <th>Symptoms onset</th>\n      <th>Died_or_Survived_Str</th>\n      <th>Discharged_Readmitted_Died</th>\n      <th>NIV</th>\n      <th>PATIENT_AGE</th>\n      <th>GENDER</th>\n      <th>ASTHMA</th>\n      <th>COPD</th>\n      <th>...</th>\n      <th>META_SOLID_TUMOUR</th>\n      <th>MAGLINANT_NEO</th>\n      <th>DIABETES</th>\n      <th>OBESITY</th>\n      <th>HIV</th>\n      <th>RHEUMATO_D</th>\n      <th>DIMENTIA</th>\n      <th>IMMUNO</th>\n      <th>NB_COMOR</th>\n      <th>British, mixed British</th>\n    </tr>\n  </thead>\n  <tbody>\n    <tr>\n      <th>0</th>\n      <td>UHSCOVID_00989a42</td>\n      <td>A</td>\n      <td>Early Presenters</td>\n      <td>Survived</td>\n      <td>Discharged</td>\n      <td>0.0</td>\n      <td>64.0</td>\n      <td>M</td>\n      <td>1.0</td>\n      <td>1.0</td>\n      <td>...</td>\n      <td>0.0</td>\n      <td>0.0</td>\n      <td>1.0</td>\n      <td>1.0</td>\n      <td>0.0</td>\n      <td>0.0</td>\n      <td>0.0</td>\n      <td>0.0</td>\n      <td>4.0</td>\n      <td>True</td>\n    </tr>\n    <tr>\n      <th>8</th>\n      <td>UHSCOVID_00ac1e32</td>\n      <td>A</td>\n      <td>Hospital Equired</td>\n      <td>Survived</td>\n      <td>Discharged</td>\n      <td>1.0</td>\n      <td>73.0</td>\n      <td>M</td>\n      <td>0.0</td>\n      <td>0.0</td>\n      <td>...</td>\n      <td>0.0</td>\n      <td>0.0</td>\n      <td>0.0</td>\n      <td>0.0</td>\n      <td>0.0</td>\n      <td>0.0</td>\n      <td>0.0</td>\n      <td>0.0</td>\n      <td>1.0</td>\n      <td>True</td>\n    </tr>\n    <tr>\n      <th>51</th>\n      <td>UHSCOVID_00cb7bdd</td>\n      <td>A</td>\n      <td>Early Presenters</td>\n      <td>Died</td>\n      <td>Died</td>\n      <td>1.0</td>\n      <td>76.0</td>\n      <td>F</td>\n      <td>1.0</td>\n      <td>0.0</td>\n      <td>...</td>\n      <td>1.0</td>\n      <td>1.0</td>\n      <td>1.0</td>\n      <td>0.0</td>\n      <td>0.0</td>\n      <td>0.0</td>\n      <td>0.0</td>\n      <td>0.0</td>\n      <td>5.0</td>\n      <td>True</td>\n    </tr>\n    <tr>\n      <th>54</th>\n      <td>UHSCOVID_01add35c</td>\n      <td>A</td>\n      <td>Early Presenters</td>\n      <td>Died</td>\n      <td>Died</td>\n      <td>0.0</td>\n      <td>67.0</td>\n      <td>F</td>\n      <td>0.0</td>\n      <td>0.0</td>\n      <td>...</td>\n      <td>0.0</td>\n      <td>0.0</td>\n      <td>0.0</td>\n      <td>0.0</td>\n      <td>0.0</td>\n      <td>0.0</td>\n      <td>0.0</td>\n      <td>0.0</td>\n      <td>1.0</td>\n      <td>True</td>\n    </tr>\n    <tr>\n      <th>57</th>\n      <td>UHSCOVID_01f7838d</td>\n      <td>A</td>\n      <td>Hospital Equired</td>\n      <td>Survived</td>\n      <td>Discharged</td>\n      <td>0.0</td>\n      <td>97.0</td>\n      <td>M</td>\n      <td>0.0</td>\n      <td>0.0</td>\n      <td>...</td>\n      <td>0.0</td>\n      <td>1.0</td>\n      <td>1.0</td>\n      <td>0.0</td>\n      <td>0.0</td>\n      <td>0.0</td>\n      <td>0.0</td>\n      <td>0.0</td>\n      <td>5.0</td>\n      <td>True</td>\n    </tr>\n  </tbody>\n</table>\n<p>5 rows × 27 columns</p>\n</div>"
     },
     "execution_count": 523,
     "metadata": {},
     "output_type": "execute_result"
    }
   ],
   "source": [
    "dfSel.head()"
   ],
   "metadata": {
    "collapsed": false,
    "pycharm": {
     "name": "#%%\n"
    }
   }
  },
  {
   "cell_type": "code",
   "execution_count": 524,
   "outputs": [
    {
     "name": "stderr",
     "output_type": "stream",
     "text": [
      "C:\\ANACONDA3\\envs\\dECMT\\lib\\site-packages\\pandas\\core\\frame.py:4304: SettingWithCopyWarning: \n",
      "A value is trying to be set on a copy of a slice from a DataFrame\n",
      "\n",
      "See the caveats in the documentation: https://pandas.pydata.org/pandas-docs/stable/user_guide/indexing.html#returning-a-view-versus-a-copy\n",
      "  errors=errors,\n"
     ]
    },
    {
     "data": {
      "text/plain": "             STUDY_ID ETHNIC_GROUP    Symptoms onset Died_or_Survived_Str  \\\n0   UHSCOVID_00989a42            A  Early Presenters             Survived   \n8   UHSCOVID_00ac1e32            A  Hospital Equired             Survived   \n51  UHSCOVID_00cb7bdd            A  Early Presenters                 Died   \n54  UHSCOVID_01add35c            A  Early Presenters                 Died   \n57  UHSCOVID_01f7838d            A  Hospital Equired             Survived   \n\n   Discharged_Readmitted_Died  NIV  PATIENT_AGE GENDER  ASTHMA  COPD  ...  \\\n0                  Discharged  0.0         64.0      M     1.0   1.0  ...   \n8                  Discharged  1.0         73.0      M     0.0   0.0  ...   \n51                       Died  1.0         76.0      F     1.0   0.0  ...   \n54                       Died  0.0         67.0      F     0.0   0.0  ...   \n57                 Discharged  0.0         97.0      M     0.0   0.0  ...   \n\n    META_SOLID_TUMOUR  MAGLINANT_NEO  DIABETES  OBESITY  HIV  RHEUMATO_D  \\\n0                 0.0            0.0       1.0      1.0  0.0         0.0   \n8                 0.0            0.0       0.0      0.0  0.0         0.0   \n51                1.0            1.0       1.0      0.0  0.0         0.0   \n54                0.0            0.0       0.0      0.0  0.0         0.0   \n57                0.0            1.0       1.0      0.0  0.0         0.0   \n\n    DIMENTIA  IMMUNO  NB_COMOR  British, mixed British  \n0        0.0     0.0       4.0                    True  \n8        0.0     0.0       1.0                    True  \n51       0.0     0.0       5.0                    True  \n54       0.0     0.0       1.0                    True  \n57       0.0     0.0       5.0                    True  \n\n[5 rows x 27 columns]",
      "text/html": "<div>\n<style scoped>\n    .dataframe tbody tr th:only-of-type {\n        vertical-align: middle;\n    }\n\n    .dataframe tbody tr th {\n        vertical-align: top;\n    }\n\n    .dataframe thead th {\n        text-align: right;\n    }\n</style>\n<table border=\"1\" class=\"dataframe\">\n  <thead>\n    <tr style=\"text-align: right;\">\n      <th></th>\n      <th>STUDY_ID</th>\n      <th>ETHNIC_GROUP</th>\n      <th>Symptoms onset</th>\n      <th>Died_or_Survived_Str</th>\n      <th>Discharged_Readmitted_Died</th>\n      <th>NIV</th>\n      <th>PATIENT_AGE</th>\n      <th>GENDER</th>\n      <th>ASTHMA</th>\n      <th>COPD</th>\n      <th>...</th>\n      <th>META_SOLID_TUMOUR</th>\n      <th>MAGLINANT_NEO</th>\n      <th>DIABETES</th>\n      <th>OBESITY</th>\n      <th>HIV</th>\n      <th>RHEUMATO_D</th>\n      <th>DIMENTIA</th>\n      <th>IMMUNO</th>\n      <th>NB_COMOR</th>\n      <th>British, mixed British</th>\n    </tr>\n  </thead>\n  <tbody>\n    <tr>\n      <th>0</th>\n      <td>UHSCOVID_00989a42</td>\n      <td>A</td>\n      <td>Early Presenters</td>\n      <td>Survived</td>\n      <td>Discharged</td>\n      <td>0.0</td>\n      <td>64.0</td>\n      <td>M</td>\n      <td>1.0</td>\n      <td>1.0</td>\n      <td>...</td>\n      <td>0.0</td>\n      <td>0.0</td>\n      <td>1.0</td>\n      <td>1.0</td>\n      <td>0.0</td>\n      <td>0.0</td>\n      <td>0.0</td>\n      <td>0.0</td>\n      <td>4.0</td>\n      <td>True</td>\n    </tr>\n    <tr>\n      <th>8</th>\n      <td>UHSCOVID_00ac1e32</td>\n      <td>A</td>\n      <td>Hospital Equired</td>\n      <td>Survived</td>\n      <td>Discharged</td>\n      <td>1.0</td>\n      <td>73.0</td>\n      <td>M</td>\n      <td>0.0</td>\n      <td>0.0</td>\n      <td>...</td>\n      <td>0.0</td>\n      <td>0.0</td>\n      <td>0.0</td>\n      <td>0.0</td>\n      <td>0.0</td>\n      <td>0.0</td>\n      <td>0.0</td>\n      <td>0.0</td>\n      <td>1.0</td>\n      <td>True</td>\n    </tr>\n    <tr>\n      <th>51</th>\n      <td>UHSCOVID_00cb7bdd</td>\n      <td>A</td>\n      <td>Early Presenters</td>\n      <td>Died</td>\n      <td>Died</td>\n      <td>1.0</td>\n      <td>76.0</td>\n      <td>F</td>\n      <td>1.0</td>\n      <td>0.0</td>\n      <td>...</td>\n      <td>1.0</td>\n      <td>1.0</td>\n      <td>1.0</td>\n      <td>0.0</td>\n      <td>0.0</td>\n      <td>0.0</td>\n      <td>0.0</td>\n      <td>0.0</td>\n      <td>5.0</td>\n      <td>True</td>\n    </tr>\n    <tr>\n      <th>54</th>\n      <td>UHSCOVID_01add35c</td>\n      <td>A</td>\n      <td>Early Presenters</td>\n      <td>Died</td>\n      <td>Died</td>\n      <td>0.0</td>\n      <td>67.0</td>\n      <td>F</td>\n      <td>0.0</td>\n      <td>0.0</td>\n      <td>...</td>\n      <td>0.0</td>\n      <td>0.0</td>\n      <td>0.0</td>\n      <td>0.0</td>\n      <td>0.0</td>\n      <td>0.0</td>\n      <td>0.0</td>\n      <td>0.0</td>\n      <td>1.0</td>\n      <td>True</td>\n    </tr>\n    <tr>\n      <th>57</th>\n      <td>UHSCOVID_01f7838d</td>\n      <td>A</td>\n      <td>Hospital Equired</td>\n      <td>Survived</td>\n      <td>Discharged</td>\n      <td>0.0</td>\n      <td>97.0</td>\n      <td>M</td>\n      <td>0.0</td>\n      <td>0.0</td>\n      <td>...</td>\n      <td>0.0</td>\n      <td>1.0</td>\n      <td>1.0</td>\n      <td>0.0</td>\n      <td>0.0</td>\n      <td>0.0</td>\n      <td>0.0</td>\n      <td>0.0</td>\n      <td>5.0</td>\n      <td>True</td>\n    </tr>\n  </tbody>\n</table>\n<p>5 rows × 27 columns</p>\n</div>"
     },
     "execution_count": 524,
     "metadata": {},
     "output_type": "execute_result"
    }
   ],
   "source": [
    "dfSel.rename(columns={ 'Onset Time Str':'Symptoms onset'}, inplace=True)\n",
    "dfSel.head()"
   ],
   "metadata": {
    "collapsed": false,
    "pycharm": {
     "name": "#%%\n"
    }
   }
  },
  {
   "cell_type": "code",
   "execution_count": 525,
   "outputs": [
    {
     "data": {
      "text/plain": "Index(['STUDY_ID', 'ETHNIC_GROUP', 'Symptoms onset', 'Died_or_Survived_Str',\n       'Discharged_Readmitted_Died', 'NIV', 'PATIENT_AGE', 'GENDER', 'ASTHMA',\n       'COPD', 'BRONCHIECTASIS', 'HYPERTENSION', 'THROMBOEMBOLIC', 'CARDIAC_D',\n       'RENAL_D', 'LIVER_D', 'NEURAL_D', 'META_SOLID_TUMOUR', 'MAGLINANT_NEO',\n       'DIABETES', 'OBESITY', 'HIV', 'RHEUMATO_D', 'DIMENTIA', 'IMMUNO',\n       'NB_COMOR', 'British, mixed British'],\n      dtype='object')"
     },
     "execution_count": 525,
     "metadata": {},
     "output_type": "execute_result"
    }
   ],
   "source": [
    "dfSel.columns"
   ],
   "metadata": {
    "collapsed": false,
    "pycharm": {
     "name": "#%%\n"
    }
   }
  },
  {
   "cell_type": "code",
   "execution_count": 526,
   "outputs": [
    {
     "data": {
      "text/plain": "array(['Early Presenters', 'Hospital Equired', 'Late Presenters',\n       'Unknown'], dtype=object)"
     },
     "execution_count": 526,
     "metadata": {},
     "output_type": "execute_result"
    }
   ],
   "source": [
    "dfSel['Symptoms onset'].unique()"
   ],
   "metadata": {
    "collapsed": false,
    "pycharm": {
     "name": "#%%\n"
    }
   }
  },
  {
   "cell_type": "code",
   "execution_count": 527,
   "outputs": [
    {
     "data": {
      "text/plain": "Early Presenters    349\nHospital Equired    123\nLate Presenters     111\nUnknown              68\nName: Symptoms onset, dtype: int64"
     },
     "execution_count": 527,
     "metadata": {},
     "output_type": "execute_result"
    }
   ],
   "source": [
    "dfSel['Symptoms onset'].value_counts()"
   ],
   "metadata": {
    "collapsed": false,
    "pycharm": {
     "name": "#%%\n"
    }
   }
  },
  {
   "cell_type": "code",
   "execution_count": 528,
   "outputs": [
    {
     "data": {
      "text/plain": "651"
     },
     "execution_count": 528,
     "metadata": {},
     "output_type": "execute_result"
    }
   ],
   "source": [
    "dfSel['Symptoms onset'].value_counts().sum()"
   ],
   "metadata": {
    "collapsed": false,
    "pycharm": {
     "name": "#%%\n"
    }
   }
  },
  {
   "cell_type": "markdown",
   "source": [
    "## Boxplot - Patient Age"
   ],
   "metadata": {
    "collapsed": false,
    "pycharm": {
     "name": "#%% md\n"
    }
   }
  },
  {
   "cell_type": "code",
   "execution_count": 529,
   "outputs": [
    {
     "data": {
      "text/plain": "<AxesSubplot:xlabel='PATIENT_AGE', ylabel='Symptoms onset'>"
     },
     "execution_count": 529,
     "metadata": {},
     "output_type": "execute_result"
    },
    {
     "data": {
      "text/plain": "<Figure size 432x288 with 1 Axes>",
      "image/png": "[encoded data removed]"
     },
     "metadata": {
      "needs_background": "light"
     },
     "output_type": "display_data"
    }
   ],
   "source": [
    "dfSelNoUnknownHospitals = dfSel.drop(dfSel[(dfSel['Symptoms onset']==\"Unknown\") ].index)\n",
    "dfSelNoUnknownHospitals = dfSelNoUnknownHospitals.drop(dfSelNoUnknownHospitals[(dfSelNoUnknownHospitals['Symptoms onset']== \"Hospital Equired\")].index)\n",
    "sns.boxplot(data=dfSelNoUnknownHospitals, y='Symptoms onset',x=\"PATIENT_AGE\")"
   ],
   "metadata": {
    "collapsed": false,
    "pycharm": {
     "name": "#%%\n"
    }
   }
  },
  {
   "cell_type": "markdown",
   "source": [
    "## Average Age"
   ],
   "metadata": {
    "collapsed": false,
    "pycharm": {
     "name": "#%% md\n"
    }
   }
  },
  {
   "cell_type": "code",
   "execution_count": 529,
   "outputs": [],
   "source": [],
   "metadata": {
    "collapsed": false,
    "pycharm": {
     "name": "#%%\n"
    }
   }
  },
  {
   "cell_type": "code",
   "execution_count": 530,
   "outputs": [
    {
     "data": {
      "text/plain": "     Symptoms onset   Age_Mean    Age_STD\n0  Early Presenters  67.183381  20.798311\n1  Hospital Equired  74.130081  17.910048\n2   Late Presenters  61.243243  16.117306\n3           Unknown  68.294118  19.433053",
      "text/html": "<div>\n<style scoped>\n    .dataframe tbody tr th:only-of-type {\n        vertical-align: middle;\n    }\n\n    .dataframe tbody tr th {\n        vertical-align: top;\n    }\n\n    .dataframe thead th {\n        text-align: right;\n    }\n</style>\n<table border=\"1\" class=\"dataframe\">\n  <thead>\n    <tr style=\"text-align: right;\">\n      <th></th>\n      <th>Symptoms onset</th>\n      <th>Age_Mean</th>\n      <th>Age_STD</th>\n    </tr>\n  </thead>\n  <tbody>\n    <tr>\n      <th>0</th>\n      <td>Early Presenters</td>\n      <td>67.183381</td>\n      <td>20.798311</td>\n    </tr>\n    <tr>\n      <th>1</th>\n      <td>Hospital Equired</td>\n      <td>74.130081</td>\n      <td>17.910048</td>\n    </tr>\n    <tr>\n      <th>2</th>\n      <td>Late Presenters</td>\n      <td>61.243243</td>\n      <td>16.117306</td>\n    </tr>\n    <tr>\n      <th>3</th>\n      <td>Unknown</td>\n      <td>68.294118</td>\n      <td>19.433053</td>\n    </tr>\n  </tbody>\n</table>\n</div>"
     },
     "execution_count": 530,
     "metadata": {},
     "output_type": "execute_result"
    }
   ],
   "source": [
    "dfSelAge = dfSel.groupby('Symptoms onset').agg(Age_Mean = ('PATIENT_AGE','mean'), Age_STD = ('PATIENT_AGE','std')).reset_index()\n",
    "dfSelAge"
   ],
   "metadata": {
    "collapsed": false,
    "pycharm": {
     "name": "#%%\n"
    }
   }
  },
  {
   "cell_type": "code",
   "execution_count": 531,
   "outputs": [
    {
     "data": {
      "text/plain": "67.59907834101382"
     },
     "execution_count": 531,
     "metadata": {},
     "output_type": "execute_result"
    }
   ],
   "source": [
    "dfSel['PATIENT_AGE'].sum()/len(dfSel['PATIENT_AGE'])"
   ],
   "metadata": {
    "collapsed": false,
    "pycharm": {
     "name": "#%%\n"
    }
   }
  },
  {
   "cell_type": "markdown",
   "source": [
    "## Age Test Kruskal-Wallis H TEst"
   ],
   "metadata": {
    "collapsed": false,
    "pycharm": {
     "name": "#%% md\n"
    }
   }
  },
  {
   "cell_type": "code",
   "execution_count": 532,
   "outputs": [
    {
     "data": {
      "text/plain": "             STUDY_ID ETHNIC_GROUP    Symptoms onset Died_or_Survived_Str  \\\n0   UHSCOVID_00989a42            A  Early Presenters             Survived   \n8   UHSCOVID_00ac1e32            A  Hospital Equired             Survived   \n51  UHSCOVID_00cb7bdd            A  Early Presenters                 Died   \n54  UHSCOVID_01add35c            A  Early Presenters                 Died   \n57  UHSCOVID_01f7838d            A  Hospital Equired             Survived   \n\n   Discharged_Readmitted_Died  NIV  PATIENT_AGE GENDER  ASTHMA  COPD  ...  \\\n0                  Discharged  0.0         64.0      M     1.0   1.0  ...   \n8                  Discharged  1.0         73.0      M     0.0   0.0  ...   \n51                       Died  1.0         76.0      F     1.0   0.0  ...   \n54                       Died  0.0         67.0      F     0.0   0.0  ...   \n57                 Discharged  0.0         97.0      M     0.0   0.0  ...   \n\n    META_SOLID_TUMOUR  MAGLINANT_NEO  DIABETES  OBESITY  HIV  RHEUMATO_D  \\\n0                 0.0            0.0       1.0      1.0  0.0         0.0   \n8                 0.0            0.0       0.0      0.0  0.0         0.0   \n51                1.0            1.0       1.0      0.0  0.0         0.0   \n54                0.0            0.0       0.0      0.0  0.0         0.0   \n57                0.0            1.0       1.0      0.0  0.0         0.0   \n\n    DIMENTIA  IMMUNO  NB_COMOR  British, mixed British  \n0        0.0     0.0       4.0                    True  \n8        0.0     0.0       1.0                    True  \n51       0.0     0.0       5.0                    True  \n54       0.0     0.0       1.0                    True  \n57       0.0     0.0       5.0                    True  \n\n[5 rows x 27 columns]",
      "text/html": "<div>\n<style scoped>\n    .dataframe tbody tr th:only-of-type {\n        vertical-align: middle;\n    }\n\n    .dataframe tbody tr th {\n        vertical-align: top;\n    }\n\n    .dataframe thead th {\n        text-align: right;\n    }\n</style>\n<table border=\"1\" class=\"dataframe\">\n  <thead>\n    <tr style=\"text-align: right;\">\n      <th></th>\n      <th>STUDY_ID</th>\n      <th>ETHNIC_GROUP</th>\n      <th>Symptoms onset</th>\n      <th>Died_or_Survived_Str</th>\n      <th>Discharged_Readmitted_Died</th>\n      <th>NIV</th>\n      <th>PATIENT_AGE</th>\n      <th>GENDER</th>\n      <th>ASTHMA</th>\n      <th>COPD</th>\n      <th>...</th>\n      <th>META_SOLID_TUMOUR</th>\n      <th>MAGLINANT_NEO</th>\n      <th>DIABETES</th>\n      <th>OBESITY</th>\n      <th>HIV</th>\n      <th>RHEUMATO_D</th>\n      <th>DIMENTIA</th>\n      <th>IMMUNO</th>\n      <th>NB_COMOR</th>\n      <th>British, mixed British</th>\n    </tr>\n  </thead>\n  <tbody>\n    <tr>\n      <th>0</th>\n      <td>UHSCOVID_00989a42</td>\n      <td>A</td>\n      <td>Early Presenters</td>\n      <td>Survived</td>\n      <td>Discharged</td>\n      <td>0.0</td>\n      <td>64.0</td>\n      <td>M</td>\n      <td>1.0</td>\n      <td>1.0</td>\n      <td>...</td>\n      <td>0.0</td>\n      <td>0.0</td>\n      <td>1.0</td>\n      <td>1.0</td>\n      <td>0.0</td>\n      <td>0.0</td>\n      <td>0.0</td>\n      <td>0.0</td>\n      <td>4.0</td>\n      <td>True</td>\n    </tr>\n    <tr>\n      <th>8</th>\n      <td>UHSCOVID_00ac1e32</td>\n      <td>A</td>\n      <td>Hospital Equired</td>\n      <td>Survived</td>\n      <td>Discharged</td>\n      <td>1.0</td>\n      <td>73.0</td>\n      <td>M</td>\n      <td>0.0</td>\n      <td>0.0</td>\n      <td>...</td>\n      <td>0.0</td>\n      <td>0.0</td>\n      <td>0.0</td>\n      <td>0.0</td>\n      <td>0.0</td>\n      <td>0.0</td>\n      <td>0.0</td>\n      <td>0.0</td>\n      <td>1.0</td>\n      <td>True</td>\n    </tr>\n    <tr>\n      <th>51</th>\n      <td>UHSCOVID_00cb7bdd</td>\n      <td>A</td>\n      <td>Early Presenters</td>\n      <td>Died</td>\n      <td>Died</td>\n      <td>1.0</td>\n      <td>76.0</td>\n      <td>F</td>\n      <td>1.0</td>\n      <td>0.0</td>\n      <td>...</td>\n      <td>1.0</td>\n      <td>1.0</td>\n      <td>1.0</td>\n      <td>0.0</td>\n      <td>0.0</td>\n      <td>0.0</td>\n      <td>0.0</td>\n      <td>0.0</td>\n      <td>5.0</td>\n      <td>True</td>\n    </tr>\n    <tr>\n      <th>54</th>\n      <td>UHSCOVID_01add35c</td>\n      <td>A</td>\n      <td>Early Presenters</td>\n      <td>Died</td>\n      <td>Died</td>\n      <td>0.0</td>\n      <td>67.0</td>\n      <td>F</td>\n      <td>0.0</td>\n      <td>0.0</td>\n      <td>...</td>\n      <td>0.0</td>\n      <td>0.0</td>\n      <td>0.0</td>\n      <td>0.0</td>\n      <td>0.0</td>\n      <td>0.0</td>\n      <td>0.0</td>\n      <td>0.0</td>\n      <td>1.0</td>\n      <td>True</td>\n    </tr>\n    <tr>\n      <th>57</th>\n      <td>UHSCOVID_01f7838d</td>\n      <td>A</td>\n      <td>Hospital Equired</td>\n      <td>Survived</td>\n      <td>Discharged</td>\n      <td>0.0</td>\n      <td>97.0</td>\n      <td>M</td>\n      <td>0.0</td>\n      <td>0.0</td>\n      <td>...</td>\n      <td>0.0</td>\n      <td>1.0</td>\n      <td>1.0</td>\n      <td>0.0</td>\n      <td>0.0</td>\n      <td>0.0</td>\n      <td>0.0</td>\n      <td>0.0</td>\n      <td>5.0</td>\n      <td>True</td>\n    </tr>\n  </tbody>\n</table>\n<p>5 rows × 27 columns</p>\n</div>"
     },
     "execution_count": 532,
     "metadata": {},
     "output_type": "execute_result"
    }
   ],
   "source": [
    "dfSel.head()"
   ],
   "metadata": {
    "collapsed": false,
    "pycharm": {
     "name": "#%%\n"
    }
   }
  },
  {
   "cell_type": "code",
   "execution_count": 533,
   "outputs": [
    {
     "data": {
      "text/plain": "(111,)"
     },
     "execution_count": 533,
     "metadata": {},
     "output_type": "execute_result"
    }
   ],
   "source": [
    "dfLPAge = dfSel.loc[dfSel['Symptoms onset']=='Late Presenters','PATIENT_AGE']\n",
    "dfLPAge.shape"
   ],
   "metadata": {
    "collapsed": false,
    "pycharm": {
     "name": "#%%\n"
    }
   }
  },
  {
   "cell_type": "code",
   "execution_count": 534,
   "outputs": [
    {
     "data": {
      "text/plain": "(349,)"
     },
     "execution_count": 534,
     "metadata": {},
     "output_type": "execute_result"
    }
   ],
   "source": [
    "dfEPAge = dfSel.loc[dfSel['Symptoms onset']=='Early Presenters','PATIENT_AGE']\n",
    "dfEPAge.shape"
   ],
   "metadata": {
    "collapsed": false,
    "pycharm": {
     "name": "#%%\n"
    }
   }
  },
  {
   "cell_type": "code",
   "execution_count": 535,
   "outputs": [
    {
     "data": {
      "text/plain": "<bound method IndexOpsMixin.value_counts of 0       64.0\n51      76.0\n54      67.0\n71      62.0\n97      41.0\n        ... \n7710     1.0\n7711    58.0\n7715    20.0\n7759    70.0\n7764    67.0\nName: PATIENT_AGE, Length: 349, dtype: float64>"
     },
     "execution_count": 535,
     "metadata": {},
     "output_type": "execute_result"
    }
   ],
   "source": [
    "dfEPAge.value_counts"
   ],
   "metadata": {
    "collapsed": false,
    "pycharm": {
     "name": "#%%\n"
    }
   }
  },
  {
   "cell_type": "code",
   "execution_count": 536,
   "outputs": [
    {
     "data": {
      "text/plain": "Early Presenters    349\nHospital Equired    123\nLate Presenters     111\nUnknown              68\nName: Symptoms onset, dtype: int64"
     },
     "execution_count": 536,
     "metadata": {},
     "output_type": "execute_result"
    }
   ],
   "source": [
    "dfSel['Symptoms onset'].value_counts()"
   ],
   "metadata": {
    "collapsed": false,
    "pycharm": {
     "name": "#%%\n"
    }
   }
  },
  {
   "cell_type": "code",
   "execution_count": 537,
   "outputs": [
    {
     "data": {
      "text/plain": "(123,)"
     },
     "execution_count": 537,
     "metadata": {},
     "output_type": "execute_result"
    }
   ],
   "source": [
    "dfHAAge = dfSel.loc[dfSel['Symptoms onset']=='Hospital Equired','PATIENT_AGE']\n",
    "dfHAAge.shape"
   ],
   "metadata": {
    "collapsed": false,
    "pycharm": {
     "name": "#%%\n"
    }
   }
  },
  {
   "cell_type": "code",
   "execution_count": 538,
   "outputs": [
    {
     "data": {
      "text/plain": "(68,)"
     },
     "execution_count": 538,
     "metadata": {},
     "output_type": "execute_result"
    }
   ],
   "source": [
    "dfUnknAge = dfSel.loc[dfSel['Symptoms onset']=='Unknown','PATIENT_AGE']\n",
    "dfUnknAge.shape"
   ],
   "metadata": {
    "collapsed": false,
    "pycharm": {
     "name": "#%%\n"
    }
   }
  },
  {
   "cell_type": "code",
   "execution_count": 539,
   "outputs": [],
   "source": [
    "dfEP =  dfSel.loc[dfSel['Symptoms onset']=='Early Presenters','PATIENT_AGE']"
   ],
   "metadata": {
    "collapsed": false,
    "pycharm": {
     "name": "#%%\n"
    }
   }
  },
  {
   "cell_type": "code",
   "execution_count": 540,
   "outputs": [
    {
     "data": {
      "text/plain": "(111,)"
     },
     "execution_count": 540,
     "metadata": {},
     "output_type": "execute_result"
    }
   ],
   "source": [
    "dfLP =   dfSel.loc[dfSel['Symptoms onset']=='Late Presenters','PATIENT_AGE']\n",
    "dfLP.shape"
   ],
   "metadata": {
    "collapsed": false,
    "pycharm": {
     "name": "#%%\n"
    }
   }
  },
  {
   "cell_type": "markdown",
   "source": [
    "## Results: Age Test Kruskal-Wallis H Test -3 Groups"
   ],
   "metadata": {
    "collapsed": false
   }
  },
  {
   "cell_type": "code",
   "execution_count": 541,
   "outputs": [
    {
     "name": "stdout",
     "output_type": "stream",
     "text": [
      "stat = 14.026435456068734, p=0.0008999082646205655\n"
     ]
    }
   ],
   "source": [
    "from scipy.stats import kruskal\n",
    "stat,p = kruskal(dfLPAge,dfEPAge,dfUnknAge)\n",
    "print(f\"stat = {stat}, p={p}\")\n"
   ],
   "metadata": {
    "collapsed": false,
    "pycharm": {
     "name": "#%%\n"
    }
   }
  },
  {
   "cell_type": "markdown",
   "source": [
    "## Results: Age Test Kruskal-Wallis H Test - 2 Groups"
   ],
   "metadata": {
    "collapsed": false,
    "pycharm": {
     "name": "#%% md\n"
    }
   }
  },
  {
   "cell_type": "code",
   "execution_count": 542,
   "outputs": [
    {
     "name": "stdout",
     "output_type": "stream",
     "text": [
      "stat = 12.827229169438569, p=0.0003416112681445936\n"
     ]
    }
   ],
   "source": [
    "from scipy.stats import kruskal\n",
    "stat,p = kruskal(dfLPAge,dfEPAge)\n",
    "print(f\"stat = {stat}, p={p}\")"
   ],
   "metadata": {
    "collapsed": false,
    "pycharm": {
     "name": "#%%\n"
    }
   }
  },
  {
   "cell_type": "markdown",
   "source": [
    "## Results: Age Test Mann-Whitney U-Test"
   ],
   "metadata": {
    "collapsed": false,
    "pycharm": {
     "name": "#%% md\n"
    }
   }
  },
  {
   "cell_type": "code",
   "execution_count": 543,
   "outputs": [
    {
     "name": "stdout",
     "output_type": "stream",
     "text": [
      "stat = 15001.0, p=0.00017107388149961182\n"
     ]
    }
   ],
   "source": [
    "from scipy.stats import mannwhitneyu\n",
    "stat, p = mannwhitneyu(dfEP,dfLP)\n",
    "print(f\"stat = {stat}, p={p}\")"
   ],
   "metadata": {
    "collapsed": false,
    "pycharm": {
     "name": "#%%\n"
    }
   }
  },
  {
   "cell_type": "code",
   "execution_count": 544,
   "outputs": [
    {
     "data": {
      "text/plain": "161    82.0\n497    91.0\n720    88.0\n853    72.0\n858    22.0\nName: PATIENT_AGE, dtype: float64"
     },
     "execution_count": 544,
     "metadata": {},
     "output_type": "execute_result"
    }
   ],
   "source": [
    "dfUnknAge.head()"
   ],
   "metadata": {
    "collapsed": false,
    "pycharm": {
     "name": "#%%\n"
    }
   }
  },
  {
   "cell_type": "markdown",
   "source": [
    "# Gender"
   ],
   "metadata": {
    "collapsed": false,
    "pycharm": {
     "name": "#%% md\n"
    }
   }
  },
  {
   "cell_type": "code",
   "execution_count": 545,
   "outputs": [
    {
     "data": {
      "text/plain": "GENDER              F    M  All\nSymptoms onset                 \nEarly Presenters  151  198  349\nHospital Equired   58   65  123\nLate Presenters    40   71  111\nUnknown            31   37   68\nAll               280  371  651",
      "text/html": "<div>\n<style scoped>\n    .dataframe tbody tr th:only-of-type {\n        vertical-align: middle;\n    }\n\n    .dataframe tbody tr th {\n        vertical-align: top;\n    }\n\n    .dataframe thead th {\n        text-align: right;\n    }\n</style>\n<table border=\"1\" class=\"dataframe\">\n  <thead>\n    <tr style=\"text-align: right;\">\n      <th>GENDER</th>\n      <th>F</th>\n      <th>M</th>\n      <th>All</th>\n    </tr>\n    <tr>\n      <th>Symptoms onset</th>\n      <th></th>\n      <th></th>\n      <th></th>\n    </tr>\n  </thead>\n  <tbody>\n    <tr>\n      <th>Early Presenters</th>\n      <td>151</td>\n      <td>198</td>\n      <td>349</td>\n    </tr>\n    <tr>\n      <th>Hospital Equired</th>\n      <td>58</td>\n      <td>65</td>\n      <td>123</td>\n    </tr>\n    <tr>\n      <th>Late Presenters</th>\n      <td>40</td>\n      <td>71</td>\n      <td>111</td>\n    </tr>\n    <tr>\n      <th>Unknown</th>\n      <td>31</td>\n      <td>37</td>\n      <td>68</td>\n    </tr>\n    <tr>\n      <th>All</th>\n      <td>280</td>\n      <td>371</td>\n      <td>651</td>\n    </tr>\n  </tbody>\n</table>\n</div>"
     },
     "execution_count": 545,
     "metadata": {},
     "output_type": "execute_result"
    }
   ],
   "source": [
    "dfSelCTCount = pd.crosstab(dfSel['Symptoms onset'],dfSel['GENDER'],margins=True)\n",
    "# dfSelCTCount.drop('',axis=0,inplace = True)\n",
    "dfSelCTCount"
   ],
   "metadata": {
    "collapsed": false,
    "pycharm": {
     "name": "#%%\n"
    }
   }
  },
  {
   "cell_type": "code",
   "execution_count": 546,
   "outputs": [
    {
     "data": {
      "text/plain": "GENDER              F    M\nSymptoms onset            \nEarly Presenters  151  198\nLate Presenters    40   71",
      "text/html": "<div>\n<style scoped>\n    .dataframe tbody tr th:only-of-type {\n        vertical-align: middle;\n    }\n\n    .dataframe tbody tr th {\n        vertical-align: top;\n    }\n\n    .dataframe thead th {\n        text-align: right;\n    }\n</style>\n<table border=\"1\" class=\"dataframe\">\n  <thead>\n    <tr style=\"text-align: right;\">\n      <th>GENDER</th>\n      <th>F</th>\n      <th>M</th>\n    </tr>\n    <tr>\n      <th>Symptoms onset</th>\n      <th></th>\n      <th></th>\n    </tr>\n  </thead>\n  <tbody>\n    <tr>\n      <th>Early Presenters</th>\n      <td>151</td>\n      <td>198</td>\n    </tr>\n    <tr>\n      <th>Late Presenters</th>\n      <td>40</td>\n      <td>71</td>\n    </tr>\n  </tbody>\n</table>\n</div>"
     },
     "execution_count": 546,
     "metadata": {},
     "output_type": "execute_result"
    }
   ],
   "source": [
    "dfSelCTCountNoMarginalsGender = pd.crosstab(dfSel['Symptoms onset'],dfSel['GENDER'])\n",
    "dfSelCTCountNoMarginalsGender.drop('Unknown',axis=0,inplace=True)\n",
    "dfSelCTCountNoMarginalsGender.drop('Hospital Equired',axis=0,inplace=True)\n",
    "dfSelCTCountNoMarginalsGender"
   ],
   "metadata": {
    "collapsed": false,
    "pycharm": {
     "name": "#%%\n"
    }
   }
  },
  {
   "cell_type": "code",
   "execution_count": 547,
   "outputs": [
    {
     "data": {
      "text/plain": "GENDER                   F         M\nSymptoms onset                      \nEarly Presenters  0.432665  0.567335\nLate Presenters   0.360360  0.639640\nAll               0.430108  0.569892",
      "text/html": "<div>\n<style scoped>\n    .dataframe tbody tr th:only-of-type {\n        vertical-align: middle;\n    }\n\n    .dataframe tbody tr th {\n        vertical-align: top;\n    }\n\n    .dataframe thead th {\n        text-align: right;\n    }\n</style>\n<table border=\"1\" class=\"dataframe\">\n  <thead>\n    <tr style=\"text-align: right;\">\n      <th>GENDER</th>\n      <th>F</th>\n      <th>M</th>\n    </tr>\n    <tr>\n      <th>Symptoms onset</th>\n      <th></th>\n      <th></th>\n    </tr>\n  </thead>\n  <tbody>\n    <tr>\n      <th>Early Presenters</th>\n      <td>0.432665</td>\n      <td>0.567335</td>\n    </tr>\n    <tr>\n      <th>Late Presenters</th>\n      <td>0.360360</td>\n      <td>0.639640</td>\n    </tr>\n    <tr>\n      <th>All</th>\n      <td>0.430108</td>\n      <td>0.569892</td>\n    </tr>\n  </tbody>\n</table>\n</div>"
     },
     "execution_count": 547,
     "metadata": {},
     "output_type": "execute_result"
    }
   ],
   "source": [
    "dfSelCTFreq = pd.crosstab(dfSel['Symptoms onset'],dfSel['GENDER'],margins=True,normalize='index')\n",
    "dfSelCTFreq.drop('Unknown',axis=0,inplace=True)\n",
    "dfSelCTFreq.drop('Hospital Equired',axis=0,inplace=True)\n",
    "dfSelCTFreq"
   ],
   "metadata": {
    "collapsed": false,
    "pycharm": {
     "name": "#%%\n"
    }
   }
  },
  {
   "cell_type": "code",
   "execution_count": 548,
   "outputs": [
    {
     "data": {
      "text/plain": "             STUDY_ID ETHNIC_GROUP    Symptoms onset Died_or_Survived_Str  \\\n0   UHSCOVID_00989a42            A  Early Presenters             Survived   \n8   UHSCOVID_00ac1e32            A  Hospital Equired             Survived   \n51  UHSCOVID_00cb7bdd            A  Early Presenters                 Died   \n54  UHSCOVID_01add35c            A  Early Presenters                 Died   \n57  UHSCOVID_01f7838d            A  Hospital Equired             Survived   \n\n   Discharged_Readmitted_Died  NIV  PATIENT_AGE GENDER  ASTHMA  COPD  ...  \\\n0                  Discharged  0.0         64.0      M     1.0   1.0  ...   \n8                  Discharged  1.0         73.0      M     0.0   0.0  ...   \n51                       Died  1.0         76.0      F     1.0   0.0  ...   \n54                       Died  0.0         67.0      F     0.0   0.0  ...   \n57                 Discharged  0.0         97.0      M     0.0   0.0  ...   \n\n    META_SOLID_TUMOUR  MAGLINANT_NEO  DIABETES  OBESITY  HIV  RHEUMATO_D  \\\n0                 0.0            0.0       1.0      1.0  0.0         0.0   \n8                 0.0            0.0       0.0      0.0  0.0         0.0   \n51                1.0            1.0       1.0      0.0  0.0         0.0   \n54                0.0            0.0       0.0      0.0  0.0         0.0   \n57                0.0            1.0       1.0      0.0  0.0         0.0   \n\n    DIMENTIA  IMMUNO  NB_COMOR  British, mixed British  \n0        0.0     0.0       4.0                    True  \n8        0.0     0.0       1.0                    True  \n51       0.0     0.0       5.0                    True  \n54       0.0     0.0       1.0                    True  \n57       0.0     0.0       5.0                    True  \n\n[5 rows x 27 columns]",
      "text/html": "<div>\n<style scoped>\n    .dataframe tbody tr th:only-of-type {\n        vertical-align: middle;\n    }\n\n    .dataframe tbody tr th {\n        vertical-align: top;\n    }\n\n    .dataframe thead th {\n        text-align: right;\n    }\n</style>\n<table border=\"1\" class=\"dataframe\">\n  <thead>\n    <tr style=\"text-align: right;\">\n      <th></th>\n      <th>STUDY_ID</th>\n      <th>ETHNIC_GROUP</th>\n      <th>Symptoms onset</th>\n      <th>Died_or_Survived_Str</th>\n      <th>Discharged_Readmitted_Died</th>\n      <th>NIV</th>\n      <th>PATIENT_AGE</th>\n      <th>GENDER</th>\n      <th>ASTHMA</th>\n      <th>COPD</th>\n      <th>...</th>\n      <th>META_SOLID_TUMOUR</th>\n      <th>MAGLINANT_NEO</th>\n      <th>DIABETES</th>\n      <th>OBESITY</th>\n      <th>HIV</th>\n      <th>RHEUMATO_D</th>\n      <th>DIMENTIA</th>\n      <th>IMMUNO</th>\n      <th>NB_COMOR</th>\n      <th>British, mixed British</th>\n    </tr>\n  </thead>\n  <tbody>\n    <tr>\n      <th>0</th>\n      <td>UHSCOVID_00989a42</td>\n      <td>A</td>\n      <td>Early Presenters</td>\n      <td>Survived</td>\n      <td>Discharged</td>\n      <td>0.0</td>\n      <td>64.0</td>\n      <td>M</td>\n      <td>1.0</td>\n      <td>1.0</td>\n      <td>...</td>\n      <td>0.0</td>\n      <td>0.0</td>\n      <td>1.0</td>\n      <td>1.0</td>\n      <td>0.0</td>\n      <td>0.0</td>\n      <td>0.0</td>\n      <td>0.0</td>\n      <td>4.0</td>\n      <td>True</td>\n    </tr>\n    <tr>\n      <th>8</th>\n      <td>UHSCOVID_00ac1e32</td>\n      <td>A</td>\n      <td>Hospital Equired</td>\n      <td>Survived</td>\n      <td>Discharged</td>\n      <td>1.0</td>\n      <td>73.0</td>\n      <td>M</td>\n      <td>0.0</td>\n      <td>0.0</td>\n      <td>...</td>\n      <td>0.0</td>\n      <td>0.0</td>\n      <td>0.0</td>\n      <td>0.0</td>\n      <td>0.0</td>\n      <td>0.0</td>\n      <td>0.0</td>\n      <td>0.0</td>\n      <td>1.0</td>\n      <td>True</td>\n    </tr>\n    <tr>\n      <th>51</th>\n      <td>UHSCOVID_00cb7bdd</td>\n      <td>A</td>\n      <td>Early Presenters</td>\n      <td>Died</td>\n      <td>Died</td>\n      <td>1.0</td>\n      <td>76.0</td>\n      <td>F</td>\n      <td>1.0</td>\n      <td>0.0</td>\n      <td>...</td>\n      <td>1.0</td>\n      <td>1.0</td>\n      <td>1.0</td>\n      <td>0.0</td>\n      <td>0.0</td>\n      <td>0.0</td>\n      <td>0.0</td>\n      <td>0.0</td>\n      <td>5.0</td>\n      <td>True</td>\n    </tr>\n    <tr>\n      <th>54</th>\n      <td>UHSCOVID_01add35c</td>\n      <td>A</td>\n      <td>Early Presenters</td>\n      <td>Died</td>\n      <td>Died</td>\n      <td>0.0</td>\n      <td>67.0</td>\n      <td>F</td>\n      <td>0.0</td>\n      <td>0.0</td>\n      <td>...</td>\n      <td>0.0</td>\n      <td>0.0</td>\n      <td>0.0</td>\n      <td>0.0</td>\n      <td>0.0</td>\n      <td>0.0</td>\n      <td>0.0</td>\n      <td>0.0</td>\n      <td>1.0</td>\n      <td>True</td>\n    </tr>\n    <tr>\n      <th>57</th>\n      <td>UHSCOVID_01f7838d</td>\n      <td>A</td>\n      <td>Hospital Equired</td>\n      <td>Survived</td>\n      <td>Discharged</td>\n      <td>0.0</td>\n      <td>97.0</td>\n      <td>M</td>\n      <td>0.0</td>\n      <td>0.0</td>\n      <td>...</td>\n      <td>0.0</td>\n      <td>1.0</td>\n      <td>1.0</td>\n      <td>0.0</td>\n      <td>0.0</td>\n      <td>0.0</td>\n      <td>0.0</td>\n      <td>0.0</td>\n      <td>5.0</td>\n      <td>True</td>\n    </tr>\n  </tbody>\n</table>\n<p>5 rows × 27 columns</p>\n</div>"
     },
     "execution_count": 548,
     "metadata": {},
     "output_type": "execute_result"
    }
   ],
   "source": [
    "dfSel.head()"
   ],
   "metadata": {
    "collapsed": false,
    "pycharm": {
     "name": "#%%\n"
    }
   }
  },
  {
   "cell_type": "code",
   "execution_count": 549,
   "outputs": [
    {
     "data": {
      "text/plain": "Early Presenters    349\nHospital Equired    123\nLate Presenters     111\nUnknown              68\nName: Symptoms onset, dtype: int64"
     },
     "execution_count": 549,
     "metadata": {},
     "output_type": "execute_result"
    }
   ],
   "source": [
    "dfSel['Symptoms onset'].value_counts()"
   ],
   "metadata": {
    "collapsed": false,
    "pycharm": {
     "name": "#%%\n"
    }
   }
  },
  {
   "cell_type": "code",
   "execution_count": 550,
   "outputs": [
    {
     "data": {
      "text/plain": "               STUDY_ID ETHNIC_GROUP    Symptoms onset Died_or_Survived_Str  \\\n0     UHSCOVID_00989a42            A  Early Presenters             Survived   \n8     UHSCOVID_00ac1e32            A  Hospital Equired             Survived   \n51    UHSCOVID_00cb7bdd            A  Early Presenters                 Died   \n54    UHSCOVID_01add35c            A  Early Presenters                 Died   \n57    UHSCOVID_01f7838d            A  Hospital Equired             Survived   \n...                 ...          ...               ...                  ...   \n7716  UHSCOVID_fc872d82            A   Late Presenters             Survived   \n7754  UHSCOVID_fd016c0e            X   Late Presenters             Survived   \n7759  UHSCOVID_fd4da220            A  Early Presenters             Survived   \n7764  UHSCOVID_fd893360            A  Early Presenters             Survived   \n7778  UHSCOVID_fe8c3d54            A  Hospital Equired                 Died   \n\n     Discharged_Readmitted_Died  NIV  PATIENT_AGE GENDER  ASTHMA  COPD  ...  \\\n0                    Discharged  0.0         64.0      M     1.0   1.0  ...   \n8                    Discharged  1.0         73.0      M     0.0   0.0  ...   \n51                         Died  1.0         76.0      F     1.0   0.0  ...   \n54                         Died  0.0         67.0      F     0.0   0.0  ...   \n57                   Discharged  0.0         97.0      M     0.0   0.0  ...   \n...                         ...  ...          ...    ...     ...   ...  ...   \n7716                 Discharged  1.0         53.0      M     0.0   1.0  ...   \n7754                 Discharged  0.0         47.0      M     0.0   0.0  ...   \n7759                 Discharged  0.0         70.0      M     0.0   0.0  ...   \n7764                 Readmitted  0.0         67.0      F     0.0   0.0  ...   \n7778                       Died  0.0         88.0      F     0.0   0.0  ...   \n\n      META_SOLID_TUMOUR  MAGLINANT_NEO  DIABETES  OBESITY  HIV  RHEUMATO_D  \\\n0                   0.0            0.0       1.0      1.0  0.0         0.0   \n8                   0.0            0.0       0.0      0.0  0.0         0.0   \n51                  1.0            1.0       1.0      0.0  0.0         0.0   \n54                  0.0            0.0       0.0      0.0  0.0         0.0   \n57                  0.0            1.0       1.0      0.0  0.0         0.0   \n...                 ...            ...       ...      ...  ...         ...   \n7716                0.0            0.0       0.0      1.0  0.0         0.0   \n7754                0.0            0.0       0.0      0.0  0.0         0.0   \n7759                0.0            0.0       1.0      0.0  0.0         0.0   \n7764                0.0            0.0       0.0      0.0  0.0         0.0   \n7778                0.0            1.0       0.0      0.0  0.0         0.0   \n\n      DIMENTIA  IMMUNO  NB_COMOR  British, mixed British  \n0          0.0     0.0       4.0                    True  \n8          0.0     0.0       1.0                    True  \n51         0.0     0.0       5.0                    True  \n54         0.0     0.0       1.0                    True  \n57         0.0     0.0       5.0                    True  \n...        ...     ...       ...                     ...  \n7716       0.0     0.0       3.0                    True  \n7754       0.0     0.0       0.0                   False  \n7759       0.0     0.0       3.0                    True  \n7764       0.0     0.0       1.0                    True  \n7778       0.0     0.0       3.0                    True  \n\n[583 rows x 27 columns]",
      "text/html": "<div>\n<style scoped>\n    .dataframe tbody tr th:only-of-type {\n        vertical-align: middle;\n    }\n\n    .dataframe tbody tr th {\n        vertical-align: top;\n    }\n\n    .dataframe thead th {\n        text-align: right;\n    }\n</style>\n<table border=\"1\" class=\"dataframe\">\n  <thead>\n    <tr style=\"text-align: right;\">\n      <th></th>\n      <th>STUDY_ID</th>\n      <th>ETHNIC_GROUP</th>\n      <th>Symptoms onset</th>\n      <th>Died_or_Survived_Str</th>\n      <th>Discharged_Readmitted_Died</th>\n      <th>NIV</th>\n      <th>PATIENT_AGE</th>\n      <th>GENDER</th>\n      <th>ASTHMA</th>\n      <th>COPD</th>\n      <th>...</th>\n      <th>META_SOLID_TUMOUR</th>\n      <th>MAGLINANT_NEO</th>\n      <th>DIABETES</th>\n      <th>OBESITY</th>\n      <th>HIV</th>\n      <th>RHEUMATO_D</th>\n      <th>DIMENTIA</th>\n      <th>IMMUNO</th>\n      <th>NB_COMOR</th>\n      <th>British, mixed British</th>\n    </tr>\n  </thead>\n  <tbody>\n    <tr>\n      <th>0</th>\n      <td>UHSCOVID_00989a42</td>\n      <td>A</td>\n      <td>Early Presenters</td>\n      <td>Survived</td>\n      <td>Discharged</td>\n      <td>0.0</td>\n      <td>64.0</td>\n      <td>M</td>\n      <td>1.0</td>\n      <td>1.0</td>\n      <td>...</td>\n      <td>0.0</td>\n      <td>0.0</td>\n      <td>1.0</td>\n      <td>1.0</td>\n      <td>0.0</td>\n      <td>0.0</td>\n      <td>0.0</td>\n      <td>0.0</td>\n      <td>4.0</td>\n      <td>True</td>\n    </tr>\n    <tr>\n      <th>8</th>\n      <td>UHSCOVID_00ac1e32</td>\n      <td>A</td>\n      <td>Hospital Equired</td>\n      <td>Survived</td>\n      <td>Discharged</td>\n      <td>1.0</td>\n      <td>73.0</td>\n      <td>M</td>\n      <td>0.0</td>\n      <td>0.0</td>\n      <td>...</td>\n      <td>0.0</td>\n      <td>0.0</td>\n      <td>0.0</td>\n      <td>0.0</td>\n      <td>0.0</td>\n      <td>0.0</td>\n      <td>0.0</td>\n      <td>0.0</td>\n      <td>1.0</td>\n      <td>True</td>\n    </tr>\n    <tr>\n      <th>51</th>\n      <td>UHSCOVID_00cb7bdd</td>\n      <td>A</td>\n      <td>Early Presenters</td>\n      <td>Died</td>\n      <td>Died</td>\n      <td>1.0</td>\n      <td>76.0</td>\n      <td>F</td>\n      <td>1.0</td>\n      <td>0.0</td>\n      <td>...</td>\n      <td>1.0</td>\n      <td>1.0</td>\n      <td>1.0</td>\n      <td>0.0</td>\n      <td>0.0</td>\n      <td>0.0</td>\n      <td>0.0</td>\n      <td>0.0</td>\n      <td>5.0</td>\n      <td>True</td>\n    </tr>\n    <tr>\n      <th>54</th>\n      <td>UHSCOVID_01add35c</td>\n      <td>A</td>\n      <td>Early Presenters</td>\n      <td>Died</td>\n      <td>Died</td>\n      <td>0.0</td>\n      <td>67.0</td>\n      <td>F</td>\n      <td>0.0</td>\n      <td>0.0</td>\n      <td>...</td>\n      <td>0.0</td>\n      <td>0.0</td>\n      <td>0.0</td>\n      <td>0.0</td>\n      <td>0.0</td>\n      <td>0.0</td>\n      <td>0.0</td>\n      <td>0.0</td>\n      <td>1.0</td>\n      <td>True</td>\n    </tr>\n    <tr>\n      <th>57</th>\n      <td>UHSCOVID_01f7838d</td>\n      <td>A</td>\n      <td>Hospital Equired</td>\n      <td>Survived</td>\n      <td>Discharged</td>\n      <td>0.0</td>\n      <td>97.0</td>\n      <td>M</td>\n      <td>0.0</td>\n      <td>0.0</td>\n      <td>...</td>\n      <td>0.0</td>\n      <td>1.0</td>\n      <td>1.0</td>\n      <td>0.0</td>\n      <td>0.0</td>\n      <td>0.0</td>\n      <td>0.0</td>\n      <td>0.0</td>\n      <td>5.0</td>\n      <td>True</td>\n    </tr>\n    <tr>\n      <th>...</th>\n      <td>...</td>\n      <td>...</td>\n      <td>...</td>\n      <td>...</td>\n      <td>...</td>\n      <td>...</td>\n      <td>...</td>\n      <td>...</td>\n      <td>...</td>\n      <td>...</td>\n      <td>...</td>\n      <td>...</td>\n      <td>...</td>\n      <td>...</td>\n      <td>...</td>\n      <td>...</td>\n      <td>...</td>\n      <td>...</td>\n      <td>...</td>\n      <td>...</td>\n      <td>...</td>\n    </tr>\n    <tr>\n      <th>7716</th>\n      <td>UHSCOVID_fc872d82</td>\n      <td>A</td>\n      <td>Late Presenters</td>\n      <td>Survived</td>\n      <td>Discharged</td>\n      <td>1.0</td>\n      <td>53.0</td>\n      <td>M</td>\n      <td>0.0</td>\n      <td>1.0</td>\n      <td>...</td>\n      <td>0.0</td>\n      <td>0.0</td>\n      <td>0.0</td>\n      <td>1.0</td>\n      <td>0.0</td>\n      <td>0.0</td>\n      <td>0.0</td>\n      <td>0.0</td>\n      <td>3.0</td>\n      <td>True</td>\n    </tr>\n    <tr>\n      <th>7754</th>\n      <td>UHSCOVID_fd016c0e</td>\n      <td>X</td>\n      <td>Late Presenters</td>\n      <td>Survived</td>\n      <td>Discharged</td>\n      <td>0.0</td>\n      <td>47.0</td>\n      <td>M</td>\n      <td>0.0</td>\n      <td>0.0</td>\n      <td>...</td>\n      <td>0.0</td>\n      <td>0.0</td>\n      <td>0.0</td>\n      <td>0.0</td>\n      <td>0.0</td>\n      <td>0.0</td>\n      <td>0.0</td>\n      <td>0.0</td>\n      <td>0.0</td>\n      <td>False</td>\n    </tr>\n    <tr>\n      <th>7759</th>\n      <td>UHSCOVID_fd4da220</td>\n      <td>A</td>\n      <td>Early Presenters</td>\n      <td>Survived</td>\n      <td>Discharged</td>\n      <td>0.0</td>\n      <td>70.0</td>\n      <td>M</td>\n      <td>0.0</td>\n      <td>0.0</td>\n      <td>...</td>\n      <td>0.0</td>\n      <td>0.0</td>\n      <td>1.0</td>\n      <td>0.0</td>\n      <td>0.0</td>\n      <td>0.0</td>\n      <td>0.0</td>\n      <td>0.0</td>\n      <td>3.0</td>\n      <td>True</td>\n    </tr>\n    <tr>\n      <th>7764</th>\n      <td>UHSCOVID_fd893360</td>\n      <td>A</td>\n      <td>Early Presenters</td>\n      <td>Survived</td>\n      <td>Readmitted</td>\n      <td>0.0</td>\n      <td>67.0</td>\n      <td>F</td>\n      <td>0.0</td>\n      <td>0.0</td>\n      <td>...</td>\n      <td>0.0</td>\n      <td>0.0</td>\n      <td>0.0</td>\n      <td>0.0</td>\n      <td>0.0</td>\n      <td>0.0</td>\n      <td>0.0</td>\n      <td>0.0</td>\n      <td>1.0</td>\n      <td>True</td>\n    </tr>\n    <tr>\n      <th>7778</th>\n      <td>UHSCOVID_fe8c3d54</td>\n      <td>A</td>\n      <td>Hospital Equired</td>\n      <td>Died</td>\n      <td>Died</td>\n      <td>0.0</td>\n      <td>88.0</td>\n      <td>F</td>\n      <td>0.0</td>\n      <td>0.0</td>\n      <td>...</td>\n      <td>0.0</td>\n      <td>1.0</td>\n      <td>0.0</td>\n      <td>0.0</td>\n      <td>0.0</td>\n      <td>0.0</td>\n      <td>0.0</td>\n      <td>0.0</td>\n      <td>3.0</td>\n      <td>True</td>\n    </tr>\n  </tbody>\n</table>\n<p>583 rows × 27 columns</p>\n</div>"
     },
     "execution_count": 550,
     "metadata": {},
     "output_type": "execute_result"
    }
   ],
   "source": [
    "dfSelNoUnknown = dfSel.drop(dfSel[dfSel['Symptoms onset']=='Unknown'].index)\n",
    "dfSelNoUnknown"
   ],
   "metadata": {
    "collapsed": false,
    "pycharm": {
     "name": "#%%\n"
    }
   }
  },
  {
   "cell_type": "code",
   "execution_count": 551,
   "outputs": [
    {
     "data": {
      "text/plain": "GENDER                   F         M\nSymptoms onset                      \nEarly Presenters  0.432665  0.567335\nHospital Equired  0.471545  0.528455\nLate Presenters   0.360360  0.639640",
      "text/html": "<div>\n<style scoped>\n    .dataframe tbody tr th:only-of-type {\n        vertical-align: middle;\n    }\n\n    .dataframe tbody tr th {\n        vertical-align: top;\n    }\n\n    .dataframe thead th {\n        text-align: right;\n    }\n</style>\n<table border=\"1\" class=\"dataframe\">\n  <thead>\n    <tr style=\"text-align: right;\">\n      <th>GENDER</th>\n      <th>F</th>\n      <th>M</th>\n    </tr>\n    <tr>\n      <th>Symptoms onset</th>\n      <th></th>\n      <th></th>\n    </tr>\n  </thead>\n  <tbody>\n    <tr>\n      <th>Early Presenters</th>\n      <td>0.432665</td>\n      <td>0.567335</td>\n    </tr>\n    <tr>\n      <th>Hospital Equired</th>\n      <td>0.471545</td>\n      <td>0.528455</td>\n    </tr>\n    <tr>\n      <th>Late Presenters</th>\n      <td>0.360360</td>\n      <td>0.639640</td>\n    </tr>\n  </tbody>\n</table>\n</div>"
     },
     "execution_count": 551,
     "metadata": {},
     "output_type": "execute_result"
    }
   ],
   "source": [
    "dfSelCTFreqColsNoMargin = pd.crosstab(dfSelNoUnknown['Symptoms onset'],dfSel['GENDER'],normalize='index')\n",
    "dfSelCTFreqColsNoMargin"
   ],
   "metadata": {
    "collapsed": false,
    "pycharm": {
     "name": "#%%\n"
    }
   }
  },
  {
   "cell_type": "code",
   "execution_count": 552,
   "outputs": [
    {
     "data": {
      "text/plain": "GENDER                   F         M\nSymptoms onset                      \nEarly Presenters  0.432665  0.567335\nHospital Equired  0.471545  0.528455\nLate Presenters   0.360360  0.639640\nUnknown           0.455882  0.544118\nAll               0.430108  0.569892",
      "text/html": "<div>\n<style scoped>\n    .dataframe tbody tr th:only-of-type {\n        vertical-align: middle;\n    }\n\n    .dataframe tbody tr th {\n        vertical-align: top;\n    }\n\n    .dataframe thead th {\n        text-align: right;\n    }\n</style>\n<table border=\"1\" class=\"dataframe\">\n  <thead>\n    <tr style=\"text-align: right;\">\n      <th>GENDER</th>\n      <th>F</th>\n      <th>M</th>\n    </tr>\n    <tr>\n      <th>Symptoms onset</th>\n      <th></th>\n      <th></th>\n    </tr>\n  </thead>\n  <tbody>\n    <tr>\n      <th>Early Presenters</th>\n      <td>0.432665</td>\n      <td>0.567335</td>\n    </tr>\n    <tr>\n      <th>Hospital Equired</th>\n      <td>0.471545</td>\n      <td>0.528455</td>\n    </tr>\n    <tr>\n      <th>Late Presenters</th>\n      <td>0.360360</td>\n      <td>0.639640</td>\n    </tr>\n    <tr>\n      <th>Unknown</th>\n      <td>0.455882</td>\n      <td>0.544118</td>\n    </tr>\n    <tr>\n      <th>All</th>\n      <td>0.430108</td>\n      <td>0.569892</td>\n    </tr>\n  </tbody>\n</table>\n</div>"
     },
     "execution_count": 552,
     "metadata": {},
     "output_type": "execute_result"
    }
   ],
   "source": [
    "dfSelCTFreqRows = pd.crosstab(dfSel['Symptoms onset'],dfSel['GENDER'],margins=True,normalize='index')\n",
    "dfSelCTFreqRows"
   ],
   "metadata": {
    "collapsed": false,
    "pycharm": {
     "name": "#%%\n"
    }
   }
  },
  {
   "cell_type": "code",
   "execution_count": 553,
   "outputs": [
    {
     "data": {
      "text/plain": "GENDER                   F         M       All\nSymptoms onset                                \nEarly Presenters  0.539286  0.533693  0.536098\nHospital Equired  0.207143  0.175202  0.188940\nLate Presenters   0.142857  0.191375  0.170507\nUnknown           0.110714  0.099730  0.104455",
      "text/html": "<div>\n<style scoped>\n    .dataframe tbody tr th:only-of-type {\n        vertical-align: middle;\n    }\n\n    .dataframe tbody tr th {\n        vertical-align: top;\n    }\n\n    .dataframe thead th {\n        text-align: right;\n    }\n</style>\n<table border=\"1\" class=\"dataframe\">\n  <thead>\n    <tr style=\"text-align: right;\">\n      <th>GENDER</th>\n      <th>F</th>\n      <th>M</th>\n      <th>All</th>\n    </tr>\n    <tr>\n      <th>Symptoms onset</th>\n      <th></th>\n      <th></th>\n      <th></th>\n    </tr>\n  </thead>\n  <tbody>\n    <tr>\n      <th>Early Presenters</th>\n      <td>0.539286</td>\n      <td>0.533693</td>\n      <td>0.536098</td>\n    </tr>\n    <tr>\n      <th>Hospital Equired</th>\n      <td>0.207143</td>\n      <td>0.175202</td>\n      <td>0.188940</td>\n    </tr>\n    <tr>\n      <th>Late Presenters</th>\n      <td>0.142857</td>\n      <td>0.191375</td>\n      <td>0.170507</td>\n    </tr>\n    <tr>\n      <th>Unknown</th>\n      <td>0.110714</td>\n      <td>0.099730</td>\n      <td>0.104455</td>\n    </tr>\n  </tbody>\n</table>\n</div>"
     },
     "execution_count": 553,
     "metadata": {},
     "output_type": "execute_result"
    }
   ],
   "source": [
    "dfSelCTFreqColumns = pd.crosstab(dfSel['Symptoms onset'],dfSel['GENDER'],margins=True,normalize='columns')\n",
    "dfSelCTFreqColumns\n"
   ],
   "metadata": {
    "collapsed": false,
    "pycharm": {
     "name": "#%%\n"
    }
   }
  },
  {
   "cell_type": "markdown",
   "source": [
    "## Chi2-Gender"
   ],
   "metadata": {
    "collapsed": false,
    "pycharm": {
     "name": "#%% md\n"
    }
   }
  },
  {
   "cell_type": "code",
   "execution_count": 554,
   "outputs": [
    {
     "data": {
      "text/plain": "GENDER              F    M  All\nSymptoms onset                 \nEarly Presenters  151  198  349\nHospital Equired   58   65  123\nLate Presenters    40   71  111\nUnknown            31   37   68\nAll               280  371  651",
      "text/html": "<div>\n<style scoped>\n    .dataframe tbody tr th:only-of-type {\n        vertical-align: middle;\n    }\n\n    .dataframe tbody tr th {\n        vertical-align: top;\n    }\n\n    .dataframe thead th {\n        text-align: right;\n    }\n</style>\n<table border=\"1\" class=\"dataframe\">\n  <thead>\n    <tr style=\"text-align: right;\">\n      <th>GENDER</th>\n      <th>F</th>\n      <th>M</th>\n      <th>All</th>\n    </tr>\n    <tr>\n      <th>Symptoms onset</th>\n      <th></th>\n      <th></th>\n      <th></th>\n    </tr>\n  </thead>\n  <tbody>\n    <tr>\n      <th>Early Presenters</th>\n      <td>151</td>\n      <td>198</td>\n      <td>349</td>\n    </tr>\n    <tr>\n      <th>Hospital Equired</th>\n      <td>58</td>\n      <td>65</td>\n      <td>123</td>\n    </tr>\n    <tr>\n      <th>Late Presenters</th>\n      <td>40</td>\n      <td>71</td>\n      <td>111</td>\n    </tr>\n    <tr>\n      <th>Unknown</th>\n      <td>31</td>\n      <td>37</td>\n      <td>68</td>\n    </tr>\n    <tr>\n      <th>All</th>\n      <td>280</td>\n      <td>371</td>\n      <td>651</td>\n    </tr>\n  </tbody>\n</table>\n</div>"
     },
     "execution_count": 554,
     "metadata": {},
     "output_type": "execute_result"
    }
   ],
   "source": [
    "dfSelCTCount\n"
   ],
   "metadata": {
    "collapsed": false,
    "pycharm": {
     "name": "#%%\n"
    }
   }
  },
  {
   "cell_type": "code",
   "execution_count": 555,
   "outputs": [],
   "source": [
    "# dfSelCTCountNoMarginalsGender.drop('Unknown',inplace=True)"
   ],
   "metadata": {
    "collapsed": false,
    "pycharm": {
     "name": "#%%\n"
    }
   }
  },
  {
   "cell_type": "code",
   "execution_count": 556,
   "outputs": [
    {
     "data": {
      "text/plain": "GENDER              F    M\nSymptoms onset            \nEarly Presenters  151  198\nLate Presenters    40   71",
      "text/html": "<div>\n<style scoped>\n    .dataframe tbody tr th:only-of-type {\n        vertical-align: middle;\n    }\n\n    .dataframe tbody tr th {\n        vertical-align: top;\n    }\n\n    .dataframe thead th {\n        text-align: right;\n    }\n</style>\n<table border=\"1\" class=\"dataframe\">\n  <thead>\n    <tr style=\"text-align: right;\">\n      <th>GENDER</th>\n      <th>F</th>\n      <th>M</th>\n    </tr>\n    <tr>\n      <th>Symptoms onset</th>\n      <th></th>\n      <th></th>\n    </tr>\n  </thead>\n  <tbody>\n    <tr>\n      <th>Early Presenters</th>\n      <td>151</td>\n      <td>198</td>\n    </tr>\n    <tr>\n      <th>Late Presenters</th>\n      <td>40</td>\n      <td>71</td>\n    </tr>\n  </tbody>\n</table>\n</div>"
     },
     "execution_count": 556,
     "metadata": {},
     "output_type": "execute_result"
    }
   ],
   "source": [
    "dfSelCTCountNoMarginalsGender.head()"
   ],
   "metadata": {
    "collapsed": false,
    "pycharm": {
     "name": "#%%\n"
    }
   }
  },
  {
   "cell_type": "code",
   "execution_count": 557,
   "outputs": [
    {
     "name": "stdout",
     "output_type": "stream",
     "text": [
      "stat = 1.5276643079401744\n",
      "p = 0.2164633292136687\n",
      "dof = 1\n",
      "expected = [[144.91086957 204.08913043]\n",
      " [ 46.08913043  64.91086957]]\n"
     ]
    },
    {
     "data": {
      "text/plain": "<IPython.core.display.Markdown object>",
      "text/markdown": "Since p=0.2<0.05, based on Chi2 test we can reject hypothesis that death as outcome does not depend on the presence of a renal disease."
     },
     "execution_count": 557,
     "metadata": {},
     "output_type": "execute_result"
    }
   ],
   "source": [
    "from scipy.stats import chi2_contingency\n",
    "\n",
    "# defining the table\n",
    "# data = [crosstabRenalDeath.loc['False',:].values().reshape(1,-1), [234, 242, 232]]\n",
    "stat, p, dof, expected = chi2_contingency(dfSelCTCountNoMarginalsGender,correction=True)\n",
    "print(f\"stat = {stat}\")\n",
    "print(f\"p = {p}\")\n",
    "print(f\"dof = {dof}\")\n",
    "print(f\"expected = {expected}\")\n",
    "md(f\"Since p={p:.1g}<0.05, based on Chi2 test we can reject hypothesis that death as outcome does not depend \"\n",
    "   f\"on the presence of a renal disease.\")"
   ],
   "metadata": {
    "collapsed": false,
    "pycharm": {
     "name": "#%%\n"
    }
   }
  },
  {
   "cell_type": "code",
   "execution_count": 558,
   "outputs": [
    {
     "name": "stdout",
     "output_type": "stream",
     "text": [
      "stat = 3.2581906886138463\n",
      "p = 0.35350424158118327\n",
      "dof = 3\n",
      "expected = [[150.10752688 198.89247312]\n",
      " [ 52.90322581  70.09677419]\n",
      " [ 47.74193548  63.25806452]\n",
      " [ 29.24731183  38.75268817]]\n"
     ]
    },
    {
     "data": {
      "text/plain": "<IPython.core.display.Markdown object>",
      "text/markdown": "Since p=0.4<0.05, based on Chi2 test we can reject hypothesis that death as outcome does not depend on the presence of a renal disease."
     },
     "metadata": {},
     "output_type": "display_data"
    }
   ],
   "source": [
    "colN1 = 'Symptoms onset'\n",
    "colN2 = 'GENDER'\n",
    "printChi2Test(dfSel,colN1,colN2)"
   ],
   "metadata": {
    "collapsed": false,
    "pycharm": {
     "name": "#%%\n"
    }
   }
  },
  {
   "cell_type": "markdown",
   "source": [],
   "metadata": {
    "collapsed": false,
    "pycharm": {
     "name": "#%% md\n"
    }
   }
  },
  {
   "cell_type": "markdown",
   "source": [
    "# Part II. NIV"
   ],
   "metadata": {
    "collapsed": false,
    "pycharm": {
     "name": "#%% md\n"
    }
   }
  },
  {
   "cell_type": "code",
   "execution_count": 559,
   "outputs": [
    {
     "ename": "KeyError",
     "evalue": "'Onset Time Str'",
     "output_type": "error",
     "traceback": [
      "\u001B[1;31m---------------------------------------------------------------------------\u001B[0m",
      "\u001B[1;31mKeyError\u001B[0m                                  Traceback (most recent call last)",
      "\u001B[1;32m<ipython-input-559-b57f46867656>\u001B[0m in \u001B[0;36m<module>\u001B[1;34m\u001B[0m\n\u001B[1;32m----> 1\u001B[1;33m \u001B[0mx\u001B[0m \u001B[1;33m=\u001B[0m \u001B[0mdfSel\u001B[0m\u001B[1;33m.\u001B[0m\u001B[0mgroupby\u001B[0m\u001B[1;33m(\u001B[0m\u001B[1;33m[\u001B[0m\u001B[1;34m'Onset Time Str'\u001B[0m\u001B[1;33m,\u001B[0m \u001B[1;34m'NIV'\u001B[0m\u001B[1;33m]\u001B[0m\u001B[1;33m)\u001B[0m\u001B[1;33m.\u001B[0m\u001B[0mcount\u001B[0m\u001B[1;33m(\u001B[0m\u001B[1;33m)\u001B[0m\u001B[1;33m.\u001B[0m\u001B[0mreset_index\u001B[0m\u001B[1;33m(\u001B[0m\u001B[1;33m)\u001B[0m\u001B[1;33m\u001B[0m\u001B[1;33m\u001B[0m\u001B[0m\n\u001B[0m\u001B[0;32m      2\u001B[0m \u001B[0mx\u001B[0m\u001B[1;33m.\u001B[0m\u001B[0mrename\u001B[0m\u001B[1;33m(\u001B[0m\u001B[0mcolumns\u001B[0m\u001B[1;33m=\u001B[0m\u001B[1;33m{\u001B[0m\u001B[1;34m'STUDY_ID'\u001B[0m\u001B[1;33m:\u001B[0m\u001B[1;34m'# Patients'\u001B[0m\u001B[1;33m}\u001B[0m\u001B[1;33m,\u001B[0m\u001B[0minplace\u001B[0m\u001B[1;33m=\u001B[0m\u001B[1;32mTrue\u001B[0m\u001B[1;33m)\u001B[0m\u001B[1;33m\u001B[0m\u001B[1;33m\u001B[0m\u001B[0m\n\u001B[0;32m      3\u001B[0m \u001B[0mx\u001B[0m\u001B[1;33m[\u001B[0m\u001B[1;34m'% Patients withing \"Onset Time\" group'\u001B[0m\u001B[1;33m]\u001B[0m \u001B[1;33m=\u001B[0m\u001B[0mx\u001B[0m\u001B[1;33m.\u001B[0m\u001B[0mgroupby\u001B[0m\u001B[1;33m(\u001B[0m\u001B[1;34m'Onset Time Str'\u001B[0m\u001B[1;33m)\u001B[0m\u001B[1;33m[\u001B[0m\u001B[1;34m'# Patients'\u001B[0m\u001B[1;33m]\u001B[0m\u001B[1;33m.\u001B[0m\u001B[0mapply\u001B[0m\u001B[1;33m(\u001B[0m\u001B[1;32mlambda\u001B[0m \u001B[0mx\u001B[0m\u001B[1;33m:\u001B[0m\u001B[0mx\u001B[0m\u001B[1;33m/\u001B[0m\u001B[0mx\u001B[0m\u001B[1;33m.\u001B[0m\u001B[0msum\u001B[0m\u001B[1;33m(\u001B[0m\u001B[1;33m)\u001B[0m\u001B[1;33m)\u001B[0m\u001B[1;33m\u001B[0m\u001B[1;33m\u001B[0m\u001B[0m\n\u001B[0;32m      4\u001B[0m \u001B[0mtotalPatients\u001B[0m \u001B[1;33m=\u001B[0m \u001B[0mx\u001B[0m\u001B[1;33m[\u001B[0m\u001B[1;34m'# Patients'\u001B[0m\u001B[1;33m]\u001B[0m\u001B[1;33m.\u001B[0m\u001B[0msum\u001B[0m\u001B[1;33m(\u001B[0m\u001B[1;33m)\u001B[0m\u001B[1;33m\u001B[0m\u001B[1;33m\u001B[0m\u001B[0m\n\u001B[0;32m      5\u001B[0m \u001B[0mx\u001B[0m\u001B[1;33m[\u001B[0m\u001B[1;34m'% Patients withing all'\u001B[0m\u001B[1;33m]\u001B[0m \u001B[1;33m=\u001B[0m \u001B[0mx\u001B[0m\u001B[1;33m[\u001B[0m\u001B[1;34m'# Patients'\u001B[0m\u001B[1;33m]\u001B[0m\u001B[1;33m.\u001B[0m\u001B[0mapply\u001B[0m\u001B[1;33m(\u001B[0m\u001B[1;32mlambda\u001B[0m \u001B[0mx\u001B[0m\u001B[1;33m:\u001B[0m\u001B[0mx\u001B[0m\u001B[1;33m/\u001B[0m\u001B[0mtotalPatients\u001B[0m\u001B[1;33m)\u001B[0m\u001B[1;33m\u001B[0m\u001B[1;33m\u001B[0m\u001B[0m\n",
      "\u001B[1;32mC:\\ANACONDA3\\envs\\dECMT\\lib\\site-packages\\pandas\\core\\frame.py\u001B[0m in \u001B[0;36mgroupby\u001B[1;34m(self, by, axis, level, as_index, sort, group_keys, squeeze, observed, dropna)\u001B[0m\n\u001B[0;32m   6519\u001B[0m             \u001B[0msqueeze\u001B[0m\u001B[1;33m=\u001B[0m\u001B[0msqueeze\u001B[0m\u001B[1;33m,\u001B[0m\u001B[1;33m\u001B[0m\u001B[1;33m\u001B[0m\u001B[0m\n\u001B[0;32m   6520\u001B[0m             \u001B[0mobserved\u001B[0m\u001B[1;33m=\u001B[0m\u001B[0mobserved\u001B[0m\u001B[1;33m,\u001B[0m\u001B[1;33m\u001B[0m\u001B[1;33m\u001B[0m\u001B[0m\n\u001B[1;32m-> 6521\u001B[1;33m             \u001B[0mdropna\u001B[0m\u001B[1;33m=\u001B[0m\u001B[0mdropna\u001B[0m\u001B[1;33m,\u001B[0m\u001B[1;33m\u001B[0m\u001B[1;33m\u001B[0m\u001B[0m\n\u001B[0m\u001B[0;32m   6522\u001B[0m         )\n\u001B[0;32m   6523\u001B[0m \u001B[1;33m\u001B[0m\u001B[0m\n",
      "\u001B[1;32mC:\\ANACONDA3\\envs\\dECMT\\lib\\site-packages\\pandas\\core\\groupby\\groupby.py\u001B[0m in \u001B[0;36m__init__\u001B[1;34m(self, obj, keys, axis, level, grouper, exclusions, selection, as_index, sort, group_keys, squeeze, observed, mutated, dropna)\u001B[0m\n\u001B[0;32m    531\u001B[0m                 \u001B[0mobserved\u001B[0m\u001B[1;33m=\u001B[0m\u001B[0mobserved\u001B[0m\u001B[1;33m,\u001B[0m\u001B[1;33m\u001B[0m\u001B[1;33m\u001B[0m\u001B[0m\n\u001B[0;32m    532\u001B[0m                 \u001B[0mmutated\u001B[0m\u001B[1;33m=\u001B[0m\u001B[0mself\u001B[0m\u001B[1;33m.\u001B[0m\u001B[0mmutated\u001B[0m\u001B[1;33m,\u001B[0m\u001B[1;33m\u001B[0m\u001B[1;33m\u001B[0m\u001B[0m\n\u001B[1;32m--> 533\u001B[1;33m                 \u001B[0mdropna\u001B[0m\u001B[1;33m=\u001B[0m\u001B[0mself\u001B[0m\u001B[1;33m.\u001B[0m\u001B[0mdropna\u001B[0m\u001B[1;33m,\u001B[0m\u001B[1;33m\u001B[0m\u001B[1;33m\u001B[0m\u001B[0m\n\u001B[0m\u001B[0;32m    534\u001B[0m             )\n\u001B[0;32m    535\u001B[0m \u001B[1;33m\u001B[0m\u001B[0m\n",
      "\u001B[1;32mC:\\ANACONDA3\\envs\\dECMT\\lib\\site-packages\\pandas\\core\\groupby\\grouper.py\u001B[0m in \u001B[0;36mget_grouper\u001B[1;34m(obj, key, axis, level, sort, observed, mutated, validate, dropna)\u001B[0m\n\u001B[0;32m    779\u001B[0m                 \u001B[0min_axis\u001B[0m\u001B[1;33m,\u001B[0m \u001B[0mname\u001B[0m\u001B[1;33m,\u001B[0m \u001B[0mlevel\u001B[0m\u001B[1;33m,\u001B[0m \u001B[0mgpr\u001B[0m \u001B[1;33m=\u001B[0m \u001B[1;32mFalse\u001B[0m\u001B[1;33m,\u001B[0m \u001B[1;32mNone\u001B[0m\u001B[1;33m,\u001B[0m \u001B[0mgpr\u001B[0m\u001B[1;33m,\u001B[0m \u001B[1;32mNone\u001B[0m\u001B[1;33m\u001B[0m\u001B[1;33m\u001B[0m\u001B[0m\n\u001B[0;32m    780\u001B[0m             \u001B[1;32melse\u001B[0m\u001B[1;33m:\u001B[0m\u001B[1;33m\u001B[0m\u001B[1;33m\u001B[0m\u001B[0m\n\u001B[1;32m--> 781\u001B[1;33m                 \u001B[1;32mraise\u001B[0m \u001B[0mKeyError\u001B[0m\u001B[1;33m(\u001B[0m\u001B[0mgpr\u001B[0m\u001B[1;33m)\u001B[0m\u001B[1;33m\u001B[0m\u001B[1;33m\u001B[0m\u001B[0m\n\u001B[0m\u001B[0;32m    782\u001B[0m         \u001B[1;32melif\u001B[0m \u001B[0misinstance\u001B[0m\u001B[1;33m(\u001B[0m\u001B[0mgpr\u001B[0m\u001B[1;33m,\u001B[0m \u001B[0mGrouper\u001B[0m\u001B[1;33m)\u001B[0m \u001B[1;32mand\u001B[0m \u001B[0mgpr\u001B[0m\u001B[1;33m.\u001B[0m\u001B[0mkey\u001B[0m \u001B[1;32mis\u001B[0m \u001B[1;32mnot\u001B[0m \u001B[1;32mNone\u001B[0m\u001B[1;33m:\u001B[0m\u001B[1;33m\u001B[0m\u001B[1;33m\u001B[0m\u001B[0m\n\u001B[0;32m    783\u001B[0m             \u001B[1;31m# Add key to exclusions\u001B[0m\u001B[1;33m\u001B[0m\u001B[1;33m\u001B[0m\u001B[1;33m\u001B[0m\u001B[0m\n",
      "\u001B[1;31mKeyError\u001B[0m: 'Onset Time Str'"
     ]
    }
   ],
   "source": [
    "x = dfSel.groupby(['Onset Time Str', 'NIV']).count().reset_index()\n",
    "x.rename(columns={'STUDY_ID':'# Patients'},inplace=True)\n",
    "x['% Patients withing \"Onset Time\" group'] =x.groupby('Onset Time Str')['# Patients'].apply(lambda x:x/x.sum())\n",
    "totalPatients = x['# Patients'].sum()\n",
    "x['% Patients withing all'] = x['# Patients'].apply(lambda x:x/totalPatients)\n",
    "totalPatients"
   ],
   "metadata": {
    "collapsed": false,
    "pycharm": {
     "name": "#%%\n"
    }
   }
  },
  {
   "cell_type": "code",
   "execution_count": null,
   "outputs": [],
   "source": [
    "mNIVA = x['NIV'] == 0 # NIV absent\n",
    "mNIVP = x['NIV'] == 1 # NIV present\n",
    "\n",
    "x.loc[mNIVA,'NIV'] = 'Absent'\n",
    "x.loc[mNIVP,'NIV'] = 'Present'\n",
    "x.head()"
   ],
   "metadata": {
    "collapsed": false,
    "pycharm": {
     "name": "#%%\n"
    }
   }
  },
  {
   "cell_type": "code",
   "execution_count": null,
   "outputs": [],
   "source": [
    "x.columns"
   ],
   "metadata": {
    "collapsed": false,
    "pycharm": {
     "name": "#%%\n"
    }
   }
  },
  {
   "cell_type": "markdown",
   "source": [
    "## Table"
   ],
   "metadata": {
    "collapsed": false,
    "pycharm": {
     "name": "#%% md\n"
    }
   }
  },
  {
   "cell_type": "code",
   "execution_count": null,
   "outputs": [],
   "source": [
    "# ['Onset Time Str', 'NIV', '# Patients', 'Discharged_Readmitted_Died', 'Death_Discharged_Survived_Str',\n",
    "# 'Patients withing \"Onset Time\" group', '% Patients withing all']\n",
    "sC = ['Onset Time Str', 'NIV', '# Patients',  '% Patients withing \"Onset Time\" group', '% Patients withing all']\n",
    "x[sC]\n"
   ],
   "metadata": {
    "collapsed": false,
    "pycharm": {
     "name": "#%%\n"
    }
   }
  },
  {
   "cell_type": "markdown",
   "source": [
    "## Graphs"
   ],
   "metadata": {
    "collapsed": false,
    "pycharm": {
     "name": "#%% md\n"
    }
   }
  },
  {
   "cell_type": "code",
   "execution_count": null,
   "outputs": [],
   "source": [
    "sns.barplot(data=x,y='Onset Time Str',x='# Patients',hue='NIV')"
   ],
   "metadata": {
    "collapsed": false,
    "pycharm": {
     "name": "#%%\n"
    }
   }
  },
  {
   "cell_type": "code",
   "execution_count": null,
   "outputs": [],
   "source": [
    "splot = sns.barplot(data=x,y='Onset Time Str',x='% Patients withing \"Onset Time\" group',hue='NIV')"
   ],
   "metadata": {
    "collapsed": false,
    "pycharm": {
     "name": "#%%\n"
    }
   }
  },
  {
   "cell_type": "code",
   "execution_count": null,
   "outputs": [],
   "source": [
    "splot = sns.barplot(data=x,y='Onset Time Str',x='% Patients withing all',hue='NIV')\n",
    "\n"
   ],
   "metadata": {
    "collapsed": false,
    "pycharm": {
     "name": "#%%\n"
    }
   }
  },
  {
   "cell_type": "markdown",
   "source": [
    "## Ch 2 Test"
   ],
   "metadata": {
    "collapsed": false,
    "pycharm": {
     "name": "#%% md\n"
    }
   }
  },
  {
   "cell_type": "code",
   "execution_count": null,
   "outputs": [],
   "source": [],
   "metadata": {
    "collapsed": false,
    "pycharm": {
     "name": "#%%\n"
    }
   }
  },
  {
   "cell_type": "code",
   "execution_count": null,
   "outputs": [],
   "source": [],
   "metadata": {
    "collapsed": false,
    "pycharm": {
     "name": "#%%\n"
    }
   }
  },
  {
   "cell_type": "code",
   "execution_count": null,
   "outputs": [],
   "source": [],
   "metadata": {
    "collapsed": false,
    "pycharm": {
     "name": "#%%\n"
    }
   }
  },
  {
   "cell_type": "code",
   "execution_count": null,
   "outputs": [],
   "source": [],
   "metadata": {
    "collapsed": false,
    "pycharm": {
     "name": "#%%\n"
    }
   }
  },
  {
   "cell_type": "code",
   "execution_count": null,
   "outputs": [],
   "source": [],
   "metadata": {
    "collapsed": false,
    "pycharm": {
     "name": "#%%\n"
    }
   }
  },
  {
   "cell_type": "code",
   "execution_count": null,
   "outputs": [],
   "source": [],
   "metadata": {
    "collapsed": false,
    "pycharm": {
     "name": "#%%\n"
    }
   }
  },
  {
   "cell_type": "code",
   "execution_count": null,
   "outputs": [],
   "source": [],
   "metadata": {
    "collapsed": false,
    "pycharm": {
     "name": "#%%\n"
    }
   }
  },
  {
   "cell_type": "code",
   "execution_count": null,
   "outputs": [],
   "source": [],
   "metadata": {
    "collapsed": false,
    "pycharm": {
     "name": "#%%\n"
    }
   }
  },
  {
   "cell_type": "code",
   "execution_count": null,
   "outputs": [],
   "source": [],
   "metadata": {
    "collapsed": false,
    "pycharm": {
     "name": "#%%\n"
    }
   }
  },
  {
   "cell_type": "code",
   "execution_count": null,
   "outputs": [],
   "source": [],
   "metadata": {
    "collapsed": false,
    "pycharm": {
     "name": "#%%\n"
    }
   }
  },
  {
   "cell_type": "code",
   "execution_count": null,
   "outputs": [],
   "source": [],
   "metadata": {
    "collapsed": false,
    "pycharm": {
     "name": "#%%\n"
    }
   }
  },
  {
   "cell_type": "code",
   "execution_count": null,
   "outputs": [],
   "source": [],
   "metadata": {
    "collapsed": false,
    "pycharm": {
     "name": "#%%\n"
    }
   }
  },
  {
   "cell_type": "code",
   "execution_count": null,
   "outputs": [],
   "source": [],
   "metadata": {
    "collapsed": false,
    "pycharm": {
     "name": "#%%\n"
    }
   }
  },
  {
   "cell_type": "code",
   "execution_count": null,
   "outputs": [],
   "source": [],
   "metadata": {
    "collapsed": false,
    "pycharm": {
     "name": "#%%\n"
    }
   }
  },
  {
   "cell_type": "code",
   "execution_count": null,
   "outputs": [],
   "source": [],
   "metadata": {
    "collapsed": false,
    "pycharm": {
     "name": "#%%\n"
    }
   }
  },
  {
   "cell_type": "code",
   "execution_count": null,
   "outputs": [],
   "source": [],
   "metadata": {
    "collapsed": false,
    "pycharm": {
     "name": "#%%\n"
    }
   }
  },
  {
   "cell_type": "code",
   "execution_count": null,
   "outputs": [],
   "source": [],
   "metadata": {
    "collapsed": false,
    "pycharm": {
     "name": "#%%\n"
    }
   }
  },
  {
   "cell_type": "code",
   "execution_count": null,
   "outputs": [],
   "source": [],
   "metadata": {
    "collapsed": false,
    "pycharm": {
     "name": "#%%\n"
    }
   }
  },
  {
   "cell_type": "code",
   "execution_count": null,
   "outputs": [],
   "source": [],
   "metadata": {
    "collapsed": false,
    "pycharm": {
     "name": "#%%\n"
    }
   }
  },
  {
   "cell_type": "code",
   "execution_count": null,
   "outputs": [],
   "source": [],
   "metadata": {
    "collapsed": false,
    "pycharm": {
     "name": "#%%\n"
    }
   }
  }
 ],
 "metadata": {
  "kernelspec": {
   "display_name": "Python 3",
   "language": "python",
   "name": "python3"
  },
  "language_info": {
   "codemirror_mode": {
    "name": "ipython",
    "version": 3
   },
   "file_extension": ".py",
   "mimetype": "text/x-python",
   "name": "python",
   "nbconvert_exporter": "python",
   "pygments_lexer": "ipython3",
   "version": "3.7.6"
  }
 },
 "nbformat": 4,
 "nbformat_minor": 1
}