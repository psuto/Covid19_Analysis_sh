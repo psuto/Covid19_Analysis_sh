{
 "cells": [
  {
   "cell_type": "code",
   "execution_count": 106,
   "outputs": [],
   "source": [
    "import IPython\n",
    "import pandas as pd\n",
    "import matplotlib as ml\n",
    "import matplotlib.pyplot as plt\n",
    "import seaborn as sns\n",
    "import numpy as np\n",
    "from pathlib import Path\n",
    "from datetime import datetime\n",
    "\n",
    "from IPython.display import Markdown as md\n",
    "from IPython.display import Math as m"
   ],
   "metadata": {
    "collapsed": false,
    "pycharm": {
     "name": "#%%\n"
    }
   }
  },
  {
   "cell_type": "code",
   "execution_count": 106,
   "outputs": [],
   "source": [],
   "metadata": {
    "collapsed": false,
    "pycharm": {
     "name": "#%%\n"
    }
   }
  },
  {
   "cell_type": "markdown",
   "source": [
    "# Vital Signs Table"
   ],
   "metadata": {
    "collapsed": false
   }
  },
  {
   "cell_type": "code",
   "execution_count": 107,
   "outputs": [],
   "source": [
    "timeStampStr = datetime.today().strftime(\"%y-%m-%d_%H-%M-%S.%f\")"
   ],
   "metadata": {
    "collapsed": false,
    "pycharm": {
     "name": "#%%\n"
    }
   }
  },
  {
   "cell_type": "markdown",
   "source": [
    "# Content"
   ],
   "metadata": {
    "collapsed": false
   }
  },
  {
   "cell_type": "markdown",
   "source": [
    "## Automatic Chi2 Test"
   ],
   "metadata": {
    "collapsed": false
   }
  },
  {
   "cell_type": "code",
   "execution_count": 108,
   "outputs": [],
   "source": [
    "from scipy.stats import chi2_contingency\n",
    "import IPython.display as display\n",
    "from IPython.display import Markdown as md\n",
    "\n",
    "def printmd(string):\n",
    "    IPython.display.display(IPython.display.Markdown(string))\n",
    "\n",
    "def printChi2Test(df,colName1,colName2,correction=True):\n",
    "    dfCT = pd.crosstab(df[colName1],df[colName2])\n",
    "    stat, p, dof, expected = chi2_contingency(dfCT,correction=correction)\n",
    "    print(f\"stat = {stat}\")\n",
    "    print(f\"p = {p}\")\n",
    "    print(f\"dof = {dof}\")\n",
    "    print(f\"expected = {expected}\")\n",
    "    printmd(f\"Since p={p:.1g}<0.05, based on Chi2 test we can reject hypothesis that death as outcome does not depend \"\n",
    "       f\"on the presence of a renal disease.\")"
   ],
   "metadata": {
    "collapsed": false,
    "pycharm": {
     "name": "#%%\n"
    }
   }
  },
  {
   "cell_type": "code",
   "execution_count": 109,
   "outputs": [],
   "source": [
    "def printChi2(df,text=\"Empty\",correction=True):\n",
    "    printmd(f\"# {text}\")\n",
    "    stat, p, dof, expected = chi2_contingency(df,correction=correction)\n",
    "    print(f\"stat = {stat}\")\n",
    "    print(f\"p = {p}\")\n",
    "    print(f\"dof = {dof}\")\n",
    "    print(f\"expected = {expected}\")\n",
    "    printmd(f\"Since p={p:.1g}<0.05, based on  test we can reject hypothesis that death as outcome does not depend \"\n",
    "   f\"on the presence of a renal disease.\")"
   ],
   "metadata": {
    "collapsed": false,
    "pycharm": {
     "name": "#%%\n"
    }
   }
  },
  {
   "cell_type": "code",
   "execution_count": 110,
   "outputs": [],
   "source": [
    "from itertools import combinations\n",
    "from statsmodels.sandbox.stats.multicomp import multipletests\n",
    "def get_asterisks_for_pval(p_val):\n",
    "    \"\"\"Receives the p-value and returns asterisks string.\"\"\"\n",
    "    if p_val > 0.05:\n",
    "        p_text = \"ns\"  # above threshold => not significant\n",
    "    elif p_val < 1e-4:\n",
    "        p_text = '****'\n",
    "    elif p_val < 1e-3:\n",
    "        p_text = '***'\n",
    "    elif p_val < 1e-2:\n",
    "        p_text = '**'\n",
    "    else:\n",
    "        p_text = '*'\n",
    "\n",
    "    return p_text\n",
    "\n",
    "def chisq_and_posthoc_corrected(df):\n",
    "    \"\"\"Receives a dataframe and performs chi2 test and then post hoc.\n",
    "    Prints the p-values and corrected p-values (after FDR correction)\"\"\"\n",
    "    # start by running chi2 test on the matrix\n",
    "    chi2, p, dof, ex = chi2_contingency(df, correction=True)\n",
    "    print(f\"Chi2 result of the contingency table: {chi2}, p-value: {p}\")\n",
    "\n",
    "    # post-hoc\n",
    "    all_combinations = list(combinations(df.index, 2))  # gathering all combinations for post-hoc chi2\n",
    "    p_vals = []\n",
    "    print(\"Significance results:\")\n",
    "    for comb in all_combinations:\n",
    "        new_df = df[(df.index == comb[0]) | (df.index == comb[1])]\n",
    "        chi2, p, dof, ex = chi2_contingency(new_df, correction=True)\n",
    "        p_vals.append(p)\n",
    "        # print(f\"For {comb}: {p}\")  # uncorrected\n",
    "\n",
    "    # checking significance\n",
    "    # correction for multiple testing\n",
    "    reject_list, corrected_p_vals = multipletests(p_vals, method='fdr_bh')[:2]\n",
    "    for p_val, corr_p_val, reject, comb in zip(p_vals, corrected_p_vals, reject_list, all_combinations):\n",
    "        print(f\"{comb}: p_value: {p_val:5f}; corrected: {corr_p_val:5f} ({get_asterisks_for_pval(p_val)}) reject: {reject}\")"
   ],
   "metadata": {
    "collapsed": false,
    "pycharm": {
     "name": "#%%\n"
    }
   }
  },
  {
   "cell_type": "code",
   "execution_count": 111,
   "outputs": [],
   "source": [
    "%matplotlib inline"
   ],
   "metadata": {
    "collapsed": false,
    "pycharm": {
     "name": "#%%\n"
    }
   }
  },
  {
   "cell_type": "code",
   "execution_count": 111,
   "outputs": [],
   "source": [],
   "metadata": {
    "collapsed": false,
    "pycharm": {
     "name": "#%%\n"
    }
   }
  },
  {
   "cell_type": "markdown",
   "source": [
    "# Questions\n",
    "- Are there differences in outcomes between people who present early (e.g. within 7 days of symptom onset) vs late?"
   ],
   "metadata": {
    "collapsed": false
   }
  },
  {
   "cell_type": "markdown",
   "source": [
    "# Data Reading\n",
    "# Melted"
   ],
   "metadata": {
    "collapsed": false
   }
  },
  {
   "cell_type": "code",
   "execution_count": 112,
   "outputs": [],
   "source": [
    "fpMelted=\"C:\\Work\\dev\\dECMT_src\\data_all\\COVID19_Data\\Preprocessed_Data\\df_melted_29092020_ow.csv\"\n",
    "fpMelted=\"C:\\Work\\dev\\dECMT_src\\data_all\\COVID19_Data\\Preprocessed_Data\\df_melted_02102020_ow.csv\"\n",
    "dfMelted = pd.read_csv(fpMelted)"
   ],
   "metadata": {
    "collapsed": false,
    "pycharm": {
     "name": "#%%\n"
    }
   }
  },
  {
   "cell_type": "code",
   "execution_count": 113,
   "outputs": [],
   "source": [
    "# Index(['Unnamed: 0', 'STUDY_ID', 'ADMISSION_START_DATE', 'ADMISSION_END_DATE',\n",
    "#        'ITU_START_DATE', 'ITU_END_DATE', 'INVASIVE_VENTILATION_START_DATE',\n",
    "#        'INVASIVE_VENTILATION_END_DATE', 'NIV_START_DATE', 'NIV_END_DATE',\n",
    "#        'C5_START_DATE', 'C5_END_DATE', 'ADMISSION_START_DAY',\n",
    "#        'ADMISSION_END_DAY', 'ITU_START_DAY', 'ITU_END_DAY',\n",
    "#        'INVASIVE_VENTILATION_START_DAY', 'INVASIVE_VENTILATION_END_DAY',\n",
    "#        'NIV_START_DAY', 'NIV_END_DAY', 'C5_START_DAY', 'C5_END_DAY',\n",
    "#        'PATIENT_AGE', 'GENDER', 'DEATH_DATE', 'DISCHARGE_DATE', 'DEATH_DAY',\n",
    "#        'DISCHARGE_DAY', 'ITU', 'INV', 'NIV', 'C5', 'DEATH', 'DISCHARGED',\n",
    "#        'SURVIVED', 'STILL_IN', 'READMITTED', 'ADMISSION_NB', 'AGE_GROUP',\n",
    "#        'AGE_GROUP_2', 'COPD', 'ASTHMA', 'ILD', 'BRONCHIECTASIS',\n",
    "#        'HYPERTENSION', 'THROMBOEMBOLIC', 'CARDIAC_D', 'RENAL_D', 'LIVER_D',\n",
    "#        'NEURAL_D', 'META_SOLID_TUMOUR', 'MAGLINANT_NEO', 'DIABETES', 'OBESITY',\n",
    "#        'HIV', 'RHEUMATO_D', 'DIMENTIA', 'IMMUNO', 'NB_COMOR',\n",
    "#        'SYMPTOM_ONSET_DATE', 'ADMISSION_DAY_SINCE_ONSET', 'SPECIMEN_DATE',\n",
    "#        'SPECIMEN_DAY_SINCE_ADMISSION', 'SPECIMENT_DAY_SINCE_ONSET',\n",
    "#        'PARAMETER', 'meanValue'],\n",
    "#       dtype='object')"
   ],
   "metadata": {
    "collapsed": false,
    "pycharm": {
     "name": "#%%\n"
    }
   }
  },
  {
   "cell_type": "code",
   "execution_count": 114,
   "outputs": [
    {
     "data": {
      "text/plain": "Index(['Unnamed: 0', 'STUDY_ID', 'ADMISSION_START_DATE', 'ADMISSION_END_DATE',\n       'ITU_START_DATE', 'ITU_END_DATE', 'INVASIVE_VENTILATION_START_DATE',\n       'INVASIVE_VENTILATION_END_DATE', 'NIV_START_DATE', 'NIV_END_DATE',\n       'C5_START_DATE', 'C5_END_DATE', 'ADMISSION_START_DAY',\n       'ADMISSION_END_DAY', 'ITU_START_DAY', 'ITU_END_DAY',\n       'INVASIVE_VENTILATION_START_DAY', 'INVASIVE_VENTILATION_END_DAY',\n       'NIV_START_DAY', 'NIV_END_DAY', 'C5_START_DAY', 'C5_END_DAY',\n       'PATIENT_AGE', 'GENDER', 'DEATH_DATE', 'DISCHARGE_DATE', 'DEATH_DAY',\n       'DISCHARGE_DAY', 'ITU', 'INV', 'NIV', 'C5', 'DEATH', 'DISCHARGED',\n       'SURVIVED', 'STILL_IN', 'READMITTED', 'ADMISSION_NB', 'AGE_GROUP',\n       'AGE_GROUP_2', 'COPD', 'ASTHMA', 'ILD', 'BRONCHIECTASIS',\n       'HYPERTENSION', 'THROMBOEMBOLIC', 'CARDIAC_D', 'RENAL_D', 'LIVER_D',\n       'NEURAL_D', 'META_SOLID_TUMOUR', 'MAGLINANT_NEO', 'DIABETES', 'OBESITY',\n       'HIV', 'RHEUMATO_D', 'DIMENTIA', 'IMMUNO', 'NB_COMOR',\n       'SYMPTOM_ONSET_DATE', 'ADMISSION_DAY_SINCE_ONSET', 'SPECIMEN_DATE',\n       'SPECIMEN_DAY_SINCE_ADMISSION', 'SPECIMENT_DAY_SINCE_ONSET',\n       'PARAMETER', 'meanValue'],\n      dtype='object')"
     },
     "execution_count": 114,
     "metadata": {},
     "output_type": "execute_result"
    }
   ],
   "source": [
    "dfMelted.columns"
   ],
   "metadata": {
    "collapsed": false,
    "pycharm": {
     "name": "#%%\n"
    }
   }
  },
  {
   "cell_type": "code",
   "execution_count": 115,
   "outputs": [
    {
     "data": {
      "text/plain": "  SPECIMEN_DATE  SPECIMEN_DAY_SINCE_ADMISSION  SPECIMENT_DAY_SINCE_ONSET\n0    2020-03-26                           0.0                        5.0\n1    2020-03-27                           1.0                        6.0\n2    2020-03-28                           2.0                        7.0\n3    2020-03-29                           3.0                        8.0\n4    2020-03-30                           4.0                        9.0",
      "text/html": "<div>\n<style scoped>\n    .dataframe tbody tr th:only-of-type {\n        vertical-align: middle;\n    }\n\n    .dataframe tbody tr th {\n        vertical-align: top;\n    }\n\n    .dataframe thead th {\n        text-align: right;\n    }\n</style>\n<table border=\"1\" class=\"dataframe\">\n  <thead>\n    <tr style=\"text-align: right;\">\n      <th></th>\n      <th>SPECIMEN_DATE</th>\n      <th>SPECIMEN_DAY_SINCE_ADMISSION</th>\n      <th>SPECIMENT_DAY_SINCE_ONSET</th>\n    </tr>\n  </thead>\n  <tbody>\n    <tr>\n      <th>0</th>\n      <td>2020-03-26</td>\n      <td>0.0</td>\n      <td>5.0</td>\n    </tr>\n    <tr>\n      <th>1</th>\n      <td>2020-03-27</td>\n      <td>1.0</td>\n      <td>6.0</td>\n    </tr>\n    <tr>\n      <th>2</th>\n      <td>2020-03-28</td>\n      <td>2.0</td>\n      <td>7.0</td>\n    </tr>\n    <tr>\n      <th>3</th>\n      <td>2020-03-29</td>\n      <td>3.0</td>\n      <td>8.0</td>\n    </tr>\n    <tr>\n      <th>4</th>\n      <td>2020-03-30</td>\n      <td>4.0</td>\n      <td>9.0</td>\n    </tr>\n  </tbody>\n</table>\n</div>"
     },
     "execution_count": 115,
     "metadata": {},
     "output_type": "execute_result"
    }
   ],
   "source": [
    "dfMelted[['SPECIMEN_DATE','SPECIMEN_DAY_SINCE_ADMISSION', 'SPECIMENT_DAY_SINCE_ONSET']].head()"
   ],
   "metadata": {
    "collapsed": false,
    "pycharm": {
     "name": "#%%\n"
    }
   }
  },
  {
   "cell_type": "code",
   "execution_count": 115,
   "outputs": [],
   "source": [],
   "metadata": {
    "collapsed": false,
    "pycharm": {
     "name": "#%%\n"
    }
   }
  },
  {
   "cell_type": "markdown",
   "source": [
    "## Etnicity"
   ],
   "metadata": {
    "collapsed": false
   }
  },
  {
   "cell_type": "code",
   "execution_count": 116,
   "outputs": [
    {
     "data": {
      "text/plain": "Index(['STUDY_ID', 'PATIENT_AGE', 'DOB', 'DATE_OF_DEATH', 'DOD_DATE', 'GENDER',\n       'ETHNIC_GROUP', 'SMOKING_HISTORY', 'POSTCODE', 'IS_PREGNANT', 'HEIG',\n       'WEIG', 'BMI', 'FIRST_POS_DATE', 'FIRST_POS_DATE_R', 'FIRST_POS_TIME_R',\n       'ADMIT_DATETIME', 'ADM_DATE_R', 'ADM_TIME_R', 'DISCHARGEDATE',\n       'DISCHARGE_DATE_R', 'DISCHARGE_TIME_R', 'LOS', 'LOS_PREPOS', 'READM28',\n       'READM_DATETIME', 'READM_DATE', 'READM_TIME'],\n      dtype='object')"
     },
     "execution_count": 116,
     "metadata": {},
     "output_type": "execute_result"
    }
   ],
   "source": [
    "fpEthinc = \"C:\\Work\\dev\\dECMT_src\\data_all\\COVID19_Data\\Current\\REACT_Demographics.csv\"\n",
    "# ethnicity\n",
    "dfEthnic = pd.read_csv(fpEthinc)\n",
    "dfEthnic.head()\n",
    "dfEthnic.columns"
   ],
   "metadata": {
    "collapsed": false,
    "pycharm": {
     "name": "#%%\n"
    }
   }
  },
  {
   "cell_type": "code",
   "execution_count": 117,
   "outputs": [],
   "source": [
    "dfEthnicOnly = dfEthnic[['STUDY_ID','ETHNIC_GROUP']]"
   ],
   "metadata": {
    "collapsed": false,
    "pycharm": {
     "name": "#%%\n"
    }
   }
  },
  {
   "cell_type": "code",
   "execution_count": 118,
   "outputs": [
    {
     "data": {
      "text/plain": "264826"
     },
     "execution_count": 118,
     "metadata": {},
     "output_type": "execute_result"
    }
   ],
   "source": [
    "len(dfMelted)"
   ],
   "metadata": {
    "collapsed": false,
    "pycharm": {
     "name": "#%%\n"
    }
   }
  },
  {
   "cell_type": "code",
   "execution_count": 119,
   "outputs": [
    {
     "data": {
      "text/plain": "264826"
     },
     "execution_count": 119,
     "metadata": {},
     "output_type": "execute_result"
    }
   ],
   "source": [
    "dfMelted = pd.merge(dfMelted,dfEthnicOnly,on='STUDY_ID',how='left')\n",
    "len(dfMelted)"
   ],
   "metadata": {
    "collapsed": false,
    "pycharm": {
     "name": "#%%\n"
    }
   }
  },
  {
   "cell_type": "code",
   "execution_count": 120,
   "outputs": [
    {
     "data": {
      "text/plain": "A    194616\nL     14416\nZ      7922\nC      7140\nN      6970\nX      5474\nS      4522\nG      3740\nE      3536\nH      2652\nP      1768\nJ      1394\nD       816\nR       340\nM       238\nB       204\nK       204\nName: ETHNIC_GROUP, dtype: int64"
     },
     "execution_count": 120,
     "metadata": {},
     "output_type": "execute_result"
    }
   ],
   "source": [
    "dfMelted['ETHNIC_GROUP'].value_counts()"
   ],
   "metadata": {
    "collapsed": false,
    "pycharm": {
     "name": "#%%\n"
    }
   }
  },
  {
   "cell_type": "code",
   "execution_count": 121,
   "outputs": [
    {
     "data": {
      "text/plain": "Index(['STUDY_ID', 'PATIENT_AGE', 'DOB', 'DATE_OF_DEATH', 'DOD_DATE', 'GENDER',\n       'ETHNIC_GROUP', 'SMOKING_HISTORY', 'POSTCODE', 'IS_PREGNANT', 'HEIG',\n       'WEIG', 'BMI', 'FIRST_POS_DATE', 'FIRST_POS_DATE_R', 'FIRST_POS_TIME_R',\n       'ADMIT_DATETIME', 'ADM_DATE_R', 'ADM_TIME_R', 'DISCHARGEDATE',\n       'DISCHARGE_DATE_R', 'DISCHARGE_TIME_R', 'LOS', 'LOS_PREPOS', 'READM28',\n       'READM_DATETIME', 'READM_DATE', 'READM_TIME'],\n      dtype='object')"
     },
     "execution_count": 121,
     "metadata": {},
     "output_type": "execute_result"
    }
   ],
   "source": [
    "dfEthnic.columns"
   ],
   "metadata": {
    "collapsed": false,
    "pycharm": {
     "name": "#%%\n"
    }
   }
  },
  {
   "cell_type": "code",
   "execution_count": 122,
   "outputs": [],
   "source": [
    "# dfMelted = dfMelted['ETHNIC_GROUP']"
   ],
   "metadata": {
    "collapsed": false,
    "pycharm": {
     "name": "#%%\n"
    }
   }
  },
  {
   "cell_type": "code",
   "execution_count": 123,
   "outputs": [
    {
     "data": {
      "text/plain": "   Unnamed: 0           STUDY_ID ADMISSION_START_DATE ADMISSION_END_DATE  \\\n0           0  UHSCOVID_00989a42           2020-03-26         2020-04-02   \n1           1  UHSCOVID_00989a42           2020-03-26         2020-04-02   \n2           2  UHSCOVID_00989a42           2020-03-26         2020-04-02   \n3           3  UHSCOVID_00989a42           2020-03-26         2020-04-02   \n4           4  UHSCOVID_00989a42           2020-03-26         2020-04-02   \n\n  ITU_START_DATE ITU_END_DATE INVASIVE_VENTILATION_START_DATE  \\\n0            NaN          NaN                             NaN   \n1            NaN          NaN                             NaN   \n2            NaN          NaN                             NaN   \n3            NaN          NaN                             NaN   \n4            NaN          NaN                             NaN   \n\n  INVASIVE_VENTILATION_END_DATE NIV_START_DATE NIV_END_DATE  ... IMMUNO  \\\n0                           NaN            NaN          NaN  ...    0.0   \n1                           NaN            NaN          NaN  ...    0.0   \n2                           NaN            NaN          NaN  ...    0.0   \n3                           NaN            NaN          NaN  ...    0.0   \n4                           NaN            NaN          NaN  ...    0.0   \n\n  NB_COMOR  SYMPTOM_ONSET_DATE  ADMISSION_DAY_SINCE_ONSET  SPECIMEN_DATE  \\\n0      4.0          2020-03-21                        5.0     2020-03-26   \n1      4.0          2020-03-21                        5.0     2020-03-27   \n2      4.0          2020-03-21                        5.0     2020-03-28   \n3      4.0          2020-03-21                        5.0     2020-03-29   \n4      4.0          2020-03-21                        5.0     2020-03-30   \n\n   SPECIMEN_DAY_SINCE_ADMISSION  SPECIMENT_DAY_SINCE_ONSET  PARAMETER  \\\n0                           0.0                        5.0        ALT   \n1                           1.0                        6.0        ALT   \n2                           2.0                        7.0        ALT   \n3                           3.0                        8.0        ALT   \n4                           4.0                        9.0        ALT   \n\n   meanValue  ETHNIC_GROUP  \n0        NaN             A  \n1        NaN             A  \n2        NaN             A  \n3       23.0             A  \n4        NaN             A  \n\n[5 rows x 67 columns]",
      "text/html": "<div>\n<style scoped>\n    .dataframe tbody tr th:only-of-type {\n        vertical-align: middle;\n    }\n\n    .dataframe tbody tr th {\n        vertical-align: top;\n    }\n\n    .dataframe thead th {\n        text-align: right;\n    }\n</style>\n<table border=\"1\" class=\"dataframe\">\n  <thead>\n    <tr style=\"text-align: right;\">\n      <th></th>\n      <th>Unnamed: 0</th>\n      <th>STUDY_ID</th>\n      <th>ADMISSION_START_DATE</th>\n      <th>ADMISSION_END_DATE</th>\n      <th>ITU_START_DATE</th>\n      <th>ITU_END_DATE</th>\n      <th>INVASIVE_VENTILATION_START_DATE</th>\n      <th>INVASIVE_VENTILATION_END_DATE</th>\n      <th>NIV_START_DATE</th>\n      <th>NIV_END_DATE</th>\n      <th>...</th>\n      <th>IMMUNO</th>\n      <th>NB_COMOR</th>\n      <th>SYMPTOM_ONSET_DATE</th>\n      <th>ADMISSION_DAY_SINCE_ONSET</th>\n      <th>SPECIMEN_DATE</th>\n      <th>SPECIMEN_DAY_SINCE_ADMISSION</th>\n      <th>SPECIMENT_DAY_SINCE_ONSET</th>\n      <th>PARAMETER</th>\n      <th>meanValue</th>\n      <th>ETHNIC_GROUP</th>\n    </tr>\n  </thead>\n  <tbody>\n    <tr>\n      <th>0</th>\n      <td>0</td>\n      <td>UHSCOVID_00989a42</td>\n      <td>2020-03-26</td>\n      <td>2020-04-02</td>\n      <td>NaN</td>\n      <td>NaN</td>\n      <td>NaN</td>\n      <td>NaN</td>\n      <td>NaN</td>\n      <td>NaN</td>\n      <td>...</td>\n      <td>0.0</td>\n      <td>4.0</td>\n      <td>2020-03-21</td>\n      <td>5.0</td>\n      <td>2020-03-26</td>\n      <td>0.0</td>\n      <td>5.0</td>\n      <td>ALT</td>\n      <td>NaN</td>\n      <td>A</td>\n    </tr>\n    <tr>\n      <th>1</th>\n      <td>1</td>\n      <td>UHSCOVID_00989a42</td>\n      <td>2020-03-26</td>\n      <td>2020-04-02</td>\n      <td>NaN</td>\n      <td>NaN</td>\n      <td>NaN</td>\n      <td>NaN</td>\n      <td>NaN</td>\n      <td>NaN</td>\n      <td>...</td>\n      <td>0.0</td>\n      <td>4.0</td>\n      <td>2020-03-21</td>\n      <td>5.0</td>\n      <td>2020-03-27</td>\n      <td>1.0</td>\n      <td>6.0</td>\n      <td>ALT</td>\n      <td>NaN</td>\n      <td>A</td>\n    </tr>\n    <tr>\n      <th>2</th>\n      <td>2</td>\n      <td>UHSCOVID_00989a42</td>\n      <td>2020-03-26</td>\n      <td>2020-04-02</td>\n      <td>NaN</td>\n      <td>NaN</td>\n      <td>NaN</td>\n      <td>NaN</td>\n      <td>NaN</td>\n      <td>NaN</td>\n      <td>...</td>\n      <td>0.0</td>\n      <td>4.0</td>\n      <td>2020-03-21</td>\n      <td>5.0</td>\n      <td>2020-03-28</td>\n      <td>2.0</td>\n      <td>7.0</td>\n      <td>ALT</td>\n      <td>NaN</td>\n      <td>A</td>\n    </tr>\n    <tr>\n      <th>3</th>\n      <td>3</td>\n      <td>UHSCOVID_00989a42</td>\n      <td>2020-03-26</td>\n      <td>2020-04-02</td>\n      <td>NaN</td>\n      <td>NaN</td>\n      <td>NaN</td>\n      <td>NaN</td>\n      <td>NaN</td>\n      <td>NaN</td>\n      <td>...</td>\n      <td>0.0</td>\n      <td>4.0</td>\n      <td>2020-03-21</td>\n      <td>5.0</td>\n      <td>2020-03-29</td>\n      <td>3.0</td>\n      <td>8.0</td>\n      <td>ALT</td>\n      <td>23.0</td>\n      <td>A</td>\n    </tr>\n    <tr>\n      <th>4</th>\n      <td>4</td>\n      <td>UHSCOVID_00989a42</td>\n      <td>2020-03-26</td>\n      <td>2020-04-02</td>\n      <td>NaN</td>\n      <td>NaN</td>\n      <td>NaN</td>\n      <td>NaN</td>\n      <td>NaN</td>\n      <td>NaN</td>\n      <td>...</td>\n      <td>0.0</td>\n      <td>4.0</td>\n      <td>2020-03-21</td>\n      <td>5.0</td>\n      <td>2020-03-30</td>\n      <td>4.0</td>\n      <td>9.0</td>\n      <td>ALT</td>\n      <td>NaN</td>\n      <td>A</td>\n    </tr>\n  </tbody>\n</table>\n<p>5 rows × 67 columns</p>\n</div>"
     },
     "execution_count": 123,
     "metadata": {},
     "output_type": "execute_result"
    }
   ],
   "source": [
    "dfMelted.head()"
   ],
   "metadata": {
    "collapsed": false,
    "pycharm": {
     "name": "#%%\n"
    }
   }
  },
  {
   "cell_type": "code",
   "execution_count": 124,
   "outputs": [
    {
     "data": {
      "text/plain": "0.0    257618\n1.0      7208\nName: READMITTED, dtype: int64"
     },
     "execution_count": 124,
     "metadata": {},
     "output_type": "execute_result"
    }
   ],
   "source": [
    "dfMelted['READMITTED'].value_counts()"
   ],
   "metadata": {
    "collapsed": false,
    "pycharm": {
     "name": "#%%\n"
    }
   }
  },
  {
   "cell_type": "code",
   "execution_count": 125,
   "outputs": [
    {
     "data": {
      "text/plain": "UHSCOVID_1277db7c    4590\nUHSCOVID_a567e383    4488\nUHSCOVID_beb0ab71    3706\nUHSCOVID_6d0785dc    2686\nUHSCOVID_b8332747    2618\n                     ... \nUHSCOVID_9d78e309      34\nUHSCOVID_9980073f      34\nUHSCOVID_3ba67132      34\nUHSCOVID_e289bcb7      34\nUHSCOVID_bd7219d6      34\nName: STUDY_ID, Length: 651, dtype: int64"
     },
     "execution_count": 125,
     "metadata": {},
     "output_type": "execute_result"
    }
   ],
   "source": [
    "dfMelted['STUDY_ID'].value_counts()"
   ],
   "metadata": {
    "collapsed": false,
    "pycharm": {
     "name": "#%%\n"
    }
   }
  },
  {
   "cell_type": "code",
   "execution_count": 126,
   "outputs": [
    {
     "data": {
      "text/plain": "651"
     },
     "execution_count": 126,
     "metadata": {},
     "output_type": "execute_result"
    }
   ],
   "source": [
    "len(dfMelted['STUDY_ID'].unique())"
   ],
   "metadata": {
    "collapsed": false,
    "pycharm": {
     "name": "#%%\n"
    }
   }
  },
  {
   "cell_type": "code",
   "execution_count": 126,
   "outputs": [],
   "source": [],
   "metadata": {
    "collapsed": false,
    "pycharm": {
     "name": "#%%\n"
    }
   }
  },
  {
   "cell_type": "code",
   "execution_count": 127,
   "outputs": [],
   "source": [
    "x=dfMelted['ADMISSION_DAY_SINCE_ONSET'].unique()"
   ],
   "metadata": {
    "collapsed": false,
    "pycharm": {
     "name": "#%%\n"
    }
   }
  },
  {
   "cell_type": "code",
   "execution_count": 127,
   "outputs": [],
   "source": [],
   "metadata": {
    "collapsed": false,
    "pycharm": {
     "name": "#%%\n"
    }
   }
  },
  {
   "cell_type": "code",
   "execution_count": 128,
   "outputs": [
    {
     "data": {
      "text/plain": " 0.0     23732\n 4.0     21760\n 7.0     21148\n 14.0    14620\n 1.0     10778\n         ...  \n-22.0      306\n-31.0      306\n 25.0      272\n-26.0      238\n 22.0      136\nName: ADMISSION_DAY_SINCE_ONSET, Length: 62, dtype: int64"
     },
     "execution_count": 128,
     "metadata": {},
     "output_type": "execute_result"
    }
   ],
   "source": [
    "y=dfMelted['ADMISSION_DAY_SINCE_ONSET'].value_counts()\n",
    "y"
   ],
   "metadata": {
    "collapsed": false,
    "pycharm": {
     "name": "#%%\n"
    }
   }
  },
  {
   "cell_type": "code",
   "execution_count": 129,
   "outputs": [
    {
     "data": {
      "text/plain": "Index(['Unnamed: 0', 'STUDY_ID', 'ADMISSION_START_DATE', 'ADMISSION_END_DATE',\n       'ITU_START_DATE', 'ITU_END_DATE', 'INVASIVE_VENTILATION_START_DATE',\n       'INVASIVE_VENTILATION_END_DATE', 'NIV_START_DATE', 'NIV_END_DATE',\n       'C5_START_DATE', 'C5_END_DATE', 'ADMISSION_START_DAY',\n       'ADMISSION_END_DAY', 'ITU_START_DAY', 'ITU_END_DAY',\n       'INVASIVE_VENTILATION_START_DAY', 'INVASIVE_VENTILATION_END_DAY',\n       'NIV_START_DAY', 'NIV_END_DAY', 'C5_START_DAY', 'C5_END_DAY',\n       'PATIENT_AGE', 'GENDER', 'DEATH_DATE', 'DISCHARGE_DATE', 'DEATH_DAY',\n       'DISCHARGE_DAY', 'ITU', 'INV', 'NIV', 'C5', 'DEATH', 'DISCHARGED',\n       'SURVIVED', 'STILL_IN', 'READMITTED', 'ADMISSION_NB', 'AGE_GROUP',\n       'AGE_GROUP_2', 'COPD', 'ASTHMA', 'ILD', 'BRONCHIECTASIS',\n       'HYPERTENSION', 'THROMBOEMBOLIC', 'CARDIAC_D', 'RENAL_D', 'LIVER_D',\n       'NEURAL_D', 'META_SOLID_TUMOUR', 'MAGLINANT_NEO', 'DIABETES', 'OBESITY',\n       'HIV', 'RHEUMATO_D', 'DIMENTIA', 'IMMUNO', 'NB_COMOR',\n       'SYMPTOM_ONSET_DATE', 'ADMISSION_DAY_SINCE_ONSET', 'SPECIMEN_DATE',\n       'SPECIMEN_DAY_SINCE_ADMISSION', 'SPECIMENT_DAY_SINCE_ONSET',\n       'PARAMETER', 'meanValue', 'ETHNIC_GROUP'],\n      dtype='object')"
     },
     "execution_count": 129,
     "metadata": {},
     "output_type": "execute_result"
    }
   ],
   "source": [
    "dfMelted.columns"
   ],
   "metadata": {
    "collapsed": false,
    "pycharm": {
     "name": "#%%\n"
    }
   }
  },
  {
   "cell_type": "code",
   "execution_count": 130,
   "outputs": [
    {
     "data": {
      "text/plain": "(651,)"
     },
     "execution_count": 130,
     "metadata": {},
     "output_type": "execute_result"
    }
   ],
   "source": [
    "dfMelted['STUDY_ID'].unique().shape"
   ],
   "metadata": {
    "collapsed": false,
    "pycharm": {
     "name": "#%%\n"
    }
   }
  },
  {
   "cell_type": "code",
   "execution_count": 131,
   "outputs": [
    {
     "data": {
      "text/plain": "(264826, 67)"
     },
     "execution_count": 131,
     "metadata": {},
     "output_type": "execute_result"
    }
   ],
   "source": [
    "dfMelted.shape"
   ],
   "metadata": {
    "collapsed": false,
    "pycharm": {
     "name": "#%%\n"
    }
   }
  },
  {
   "cell_type": "code",
   "execution_count": 132,
   "outputs": [],
   "source": [
    "# type(x)\n",
    "# plt.plot.hist(x)"
   ],
   "metadata": {
    "collapsed": false,
    "pycharm": {
     "name": "#%%\n"
    }
   }
  },
  {
   "cell_type": "code",
   "execution_count": 133,
   "outputs": [
    {
     "data": {
      "text/plain": "Index(['Unnamed: 0', 'STUDY_ID', 'ADMISSION_START_DATE', 'ADMISSION_END_DATE',\n       'ITU_START_DATE', 'ITU_END_DATE', 'INVASIVE_VENTILATION_START_DATE',\n       'INVASIVE_VENTILATION_END_DATE', 'NIV_START_DATE', 'NIV_END_DATE',\n       'C5_START_DATE', 'C5_END_DATE', 'ADMISSION_START_DAY',\n       'ADMISSION_END_DAY', 'ITU_START_DAY', 'ITU_END_DAY',\n       'INVASIVE_VENTILATION_START_DAY', 'INVASIVE_VENTILATION_END_DAY',\n       'NIV_START_DAY', 'NIV_END_DAY', 'C5_START_DAY', 'C5_END_DAY',\n       'PATIENT_AGE', 'GENDER', 'DEATH_DATE', 'DISCHARGE_DATE', 'DEATH_DAY',\n       'DISCHARGE_DAY', 'ITU', 'INV', 'NIV', 'C5', 'DEATH', 'DISCHARGED',\n       'SURVIVED', 'STILL_IN', 'READMITTED', 'ADMISSION_NB', 'AGE_GROUP',\n       'AGE_GROUP_2', 'COPD', 'ASTHMA', 'ILD', 'BRONCHIECTASIS',\n       'HYPERTENSION', 'THROMBOEMBOLIC', 'CARDIAC_D', 'RENAL_D', 'LIVER_D',\n       'NEURAL_D', 'META_SOLID_TUMOUR', 'MAGLINANT_NEO', 'DIABETES', 'OBESITY',\n       'HIV', 'RHEUMATO_D', 'DIMENTIA', 'IMMUNO', 'NB_COMOR',\n       'SYMPTOM_ONSET_DATE', 'ADMISSION_DAY_SINCE_ONSET', 'SPECIMEN_DATE',\n       'SPECIMEN_DAY_SINCE_ADMISSION', 'SPECIMENT_DAY_SINCE_ONSET',\n       'PARAMETER', 'meanValue', 'ETHNIC_GROUP'],\n      dtype='object')"
     },
     "execution_count": 133,
     "metadata": {},
     "output_type": "execute_result"
    }
   ],
   "source": [
    "dfMelted.columns"
   ],
   "metadata": {
    "collapsed": false,
    "pycharm": {
     "name": "#%%\n"
    }
   }
  },
  {
   "cell_type": "code",
   "execution_count": 134,
   "outputs": [
    {
     "data": {
      "text/plain": "(264826, 67)"
     },
     "execution_count": 134,
     "metadata": {},
     "output_type": "execute_result"
    }
   ],
   "source": [
    "dfMelted.shape"
   ],
   "metadata": {
    "collapsed": false,
    "pycharm": {
     "name": "#%%\n"
    }
   }
  },
  {
   "cell_type": "code",
   "execution_count": 135,
   "outputs": [
    {
     "data": {
      "text/plain": "0.0    177990\n1.0     86836\nName: ITU, dtype: int64"
     },
     "execution_count": 135,
     "metadata": {},
     "output_type": "execute_result"
    }
   ],
   "source": [
    "dfMelted['ITU'].value_counts()"
   ],
   "metadata": {
    "collapsed": false,
    "pycharm": {
     "name": "#%%\n"
    }
   }
  },
  {
   "cell_type": "code",
   "execution_count": 136,
   "outputs": [],
   "source": [
    "selectedColsUnique = ['STUDY_ID','ADMISSION_START_DATE','ADMISSION_DAY_SINCE_ONSET', 'SYMPTOM_ONSET_DATE', 'ADMISSION_END_DATE','DEATH_DATE',\n",
    "'DISCHARGE_DATE', 'DEATH', 'DISCHARGED','SURVIVED','READMITTED']\n",
    "\n",
    "selectedCols = ['STUDY_ID','ADMISSION_START_DATE','ADMISSION_DAY_SINCE_ONSET',  'SYMPTOM_ONSET_DATE', 'ADMISSION_END_DATE','DEATH_DATE',\n",
    "'DISCHARGE_DATE', 'DEATH', 'DISCHARGED','SURVIVED','ITU','NIV','READMITTED','PATIENT_AGE', 'GENDER','ASTHMA', 'COPD','BRONCHIECTASIS',\n",
    "       'HYPERTENSION', 'THROMBOEMBOLIC', 'CARDIAC_D', 'RENAL_D', 'LIVER_D',\n",
    "       'NEURAL_D', 'META_SOLID_TUMOUR', 'MAGLINANT_NEO', 'DIABETES', 'OBESITY',\n",
    "       'HIV', 'RHEUMATO_D', 'DIMENTIA', 'IMMUNO', 'NB_COMOR','ETHNIC_GROUP','SPECIMEN_DATE', 'SPECIMEN_DAY_SINCE_ADMISSION', 'SPECIMENT_DAY_SINCE_ONSET',\n",
    "       'PARAMETER', 'meanValue']"
   ],
   "metadata": {
    "collapsed": false,
    "pycharm": {
     "name": "#%%\n"
    }
   }
  },
  {
   "cell_type": "code",
   "execution_count": 137,
   "outputs": [
    {
     "data": {
      "text/plain": "             STUDY_ID ADMISSION_START_DATE  ADMISSION_DAY_SINCE_ONSET  \\\n0   UHSCOVID_00989a42           2020-03-26                        5.0   \n8   UHSCOVID_00ac1e32           2020-04-07                       -4.0   \n51  UHSCOVID_00cb7bdd           2020-04-10                        5.0   \n54  UHSCOVID_01add35c           2020-05-22                        0.0   \n57  UHSCOVID_01f7838d           2020-05-04                       -7.0   \n\n   SYMPTOM_ONSET_DATE ADMISSION_END_DATE  DEATH_DATE DISCHARGE_DATE  DEATH  \\\n0          2020-03-21         2020-04-02         NaN     2020-04-02    0.0   \n8          2020-04-11         2020-05-19         NaN     2020-05-19    0.0   \n51         2020-04-05         2020-04-13  2020-04-13     2020-04-13    1.0   \n54         2020-05-22         2020-05-23  2020-05-27     2020-05-23    1.0   \n57         2020-05-11         2020-05-17         NaN     2020-05-17    0.0   \n\n    DISCHARGED  SURVIVED  ...  RHEUMATO_D  DIMENTIA  IMMUNO  NB_COMOR  \\\n0          1.0       1.0  ...         0.0       0.0     0.0       4.0   \n8          1.0       1.0  ...         0.0       0.0     0.0       1.0   \n51         1.0       0.0  ...         0.0       0.0     0.0       5.0   \n54         1.0       0.0  ...         0.0       0.0     0.0       1.0   \n57         1.0       1.0  ...         0.0       0.0     0.0       5.0   \n\n   ETHNIC_GROUP  SPECIMEN_DATE  SPECIMEN_DAY_SINCE_ADMISSION  \\\n0             A     2020-03-26                           0.0   \n8             A     2020-04-07                           0.0   \n51            A     2020-04-10                           0.0   \n54            A     2020-05-22                           0.0   \n57            A     2020-05-04                           0.0   \n\n    SPECIMENT_DAY_SINCE_ONSET  PARAMETER  meanValue  \n0                         5.0        ALT        NaN  \n8                        -4.0        ALT        NaN  \n51                        5.0        ALT       25.0  \n54                        0.0        ALT        8.0  \n57                       -7.0        ALT        9.0  \n\n[5 rows x 39 columns]",
      "text/html": "<div>\n<style scoped>\n    .dataframe tbody tr th:only-of-type {\n        vertical-align: middle;\n    }\n\n    .dataframe tbody tr th {\n        vertical-align: top;\n    }\n\n    .dataframe thead th {\n        text-align: right;\n    }\n</style>\n<table border=\"1\" class=\"dataframe\">\n  <thead>\n    <tr style=\"text-align: right;\">\n      <th></th>\n      <th>STUDY_ID</th>\n      <th>ADMISSION_START_DATE</th>\n      <th>ADMISSION_DAY_SINCE_ONSET</th>\n      <th>SYMPTOM_ONSET_DATE</th>\n      <th>ADMISSION_END_DATE</th>\n      <th>DEATH_DATE</th>\n      <th>DISCHARGE_DATE</th>\n      <th>DEATH</th>\n      <th>DISCHARGED</th>\n      <th>SURVIVED</th>\n      <th>...</th>\n      <th>RHEUMATO_D</th>\n      <th>DIMENTIA</th>\n      <th>IMMUNO</th>\n      <th>NB_COMOR</th>\n      <th>ETHNIC_GROUP</th>\n      <th>SPECIMEN_DATE</th>\n      <th>SPECIMEN_DAY_SINCE_ADMISSION</th>\n      <th>SPECIMENT_DAY_SINCE_ONSET</th>\n      <th>PARAMETER</th>\n      <th>meanValue</th>\n    </tr>\n  </thead>\n  <tbody>\n    <tr>\n      <th>0</th>\n      <td>UHSCOVID_00989a42</td>\n      <td>2020-03-26</td>\n      <td>5.0</td>\n      <td>2020-03-21</td>\n      <td>2020-04-02</td>\n      <td>NaN</td>\n      <td>2020-04-02</td>\n      <td>0.0</td>\n      <td>1.0</td>\n      <td>1.0</td>\n      <td>...</td>\n      <td>0.0</td>\n      <td>0.0</td>\n      <td>0.0</td>\n      <td>4.0</td>\n      <td>A</td>\n      <td>2020-03-26</td>\n      <td>0.0</td>\n      <td>5.0</td>\n      <td>ALT</td>\n      <td>NaN</td>\n    </tr>\n    <tr>\n      <th>8</th>\n      <td>UHSCOVID_00ac1e32</td>\n      <td>2020-04-07</td>\n      <td>-4.0</td>\n      <td>2020-04-11</td>\n      <td>2020-05-19</td>\n      <td>NaN</td>\n      <td>2020-05-19</td>\n      <td>0.0</td>\n      <td>1.0</td>\n      <td>1.0</td>\n      <td>...</td>\n      <td>0.0</td>\n      <td>0.0</td>\n      <td>0.0</td>\n      <td>1.0</td>\n      <td>A</td>\n      <td>2020-04-07</td>\n      <td>0.0</td>\n      <td>-4.0</td>\n      <td>ALT</td>\n      <td>NaN</td>\n    </tr>\n    <tr>\n      <th>51</th>\n      <td>UHSCOVID_00cb7bdd</td>\n      <td>2020-04-10</td>\n      <td>5.0</td>\n      <td>2020-04-05</td>\n      <td>2020-04-13</td>\n      <td>2020-04-13</td>\n      <td>2020-04-13</td>\n      <td>1.0</td>\n      <td>1.0</td>\n      <td>0.0</td>\n      <td>...</td>\n      <td>0.0</td>\n      <td>0.0</td>\n      <td>0.0</td>\n      <td>5.0</td>\n      <td>A</td>\n      <td>2020-04-10</td>\n      <td>0.0</td>\n      <td>5.0</td>\n      <td>ALT</td>\n      <td>25.0</td>\n    </tr>\n    <tr>\n      <th>54</th>\n      <td>UHSCOVID_01add35c</td>\n      <td>2020-05-22</td>\n      <td>0.0</td>\n      <td>2020-05-22</td>\n      <td>2020-05-23</td>\n      <td>2020-05-27</td>\n      <td>2020-05-23</td>\n      <td>1.0</td>\n      <td>1.0</td>\n      <td>0.0</td>\n      <td>...</td>\n      <td>0.0</td>\n      <td>0.0</td>\n      <td>0.0</td>\n      <td>1.0</td>\n      <td>A</td>\n      <td>2020-05-22</td>\n      <td>0.0</td>\n      <td>0.0</td>\n      <td>ALT</td>\n      <td>8.0</td>\n    </tr>\n    <tr>\n      <th>57</th>\n      <td>UHSCOVID_01f7838d</td>\n      <td>2020-05-04</td>\n      <td>-7.0</td>\n      <td>2020-05-11</td>\n      <td>2020-05-17</td>\n      <td>NaN</td>\n      <td>2020-05-17</td>\n      <td>0.0</td>\n      <td>1.0</td>\n      <td>1.0</td>\n      <td>...</td>\n      <td>0.0</td>\n      <td>0.0</td>\n      <td>0.0</td>\n      <td>5.0</td>\n      <td>A</td>\n      <td>2020-05-04</td>\n      <td>0.0</td>\n      <td>-7.0</td>\n      <td>ALT</td>\n      <td>9.0</td>\n    </tr>\n  </tbody>\n</table>\n<p>5 rows × 39 columns</p>\n</div>"
     },
     "execution_count": 137,
     "metadata": {},
     "output_type": "execute_result"
    }
   ],
   "source": [
    "dfMeltedUnique = dfMelted.drop_duplicates(selectedColsUnique)[selectedCols]\n",
    "dfMeltedUnique.head()"
   ],
   "metadata": {
    "collapsed": false,
    "pycharm": {
     "name": "#%%\n"
    }
   }
  },
  {
   "cell_type": "code",
   "execution_count": 138,
   "outputs": [
    {
     "data": {
      "text/plain": "0.0    545\n1.0    106\nName: NIV, dtype: int64"
     },
     "execution_count": 138,
     "metadata": {},
     "output_type": "execute_result"
    }
   ],
   "source": [
    "dfMeltedUnique['NIV'].value_counts()"
   ],
   "metadata": {
    "collapsed": false,
    "pycharm": {
     "name": "#%%\n"
    }
   }
  },
  {
   "cell_type": "code",
   "execution_count": 139,
   "outputs": [],
   "source": [
    "dfMeltedUnique['Death_Discharged_Survived_Str'] = pd.NA\n",
    "dfMeltedUnique['Death_Discharged_Survived'] = pd.NA\n",
    "map1= (dfMeltedUnique['DEATH']==0) & (dfMeltedUnique['DISCHARGED']==1) & (dfMeltedUnique['SURVIVED']==1)\n",
    "dfMeltedUnique.loc[map1,'Death_Discharged_Survived']=0\n",
    "dfMeltedUnique.loc[map1,'Death_Discharged_Survived_Str'] = 'Survived'"
   ],
   "metadata": {
    "collapsed": false,
    "pycharm": {
     "name": "#%%\n"
    }
   }
  },
  {
   "cell_type": "code",
   "execution_count": 140,
   "outputs": [],
   "source": [
    "map2= (dfMeltedUnique['DEATH']==1) & (dfMeltedUnique['DISCHARGED']==0) & (dfMeltedUnique['SURVIVED']==0)\n",
    "dfMeltedUnique.loc[map2,'Death_Discharged_Survived']=1\n",
    "dfMeltedUnique.loc[map2,'Death_Discharged_Survived_Str'] = 'Died in Hospital'"
   ],
   "metadata": {
    "collapsed": false,
    "pycharm": {
     "name": "#%%\n"
    }
   }
  },
  {
   "cell_type": "code",
   "execution_count": 141,
   "outputs": [
    {
     "data": {
      "text/plain": "0    428\n1      1\nName: Death_Discharged_Survived, dtype: int64"
     },
     "execution_count": 141,
     "metadata": {},
     "output_type": "execute_result"
    }
   ],
   "source": [
    "dfMeltedUnique['Death_Discharged_Survived'].value_counts()"
   ],
   "metadata": {
    "collapsed": false,
    "pycharm": {
     "name": "#%%\n"
    }
   }
  },
  {
   "cell_type": "code",
   "execution_count": 142,
   "outputs": [
    {
     "data": {
      "text/plain": "Index(['STUDY_ID', 'ADMISSION_START_DATE', 'ADMISSION_DAY_SINCE_ONSET',\n       'SYMPTOM_ONSET_DATE', 'ADMISSION_END_DATE', 'DEATH_DATE',\n       'DISCHARGE_DATE', 'DEATH', 'DISCHARGED', 'SURVIVED', 'ITU', 'NIV',\n       'READMITTED', 'PATIENT_AGE', 'GENDER', 'ASTHMA', 'COPD',\n       'BRONCHIECTASIS', 'HYPERTENSION', 'THROMBOEMBOLIC', 'CARDIAC_D',\n       'RENAL_D', 'LIVER_D', 'NEURAL_D', 'META_SOLID_TUMOUR', 'MAGLINANT_NEO',\n       'DIABETES', 'OBESITY', 'HIV', 'RHEUMATO_D', 'DIMENTIA', 'IMMUNO',\n       'NB_COMOR', 'ETHNIC_GROUP', 'SPECIMEN_DATE',\n       'SPECIMEN_DAY_SINCE_ADMISSION', 'SPECIMENT_DAY_SINCE_ONSET',\n       'PARAMETER', 'meanValue', 'Death_Discharged_Survived_Str',\n       'Death_Discharged_Survived'],\n      dtype='object')"
     },
     "execution_count": 142,
     "metadata": {},
     "output_type": "execute_result"
    }
   ],
   "source": [
    "dfMeltedUnique.columns"
   ],
   "metadata": {
    "collapsed": false,
    "pycharm": {
     "name": "#%%\n"
    }
   }
  },
  {
   "cell_type": "code",
   "execution_count": 143,
   "outputs": [
    {
     "data": {
      "text/plain": "1"
     },
     "execution_count": 143,
     "metadata": {},
     "output_type": "execute_result"
    }
   ],
   "source": [
    "map2.sum()"
   ],
   "metadata": {
    "collapsed": false,
    "pycharm": {
     "name": "#%%\n"
    }
   }
  },
  {
   "cell_type": "code",
   "execution_count": 144,
   "outputs": [],
   "source": [
    "dfMeltedUnique['Discharged_Readmitted_Died']=\"Missing\" #\"Unknown\"\n",
    "dfMeltedUnique.loc[(dfMeltedUnique['DISCHARGED']==1),'Discharged_Readmitted_Died']= \"Discharged\"\n",
    "dfMeltedUnique.loc[(dfMeltedUnique['READMITTED']==1),'Discharged_Readmitted_Died']= \"Readmitted\"\n",
    "dfMeltedUnique.loc[(dfMeltedUnique['DEATH']==1),'Discharged_Readmitted_Died']= \"Died\""
   ],
   "metadata": {
    "collapsed": false,
    "pycharm": {
     "name": "#%%\n"
    }
   }
  },
  {
   "cell_type": "code",
   "execution_count": 145,
   "outputs": [
    {
     "data": {
      "text/plain": "Discharged    419\nDied          216\nReadmitted      9\nMissing         7\nName: Discharged_Readmitted_Died, dtype: int64"
     },
     "execution_count": 145,
     "metadata": {},
     "output_type": "execute_result"
    }
   ],
   "source": [
    "dfMeltedUnique['Discharged_Readmitted_Died'].value_counts()"
   ],
   "metadata": {
    "collapsed": false,
    "pycharm": {
     "name": "#%%\n"
    }
   }
  },
  {
   "cell_type": "code",
   "execution_count": 146,
   "outputs": [
    {
     "data": {
      "text/plain": "array(['Discharged', 'Died', 'Readmitted', 'Missing'], dtype=object)"
     },
     "execution_count": 146,
     "metadata": {},
     "output_type": "execute_result"
    }
   ],
   "source": [
    "dfMeltedUnique['Discharged_Readmitted_Died'].unique()"
   ],
   "metadata": {
    "collapsed": false,
    "pycharm": {
     "name": "#%%\n"
    }
   }
  },
  {
   "cell_type": "code",
   "execution_count": 147,
   "outputs": [],
   "source": [
    "# Died in Hospital, Died at Home, Survived"
   ],
   "metadata": {
    "collapsed": false,
    "pycharm": {
     "name": "#%%\n"
    }
   }
  },
  {
   "cell_type": "code",
   "execution_count": 148,
   "outputs": [],
   "source": [
    "dfMeltedUnique['Died_in_Hosp_or_Discharged_or_Survived_Str']=pd.NA"
   ],
   "metadata": {
    "collapsed": false,
    "pycharm": {
     "name": "#%%\n"
    }
   }
  },
  {
   "cell_type": "code",
   "execution_count": 148,
   "outputs": [],
   "source": [],
   "metadata": {
    "collapsed": false,
    "pycharm": {
     "name": "#%%\n"
    }
   }
  },
  {
   "cell_type": "code",
   "execution_count": 149,
   "outputs": [],
   "source": [
    "# Died in Hospital, Died at Home, Survived"
   ],
   "metadata": {
    "collapsed": false,
    "pycharm": {
     "name": "#%%\n"
    }
   }
  },
  {
   "cell_type": "code",
   "execution_count": 150,
   "outputs": [],
   "source": [
    "dfMeltedUnique['Died_or_Survived_Str']=pd.NA"
   ],
   "metadata": {
    "collapsed": false,
    "pycharm": {
     "name": "#%%\n"
    }
   }
  },
  {
   "cell_type": "code",
   "execution_count": 151,
   "outputs": [],
   "source": [
    "dfMeltedUnique['Died_or_Survived'] = dfMeltedUnique['DEATH']"
   ],
   "metadata": {
    "collapsed": false,
    "pycharm": {
     "name": "#%%\n"
    }
   }
  },
  {
   "cell_type": "code",
   "execution_count": 152,
   "outputs": [],
   "source": [
    "mapDied= dfMeltedUnique['DEATH']==1\n",
    "dfMeltedUnique.loc[mapDied,'Died_or_Survived_Str']='Died'"
   ],
   "metadata": {
    "collapsed": false,
    "pycharm": {
     "name": "#%%\n"
    }
   }
  },
  {
   "cell_type": "code",
   "execution_count": 153,
   "outputs": [],
   "source": [
    "mapSurvived = dfMeltedUnique['DEATH']==0\n",
    "dfMeltedUnique.loc[mapSurvived,'Died_or_Survived_Str']='Survived'"
   ],
   "metadata": {
    "collapsed": false,
    "pycharm": {
     "name": "#%%\n"
    }
   }
  },
  {
   "cell_type": "code",
   "execution_count": 154,
   "outputs": [
    {
     "data": {
      "text/plain": "0.0    435\n1.0    216\nName: Died_or_Survived, dtype: int64"
     },
     "execution_count": 154,
     "metadata": {},
     "output_type": "execute_result"
    }
   ],
   "source": [
    "cc = dfMeltedUnique['Died_or_Survived'].value_counts()\n",
    "cc"
   ],
   "metadata": {
    "collapsed": false,
    "pycharm": {
     "name": "#%%\n"
    }
   }
  },
  {
   "cell_type": "code",
   "execution_count": 155,
   "outputs": [
    {
     "data": {
      "text/plain": "pandas.core.series.Series"
     },
     "execution_count": 155,
     "metadata": {},
     "output_type": "execute_result"
    }
   ],
   "source": [
    "type(cc)"
   ],
   "metadata": {
    "collapsed": false,
    "pycharm": {
     "name": "#%%\n"
    }
   }
  },
  {
   "cell_type": "code",
   "execution_count": 156,
   "outputs": [
    {
     "data": {
      "text/plain": "             STUDY_ID ADMISSION_START_DATE  ADMISSION_DAY_SINCE_ONSET  \\\n0   UHSCOVID_00989a42           2020-03-26                        5.0   \n8   UHSCOVID_00ac1e32           2020-04-07                       -4.0   \n51  UHSCOVID_00cb7bdd           2020-04-10                        5.0   \n54  UHSCOVID_01add35c           2020-05-22                        0.0   \n57  UHSCOVID_01f7838d           2020-05-04                       -7.0   \n\n   SYMPTOM_ONSET_DATE ADMISSION_END_DATE  DEATH_DATE DISCHARGE_DATE  DEATH  \\\n0          2020-03-21         2020-04-02         NaN     2020-04-02    0.0   \n8          2020-04-11         2020-05-19         NaN     2020-05-19    0.0   \n51         2020-04-05         2020-04-13  2020-04-13     2020-04-13    1.0   \n54         2020-05-22         2020-05-23  2020-05-27     2020-05-23    1.0   \n57         2020-05-11         2020-05-17         NaN     2020-05-17    0.0   \n\n    DISCHARGED  SURVIVED  ...  SPECIMEN_DAY_SINCE_ADMISSION  \\\n0          1.0       1.0  ...                           0.0   \n8          1.0       1.0  ...                           0.0   \n51         1.0       0.0  ...                           0.0   \n54         1.0       0.0  ...                           0.0   \n57         1.0       1.0  ...                           0.0   \n\n    SPECIMENT_DAY_SINCE_ONSET  PARAMETER  meanValue  \\\n0                         5.0        ALT        NaN   \n8                        -4.0        ALT        NaN   \n51                        5.0        ALT       25.0   \n54                        0.0        ALT        8.0   \n57                       -7.0        ALT        9.0   \n\n   Death_Discharged_Survived_Str  Death_Discharged_Survived  \\\n0                       Survived                          0   \n8                       Survived                          0   \n51                          <NA>                       <NA>   \n54                          <NA>                       <NA>   \n57                      Survived                          0   \n\n    Discharged_Readmitted_Died  Died_in_Hosp_or_Discharged_or_Survived_Str  \\\n0                   Discharged                                        <NA>   \n8                   Discharged                                        <NA>   \n51                        Died                                        <NA>   \n54                        Died                                        <NA>   \n57                  Discharged                                        <NA>   \n\n    Died_or_Survived_Str  Died_or_Survived  \n0               Survived               0.0  \n8               Survived               0.0  \n51                  Died               1.0  \n54                  Died               1.0  \n57              Survived               0.0  \n\n[5 rows x 45 columns]",
      "text/html": "<div>\n<style scoped>\n    .dataframe tbody tr th:only-of-type {\n        vertical-align: middle;\n    }\n\n    .dataframe tbody tr th {\n        vertical-align: top;\n    }\n\n    .dataframe thead th {\n        text-align: right;\n    }\n</style>\n<table border=\"1\" class=\"dataframe\">\n  <thead>\n    <tr style=\"text-align: right;\">\n      <th></th>\n      <th>STUDY_ID</th>\n      <th>ADMISSION_START_DATE</th>\n      <th>ADMISSION_DAY_SINCE_ONSET</th>\n      <th>SYMPTOM_ONSET_DATE</th>\n      <th>ADMISSION_END_DATE</th>\n      <th>DEATH_DATE</th>\n      <th>DISCHARGE_DATE</th>\n      <th>DEATH</th>\n      <th>DISCHARGED</th>\n      <th>SURVIVED</th>\n      <th>...</th>\n      <th>SPECIMEN_DAY_SINCE_ADMISSION</th>\n      <th>SPECIMENT_DAY_SINCE_ONSET</th>\n      <th>PARAMETER</th>\n      <th>meanValue</th>\n      <th>Death_Discharged_Survived_Str</th>\n      <th>Death_Discharged_Survived</th>\n      <th>Discharged_Readmitted_Died</th>\n      <th>Died_in_Hosp_or_Discharged_or_Survived_Str</th>\n      <th>Died_or_Survived_Str</th>\n      <th>Died_or_Survived</th>\n    </tr>\n  </thead>\n  <tbody>\n    <tr>\n      <th>0</th>\n      <td>UHSCOVID_00989a42</td>\n      <td>2020-03-26</td>\n      <td>5.0</td>\n      <td>2020-03-21</td>\n      <td>2020-04-02</td>\n      <td>NaN</td>\n      <td>2020-04-02</td>\n      <td>0.0</td>\n      <td>1.0</td>\n      <td>1.0</td>\n      <td>...</td>\n      <td>0.0</td>\n      <td>5.0</td>\n      <td>ALT</td>\n      <td>NaN</td>\n      <td>Survived</td>\n      <td>0</td>\n      <td>Discharged</td>\n      <td>&lt;NA&gt;</td>\n      <td>Survived</td>\n      <td>0.0</td>\n    </tr>\n    <tr>\n      <th>8</th>\n      <td>UHSCOVID_00ac1e32</td>\n      <td>2020-04-07</td>\n      <td>-4.0</td>\n      <td>2020-04-11</td>\n      <td>2020-05-19</td>\n      <td>NaN</td>\n      <td>2020-05-19</td>\n      <td>0.0</td>\n      <td>1.0</td>\n      <td>1.0</td>\n      <td>...</td>\n      <td>0.0</td>\n      <td>-4.0</td>\n      <td>ALT</td>\n      <td>NaN</td>\n      <td>Survived</td>\n      <td>0</td>\n      <td>Discharged</td>\n      <td>&lt;NA&gt;</td>\n      <td>Survived</td>\n      <td>0.0</td>\n    </tr>\n    <tr>\n      <th>51</th>\n      <td>UHSCOVID_00cb7bdd</td>\n      <td>2020-04-10</td>\n      <td>5.0</td>\n      <td>2020-04-05</td>\n      <td>2020-04-13</td>\n      <td>2020-04-13</td>\n      <td>2020-04-13</td>\n      <td>1.0</td>\n      <td>1.0</td>\n      <td>0.0</td>\n      <td>...</td>\n      <td>0.0</td>\n      <td>5.0</td>\n      <td>ALT</td>\n      <td>25.0</td>\n      <td>&lt;NA&gt;</td>\n      <td>&lt;NA&gt;</td>\n      <td>Died</td>\n      <td>&lt;NA&gt;</td>\n      <td>Died</td>\n      <td>1.0</td>\n    </tr>\n    <tr>\n      <th>54</th>\n      <td>UHSCOVID_01add35c</td>\n      <td>2020-05-22</td>\n      <td>0.0</td>\n      <td>2020-05-22</td>\n      <td>2020-05-23</td>\n      <td>2020-05-27</td>\n      <td>2020-05-23</td>\n      <td>1.0</td>\n      <td>1.0</td>\n      <td>0.0</td>\n      <td>...</td>\n      <td>0.0</td>\n      <td>0.0</td>\n      <td>ALT</td>\n      <td>8.0</td>\n      <td>&lt;NA&gt;</td>\n      <td>&lt;NA&gt;</td>\n      <td>Died</td>\n      <td>&lt;NA&gt;</td>\n      <td>Died</td>\n      <td>1.0</td>\n    </tr>\n    <tr>\n      <th>57</th>\n      <td>UHSCOVID_01f7838d</td>\n      <td>2020-05-04</td>\n      <td>-7.0</td>\n      <td>2020-05-11</td>\n      <td>2020-05-17</td>\n      <td>NaN</td>\n      <td>2020-05-17</td>\n      <td>0.0</td>\n      <td>1.0</td>\n      <td>1.0</td>\n      <td>...</td>\n      <td>0.0</td>\n      <td>-7.0</td>\n      <td>ALT</td>\n      <td>9.0</td>\n      <td>Survived</td>\n      <td>0</td>\n      <td>Discharged</td>\n      <td>&lt;NA&gt;</td>\n      <td>Survived</td>\n      <td>0.0</td>\n    </tr>\n  </tbody>\n</table>\n<p>5 rows × 45 columns</p>\n</div>"
     },
     "execution_count": 156,
     "metadata": {},
     "output_type": "execute_result"
    }
   ],
   "source": [
    "dfMeltedUnique.head()"
   ],
   "metadata": {
    "collapsed": false,
    "pycharm": {
     "name": "#%%\n"
    }
   }
  },
  {
   "cell_type": "code",
   "execution_count": 157,
   "outputs": [
    {
     "data": {
      "text/plain": "Index(['STUDY_ID', 'ADMISSION_START_DATE', 'ADMISSION_DAY_SINCE_ONSET',\n       'SYMPTOM_ONSET_DATE', 'ADMISSION_END_DATE', 'DEATH_DATE',\n       'DISCHARGE_DATE', 'DEATH', 'DISCHARGED', 'SURVIVED', 'ITU', 'NIV',\n       'READMITTED', 'PATIENT_AGE', 'GENDER', 'ASTHMA', 'COPD',\n       'BRONCHIECTASIS', 'HYPERTENSION', 'THROMBOEMBOLIC', 'CARDIAC_D',\n       'RENAL_D', 'LIVER_D', 'NEURAL_D', 'META_SOLID_TUMOUR', 'MAGLINANT_NEO',\n       'DIABETES', 'OBESITY', 'HIV', 'RHEUMATO_D', 'DIMENTIA', 'IMMUNO',\n       'NB_COMOR', 'ETHNIC_GROUP', 'SPECIMEN_DATE',\n       'SPECIMEN_DAY_SINCE_ADMISSION', 'SPECIMENT_DAY_SINCE_ONSET',\n       'PARAMETER', 'meanValue', 'Death_Discharged_Survived_Str',\n       'Death_Discharged_Survived', 'Discharged_Readmitted_Died',\n       'Died_in_Hosp_or_Discharged_or_Survived_Str', 'Died_or_Survived_Str',\n       'Died_or_Survived'],\n      dtype='object')"
     },
     "execution_count": 157,
     "metadata": {},
     "output_type": "execute_result"
    }
   ],
   "source": [
    "dfMeltedUnique.columns"
   ],
   "metadata": {
    "collapsed": false,
    "pycharm": {
     "name": "#%%\n"
    }
   }
  },
  {
   "cell_type": "code",
   "execution_count": 158,
   "outputs": [
    {
     "data": {
      "text/plain": "0       64.0\n8       73.0\n51      76.0\n54      67.0\n57      97.0\n        ... \n7754    47.0\n7759    70.0\n7764    67.0\n7778    88.0\n7787    57.0\nName: PATIENT_AGE, Length: 651, dtype: float64"
     },
     "execution_count": 158,
     "metadata": {},
     "output_type": "execute_result"
    }
   ],
   "source": [
    "dfMeltedUnique['PATIENT_AGE']"
   ],
   "metadata": {
    "collapsed": false,
    "pycharm": {
     "name": "#%%\n"
    }
   }
  },
  {
   "cell_type": "code",
   "execution_count": 159,
   "outputs": [
    {
     "data": {
      "text/plain": "{0: 'Early Presenters', 1: 'Late Presenters', 2: 'Hospital Equired'}"
     },
     "execution_count": 159,
     "metadata": {},
     "output_type": "execute_result"
    }
   ],
   "source": [
    "# dictPresenterType3C = {'(-7,0] Early':0,'>7days Late':1,'<0 days (Hospital)':2}\n",
    "dictPresenterType3C = {'Early Presenters':0,'Late Presenters':1,'Hospital Equired':2}\n",
    "dictPresenterType3CReversed = {v:k for k,v in dictPresenterType3C.items()}\n",
    "dictPresenterType3CReversed"
   ],
   "metadata": {
    "collapsed": false,
    "pycharm": {
     "name": "#%%\n"
    }
   }
  },
  {
   "cell_type": "code",
   "execution_count": 160,
   "outputs": [],
   "source": [
    "dfMeltedUnique['Onset Time']=pd.NA\n",
    "dfMeltedUnique['Symptoms onset']='Unknown'"
   ],
   "metadata": {
    "collapsed": false,
    "pycharm": {
     "name": "#%%\n"
    }
   }
  },
  {
   "cell_type": "code",
   "execution_count": 161,
   "outputs": [],
   "source": [
    "mp1= (dfMeltedUnique['ADMISSION_DAY_SINCE_ONSET']<=7) & (dfMeltedUnique['ADMISSION_DAY_SINCE_ONSET']>=0)\n",
    "epS = 'Early Presenters'\n",
    "epVal = dictPresenterType3C.get(epS)\n",
    "dfMeltedUnique.loc[mp1,'Onset Time'] = epVal\n",
    "dfMeltedUnique.loc[mp1,'Symptoms onset']= dictPresenterType3CReversed[epVal]"
   ],
   "metadata": {
    "collapsed": false,
    "pycharm": {
     "name": "#%%\n"
    }
   }
  },
  {
   "cell_type": "code",
   "execution_count": 162,
   "outputs": [],
   "source": [
    "#{'Early Presenters':0,'Late Presenters':1,'Hospital Equired':2}"
   ],
   "metadata": {
    "collapsed": false,
    "pycharm": {
     "name": "#%%\n"
    }
   }
  },
  {
   "cell_type": "code",
   "execution_count": 163,
   "outputs": [],
   "source": [
    "mp2= (dfMeltedUnique['ADMISSION_DAY_SINCE_ONSET']>7)\n",
    "epS = 'Late Presenters'\n",
    "epVal = dictPresenterType3C.get(epS)\n",
    "dfMeltedUnique.loc[mp2,'Onset Time'] = epVal\n",
    "dfMeltedUnique.loc[mp2,'Symptoms onset']= dictPresenterType3CReversed[epVal]"
   ],
   "metadata": {
    "collapsed": false,
    "pycharm": {
     "name": "#%%\n"
    }
   }
  },
  {
   "cell_type": "code",
   "execution_count": 164,
   "outputs": [],
   "source": [
    "mp3= dfMeltedUnique['ADMISSION_DAY_SINCE_ONSET']<0\n",
    "epS = 'Hospital Equired'\n",
    "epVal = dictPresenterType3C.get(epS)\n",
    "dfMeltedUnique.loc[mp3,'Onset Time'] = epVal\n",
    "dfMeltedUnique.loc[mp3,'Symptoms onset']= dictPresenterType3CReversed[epVal]"
   ],
   "metadata": {
    "collapsed": false,
    "pycharm": {
     "name": "#%%\n"
    }
   }
  },
  {
   "cell_type": "code",
   "execution_count": 165,
   "outputs": [
    {
     "data": {
      "text/plain": "Early Presenters    349\nHospital Equired    123\nLate Presenters     111\nUnknown              68\nName: Symptoms onset, dtype: int64"
     },
     "execution_count": 165,
     "metadata": {},
     "output_type": "execute_result"
    }
   ],
   "source": [
    "dfMeltedUnique['Symptoms onset'].value_counts()"
   ],
   "metadata": {
    "collapsed": false,
    "pycharm": {
     "name": "#%%\n"
    }
   }
  },
  {
   "cell_type": "code",
   "execution_count": 166,
   "outputs": [
    {
     "data": {
      "text/plain": "(651, 47)"
     },
     "execution_count": 166,
     "metadata": {},
     "output_type": "execute_result"
    }
   ],
   "source": [
    "dfMeltedUnique.shape"
   ],
   "metadata": {
    "collapsed": false,
    "pycharm": {
     "name": "#%%\n"
    }
   }
  },
  {
   "cell_type": "code",
   "execution_count": 167,
   "outputs": [
    {
     "data": {
      "text/plain": "             STUDY_ID ADMISSION_START_DATE  ADMISSION_DAY_SINCE_ONSET  \\\n0   UHSCOVID_00989a42           2020-03-26                        5.0   \n8   UHSCOVID_00ac1e32           2020-04-07                       -4.0   \n51  UHSCOVID_00cb7bdd           2020-04-10                        5.0   \n54  UHSCOVID_01add35c           2020-05-22                        0.0   \n57  UHSCOVID_01f7838d           2020-05-04                       -7.0   \n\n   SYMPTOM_ONSET_DATE ADMISSION_END_DATE  DEATH_DATE DISCHARGE_DATE  DEATH  \\\n0          2020-03-21         2020-04-02         NaN     2020-04-02    0.0   \n8          2020-04-11         2020-05-19         NaN     2020-05-19    0.0   \n51         2020-04-05         2020-04-13  2020-04-13     2020-04-13    1.0   \n54         2020-05-22         2020-05-23  2020-05-27     2020-05-23    1.0   \n57         2020-05-11         2020-05-17         NaN     2020-05-17    0.0   \n\n    DISCHARGED  SURVIVED  ...  PARAMETER  meanValue  \\\n0          1.0       1.0  ...        ALT        NaN   \n8          1.0       1.0  ...        ALT        NaN   \n51         1.0       0.0  ...        ALT       25.0   \n54         1.0       0.0  ...        ALT        8.0   \n57         1.0       1.0  ...        ALT        9.0   \n\n    Death_Discharged_Survived_Str  Death_Discharged_Survived  \\\n0                        Survived                          0   \n8                        Survived                          0   \n51                           <NA>                       <NA>   \n54                           <NA>                       <NA>   \n57                       Survived                          0   \n\n   Discharged_Readmitted_Died  Died_in_Hosp_or_Discharged_or_Survived_Str  \\\n0                  Discharged                                        <NA>   \n8                  Discharged                                        <NA>   \n51                       Died                                        <NA>   \n54                       Died                                        <NA>   \n57                 Discharged                                        <NA>   \n\n    Died_or_Survived_Str  Died_or_Survived  Onset Time    Symptoms onset  \n0               Survived               0.0           0  Early Presenters  \n8               Survived               0.0           2  Hospital Equired  \n51                  Died               1.0           0  Early Presenters  \n54                  Died               1.0           0  Early Presenters  \n57              Survived               0.0           2  Hospital Equired  \n\n[5 rows x 47 columns]",
      "text/html": "<div>\n<style scoped>\n    .dataframe tbody tr th:only-of-type {\n        vertical-align: middle;\n    }\n\n    .dataframe tbody tr th {\n        vertical-align: top;\n    }\n\n    .dataframe thead th {\n        text-align: right;\n    }\n</style>\n<table border=\"1\" class=\"dataframe\">\n  <thead>\n    <tr style=\"text-align: right;\">\n      <th></th>\n      <th>STUDY_ID</th>\n      <th>ADMISSION_START_DATE</th>\n      <th>ADMISSION_DAY_SINCE_ONSET</th>\n      <th>SYMPTOM_ONSET_DATE</th>\n      <th>ADMISSION_END_DATE</th>\n      <th>DEATH_DATE</th>\n      <th>DISCHARGE_DATE</th>\n      <th>DEATH</th>\n      <th>DISCHARGED</th>\n      <th>SURVIVED</th>\n      <th>...</th>\n      <th>PARAMETER</th>\n      <th>meanValue</th>\n      <th>Death_Discharged_Survived_Str</th>\n      <th>Death_Discharged_Survived</th>\n      <th>Discharged_Readmitted_Died</th>\n      <th>Died_in_Hosp_or_Discharged_or_Survived_Str</th>\n      <th>Died_or_Survived_Str</th>\n      <th>Died_or_Survived</th>\n      <th>Onset Time</th>\n      <th>Symptoms onset</th>\n    </tr>\n  </thead>\n  <tbody>\n    <tr>\n      <th>0</th>\n      <td>UHSCOVID_00989a42</td>\n      <td>2020-03-26</td>\n      <td>5.0</td>\n      <td>2020-03-21</td>\n      <td>2020-04-02</td>\n      <td>NaN</td>\n      <td>2020-04-02</td>\n      <td>0.0</td>\n      <td>1.0</td>\n      <td>1.0</td>\n      <td>...</td>\n      <td>ALT</td>\n      <td>NaN</td>\n      <td>Survived</td>\n      <td>0</td>\n      <td>Discharged</td>\n      <td>&lt;NA&gt;</td>\n      <td>Survived</td>\n      <td>0.0</td>\n      <td>0</td>\n      <td>Early Presenters</td>\n    </tr>\n    <tr>\n      <th>8</th>\n      <td>UHSCOVID_00ac1e32</td>\n      <td>2020-04-07</td>\n      <td>-4.0</td>\n      <td>2020-04-11</td>\n      <td>2020-05-19</td>\n      <td>NaN</td>\n      <td>2020-05-19</td>\n      <td>0.0</td>\n      <td>1.0</td>\n      <td>1.0</td>\n      <td>...</td>\n      <td>ALT</td>\n      <td>NaN</td>\n      <td>Survived</td>\n      <td>0</td>\n      <td>Discharged</td>\n      <td>&lt;NA&gt;</td>\n      <td>Survived</td>\n      <td>0.0</td>\n      <td>2</td>\n      <td>Hospital Equired</td>\n    </tr>\n    <tr>\n      <th>51</th>\n      <td>UHSCOVID_00cb7bdd</td>\n      <td>2020-04-10</td>\n      <td>5.0</td>\n      <td>2020-04-05</td>\n      <td>2020-04-13</td>\n      <td>2020-04-13</td>\n      <td>2020-04-13</td>\n      <td>1.0</td>\n      <td>1.0</td>\n      <td>0.0</td>\n      <td>...</td>\n      <td>ALT</td>\n      <td>25.0</td>\n      <td>&lt;NA&gt;</td>\n      <td>&lt;NA&gt;</td>\n      <td>Died</td>\n      <td>&lt;NA&gt;</td>\n      <td>Died</td>\n      <td>1.0</td>\n      <td>0</td>\n      <td>Early Presenters</td>\n    </tr>\n    <tr>\n      <th>54</th>\n      <td>UHSCOVID_01add35c</td>\n      <td>2020-05-22</td>\n      <td>0.0</td>\n      <td>2020-05-22</td>\n      <td>2020-05-23</td>\n      <td>2020-05-27</td>\n      <td>2020-05-23</td>\n      <td>1.0</td>\n      <td>1.0</td>\n      <td>0.0</td>\n      <td>...</td>\n      <td>ALT</td>\n      <td>8.0</td>\n      <td>&lt;NA&gt;</td>\n      <td>&lt;NA&gt;</td>\n      <td>Died</td>\n      <td>&lt;NA&gt;</td>\n      <td>Died</td>\n      <td>1.0</td>\n      <td>0</td>\n      <td>Early Presenters</td>\n    </tr>\n    <tr>\n      <th>57</th>\n      <td>UHSCOVID_01f7838d</td>\n      <td>2020-05-04</td>\n      <td>-7.0</td>\n      <td>2020-05-11</td>\n      <td>2020-05-17</td>\n      <td>NaN</td>\n      <td>2020-05-17</td>\n      <td>0.0</td>\n      <td>1.0</td>\n      <td>1.0</td>\n      <td>...</td>\n      <td>ALT</td>\n      <td>9.0</td>\n      <td>Survived</td>\n      <td>0</td>\n      <td>Discharged</td>\n      <td>&lt;NA&gt;</td>\n      <td>Survived</td>\n      <td>0.0</td>\n      <td>2</td>\n      <td>Hospital Equired</td>\n    </tr>\n  </tbody>\n</table>\n<p>5 rows × 47 columns</p>\n</div>"
     },
     "execution_count": 167,
     "metadata": {},
     "output_type": "execute_result"
    }
   ],
   "source": [
    "dfMeltedUnique.head()"
   ],
   "metadata": {
    "collapsed": false,
    "pycharm": {
     "name": "#%%\n"
    }
   }
  },
  {
   "cell_type": "code",
   "execution_count": 168,
   "outputs": [
    {
     "data": {
      "text/plain": "Index(['STUDY_ID', 'ADMISSION_START_DATE', 'ADMISSION_DAY_SINCE_ONSET',\n       'SYMPTOM_ONSET_DATE', 'ADMISSION_END_DATE', 'DEATH_DATE',\n       'DISCHARGE_DATE', 'DEATH', 'DISCHARGED', 'SURVIVED', 'ITU', 'NIV',\n       'READMITTED', 'PATIENT_AGE', 'GENDER', 'ASTHMA', 'COPD',\n       'BRONCHIECTASIS', 'HYPERTENSION', 'THROMBOEMBOLIC', 'CARDIAC_D',\n       'RENAL_D', 'LIVER_D', 'NEURAL_D', 'META_SOLID_TUMOUR', 'MAGLINANT_NEO',\n       'DIABETES', 'OBESITY', 'HIV', 'RHEUMATO_D', 'DIMENTIA', 'IMMUNO',\n       'NB_COMOR', 'ETHNIC_GROUP', 'SPECIMEN_DATE',\n       'SPECIMEN_DAY_SINCE_ADMISSION', 'SPECIMENT_DAY_SINCE_ONSET',\n       'PARAMETER', 'meanValue', 'Death_Discharged_Survived_Str',\n       'Death_Discharged_Survived', 'Discharged_Readmitted_Died',\n       'Died_in_Hosp_or_Discharged_or_Survived_Str', 'Died_or_Survived_Str',\n       'Died_or_Survived', 'Onset Time', 'Symptoms onset'],\n      dtype='object')"
     },
     "execution_count": 168,
     "metadata": {},
     "output_type": "execute_result"
    }
   ],
   "source": [
    "dfMeltedUnique.columns"
   ],
   "metadata": {
    "collapsed": false,
    "pycharm": {
     "name": "#%%\n"
    }
   }
  },
  {
   "cell_type": "markdown",
   "source": [
    "# Died or Survived"
   ],
   "metadata": {
    "collapsed": false
   }
  },
  {
   "cell_type": "code",
   "execution_count": 169,
   "outputs": [
    {
     "data": {
      "text/plain": "Index(['STUDY_ID', 'ADMISSION_START_DATE', 'ADMISSION_DAY_SINCE_ONSET',\n       'SYMPTOM_ONSET_DATE', 'ADMISSION_END_DATE', 'DEATH_DATE',\n       'DISCHARGE_DATE', 'DEATH', 'DISCHARGED', 'SURVIVED', 'ITU', 'NIV',\n       'READMITTED', 'PATIENT_AGE', 'GENDER', 'ASTHMA', 'COPD',\n       'BRONCHIECTASIS', 'HYPERTENSION', 'THROMBOEMBOLIC', 'CARDIAC_D',\n       'RENAL_D', 'LIVER_D', 'NEURAL_D', 'META_SOLID_TUMOUR', 'MAGLINANT_NEO',\n       'DIABETES', 'OBESITY', 'HIV', 'RHEUMATO_D', 'DIMENTIA', 'IMMUNO',\n       'NB_COMOR', 'ETHNIC_GROUP', 'SPECIMEN_DATE',\n       'SPECIMEN_DAY_SINCE_ADMISSION', 'SPECIMENT_DAY_SINCE_ONSET',\n       'PARAMETER', 'meanValue', 'Death_Discharged_Survived_Str',\n       'Death_Discharged_Survived', 'Discharged_Readmitted_Died',\n       'Died_in_Hosp_or_Discharged_or_Survived_Str', 'Died_or_Survived_Str',\n       'Died_or_Survived', 'Onset Time', 'Symptoms onset'],\n      dtype='object')"
     },
     "execution_count": 169,
     "metadata": {},
     "output_type": "execute_result"
    }
   ],
   "source": [
    "# Groupping\n",
    "dfMeltedUnique.columns"
   ],
   "metadata": {
    "collapsed": false,
    "pycharm": {
     "name": "#%%\n"
    }
   }
  },
  {
   "cell_type": "code",
   "execution_count": 170,
   "outputs": [
    {
     "data": {
      "text/plain": "             STUDY_ID ADMISSION_START_DATE  ADMISSION_DAY_SINCE_ONSET  \\\n0   UHSCOVID_00989a42           2020-03-26                        5.0   \n8   UHSCOVID_00ac1e32           2020-04-07                       -4.0   \n51  UHSCOVID_00cb7bdd           2020-04-10                        5.0   \n54  UHSCOVID_01add35c           2020-05-22                        0.0   \n57  UHSCOVID_01f7838d           2020-05-04                       -7.0   \n\n   SYMPTOM_ONSET_DATE ADMISSION_END_DATE  DEATH_DATE DISCHARGE_DATE  DEATH  \\\n0          2020-03-21         2020-04-02         NaN     2020-04-02    0.0   \n8          2020-04-11         2020-05-19         NaN     2020-05-19    0.0   \n51         2020-04-05         2020-04-13  2020-04-13     2020-04-13    1.0   \n54         2020-05-22         2020-05-23  2020-05-27     2020-05-23    1.0   \n57         2020-05-11         2020-05-17         NaN     2020-05-17    0.0   \n\n    DISCHARGED  SURVIVED  ...  PARAMETER  meanValue  \\\n0          1.0       1.0  ...        ALT        NaN   \n8          1.0       1.0  ...        ALT        NaN   \n51         1.0       0.0  ...        ALT       25.0   \n54         1.0       0.0  ...        ALT        8.0   \n57         1.0       1.0  ...        ALT        9.0   \n\n    Death_Discharged_Survived_Str  Death_Discharged_Survived  \\\n0                        Survived                          0   \n8                        Survived                          0   \n51                           <NA>                       <NA>   \n54                           <NA>                       <NA>   \n57                       Survived                          0   \n\n   Discharged_Readmitted_Died  Died_in_Hosp_or_Discharged_or_Survived_Str  \\\n0                  Discharged                                        <NA>   \n8                  Discharged                                        <NA>   \n51                       Died                                        <NA>   \n54                       Died                                        <NA>   \n57                 Discharged                                        <NA>   \n\n    Died_or_Survived_Str  Died_or_Survived  Onset Time    Symptoms onset  \n0               Survived               0.0           0  Early Presenters  \n8               Survived               0.0           2  Hospital Equired  \n51                  Died               1.0           0  Early Presenters  \n54                  Died               1.0           0  Early Presenters  \n57              Survived               0.0           2  Hospital Equired  \n\n[5 rows x 47 columns]",
      "text/html": "<div>\n<style scoped>\n    .dataframe tbody tr th:only-of-type {\n        vertical-align: middle;\n    }\n\n    .dataframe tbody tr th {\n        vertical-align: top;\n    }\n\n    .dataframe thead th {\n        text-align: right;\n    }\n</style>\n<table border=\"1\" class=\"dataframe\">\n  <thead>\n    <tr style=\"text-align: right;\">\n      <th></th>\n      <th>STUDY_ID</th>\n      <th>ADMISSION_START_DATE</th>\n      <th>ADMISSION_DAY_SINCE_ONSET</th>\n      <th>SYMPTOM_ONSET_DATE</th>\n      <th>ADMISSION_END_DATE</th>\n      <th>DEATH_DATE</th>\n      <th>DISCHARGE_DATE</th>\n      <th>DEATH</th>\n      <th>DISCHARGED</th>\n      <th>SURVIVED</th>\n      <th>...</th>\n      <th>PARAMETER</th>\n      <th>meanValue</th>\n      <th>Death_Discharged_Survived_Str</th>\n      <th>Death_Discharged_Survived</th>\n      <th>Discharged_Readmitted_Died</th>\n      <th>Died_in_Hosp_or_Discharged_or_Survived_Str</th>\n      <th>Died_or_Survived_Str</th>\n      <th>Died_or_Survived</th>\n      <th>Onset Time</th>\n      <th>Symptoms onset</th>\n    </tr>\n  </thead>\n  <tbody>\n    <tr>\n      <th>0</th>\n      <td>UHSCOVID_00989a42</td>\n      <td>2020-03-26</td>\n      <td>5.0</td>\n      <td>2020-03-21</td>\n      <td>2020-04-02</td>\n      <td>NaN</td>\n      <td>2020-04-02</td>\n      <td>0.0</td>\n      <td>1.0</td>\n      <td>1.0</td>\n      <td>...</td>\n      <td>ALT</td>\n      <td>NaN</td>\n      <td>Survived</td>\n      <td>0</td>\n      <td>Discharged</td>\n      <td>&lt;NA&gt;</td>\n      <td>Survived</td>\n      <td>0.0</td>\n      <td>0</td>\n      <td>Early Presenters</td>\n    </tr>\n    <tr>\n      <th>8</th>\n      <td>UHSCOVID_00ac1e32</td>\n      <td>2020-04-07</td>\n      <td>-4.0</td>\n      <td>2020-04-11</td>\n      <td>2020-05-19</td>\n      <td>NaN</td>\n      <td>2020-05-19</td>\n      <td>0.0</td>\n      <td>1.0</td>\n      <td>1.0</td>\n      <td>...</td>\n      <td>ALT</td>\n      <td>NaN</td>\n      <td>Survived</td>\n      <td>0</td>\n      <td>Discharged</td>\n      <td>&lt;NA&gt;</td>\n      <td>Survived</td>\n      <td>0.0</td>\n      <td>2</td>\n      <td>Hospital Equired</td>\n    </tr>\n    <tr>\n      <th>51</th>\n      <td>UHSCOVID_00cb7bdd</td>\n      <td>2020-04-10</td>\n      <td>5.0</td>\n      <td>2020-04-05</td>\n      <td>2020-04-13</td>\n      <td>2020-04-13</td>\n      <td>2020-04-13</td>\n      <td>1.0</td>\n      <td>1.0</td>\n      <td>0.0</td>\n      <td>...</td>\n      <td>ALT</td>\n      <td>25.0</td>\n      <td>&lt;NA&gt;</td>\n      <td>&lt;NA&gt;</td>\n      <td>Died</td>\n      <td>&lt;NA&gt;</td>\n      <td>Died</td>\n      <td>1.0</td>\n      <td>0</td>\n      <td>Early Presenters</td>\n    </tr>\n    <tr>\n      <th>54</th>\n      <td>UHSCOVID_01add35c</td>\n      <td>2020-05-22</td>\n      <td>0.0</td>\n      <td>2020-05-22</td>\n      <td>2020-05-23</td>\n      <td>2020-05-27</td>\n      <td>2020-05-23</td>\n      <td>1.0</td>\n      <td>1.0</td>\n      <td>0.0</td>\n      <td>...</td>\n      <td>ALT</td>\n      <td>8.0</td>\n      <td>&lt;NA&gt;</td>\n      <td>&lt;NA&gt;</td>\n      <td>Died</td>\n      <td>&lt;NA&gt;</td>\n      <td>Died</td>\n      <td>1.0</td>\n      <td>0</td>\n      <td>Early Presenters</td>\n    </tr>\n    <tr>\n      <th>57</th>\n      <td>UHSCOVID_01f7838d</td>\n      <td>2020-05-04</td>\n      <td>-7.0</td>\n      <td>2020-05-11</td>\n      <td>2020-05-17</td>\n      <td>NaN</td>\n      <td>2020-05-17</td>\n      <td>0.0</td>\n      <td>1.0</td>\n      <td>1.0</td>\n      <td>...</td>\n      <td>ALT</td>\n      <td>9.0</td>\n      <td>Survived</td>\n      <td>0</td>\n      <td>Discharged</td>\n      <td>&lt;NA&gt;</td>\n      <td>Survived</td>\n      <td>0.0</td>\n      <td>2</td>\n      <td>Hospital Equired</td>\n    </tr>\n  </tbody>\n</table>\n<p>5 rows × 47 columns</p>\n</div>"
     },
     "execution_count": 170,
     "metadata": {},
     "output_type": "execute_result"
    }
   ],
   "source": [
    "# dfSel\n",
    "# colSelected = ['STUDY_ID','ADMISSION_START_DATE','ETHNIC_GROUP', 'Symptoms onset', 'Died_or_Survived_Str','Discharged_Readmitted_Died','NIV',\n",
    "#                'PATIENT_AGE', 'GENDER','ASTHMA', 'COPD','BRONCHIECTASIS',\n",
    "#        'HYPERTENSION', 'THROMBOEMBOLIC', 'CARDIAC_D', 'RENAL_D', 'LIVER_D',\n",
    "#        'NEURAL_D', 'META_SOLID_TUMOUR', 'MAGLINANT_NEO', 'DIABETES', 'OBESITY',\n",
    "#        'HIV', 'RHEUMATO_D', 'DIMENTIA', 'IMMUNO', 'NB_COMOR','SPECIMEN_DATE', 'SPECIMEN_DAY_SINCE_ADMISSION', 'SPECIMENT_DAY_SINCE_ONSET',\n",
    "#        'PARAMETER', 'meanValue']\n",
    "# dfSel = dfMeltedUnique[colSelected]\n",
    "dfSel = dfMeltedUnique\n",
    "dfSel.head()"
   ],
   "metadata": {
    "collapsed": false,
    "pycharm": {
     "name": "#%%\n"
    }
   }
  },
  {
   "cell_type": "code",
   "execution_count": 171,
   "outputs": [
    {
     "data": {
      "text/plain": "Index(['Unnamed: 0', 'STUDY_ID', 'ADMISSION_START_DATE', 'ADMISSION_END_DATE',\n       'ITU_START_DATE', 'ITU_END_DATE', 'INVASIVE_VENTILATION_START_DATE',\n       'INVASIVE_VENTILATION_END_DATE', 'NIV_START_DATE', 'NIV_END_DATE',\n       'C5_START_DATE', 'C5_END_DATE', 'ADMISSION_START_DAY',\n       'ADMISSION_END_DAY', 'ITU_START_DAY', 'ITU_END_DAY',\n       'INVASIVE_VENTILATION_START_DAY', 'INVASIVE_VENTILATION_END_DAY',\n       'NIV_START_DAY', 'NIV_END_DAY', 'C5_START_DAY', 'C5_END_DAY',\n       'PATIENT_AGE', 'GENDER', 'DEATH_DATE', 'DISCHARGE_DATE', 'DEATH_DAY',\n       'DISCHARGE_DAY', 'ITU', 'INV', 'NIV', 'C5', 'DEATH', 'DISCHARGED',\n       'SURVIVED', 'STILL_IN', 'READMITTED', 'ADMISSION_NB', 'AGE_GROUP',\n       'AGE_GROUP_2', 'COPD', 'ASTHMA', 'ILD', 'BRONCHIECTASIS',\n       'HYPERTENSION', 'THROMBOEMBOLIC', 'CARDIAC_D', 'RENAL_D', 'LIVER_D',\n       'NEURAL_D', 'META_SOLID_TUMOUR', 'MAGLINANT_NEO', 'DIABETES', 'OBESITY',\n       'HIV', 'RHEUMATO_D', 'DIMENTIA', 'IMMUNO', 'NB_COMOR',\n       'SYMPTOM_ONSET_DATE', 'ADMISSION_DAY_SINCE_ONSET', 'SPECIMEN_DATE',\n       'SPECIMEN_DAY_SINCE_ADMISSION', 'SPECIMENT_DAY_SINCE_ONSET',\n       'PARAMETER', 'meanValue', 'ETHNIC_GROUP'],\n      dtype='object')"
     },
     "execution_count": 171,
     "metadata": {},
     "output_type": "execute_result"
    }
   ],
   "source": [
    "dfMelted.columns"
   ],
   "metadata": {
    "collapsed": false,
    "pycharm": {
     "name": "#%%\n"
    }
   }
  },
  {
   "cell_type": "code",
   "execution_count": 172,
   "outputs": [],
   "source": [
    "# 'SPECIMEN_DATE', 'SPECIMEN_DAY_SINCE_ADMISSION', 'SPECIMENT_DAY_SINCE_ONSET','PARAMETER', 'meanValue',\n",
    "# 'ETHNIC_GROUP'"
   ],
   "metadata": {
    "collapsed": false,
    "pycharm": {
     "name": "#%%\n"
    }
   }
  },
  {
   "cell_type": "code",
   "execution_count": 173,
   "outputs": [
    {
     "data": {
      "text/plain": "                 STUDY_ID SPECIMEN_DATE  SPECIMEN_DAY_SINCE_ADMISSION  \\\n0       UHSCOVID_00989a42    2020-03-26                           0.0   \n1       UHSCOVID_00989a42    2020-03-27                           1.0   \n2       UHSCOVID_00989a42    2020-03-28                           2.0   \n3       UHSCOVID_00989a42    2020-03-29                           3.0   \n4       UHSCOVID_00989a42    2020-03-30                           4.0   \n...                   ...           ...                           ...   \n264821  UHSCOVID_fe8c3d54    2020-04-13                          11.0   \n264822  UHSCOVID_fe8c3d54    2020-04-16                          14.0   \n264823  UHSCOVID_fe8c3d54    2020-04-18                          16.0   \n264824  UHSCOVID_ffd435ad    2020-03-31                          -1.0   \n264825  UHSCOVID_ffd435ad    2020-04-01                           0.0   \n\n        SPECIMENT_DAY_SINCE_ONSET                PARAMETER  meanValue  \n0                             5.0                      ALT        NaN  \n1                             6.0                      ALT        NaN  \n2                             7.0                      ALT        NaN  \n3                             8.0                      ALT       23.0  \n4                             9.0                      ALT        NaN  \n...                           ...                      ...        ...  \n264821                        4.0  Tidal Volume Expiratory        NaN  \n264822                        7.0  Tidal Volume Expiratory        NaN  \n264823                        9.0  Tidal Volume Expiratory        NaN  \n264824                        NaN  Tidal Volume Expiratory        NaN  \n264825                        NaN  Tidal Volume Expiratory        NaN  \n\n[264826 rows x 6 columns]",
      "text/html": "<div>\n<style scoped>\n    .dataframe tbody tr th:only-of-type {\n        vertical-align: middle;\n    }\n\n    .dataframe tbody tr th {\n        vertical-align: top;\n    }\n\n    .dataframe thead th {\n        text-align: right;\n    }\n</style>\n<table border=\"1\" class=\"dataframe\">\n  <thead>\n    <tr style=\"text-align: right;\">\n      <th></th>\n      <th>STUDY_ID</th>\n      <th>SPECIMEN_DATE</th>\n      <th>SPECIMEN_DAY_SINCE_ADMISSION</th>\n      <th>SPECIMENT_DAY_SINCE_ONSET</th>\n      <th>PARAMETER</th>\n      <th>meanValue</th>\n    </tr>\n  </thead>\n  <tbody>\n    <tr>\n      <th>0</th>\n      <td>UHSCOVID_00989a42</td>\n      <td>2020-03-26</td>\n      <td>0.0</td>\n      <td>5.0</td>\n      <td>ALT</td>\n      <td>NaN</td>\n    </tr>\n    <tr>\n      <th>1</th>\n      <td>UHSCOVID_00989a42</td>\n      <td>2020-03-27</td>\n      <td>1.0</td>\n      <td>6.0</td>\n      <td>ALT</td>\n      <td>NaN</td>\n    </tr>\n    <tr>\n      <th>2</th>\n      <td>UHSCOVID_00989a42</td>\n      <td>2020-03-28</td>\n      <td>2.0</td>\n      <td>7.0</td>\n      <td>ALT</td>\n      <td>NaN</td>\n    </tr>\n    <tr>\n      <th>3</th>\n      <td>UHSCOVID_00989a42</td>\n      <td>2020-03-29</td>\n      <td>3.0</td>\n      <td>8.0</td>\n      <td>ALT</td>\n      <td>23.0</td>\n    </tr>\n    <tr>\n      <th>4</th>\n      <td>UHSCOVID_00989a42</td>\n      <td>2020-03-30</td>\n      <td>4.0</td>\n      <td>9.0</td>\n      <td>ALT</td>\n      <td>NaN</td>\n    </tr>\n    <tr>\n      <th>...</th>\n      <td>...</td>\n      <td>...</td>\n      <td>...</td>\n      <td>...</td>\n      <td>...</td>\n      <td>...</td>\n    </tr>\n    <tr>\n      <th>264821</th>\n      <td>UHSCOVID_fe8c3d54</td>\n      <td>2020-04-13</td>\n      <td>11.0</td>\n      <td>4.0</td>\n      <td>Tidal Volume Expiratory</td>\n      <td>NaN</td>\n    </tr>\n    <tr>\n      <th>264822</th>\n      <td>UHSCOVID_fe8c3d54</td>\n      <td>2020-04-16</td>\n      <td>14.0</td>\n      <td>7.0</td>\n      <td>Tidal Volume Expiratory</td>\n      <td>NaN</td>\n    </tr>\n    <tr>\n      <th>264823</th>\n      <td>UHSCOVID_fe8c3d54</td>\n      <td>2020-04-18</td>\n      <td>16.0</td>\n      <td>9.0</td>\n      <td>Tidal Volume Expiratory</td>\n      <td>NaN</td>\n    </tr>\n    <tr>\n      <th>264824</th>\n      <td>UHSCOVID_ffd435ad</td>\n      <td>2020-03-31</td>\n      <td>-1.0</td>\n      <td>NaN</td>\n      <td>Tidal Volume Expiratory</td>\n      <td>NaN</td>\n    </tr>\n    <tr>\n      <th>264825</th>\n      <td>UHSCOVID_ffd435ad</td>\n      <td>2020-04-01</td>\n      <td>0.0</td>\n      <td>NaN</td>\n      <td>Tidal Volume Expiratory</td>\n      <td>NaN</td>\n    </tr>\n  </tbody>\n</table>\n<p>264826 rows × 6 columns</p>\n</div>"
     },
     "execution_count": 173,
     "metadata": {},
     "output_type": "execute_result"
    }
   ],
   "source": [
    "dfMelted[['STUDY_ID','SPECIMEN_DATE', 'SPECIMEN_DAY_SINCE_ADMISSION', 'SPECIMENT_DAY_SINCE_ONSET',\n",
    "       'PARAMETER', 'meanValue']]"
   ],
   "metadata": {
    "collapsed": false,
    "pycharm": {
     "name": "#%%\n"
    }
   }
  },
  {
   "cell_type": "code",
   "execution_count": 174,
   "outputs": [
    {
     "data": {
      "text/plain": "            STUDY_ID SPECIMEN_DATE  SPECIMEN_DAY_SINCE_ADMISSION  \\\n0  UHSCOVID_00989a42    2020-03-26                           0.0   \n1  UHSCOVID_00989a42    2020-03-27                           1.0   \n2  UHSCOVID_00989a42    2020-03-28                           2.0   \n3  UHSCOVID_00989a42    2020-03-29                           3.0   \n4  UHSCOVID_00989a42    2020-03-30                           4.0   \n\n   SPECIMENT_DAY_SINCE_ONSET PARAMETER  meanValue  \n0                        5.0       ALT        NaN  \n1                        6.0       ALT        NaN  \n2                        7.0       ALT        NaN  \n3                        8.0       ALT       23.0  \n4                        9.0       ALT        NaN  ",
      "text/html": "<div>\n<style scoped>\n    .dataframe tbody tr th:only-of-type {\n        vertical-align: middle;\n    }\n\n    .dataframe tbody tr th {\n        vertical-align: top;\n    }\n\n    .dataframe thead th {\n        text-align: right;\n    }\n</style>\n<table border=\"1\" class=\"dataframe\">\n  <thead>\n    <tr style=\"text-align: right;\">\n      <th></th>\n      <th>STUDY_ID</th>\n      <th>SPECIMEN_DATE</th>\n      <th>SPECIMEN_DAY_SINCE_ADMISSION</th>\n      <th>SPECIMENT_DAY_SINCE_ONSET</th>\n      <th>PARAMETER</th>\n      <th>meanValue</th>\n    </tr>\n  </thead>\n  <tbody>\n    <tr>\n      <th>0</th>\n      <td>UHSCOVID_00989a42</td>\n      <td>2020-03-26</td>\n      <td>0.0</td>\n      <td>5.0</td>\n      <td>ALT</td>\n      <td>NaN</td>\n    </tr>\n    <tr>\n      <th>1</th>\n      <td>UHSCOVID_00989a42</td>\n      <td>2020-03-27</td>\n      <td>1.0</td>\n      <td>6.0</td>\n      <td>ALT</td>\n      <td>NaN</td>\n    </tr>\n    <tr>\n      <th>2</th>\n      <td>UHSCOVID_00989a42</td>\n      <td>2020-03-28</td>\n      <td>2.0</td>\n      <td>7.0</td>\n      <td>ALT</td>\n      <td>NaN</td>\n    </tr>\n    <tr>\n      <th>3</th>\n      <td>UHSCOVID_00989a42</td>\n      <td>2020-03-29</td>\n      <td>3.0</td>\n      <td>8.0</td>\n      <td>ALT</td>\n      <td>23.0</td>\n    </tr>\n    <tr>\n      <th>4</th>\n      <td>UHSCOVID_00989a42</td>\n      <td>2020-03-30</td>\n      <td>4.0</td>\n      <td>9.0</td>\n      <td>ALT</td>\n      <td>NaN</td>\n    </tr>\n  </tbody>\n</table>\n</div>"
     },
     "execution_count": 174,
     "metadata": {},
     "output_type": "execute_result"
    }
   ],
   "source": [
    "dfMelted[['STUDY_ID','SPECIMEN_DATE', 'SPECIMEN_DAY_SINCE_ADMISSION', 'SPECIMENT_DAY_SINCE_ONSET',\n",
    "       'PARAMETER', 'meanValue']].head()"
   ],
   "metadata": {
    "collapsed": false,
    "pycharm": {
     "name": "#%%\n"
    }
   }
  },
  {
   "cell_type": "code",
   "execution_count": 175,
   "outputs": [
    {
     "data": {
      "text/plain": "             STUDY_ID SPECIMEN_DATE  SPECIMEN_DAY_SINCE_ADMISSION  \\\n0   UHSCOVID_00989a42    2020-03-26                           0.0   \n8   UHSCOVID_00ac1e32    2020-04-07                           0.0   \n51  UHSCOVID_00cb7bdd    2020-04-10                           0.0   \n54  UHSCOVID_01add35c    2020-05-22                           0.0   \n57  UHSCOVID_01f7838d    2020-05-04                           0.0   \n\n    SPECIMENT_DAY_SINCE_ONSET PARAMETER  meanValue  \n0                         5.0       ALT        NaN  \n8                        -4.0       ALT        NaN  \n51                        5.0       ALT       25.0  \n54                        0.0       ALT        8.0  \n57                       -7.0       ALT        9.0  ",
      "text/html": "<div>\n<style scoped>\n    .dataframe tbody tr th:only-of-type {\n        vertical-align: middle;\n    }\n\n    .dataframe tbody tr th {\n        vertical-align: top;\n    }\n\n    .dataframe thead th {\n        text-align: right;\n    }\n</style>\n<table border=\"1\" class=\"dataframe\">\n  <thead>\n    <tr style=\"text-align: right;\">\n      <th></th>\n      <th>STUDY_ID</th>\n      <th>SPECIMEN_DATE</th>\n      <th>SPECIMEN_DAY_SINCE_ADMISSION</th>\n      <th>SPECIMENT_DAY_SINCE_ONSET</th>\n      <th>PARAMETER</th>\n      <th>meanValue</th>\n    </tr>\n  </thead>\n  <tbody>\n    <tr>\n      <th>0</th>\n      <td>UHSCOVID_00989a42</td>\n      <td>2020-03-26</td>\n      <td>0.0</td>\n      <td>5.0</td>\n      <td>ALT</td>\n      <td>NaN</td>\n    </tr>\n    <tr>\n      <th>8</th>\n      <td>UHSCOVID_00ac1e32</td>\n      <td>2020-04-07</td>\n      <td>0.0</td>\n      <td>-4.0</td>\n      <td>ALT</td>\n      <td>NaN</td>\n    </tr>\n    <tr>\n      <th>51</th>\n      <td>UHSCOVID_00cb7bdd</td>\n      <td>2020-04-10</td>\n      <td>0.0</td>\n      <td>5.0</td>\n      <td>ALT</td>\n      <td>25.0</td>\n    </tr>\n    <tr>\n      <th>54</th>\n      <td>UHSCOVID_01add35c</td>\n      <td>2020-05-22</td>\n      <td>0.0</td>\n      <td>0.0</td>\n      <td>ALT</td>\n      <td>8.0</td>\n    </tr>\n    <tr>\n      <th>57</th>\n      <td>UHSCOVID_01f7838d</td>\n      <td>2020-05-04</td>\n      <td>0.0</td>\n      <td>-7.0</td>\n      <td>ALT</td>\n      <td>9.0</td>\n    </tr>\n  </tbody>\n</table>\n</div>"
     },
     "execution_count": 175,
     "metadata": {},
     "output_type": "execute_result"
    }
   ],
   "source": [
    "dfSel[['STUDY_ID','SPECIMEN_DATE', 'SPECIMEN_DAY_SINCE_ADMISSION', 'SPECIMENT_DAY_SINCE_ONSET',\n",
    "       'PARAMETER', 'meanValue']].head()"
   ],
   "metadata": {
    "collapsed": false,
    "pycharm": {
     "name": "#%%\n"
    }
   }
  },
  {
   "cell_type": "markdown",
   "source": [
    "# Vital Signs"
   ],
   "metadata": {
    "collapsed": false
   }
  },
  {
   "cell_type": "markdown",
   "source": [
    "## Read Data"
   ],
   "metadata": {
    "collapsed": false
   }
  },
  {
   "cell_type": "code",
   "execution_count": 176,
   "outputs": [],
   "source": [
    "fpVital  = \"C:\\Work\\dev\\dECMT_src\\data_all\\COVID19_Data\\Current\\REACT_Vitalsigns_Numeric.csv\"\n",
    "dfVital = pd.read_csv(fpVital)"
   ],
   "metadata": {
    "collapsed": false,
    "pycharm": {
     "name": "#%%\n"
    }
   }
  },
  {
   "cell_type": "code",
   "execution_count": 177,
   "outputs": [
    {
     "data": {
      "text/plain": "            STUDY_ID DEPARTMENT        UNITFROM_DATETIME  \\\n0  UHSCOVID_037e2bce       GICU  2020-04-14 20:54:00.000   \n1  UHSCOVID_037e2bce       GICU  2020-04-14 20:54:00.000   \n2  UHSCOVID_037e2bce       GICU  2020-04-14 20:54:00.000   \n3  UHSCOVID_037e2bce       GICU  2020-04-14 20:54:00.000   \n4  UHSCOVID_037e2bce       GICU  2020-04-14 20:54:00.000   \n\n           UNITTO_DATETIME PARAMETER      VALUE        RECORDED_DATETIME  \\\n0  2020-04-16 00:05:00.000  pO2_FiO2  32.066667  2020-04-14 15:40:00.000   \n1  2020-04-16 00:05:00.000  pO2_FiO2   2.176471  2020-04-14 16:29:00.000   \n2  2020-04-16 00:05:00.000  pO2_FiO2  25.666667  2020-04-14 22:32:00.000   \n3  2020-04-16 00:05:00.000  pO2_FiO2  27.599998  2020-04-14 23:03:00.000   \n4  2020-04-16 00:05:00.000  pO2_FiO2  34.750000  2020-04-15 00:04:00.000   \n\n  RECORDED_DATE RECORDED_TIME      VALIDATION_DATETIME  \n0    14/04/2020      15:40:00  2020-04-14 22:39:00.000  \n1    14/04/2020      16:29:00  2020-04-14 22:39:00.000  \n2    14/04/2020      22:32:00  2020-04-14 22:39:00.000  \n3    14/04/2020      23:03:00  2020-04-14 23:06:00.000  \n4    15/04/2020      00:04:00  2020-04-15 00:35:00.000  ",
      "text/html": "<div>\n<style scoped>\n    .dataframe tbody tr th:only-of-type {\n        vertical-align: middle;\n    }\n\n    .dataframe tbody tr th {\n        vertical-align: top;\n    }\n\n    .dataframe thead th {\n        text-align: right;\n    }\n</style>\n<table border=\"1\" class=\"dataframe\">\n  <thead>\n    <tr style=\"text-align: right;\">\n      <th></th>\n      <th>STUDY_ID</th>\n      <th>DEPARTMENT</th>\n      <th>UNITFROM_DATETIME</th>\n      <th>UNITTO_DATETIME</th>\n      <th>PARAMETER</th>\n      <th>VALUE</th>\n      <th>RECORDED_DATETIME</th>\n      <th>RECORDED_DATE</th>\n      <th>RECORDED_TIME</th>\n      <th>VALIDATION_DATETIME</th>\n    </tr>\n  </thead>\n  <tbody>\n    <tr>\n      <th>0</th>\n      <td>UHSCOVID_037e2bce</td>\n      <td>GICU</td>\n      <td>2020-04-14 20:54:00.000</td>\n      <td>2020-04-16 00:05:00.000</td>\n      <td>pO2_FiO2</td>\n      <td>32.066667</td>\n      <td>2020-04-14 15:40:00.000</td>\n      <td>14/04/2020</td>\n      <td>15:40:00</td>\n      <td>2020-04-14 22:39:00.000</td>\n    </tr>\n    <tr>\n      <th>1</th>\n      <td>UHSCOVID_037e2bce</td>\n      <td>GICU</td>\n      <td>2020-04-14 20:54:00.000</td>\n      <td>2020-04-16 00:05:00.000</td>\n      <td>pO2_FiO2</td>\n      <td>2.176471</td>\n      <td>2020-04-14 16:29:00.000</td>\n      <td>14/04/2020</td>\n      <td>16:29:00</td>\n      <td>2020-04-14 22:39:00.000</td>\n    </tr>\n    <tr>\n      <th>2</th>\n      <td>UHSCOVID_037e2bce</td>\n      <td>GICU</td>\n      <td>2020-04-14 20:54:00.000</td>\n      <td>2020-04-16 00:05:00.000</td>\n      <td>pO2_FiO2</td>\n      <td>25.666667</td>\n      <td>2020-04-14 22:32:00.000</td>\n      <td>14/04/2020</td>\n      <td>22:32:00</td>\n      <td>2020-04-14 22:39:00.000</td>\n    </tr>\n    <tr>\n      <th>3</th>\n      <td>UHSCOVID_037e2bce</td>\n      <td>GICU</td>\n      <td>2020-04-14 20:54:00.000</td>\n      <td>2020-04-16 00:05:00.000</td>\n      <td>pO2_FiO2</td>\n      <td>27.599998</td>\n      <td>2020-04-14 23:03:00.000</td>\n      <td>14/04/2020</td>\n      <td>23:03:00</td>\n      <td>2020-04-14 23:06:00.000</td>\n    </tr>\n    <tr>\n      <th>4</th>\n      <td>UHSCOVID_037e2bce</td>\n      <td>GICU</td>\n      <td>2020-04-14 20:54:00.000</td>\n      <td>2020-04-16 00:05:00.000</td>\n      <td>pO2_FiO2</td>\n      <td>34.750000</td>\n      <td>2020-04-15 00:04:00.000</td>\n      <td>15/04/2020</td>\n      <td>00:04:00</td>\n      <td>2020-04-15 00:35:00.000</td>\n    </tr>\n  </tbody>\n</table>\n</div>"
     },
     "execution_count": 177,
     "metadata": {},
     "output_type": "execute_result"
    }
   ],
   "source": [
    "dfVital.head()"
   ],
   "metadata": {
    "collapsed": false,
    "pycharm": {
     "name": "#%%\n"
    }
   }
  },
  {
   "cell_type": "code",
   "execution_count": 178,
   "outputs": [
    {
     "data": {
      "text/plain": "Index(['STUDY_ID', 'DEPARTMENT', 'UNITFROM_DATETIME', 'UNITTO_DATETIME',\n       'PARAMETER', 'VALUE', 'RECORDED_DATETIME', 'RECORDED_DATE',\n       'RECORDED_TIME', 'VALIDATION_DATETIME'],\n      dtype='object')"
     },
     "execution_count": 178,
     "metadata": {},
     "output_type": "execute_result"
    }
   ],
   "source": [
    "dfVital.columns"
   ],
   "metadata": {
    "collapsed": false,
    "pycharm": {
     "name": "#%%\n"
    }
   }
  },
  {
   "cell_type": "code",
   "execution_count": 179,
   "outputs": [
    {
     "data": {
      "text/plain": "(651, 47)"
     },
     "execution_count": 179,
     "metadata": {},
     "output_type": "execute_result"
    }
   ],
   "source": [
    "dfSel.shape"
   ],
   "metadata": {
    "collapsed": false,
    "pycharm": {
     "name": "#%%\n"
    }
   }
  },
  {
   "cell_type": "code",
   "execution_count": 180,
   "outputs": [
    {
     "data": {
      "text/plain": "(651, 47)"
     },
     "execution_count": 180,
     "metadata": {},
     "output_type": "execute_result"
    }
   ],
   "source": [
    "dfMeltedUnique.shape"
   ],
   "metadata": {
    "collapsed": false,
    "pycharm": {
     "name": "#%%\n"
    }
   }
  },
  {
   "cell_type": "code",
   "execution_count": 181,
   "outputs": [
    {
     "data": {
      "text/plain": "(264826, 67)"
     },
     "execution_count": 181,
     "metadata": {},
     "output_type": "execute_result"
    }
   ],
   "source": [
    "dfMelted.shape"
   ],
   "metadata": {
    "collapsed": false,
    "pycharm": {
     "name": "#%%\n"
    }
   }
  },
  {
   "cell_type": "code",
   "execution_count": 182,
   "outputs": [],
   "source": [
    "# Index(['STUDY_ID', 'ADMISSION_START_DATE', 'ADMISSION_DAY_SINCE_ONSET',\n",
    "#        'SYMPTOM_ONSET_DATE', 'ADMISSION_END_DATE', 'DEATH_DATE',\n",
    "#        'DISCHARGE_DATE', 'DEATH', 'DISCHARGED', 'SURVIVED', 'ITU', 'NIV',\n",
    "#        'READMITTED', 'PATIENT_AGE', 'GENDER', 'ASTHMA', 'COPD',\n",
    "#        'BRONCHIECTASIS', 'HYPERTENSION', 'THROMBOEMBOLIC', 'CARDIAC_D',\n",
    "#        'RENAL_D', 'LIVER_D', 'NEURAL_D', 'META_SOLID_TUMOUR', 'MAGLINANT_NEO',\n",
    "#        'DIABETES', 'OBESITY', 'HIV', 'RHEUMATO_D', 'DIMENTIA', 'IMMUNO',\n",
    "#        'NB_COMOR', 'ETHNIC_GROUP', 'SPECIMEN_DATE',\n",
    "#        'SPECIMEN_DAY_SINCE_ADMISSION', 'SPECIMENT_DAY_SINCE_ONSET',\n",
    "#        'PARAMETER', 'meanValue', 'Death_Discharged_Survived_Str',\n",
    "#        'Death_Discharged_Survived', 'Discharged_Readmitted_Died',\n",
    "#        'Died_in_Hosp_or_Discharged_or_Survived_Str', 'Died_or_Survived_Str',\n",
    "#        'Died_or_Survived', 'Onset Time', 'Symptoms onset'],\n",
    "#       dtype='object')\n",
    "# dfSel.columns"
   ],
   "metadata": {
    "collapsed": false,
    "pycharm": {
     "name": "#%%\n"
    }
   }
  },
  {
   "cell_type": "code",
   "execution_count": 183,
   "outputs": [
    {
     "data": {
      "text/plain": "0    349\n2    123\n1    111\nName: Onset Time, dtype: int64"
     },
     "execution_count": 183,
     "metadata": {},
     "output_type": "execute_result"
    }
   ],
   "source": [
    "dfSel['Onset Time'].value_counts()"
   ],
   "metadata": {
    "collapsed": false,
    "pycharm": {
     "name": "#%%\n"
    }
   }
  },
  {
   "cell_type": "code",
   "execution_count": 184,
   "outputs": [
    {
     "data": {
      "text/plain": "Early Presenters    349\nHospital Equired    123\nLate Presenters     111\nUnknown              68\nName: Symptoms onset, dtype: int64"
     },
     "execution_count": 184,
     "metadata": {},
     "output_type": "execute_result"
    }
   ],
   "source": [
    "dfSel['Symptoms onset'].value_counts()"
   ],
   "metadata": {
    "collapsed": false,
    "pycharm": {
     "name": "#%%\n"
    }
   }
  },
  {
   "cell_type": "markdown",
   "source": [
    "# Vital Signs\n",
    "# ADMISSION_START_DATE"
   ],
   "metadata": {
    "collapsed": false,
    "pycharm": {
     "name": "#%% md\n"
    }
   }
  },
  {
   "cell_type": "code",
   "execution_count": 185,
   "outputs": [],
   "source": [
    "# dateCols = ['ADMISSION_START_DATE','PATHOLOGY_SPECIMEN_DATE']\n",
    "# dfLabAllSel[dateCols] = dfLabAllSel[dateCols].apply(pd.to_datetime)"
   ],
   "metadata": {
    "collapsed": false,
    "pycharm": {
     "name": "#%%\n"
    }
   }
  },
  {
   "cell_type": "code",
   "execution_count": 186,
   "outputs": [],
   "source": [
    "# labName = 'ALT'\n",
    "# # --------------------\n",
    "# dfLabAllSel['Days_Lab_Since_Adm'] = (dfLabAllSel['PATHOLOGY_SPECIMEN_DATE'] - dfLabAllSel['ADMISSION_START_DATE'] ).dt.days\n",
    "# dfLabAllSel['Days_Lab_Since_Adm'].value_counts()\n"
   ],
   "metadata": {
    "collapsed": false,
    "pycharm": {
     "name": "#%%\n"
    }
   }
  },
  {
   "cell_type": "code",
   "execution_count": 187,
   "outputs": [],
   "source": [
    "# dfVital.columns\n",
    "#\n",
    "# ['STUDY_ID', 'DEPARTMENT', 'UNITFROM_DATETIME', 'UNITTO_DATETIME',\n",
    "#        'PARAMETER', 'VALUE', 'RECORDED_DATETIME', 'RECORDED_DATE',\n",
    "#        'RECORDED_TIME', 'VALIDATION_DATETIME']"
   ],
   "metadata": {
    "collapsed": false,
    "pycharm": {
     "name": "#%%\n"
    }
   }
  },
  {
   "cell_type": "code",
   "execution_count": 188,
   "outputs": [],
   "source": [
    "selCols1 = ['STUDY_ID', 'ADMISSION_START_DATE','Symptoms onset']"
   ],
   "metadata": {
    "collapsed": false,
    "pycharm": {
     "name": "#%%\n"
    }
   }
  },
  {
   "cell_type": "code",
   "execution_count": 189,
   "outputs": [
    {
     "data": {
      "text/plain": "            STUDY_ID ADMISSION_START_DATE    Symptoms onset DEPARTMENT  \\\n0  UHSCOVID_00989a42           2020-03-26  Early Presenters         G8   \n1  UHSCOVID_00989a42           2020-03-26  Early Presenters         G8   \n2  UHSCOVID_00989a42           2020-03-26  Early Presenters         G8   \n3  UHSCOVID_00989a42           2020-03-26  Early Presenters         G8   \n4  UHSCOVID_00989a42           2020-03-26  Early Presenters         G8   \n\n     UNITFROM_DATETIME      UNITTO_DATETIME  \\\n0  2020-03-26 20:22:00  2020-04-07 08:58:00   \n1  2020-03-26 20:22:00  2020-04-07 08:58:00   \n2  2020-03-26 20:22:00  2020-04-07 08:58:00   \n3  2020-03-26 20:22:00  2020-04-07 08:58:00   \n4  2020-03-26 20:22:00  2020-04-07 08:58:00   \n\n                                PARAMETER  VALUE    RECORDED_DATETIME  \\\n0                       *Skin temperature   36.7  2020-04-02 07:36:00   \n1                       *Respiration rate   18.0  2020-04-02 07:36:00   \n2                             *Heart rate   95.0  2020-04-02 07:36:00   \n3   *Non-invasive systolic blood pressure  128.0  2020-04-02 07:36:00   \n4  *Non-invasive diastolic blood pressure   75.0  2020-04-02 07:36:00   \n\n  RECORDED_DATE RECORDED_TIME  VALIDATION_DATETIME  \n0    02/04/2020      07:36:00  2020-04-02 07:36:00  \n1    02/04/2020      07:36:00  2020-04-02 07:36:00  \n2    02/04/2020      07:36:00  2020-04-02 07:36:00  \n3    02/04/2020      07:36:00  2020-04-02 07:36:00  \n4    02/04/2020      07:36:00  2020-04-02 07:36:00  ",
      "text/html": "<div>\n<style scoped>\n    .dataframe tbody tr th:only-of-type {\n        vertical-align: middle;\n    }\n\n    .dataframe tbody tr th {\n        vertical-align: top;\n    }\n\n    .dataframe thead th {\n        text-align: right;\n    }\n</style>\n<table border=\"1\" class=\"dataframe\">\n  <thead>\n    <tr style=\"text-align: right;\">\n      <th></th>\n      <th>STUDY_ID</th>\n      <th>ADMISSION_START_DATE</th>\n      <th>Symptoms onset</th>\n      <th>DEPARTMENT</th>\n      <th>UNITFROM_DATETIME</th>\n      <th>UNITTO_DATETIME</th>\n      <th>PARAMETER</th>\n      <th>VALUE</th>\n      <th>RECORDED_DATETIME</th>\n      <th>RECORDED_DATE</th>\n      <th>RECORDED_TIME</th>\n      <th>VALIDATION_DATETIME</th>\n    </tr>\n  </thead>\n  <tbody>\n    <tr>\n      <th>0</th>\n      <td>UHSCOVID_00989a42</td>\n      <td>2020-03-26</td>\n      <td>Early Presenters</td>\n      <td>G8</td>\n      <td>2020-03-26 20:22:00</td>\n      <td>2020-04-07 08:58:00</td>\n      <td>*Skin temperature</td>\n      <td>36.7</td>\n      <td>2020-04-02 07:36:00</td>\n      <td>02/04/2020</td>\n      <td>07:36:00</td>\n      <td>2020-04-02 07:36:00</td>\n    </tr>\n    <tr>\n      <th>1</th>\n      <td>UHSCOVID_00989a42</td>\n      <td>2020-03-26</td>\n      <td>Early Presenters</td>\n      <td>G8</td>\n      <td>2020-03-26 20:22:00</td>\n      <td>2020-04-07 08:58:00</td>\n      <td>*Respiration rate</td>\n      <td>18.0</td>\n      <td>2020-04-02 07:36:00</td>\n      <td>02/04/2020</td>\n      <td>07:36:00</td>\n      <td>2020-04-02 07:36:00</td>\n    </tr>\n    <tr>\n      <th>2</th>\n      <td>UHSCOVID_00989a42</td>\n      <td>2020-03-26</td>\n      <td>Early Presenters</td>\n      <td>G8</td>\n      <td>2020-03-26 20:22:00</td>\n      <td>2020-04-07 08:58:00</td>\n      <td>*Heart rate</td>\n      <td>95.0</td>\n      <td>2020-04-02 07:36:00</td>\n      <td>02/04/2020</td>\n      <td>07:36:00</td>\n      <td>2020-04-02 07:36:00</td>\n    </tr>\n    <tr>\n      <th>3</th>\n      <td>UHSCOVID_00989a42</td>\n      <td>2020-03-26</td>\n      <td>Early Presenters</td>\n      <td>G8</td>\n      <td>2020-03-26 20:22:00</td>\n      <td>2020-04-07 08:58:00</td>\n      <td>*Non-invasive systolic blood pressure</td>\n      <td>128.0</td>\n      <td>2020-04-02 07:36:00</td>\n      <td>02/04/2020</td>\n      <td>07:36:00</td>\n      <td>2020-04-02 07:36:00</td>\n    </tr>\n    <tr>\n      <th>4</th>\n      <td>UHSCOVID_00989a42</td>\n      <td>2020-03-26</td>\n      <td>Early Presenters</td>\n      <td>G8</td>\n      <td>2020-03-26 20:22:00</td>\n      <td>2020-04-07 08:58:00</td>\n      <td>*Non-invasive diastolic blood pressure</td>\n      <td>75.0</td>\n      <td>2020-04-02 07:36:00</td>\n      <td>02/04/2020</td>\n      <td>07:36:00</td>\n      <td>2020-04-02 07:36:00</td>\n    </tr>\n  </tbody>\n</table>\n</div>"
     },
     "execution_count": 189,
     "metadata": {},
     "output_type": "execute_result"
    }
   ],
   "source": [
    "dfVitalSAll = pd.merge(dfMeltedUnique[selCols1],dfVital,on='STUDY_ID',how='left')\n",
    "dfVitalSAll.head()"
   ],
   "metadata": {
    "collapsed": false,
    "pycharm": {
     "name": "#%%\n"
    }
   }
  },
  {
   "cell_type": "code",
   "execution_count": 190,
   "outputs": [
    {
     "data": {
      "text/plain": "Index(['STUDY_ID', 'ADMISSION_START_DATE', 'Symptoms onset', 'DEPARTMENT',\n       'UNITFROM_DATETIME', 'UNITTO_DATETIME', 'PARAMETER', 'VALUE',\n       'RECORDED_DATETIME', 'RECORDED_DATE', 'RECORDED_TIME',\n       'VALIDATION_DATETIME'],\n      dtype='object')"
     },
     "execution_count": 190,
     "metadata": {},
     "output_type": "execute_result"
    }
   ],
   "source": [
    "dfVitalSAll.columns"
   ],
   "metadata": {
    "collapsed": false,
    "pycharm": {
     "name": "#%%\n"
    }
   }
  },
  {
   "cell_type": "code",
   "execution_count": 191,
   "outputs": [],
   "source": [
    "# ['STUDY_ID', 'ADMISSION_START_DATE', 'Symptoms onset', 'DEPARTMENT',\n",
    "#        'UNITFROM_DATETIME', 'UNITTO_DATETIME', 'PARAMETER', 'VALUE',\n",
    "#        'RECORDED_DATETIME', 'RECORDED_DATE', 'RECORDED_TIME',\n",
    "#        'VALIDATION_DATETIME'],\n",
    "\n",
    "dateCols = ['ADMISSION_START_DATE', 'RECORDED_DATETIME']\n",
    "dfVitalSAll[dateCols] = dfVitalSAll[dateCols].apply(pd.to_datetime)"
   ],
   "metadata": {
    "collapsed": false,
    "pycharm": {
     "name": "#%%\n"
    }
   }
  },
  {
   "cell_type": "code",
   "execution_count": 192,
   "outputs": [
    {
     "data": {
      "text/plain": "1.0      25979\n2.0      25308\n3.0      24268\n4.0      22319\n5.0      20622\n         ...  \n139.0       15\n154.0       15\n149.0       15\n159.0       15\n174.0        5\nName: Vital_Signs_Since_Adm, Length: 175, dtype: int64"
     },
     "execution_count": 192,
     "metadata": {},
     "output_type": "execute_result"
    }
   ],
   "source": [
    "dfVitalSAll['Vital_Signs_Since_Adm'] = (dfVitalSAll['RECORDED_DATETIME'] -\n",
    "                                     dfVitalSAll['ADMISSION_START_DATE'] ).dt.days\n",
    "dfVitalSAll['Vital_Signs_Since_Adm'].value_counts()"
   ],
   "metadata": {
    "collapsed": false,
    "pycharm": {
     "name": "#%%\n"
    }
   }
  },
  {
   "cell_type": "code",
   "execution_count": 193,
   "outputs": [
    {
     "data": {
      "text/plain": "Index(['STUDY_ID', 'ADMISSION_START_DATE', 'Symptoms onset', 'DEPARTMENT',\n       'UNITFROM_DATETIME', 'UNITTO_DATETIME', 'PARAMETER', 'VALUE',\n       'RECORDED_DATETIME', 'RECORDED_DATE', 'RECORDED_TIME',\n       'VALIDATION_DATETIME', 'Vital_Signs_Since_Adm'],\n      dtype='object')"
     },
     "execution_count": 193,
     "metadata": {},
     "output_type": "execute_result"
    }
   ],
   "source": [
    "dfVitalSAll.columns"
   ],
   "metadata": {
    "collapsed": false,
    "pycharm": {
     "name": "#%%\n"
    }
   }
  },
  {
   "cell_type": "code",
   "execution_count": 194,
   "outputs": [
    {
     "data": {
      "text/plain": "            STUDY_ID    Symptoms onset  \\\n0  UHSCOVID_00989a42  Early Presenters   \n1  UHSCOVID_00989a42  Early Presenters   \n2  UHSCOVID_00989a42  Early Presenters   \n3  UHSCOVID_00989a42  Early Presenters   \n4  UHSCOVID_00989a42  Early Presenters   \n\n                                PARAMETER  VALUE  Vital_Signs_Since_Adm  \\\n0                       *Skin temperature   36.7                    7.0   \n1                       *Respiration rate   18.0                    7.0   \n2                             *Heart rate   95.0                    7.0   \n3   *Non-invasive systolic blood pressure  128.0                    7.0   \n4  *Non-invasive diastolic blood pressure   75.0                    7.0   \n\n     UNITFROM_DATETIME  \n0  2020-03-26 20:22:00  \n1  2020-03-26 20:22:00  \n2  2020-03-26 20:22:00  \n3  2020-03-26 20:22:00  \n4  2020-03-26 20:22:00  ",
      "text/html": "<div>\n<style scoped>\n    .dataframe tbody tr th:only-of-type {\n        vertical-align: middle;\n    }\n\n    .dataframe tbody tr th {\n        vertical-align: top;\n    }\n\n    .dataframe thead th {\n        text-align: right;\n    }\n</style>\n<table border=\"1\" class=\"dataframe\">\n  <thead>\n    <tr style=\"text-align: right;\">\n      <th></th>\n      <th>STUDY_ID</th>\n      <th>Symptoms onset</th>\n      <th>PARAMETER</th>\n      <th>VALUE</th>\n      <th>Vital_Signs_Since_Adm</th>\n      <th>UNITFROM_DATETIME</th>\n    </tr>\n  </thead>\n  <tbody>\n    <tr>\n      <th>0</th>\n      <td>UHSCOVID_00989a42</td>\n      <td>Early Presenters</td>\n      <td>*Skin temperature</td>\n      <td>36.7</td>\n      <td>7.0</td>\n      <td>2020-03-26 20:22:00</td>\n    </tr>\n    <tr>\n      <th>1</th>\n      <td>UHSCOVID_00989a42</td>\n      <td>Early Presenters</td>\n      <td>*Respiration rate</td>\n      <td>18.0</td>\n      <td>7.0</td>\n      <td>2020-03-26 20:22:00</td>\n    </tr>\n    <tr>\n      <th>2</th>\n      <td>UHSCOVID_00989a42</td>\n      <td>Early Presenters</td>\n      <td>*Heart rate</td>\n      <td>95.0</td>\n      <td>7.0</td>\n      <td>2020-03-26 20:22:00</td>\n    </tr>\n    <tr>\n      <th>3</th>\n      <td>UHSCOVID_00989a42</td>\n      <td>Early Presenters</td>\n      <td>*Non-invasive systolic blood pressure</td>\n      <td>128.0</td>\n      <td>7.0</td>\n      <td>2020-03-26 20:22:00</td>\n    </tr>\n    <tr>\n      <th>4</th>\n      <td>UHSCOVID_00989a42</td>\n      <td>Early Presenters</td>\n      <td>*Non-invasive diastolic blood pressure</td>\n      <td>75.0</td>\n      <td>7.0</td>\n      <td>2020-03-26 20:22:00</td>\n    </tr>\n  </tbody>\n</table>\n</div>"
     },
     "execution_count": 194,
     "metadata": {},
     "output_type": "execute_result"
    }
   ],
   "source": [
    "colsVitalSel =  ['STUDY_ID',  'Symptoms onset',  'PARAMETER', 'VALUE','Vital_Signs_Since_Adm', 'UNITFROM_DATETIME']\n",
    "dfVitalSAll = dfVitalSAll[colsVitalSel]\n",
    "dfVitalSAll.head()"
   ],
   "metadata": {
    "collapsed": false,
    "pycharm": {
     "name": "#%%\n"
    }
   }
  },
  {
   "cell_type": "code",
   "execution_count": 195,
   "outputs": [],
   "source": [
    "def is_nan(x):\n",
    "    return (x is np.nan or x != x or len(str(x))<1)"
   ],
   "metadata": {
    "collapsed": false,
    "pycharm": {
     "name": "#%%\n"
    }
   }
  },
  {
   "cell_type": "code",
   "execution_count": 196,
   "outputs": [
    {
     "name": "stdout",
     "output_type": "stream",
     "text": [
      "False\n",
      "True\n"
     ]
    }
   ],
   "source": [
    "print(is_nan(0.2))\n",
    "print(is_nan(\"\"))"
   ],
   "metadata": {
    "collapsed": false,
    "pycharm": {
     "name": "#%%\n"
    }
   }
  },
  {
   "cell_type": "code",
   "execution_count": 197,
   "outputs": [
    {
     "data": {
      "text/plain": "array(['*Skin temperature', '*Respiration rate', '*Heart rate',\n       '*Non-invasive systolic blood pressure',\n       '*Non-invasive diastolic blood pressure', 'pO2_FiO2',\n       'Tidal Volume Expiratory', '*Diastolic blood pressure',\n       '*Systolic blood pressure', 'ABL835_pO2', 'ABL835_FiO2', nan,\n       'Positive End Expiratory Pressure', '*Core temperature'],\n      dtype=object)"
     },
     "execution_count": 197,
     "metadata": {},
     "output_type": "execute_result"
    }
   ],
   "source": [
    "vitalParamsLst = dfVitalSAll['PARAMETER'].unique()\n",
    "vitalParamsLst"
   ],
   "metadata": {
    "collapsed": false,
    "pycharm": {
     "name": "#%%\n"
    }
   }
  },
  {
   "cell_type": "code",
   "execution_count": 198,
   "outputs": [
    {
     "data": {
      "text/plain": "['*Skin temperature',\n '*Respiration rate',\n '*Heart rate',\n '*Non-invasive systolic blood pressure',\n '*Non-invasive diastolic blood pressure',\n 'pO2_FiO2',\n 'Tidal Volume Expiratory',\n '*Diastolic blood pressure',\n '*Systolic blood pressure',\n 'ABL835_pO2',\n 'ABL835_FiO2',\n 'Positive End Expiratory Pressure',\n '*Core temperature']"
     },
     "execution_count": 198,
     "metadata": {},
     "output_type": "execute_result"
    }
   ],
   "source": [
    "vitalParamsLst = [x for x in vitalParamsLst if not is_nan(x)]\n",
    "vitalParamsLst"
   ],
   "metadata": {
    "collapsed": false,
    "pycharm": {
     "name": "#%%\n"
    }
   }
  },
  {
   "cell_type": "code",
   "execution_count": 199,
   "outputs": [
    {
     "data": {
      "text/plain": "*Heart rate                               73158\n*Respiration rate                         72754\n*Skin temperature                         46386\n*Non-invasive systolic blood pressure     45225\n*Non-invasive diastolic blood pressure    45194\nTidal Volume Expiratory                   31216\n*Diastolic blood pressure                 29867\n*Systolic blood pressure                  29860\nPositive End Expiratory Pressure          24129\nABL835_pO2                                14332\nABL835_FiO2                               14217\npO2_FiO2                                  12742\n*Core temperature                          3503\nName: PARAMETER, dtype: int64"
     },
     "execution_count": 199,
     "metadata": {},
     "output_type": "execute_result"
    }
   ],
   "source": [
    "dfVitalSAll['PARAMETER'].value_counts()"
   ],
   "metadata": {
    "collapsed": false,
    "pycharm": {
     "name": "#%%\n"
    }
   }
  },
  {
   "cell_type": "code",
   "execution_count": 199,
   "outputs": [],
   "source": [],
   "metadata": {
    "collapsed": false,
    "pycharm": {
     "name": "#%%\n"
    }
   }
  },
  {
   "cell_type": "code",
   "execution_count": 200,
   "outputs": [],
   "source": [
    "vitalParamName = '*Heart rate'"
   ],
   "metadata": {
    "collapsed": false,
    "pycharm": {
     "name": "#%%\n"
    }
   }
  },
  {
   "cell_type": "code",
   "execution_count": 201,
   "outputs": [
    {
     "data": {
      "text/plain": "            STUDY_ID    Symptoms onset  \\\n0  UHSCOVID_00989a42  Early Presenters   \n1  UHSCOVID_00989a42  Early Presenters   \n2  UHSCOVID_00989a42  Early Presenters   \n3  UHSCOVID_00989a42  Early Presenters   \n4  UHSCOVID_00989a42  Early Presenters   \n\n                                PARAMETER  VALUE  Vital_Signs_Since_Adm  \\\n0                       *Skin temperature   36.7                    7.0   \n1                       *Respiration rate   18.0                    7.0   \n2                             *Heart rate   95.0                    7.0   \n3   *Non-invasive systolic blood pressure  128.0                    7.0   \n4  *Non-invasive diastolic blood pressure   75.0                    7.0   \n\n     UNITFROM_DATETIME  \n0  2020-03-26 20:22:00  \n1  2020-03-26 20:22:00  \n2  2020-03-26 20:22:00  \n3  2020-03-26 20:22:00  \n4  2020-03-26 20:22:00  ",
      "text/html": "<div>\n<style scoped>\n    .dataframe tbody tr th:only-of-type {\n        vertical-align: middle;\n    }\n\n    .dataframe tbody tr th {\n        vertical-align: top;\n    }\n\n    .dataframe thead th {\n        text-align: right;\n    }\n</style>\n<table border=\"1\" class=\"dataframe\">\n  <thead>\n    <tr style=\"text-align: right;\">\n      <th></th>\n      <th>STUDY_ID</th>\n      <th>Symptoms onset</th>\n      <th>PARAMETER</th>\n      <th>VALUE</th>\n      <th>Vital_Signs_Since_Adm</th>\n      <th>UNITFROM_DATETIME</th>\n    </tr>\n  </thead>\n  <tbody>\n    <tr>\n      <th>0</th>\n      <td>UHSCOVID_00989a42</td>\n      <td>Early Presenters</td>\n      <td>*Skin temperature</td>\n      <td>36.7</td>\n      <td>7.0</td>\n      <td>2020-03-26 20:22:00</td>\n    </tr>\n    <tr>\n      <th>1</th>\n      <td>UHSCOVID_00989a42</td>\n      <td>Early Presenters</td>\n      <td>*Respiration rate</td>\n      <td>18.0</td>\n      <td>7.0</td>\n      <td>2020-03-26 20:22:00</td>\n    </tr>\n    <tr>\n      <th>2</th>\n      <td>UHSCOVID_00989a42</td>\n      <td>Early Presenters</td>\n      <td>*Heart rate</td>\n      <td>95.0</td>\n      <td>7.0</td>\n      <td>2020-03-26 20:22:00</td>\n    </tr>\n    <tr>\n      <th>3</th>\n      <td>UHSCOVID_00989a42</td>\n      <td>Early Presenters</td>\n      <td>*Non-invasive systolic blood pressure</td>\n      <td>128.0</td>\n      <td>7.0</td>\n      <td>2020-03-26 20:22:00</td>\n    </tr>\n    <tr>\n      <th>4</th>\n      <td>UHSCOVID_00989a42</td>\n      <td>Early Presenters</td>\n      <td>*Non-invasive diastolic blood pressure</td>\n      <td>75.0</td>\n      <td>7.0</td>\n      <td>2020-03-26 20:22:00</td>\n    </tr>\n  </tbody>\n</table>\n</div>"
     },
     "execution_count": 201,
     "metadata": {},
     "output_type": "execute_result"
    }
   ],
   "source": [
    "dfVitalSWoHospitalUnknown =  dfVitalSAll.drop(dfVitalSAll[(dfVitalSAll['Symptoms onset']==\"Unknown\") |\n",
    "                                                       (dfVitalSAll['Symptoms onset']== \"Hospital Equired\") ].index)\n",
    "dfVitalSWoHospitalUnknown.head()"
   ],
   "metadata": {
    "collapsed": false,
    "pycharm": {
     "name": "#%%\n"
    }
   }
  },
  {
   "cell_type": "code",
   "execution_count": 202,
   "outputs": [
    {
     "data": {
      "text/plain": "Index(['STUDY_ID', 'Symptoms onset', 'PARAMETER', 'VALUE',\n       'Vital_Signs_Since_Adm', 'UNITFROM_DATETIME'],\n      dtype='object')"
     },
     "execution_count": 202,
     "metadata": {},
     "output_type": "execute_result"
    }
   ],
   "source": [
    "dfVitalSWoHospitalUnknown.columns"
   ],
   "metadata": {
    "collapsed": false,
    "pycharm": {
     "name": "#%%\n"
    }
   }
  },
  {
   "cell_type": "code",
   "execution_count": 202,
   "outputs": [],
   "source": [],
   "metadata": {
    "collapsed": false,
    "pycharm": {
     "name": "#%%\n"
    }
   }
  },
  {
   "cell_type": "markdown",
   "source": [
    "#### Single - Table Live Signs"
   ],
   "metadata": {
    "collapsed": false
   }
  },
  {
   "cell_type": "code",
   "execution_count": 203,
   "outputs": [
    {
     "data": {
      "text/plain": "                 STUDY_ID    Symptoms onset  \\\n144     UHSCOVID_00989a42  Early Presenters   \n1447    UHSCOVID_00cb7bdd  Early Presenters   \n1477    UHSCOVID_01add35c  Early Presenters   \n2219    UHSCOVID_025d562e  Early Presenters   \n2687    UHSCOVID_037e2bce  Early Presenters   \n...                   ...               ...   \n434952  UHSCOVID_fb8446a4  Early Presenters   \n441498  UHSCOVID_fc872d82   Late Presenters   \n441598  UHSCOVID_fd016c0e   Late Presenters   \n441724  UHSCOVID_fd4da220  Early Presenters   \n442255  UHSCOVID_fd893360  Early Presenters   \n\n                                    PARAMETER  VALUE  Vital_Signs_Since_Adm  \\\n144                         *Skin temperature   36.4                    1.0   \n1447                        *Skin temperature   36.6                    1.0   \n1477                        *Skin temperature   36.5                    0.0   \n2219    *Non-invasive systolic blood pressure  114.0                    1.0   \n2687                              ABL835_FiO2   30.0                    0.0   \n...                                       ...    ...                    ...   \n434952  *Non-invasive systolic blood pressure  117.0                    0.0   \n441498                            ABL835_FiO2   75.0                    0.0   \n441598                            *Heart rate   73.0                    0.0   \n441724                      *Respiration rate   22.0                    0.0   \n442255                            *Heart rate  115.0                    0.0   \n\n          UNITFROM_DATETIME  \n144     2020-03-26 20:22:00  \n1447    2020-04-11 00:55:00  \n1477    2020-05-22 10:17:00  \n2219    2020-05-01 23:43:00  \n2687    2020-04-14 20:54:00  \n...                     ...  \n434952  2020-04-14 19:13:00  \n441498  2020-03-24 23:18:00  \n441598  2020-04-11 13:22:00  \n441724  2020-04-14 16:08:00  \n442255  2020-03-29 14:03:00  \n\n[460 rows x 6 columns]",
      "text/html": "<div>\n<style scoped>\n    .dataframe tbody tr th:only-of-type {\n        vertical-align: middle;\n    }\n\n    .dataframe tbody tr th {\n        vertical-align: top;\n    }\n\n    .dataframe thead th {\n        text-align: right;\n    }\n</style>\n<table border=\"1\" class=\"dataframe\">\n  <thead>\n    <tr style=\"text-align: right;\">\n      <th></th>\n      <th>STUDY_ID</th>\n      <th>Symptoms onset</th>\n      <th>PARAMETER</th>\n      <th>VALUE</th>\n      <th>Vital_Signs_Since_Adm</th>\n      <th>UNITFROM_DATETIME</th>\n    </tr>\n  </thead>\n  <tbody>\n    <tr>\n      <th>144</th>\n      <td>UHSCOVID_00989a42</td>\n      <td>Early Presenters</td>\n      <td>*Skin temperature</td>\n      <td>36.4</td>\n      <td>1.0</td>\n      <td>2020-03-26 20:22:00</td>\n    </tr>\n    <tr>\n      <th>1447</th>\n      <td>UHSCOVID_00cb7bdd</td>\n      <td>Early Presenters</td>\n      <td>*Skin temperature</td>\n      <td>36.6</td>\n      <td>1.0</td>\n      <td>2020-04-11 00:55:00</td>\n    </tr>\n    <tr>\n      <th>1477</th>\n      <td>UHSCOVID_01add35c</td>\n      <td>Early Presenters</td>\n      <td>*Skin temperature</td>\n      <td>36.5</td>\n      <td>0.0</td>\n      <td>2020-05-22 10:17:00</td>\n    </tr>\n    <tr>\n      <th>2219</th>\n      <td>UHSCOVID_025d562e</td>\n      <td>Early Presenters</td>\n      <td>*Non-invasive systolic blood pressure</td>\n      <td>114.0</td>\n      <td>1.0</td>\n      <td>2020-05-01 23:43:00</td>\n    </tr>\n    <tr>\n      <th>2687</th>\n      <td>UHSCOVID_037e2bce</td>\n      <td>Early Presenters</td>\n      <td>ABL835_FiO2</td>\n      <td>30.0</td>\n      <td>0.0</td>\n      <td>2020-04-14 20:54:00</td>\n    </tr>\n    <tr>\n      <th>...</th>\n      <td>...</td>\n      <td>...</td>\n      <td>...</td>\n      <td>...</td>\n      <td>...</td>\n      <td>...</td>\n    </tr>\n    <tr>\n      <th>434952</th>\n      <td>UHSCOVID_fb8446a4</td>\n      <td>Early Presenters</td>\n      <td>*Non-invasive systolic blood pressure</td>\n      <td>117.0</td>\n      <td>0.0</td>\n      <td>2020-04-14 19:13:00</td>\n    </tr>\n    <tr>\n      <th>441498</th>\n      <td>UHSCOVID_fc872d82</td>\n      <td>Late Presenters</td>\n      <td>ABL835_FiO2</td>\n      <td>75.0</td>\n      <td>0.0</td>\n      <td>2020-03-24 23:18:00</td>\n    </tr>\n    <tr>\n      <th>441598</th>\n      <td>UHSCOVID_fd016c0e</td>\n      <td>Late Presenters</td>\n      <td>*Heart rate</td>\n      <td>73.0</td>\n      <td>0.0</td>\n      <td>2020-04-11 13:22:00</td>\n    </tr>\n    <tr>\n      <th>441724</th>\n      <td>UHSCOVID_fd4da220</td>\n      <td>Early Presenters</td>\n      <td>*Respiration rate</td>\n      <td>22.0</td>\n      <td>0.0</td>\n      <td>2020-04-14 16:08:00</td>\n    </tr>\n    <tr>\n      <th>442255</th>\n      <td>UHSCOVID_fd893360</td>\n      <td>Early Presenters</td>\n      <td>*Heart rate</td>\n      <td>115.0</td>\n      <td>0.0</td>\n      <td>2020-03-29 14:03:00</td>\n    </tr>\n  </tbody>\n</table>\n<p>460 rows × 6 columns</p>\n</div>"
     },
     "execution_count": 203,
     "metadata": {},
     "output_type": "execute_result"
    }
   ],
   "source": [
    "dfVitalSWoHospitalUnknownUnique = dfVitalSWoHospitalUnknown.drop_duplicates('STUDY_ID',keep='last')\n",
    "dfVitalSWoHospitalUnknownUnique"
   ],
   "metadata": {
    "collapsed": false,
    "pycharm": {
     "name": "#%%\n"
    }
   }
  },
  {
   "cell_type": "code",
   "execution_count": 204,
   "outputs": [
    {
     "data": {
      "text/plain": "                  STUDY_ID  PARAMETER  VALUE  Vital_Signs_Since_Adm  \\\nSymptoms onset                                                        \nEarly Presenters       349        323    323                    323   \nLate Presenters        111        103    103                    103   \n\n                  UNITFROM_DATETIME  \nSymptoms onset                       \nEarly Presenters                323  \nLate Presenters                 103  ",
      "text/html": "<div>\n<style scoped>\n    .dataframe tbody tr th:only-of-type {\n        vertical-align: middle;\n    }\n\n    .dataframe tbody tr th {\n        vertical-align: top;\n    }\n\n    .dataframe thead th {\n        text-align: right;\n    }\n</style>\n<table border=\"1\" class=\"dataframe\">\n  <thead>\n    <tr style=\"text-align: right;\">\n      <th></th>\n      <th>STUDY_ID</th>\n      <th>PARAMETER</th>\n      <th>VALUE</th>\n      <th>Vital_Signs_Since_Adm</th>\n      <th>UNITFROM_DATETIME</th>\n    </tr>\n    <tr>\n      <th>Symptoms onset</th>\n      <th></th>\n      <th></th>\n      <th></th>\n      <th></th>\n      <th></th>\n    </tr>\n  </thead>\n  <tbody>\n    <tr>\n      <th>Early Presenters</th>\n      <td>349</td>\n      <td>323</td>\n      <td>323</td>\n      <td>323</td>\n      <td>323</td>\n    </tr>\n    <tr>\n      <th>Late Presenters</th>\n      <td>111</td>\n      <td>103</td>\n      <td>103</td>\n      <td>103</td>\n      <td>103</td>\n    </tr>\n  </tbody>\n</table>\n</div>"
     },
     "execution_count": 204,
     "metadata": {},
     "output_type": "execute_result"
    }
   ],
   "source": [
    "dfVitalSWoHospitalUnknownUnique.groupby(['Symptoms onset']).count()#agg(Count_Vital_Lab=('','count')"
   ],
   "metadata": {
    "collapsed": false,
    "pycharm": {
     "name": "#%%\n"
    }
   }
  },
  {
   "cell_type": "code",
   "execution_count": 205,
   "outputs": [],
   "source": [
    "outTable = pd.DataFrame(columns=['PARAMETER','LATE','EARLY'])"
   ],
   "metadata": {
    "collapsed": false,
    "pycharm": {
     "name": "#%%\n"
    }
   }
  },
  {
   "cell_type": "code",
   "execution_count": 206,
   "outputs": [
    {
     "name": "stdout",
     "output_type": "stream",
     "text": [
      "====================================================\n",
      "*Heart rate\n",
      "                   Mean_Lab    Std_Lab\n",
      "Symptoms onset                        \n",
      "Early Presenters  86.441265  17.138806\n",
      "Late Presenters   85.504216  16.038267\n",
      "====================================================\n",
      "2020-03-26 20:22:00\n",
      "====================================================\n"
     ]
    },
    {
     "data": {
      "text/plain": "     PARAMETER     LATE    EARLY\n0  *Heart rate  86 (16)  86 (17)",
      "text/html": "<div>\n<style scoped>\n    .dataframe tbody tr th:only-of-type {\n        vertical-align: middle;\n    }\n\n    .dataframe tbody tr th {\n        vertical-align: top;\n    }\n\n    .dataframe thead th {\n        text-align: right;\n    }\n</style>\n<table border=\"1\" class=\"dataframe\">\n  <thead>\n    <tr style=\"text-align: right;\">\n      <th></th>\n      <th>PARAMETER</th>\n      <th>LATE</th>\n      <th>EARLY</th>\n    </tr>\n  </thead>\n  <tbody>\n    <tr>\n      <th>0</th>\n      <td>*Heart rate</td>\n      <td>86 (16)</td>\n      <td>86 (17)</td>\n    </tr>\n  </tbody>\n</table>\n</div>"
     },
     "execution_count": 206,
     "metadata": {},
     "output_type": "execute_result"
    }
   ],
   "source": [
    "vitalParamName\n",
    "mapLabR = dfVitalSWoHospitalUnknown['PARAMETER']== vitalParamName\n",
    "dfAlt = dfVitalSWoHospitalUnknown[mapLabR]\n",
    "# mean = dfAlt[\"VALUE\"].mean()\n",
    "# stdV = dfAlt[\"VALUE\"].std()\n",
    "grp2 = dfAlt.groupby('Symptoms onset').agg(Mean_Lab = ('VALUE','mean'),Std_Lab = ('VALUE','std'))\n",
    "# ------------------------------------------------\n",
    "lpMean = grp2.loc['Late Presenters','Mean_Lab']\n",
    "lpStd = grp2.loc['Late Presenters','Std_Lab']\n",
    "# ------------------------------------------------\n",
    "epMean = grp2.loc['Early Presenters','Mean_Lab']\n",
    "epStd = grp2.loc['Early Presenters','Std_Lab']\n",
    "# ------------------------------------------------\n",
    "outTable = outTable.append({'PARAMETER': f\"{vitalParamName}\",'LATE':f\"{lpMean:0.0f} ({lpStd:0.0f})\",\n",
    "                                    'EARLY':f\"{epMean:0.0f} ({epStd:0.0f})\"}, ignore_index=True)\n",
    "print(\"====================================================\")\n",
    "print(vitalParamName)\n",
    "print(grp2)\n",
    "print(\"====================================================\")\n",
    "print(dfAlt['UNITFROM_DATETIME'].iloc[0])\n",
    "print(\"====================================================\")\n",
    "# sns.boxplot(data=dfAlt, y='Symptoms onset',x=\"VALUE\")\n",
    "# plt.xlabel(f\"{vitalParamName}  - Vital Signs\")\n",
    "# plt.show()\n",
    "outTable.head()"
   ],
   "metadata": {
    "collapsed": false,
    "pycharm": {
     "name": "#%%\n"
    }
   }
  },
  {
   "cell_type": "code",
   "execution_count": 206,
   "outputs": [],
   "source": [],
   "metadata": {
    "collapsed": false,
    "pycharm": {
     "name": "#%%\n"
    }
   }
  },
  {
   "cell_type": "markdown",
   "source": [
    "#### Loop - Table Live Signs"
   ],
   "metadata": {
    "collapsed": false
   }
  },
  {
   "cell_type": "code",
   "execution_count": 207,
   "outputs": [
    {
     "name": "stdout",
     "output_type": "stream",
     "text": [
      "====================================================\n",
      "--- outTable ---------------------------------\n",
      "                                            PARAMETER       LATE       EARLY\n",
      "0                        *Skin temperature, mean (SD)     37 (1)      37 (1)\n",
      "1                        *Respiration rate, mean (SD)     23 (6)  97 (12880)\n",
      "2                              *Heart rate, mean (SD)    86 (16)     86 (17)\n",
      "3    *Non-invasive systolic blood pressure, mean (SD)   122 (19)    123 (21)\n",
      "4   *Non-invasive diastolic blood pressure, mean (SD)    69 (11)     68 (13)\n",
      "5                                 pO2_FiO2, mean (SD)    23 (92)    25 (116)\n",
      "6                  Tidal Volume Expiratory, mean (SD)  483 (124)   443 (153)\n",
      "7                *Diastolic blood pressure, mean (SD)    63 (13)     62 (14)\n",
      "8                 *Systolic blood pressure, mean (SD)   127 (25)    125 (25)\n",
      "9                               ABL835_pO2, mean (SD)      9 (3)       9 (3)\n",
      "10                             ABL835_FiO2, mean (SD)    49 (18)     45 (17)\n",
      "11        Positive End Expiratory Pressure, mean (SD)   13 (114)      12 (7)\n",
      "12                       *Core temperature, mean (SD)     38 (1)      38 (1)\n",
      "====================================================\n"
     ]
    }
   ],
   "source": [
    "timeStampStr = datetime.today().strftime(\"%y-%m-%d_%H-%M-%S.%f\")\n",
    "outTable = pd.DataFrame(columns=['PARAMETER','LATE','EARLY'])\n",
    "print(\"====================================================\")\n",
    "for vitalParamName in vitalParamsLst:\n",
    "    # print(vitalParamName)\n",
    "    # print(vitalParamName)\n",
    "    mapLabR = dfVitalSWoHospitalUnknown['PARAMETER']== vitalParamName\n",
    "    # print(f\"--- {vitalParamName} -----------------------\")\n",
    "    dfAlt = dfVitalSWoHospitalUnknown[mapLabR]\n",
    "    # print(f\"----------------------------------------------\")\n",
    "    # print(dfAlt.head())\n",
    "    # print(f\"----------------------------------------------\")\n",
    "    # mean = dfAlt[\"VALUE\"].mean()\n",
    "    # stdV = dfAlt[\"VALUE\"].std()\n",
    "    grp2 = dfAlt.groupby('Symptoms onset').agg(Mean_Lab = ('VALUE','mean'),Std_Lab = ('VALUE','std'))\n",
    "    # print(f\"----- grp2 ---------------------------------------\")\n",
    "    # print(vitalParamName)\n",
    "    # print(grp2)\n",
    "    # print(f\"----------------------------------------------\")\n",
    "    # ------------------------------------------------\n",
    "    lpMean = grp2.loc['Late Presenters','Mean_Lab']\n",
    "    lpStd = grp2.loc['Late Presenters','Std_Lab']\n",
    "    # ------------------------------------------------\n",
    "    epMean = grp2.loc['Early Presenters','Mean_Lab']\n",
    "    epStd = grp2.loc['Early Presenters','Std_Lab']\n",
    "    # ------------------------------------------------\n",
    "    outTable = outTable.append({'PARAMETER': f\"{vitalParamName}, mean (SD)\",'LATE':f\"{lpMean:0.0f} ({lpStd:0.0f})\",\n",
    "                                        'EARLY':f\"{epMean:0.0f} ({epStd:0.0f})\"}, ignore_index=True)\n",
    "print(\"--- outTable ---------------------------------\")\n",
    "print(outTable)\n",
    "dirOut = \"C:\\Work\\DropBoxPS\\Dropbox\\dev\\data\\dECMT\\COVID19_SH\\Outputs_covid\\Manuscript Covid 20_10\"\n",
    "fnOut = f\"vital_signs_mean_std_Table_{timeStampStr}.csv\"\n",
    "p = Path(dirOut)\n",
    "p.mkdir(parents=True, exist_ok=True)\n",
    "fpOut = p / fnOut\n",
    "outTable.to_csv(fpOut,index=False)\n",
    "print(\"====================================================\")"
   ],
   "metadata": {
    "collapsed": false,
    "pycharm": {
     "name": "#%%\n"
    }
   }
  },
  {
   "cell_type": "markdown",
   "source": [
    "#### Single - Boxplots Live Signs"
   ],
   "metadata": {
    "collapsed": false
   }
  },
  {
   "cell_type": "code",
   "execution_count": 208,
   "outputs": [],
   "source": [
    "vitalParamName\n",
    "mapLabR = dfVitalSWoHospitalUnknown['PARAMETER']== vitalParamName\n",
    "dfAlt = dfVitalSWoHospitalUnknown[mapLabR]"
   ],
   "metadata": {
    "collapsed": false,
    "pycharm": {
     "name": "#%%\n"
    }
   }
  },
  {
   "cell_type": "code",
   "execution_count": 210,
   "outputs": [
    {
     "name": "stdout",
     "output_type": "stream",
     "text": [
      "====================================================\n",
      "*Core temperature\n",
      "====================================================\n",
      "2020-04-26 14:54:00.000\n",
      "====================================================\n"
     ]
    },
    {
     "ename": "TypeError",
     "evalue": "distplot() got an unexpected keyword argument 'x'",
     "output_type": "error",
     "traceback": [
      "\u001B[1;31m---------------------------------------------------------------------------\u001B[0m",
      "\u001B[1;31mTypeError\u001B[0m                                 Traceback (most recent call last)",
      "\u001B[1;32m<ipython-input-210-93036759f202>\u001B[0m in \u001B[0;36m<module>\u001B[1;34m\u001B[0m\n\u001B[0;32m     10\u001B[0m \u001B[0msns\u001B[0m\u001B[1;33m.\u001B[0m\u001B[0mcatplot\u001B[0m\u001B[1;33m(\u001B[0m\u001B[0my\u001B[0m\u001B[1;33m=\u001B[0m\u001B[1;34m'Symptoms onset'\u001B[0m\u001B[1;33m,\u001B[0m\u001B[0mx\u001B[0m\u001B[1;33m=\u001B[0m\u001B[1;34m\"VALUE\"\u001B[0m\u001B[1;33m,\u001B[0m \u001B[0maspect\u001B[0m\u001B[1;33m=\u001B[0m\u001B[1;36m.9\u001B[0m\u001B[1;33m,\u001B[0m\u001B[0mkind\u001B[0m\u001B[1;33m=\u001B[0m\u001B[1;34m\"swarm\"\u001B[0m\u001B[1;33m,\u001B[0m \u001B[0mdata\u001B[0m\u001B[1;33m=\u001B[0m\u001B[0mdfAlt\u001B[0m\u001B[1;33m)\u001B[0m\u001B[1;33m\u001B[0m\u001B[1;33m\u001B[0m\u001B[0m\n\u001B[0;32m     11\u001B[0m \u001B[0mplt\u001B[0m\u001B[1;33m.\u001B[0m\u001B[0mxlabel\u001B[0m\u001B[1;33m(\u001B[0m\u001B[1;34mf\"{vitalParamName}  - Vital Signs\"\u001B[0m\u001B[1;33m)\u001B[0m\u001B[1;33m\u001B[0m\u001B[1;33m\u001B[0m\u001B[0m\n\u001B[1;32m---> 12\u001B[1;33m \u001B[0msns\u001B[0m\u001B[1;33m.\u001B[0m\u001B[0mdistplot\u001B[0m\u001B[1;33m(\u001B[0m\u001B[0mdfAlt\u001B[0m\u001B[1;33m,\u001B[0m \u001B[0mx\u001B[0m\u001B[1;33m=\u001B[0m\u001B[1;34m\"VALUE\"\u001B[0m\u001B[1;33m,\u001B[0m \u001B[0mhue\u001B[0m\u001B[1;33m=\u001B[0m\u001B[1;34m'Symptoms onset'\u001B[0m\u001B[1;33m,\u001B[0m \u001B[0melement\u001B[0m\u001B[1;33m=\u001B[0m\u001B[1;34m\"step\"\u001B[0m\u001B[1;33m)\u001B[0m\u001B[1;33m\u001B[0m\u001B[1;33m\u001B[0m\u001B[0m\n\u001B[0m\u001B[0;32m     13\u001B[0m \u001B[1;31m# plt.show()\u001B[0m\u001B[1;33m\u001B[0m\u001B[1;33m\u001B[0m\u001B[1;33m\u001B[0m\u001B[0m\n",
      "\u001B[1;31mTypeError\u001B[0m: distplot() got an unexpected keyword argument 'x'"
     ]
    },
    {
     "data": {
      "text/plain": "<Figure size 432x288 with 1 Axes>",
      "image/png": "[encoded data removed]"
     },
     "metadata": {
      "needs_background": "light"
     },
     "output_type": "display_data"
    },
    {
     "data": {
      "text/plain": "<Figure size 360x360 with 1 Axes>",
      "image/png": "[encoded data removed]"
     },
     "metadata": {
      "needs_background": "light"
     },
     "output_type": "display_data"
    },
    {
     "data": {
      "text/plain": "<Figure size 324x360 with 1 Axes>",
      "image/png": "[encoded data removed]"
     },
     "metadata": {
      "needs_background": "light"
     },
     "output_type": "display_data"
    }
   ],
   "source": [
    "print(\"====================================================\")\n",
    "print(vitalParamName)\n",
    "print(\"====================================================\")\n",
    "print(dfAlt['UNITFROM_DATETIME'].iloc[0])\n",
    "print(\"====================================================\")\n",
    "sns.boxplot(data=dfAlt, y='Symptoms onset',x=\"VALUE\")\n",
    "plt.xlabel(f\"{vitalParamName}  - Vital Signs\")\n",
    "sns.catplot(y='Symptoms onset',x=\"VALUE\",  kind = \"violin\", split = True,data=dfAlt)\n",
    "plt.xlabel(f\"{vitalParamName}  - Vital Signs\")\n",
    "sns.catplot(y='Symptoms onset',x=\"VALUE\", aspect=.9,kind=\"swarm\", data=dfAlt)\n",
    "plt.xlabel(f\"{vitalParamName}  - Vital Signs\")"
   ],
   "metadata": {
    "collapsed": false,
    "pycharm": {
     "name": "#%%\n"
    }
   }
  },
  {
   "cell_type": "code",
   "execution_count": 211,
   "outputs": [
    {
     "ename": "TypeError",
     "evalue": "distplot() got an unexpected keyword argument 'x'",
     "output_type": "error",
     "traceback": [
      "\u001B[1;31m---------------------------------------------------------------------------\u001B[0m",
      "\u001B[1;31mTypeError\u001B[0m                                 Traceback (most recent call last)",
      "\u001B[1;32m<ipython-input-211-52bae96e3cb4>\u001B[0m in \u001B[0;36m<module>\u001B[1;34m\u001B[0m\n\u001B[1;32m----> 1\u001B[1;33m \u001B[0msns\u001B[0m\u001B[1;33m.\u001B[0m\u001B[0mdistplot\u001B[0m\u001B[1;33m(\u001B[0m\u001B[0mdfAlt\u001B[0m\u001B[1;33m,\u001B[0m \u001B[0mx\u001B[0m\u001B[1;33m=\u001B[0m\u001B[1;34m\"VALUE\"\u001B[0m\u001B[1;33m,\u001B[0m \u001B[0mhue\u001B[0m\u001B[1;33m=\u001B[0m\u001B[1;34m'Symptoms onset'\u001B[0m\u001B[1;33m,\u001B[0m \u001B[0melement\u001B[0m\u001B[1;33m=\u001B[0m\u001B[1;34m\"step\"\u001B[0m\u001B[1;33m)\u001B[0m\u001B[1;33m\u001B[0m\u001B[1;33m\u001B[0m\u001B[0m\n\u001B[0m\u001B[0;32m      2\u001B[0m \u001B[0mplt\u001B[0m\u001B[1;33m.\u001B[0m\u001B[0mshow\u001B[0m\u001B[1;33m(\u001B[0m\u001B[1;33m)\u001B[0m\u001B[1;33m\u001B[0m\u001B[1;33m\u001B[0m\u001B[0m\n\u001B[0;32m      3\u001B[0m \u001B[1;33m\u001B[0m\u001B[0m\n\u001B[0;32m      4\u001B[0m \u001B[1;33m\u001B[0m\u001B[0m\n\u001B[0;32m      5\u001B[0m \u001B[1;33m\u001B[0m\u001B[0m\n",
      "\u001B[1;31mTypeError\u001B[0m: distplot() got an unexpected keyword argument 'x'"
     ]
    }
   ],
   "source": [
    "sns.distplot(dfAlt, x=\"VALUE\", hue='Symptoms onset', element=\"step\")\n",
    "plt.show()\n",
    "\n"
   ],
   "metadata": {
    "collapsed": false,
    "pycharm": {
     "name": "#%%\n"
    }
   }
  },
  {
   "cell_type": "code",
   "execution_count": null,
   "outputs": [],
   "source": [
    "plt.show()"
   ],
   "metadata": {
    "collapsed": false,
    "pycharm": {
     "name": "#%%\n"
    }
   }
  },
  {
   "cell_type": "code",
   "execution_count": null,
   "outputs": [],
   "source": [],
   "metadata": {
    "collapsed": false,
    "pycharm": {
     "name": "#%%\n"
    }
   }
  },
  {
   "cell_type": "markdown",
   "source": [
    "#### Loop - Boxplots Live Signs"
   ],
   "metadata": {
    "collapsed": false
   }
  },
  {
   "cell_type": "code",
   "execution_count": null,
   "outputs": [],
   "source": [
    "timeStampStr = datetime.today().strftime(\"%y-%m-%d_%H-%M-%S.%f\")\n",
    "# vitalParamName\n",
    "vitalParamsLst = ['*Heart rate']\n",
    "print(\"====================================================\")\n",
    "for vitalParamName in vitalParamsLst:\n",
    "    mapLabR = dfVitalSWoHospitalUnknown['PARAMETER']== vitalParamName\n",
    "    dfAlt = dfVitalSWoHospitalUnknown[mapLabR]\n",
    "    #%%\n",
    "    print(\"====================================================\")\n",
    "    print(vitalParamName)\n",
    "    print(\"====================================================\")\n",
    "    print(dfAlt['UNITFROM_DATETIME'].iloc[0])\n",
    "    print(\"====================================================\")\n",
    "    sns.boxplot(data=dfAlt, y='Symptoms onset',x=\"VALUE\")\n",
    "    plt.xlabel(f\"{vitalParamName}  - Vital Signs\")\n",
    "    sns.catplot(y='Symptoms onset',x=\"VALUE\",  kind = \"violin\", split = True,data=dfAlt)\n",
    "    plt.xlabel(f\"{vitalParamName}  - Vital Signs\")\n",
    "    sns.catplot(y='Symptoms onset',x=\"VALUE\", aspect=.9,kind=\"swarm\", data=dfAlt)\n",
    "    plt.xlabel(f\"{vitalParamName}  - Vital Signs\")\n",
    "    sns.distplot(dfAlt, x=\"VALUE\", hue='Symptoms onset', element=\"step\")\n",
    "plt.show()"
   ],
   "metadata": {
    "collapsed": false,
    "pycharm": {
     "name": "#%%\n"
    }
   }
  },
  {
   "cell_type": "code",
   "execution_count": null,
   "outputs": [],
   "source": [
    "# dfLabAllSelNoUnknownHospitals = dfLabAllSel.drop(dfLabAllSel[(dfLabAllSel['Symptoms onset']==\"Unknown\") |\n",
    "#                                                        (dfLabAllSel['Symptoms onset']== \"Hospital Equired\") ].index)"
   ],
   "metadata": {
    "collapsed": false,
    "pycharm": {
     "name": "#%%\n"
    }
   }
  },
  {
   "cell_type": "markdown",
   "source": [
    "#### Loop - Boxplots Live Signs\n",
    "\n"
   ],
   "metadata": {
    "collapsed": false
   }
  }
 ],
 "metadata": {
  "kernelspec": {
   "name": "pycharm-b7c5592",
   "language": "python",
   "display_name": "PyCharm (BN4Nephrology)"
  },
  "language_info": {
   "codemirror_mode": {
    "name": "ipython",
    "version": 3
   },
   "file_extension": ".py",
   "mimetype": "text/x-python",
   "name": "python",
   "nbconvert_exporter": "python",
   "pygments_lexer": "ipython3",
   "version": "3.7.6"
  }
 },
 "nbformat": 4,
 "nbformat_minor": 1
}